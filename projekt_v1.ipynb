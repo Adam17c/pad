{
 "cells": [
  {
   "cell_type": "code",
   "execution_count": null,
   "metadata": {},
   "outputs": [],
   "source": [
    "%pip install selenium\n",
    "%pip install beautifulsoup4\n",
    "%pip install plotly\n",
    "%pip install seaborn\n",
    "%pip install scipy\n",
    "%pip install nbformat"
   ]
  },
  {
   "cell_type": "code",
   "execution_count": 71,
   "metadata": {},
   "outputs": [
    {
     "name": "stdout",
     "output_type": "stream",
     "text": [
      "nbformat==5.10.4\n",
      "Note: you may need to restart the kernel to use updated packages.\n"
     ]
    }
   ],
   "source": [
    "%pip freeze | findstr nbformat\n"
   ]
  },
  {
   "cell_type": "code",
   "execution_count": 1,
   "metadata": {},
   "outputs": [],
   "source": [
    "from selenium import webdriver\n",
    "from selenium.webdriver.common.by import By\n",
    "import time"
   ]
  },
  {
   "cell_type": "code",
   "execution_count": 35,
   "metadata": {},
   "outputs": [
    {
     "name": "stderr",
     "output_type": "stream",
     "text": [
      "The chromedriver version (131.0.6778.69) detected in PATH at I:\\ChromeDriver\\chromedriver.exe might not be compatible with the detected chrome version (132.0.6834.110); currently, chromedriver 132.0.6834.110 is recommended for chrome 132.*, so it is advised to delete the driver in PATH and retry\n"
     ]
    }
   ],
   "source": [
    "from selenium.webdriver.chrome.service import Service\n",
    "\n",
    "download_service = Service()\n",
    "\n",
    "driver = webdriver.Chrome(service=download_service)\n",
    "\n",
    "driver.maximize_window()"
   ]
  },
  {
   "cell_type": "code",
   "execution_count": 36,
   "metadata": {},
   "outputs": [],
   "source": [
    "# Otwieranie strony Steam\n",
    "url = \"https://store.steampowered.com/category/science_fiction/\"\n",
    "driver.get(url)\n",
    "\n",
    "# Czekanie na załadowanie treści\n",
    "time.sleep(2)  # Dostosuj, jeśli strona ładuje się szybciej"
   ]
  },
  {
   "cell_type": "code",
   "execution_count": 62,
   "metadata": {},
   "outputs": [],
   "source": [
    "driver.execute_script('window.scroll(0, document.body.scrollHeight-2000)')\n"
   ]
  },
  {
   "cell_type": "code",
   "execution_count": 29,
   "metadata": {},
   "outputs": [],
   "source": [
    "load_more_button = driver.find_element(By.CLASS_NAME, '_2tkiJ4VfEdI9kq1agjZyNz.Focusable')\n",
    "load_more_button.click()"
   ]
  },
  {
   "cell_type": "code",
   "execution_count": 37,
   "metadata": {},
   "outputs": [],
   "source": [
    "# Znajdź i kliknij przycisk zamykający popup\n",
    "popup_close_button = driver.find_element(By.ID, \"rejectAllButton\")\n",
    "popup_close_button.click()"
   ]
  },
  {
   "cell_type": "code",
   "execution_count": 38,
   "metadata": {},
   "outputs": [],
   "source": [
    "menu_button = driver.find_element(By.XPATH, \"//div[text()='Typ']\")\n",
    "driver.execute_script(\"arguments[0].scrollIntoView(true);\", menu_button)\n",
    "menu_button.click()\n"
   ]
  },
  {
   "cell_type": "code",
   "execution_count": 39,
   "metadata": {},
   "outputs": [],
   "source": [
    "# Znalezienie elementu rodzica (div) dla <a> z tekstem \"Gry\"\n",
    "games_button = driver.find_element(By.XPATH, \"//a[text()='Gry']\")\n",
    "# Kliknięcie elementu rodzica\n",
    "driver.execute_script(\"arguments[0].click();\", games_button)\n"
   ]
  },
  {
   "cell_type": "code",
   "execution_count": 40,
   "metadata": {},
   "outputs": [],
   "source": [
    "import pandas as pd\n",
    "\n",
    "def GetTitlesWithDetails():\n",
    "    games_data = []\n",
    "    game_containers = driver.find_elements(By.XPATH, \"//div[contains(@class, 'v9uRg57bwOaPsvAnkXESO')]\")\n",
    "\n",
    "    for game in game_containers:\n",
    "        try:\n",
    "            # Pobranie tytułu gry\n",
    "            title = game.find_element(By.XPATH, \".//div[contains(@class, '_3rrH9dPdtHVRMzAEw82AId')]//a//div\").text.strip()\n",
    "\n",
    "            # Pobranie tagów\n",
    "            tags_container = game.find_element(By.XPATH, \".//div[contains(@class, '_3wryhCRrTuMULeq_YjNk-s')]\")\n",
    "            tag_elements = tags_container.find_elements(By.XPATH, \".//div[contains(@class, '_2bkP-3b7dvr0a_qPdZEfHY')]//a\")\n",
    "            tags = ', '.join([tag.text.strip() for tag in tag_elements if tag.text.strip()])\n",
    "\n",
    "            # Pobranie ceny gry\n",
    "            try:\n",
    "                price_container = game.find_element(By.XPATH, \".//div[contains(@class, 'kW6m4Sjqacp5hykrj5LEo')]//div[contains(@class, '_2s-O5T3qJJYR2AUq4b9jIN')]\")\n",
    "                price = price_container.find_element(By.XPATH, \".//div[contains(@class, '_3j4dI1yA7cRfCvK8h406OB')]\").text.strip()\n",
    "            except:\n",
    "                price = \"Free to Play\"\n",
    "\n",
    "            # Pobranie daty wydania\n",
    "            try:\n",
    "                release_date = game.find_element(By.XPATH, \".//div[contains(@class, '_3wryhCRrTuMULeq_YjNk-s')]//div[contains(@class, '_3a6HRK-P6LK0-pxRKXYgyP')]//div[contains(@class, '_1qvTFgmehUzbdYM9cw0eS7')]\").text.strip()\n",
    "            except:\n",
    "                release_date = \"Brak daty\"\n",
    "\n",
    "            # Pobranie nacechowania recenzji\n",
    "            try:\n",
    "                review_sentiment = game.find_element(By.XPATH, \".//div[contains(@class, '_3wryhCRrTuMULeq_YjNk-s')]//a[contains(@class, '_3qvppfM_u0yn2jrpoUo8RM')]//div[contains(@class, '_3ZWs0kB-1tuqQtie9KK-E7')]//div[contains(@class, '_2nuoOi5kC2aUI12z85PneA')]\").text.strip()\n",
    "            except:\n",
    "                review_sentiment = \"Brak informacji\"\n",
    "\n",
    "            # Pobranie liczby recenzji\n",
    "            try:\n",
    "                review_count = game.find_element(By.XPATH, \".//div[contains(@class, '_3wryhCRrTuMULeq_YjNk-s')]//a[contains(@class, '_3qvppfM_u0yn2jrpoUo8RM')]//div[contains(@class, '_3ZWs0kB-1tuqQtie9KK-E7')]//div[contains(@class, '_1wXL_MfRpdKQ3wZiNP5lrH')]\").text.strip()\n",
    "            except:\n",
    "                review_count = \"0\"\n",
    "\n",
    "            # Dodanie gry do listy\n",
    "            games_data.append({\n",
    "                \"Tytuł\": title,\n",
    "                \"Tagi\": tags,\n",
    "                \"Cena\": price,\n",
    "                \"Data wydania\": release_date,\n",
    "                \"Nacechowanie recenzji\": review_sentiment,\n",
    "                \"Liczba recenzji\": review_count\n",
    "            })\n",
    "\n",
    "        except Exception as e:\n",
    "            print(f\"Problem z przetwarzaniem gry: {e}\")\n",
    "\n",
    "    # Konwersja do DataFrame\n",
    "    df = pd.DataFrame(games_data)\n",
    "    return df\n"
   ]
  },
  {
   "cell_type": "code",
   "execution_count": 41,
   "metadata": {},
   "outputs": [],
   "source": [
    "# zescrolluj do początku listy\n",
    "#driver.execute_script('window.scroll(0, document.body.scrollHeight-3000)')\n",
    "\n",
    "# zecrolluj na dół listy\n",
    "driver.execute_script('window.scroll(0, document.body.scrollHeight-2000)')\n",
    "\n",
    "# Powtarzanie procesu 10 razy\n",
    "for i in range(50):\n",
    "    load_more_button = driver.find_element(By.CLASS_NAME, '_2tkiJ4VfEdI9kq1agjZyNz.Focusable')\n",
    "    load_more_button.click()\n",
    "    time.sleep(2)\n",
    "    driver.execute_script('window.scroll(0, document.body.scrollHeight-2000)')\n",
    "\n",
    "\n",
    "data = GetTitlesWithDetails()"
   ]
  },
  {
   "cell_type": "code",
   "execution_count": 42,
   "metadata": {},
   "outputs": [],
   "source": [
    "# Zamknięcie drivera\n",
    "driver.quit()"
   ]
  },
  {
   "cell_type": "code",
   "execution_count": 46,
   "metadata": {},
   "outputs": [],
   "source": [
    "import pandas as pd\n",
    "import numpy as np\n",
    "\n",
    "def clean_data(df):\n",
    "    # 1. Konwersja ceny\n",
    "    def clean_price(price):\n",
    "        try:\n",
    "            if \"Free to Play\" in price:\n",
    "                return 0.0\n",
    "            return float(price.replace(' zł', '').replace(',', '.'))\n",
    "        except:\n",
    "            return np.nan\n",
    "\n",
    "    df['Cena'] = df['Cena'].apply(clean_price)\n",
    "\n",
    "    # 2. Konwersja liczby recenzji\n",
    "    def clean_reviews(reviews):\n",
    "        try:\n",
    "            return int(reviews.replace('Recenzje użytkowników: ', '').replace(' ', ''))\n",
    "        except:\n",
    "            return np.nan\n",
    "\n",
    "    df['Liczba recenzji'] = df['Liczba recenzji'].apply(clean_reviews)\n",
    "\n",
    "    # 3. Konwersja daty wydania\n",
    "    polish_months = {\n",
    "        'STY': 'Jan', 'LUT': 'Feb', 'MAR': 'Mar', 'KWI': 'Apr', 'MAJ': 'May', 'CZE': 'Jun',\n",
    "        'LIP': 'Jul', 'SIE': 'Aug', 'WRZ': 'Sep', 'PAŹ': 'Oct', 'LIS': 'Nov', 'GRU': 'Dec'\n",
    "    }\n",
    "\n",
    "    def clean_date(date):\n",
    "        if pd.isna(date):\n",
    "            return np.nan\n",
    "        for pl, en in polish_months.items():\n",
    "            date = date.replace(pl, en)\n",
    "        try:\n",
    "            return pd.to_datetime(date, format='%d %b %Y')\n",
    "        except:\n",
    "            return np.nan\n",
    "\n",
    "    df['Data wydania'] = df['Data wydania'].apply(clean_date)\n",
    "\n",
    "    # 4. Rozbicie tagów na kolumny (one-hot encoding)\n",
    "    def split_tags(tags):\n",
    "        return tags.split(', ') if isinstance(tags, str) else []\n",
    "\n",
    "    # Przygotowanie unikalnych tagów\n",
    "    all_tags = sorted(set(tag for tags in df['Tagi'].apply(split_tags) for tag in tags))\n",
    "    \n",
    "    # Tworzenie macierzy tagów (one-hot encoding)\n",
    "    tags_matrix = pd.DataFrame(\n",
    "        {\n",
    "            f'Tag_{tag}': df['Tagi'].apply(lambda tags: 1 if tag in split_tags(tags) else 0)\n",
    "            for tag in all_tags\n",
    "        }\n",
    "    )\n",
    "    \n",
    "    # Łączenie oryginalnego DataFrame z macierzą tagów\n",
    "    df = pd.concat([df.reset_index(drop=True), tags_matrix.reset_index(drop=True)], axis=1)\n",
    "\n",
    "    # Usuwanie potencjalnych braków danych (przykład)\n",
    "    df.dropna(subset=['Cena', 'Liczba recenzji', 'Data wydania'], inplace=True)\n",
    "\n",
    "    return df\n"
   ]
  },
  {
   "cell_type": "code",
   "execution_count": 48,
   "metadata": {},
   "outputs": [
    {
     "data": {
      "text/html": [
       "<div>\n",
       "<style scoped>\n",
       "    .dataframe tbody tr th:only-of-type {\n",
       "        vertical-align: middle;\n",
       "    }\n",
       "\n",
       "    .dataframe tbody tr th {\n",
       "        vertical-align: top;\n",
       "    }\n",
       "\n",
       "    .dataframe thead th {\n",
       "        text-align: right;\n",
       "    }\n",
       "</style>\n",
       "<table border=\"1\" class=\"dataframe\">\n",
       "  <thead>\n",
       "    <tr style=\"text-align: right;\">\n",
       "      <th></th>\n",
       "      <th>Tytuł</th>\n",
       "      <th>Tagi</th>\n",
       "      <th>Cena</th>\n",
       "      <th>Data wydania</th>\n",
       "      <th>Nacechowanie recenzji</th>\n",
       "      <th>Liczba recenzji</th>\n",
       "      <th>Tag_2,5D</th>\n",
       "      <th>Tag_2D</th>\n",
       "      <th>Tag_3D</th>\n",
       "      <th>Tag_4X</th>\n",
       "      <th>...</th>\n",
       "      <th>Tag_Znaczące wybory</th>\n",
       "      <th>Tag_Zombie</th>\n",
       "      <th>Tag_Zręcznościowe</th>\n",
       "      <th>Tag_Zły protagonista</th>\n",
       "      <th>Tag_Łamigłówki</th>\n",
       "      <th>Tag_Łamigłówki platformowe</th>\n",
       "      <th>Tag_Łupy</th>\n",
       "      <th>Tag_Śledztwo</th>\n",
       "      <th>Tag_Świetna ścieżka dźwiękowa</th>\n",
       "      <th>Tag_Żeńska postać w roli głównej</th>\n",
       "    </tr>\n",
       "  </thead>\n",
       "  <tbody>\n",
       "    <tr>\n",
       "      <th>0</th>\n",
       "      <td>Marvel Rivals</td>\n",
       "      <td>Free to Play, Wieloosobowe, Strzelanka z bohat...</td>\n",
       "      <td>0.00</td>\n",
       "      <td>2024-12-06</td>\n",
       "      <td>Bardzo pozytywne</td>\n",
       "      <td>181643</td>\n",
       "      <td>0</td>\n",
       "      <td>0</td>\n",
       "      <td>0</td>\n",
       "      <td>0</td>\n",
       "      <td>...</td>\n",
       "      <td>0</td>\n",
       "      <td>0</td>\n",
       "      <td>0</td>\n",
       "      <td>0</td>\n",
       "      <td>0</td>\n",
       "      <td>0</td>\n",
       "      <td>0</td>\n",
       "      <td>0</td>\n",
       "      <td>0</td>\n",
       "      <td>0</td>\n",
       "    </tr>\n",
       "    <tr>\n",
       "      <th>1</th>\n",
       "      <td>Subnautica</td>\n",
       "      <td>Survivalowe w otwartym świecie, Survival, Horr...</td>\n",
       "      <td>45.86</td>\n",
       "      <td>2018-01-24</td>\n",
       "      <td>Przytłaczająco pozytywne</td>\n",
       "      <td>270717</td>\n",
       "      <td>0</td>\n",
       "      <td>0</td>\n",
       "      <td>0</td>\n",
       "      <td>0</td>\n",
       "      <td>...</td>\n",
       "      <td>0</td>\n",
       "      <td>0</td>\n",
       "      <td>0</td>\n",
       "      <td>0</td>\n",
       "      <td>0</td>\n",
       "      <td>0</td>\n",
       "      <td>0</td>\n",
       "      <td>0</td>\n",
       "      <td>0</td>\n",
       "      <td>0</td>\n",
       "    </tr>\n",
       "    <tr>\n",
       "      <th>2</th>\n",
       "      <td>DOOM Eternal</td>\n",
       "      <td>FPS, Akcja, Brutalność, Świetna ścieżka dźwięk...</td>\n",
       "      <td>42.25</td>\n",
       "      <td>2020-03-20</td>\n",
       "      <td>Bardzo pozytywne</td>\n",
       "      <td>169836</td>\n",
       "      <td>0</td>\n",
       "      <td>0</td>\n",
       "      <td>0</td>\n",
       "      <td>0</td>\n",
       "      <td>...</td>\n",
       "      <td>0</td>\n",
       "      <td>0</td>\n",
       "      <td>0</td>\n",
       "      <td>0</td>\n",
       "      <td>0</td>\n",
       "      <td>0</td>\n",
       "      <td>0</td>\n",
       "      <td>0</td>\n",
       "      <td>1</td>\n",
       "      <td>0</td>\n",
       "    </tr>\n",
       "    <tr>\n",
       "      <th>3</th>\n",
       "      <td>Among Us</td>\n",
       "      <td>Wieloosobowe, Sieciowa kooperacja, Dedukcyjne ...</td>\n",
       "      <td>10.79</td>\n",
       "      <td>2018-11-16</td>\n",
       "      <td>Bardzo pozytywne</td>\n",
       "      <td>612000</td>\n",
       "      <td>0</td>\n",
       "      <td>0</td>\n",
       "      <td>0</td>\n",
       "      <td>0</td>\n",
       "      <td>...</td>\n",
       "      <td>0</td>\n",
       "      <td>0</td>\n",
       "      <td>0</td>\n",
       "      <td>0</td>\n",
       "      <td>0</td>\n",
       "      <td>0</td>\n",
       "      <td>0</td>\n",
       "      <td>0</td>\n",
       "      <td>0</td>\n",
       "      <td>0</td>\n",
       "    </tr>\n",
       "    <tr>\n",
       "      <th>4</th>\n",
       "      <td>HELLDIVERS™ 2</td>\n",
       "      <td>Sieciowa kooperacja, PvE, Strzelanka z perspek...</td>\n",
       "      <td>169.00</td>\n",
       "      <td>2024-02-08</td>\n",
       "      <td>W większości pozytywne</td>\n",
       "      <td>706335</td>\n",
       "      <td>0</td>\n",
       "      <td>0</td>\n",
       "      <td>0</td>\n",
       "      <td>0</td>\n",
       "      <td>...</td>\n",
       "      <td>0</td>\n",
       "      <td>0</td>\n",
       "      <td>0</td>\n",
       "      <td>0</td>\n",
       "      <td>0</td>\n",
       "      <td>0</td>\n",
       "      <td>0</td>\n",
       "      <td>0</td>\n",
       "      <td>0</td>\n",
       "      <td>0</td>\n",
       "    </tr>\n",
       "    <tr>\n",
       "      <th>...</th>\n",
       "      <td>...</td>\n",
       "      <td>...</td>\n",
       "      <td>...</td>\n",
       "      <td>...</td>\n",
       "      <td>...</td>\n",
       "      <td>...</td>\n",
       "      <td>...</td>\n",
       "      <td>...</td>\n",
       "      <td>...</td>\n",
       "      <td>...</td>\n",
       "      <td>...</td>\n",
       "      <td>...</td>\n",
       "      <td>...</td>\n",
       "      <td>...</td>\n",
       "      <td>...</td>\n",
       "      <td>...</td>\n",
       "      <td>...</td>\n",
       "      <td>...</td>\n",
       "      <td>...</td>\n",
       "      <td>...</td>\n",
       "      <td>...</td>\n",
       "    </tr>\n",
       "    <tr>\n",
       "      <th>607</th>\n",
       "      <td>Chair F*cking Simulator</td>\n",
       "      <td>Symulator randkowania, Horror psychologiczny, ...</td>\n",
       "      <td>8.99</td>\n",
       "      <td>2020-07-07</td>\n",
       "      <td>Przytłaczająco pozytywne</td>\n",
       "      <td>570</td>\n",
       "      <td>0</td>\n",
       "      <td>0</td>\n",
       "      <td>0</td>\n",
       "      <td>0</td>\n",
       "      <td>...</td>\n",
       "      <td>0</td>\n",
       "      <td>0</td>\n",
       "      <td>0</td>\n",
       "      <td>0</td>\n",
       "      <td>0</td>\n",
       "      <td>0</td>\n",
       "      <td>0</td>\n",
       "      <td>0</td>\n",
       "      <td>0</td>\n",
       "      <td>0</td>\n",
       "    </tr>\n",
       "    <tr>\n",
       "      <th>608</th>\n",
       "      <td>Aeon Must Die!</td>\n",
       "      <td>Akcja, Niezależne, Beat 'em up, Bijatyka 2D, M...</td>\n",
       "      <td>10.49</td>\n",
       "      <td>2021-10-14</td>\n",
       "      <td>Mieszane</td>\n",
       "      <td>86</td>\n",
       "      <td>0</td>\n",
       "      <td>0</td>\n",
       "      <td>0</td>\n",
       "      <td>0</td>\n",
       "      <td>...</td>\n",
       "      <td>0</td>\n",
       "      <td>0</td>\n",
       "      <td>0</td>\n",
       "      <td>0</td>\n",
       "      <td>0</td>\n",
       "      <td>0</td>\n",
       "      <td>0</td>\n",
       "      <td>0</td>\n",
       "      <td>0</td>\n",
       "      <td>0</td>\n",
       "    </tr>\n",
       "    <tr>\n",
       "      <th>609</th>\n",
       "      <td>tomorrow won't come for those without ██████</td>\n",
       "      <td>Filozoficzne, Klimatyczne, Minimalistyczne, Ła...</td>\n",
       "      <td>8.99</td>\n",
       "      <td>2020-07-04</td>\n",
       "      <td>Bardzo pozytywne</td>\n",
       "      <td>823</td>\n",
       "      <td>0</td>\n",
       "      <td>0</td>\n",
       "      <td>0</td>\n",
       "      <td>0</td>\n",
       "      <td>...</td>\n",
       "      <td>0</td>\n",
       "      <td>0</td>\n",
       "      <td>0</td>\n",
       "      <td>0</td>\n",
       "      <td>1</td>\n",
       "      <td>0</td>\n",
       "      <td>0</td>\n",
       "      <td>0</td>\n",
       "      <td>0</td>\n",
       "      <td>0</td>\n",
       "    </tr>\n",
       "    <tr>\n",
       "      <th>610</th>\n",
       "      <td>Morbid: The Seven Acolytes</td>\n",
       "      <td>Souls-like, Akcja, Przygodowe, Inspirowane Lov...</td>\n",
       "      <td>8.99</td>\n",
       "      <td>2020-12-03</td>\n",
       "      <td>W większości pozytywne</td>\n",
       "      <td>812</td>\n",
       "      <td>0</td>\n",
       "      <td>0</td>\n",
       "      <td>0</td>\n",
       "      <td>0</td>\n",
       "      <td>...</td>\n",
       "      <td>0</td>\n",
       "      <td>0</td>\n",
       "      <td>0</td>\n",
       "      <td>0</td>\n",
       "      <td>0</td>\n",
       "      <td>0</td>\n",
       "      <td>0</td>\n",
       "      <td>0</td>\n",
       "      <td>0</td>\n",
       "      <td>0</td>\n",
       "    </tr>\n",
       "    <tr>\n",
       "      <th>611</th>\n",
       "      <td>Armored Warfare</td>\n",
       "      <td>Realistyczne, Strzelanka, Historia alternatywn...</td>\n",
       "      <td>0.00</td>\n",
       "      <td>2017-11-17</td>\n",
       "      <td>Mieszane</td>\n",
       "      <td>4756</td>\n",
       "      <td>0</td>\n",
       "      <td>0</td>\n",
       "      <td>0</td>\n",
       "      <td>0</td>\n",
       "      <td>...</td>\n",
       "      <td>0</td>\n",
       "      <td>0</td>\n",
       "      <td>0</td>\n",
       "      <td>0</td>\n",
       "      <td>0</td>\n",
       "      <td>0</td>\n",
       "      <td>0</td>\n",
       "      <td>0</td>\n",
       "      <td>0</td>\n",
       "      <td>0</td>\n",
       "    </tr>\n",
       "  </tbody>\n",
       "</table>\n",
       "<p>597 rows × 274 columns</p>\n",
       "</div>"
      ],
      "text/plain": [
       "                                            Tytuł  \\\n",
       "0                                   Marvel Rivals   \n",
       "1                                      Subnautica   \n",
       "2                                    DOOM Eternal   \n",
       "3                                        Among Us   \n",
       "4                                   HELLDIVERS™ 2   \n",
       "..                                            ...   \n",
       "607                       Chair F*cking Simulator   \n",
       "608                                Aeon Must Die!   \n",
       "609  tomorrow won't come for those without ██████   \n",
       "610                    Morbid: The Seven Acolytes   \n",
       "611                               Armored Warfare   \n",
       "\n",
       "                                                  Tagi    Cena Data wydania  \\\n",
       "0    Free to Play, Wieloosobowe, Strzelanka z bohat...    0.00   2024-12-06   \n",
       "1    Survivalowe w otwartym świecie, Survival, Horr...   45.86   2018-01-24   \n",
       "2    FPS, Akcja, Brutalność, Świetna ścieżka dźwięk...   42.25   2020-03-20   \n",
       "3    Wieloosobowe, Sieciowa kooperacja, Dedukcyjne ...   10.79   2018-11-16   \n",
       "4    Sieciowa kooperacja, PvE, Strzelanka z perspek...  169.00   2024-02-08   \n",
       "..                                                 ...     ...          ...   \n",
       "607  Symulator randkowania, Horror psychologiczny, ...    8.99   2020-07-07   \n",
       "608  Akcja, Niezależne, Beat 'em up, Bijatyka 2D, M...   10.49   2021-10-14   \n",
       "609  Filozoficzne, Klimatyczne, Minimalistyczne, Ła...    8.99   2020-07-04   \n",
       "610  Souls-like, Akcja, Przygodowe, Inspirowane Lov...    8.99   2020-12-03   \n",
       "611  Realistyczne, Strzelanka, Historia alternatywn...    0.00   2017-11-17   \n",
       "\n",
       "        Nacechowanie recenzji  Liczba recenzji  Tag_2,5D  Tag_2D  Tag_3D  \\\n",
       "0            Bardzo pozytywne           181643         0       0       0   \n",
       "1    Przytłaczająco pozytywne           270717         0       0       0   \n",
       "2            Bardzo pozytywne           169836         0       0       0   \n",
       "3            Bardzo pozytywne           612000         0       0       0   \n",
       "4      W większości pozytywne           706335         0       0       0   \n",
       "..                        ...              ...       ...     ...     ...   \n",
       "607  Przytłaczająco pozytywne              570         0       0       0   \n",
       "608                  Mieszane               86         0       0       0   \n",
       "609          Bardzo pozytywne              823         0       0       0   \n",
       "610    W większości pozytywne              812         0       0       0   \n",
       "611                  Mieszane             4756         0       0       0   \n",
       "\n",
       "     Tag_4X  ...  Tag_Znaczące wybory  Tag_Zombie  Tag_Zręcznościowe  \\\n",
       "0         0  ...                    0           0                  0   \n",
       "1         0  ...                    0           0                  0   \n",
       "2         0  ...                    0           0                  0   \n",
       "3         0  ...                    0           0                  0   \n",
       "4         0  ...                    0           0                  0   \n",
       "..      ...  ...                  ...         ...                ...   \n",
       "607       0  ...                    0           0                  0   \n",
       "608       0  ...                    0           0                  0   \n",
       "609       0  ...                    0           0                  0   \n",
       "610       0  ...                    0           0                  0   \n",
       "611       0  ...                    0           0                  0   \n",
       "\n",
       "     Tag_Zły protagonista  Tag_Łamigłówki  Tag_Łamigłówki platformowe  \\\n",
       "0                       0               0                           0   \n",
       "1                       0               0                           0   \n",
       "2                       0               0                           0   \n",
       "3                       0               0                           0   \n",
       "4                       0               0                           0   \n",
       "..                    ...             ...                         ...   \n",
       "607                     0               0                           0   \n",
       "608                     0               0                           0   \n",
       "609                     0               1                           0   \n",
       "610                     0               0                           0   \n",
       "611                     0               0                           0   \n",
       "\n",
       "     Tag_Łupy  Tag_Śledztwo  Tag_Świetna ścieżka dźwiękowa  \\\n",
       "0           0             0                              0   \n",
       "1           0             0                              0   \n",
       "2           0             0                              1   \n",
       "3           0             0                              0   \n",
       "4           0             0                              0   \n",
       "..        ...           ...                            ...   \n",
       "607         0             0                              0   \n",
       "608         0             0                              0   \n",
       "609         0             0                              0   \n",
       "610         0             0                              0   \n",
       "611         0             0                              0   \n",
       "\n",
       "     Tag_Żeńska postać w roli głównej  \n",
       "0                                   0  \n",
       "1                                   0  \n",
       "2                                   0  \n",
       "3                                   0  \n",
       "4                                   0  \n",
       "..                                ...  \n",
       "607                                 0  \n",
       "608                                 0  \n",
       "609                                 0  \n",
       "610                                 0  \n",
       "611                                 0  \n",
       "\n",
       "[597 rows x 274 columns]"
      ]
     },
     "metadata": {},
     "output_type": "display_data"
    }
   ],
   "source": [
    "display(df)"
   ]
  },
  {
   "cell_type": "code",
   "execution_count": 47,
   "metadata": {},
   "outputs": [],
   "source": [
    "import pandas as pd\n",
    "\n",
    "# Dane wejściowe\n",
    "df = pd.DataFrame(data)\n",
    "\n",
    "# Przetwarzanie danych\n",
    "df = clean_data(df)\n"
   ]
  },
  {
   "cell_type": "code",
   "execution_count": 10,
   "metadata": {},
   "outputs": [],
   "source": [
    "import pandas as pd\n",
    "import numpy as np\n",
    "from scipy.stats import chi2_contingency\n",
    "import plotly.express as px\n",
    "\n",
    "def analyze_data(df):\n",
    "    # 1. Tworzenie tabeli krzyżowej tagów\n",
    "    def create_crosstab(df):\n",
    "        all_tags = [tag for tags in df['tags'] for tag in tags]  # Zbiór wszystkich tagów\n",
    "        unique_tags = sorted(set(all_tags))  # Unikalne tagi\n",
    "        \n",
    "        # Tworzenie macierzy obecności tagów\n",
    "        tag_matrix = pd.DataFrame(0, index=unique_tags, columns=unique_tags)\n",
    "        for tags in df['tags']:\n",
    "            for tag1 in tags:\n",
    "                for tag2 in tags:\n",
    "                    if tag1 != tag2:  # Ignorujemy współwystępowanie z samym sobą\n",
    "                        tag_matrix.loc[tag1, tag2] += 1\n",
    "        \n",
    "        return tag_matrix\n",
    "\n",
    "    # 2. Test chi-kwadrat na współwystępowanie tagów\n",
    "    def chi_square_analysis(tag_matrix):\n",
    "        chi2_results = []\n",
    "        for tag1 in tag_matrix.index:\n",
    "            for tag2 in tag_matrix.columns:\n",
    "                if tag1 != tag2:  # Test tylko dla różnych tagów\n",
    "                    obs = [[tag_matrix.loc[tag1, tag2], tag_matrix.loc[tag2, tag1]],\n",
    "                           [sum(tag_matrix.loc[tag1, :]), sum(tag_matrix.loc[:, tag2])]]\n",
    "                    _, p, _, _ = chi2_contingency(obs)\n",
    "                    chi2_results.append((tag1, tag2, p))\n",
    "        \n",
    "        return pd.DataFrame(chi2_results, columns=['Tag1', 'Tag2', 'P-value']).sort_values('P-value')\n",
    "\n",
    "    # 3. Analiza wpływu tagów na ceny\n",
    "    def tag_price_analysis(df):\n",
    "        tag_price_data = []\n",
    "        for tag in sorted(set(tag for tags in df['tags'] for tag in tags)):\n",
    "            filtered = df[df['tags'].apply(lambda tags: tag in tags)]\n",
    "            avg_price = filtered['price'].mean()\n",
    "            tag_price_data.append({'Tag': tag, 'Average Price': avg_price})\n",
    "        \n",
    "        return pd.DataFrame(tag_price_data).sort_values('Average Price', ascending=False)\n",
    "\n",
    "    # Tworzenie tabeli krzyżowej tagów\n",
    "    tag_matrix = create_crosstab(df)\n",
    "    print(\"Tabela krzyżowa tagów:\\n\", tag_matrix)\n",
    "\n",
    "    # Analiza współwystępowania tagów z testem chi-kwadrat\n",
    "    #chi2_results = chi_square_analysis(tag_matrix)\n",
    "    #print(\"Wyniki testu chi-kwadrat:\\n\", chi2_results.head(10))\n",
    "\n",
    "    # Analiza wpływu tagów na ceny\n",
    "    tag_price_df = tag_price_analysis(df)\n",
    "    print(\"Średnia cena dla poszczególnych tagów:\\n\", tag_price_df)\n",
    "\n",
    "    # Wizualizacja danych\n",
    "    fig1 = px.imshow(tag_matrix, text_auto=True, title=\"Współwystępowanie tagów (Tabela krzyżowa)\")\n",
    "    fig2 = px.bar(tag_price_df, x='Tag', y='Average Price', title=\"Średnia cena w zależności od tagu\", labels={'Tag': 'Tag', 'Average Price': 'Średnia cena'})\n",
    "    \n",
    "    fig1.show()\n",
    "    fig2.show()\n",
    "\n",
    "    return {\n",
    "        \"tag_matrix\": tag_matrix,\n",
    "        #\"chi2_results\": chi2_results,\n",
    "        \"tag_price_analysis\": tag_price_df\n",
    "    }\n"
   ]
  },
  {
   "cell_type": "code",
   "execution_count": null,
   "metadata": {},
   "outputs": [],
   "source": [
    "# Analiza\n",
    "analyze_data(df)\n"
   ]
  },
  {
   "cell_type": "code",
   "execution_count": 49,
   "metadata": {},
   "outputs": [
    {
     "data": {
      "application/vnd.plotly.v1+json": {
       "config": {
        "plotlyServerURL": "https://plot.ly"
       },
       "data": [
        {
         "domain": {
          "x": [
           0,
           1
          ],
          "y": [
           0,
           1
          ]
         },
         "hovertemplate": "Tag=%{label}<br>Count=%{value}<extra></extra>",
         "labels": [
          "Akcja",
          "Strategiczne",
          "Science fiction",
          "Przygodowe",
          "Jednoosobowe",
          "Wieloosobowe",
          "FPS",
          "Otwarty świat",
          "Strzelanka",
          "Kosmos",
          "Survival",
          "Bogata fabuła",
          "RPG",
          "RTS",
          "Niezależne",
          "Symulatory",
          "Eksploracja",
          "Budowanie bazy",
          "Postapokaliptyczne",
          "Kooperacja",
          "Łamigłówki",
          "Klimatyczne",
          "Perspektywa pierwszej osoby",
          "Horror",
          "Zombie",
          "Other"
         ],
         "legendgroup": "",
         "name": "",
         "showlegend": true,
         "type": "pie",
         "values": [
          159,
          129,
          95,
          88,
          80,
          78,
          75,
          71,
          65,
          63,
          60,
          60,
          59,
          58,
          57,
          51,
          50,
          43,
          40,
          37,
          34,
          33,
          30,
          29,
          28,
          1413
         ]
        }
       ],
       "layout": {
        "legend": {
         "tracegroupgap": 0
        },
        "piecolorway": [
         "rgb(102, 197, 204)",
         "rgb(246, 207, 113)",
         "rgb(248, 156, 116)",
         "rgb(220, 176, 242)",
         "rgb(135, 197, 95)",
         "rgb(158, 185, 243)",
         "rgb(254, 136, 177)",
         "rgb(201, 219, 116)",
         "rgb(139, 224, 164)",
         "rgb(180, 151, 231)",
         "rgb(179, 179, 179)"
        ],
        "template": {
         "data": {
          "bar": [
           {
            "error_x": {
             "color": "#2a3f5f"
            },
            "error_y": {
             "color": "#2a3f5f"
            },
            "marker": {
             "line": {
              "color": "#E5ECF6",
              "width": 0.5
             },
             "pattern": {
              "fillmode": "overlay",
              "size": 10,
              "solidity": 0.2
             }
            },
            "type": "bar"
           }
          ],
          "barpolar": [
           {
            "marker": {
             "line": {
              "color": "#E5ECF6",
              "width": 0.5
             },
             "pattern": {
              "fillmode": "overlay",
              "size": 10,
              "solidity": 0.2
             }
            },
            "type": "barpolar"
           }
          ],
          "carpet": [
           {
            "aaxis": {
             "endlinecolor": "#2a3f5f",
             "gridcolor": "white",
             "linecolor": "white",
             "minorgridcolor": "white",
             "startlinecolor": "#2a3f5f"
            },
            "baxis": {
             "endlinecolor": "#2a3f5f",
             "gridcolor": "white",
             "linecolor": "white",
             "minorgridcolor": "white",
             "startlinecolor": "#2a3f5f"
            },
            "type": "carpet"
           }
          ],
          "choropleth": [
           {
            "colorbar": {
             "outlinewidth": 0,
             "ticks": ""
            },
            "type": "choropleth"
           }
          ],
          "contour": [
           {
            "colorbar": {
             "outlinewidth": 0,
             "ticks": ""
            },
            "colorscale": [
             [
              0,
              "#0d0887"
             ],
             [
              0.1111111111111111,
              "#46039f"
             ],
             [
              0.2222222222222222,
              "#7201a8"
             ],
             [
              0.3333333333333333,
              "#9c179e"
             ],
             [
              0.4444444444444444,
              "#bd3786"
             ],
             [
              0.5555555555555556,
              "#d8576b"
             ],
             [
              0.6666666666666666,
              "#ed7953"
             ],
             [
              0.7777777777777778,
              "#fb9f3a"
             ],
             [
              0.8888888888888888,
              "#fdca26"
             ],
             [
              1,
              "#f0f921"
             ]
            ],
            "type": "contour"
           }
          ],
          "contourcarpet": [
           {
            "colorbar": {
             "outlinewidth": 0,
             "ticks": ""
            },
            "type": "contourcarpet"
           }
          ],
          "heatmap": [
           {
            "colorbar": {
             "outlinewidth": 0,
             "ticks": ""
            },
            "colorscale": [
             [
              0,
              "#0d0887"
             ],
             [
              0.1111111111111111,
              "#46039f"
             ],
             [
              0.2222222222222222,
              "#7201a8"
             ],
             [
              0.3333333333333333,
              "#9c179e"
             ],
             [
              0.4444444444444444,
              "#bd3786"
             ],
             [
              0.5555555555555556,
              "#d8576b"
             ],
             [
              0.6666666666666666,
              "#ed7953"
             ],
             [
              0.7777777777777778,
              "#fb9f3a"
             ],
             [
              0.8888888888888888,
              "#fdca26"
             ],
             [
              1,
              "#f0f921"
             ]
            ],
            "type": "heatmap"
           }
          ],
          "heatmapgl": [
           {
            "colorbar": {
             "outlinewidth": 0,
             "ticks": ""
            },
            "colorscale": [
             [
              0,
              "#0d0887"
             ],
             [
              0.1111111111111111,
              "#46039f"
             ],
             [
              0.2222222222222222,
              "#7201a8"
             ],
             [
              0.3333333333333333,
              "#9c179e"
             ],
             [
              0.4444444444444444,
              "#bd3786"
             ],
             [
              0.5555555555555556,
              "#d8576b"
             ],
             [
              0.6666666666666666,
              "#ed7953"
             ],
             [
              0.7777777777777778,
              "#fb9f3a"
             ],
             [
              0.8888888888888888,
              "#fdca26"
             ],
             [
              1,
              "#f0f921"
             ]
            ],
            "type": "heatmapgl"
           }
          ],
          "histogram": [
           {
            "marker": {
             "pattern": {
              "fillmode": "overlay",
              "size": 10,
              "solidity": 0.2
             }
            },
            "type": "histogram"
           }
          ],
          "histogram2d": [
           {
            "colorbar": {
             "outlinewidth": 0,
             "ticks": ""
            },
            "colorscale": [
             [
              0,
              "#0d0887"
             ],
             [
              0.1111111111111111,
              "#46039f"
             ],
             [
              0.2222222222222222,
              "#7201a8"
             ],
             [
              0.3333333333333333,
              "#9c179e"
             ],
             [
              0.4444444444444444,
              "#bd3786"
             ],
             [
              0.5555555555555556,
              "#d8576b"
             ],
             [
              0.6666666666666666,
              "#ed7953"
             ],
             [
              0.7777777777777778,
              "#fb9f3a"
             ],
             [
              0.8888888888888888,
              "#fdca26"
             ],
             [
              1,
              "#f0f921"
             ]
            ],
            "type": "histogram2d"
           }
          ],
          "histogram2dcontour": [
           {
            "colorbar": {
             "outlinewidth": 0,
             "ticks": ""
            },
            "colorscale": [
             [
              0,
              "#0d0887"
             ],
             [
              0.1111111111111111,
              "#46039f"
             ],
             [
              0.2222222222222222,
              "#7201a8"
             ],
             [
              0.3333333333333333,
              "#9c179e"
             ],
             [
              0.4444444444444444,
              "#bd3786"
             ],
             [
              0.5555555555555556,
              "#d8576b"
             ],
             [
              0.6666666666666666,
              "#ed7953"
             ],
             [
              0.7777777777777778,
              "#fb9f3a"
             ],
             [
              0.8888888888888888,
              "#fdca26"
             ],
             [
              1,
              "#f0f921"
             ]
            ],
            "type": "histogram2dcontour"
           }
          ],
          "mesh3d": [
           {
            "colorbar": {
             "outlinewidth": 0,
             "ticks": ""
            },
            "type": "mesh3d"
           }
          ],
          "parcoords": [
           {
            "line": {
             "colorbar": {
              "outlinewidth": 0,
              "ticks": ""
             }
            },
            "type": "parcoords"
           }
          ],
          "pie": [
           {
            "automargin": true,
            "type": "pie"
           }
          ],
          "scatter": [
           {
            "fillpattern": {
             "fillmode": "overlay",
             "size": 10,
             "solidity": 0.2
            },
            "type": "scatter"
           }
          ],
          "scatter3d": [
           {
            "line": {
             "colorbar": {
              "outlinewidth": 0,
              "ticks": ""
             }
            },
            "marker": {
             "colorbar": {
              "outlinewidth": 0,
              "ticks": ""
             }
            },
            "type": "scatter3d"
           }
          ],
          "scattercarpet": [
           {
            "marker": {
             "colorbar": {
              "outlinewidth": 0,
              "ticks": ""
             }
            },
            "type": "scattercarpet"
           }
          ],
          "scattergeo": [
           {
            "marker": {
             "colorbar": {
              "outlinewidth": 0,
              "ticks": ""
             }
            },
            "type": "scattergeo"
           }
          ],
          "scattergl": [
           {
            "marker": {
             "colorbar": {
              "outlinewidth": 0,
              "ticks": ""
             }
            },
            "type": "scattergl"
           }
          ],
          "scattermapbox": [
           {
            "marker": {
             "colorbar": {
              "outlinewidth": 0,
              "ticks": ""
             }
            },
            "type": "scattermapbox"
           }
          ],
          "scatterpolar": [
           {
            "marker": {
             "colorbar": {
              "outlinewidth": 0,
              "ticks": ""
             }
            },
            "type": "scatterpolar"
           }
          ],
          "scatterpolargl": [
           {
            "marker": {
             "colorbar": {
              "outlinewidth": 0,
              "ticks": ""
             }
            },
            "type": "scatterpolargl"
           }
          ],
          "scatterternary": [
           {
            "marker": {
             "colorbar": {
              "outlinewidth": 0,
              "ticks": ""
             }
            },
            "type": "scatterternary"
           }
          ],
          "surface": [
           {
            "colorbar": {
             "outlinewidth": 0,
             "ticks": ""
            },
            "colorscale": [
             [
              0,
              "#0d0887"
             ],
             [
              0.1111111111111111,
              "#46039f"
             ],
             [
              0.2222222222222222,
              "#7201a8"
             ],
             [
              0.3333333333333333,
              "#9c179e"
             ],
             [
              0.4444444444444444,
              "#bd3786"
             ],
             [
              0.5555555555555556,
              "#d8576b"
             ],
             [
              0.6666666666666666,
              "#ed7953"
             ],
             [
              0.7777777777777778,
              "#fb9f3a"
             ],
             [
              0.8888888888888888,
              "#fdca26"
             ],
             [
              1,
              "#f0f921"
             ]
            ],
            "type": "surface"
           }
          ],
          "table": [
           {
            "cells": {
             "fill": {
              "color": "#EBF0F8"
             },
             "line": {
              "color": "white"
             }
            },
            "header": {
             "fill": {
              "color": "#C8D4E3"
             },
             "line": {
              "color": "white"
             }
            },
            "type": "table"
           }
          ]
         },
         "layout": {
          "annotationdefaults": {
           "arrowcolor": "#2a3f5f",
           "arrowhead": 0,
           "arrowwidth": 1
          },
          "autotypenumbers": "strict",
          "coloraxis": {
           "colorbar": {
            "outlinewidth": 0,
            "ticks": ""
           }
          },
          "colorscale": {
           "diverging": [
            [
             0,
             "#8e0152"
            ],
            [
             0.1,
             "#c51b7d"
            ],
            [
             0.2,
             "#de77ae"
            ],
            [
             0.3,
             "#f1b6da"
            ],
            [
             0.4,
             "#fde0ef"
            ],
            [
             0.5,
             "#f7f7f7"
            ],
            [
             0.6,
             "#e6f5d0"
            ],
            [
             0.7,
             "#b8e186"
            ],
            [
             0.8,
             "#7fbc41"
            ],
            [
             0.9,
             "#4d9221"
            ],
            [
             1,
             "#276419"
            ]
           ],
           "sequential": [
            [
             0,
             "#0d0887"
            ],
            [
             0.1111111111111111,
             "#46039f"
            ],
            [
             0.2222222222222222,
             "#7201a8"
            ],
            [
             0.3333333333333333,
             "#9c179e"
            ],
            [
             0.4444444444444444,
             "#bd3786"
            ],
            [
             0.5555555555555556,
             "#d8576b"
            ],
            [
             0.6666666666666666,
             "#ed7953"
            ],
            [
             0.7777777777777778,
             "#fb9f3a"
            ],
            [
             0.8888888888888888,
             "#fdca26"
            ],
            [
             1,
             "#f0f921"
            ]
           ],
           "sequentialminus": [
            [
             0,
             "#0d0887"
            ],
            [
             0.1111111111111111,
             "#46039f"
            ],
            [
             0.2222222222222222,
             "#7201a8"
            ],
            [
             0.3333333333333333,
             "#9c179e"
            ],
            [
             0.4444444444444444,
             "#bd3786"
            ],
            [
             0.5555555555555556,
             "#d8576b"
            ],
            [
             0.6666666666666666,
             "#ed7953"
            ],
            [
             0.7777777777777778,
             "#fb9f3a"
            ],
            [
             0.8888888888888888,
             "#fdca26"
            ],
            [
             1,
             "#f0f921"
            ]
           ]
          },
          "colorway": [
           "#636efa",
           "#EF553B",
           "#00cc96",
           "#ab63fa",
           "#FFA15A",
           "#19d3f3",
           "#FF6692",
           "#B6E880",
           "#FF97FF",
           "#FECB52"
          ],
          "font": {
           "color": "#2a3f5f"
          },
          "geo": {
           "bgcolor": "white",
           "lakecolor": "white",
           "landcolor": "#E5ECF6",
           "showlakes": true,
           "showland": true,
           "subunitcolor": "white"
          },
          "hoverlabel": {
           "align": "left"
          },
          "hovermode": "closest",
          "mapbox": {
           "style": "light"
          },
          "paper_bgcolor": "white",
          "plot_bgcolor": "#E5ECF6",
          "polar": {
           "angularaxis": {
            "gridcolor": "white",
            "linecolor": "white",
            "ticks": ""
           },
           "bgcolor": "#E5ECF6",
           "radialaxis": {
            "gridcolor": "white",
            "linecolor": "white",
            "ticks": ""
           }
          },
          "scene": {
           "xaxis": {
            "backgroundcolor": "#E5ECF6",
            "gridcolor": "white",
            "gridwidth": 2,
            "linecolor": "white",
            "showbackground": true,
            "ticks": "",
            "zerolinecolor": "white"
           },
           "yaxis": {
            "backgroundcolor": "#E5ECF6",
            "gridcolor": "white",
            "gridwidth": 2,
            "linecolor": "white",
            "showbackground": true,
            "ticks": "",
            "zerolinecolor": "white"
           },
           "zaxis": {
            "backgroundcolor": "#E5ECF6",
            "gridcolor": "white",
            "gridwidth": 2,
            "linecolor": "white",
            "showbackground": true,
            "ticks": "",
            "zerolinecolor": "white"
           }
          },
          "shapedefaults": {
           "line": {
            "color": "#2a3f5f"
           }
          },
          "ternary": {
           "aaxis": {
            "gridcolor": "white",
            "linecolor": "white",
            "ticks": ""
           },
           "baxis": {
            "gridcolor": "white",
            "linecolor": "white",
            "ticks": ""
           },
           "bgcolor": "#E5ECF6",
           "caxis": {
            "gridcolor": "white",
            "linecolor": "white",
            "ticks": ""
           }
          },
          "title": {
           "x": 0.05
          },
          "xaxis": {
           "automargin": true,
           "gridcolor": "white",
           "linecolor": "white",
           "ticks": "",
           "title": {
            "standoff": 15
           },
           "zerolinecolor": "white",
           "zerolinewidth": 2
          },
          "yaxis": {
           "automargin": true,
           "gridcolor": "white",
           "linecolor": "white",
           "ticks": "",
           "title": {
            "standoff": 15
           },
           "zerolinecolor": "white",
           "zerolinewidth": 2
          }
         }
        },
        "title": {
         "text": "Liczba gier per tag (z kategorią \"Other\")"
        }
       }
      }
     },
     "metadata": {},
     "output_type": "display_data"
    }
   ],
   "source": [
    "from collections import Counter\n",
    "import pandas as pd\n",
    "import plotly.express as px\n",
    "\n",
    "def prepare_pie_chart_data(df, top_n=25):\n",
    "    # Zliczanie wystąpień tagów\n",
    "    tags = df['Tagi'].apply(lambda x: x.split(', '))\n",
    "    tag_counts = Counter(tag for tag_list in tags for tag in tag_list)\n",
    "\n",
    "    # Podział na najpopularniejsze tagi i kategorię \"Other\"\n",
    "    top_tags = tag_counts.most_common(top_n)\n",
    "    other_count = sum(count for tag, count in tag_counts.items() if tag not in dict(top_tags))\n",
    "    \n",
    "    # Przygotowanie danych do DataFrame\n",
    "    pie_data = pd.DataFrame(top_tags, columns=['Tag', 'Count'])\n",
    "    if other_count > 0:\n",
    "        other_row = pd.DataFrame([{'Tag': 'Other', 'Count': other_count}])\n",
    "        pie_data = pd.concat([pie_data, other_row], ignore_index=True)\n",
    "    \n",
    "    return pie_data\n",
    "\n",
    "# Przygotowanie danych do wykresu\n",
    "pie_chart_data = prepare_pie_chart_data(df)\n",
    "\n",
    "# Wizualizacja\n",
    "fig = px.pie(pie_chart_data, names='Tag', values='Count',\n",
    "             title='Liczba gier per tag (z kategorią \"Other\")',\n",
    "             color_discrete_sequence=px.colors.qualitative.Pastel)\n",
    "fig.show()\n"
   ]
  },
  {
   "cell_type": "code",
   "execution_count": 50,
   "metadata": {},
   "outputs": [
    {
     "data": {
      "application/vnd.plotly.v1+json": {
       "config": {
        "plotlyServerURL": "https://plot.ly"
       },
       "data": [
        {
         "domain": {
          "x": [
           0,
           1
          ],
          "y": [
           0,
           1
          ]
         },
         "hovertemplate": "Tag=%{label}<br>Review Count=%{value}<extra></extra>",
         "labels": [
          "Wieloosobowe",
          "FPS",
          "Otwarty świat",
          "Survival",
          "Jednoosobowe",
          "Free to Play",
          "Strzelanka",
          "Akcja",
          "Kooperacja",
          "Zombie",
          "Sieciowa kooperacja",
          "Bogata fabuła",
          "Kosmos",
          "RPG",
          "Strategiczne",
          "Strzelanka z perspektywą trzeciej osoby",
          "Science fiction",
          "Survivalowe w otwartym świecie",
          "Postapokaliptyczne",
          "Perspektywa pierwszej osoby",
          "Other"
         ],
         "legendgroup": "",
         "name": "",
         "showlegend": true,
         "type": "pie",
         "values": [
          7448009,
          5690375,
          4607346,
          3529442,
          3378050,
          3266113,
          2933919,
          2848520,
          2239422,
          2237199,
          2036710,
          1778093,
          1679308,
          1600118,
          1380689,
          1278090,
          1274174,
          1240507,
          1173133,
          1149287,
          29558701
         ]
        }
       ],
       "layout": {
        "legend": {
         "tracegroupgap": 0
        },
        "piecolorway": [
         "rgb(102, 197, 204)",
         "rgb(246, 207, 113)",
         "rgb(248, 156, 116)",
         "rgb(220, 176, 242)",
         "rgb(135, 197, 95)",
         "rgb(158, 185, 243)",
         "rgb(254, 136, 177)",
         "rgb(201, 219, 116)",
         "rgb(139, 224, 164)",
         "rgb(180, 151, 231)",
         "rgb(179, 179, 179)"
        ],
        "template": {
         "data": {
          "bar": [
           {
            "error_x": {
             "color": "#2a3f5f"
            },
            "error_y": {
             "color": "#2a3f5f"
            },
            "marker": {
             "line": {
              "color": "#E5ECF6",
              "width": 0.5
             },
             "pattern": {
              "fillmode": "overlay",
              "size": 10,
              "solidity": 0.2
             }
            },
            "type": "bar"
           }
          ],
          "barpolar": [
           {
            "marker": {
             "line": {
              "color": "#E5ECF6",
              "width": 0.5
             },
             "pattern": {
              "fillmode": "overlay",
              "size": 10,
              "solidity": 0.2
             }
            },
            "type": "barpolar"
           }
          ],
          "carpet": [
           {
            "aaxis": {
             "endlinecolor": "#2a3f5f",
             "gridcolor": "white",
             "linecolor": "white",
             "minorgridcolor": "white",
             "startlinecolor": "#2a3f5f"
            },
            "baxis": {
             "endlinecolor": "#2a3f5f",
             "gridcolor": "white",
             "linecolor": "white",
             "minorgridcolor": "white",
             "startlinecolor": "#2a3f5f"
            },
            "type": "carpet"
           }
          ],
          "choropleth": [
           {
            "colorbar": {
             "outlinewidth": 0,
             "ticks": ""
            },
            "type": "choropleth"
           }
          ],
          "contour": [
           {
            "colorbar": {
             "outlinewidth": 0,
             "ticks": ""
            },
            "colorscale": [
             [
              0,
              "#0d0887"
             ],
             [
              0.1111111111111111,
              "#46039f"
             ],
             [
              0.2222222222222222,
              "#7201a8"
             ],
             [
              0.3333333333333333,
              "#9c179e"
             ],
             [
              0.4444444444444444,
              "#bd3786"
             ],
             [
              0.5555555555555556,
              "#d8576b"
             ],
             [
              0.6666666666666666,
              "#ed7953"
             ],
             [
              0.7777777777777778,
              "#fb9f3a"
             ],
             [
              0.8888888888888888,
              "#fdca26"
             ],
             [
              1,
              "#f0f921"
             ]
            ],
            "type": "contour"
           }
          ],
          "contourcarpet": [
           {
            "colorbar": {
             "outlinewidth": 0,
             "ticks": ""
            },
            "type": "contourcarpet"
           }
          ],
          "heatmap": [
           {
            "colorbar": {
             "outlinewidth": 0,
             "ticks": ""
            },
            "colorscale": [
             [
              0,
              "#0d0887"
             ],
             [
              0.1111111111111111,
              "#46039f"
             ],
             [
              0.2222222222222222,
              "#7201a8"
             ],
             [
              0.3333333333333333,
              "#9c179e"
             ],
             [
              0.4444444444444444,
              "#bd3786"
             ],
             [
              0.5555555555555556,
              "#d8576b"
             ],
             [
              0.6666666666666666,
              "#ed7953"
             ],
             [
              0.7777777777777778,
              "#fb9f3a"
             ],
             [
              0.8888888888888888,
              "#fdca26"
             ],
             [
              1,
              "#f0f921"
             ]
            ],
            "type": "heatmap"
           }
          ],
          "heatmapgl": [
           {
            "colorbar": {
             "outlinewidth": 0,
             "ticks": ""
            },
            "colorscale": [
             [
              0,
              "#0d0887"
             ],
             [
              0.1111111111111111,
              "#46039f"
             ],
             [
              0.2222222222222222,
              "#7201a8"
             ],
             [
              0.3333333333333333,
              "#9c179e"
             ],
             [
              0.4444444444444444,
              "#bd3786"
             ],
             [
              0.5555555555555556,
              "#d8576b"
             ],
             [
              0.6666666666666666,
              "#ed7953"
             ],
             [
              0.7777777777777778,
              "#fb9f3a"
             ],
             [
              0.8888888888888888,
              "#fdca26"
             ],
             [
              1,
              "#f0f921"
             ]
            ],
            "type": "heatmapgl"
           }
          ],
          "histogram": [
           {
            "marker": {
             "pattern": {
              "fillmode": "overlay",
              "size": 10,
              "solidity": 0.2
             }
            },
            "type": "histogram"
           }
          ],
          "histogram2d": [
           {
            "colorbar": {
             "outlinewidth": 0,
             "ticks": ""
            },
            "colorscale": [
             [
              0,
              "#0d0887"
             ],
             [
              0.1111111111111111,
              "#46039f"
             ],
             [
              0.2222222222222222,
              "#7201a8"
             ],
             [
              0.3333333333333333,
              "#9c179e"
             ],
             [
              0.4444444444444444,
              "#bd3786"
             ],
             [
              0.5555555555555556,
              "#d8576b"
             ],
             [
              0.6666666666666666,
              "#ed7953"
             ],
             [
              0.7777777777777778,
              "#fb9f3a"
             ],
             [
              0.8888888888888888,
              "#fdca26"
             ],
             [
              1,
              "#f0f921"
             ]
            ],
            "type": "histogram2d"
           }
          ],
          "histogram2dcontour": [
           {
            "colorbar": {
             "outlinewidth": 0,
             "ticks": ""
            },
            "colorscale": [
             [
              0,
              "#0d0887"
             ],
             [
              0.1111111111111111,
              "#46039f"
             ],
             [
              0.2222222222222222,
              "#7201a8"
             ],
             [
              0.3333333333333333,
              "#9c179e"
             ],
             [
              0.4444444444444444,
              "#bd3786"
             ],
             [
              0.5555555555555556,
              "#d8576b"
             ],
             [
              0.6666666666666666,
              "#ed7953"
             ],
             [
              0.7777777777777778,
              "#fb9f3a"
             ],
             [
              0.8888888888888888,
              "#fdca26"
             ],
             [
              1,
              "#f0f921"
             ]
            ],
            "type": "histogram2dcontour"
           }
          ],
          "mesh3d": [
           {
            "colorbar": {
             "outlinewidth": 0,
             "ticks": ""
            },
            "type": "mesh3d"
           }
          ],
          "parcoords": [
           {
            "line": {
             "colorbar": {
              "outlinewidth": 0,
              "ticks": ""
             }
            },
            "type": "parcoords"
           }
          ],
          "pie": [
           {
            "automargin": true,
            "type": "pie"
           }
          ],
          "scatter": [
           {
            "fillpattern": {
             "fillmode": "overlay",
             "size": 10,
             "solidity": 0.2
            },
            "type": "scatter"
           }
          ],
          "scatter3d": [
           {
            "line": {
             "colorbar": {
              "outlinewidth": 0,
              "ticks": ""
             }
            },
            "marker": {
             "colorbar": {
              "outlinewidth": 0,
              "ticks": ""
             }
            },
            "type": "scatter3d"
           }
          ],
          "scattercarpet": [
           {
            "marker": {
             "colorbar": {
              "outlinewidth": 0,
              "ticks": ""
             }
            },
            "type": "scattercarpet"
           }
          ],
          "scattergeo": [
           {
            "marker": {
             "colorbar": {
              "outlinewidth": 0,
              "ticks": ""
             }
            },
            "type": "scattergeo"
           }
          ],
          "scattergl": [
           {
            "marker": {
             "colorbar": {
              "outlinewidth": 0,
              "ticks": ""
             }
            },
            "type": "scattergl"
           }
          ],
          "scattermapbox": [
           {
            "marker": {
             "colorbar": {
              "outlinewidth": 0,
              "ticks": ""
             }
            },
            "type": "scattermapbox"
           }
          ],
          "scatterpolar": [
           {
            "marker": {
             "colorbar": {
              "outlinewidth": 0,
              "ticks": ""
             }
            },
            "type": "scatterpolar"
           }
          ],
          "scatterpolargl": [
           {
            "marker": {
             "colorbar": {
              "outlinewidth": 0,
              "ticks": ""
             }
            },
            "type": "scatterpolargl"
           }
          ],
          "scatterternary": [
           {
            "marker": {
             "colorbar": {
              "outlinewidth": 0,
              "ticks": ""
             }
            },
            "type": "scatterternary"
           }
          ],
          "surface": [
           {
            "colorbar": {
             "outlinewidth": 0,
             "ticks": ""
            },
            "colorscale": [
             [
              0,
              "#0d0887"
             ],
             [
              0.1111111111111111,
              "#46039f"
             ],
             [
              0.2222222222222222,
              "#7201a8"
             ],
             [
              0.3333333333333333,
              "#9c179e"
             ],
             [
              0.4444444444444444,
              "#bd3786"
             ],
             [
              0.5555555555555556,
              "#d8576b"
             ],
             [
              0.6666666666666666,
              "#ed7953"
             ],
             [
              0.7777777777777778,
              "#fb9f3a"
             ],
             [
              0.8888888888888888,
              "#fdca26"
             ],
             [
              1,
              "#f0f921"
             ]
            ],
            "type": "surface"
           }
          ],
          "table": [
           {
            "cells": {
             "fill": {
              "color": "#EBF0F8"
             },
             "line": {
              "color": "white"
             }
            },
            "header": {
             "fill": {
              "color": "#C8D4E3"
             },
             "line": {
              "color": "white"
             }
            },
            "type": "table"
           }
          ]
         },
         "layout": {
          "annotationdefaults": {
           "arrowcolor": "#2a3f5f",
           "arrowhead": 0,
           "arrowwidth": 1
          },
          "autotypenumbers": "strict",
          "coloraxis": {
           "colorbar": {
            "outlinewidth": 0,
            "ticks": ""
           }
          },
          "colorscale": {
           "diverging": [
            [
             0,
             "#8e0152"
            ],
            [
             0.1,
             "#c51b7d"
            ],
            [
             0.2,
             "#de77ae"
            ],
            [
             0.3,
             "#f1b6da"
            ],
            [
             0.4,
             "#fde0ef"
            ],
            [
             0.5,
             "#f7f7f7"
            ],
            [
             0.6,
             "#e6f5d0"
            ],
            [
             0.7,
             "#b8e186"
            ],
            [
             0.8,
             "#7fbc41"
            ],
            [
             0.9,
             "#4d9221"
            ],
            [
             1,
             "#276419"
            ]
           ],
           "sequential": [
            [
             0,
             "#0d0887"
            ],
            [
             0.1111111111111111,
             "#46039f"
            ],
            [
             0.2222222222222222,
             "#7201a8"
            ],
            [
             0.3333333333333333,
             "#9c179e"
            ],
            [
             0.4444444444444444,
             "#bd3786"
            ],
            [
             0.5555555555555556,
             "#d8576b"
            ],
            [
             0.6666666666666666,
             "#ed7953"
            ],
            [
             0.7777777777777778,
             "#fb9f3a"
            ],
            [
             0.8888888888888888,
             "#fdca26"
            ],
            [
             1,
             "#f0f921"
            ]
           ],
           "sequentialminus": [
            [
             0,
             "#0d0887"
            ],
            [
             0.1111111111111111,
             "#46039f"
            ],
            [
             0.2222222222222222,
             "#7201a8"
            ],
            [
             0.3333333333333333,
             "#9c179e"
            ],
            [
             0.4444444444444444,
             "#bd3786"
            ],
            [
             0.5555555555555556,
             "#d8576b"
            ],
            [
             0.6666666666666666,
             "#ed7953"
            ],
            [
             0.7777777777777778,
             "#fb9f3a"
            ],
            [
             0.8888888888888888,
             "#fdca26"
            ],
            [
             1,
             "#f0f921"
            ]
           ]
          },
          "colorway": [
           "#636efa",
           "#EF553B",
           "#00cc96",
           "#ab63fa",
           "#FFA15A",
           "#19d3f3",
           "#FF6692",
           "#B6E880",
           "#FF97FF",
           "#FECB52"
          ],
          "font": {
           "color": "#2a3f5f"
          },
          "geo": {
           "bgcolor": "white",
           "lakecolor": "white",
           "landcolor": "#E5ECF6",
           "showlakes": true,
           "showland": true,
           "subunitcolor": "white"
          },
          "hoverlabel": {
           "align": "left"
          },
          "hovermode": "closest",
          "mapbox": {
           "style": "light"
          },
          "paper_bgcolor": "white",
          "plot_bgcolor": "#E5ECF6",
          "polar": {
           "angularaxis": {
            "gridcolor": "white",
            "linecolor": "white",
            "ticks": ""
           },
           "bgcolor": "#E5ECF6",
           "radialaxis": {
            "gridcolor": "white",
            "linecolor": "white",
            "ticks": ""
           }
          },
          "scene": {
           "xaxis": {
            "backgroundcolor": "#E5ECF6",
            "gridcolor": "white",
            "gridwidth": 2,
            "linecolor": "white",
            "showbackground": true,
            "ticks": "",
            "zerolinecolor": "white"
           },
           "yaxis": {
            "backgroundcolor": "#E5ECF6",
            "gridcolor": "white",
            "gridwidth": 2,
            "linecolor": "white",
            "showbackground": true,
            "ticks": "",
            "zerolinecolor": "white"
           },
           "zaxis": {
            "backgroundcolor": "#E5ECF6",
            "gridcolor": "white",
            "gridwidth": 2,
            "linecolor": "white",
            "showbackground": true,
            "ticks": "",
            "zerolinecolor": "white"
           }
          },
          "shapedefaults": {
           "line": {
            "color": "#2a3f5f"
           }
          },
          "ternary": {
           "aaxis": {
            "gridcolor": "white",
            "linecolor": "white",
            "ticks": ""
           },
           "baxis": {
            "gridcolor": "white",
            "linecolor": "white",
            "ticks": ""
           },
           "bgcolor": "#E5ECF6",
           "caxis": {
            "gridcolor": "white",
            "linecolor": "white",
            "ticks": ""
           }
          },
          "title": {
           "x": 0.05
          },
          "xaxis": {
           "automargin": true,
           "gridcolor": "white",
           "linecolor": "white",
           "ticks": "",
           "title": {
            "standoff": 15
           },
           "zerolinecolor": "white",
           "zerolinewidth": 2
          },
          "yaxis": {
           "automargin": true,
           "gridcolor": "white",
           "linecolor": "white",
           "ticks": "",
           "title": {
            "standoff": 15
           },
           "zerolinecolor": "white",
           "zerolinewidth": 2
          }
         }
        },
        "title": {
         "text": "Liczba opinii per tag (z kategorią \"Other\")"
        }
       }
      }
     },
     "metadata": {},
     "output_type": "display_data"
    }
   ],
   "source": [
    "def prepare_pie_chart_reviews(df, top_n=20):\n",
    "    # Zliczanie liczby recenzji na tag\n",
    "    tags = df['Tagi'].apply(lambda x: x.split(', '))\n",
    "    tag_reviews = Counter()\n",
    "\n",
    "    for idx, tag_list in enumerate(tags):\n",
    "        for tag in tag_list:\n",
    "            tag_reviews[tag] += df.iloc[idx]['Liczba recenzji']\n",
    "\n",
    "    # Podział na najpopularniejsze tagi i kategorię \"Other\"\n",
    "    top_tags = tag_reviews.most_common(top_n)\n",
    "    other_count = sum(count for tag, count in tag_reviews.items() if tag not in dict(top_tags))\n",
    "    \n",
    "    # Przygotowanie danych do DataFrame\n",
    "    pie_data = pd.DataFrame(top_tags, columns=['Tag', 'Review Count'])\n",
    "    if other_count > 0:\n",
    "        other_row = pd.DataFrame([{'Tag': 'Other', 'Review Count': other_count}])\n",
    "        pie_data = pd.concat([pie_data, other_row], ignore_index=True)\n",
    "    \n",
    "    return pie_data\n",
    "\n",
    "# Przygotowanie danych do wykresu\n",
    "pie_chart_reviews_data = prepare_pie_chart_reviews(df)\n",
    "\n",
    "# Wizualizacja\n",
    "fig = px.pie(pie_chart_reviews_data, names='Tag', values='Review Count',\n",
    "             title='Liczba opinii per tag (z kategorią \"Other\")',\n",
    "             color_discrete_sequence=px.colors.qualitative.Pastel)\n",
    "fig.show()\n"
   ]
  },
  {
   "cell_type": "code",
   "execution_count": 51,
   "metadata": {},
   "outputs": [
    {
     "data": {
      "application/vnd.plotly.v1+json": {
       "config": {
        "plotlyServerURL": "https://plot.ly"
       },
       "data": [
        {
         "domain": {
          "x": [
           0,
           1
          ],
          "y": [
           0,
           1
          ]
         },
         "hovertemplate": "Tag=%{label}<br>Average Reviews=%{value}<extra></extra>",
         "labels": [
          "Battle royale",
          "Nagość",
          "Dedukcyjne towarzyskie",
          "Strzelanka z bohaterami",
          "Zespołowe",
          "Strzelanka z łupami",
          "Krasnoludy",
          "Free to Play",
          "Koty",
          "PvE",
          "Podwodne",
          "Remake",
          "Wieloosobowe",
          "Sieciowa kooperacja",
          "Wojskowe",
          "Szybkie tempo",
          "Zombie",
          "Czarny humor",
          "FPS",
          "Świetna ścieżka dźwiękowa",
          "Other"
         ],
         "legendgroup": "",
         "name": "",
         "showlegend": true,
         "type": "pie",
         "values": [
          976248,
          358744,
          208300.66666666666,
          170629,
          162772,
          149333.2,
          148355.5,
          136088.04166666666,
          134727,
          125502,
          118968.33333333333,
          113307,
          95487.29487179487,
          92577.72727272728,
          83448.66666666667,
          81070.33333333333,
          79899.96428571429,
          76535.8,
          75871.66666666667,
          71087.5,
          2706
         ]
        }
       ],
       "layout": {
        "legend": {
         "tracegroupgap": 0
        },
        "piecolorway": [
         "rgb(102, 197, 204)",
         "rgb(246, 207, 113)",
         "rgb(248, 156, 116)",
         "rgb(220, 176, 242)",
         "rgb(135, 197, 95)",
         "rgb(158, 185, 243)",
         "rgb(254, 136, 177)",
         "rgb(201, 219, 116)",
         "rgb(139, 224, 164)",
         "rgb(180, 151, 231)",
         "rgb(179, 179, 179)"
        ],
        "template": {
         "data": {
          "bar": [
           {
            "error_x": {
             "color": "#2a3f5f"
            },
            "error_y": {
             "color": "#2a3f5f"
            },
            "marker": {
             "line": {
              "color": "#E5ECF6",
              "width": 0.5
             },
             "pattern": {
              "fillmode": "overlay",
              "size": 10,
              "solidity": 0.2
             }
            },
            "type": "bar"
           }
          ],
          "barpolar": [
           {
            "marker": {
             "line": {
              "color": "#E5ECF6",
              "width": 0.5
             },
             "pattern": {
              "fillmode": "overlay",
              "size": 10,
              "solidity": 0.2
             }
            },
            "type": "barpolar"
           }
          ],
          "carpet": [
           {
            "aaxis": {
             "endlinecolor": "#2a3f5f",
             "gridcolor": "white",
             "linecolor": "white",
             "minorgridcolor": "white",
             "startlinecolor": "#2a3f5f"
            },
            "baxis": {
             "endlinecolor": "#2a3f5f",
             "gridcolor": "white",
             "linecolor": "white",
             "minorgridcolor": "white",
             "startlinecolor": "#2a3f5f"
            },
            "type": "carpet"
           }
          ],
          "choropleth": [
           {
            "colorbar": {
             "outlinewidth": 0,
             "ticks": ""
            },
            "type": "choropleth"
           }
          ],
          "contour": [
           {
            "colorbar": {
             "outlinewidth": 0,
             "ticks": ""
            },
            "colorscale": [
             [
              0,
              "#0d0887"
             ],
             [
              0.1111111111111111,
              "#46039f"
             ],
             [
              0.2222222222222222,
              "#7201a8"
             ],
             [
              0.3333333333333333,
              "#9c179e"
             ],
             [
              0.4444444444444444,
              "#bd3786"
             ],
             [
              0.5555555555555556,
              "#d8576b"
             ],
             [
              0.6666666666666666,
              "#ed7953"
             ],
             [
              0.7777777777777778,
              "#fb9f3a"
             ],
             [
              0.8888888888888888,
              "#fdca26"
             ],
             [
              1,
              "#f0f921"
             ]
            ],
            "type": "contour"
           }
          ],
          "contourcarpet": [
           {
            "colorbar": {
             "outlinewidth": 0,
             "ticks": ""
            },
            "type": "contourcarpet"
           }
          ],
          "heatmap": [
           {
            "colorbar": {
             "outlinewidth": 0,
             "ticks": ""
            },
            "colorscale": [
             [
              0,
              "#0d0887"
             ],
             [
              0.1111111111111111,
              "#46039f"
             ],
             [
              0.2222222222222222,
              "#7201a8"
             ],
             [
              0.3333333333333333,
              "#9c179e"
             ],
             [
              0.4444444444444444,
              "#bd3786"
             ],
             [
              0.5555555555555556,
              "#d8576b"
             ],
             [
              0.6666666666666666,
              "#ed7953"
             ],
             [
              0.7777777777777778,
              "#fb9f3a"
             ],
             [
              0.8888888888888888,
              "#fdca26"
             ],
             [
              1,
              "#f0f921"
             ]
            ],
            "type": "heatmap"
           }
          ],
          "heatmapgl": [
           {
            "colorbar": {
             "outlinewidth": 0,
             "ticks": ""
            },
            "colorscale": [
             [
              0,
              "#0d0887"
             ],
             [
              0.1111111111111111,
              "#46039f"
             ],
             [
              0.2222222222222222,
              "#7201a8"
             ],
             [
              0.3333333333333333,
              "#9c179e"
             ],
             [
              0.4444444444444444,
              "#bd3786"
             ],
             [
              0.5555555555555556,
              "#d8576b"
             ],
             [
              0.6666666666666666,
              "#ed7953"
             ],
             [
              0.7777777777777778,
              "#fb9f3a"
             ],
             [
              0.8888888888888888,
              "#fdca26"
             ],
             [
              1,
              "#f0f921"
             ]
            ],
            "type": "heatmapgl"
           }
          ],
          "histogram": [
           {
            "marker": {
             "pattern": {
              "fillmode": "overlay",
              "size": 10,
              "solidity": 0.2
             }
            },
            "type": "histogram"
           }
          ],
          "histogram2d": [
           {
            "colorbar": {
             "outlinewidth": 0,
             "ticks": ""
            },
            "colorscale": [
             [
              0,
              "#0d0887"
             ],
             [
              0.1111111111111111,
              "#46039f"
             ],
             [
              0.2222222222222222,
              "#7201a8"
             ],
             [
              0.3333333333333333,
              "#9c179e"
             ],
             [
              0.4444444444444444,
              "#bd3786"
             ],
             [
              0.5555555555555556,
              "#d8576b"
             ],
             [
              0.6666666666666666,
              "#ed7953"
             ],
             [
              0.7777777777777778,
              "#fb9f3a"
             ],
             [
              0.8888888888888888,
              "#fdca26"
             ],
             [
              1,
              "#f0f921"
             ]
            ],
            "type": "histogram2d"
           }
          ],
          "histogram2dcontour": [
           {
            "colorbar": {
             "outlinewidth": 0,
             "ticks": ""
            },
            "colorscale": [
             [
              0,
              "#0d0887"
             ],
             [
              0.1111111111111111,
              "#46039f"
             ],
             [
              0.2222222222222222,
              "#7201a8"
             ],
             [
              0.3333333333333333,
              "#9c179e"
             ],
             [
              0.4444444444444444,
              "#bd3786"
             ],
             [
              0.5555555555555556,
              "#d8576b"
             ],
             [
              0.6666666666666666,
              "#ed7953"
             ],
             [
              0.7777777777777778,
              "#fb9f3a"
             ],
             [
              0.8888888888888888,
              "#fdca26"
             ],
             [
              1,
              "#f0f921"
             ]
            ],
            "type": "histogram2dcontour"
           }
          ],
          "mesh3d": [
           {
            "colorbar": {
             "outlinewidth": 0,
             "ticks": ""
            },
            "type": "mesh3d"
           }
          ],
          "parcoords": [
           {
            "line": {
             "colorbar": {
              "outlinewidth": 0,
              "ticks": ""
             }
            },
            "type": "parcoords"
           }
          ],
          "pie": [
           {
            "automargin": true,
            "type": "pie"
           }
          ],
          "scatter": [
           {
            "fillpattern": {
             "fillmode": "overlay",
             "size": 10,
             "solidity": 0.2
            },
            "type": "scatter"
           }
          ],
          "scatter3d": [
           {
            "line": {
             "colorbar": {
              "outlinewidth": 0,
              "ticks": ""
             }
            },
            "marker": {
             "colorbar": {
              "outlinewidth": 0,
              "ticks": ""
             }
            },
            "type": "scatter3d"
           }
          ],
          "scattercarpet": [
           {
            "marker": {
             "colorbar": {
              "outlinewidth": 0,
              "ticks": ""
             }
            },
            "type": "scattercarpet"
           }
          ],
          "scattergeo": [
           {
            "marker": {
             "colorbar": {
              "outlinewidth": 0,
              "ticks": ""
             }
            },
            "type": "scattergeo"
           }
          ],
          "scattergl": [
           {
            "marker": {
             "colorbar": {
              "outlinewidth": 0,
              "ticks": ""
             }
            },
            "type": "scattergl"
           }
          ],
          "scattermapbox": [
           {
            "marker": {
             "colorbar": {
              "outlinewidth": 0,
              "ticks": ""
             }
            },
            "type": "scattermapbox"
           }
          ],
          "scatterpolar": [
           {
            "marker": {
             "colorbar": {
              "outlinewidth": 0,
              "ticks": ""
             }
            },
            "type": "scatterpolar"
           }
          ],
          "scatterpolargl": [
           {
            "marker": {
             "colorbar": {
              "outlinewidth": 0,
              "ticks": ""
             }
            },
            "type": "scatterpolargl"
           }
          ],
          "scatterternary": [
           {
            "marker": {
             "colorbar": {
              "outlinewidth": 0,
              "ticks": ""
             }
            },
            "type": "scatterternary"
           }
          ],
          "surface": [
           {
            "colorbar": {
             "outlinewidth": 0,
             "ticks": ""
            },
            "colorscale": [
             [
              0,
              "#0d0887"
             ],
             [
              0.1111111111111111,
              "#46039f"
             ],
             [
              0.2222222222222222,
              "#7201a8"
             ],
             [
              0.3333333333333333,
              "#9c179e"
             ],
             [
              0.4444444444444444,
              "#bd3786"
             ],
             [
              0.5555555555555556,
              "#d8576b"
             ],
             [
              0.6666666666666666,
              "#ed7953"
             ],
             [
              0.7777777777777778,
              "#fb9f3a"
             ],
             [
              0.8888888888888888,
              "#fdca26"
             ],
             [
              1,
              "#f0f921"
             ]
            ],
            "type": "surface"
           }
          ],
          "table": [
           {
            "cells": {
             "fill": {
              "color": "#EBF0F8"
             },
             "line": {
              "color": "white"
             }
            },
            "header": {
             "fill": {
              "color": "#C8D4E3"
             },
             "line": {
              "color": "white"
             }
            },
            "type": "table"
           }
          ]
         },
         "layout": {
          "annotationdefaults": {
           "arrowcolor": "#2a3f5f",
           "arrowhead": 0,
           "arrowwidth": 1
          },
          "autotypenumbers": "strict",
          "coloraxis": {
           "colorbar": {
            "outlinewidth": 0,
            "ticks": ""
           }
          },
          "colorscale": {
           "diverging": [
            [
             0,
             "#8e0152"
            ],
            [
             0.1,
             "#c51b7d"
            ],
            [
             0.2,
             "#de77ae"
            ],
            [
             0.3,
             "#f1b6da"
            ],
            [
             0.4,
             "#fde0ef"
            ],
            [
             0.5,
             "#f7f7f7"
            ],
            [
             0.6,
             "#e6f5d0"
            ],
            [
             0.7,
             "#b8e186"
            ],
            [
             0.8,
             "#7fbc41"
            ],
            [
             0.9,
             "#4d9221"
            ],
            [
             1,
             "#276419"
            ]
           ],
           "sequential": [
            [
             0,
             "#0d0887"
            ],
            [
             0.1111111111111111,
             "#46039f"
            ],
            [
             0.2222222222222222,
             "#7201a8"
            ],
            [
             0.3333333333333333,
             "#9c179e"
            ],
            [
             0.4444444444444444,
             "#bd3786"
            ],
            [
             0.5555555555555556,
             "#d8576b"
            ],
            [
             0.6666666666666666,
             "#ed7953"
            ],
            [
             0.7777777777777778,
             "#fb9f3a"
            ],
            [
             0.8888888888888888,
             "#fdca26"
            ],
            [
             1,
             "#f0f921"
            ]
           ],
           "sequentialminus": [
            [
             0,
             "#0d0887"
            ],
            [
             0.1111111111111111,
             "#46039f"
            ],
            [
             0.2222222222222222,
             "#7201a8"
            ],
            [
             0.3333333333333333,
             "#9c179e"
            ],
            [
             0.4444444444444444,
             "#bd3786"
            ],
            [
             0.5555555555555556,
             "#d8576b"
            ],
            [
             0.6666666666666666,
             "#ed7953"
            ],
            [
             0.7777777777777778,
             "#fb9f3a"
            ],
            [
             0.8888888888888888,
             "#fdca26"
            ],
            [
             1,
             "#f0f921"
            ]
           ]
          },
          "colorway": [
           "#636efa",
           "#EF553B",
           "#00cc96",
           "#ab63fa",
           "#FFA15A",
           "#19d3f3",
           "#FF6692",
           "#B6E880",
           "#FF97FF",
           "#FECB52"
          ],
          "font": {
           "color": "#2a3f5f"
          },
          "geo": {
           "bgcolor": "white",
           "lakecolor": "white",
           "landcolor": "#E5ECF6",
           "showlakes": true,
           "showland": true,
           "subunitcolor": "white"
          },
          "hoverlabel": {
           "align": "left"
          },
          "hovermode": "closest",
          "mapbox": {
           "style": "light"
          },
          "paper_bgcolor": "white",
          "plot_bgcolor": "#E5ECF6",
          "polar": {
           "angularaxis": {
            "gridcolor": "white",
            "linecolor": "white",
            "ticks": ""
           },
           "bgcolor": "#E5ECF6",
           "radialaxis": {
            "gridcolor": "white",
            "linecolor": "white",
            "ticks": ""
           }
          },
          "scene": {
           "xaxis": {
            "backgroundcolor": "#E5ECF6",
            "gridcolor": "white",
            "gridwidth": 2,
            "linecolor": "white",
            "showbackground": true,
            "ticks": "",
            "zerolinecolor": "white"
           },
           "yaxis": {
            "backgroundcolor": "#E5ECF6",
            "gridcolor": "white",
            "gridwidth": 2,
            "linecolor": "white",
            "showbackground": true,
            "ticks": "",
            "zerolinecolor": "white"
           },
           "zaxis": {
            "backgroundcolor": "#E5ECF6",
            "gridcolor": "white",
            "gridwidth": 2,
            "linecolor": "white",
            "showbackground": true,
            "ticks": "",
            "zerolinecolor": "white"
           }
          },
          "shapedefaults": {
           "line": {
            "color": "#2a3f5f"
           }
          },
          "ternary": {
           "aaxis": {
            "gridcolor": "white",
            "linecolor": "white",
            "ticks": ""
           },
           "baxis": {
            "gridcolor": "white",
            "linecolor": "white",
            "ticks": ""
           },
           "bgcolor": "#E5ECF6",
           "caxis": {
            "gridcolor": "white",
            "linecolor": "white",
            "ticks": ""
           }
          },
          "title": {
           "x": 0.05
          },
          "xaxis": {
           "automargin": true,
           "gridcolor": "white",
           "linecolor": "white",
           "ticks": "",
           "title": {
            "standoff": 15
           },
           "zerolinecolor": "white",
           "zerolinewidth": 2
          },
          "yaxis": {
           "automargin": true,
           "gridcolor": "white",
           "linecolor": "white",
           "ticks": "",
           "title": {
            "standoff": 15
           },
           "zerolinecolor": "white",
           "zerolinewidth": 2
          }
         }
        },
        "title": {
         "text": "Średnia liczba recenzji na tag (z kategorią \"Other\")"
        }
       }
      }
     },
     "metadata": {},
     "output_type": "display_data"
    }
   ],
   "source": [
    "def prepare_avg_reviews_per_tag(df, top_n=20):\n",
    "    # Zliczanie liczby recenzji na tag i liczby gier\n",
    "    tags = df['Tagi'].apply(lambda x: x.split(', '))\n",
    "    tag_reviews = Counter()\n",
    "    tag_counts = Counter()\n",
    "\n",
    "    for idx, tag_list in enumerate(tags):\n",
    "        for tag in tag_list:\n",
    "            tag_reviews[tag] += df.iloc[idx]['Liczba recenzji']\n",
    "            tag_counts[tag] += 1\n",
    "\n",
    "    # Obliczanie średniej liczby recenzji na tag\n",
    "    avg_reviews = {tag: tag_reviews[tag] / tag_counts[tag] for tag in tag_reviews}\n",
    "\n",
    "    # Przygotowanie danych: top N tagów i kategoria \"Other\"\n",
    "    sorted_avg_reviews = sorted(avg_reviews.items(), key=lambda x: x[1], reverse=True)\n",
    "    top_tags = sorted_avg_reviews[:top_n]\n",
    "    other_count = sum(tag_counts[tag] for tag, _ in sorted_avg_reviews[top_n:])\n",
    "\n",
    "    # Przygotowanie DataFrame\n",
    "    pie_data = pd.DataFrame(top_tags, columns=['Tag', 'Average Reviews'])\n",
    "    if other_count > 0:\n",
    "        other_row = pd.DataFrame([{'Tag': 'Other', 'Average Reviews': other_count}])\n",
    "        pie_data = pd.concat([pie_data, other_row], ignore_index=True)\n",
    "    \n",
    "    return pie_data\n",
    "\n",
    "# Przygotowanie danych do wykresu\n",
    "avg_reviews_per_tag_data = prepare_avg_reviews_per_tag(df)\n",
    "\n",
    "# Wizualizacja\n",
    "fig = px.pie(avg_reviews_per_tag_data, names='Tag', values='Average Reviews',\n",
    "             title='Średnia liczba recenzji na tag (z kategorią \"Other\")',\n",
    "             color_discrete_sequence=px.colors.qualitative.Pastel)\n",
    "fig.show()\n"
   ]
  },
  {
   "cell_type": "code",
   "execution_count": 52,
   "metadata": {},
   "outputs": [
    {
     "data": {
      "application/vnd.plotly.v1+json": {
       "config": {
        "plotlyServerURL": "https://plot.ly"
       },
       "data": [
        {
         "alignmentgroup": "True",
         "bingroup": "x",
         "hovertemplate": "Cena=%{x}<br>count=%{y}<extra></extra>",
         "legendgroup": "",
         "marker": {
          "color": "#636efa",
          "pattern": {
           "shape": ""
          }
         },
         "name": "",
         "nbinsx": 20,
         "offsetgroup": "",
         "orientation": "v",
         "showlegend": false,
         "type": "histogram",
         "x": [
          0,
          45.86,
          42.25,
          10.79,
          169,
          45.86,
          199,
          46.24,
          55.49,
          157.49,
          0,
          45.99,
          15.99,
          0,
          13.89,
          111.99,
          229.99,
          161.99,
          64.49,
          164.99,
          0,
          55.99,
          71.99,
          124.79,
          75.59,
          72.59,
          35.63,
          26.56,
          22.99,
          91.99,
          35.74,
          86.34,
          69.99,
          199.99,
          31.75,
          63.99,
          84.99,
          49.75,
          13.79,
          9.19,
          20.39,
          0,
          169.9,
          0,
          59.99,
          0,
          15.6,
          111.3,
          107.99,
          269.9,
          0,
          72.99,
          49.99,
          0,
          80.49,
          75,
          83.39,
          39.97,
          0,
          43.19,
          59.99,
          61.19,
          0,
          19.01,
          59.6,
          58.49,
          138.99,
          0,
          45.99,
          19.99,
          29.99,
          118.14,
          29.99,
          37.48,
          73.59,
          91.99,
          79,
          71.99,
          67.6,
          35.98,
          13.99,
          24.75,
          274.99,
          12.6,
          118.3,
          138.99,
          55.19,
          0,
          59.99,
          8.99,
          79.99,
          45.99,
          0,
          45.99,
          231.99,
          48.59,
          114.99,
          31.99,
          159.9,
          0,
          55.19,
          0,
          35.8,
          219,
          185.59,
          12.6,
          70.39,
          138.99,
          94.99,
          99,
          119.9,
          29.97,
          138.99,
          32.39,
          64.99,
          107.46,
          138.99,
          105.63,
          45.99,
          219,
          21.59,
          82.99,
          161.99,
          161.99,
          21.24,
          44.99,
          114.99,
          45.99,
          68.64,
          0,
          69.9,
          89.99,
          31.99,
          114.99,
          0,
          45.99,
          35.6,
          299,
          44.99,
          0,
          27.59,
          45.99,
          50,
          289.9,
          32.24,
          0,
          14.29,
          7.99,
          184.99,
          78.99,
          71.99,
          124,
          69.9,
          54.99,
          122.99,
          62.99,
          79.99,
          89.99,
          35.99,
          59,
          43.19,
          114.99,
          114.99,
          0,
          7.49,
          71.99,
          59.99,
          149.99,
          17.99,
          67.99,
          109,
          0,
          92.79,
          71.99,
          34.99,
          79.9,
          27.99,
          24.99,
          69.3,
          68.99,
          95,
          91.99,
          231.99,
          39.99,
          10.79,
          21.59,
          91.99,
          35.99,
          72.99,
          89.9,
          44.99,
          91.99,
          91.99,
          39.99,
          71.49,
          67.52,
          71.2,
          88.49,
          89.99,
          9.99,
          0,
          22,
          74.99,
          43.99,
          67.99,
          67.99,
          138.99,
          79.99,
          33.99,
          91.99,
          73.59,
          59.99,
          107.99,
          73.59,
          73.59,
          35.74,
          17.81,
          49.99,
          69.49,
          34.68,
          259,
          45.99,
          91.99,
          68.7,
          254.8,
          184.99,
          64.39,
          99,
          99,
          249,
          58.17,
          214.99,
          64.99,
          259,
          71.99,
          171.9,
          219,
          35.99,
          6.89,
          0,
          17.99,
          21.12,
          114.99,
          39.99,
          42,
          254.8,
          45.99,
          115,
          45.99,
          184.99,
          14.66,
          44.99,
          55.59,
          19.99,
          54.39,
          7.19,
          53.99,
          26.99,
          127.38,
          74.24,
          46.99,
          14.75,
          13.74,
          9.59,
          28.74,
          99.99,
          39.99,
          49.17,
          47.99,
          189.9,
          179,
          35.99,
          64.5,
          35.59,
          100,
          0,
          184.99,
          25.34,
          0,
          35.99,
          35.99,
          26.99,
          21.59,
          34.99,
          50.99,
          84.5,
          159.9,
          65.99,
          19.97,
          42.99,
          161.99,
          161.99,
          39.9,
          40.47,
          29.99,
          69.99,
          77.99,
          100,
          100,
          100,
          34.99,
          138.99,
          114.99,
          138.99,
          34.74,
          138.74,
          45.99,
          33.99,
          114.99,
          22.99,
          11.59,
          21.99,
          71.99,
          71.99,
          85.9,
          109.95,
          31.49,
          33.99,
          35.99,
          124.99,
          124.5,
          30.9,
          9.19,
          39.99,
          119,
          41.69,
          118.14,
          16.56,
          63.24,
          114.99,
          114.99,
          27.99,
          24.06,
          27.5,
          0,
          107.99,
          59.99,
          26.7,
          36.79,
          89.99,
          29.39,
          0,
          105.79,
          104.99,
          100,
          20.74,
          100,
          4.59,
          34.75,
          0,
          22.99,
          24.9,
          25.44,
          21.59,
          24.75,
          91.99,
          8.99,
          100,
          0,
          91.99,
          32.39,
          16.56,
          23.39,
          28.99,
          71.99,
          7.19,
          7.19,
          17.99,
          20.74,
          31,
          17.81,
          91.99,
          91.99,
          91.99,
          91.99,
          91.99,
          91.99,
          89.99,
          107.99,
          86.24,
          44.19,
          86.42,
          89.99,
          89.99,
          89.99,
          89.9,
          85.9,
          6.49,
          31.24,
          84.48,
          119.9,
          80,
          82.99,
          8.99,
          229,
          17.24,
          80.99,
          39.97,
          13.67,
          119,
          14.99,
          0,
          18.49,
          0,
          21.99,
          71.99,
          249,
          8.59,
          69.9,
          22.99,
          4.99,
          21.12,
          16.59,
          69.49,
          67.99,
          67.99,
          16.09,
          67.99,
          67.99,
          13.49,
          67.49,
          73.59,
          82.79,
          53.99,
          10.79,
          63.99,
          149.99,
          10.99,
          8.09,
          3.59,
          67.99,
          59.99,
          59.99,
          29.99,
          48.78,
          199.99,
          58.49,
          37.79,
          11.59,
          22.99,
          55.93,
          10.99,
          55.19,
          54.99,
          13.59,
          54.39,
          54.39,
          53.99,
          53.99,
          53.99,
          53.99,
          79.99,
          12,
          49.59,
          24.41,
          23.99,
          46.99,
          46.8,
          10.79,
          45.99,
          114.99,
          45.99,
          45.99,
          11.49,
          8.69,
          45.99,
          49.99,
          7.49,
          36.99,
          43.99,
          43.99,
          43.99,
          43.99,
          41.4,
          47.59,
          32.19,
          44.99,
          209.99,
          68.99,
          13.49,
          35.99,
          23.99,
          36.99,
          19.99,
          18.39,
          8.99,
          107.99,
          39.99,
          35.99,
          36.99,
          29.99,
          35.99,
          5.24,
          6.99,
          3.84,
          6.89,
          2.24,
          37.99,
          25.19,
          138.99,
          36.99,
          36.99,
          28.79,
          31.99,
          22.99,
          6.99,
          32.39,
          0,
          26.99,
          3.59,
          27.99,
          27.5,
          0,
          20.99,
          4.49,
          27.19,
          10.19,
          24.99,
          13.79,
          19.99,
          7.91,
          6.99,
          18.39,
          17.77,
          289.9,
          21.59,
          10.79,
          24.99,
          24.99,
          13.49,
          44.99,
          44.99,
          18.99,
          18.74,
          35.99,
          18.39,
          22.99,
          14.49,
          5.74,
          11.69,
          11.49,
          3.59,
          17.99,
          4.49,
          17.99,
          46.99,
          17.99,
          9.19,
          0,
          2.24,
          17.24,
          5.24,
          15,
          10.99,
          8.99,
          0,
          3.49,
          14.99,
          13.49,
          14.39,
          4.99,
          0,
          4.49,
          10.11,
          13.75,
          3.49,
          13.49,
          2.24,
          2.24,
          2.24,
          0,
          5.39,
          5.99,
          10.79,
          10.79,
          11.74,
          2.69,
          8.98,
          2.89,
          10.99,
          10.79,
          4.49,
          3.59,
          4.59,
          2.24,
          2.24,
          9.99,
          8.99,
          3.59,
          10.99,
          8.99,
          2.24,
          8.99,
          10.49,
          8.99,
          8.99,
          0
         ],
         "xaxis": "x",
         "yaxis": "y"
        }
       ],
       "layout": {
        "barmode": "relative",
        "legend": {
         "tracegroupgap": 0
        },
        "template": {
         "data": {
          "bar": [
           {
            "error_x": {
             "color": "#2a3f5f"
            },
            "error_y": {
             "color": "#2a3f5f"
            },
            "marker": {
             "line": {
              "color": "#E5ECF6",
              "width": 0.5
             },
             "pattern": {
              "fillmode": "overlay",
              "size": 10,
              "solidity": 0.2
             }
            },
            "type": "bar"
           }
          ],
          "barpolar": [
           {
            "marker": {
             "line": {
              "color": "#E5ECF6",
              "width": 0.5
             },
             "pattern": {
              "fillmode": "overlay",
              "size": 10,
              "solidity": 0.2
             }
            },
            "type": "barpolar"
           }
          ],
          "carpet": [
           {
            "aaxis": {
             "endlinecolor": "#2a3f5f",
             "gridcolor": "white",
             "linecolor": "white",
             "minorgridcolor": "white",
             "startlinecolor": "#2a3f5f"
            },
            "baxis": {
             "endlinecolor": "#2a3f5f",
             "gridcolor": "white",
             "linecolor": "white",
             "minorgridcolor": "white",
             "startlinecolor": "#2a3f5f"
            },
            "type": "carpet"
           }
          ],
          "choropleth": [
           {
            "colorbar": {
             "outlinewidth": 0,
             "ticks": ""
            },
            "type": "choropleth"
           }
          ],
          "contour": [
           {
            "colorbar": {
             "outlinewidth": 0,
             "ticks": ""
            },
            "colorscale": [
             [
              0,
              "#0d0887"
             ],
             [
              0.1111111111111111,
              "#46039f"
             ],
             [
              0.2222222222222222,
              "#7201a8"
             ],
             [
              0.3333333333333333,
              "#9c179e"
             ],
             [
              0.4444444444444444,
              "#bd3786"
             ],
             [
              0.5555555555555556,
              "#d8576b"
             ],
             [
              0.6666666666666666,
              "#ed7953"
             ],
             [
              0.7777777777777778,
              "#fb9f3a"
             ],
             [
              0.8888888888888888,
              "#fdca26"
             ],
             [
              1,
              "#f0f921"
             ]
            ],
            "type": "contour"
           }
          ],
          "contourcarpet": [
           {
            "colorbar": {
             "outlinewidth": 0,
             "ticks": ""
            },
            "type": "contourcarpet"
           }
          ],
          "heatmap": [
           {
            "colorbar": {
             "outlinewidth": 0,
             "ticks": ""
            },
            "colorscale": [
             [
              0,
              "#0d0887"
             ],
             [
              0.1111111111111111,
              "#46039f"
             ],
             [
              0.2222222222222222,
              "#7201a8"
             ],
             [
              0.3333333333333333,
              "#9c179e"
             ],
             [
              0.4444444444444444,
              "#bd3786"
             ],
             [
              0.5555555555555556,
              "#d8576b"
             ],
             [
              0.6666666666666666,
              "#ed7953"
             ],
             [
              0.7777777777777778,
              "#fb9f3a"
             ],
             [
              0.8888888888888888,
              "#fdca26"
             ],
             [
              1,
              "#f0f921"
             ]
            ],
            "type": "heatmap"
           }
          ],
          "heatmapgl": [
           {
            "colorbar": {
             "outlinewidth": 0,
             "ticks": ""
            },
            "colorscale": [
             [
              0,
              "#0d0887"
             ],
             [
              0.1111111111111111,
              "#46039f"
             ],
             [
              0.2222222222222222,
              "#7201a8"
             ],
             [
              0.3333333333333333,
              "#9c179e"
             ],
             [
              0.4444444444444444,
              "#bd3786"
             ],
             [
              0.5555555555555556,
              "#d8576b"
             ],
             [
              0.6666666666666666,
              "#ed7953"
             ],
             [
              0.7777777777777778,
              "#fb9f3a"
             ],
             [
              0.8888888888888888,
              "#fdca26"
             ],
             [
              1,
              "#f0f921"
             ]
            ],
            "type": "heatmapgl"
           }
          ],
          "histogram": [
           {
            "marker": {
             "pattern": {
              "fillmode": "overlay",
              "size": 10,
              "solidity": 0.2
             }
            },
            "type": "histogram"
           }
          ],
          "histogram2d": [
           {
            "colorbar": {
             "outlinewidth": 0,
             "ticks": ""
            },
            "colorscale": [
             [
              0,
              "#0d0887"
             ],
             [
              0.1111111111111111,
              "#46039f"
             ],
             [
              0.2222222222222222,
              "#7201a8"
             ],
             [
              0.3333333333333333,
              "#9c179e"
             ],
             [
              0.4444444444444444,
              "#bd3786"
             ],
             [
              0.5555555555555556,
              "#d8576b"
             ],
             [
              0.6666666666666666,
              "#ed7953"
             ],
             [
              0.7777777777777778,
              "#fb9f3a"
             ],
             [
              0.8888888888888888,
              "#fdca26"
             ],
             [
              1,
              "#f0f921"
             ]
            ],
            "type": "histogram2d"
           }
          ],
          "histogram2dcontour": [
           {
            "colorbar": {
             "outlinewidth": 0,
             "ticks": ""
            },
            "colorscale": [
             [
              0,
              "#0d0887"
             ],
             [
              0.1111111111111111,
              "#46039f"
             ],
             [
              0.2222222222222222,
              "#7201a8"
             ],
             [
              0.3333333333333333,
              "#9c179e"
             ],
             [
              0.4444444444444444,
              "#bd3786"
             ],
             [
              0.5555555555555556,
              "#d8576b"
             ],
             [
              0.6666666666666666,
              "#ed7953"
             ],
             [
              0.7777777777777778,
              "#fb9f3a"
             ],
             [
              0.8888888888888888,
              "#fdca26"
             ],
             [
              1,
              "#f0f921"
             ]
            ],
            "type": "histogram2dcontour"
           }
          ],
          "mesh3d": [
           {
            "colorbar": {
             "outlinewidth": 0,
             "ticks": ""
            },
            "type": "mesh3d"
           }
          ],
          "parcoords": [
           {
            "line": {
             "colorbar": {
              "outlinewidth": 0,
              "ticks": ""
             }
            },
            "type": "parcoords"
           }
          ],
          "pie": [
           {
            "automargin": true,
            "type": "pie"
           }
          ],
          "scatter": [
           {
            "fillpattern": {
             "fillmode": "overlay",
             "size": 10,
             "solidity": 0.2
            },
            "type": "scatter"
           }
          ],
          "scatter3d": [
           {
            "line": {
             "colorbar": {
              "outlinewidth": 0,
              "ticks": ""
             }
            },
            "marker": {
             "colorbar": {
              "outlinewidth": 0,
              "ticks": ""
             }
            },
            "type": "scatter3d"
           }
          ],
          "scattercarpet": [
           {
            "marker": {
             "colorbar": {
              "outlinewidth": 0,
              "ticks": ""
             }
            },
            "type": "scattercarpet"
           }
          ],
          "scattergeo": [
           {
            "marker": {
             "colorbar": {
              "outlinewidth": 0,
              "ticks": ""
             }
            },
            "type": "scattergeo"
           }
          ],
          "scattergl": [
           {
            "marker": {
             "colorbar": {
              "outlinewidth": 0,
              "ticks": ""
             }
            },
            "type": "scattergl"
           }
          ],
          "scattermapbox": [
           {
            "marker": {
             "colorbar": {
              "outlinewidth": 0,
              "ticks": ""
             }
            },
            "type": "scattermapbox"
           }
          ],
          "scatterpolar": [
           {
            "marker": {
             "colorbar": {
              "outlinewidth": 0,
              "ticks": ""
             }
            },
            "type": "scatterpolar"
           }
          ],
          "scatterpolargl": [
           {
            "marker": {
             "colorbar": {
              "outlinewidth": 0,
              "ticks": ""
             }
            },
            "type": "scatterpolargl"
           }
          ],
          "scatterternary": [
           {
            "marker": {
             "colorbar": {
              "outlinewidth": 0,
              "ticks": ""
             }
            },
            "type": "scatterternary"
           }
          ],
          "surface": [
           {
            "colorbar": {
             "outlinewidth": 0,
             "ticks": ""
            },
            "colorscale": [
             [
              0,
              "#0d0887"
             ],
             [
              0.1111111111111111,
              "#46039f"
             ],
             [
              0.2222222222222222,
              "#7201a8"
             ],
             [
              0.3333333333333333,
              "#9c179e"
             ],
             [
              0.4444444444444444,
              "#bd3786"
             ],
             [
              0.5555555555555556,
              "#d8576b"
             ],
             [
              0.6666666666666666,
              "#ed7953"
             ],
             [
              0.7777777777777778,
              "#fb9f3a"
             ],
             [
              0.8888888888888888,
              "#fdca26"
             ],
             [
              1,
              "#f0f921"
             ]
            ],
            "type": "surface"
           }
          ],
          "table": [
           {
            "cells": {
             "fill": {
              "color": "#EBF0F8"
             },
             "line": {
              "color": "white"
             }
            },
            "header": {
             "fill": {
              "color": "#C8D4E3"
             },
             "line": {
              "color": "white"
             }
            },
            "type": "table"
           }
          ]
         },
         "layout": {
          "annotationdefaults": {
           "arrowcolor": "#2a3f5f",
           "arrowhead": 0,
           "arrowwidth": 1
          },
          "autotypenumbers": "strict",
          "coloraxis": {
           "colorbar": {
            "outlinewidth": 0,
            "ticks": ""
           }
          },
          "colorscale": {
           "diverging": [
            [
             0,
             "#8e0152"
            ],
            [
             0.1,
             "#c51b7d"
            ],
            [
             0.2,
             "#de77ae"
            ],
            [
             0.3,
             "#f1b6da"
            ],
            [
             0.4,
             "#fde0ef"
            ],
            [
             0.5,
             "#f7f7f7"
            ],
            [
             0.6,
             "#e6f5d0"
            ],
            [
             0.7,
             "#b8e186"
            ],
            [
             0.8,
             "#7fbc41"
            ],
            [
             0.9,
             "#4d9221"
            ],
            [
             1,
             "#276419"
            ]
           ],
           "sequential": [
            [
             0,
             "#0d0887"
            ],
            [
             0.1111111111111111,
             "#46039f"
            ],
            [
             0.2222222222222222,
             "#7201a8"
            ],
            [
             0.3333333333333333,
             "#9c179e"
            ],
            [
             0.4444444444444444,
             "#bd3786"
            ],
            [
             0.5555555555555556,
             "#d8576b"
            ],
            [
             0.6666666666666666,
             "#ed7953"
            ],
            [
             0.7777777777777778,
             "#fb9f3a"
            ],
            [
             0.8888888888888888,
             "#fdca26"
            ],
            [
             1,
             "#f0f921"
            ]
           ],
           "sequentialminus": [
            [
             0,
             "#0d0887"
            ],
            [
             0.1111111111111111,
             "#46039f"
            ],
            [
             0.2222222222222222,
             "#7201a8"
            ],
            [
             0.3333333333333333,
             "#9c179e"
            ],
            [
             0.4444444444444444,
             "#bd3786"
            ],
            [
             0.5555555555555556,
             "#d8576b"
            ],
            [
             0.6666666666666666,
             "#ed7953"
            ],
            [
             0.7777777777777778,
             "#fb9f3a"
            ],
            [
             0.8888888888888888,
             "#fdca26"
            ],
            [
             1,
             "#f0f921"
            ]
           ]
          },
          "colorway": [
           "#636efa",
           "#EF553B",
           "#00cc96",
           "#ab63fa",
           "#FFA15A",
           "#19d3f3",
           "#FF6692",
           "#B6E880",
           "#FF97FF",
           "#FECB52"
          ],
          "font": {
           "color": "#2a3f5f"
          },
          "geo": {
           "bgcolor": "white",
           "lakecolor": "white",
           "landcolor": "#E5ECF6",
           "showlakes": true,
           "showland": true,
           "subunitcolor": "white"
          },
          "hoverlabel": {
           "align": "left"
          },
          "hovermode": "closest",
          "mapbox": {
           "style": "light"
          },
          "paper_bgcolor": "white",
          "plot_bgcolor": "#E5ECF6",
          "polar": {
           "angularaxis": {
            "gridcolor": "white",
            "linecolor": "white",
            "ticks": ""
           },
           "bgcolor": "#E5ECF6",
           "radialaxis": {
            "gridcolor": "white",
            "linecolor": "white",
            "ticks": ""
           }
          },
          "scene": {
           "xaxis": {
            "backgroundcolor": "#E5ECF6",
            "gridcolor": "white",
            "gridwidth": 2,
            "linecolor": "white",
            "showbackground": true,
            "ticks": "",
            "zerolinecolor": "white"
           },
           "yaxis": {
            "backgroundcolor": "#E5ECF6",
            "gridcolor": "white",
            "gridwidth": 2,
            "linecolor": "white",
            "showbackground": true,
            "ticks": "",
            "zerolinecolor": "white"
           },
           "zaxis": {
            "backgroundcolor": "#E5ECF6",
            "gridcolor": "white",
            "gridwidth": 2,
            "linecolor": "white",
            "showbackground": true,
            "ticks": "",
            "zerolinecolor": "white"
           }
          },
          "shapedefaults": {
           "line": {
            "color": "#2a3f5f"
           }
          },
          "ternary": {
           "aaxis": {
            "gridcolor": "white",
            "linecolor": "white",
            "ticks": ""
           },
           "baxis": {
            "gridcolor": "white",
            "linecolor": "white",
            "ticks": ""
           },
           "bgcolor": "#E5ECF6",
           "caxis": {
            "gridcolor": "white",
            "linecolor": "white",
            "ticks": ""
           }
          },
          "title": {
           "x": 0.05
          },
          "xaxis": {
           "automargin": true,
           "gridcolor": "white",
           "linecolor": "white",
           "ticks": "",
           "title": {
            "standoff": 15
           },
           "zerolinecolor": "white",
           "zerolinewidth": 2
          },
          "yaxis": {
           "automargin": true,
           "gridcolor": "white",
           "linecolor": "white",
           "ticks": "",
           "title": {
            "standoff": 15
           },
           "zerolinecolor": "white",
           "zerolinewidth": 2
          }
         }
        },
        "title": {
         "text": "Rozkład cen gier"
        },
        "xaxis": {
         "anchor": "y",
         "domain": [
          0,
          1
         ],
         "title": {
          "text": "Cena"
         }
        },
        "yaxis": {
         "anchor": "x",
         "domain": [
          0,
          1
         ],
         "title": {
          "text": "Liczba gier"
         }
        }
       }
      }
     },
     "metadata": {},
     "output_type": "display_data"
    }
   ],
   "source": [
    "import plotly.express as px\n",
    "\n",
    "fig = px.histogram(df, x='Cena', nbins=20, title='Rozkład cen gier')\n",
    "fig.update_layout(xaxis_title='Cena', yaxis_title='Liczba gier')\n",
    "fig.show()\n"
   ]
  },
  {
   "cell_type": "code",
   "execution_count": 81,
   "metadata": {},
   "outputs": [
    {
     "data": {
      "application/vnd.plotly.v1+json": {
       "config": {
        "plotlyServerURL": "https://plot.ly"
       },
       "data": [
        {
         "alignmentgroup": "True",
         "hovertemplate": "Tag=%{x}<br>Count=%{y}<extra></extra>",
         "legendgroup": "",
         "marker": {
          "color": "#636efa",
          "pattern": {
           "shape": ""
          }
         },
         "name": "",
         "offsetgroup": "",
         "orientation": "v",
         "showlegend": false,
         "textposition": "auto",
         "type": "bar",
         "x": [
          "Akcja",
          "Strategiczne",
          "Science fiction",
          "Przygodowe",
          "Jednoosobowe",
          "Wieloosobowe",
          "FPS",
          "Otwarty świat",
          "Strzelanka",
          "Kosmos",
          "Bogata fabuła",
          "Survival",
          "RPG",
          "RTS",
          "Niezależne",
          "Symulatory",
          "Eksploracja",
          "Budowanie bazy",
          "Postapokaliptyczne",
          "Kooperacja"
         ],
         "xaxis": "x",
         "y": [
          159,
          129,
          95,
          88,
          80,
          78,
          75,
          71,
          65,
          63,
          60,
          60,
          59,
          58,
          57,
          51,
          50,
          43,
          40,
          37
         ],
         "yaxis": "y"
        }
       ],
       "layout": {
        "barmode": "relative",
        "legend": {
         "tracegroupgap": 0
        },
        "template": {
         "data": {
          "bar": [
           {
            "error_x": {
             "color": "#2a3f5f"
            },
            "error_y": {
             "color": "#2a3f5f"
            },
            "marker": {
             "line": {
              "color": "#E5ECF6",
              "width": 0.5
             },
             "pattern": {
              "fillmode": "overlay",
              "size": 10,
              "solidity": 0.2
             }
            },
            "type": "bar"
           }
          ],
          "barpolar": [
           {
            "marker": {
             "line": {
              "color": "#E5ECF6",
              "width": 0.5
             },
             "pattern": {
              "fillmode": "overlay",
              "size": 10,
              "solidity": 0.2
             }
            },
            "type": "barpolar"
           }
          ],
          "carpet": [
           {
            "aaxis": {
             "endlinecolor": "#2a3f5f",
             "gridcolor": "white",
             "linecolor": "white",
             "minorgridcolor": "white",
             "startlinecolor": "#2a3f5f"
            },
            "baxis": {
             "endlinecolor": "#2a3f5f",
             "gridcolor": "white",
             "linecolor": "white",
             "minorgridcolor": "white",
             "startlinecolor": "#2a3f5f"
            },
            "type": "carpet"
           }
          ],
          "choropleth": [
           {
            "colorbar": {
             "outlinewidth": 0,
             "ticks": ""
            },
            "type": "choropleth"
           }
          ],
          "contour": [
           {
            "colorbar": {
             "outlinewidth": 0,
             "ticks": ""
            },
            "colorscale": [
             [
              0,
              "#0d0887"
             ],
             [
              0.1111111111111111,
              "#46039f"
             ],
             [
              0.2222222222222222,
              "#7201a8"
             ],
             [
              0.3333333333333333,
              "#9c179e"
             ],
             [
              0.4444444444444444,
              "#bd3786"
             ],
             [
              0.5555555555555556,
              "#d8576b"
             ],
             [
              0.6666666666666666,
              "#ed7953"
             ],
             [
              0.7777777777777778,
              "#fb9f3a"
             ],
             [
              0.8888888888888888,
              "#fdca26"
             ],
             [
              1,
              "#f0f921"
             ]
            ],
            "type": "contour"
           }
          ],
          "contourcarpet": [
           {
            "colorbar": {
             "outlinewidth": 0,
             "ticks": ""
            },
            "type": "contourcarpet"
           }
          ],
          "heatmap": [
           {
            "colorbar": {
             "outlinewidth": 0,
             "ticks": ""
            },
            "colorscale": [
             [
              0,
              "#0d0887"
             ],
             [
              0.1111111111111111,
              "#46039f"
             ],
             [
              0.2222222222222222,
              "#7201a8"
             ],
             [
              0.3333333333333333,
              "#9c179e"
             ],
             [
              0.4444444444444444,
              "#bd3786"
             ],
             [
              0.5555555555555556,
              "#d8576b"
             ],
             [
              0.6666666666666666,
              "#ed7953"
             ],
             [
              0.7777777777777778,
              "#fb9f3a"
             ],
             [
              0.8888888888888888,
              "#fdca26"
             ],
             [
              1,
              "#f0f921"
             ]
            ],
            "type": "heatmap"
           }
          ],
          "heatmapgl": [
           {
            "colorbar": {
             "outlinewidth": 0,
             "ticks": ""
            },
            "colorscale": [
             [
              0,
              "#0d0887"
             ],
             [
              0.1111111111111111,
              "#46039f"
             ],
             [
              0.2222222222222222,
              "#7201a8"
             ],
             [
              0.3333333333333333,
              "#9c179e"
             ],
             [
              0.4444444444444444,
              "#bd3786"
             ],
             [
              0.5555555555555556,
              "#d8576b"
             ],
             [
              0.6666666666666666,
              "#ed7953"
             ],
             [
              0.7777777777777778,
              "#fb9f3a"
             ],
             [
              0.8888888888888888,
              "#fdca26"
             ],
             [
              1,
              "#f0f921"
             ]
            ],
            "type": "heatmapgl"
           }
          ],
          "histogram": [
           {
            "marker": {
             "pattern": {
              "fillmode": "overlay",
              "size": 10,
              "solidity": 0.2
             }
            },
            "type": "histogram"
           }
          ],
          "histogram2d": [
           {
            "colorbar": {
             "outlinewidth": 0,
             "ticks": ""
            },
            "colorscale": [
             [
              0,
              "#0d0887"
             ],
             [
              0.1111111111111111,
              "#46039f"
             ],
             [
              0.2222222222222222,
              "#7201a8"
             ],
             [
              0.3333333333333333,
              "#9c179e"
             ],
             [
              0.4444444444444444,
              "#bd3786"
             ],
             [
              0.5555555555555556,
              "#d8576b"
             ],
             [
              0.6666666666666666,
              "#ed7953"
             ],
             [
              0.7777777777777778,
              "#fb9f3a"
             ],
             [
              0.8888888888888888,
              "#fdca26"
             ],
             [
              1,
              "#f0f921"
             ]
            ],
            "type": "histogram2d"
           }
          ],
          "histogram2dcontour": [
           {
            "colorbar": {
             "outlinewidth": 0,
             "ticks": ""
            },
            "colorscale": [
             [
              0,
              "#0d0887"
             ],
             [
              0.1111111111111111,
              "#46039f"
             ],
             [
              0.2222222222222222,
              "#7201a8"
             ],
             [
              0.3333333333333333,
              "#9c179e"
             ],
             [
              0.4444444444444444,
              "#bd3786"
             ],
             [
              0.5555555555555556,
              "#d8576b"
             ],
             [
              0.6666666666666666,
              "#ed7953"
             ],
             [
              0.7777777777777778,
              "#fb9f3a"
             ],
             [
              0.8888888888888888,
              "#fdca26"
             ],
             [
              1,
              "#f0f921"
             ]
            ],
            "type": "histogram2dcontour"
           }
          ],
          "mesh3d": [
           {
            "colorbar": {
             "outlinewidth": 0,
             "ticks": ""
            },
            "type": "mesh3d"
           }
          ],
          "parcoords": [
           {
            "line": {
             "colorbar": {
              "outlinewidth": 0,
              "ticks": ""
             }
            },
            "type": "parcoords"
           }
          ],
          "pie": [
           {
            "automargin": true,
            "type": "pie"
           }
          ],
          "scatter": [
           {
            "fillpattern": {
             "fillmode": "overlay",
             "size": 10,
             "solidity": 0.2
            },
            "type": "scatter"
           }
          ],
          "scatter3d": [
           {
            "line": {
             "colorbar": {
              "outlinewidth": 0,
              "ticks": ""
             }
            },
            "marker": {
             "colorbar": {
              "outlinewidth": 0,
              "ticks": ""
             }
            },
            "type": "scatter3d"
           }
          ],
          "scattercarpet": [
           {
            "marker": {
             "colorbar": {
              "outlinewidth": 0,
              "ticks": ""
             }
            },
            "type": "scattercarpet"
           }
          ],
          "scattergeo": [
           {
            "marker": {
             "colorbar": {
              "outlinewidth": 0,
              "ticks": ""
             }
            },
            "type": "scattergeo"
           }
          ],
          "scattergl": [
           {
            "marker": {
             "colorbar": {
              "outlinewidth": 0,
              "ticks": ""
             }
            },
            "type": "scattergl"
           }
          ],
          "scattermapbox": [
           {
            "marker": {
             "colorbar": {
              "outlinewidth": 0,
              "ticks": ""
             }
            },
            "type": "scattermapbox"
           }
          ],
          "scatterpolar": [
           {
            "marker": {
             "colorbar": {
              "outlinewidth": 0,
              "ticks": ""
             }
            },
            "type": "scatterpolar"
           }
          ],
          "scatterpolargl": [
           {
            "marker": {
             "colorbar": {
              "outlinewidth": 0,
              "ticks": ""
             }
            },
            "type": "scatterpolargl"
           }
          ],
          "scatterternary": [
           {
            "marker": {
             "colorbar": {
              "outlinewidth": 0,
              "ticks": ""
             }
            },
            "type": "scatterternary"
           }
          ],
          "surface": [
           {
            "colorbar": {
             "outlinewidth": 0,
             "ticks": ""
            },
            "colorscale": [
             [
              0,
              "#0d0887"
             ],
             [
              0.1111111111111111,
              "#46039f"
             ],
             [
              0.2222222222222222,
              "#7201a8"
             ],
             [
              0.3333333333333333,
              "#9c179e"
             ],
             [
              0.4444444444444444,
              "#bd3786"
             ],
             [
              0.5555555555555556,
              "#d8576b"
             ],
             [
              0.6666666666666666,
              "#ed7953"
             ],
             [
              0.7777777777777778,
              "#fb9f3a"
             ],
             [
              0.8888888888888888,
              "#fdca26"
             ],
             [
              1,
              "#f0f921"
             ]
            ],
            "type": "surface"
           }
          ],
          "table": [
           {
            "cells": {
             "fill": {
              "color": "#EBF0F8"
             },
             "line": {
              "color": "white"
             }
            },
            "header": {
             "fill": {
              "color": "#C8D4E3"
             },
             "line": {
              "color": "white"
             }
            },
            "type": "table"
           }
          ]
         },
         "layout": {
          "annotationdefaults": {
           "arrowcolor": "#2a3f5f",
           "arrowhead": 0,
           "arrowwidth": 1
          },
          "autotypenumbers": "strict",
          "coloraxis": {
           "colorbar": {
            "outlinewidth": 0,
            "ticks": ""
           }
          },
          "colorscale": {
           "diverging": [
            [
             0,
             "#8e0152"
            ],
            [
             0.1,
             "#c51b7d"
            ],
            [
             0.2,
             "#de77ae"
            ],
            [
             0.3,
             "#f1b6da"
            ],
            [
             0.4,
             "#fde0ef"
            ],
            [
             0.5,
             "#f7f7f7"
            ],
            [
             0.6,
             "#e6f5d0"
            ],
            [
             0.7,
             "#b8e186"
            ],
            [
             0.8,
             "#7fbc41"
            ],
            [
             0.9,
             "#4d9221"
            ],
            [
             1,
             "#276419"
            ]
           ],
           "sequential": [
            [
             0,
             "#0d0887"
            ],
            [
             0.1111111111111111,
             "#46039f"
            ],
            [
             0.2222222222222222,
             "#7201a8"
            ],
            [
             0.3333333333333333,
             "#9c179e"
            ],
            [
             0.4444444444444444,
             "#bd3786"
            ],
            [
             0.5555555555555556,
             "#d8576b"
            ],
            [
             0.6666666666666666,
             "#ed7953"
            ],
            [
             0.7777777777777778,
             "#fb9f3a"
            ],
            [
             0.8888888888888888,
             "#fdca26"
            ],
            [
             1,
             "#f0f921"
            ]
           ],
           "sequentialminus": [
            [
             0,
             "#0d0887"
            ],
            [
             0.1111111111111111,
             "#46039f"
            ],
            [
             0.2222222222222222,
             "#7201a8"
            ],
            [
             0.3333333333333333,
             "#9c179e"
            ],
            [
             0.4444444444444444,
             "#bd3786"
            ],
            [
             0.5555555555555556,
             "#d8576b"
            ],
            [
             0.6666666666666666,
             "#ed7953"
            ],
            [
             0.7777777777777778,
             "#fb9f3a"
            ],
            [
             0.8888888888888888,
             "#fdca26"
            ],
            [
             1,
             "#f0f921"
            ]
           ]
          },
          "colorway": [
           "#636efa",
           "#EF553B",
           "#00cc96",
           "#ab63fa",
           "#FFA15A",
           "#19d3f3",
           "#FF6692",
           "#B6E880",
           "#FF97FF",
           "#FECB52"
          ],
          "font": {
           "color": "#2a3f5f"
          },
          "geo": {
           "bgcolor": "white",
           "lakecolor": "white",
           "landcolor": "#E5ECF6",
           "showlakes": true,
           "showland": true,
           "subunitcolor": "white"
          },
          "hoverlabel": {
           "align": "left"
          },
          "hovermode": "closest",
          "mapbox": {
           "style": "light"
          },
          "paper_bgcolor": "white",
          "plot_bgcolor": "#E5ECF6",
          "polar": {
           "angularaxis": {
            "gridcolor": "white",
            "linecolor": "white",
            "ticks": ""
           },
           "bgcolor": "#E5ECF6",
           "radialaxis": {
            "gridcolor": "white",
            "linecolor": "white",
            "ticks": ""
           }
          },
          "scene": {
           "xaxis": {
            "backgroundcolor": "#E5ECF6",
            "gridcolor": "white",
            "gridwidth": 2,
            "linecolor": "white",
            "showbackground": true,
            "ticks": "",
            "zerolinecolor": "white"
           },
           "yaxis": {
            "backgroundcolor": "#E5ECF6",
            "gridcolor": "white",
            "gridwidth": 2,
            "linecolor": "white",
            "showbackground": true,
            "ticks": "",
            "zerolinecolor": "white"
           },
           "zaxis": {
            "backgroundcolor": "#E5ECF6",
            "gridcolor": "white",
            "gridwidth": 2,
            "linecolor": "white",
            "showbackground": true,
            "ticks": "",
            "zerolinecolor": "white"
           }
          },
          "shapedefaults": {
           "line": {
            "color": "#2a3f5f"
           }
          },
          "ternary": {
           "aaxis": {
            "gridcolor": "white",
            "linecolor": "white",
            "ticks": ""
           },
           "baxis": {
            "gridcolor": "white",
            "linecolor": "white",
            "ticks": ""
           },
           "bgcolor": "#E5ECF6",
           "caxis": {
            "gridcolor": "white",
            "linecolor": "white",
            "ticks": ""
           }
          },
          "title": {
           "x": 0.05
          },
          "xaxis": {
           "automargin": true,
           "gridcolor": "white",
           "linecolor": "white",
           "ticks": "",
           "title": {
            "standoff": 15
           },
           "zerolinecolor": "white",
           "zerolinewidth": 2
          },
          "yaxis": {
           "automargin": true,
           "gridcolor": "white",
           "linecolor": "white",
           "ticks": "",
           "title": {
            "standoff": 15
           },
           "zerolinecolor": "white",
           "zerolinewidth": 2
          }
         }
        },
        "title": {
         "text": "Najpopularniejsze tagi"
        },
        "xaxis": {
         "anchor": "y",
         "domain": [
          0,
          1
         ],
         "title": {
          "text": "Tag"
         }
        },
        "yaxis": {
         "anchor": "x",
         "domain": [
          0,
          1
         ],
         "title": {
          "text": "Liczba gier"
         }
        }
       }
      }
     },
     "metadata": {},
     "output_type": "display_data"
    }
   ],
   "source": [
    "from collections import Counter\n",
    "\n",
    "# Zliczanie wystąpień tagów\n",
    "tag_counts = Counter()\n",
    "for tags in df['Tagi']:\n",
    "    # Przekształcenie stringa w listę tagów, zakładając, że są oddzielone przecinkami\n",
    "    tag_list = tags.split(', ')\n",
    "    tag_counts.update(tag_list)\n",
    "\n",
    "# Przekształcenie wyników w DataFrame\n",
    "tag_df = pd.DataFrame(tag_counts.items(), columns=['Tag', 'Count']).sort_values('Count', ascending=False)\n",
    "\n",
    "# Wizualizacja\n",
    "fig = px.bar(tag_df.head(20), x='Tag', y='Count', title='Najpopularniejsze tagi')\n",
    "fig.update_layout(yaxis_title='Liczba gier')\n",
    "fig.show()\n"
   ]
  },
  {
   "cell_type": "code",
   "execution_count": 88,
   "metadata": {},
   "outputs": [
    {
     "data": {
      "application/vnd.plotly.v1+json": {
       "config": {
        "plotlyServerURL": "https://plot.ly"
       },
       "data": [
        {
         "customdata": [
          [
           "Subnautica"
          ],
          [
           "Detroit: Become Human"
          ],
          [
           "Lethal Company"
          ],
          [
           "DOOM"
          ],
          [
           "RimWorld"
          ],
          [
           "Stray"
          ],
          [
           "Brotato"
          ],
          [
           "Outer Wilds"
          ],
          [
           "Deep Rock Galactic"
          ],
          [
           "The Planet Crafter"
          ],
          [
           "Mouthwashing"
          ],
          [
           "Beat Saber"
          ],
          [
           "Warhammer 40,000: Dawn of War - Anniversary Edition"
          ],
          [
           "Caves of Qud"
          ],
          [
           "Half-Life: Alyx"
          ],
          [
           "Nine Sols"
          ],
          [
           "DRAMAtical Murder"
          ],
          [
           "Severed Steel"
          ],
          [
           "Portal 2"
          ],
          [
           "Left 4 Dead 2"
          ],
          [
           "Life is Strange - Episode 1"
          ],
          [
           "Roboquest"
          ],
          [
           "Titanfall® 2"
          ],
          [
           "shapez 2"
          ],
          [
           "Universe Sandbox"
          ],
          [
           "STEINS;GATE"
          ],
          [
           "Abiotic Factor"
          ],
          [
           "Papers, Please"
          ],
          [
           "Half-Life 2"
          ],
          [
           "Cosmoteer: Starship Architect & Commander"
          ],
          [
           "Portal"
          ],
          [
           "Turing Complete"
          ],
          [
           "Creeper World 4"
          ],
          [
           "The Walking Dead"
          ],
          [
           "CRUEL"
          ],
          [
           "STEINS;GATE 0"
          ],
          [
           "Mars First Logistics"
          ],
          [
           "Dishonored"
          ],
          [
           "Oxygen Not Included"
          ],
          [
           "Machinarium"
          ],
          [
           "Minds Beneath Us"
          ],
          [
           "Creeper World 3: Arc Eternal"
          ],
          [
           "Kerbal Space Program"
          ],
          [
           "Left 4 Dead"
          ],
          [
           "SpaceEngine"
          ],
          [
           "Worldless"
          ],
          [
           "The Forgotten City"
          ],
          [
           "The Talos Principle 2"
          ],
          [
           "The Room Two"
          ],
          [
           "Dyson Sphere Program"
          ],
          [
           "Half-Life"
          ],
          [
           "I Was a Teenage Exocolonist"
          ],
          [
           "Kenshi"
          ],
          [
           "Misao - 2024 HD Remaster"
          ],
          [
           "Dune: Imperium"
          ],
          [
           "Half-Life: Opposing Force"
          ],
          [
           "Black Mesa"
          ],
          [
           "SANABI"
          ],
          [
           "Cruelty Squad"
          ],
          [
           "Alien Shooter"
          ],
          [
           "Beyond Citadel"
          ],
          [
           "Spaceflight Simulator"
          ],
          [
           "MULLET MADJACK"
          ],
          [
           "DRAINUS"
          ],
          [
           "VA-11 Hall-A: Cyberpunk Bartender Action"
          ],
          [
           "Nova Drift"
          ],
          [
           "STAR WARS™ Battlefront (Classic, 2004)"
          ],
          [
           "Nuclear Throne"
          ],
          [
           "Total Annihilation"
          ],
          [
           "Picayune Dreams"
          ],
          [
           "SharpShooter3D"
          ],
          [
           "Linelith"
          ],
          [
           "Impossible Creatures Steam Edition"
          ],
          [
           "Chair F*cking Simulator"
          ]
         ],
         "hovertemplate": "Nacechowanie recenzji=Przytłaczająco pozytywne<br>Cena (zł)=%{x}<br>Liczba recenzji=%{y}<br>Tytuł=%{customdata[0]}<extra></extra>",
         "legendgroup": "Przytłaczająco pozytywne",
         "marker": {
          "color": "green",
          "symbol": "circle"
         },
         "mode": "markers",
         "name": "Przytłaczająco pozytywne",
         "orientation": "v",
         "showlegend": true,
         "type": "scatter",
         "x": [
          45.86,
          55.49,
          45.99,
          15.99,
          111.99,
          71.99,
          13.79,
          59.99,
          107.99,
          80.49,
          59.99,
          138.99,
          19.99,
          118.14,
          274.99,
          138.99,
          55.19,
          8.99,
          45.99,
          45.99,
          0,
          70.39,
          119.9,
          64.99,
          138.99,
          21.59,
          114.99,
          45.99,
          45.99,
          44.99,
          45.99,
          71.99,
          35.99,
          67.99,
          34.99,
          24.99,
          68.99,
          44.99,
          89.99,
          74.99,
          91.99,
          17.81,
          171.9,
          45.99,
          115,
          53.99,
          28.74,
          138.99,
          22.99,
          71.99,
          35.99,
          114.99,
          107.99,
          36.79,
          105.79,
          22.99,
          91.99,
          44.19,
          71.99,
          22.99,
          67.99,
          59.99,
          58.49,
          37.79,
          53.99,
          49.59,
          45.99,
          43.99,
          17.99,
          15,
          14.99,
          13.49,
          9.99,
          8.99
         ],
         "xaxis": "x",
         "y": [
          270717,
          129446,
          378091,
          134704,
          171301,
          134727,
          87148,
          65558,
          263835,
          46355,
          22281,
          67651,
          7857,
          9024,
          83075,
          20696,
          3076,
          5207,
          349157,
          708227,
          167844,
          15797,
          216599,
          9137,
          22353,
          18356,
          18747,
          65893,
          175083,
          9911,
          148570,
          3516,
          4032,
          45901,
          547,
          6040,
          1044,
          11155,
          117230,
          13219,
          2279,
          3864,
          101395,
          50603,
          11165,
          924,
          9035,
          10534,
          18642,
          75847,
          102094,
          3310,
          78325,
          2029,
          2514,
          21337,
          113307,
          30831,
          18019,
          3361,
          1291,
          5591,
          5724,
          871,
          30979,
          12054,
          3800,
          13353,
          3206,
          2345,
          1332,
          739,
          1444,
          570
         ],
         "yaxis": "y"
        },
        {
         "customdata": [
          [
           "Marvel Rivals"
          ],
          [
           "DOOM Eternal"
          ],
          [
           "Among Us"
          ],
          [
           "Subnautica: Below Zero"
          ],
          [
           "Cyberpunk 2077"
          ],
          [
           "Stellaris"
          ],
          [
           "Warhammer 40,000: Space Marine 2"
          ],
          [
           "Frostpunk"
          ],
          [
           "S.T.A.L.K.E.R. 2: Heart of Chornobyl"
          ],
          [
           "Jurassic World Evolution 2"
          ],
          [
           "Lies of P"
          ],
          [
           "BlazBlue Entropy Effect"
          ],
          [
           "They Are Billions"
          ],
          [
           "Atomic Heart"
          ],
          [
           "Planetary Annihilation: TITANS"
          ],
          [
           "ENDLESS™ Legend"
          ],
          [
           "Chained Together"
          ],
          [
           "Project Zomboid"
          ],
          [
           "ENDLESS™ Space 2"
          ],
          [
           "Barotrauma"
          ],
          [
           "Metro Exodus"
          ],
          [
           "Void Crew"
          ],
          [
           "Halo: The Master Chief Collection"
          ],
          [
           "This War of Mine"
          ],
          [
           "Plague Inc: Evolved"
          ],
          [
           "DOOM 3"
          ],
          [
           "The Long Drive"
          ],
          [
           "The Invincible"
          ],
          [
           "Starship Troopers: Terran Command"
          ],
          [
           "MechWarrior 5: Mercenaries"
          ],
          [
           "STAR WARS™: The Old Republic™"
          ],
          [
           "Hatsune Miku: Project DIVA Mega Mix+"
          ],
          [
           "Aliens: Dark Descent"
          ],
          [
           "Unturned"
          ],
          [
           "LOCKDOWN Protocol"
          ],
          [
           "The Long Dark"
          ],
          [
           "Chernobylite Complete Edition"
          ],
          [
           "Job Simulator"
          ],
          [
           "Fallout 4"
          ],
          [
           "Space Engineers"
          ],
          [
           "System Shock"
          ],
          [
           "Halo Wars: Definitive Edition"
          ],
          [
           "Metro 2033 Redux"
          ],
          [
           "Zompiercer"
          ],
          [
           "RoboCop: Rogue City"
          ],
          [
           "Nuclear Nightmare"
          ],
          [
           "Sins of a Solar Empire®: Rebellion"
          ],
          [
           "Days Gone"
          ],
          [
           "Sins of a Solar Empire II"
          ],
          [
           "Metro: Last Light Redux"
          ],
          [
           "ASTRONEER"
          ],
          [
           "Starcom: Unknown Space"
          ],
          [
           "The Riftbreaker"
          ],
          [
           "Aliens: Fireteam Elite"
          ],
          [
           "Annihilate The Spance"
          ],
          [
           "Arizona Sunshine® 2"
          ],
          [
           "Sovereign Syndicate"
          ],
          [
           "Horizon Zero Dawn™ Complete Edition"
          ],
          [
           "Nuclear Option"
          ],
          [
           "Pathologic 2"
          ],
          [
           "Road 96 🛣️"
          ],
          [
           "Fallout: New Vegas"
          ],
          [
           "Nobody Wants to Die"
          ],
          [
           "SPORE™"
          ],
          [
           "Wolfenstein: The New Order"
          ],
          [
           "Amenti"
          ],
          [
           "Lightyear Frontier"
          ],
          [
           "Deep Rock Galactic: Survivor"
          ],
          [
           "AI: THE SOMNIUM FILES - nirvanA Initiative"
          ],
          [
           "Fallout Shelter"
          ],
          [
           "AI: The Somnium Files"
          ],
          [
           "Warhammer 40,000: Gladius - Relics of War"
          ],
          [
           "Astrometica"
          ],
          [
           "Wolfenstein II: The New Colossus"
          ],
          [
           "Endoparasitic 2"
          ],
          [
           "The Thing: Remastered"
          ],
          [
           "GNOSIA"
          ],
          [
           "Warhammer 40,000: Boltgun"
          ],
          [
           "Clone Drone in the Hyperdome"
          ],
          [
           "State of Decay 2: Juggernaut Edition"
          ],
          [
           "The Last Stand: Aftermath"
          ],
          [
           "High On Life"
          ],
          [
           "Drill Core"
          ],
          [
           "ZEPHON"
          ],
          [
           "Pacific Drive"
          ],
          [
           "Beyond: Two Souls"
          ],
          [
           "From Glory To Goo"
          ],
          [
           "Creatures of Ava"
          ],
          [
           "Jurassic World Evolution"
          ],
          [
           "Zero Escape: The Nonary Games"
          ],
          [
           "Killing Floor 2"
          ],
          [
           "Starship EVO"
          ],
          [
           "Bright Memory: Infinite"
          ],
          [
           "The Sapling"
          ],
          [
           "Cataclysm: Dark Days Ahead"
          ],
          [
           "Uncle Chop's Rocket Shop"
          ],
          [
           "60 Seconds! Reatomized"
          ],
          [
           "Wasteland 3"
          ],
          [
           "Deus Ex: Human Revolution - Director's Cut"
          ],
          [
           "Quasimorph"
          ],
          [
           "New Arc Line"
          ],
          [
           "Homeworld Remastered Collection"
          ],
          [
           "VLADiK BRUTAL"
          ],
          [
           "Mechabellum"
          ],
          [
           "Age of Wonders: Planetfall"
          ],
          [
           "SUPERHOT VR"
          ],
          [
           "Doors: Paradox"
          ],
          [
           "Mutant Year Zero: Road to Eden"
          ],
          [
           "Cepheus Protocol"
          ],
          [
           "Space Reign"
          ],
          [
           "Quantum Break"
          ],
          [
           "NEBULOUS: Fleet Command"
          ],
          [
           "Seed of the Dead: Sweet Home"
          ],
          [
           "Aliens vs. Ghosts"
          ],
          [
           "Horizon Forbidden West™ Edycja kompletna"
          ],
          [
           "Serious Sam 2"
          ],
          [
           "Shin Megami Tensei III Nocturne HD Remaster"
          ],
          [
           "Call of Duty®: Black Ops III"
          ],
          [
           "Warhammer 40,000: Battlesector"
          ],
          [
           "Crysis 2 Remastered"
          ],
          [
           "Crysis 3 Remastered"
          ],
          [
           "ARMORED CORE™ VI FIRES OF RUBICON™"
          ],
          [
           "EARTH DEFENSE FORCE 5"
          ],
          [
           "Ratchet & Clank: Rift Apart"
          ],
          [
           "S.T.A.L.K.E.R.: Shadow of Chernobyl"
          ],
          [
           "Space Haven"
          ],
          [
           "Wall World"
          ],
          [
           "Saints Row IV: Re-Elected"
          ],
          [
           "Supreme Commander"
          ],
          [
           "Space Prison"
          ],
          [
           "Call of Duty®: Black Ops II"
          ],
          [
           "Togainu no Chi ~Lost Blood~"
          ],
          [
           "BATTLETECH"
          ],
          [
           "Takara Cards"
          ],
          [
           "Fallout 2: A Post Nuclear Role Playing Game"
          ],
          [
           "Muv-Luv (マブラヴ)"
          ],
          [
           "Sunset Overdrive"
          ],
          [
           "Zero Escape: Zero Time Dilemma"
          ],
          [
           "Crying Suns"
          ],
          [
           "Tasty Planet Forever"
          ],
          [
           "Beholder"
          ],
          [
           "Caravan SandWitch"
          ],
          [
           "Gatekeeper"
          ],
          [
           "Five Nations"
          ],
          [
           "Dreamfall: The Longest Journey"
          ],
          [
           "Unnamed Space Idle"
          ],
          [
           "Revolution Idle"
          ],
          [
           "Endoparasitic"
          ],
          [
           "S.T.A.L.K.E.R.: Clear Sky"
          ],
          [
           "Into the Breach"
          ],
          [
           "FAR: Changing Tides"
          ],
          [
           "Syberia"
          ],
          [
           "The Abandoned Planet"
          ],
          [
           "Assassin's Creed® Syndicate"
          ],
          [
           "Forever Skies"
          ],
          [
           "STEINS;GATE ELITE"
          ],
          [
           "Stationeers"
          ],
          [
           "Far Cry®"
          ],
          [
           "Cyber Manhunt 2: New World - The Hacking Simulator"
          ],
          [
           "Dome Keeper"
          ],
          [
           "Stardeus"
          ],
          [
           "Command & Conquer 3: Gniew Kane'a"
          ],
          [
           "Command & Conquer™ Red Alert™ 3"
          ],
          [
           "Command & Conquer 3: Wojny o tyberium"
          ],
          [
           "60 Seconds!"
          ],
          [
           "Kristala"
          ],
          [
           "Star Trek: Resurgence"
          ],
          [
           "Terminator: Dark Fate - Defiance"
          ],
          [
           "Stellar Warfare"
          ],
          [
           "Eternal Starlight VR"
          ],
          [
           "Rain World"
          ],
          [
           "Bright Memory"
          ],
          [
           "I Have No Mouth, and I Must Scream"
          ],
          [
           "HELLDIVERS™ Dive Harder Edition"
          ],
          [
           "XCOM: Enemy Unknown"
          ],
          [
           "Destroy All Humans!"
          ],
          [
           "Thief™ Gold"
          ],
          [
           "Goodbye Deponia"
          ],
          [
           "Genome Guardian"
          ],
          [
           "Utopia Must Fall"
          ],
          [
           "Viscera Cleanup Detail"
          ],
          [
           "Vanquish"
          ],
          [
           "Still Wakes the Deep"
          ],
          [
           "Command & Conquer™ Tiberian Sun™ and Firestorm™"
          ],
          [
           "Vaporum: Lockdown"
          ],
          [
           "Command & Conquer Red Alert™ 2 and Yuri’s Revenge™"
          ],
          [
           "Bridge Constructor Portal"
          ],
          [
           "Sid Meier's Alpha Centauri™ Planetary Pack"
          ],
          [
           "Arcanum: Of Steamworks and Magick Obscura"
          ],
          [
           "Command & Conquer™ Red Alert™ 3- Powstanie"
          ],
          [
           "Poker Master"
          ],
          [
           "ENDER LILIES: Quietus of the Knights"
          ],
          [
           "Wasteland 2: Director's Cut"
          ],
          [
           "Krush Kill 'N Destroy Xtreme"
          ],
          [
           "Dead Grid"
          ],
          [
           "Tasty Planet: Back for Seconds"
          ],
          [
           "Rigid Force Alpha"
          ],
          [
           "Deponia Doomsday"
          ],
          [
           "Chaos on Deponia"
          ],
          [
           "Neon Abyss"
          ],
          [
           "Particle Fleet: Emergence"
          ],
          [
           "Citizen Sleeper"
          ],
          [
           "LEGO® Star Wars™ III - The Clone Wars™"
          ],
          [
           "DYSMANTLE"
          ],
          [
           "The Walking Dead: The Final Season"
          ],
          [
           "STAR WARS™: Bounty Hunter™"
          ],
          [
           "Distance"
          ],
          [
           "Ben 10: Power Trip"
          ],
          [
           "The Devil Within: Satgat"
          ],
          [
           "Fallout 3: Game of the Year Edition"
          ],
          [
           "Project Wingman"
          ],
          [
           "InfraSpace"
          ],
          [
           "BioShock™"
          ],
          [
           "World War Z"
          ],
          [
           "Chicken Police: Into the HIVE!"
          ],
          [
           "Oblivion Override"
          ],
          [
           "Battlezone 98 Redux"
          ],
          [
           "LEGO ® Gwiezdne Wojny™: Saga Skywalkerów"
          ],
          [
           "My Protogen Engineer ⚙️"
          ],
          [
           "Battlezone: Combat Commander"
          ],
          [
           "Arizona Sunshine® Remake"
          ],
          [
           "Cell to Singularity - Evolution Never Ends"
          ],
          [
           "Tasty Planet"
          ],
          [
           "Original War"
          ],
          [
           "Chorus"
          ],
          [
           "Beholder 2"
          ],
          [
           "Risk of Rain Returns"
          ],
          [
           "My Furry Protogen 2 🐾"
          ],
          [
           "Starbound"
          ],
          [
           "The End Is Nigh"
          ],
          [
           "Universe Horizon"
          ],
          [
           "Executive Assault 2"
          ],
          [
           "Eden Crafters"
          ],
          [
           "BLADE CHIMERA"
          ],
          [
           "Solar Ash"
          ],
          [
           "My Time at Sandrock"
          ],
          [
           "FAR: Lone Sails"
          ],
          [
           "Deponia"
          ],
          [
           "ATOM RPG: Post-apocalyptic indie game"
          ],
          [
           "Whispers of a Machine"
          ],
          [
           "Airborne Kingdom"
          ],
          [
           "Lacuna – A Sci-Fi Noir Adventure"
          ],
          [
           "Half-Life: Blue Shift"
          ],
          [
           "Beyond Good & Evil - 20th Anniversary Edition"
          ],
          [
           "Dungeon of the ENDLESS™"
          ],
          [
           "The Mobius Machine"
          ],
          [
           "Obenseuer"
          ],
          [
           "Detective Girl of the Steam City"
          ],
          [
           "Red Matter"
          ],
          [
           "Serious Sam HD: The First Encounter"
          ],
          [
           "NORCO"
          ],
          [
           "while True: learn()"
          ],
          [
           "Azure Striker GUNVOLT 3"
          ],
          [
           "Binary Domain"
          ],
          [
           "STAR WARS™ Knights of the Old Republic™ II - The Sith Lords™"
          ],
          [
           "Avorion"
          ],
          [
           "Serious Sam Classics: Revolution"
          ],
          [
           "My Furry Protogen 🐾"
          ],
          [
           "ATOM RPG Trudograd"
          ],
          [
           "FINAL FANTASY VIII"
          ],
          [
           "FINAL FANTASY VII"
          ],
          [
           "Bears In Space"
          ],
          [
           "Taimanin Yukikaze"
          ],
          [
           "Retrowave World"
          ],
          [
           "CHAOS;CHILD"
          ],
          [
           "REMNANT II®"
          ],
          [
           "SUNLESS SEA"
          ],
          [
           "Infested Planet"
          ],
          [
           "Tiny Room Stories: Town Mystery"
          ],
          [
           "Hard Truck Apocalypse / Ex Machina"
          ],
          [
           "Titan Station"
          ],
          [
           "LEGO® STAR WARS™: The Force Awakens"
          ],
          [
           "ICEY"
          ],
          [
           "System Shock 2"
          ],
          [
           "PILGRIM"
          ],
          [
           "SiN Episodes: Emergence"
          ],
          [
           "Anomaly: Warzone Earth"
          ],
          [
           "CASE: Animatronics"
          ],
          [
           "UBERMOSH"
          ],
          [
           "Greedland"
          ],
          [
           "Surviving Mars"
          ],
          [
           "Twilight Town: A Cyberpunk FPS"
          ],
          [
           "State of Decay: YOSE"
          ],
          [
           "Space Pirate Trainer"
          ],
          [
           "SIMULACRA"
          ],
          [
           "Galaxy Life"
          ],
          [
           "Deep Space Cache"
          ],
          [
           "Verne: The Shape of Fantasy"
          ],
          [
           "What Lies in the Multiverse"
          ],
          [
           "Death Roads: Tournament"
          ],
          [
           "BDSM: Big Drunk Satanic Massacre"
          ],
          [
           "Shrot"
          ],
          [
           "Azure Striker Gunvolt"
          ],
          [
           "ROBOTICS;NOTES ELITE"
          ],
          [
           "Gun Metal"
          ],
          [
           "Fallout 3"
          ],
          [
           "Samorost 2"
          ],
          [
           "Cyber Manhunt"
          ],
          [
           "Eden Survivors"
          ],
          [
           "Twilight Manor: Roguelite FPS"
          ],
          [
           "The Trench"
          ],
          [
           "Escape Machine City: Airborne"
          ],
          [
           "Mimicry"
          ],
          [
           "Symmodance"
          ],
          [
           "Supreme Commander 2"
          ],
          [
           "Vaporum"
          ],
          [
           "Retrowave 2"
          ],
          [
           "Dead Synchronicity: Tomorrow Comes Today"
          ],
          [
           "Astebreed: Definitive Edition"
          ],
          [
           "Krążowniki"
          ],
          [
           "Algo Bot"
          ],
          [
           "Executive Assault"
          ],
          [
           "Joggernauts"
          ],
          [
           "Alt-Frequencies"
          ],
          [
           "Trash Quest"
          ],
          [
           "Deep Space Battle Simulator"
          ],
          [
           "Void Scrappers"
          ],
          [
           "1bitHeart"
          ],
          [
           "Seen"
          ],
          [
           "tomorrow won't come for those without ██████"
          ]
         ],
         "hovertemplate": "Nacechowanie recenzji=Bardzo pozytywne<br>Cena (zł)=%{x}<br>Liczba recenzji=%{y}<br>Tytuł=%{customdata[0]}<extra></extra>",
         "legendgroup": "Bardzo pozytywne",
         "marker": {
          "color": "lightgreen",
          "symbol": "circle"
         },
         "mode": "markers",
         "name": "Bardzo pozytywne",
         "orientation": "v",
         "showlegend": true,
         "type": "scatter",
         "x": [
          0,
          42.25,
          10.79,
          45.86,
          199,
          46.24,
          157.49,
          13.89,
          229.99,
          64.49,
          164.99,
          55.99,
          75.59,
          72.59,
          35.63,
          26.56,
          22.99,
          91.99,
          35.74,
          69.99,
          31.75,
          63.99,
          49.75,
          9.19,
          20.39,
          15.6,
          72.99,
          75,
          83.39,
          43.19,
          0,
          59.6,
          58.49,
          0,
          45.99,
          29.99,
          29.99,
          91.99,
          79,
          71.99,
          67.6,
          24.75,
          12.6,
          59.99,
          231.99,
          31.99,
          55.19,
          219,
          185.59,
          12.6,
          138.99,
          94.99,
          99,
          29.97,
          138.99,
          107.46,
          45.99,
          219,
          82.99,
          161.99,
          21.24,
          44.99,
          68.64,
          69.9,
          89.99,
          31.99,
          114.99,
          50,
          32.24,
          0,
          14.29,
          184.99,
          78.99,
          124,
          54.99,
          122.99,
          62.99,
          79.99,
          59,
          43.19,
          114.99,
          71.99,
          59.99,
          149.99,
          109,
          79.9,
          27.99,
          69.3,
          39.99,
          10.79,
          21.59,
          91.99,
          35.99,
          72.99,
          91.99,
          91.99,
          39.99,
          71.49,
          67.52,
          71.2,
          88.49,
          9.99,
          43.99,
          67.99,
          138.99,
          79.99,
          33.99,
          59.99,
          73.59,
          73.59,
          35.74,
          49.99,
          69.49,
          34.68,
          259,
          45.99,
          68.7,
          254.8,
          184.99,
          99,
          99,
          249,
          214.99,
          259,
          71.99,
          35.99,
          6.89,
          21.12,
          39.99,
          42,
          254.8,
          45.99,
          184.99,
          14.66,
          44.99,
          55.59,
          19.99,
          7.19,
          26.99,
          46.99,
          9.59,
          39.99,
          47.99,
          35.99,
          35.59,
          0,
          0,
          35.99,
          35.99,
          26.99,
          21.59,
          34.99,
          50.99,
          159.9,
          65.99,
          42.99,
          161.99,
          39.9,
          40.47,
          69.99,
          77.99,
          100,
          100,
          100,
          34.99,
          138.99,
          114.99,
          138.74,
          45.99,
          33.99,
          114.99,
          11.59,
          21.99,
          71.99,
          85.9,
          124.99,
          30.9,
          9.19,
          24.06,
          27.5,
          59.99,
          26.7,
          104.99,
          100,
          20.74,
          100,
          4.59,
          24.9,
          25.44,
          100,
          0,
          91.99,
          32.39,
          16.56,
          23.39,
          28.99,
          71.99,
          7.19,
          7.19,
          17.99,
          17.81,
          91.99,
          91.99,
          91.99,
          91.99,
          91.99,
          89.99,
          107.99,
          86.24,
          89.99,
          89.99,
          89.99,
          85.9,
          119.9,
          80,
          82.99,
          8.99,
          229,
          17.24,
          13.67,
          119,
          0,
          21.99,
          8.59,
          21.12,
          16.59,
          67.99,
          16.09,
          67.99,
          67.99,
          13.49,
          67.49,
          73.59,
          82.79,
          63.99,
          149.99,
          8.09,
          3.59,
          67.99,
          59.99,
          29.99,
          11.59,
          22.99,
          55.93,
          10.99,
          55.19,
          54.39,
          53.99,
          53.99,
          53.99,
          23.99,
          46.99,
          46.8,
          10.79,
          45.99,
          114.99,
          45.99,
          8.69,
          49.99,
          43.99,
          43.99,
          41.4,
          47.59,
          32.19,
          44.99,
          209.99,
          68.99,
          13.49,
          35.99,
          36.99,
          18.39,
          107.99,
          39.99,
          35.99,
          36.99,
          35.99,
          3.84,
          6.89,
          2.24,
          37.99,
          138.99,
          36.99,
          28.79,
          26.99,
          3.59,
          0,
          4.49,
          27.19,
          10.19,
          24.99,
          7.91,
          18.39,
          21.59,
          24.99,
          13.49,
          44.99,
          18.99,
          35.99,
          18.39,
          22.99,
          14.49,
          5.74,
          11.69,
          4.49,
          46.99,
          9.19,
          17.24,
          3.49,
          14.39,
          13.75,
          10.79,
          11.74,
          8.98,
          2.89,
          10.99,
          10.79,
          8.99,
          10.99,
          2.24,
          8.99
         ],
         "xaxis": "x",
         "y": [
          181643,
          169836,
          612000,
          86065,
          715721,
          124289,
          107878,
          98175,
          79149,
          27610,
          34215,
          22710,
          42756,
          26479,
          10780,
          13989,
          41794,
          266436,
          16363,
          49377,
          101357,
          4681,
          215389,
          60529,
          48068,
          7757,
          38737,
          4528,
          8171,
          10122,
          65154,
          14253,
          12115,
          550767,
          10614,
          95008,
          10837,
          3837,
          256332,
          95500,
          7858,
          7468,
          79958,
          2002,
          11094,
          6973,
          9982,
          68732,
          5165,
          58984,
          107935,
          2551,
          16076,
          18784,
          97,
          1439,
          282,
          92645,
          2893,
          8185,
          17045,
          11350,
          2717,
          58329,
          40525,
          428,
          2080,
          32876,
          2847,
          72445,
          7498,
          7135,
          1283,
          29993,
          409,
          646,
          2781,
          12629,
          446,
          50481,
          5260,
          15230,
          906,
          957,
          14475,
          21610,
          631,
          170,
          46831,
          5426,
          82811,
          867,
          34827,
          1294,
          402,
          570,
          14900,
          15930,
          23427,
          3394,
          298,
          11276,
          7043,
          12030,
          4508,
          7324,
          1081,
          12642,
          2296,
          199,
          20453,
          3090,
          2816,
          379,
          13811,
          10286,
          3250,
          136348,
          4005,
          5667,
          4755,
          58675,
          8643,
          7931,
          36261,
          7977,
          8177,
          57056,
          2060,
          182,
          20516,
          363,
          21366,
          75,
          11950,
          1376,
          10389,
          3878,
          2912,
          281,
          19309,
          1487,
          1240,
          216,
          996,
          2286,
          2194,
          2429,
          16822,
          16571,
          3909,
          3480,
          62,
          26916,
          4632,
          1332,
          6284,
          9028,
          2955,
          13062,
          1176,
          4402,
          13217,
          7569,
          10258,
          106,
          1757,
          2313,
          248,
          60,
          30412,
          29742,
          2234,
          23615,
          38165,
          8309,
          3072,
          1828,
          393,
          496,
          16527,
          6127,
          4687,
          776,
          239,
          7046,
          5635,
          394,
          1593,
          3874,
          3983,
          34481,
          4615,
          197,
          288,
          512,
          100,
          2623,
          2192,
          19093,
          1112,
          5704,
          6362,
          9745,
          14920,
          744,
          5399,
          246,
          636,
          38835,
          15140,
          1356,
          23730,
          18206,
          181,
          1540,
          950,
          34871,
          112,
          771,
          553,
          22516,
          320,
          1665,
          3196,
          5701,
          23932,
          341,
          85929,
          2846,
          50,
          1338,
          943,
          402,
          1052,
          21481,
          18523,
          9262,
          9206,
          1213,
          1875,
          1697,
          15732,
          954,
          9197,
          264,
          693,
          1767,
          910,
          6439,
          2137,
          6564,
          369,
          3017,
          20540,
          11923,
          2972,
          690,
          3479,
          7403,
          23398,
          284,
          140,
          305,
          2886,
          39732,
          7318,
          2375,
          670,
          2193,
          376,
          3873,
          24043,
          5995,
          2332,
          826,
          936,
          3435,
          3186,
          2012,
          15549,
          168,
          9527,
          2611,
          3072,
          7830,
          531,
          141,
          437,
          612,
          1062,
          76,
          1547,
          490,
          556,
          16831,
          1864,
          13372,
          62,
          83,
          123,
          72,
          166,
          55,
          7843,
          889,
          56,
          1032,
          1194,
          342,
          133,
          1260,
          80,
          193,
          90,
          336,
          508,
          759,
          8990,
          823
         ],
         "yaxis": "y"
        },
        {
         "customdata": [
          [
           "HELLDIVERS™ 2"
          ],
          [
           "Once Human"
          ],
          [
           "ICARUS"
          ],
          [
           "Snowbreak: Containment Zone"
          ],
          [
           "Frostpunk 2"
          ],
          [
           "Dune: Spice Wars"
          ],
          [
           "Dying Light 2 Stay Human: Reloaded Edition"
          ],
          [
           "Warhammer 40,000: Darktide"
          ],
          [
           "Fallout 76"
          ],
          [
           "Metro Awakening"
          ],
          [
           "New Cycle"
          ],
          [
           "Crossout"
          ],
          [
           "Tom Clancy’s The Division® 2"
          ],
          [
           "Destiny 2"
          ],
          [
           "IDUN"
          ],
          [
           "Iron Harvest"
          ],
          [
           "Ostranauts"
          ],
          [
           "Far Cry® New Dawn"
          ],
          [
           "Battlefleet Gothic: Armada 2"
          ],
          [
           "Empire of the Ants"
          ],
          [
           "Infection Free Zone"
          ],
          [
           "Halo Infinite"
          ],
          [
           "Warhammer 40,000: Chaos Gate - Daemonhunters"
          ],
          [
           "Phantasy Star Online 2 New Genesis"
          ],
          [
           "Hidden Deep"
          ],
          [
           "Dead Island 2"
          ],
          [
           "IXION"
          ],
          [
           "Will To Live Online"
          ],
          [
           "Tower of Fantasy"
          ],
          [
           "Dark Sky"
          ],
          [
           "CryoFall"
          ],
          [
           "Dead Space™ 3"
          ],
          [
           "Master of Orion"
          ],
          [
           "Occupy Mars: The Game"
          ],
          [
           "Homeworld: Deserts of Kharak"
          ],
          [
           "Distant Worlds 2"
          ],
          [
           "Silica"
          ],
          [
           "OVRLRD"
          ],
          [
           "Elite Dangerous"
          ],
          [
           "Warhammer 40,000: Inquisitor - Martyr"
          ],
          [
           "Thief"
          ],
          [
           "DUCKSIDE"
          ],
          [
           "Crysis Remastered"
          ],
          [
           "Space Simulation Toolkit"
          ],
          [
           "Fort Solis"
          ],
          [
           "Horizon Zero Dawn™ Remastered"
          ],
          [
           "Among Us VR"
          ],
          [
           "Reverse Collapse: Code Name Bakery"
          ],
          [
           "Prototype 2"
          ],
          [
           "Star Trucker"
          ],
          [
           "Generation Zero®"
          ],
          [
           "Gears Tactics"
          ],
          [
           "Mass Effect: Andromeda - ulepszenie Deluxe"
          ],
          [
           "Age of Water"
          ],
          [
           "Scars Above"
          ],
          [
           "Urban Strife"
          ],
          [
           "Ashes of the Singularity: Escalation"
          ],
          [
           "Dustwind"
          ],
          [
           "Iron Marines Invasion"
          ],
          [
           "Twelve Minutes"
          ],
          [
           "The Crust"
          ],
          [
           "After the Fall®"
          ],
          [
           "Krush Kill ‘N Destroy 2: Krossfire"
          ],
          [
           "Ghosts of Tabor"
          ],
          [
           "Phoenix Point"
          ],
          [
           "Scorn"
          ],
          [
           "Terraforming Mars"
          ],
          [
           "ENDLESS™ Space - Definitive Edition"
          ],
          [
           "The Ascent"
          ],
          [
           "Somerville"
          ],
          [
           "XCOM®: Chimera Squad"
          ],
          [
           "The Surge"
          ],
          [
           "Torment: Tides of Numenera"
          ],
          [
           "Red Faction Guerrilla Re-Mars-tered"
          ],
          [
           "FRONT MISSION 1st: Remake"
          ],
          [
           "The Surge 2"
          ],
          [
           "Survivors of the Dawn"
          ],
          [
           "STAR WARS™ Battlefront"
          ],
          [
           "Anomaly 2"
          ],
          [
           "Godlike Burger"
          ],
          [
           "Oxygen"
          ],
          [
           "Star Dynasties"
          ],
          [
           "X4: Foundations"
          ],
          [
           "Heat Death: Survival Train"
          ],
          [
           "Breachway"
          ],
          [
           "The Leviathan's fantasy"
          ],
          [
           "Earth 2150 Trilogy"
          ],
          [
           "MarZ: Tactical Base Defense"
          ],
          [
           "Distrust: Polar Survival"
          ],
          [
           "Anomaly Defenders"
          ],
          [
           "Final Upgrade"
          ],
          [
           "Space Architect"
          ],
          [
           "Half Dead"
          ],
          [
           "W.A.N.D. Project"
          ],
          [
           "Noch"
          ],
          [
           "Life of Delta"
          ],
          [
           "Star Wars Outlaws"
          ],
          [
           "RAGE"
          ],
          [
           "Starpoint Gemini Warlords"
          ],
          [
           "UFO: Aftershock"
          ],
          [
           "Machinika: Atlas"
          ],
          [
           "Deadlight"
          ],
          [
           "Anomaly Korea"
          ],
          [
           "Swarm the City: Zombie Evolved"
          ],
          [
           "UFO: Aftermath"
          ],
          [
           "ENCODYA"
          ],
          [
           "Morbid: The Seven Acolytes"
          ]
         ],
         "hovertemplate": "Nacechowanie recenzji=W większości pozytywne<br>Cena (zł)=%{x}<br>Liczba recenzji=%{y}<br>Tytuł=%{customdata[0]}<extra></extra>",
         "legendgroup": "W większości pozytywne",
         "marker": {
          "color": "yellow",
          "symbol": "circle"
         },
         "mode": "markers",
         "name": "W większości pozytywne",
         "orientation": "v",
         "showlegend": true,
         "type": "scatter",
         "x": [
          169,
          0,
          161.99,
          0,
          124.79,
          86.34,
          199.99,
          84.99,
          169.9,
          111.3,
          49.99,
          0,
          39.97,
          0,
          61.19,
          19.01,
          73.59,
          35.98,
          13.99,
          118.3,
          79.99,
          0,
          48.59,
          0,
          32.39,
          105.63,
          161.99,
          0,
          0,
          27.59,
          7.99,
          69.9,
          89.99,
          114.99,
          17.99,
          92.79,
          71.99,
          95,
          91.99,
          231.99,
          89.9,
          67.99,
          107.99,
          64.39,
          58.17,
          219,
          17.99,
          114.99,
          127.38,
          74.24,
          99.99,
          49.17,
          189.9,
          64.5,
          25.34,
          161.99,
          34.74,
          31.49,
          33.99,
          39.99,
          119,
          41.69,
          16.56,
          114.99,
          89.99,
          34.75,
          91.99,
          8.99,
          31,
          86.42,
          89.9,
          6.49,
          31.24,
          84.48,
          80.99,
          14.99,
          18.49,
          69.9,
          4.99,
          10.79,
          10.99,
          48.78,
          199.99,
          54.99,
          79.99,
          24.41,
          45.99,
          19.99,
          8.99,
          6.99,
          25.19,
          31.99,
          6.99,
          27.99,
          20.99,
          19.99,
          289.9,
          44.99,
          18.74,
          3.59,
          17.99,
          13.49,
          5.99,
          3.59,
          3.59,
          8.99,
          8.99
         ],
         "xaxis": "x",
         "y": [
          706335,
          117730,
          35404,
          7037,
          14937,
          10237,
          137448,
          87431,
          64469,
          1786,
          1880,
          62777,
          17357,
          617904,
          195,
          10660,
          1531,
          27725,
          8557,
          631,
          11394,
          174780,
          9677,
          23735,
          3494,
          7995,
          12960,
          17258,
          10472,
          37,
          4517,
          9624,
          6995,
          1947,
          7324,
          2380,
          3892,
          34,
          74276,
          18096,
          16525,
          1974,
          11110,
          302,
          1673,
          2413,
          2288,
          4144,
          9255,
          3644,
          27375,
          6737,
          13861,
          1898,
          1947,
          163,
          2521,
          296,
          244,
          6691,
          1884,
          2325,
          300,
          7774,
          4499,
          10589,
          4630,
          6511,
          17561,
          1238,
          19734,
          7656,
          1948,
          3012,
          455,
          6259,
          569,
          4383,
          396,
          644,
          661,
          364,
          18621,
          336,
          768,
          52,
          416,
          775,
          1640,
          368,
          392,
          112,
          2679,
          123,
          241,
          87,
          2209,
          11568,
          3012,
          193,
          325,
          9237,
          211,
          200,
          240,
          288,
          812
         ],
         "yaxis": "y"
        },
        {
         "customdata": [
          [
           "SACRIFICE VILLAINS"
          ],
          [
           "STAR WARS™: Episode I: Jedi Power Battles™"
          ],
          [
           "Super Roboy"
          ],
          [
           "Take Notes"
          ],
          [
           "Infest"
          ],
          [
           "Fragrance Point"
          ],
          [
           "Antecrypt"
          ],
          [
           "Gunborg: Dark Matters"
          ],
          [
           "Battle for Vera"
          ],
          [
           "Caught On Camera"
          ],
          [
           "Plasma Attack"
          ],
          [
           "Airship Killer"
          ],
          [
           "Alien Planet Explorer"
          ],
          [
           "They Can Fart"
          ],
          [
           "Zeta Leporis RTS"
          ],
          [
           "Kalzoon"
          ],
          [
           "Myasoid"
          ]
         ],
         "hovertemplate": "Nacechowanie recenzji=Pozytywne<br>Cena (zł)=%{x}<br>Liczba recenzji=%{y}<br>Tytuł=%{customdata[0]}<extra></extra>",
         "legendgroup": "Pozytywne",
         "marker": {
          "color": "yellow",
          "symbol": "circle"
         },
         "mode": "markers",
         "name": "Pozytywne",
         "orientation": "v",
         "showlegend": true,
         "type": "scatter",
         "x": [
          73.59,
          91.99,
          54.39,
          27.99,
          54.39,
          36.99,
          27.5,
          13.79,
          17.99,
          8.99,
          2.24,
          2.24,
          2.24,
          4.49,
          4.59,
          2.24,
          2.24
         ],
         "xaxis": "x",
         "y": [
          17,
          33,
          16,
          17,
          13,
          37,
          19,
          34,
          13,
          44,
          12,
          11,
          10,
          11,
          13,
          19,
          21
         ],
         "yaxis": "y"
        },
        {
         "customdata": [
          [
           "Apex Legends™"
          ],
          [
           "The First Descendant"
          ],
          [
           "War Robots"
          ],
          [
           "Battlefield™ 2042"
          ],
          [
           "Build Master: MarsVille"
          ],
          [
           "Watch Dogs®: Legion"
          ],
          [
           "Echocalypse: The Scarlet Covenant"
          ],
          [
           "Hyper Light Breaker"
          ],
          [
           "Anno 2205™"
          ],
          [
           "Warhammer 40,000: Dawn of War III"
          ],
          [
           "ENDLESS™ Dungeon"
          ],
          [
           "Starfield"
          ],
          [
           "Warhammer 40,000: Warpforge"
          ],
          [
           "Avatar: Frontiers of Pandora™"
          ],
          [
           "Requiem: Desiderium Mortis"
          ],
          [
           "Battlefleet Gothic: Armada"
          ],
          [
           "Warhammer The Horus Heresy: Legions"
          ],
          [
           "FINAL FANTASY VII EVER CRISIS"
          ],
          [
           "Serum"
          ],
          [
           "Infinite Lagrange"
          ],
          [
           "DOOM VFR"
          ],
          [
           "Road 96: Mile 0"
          ],
          [
           "FREEDOM WARS Remastered"
          ],
          [
           "Alien: Rogue Incursion"
          ],
          [
           "Capes"
          ],
          [
           "Anno 2070™"
          ],
          [
           "Necromunda: Hired Gun"
          ],
          [
           "White Sands"
          ],
          [
           "Stargate: Timekeepers"
          ],
          [
           "Outpost: Infinity Siege"
          ],
          [
           "Left to Survive: Shooter PVP"
          ],
          [
           "Creature Lab"
          ],
          [
           "Nova: Space Armada"
          ],
          [
           "VEGA Conflict"
          ],
          [
           "SunAge: Battle for Elysium"
          ],
          [
           "Beholder 3"
          ],
          [
           "Tom Clancy’s Rainbow Six® Extraction"
          ],
          [
           "Vigor"
          ],
          [
           "EARTH DEFENSE FORCE 6"
          ],
          [
           "Star Trek: Infinite"
          ],
          [
           "StarMade"
          ],
          [
           "Three Minutes To Eight"
          ],
          [
           "Border Officer"
          ],
          [
           "Space Hulk: Tactics"
          ],
          [
           "Outmode"
          ],
          [
           "Mechstermination Force"
          ],
          [
           "Starpoint Gemini 3"
          ],
          [
           "SPACECOM"
          ],
          [
           "Space Mechanic Simulator"
          ],
          [
           "Doomsday: Last Survivors"
          ],
          [
           "Glitchpunk"
          ],
          [
           "Northern Lights"
          ],
          [
           "Killing Floor: Incursion"
          ],
          [
           "ROBOTICS;NOTES DaSH"
          ],
          [
           "Мафия Онлайн"
          ],
          [
           "The Technomancer"
          ],
          [
           "Project Entropy"
          ],
          [
           "UFO: Afterlight"
          ],
          [
           "Stay Out"
          ],
          [
           "Riders 2491"
          ],
          [
           "XERA: Survival"
          ],
          [
           "Shadowgrounds Survivor"
          ],
          [
           "Survival Classic"
          ],
          [
           "Last Hope Bunker: Zombie Survival"
          ],
          [
           "Aeon Must Die!"
          ],
          [
           "Armored Warfare"
          ]
         ],
         "hovertemplate": "Nacechowanie recenzji=Mieszane<br>Cena (zł)=%{x}<br>Liczba recenzji=%{y}<br>Tytuł=%{customdata[0]}<extra></extra>",
         "legendgroup": "Mieszane",
         "marker": {
          "color": "orange",
          "symbol": "circle"
         },
         "mode": "markers",
         "name": "Mieszane",
         "orientation": "v",
         "showlegend": true,
         "type": "scatter",
         "x": [
          0,
          0,
          0,
          269.9,
          0,
          37.48,
          0,
          114.99,
          159.9,
          35.8,
          35.6,
          299,
          0,
          289.9,
          0,
          7.49,
          0,
          0,
          64.99,
          0,
          14.75,
          13.74,
          179,
          184.99,
          84.5,
          19.97,
          29.99,
          109.95,
          118.14,
          63.24,
          0,
          29.39,
          0,
          0,
          21.59,
          20.74,
          39.97,
          0,
          249,
          69.49,
          53.99,
          13.59,
          11.49,
          7.49,
          36.99,
          43.99,
          23.99,
          5.24,
          32.39,
          0,
          6.99,
          17.77,
          10.79,
          24.99,
          0,
          5.24,
          0,
          4.99,
          0,
          10.11,
          0,
          5.39,
          10.79,
          2.69,
          10.49,
          0
         ],
         "xaxis": "x",
         "y": [
          976248,
          97779,
          24994,
          227035,
          182,
          8947,
          240,
          2389,
          5662,
          13017,
          2648,
          106827,
          2531,
          2398,
          885,
          4875,
          2831,
          2660,
          179,
          817,
          2164,
          1340,
          942,
          550,
          342,
          11131,
          5295,
          26,
          166,
          10843,
          384,
          269,
          42,
          4847,
          154,
          1711,
          2415,
          5852,
          5325,
          2804,
          2180,
          79,
          1206,
          833,
          24,
          114,
          725,
          180,
          98,
          553,
          153,
          218,
          632,
          201,
          330,
          2116,
          66,
          341,
          24049,
          19,
          7732,
          556,
          302,
          255,
          86,
          4756
         ],
         "yaxis": "y"
        },
        {
         "customdata": [
          [
           "Overwatch® 2"
          ],
          [
           "Homeworld 3"
          ],
          [
           "Etherium"
          ]
         ],
         "hovertemplate": "Nacechowanie recenzji=W większości negatywne<br>Cena (zł)=%{x}<br>Liczba recenzji=%{y}<br>Tytuł=%{customdata[0]}<extra></extra>",
         "legendgroup": "W większości negatywne",
         "marker": {
          "color": "red",
          "symbol": "circle"
         },
         "mode": "markers",
         "name": "W większości negatywne",
         "orientation": "v",
         "showlegend": true,
         "type": "scatter",
         "x": [
          0,
          124.5,
          3.49
         ],
         "xaxis": "x",
         "y": [
          325489,
          4929,
          455
         ],
         "yaxis": "y"
        },
        {
         "customdata": [
          [
           "Command & Conquer™ 4 Tyberyjski zmierzch"
          ]
         ],
         "hovertemplate": "Nacechowanie recenzji=Przytłaczająco negatywne<br>Cena (zł)=%{x}<br>Liczba recenzji=%{y}<br>Tytuł=%{customdata[0]}<extra></extra>",
         "legendgroup": "Przytłaczająco negatywne",
         "marker": {
          "color": "darkred",
          "symbol": "circle"
         },
         "mode": "markers",
         "name": "Przytłaczająco negatywne",
         "orientation": "v",
         "showlegend": true,
         "type": "scatter",
         "x": [
          100
         ],
         "xaxis": "x",
         "y": [
          4076
         ],
         "yaxis": "y"
        },
        {
         "customdata": [
          [
           "Airships: Lost Flotilla"
          ],
          [
           "Horizons: The End Of Words"
          ],
          [
           "Midnight Racer"
          ],
          [
           "Block Strategy"
          ],
          [
           "Midnight Thunder Drive"
          ],
          [
           "Sakura Alien 3"
          ],
          [
           "Airplanes Dogfight Racer"
          ],
          [
           "Cyber Cult City"
          ],
          [
           "PUFIWEHO"
          ]
         ],
         "hovertemplate": "Nacechowanie recenzji=Brak informacji<br>Cena (zł)=%{x}<br>Liczba recenzji=%{y}<br>Tytuł=%{customdata[0]}<extra></extra>",
         "legendgroup": "Brak informacji",
         "marker": {
          "color": "#B6E880",
          "symbol": "circle"
         },
         "mode": "markers",
         "name": "Brak informacji",
         "orientation": "v",
         "showlegend": true,
         "type": "scatter",
         "x": [
          22,
          24.75,
          12,
          29.99,
          22.99,
          11.49,
          2.24,
          10.99,
          4.49
         ],
         "xaxis": "x",
         "y": [
          0,
          0,
          0,
          0,
          0,
          0,
          0,
          0,
          0
         ],
         "yaxis": "y"
        }
       ],
       "layout": {
        "legend": {
         "title": {
          "text": "Nacechowanie recenzji"
         },
         "tracegroupgap": 0
        },
        "template": {
         "data": {
          "bar": [
           {
            "error_x": {
             "color": "#2a3f5f"
            },
            "error_y": {
             "color": "#2a3f5f"
            },
            "marker": {
             "line": {
              "color": "#E5ECF6",
              "width": 0.5
             },
             "pattern": {
              "fillmode": "overlay",
              "size": 10,
              "solidity": 0.2
             }
            },
            "type": "bar"
           }
          ],
          "barpolar": [
           {
            "marker": {
             "line": {
              "color": "#E5ECF6",
              "width": 0.5
             },
             "pattern": {
              "fillmode": "overlay",
              "size": 10,
              "solidity": 0.2
             }
            },
            "type": "barpolar"
           }
          ],
          "carpet": [
           {
            "aaxis": {
             "endlinecolor": "#2a3f5f",
             "gridcolor": "white",
             "linecolor": "white",
             "minorgridcolor": "white",
             "startlinecolor": "#2a3f5f"
            },
            "baxis": {
             "endlinecolor": "#2a3f5f",
             "gridcolor": "white",
             "linecolor": "white",
             "minorgridcolor": "white",
             "startlinecolor": "#2a3f5f"
            },
            "type": "carpet"
           }
          ],
          "choropleth": [
           {
            "colorbar": {
             "outlinewidth": 0,
             "ticks": ""
            },
            "type": "choropleth"
           }
          ],
          "contour": [
           {
            "colorbar": {
             "outlinewidth": 0,
             "ticks": ""
            },
            "colorscale": [
             [
              0,
              "#0d0887"
             ],
             [
              0.1111111111111111,
              "#46039f"
             ],
             [
              0.2222222222222222,
              "#7201a8"
             ],
             [
              0.3333333333333333,
              "#9c179e"
             ],
             [
              0.4444444444444444,
              "#bd3786"
             ],
             [
              0.5555555555555556,
              "#d8576b"
             ],
             [
              0.6666666666666666,
              "#ed7953"
             ],
             [
              0.7777777777777778,
              "#fb9f3a"
             ],
             [
              0.8888888888888888,
              "#fdca26"
             ],
             [
              1,
              "#f0f921"
             ]
            ],
            "type": "contour"
           }
          ],
          "contourcarpet": [
           {
            "colorbar": {
             "outlinewidth": 0,
             "ticks": ""
            },
            "type": "contourcarpet"
           }
          ],
          "heatmap": [
           {
            "colorbar": {
             "outlinewidth": 0,
             "ticks": ""
            },
            "colorscale": [
             [
              0,
              "#0d0887"
             ],
             [
              0.1111111111111111,
              "#46039f"
             ],
             [
              0.2222222222222222,
              "#7201a8"
             ],
             [
              0.3333333333333333,
              "#9c179e"
             ],
             [
              0.4444444444444444,
              "#bd3786"
             ],
             [
              0.5555555555555556,
              "#d8576b"
             ],
             [
              0.6666666666666666,
              "#ed7953"
             ],
             [
              0.7777777777777778,
              "#fb9f3a"
             ],
             [
              0.8888888888888888,
              "#fdca26"
             ],
             [
              1,
              "#f0f921"
             ]
            ],
            "type": "heatmap"
           }
          ],
          "heatmapgl": [
           {
            "colorbar": {
             "outlinewidth": 0,
             "ticks": ""
            },
            "colorscale": [
             [
              0,
              "#0d0887"
             ],
             [
              0.1111111111111111,
              "#46039f"
             ],
             [
              0.2222222222222222,
              "#7201a8"
             ],
             [
              0.3333333333333333,
              "#9c179e"
             ],
             [
              0.4444444444444444,
              "#bd3786"
             ],
             [
              0.5555555555555556,
              "#d8576b"
             ],
             [
              0.6666666666666666,
              "#ed7953"
             ],
             [
              0.7777777777777778,
              "#fb9f3a"
             ],
             [
              0.8888888888888888,
              "#fdca26"
             ],
             [
              1,
              "#f0f921"
             ]
            ],
            "type": "heatmapgl"
           }
          ],
          "histogram": [
           {
            "marker": {
             "pattern": {
              "fillmode": "overlay",
              "size": 10,
              "solidity": 0.2
             }
            },
            "type": "histogram"
           }
          ],
          "histogram2d": [
           {
            "colorbar": {
             "outlinewidth": 0,
             "ticks": ""
            },
            "colorscale": [
             [
              0,
              "#0d0887"
             ],
             [
              0.1111111111111111,
              "#46039f"
             ],
             [
              0.2222222222222222,
              "#7201a8"
             ],
             [
              0.3333333333333333,
              "#9c179e"
             ],
             [
              0.4444444444444444,
              "#bd3786"
             ],
             [
              0.5555555555555556,
              "#d8576b"
             ],
             [
              0.6666666666666666,
              "#ed7953"
             ],
             [
              0.7777777777777778,
              "#fb9f3a"
             ],
             [
              0.8888888888888888,
              "#fdca26"
             ],
             [
              1,
              "#f0f921"
             ]
            ],
            "type": "histogram2d"
           }
          ],
          "histogram2dcontour": [
           {
            "colorbar": {
             "outlinewidth": 0,
             "ticks": ""
            },
            "colorscale": [
             [
              0,
              "#0d0887"
             ],
             [
              0.1111111111111111,
              "#46039f"
             ],
             [
              0.2222222222222222,
              "#7201a8"
             ],
             [
              0.3333333333333333,
              "#9c179e"
             ],
             [
              0.4444444444444444,
              "#bd3786"
             ],
             [
              0.5555555555555556,
              "#d8576b"
             ],
             [
              0.6666666666666666,
              "#ed7953"
             ],
             [
              0.7777777777777778,
              "#fb9f3a"
             ],
             [
              0.8888888888888888,
              "#fdca26"
             ],
             [
              1,
              "#f0f921"
             ]
            ],
            "type": "histogram2dcontour"
           }
          ],
          "mesh3d": [
           {
            "colorbar": {
             "outlinewidth": 0,
             "ticks": ""
            },
            "type": "mesh3d"
           }
          ],
          "parcoords": [
           {
            "line": {
             "colorbar": {
              "outlinewidth": 0,
              "ticks": ""
             }
            },
            "type": "parcoords"
           }
          ],
          "pie": [
           {
            "automargin": true,
            "type": "pie"
           }
          ],
          "scatter": [
           {
            "fillpattern": {
             "fillmode": "overlay",
             "size": 10,
             "solidity": 0.2
            },
            "type": "scatter"
           }
          ],
          "scatter3d": [
           {
            "line": {
             "colorbar": {
              "outlinewidth": 0,
              "ticks": ""
             }
            },
            "marker": {
             "colorbar": {
              "outlinewidth": 0,
              "ticks": ""
             }
            },
            "type": "scatter3d"
           }
          ],
          "scattercarpet": [
           {
            "marker": {
             "colorbar": {
              "outlinewidth": 0,
              "ticks": ""
             }
            },
            "type": "scattercarpet"
           }
          ],
          "scattergeo": [
           {
            "marker": {
             "colorbar": {
              "outlinewidth": 0,
              "ticks": ""
             }
            },
            "type": "scattergeo"
           }
          ],
          "scattergl": [
           {
            "marker": {
             "colorbar": {
              "outlinewidth": 0,
              "ticks": ""
             }
            },
            "type": "scattergl"
           }
          ],
          "scattermapbox": [
           {
            "marker": {
             "colorbar": {
              "outlinewidth": 0,
              "ticks": ""
             }
            },
            "type": "scattermapbox"
           }
          ],
          "scatterpolar": [
           {
            "marker": {
             "colorbar": {
              "outlinewidth": 0,
              "ticks": ""
             }
            },
            "type": "scatterpolar"
           }
          ],
          "scatterpolargl": [
           {
            "marker": {
             "colorbar": {
              "outlinewidth": 0,
              "ticks": ""
             }
            },
            "type": "scatterpolargl"
           }
          ],
          "scatterternary": [
           {
            "marker": {
             "colorbar": {
              "outlinewidth": 0,
              "ticks": ""
             }
            },
            "type": "scatterternary"
           }
          ],
          "surface": [
           {
            "colorbar": {
             "outlinewidth": 0,
             "ticks": ""
            },
            "colorscale": [
             [
              0,
              "#0d0887"
             ],
             [
              0.1111111111111111,
              "#46039f"
             ],
             [
              0.2222222222222222,
              "#7201a8"
             ],
             [
              0.3333333333333333,
              "#9c179e"
             ],
             [
              0.4444444444444444,
              "#bd3786"
             ],
             [
              0.5555555555555556,
              "#d8576b"
             ],
             [
              0.6666666666666666,
              "#ed7953"
             ],
             [
              0.7777777777777778,
              "#fb9f3a"
             ],
             [
              0.8888888888888888,
              "#fdca26"
             ],
             [
              1,
              "#f0f921"
             ]
            ],
            "type": "surface"
           }
          ],
          "table": [
           {
            "cells": {
             "fill": {
              "color": "#EBF0F8"
             },
             "line": {
              "color": "white"
             }
            },
            "header": {
             "fill": {
              "color": "#C8D4E3"
             },
             "line": {
              "color": "white"
             }
            },
            "type": "table"
           }
          ]
         },
         "layout": {
          "annotationdefaults": {
           "arrowcolor": "#2a3f5f",
           "arrowhead": 0,
           "arrowwidth": 1
          },
          "autotypenumbers": "strict",
          "coloraxis": {
           "colorbar": {
            "outlinewidth": 0,
            "ticks": ""
           }
          },
          "colorscale": {
           "diverging": [
            [
             0,
             "#8e0152"
            ],
            [
             0.1,
             "#c51b7d"
            ],
            [
             0.2,
             "#de77ae"
            ],
            [
             0.3,
             "#f1b6da"
            ],
            [
             0.4,
             "#fde0ef"
            ],
            [
             0.5,
             "#f7f7f7"
            ],
            [
             0.6,
             "#e6f5d0"
            ],
            [
             0.7,
             "#b8e186"
            ],
            [
             0.8,
             "#7fbc41"
            ],
            [
             0.9,
             "#4d9221"
            ],
            [
             1,
             "#276419"
            ]
           ],
           "sequential": [
            [
             0,
             "#0d0887"
            ],
            [
             0.1111111111111111,
             "#46039f"
            ],
            [
             0.2222222222222222,
             "#7201a8"
            ],
            [
             0.3333333333333333,
             "#9c179e"
            ],
            [
             0.4444444444444444,
             "#bd3786"
            ],
            [
             0.5555555555555556,
             "#d8576b"
            ],
            [
             0.6666666666666666,
             "#ed7953"
            ],
            [
             0.7777777777777778,
             "#fb9f3a"
            ],
            [
             0.8888888888888888,
             "#fdca26"
            ],
            [
             1,
             "#f0f921"
            ]
           ],
           "sequentialminus": [
            [
             0,
             "#0d0887"
            ],
            [
             0.1111111111111111,
             "#46039f"
            ],
            [
             0.2222222222222222,
             "#7201a8"
            ],
            [
             0.3333333333333333,
             "#9c179e"
            ],
            [
             0.4444444444444444,
             "#bd3786"
            ],
            [
             0.5555555555555556,
             "#d8576b"
            ],
            [
             0.6666666666666666,
             "#ed7953"
            ],
            [
             0.7777777777777778,
             "#fb9f3a"
            ],
            [
             0.8888888888888888,
             "#fdca26"
            ],
            [
             1,
             "#f0f921"
            ]
           ]
          },
          "colorway": [
           "#636efa",
           "#EF553B",
           "#00cc96",
           "#ab63fa",
           "#FFA15A",
           "#19d3f3",
           "#FF6692",
           "#B6E880",
           "#FF97FF",
           "#FECB52"
          ],
          "font": {
           "color": "#2a3f5f"
          },
          "geo": {
           "bgcolor": "white",
           "lakecolor": "white",
           "landcolor": "#E5ECF6",
           "showlakes": true,
           "showland": true,
           "subunitcolor": "white"
          },
          "hoverlabel": {
           "align": "left"
          },
          "hovermode": "closest",
          "mapbox": {
           "style": "light"
          },
          "paper_bgcolor": "white",
          "plot_bgcolor": "#E5ECF6",
          "polar": {
           "angularaxis": {
            "gridcolor": "white",
            "linecolor": "white",
            "ticks": ""
           },
           "bgcolor": "#E5ECF6",
           "radialaxis": {
            "gridcolor": "white",
            "linecolor": "white",
            "ticks": ""
           }
          },
          "scene": {
           "xaxis": {
            "backgroundcolor": "#E5ECF6",
            "gridcolor": "white",
            "gridwidth": 2,
            "linecolor": "white",
            "showbackground": true,
            "ticks": "",
            "zerolinecolor": "white"
           },
           "yaxis": {
            "backgroundcolor": "#E5ECF6",
            "gridcolor": "white",
            "gridwidth": 2,
            "linecolor": "white",
            "showbackground": true,
            "ticks": "",
            "zerolinecolor": "white"
           },
           "zaxis": {
            "backgroundcolor": "#E5ECF6",
            "gridcolor": "white",
            "gridwidth": 2,
            "linecolor": "white",
            "showbackground": true,
            "ticks": "",
            "zerolinecolor": "white"
           }
          },
          "shapedefaults": {
           "line": {
            "color": "#2a3f5f"
           }
          },
          "ternary": {
           "aaxis": {
            "gridcolor": "white",
            "linecolor": "white",
            "ticks": ""
           },
           "baxis": {
            "gridcolor": "white",
            "linecolor": "white",
            "ticks": ""
           },
           "bgcolor": "#E5ECF6",
           "caxis": {
            "gridcolor": "white",
            "linecolor": "white",
            "ticks": ""
           }
          },
          "title": {
           "x": 0.05
          },
          "xaxis": {
           "automargin": true,
           "gridcolor": "white",
           "linecolor": "white",
           "ticks": "",
           "title": {
            "standoff": 15
           },
           "zerolinecolor": "white",
           "zerolinewidth": 2
          },
          "yaxis": {
           "automargin": true,
           "gridcolor": "white",
           "linecolor": "white",
           "ticks": "",
           "title": {
            "standoff": 15
           },
           "zerolinecolor": "white",
           "zerolinewidth": 2
          }
         }
        },
        "title": {
         "text": "Cena vs. liczba recenzji"
        },
        "xaxis": {
         "anchor": "y",
         "domain": [
          0,
          1
         ],
         "title": {
          "text": "Cena (zł)"
         }
        },
        "yaxis": {
         "anchor": "x",
         "domain": [
          0,
          1
         ],
         "title": {
          "text": "Liczba recenzji"
         }
        }
       }
      }
     },
     "metadata": {},
     "output_type": "display_data"
    }
   ],
   "source": [
    "# 1. Zależność między ceną a liczbą recenzji\n",
    "\n",
    "import plotly.express as px\n",
    "\n",
    "# Ustalamy kolejność nacechowania recenzji od najbardziej pozytywnych do najmniej pozytywnych\n",
    "category_order = ['Przytłaczająco pozytywne', 'Bardzo pozytywne', 'W większości pozytywne', 'Pozytywne', 'Mieszane', 'W większości negatywne', 'Przytłaczająco negatywne']\n",
    "\n",
    "# Tworzymy wykres\n",
    "fig = px.scatter(df, x='Cena', y='Liczba recenzji', color='Nacechowanie recenzji',\n",
    "                 title='Cena vs. liczba recenzji', labels={'Cena': 'Cena (zł)', 'Liczba recenzji': 'Liczba recenzji'},\n",
    "                 hover_data=['Tytuł'],\n",
    "                 category_orders={'Nacechowanie recenzji': category_order},\n",
    "                 color_continuous_scale='RdYlGn',  # Ustawienie palety kolorów\n",
    "                 color_discrete_map={'Przytłaczająco pozytywne': 'green', 'Bardzo pozytywne': 'lightgreen', \n",
    "                                     'W większości pozytywne': 'yellow', 'Pozytywne': 'yellow', \n",
    "                                     'Mieszane': 'orange', 'W większości negatywne': 'red', 'Przytłaczająco negatywne': 'darkred'})\n",
    "\n",
    "# Wyświetlamy wykres\n",
    "fig.show()\n",
    "\n"
   ]
  },
  {
   "cell_type": "code",
   "execution_count": 89,
   "metadata": {},
   "outputs": [
    {
     "data": {
      "application/vnd.plotly.v1+json": {
       "config": {
        "plotlyServerURL": "https://plot.ly"
       },
       "data": [
        {
         "alignmentgroup": "True",
         "hovertemplate": "Nacechowanie recenzji=%{x}<br>Cena (zł)=%{y}<extra></extra>",
         "legendgroup": "",
         "marker": {
          "color": "#636efa"
         },
         "name": "",
         "notched": false,
         "offsetgroup": "",
         "orientation": "v",
         "showlegend": false,
         "type": "box",
         "x": [
          "Bardzo pozytywne",
          "Przytłaczająco pozytywne",
          "Bardzo pozytywne",
          "Bardzo pozytywne",
          "W większości pozytywne",
          "Bardzo pozytywne",
          "Bardzo pozytywne",
          "Bardzo pozytywne",
          "Przytłaczająco pozytywne",
          "Bardzo pozytywne",
          "Mieszane",
          "Przytłaczająco pozytywne",
          "Przytłaczająco pozytywne",
          "W większości pozytywne",
          "Bardzo pozytywne",
          "Przytłaczająco pozytywne",
          "Bardzo pozytywne",
          "W większości pozytywne",
          "Bardzo pozytywne",
          "Bardzo pozytywne",
          "W większości pozytywne",
          "Bardzo pozytywne",
          "Przytłaczająco pozytywne",
          "W większości pozytywne",
          "Bardzo pozytywne",
          "Bardzo pozytywne",
          "Bardzo pozytywne",
          "Bardzo pozytywne",
          "Bardzo pozytywne",
          "Bardzo pozytywne",
          "Bardzo pozytywne",
          "W większości pozytywne",
          "Bardzo pozytywne",
          "W większości pozytywne",
          "Bardzo pozytywne",
          "Bardzo pozytywne",
          "W większości pozytywne",
          "Bardzo pozytywne",
          "Przytłaczająco pozytywne",
          "Bardzo pozytywne",
          "Bardzo pozytywne",
          "Mieszane",
          "W większości pozytywne",
          "W większości negatywne",
          "Przytłaczająco pozytywne",
          "Mieszane",
          "Bardzo pozytywne",
          "W większości pozytywne",
          "Przytłaczająco pozytywne",
          "Mieszane",
          "Mieszane",
          "Bardzo pozytywne",
          "W większości pozytywne",
          "W większości pozytywne",
          "Przytłaczająco pozytywne",
          "Bardzo pozytywne",
          "Bardzo pozytywne",
          "W większości pozytywne",
          "W większości pozytywne",
          "Bardzo pozytywne",
          "Przytłaczająco pozytywne",
          "W większości pozytywne",
          "Bardzo pozytywne",
          "W większości pozytywne",
          "Bardzo pozytywne",
          "Bardzo pozytywne",
          "Przytłaczająco pozytywne",
          "Bardzo pozytywne",
          "Bardzo pozytywne",
          "Przytłaczająco pozytywne",
          "Bardzo pozytywne",
          "Przytłaczająco pozytywne",
          "Bardzo pozytywne",
          "Mieszane",
          "W większości pozytywne",
          "Bardzo pozytywne",
          "Bardzo pozytywne",
          "Bardzo pozytywne",
          "Bardzo pozytywne",
          "W większości pozytywne",
          "W większości pozytywne",
          "Bardzo pozytywne",
          "Przytłaczająco pozytywne",
          "Bardzo pozytywne",
          "W większości pozytywne",
          "Przytłaczająco pozytywne",
          "Przytłaczająco pozytywne",
          "Mieszane",
          "Bardzo pozytywne",
          "Przytłaczająco pozytywne",
          "W większości pozytywne",
          "Przytłaczająco pozytywne",
          "W większości pozytywne",
          "Przytłaczająco pozytywne",
          "Bardzo pozytywne",
          "W większości pozytywne",
          "Mieszane",
          "Bardzo pozytywne",
          "Mieszane",
          "W większości pozytywne",
          "Bardzo pozytywne",
          "Przytłaczająco pozytywne",
          "Mieszane",
          "Bardzo pozytywne",
          "Bardzo pozytywne",
          "Bardzo pozytywne",
          "Przytłaczająco pozytywne",
          "Bardzo pozytywne",
          "Bardzo pozytywne",
          "Bardzo pozytywne",
          "Przytłaczająco pozytywne",
          "Bardzo pozytywne",
          "Bardzo pozytywne",
          "W większości pozytywne",
          "Przytłaczająco pozytywne",
          "Bardzo pozytywne",
          "Przytłaczająco pozytywne",
          "W większości pozytywne",
          "Bardzo pozytywne",
          "Bardzo pozytywne",
          "Przytłaczająco pozytywne",
          "Bardzo pozytywne",
          "W większości pozytywne",
          "Bardzo pozytywne",
          "Bardzo pozytywne",
          "Bardzo pozytywne",
          "Przytłaczająco pozytywne",
          "Przytłaczająco pozytywne",
          "Bardzo pozytywne",
          "W większości pozytywne",
          "Bardzo pozytywne",
          "Bardzo pozytywne",
          "Bardzo pozytywne",
          "Bardzo pozytywne",
          "W większości pozytywne",
          "Przytłaczająco pozytywne",
          "Mieszane",
          "Mieszane",
          "Przytłaczająco pozytywne",
          "Mieszane",
          "W większości pozytywne",
          "Przytłaczająco pozytywne",
          "Bardzo pozytywne",
          "Mieszane",
          "Bardzo pozytywne",
          "Bardzo pozytywne",
          "Bardzo pozytywne",
          "W większości pozytywne",
          "Bardzo pozytywne",
          "Bardzo pozytywne",
          "Przytłaczająco pozytywne",
          "Bardzo pozytywne",
          "W większości pozytywne",
          "Bardzo pozytywne",
          "Bardzo pozytywne",
          "Bardzo pozytywne",
          "Bardzo pozytywne",
          "W większości pozytywne",
          "Przytłaczająco pozytywne",
          "Bardzo pozytywne",
          "Bardzo pozytywne",
          "W większości pozytywne",
          "Bardzo pozytywne",
          "Mieszane",
          "Mieszane",
          "Bardzo pozytywne",
          "Bardzo pozytywne",
          "Bardzo pozytywne",
          "W większości pozytywne",
          "Przytłaczająco pozytywne",
          "Bardzo pozytywne",
          "Mieszane",
          "W większości pozytywne",
          "W większości pozytywne",
          "Przytłaczająco pozytywne",
          "Bardzo pozytywne",
          "Bardzo pozytywne",
          "Przytłaczająco pozytywne",
          "Bardzo pozytywne",
          "Przytłaczająco pozytywne",
          "W większości pozytywne",
          "W większości pozytywne",
          "W większości pozytywne",
          "Bardzo pozytywne",
          "Bardzo pozytywne",
          "Bardzo pozytywne",
          "Bardzo pozytywne",
          "Bardzo pozytywne",
          "Bardzo pozytywne",
          "W większości pozytywne",
          "Przytłaczająco pozytywne",
          "Bardzo pozytywne",
          "Bardzo pozytywne",
          "Bardzo pozytywne",
          "Bardzo pozytywne",
          "Bardzo pozytywne",
          "Bardzo pozytywne",
          "Bardzo pozytywne",
          "Przytłaczająco pozytywne",
          "Bardzo pozytywne",
          "Mieszane",
          "Brak informacji",
          "Przytłaczająco pozytywne",
          "Bardzo pozytywne",
          "W większości pozytywne",
          "Bardzo pozytywne",
          "Bardzo pozytywne",
          "Bardzo pozytywne",
          "Bardzo pozytywne",
          "Przytłaczająco pozytywne",
          "Pozytywne",
          "Bardzo pozytywne",
          "W większości pozytywne",
          "Bardzo pozytywne",
          "Bardzo pozytywne",
          "Bardzo pozytywne",
          "Przytłaczająco pozytywne",
          "Bardzo pozytywne",
          "Bardzo pozytywne",
          "Bardzo pozytywne",
          "Bardzo pozytywne",
          "Bardzo pozytywne",
          "Pozytywne",
          "Bardzo pozytywne",
          "Bardzo pozytywne",
          "Bardzo pozytywne",
          "W większości pozytywne",
          "Bardzo pozytywne",
          "Bardzo pozytywne",
          "Bardzo pozytywne",
          "W większości pozytywne",
          "Bardzo pozytywne",
          "Mieszane",
          "Bardzo pozytywne",
          "Bardzo pozytywne",
          "Przytłaczająco pozytywne",
          "W większości pozytywne",
          "Bardzo pozytywne",
          "Bardzo pozytywne",
          "Mieszane",
          "W większości pozytywne",
          "Bardzo pozytywne",
          "W większości pozytywne",
          "Bardzo pozytywne",
          "Bardzo pozytywne",
          "Bardzo pozytywne",
          "Przytłaczająco pozytywne",
          "Przytłaczająco pozytywne",
          "Bardzo pozytywne",
          "Bardzo pozytywne",
          "Bardzo pozytywne",
          "Bardzo pozytywne",
          "Bardzo pozytywne",
          "Bardzo pozytywne",
          "Pozytywne",
          "Bardzo pozytywne",
          "Przytłaczająco pozytywne",
          "Bardzo pozytywne",
          "W większości pozytywne",
          "W większości pozytywne",
          "Bardzo pozytywne",
          "Mieszane",
          "Mieszane",
          "Bardzo pozytywne",
          "Przytłaczająco pozytywne",
          "W większości pozytywne",
          "Bardzo pozytywne",
          "W większości pozytywne",
          "Bardzo pozytywne",
          "W większości pozytywne",
          "Mieszane",
          "Bardzo pozytywne",
          "W większości pozytywne",
          "Bardzo pozytywne",
          "Przytłaczająco negatywne",
          "Bardzo pozytywne",
          "Mieszane",
          "W większości pozytywne",
          "Bardzo pozytywne",
          "Bardzo pozytywne",
          "Bardzo pozytywne",
          "Bardzo pozytywne",
          "Bardzo pozytywne",
          "Bardzo pozytywne",
          "Bardzo pozytywne",
          "Mieszane",
          "Bardzo pozytywne",
          "Bardzo pozytywne",
          "Mieszane",
          "Bardzo pozytywne",
          "Bardzo pozytywne",
          "W większości pozytywne",
          "Bardzo pozytywne",
          "Bardzo pozytywne",
          "Mieszane",
          "Bardzo pozytywne",
          "Bardzo pozytywne",
          "Bardzo pozytywne",
          "Bardzo pozytywne",
          "Bardzo pozytywne",
          "Bardzo pozytywne",
          "Bardzo pozytywne",
          "Bardzo pozytywne",
          "Przytłaczająco pozytywne",
          "W większości pozytywne",
          "Bardzo pozytywne",
          "Bardzo pozytywne",
          "Bardzo pozytywne",
          "Bardzo pozytywne",
          "Przytłaczająco pozytywne",
          "Bardzo pozytywne",
          "Bardzo pozytywne",
          "Bardzo pozytywne",
          "Przytłaczająco pozytywne",
          "Bardzo pozytywne",
          "Mieszane",
          "W większości pozytywne",
          "W większości pozytywne",
          "Przytłaczająco pozytywne",
          "Bardzo pozytywne",
          "W większości negatywne",
          "Bardzo pozytywne",
          "Bardzo pozytywne",
          "W większości pozytywne",
          "W większości pozytywne",
          "W większości pozytywne",
          "Mieszane",
          "W większości pozytywne",
          "Mieszane",
          "Przytłaczająco pozytywne",
          "W większości pozytywne",
          "Pozytywne",
          "Bardzo pozytywne",
          "Bardzo pozytywne",
          "Mieszane",
          "Przytłaczająco pozytywne",
          "Bardzo pozytywne",
          "Bardzo pozytywne",
          "Przytłaczająco pozytywne",
          "W większości pozytywne",
          "Mieszane",
          "Mieszane",
          "Przytłaczająco pozytywne",
          "Bardzo pozytywne",
          "Bardzo pozytywne",
          "Bardzo pozytywne",
          "Bardzo pozytywne",
          "Bardzo pozytywne",
          "W większości pozytywne",
          "Mieszane",
          "Przytłaczająco pozytywne",
          "Bardzo pozytywne",
          "Bardzo pozytywne",
          "Mieszane",
          "Brak informacji",
          "W większości pozytywne",
          "W większości pozytywne",
          "Bardzo pozytywne",
          "Bardzo pozytywne",
          "Bardzo pozytywne",
          "Bardzo pozytywne",
          "Bardzo pozytywne",
          "Bardzo pozytywne",
          "Bardzo pozytywne",
          "Bardzo pozytywne",
          "Bardzo pozytywne",
          "Bardzo pozytywne",
          "Bardzo pozytywne",
          "Mieszane",
          "W większości pozytywne",
          "Bardzo pozytywne",
          "Bardzo pozytywne",
          "Przytłaczająco pozytywne",
          "Bardzo pozytywne",
          "Bardzo pozytywne",
          "Bardzo pozytywne",
          "Bardzo pozytywne",
          "Bardzo pozytywne",
          "Bardzo pozytywne",
          "Bardzo pozytywne",
          "Przytłaczająco pozytywne",
          "W większości pozytywne",
          "Bardzo pozytywne",
          "Bardzo pozytywne",
          "Bardzo pozytywne",
          "W większości pozytywne",
          "Bardzo pozytywne",
          "W większości pozytywne",
          "W większości pozytywne",
          "W większości pozytywne",
          "Bardzo pozytywne",
          "Bardzo pozytywne",
          "Bardzo pozytywne",
          "Bardzo pozytywne",
          "Bardzo pozytywne",
          "Bardzo pozytywne",
          "W większości pozytywne",
          "Mieszane",
          "Bardzo pozytywne",
          "Bardzo pozytywne",
          "W większości pozytywne",
          "Mieszane",
          "W większości pozytywne",
          "Bardzo pozytywne",
          "Bardzo pozytywne",
          "Przytłaczająco pozytywne",
          "Mieszane",
          "Bardzo pozytywne",
          "W większości pozytywne",
          "Przytłaczająco pozytywne",
          "W większości pozytywne",
          "Bardzo pozytywne",
          "Bardzo pozytywne",
          "Mieszane",
          "Bardzo pozytywne",
          "Przytłaczająco pozytywne",
          "Bardzo pozytywne",
          "Bardzo pozytywne",
          "Bardzo pozytywne",
          "Bardzo pozytywne",
          "Bardzo pozytywne",
          "Bardzo pozytywne",
          "Bardzo pozytywne",
          "Mieszane",
          "W większości pozytywne",
          "Bardzo pozytywne",
          "Bardzo pozytywne",
          "W większości pozytywne",
          "Bardzo pozytywne",
          "Bardzo pozytywne",
          "Bardzo pozytywne",
          "Bardzo pozytywne",
          "Przytłaczająco pozytywne",
          "Bardzo pozytywne",
          "W większości pozytywne",
          "W większości pozytywne",
          "Przytłaczająco pozytywne",
          "Przytłaczająco pozytywne",
          "Bardzo pozytywne",
          "Bardzo pozytywne",
          "Bardzo pozytywne",
          "Bardzo pozytywne",
          "Bardzo pozytywne",
          "W większości pozytywne",
          "Mieszane",
          "Pozytywne",
          "Bardzo pozytywne",
          "Przytłaczająco pozytywne",
          "Bardzo pozytywne",
          "Bardzo pozytywne",
          "Bardzo pozytywne",
          "W większości pozytywne",
          "Brak informacji",
          "Przytłaczająco pozytywne",
          "W większości pozytywne",
          "Bardzo pozytywne",
          "Bardzo pozytywne",
          "Bardzo pozytywne",
          "Bardzo pozytywne",
          "Bardzo pozytywne",
          "Bardzo pozytywne",
          "Przytłaczająco pozytywne",
          "Bardzo pozytywne",
          "Mieszane",
          "Bardzo pozytywne",
          "W większości pozytywne",
          "Bardzo pozytywne",
          "Mieszane",
          "Mieszane",
          "Przytłaczająco pozytywne",
          "Bardzo pozytywne",
          "Bardzo pozytywne",
          "Mieszane",
          "Bardzo pozytywne",
          "Bardzo pozytywne",
          "Bardzo pozytywne",
          "Bardzo pozytywne",
          "Bardzo pozytywne",
          "Bardzo pozytywne",
          "Bardzo pozytywne",
          "Bardzo pozytywne",
          "Mieszane",
          "Bardzo pozytywne",
          "W większości pozytywne",
          "Bardzo pozytywne",
          "W większości pozytywne",
          "Bardzo pozytywne",
          "Bardzo pozytywne",
          "Bardzo pozytywne",
          "Bardzo pozytywne",
          "Brak informacji",
          "Bardzo pozytywne",
          "Mieszane",
          "W większości pozytywne",
          "Bardzo pozytywne",
          "Bardzo pozytywne",
          "Bardzo pozytywne",
          "Bardzo pozytywne",
          "W większości pozytywne",
          "Bardzo pozytywne",
          "Pozytywne",
          "Bardzo pozytywne",
          "Bardzo pozytywne",
          "W większości pozytywne",
          "Brak informacji",
          "W większości pozytywne",
          "Mieszane",
          "Mieszane",
          "Bardzo pozytywne",
          "Bardzo pozytywne",
          "W większości pozytywne",
          "Pozytywne",
          "Bardzo pozytywne",
          "W większości pozytywne",
          "Bardzo pozytywne",
          "Bardzo pozytywne",
          "Bardzo pozytywne",
          "Bardzo pozytywne",
          "Pozytywne",
          "W większości pozytywne",
          "Bardzo pozytywne",
          "Mieszane",
          "Bardzo pozytywne",
          "Mieszane",
          "W większości pozytywne",
          "Bardzo pozytywne",
          "Mieszane",
          "Mieszane",
          "Bardzo pozytywne",
          "Bardzo pozytywne",
          "W większości pozytywne",
          "Bardzo pozytywne",
          "Bardzo pozytywne",
          "W większości pozytywne",
          "Bardzo pozytywne",
          "Bardzo pozytywne",
          "Bardzo pozytywne",
          "Bardzo pozytywne",
          "Bardzo pozytywne",
          "Bardzo pozytywne",
          "Brak informacji",
          "W większości pozytywne",
          "W większości pozytywne",
          "Bardzo pozytywne",
          "Pozytywne",
          "Bardzo pozytywne",
          "Przytłaczająco pozytywne",
          "Bardzo pozytywne",
          "Mieszane",
          "Brak informacji",
          "Bardzo pozytywne",
          "Mieszane",
          "Przytłaczająco pozytywne",
          "Brak informacji",
          "Pozytywne",
          "Mieszane",
          "Bardzo pozytywne",
          "Przytłaczająco pozytywne",
          "Przytłaczająco pozytywne",
          "Bardzo pozytywne",
          "Mieszane",
          "Mieszane",
          "Brak informacji",
          "Mieszane",
          "Bardzo pozytywne",
          "W większości negatywne",
          "W większości pozytywne",
          "Pozytywne",
          "Pozytywne",
          "Pozytywne",
          "Mieszane",
          "Mieszane",
          "W większości pozytywne",
          "Bardzo pozytywne",
          "Mieszane",
          "Bardzo pozytywne",
          "Mieszane",
          "Bardzo pozytywne",
          "Bardzo pozytywne",
          "Bardzo pozytywne",
          "Bardzo pozytywne",
          "Pozytywne",
          "W większości pozytywne",
          "Pozytywne",
          "Pozytywne",
          "Pozytywne",
          "Przytłaczająco pozytywne",
          "Bardzo pozytywne",
          "W większości pozytywne",
          "Bardzo pozytywne",
          "W większości pozytywne",
          "Bardzo pozytywne",
          "Przytłaczająco pozytywne",
          "Mieszane",
          "Bardzo pozytywne",
          "W większości pozytywne",
          "Mieszane"
         ],
         "x0": " ",
         "xaxis": "x",
         "y": [
          0,
          45.86,
          42.25,
          10.79,
          169,
          45.86,
          199,
          46.24,
          55.49,
          157.49,
          0,
          45.99,
          15.99,
          0,
          13.89,
          111.99,
          229.99,
          161.99,
          64.49,
          164.99,
          0,
          55.99,
          71.99,
          124.79,
          75.59,
          72.59,
          35.63,
          26.56,
          22.99,
          91.99,
          35.74,
          86.34,
          69.99,
          199.99,
          31.75,
          63.99,
          84.99,
          49.75,
          13.79,
          9.19,
          20.39,
          0,
          169.9,
          0,
          59.99,
          0,
          15.6,
          111.3,
          107.99,
          269.9,
          0,
          72.99,
          49.99,
          0,
          80.49,
          75,
          83.39,
          39.97,
          0,
          43.19,
          59.99,
          61.19,
          0,
          19.01,
          59.6,
          58.49,
          138.99,
          0,
          45.99,
          19.99,
          29.99,
          118.14,
          29.99,
          37.48,
          73.59,
          91.99,
          79,
          71.99,
          67.6,
          35.98,
          13.99,
          24.75,
          274.99,
          12.6,
          118.3,
          138.99,
          55.19,
          0,
          59.99,
          8.99,
          79.99,
          45.99,
          0,
          45.99,
          231.99,
          48.59,
          114.99,
          31.99,
          159.9,
          0,
          55.19,
          0,
          35.8,
          219,
          185.59,
          12.6,
          70.39,
          138.99,
          94.99,
          99,
          119.9,
          29.97,
          138.99,
          32.39,
          64.99,
          107.46,
          138.99,
          105.63,
          45.99,
          219,
          21.59,
          82.99,
          161.99,
          161.99,
          21.24,
          44.99,
          114.99,
          45.99,
          68.64,
          0,
          69.9,
          89.99,
          31.99,
          114.99,
          0,
          45.99,
          35.6,
          299,
          44.99,
          0,
          27.59,
          45.99,
          50,
          289.9,
          32.24,
          0,
          14.29,
          7.99,
          184.99,
          78.99,
          71.99,
          124,
          69.9,
          54.99,
          122.99,
          62.99,
          79.99,
          89.99,
          35.99,
          59,
          43.19,
          114.99,
          114.99,
          0,
          7.49,
          71.99,
          59.99,
          149.99,
          17.99,
          67.99,
          109,
          0,
          92.79,
          71.99,
          34.99,
          79.9,
          27.99,
          24.99,
          69.3,
          68.99,
          95,
          91.99,
          231.99,
          39.99,
          10.79,
          21.59,
          91.99,
          35.99,
          72.99,
          89.9,
          44.99,
          91.99,
          91.99,
          39.99,
          71.49,
          67.52,
          71.2,
          88.49,
          89.99,
          9.99,
          0,
          22,
          74.99,
          43.99,
          67.99,
          67.99,
          138.99,
          79.99,
          33.99,
          91.99,
          73.59,
          59.99,
          107.99,
          73.59,
          73.59,
          35.74,
          17.81,
          49.99,
          69.49,
          34.68,
          259,
          45.99,
          91.99,
          68.7,
          254.8,
          184.99,
          64.39,
          99,
          99,
          249,
          58.17,
          214.99,
          64.99,
          259,
          71.99,
          171.9,
          219,
          35.99,
          6.89,
          0,
          17.99,
          21.12,
          114.99,
          39.99,
          42,
          254.8,
          45.99,
          115,
          45.99,
          184.99,
          14.66,
          44.99,
          55.59,
          19.99,
          54.39,
          7.19,
          53.99,
          26.99,
          127.38,
          74.24,
          46.99,
          14.75,
          13.74,
          9.59,
          28.74,
          99.99,
          39.99,
          49.17,
          47.99,
          189.9,
          179,
          35.99,
          64.5,
          35.59,
          100,
          0,
          184.99,
          25.34,
          0,
          35.99,
          35.99,
          26.99,
          21.59,
          34.99,
          50.99,
          84.5,
          159.9,
          65.99,
          19.97,
          42.99,
          161.99,
          161.99,
          39.9,
          40.47,
          29.99,
          69.99,
          77.99,
          100,
          100,
          100,
          34.99,
          138.99,
          114.99,
          138.99,
          34.74,
          138.74,
          45.99,
          33.99,
          114.99,
          22.99,
          11.59,
          21.99,
          71.99,
          71.99,
          85.9,
          109.95,
          31.49,
          33.99,
          35.99,
          124.99,
          124.5,
          30.9,
          9.19,
          39.99,
          119,
          41.69,
          118.14,
          16.56,
          63.24,
          114.99,
          114.99,
          27.99,
          24.06,
          27.5,
          0,
          107.99,
          59.99,
          26.7,
          36.79,
          89.99,
          29.39,
          0,
          105.79,
          104.99,
          100,
          20.74,
          100,
          4.59,
          34.75,
          0,
          22.99,
          24.9,
          25.44,
          21.59,
          24.75,
          91.99,
          8.99,
          100,
          0,
          91.99,
          32.39,
          16.56,
          23.39,
          28.99,
          71.99,
          7.19,
          7.19,
          17.99,
          20.74,
          31,
          17.81,
          91.99,
          91.99,
          91.99,
          91.99,
          91.99,
          91.99,
          89.99,
          107.99,
          86.24,
          44.19,
          86.42,
          89.99,
          89.99,
          89.99,
          89.9,
          85.9,
          6.49,
          31.24,
          84.48,
          119.9,
          80,
          82.99,
          8.99,
          229,
          17.24,
          80.99,
          39.97,
          13.67,
          119,
          14.99,
          0,
          18.49,
          0,
          21.99,
          71.99,
          249,
          8.59,
          69.9,
          22.99,
          4.99,
          21.12,
          16.59,
          69.49,
          67.99,
          67.99,
          16.09,
          67.99,
          67.99,
          13.49,
          67.49,
          73.59,
          82.79,
          53.99,
          10.79,
          63.99,
          149.99,
          10.99,
          8.09,
          3.59,
          67.99,
          59.99,
          59.99,
          29.99,
          48.78,
          199.99,
          58.49,
          37.79,
          11.59,
          22.99,
          55.93,
          10.99,
          55.19,
          54.99,
          13.59,
          54.39,
          54.39,
          53.99,
          53.99,
          53.99,
          53.99,
          79.99,
          12,
          49.59,
          24.41,
          23.99,
          46.99,
          46.8,
          10.79,
          45.99,
          114.99,
          45.99,
          45.99,
          11.49,
          8.69,
          45.99,
          49.99,
          7.49,
          36.99,
          43.99,
          43.99,
          43.99,
          43.99,
          41.4,
          47.59,
          32.19,
          44.99,
          209.99,
          68.99,
          13.49,
          35.99,
          23.99,
          36.99,
          19.99,
          18.39,
          8.99,
          107.99,
          39.99,
          35.99,
          36.99,
          29.99,
          35.99,
          5.24,
          6.99,
          3.84,
          6.89,
          2.24,
          37.99,
          25.19,
          138.99,
          36.99,
          36.99,
          28.79,
          31.99,
          22.99,
          6.99,
          32.39,
          0,
          26.99,
          3.59,
          27.99,
          27.5,
          0,
          20.99,
          4.49,
          27.19,
          10.19,
          24.99,
          13.79,
          19.99,
          7.91,
          6.99,
          18.39,
          17.77,
          289.9,
          21.59,
          10.79,
          24.99,
          24.99,
          13.49,
          44.99,
          44.99,
          18.99,
          18.74,
          35.99,
          18.39,
          22.99,
          14.49,
          5.74,
          11.69,
          11.49,
          3.59,
          17.99,
          4.49,
          17.99,
          46.99,
          17.99,
          9.19,
          0,
          2.24,
          17.24,
          5.24,
          15,
          10.99,
          8.99,
          0,
          3.49,
          14.99,
          13.49,
          14.39,
          4.99,
          0,
          4.49,
          10.11,
          13.75,
          3.49,
          13.49,
          2.24,
          2.24,
          2.24,
          0,
          5.39,
          5.99,
          10.79,
          10.79,
          11.74,
          2.69,
          8.98,
          2.89,
          10.99,
          10.79,
          4.49,
          3.59,
          4.59,
          2.24,
          2.24,
          9.99,
          8.99,
          3.59,
          10.99,
          8.99,
          2.24,
          8.99,
          10.49,
          8.99,
          8.99,
          0
         ],
         "y0": " ",
         "yaxis": "y"
        }
       ],
       "layout": {
        "boxmode": "group",
        "legend": {
         "tracegroupgap": 0
        },
        "template": {
         "data": {
          "bar": [
           {
            "error_x": {
             "color": "#2a3f5f"
            },
            "error_y": {
             "color": "#2a3f5f"
            },
            "marker": {
             "line": {
              "color": "#E5ECF6",
              "width": 0.5
             },
             "pattern": {
              "fillmode": "overlay",
              "size": 10,
              "solidity": 0.2
             }
            },
            "type": "bar"
           }
          ],
          "barpolar": [
           {
            "marker": {
             "line": {
              "color": "#E5ECF6",
              "width": 0.5
             },
             "pattern": {
              "fillmode": "overlay",
              "size": 10,
              "solidity": 0.2
             }
            },
            "type": "barpolar"
           }
          ],
          "carpet": [
           {
            "aaxis": {
             "endlinecolor": "#2a3f5f",
             "gridcolor": "white",
             "linecolor": "white",
             "minorgridcolor": "white",
             "startlinecolor": "#2a3f5f"
            },
            "baxis": {
             "endlinecolor": "#2a3f5f",
             "gridcolor": "white",
             "linecolor": "white",
             "minorgridcolor": "white",
             "startlinecolor": "#2a3f5f"
            },
            "type": "carpet"
           }
          ],
          "choropleth": [
           {
            "colorbar": {
             "outlinewidth": 0,
             "ticks": ""
            },
            "type": "choropleth"
           }
          ],
          "contour": [
           {
            "colorbar": {
             "outlinewidth": 0,
             "ticks": ""
            },
            "colorscale": [
             [
              0,
              "#0d0887"
             ],
             [
              0.1111111111111111,
              "#46039f"
             ],
             [
              0.2222222222222222,
              "#7201a8"
             ],
             [
              0.3333333333333333,
              "#9c179e"
             ],
             [
              0.4444444444444444,
              "#bd3786"
             ],
             [
              0.5555555555555556,
              "#d8576b"
             ],
             [
              0.6666666666666666,
              "#ed7953"
             ],
             [
              0.7777777777777778,
              "#fb9f3a"
             ],
             [
              0.8888888888888888,
              "#fdca26"
             ],
             [
              1,
              "#f0f921"
             ]
            ],
            "type": "contour"
           }
          ],
          "contourcarpet": [
           {
            "colorbar": {
             "outlinewidth": 0,
             "ticks": ""
            },
            "type": "contourcarpet"
           }
          ],
          "heatmap": [
           {
            "colorbar": {
             "outlinewidth": 0,
             "ticks": ""
            },
            "colorscale": [
             [
              0,
              "#0d0887"
             ],
             [
              0.1111111111111111,
              "#46039f"
             ],
             [
              0.2222222222222222,
              "#7201a8"
             ],
             [
              0.3333333333333333,
              "#9c179e"
             ],
             [
              0.4444444444444444,
              "#bd3786"
             ],
             [
              0.5555555555555556,
              "#d8576b"
             ],
             [
              0.6666666666666666,
              "#ed7953"
             ],
             [
              0.7777777777777778,
              "#fb9f3a"
             ],
             [
              0.8888888888888888,
              "#fdca26"
             ],
             [
              1,
              "#f0f921"
             ]
            ],
            "type": "heatmap"
           }
          ],
          "heatmapgl": [
           {
            "colorbar": {
             "outlinewidth": 0,
             "ticks": ""
            },
            "colorscale": [
             [
              0,
              "#0d0887"
             ],
             [
              0.1111111111111111,
              "#46039f"
             ],
             [
              0.2222222222222222,
              "#7201a8"
             ],
             [
              0.3333333333333333,
              "#9c179e"
             ],
             [
              0.4444444444444444,
              "#bd3786"
             ],
             [
              0.5555555555555556,
              "#d8576b"
             ],
             [
              0.6666666666666666,
              "#ed7953"
             ],
             [
              0.7777777777777778,
              "#fb9f3a"
             ],
             [
              0.8888888888888888,
              "#fdca26"
             ],
             [
              1,
              "#f0f921"
             ]
            ],
            "type": "heatmapgl"
           }
          ],
          "histogram": [
           {
            "marker": {
             "pattern": {
              "fillmode": "overlay",
              "size": 10,
              "solidity": 0.2
             }
            },
            "type": "histogram"
           }
          ],
          "histogram2d": [
           {
            "colorbar": {
             "outlinewidth": 0,
             "ticks": ""
            },
            "colorscale": [
             [
              0,
              "#0d0887"
             ],
             [
              0.1111111111111111,
              "#46039f"
             ],
             [
              0.2222222222222222,
              "#7201a8"
             ],
             [
              0.3333333333333333,
              "#9c179e"
             ],
             [
              0.4444444444444444,
              "#bd3786"
             ],
             [
              0.5555555555555556,
              "#d8576b"
             ],
             [
              0.6666666666666666,
              "#ed7953"
             ],
             [
              0.7777777777777778,
              "#fb9f3a"
             ],
             [
              0.8888888888888888,
              "#fdca26"
             ],
             [
              1,
              "#f0f921"
             ]
            ],
            "type": "histogram2d"
           }
          ],
          "histogram2dcontour": [
           {
            "colorbar": {
             "outlinewidth": 0,
             "ticks": ""
            },
            "colorscale": [
             [
              0,
              "#0d0887"
             ],
             [
              0.1111111111111111,
              "#46039f"
             ],
             [
              0.2222222222222222,
              "#7201a8"
             ],
             [
              0.3333333333333333,
              "#9c179e"
             ],
             [
              0.4444444444444444,
              "#bd3786"
             ],
             [
              0.5555555555555556,
              "#d8576b"
             ],
             [
              0.6666666666666666,
              "#ed7953"
             ],
             [
              0.7777777777777778,
              "#fb9f3a"
             ],
             [
              0.8888888888888888,
              "#fdca26"
             ],
             [
              1,
              "#f0f921"
             ]
            ],
            "type": "histogram2dcontour"
           }
          ],
          "mesh3d": [
           {
            "colorbar": {
             "outlinewidth": 0,
             "ticks": ""
            },
            "type": "mesh3d"
           }
          ],
          "parcoords": [
           {
            "line": {
             "colorbar": {
              "outlinewidth": 0,
              "ticks": ""
             }
            },
            "type": "parcoords"
           }
          ],
          "pie": [
           {
            "automargin": true,
            "type": "pie"
           }
          ],
          "scatter": [
           {
            "fillpattern": {
             "fillmode": "overlay",
             "size": 10,
             "solidity": 0.2
            },
            "type": "scatter"
           }
          ],
          "scatter3d": [
           {
            "line": {
             "colorbar": {
              "outlinewidth": 0,
              "ticks": ""
             }
            },
            "marker": {
             "colorbar": {
              "outlinewidth": 0,
              "ticks": ""
             }
            },
            "type": "scatter3d"
           }
          ],
          "scattercarpet": [
           {
            "marker": {
             "colorbar": {
              "outlinewidth": 0,
              "ticks": ""
             }
            },
            "type": "scattercarpet"
           }
          ],
          "scattergeo": [
           {
            "marker": {
             "colorbar": {
              "outlinewidth": 0,
              "ticks": ""
             }
            },
            "type": "scattergeo"
           }
          ],
          "scattergl": [
           {
            "marker": {
             "colorbar": {
              "outlinewidth": 0,
              "ticks": ""
             }
            },
            "type": "scattergl"
           }
          ],
          "scattermapbox": [
           {
            "marker": {
             "colorbar": {
              "outlinewidth": 0,
              "ticks": ""
             }
            },
            "type": "scattermapbox"
           }
          ],
          "scatterpolar": [
           {
            "marker": {
             "colorbar": {
              "outlinewidth": 0,
              "ticks": ""
             }
            },
            "type": "scatterpolar"
           }
          ],
          "scatterpolargl": [
           {
            "marker": {
             "colorbar": {
              "outlinewidth": 0,
              "ticks": ""
             }
            },
            "type": "scatterpolargl"
           }
          ],
          "scatterternary": [
           {
            "marker": {
             "colorbar": {
              "outlinewidth": 0,
              "ticks": ""
             }
            },
            "type": "scatterternary"
           }
          ],
          "surface": [
           {
            "colorbar": {
             "outlinewidth": 0,
             "ticks": ""
            },
            "colorscale": [
             [
              0,
              "#0d0887"
             ],
             [
              0.1111111111111111,
              "#46039f"
             ],
             [
              0.2222222222222222,
              "#7201a8"
             ],
             [
              0.3333333333333333,
              "#9c179e"
             ],
             [
              0.4444444444444444,
              "#bd3786"
             ],
             [
              0.5555555555555556,
              "#d8576b"
             ],
             [
              0.6666666666666666,
              "#ed7953"
             ],
             [
              0.7777777777777778,
              "#fb9f3a"
             ],
             [
              0.8888888888888888,
              "#fdca26"
             ],
             [
              1,
              "#f0f921"
             ]
            ],
            "type": "surface"
           }
          ],
          "table": [
           {
            "cells": {
             "fill": {
              "color": "#EBF0F8"
             },
             "line": {
              "color": "white"
             }
            },
            "header": {
             "fill": {
              "color": "#C8D4E3"
             },
             "line": {
              "color": "white"
             }
            },
            "type": "table"
           }
          ]
         },
         "layout": {
          "annotationdefaults": {
           "arrowcolor": "#2a3f5f",
           "arrowhead": 0,
           "arrowwidth": 1
          },
          "autotypenumbers": "strict",
          "coloraxis": {
           "colorbar": {
            "outlinewidth": 0,
            "ticks": ""
           }
          },
          "colorscale": {
           "diverging": [
            [
             0,
             "#8e0152"
            ],
            [
             0.1,
             "#c51b7d"
            ],
            [
             0.2,
             "#de77ae"
            ],
            [
             0.3,
             "#f1b6da"
            ],
            [
             0.4,
             "#fde0ef"
            ],
            [
             0.5,
             "#f7f7f7"
            ],
            [
             0.6,
             "#e6f5d0"
            ],
            [
             0.7,
             "#b8e186"
            ],
            [
             0.8,
             "#7fbc41"
            ],
            [
             0.9,
             "#4d9221"
            ],
            [
             1,
             "#276419"
            ]
           ],
           "sequential": [
            [
             0,
             "#0d0887"
            ],
            [
             0.1111111111111111,
             "#46039f"
            ],
            [
             0.2222222222222222,
             "#7201a8"
            ],
            [
             0.3333333333333333,
             "#9c179e"
            ],
            [
             0.4444444444444444,
             "#bd3786"
            ],
            [
             0.5555555555555556,
             "#d8576b"
            ],
            [
             0.6666666666666666,
             "#ed7953"
            ],
            [
             0.7777777777777778,
             "#fb9f3a"
            ],
            [
             0.8888888888888888,
             "#fdca26"
            ],
            [
             1,
             "#f0f921"
            ]
           ],
           "sequentialminus": [
            [
             0,
             "#0d0887"
            ],
            [
             0.1111111111111111,
             "#46039f"
            ],
            [
             0.2222222222222222,
             "#7201a8"
            ],
            [
             0.3333333333333333,
             "#9c179e"
            ],
            [
             0.4444444444444444,
             "#bd3786"
            ],
            [
             0.5555555555555556,
             "#d8576b"
            ],
            [
             0.6666666666666666,
             "#ed7953"
            ],
            [
             0.7777777777777778,
             "#fb9f3a"
            ],
            [
             0.8888888888888888,
             "#fdca26"
            ],
            [
             1,
             "#f0f921"
            ]
           ]
          },
          "colorway": [
           "#636efa",
           "#EF553B",
           "#00cc96",
           "#ab63fa",
           "#FFA15A",
           "#19d3f3",
           "#FF6692",
           "#B6E880",
           "#FF97FF",
           "#FECB52"
          ],
          "font": {
           "color": "#2a3f5f"
          },
          "geo": {
           "bgcolor": "white",
           "lakecolor": "white",
           "landcolor": "#E5ECF6",
           "showlakes": true,
           "showland": true,
           "subunitcolor": "white"
          },
          "hoverlabel": {
           "align": "left"
          },
          "hovermode": "closest",
          "mapbox": {
           "style": "light"
          },
          "paper_bgcolor": "white",
          "plot_bgcolor": "#E5ECF6",
          "polar": {
           "angularaxis": {
            "gridcolor": "white",
            "linecolor": "white",
            "ticks": ""
           },
           "bgcolor": "#E5ECF6",
           "radialaxis": {
            "gridcolor": "white",
            "linecolor": "white",
            "ticks": ""
           }
          },
          "scene": {
           "xaxis": {
            "backgroundcolor": "#E5ECF6",
            "gridcolor": "white",
            "gridwidth": 2,
            "linecolor": "white",
            "showbackground": true,
            "ticks": "",
            "zerolinecolor": "white"
           },
           "yaxis": {
            "backgroundcolor": "#E5ECF6",
            "gridcolor": "white",
            "gridwidth": 2,
            "linecolor": "white",
            "showbackground": true,
            "ticks": "",
            "zerolinecolor": "white"
           },
           "zaxis": {
            "backgroundcolor": "#E5ECF6",
            "gridcolor": "white",
            "gridwidth": 2,
            "linecolor": "white",
            "showbackground": true,
            "ticks": "",
            "zerolinecolor": "white"
           }
          },
          "shapedefaults": {
           "line": {
            "color": "#2a3f5f"
           }
          },
          "ternary": {
           "aaxis": {
            "gridcolor": "white",
            "linecolor": "white",
            "ticks": ""
           },
           "baxis": {
            "gridcolor": "white",
            "linecolor": "white",
            "ticks": ""
           },
           "bgcolor": "#E5ECF6",
           "caxis": {
            "gridcolor": "white",
            "linecolor": "white",
            "ticks": ""
           }
          },
          "title": {
           "x": 0.05
          },
          "xaxis": {
           "automargin": true,
           "gridcolor": "white",
           "linecolor": "white",
           "ticks": "",
           "title": {
            "standoff": 15
           },
           "zerolinecolor": "white",
           "zerolinewidth": 2
          },
          "yaxis": {
           "automargin": true,
           "gridcolor": "white",
           "linecolor": "white",
           "ticks": "",
           "title": {
            "standoff": 15
           },
           "zerolinecolor": "white",
           "zerolinewidth": 2
          }
         }
        },
        "title": {
         "text": "Cena w zależności od nacechowania recenzji"
        },
        "xaxis": {
         "anchor": "y",
         "categoryarray": [
          "Przytłaczająco pozytywne",
          "Bardzo pozytywne",
          "W większości pozytywne",
          "Pozytywne",
          "Mieszane",
          "W większości negatywne",
          "Przytłaczająco negatywne"
         ],
         "categoryorder": "array",
         "domain": [
          0,
          1
         ],
         "title": {
          "text": "Nacechowanie recenzji"
         }
        },
        "yaxis": {
         "anchor": "x",
         "domain": [
          0,
          1
         ],
         "title": {
          "text": "Cena (zł)"
         }
        }
       }
      }
     },
     "metadata": {},
     "output_type": "display_data"
    }
   ],
   "source": [
    "# 2. Zależność między ceną a nacechowaniem recenzji\n",
    "\n",
    "# Mapowanie nacechowania na wartości numeryczne\n",
    "sentiment_map = {\n",
    "    'Bardzo pozytywne': 3,\n",
    "    'Pozytywne': 2,\n",
    "    'Mieszane': 1,\n",
    "    'Negatywne': 0\n",
    "}\n",
    "df['sentiment_score'] = df['Nacechowanie recenzji'].map(sentiment_map)\n",
    "\n",
    "# Określenie kolejności dla 'Nacechowanie recenzji'\n",
    "category_order = ['Przytłaczająco pozytywne', 'Bardzo pozytywne', 'W większości pozytywne', 'Pozytywne', 'Mieszane', 'W większości negatywne', 'Przytłaczająco negatywne']\n",
    "\n",
    "# Scatter plot\n",
    "fig = px.box(df, x='Nacechowanie recenzji', y='Cena', title='Cena w zależności od nacechowania recenzji',\n",
    "             labels={'Cena': 'Cena (zł)', 'Nacechowanie recenzji': 'Nacechowanie recenzji'},\n",
    "             category_orders={'Nacechowanie recenzji': category_order})  # Dodajemy sortowanie\n",
    "\n",
    "fig.show()\n",
    "\n"
   ]
  },
  {
   "cell_type": "code",
   "execution_count": 56,
   "metadata": {},
   "outputs": [
    {
     "data": {
      "application/vnd.plotly.v1+json": {
       "config": {
        "plotlyServerURL": "https://plot.ly"
       },
       "data": [
        {
         "customdata": [
          [
           "Marvel Rivals"
          ],
          [
           "DOOM Eternal"
          ],
          [
           "Among Us"
          ],
          [
           "Subnautica: Below Zero"
          ],
          [
           "Cyberpunk 2077"
          ],
          [
           "Stellaris"
          ],
          [
           "Warhammer 40,000: Space Marine 2"
          ],
          [
           "Frostpunk"
          ],
          [
           "S.T.A.L.K.E.R. 2: Heart of Chornobyl"
          ],
          [
           "Jurassic World Evolution 2"
          ],
          [
           "Lies of P"
          ],
          [
           "BlazBlue Entropy Effect"
          ],
          [
           "They Are Billions"
          ],
          [
           "Atomic Heart"
          ],
          [
           "Planetary Annihilation: TITANS"
          ],
          [
           "ENDLESS™ Legend"
          ],
          [
           "Chained Together"
          ],
          [
           "Project Zomboid"
          ],
          [
           "ENDLESS™ Space 2"
          ],
          [
           "Barotrauma"
          ],
          [
           "Metro Exodus"
          ],
          [
           "Void Crew"
          ],
          [
           "Halo: The Master Chief Collection"
          ],
          [
           "This War of Mine"
          ],
          [
           "Plague Inc: Evolved"
          ],
          [
           "DOOM 3"
          ],
          [
           "The Long Drive"
          ],
          [
           "The Invincible"
          ],
          [
           "Starship Troopers: Terran Command"
          ],
          [
           "MechWarrior 5: Mercenaries"
          ],
          [
           "STAR WARS™: The Old Republic™"
          ],
          [
           "Hatsune Miku: Project DIVA Mega Mix+"
          ],
          [
           "Aliens: Dark Descent"
          ],
          [
           "Unturned"
          ],
          [
           "LOCKDOWN Protocol"
          ],
          [
           "The Long Dark"
          ],
          [
           "Chernobylite Complete Edition"
          ],
          [
           "Job Simulator"
          ],
          [
           "Fallout 4"
          ],
          [
           "Space Engineers"
          ],
          [
           "System Shock"
          ],
          [
           "Halo Wars: Definitive Edition"
          ],
          [
           "Metro 2033 Redux"
          ],
          [
           "Zompiercer"
          ],
          [
           "RoboCop: Rogue City"
          ],
          [
           "Nuclear Nightmare"
          ],
          [
           "Sins of a Solar Empire®: Rebellion"
          ],
          [
           "Days Gone"
          ],
          [
           "Sins of a Solar Empire II"
          ],
          [
           "Metro: Last Light Redux"
          ],
          [
           "ASTRONEER"
          ],
          [
           "Starcom: Unknown Space"
          ],
          [
           "The Riftbreaker"
          ],
          [
           "Aliens: Fireteam Elite"
          ],
          [
           "Annihilate The Spance"
          ],
          [
           "Arizona Sunshine® 2"
          ],
          [
           "Sovereign Syndicate"
          ],
          [
           "Horizon Zero Dawn™ Complete Edition"
          ],
          [
           "Nuclear Option"
          ],
          [
           "Pathologic 2"
          ],
          [
           "Road 96 🛣️"
          ],
          [
           "Fallout: New Vegas"
          ],
          [
           "Nobody Wants to Die"
          ],
          [
           "SPORE™"
          ],
          [
           "Wolfenstein: The New Order"
          ],
          [
           "Amenti"
          ],
          [
           "Lightyear Frontier"
          ],
          [
           "Deep Rock Galactic: Survivor"
          ],
          [
           "AI: THE SOMNIUM FILES - nirvanA Initiative"
          ],
          [
           "Fallout Shelter"
          ],
          [
           "AI: The Somnium Files"
          ],
          [
           "Warhammer 40,000: Gladius - Relics of War"
          ],
          [
           "Astrometica"
          ],
          [
           "Wolfenstein II: The New Colossus"
          ],
          [
           "Endoparasitic 2"
          ],
          [
           "The Thing: Remastered"
          ],
          [
           "GNOSIA"
          ],
          [
           "Warhammer 40,000: Boltgun"
          ],
          [
           "Clone Drone in the Hyperdome"
          ],
          [
           "State of Decay 2: Juggernaut Edition"
          ],
          [
           "The Last Stand: Aftermath"
          ],
          [
           "High On Life"
          ],
          [
           "Drill Core"
          ],
          [
           "ZEPHON"
          ],
          [
           "Pacific Drive"
          ],
          [
           "Beyond: Two Souls"
          ],
          [
           "From Glory To Goo"
          ],
          [
           "Creatures of Ava"
          ],
          [
           "Jurassic World Evolution"
          ],
          [
           "Zero Escape: The Nonary Games"
          ],
          [
           "Killing Floor 2"
          ],
          [
           "Starship EVO"
          ],
          [
           "Bright Memory: Infinite"
          ],
          [
           "The Sapling"
          ],
          [
           "Cataclysm: Dark Days Ahead"
          ],
          [
           "Uncle Chop's Rocket Shop"
          ],
          [
           "60 Seconds! Reatomized"
          ],
          [
           "Wasteland 3"
          ],
          [
           "Deus Ex: Human Revolution - Director's Cut"
          ],
          [
           "Quasimorph"
          ],
          [
           "New Arc Line"
          ],
          [
           "Homeworld Remastered Collection"
          ],
          [
           "VLADiK BRUTAL"
          ],
          [
           "Mechabellum"
          ],
          [
           "Age of Wonders: Planetfall"
          ],
          [
           "SUPERHOT VR"
          ],
          [
           "Doors: Paradox"
          ],
          [
           "Mutant Year Zero: Road to Eden"
          ],
          [
           "Cepheus Protocol"
          ],
          [
           "Space Reign"
          ],
          [
           "Quantum Break"
          ],
          [
           "NEBULOUS: Fleet Command"
          ],
          [
           "Seed of the Dead: Sweet Home"
          ],
          [
           "Aliens vs. Ghosts"
          ],
          [
           "Horizon Forbidden West™ Edycja kompletna"
          ],
          [
           "Serious Sam 2"
          ],
          [
           "Shin Megami Tensei III Nocturne HD Remaster"
          ],
          [
           "Call of Duty®: Black Ops III"
          ],
          [
           "Warhammer 40,000: Battlesector"
          ],
          [
           "Crysis 2 Remastered"
          ],
          [
           "Crysis 3 Remastered"
          ],
          [
           "ARMORED CORE™ VI FIRES OF RUBICON™"
          ],
          [
           "EARTH DEFENSE FORCE 5"
          ],
          [
           "Ratchet & Clank: Rift Apart"
          ],
          [
           "S.T.A.L.K.E.R.: Shadow of Chernobyl"
          ],
          [
           "Space Haven"
          ],
          [
           "Wall World"
          ],
          [
           "Saints Row IV: Re-Elected"
          ],
          [
           "Supreme Commander"
          ],
          [
           "Space Prison"
          ],
          [
           "Call of Duty®: Black Ops II"
          ],
          [
           "Togainu no Chi ~Lost Blood~"
          ],
          [
           "BATTLETECH"
          ],
          [
           "Takara Cards"
          ],
          [
           "Fallout 2: A Post Nuclear Role Playing Game"
          ],
          [
           "Muv-Luv (マブラヴ)"
          ],
          [
           "Sunset Overdrive"
          ],
          [
           "Zero Escape: Zero Time Dilemma"
          ],
          [
           "Crying Suns"
          ],
          [
           "Tasty Planet Forever"
          ],
          [
           "Beholder"
          ],
          [
           "Caravan SandWitch"
          ],
          [
           "Gatekeeper"
          ],
          [
           "Five Nations"
          ],
          [
           "Dreamfall: The Longest Journey"
          ],
          [
           "Unnamed Space Idle"
          ],
          [
           "Revolution Idle"
          ],
          [
           "Endoparasitic"
          ],
          [
           "S.T.A.L.K.E.R.: Clear Sky"
          ],
          [
           "Into the Breach"
          ],
          [
           "FAR: Changing Tides"
          ],
          [
           "Syberia"
          ],
          [
           "The Abandoned Planet"
          ],
          [
           "Assassin's Creed® Syndicate"
          ],
          [
           "Forever Skies"
          ],
          [
           "STEINS;GATE ELITE"
          ],
          [
           "Stationeers"
          ],
          [
           "Far Cry®"
          ],
          [
           "Cyber Manhunt 2: New World - The Hacking Simulator"
          ],
          [
           "Dome Keeper"
          ],
          [
           "Stardeus"
          ],
          [
           "Command & Conquer 3: Gniew Kane'a"
          ],
          [
           "Command & Conquer™ Red Alert™ 3"
          ],
          [
           "Command & Conquer 3: Wojny o tyberium"
          ],
          [
           "60 Seconds!"
          ],
          [
           "Kristala"
          ],
          [
           "Star Trek: Resurgence"
          ],
          [
           "Terminator: Dark Fate - Defiance"
          ],
          [
           "Stellar Warfare"
          ],
          [
           "Eternal Starlight VR"
          ],
          [
           "Rain World"
          ],
          [
           "Bright Memory"
          ],
          [
           "I Have No Mouth, and I Must Scream"
          ],
          [
           "HELLDIVERS™ Dive Harder Edition"
          ],
          [
           "XCOM: Enemy Unknown"
          ],
          [
           "Destroy All Humans!"
          ],
          [
           "Thief™ Gold"
          ],
          [
           "Goodbye Deponia"
          ],
          [
           "Genome Guardian"
          ],
          [
           "Utopia Must Fall"
          ],
          [
           "Viscera Cleanup Detail"
          ],
          [
           "Vanquish"
          ],
          [
           "Still Wakes the Deep"
          ],
          [
           "Command & Conquer™ Tiberian Sun™ and Firestorm™"
          ],
          [
           "Vaporum: Lockdown"
          ],
          [
           "Command & Conquer Red Alert™ 2 and Yuri’s Revenge™"
          ],
          [
           "Bridge Constructor Portal"
          ],
          [
           "Sid Meier's Alpha Centauri™ Planetary Pack"
          ],
          [
           "Arcanum: Of Steamworks and Magick Obscura"
          ],
          [
           "Command & Conquer™ Red Alert™ 3- Powstanie"
          ],
          [
           "Poker Master"
          ],
          [
           "ENDER LILIES: Quietus of the Knights"
          ],
          [
           "Wasteland 2: Director's Cut"
          ],
          [
           "Krush Kill 'N Destroy Xtreme"
          ],
          [
           "Dead Grid"
          ],
          [
           "Tasty Planet: Back for Seconds"
          ],
          [
           "Rigid Force Alpha"
          ],
          [
           "Deponia Doomsday"
          ],
          [
           "Chaos on Deponia"
          ],
          [
           "Neon Abyss"
          ],
          [
           "Particle Fleet: Emergence"
          ],
          [
           "Citizen Sleeper"
          ],
          [
           "LEGO® Star Wars™ III - The Clone Wars™"
          ],
          [
           "DYSMANTLE"
          ],
          [
           "The Walking Dead: The Final Season"
          ],
          [
           "STAR WARS™: Bounty Hunter™"
          ],
          [
           "Distance"
          ],
          [
           "Ben 10: Power Trip"
          ],
          [
           "The Devil Within: Satgat"
          ],
          [
           "Fallout 3: Game of the Year Edition"
          ],
          [
           "Project Wingman"
          ],
          [
           "InfraSpace"
          ],
          [
           "BioShock™"
          ],
          [
           "World War Z"
          ],
          [
           "Chicken Police: Into the HIVE!"
          ],
          [
           "Oblivion Override"
          ],
          [
           "Battlezone 98 Redux"
          ],
          [
           "LEGO ® Gwiezdne Wojny™: Saga Skywalkerów"
          ],
          [
           "My Protogen Engineer ⚙️"
          ],
          [
           "Battlezone: Combat Commander"
          ],
          [
           "Arizona Sunshine® Remake"
          ],
          [
           "Cell to Singularity - Evolution Never Ends"
          ],
          [
           "Tasty Planet"
          ],
          [
           "Original War"
          ],
          [
           "Chorus"
          ],
          [
           "Beholder 2"
          ],
          [
           "Risk of Rain Returns"
          ],
          [
           "My Furry Protogen 2 🐾"
          ],
          [
           "Starbound"
          ],
          [
           "The End Is Nigh"
          ],
          [
           "Universe Horizon"
          ],
          [
           "Executive Assault 2"
          ],
          [
           "Eden Crafters"
          ],
          [
           "BLADE CHIMERA"
          ],
          [
           "Solar Ash"
          ],
          [
           "My Time at Sandrock"
          ],
          [
           "FAR: Lone Sails"
          ],
          [
           "Deponia"
          ],
          [
           "ATOM RPG: Post-apocalyptic indie game"
          ],
          [
           "Whispers of a Machine"
          ],
          [
           "Airborne Kingdom"
          ],
          [
           "Lacuna – A Sci-Fi Noir Adventure"
          ],
          [
           "Half-Life: Blue Shift"
          ],
          [
           "Beyond Good & Evil - 20th Anniversary Edition"
          ],
          [
           "Dungeon of the ENDLESS™"
          ],
          [
           "The Mobius Machine"
          ],
          [
           "Obenseuer"
          ],
          [
           "Detective Girl of the Steam City"
          ],
          [
           "Red Matter"
          ],
          [
           "Serious Sam HD: The First Encounter"
          ],
          [
           "NORCO"
          ],
          [
           "while True: learn()"
          ],
          [
           "Azure Striker GUNVOLT 3"
          ],
          [
           "Binary Domain"
          ],
          [
           "STAR WARS™ Knights of the Old Republic™ II - The Sith Lords™"
          ],
          [
           "Avorion"
          ],
          [
           "Serious Sam Classics: Revolution"
          ],
          [
           "My Furry Protogen 🐾"
          ],
          [
           "ATOM RPG Trudograd"
          ],
          [
           "FINAL FANTASY VIII"
          ],
          [
           "FINAL FANTASY VII"
          ],
          [
           "Bears In Space"
          ],
          [
           "Taimanin Yukikaze"
          ],
          [
           "Retrowave World"
          ],
          [
           "CHAOS;CHILD"
          ],
          [
           "REMNANT II®"
          ],
          [
           "SUNLESS SEA"
          ],
          [
           "Infested Planet"
          ],
          [
           "Tiny Room Stories: Town Mystery"
          ],
          [
           "Hard Truck Apocalypse / Ex Machina"
          ],
          [
           "Titan Station"
          ],
          [
           "LEGO® STAR WARS™: The Force Awakens"
          ],
          [
           "ICEY"
          ],
          [
           "System Shock 2"
          ],
          [
           "PILGRIM"
          ],
          [
           "SiN Episodes: Emergence"
          ],
          [
           "Anomaly: Warzone Earth"
          ],
          [
           "CASE: Animatronics"
          ],
          [
           "UBERMOSH"
          ],
          [
           "Greedland"
          ],
          [
           "Surviving Mars"
          ],
          [
           "Twilight Town: A Cyberpunk FPS"
          ],
          [
           "State of Decay: YOSE"
          ],
          [
           "Space Pirate Trainer"
          ],
          [
           "SIMULACRA"
          ],
          [
           "Galaxy Life"
          ],
          [
           "Deep Space Cache"
          ],
          [
           "Verne: The Shape of Fantasy"
          ],
          [
           "What Lies in the Multiverse"
          ],
          [
           "Death Roads: Tournament"
          ],
          [
           "BDSM: Big Drunk Satanic Massacre"
          ],
          [
           "Shrot"
          ],
          [
           "Azure Striker Gunvolt"
          ],
          [
           "ROBOTICS;NOTES ELITE"
          ],
          [
           "Gun Metal"
          ],
          [
           "Fallout 3"
          ],
          [
           "Samorost 2"
          ],
          [
           "Cyber Manhunt"
          ],
          [
           "Eden Survivors"
          ],
          [
           "Twilight Manor: Roguelite FPS"
          ],
          [
           "The Trench"
          ],
          [
           "Escape Machine City: Airborne"
          ],
          [
           "Mimicry"
          ],
          [
           "Symmodance"
          ],
          [
           "Supreme Commander 2"
          ],
          [
           "Vaporum"
          ],
          [
           "Retrowave 2"
          ],
          [
           "Dead Synchronicity: Tomorrow Comes Today"
          ],
          [
           "Astebreed: Definitive Edition"
          ],
          [
           "Krążowniki"
          ],
          [
           "Algo Bot"
          ],
          [
           "Executive Assault"
          ],
          [
           "Joggernauts"
          ],
          [
           "Alt-Frequencies"
          ],
          [
           "Trash Quest"
          ],
          [
           "Deep Space Battle Simulator"
          ],
          [
           "Void Scrappers"
          ],
          [
           "1bitHeart"
          ],
          [
           "Seen"
          ],
          [
           "tomorrow won't come for those without ██████"
          ]
         ],
         "hovertemplate": "Nacechowanie recenzji=Bardzo pozytywne<br>Rok wydania=%{x}<br>Cena (zł)=%{y}<br>Tytuł=%{customdata[0]}<extra></extra>",
         "legendgroup": "Bardzo pozytywne",
         "marker": {
          "color": "#636efa",
          "symbol": "circle"
         },
         "mode": "markers",
         "name": "Bardzo pozytywne",
         "orientation": "v",
         "showlegend": true,
         "type": "scatter",
         "x": [
          2024,
          2020,
          2018,
          2021,
          2020,
          2016,
          2024,
          2018,
          2024,
          2021,
          2023,
          2024,
          2019,
          2023,
          2015,
          2014,
          2024,
          2013,
          2017,
          2023,
          2020,
          2024,
          2019,
          2014,
          2016,
          2012,
          2019,
          2023,
          2022,
          2021,
          2020,
          2022,
          2023,
          2017,
          2024,
          2017,
          2021,
          2016,
          2015,
          2019,
          2023,
          2017,
          2014,
          2020,
          2023,
          2024,
          2012,
          2021,
          2024,
          2014,
          2019,
          2024,
          2021,
          2021,
          2025,
          2023,
          2024,
          2020,
          2023,
          2019,
          2021,
          2010,
          2024,
          2008,
          2014,
          2025,
          2024,
          2024,
          2022,
          2017,
          2019,
          2018,
          2024,
          2017,
          2024,
          2024,
          2022,
          2023,
          2024,
          2020,
          2021,
          2022,
          2024,
          2024,
          2024,
          2020,
          2024,
          2024,
          2018,
          2017,
          2016,
          2020,
          2021,
          2019,
          2023,
          2024,
          2019,
          2020,
          2013,
          2023,
          2024,
          2015,
          2024,
          2024,
          2019,
          2017,
          2022,
          2018,
          2020,
          2023,
          2016,
          2022,
          2021,
          2022,
          2024,
          2012,
          2021,
          2015,
          2021,
          2022,
          2022,
          2023,
          2019,
          2023,
          2007,
          2020,
          2023,
          2013,
          2011,
          2024,
          2012,
          2020,
          2018,
          2025,
          2009,
          2018,
          2018,
          2016,
          2019,
          2018,
          2016,
          2024,
          2024,
          2021,
          2007,
          2023,
          2024,
          2022,
          2008,
          2018,
          2022,
          2011,
          2024,
          2015,
          2023,
          2019,
          2017,
          2008,
          2025,
          2022,
          2022,
          2009,
          2009,
          2009,
          2015,
          2024,
          2024,
          2024,
          2021,
          2021,
          2017,
          2020,
          2013,
          2015,
          2012,
          2020,
          2012,
          2013,
          2024,
          2024,
          2015,
          2017,
          2024,
          2024,
          2020,
          2024,
          2017,
          2024,
          2016,
          2009,
          2020,
          2021,
          2014,
          2020,
          2022,
          2016,
          2018,
          2016,
          2012,
          2020,
          2016,
          2022,
          2011,
          2021,
          2018,
          2024,
          2018,
          2020,
          2024,
          2009,
          2020,
          2023,
          2007,
          2021,
          2024,
          2024,
          2016,
          2022,
          2024,
          2018,
          2024,
          2021,
          2017,
          2014,
          2021,
          2018,
          2023,
          2024,
          2016,
          2017,
          2025,
          2023,
          2024,
          2025,
          2022,
          2023,
          2018,
          2012,
          2018,
          2019,
          2022,
          2021,
          2001,
          2024,
          2014,
          2024,
          2018,
          2019,
          2018,
          2009,
          2022,
          2019,
          2022,
          2012,
          2012,
          2020,
          2019,
          2023,
          2021,
          2013,
          2013,
          2024,
          2024,
          2024,
          2019,
          2023,
          2015,
          2014,
          2021,
          2014,
          2022,
          2016,
          2016,
          2013,
          2024,
          2006,
          2011,
          2016,
          2015,
          2023,
          2018,
          2023,
          2015,
          2017,
          2017,
          2022,
          2024,
          2023,
          2022,
          2023,
          2019,
          2024,
          2015,
          2020,
          2014,
          2008,
          2009,
          2021,
          2024,
          2024,
          2022,
          2021,
          2022,
          2023,
          2010,
          2017,
          2024,
          2015,
          2014,
          2021,
          2018,
          2015,
          2018,
          2019,
          2021,
          2021,
          2022,
          2017,
          2019,
          2020
         ],
         "xaxis": "x",
         "y": [
          0,
          42.25,
          10.79,
          45.86,
          199,
          46.24,
          157.49,
          13.89,
          229.99,
          64.49,
          164.99,
          55.99,
          75.59,
          72.59,
          35.63,
          26.56,
          22.99,
          91.99,
          35.74,
          69.99,
          31.75,
          63.99,
          49.75,
          9.19,
          20.39,
          15.6,
          72.99,
          75,
          83.39,
          43.19,
          0,
          59.6,
          58.49,
          0,
          45.99,
          29.99,
          29.99,
          91.99,
          79,
          71.99,
          67.6,
          24.75,
          12.6,
          59.99,
          231.99,
          31.99,
          55.19,
          219,
          185.59,
          12.6,
          138.99,
          94.99,
          99,
          29.97,
          138.99,
          107.46,
          45.99,
          219,
          82.99,
          161.99,
          21.24,
          44.99,
          68.64,
          69.9,
          89.99,
          31.99,
          114.99,
          50,
          32.24,
          0,
          14.29,
          184.99,
          78.99,
          124,
          54.99,
          122.99,
          62.99,
          79.99,
          59,
          43.19,
          114.99,
          71.99,
          59.99,
          149.99,
          109,
          79.9,
          27.99,
          69.3,
          39.99,
          10.79,
          21.59,
          91.99,
          35.99,
          72.99,
          91.99,
          91.99,
          39.99,
          71.49,
          67.52,
          71.2,
          88.49,
          9.99,
          43.99,
          67.99,
          138.99,
          79.99,
          33.99,
          59.99,
          73.59,
          73.59,
          35.74,
          49.99,
          69.49,
          34.68,
          259,
          45.99,
          68.7,
          254.8,
          184.99,
          99,
          99,
          249,
          214.99,
          259,
          71.99,
          35.99,
          6.89,
          21.12,
          39.99,
          42,
          254.8,
          45.99,
          184.99,
          14.66,
          44.99,
          55.59,
          19.99,
          7.19,
          26.99,
          46.99,
          9.59,
          39.99,
          47.99,
          35.99,
          35.59,
          0,
          0,
          35.99,
          35.99,
          26.99,
          21.59,
          34.99,
          50.99,
          159.9,
          65.99,
          42.99,
          161.99,
          39.9,
          40.47,
          69.99,
          77.99,
          100,
          100,
          100,
          34.99,
          138.99,
          114.99,
          138.74,
          45.99,
          33.99,
          114.99,
          11.59,
          21.99,
          71.99,
          85.9,
          124.99,
          30.9,
          9.19,
          24.06,
          27.5,
          59.99,
          26.7,
          104.99,
          100,
          20.74,
          100,
          4.59,
          24.9,
          25.44,
          100,
          0,
          91.99,
          32.39,
          16.56,
          23.39,
          28.99,
          71.99,
          7.19,
          7.19,
          17.99,
          17.81,
          91.99,
          91.99,
          91.99,
          91.99,
          91.99,
          89.99,
          107.99,
          86.24,
          89.99,
          89.99,
          89.99,
          85.9,
          119.9,
          80,
          82.99,
          8.99,
          229,
          17.24,
          13.67,
          119,
          0,
          21.99,
          8.59,
          21.12,
          16.59,
          67.99,
          16.09,
          67.99,
          67.99,
          13.49,
          67.49,
          73.59,
          82.79,
          63.99,
          149.99,
          8.09,
          3.59,
          67.99,
          59.99,
          29.99,
          11.59,
          22.99,
          55.93,
          10.99,
          55.19,
          54.39,
          53.99,
          53.99,
          53.99,
          23.99,
          46.99,
          46.8,
          10.79,
          45.99,
          114.99,
          45.99,
          8.69,
          49.99,
          43.99,
          43.99,
          41.4,
          47.59,
          32.19,
          44.99,
          209.99,
          68.99,
          13.49,
          35.99,
          36.99,
          18.39,
          107.99,
          39.99,
          35.99,
          36.99,
          35.99,
          3.84,
          6.89,
          2.24,
          37.99,
          138.99,
          36.99,
          28.79,
          26.99,
          3.59,
          0,
          4.49,
          27.19,
          10.19,
          24.99,
          7.91,
          18.39,
          21.59,
          24.99,
          13.49,
          44.99,
          18.99,
          35.99,
          18.39,
          22.99,
          14.49,
          5.74,
          11.69,
          4.49,
          46.99,
          9.19,
          17.24,
          3.49,
          14.39,
          13.75,
          10.79,
          11.74,
          8.98,
          2.89,
          10.99,
          10.79,
          8.99,
          10.99,
          2.24,
          8.99
         ],
         "yaxis": "y"
        },
        {
         "customdata": [
          [
           "Subnautica"
          ],
          [
           "Detroit: Become Human"
          ],
          [
           "Lethal Company"
          ],
          [
           "DOOM"
          ],
          [
           "RimWorld"
          ],
          [
           "Stray"
          ],
          [
           "Brotato"
          ],
          [
           "Outer Wilds"
          ],
          [
           "Deep Rock Galactic"
          ],
          [
           "The Planet Crafter"
          ],
          [
           "Mouthwashing"
          ],
          [
           "Beat Saber"
          ],
          [
           "Warhammer 40,000: Dawn of War - Anniversary Edition"
          ],
          [
           "Caves of Qud"
          ],
          [
           "Half-Life: Alyx"
          ],
          [
           "Nine Sols"
          ],
          [
           "DRAMAtical Murder"
          ],
          [
           "Severed Steel"
          ],
          [
           "Portal 2"
          ],
          [
           "Left 4 Dead 2"
          ],
          [
           "Life is Strange - Episode 1"
          ],
          [
           "Roboquest"
          ],
          [
           "Titanfall® 2"
          ],
          [
           "shapez 2"
          ],
          [
           "Universe Sandbox"
          ],
          [
           "STEINS;GATE"
          ],
          [
           "Abiotic Factor"
          ],
          [
           "Papers, Please"
          ],
          [
           "Half-Life 2"
          ],
          [
           "Cosmoteer: Starship Architect & Commander"
          ],
          [
           "Portal"
          ],
          [
           "Turing Complete"
          ],
          [
           "Creeper World 4"
          ],
          [
           "The Walking Dead"
          ],
          [
           "CRUEL"
          ],
          [
           "STEINS;GATE 0"
          ],
          [
           "Mars First Logistics"
          ],
          [
           "Dishonored"
          ],
          [
           "Oxygen Not Included"
          ],
          [
           "Machinarium"
          ],
          [
           "Minds Beneath Us"
          ],
          [
           "Creeper World 3: Arc Eternal"
          ],
          [
           "Kerbal Space Program"
          ],
          [
           "Left 4 Dead"
          ],
          [
           "SpaceEngine"
          ],
          [
           "Worldless"
          ],
          [
           "The Forgotten City"
          ],
          [
           "The Talos Principle 2"
          ],
          [
           "The Room Two"
          ],
          [
           "Dyson Sphere Program"
          ],
          [
           "Half-Life"
          ],
          [
           "I Was a Teenage Exocolonist"
          ],
          [
           "Kenshi"
          ],
          [
           "Misao - 2024 HD Remaster"
          ],
          [
           "Dune: Imperium"
          ],
          [
           "Half-Life: Opposing Force"
          ],
          [
           "Black Mesa"
          ],
          [
           "SANABI"
          ],
          [
           "Cruelty Squad"
          ],
          [
           "Alien Shooter"
          ],
          [
           "Beyond Citadel"
          ],
          [
           "Spaceflight Simulator"
          ],
          [
           "MULLET MADJACK"
          ],
          [
           "DRAINUS"
          ],
          [
           "VA-11 Hall-A: Cyberpunk Bartender Action"
          ],
          [
           "Nova Drift"
          ],
          [
           "STAR WARS™ Battlefront (Classic, 2004)"
          ],
          [
           "Nuclear Throne"
          ],
          [
           "Total Annihilation"
          ],
          [
           "Picayune Dreams"
          ],
          [
           "SharpShooter3D"
          ],
          [
           "Linelith"
          ],
          [
           "Impossible Creatures Steam Edition"
          ],
          [
           "Chair F*cking Simulator"
          ]
         ],
         "hovertemplate": "Nacechowanie recenzji=Przytłaczająco pozytywne<br>Rok wydania=%{x}<br>Cena (zł)=%{y}<br>Tytuł=%{customdata[0]}<extra></extra>",
         "legendgroup": "Przytłaczająco pozytywne",
         "marker": {
          "color": "#EF553B",
          "symbol": "circle"
         },
         "mode": "markers",
         "name": "Przytłaczająco pozytywne",
         "orientation": "v",
         "showlegend": true,
         "type": "scatter",
         "x": [
          2018,
          2020,
          2023,
          2016,
          2018,
          2022,
          2023,
          2020,
          2020,
          2024,
          2024,
          2019,
          2007,
          2024,
          2020,
          2024,
          2021,
          2021,
          2011,
          2009,
          2015,
          2023,
          2020,
          2024,
          2015,
          2016,
          2024,
          2013,
          2004,
          2022,
          2007,
          2021,
          2020,
          2012,
          2025,
          2018,
          2023,
          2012,
          2019,
          2009,
          2024,
          2014,
          2015,
          2008,
          2019,
          2023,
          2021,
          2023,
          2016,
          2021,
          1998,
          2022,
          2018,
          2017,
          2024,
          1999,
          2020,
          2023,
          2021,
          2009,
          2025,
          2022,
          2024,
          2022,
          2016,
          2024,
          2019,
          2015,
          2015,
          2023,
          2023,
          2022,
          2015,
          2020
         ],
         "xaxis": "x",
         "y": [
          45.86,
          55.49,
          45.99,
          15.99,
          111.99,
          71.99,
          13.79,
          59.99,
          107.99,
          80.49,
          59.99,
          138.99,
          19.99,
          118.14,
          274.99,
          138.99,
          55.19,
          8.99,
          45.99,
          45.99,
          0,
          70.39,
          119.9,
          64.99,
          138.99,
          21.59,
          114.99,
          45.99,
          45.99,
          44.99,
          45.99,
          71.99,
          35.99,
          67.99,
          34.99,
          24.99,
          68.99,
          44.99,
          89.99,
          74.99,
          91.99,
          17.81,
          171.9,
          45.99,
          115,
          53.99,
          28.74,
          138.99,
          22.99,
          71.99,
          35.99,
          114.99,
          107.99,
          36.79,
          105.79,
          22.99,
          91.99,
          44.19,
          71.99,
          22.99,
          67.99,
          59.99,
          58.49,
          37.79,
          53.99,
          49.59,
          45.99,
          43.99,
          17.99,
          15,
          14.99,
          13.49,
          9.99,
          8.99
         ],
         "yaxis": "y"
        },
        {
         "customdata": [
          [
           "HELLDIVERS™ 2"
          ],
          [
           "Once Human"
          ],
          [
           "ICARUS"
          ],
          [
           "Snowbreak: Containment Zone"
          ],
          [
           "Frostpunk 2"
          ],
          [
           "Dune: Spice Wars"
          ],
          [
           "Dying Light 2 Stay Human: Reloaded Edition"
          ],
          [
           "Warhammer 40,000: Darktide"
          ],
          [
           "Fallout 76"
          ],
          [
           "Metro Awakening"
          ],
          [
           "New Cycle"
          ],
          [
           "Crossout"
          ],
          [
           "Tom Clancy’s The Division® 2"
          ],
          [
           "Destiny 2"
          ],
          [
           "IDUN"
          ],
          [
           "Iron Harvest"
          ],
          [
           "Ostranauts"
          ],
          [
           "Far Cry® New Dawn"
          ],
          [
           "Battlefleet Gothic: Armada 2"
          ],
          [
           "Empire of the Ants"
          ],
          [
           "Infection Free Zone"
          ],
          [
           "Halo Infinite"
          ],
          [
           "Warhammer 40,000: Chaos Gate - Daemonhunters"
          ],
          [
           "Phantasy Star Online 2 New Genesis"
          ],
          [
           "Hidden Deep"
          ],
          [
           "Dead Island 2"
          ],
          [
           "IXION"
          ],
          [
           "Will To Live Online"
          ],
          [
           "Tower of Fantasy"
          ],
          [
           "Dark Sky"
          ],
          [
           "CryoFall"
          ],
          [
           "Dead Space™ 3"
          ],
          [
           "Master of Orion"
          ],
          [
           "Occupy Mars: The Game"
          ],
          [
           "Homeworld: Deserts of Kharak"
          ],
          [
           "Distant Worlds 2"
          ],
          [
           "Silica"
          ],
          [
           "OVRLRD"
          ],
          [
           "Elite Dangerous"
          ],
          [
           "Warhammer 40,000: Inquisitor - Martyr"
          ],
          [
           "Thief"
          ],
          [
           "DUCKSIDE"
          ],
          [
           "Crysis Remastered"
          ],
          [
           "Space Simulation Toolkit"
          ],
          [
           "Fort Solis"
          ],
          [
           "Horizon Zero Dawn™ Remastered"
          ],
          [
           "Among Us VR"
          ],
          [
           "Reverse Collapse: Code Name Bakery"
          ],
          [
           "Prototype 2"
          ],
          [
           "Star Trucker"
          ],
          [
           "Generation Zero®"
          ],
          [
           "Gears Tactics"
          ],
          [
           "Mass Effect: Andromeda - ulepszenie Deluxe"
          ],
          [
           "Age of Water"
          ],
          [
           "Scars Above"
          ],
          [
           "Urban Strife"
          ],
          [
           "Ashes of the Singularity: Escalation"
          ],
          [
           "Dustwind"
          ],
          [
           "Iron Marines Invasion"
          ],
          [
           "Twelve Minutes"
          ],
          [
           "The Crust"
          ],
          [
           "After the Fall®"
          ],
          [
           "Krush Kill ‘N Destroy 2: Krossfire"
          ],
          [
           "Ghosts of Tabor"
          ],
          [
           "Phoenix Point"
          ],
          [
           "Scorn"
          ],
          [
           "Terraforming Mars"
          ],
          [
           "ENDLESS™ Space - Definitive Edition"
          ],
          [
           "The Ascent"
          ],
          [
           "Somerville"
          ],
          [
           "XCOM®: Chimera Squad"
          ],
          [
           "The Surge"
          ],
          [
           "Torment: Tides of Numenera"
          ],
          [
           "Red Faction Guerrilla Re-Mars-tered"
          ],
          [
           "FRONT MISSION 1st: Remake"
          ],
          [
           "The Surge 2"
          ],
          [
           "Survivors of the Dawn"
          ],
          [
           "STAR WARS™ Battlefront"
          ],
          [
           "Anomaly 2"
          ],
          [
           "Godlike Burger"
          ],
          [
           "Oxygen"
          ],
          [
           "Star Dynasties"
          ],
          [
           "X4: Foundations"
          ],
          [
           "Heat Death: Survival Train"
          ],
          [
           "Breachway"
          ],
          [
           "The Leviathan's fantasy"
          ],
          [
           "Earth 2150 Trilogy"
          ],
          [
           "MarZ: Tactical Base Defense"
          ],
          [
           "Distrust: Polar Survival"
          ],
          [
           "Anomaly Defenders"
          ],
          [
           "Final Upgrade"
          ],
          [
           "Space Architect"
          ],
          [
           "Half Dead"
          ],
          [
           "W.A.N.D. Project"
          ],
          [
           "Noch"
          ],
          [
           "Life of Delta"
          ],
          [
           "Star Wars Outlaws"
          ],
          [
           "RAGE"
          ],
          [
           "Starpoint Gemini Warlords"
          ],
          [
           "UFO: Aftershock"
          ],
          [
           "Machinika: Atlas"
          ],
          [
           "Deadlight"
          ],
          [
           "Anomaly Korea"
          ],
          [
           "Swarm the City: Zombie Evolved"
          ],
          [
           "UFO: Aftermath"
          ],
          [
           "ENCODYA"
          ],
          [
           "Morbid: The Seven Acolytes"
          ]
         ],
         "hovertemplate": "Nacechowanie recenzji=W większości pozytywne<br>Rok wydania=%{x}<br>Cena (zł)=%{y}<br>Tytuł=%{customdata[0]}<extra></extra>",
         "legendgroup": "W większości pozytywne",
         "marker": {
          "color": "#00cc96",
          "symbol": "circle"
         },
         "mode": "markers",
         "name": "W większości pozytywne",
         "orientation": "v",
         "showlegend": true,
         "type": "scatter",
         "x": [
          2024,
          2024,
          2021,
          2023,
          2024,
          2023,
          2022,
          2022,
          2020,
          2024,
          2024,
          2017,
          2023,
          2019,
          2025,
          2020,
          2020,
          2019,
          2019,
          2024,
          2024,
          2021,
          2022,
          2020,
          2022,
          2024,
          2022,
          2018,
          2022,
          2024,
          2021,
          2020,
          2016,
          2023,
          2016,
          2022,
          2023,
          2024,
          2015,
          2018,
          2014,
          2024,
          2021,
          2020,
          2023,
          2024,
          2022,
          2024,
          2012,
          2024,
          2019,
          2020,
          2020,
          2025,
          2023,
          2024,
          2016,
          2018,
          2023,
          2021,
          2024,
          2021,
          2020,
          2023,
          2020,
          2022,
          2018,
          2012,
          2021,
          2022,
          2020,
          2017,
          2017,
          2018,
          2023,
          2019,
          2023,
          2020,
          2013,
          2022,
          2023,
          2021,
          2018,
          2024,
          2024,
          2025,
          2013,
          2019,
          2017,
          2014,
          2022,
          2024,
          2016,
          2024,
          2023,
          2023,
          2024,
          2011,
          2017,
          2014,
          2024,
          2012,
          2013,
          2022,
          2014,
          2021,
          2020
         ],
         "xaxis": "x",
         "y": [
          169,
          0,
          161.99,
          0,
          124.79,
          86.34,
          199.99,
          84.99,
          169.9,
          111.3,
          49.99,
          0,
          39.97,
          0,
          61.19,
          19.01,
          73.59,
          35.98,
          13.99,
          118.3,
          79.99,
          0,
          48.59,
          0,
          32.39,
          105.63,
          161.99,
          0,
          0,
          27.59,
          7.99,
          69.9,
          89.99,
          114.99,
          17.99,
          92.79,
          71.99,
          95,
          91.99,
          231.99,
          89.9,
          67.99,
          107.99,
          64.39,
          58.17,
          219,
          17.99,
          114.99,
          127.38,
          74.24,
          99.99,
          49.17,
          189.9,
          64.5,
          25.34,
          161.99,
          34.74,
          31.49,
          33.99,
          39.99,
          119,
          41.69,
          16.56,
          114.99,
          89.99,
          34.75,
          91.99,
          8.99,
          31,
          86.42,
          89.9,
          6.49,
          31.24,
          84.48,
          80.99,
          14.99,
          18.49,
          69.9,
          4.99,
          10.79,
          10.99,
          48.78,
          199.99,
          54.99,
          79.99,
          24.41,
          45.99,
          19.99,
          8.99,
          6.99,
          25.19,
          31.99,
          6.99,
          27.99,
          20.99,
          19.99,
          289.9,
          44.99,
          18.74,
          3.59,
          17.99,
          13.49,
          5.99,
          3.59,
          3.59,
          8.99,
          8.99
         ],
         "yaxis": "y"
        },
        {
         "customdata": [
          [
           "Apex Legends™"
          ],
          [
           "The First Descendant"
          ],
          [
           "War Robots"
          ],
          [
           "Battlefield™ 2042"
          ],
          [
           "Build Master: MarsVille"
          ],
          [
           "Watch Dogs®: Legion"
          ],
          [
           "Echocalypse: The Scarlet Covenant"
          ],
          [
           "Hyper Light Breaker"
          ],
          [
           "Anno 2205™"
          ],
          [
           "Warhammer 40,000: Dawn of War III"
          ],
          [
           "ENDLESS™ Dungeon"
          ],
          [
           "Starfield"
          ],
          [
           "Warhammer 40,000: Warpforge"
          ],
          [
           "Avatar: Frontiers of Pandora™"
          ],
          [
           "Requiem: Desiderium Mortis"
          ],
          [
           "Battlefleet Gothic: Armada"
          ],
          [
           "Warhammer The Horus Heresy: Legions"
          ],
          [
           "FINAL FANTASY VII EVER CRISIS"
          ],
          [
           "Serum"
          ],
          [
           "Infinite Lagrange"
          ],
          [
           "DOOM VFR"
          ],
          [
           "Road 96: Mile 0"
          ],
          [
           "FREEDOM WARS Remastered"
          ],
          [
           "Alien: Rogue Incursion"
          ],
          [
           "Capes"
          ],
          [
           "Anno 2070™"
          ],
          [
           "Necromunda: Hired Gun"
          ],
          [
           "White Sands"
          ],
          [
           "Stargate: Timekeepers"
          ],
          [
           "Outpost: Infinity Siege"
          ],
          [
           "Left to Survive: Shooter PVP"
          ],
          [
           "Creature Lab"
          ],
          [
           "Nova: Space Armada"
          ],
          [
           "VEGA Conflict"
          ],
          [
           "SunAge: Battle for Elysium"
          ],
          [
           "Beholder 3"
          ],
          [
           "Tom Clancy’s Rainbow Six® Extraction"
          ],
          [
           "Vigor"
          ],
          [
           "EARTH DEFENSE FORCE 6"
          ],
          [
           "Star Trek: Infinite"
          ],
          [
           "StarMade"
          ],
          [
           "Three Minutes To Eight"
          ],
          [
           "Border Officer"
          ],
          [
           "Space Hulk: Tactics"
          ],
          [
           "Outmode"
          ],
          [
           "Mechstermination Force"
          ],
          [
           "Starpoint Gemini 3"
          ],
          [
           "SPACECOM"
          ],
          [
           "Space Mechanic Simulator"
          ],
          [
           "Doomsday: Last Survivors"
          ],
          [
           "Glitchpunk"
          ],
          [
           "Northern Lights"
          ],
          [
           "Killing Floor: Incursion"
          ],
          [
           "ROBOTICS;NOTES DaSH"
          ],
          [
           "Мафия Онлайн"
          ],
          [
           "The Technomancer"
          ],
          [
           "Project Entropy"
          ],
          [
           "UFO: Afterlight"
          ],
          [
           "Stay Out"
          ],
          [
           "Riders 2491"
          ],
          [
           "XERA: Survival"
          ],
          [
           "Shadowgrounds Survivor"
          ],
          [
           "Survival Classic"
          ],
          [
           "Last Hope Bunker: Zombie Survival"
          ],
          [
           "Aeon Must Die!"
          ],
          [
           "Armored Warfare"
          ]
         ],
         "hovertemplate": "Nacechowanie recenzji=Mieszane<br>Rok wydania=%{x}<br>Cena (zł)=%{y}<br>Tytuł=%{customdata[0]}<extra></extra>",
         "legendgroup": "Mieszane",
         "marker": {
          "color": "#ab63fa",
          "symbol": "circle"
         },
         "mode": "markers",
         "name": "Mieszane",
         "orientation": "v",
         "showlegend": true,
         "type": "scatter",
         "x": [
          2020,
          2024,
          2018,
          2021,
          2023,
          2023,
          2024,
          2025,
          2015,
          2017,
          2023,
          2023,
          2024,
          2024,
          2015,
          2016,
          2019,
          2023,
          2024,
          2021,
          2017,
          2023,
          2025,
          2024,
          2024,
          2011,
          2021,
          2024,
          2024,
          2024,
          2021,
          2023,
          2024,
          2015,
          2014,
          2022,
          2023,
          2024,
          2024,
          2023,
          2014,
          2023,
          2019,
          2018,
          2022,
          2020,
          2020,
          2014,
          2023,
          2023,
          2024,
          2020,
          2017,
          2020,
          2022,
          2016,
          2024,
          2014,
          2019,
          2020,
          2021,
          2007,
          2021,
          2024,
          2021,
          2017
         ],
         "xaxis": "x",
         "y": [
          0,
          0,
          0,
          269.9,
          0,
          37.48,
          0,
          114.99,
          159.9,
          35.8,
          35.6,
          299,
          0,
          289.9,
          0,
          7.49,
          0,
          0,
          64.99,
          0,
          14.75,
          13.74,
          179,
          184.99,
          84.5,
          19.97,
          29.99,
          109.95,
          118.14,
          63.24,
          0,
          29.39,
          0,
          0,
          21.59,
          20.74,
          39.97,
          0,
          249,
          69.49,
          53.99,
          13.59,
          11.49,
          7.49,
          36.99,
          43.99,
          23.99,
          5.24,
          32.39,
          0,
          6.99,
          17.77,
          10.79,
          24.99,
          0,
          5.24,
          0,
          4.99,
          0,
          10.11,
          0,
          5.39,
          10.79,
          2.69,
          10.49,
          0
         ],
         "yaxis": "y"
        },
        {
         "customdata": [
          [
           "Overwatch® 2"
          ],
          [
           "Homeworld 3"
          ],
          [
           "Etherium"
          ]
         ],
         "hovertemplate": "Nacechowanie recenzji=W większości negatywne<br>Rok wydania=%{x}<br>Cena (zł)=%{y}<br>Tytuł=%{customdata[0]}<extra></extra>",
         "legendgroup": "W większości negatywne",
         "marker": {
          "color": "#FFA15A",
          "symbol": "circle"
         },
         "mode": "markers",
         "name": "W większości negatywne",
         "orientation": "v",
         "showlegend": true,
         "type": "scatter",
         "x": [
          2023,
          2024,
          2015
         ],
         "xaxis": "x",
         "y": [
          0,
          124.5,
          3.49
         ],
         "yaxis": "y"
        },
        {
         "customdata": [
          [
           "Airships: Lost Flotilla"
          ],
          [
           "Horizons: The End Of Words"
          ],
          [
           "Midnight Racer"
          ],
          [
           "Block Strategy"
          ],
          [
           "Midnight Thunder Drive"
          ],
          [
           "Sakura Alien 3"
          ],
          [
           "Airplanes Dogfight Racer"
          ],
          [
           "Cyber Cult City"
          ],
          [
           "PUFIWEHO"
          ]
         ],
         "hovertemplate": "Nacechowanie recenzji=Brak informacji<br>Rok wydania=%{x}<br>Cena (zł)=%{y}<br>Tytuł=%{customdata[0]}<extra></extra>",
         "legendgroup": "Brak informacji",
         "marker": {
          "color": "#19d3f3",
          "symbol": "circle"
         },
         "mode": "markers",
         "name": "Brak informacji",
         "orientation": "v",
         "showlegend": true,
         "type": "scatter",
         "x": [
          2025,
          2025,
          2025,
          2024,
          2023,
          2024,
          2021,
          2023,
          2020
         ],
         "xaxis": "x",
         "y": [
          22,
          24.75,
          12,
          29.99,
          22.99,
          11.49,
          2.24,
          10.99,
          4.49
         ],
         "yaxis": "y"
        },
        {
         "customdata": [
          [
           "SACRIFICE VILLAINS"
          ],
          [
           "STAR WARS™: Episode I: Jedi Power Battles™"
          ],
          [
           "Super Roboy"
          ],
          [
           "Take Notes"
          ],
          [
           "Infest"
          ],
          [
           "Fragrance Point"
          ],
          [
           "Antecrypt"
          ],
          [
           "Gunborg: Dark Matters"
          ],
          [
           "Battle for Vera"
          ],
          [
           "Caught On Camera"
          ],
          [
           "Plasma Attack"
          ],
          [
           "Airship Killer"
          ],
          [
           "Alien Planet Explorer"
          ],
          [
           "They Can Fart"
          ],
          [
           "Zeta Leporis RTS"
          ],
          [
           "Kalzoon"
          ],
          [
           "Myasoid"
          ]
         ],
         "hovertemplate": "Nacechowanie recenzji=Pozytywne<br>Rok wydania=%{x}<br>Cena (zł)=%{y}<br>Tytuł=%{customdata[0]}<extra></extra>",
         "legendgroup": "Pozytywne",
         "marker": {
          "color": "#FF6692",
          "symbol": "circle"
         },
         "mode": "markers",
         "name": "Pozytywne",
         "orientation": "v",
         "showlegend": true,
         "type": "scatter",
         "x": [
          2025,
          2025,
          2025,
          2025,
          2025,
          2025,
          2023,
          2022,
          2024,
          2024,
          2021,
          2021,
          2021,
          2024,
          2024,
          2022,
          2022
         ],
         "xaxis": "x",
         "y": [
          73.59,
          91.99,
          54.39,
          27.99,
          54.39,
          36.99,
          27.5,
          13.79,
          17.99,
          8.99,
          2.24,
          2.24,
          2.24,
          4.49,
          4.59,
          2.24,
          2.24
         ],
         "yaxis": "y"
        },
        {
         "customdata": [
          [
           "Command & Conquer™ 4 Tyberyjski zmierzch"
          ]
         ],
         "hovertemplate": "Nacechowanie recenzji=Przytłaczająco negatywne<br>Rok wydania=%{x}<br>Cena (zł)=%{y}<br>Tytuł=%{customdata[0]}<extra></extra>",
         "legendgroup": "Przytłaczająco negatywne",
         "marker": {
          "color": "#B6E880",
          "symbol": "circle"
         },
         "mode": "markers",
         "name": "Przytłaczająco negatywne",
         "orientation": "v",
         "showlegend": true,
         "type": "scatter",
         "x": [
          2010
         ],
         "xaxis": "x",
         "y": [
          100
         ],
         "yaxis": "y"
        }
       ],
       "layout": {
        "legend": {
         "title": {
          "text": "Nacechowanie recenzji"
         },
         "tracegroupgap": 0
        },
        "template": {
         "data": {
          "bar": [
           {
            "error_x": {
             "color": "#2a3f5f"
            },
            "error_y": {
             "color": "#2a3f5f"
            },
            "marker": {
             "line": {
              "color": "#E5ECF6",
              "width": 0.5
             },
             "pattern": {
              "fillmode": "overlay",
              "size": 10,
              "solidity": 0.2
             }
            },
            "type": "bar"
           }
          ],
          "barpolar": [
           {
            "marker": {
             "line": {
              "color": "#E5ECF6",
              "width": 0.5
             },
             "pattern": {
              "fillmode": "overlay",
              "size": 10,
              "solidity": 0.2
             }
            },
            "type": "barpolar"
           }
          ],
          "carpet": [
           {
            "aaxis": {
             "endlinecolor": "#2a3f5f",
             "gridcolor": "white",
             "linecolor": "white",
             "minorgridcolor": "white",
             "startlinecolor": "#2a3f5f"
            },
            "baxis": {
             "endlinecolor": "#2a3f5f",
             "gridcolor": "white",
             "linecolor": "white",
             "minorgridcolor": "white",
             "startlinecolor": "#2a3f5f"
            },
            "type": "carpet"
           }
          ],
          "choropleth": [
           {
            "colorbar": {
             "outlinewidth": 0,
             "ticks": ""
            },
            "type": "choropleth"
           }
          ],
          "contour": [
           {
            "colorbar": {
             "outlinewidth": 0,
             "ticks": ""
            },
            "colorscale": [
             [
              0,
              "#0d0887"
             ],
             [
              0.1111111111111111,
              "#46039f"
             ],
             [
              0.2222222222222222,
              "#7201a8"
             ],
             [
              0.3333333333333333,
              "#9c179e"
             ],
             [
              0.4444444444444444,
              "#bd3786"
             ],
             [
              0.5555555555555556,
              "#d8576b"
             ],
             [
              0.6666666666666666,
              "#ed7953"
             ],
             [
              0.7777777777777778,
              "#fb9f3a"
             ],
             [
              0.8888888888888888,
              "#fdca26"
             ],
             [
              1,
              "#f0f921"
             ]
            ],
            "type": "contour"
           }
          ],
          "contourcarpet": [
           {
            "colorbar": {
             "outlinewidth": 0,
             "ticks": ""
            },
            "type": "contourcarpet"
           }
          ],
          "heatmap": [
           {
            "colorbar": {
             "outlinewidth": 0,
             "ticks": ""
            },
            "colorscale": [
             [
              0,
              "#0d0887"
             ],
             [
              0.1111111111111111,
              "#46039f"
             ],
             [
              0.2222222222222222,
              "#7201a8"
             ],
             [
              0.3333333333333333,
              "#9c179e"
             ],
             [
              0.4444444444444444,
              "#bd3786"
             ],
             [
              0.5555555555555556,
              "#d8576b"
             ],
             [
              0.6666666666666666,
              "#ed7953"
             ],
             [
              0.7777777777777778,
              "#fb9f3a"
             ],
             [
              0.8888888888888888,
              "#fdca26"
             ],
             [
              1,
              "#f0f921"
             ]
            ],
            "type": "heatmap"
           }
          ],
          "heatmapgl": [
           {
            "colorbar": {
             "outlinewidth": 0,
             "ticks": ""
            },
            "colorscale": [
             [
              0,
              "#0d0887"
             ],
             [
              0.1111111111111111,
              "#46039f"
             ],
             [
              0.2222222222222222,
              "#7201a8"
             ],
             [
              0.3333333333333333,
              "#9c179e"
             ],
             [
              0.4444444444444444,
              "#bd3786"
             ],
             [
              0.5555555555555556,
              "#d8576b"
             ],
             [
              0.6666666666666666,
              "#ed7953"
             ],
             [
              0.7777777777777778,
              "#fb9f3a"
             ],
             [
              0.8888888888888888,
              "#fdca26"
             ],
             [
              1,
              "#f0f921"
             ]
            ],
            "type": "heatmapgl"
           }
          ],
          "histogram": [
           {
            "marker": {
             "pattern": {
              "fillmode": "overlay",
              "size": 10,
              "solidity": 0.2
             }
            },
            "type": "histogram"
           }
          ],
          "histogram2d": [
           {
            "colorbar": {
             "outlinewidth": 0,
             "ticks": ""
            },
            "colorscale": [
             [
              0,
              "#0d0887"
             ],
             [
              0.1111111111111111,
              "#46039f"
             ],
             [
              0.2222222222222222,
              "#7201a8"
             ],
             [
              0.3333333333333333,
              "#9c179e"
             ],
             [
              0.4444444444444444,
              "#bd3786"
             ],
             [
              0.5555555555555556,
              "#d8576b"
             ],
             [
              0.6666666666666666,
              "#ed7953"
             ],
             [
              0.7777777777777778,
              "#fb9f3a"
             ],
             [
              0.8888888888888888,
              "#fdca26"
             ],
             [
              1,
              "#f0f921"
             ]
            ],
            "type": "histogram2d"
           }
          ],
          "histogram2dcontour": [
           {
            "colorbar": {
             "outlinewidth": 0,
             "ticks": ""
            },
            "colorscale": [
             [
              0,
              "#0d0887"
             ],
             [
              0.1111111111111111,
              "#46039f"
             ],
             [
              0.2222222222222222,
              "#7201a8"
             ],
             [
              0.3333333333333333,
              "#9c179e"
             ],
             [
              0.4444444444444444,
              "#bd3786"
             ],
             [
              0.5555555555555556,
              "#d8576b"
             ],
             [
              0.6666666666666666,
              "#ed7953"
             ],
             [
              0.7777777777777778,
              "#fb9f3a"
             ],
             [
              0.8888888888888888,
              "#fdca26"
             ],
             [
              1,
              "#f0f921"
             ]
            ],
            "type": "histogram2dcontour"
           }
          ],
          "mesh3d": [
           {
            "colorbar": {
             "outlinewidth": 0,
             "ticks": ""
            },
            "type": "mesh3d"
           }
          ],
          "parcoords": [
           {
            "line": {
             "colorbar": {
              "outlinewidth": 0,
              "ticks": ""
             }
            },
            "type": "parcoords"
           }
          ],
          "pie": [
           {
            "automargin": true,
            "type": "pie"
           }
          ],
          "scatter": [
           {
            "fillpattern": {
             "fillmode": "overlay",
             "size": 10,
             "solidity": 0.2
            },
            "type": "scatter"
           }
          ],
          "scatter3d": [
           {
            "line": {
             "colorbar": {
              "outlinewidth": 0,
              "ticks": ""
             }
            },
            "marker": {
             "colorbar": {
              "outlinewidth": 0,
              "ticks": ""
             }
            },
            "type": "scatter3d"
           }
          ],
          "scattercarpet": [
           {
            "marker": {
             "colorbar": {
              "outlinewidth": 0,
              "ticks": ""
             }
            },
            "type": "scattercarpet"
           }
          ],
          "scattergeo": [
           {
            "marker": {
             "colorbar": {
              "outlinewidth": 0,
              "ticks": ""
             }
            },
            "type": "scattergeo"
           }
          ],
          "scattergl": [
           {
            "marker": {
             "colorbar": {
              "outlinewidth": 0,
              "ticks": ""
             }
            },
            "type": "scattergl"
           }
          ],
          "scattermapbox": [
           {
            "marker": {
             "colorbar": {
              "outlinewidth": 0,
              "ticks": ""
             }
            },
            "type": "scattermapbox"
           }
          ],
          "scatterpolar": [
           {
            "marker": {
             "colorbar": {
              "outlinewidth": 0,
              "ticks": ""
             }
            },
            "type": "scatterpolar"
           }
          ],
          "scatterpolargl": [
           {
            "marker": {
             "colorbar": {
              "outlinewidth": 0,
              "ticks": ""
             }
            },
            "type": "scatterpolargl"
           }
          ],
          "scatterternary": [
           {
            "marker": {
             "colorbar": {
              "outlinewidth": 0,
              "ticks": ""
             }
            },
            "type": "scatterternary"
           }
          ],
          "surface": [
           {
            "colorbar": {
             "outlinewidth": 0,
             "ticks": ""
            },
            "colorscale": [
             [
              0,
              "#0d0887"
             ],
             [
              0.1111111111111111,
              "#46039f"
             ],
             [
              0.2222222222222222,
              "#7201a8"
             ],
             [
              0.3333333333333333,
              "#9c179e"
             ],
             [
              0.4444444444444444,
              "#bd3786"
             ],
             [
              0.5555555555555556,
              "#d8576b"
             ],
             [
              0.6666666666666666,
              "#ed7953"
             ],
             [
              0.7777777777777778,
              "#fb9f3a"
             ],
             [
              0.8888888888888888,
              "#fdca26"
             ],
             [
              1,
              "#f0f921"
             ]
            ],
            "type": "surface"
           }
          ],
          "table": [
           {
            "cells": {
             "fill": {
              "color": "#EBF0F8"
             },
             "line": {
              "color": "white"
             }
            },
            "header": {
             "fill": {
              "color": "#C8D4E3"
             },
             "line": {
              "color": "white"
             }
            },
            "type": "table"
           }
          ]
         },
         "layout": {
          "annotationdefaults": {
           "arrowcolor": "#2a3f5f",
           "arrowhead": 0,
           "arrowwidth": 1
          },
          "autotypenumbers": "strict",
          "coloraxis": {
           "colorbar": {
            "outlinewidth": 0,
            "ticks": ""
           }
          },
          "colorscale": {
           "diverging": [
            [
             0,
             "#8e0152"
            ],
            [
             0.1,
             "#c51b7d"
            ],
            [
             0.2,
             "#de77ae"
            ],
            [
             0.3,
             "#f1b6da"
            ],
            [
             0.4,
             "#fde0ef"
            ],
            [
             0.5,
             "#f7f7f7"
            ],
            [
             0.6,
             "#e6f5d0"
            ],
            [
             0.7,
             "#b8e186"
            ],
            [
             0.8,
             "#7fbc41"
            ],
            [
             0.9,
             "#4d9221"
            ],
            [
             1,
             "#276419"
            ]
           ],
           "sequential": [
            [
             0,
             "#0d0887"
            ],
            [
             0.1111111111111111,
             "#46039f"
            ],
            [
             0.2222222222222222,
             "#7201a8"
            ],
            [
             0.3333333333333333,
             "#9c179e"
            ],
            [
             0.4444444444444444,
             "#bd3786"
            ],
            [
             0.5555555555555556,
             "#d8576b"
            ],
            [
             0.6666666666666666,
             "#ed7953"
            ],
            [
             0.7777777777777778,
             "#fb9f3a"
            ],
            [
             0.8888888888888888,
             "#fdca26"
            ],
            [
             1,
             "#f0f921"
            ]
           ],
           "sequentialminus": [
            [
             0,
             "#0d0887"
            ],
            [
             0.1111111111111111,
             "#46039f"
            ],
            [
             0.2222222222222222,
             "#7201a8"
            ],
            [
             0.3333333333333333,
             "#9c179e"
            ],
            [
             0.4444444444444444,
             "#bd3786"
            ],
            [
             0.5555555555555556,
             "#d8576b"
            ],
            [
             0.6666666666666666,
             "#ed7953"
            ],
            [
             0.7777777777777778,
             "#fb9f3a"
            ],
            [
             0.8888888888888888,
             "#fdca26"
            ],
            [
             1,
             "#f0f921"
            ]
           ]
          },
          "colorway": [
           "#636efa",
           "#EF553B",
           "#00cc96",
           "#ab63fa",
           "#FFA15A",
           "#19d3f3",
           "#FF6692",
           "#B6E880",
           "#FF97FF",
           "#FECB52"
          ],
          "font": {
           "color": "#2a3f5f"
          },
          "geo": {
           "bgcolor": "white",
           "lakecolor": "white",
           "landcolor": "#E5ECF6",
           "showlakes": true,
           "showland": true,
           "subunitcolor": "white"
          },
          "hoverlabel": {
           "align": "left"
          },
          "hovermode": "closest",
          "mapbox": {
           "style": "light"
          },
          "paper_bgcolor": "white",
          "plot_bgcolor": "#E5ECF6",
          "polar": {
           "angularaxis": {
            "gridcolor": "white",
            "linecolor": "white",
            "ticks": ""
           },
           "bgcolor": "#E5ECF6",
           "radialaxis": {
            "gridcolor": "white",
            "linecolor": "white",
            "ticks": ""
           }
          },
          "scene": {
           "xaxis": {
            "backgroundcolor": "#E5ECF6",
            "gridcolor": "white",
            "gridwidth": 2,
            "linecolor": "white",
            "showbackground": true,
            "ticks": "",
            "zerolinecolor": "white"
           },
           "yaxis": {
            "backgroundcolor": "#E5ECF6",
            "gridcolor": "white",
            "gridwidth": 2,
            "linecolor": "white",
            "showbackground": true,
            "ticks": "",
            "zerolinecolor": "white"
           },
           "zaxis": {
            "backgroundcolor": "#E5ECF6",
            "gridcolor": "white",
            "gridwidth": 2,
            "linecolor": "white",
            "showbackground": true,
            "ticks": "",
            "zerolinecolor": "white"
           }
          },
          "shapedefaults": {
           "line": {
            "color": "#2a3f5f"
           }
          },
          "ternary": {
           "aaxis": {
            "gridcolor": "white",
            "linecolor": "white",
            "ticks": ""
           },
           "baxis": {
            "gridcolor": "white",
            "linecolor": "white",
            "ticks": ""
           },
           "bgcolor": "#E5ECF6",
           "caxis": {
            "gridcolor": "white",
            "linecolor": "white",
            "ticks": ""
           }
          },
          "title": {
           "x": 0.05
          },
          "xaxis": {
           "automargin": true,
           "gridcolor": "white",
           "linecolor": "white",
           "ticks": "",
           "title": {
            "standoff": 15
           },
           "zerolinecolor": "white",
           "zerolinewidth": 2
          },
          "yaxis": {
           "automargin": true,
           "gridcolor": "white",
           "linecolor": "white",
           "ticks": "",
           "title": {
            "standoff": 15
           },
           "zerolinecolor": "white",
           "zerolinewidth": 2
          }
         }
        },
        "title": {
         "text": "Cena w zależności od roku wydania"
        },
        "xaxis": {
         "anchor": "y",
         "domain": [
          0,
          1
         ],
         "title": {
          "text": "Rok wydania"
         }
        },
        "yaxis": {
         "anchor": "x",
         "domain": [
          0,
          1
         ],
         "title": {
          "text": "Cena (zł)"
         }
        }
       }
      }
     },
     "metadata": {},
     "output_type": "display_data"
    }
   ],
   "source": [
    "# 3. Rozkład cen w zależności od daty wydania\n",
    "\n",
    "df['Data wydania'] = pd.to_datetime(df['Data wydania'], errors='coerce')\n",
    "df['Rok wydania'] = df['Data wydania'].dt.year\n",
    "\n",
    "# Scatter plot: Cena vs. Rok wydania\n",
    "fig = px.scatter(df, x='Rok wydania', y='Cena', color='Nacechowanie recenzji',\n",
    "                 title='Cena w zależności od roku wydania', labels={'Cena': 'Cena (zł)', 'Rok wydania': 'Rok wydania'},\n",
    "                 hover_data=['Tytuł'])\n",
    "fig.show()\n"
   ]
  },
  {
   "cell_type": "code",
   "execution_count": 58,
   "metadata": {},
   "outputs": [],
   "source": [
    "# 4. Wpływ liczby recenzji na nacechowanie recenzji\n",
    "\n"
   ]
  },
  {
   "cell_type": "code",
   "execution_count": 90,
   "metadata": {},
   "outputs": [
    {
     "data": {
      "application/vnd.plotly.v1+json": {
       "config": {
        "plotlyServerURL": "https://plot.ly"
       },
       "data": [
        {
         "alignmentgroup": "True",
         "bingroup": "x",
         "hovertemplate": "Cena (zł)=%{x}<br>count=%{y}<extra></extra>",
         "legendgroup": "",
         "marker": {
          "color": "#636efa",
          "pattern": {
           "shape": ""
          }
         },
         "name": "",
         "offsetgroup": "",
         "orientation": "v",
         "showlegend": false,
         "type": "histogram",
         "x": [
          0,
          45.86,
          42.25,
          10.79,
          169,
          45.86,
          199,
          46.24,
          55.49,
          157.49,
          0,
          45.99,
          15.99,
          0,
          13.89,
          111.99,
          229.99,
          161.99,
          64.49,
          164.99,
          0,
          55.99,
          71.99,
          124.79,
          75.59,
          72.59,
          35.63,
          26.56,
          22.99,
          91.99,
          35.74,
          86.34,
          69.99,
          199.99,
          31.75,
          63.99,
          84.99,
          49.75,
          13.79,
          9.19,
          20.39,
          0,
          169.9,
          0,
          59.99,
          0,
          15.6,
          111.3,
          107.99,
          269.9,
          0,
          72.99,
          49.99,
          0,
          80.49,
          75,
          83.39,
          39.97,
          0,
          43.19,
          59.99,
          61.19,
          0,
          19.01,
          59.6,
          58.49,
          138.99,
          0,
          45.99,
          19.99,
          29.99,
          118.14,
          29.99,
          37.48,
          73.59,
          91.99,
          79,
          71.99,
          67.6,
          35.98,
          13.99,
          24.75,
          274.99,
          12.6,
          118.3,
          138.99,
          55.19,
          0,
          59.99,
          8.99,
          79.99,
          45.99,
          0,
          45.99,
          231.99,
          48.59,
          114.99,
          31.99,
          159.9,
          0,
          55.19,
          0,
          35.8,
          219,
          185.59,
          12.6,
          70.39,
          138.99,
          94.99,
          99,
          119.9,
          29.97,
          138.99,
          32.39,
          64.99,
          107.46,
          138.99,
          105.63,
          45.99,
          219,
          21.59,
          82.99,
          161.99,
          161.99,
          21.24,
          44.99,
          114.99,
          45.99,
          68.64,
          0,
          69.9,
          89.99,
          31.99,
          114.99,
          0,
          45.99,
          35.6,
          299,
          44.99,
          0,
          27.59,
          45.99,
          50,
          289.9,
          32.24,
          0,
          14.29,
          7.99,
          184.99,
          78.99,
          71.99,
          124,
          69.9,
          54.99,
          122.99,
          62.99,
          79.99,
          89.99,
          35.99,
          59,
          43.19,
          114.99,
          114.99,
          0,
          7.49,
          71.99,
          59.99,
          149.99,
          17.99,
          67.99,
          109,
          0,
          92.79,
          71.99,
          34.99,
          79.9,
          27.99,
          24.99,
          69.3,
          68.99,
          95,
          91.99,
          231.99,
          39.99,
          10.79,
          21.59,
          91.99,
          35.99,
          72.99,
          89.9,
          44.99,
          91.99,
          91.99,
          39.99,
          71.49,
          67.52,
          71.2,
          88.49,
          89.99,
          9.99,
          0,
          22,
          74.99,
          43.99,
          67.99,
          67.99,
          138.99,
          79.99,
          33.99,
          91.99,
          73.59,
          59.99,
          107.99,
          73.59,
          73.59,
          35.74,
          17.81,
          49.99,
          69.49,
          34.68,
          259,
          45.99,
          91.99,
          68.7,
          254.8,
          184.99,
          64.39,
          99,
          99,
          249,
          58.17,
          214.99,
          64.99,
          259,
          71.99,
          171.9,
          219,
          35.99,
          6.89,
          0,
          17.99,
          21.12,
          114.99,
          39.99,
          42,
          254.8,
          45.99,
          115,
          45.99,
          184.99,
          14.66,
          44.99,
          55.59,
          19.99,
          54.39,
          7.19,
          53.99,
          26.99,
          127.38,
          74.24,
          46.99,
          14.75,
          13.74,
          9.59,
          28.74,
          99.99,
          39.99,
          49.17,
          47.99,
          189.9,
          179,
          35.99,
          64.5,
          35.59,
          100,
          0,
          184.99,
          25.34,
          0,
          35.99,
          35.99,
          26.99,
          21.59,
          34.99,
          50.99,
          84.5,
          159.9,
          65.99,
          19.97,
          42.99,
          161.99,
          161.99,
          39.9,
          40.47,
          29.99,
          69.99,
          77.99,
          100,
          100,
          100,
          34.99,
          138.99,
          114.99,
          138.99,
          34.74,
          138.74,
          45.99,
          33.99,
          114.99,
          22.99,
          11.59,
          21.99,
          71.99,
          71.99,
          85.9,
          109.95,
          31.49,
          33.99,
          35.99,
          124.99,
          124.5,
          30.9,
          9.19,
          39.99,
          119,
          41.69,
          118.14,
          16.56,
          63.24,
          114.99,
          114.99,
          27.99,
          24.06,
          27.5,
          0,
          107.99,
          59.99,
          26.7,
          36.79,
          89.99,
          29.39,
          0,
          105.79,
          104.99,
          100,
          20.74,
          100,
          4.59,
          34.75,
          0,
          22.99,
          24.9,
          25.44,
          21.59,
          24.75,
          91.99,
          8.99,
          100,
          0,
          91.99,
          32.39,
          16.56,
          23.39,
          28.99,
          71.99,
          7.19,
          7.19,
          17.99,
          20.74,
          31,
          17.81,
          91.99,
          91.99,
          91.99,
          91.99,
          91.99,
          91.99,
          89.99,
          107.99,
          86.24,
          44.19,
          86.42,
          89.99,
          89.99,
          89.99,
          89.9,
          85.9,
          6.49,
          31.24,
          84.48,
          119.9,
          80,
          82.99,
          8.99,
          229,
          17.24,
          80.99,
          39.97,
          13.67,
          119,
          14.99,
          0,
          18.49,
          0,
          21.99,
          71.99,
          249,
          8.59,
          69.9,
          22.99,
          4.99,
          21.12,
          16.59,
          69.49,
          67.99,
          67.99,
          16.09,
          67.99,
          67.99,
          13.49,
          67.49,
          73.59,
          82.79,
          53.99,
          10.79,
          63.99,
          149.99,
          10.99,
          8.09,
          3.59,
          67.99,
          59.99,
          59.99,
          29.99,
          48.78,
          199.99,
          58.49,
          37.79,
          11.59,
          22.99,
          55.93,
          10.99,
          55.19,
          54.99,
          13.59,
          54.39,
          54.39,
          53.99,
          53.99,
          53.99,
          53.99,
          79.99,
          12,
          49.59,
          24.41,
          23.99,
          46.99,
          46.8,
          10.79,
          45.99,
          114.99,
          45.99,
          45.99,
          11.49,
          8.69,
          45.99,
          49.99,
          7.49,
          36.99,
          43.99,
          43.99,
          43.99,
          43.99,
          41.4,
          47.59,
          32.19,
          44.99,
          209.99,
          68.99,
          13.49,
          35.99,
          23.99,
          36.99,
          19.99,
          18.39,
          8.99,
          107.99,
          39.99,
          35.99,
          36.99,
          29.99,
          35.99,
          5.24,
          6.99,
          3.84,
          6.89,
          2.24,
          37.99,
          25.19,
          138.99,
          36.99,
          36.99,
          28.79,
          31.99,
          22.99,
          6.99,
          32.39,
          0,
          26.99,
          3.59,
          27.99,
          27.5,
          0,
          20.99,
          4.49,
          27.19,
          10.19,
          24.99,
          13.79,
          19.99,
          7.91,
          6.99,
          18.39,
          17.77,
          289.9,
          21.59,
          10.79,
          24.99,
          24.99,
          13.49,
          44.99,
          44.99,
          18.99,
          18.74,
          35.99,
          18.39,
          22.99,
          14.49,
          5.74,
          11.69,
          11.49,
          3.59,
          17.99,
          4.49,
          17.99,
          46.99,
          17.99,
          9.19,
          0,
          2.24,
          17.24,
          5.24,
          15,
          10.99,
          8.99,
          0,
          3.49,
          14.99,
          13.49,
          14.39,
          4.99,
          0,
          4.49,
          10.11,
          13.75,
          3.49,
          13.49,
          2.24,
          2.24,
          2.24,
          0,
          5.39,
          5.99,
          10.79,
          10.79,
          11.74,
          2.69,
          8.98,
          2.89,
          10.99,
          10.79,
          4.49,
          3.59,
          4.59,
          2.24,
          2.24,
          9.99,
          8.99,
          3.59,
          10.99,
          8.99,
          2.24,
          8.99,
          10.49,
          8.99,
          8.99,
          0
         ],
         "xaxis": "x",
         "yaxis": "y"
        },
        {
         "customdata": [
          [
           "Marvel Rivals"
          ],
          [
           "DOOM Eternal"
          ],
          [
           "Among Us"
          ],
          [
           "Subnautica: Below Zero"
          ],
          [
           "Cyberpunk 2077"
          ],
          [
           "Stellaris"
          ],
          [
           "Warhammer 40,000: Space Marine 2"
          ],
          [
           "Frostpunk"
          ],
          [
           "S.T.A.L.K.E.R. 2: Heart of Chornobyl"
          ],
          [
           "Jurassic World Evolution 2"
          ],
          [
           "Lies of P"
          ],
          [
           "BlazBlue Entropy Effect"
          ],
          [
           "They Are Billions"
          ],
          [
           "Atomic Heart"
          ],
          [
           "Planetary Annihilation: TITANS"
          ],
          [
           "ENDLESS™ Legend"
          ],
          [
           "Chained Together"
          ],
          [
           "Project Zomboid"
          ],
          [
           "ENDLESS™ Space 2"
          ],
          [
           "Barotrauma"
          ],
          [
           "Metro Exodus"
          ],
          [
           "Void Crew"
          ],
          [
           "Halo: The Master Chief Collection"
          ],
          [
           "This War of Mine"
          ],
          [
           "Plague Inc: Evolved"
          ],
          [
           "DOOM 3"
          ],
          [
           "The Long Drive"
          ],
          [
           "The Invincible"
          ],
          [
           "Starship Troopers: Terran Command"
          ],
          [
           "MechWarrior 5: Mercenaries"
          ],
          [
           "STAR WARS™: The Old Republic™"
          ],
          [
           "Hatsune Miku: Project DIVA Mega Mix+"
          ],
          [
           "Aliens: Dark Descent"
          ],
          [
           "Unturned"
          ],
          [
           "LOCKDOWN Protocol"
          ],
          [
           "The Long Dark"
          ],
          [
           "Chernobylite Complete Edition"
          ],
          [
           "Job Simulator"
          ],
          [
           "Fallout 4"
          ],
          [
           "Space Engineers"
          ],
          [
           "System Shock"
          ],
          [
           "Halo Wars: Definitive Edition"
          ],
          [
           "Metro 2033 Redux"
          ],
          [
           "Zompiercer"
          ],
          [
           "RoboCop: Rogue City"
          ],
          [
           "Nuclear Nightmare"
          ],
          [
           "Sins of a Solar Empire®: Rebellion"
          ],
          [
           "Days Gone"
          ],
          [
           "Sins of a Solar Empire II"
          ],
          [
           "Metro: Last Light Redux"
          ],
          [
           "ASTRONEER"
          ],
          [
           "Starcom: Unknown Space"
          ],
          [
           "The Riftbreaker"
          ],
          [
           "Aliens: Fireteam Elite"
          ],
          [
           "Annihilate The Spance"
          ],
          [
           "Arizona Sunshine® 2"
          ],
          [
           "Sovereign Syndicate"
          ],
          [
           "Horizon Zero Dawn™ Complete Edition"
          ],
          [
           "Nuclear Option"
          ],
          [
           "Pathologic 2"
          ],
          [
           "Road 96 🛣️"
          ],
          [
           "Fallout: New Vegas"
          ],
          [
           "Nobody Wants to Die"
          ],
          [
           "SPORE™"
          ],
          [
           "Wolfenstein: The New Order"
          ],
          [
           "Amenti"
          ],
          [
           "Lightyear Frontier"
          ],
          [
           "Deep Rock Galactic: Survivor"
          ],
          [
           "AI: THE SOMNIUM FILES - nirvanA Initiative"
          ],
          [
           "Fallout Shelter"
          ],
          [
           "AI: The Somnium Files"
          ],
          [
           "Warhammer 40,000: Gladius - Relics of War"
          ],
          [
           "Astrometica"
          ],
          [
           "Wolfenstein II: The New Colossus"
          ],
          [
           "Endoparasitic 2"
          ],
          [
           "The Thing: Remastered"
          ],
          [
           "GNOSIA"
          ],
          [
           "Warhammer 40,000: Boltgun"
          ],
          [
           "Clone Drone in the Hyperdome"
          ],
          [
           "State of Decay 2: Juggernaut Edition"
          ],
          [
           "The Last Stand: Aftermath"
          ],
          [
           "High On Life"
          ],
          [
           "Drill Core"
          ],
          [
           "ZEPHON"
          ],
          [
           "Pacific Drive"
          ],
          [
           "Beyond: Two Souls"
          ],
          [
           "From Glory To Goo"
          ],
          [
           "Creatures of Ava"
          ],
          [
           "Jurassic World Evolution"
          ],
          [
           "Zero Escape: The Nonary Games"
          ],
          [
           "Killing Floor 2"
          ],
          [
           "Starship EVO"
          ],
          [
           "Bright Memory: Infinite"
          ],
          [
           "The Sapling"
          ],
          [
           "Cataclysm: Dark Days Ahead"
          ],
          [
           "Uncle Chop's Rocket Shop"
          ],
          [
           "60 Seconds! Reatomized"
          ],
          [
           "Wasteland 3"
          ],
          [
           "Deus Ex: Human Revolution - Director's Cut"
          ],
          [
           "Quasimorph"
          ],
          [
           "New Arc Line"
          ],
          [
           "Homeworld Remastered Collection"
          ],
          [
           "VLADiK BRUTAL"
          ],
          [
           "Mechabellum"
          ],
          [
           "Age of Wonders: Planetfall"
          ],
          [
           "SUPERHOT VR"
          ],
          [
           "Doors: Paradox"
          ],
          [
           "Mutant Year Zero: Road to Eden"
          ],
          [
           "Cepheus Protocol"
          ],
          [
           "Space Reign"
          ],
          [
           "Quantum Break"
          ],
          [
           "NEBULOUS: Fleet Command"
          ],
          [
           "Seed of the Dead: Sweet Home"
          ],
          [
           "Aliens vs. Ghosts"
          ],
          [
           "Horizon Forbidden West™ Edycja kompletna"
          ],
          [
           "Serious Sam 2"
          ],
          [
           "Shin Megami Tensei III Nocturne HD Remaster"
          ],
          [
           "Call of Duty®: Black Ops III"
          ],
          [
           "Warhammer 40,000: Battlesector"
          ],
          [
           "Crysis 2 Remastered"
          ],
          [
           "Crysis 3 Remastered"
          ],
          [
           "ARMORED CORE™ VI FIRES OF RUBICON™"
          ],
          [
           "EARTH DEFENSE FORCE 5"
          ],
          [
           "Ratchet & Clank: Rift Apart"
          ],
          [
           "S.T.A.L.K.E.R.: Shadow of Chernobyl"
          ],
          [
           "Space Haven"
          ],
          [
           "Wall World"
          ],
          [
           "Saints Row IV: Re-Elected"
          ],
          [
           "Supreme Commander"
          ],
          [
           "Space Prison"
          ],
          [
           "Call of Duty®: Black Ops II"
          ],
          [
           "Togainu no Chi ~Lost Blood~"
          ],
          [
           "BATTLETECH"
          ],
          [
           "Takara Cards"
          ],
          [
           "Fallout 2: A Post Nuclear Role Playing Game"
          ],
          [
           "Muv-Luv (マブラヴ)"
          ],
          [
           "Sunset Overdrive"
          ],
          [
           "Zero Escape: Zero Time Dilemma"
          ],
          [
           "Crying Suns"
          ],
          [
           "Tasty Planet Forever"
          ],
          [
           "Beholder"
          ],
          [
           "Caravan SandWitch"
          ],
          [
           "Gatekeeper"
          ],
          [
           "Five Nations"
          ],
          [
           "Dreamfall: The Longest Journey"
          ],
          [
           "Unnamed Space Idle"
          ],
          [
           "Revolution Idle"
          ],
          [
           "Endoparasitic"
          ],
          [
           "S.T.A.L.K.E.R.: Clear Sky"
          ],
          [
           "Into the Breach"
          ],
          [
           "FAR: Changing Tides"
          ],
          [
           "Syberia"
          ],
          [
           "The Abandoned Planet"
          ],
          [
           "Assassin's Creed® Syndicate"
          ],
          [
           "Forever Skies"
          ],
          [
           "STEINS;GATE ELITE"
          ],
          [
           "Stationeers"
          ],
          [
           "Far Cry®"
          ],
          [
           "Cyber Manhunt 2: New World - The Hacking Simulator"
          ],
          [
           "Dome Keeper"
          ],
          [
           "Stardeus"
          ],
          [
           "Command & Conquer 3: Gniew Kane'a"
          ],
          [
           "Command & Conquer™ Red Alert™ 3"
          ],
          [
           "Command & Conquer 3: Wojny o tyberium"
          ],
          [
           "60 Seconds!"
          ],
          [
           "Kristala"
          ],
          [
           "Star Trek: Resurgence"
          ],
          [
           "Terminator: Dark Fate - Defiance"
          ],
          [
           "Stellar Warfare"
          ],
          [
           "Eternal Starlight VR"
          ],
          [
           "Rain World"
          ],
          [
           "Bright Memory"
          ],
          [
           "I Have No Mouth, and I Must Scream"
          ],
          [
           "HELLDIVERS™ Dive Harder Edition"
          ],
          [
           "XCOM: Enemy Unknown"
          ],
          [
           "Destroy All Humans!"
          ],
          [
           "Thief™ Gold"
          ],
          [
           "Goodbye Deponia"
          ],
          [
           "Genome Guardian"
          ],
          [
           "Utopia Must Fall"
          ],
          [
           "Viscera Cleanup Detail"
          ],
          [
           "Vanquish"
          ],
          [
           "Still Wakes the Deep"
          ],
          [
           "Command & Conquer™ Tiberian Sun™ and Firestorm™"
          ],
          [
           "Vaporum: Lockdown"
          ],
          [
           "Command & Conquer Red Alert™ 2 and Yuri’s Revenge™"
          ],
          [
           "Bridge Constructor Portal"
          ],
          [
           "Sid Meier's Alpha Centauri™ Planetary Pack"
          ],
          [
           "Arcanum: Of Steamworks and Magick Obscura"
          ],
          [
           "Command & Conquer™ Red Alert™ 3- Powstanie"
          ],
          [
           "Poker Master"
          ],
          [
           "ENDER LILIES: Quietus of the Knights"
          ],
          [
           "Wasteland 2: Director's Cut"
          ],
          [
           "Krush Kill 'N Destroy Xtreme"
          ],
          [
           "Dead Grid"
          ],
          [
           "Tasty Planet: Back for Seconds"
          ],
          [
           "Rigid Force Alpha"
          ],
          [
           "Deponia Doomsday"
          ],
          [
           "Chaos on Deponia"
          ],
          [
           "Neon Abyss"
          ],
          [
           "Particle Fleet: Emergence"
          ],
          [
           "Citizen Sleeper"
          ],
          [
           "LEGO® Star Wars™ III - The Clone Wars™"
          ],
          [
           "DYSMANTLE"
          ],
          [
           "The Walking Dead: The Final Season"
          ],
          [
           "STAR WARS™: Bounty Hunter™"
          ],
          [
           "Distance"
          ],
          [
           "Ben 10: Power Trip"
          ],
          [
           "The Devil Within: Satgat"
          ],
          [
           "Fallout 3: Game of the Year Edition"
          ],
          [
           "Project Wingman"
          ],
          [
           "InfraSpace"
          ],
          [
           "BioShock™"
          ],
          [
           "World War Z"
          ],
          [
           "Chicken Police: Into the HIVE!"
          ],
          [
           "Oblivion Override"
          ],
          [
           "Battlezone 98 Redux"
          ],
          [
           "LEGO ® Gwiezdne Wojny™: Saga Skywalkerów"
          ],
          [
           "My Protogen Engineer ⚙️"
          ],
          [
           "Battlezone: Combat Commander"
          ],
          [
           "Arizona Sunshine® Remake"
          ],
          [
           "Cell to Singularity - Evolution Never Ends"
          ],
          [
           "Tasty Planet"
          ],
          [
           "Original War"
          ],
          [
           "Chorus"
          ],
          [
           "Beholder 2"
          ],
          [
           "Risk of Rain Returns"
          ],
          [
           "My Furry Protogen 2 🐾"
          ],
          [
           "Starbound"
          ],
          [
           "The End Is Nigh"
          ],
          [
           "Universe Horizon"
          ],
          [
           "Executive Assault 2"
          ],
          [
           "Eden Crafters"
          ],
          [
           "BLADE CHIMERA"
          ],
          [
           "Solar Ash"
          ],
          [
           "My Time at Sandrock"
          ],
          [
           "FAR: Lone Sails"
          ],
          [
           "Deponia"
          ],
          [
           "ATOM RPG: Post-apocalyptic indie game"
          ],
          [
           "Whispers of a Machine"
          ],
          [
           "Airborne Kingdom"
          ],
          [
           "Lacuna – A Sci-Fi Noir Adventure"
          ],
          [
           "Half-Life: Blue Shift"
          ],
          [
           "Beyond Good & Evil - 20th Anniversary Edition"
          ],
          [
           "Dungeon of the ENDLESS™"
          ],
          [
           "The Mobius Machine"
          ],
          [
           "Obenseuer"
          ],
          [
           "Detective Girl of the Steam City"
          ],
          [
           "Red Matter"
          ],
          [
           "Serious Sam HD: The First Encounter"
          ],
          [
           "NORCO"
          ],
          [
           "while True: learn()"
          ],
          [
           "Azure Striker GUNVOLT 3"
          ],
          [
           "Binary Domain"
          ],
          [
           "STAR WARS™ Knights of the Old Republic™ II - The Sith Lords™"
          ],
          [
           "Avorion"
          ],
          [
           "Serious Sam Classics: Revolution"
          ],
          [
           "My Furry Protogen 🐾"
          ],
          [
           "ATOM RPG Trudograd"
          ],
          [
           "FINAL FANTASY VIII"
          ],
          [
           "FINAL FANTASY VII"
          ],
          [
           "Bears In Space"
          ],
          [
           "Taimanin Yukikaze"
          ],
          [
           "Retrowave World"
          ],
          [
           "CHAOS;CHILD"
          ],
          [
           "REMNANT II®"
          ],
          [
           "SUNLESS SEA"
          ],
          [
           "Infested Planet"
          ],
          [
           "Tiny Room Stories: Town Mystery"
          ],
          [
           "Hard Truck Apocalypse / Ex Machina"
          ],
          [
           "Titan Station"
          ],
          [
           "LEGO® STAR WARS™: The Force Awakens"
          ],
          [
           "ICEY"
          ],
          [
           "System Shock 2"
          ],
          [
           "PILGRIM"
          ],
          [
           "SiN Episodes: Emergence"
          ],
          [
           "Anomaly: Warzone Earth"
          ],
          [
           "CASE: Animatronics"
          ],
          [
           "UBERMOSH"
          ],
          [
           "Greedland"
          ],
          [
           "Surviving Mars"
          ],
          [
           "Twilight Town: A Cyberpunk FPS"
          ],
          [
           "State of Decay: YOSE"
          ],
          [
           "Space Pirate Trainer"
          ],
          [
           "SIMULACRA"
          ],
          [
           "Galaxy Life"
          ],
          [
           "Deep Space Cache"
          ],
          [
           "Verne: The Shape of Fantasy"
          ],
          [
           "What Lies in the Multiverse"
          ],
          [
           "Death Roads: Tournament"
          ],
          [
           "BDSM: Big Drunk Satanic Massacre"
          ],
          [
           "Shrot"
          ],
          [
           "Azure Striker Gunvolt"
          ],
          [
           "ROBOTICS;NOTES ELITE"
          ],
          [
           "Gun Metal"
          ],
          [
           "Fallout 3"
          ],
          [
           "Samorost 2"
          ],
          [
           "Cyber Manhunt"
          ],
          [
           "Eden Survivors"
          ],
          [
           "Twilight Manor: Roguelite FPS"
          ],
          [
           "The Trench"
          ],
          [
           "Escape Machine City: Airborne"
          ],
          [
           "Mimicry"
          ],
          [
           "Symmodance"
          ],
          [
           "Supreme Commander 2"
          ],
          [
           "Vaporum"
          ],
          [
           "Retrowave 2"
          ],
          [
           "Dead Synchronicity: Tomorrow Comes Today"
          ],
          [
           "Astebreed: Definitive Edition"
          ],
          [
           "Krążowniki"
          ],
          [
           "Algo Bot"
          ],
          [
           "Executive Assault"
          ],
          [
           "Joggernauts"
          ],
          [
           "Alt-Frequencies"
          ],
          [
           "Trash Quest"
          ],
          [
           "Deep Space Battle Simulator"
          ],
          [
           "Void Scrappers"
          ],
          [
           "1bitHeart"
          ],
          [
           "Seen"
          ],
          [
           "tomorrow won't come for those without ██████"
          ]
         ],
         "hovertemplate": "Nacechowanie recenzji=Bardzo pozytywne<br>Cena=%{x}<br>Liczba recenzji=%{y}<br>Tytuł=%{customdata[0]}<extra></extra>",
         "legendgroup": "Bardzo pozytywne",
         "marker": {
          "color": "#636efa",
          "symbol": "circle"
         },
         "mode": "markers",
         "name": "Bardzo pozytywne",
         "orientation": "v",
         "showlegend": true,
         "type": "scatter",
         "x": [
          0,
          42.25,
          10.79,
          45.86,
          199,
          46.24,
          157.49,
          13.89,
          229.99,
          64.49,
          164.99,
          55.99,
          75.59,
          72.59,
          35.63,
          26.56,
          22.99,
          91.99,
          35.74,
          69.99,
          31.75,
          63.99,
          49.75,
          9.19,
          20.39,
          15.6,
          72.99,
          75,
          83.39,
          43.19,
          0,
          59.6,
          58.49,
          0,
          45.99,
          29.99,
          29.99,
          91.99,
          79,
          71.99,
          67.6,
          24.75,
          12.6,
          59.99,
          231.99,
          31.99,
          55.19,
          219,
          185.59,
          12.6,
          138.99,
          94.99,
          99,
          29.97,
          138.99,
          107.46,
          45.99,
          219,
          82.99,
          161.99,
          21.24,
          44.99,
          68.64,
          69.9,
          89.99,
          31.99,
          114.99,
          50,
          32.24,
          0,
          14.29,
          184.99,
          78.99,
          124,
          54.99,
          122.99,
          62.99,
          79.99,
          59,
          43.19,
          114.99,
          71.99,
          59.99,
          149.99,
          109,
          79.9,
          27.99,
          69.3,
          39.99,
          10.79,
          21.59,
          91.99,
          35.99,
          72.99,
          91.99,
          91.99,
          39.99,
          71.49,
          67.52,
          71.2,
          88.49,
          9.99,
          43.99,
          67.99,
          138.99,
          79.99,
          33.99,
          59.99,
          73.59,
          73.59,
          35.74,
          49.99,
          69.49,
          34.68,
          259,
          45.99,
          68.7,
          254.8,
          184.99,
          99,
          99,
          249,
          214.99,
          259,
          71.99,
          35.99,
          6.89,
          21.12,
          39.99,
          42,
          254.8,
          45.99,
          184.99,
          14.66,
          44.99,
          55.59,
          19.99,
          7.19,
          26.99,
          46.99,
          9.59,
          39.99,
          47.99,
          35.99,
          35.59,
          0,
          0,
          35.99,
          35.99,
          26.99,
          21.59,
          34.99,
          50.99,
          159.9,
          65.99,
          42.99,
          161.99,
          39.9,
          40.47,
          69.99,
          77.99,
          100,
          100,
          100,
          34.99,
          138.99,
          114.99,
          138.74,
          45.99,
          33.99,
          114.99,
          11.59,
          21.99,
          71.99,
          85.9,
          124.99,
          30.9,
          9.19,
          24.06,
          27.5,
          59.99,
          26.7,
          104.99,
          100,
          20.74,
          100,
          4.59,
          24.9,
          25.44,
          100,
          0,
          91.99,
          32.39,
          16.56,
          23.39,
          28.99,
          71.99,
          7.19,
          7.19,
          17.99,
          17.81,
          91.99,
          91.99,
          91.99,
          91.99,
          91.99,
          89.99,
          107.99,
          86.24,
          89.99,
          89.99,
          89.99,
          85.9,
          119.9,
          80,
          82.99,
          8.99,
          229,
          17.24,
          13.67,
          119,
          0,
          21.99,
          8.59,
          21.12,
          16.59,
          67.99,
          16.09,
          67.99,
          67.99,
          13.49,
          67.49,
          73.59,
          82.79,
          63.99,
          149.99,
          8.09,
          3.59,
          67.99,
          59.99,
          29.99,
          11.59,
          22.99,
          55.93,
          10.99,
          55.19,
          54.39,
          53.99,
          53.99,
          53.99,
          23.99,
          46.99,
          46.8,
          10.79,
          45.99,
          114.99,
          45.99,
          8.69,
          49.99,
          43.99,
          43.99,
          41.4,
          47.59,
          32.19,
          44.99,
          209.99,
          68.99,
          13.49,
          35.99,
          36.99,
          18.39,
          107.99,
          39.99,
          35.99,
          36.99,
          35.99,
          3.84,
          6.89,
          2.24,
          37.99,
          138.99,
          36.99,
          28.79,
          26.99,
          3.59,
          0,
          4.49,
          27.19,
          10.19,
          24.99,
          7.91,
          18.39,
          21.59,
          24.99,
          13.49,
          44.99,
          18.99,
          35.99,
          18.39,
          22.99,
          14.49,
          5.74,
          11.69,
          4.49,
          46.99,
          9.19,
          17.24,
          3.49,
          14.39,
          13.75,
          10.79,
          11.74,
          8.98,
          2.89,
          10.99,
          10.79,
          8.99,
          10.99,
          2.24,
          8.99
         ],
         "xaxis": "x2",
         "y": [
          181643,
          169836,
          612000,
          86065,
          715721,
          124289,
          107878,
          98175,
          79149,
          27610,
          34215,
          22710,
          42756,
          26479,
          10780,
          13989,
          41794,
          266436,
          16363,
          49377,
          101357,
          4681,
          215389,
          60529,
          48068,
          7757,
          38737,
          4528,
          8171,
          10122,
          65154,
          14253,
          12115,
          550767,
          10614,
          95008,
          10837,
          3837,
          256332,
          95500,
          7858,
          7468,
          79958,
          2002,
          11094,
          6973,
          9982,
          68732,
          5165,
          58984,
          107935,
          2551,
          16076,
          18784,
          97,
          1439,
          282,
          92645,
          2893,
          8185,
          17045,
          11350,
          2717,
          58329,
          40525,
          428,
          2080,
          32876,
          2847,
          72445,
          7498,
          7135,
          1283,
          29993,
          409,
          646,
          2781,
          12629,
          446,
          50481,
          5260,
          15230,
          906,
          957,
          14475,
          21610,
          631,
          170,
          46831,
          5426,
          82811,
          867,
          34827,
          1294,
          402,
          570,
          14900,
          15930,
          23427,
          3394,
          298,
          11276,
          7043,
          12030,
          4508,
          7324,
          1081,
          12642,
          2296,
          199,
          20453,
          3090,
          2816,
          379,
          13811,
          10286,
          3250,
          136348,
          4005,
          5667,
          4755,
          58675,
          8643,
          7931,
          36261,
          7977,
          8177,
          57056,
          2060,
          182,
          20516,
          363,
          21366,
          75,
          11950,
          1376,
          10389,
          3878,
          2912,
          281,
          19309,
          1487,
          1240,
          216,
          996,
          2286,
          2194,
          2429,
          16822,
          16571,
          3909,
          3480,
          62,
          26916,
          4632,
          1332,
          6284,
          9028,
          2955,
          13062,
          1176,
          4402,
          13217,
          7569,
          10258,
          106,
          1757,
          2313,
          248,
          60,
          30412,
          29742,
          2234,
          23615,
          38165,
          8309,
          3072,
          1828,
          393,
          496,
          16527,
          6127,
          4687,
          776,
          239,
          7046,
          5635,
          394,
          1593,
          3874,
          3983,
          34481,
          4615,
          197,
          288,
          512,
          100,
          2623,
          2192,
          19093,
          1112,
          5704,
          6362,
          9745,
          14920,
          744,
          5399,
          246,
          636,
          38835,
          15140,
          1356,
          23730,
          18206,
          181,
          1540,
          950,
          34871,
          112,
          771,
          553,
          22516,
          320,
          1665,
          3196,
          5701,
          23932,
          341,
          85929,
          2846,
          50,
          1338,
          943,
          402,
          1052,
          21481,
          18523,
          9262,
          9206,
          1213,
          1875,
          1697,
          15732,
          954,
          9197,
          264,
          693,
          1767,
          910,
          6439,
          2137,
          6564,
          369,
          3017,
          20540,
          11923,
          2972,
          690,
          3479,
          7403,
          23398,
          284,
          140,
          305,
          2886,
          39732,
          7318,
          2375,
          670,
          2193,
          376,
          3873,
          24043,
          5995,
          2332,
          826,
          936,
          3435,
          3186,
          2012,
          15549,
          168,
          9527,
          2611,
          3072,
          7830,
          531,
          141,
          437,
          612,
          1062,
          76,
          1547,
          490,
          556,
          16831,
          1864,
          13372,
          62,
          83,
          123,
          72,
          166,
          55,
          7843,
          889,
          56,
          1032,
          1194,
          342,
          133,
          1260,
          80,
          193,
          90,
          336,
          508,
          759,
          8990,
          823
         ],
         "yaxis": "y2"
        },
        {
         "customdata": [
          [
           "Subnautica"
          ],
          [
           "Detroit: Become Human"
          ],
          [
           "Lethal Company"
          ],
          [
           "DOOM"
          ],
          [
           "RimWorld"
          ],
          [
           "Stray"
          ],
          [
           "Brotato"
          ],
          [
           "Outer Wilds"
          ],
          [
           "Deep Rock Galactic"
          ],
          [
           "The Planet Crafter"
          ],
          [
           "Mouthwashing"
          ],
          [
           "Beat Saber"
          ],
          [
           "Warhammer 40,000: Dawn of War - Anniversary Edition"
          ],
          [
           "Caves of Qud"
          ],
          [
           "Half-Life: Alyx"
          ],
          [
           "Nine Sols"
          ],
          [
           "DRAMAtical Murder"
          ],
          [
           "Severed Steel"
          ],
          [
           "Portal 2"
          ],
          [
           "Left 4 Dead 2"
          ],
          [
           "Life is Strange - Episode 1"
          ],
          [
           "Roboquest"
          ],
          [
           "Titanfall® 2"
          ],
          [
           "shapez 2"
          ],
          [
           "Universe Sandbox"
          ],
          [
           "STEINS;GATE"
          ],
          [
           "Abiotic Factor"
          ],
          [
           "Papers, Please"
          ],
          [
           "Half-Life 2"
          ],
          [
           "Cosmoteer: Starship Architect & Commander"
          ],
          [
           "Portal"
          ],
          [
           "Turing Complete"
          ],
          [
           "Creeper World 4"
          ],
          [
           "The Walking Dead"
          ],
          [
           "CRUEL"
          ],
          [
           "STEINS;GATE 0"
          ],
          [
           "Mars First Logistics"
          ],
          [
           "Dishonored"
          ],
          [
           "Oxygen Not Included"
          ],
          [
           "Machinarium"
          ],
          [
           "Minds Beneath Us"
          ],
          [
           "Creeper World 3: Arc Eternal"
          ],
          [
           "Kerbal Space Program"
          ],
          [
           "Left 4 Dead"
          ],
          [
           "SpaceEngine"
          ],
          [
           "Worldless"
          ],
          [
           "The Forgotten City"
          ],
          [
           "The Talos Principle 2"
          ],
          [
           "The Room Two"
          ],
          [
           "Dyson Sphere Program"
          ],
          [
           "Half-Life"
          ],
          [
           "I Was a Teenage Exocolonist"
          ],
          [
           "Kenshi"
          ],
          [
           "Misao - 2024 HD Remaster"
          ],
          [
           "Dune: Imperium"
          ],
          [
           "Half-Life: Opposing Force"
          ],
          [
           "Black Mesa"
          ],
          [
           "SANABI"
          ],
          [
           "Cruelty Squad"
          ],
          [
           "Alien Shooter"
          ],
          [
           "Beyond Citadel"
          ],
          [
           "Spaceflight Simulator"
          ],
          [
           "MULLET MADJACK"
          ],
          [
           "DRAINUS"
          ],
          [
           "VA-11 Hall-A: Cyberpunk Bartender Action"
          ],
          [
           "Nova Drift"
          ],
          [
           "STAR WARS™ Battlefront (Classic, 2004)"
          ],
          [
           "Nuclear Throne"
          ],
          [
           "Total Annihilation"
          ],
          [
           "Picayune Dreams"
          ],
          [
           "SharpShooter3D"
          ],
          [
           "Linelith"
          ],
          [
           "Impossible Creatures Steam Edition"
          ],
          [
           "Chair F*cking Simulator"
          ]
         ],
         "hovertemplate": "Nacechowanie recenzji=Przytłaczająco pozytywne<br>Cena=%{x}<br>Liczba recenzji=%{y}<br>Tytuł=%{customdata[0]}<extra></extra>",
         "legendgroup": "Przytłaczająco pozytywne",
         "marker": {
          "color": "#EF553B",
          "symbol": "circle"
         },
         "mode": "markers",
         "name": "Przytłaczająco pozytywne",
         "orientation": "v",
         "showlegend": true,
         "type": "scatter",
         "x": [
          45.86,
          55.49,
          45.99,
          15.99,
          111.99,
          71.99,
          13.79,
          59.99,
          107.99,
          80.49,
          59.99,
          138.99,
          19.99,
          118.14,
          274.99,
          138.99,
          55.19,
          8.99,
          45.99,
          45.99,
          0,
          70.39,
          119.9,
          64.99,
          138.99,
          21.59,
          114.99,
          45.99,
          45.99,
          44.99,
          45.99,
          71.99,
          35.99,
          67.99,
          34.99,
          24.99,
          68.99,
          44.99,
          89.99,
          74.99,
          91.99,
          17.81,
          171.9,
          45.99,
          115,
          53.99,
          28.74,
          138.99,
          22.99,
          71.99,
          35.99,
          114.99,
          107.99,
          36.79,
          105.79,
          22.99,
          91.99,
          44.19,
          71.99,
          22.99,
          67.99,
          59.99,
          58.49,
          37.79,
          53.99,
          49.59,
          45.99,
          43.99,
          17.99,
          15,
          14.99,
          13.49,
          9.99,
          8.99
         ],
         "xaxis": "x2",
         "y": [
          270717,
          129446,
          378091,
          134704,
          171301,
          134727,
          87148,
          65558,
          263835,
          46355,
          22281,
          67651,
          7857,
          9024,
          83075,
          20696,
          3076,
          5207,
          349157,
          708227,
          167844,
          15797,
          216599,
          9137,
          22353,
          18356,
          18747,
          65893,
          175083,
          9911,
          148570,
          3516,
          4032,
          45901,
          547,
          6040,
          1044,
          11155,
          117230,
          13219,
          2279,
          3864,
          101395,
          50603,
          11165,
          924,
          9035,
          10534,
          18642,
          75847,
          102094,
          3310,
          78325,
          2029,
          2514,
          21337,
          113307,
          30831,
          18019,
          3361,
          1291,
          5591,
          5724,
          871,
          30979,
          12054,
          3800,
          13353,
          3206,
          2345,
          1332,
          739,
          1444,
          570
         ],
         "yaxis": "y2"
        },
        {
         "customdata": [
          [
           "HELLDIVERS™ 2"
          ],
          [
           "Once Human"
          ],
          [
           "ICARUS"
          ],
          [
           "Snowbreak: Containment Zone"
          ],
          [
           "Frostpunk 2"
          ],
          [
           "Dune: Spice Wars"
          ],
          [
           "Dying Light 2 Stay Human: Reloaded Edition"
          ],
          [
           "Warhammer 40,000: Darktide"
          ],
          [
           "Fallout 76"
          ],
          [
           "Metro Awakening"
          ],
          [
           "New Cycle"
          ],
          [
           "Crossout"
          ],
          [
           "Tom Clancy’s The Division® 2"
          ],
          [
           "Destiny 2"
          ],
          [
           "IDUN"
          ],
          [
           "Iron Harvest"
          ],
          [
           "Ostranauts"
          ],
          [
           "Far Cry® New Dawn"
          ],
          [
           "Battlefleet Gothic: Armada 2"
          ],
          [
           "Empire of the Ants"
          ],
          [
           "Infection Free Zone"
          ],
          [
           "Halo Infinite"
          ],
          [
           "Warhammer 40,000: Chaos Gate - Daemonhunters"
          ],
          [
           "Phantasy Star Online 2 New Genesis"
          ],
          [
           "Hidden Deep"
          ],
          [
           "Dead Island 2"
          ],
          [
           "IXION"
          ],
          [
           "Will To Live Online"
          ],
          [
           "Tower of Fantasy"
          ],
          [
           "Dark Sky"
          ],
          [
           "CryoFall"
          ],
          [
           "Dead Space™ 3"
          ],
          [
           "Master of Orion"
          ],
          [
           "Occupy Mars: The Game"
          ],
          [
           "Homeworld: Deserts of Kharak"
          ],
          [
           "Distant Worlds 2"
          ],
          [
           "Silica"
          ],
          [
           "OVRLRD"
          ],
          [
           "Elite Dangerous"
          ],
          [
           "Warhammer 40,000: Inquisitor - Martyr"
          ],
          [
           "Thief"
          ],
          [
           "DUCKSIDE"
          ],
          [
           "Crysis Remastered"
          ],
          [
           "Space Simulation Toolkit"
          ],
          [
           "Fort Solis"
          ],
          [
           "Horizon Zero Dawn™ Remastered"
          ],
          [
           "Among Us VR"
          ],
          [
           "Reverse Collapse: Code Name Bakery"
          ],
          [
           "Prototype 2"
          ],
          [
           "Star Trucker"
          ],
          [
           "Generation Zero®"
          ],
          [
           "Gears Tactics"
          ],
          [
           "Mass Effect: Andromeda - ulepszenie Deluxe"
          ],
          [
           "Age of Water"
          ],
          [
           "Scars Above"
          ],
          [
           "Urban Strife"
          ],
          [
           "Ashes of the Singularity: Escalation"
          ],
          [
           "Dustwind"
          ],
          [
           "Iron Marines Invasion"
          ],
          [
           "Twelve Minutes"
          ],
          [
           "The Crust"
          ],
          [
           "After the Fall®"
          ],
          [
           "Krush Kill ‘N Destroy 2: Krossfire"
          ],
          [
           "Ghosts of Tabor"
          ],
          [
           "Phoenix Point"
          ],
          [
           "Scorn"
          ],
          [
           "Terraforming Mars"
          ],
          [
           "ENDLESS™ Space - Definitive Edition"
          ],
          [
           "The Ascent"
          ],
          [
           "Somerville"
          ],
          [
           "XCOM®: Chimera Squad"
          ],
          [
           "The Surge"
          ],
          [
           "Torment: Tides of Numenera"
          ],
          [
           "Red Faction Guerrilla Re-Mars-tered"
          ],
          [
           "FRONT MISSION 1st: Remake"
          ],
          [
           "The Surge 2"
          ],
          [
           "Survivors of the Dawn"
          ],
          [
           "STAR WARS™ Battlefront"
          ],
          [
           "Anomaly 2"
          ],
          [
           "Godlike Burger"
          ],
          [
           "Oxygen"
          ],
          [
           "Star Dynasties"
          ],
          [
           "X4: Foundations"
          ],
          [
           "Heat Death: Survival Train"
          ],
          [
           "Breachway"
          ],
          [
           "The Leviathan's fantasy"
          ],
          [
           "Earth 2150 Trilogy"
          ],
          [
           "MarZ: Tactical Base Defense"
          ],
          [
           "Distrust: Polar Survival"
          ],
          [
           "Anomaly Defenders"
          ],
          [
           "Final Upgrade"
          ],
          [
           "Space Architect"
          ],
          [
           "Half Dead"
          ],
          [
           "W.A.N.D. Project"
          ],
          [
           "Noch"
          ],
          [
           "Life of Delta"
          ],
          [
           "Star Wars Outlaws"
          ],
          [
           "RAGE"
          ],
          [
           "Starpoint Gemini Warlords"
          ],
          [
           "UFO: Aftershock"
          ],
          [
           "Machinika: Atlas"
          ],
          [
           "Deadlight"
          ],
          [
           "Anomaly Korea"
          ],
          [
           "Swarm the City: Zombie Evolved"
          ],
          [
           "UFO: Aftermath"
          ],
          [
           "ENCODYA"
          ],
          [
           "Morbid: The Seven Acolytes"
          ]
         ],
         "hovertemplate": "Nacechowanie recenzji=W większości pozytywne<br>Cena=%{x}<br>Liczba recenzji=%{y}<br>Tytuł=%{customdata[0]}<extra></extra>",
         "legendgroup": "W większości pozytywne",
         "marker": {
          "color": "#00cc96",
          "symbol": "circle"
         },
         "mode": "markers",
         "name": "W większości pozytywne",
         "orientation": "v",
         "showlegend": true,
         "type": "scatter",
         "x": [
          169,
          0,
          161.99,
          0,
          124.79,
          86.34,
          199.99,
          84.99,
          169.9,
          111.3,
          49.99,
          0,
          39.97,
          0,
          61.19,
          19.01,
          73.59,
          35.98,
          13.99,
          118.3,
          79.99,
          0,
          48.59,
          0,
          32.39,
          105.63,
          161.99,
          0,
          0,
          27.59,
          7.99,
          69.9,
          89.99,
          114.99,
          17.99,
          92.79,
          71.99,
          95,
          91.99,
          231.99,
          89.9,
          67.99,
          107.99,
          64.39,
          58.17,
          219,
          17.99,
          114.99,
          127.38,
          74.24,
          99.99,
          49.17,
          189.9,
          64.5,
          25.34,
          161.99,
          34.74,
          31.49,
          33.99,
          39.99,
          119,
          41.69,
          16.56,
          114.99,
          89.99,
          34.75,
          91.99,
          8.99,
          31,
          86.42,
          89.9,
          6.49,
          31.24,
          84.48,
          80.99,
          14.99,
          18.49,
          69.9,
          4.99,
          10.79,
          10.99,
          48.78,
          199.99,
          54.99,
          79.99,
          24.41,
          45.99,
          19.99,
          8.99,
          6.99,
          25.19,
          31.99,
          6.99,
          27.99,
          20.99,
          19.99,
          289.9,
          44.99,
          18.74,
          3.59,
          17.99,
          13.49,
          5.99,
          3.59,
          3.59,
          8.99,
          8.99
         ],
         "xaxis": "x2",
         "y": [
          706335,
          117730,
          35404,
          7037,
          14937,
          10237,
          137448,
          87431,
          64469,
          1786,
          1880,
          62777,
          17357,
          617904,
          195,
          10660,
          1531,
          27725,
          8557,
          631,
          11394,
          174780,
          9677,
          23735,
          3494,
          7995,
          12960,
          17258,
          10472,
          37,
          4517,
          9624,
          6995,
          1947,
          7324,
          2380,
          3892,
          34,
          74276,
          18096,
          16525,
          1974,
          11110,
          302,
          1673,
          2413,
          2288,
          4144,
          9255,
          3644,
          27375,
          6737,
          13861,
          1898,
          1947,
          163,
          2521,
          296,
          244,
          6691,
          1884,
          2325,
          300,
          7774,
          4499,
          10589,
          4630,
          6511,
          17561,
          1238,
          19734,
          7656,
          1948,
          3012,
          455,
          6259,
          569,
          4383,
          396,
          644,
          661,
          364,
          18621,
          336,
          768,
          52,
          416,
          775,
          1640,
          368,
          392,
          112,
          2679,
          123,
          241,
          87,
          2209,
          11568,
          3012,
          193,
          325,
          9237,
          211,
          200,
          240,
          288,
          812
         ],
         "yaxis": "y2"
        },
        {
         "customdata": [
          [
           "Apex Legends™"
          ],
          [
           "The First Descendant"
          ],
          [
           "War Robots"
          ],
          [
           "Battlefield™ 2042"
          ],
          [
           "Build Master: MarsVille"
          ],
          [
           "Watch Dogs®: Legion"
          ],
          [
           "Echocalypse: The Scarlet Covenant"
          ],
          [
           "Hyper Light Breaker"
          ],
          [
           "Anno 2205™"
          ],
          [
           "Warhammer 40,000: Dawn of War III"
          ],
          [
           "ENDLESS™ Dungeon"
          ],
          [
           "Starfield"
          ],
          [
           "Warhammer 40,000: Warpforge"
          ],
          [
           "Avatar: Frontiers of Pandora™"
          ],
          [
           "Requiem: Desiderium Mortis"
          ],
          [
           "Battlefleet Gothic: Armada"
          ],
          [
           "Warhammer The Horus Heresy: Legions"
          ],
          [
           "FINAL FANTASY VII EVER CRISIS"
          ],
          [
           "Serum"
          ],
          [
           "Infinite Lagrange"
          ],
          [
           "DOOM VFR"
          ],
          [
           "Road 96: Mile 0"
          ],
          [
           "FREEDOM WARS Remastered"
          ],
          [
           "Alien: Rogue Incursion"
          ],
          [
           "Capes"
          ],
          [
           "Anno 2070™"
          ],
          [
           "Necromunda: Hired Gun"
          ],
          [
           "White Sands"
          ],
          [
           "Stargate: Timekeepers"
          ],
          [
           "Outpost: Infinity Siege"
          ],
          [
           "Left to Survive: Shooter PVP"
          ],
          [
           "Creature Lab"
          ],
          [
           "Nova: Space Armada"
          ],
          [
           "VEGA Conflict"
          ],
          [
           "SunAge: Battle for Elysium"
          ],
          [
           "Beholder 3"
          ],
          [
           "Tom Clancy’s Rainbow Six® Extraction"
          ],
          [
           "Vigor"
          ],
          [
           "EARTH DEFENSE FORCE 6"
          ],
          [
           "Star Trek: Infinite"
          ],
          [
           "StarMade"
          ],
          [
           "Three Minutes To Eight"
          ],
          [
           "Border Officer"
          ],
          [
           "Space Hulk: Tactics"
          ],
          [
           "Outmode"
          ],
          [
           "Mechstermination Force"
          ],
          [
           "Starpoint Gemini 3"
          ],
          [
           "SPACECOM"
          ],
          [
           "Space Mechanic Simulator"
          ],
          [
           "Doomsday: Last Survivors"
          ],
          [
           "Glitchpunk"
          ],
          [
           "Northern Lights"
          ],
          [
           "Killing Floor: Incursion"
          ],
          [
           "ROBOTICS;NOTES DaSH"
          ],
          [
           "Мафия Онлайн"
          ],
          [
           "The Technomancer"
          ],
          [
           "Project Entropy"
          ],
          [
           "UFO: Afterlight"
          ],
          [
           "Stay Out"
          ],
          [
           "Riders 2491"
          ],
          [
           "XERA: Survival"
          ],
          [
           "Shadowgrounds Survivor"
          ],
          [
           "Survival Classic"
          ],
          [
           "Last Hope Bunker: Zombie Survival"
          ],
          [
           "Aeon Must Die!"
          ],
          [
           "Armored Warfare"
          ]
         ],
         "hovertemplate": "Nacechowanie recenzji=Mieszane<br>Cena=%{x}<br>Liczba recenzji=%{y}<br>Tytuł=%{customdata[0]}<extra></extra>",
         "legendgroup": "Mieszane",
         "marker": {
          "color": "#ab63fa",
          "symbol": "circle"
         },
         "mode": "markers",
         "name": "Mieszane",
         "orientation": "v",
         "showlegend": true,
         "type": "scatter",
         "x": [
          0,
          0,
          0,
          269.9,
          0,
          37.48,
          0,
          114.99,
          159.9,
          35.8,
          35.6,
          299,
          0,
          289.9,
          0,
          7.49,
          0,
          0,
          64.99,
          0,
          14.75,
          13.74,
          179,
          184.99,
          84.5,
          19.97,
          29.99,
          109.95,
          118.14,
          63.24,
          0,
          29.39,
          0,
          0,
          21.59,
          20.74,
          39.97,
          0,
          249,
          69.49,
          53.99,
          13.59,
          11.49,
          7.49,
          36.99,
          43.99,
          23.99,
          5.24,
          32.39,
          0,
          6.99,
          17.77,
          10.79,
          24.99,
          0,
          5.24,
          0,
          4.99,
          0,
          10.11,
          0,
          5.39,
          10.79,
          2.69,
          10.49,
          0
         ],
         "xaxis": "x2",
         "y": [
          976248,
          97779,
          24994,
          227035,
          182,
          8947,
          240,
          2389,
          5662,
          13017,
          2648,
          106827,
          2531,
          2398,
          885,
          4875,
          2831,
          2660,
          179,
          817,
          2164,
          1340,
          942,
          550,
          342,
          11131,
          5295,
          26,
          166,
          10843,
          384,
          269,
          42,
          4847,
          154,
          1711,
          2415,
          5852,
          5325,
          2804,
          2180,
          79,
          1206,
          833,
          24,
          114,
          725,
          180,
          98,
          553,
          153,
          218,
          632,
          201,
          330,
          2116,
          66,
          341,
          24049,
          19,
          7732,
          556,
          302,
          255,
          86,
          4756
         ],
         "yaxis": "y2"
        },
        {
         "customdata": [
          [
           "Overwatch® 2"
          ],
          [
           "Homeworld 3"
          ],
          [
           "Etherium"
          ]
         ],
         "hovertemplate": "Nacechowanie recenzji=W większości negatywne<br>Cena=%{x}<br>Liczba recenzji=%{y}<br>Tytuł=%{customdata[0]}<extra></extra>",
         "legendgroup": "W większości negatywne",
         "marker": {
          "color": "#FFA15A",
          "symbol": "circle"
         },
         "mode": "markers",
         "name": "W większości negatywne",
         "orientation": "v",
         "showlegend": true,
         "type": "scatter",
         "x": [
          0,
          124.5,
          3.49
         ],
         "xaxis": "x2",
         "y": [
          325489,
          4929,
          455
         ],
         "yaxis": "y2"
        },
        {
         "customdata": [
          [
           "Airships: Lost Flotilla"
          ],
          [
           "Horizons: The End Of Words"
          ],
          [
           "Midnight Racer"
          ],
          [
           "Block Strategy"
          ],
          [
           "Midnight Thunder Drive"
          ],
          [
           "Sakura Alien 3"
          ],
          [
           "Airplanes Dogfight Racer"
          ],
          [
           "Cyber Cult City"
          ],
          [
           "PUFIWEHO"
          ]
         ],
         "hovertemplate": "Nacechowanie recenzji=Brak informacji<br>Cena=%{x}<br>Liczba recenzji=%{y}<br>Tytuł=%{customdata[0]}<extra></extra>",
         "legendgroup": "Brak informacji",
         "marker": {
          "color": "#19d3f3",
          "symbol": "circle"
         },
         "mode": "markers",
         "name": "Brak informacji",
         "orientation": "v",
         "showlegend": true,
         "type": "scatter",
         "x": [
          22,
          24.75,
          12,
          29.99,
          22.99,
          11.49,
          2.24,
          10.99,
          4.49
         ],
         "xaxis": "x2",
         "y": [
          0,
          0,
          0,
          0,
          0,
          0,
          0,
          0,
          0
         ],
         "yaxis": "y2"
        },
        {
         "customdata": [
          [
           "SACRIFICE VILLAINS"
          ],
          [
           "STAR WARS™: Episode I: Jedi Power Battles™"
          ],
          [
           "Super Roboy"
          ],
          [
           "Take Notes"
          ],
          [
           "Infest"
          ],
          [
           "Fragrance Point"
          ],
          [
           "Antecrypt"
          ],
          [
           "Gunborg: Dark Matters"
          ],
          [
           "Battle for Vera"
          ],
          [
           "Caught On Camera"
          ],
          [
           "Plasma Attack"
          ],
          [
           "Airship Killer"
          ],
          [
           "Alien Planet Explorer"
          ],
          [
           "They Can Fart"
          ],
          [
           "Zeta Leporis RTS"
          ],
          [
           "Kalzoon"
          ],
          [
           "Myasoid"
          ]
         ],
         "hovertemplate": "Nacechowanie recenzji=Pozytywne<br>Cena=%{x}<br>Liczba recenzji=%{y}<br>Tytuł=%{customdata[0]}<extra></extra>",
         "legendgroup": "Pozytywne",
         "marker": {
          "color": "#FF6692",
          "symbol": "circle"
         },
         "mode": "markers",
         "name": "Pozytywne",
         "orientation": "v",
         "showlegend": true,
         "type": "scatter",
         "x": [
          73.59,
          91.99,
          54.39,
          27.99,
          54.39,
          36.99,
          27.5,
          13.79,
          17.99,
          8.99,
          2.24,
          2.24,
          2.24,
          4.49,
          4.59,
          2.24,
          2.24
         ],
         "xaxis": "x2",
         "y": [
          17,
          33,
          16,
          17,
          13,
          37,
          19,
          34,
          13,
          44,
          12,
          11,
          10,
          11,
          13,
          19,
          21
         ],
         "yaxis": "y2"
        },
        {
         "customdata": [
          [
           "Command & Conquer™ 4 Tyberyjski zmierzch"
          ]
         ],
         "hovertemplate": "Nacechowanie recenzji=Przytłaczająco negatywne<br>Cena=%{x}<br>Liczba recenzji=%{y}<br>Tytuł=%{customdata[0]}<extra></extra>",
         "legendgroup": "Przytłaczająco negatywne",
         "marker": {
          "color": "#B6E880",
          "symbol": "circle"
         },
         "mode": "markers",
         "name": "Przytłaczająco negatywne",
         "orientation": "v",
         "showlegend": true,
         "type": "scatter",
         "x": [
          100
         ],
         "xaxis": "x2",
         "y": [
          4076
         ],
         "yaxis": "y2"
        },
        {
         "alignmentgroup": "True",
         "hovertemplate": "Nacechowanie recenzji=%{x}<br>Cena=%{y}<extra></extra>",
         "legendgroup": "",
         "marker": {
          "color": "#636efa"
         },
         "name": "",
         "notched": false,
         "offsetgroup": "",
         "orientation": "v",
         "showlegend": false,
         "type": "box",
         "x": [
          "Bardzo pozytywne",
          "Przytłaczająco pozytywne",
          "Bardzo pozytywne",
          "Bardzo pozytywne",
          "W większości pozytywne",
          "Bardzo pozytywne",
          "Bardzo pozytywne",
          "Bardzo pozytywne",
          "Przytłaczająco pozytywne",
          "Bardzo pozytywne",
          "Mieszane",
          "Przytłaczająco pozytywne",
          "Przytłaczająco pozytywne",
          "W większości pozytywne",
          "Bardzo pozytywne",
          "Przytłaczająco pozytywne",
          "Bardzo pozytywne",
          "W większości pozytywne",
          "Bardzo pozytywne",
          "Bardzo pozytywne",
          "W większości pozytywne",
          "Bardzo pozytywne",
          "Przytłaczająco pozytywne",
          "W większości pozytywne",
          "Bardzo pozytywne",
          "Bardzo pozytywne",
          "Bardzo pozytywne",
          "Bardzo pozytywne",
          "Bardzo pozytywne",
          "Bardzo pozytywne",
          "Bardzo pozytywne",
          "W większości pozytywne",
          "Bardzo pozytywne",
          "W większości pozytywne",
          "Bardzo pozytywne",
          "Bardzo pozytywne",
          "W większości pozytywne",
          "Bardzo pozytywne",
          "Przytłaczająco pozytywne",
          "Bardzo pozytywne",
          "Bardzo pozytywne",
          "Mieszane",
          "W większości pozytywne",
          "W większości negatywne",
          "Przytłaczająco pozytywne",
          "Mieszane",
          "Bardzo pozytywne",
          "W większości pozytywne",
          "Przytłaczająco pozytywne",
          "Mieszane",
          "Mieszane",
          "Bardzo pozytywne",
          "W większości pozytywne",
          "W większości pozytywne",
          "Przytłaczająco pozytywne",
          "Bardzo pozytywne",
          "Bardzo pozytywne",
          "W większości pozytywne",
          "W większości pozytywne",
          "Bardzo pozytywne",
          "Przytłaczająco pozytywne",
          "W większości pozytywne",
          "Bardzo pozytywne",
          "W większości pozytywne",
          "Bardzo pozytywne",
          "Bardzo pozytywne",
          "Przytłaczająco pozytywne",
          "Bardzo pozytywne",
          "Bardzo pozytywne",
          "Przytłaczająco pozytywne",
          "Bardzo pozytywne",
          "Przytłaczająco pozytywne",
          "Bardzo pozytywne",
          "Mieszane",
          "W większości pozytywne",
          "Bardzo pozytywne",
          "Bardzo pozytywne",
          "Bardzo pozytywne",
          "Bardzo pozytywne",
          "W większości pozytywne",
          "W większości pozytywne",
          "Bardzo pozytywne",
          "Przytłaczająco pozytywne",
          "Bardzo pozytywne",
          "W większości pozytywne",
          "Przytłaczająco pozytywne",
          "Przytłaczająco pozytywne",
          "Mieszane",
          "Bardzo pozytywne",
          "Przytłaczająco pozytywne",
          "W większości pozytywne",
          "Przytłaczająco pozytywne",
          "W większości pozytywne",
          "Przytłaczająco pozytywne",
          "Bardzo pozytywne",
          "W większości pozytywne",
          "Mieszane",
          "Bardzo pozytywne",
          "Mieszane",
          "W większości pozytywne",
          "Bardzo pozytywne",
          "Przytłaczająco pozytywne",
          "Mieszane",
          "Bardzo pozytywne",
          "Bardzo pozytywne",
          "Bardzo pozytywne",
          "Przytłaczająco pozytywne",
          "Bardzo pozytywne",
          "Bardzo pozytywne",
          "Bardzo pozytywne",
          "Przytłaczająco pozytywne",
          "Bardzo pozytywne",
          "Bardzo pozytywne",
          "W większości pozytywne",
          "Przytłaczająco pozytywne",
          "Bardzo pozytywne",
          "Przytłaczająco pozytywne",
          "W większości pozytywne",
          "Bardzo pozytywne",
          "Bardzo pozytywne",
          "Przytłaczająco pozytywne",
          "Bardzo pozytywne",
          "W większości pozytywne",
          "Bardzo pozytywne",
          "Bardzo pozytywne",
          "Bardzo pozytywne",
          "Przytłaczająco pozytywne",
          "Przytłaczająco pozytywne",
          "Bardzo pozytywne",
          "W większości pozytywne",
          "Bardzo pozytywne",
          "Bardzo pozytywne",
          "Bardzo pozytywne",
          "Bardzo pozytywne",
          "W większości pozytywne",
          "Przytłaczająco pozytywne",
          "Mieszane",
          "Mieszane",
          "Przytłaczająco pozytywne",
          "Mieszane",
          "W większości pozytywne",
          "Przytłaczająco pozytywne",
          "Bardzo pozytywne",
          "Mieszane",
          "Bardzo pozytywne",
          "Bardzo pozytywne",
          "Bardzo pozytywne",
          "W większości pozytywne",
          "Bardzo pozytywne",
          "Bardzo pozytywne",
          "Przytłaczająco pozytywne",
          "Bardzo pozytywne",
          "W większości pozytywne",
          "Bardzo pozytywne",
          "Bardzo pozytywne",
          "Bardzo pozytywne",
          "Bardzo pozytywne",
          "W większości pozytywne",
          "Przytłaczająco pozytywne",
          "Bardzo pozytywne",
          "Bardzo pozytywne",
          "W większości pozytywne",
          "Bardzo pozytywne",
          "Mieszane",
          "Mieszane",
          "Bardzo pozytywne",
          "Bardzo pozytywne",
          "Bardzo pozytywne",
          "W większości pozytywne",
          "Przytłaczająco pozytywne",
          "Bardzo pozytywne",
          "Mieszane",
          "W większości pozytywne",
          "W większości pozytywne",
          "Przytłaczająco pozytywne",
          "Bardzo pozytywne",
          "Bardzo pozytywne",
          "Przytłaczająco pozytywne",
          "Bardzo pozytywne",
          "Przytłaczająco pozytywne",
          "W większości pozytywne",
          "W większości pozytywne",
          "W większości pozytywne",
          "Bardzo pozytywne",
          "Bardzo pozytywne",
          "Bardzo pozytywne",
          "Bardzo pozytywne",
          "Bardzo pozytywne",
          "Bardzo pozytywne",
          "W większości pozytywne",
          "Przytłaczająco pozytywne",
          "Bardzo pozytywne",
          "Bardzo pozytywne",
          "Bardzo pozytywne",
          "Bardzo pozytywne",
          "Bardzo pozytywne",
          "Bardzo pozytywne",
          "Bardzo pozytywne",
          "Przytłaczająco pozytywne",
          "Bardzo pozytywne",
          "Mieszane",
          "Brak informacji",
          "Przytłaczająco pozytywne",
          "Bardzo pozytywne",
          "W większości pozytywne",
          "Bardzo pozytywne",
          "Bardzo pozytywne",
          "Bardzo pozytywne",
          "Bardzo pozytywne",
          "Przytłaczająco pozytywne",
          "Pozytywne",
          "Bardzo pozytywne",
          "W większości pozytywne",
          "Bardzo pozytywne",
          "Bardzo pozytywne",
          "Bardzo pozytywne",
          "Przytłaczająco pozytywne",
          "Bardzo pozytywne",
          "Bardzo pozytywne",
          "Bardzo pozytywne",
          "Bardzo pozytywne",
          "Bardzo pozytywne",
          "Pozytywne",
          "Bardzo pozytywne",
          "Bardzo pozytywne",
          "Bardzo pozytywne",
          "W większości pozytywne",
          "Bardzo pozytywne",
          "Bardzo pozytywne",
          "Bardzo pozytywne",
          "W większości pozytywne",
          "Bardzo pozytywne",
          "Mieszane",
          "Bardzo pozytywne",
          "Bardzo pozytywne",
          "Przytłaczająco pozytywne",
          "W większości pozytywne",
          "Bardzo pozytywne",
          "Bardzo pozytywne",
          "Mieszane",
          "W większości pozytywne",
          "Bardzo pozytywne",
          "W większości pozytywne",
          "Bardzo pozytywne",
          "Bardzo pozytywne",
          "Bardzo pozytywne",
          "Przytłaczająco pozytywne",
          "Przytłaczająco pozytywne",
          "Bardzo pozytywne",
          "Bardzo pozytywne",
          "Bardzo pozytywne",
          "Bardzo pozytywne",
          "Bardzo pozytywne",
          "Bardzo pozytywne",
          "Pozytywne",
          "Bardzo pozytywne",
          "Przytłaczająco pozytywne",
          "Bardzo pozytywne",
          "W większości pozytywne",
          "W większości pozytywne",
          "Bardzo pozytywne",
          "Mieszane",
          "Mieszane",
          "Bardzo pozytywne",
          "Przytłaczająco pozytywne",
          "W większości pozytywne",
          "Bardzo pozytywne",
          "W większości pozytywne",
          "Bardzo pozytywne",
          "W większości pozytywne",
          "Mieszane",
          "Bardzo pozytywne",
          "W większości pozytywne",
          "Bardzo pozytywne",
          "Przytłaczająco negatywne",
          "Bardzo pozytywne",
          "Mieszane",
          "W większości pozytywne",
          "Bardzo pozytywne",
          "Bardzo pozytywne",
          "Bardzo pozytywne",
          "Bardzo pozytywne",
          "Bardzo pozytywne",
          "Bardzo pozytywne",
          "Bardzo pozytywne",
          "Mieszane",
          "Bardzo pozytywne",
          "Bardzo pozytywne",
          "Mieszane",
          "Bardzo pozytywne",
          "Bardzo pozytywne",
          "W większości pozytywne",
          "Bardzo pozytywne",
          "Bardzo pozytywne",
          "Mieszane",
          "Bardzo pozytywne",
          "Bardzo pozytywne",
          "Bardzo pozytywne",
          "Bardzo pozytywne",
          "Bardzo pozytywne",
          "Bardzo pozytywne",
          "Bardzo pozytywne",
          "Bardzo pozytywne",
          "Przytłaczająco pozytywne",
          "W większości pozytywne",
          "Bardzo pozytywne",
          "Bardzo pozytywne",
          "Bardzo pozytywne",
          "Bardzo pozytywne",
          "Przytłaczająco pozytywne",
          "Bardzo pozytywne",
          "Bardzo pozytywne",
          "Bardzo pozytywne",
          "Przytłaczająco pozytywne",
          "Bardzo pozytywne",
          "Mieszane",
          "W większości pozytywne",
          "W większości pozytywne",
          "Przytłaczająco pozytywne",
          "Bardzo pozytywne",
          "W większości negatywne",
          "Bardzo pozytywne",
          "Bardzo pozytywne",
          "W większości pozytywne",
          "W większości pozytywne",
          "W większości pozytywne",
          "Mieszane",
          "W większości pozytywne",
          "Mieszane",
          "Przytłaczająco pozytywne",
          "W większości pozytywne",
          "Pozytywne",
          "Bardzo pozytywne",
          "Bardzo pozytywne",
          "Mieszane",
          "Przytłaczająco pozytywne",
          "Bardzo pozytywne",
          "Bardzo pozytywne",
          "Przytłaczająco pozytywne",
          "W większości pozytywne",
          "Mieszane",
          "Mieszane",
          "Przytłaczająco pozytywne",
          "Bardzo pozytywne",
          "Bardzo pozytywne",
          "Bardzo pozytywne",
          "Bardzo pozytywne",
          "Bardzo pozytywne",
          "W większości pozytywne",
          "Mieszane",
          "Przytłaczająco pozytywne",
          "Bardzo pozytywne",
          "Bardzo pozytywne",
          "Mieszane",
          "Brak informacji",
          "W większości pozytywne",
          "W większości pozytywne",
          "Bardzo pozytywne",
          "Bardzo pozytywne",
          "Bardzo pozytywne",
          "Bardzo pozytywne",
          "Bardzo pozytywne",
          "Bardzo pozytywne",
          "Bardzo pozytywne",
          "Bardzo pozytywne",
          "Bardzo pozytywne",
          "Bardzo pozytywne",
          "Bardzo pozytywne",
          "Mieszane",
          "W większości pozytywne",
          "Bardzo pozytywne",
          "Bardzo pozytywne",
          "Przytłaczająco pozytywne",
          "Bardzo pozytywne",
          "Bardzo pozytywne",
          "Bardzo pozytywne",
          "Bardzo pozytywne",
          "Bardzo pozytywne",
          "Bardzo pozytywne",
          "Bardzo pozytywne",
          "Przytłaczająco pozytywne",
          "W większości pozytywne",
          "Bardzo pozytywne",
          "Bardzo pozytywne",
          "Bardzo pozytywne",
          "W większości pozytywne",
          "Bardzo pozytywne",
          "W większości pozytywne",
          "W większości pozytywne",
          "W większości pozytywne",
          "Bardzo pozytywne",
          "Bardzo pozytywne",
          "Bardzo pozytywne",
          "Bardzo pozytywne",
          "Bardzo pozytywne",
          "Bardzo pozytywne",
          "W większości pozytywne",
          "Mieszane",
          "Bardzo pozytywne",
          "Bardzo pozytywne",
          "W większości pozytywne",
          "Mieszane",
          "W większości pozytywne",
          "Bardzo pozytywne",
          "Bardzo pozytywne",
          "Przytłaczająco pozytywne",
          "Mieszane",
          "Bardzo pozytywne",
          "W większości pozytywne",
          "Przytłaczająco pozytywne",
          "W większości pozytywne",
          "Bardzo pozytywne",
          "Bardzo pozytywne",
          "Mieszane",
          "Bardzo pozytywne",
          "Przytłaczająco pozytywne",
          "Bardzo pozytywne",
          "Bardzo pozytywne",
          "Bardzo pozytywne",
          "Bardzo pozytywne",
          "Bardzo pozytywne",
          "Bardzo pozytywne",
          "Bardzo pozytywne",
          "Mieszane",
          "W większości pozytywne",
          "Bardzo pozytywne",
          "Bardzo pozytywne",
          "W większości pozytywne",
          "Bardzo pozytywne",
          "Bardzo pozytywne",
          "Bardzo pozytywne",
          "Bardzo pozytywne",
          "Przytłaczająco pozytywne",
          "Bardzo pozytywne",
          "W większości pozytywne",
          "W większości pozytywne",
          "Przytłaczająco pozytywne",
          "Przytłaczająco pozytywne",
          "Bardzo pozytywne",
          "Bardzo pozytywne",
          "Bardzo pozytywne",
          "Bardzo pozytywne",
          "Bardzo pozytywne",
          "W większości pozytywne",
          "Mieszane",
          "Pozytywne",
          "Bardzo pozytywne",
          "Przytłaczająco pozytywne",
          "Bardzo pozytywne",
          "Bardzo pozytywne",
          "Bardzo pozytywne",
          "W większości pozytywne",
          "Brak informacji",
          "Przytłaczająco pozytywne",
          "W większości pozytywne",
          "Bardzo pozytywne",
          "Bardzo pozytywne",
          "Bardzo pozytywne",
          "Bardzo pozytywne",
          "Bardzo pozytywne",
          "Bardzo pozytywne",
          "Przytłaczająco pozytywne",
          "Bardzo pozytywne",
          "Mieszane",
          "Bardzo pozytywne",
          "W większości pozytywne",
          "Bardzo pozytywne",
          "Mieszane",
          "Mieszane",
          "Przytłaczająco pozytywne",
          "Bardzo pozytywne",
          "Bardzo pozytywne",
          "Mieszane",
          "Bardzo pozytywne",
          "Bardzo pozytywne",
          "Bardzo pozytywne",
          "Bardzo pozytywne",
          "Bardzo pozytywne",
          "Bardzo pozytywne",
          "Bardzo pozytywne",
          "Bardzo pozytywne",
          "Mieszane",
          "Bardzo pozytywne",
          "W większości pozytywne",
          "Bardzo pozytywne",
          "W większości pozytywne",
          "Bardzo pozytywne",
          "Bardzo pozytywne",
          "Bardzo pozytywne",
          "Bardzo pozytywne",
          "Brak informacji",
          "Bardzo pozytywne",
          "Mieszane",
          "W większości pozytywne",
          "Bardzo pozytywne",
          "Bardzo pozytywne",
          "Bardzo pozytywne",
          "Bardzo pozytywne",
          "W większości pozytywne",
          "Bardzo pozytywne",
          "Pozytywne",
          "Bardzo pozytywne",
          "Bardzo pozytywne",
          "W większości pozytywne",
          "Brak informacji",
          "W większości pozytywne",
          "Mieszane",
          "Mieszane",
          "Bardzo pozytywne",
          "Bardzo pozytywne",
          "W większości pozytywne",
          "Pozytywne",
          "Bardzo pozytywne",
          "W większości pozytywne",
          "Bardzo pozytywne",
          "Bardzo pozytywne",
          "Bardzo pozytywne",
          "Bardzo pozytywne",
          "Pozytywne",
          "W większości pozytywne",
          "Bardzo pozytywne",
          "Mieszane",
          "Bardzo pozytywne",
          "Mieszane",
          "W większości pozytywne",
          "Bardzo pozytywne",
          "Mieszane",
          "Mieszane",
          "Bardzo pozytywne",
          "Bardzo pozytywne",
          "W większości pozytywne",
          "Bardzo pozytywne",
          "Bardzo pozytywne",
          "W większości pozytywne",
          "Bardzo pozytywne",
          "Bardzo pozytywne",
          "Bardzo pozytywne",
          "Bardzo pozytywne",
          "Bardzo pozytywne",
          "Bardzo pozytywne",
          "Brak informacji",
          "W większości pozytywne",
          "W większości pozytywne",
          "Bardzo pozytywne",
          "Pozytywne",
          "Bardzo pozytywne",
          "Przytłaczająco pozytywne",
          "Bardzo pozytywne",
          "Mieszane",
          "Brak informacji",
          "Bardzo pozytywne",
          "Mieszane",
          "Przytłaczająco pozytywne",
          "Brak informacji",
          "Pozytywne",
          "Mieszane",
          "Bardzo pozytywne",
          "Przytłaczająco pozytywne",
          "Przytłaczająco pozytywne",
          "Bardzo pozytywne",
          "Mieszane",
          "Mieszane",
          "Brak informacji",
          "Mieszane",
          "Bardzo pozytywne",
          "W większości negatywne",
          "W większości pozytywne",
          "Pozytywne",
          "Pozytywne",
          "Pozytywne",
          "Mieszane",
          "Mieszane",
          "W większości pozytywne",
          "Bardzo pozytywne",
          "Mieszane",
          "Bardzo pozytywne",
          "Mieszane",
          "Bardzo pozytywne",
          "Bardzo pozytywne",
          "Bardzo pozytywne",
          "Bardzo pozytywne",
          "Pozytywne",
          "W większości pozytywne",
          "Pozytywne",
          "Pozytywne",
          "Pozytywne",
          "Przytłaczająco pozytywne",
          "Bardzo pozytywne",
          "W większości pozytywne",
          "Bardzo pozytywne",
          "W większości pozytywne",
          "Bardzo pozytywne",
          "Przytłaczająco pozytywne",
          "Mieszane",
          "Bardzo pozytywne",
          "W większości pozytywne",
          "Mieszane"
         ],
         "x0": " ",
         "xaxis": "x3",
         "y": [
          0,
          45.86,
          42.25,
          10.79,
          169,
          45.86,
          199,
          46.24,
          55.49,
          157.49,
          0,
          45.99,
          15.99,
          0,
          13.89,
          111.99,
          229.99,
          161.99,
          64.49,
          164.99,
          0,
          55.99,
          71.99,
          124.79,
          75.59,
          72.59,
          35.63,
          26.56,
          22.99,
          91.99,
          35.74,
          86.34,
          69.99,
          199.99,
          31.75,
          63.99,
          84.99,
          49.75,
          13.79,
          9.19,
          20.39,
          0,
          169.9,
          0,
          59.99,
          0,
          15.6,
          111.3,
          107.99,
          269.9,
          0,
          72.99,
          49.99,
          0,
          80.49,
          75,
          83.39,
          39.97,
          0,
          43.19,
          59.99,
          61.19,
          0,
          19.01,
          59.6,
          58.49,
          138.99,
          0,
          45.99,
          19.99,
          29.99,
          118.14,
          29.99,
          37.48,
          73.59,
          91.99,
          79,
          71.99,
          67.6,
          35.98,
          13.99,
          24.75,
          274.99,
          12.6,
          118.3,
          138.99,
          55.19,
          0,
          59.99,
          8.99,
          79.99,
          45.99,
          0,
          45.99,
          231.99,
          48.59,
          114.99,
          31.99,
          159.9,
          0,
          55.19,
          0,
          35.8,
          219,
          185.59,
          12.6,
          70.39,
          138.99,
          94.99,
          99,
          119.9,
          29.97,
          138.99,
          32.39,
          64.99,
          107.46,
          138.99,
          105.63,
          45.99,
          219,
          21.59,
          82.99,
          161.99,
          161.99,
          21.24,
          44.99,
          114.99,
          45.99,
          68.64,
          0,
          69.9,
          89.99,
          31.99,
          114.99,
          0,
          45.99,
          35.6,
          299,
          44.99,
          0,
          27.59,
          45.99,
          50,
          289.9,
          32.24,
          0,
          14.29,
          7.99,
          184.99,
          78.99,
          71.99,
          124,
          69.9,
          54.99,
          122.99,
          62.99,
          79.99,
          89.99,
          35.99,
          59,
          43.19,
          114.99,
          114.99,
          0,
          7.49,
          71.99,
          59.99,
          149.99,
          17.99,
          67.99,
          109,
          0,
          92.79,
          71.99,
          34.99,
          79.9,
          27.99,
          24.99,
          69.3,
          68.99,
          95,
          91.99,
          231.99,
          39.99,
          10.79,
          21.59,
          91.99,
          35.99,
          72.99,
          89.9,
          44.99,
          91.99,
          91.99,
          39.99,
          71.49,
          67.52,
          71.2,
          88.49,
          89.99,
          9.99,
          0,
          22,
          74.99,
          43.99,
          67.99,
          67.99,
          138.99,
          79.99,
          33.99,
          91.99,
          73.59,
          59.99,
          107.99,
          73.59,
          73.59,
          35.74,
          17.81,
          49.99,
          69.49,
          34.68,
          259,
          45.99,
          91.99,
          68.7,
          254.8,
          184.99,
          64.39,
          99,
          99,
          249,
          58.17,
          214.99,
          64.99,
          259,
          71.99,
          171.9,
          219,
          35.99,
          6.89,
          0,
          17.99,
          21.12,
          114.99,
          39.99,
          42,
          254.8,
          45.99,
          115,
          45.99,
          184.99,
          14.66,
          44.99,
          55.59,
          19.99,
          54.39,
          7.19,
          53.99,
          26.99,
          127.38,
          74.24,
          46.99,
          14.75,
          13.74,
          9.59,
          28.74,
          99.99,
          39.99,
          49.17,
          47.99,
          189.9,
          179,
          35.99,
          64.5,
          35.59,
          100,
          0,
          184.99,
          25.34,
          0,
          35.99,
          35.99,
          26.99,
          21.59,
          34.99,
          50.99,
          84.5,
          159.9,
          65.99,
          19.97,
          42.99,
          161.99,
          161.99,
          39.9,
          40.47,
          29.99,
          69.99,
          77.99,
          100,
          100,
          100,
          34.99,
          138.99,
          114.99,
          138.99,
          34.74,
          138.74,
          45.99,
          33.99,
          114.99,
          22.99,
          11.59,
          21.99,
          71.99,
          71.99,
          85.9,
          109.95,
          31.49,
          33.99,
          35.99,
          124.99,
          124.5,
          30.9,
          9.19,
          39.99,
          119,
          41.69,
          118.14,
          16.56,
          63.24,
          114.99,
          114.99,
          27.99,
          24.06,
          27.5,
          0,
          107.99,
          59.99,
          26.7,
          36.79,
          89.99,
          29.39,
          0,
          105.79,
          104.99,
          100,
          20.74,
          100,
          4.59,
          34.75,
          0,
          22.99,
          24.9,
          25.44,
          21.59,
          24.75,
          91.99,
          8.99,
          100,
          0,
          91.99,
          32.39,
          16.56,
          23.39,
          28.99,
          71.99,
          7.19,
          7.19,
          17.99,
          20.74,
          31,
          17.81,
          91.99,
          91.99,
          91.99,
          91.99,
          91.99,
          91.99,
          89.99,
          107.99,
          86.24,
          44.19,
          86.42,
          89.99,
          89.99,
          89.99,
          89.9,
          85.9,
          6.49,
          31.24,
          84.48,
          119.9,
          80,
          82.99,
          8.99,
          229,
          17.24,
          80.99,
          39.97,
          13.67,
          119,
          14.99,
          0,
          18.49,
          0,
          21.99,
          71.99,
          249,
          8.59,
          69.9,
          22.99,
          4.99,
          21.12,
          16.59,
          69.49,
          67.99,
          67.99,
          16.09,
          67.99,
          67.99,
          13.49,
          67.49,
          73.59,
          82.79,
          53.99,
          10.79,
          63.99,
          149.99,
          10.99,
          8.09,
          3.59,
          67.99,
          59.99,
          59.99,
          29.99,
          48.78,
          199.99,
          58.49,
          37.79,
          11.59,
          22.99,
          55.93,
          10.99,
          55.19,
          54.99,
          13.59,
          54.39,
          54.39,
          53.99,
          53.99,
          53.99,
          53.99,
          79.99,
          12,
          49.59,
          24.41,
          23.99,
          46.99,
          46.8,
          10.79,
          45.99,
          114.99,
          45.99,
          45.99,
          11.49,
          8.69,
          45.99,
          49.99,
          7.49,
          36.99,
          43.99,
          43.99,
          43.99,
          43.99,
          41.4,
          47.59,
          32.19,
          44.99,
          209.99,
          68.99,
          13.49,
          35.99,
          23.99,
          36.99,
          19.99,
          18.39,
          8.99,
          107.99,
          39.99,
          35.99,
          36.99,
          29.99,
          35.99,
          5.24,
          6.99,
          3.84,
          6.89,
          2.24,
          37.99,
          25.19,
          138.99,
          36.99,
          36.99,
          28.79,
          31.99,
          22.99,
          6.99,
          32.39,
          0,
          26.99,
          3.59,
          27.99,
          27.5,
          0,
          20.99,
          4.49,
          27.19,
          10.19,
          24.99,
          13.79,
          19.99,
          7.91,
          6.99,
          18.39,
          17.77,
          289.9,
          21.59,
          10.79,
          24.99,
          24.99,
          13.49,
          44.99,
          44.99,
          18.99,
          18.74,
          35.99,
          18.39,
          22.99,
          14.49,
          5.74,
          11.69,
          11.49,
          3.59,
          17.99,
          4.49,
          17.99,
          46.99,
          17.99,
          9.19,
          0,
          2.24,
          17.24,
          5.24,
          15,
          10.99,
          8.99,
          0,
          3.49,
          14.99,
          13.49,
          14.39,
          4.99,
          0,
          4.49,
          10.11,
          13.75,
          3.49,
          13.49,
          2.24,
          2.24,
          2.24,
          0,
          5.39,
          5.99,
          10.79,
          10.79,
          11.74,
          2.69,
          8.98,
          2.89,
          10.99,
          10.79,
          4.49,
          3.59,
          4.59,
          2.24,
          2.24,
          9.99,
          8.99,
          3.59,
          10.99,
          8.99,
          2.24,
          8.99,
          10.49,
          8.99,
          8.99,
          0
         ],
         "y0": " ",
         "yaxis": "y3"
        },
        {
         "customdata": [
          [
           "Marvel Rivals"
          ],
          [
           "DOOM Eternal"
          ],
          [
           "Among Us"
          ],
          [
           "Subnautica: Below Zero"
          ],
          [
           "Cyberpunk 2077"
          ],
          [
           "Stellaris"
          ],
          [
           "Warhammer 40,000: Space Marine 2"
          ],
          [
           "Frostpunk"
          ],
          [
           "S.T.A.L.K.E.R. 2: Heart of Chornobyl"
          ],
          [
           "Jurassic World Evolution 2"
          ],
          [
           "Lies of P"
          ],
          [
           "BlazBlue Entropy Effect"
          ],
          [
           "They Are Billions"
          ],
          [
           "Atomic Heart"
          ],
          [
           "Planetary Annihilation: TITANS"
          ],
          [
           "ENDLESS™ Legend"
          ],
          [
           "Chained Together"
          ],
          [
           "Project Zomboid"
          ],
          [
           "ENDLESS™ Space 2"
          ],
          [
           "Barotrauma"
          ],
          [
           "Metro Exodus"
          ],
          [
           "Void Crew"
          ],
          [
           "Halo: The Master Chief Collection"
          ],
          [
           "This War of Mine"
          ],
          [
           "Plague Inc: Evolved"
          ],
          [
           "DOOM 3"
          ],
          [
           "The Long Drive"
          ],
          [
           "The Invincible"
          ],
          [
           "Starship Troopers: Terran Command"
          ],
          [
           "MechWarrior 5: Mercenaries"
          ],
          [
           "STAR WARS™: The Old Republic™"
          ],
          [
           "Hatsune Miku: Project DIVA Mega Mix+"
          ],
          [
           "Aliens: Dark Descent"
          ],
          [
           "Unturned"
          ],
          [
           "LOCKDOWN Protocol"
          ],
          [
           "The Long Dark"
          ],
          [
           "Chernobylite Complete Edition"
          ],
          [
           "Job Simulator"
          ],
          [
           "Fallout 4"
          ],
          [
           "Space Engineers"
          ],
          [
           "System Shock"
          ],
          [
           "Halo Wars: Definitive Edition"
          ],
          [
           "Metro 2033 Redux"
          ],
          [
           "Zompiercer"
          ],
          [
           "RoboCop: Rogue City"
          ],
          [
           "Nuclear Nightmare"
          ],
          [
           "Sins of a Solar Empire®: Rebellion"
          ],
          [
           "Days Gone"
          ],
          [
           "Sins of a Solar Empire II"
          ],
          [
           "Metro: Last Light Redux"
          ],
          [
           "ASTRONEER"
          ],
          [
           "Starcom: Unknown Space"
          ],
          [
           "The Riftbreaker"
          ],
          [
           "Aliens: Fireteam Elite"
          ],
          [
           "Annihilate The Spance"
          ],
          [
           "Arizona Sunshine® 2"
          ],
          [
           "Sovereign Syndicate"
          ],
          [
           "Horizon Zero Dawn™ Complete Edition"
          ],
          [
           "Nuclear Option"
          ],
          [
           "Pathologic 2"
          ],
          [
           "Road 96 🛣️"
          ],
          [
           "Fallout: New Vegas"
          ],
          [
           "Nobody Wants to Die"
          ],
          [
           "SPORE™"
          ],
          [
           "Wolfenstein: The New Order"
          ],
          [
           "Amenti"
          ],
          [
           "Lightyear Frontier"
          ],
          [
           "Deep Rock Galactic: Survivor"
          ],
          [
           "AI: THE SOMNIUM FILES - nirvanA Initiative"
          ],
          [
           "Fallout Shelter"
          ],
          [
           "AI: The Somnium Files"
          ],
          [
           "Warhammer 40,000: Gladius - Relics of War"
          ],
          [
           "Astrometica"
          ],
          [
           "Wolfenstein II: The New Colossus"
          ],
          [
           "Endoparasitic 2"
          ],
          [
           "The Thing: Remastered"
          ],
          [
           "GNOSIA"
          ],
          [
           "Warhammer 40,000: Boltgun"
          ],
          [
           "Clone Drone in the Hyperdome"
          ],
          [
           "State of Decay 2: Juggernaut Edition"
          ],
          [
           "The Last Stand: Aftermath"
          ],
          [
           "High On Life"
          ],
          [
           "Drill Core"
          ],
          [
           "ZEPHON"
          ],
          [
           "Pacific Drive"
          ],
          [
           "Beyond: Two Souls"
          ],
          [
           "From Glory To Goo"
          ],
          [
           "Creatures of Ava"
          ],
          [
           "Jurassic World Evolution"
          ],
          [
           "Zero Escape: The Nonary Games"
          ],
          [
           "Killing Floor 2"
          ],
          [
           "Starship EVO"
          ],
          [
           "Bright Memory: Infinite"
          ],
          [
           "The Sapling"
          ],
          [
           "Cataclysm: Dark Days Ahead"
          ],
          [
           "Uncle Chop's Rocket Shop"
          ],
          [
           "60 Seconds! Reatomized"
          ],
          [
           "Wasteland 3"
          ],
          [
           "Deus Ex: Human Revolution - Director's Cut"
          ],
          [
           "Quasimorph"
          ],
          [
           "New Arc Line"
          ],
          [
           "Homeworld Remastered Collection"
          ],
          [
           "VLADiK BRUTAL"
          ],
          [
           "Mechabellum"
          ],
          [
           "Age of Wonders: Planetfall"
          ],
          [
           "SUPERHOT VR"
          ],
          [
           "Doors: Paradox"
          ],
          [
           "Mutant Year Zero: Road to Eden"
          ],
          [
           "Cepheus Protocol"
          ],
          [
           "Space Reign"
          ],
          [
           "Quantum Break"
          ],
          [
           "NEBULOUS: Fleet Command"
          ],
          [
           "Seed of the Dead: Sweet Home"
          ],
          [
           "Aliens vs. Ghosts"
          ],
          [
           "Horizon Forbidden West™ Edycja kompletna"
          ],
          [
           "Serious Sam 2"
          ],
          [
           "Shin Megami Tensei III Nocturne HD Remaster"
          ],
          [
           "Call of Duty®: Black Ops III"
          ],
          [
           "Warhammer 40,000: Battlesector"
          ],
          [
           "Crysis 2 Remastered"
          ],
          [
           "Crysis 3 Remastered"
          ],
          [
           "ARMORED CORE™ VI FIRES OF RUBICON™"
          ],
          [
           "EARTH DEFENSE FORCE 5"
          ],
          [
           "Ratchet & Clank: Rift Apart"
          ],
          [
           "S.T.A.L.K.E.R.: Shadow of Chernobyl"
          ],
          [
           "Space Haven"
          ],
          [
           "Wall World"
          ],
          [
           "Saints Row IV: Re-Elected"
          ],
          [
           "Supreme Commander"
          ],
          [
           "Space Prison"
          ],
          [
           "Call of Duty®: Black Ops II"
          ],
          [
           "Togainu no Chi ~Lost Blood~"
          ],
          [
           "BATTLETECH"
          ],
          [
           "Takara Cards"
          ],
          [
           "Fallout 2: A Post Nuclear Role Playing Game"
          ],
          [
           "Muv-Luv (マブラヴ)"
          ],
          [
           "Sunset Overdrive"
          ],
          [
           "Zero Escape: Zero Time Dilemma"
          ],
          [
           "Crying Suns"
          ],
          [
           "Tasty Planet Forever"
          ],
          [
           "Beholder"
          ],
          [
           "Caravan SandWitch"
          ],
          [
           "Gatekeeper"
          ],
          [
           "Five Nations"
          ],
          [
           "Dreamfall: The Longest Journey"
          ],
          [
           "Unnamed Space Idle"
          ],
          [
           "Revolution Idle"
          ],
          [
           "Endoparasitic"
          ],
          [
           "S.T.A.L.K.E.R.: Clear Sky"
          ],
          [
           "Into the Breach"
          ],
          [
           "FAR: Changing Tides"
          ],
          [
           "Syberia"
          ],
          [
           "The Abandoned Planet"
          ],
          [
           "Assassin's Creed® Syndicate"
          ],
          [
           "Forever Skies"
          ],
          [
           "STEINS;GATE ELITE"
          ],
          [
           "Stationeers"
          ],
          [
           "Far Cry®"
          ],
          [
           "Cyber Manhunt 2: New World - The Hacking Simulator"
          ],
          [
           "Dome Keeper"
          ],
          [
           "Stardeus"
          ],
          [
           "Command & Conquer 3: Gniew Kane'a"
          ],
          [
           "Command & Conquer™ Red Alert™ 3"
          ],
          [
           "Command & Conquer 3: Wojny o tyberium"
          ],
          [
           "60 Seconds!"
          ],
          [
           "Kristala"
          ],
          [
           "Star Trek: Resurgence"
          ],
          [
           "Terminator: Dark Fate - Defiance"
          ],
          [
           "Stellar Warfare"
          ],
          [
           "Eternal Starlight VR"
          ],
          [
           "Rain World"
          ],
          [
           "Bright Memory"
          ],
          [
           "I Have No Mouth, and I Must Scream"
          ],
          [
           "HELLDIVERS™ Dive Harder Edition"
          ],
          [
           "XCOM: Enemy Unknown"
          ],
          [
           "Destroy All Humans!"
          ],
          [
           "Thief™ Gold"
          ],
          [
           "Goodbye Deponia"
          ],
          [
           "Genome Guardian"
          ],
          [
           "Utopia Must Fall"
          ],
          [
           "Viscera Cleanup Detail"
          ],
          [
           "Vanquish"
          ],
          [
           "Still Wakes the Deep"
          ],
          [
           "Command & Conquer™ Tiberian Sun™ and Firestorm™"
          ],
          [
           "Vaporum: Lockdown"
          ],
          [
           "Command & Conquer Red Alert™ 2 and Yuri’s Revenge™"
          ],
          [
           "Bridge Constructor Portal"
          ],
          [
           "Sid Meier's Alpha Centauri™ Planetary Pack"
          ],
          [
           "Arcanum: Of Steamworks and Magick Obscura"
          ],
          [
           "Command & Conquer™ Red Alert™ 3- Powstanie"
          ],
          [
           "Poker Master"
          ],
          [
           "ENDER LILIES: Quietus of the Knights"
          ],
          [
           "Wasteland 2: Director's Cut"
          ],
          [
           "Krush Kill 'N Destroy Xtreme"
          ],
          [
           "Dead Grid"
          ],
          [
           "Tasty Planet: Back for Seconds"
          ],
          [
           "Rigid Force Alpha"
          ],
          [
           "Deponia Doomsday"
          ],
          [
           "Chaos on Deponia"
          ],
          [
           "Neon Abyss"
          ],
          [
           "Particle Fleet: Emergence"
          ],
          [
           "Citizen Sleeper"
          ],
          [
           "LEGO® Star Wars™ III - The Clone Wars™"
          ],
          [
           "DYSMANTLE"
          ],
          [
           "The Walking Dead: The Final Season"
          ],
          [
           "STAR WARS™: Bounty Hunter™"
          ],
          [
           "Distance"
          ],
          [
           "Ben 10: Power Trip"
          ],
          [
           "The Devil Within: Satgat"
          ],
          [
           "Fallout 3: Game of the Year Edition"
          ],
          [
           "Project Wingman"
          ],
          [
           "InfraSpace"
          ],
          [
           "BioShock™"
          ],
          [
           "World War Z"
          ],
          [
           "Chicken Police: Into the HIVE!"
          ],
          [
           "Oblivion Override"
          ],
          [
           "Battlezone 98 Redux"
          ],
          [
           "LEGO ® Gwiezdne Wojny™: Saga Skywalkerów"
          ],
          [
           "My Protogen Engineer ⚙️"
          ],
          [
           "Battlezone: Combat Commander"
          ],
          [
           "Arizona Sunshine® Remake"
          ],
          [
           "Cell to Singularity - Evolution Never Ends"
          ],
          [
           "Tasty Planet"
          ],
          [
           "Original War"
          ],
          [
           "Chorus"
          ],
          [
           "Beholder 2"
          ],
          [
           "Risk of Rain Returns"
          ],
          [
           "My Furry Protogen 2 🐾"
          ],
          [
           "Starbound"
          ],
          [
           "The End Is Nigh"
          ],
          [
           "Universe Horizon"
          ],
          [
           "Executive Assault 2"
          ],
          [
           "Eden Crafters"
          ],
          [
           "BLADE CHIMERA"
          ],
          [
           "Solar Ash"
          ],
          [
           "My Time at Sandrock"
          ],
          [
           "FAR: Lone Sails"
          ],
          [
           "Deponia"
          ],
          [
           "ATOM RPG: Post-apocalyptic indie game"
          ],
          [
           "Whispers of a Machine"
          ],
          [
           "Airborne Kingdom"
          ],
          [
           "Lacuna – A Sci-Fi Noir Adventure"
          ],
          [
           "Half-Life: Blue Shift"
          ],
          [
           "Beyond Good & Evil - 20th Anniversary Edition"
          ],
          [
           "Dungeon of the ENDLESS™"
          ],
          [
           "The Mobius Machine"
          ],
          [
           "Obenseuer"
          ],
          [
           "Detective Girl of the Steam City"
          ],
          [
           "Red Matter"
          ],
          [
           "Serious Sam HD: The First Encounter"
          ],
          [
           "NORCO"
          ],
          [
           "while True: learn()"
          ],
          [
           "Azure Striker GUNVOLT 3"
          ],
          [
           "Binary Domain"
          ],
          [
           "STAR WARS™ Knights of the Old Republic™ II - The Sith Lords™"
          ],
          [
           "Avorion"
          ],
          [
           "Serious Sam Classics: Revolution"
          ],
          [
           "My Furry Protogen 🐾"
          ],
          [
           "ATOM RPG Trudograd"
          ],
          [
           "FINAL FANTASY VIII"
          ],
          [
           "FINAL FANTASY VII"
          ],
          [
           "Bears In Space"
          ],
          [
           "Taimanin Yukikaze"
          ],
          [
           "Retrowave World"
          ],
          [
           "CHAOS;CHILD"
          ],
          [
           "REMNANT II®"
          ],
          [
           "SUNLESS SEA"
          ],
          [
           "Infested Planet"
          ],
          [
           "Tiny Room Stories: Town Mystery"
          ],
          [
           "Hard Truck Apocalypse / Ex Machina"
          ],
          [
           "Titan Station"
          ],
          [
           "LEGO® STAR WARS™: The Force Awakens"
          ],
          [
           "ICEY"
          ],
          [
           "System Shock 2"
          ],
          [
           "PILGRIM"
          ],
          [
           "SiN Episodes: Emergence"
          ],
          [
           "Anomaly: Warzone Earth"
          ],
          [
           "CASE: Animatronics"
          ],
          [
           "UBERMOSH"
          ],
          [
           "Greedland"
          ],
          [
           "Surviving Mars"
          ],
          [
           "Twilight Town: A Cyberpunk FPS"
          ],
          [
           "State of Decay: YOSE"
          ],
          [
           "Space Pirate Trainer"
          ],
          [
           "SIMULACRA"
          ],
          [
           "Galaxy Life"
          ],
          [
           "Deep Space Cache"
          ],
          [
           "Verne: The Shape of Fantasy"
          ],
          [
           "What Lies in the Multiverse"
          ],
          [
           "Death Roads: Tournament"
          ],
          [
           "BDSM: Big Drunk Satanic Massacre"
          ],
          [
           "Shrot"
          ],
          [
           "Azure Striker Gunvolt"
          ],
          [
           "ROBOTICS;NOTES ELITE"
          ],
          [
           "Gun Metal"
          ],
          [
           "Fallout 3"
          ],
          [
           "Samorost 2"
          ],
          [
           "Cyber Manhunt"
          ],
          [
           "Eden Survivors"
          ],
          [
           "Twilight Manor: Roguelite FPS"
          ],
          [
           "The Trench"
          ],
          [
           "Escape Machine City: Airborne"
          ],
          [
           "Mimicry"
          ],
          [
           "Symmodance"
          ],
          [
           "Supreme Commander 2"
          ],
          [
           "Vaporum"
          ],
          [
           "Retrowave 2"
          ],
          [
           "Dead Synchronicity: Tomorrow Comes Today"
          ],
          [
           "Astebreed: Definitive Edition"
          ],
          [
           "Krążowniki"
          ],
          [
           "Algo Bot"
          ],
          [
           "Executive Assault"
          ],
          [
           "Joggernauts"
          ],
          [
           "Alt-Frequencies"
          ],
          [
           "Trash Quest"
          ],
          [
           "Deep Space Battle Simulator"
          ],
          [
           "Void Scrappers"
          ],
          [
           "1bitHeart"
          ],
          [
           "Seen"
          ],
          [
           "tomorrow won't come for those without ██████"
          ]
         ],
         "hovertemplate": "Nacechowanie recenzji=Bardzo pozytywne<br>Rok wydania=%{x}<br>Cena=%{y}<br>Tytuł=%{customdata[0]}<extra></extra>",
         "legendgroup": "Bardzo pozytywne",
         "marker": {
          "color": "#636efa",
          "symbol": "circle"
         },
         "mode": "markers",
         "name": "Bardzo pozytywne",
         "orientation": "v",
         "showlegend": true,
         "type": "scatter",
         "x": [
          2024,
          2020,
          2018,
          2021,
          2020,
          2016,
          2024,
          2018,
          2024,
          2021,
          2023,
          2024,
          2019,
          2023,
          2015,
          2014,
          2024,
          2013,
          2017,
          2023,
          2020,
          2024,
          2019,
          2014,
          2016,
          2012,
          2019,
          2023,
          2022,
          2021,
          2020,
          2022,
          2023,
          2017,
          2024,
          2017,
          2021,
          2016,
          2015,
          2019,
          2023,
          2017,
          2014,
          2020,
          2023,
          2024,
          2012,
          2021,
          2024,
          2014,
          2019,
          2024,
          2021,
          2021,
          2025,
          2023,
          2024,
          2020,
          2023,
          2019,
          2021,
          2010,
          2024,
          2008,
          2014,
          2025,
          2024,
          2024,
          2022,
          2017,
          2019,
          2018,
          2024,
          2017,
          2024,
          2024,
          2022,
          2023,
          2024,
          2020,
          2021,
          2022,
          2024,
          2024,
          2024,
          2020,
          2024,
          2024,
          2018,
          2017,
          2016,
          2020,
          2021,
          2019,
          2023,
          2024,
          2019,
          2020,
          2013,
          2023,
          2024,
          2015,
          2024,
          2024,
          2019,
          2017,
          2022,
          2018,
          2020,
          2023,
          2016,
          2022,
          2021,
          2022,
          2024,
          2012,
          2021,
          2015,
          2021,
          2022,
          2022,
          2023,
          2019,
          2023,
          2007,
          2020,
          2023,
          2013,
          2011,
          2024,
          2012,
          2020,
          2018,
          2025,
          2009,
          2018,
          2018,
          2016,
          2019,
          2018,
          2016,
          2024,
          2024,
          2021,
          2007,
          2023,
          2024,
          2022,
          2008,
          2018,
          2022,
          2011,
          2024,
          2015,
          2023,
          2019,
          2017,
          2008,
          2025,
          2022,
          2022,
          2009,
          2009,
          2009,
          2015,
          2024,
          2024,
          2024,
          2021,
          2021,
          2017,
          2020,
          2013,
          2015,
          2012,
          2020,
          2012,
          2013,
          2024,
          2024,
          2015,
          2017,
          2024,
          2024,
          2020,
          2024,
          2017,
          2024,
          2016,
          2009,
          2020,
          2021,
          2014,
          2020,
          2022,
          2016,
          2018,
          2016,
          2012,
          2020,
          2016,
          2022,
          2011,
          2021,
          2018,
          2024,
          2018,
          2020,
          2024,
          2009,
          2020,
          2023,
          2007,
          2021,
          2024,
          2024,
          2016,
          2022,
          2024,
          2018,
          2024,
          2021,
          2017,
          2014,
          2021,
          2018,
          2023,
          2024,
          2016,
          2017,
          2025,
          2023,
          2024,
          2025,
          2022,
          2023,
          2018,
          2012,
          2018,
          2019,
          2022,
          2021,
          2001,
          2024,
          2014,
          2024,
          2018,
          2019,
          2018,
          2009,
          2022,
          2019,
          2022,
          2012,
          2012,
          2020,
          2019,
          2023,
          2021,
          2013,
          2013,
          2024,
          2024,
          2024,
          2019,
          2023,
          2015,
          2014,
          2021,
          2014,
          2022,
          2016,
          2016,
          2013,
          2024,
          2006,
          2011,
          2016,
          2015,
          2023,
          2018,
          2023,
          2015,
          2017,
          2017,
          2022,
          2024,
          2023,
          2022,
          2023,
          2019,
          2024,
          2015,
          2020,
          2014,
          2008,
          2009,
          2021,
          2024,
          2024,
          2022,
          2021,
          2022,
          2023,
          2010,
          2017,
          2024,
          2015,
          2014,
          2021,
          2018,
          2015,
          2018,
          2019,
          2021,
          2021,
          2022,
          2017,
          2019,
          2020
         ],
         "xaxis": "x4",
         "y": [
          0,
          42.25,
          10.79,
          45.86,
          199,
          46.24,
          157.49,
          13.89,
          229.99,
          64.49,
          164.99,
          55.99,
          75.59,
          72.59,
          35.63,
          26.56,
          22.99,
          91.99,
          35.74,
          69.99,
          31.75,
          63.99,
          49.75,
          9.19,
          20.39,
          15.6,
          72.99,
          75,
          83.39,
          43.19,
          0,
          59.6,
          58.49,
          0,
          45.99,
          29.99,
          29.99,
          91.99,
          79,
          71.99,
          67.6,
          24.75,
          12.6,
          59.99,
          231.99,
          31.99,
          55.19,
          219,
          185.59,
          12.6,
          138.99,
          94.99,
          99,
          29.97,
          138.99,
          107.46,
          45.99,
          219,
          82.99,
          161.99,
          21.24,
          44.99,
          68.64,
          69.9,
          89.99,
          31.99,
          114.99,
          50,
          32.24,
          0,
          14.29,
          184.99,
          78.99,
          124,
          54.99,
          122.99,
          62.99,
          79.99,
          59,
          43.19,
          114.99,
          71.99,
          59.99,
          149.99,
          109,
          79.9,
          27.99,
          69.3,
          39.99,
          10.79,
          21.59,
          91.99,
          35.99,
          72.99,
          91.99,
          91.99,
          39.99,
          71.49,
          67.52,
          71.2,
          88.49,
          9.99,
          43.99,
          67.99,
          138.99,
          79.99,
          33.99,
          59.99,
          73.59,
          73.59,
          35.74,
          49.99,
          69.49,
          34.68,
          259,
          45.99,
          68.7,
          254.8,
          184.99,
          99,
          99,
          249,
          214.99,
          259,
          71.99,
          35.99,
          6.89,
          21.12,
          39.99,
          42,
          254.8,
          45.99,
          184.99,
          14.66,
          44.99,
          55.59,
          19.99,
          7.19,
          26.99,
          46.99,
          9.59,
          39.99,
          47.99,
          35.99,
          35.59,
          0,
          0,
          35.99,
          35.99,
          26.99,
          21.59,
          34.99,
          50.99,
          159.9,
          65.99,
          42.99,
          161.99,
          39.9,
          40.47,
          69.99,
          77.99,
          100,
          100,
          100,
          34.99,
          138.99,
          114.99,
          138.74,
          45.99,
          33.99,
          114.99,
          11.59,
          21.99,
          71.99,
          85.9,
          124.99,
          30.9,
          9.19,
          24.06,
          27.5,
          59.99,
          26.7,
          104.99,
          100,
          20.74,
          100,
          4.59,
          24.9,
          25.44,
          100,
          0,
          91.99,
          32.39,
          16.56,
          23.39,
          28.99,
          71.99,
          7.19,
          7.19,
          17.99,
          17.81,
          91.99,
          91.99,
          91.99,
          91.99,
          91.99,
          89.99,
          107.99,
          86.24,
          89.99,
          89.99,
          89.99,
          85.9,
          119.9,
          80,
          82.99,
          8.99,
          229,
          17.24,
          13.67,
          119,
          0,
          21.99,
          8.59,
          21.12,
          16.59,
          67.99,
          16.09,
          67.99,
          67.99,
          13.49,
          67.49,
          73.59,
          82.79,
          63.99,
          149.99,
          8.09,
          3.59,
          67.99,
          59.99,
          29.99,
          11.59,
          22.99,
          55.93,
          10.99,
          55.19,
          54.39,
          53.99,
          53.99,
          53.99,
          23.99,
          46.99,
          46.8,
          10.79,
          45.99,
          114.99,
          45.99,
          8.69,
          49.99,
          43.99,
          43.99,
          41.4,
          47.59,
          32.19,
          44.99,
          209.99,
          68.99,
          13.49,
          35.99,
          36.99,
          18.39,
          107.99,
          39.99,
          35.99,
          36.99,
          35.99,
          3.84,
          6.89,
          2.24,
          37.99,
          138.99,
          36.99,
          28.79,
          26.99,
          3.59,
          0,
          4.49,
          27.19,
          10.19,
          24.99,
          7.91,
          18.39,
          21.59,
          24.99,
          13.49,
          44.99,
          18.99,
          35.99,
          18.39,
          22.99,
          14.49,
          5.74,
          11.69,
          4.49,
          46.99,
          9.19,
          17.24,
          3.49,
          14.39,
          13.75,
          10.79,
          11.74,
          8.98,
          2.89,
          10.99,
          10.79,
          8.99,
          10.99,
          2.24,
          8.99
         ],
         "yaxis": "y4"
        },
        {
         "customdata": [
          [
           "Subnautica"
          ],
          [
           "Detroit: Become Human"
          ],
          [
           "Lethal Company"
          ],
          [
           "DOOM"
          ],
          [
           "RimWorld"
          ],
          [
           "Stray"
          ],
          [
           "Brotato"
          ],
          [
           "Outer Wilds"
          ],
          [
           "Deep Rock Galactic"
          ],
          [
           "The Planet Crafter"
          ],
          [
           "Mouthwashing"
          ],
          [
           "Beat Saber"
          ],
          [
           "Warhammer 40,000: Dawn of War - Anniversary Edition"
          ],
          [
           "Caves of Qud"
          ],
          [
           "Half-Life: Alyx"
          ],
          [
           "Nine Sols"
          ],
          [
           "DRAMAtical Murder"
          ],
          [
           "Severed Steel"
          ],
          [
           "Portal 2"
          ],
          [
           "Left 4 Dead 2"
          ],
          [
           "Life is Strange - Episode 1"
          ],
          [
           "Roboquest"
          ],
          [
           "Titanfall® 2"
          ],
          [
           "shapez 2"
          ],
          [
           "Universe Sandbox"
          ],
          [
           "STEINS;GATE"
          ],
          [
           "Abiotic Factor"
          ],
          [
           "Papers, Please"
          ],
          [
           "Half-Life 2"
          ],
          [
           "Cosmoteer: Starship Architect & Commander"
          ],
          [
           "Portal"
          ],
          [
           "Turing Complete"
          ],
          [
           "Creeper World 4"
          ],
          [
           "The Walking Dead"
          ],
          [
           "CRUEL"
          ],
          [
           "STEINS;GATE 0"
          ],
          [
           "Mars First Logistics"
          ],
          [
           "Dishonored"
          ],
          [
           "Oxygen Not Included"
          ],
          [
           "Machinarium"
          ],
          [
           "Minds Beneath Us"
          ],
          [
           "Creeper World 3: Arc Eternal"
          ],
          [
           "Kerbal Space Program"
          ],
          [
           "Left 4 Dead"
          ],
          [
           "SpaceEngine"
          ],
          [
           "Worldless"
          ],
          [
           "The Forgotten City"
          ],
          [
           "The Talos Principle 2"
          ],
          [
           "The Room Two"
          ],
          [
           "Dyson Sphere Program"
          ],
          [
           "Half-Life"
          ],
          [
           "I Was a Teenage Exocolonist"
          ],
          [
           "Kenshi"
          ],
          [
           "Misao - 2024 HD Remaster"
          ],
          [
           "Dune: Imperium"
          ],
          [
           "Half-Life: Opposing Force"
          ],
          [
           "Black Mesa"
          ],
          [
           "SANABI"
          ],
          [
           "Cruelty Squad"
          ],
          [
           "Alien Shooter"
          ],
          [
           "Beyond Citadel"
          ],
          [
           "Spaceflight Simulator"
          ],
          [
           "MULLET MADJACK"
          ],
          [
           "DRAINUS"
          ],
          [
           "VA-11 Hall-A: Cyberpunk Bartender Action"
          ],
          [
           "Nova Drift"
          ],
          [
           "STAR WARS™ Battlefront (Classic, 2004)"
          ],
          [
           "Nuclear Throne"
          ],
          [
           "Total Annihilation"
          ],
          [
           "Picayune Dreams"
          ],
          [
           "SharpShooter3D"
          ],
          [
           "Linelith"
          ],
          [
           "Impossible Creatures Steam Edition"
          ],
          [
           "Chair F*cking Simulator"
          ]
         ],
         "hovertemplate": "Nacechowanie recenzji=Przytłaczająco pozytywne<br>Rok wydania=%{x}<br>Cena=%{y}<br>Tytuł=%{customdata[0]}<extra></extra>",
         "legendgroup": "Przytłaczająco pozytywne",
         "marker": {
          "color": "#EF553B",
          "symbol": "circle"
         },
         "mode": "markers",
         "name": "Przytłaczająco pozytywne",
         "orientation": "v",
         "showlegend": true,
         "type": "scatter",
         "x": [
          2018,
          2020,
          2023,
          2016,
          2018,
          2022,
          2023,
          2020,
          2020,
          2024,
          2024,
          2019,
          2007,
          2024,
          2020,
          2024,
          2021,
          2021,
          2011,
          2009,
          2015,
          2023,
          2020,
          2024,
          2015,
          2016,
          2024,
          2013,
          2004,
          2022,
          2007,
          2021,
          2020,
          2012,
          2025,
          2018,
          2023,
          2012,
          2019,
          2009,
          2024,
          2014,
          2015,
          2008,
          2019,
          2023,
          2021,
          2023,
          2016,
          2021,
          1998,
          2022,
          2018,
          2017,
          2024,
          1999,
          2020,
          2023,
          2021,
          2009,
          2025,
          2022,
          2024,
          2022,
          2016,
          2024,
          2019,
          2015,
          2015,
          2023,
          2023,
          2022,
          2015,
          2020
         ],
         "xaxis": "x4",
         "y": [
          45.86,
          55.49,
          45.99,
          15.99,
          111.99,
          71.99,
          13.79,
          59.99,
          107.99,
          80.49,
          59.99,
          138.99,
          19.99,
          118.14,
          274.99,
          138.99,
          55.19,
          8.99,
          45.99,
          45.99,
          0,
          70.39,
          119.9,
          64.99,
          138.99,
          21.59,
          114.99,
          45.99,
          45.99,
          44.99,
          45.99,
          71.99,
          35.99,
          67.99,
          34.99,
          24.99,
          68.99,
          44.99,
          89.99,
          74.99,
          91.99,
          17.81,
          171.9,
          45.99,
          115,
          53.99,
          28.74,
          138.99,
          22.99,
          71.99,
          35.99,
          114.99,
          107.99,
          36.79,
          105.79,
          22.99,
          91.99,
          44.19,
          71.99,
          22.99,
          67.99,
          59.99,
          58.49,
          37.79,
          53.99,
          49.59,
          45.99,
          43.99,
          17.99,
          15,
          14.99,
          13.49,
          9.99,
          8.99
         ],
         "yaxis": "y4"
        },
        {
         "customdata": [
          [
           "HELLDIVERS™ 2"
          ],
          [
           "Once Human"
          ],
          [
           "ICARUS"
          ],
          [
           "Snowbreak: Containment Zone"
          ],
          [
           "Frostpunk 2"
          ],
          [
           "Dune: Spice Wars"
          ],
          [
           "Dying Light 2 Stay Human: Reloaded Edition"
          ],
          [
           "Warhammer 40,000: Darktide"
          ],
          [
           "Fallout 76"
          ],
          [
           "Metro Awakening"
          ],
          [
           "New Cycle"
          ],
          [
           "Crossout"
          ],
          [
           "Tom Clancy’s The Division® 2"
          ],
          [
           "Destiny 2"
          ],
          [
           "IDUN"
          ],
          [
           "Iron Harvest"
          ],
          [
           "Ostranauts"
          ],
          [
           "Far Cry® New Dawn"
          ],
          [
           "Battlefleet Gothic: Armada 2"
          ],
          [
           "Empire of the Ants"
          ],
          [
           "Infection Free Zone"
          ],
          [
           "Halo Infinite"
          ],
          [
           "Warhammer 40,000: Chaos Gate - Daemonhunters"
          ],
          [
           "Phantasy Star Online 2 New Genesis"
          ],
          [
           "Hidden Deep"
          ],
          [
           "Dead Island 2"
          ],
          [
           "IXION"
          ],
          [
           "Will To Live Online"
          ],
          [
           "Tower of Fantasy"
          ],
          [
           "Dark Sky"
          ],
          [
           "CryoFall"
          ],
          [
           "Dead Space™ 3"
          ],
          [
           "Master of Orion"
          ],
          [
           "Occupy Mars: The Game"
          ],
          [
           "Homeworld: Deserts of Kharak"
          ],
          [
           "Distant Worlds 2"
          ],
          [
           "Silica"
          ],
          [
           "OVRLRD"
          ],
          [
           "Elite Dangerous"
          ],
          [
           "Warhammer 40,000: Inquisitor - Martyr"
          ],
          [
           "Thief"
          ],
          [
           "DUCKSIDE"
          ],
          [
           "Crysis Remastered"
          ],
          [
           "Space Simulation Toolkit"
          ],
          [
           "Fort Solis"
          ],
          [
           "Horizon Zero Dawn™ Remastered"
          ],
          [
           "Among Us VR"
          ],
          [
           "Reverse Collapse: Code Name Bakery"
          ],
          [
           "Prototype 2"
          ],
          [
           "Star Trucker"
          ],
          [
           "Generation Zero®"
          ],
          [
           "Gears Tactics"
          ],
          [
           "Mass Effect: Andromeda - ulepszenie Deluxe"
          ],
          [
           "Age of Water"
          ],
          [
           "Scars Above"
          ],
          [
           "Urban Strife"
          ],
          [
           "Ashes of the Singularity: Escalation"
          ],
          [
           "Dustwind"
          ],
          [
           "Iron Marines Invasion"
          ],
          [
           "Twelve Minutes"
          ],
          [
           "The Crust"
          ],
          [
           "After the Fall®"
          ],
          [
           "Krush Kill ‘N Destroy 2: Krossfire"
          ],
          [
           "Ghosts of Tabor"
          ],
          [
           "Phoenix Point"
          ],
          [
           "Scorn"
          ],
          [
           "Terraforming Mars"
          ],
          [
           "ENDLESS™ Space - Definitive Edition"
          ],
          [
           "The Ascent"
          ],
          [
           "Somerville"
          ],
          [
           "XCOM®: Chimera Squad"
          ],
          [
           "The Surge"
          ],
          [
           "Torment: Tides of Numenera"
          ],
          [
           "Red Faction Guerrilla Re-Mars-tered"
          ],
          [
           "FRONT MISSION 1st: Remake"
          ],
          [
           "The Surge 2"
          ],
          [
           "Survivors of the Dawn"
          ],
          [
           "STAR WARS™ Battlefront"
          ],
          [
           "Anomaly 2"
          ],
          [
           "Godlike Burger"
          ],
          [
           "Oxygen"
          ],
          [
           "Star Dynasties"
          ],
          [
           "X4: Foundations"
          ],
          [
           "Heat Death: Survival Train"
          ],
          [
           "Breachway"
          ],
          [
           "The Leviathan's fantasy"
          ],
          [
           "Earth 2150 Trilogy"
          ],
          [
           "MarZ: Tactical Base Defense"
          ],
          [
           "Distrust: Polar Survival"
          ],
          [
           "Anomaly Defenders"
          ],
          [
           "Final Upgrade"
          ],
          [
           "Space Architect"
          ],
          [
           "Half Dead"
          ],
          [
           "W.A.N.D. Project"
          ],
          [
           "Noch"
          ],
          [
           "Life of Delta"
          ],
          [
           "Star Wars Outlaws"
          ],
          [
           "RAGE"
          ],
          [
           "Starpoint Gemini Warlords"
          ],
          [
           "UFO: Aftershock"
          ],
          [
           "Machinika: Atlas"
          ],
          [
           "Deadlight"
          ],
          [
           "Anomaly Korea"
          ],
          [
           "Swarm the City: Zombie Evolved"
          ],
          [
           "UFO: Aftermath"
          ],
          [
           "ENCODYA"
          ],
          [
           "Morbid: The Seven Acolytes"
          ]
         ],
         "hovertemplate": "Nacechowanie recenzji=W większości pozytywne<br>Rok wydania=%{x}<br>Cena=%{y}<br>Tytuł=%{customdata[0]}<extra></extra>",
         "legendgroup": "W większości pozytywne",
         "marker": {
          "color": "#00cc96",
          "symbol": "circle"
         },
         "mode": "markers",
         "name": "W większości pozytywne",
         "orientation": "v",
         "showlegend": true,
         "type": "scatter",
         "x": [
          2024,
          2024,
          2021,
          2023,
          2024,
          2023,
          2022,
          2022,
          2020,
          2024,
          2024,
          2017,
          2023,
          2019,
          2025,
          2020,
          2020,
          2019,
          2019,
          2024,
          2024,
          2021,
          2022,
          2020,
          2022,
          2024,
          2022,
          2018,
          2022,
          2024,
          2021,
          2020,
          2016,
          2023,
          2016,
          2022,
          2023,
          2024,
          2015,
          2018,
          2014,
          2024,
          2021,
          2020,
          2023,
          2024,
          2022,
          2024,
          2012,
          2024,
          2019,
          2020,
          2020,
          2025,
          2023,
          2024,
          2016,
          2018,
          2023,
          2021,
          2024,
          2021,
          2020,
          2023,
          2020,
          2022,
          2018,
          2012,
          2021,
          2022,
          2020,
          2017,
          2017,
          2018,
          2023,
          2019,
          2023,
          2020,
          2013,
          2022,
          2023,
          2021,
          2018,
          2024,
          2024,
          2025,
          2013,
          2019,
          2017,
          2014,
          2022,
          2024,
          2016,
          2024,
          2023,
          2023,
          2024,
          2011,
          2017,
          2014,
          2024,
          2012,
          2013,
          2022,
          2014,
          2021,
          2020
         ],
         "xaxis": "x4",
         "y": [
          169,
          0,
          161.99,
          0,
          124.79,
          86.34,
          199.99,
          84.99,
          169.9,
          111.3,
          49.99,
          0,
          39.97,
          0,
          61.19,
          19.01,
          73.59,
          35.98,
          13.99,
          118.3,
          79.99,
          0,
          48.59,
          0,
          32.39,
          105.63,
          161.99,
          0,
          0,
          27.59,
          7.99,
          69.9,
          89.99,
          114.99,
          17.99,
          92.79,
          71.99,
          95,
          91.99,
          231.99,
          89.9,
          67.99,
          107.99,
          64.39,
          58.17,
          219,
          17.99,
          114.99,
          127.38,
          74.24,
          99.99,
          49.17,
          189.9,
          64.5,
          25.34,
          161.99,
          34.74,
          31.49,
          33.99,
          39.99,
          119,
          41.69,
          16.56,
          114.99,
          89.99,
          34.75,
          91.99,
          8.99,
          31,
          86.42,
          89.9,
          6.49,
          31.24,
          84.48,
          80.99,
          14.99,
          18.49,
          69.9,
          4.99,
          10.79,
          10.99,
          48.78,
          199.99,
          54.99,
          79.99,
          24.41,
          45.99,
          19.99,
          8.99,
          6.99,
          25.19,
          31.99,
          6.99,
          27.99,
          20.99,
          19.99,
          289.9,
          44.99,
          18.74,
          3.59,
          17.99,
          13.49,
          5.99,
          3.59,
          3.59,
          8.99,
          8.99
         ],
         "yaxis": "y4"
        },
        {
         "customdata": [
          [
           "Apex Legends™"
          ],
          [
           "The First Descendant"
          ],
          [
           "War Robots"
          ],
          [
           "Battlefield™ 2042"
          ],
          [
           "Build Master: MarsVille"
          ],
          [
           "Watch Dogs®: Legion"
          ],
          [
           "Echocalypse: The Scarlet Covenant"
          ],
          [
           "Hyper Light Breaker"
          ],
          [
           "Anno 2205™"
          ],
          [
           "Warhammer 40,000: Dawn of War III"
          ],
          [
           "ENDLESS™ Dungeon"
          ],
          [
           "Starfield"
          ],
          [
           "Warhammer 40,000: Warpforge"
          ],
          [
           "Avatar: Frontiers of Pandora™"
          ],
          [
           "Requiem: Desiderium Mortis"
          ],
          [
           "Battlefleet Gothic: Armada"
          ],
          [
           "Warhammer The Horus Heresy: Legions"
          ],
          [
           "FINAL FANTASY VII EVER CRISIS"
          ],
          [
           "Serum"
          ],
          [
           "Infinite Lagrange"
          ],
          [
           "DOOM VFR"
          ],
          [
           "Road 96: Mile 0"
          ],
          [
           "FREEDOM WARS Remastered"
          ],
          [
           "Alien: Rogue Incursion"
          ],
          [
           "Capes"
          ],
          [
           "Anno 2070™"
          ],
          [
           "Necromunda: Hired Gun"
          ],
          [
           "White Sands"
          ],
          [
           "Stargate: Timekeepers"
          ],
          [
           "Outpost: Infinity Siege"
          ],
          [
           "Left to Survive: Shooter PVP"
          ],
          [
           "Creature Lab"
          ],
          [
           "Nova: Space Armada"
          ],
          [
           "VEGA Conflict"
          ],
          [
           "SunAge: Battle for Elysium"
          ],
          [
           "Beholder 3"
          ],
          [
           "Tom Clancy’s Rainbow Six® Extraction"
          ],
          [
           "Vigor"
          ],
          [
           "EARTH DEFENSE FORCE 6"
          ],
          [
           "Star Trek: Infinite"
          ],
          [
           "StarMade"
          ],
          [
           "Three Minutes To Eight"
          ],
          [
           "Border Officer"
          ],
          [
           "Space Hulk: Tactics"
          ],
          [
           "Outmode"
          ],
          [
           "Mechstermination Force"
          ],
          [
           "Starpoint Gemini 3"
          ],
          [
           "SPACECOM"
          ],
          [
           "Space Mechanic Simulator"
          ],
          [
           "Doomsday: Last Survivors"
          ],
          [
           "Glitchpunk"
          ],
          [
           "Northern Lights"
          ],
          [
           "Killing Floor: Incursion"
          ],
          [
           "ROBOTICS;NOTES DaSH"
          ],
          [
           "Мафия Онлайн"
          ],
          [
           "The Technomancer"
          ],
          [
           "Project Entropy"
          ],
          [
           "UFO: Afterlight"
          ],
          [
           "Stay Out"
          ],
          [
           "Riders 2491"
          ],
          [
           "XERA: Survival"
          ],
          [
           "Shadowgrounds Survivor"
          ],
          [
           "Survival Classic"
          ],
          [
           "Last Hope Bunker: Zombie Survival"
          ],
          [
           "Aeon Must Die!"
          ],
          [
           "Armored Warfare"
          ]
         ],
         "hovertemplate": "Nacechowanie recenzji=Mieszane<br>Rok wydania=%{x}<br>Cena=%{y}<br>Tytuł=%{customdata[0]}<extra></extra>",
         "legendgroup": "Mieszane",
         "marker": {
          "color": "#ab63fa",
          "symbol": "circle"
         },
         "mode": "markers",
         "name": "Mieszane",
         "orientation": "v",
         "showlegend": true,
         "type": "scatter",
         "x": [
          2020,
          2024,
          2018,
          2021,
          2023,
          2023,
          2024,
          2025,
          2015,
          2017,
          2023,
          2023,
          2024,
          2024,
          2015,
          2016,
          2019,
          2023,
          2024,
          2021,
          2017,
          2023,
          2025,
          2024,
          2024,
          2011,
          2021,
          2024,
          2024,
          2024,
          2021,
          2023,
          2024,
          2015,
          2014,
          2022,
          2023,
          2024,
          2024,
          2023,
          2014,
          2023,
          2019,
          2018,
          2022,
          2020,
          2020,
          2014,
          2023,
          2023,
          2024,
          2020,
          2017,
          2020,
          2022,
          2016,
          2024,
          2014,
          2019,
          2020,
          2021,
          2007,
          2021,
          2024,
          2021,
          2017
         ],
         "xaxis": "x4",
         "y": [
          0,
          0,
          0,
          269.9,
          0,
          37.48,
          0,
          114.99,
          159.9,
          35.8,
          35.6,
          299,
          0,
          289.9,
          0,
          7.49,
          0,
          0,
          64.99,
          0,
          14.75,
          13.74,
          179,
          184.99,
          84.5,
          19.97,
          29.99,
          109.95,
          118.14,
          63.24,
          0,
          29.39,
          0,
          0,
          21.59,
          20.74,
          39.97,
          0,
          249,
          69.49,
          53.99,
          13.59,
          11.49,
          7.49,
          36.99,
          43.99,
          23.99,
          5.24,
          32.39,
          0,
          6.99,
          17.77,
          10.79,
          24.99,
          0,
          5.24,
          0,
          4.99,
          0,
          10.11,
          0,
          5.39,
          10.79,
          2.69,
          10.49,
          0
         ],
         "yaxis": "y4"
        },
        {
         "customdata": [
          [
           "Overwatch® 2"
          ],
          [
           "Homeworld 3"
          ],
          [
           "Etherium"
          ]
         ],
         "hovertemplate": "Nacechowanie recenzji=W większości negatywne<br>Rok wydania=%{x}<br>Cena=%{y}<br>Tytuł=%{customdata[0]}<extra></extra>",
         "legendgroup": "W większości negatywne",
         "marker": {
          "color": "#FFA15A",
          "symbol": "circle"
         },
         "mode": "markers",
         "name": "W większości negatywne",
         "orientation": "v",
         "showlegend": true,
         "type": "scatter",
         "x": [
          2023,
          2024,
          2015
         ],
         "xaxis": "x4",
         "y": [
          0,
          124.5,
          3.49
         ],
         "yaxis": "y4"
        },
        {
         "customdata": [
          [
           "Airships: Lost Flotilla"
          ],
          [
           "Horizons: The End Of Words"
          ],
          [
           "Midnight Racer"
          ],
          [
           "Block Strategy"
          ],
          [
           "Midnight Thunder Drive"
          ],
          [
           "Sakura Alien 3"
          ],
          [
           "Airplanes Dogfight Racer"
          ],
          [
           "Cyber Cult City"
          ],
          [
           "PUFIWEHO"
          ]
         ],
         "hovertemplate": "Nacechowanie recenzji=Brak informacji<br>Rok wydania=%{x}<br>Cena=%{y}<br>Tytuł=%{customdata[0]}<extra></extra>",
         "legendgroup": "Brak informacji",
         "marker": {
          "color": "#19d3f3",
          "symbol": "circle"
         },
         "mode": "markers",
         "name": "Brak informacji",
         "orientation": "v",
         "showlegend": true,
         "type": "scatter",
         "x": [
          2025,
          2025,
          2025,
          2024,
          2023,
          2024,
          2021,
          2023,
          2020
         ],
         "xaxis": "x4",
         "y": [
          22,
          24.75,
          12,
          29.99,
          22.99,
          11.49,
          2.24,
          10.99,
          4.49
         ],
         "yaxis": "y4"
        },
        {
         "customdata": [
          [
           "SACRIFICE VILLAINS"
          ],
          [
           "STAR WARS™: Episode I: Jedi Power Battles™"
          ],
          [
           "Super Roboy"
          ],
          [
           "Take Notes"
          ],
          [
           "Infest"
          ],
          [
           "Fragrance Point"
          ],
          [
           "Antecrypt"
          ],
          [
           "Gunborg: Dark Matters"
          ],
          [
           "Battle for Vera"
          ],
          [
           "Caught On Camera"
          ],
          [
           "Plasma Attack"
          ],
          [
           "Airship Killer"
          ],
          [
           "Alien Planet Explorer"
          ],
          [
           "They Can Fart"
          ],
          [
           "Zeta Leporis RTS"
          ],
          [
           "Kalzoon"
          ],
          [
           "Myasoid"
          ]
         ],
         "hovertemplate": "Nacechowanie recenzji=Pozytywne<br>Rok wydania=%{x}<br>Cena=%{y}<br>Tytuł=%{customdata[0]}<extra></extra>",
         "legendgroup": "Pozytywne",
         "marker": {
          "color": "#FF6692",
          "symbol": "circle"
         },
         "mode": "markers",
         "name": "Pozytywne",
         "orientation": "v",
         "showlegend": true,
         "type": "scatter",
         "x": [
          2025,
          2025,
          2025,
          2025,
          2025,
          2025,
          2023,
          2022,
          2024,
          2024,
          2021,
          2021,
          2021,
          2024,
          2024,
          2022,
          2022
         ],
         "xaxis": "x4",
         "y": [
          73.59,
          91.99,
          54.39,
          27.99,
          54.39,
          36.99,
          27.5,
          13.79,
          17.99,
          8.99,
          2.24,
          2.24,
          2.24,
          4.49,
          4.59,
          2.24,
          2.24
         ],
         "yaxis": "y4"
        },
        {
         "customdata": [
          [
           "Command & Conquer™ 4 Tyberyjski zmierzch"
          ]
         ],
         "hovertemplate": "Nacechowanie recenzji=Przytłaczająco negatywne<br>Rok wydania=%{x}<br>Cena=%{y}<br>Tytuł=%{customdata[0]}<extra></extra>",
         "legendgroup": "Przytłaczająco negatywne",
         "marker": {
          "color": "#B6E880",
          "symbol": "circle"
         },
         "mode": "markers",
         "name": "Przytłaczająco negatywne",
         "orientation": "v",
         "showlegend": true,
         "type": "scatter",
         "x": [
          2010
         ],
         "xaxis": "x4",
         "y": [
          100
         ],
         "yaxis": "y4"
        }
       ],
       "layout": {
        "annotations": [
         {
          "font": {
           "size": 16
          },
          "showarrow": false,
          "text": "Rozkład cen",
          "x": 0.225,
          "xanchor": "center",
          "xref": "paper",
          "y": 1,
          "yanchor": "bottom",
          "yref": "paper"
         },
         {
          "font": {
           "size": 16
          },
          "showarrow": false,
          "text": "Cena vs. liczba recenzji",
          "x": 0.775,
          "xanchor": "center",
          "xref": "paper",
          "y": 1,
          "yanchor": "bottom",
          "yref": "paper"
         },
         {
          "font": {
           "size": 16
          },
          "showarrow": false,
          "text": "Cena vs. nacechowanie recenzji",
          "x": 0.225,
          "xanchor": "center",
          "xref": "paper",
          "y": 0.375,
          "yanchor": "bottom",
          "yref": "paper"
         },
         {
          "font": {
           "size": 16
          },
          "showarrow": false,
          "text": "Cena vs. rok wydania",
          "x": 0.775,
          "xanchor": "center",
          "xref": "paper",
          "y": 0.375,
          "yanchor": "bottom",
          "yref": "paper"
         }
        ],
        "height": 800,
        "template": {
         "data": {
          "bar": [
           {
            "error_x": {
             "color": "#2a3f5f"
            },
            "error_y": {
             "color": "#2a3f5f"
            },
            "marker": {
             "line": {
              "color": "#E5ECF6",
              "width": 0.5
             },
             "pattern": {
              "fillmode": "overlay",
              "size": 10,
              "solidity": 0.2
             }
            },
            "type": "bar"
           }
          ],
          "barpolar": [
           {
            "marker": {
             "line": {
              "color": "#E5ECF6",
              "width": 0.5
             },
             "pattern": {
              "fillmode": "overlay",
              "size": 10,
              "solidity": 0.2
             }
            },
            "type": "barpolar"
           }
          ],
          "carpet": [
           {
            "aaxis": {
             "endlinecolor": "#2a3f5f",
             "gridcolor": "white",
             "linecolor": "white",
             "minorgridcolor": "white",
             "startlinecolor": "#2a3f5f"
            },
            "baxis": {
             "endlinecolor": "#2a3f5f",
             "gridcolor": "white",
             "linecolor": "white",
             "minorgridcolor": "white",
             "startlinecolor": "#2a3f5f"
            },
            "type": "carpet"
           }
          ],
          "choropleth": [
           {
            "colorbar": {
             "outlinewidth": 0,
             "ticks": ""
            },
            "type": "choropleth"
           }
          ],
          "contour": [
           {
            "colorbar": {
             "outlinewidth": 0,
             "ticks": ""
            },
            "colorscale": [
             [
              0,
              "#0d0887"
             ],
             [
              0.1111111111111111,
              "#46039f"
             ],
             [
              0.2222222222222222,
              "#7201a8"
             ],
             [
              0.3333333333333333,
              "#9c179e"
             ],
             [
              0.4444444444444444,
              "#bd3786"
             ],
             [
              0.5555555555555556,
              "#d8576b"
             ],
             [
              0.6666666666666666,
              "#ed7953"
             ],
             [
              0.7777777777777778,
              "#fb9f3a"
             ],
             [
              0.8888888888888888,
              "#fdca26"
             ],
             [
              1,
              "#f0f921"
             ]
            ],
            "type": "contour"
           }
          ],
          "contourcarpet": [
           {
            "colorbar": {
             "outlinewidth": 0,
             "ticks": ""
            },
            "type": "contourcarpet"
           }
          ],
          "heatmap": [
           {
            "colorbar": {
             "outlinewidth": 0,
             "ticks": ""
            },
            "colorscale": [
             [
              0,
              "#0d0887"
             ],
             [
              0.1111111111111111,
              "#46039f"
             ],
             [
              0.2222222222222222,
              "#7201a8"
             ],
             [
              0.3333333333333333,
              "#9c179e"
             ],
             [
              0.4444444444444444,
              "#bd3786"
             ],
             [
              0.5555555555555556,
              "#d8576b"
             ],
             [
              0.6666666666666666,
              "#ed7953"
             ],
             [
              0.7777777777777778,
              "#fb9f3a"
             ],
             [
              0.8888888888888888,
              "#fdca26"
             ],
             [
              1,
              "#f0f921"
             ]
            ],
            "type": "heatmap"
           }
          ],
          "heatmapgl": [
           {
            "colorbar": {
             "outlinewidth": 0,
             "ticks": ""
            },
            "colorscale": [
             [
              0,
              "#0d0887"
             ],
             [
              0.1111111111111111,
              "#46039f"
             ],
             [
              0.2222222222222222,
              "#7201a8"
             ],
             [
              0.3333333333333333,
              "#9c179e"
             ],
             [
              0.4444444444444444,
              "#bd3786"
             ],
             [
              0.5555555555555556,
              "#d8576b"
             ],
             [
              0.6666666666666666,
              "#ed7953"
             ],
             [
              0.7777777777777778,
              "#fb9f3a"
             ],
             [
              0.8888888888888888,
              "#fdca26"
             ],
             [
              1,
              "#f0f921"
             ]
            ],
            "type": "heatmapgl"
           }
          ],
          "histogram": [
           {
            "marker": {
             "pattern": {
              "fillmode": "overlay",
              "size": 10,
              "solidity": 0.2
             }
            },
            "type": "histogram"
           }
          ],
          "histogram2d": [
           {
            "colorbar": {
             "outlinewidth": 0,
             "ticks": ""
            },
            "colorscale": [
             [
              0,
              "#0d0887"
             ],
             [
              0.1111111111111111,
              "#46039f"
             ],
             [
              0.2222222222222222,
              "#7201a8"
             ],
             [
              0.3333333333333333,
              "#9c179e"
             ],
             [
              0.4444444444444444,
              "#bd3786"
             ],
             [
              0.5555555555555556,
              "#d8576b"
             ],
             [
              0.6666666666666666,
              "#ed7953"
             ],
             [
              0.7777777777777778,
              "#fb9f3a"
             ],
             [
              0.8888888888888888,
              "#fdca26"
             ],
             [
              1,
              "#f0f921"
             ]
            ],
            "type": "histogram2d"
           }
          ],
          "histogram2dcontour": [
           {
            "colorbar": {
             "outlinewidth": 0,
             "ticks": ""
            },
            "colorscale": [
             [
              0,
              "#0d0887"
             ],
             [
              0.1111111111111111,
              "#46039f"
             ],
             [
              0.2222222222222222,
              "#7201a8"
             ],
             [
              0.3333333333333333,
              "#9c179e"
             ],
             [
              0.4444444444444444,
              "#bd3786"
             ],
             [
              0.5555555555555556,
              "#d8576b"
             ],
             [
              0.6666666666666666,
              "#ed7953"
             ],
             [
              0.7777777777777778,
              "#fb9f3a"
             ],
             [
              0.8888888888888888,
              "#fdca26"
             ],
             [
              1,
              "#f0f921"
             ]
            ],
            "type": "histogram2dcontour"
           }
          ],
          "mesh3d": [
           {
            "colorbar": {
             "outlinewidth": 0,
             "ticks": ""
            },
            "type": "mesh3d"
           }
          ],
          "parcoords": [
           {
            "line": {
             "colorbar": {
              "outlinewidth": 0,
              "ticks": ""
             }
            },
            "type": "parcoords"
           }
          ],
          "pie": [
           {
            "automargin": true,
            "type": "pie"
           }
          ],
          "scatter": [
           {
            "fillpattern": {
             "fillmode": "overlay",
             "size": 10,
             "solidity": 0.2
            },
            "type": "scatter"
           }
          ],
          "scatter3d": [
           {
            "line": {
             "colorbar": {
              "outlinewidth": 0,
              "ticks": ""
             }
            },
            "marker": {
             "colorbar": {
              "outlinewidth": 0,
              "ticks": ""
             }
            },
            "type": "scatter3d"
           }
          ],
          "scattercarpet": [
           {
            "marker": {
             "colorbar": {
              "outlinewidth": 0,
              "ticks": ""
             }
            },
            "type": "scattercarpet"
           }
          ],
          "scattergeo": [
           {
            "marker": {
             "colorbar": {
              "outlinewidth": 0,
              "ticks": ""
             }
            },
            "type": "scattergeo"
           }
          ],
          "scattergl": [
           {
            "marker": {
             "colorbar": {
              "outlinewidth": 0,
              "ticks": ""
             }
            },
            "type": "scattergl"
           }
          ],
          "scattermapbox": [
           {
            "marker": {
             "colorbar": {
              "outlinewidth": 0,
              "ticks": ""
             }
            },
            "type": "scattermapbox"
           }
          ],
          "scatterpolar": [
           {
            "marker": {
             "colorbar": {
              "outlinewidth": 0,
              "ticks": ""
             }
            },
            "type": "scatterpolar"
           }
          ],
          "scatterpolargl": [
           {
            "marker": {
             "colorbar": {
              "outlinewidth": 0,
              "ticks": ""
             }
            },
            "type": "scatterpolargl"
           }
          ],
          "scatterternary": [
           {
            "marker": {
             "colorbar": {
              "outlinewidth": 0,
              "ticks": ""
             }
            },
            "type": "scatterternary"
           }
          ],
          "surface": [
           {
            "colorbar": {
             "outlinewidth": 0,
             "ticks": ""
            },
            "colorscale": [
             [
              0,
              "#0d0887"
             ],
             [
              0.1111111111111111,
              "#46039f"
             ],
             [
              0.2222222222222222,
              "#7201a8"
             ],
             [
              0.3333333333333333,
              "#9c179e"
             ],
             [
              0.4444444444444444,
              "#bd3786"
             ],
             [
              0.5555555555555556,
              "#d8576b"
             ],
             [
              0.6666666666666666,
              "#ed7953"
             ],
             [
              0.7777777777777778,
              "#fb9f3a"
             ],
             [
              0.8888888888888888,
              "#fdca26"
             ],
             [
              1,
              "#f0f921"
             ]
            ],
            "type": "surface"
           }
          ],
          "table": [
           {
            "cells": {
             "fill": {
              "color": "#EBF0F8"
             },
             "line": {
              "color": "white"
             }
            },
            "header": {
             "fill": {
              "color": "#C8D4E3"
             },
             "line": {
              "color": "white"
             }
            },
            "type": "table"
           }
          ]
         },
         "layout": {
          "annotationdefaults": {
           "arrowcolor": "#2a3f5f",
           "arrowhead": 0,
           "arrowwidth": 1
          },
          "autotypenumbers": "strict",
          "coloraxis": {
           "colorbar": {
            "outlinewidth": 0,
            "ticks": ""
           }
          },
          "colorscale": {
           "diverging": [
            [
             0,
             "#8e0152"
            ],
            [
             0.1,
             "#c51b7d"
            ],
            [
             0.2,
             "#de77ae"
            ],
            [
             0.3,
             "#f1b6da"
            ],
            [
             0.4,
             "#fde0ef"
            ],
            [
             0.5,
             "#f7f7f7"
            ],
            [
             0.6,
             "#e6f5d0"
            ],
            [
             0.7,
             "#b8e186"
            ],
            [
             0.8,
             "#7fbc41"
            ],
            [
             0.9,
             "#4d9221"
            ],
            [
             1,
             "#276419"
            ]
           ],
           "sequential": [
            [
             0,
             "#0d0887"
            ],
            [
             0.1111111111111111,
             "#46039f"
            ],
            [
             0.2222222222222222,
             "#7201a8"
            ],
            [
             0.3333333333333333,
             "#9c179e"
            ],
            [
             0.4444444444444444,
             "#bd3786"
            ],
            [
             0.5555555555555556,
             "#d8576b"
            ],
            [
             0.6666666666666666,
             "#ed7953"
            ],
            [
             0.7777777777777778,
             "#fb9f3a"
            ],
            [
             0.8888888888888888,
             "#fdca26"
            ],
            [
             1,
             "#f0f921"
            ]
           ],
           "sequentialminus": [
            [
             0,
             "#0d0887"
            ],
            [
             0.1111111111111111,
             "#46039f"
            ],
            [
             0.2222222222222222,
             "#7201a8"
            ],
            [
             0.3333333333333333,
             "#9c179e"
            ],
            [
             0.4444444444444444,
             "#bd3786"
            ],
            [
             0.5555555555555556,
             "#d8576b"
            ],
            [
             0.6666666666666666,
             "#ed7953"
            ],
            [
             0.7777777777777778,
             "#fb9f3a"
            ],
            [
             0.8888888888888888,
             "#fdca26"
            ],
            [
             1,
             "#f0f921"
            ]
           ]
          },
          "colorway": [
           "#636efa",
           "#EF553B",
           "#00cc96",
           "#ab63fa",
           "#FFA15A",
           "#19d3f3",
           "#FF6692",
           "#B6E880",
           "#FF97FF",
           "#FECB52"
          ],
          "font": {
           "color": "#2a3f5f"
          },
          "geo": {
           "bgcolor": "white",
           "lakecolor": "white",
           "landcolor": "#E5ECF6",
           "showlakes": true,
           "showland": true,
           "subunitcolor": "white"
          },
          "hoverlabel": {
           "align": "left"
          },
          "hovermode": "closest",
          "mapbox": {
           "style": "light"
          },
          "paper_bgcolor": "white",
          "plot_bgcolor": "#E5ECF6",
          "polar": {
           "angularaxis": {
            "gridcolor": "white",
            "linecolor": "white",
            "ticks": ""
           },
           "bgcolor": "#E5ECF6",
           "radialaxis": {
            "gridcolor": "white",
            "linecolor": "white",
            "ticks": ""
           }
          },
          "scene": {
           "xaxis": {
            "backgroundcolor": "#E5ECF6",
            "gridcolor": "white",
            "gridwidth": 2,
            "linecolor": "white",
            "showbackground": true,
            "ticks": "",
            "zerolinecolor": "white"
           },
           "yaxis": {
            "backgroundcolor": "#E5ECF6",
            "gridcolor": "white",
            "gridwidth": 2,
            "linecolor": "white",
            "showbackground": true,
            "ticks": "",
            "zerolinecolor": "white"
           },
           "zaxis": {
            "backgroundcolor": "#E5ECF6",
            "gridcolor": "white",
            "gridwidth": 2,
            "linecolor": "white",
            "showbackground": true,
            "ticks": "",
            "zerolinecolor": "white"
           }
          },
          "shapedefaults": {
           "line": {
            "color": "#2a3f5f"
           }
          },
          "ternary": {
           "aaxis": {
            "gridcolor": "white",
            "linecolor": "white",
            "ticks": ""
           },
           "baxis": {
            "gridcolor": "white",
            "linecolor": "white",
            "ticks": ""
           },
           "bgcolor": "#E5ECF6",
           "caxis": {
            "gridcolor": "white",
            "linecolor": "white",
            "ticks": ""
           }
          },
          "title": {
           "x": 0.05
          },
          "xaxis": {
           "automargin": true,
           "gridcolor": "white",
           "linecolor": "white",
           "ticks": "",
           "title": {
            "standoff": 15
           },
           "zerolinecolor": "white",
           "zerolinewidth": 2
          },
          "yaxis": {
           "automargin": true,
           "gridcolor": "white",
           "linecolor": "white",
           "ticks": "",
           "title": {
            "standoff": 15
           },
           "zerolinecolor": "white",
           "zerolinewidth": 2
          }
         }
        },
        "title": {
         "text": "Dashboard analizy gier"
        },
        "width": 1200,
        "xaxis": {
         "anchor": "y",
         "domain": [
          0,
          0.45
         ]
        },
        "xaxis2": {
         "anchor": "y2",
         "domain": [
          0.55,
          1
         ]
        },
        "xaxis3": {
         "anchor": "y3",
         "domain": [
          0,
          0.45
         ]
        },
        "xaxis4": {
         "anchor": "y4",
         "domain": [
          0.55,
          1
         ]
        },
        "yaxis": {
         "anchor": "x",
         "domain": [
          0.625,
          1
         ]
        },
        "yaxis2": {
         "anchor": "x2",
         "domain": [
          0.625,
          1
         ]
        },
        "yaxis3": {
         "anchor": "x3",
         "domain": [
          0,
          0.375
         ]
        },
        "yaxis4": {
         "anchor": "x4",
         "domain": [
          0,
          0.375
         ]
        }
       }
      }
     },
     "metadata": {},
     "output_type": "display_data"
    }
   ],
   "source": [
    "# Interaktywny Dashboard\n",
    "\n",
    "import plotly.subplots as sp\n",
    "\n",
    "# Histogram cen\n",
    "fig1 = px.histogram(df, x='Cena', title='Rozkład cen gier', labels={'Cena': 'Cena (zł)'})\n",
    "\n",
    "# Scatter plot cena vs liczba recenzji\n",
    "fig2 = px.scatter(df, x='Cena', y='Liczba recenzji', color='Nacechowanie recenzji',\n",
    "                  title='Cena vs. liczba recenzji', hover_data=['Tytuł'])\n",
    "\n",
    "# Box plot cena vs nacechowanie recenzji\n",
    "fig3 = px.box(df, x='Nacechowanie recenzji', y='Cena', title='Cena vs. nacechowanie recenzji')\n",
    "\n",
    "# Scatter plot cena vs rok wydania\n",
    "fig4 = px.scatter(df, x='Rok wydania', y='Cena', color='Nacechowanie recenzji',\n",
    "                  title='Cena vs. rok wydania', hover_data=['Tytuł'])\n",
    "\n",
    "# Kombinacja wykresów w jednym dashboardzie\n",
    "dashboard = sp.make_subplots(rows=2, cols=2, subplot_titles=('Rozkład cen', 'Cena vs. liczba recenzji',\n",
    "                                                             'Cena vs. nacechowanie recenzji', 'Cena vs. rok wydania'))\n",
    "\n",
    "dashboard.add_traces(fig1.data, rows=1, cols=1)\n",
    "dashboard.add_traces(fig2.data, rows=1, cols=2)\n",
    "dashboard.add_traces(fig3.data, rows=2, cols=1)\n",
    "dashboard.add_traces(fig4.data, rows=2, cols=2)\n",
    "\n",
    "dashboard.update_layout(height=800, width=1200, title_text='Dashboard analizy gier')\n",
    "dashboard.show()\n"
   ]
  },
  {
   "cell_type": "code",
   "execution_count": 91,
   "metadata": {},
   "outputs": [
    {
     "data": {
      "application/vnd.plotly.v1+json": {
       "config": {
        "plotlyServerURL": "https://plot.ly"
       },
       "data": [
        {
         "alignmentgroup": "True",
         "hovertemplate": "Sentiment=Przytłaczająco pozytywne<br>Tag=%{x}<br>Liczba wystąpień=%{y}<extra></extra>",
         "legendgroup": "Przytłaczająco pozytywne",
         "marker": {
          "color": "#636efa",
          "pattern": {
           "shape": ""
          }
         },
         "name": "Przytłaczająco pozytywne",
         "offsetgroup": "Przytłaczająco pozytywne",
         "orientation": "v",
         "showlegend": true,
         "textposition": "auto",
         "type": "bar",
         "x": [
          "Otwarty świat",
          "Jednoosobowe",
          "FPS",
          "Akcja",
          "Strzelanka",
          "Strategiczne",
          "Przygodowe",
          "Science fiction",
          "Kosmos",
          "Wieloosobowe"
         ],
         "xaxis": "x",
         "y": [
          5,
          14,
          17,
          16,
          9,
          9,
          6,
          13,
          9,
          5
         ],
         "yaxis": "y"
        },
        {
         "alignmentgroup": "True",
         "hovertemplate": "Sentiment=Bardzo pozytywne<br>Tag=%{x}<br>Liczba wystąpień=%{y}<extra></extra>",
         "legendgroup": "Bardzo pozytywne",
         "marker": {
          "color": "#EF553B",
          "pattern": {
           "shape": ""
          }
         },
         "name": "Bardzo pozytywne",
         "offsetgroup": "Bardzo pozytywne",
         "orientation": "v",
         "showlegend": true,
         "textposition": "auto",
         "type": "bar",
         "x": [
          "Wieloosobowe",
          "FPS",
          "Akcja",
          "Kosmos",
          "Jednoosobowe",
          "Otwarty świat",
          "Strategiczne",
          "Science fiction",
          "Przygodowe",
          "Strzelanka"
         ],
         "xaxis": "x",
         "y": [
          39,
          41,
          86,
          29,
          52,
          38,
          64,
          41,
          58,
          31
         ],
         "yaxis": "y"
        },
        {
         "alignmentgroup": "True",
         "hovertemplate": "Sentiment=W większości pozytywne<br>Tag=%{x}<br>Liczba wystąpień=%{y}<extra></extra>",
         "legendgroup": "W większości pozytywne",
         "marker": {
          "color": "#00cc96",
          "pattern": {
           "shape": ""
          }
         },
         "name": "W większości pozytywne",
         "offsetgroup": "W większości pozytywne",
         "orientation": "v",
         "showlegend": true,
         "textposition": "auto",
         "type": "bar",
         "x": [
          "Wieloosobowe",
          "Akcja",
          "Strategiczne",
          "Strzelanka",
          "Jednoosobowe",
          "Science fiction",
          "Otwarty świat",
          "FPS",
          "Kosmos",
          "Przygodowe"
         ],
         "xaxis": "x",
         "y": [
          19,
          26,
          32,
          9,
          9,
          25,
          20,
          8,
          13,
          14
         ],
         "yaxis": "y"
        },
        {
         "alignmentgroup": "True",
         "hovertemplate": "Sentiment=Pozytywne<br>Tag=%{x}<br>Liczba wystąpień=%{y}<extra></extra>",
         "legendgroup": "Pozytywne",
         "marker": {
          "color": "#ab63fa",
          "pattern": {
           "shape": ""
          }
         },
         "name": "Pozytywne",
         "offsetgroup": "Pozytywne",
         "orientation": "v",
         "showlegend": true,
         "textposition": "auto",
         "type": "bar",
         "x": [
          "Science fiction",
          "Akcja",
          "Przygodowe",
          "Strzelanka",
          "Strategiczne",
          "Kosmos",
          "Wieloosobowe"
         ],
         "xaxis": "x",
         "y": [
          2,
          6,
          1,
          2,
          2,
          2,
          1
         ],
         "yaxis": "y"
        },
        {
         "alignmentgroup": "True",
         "hovertemplate": "Sentiment=Mieszane<br>Tag=%{x}<br>Liczba wystąpień=%{y}<extra></extra>",
         "legendgroup": "Mieszane",
         "marker": {
          "color": "#FFA15A",
          "pattern": {
           "shape": ""
          }
         },
         "name": "Mieszane",
         "offsetgroup": "Mieszane",
         "orientation": "v",
         "showlegend": true,
         "textposition": "auto",
         "type": "bar",
         "x": [
          "Wieloosobowe",
          "FPS",
          "Strzelanka",
          "Strategiczne",
          "Akcja",
          "Przygodowe",
          "Otwarty świat",
          "Science fiction",
          "Kosmos",
          "Jednoosobowe"
         ],
         "xaxis": "x",
         "y": [
          11,
          8,
          13,
          19,
          21,
          9,
          8,
          11,
          8,
          4
         ],
         "yaxis": "y"
        },
        {
         "alignmentgroup": "True",
         "hovertemplate": "Sentiment=W większości negatywne<br>Tag=%{x}<br>Liczba wystąpień=%{y}<extra></extra>",
         "legendgroup": "W większości negatywne",
         "marker": {
          "color": "#19d3f3",
          "pattern": {
           "shape": ""
          }
         },
         "name": "W większości negatywne",
         "offsetgroup": "W większości negatywne",
         "orientation": "v",
         "showlegend": true,
         "textposition": "auto",
         "type": "bar",
         "x": [
          "Wieloosobowe",
          "FPS",
          "Kosmos",
          "Strategiczne",
          "Science fiction"
         ],
         "xaxis": "x",
         "y": [
          2,
          1,
          2,
          2,
          2
         ],
         "yaxis": "y"
        },
        {
         "alignmentgroup": "True",
         "hovertemplate": "Sentiment=Przytłaczająco negatywne<br>Tag=%{x}<br>Liczba wystąpień=%{y}<extra></extra>",
         "legendgroup": "Przytłaczająco negatywne",
         "marker": {
          "color": "#FF6692",
          "pattern": {
           "shape": ""
          }
         },
         "name": "Przytłaczająco negatywne",
         "offsetgroup": "Przytłaczająco negatywne",
         "orientation": "v",
         "showlegend": true,
         "textposition": "auto",
         "type": "bar",
         "x": [
          "Strategiczne",
          "Wieloosobowe",
          "Science fiction"
         ],
         "xaxis": "x",
         "y": [
          1,
          1,
          1
         ],
         "yaxis": "y"
        },
        {
         "alignmentgroup": "True",
         "hovertemplate": "Sentiment=Brak informacji<br>Tag=%{x}<br>Liczba wystąpień=%{y}<extra></extra>",
         "legendgroup": "Brak informacji",
         "marker": {
          "color": "#B6E880",
          "pattern": {
           "shape": ""
          }
         },
         "name": "Brak informacji",
         "offsetgroup": "Brak informacji",
         "orientation": "v",
         "showlegend": true,
         "textposition": "auto",
         "type": "bar",
         "x": [
          "Akcja",
          "Jednoosobowe",
          "Strzelanka"
         ],
         "xaxis": "x",
         "y": [
          4,
          1,
          1
         ],
         "yaxis": "y"
        }
       ],
       "layout": {
        "barmode": "group",
        "legend": {
         "title": {
          "text": "Sentiment"
         },
         "tracegroupgap": 0
        },
        "template": {
         "data": {
          "bar": [
           {
            "error_x": {
             "color": "#2a3f5f"
            },
            "error_y": {
             "color": "#2a3f5f"
            },
            "marker": {
             "line": {
              "color": "#E5ECF6",
              "width": 0.5
             },
             "pattern": {
              "fillmode": "overlay",
              "size": 10,
              "solidity": 0.2
             }
            },
            "type": "bar"
           }
          ],
          "barpolar": [
           {
            "marker": {
             "line": {
              "color": "#E5ECF6",
              "width": 0.5
             },
             "pattern": {
              "fillmode": "overlay",
              "size": 10,
              "solidity": 0.2
             }
            },
            "type": "barpolar"
           }
          ],
          "carpet": [
           {
            "aaxis": {
             "endlinecolor": "#2a3f5f",
             "gridcolor": "white",
             "linecolor": "white",
             "minorgridcolor": "white",
             "startlinecolor": "#2a3f5f"
            },
            "baxis": {
             "endlinecolor": "#2a3f5f",
             "gridcolor": "white",
             "linecolor": "white",
             "minorgridcolor": "white",
             "startlinecolor": "#2a3f5f"
            },
            "type": "carpet"
           }
          ],
          "choropleth": [
           {
            "colorbar": {
             "outlinewidth": 0,
             "ticks": ""
            },
            "type": "choropleth"
           }
          ],
          "contour": [
           {
            "colorbar": {
             "outlinewidth": 0,
             "ticks": ""
            },
            "colorscale": [
             [
              0,
              "#0d0887"
             ],
             [
              0.1111111111111111,
              "#46039f"
             ],
             [
              0.2222222222222222,
              "#7201a8"
             ],
             [
              0.3333333333333333,
              "#9c179e"
             ],
             [
              0.4444444444444444,
              "#bd3786"
             ],
             [
              0.5555555555555556,
              "#d8576b"
             ],
             [
              0.6666666666666666,
              "#ed7953"
             ],
             [
              0.7777777777777778,
              "#fb9f3a"
             ],
             [
              0.8888888888888888,
              "#fdca26"
             ],
             [
              1,
              "#f0f921"
             ]
            ],
            "type": "contour"
           }
          ],
          "contourcarpet": [
           {
            "colorbar": {
             "outlinewidth": 0,
             "ticks": ""
            },
            "type": "contourcarpet"
           }
          ],
          "heatmap": [
           {
            "colorbar": {
             "outlinewidth": 0,
             "ticks": ""
            },
            "colorscale": [
             [
              0,
              "#0d0887"
             ],
             [
              0.1111111111111111,
              "#46039f"
             ],
             [
              0.2222222222222222,
              "#7201a8"
             ],
             [
              0.3333333333333333,
              "#9c179e"
             ],
             [
              0.4444444444444444,
              "#bd3786"
             ],
             [
              0.5555555555555556,
              "#d8576b"
             ],
             [
              0.6666666666666666,
              "#ed7953"
             ],
             [
              0.7777777777777778,
              "#fb9f3a"
             ],
             [
              0.8888888888888888,
              "#fdca26"
             ],
             [
              1,
              "#f0f921"
             ]
            ],
            "type": "heatmap"
           }
          ],
          "heatmapgl": [
           {
            "colorbar": {
             "outlinewidth": 0,
             "ticks": ""
            },
            "colorscale": [
             [
              0,
              "#0d0887"
             ],
             [
              0.1111111111111111,
              "#46039f"
             ],
             [
              0.2222222222222222,
              "#7201a8"
             ],
             [
              0.3333333333333333,
              "#9c179e"
             ],
             [
              0.4444444444444444,
              "#bd3786"
             ],
             [
              0.5555555555555556,
              "#d8576b"
             ],
             [
              0.6666666666666666,
              "#ed7953"
             ],
             [
              0.7777777777777778,
              "#fb9f3a"
             ],
             [
              0.8888888888888888,
              "#fdca26"
             ],
             [
              1,
              "#f0f921"
             ]
            ],
            "type": "heatmapgl"
           }
          ],
          "histogram": [
           {
            "marker": {
             "pattern": {
              "fillmode": "overlay",
              "size": 10,
              "solidity": 0.2
             }
            },
            "type": "histogram"
           }
          ],
          "histogram2d": [
           {
            "colorbar": {
             "outlinewidth": 0,
             "ticks": ""
            },
            "colorscale": [
             [
              0,
              "#0d0887"
             ],
             [
              0.1111111111111111,
              "#46039f"
             ],
             [
              0.2222222222222222,
              "#7201a8"
             ],
             [
              0.3333333333333333,
              "#9c179e"
             ],
             [
              0.4444444444444444,
              "#bd3786"
             ],
             [
              0.5555555555555556,
              "#d8576b"
             ],
             [
              0.6666666666666666,
              "#ed7953"
             ],
             [
              0.7777777777777778,
              "#fb9f3a"
             ],
             [
              0.8888888888888888,
              "#fdca26"
             ],
             [
              1,
              "#f0f921"
             ]
            ],
            "type": "histogram2d"
           }
          ],
          "histogram2dcontour": [
           {
            "colorbar": {
             "outlinewidth": 0,
             "ticks": ""
            },
            "colorscale": [
             [
              0,
              "#0d0887"
             ],
             [
              0.1111111111111111,
              "#46039f"
             ],
             [
              0.2222222222222222,
              "#7201a8"
             ],
             [
              0.3333333333333333,
              "#9c179e"
             ],
             [
              0.4444444444444444,
              "#bd3786"
             ],
             [
              0.5555555555555556,
              "#d8576b"
             ],
             [
              0.6666666666666666,
              "#ed7953"
             ],
             [
              0.7777777777777778,
              "#fb9f3a"
             ],
             [
              0.8888888888888888,
              "#fdca26"
             ],
             [
              1,
              "#f0f921"
             ]
            ],
            "type": "histogram2dcontour"
           }
          ],
          "mesh3d": [
           {
            "colorbar": {
             "outlinewidth": 0,
             "ticks": ""
            },
            "type": "mesh3d"
           }
          ],
          "parcoords": [
           {
            "line": {
             "colorbar": {
              "outlinewidth": 0,
              "ticks": ""
             }
            },
            "type": "parcoords"
           }
          ],
          "pie": [
           {
            "automargin": true,
            "type": "pie"
           }
          ],
          "scatter": [
           {
            "fillpattern": {
             "fillmode": "overlay",
             "size": 10,
             "solidity": 0.2
            },
            "type": "scatter"
           }
          ],
          "scatter3d": [
           {
            "line": {
             "colorbar": {
              "outlinewidth": 0,
              "ticks": ""
             }
            },
            "marker": {
             "colorbar": {
              "outlinewidth": 0,
              "ticks": ""
             }
            },
            "type": "scatter3d"
           }
          ],
          "scattercarpet": [
           {
            "marker": {
             "colorbar": {
              "outlinewidth": 0,
              "ticks": ""
             }
            },
            "type": "scattercarpet"
           }
          ],
          "scattergeo": [
           {
            "marker": {
             "colorbar": {
              "outlinewidth": 0,
              "ticks": ""
             }
            },
            "type": "scattergeo"
           }
          ],
          "scattergl": [
           {
            "marker": {
             "colorbar": {
              "outlinewidth": 0,
              "ticks": ""
             }
            },
            "type": "scattergl"
           }
          ],
          "scattermapbox": [
           {
            "marker": {
             "colorbar": {
              "outlinewidth": 0,
              "ticks": ""
             }
            },
            "type": "scattermapbox"
           }
          ],
          "scatterpolar": [
           {
            "marker": {
             "colorbar": {
              "outlinewidth": 0,
              "ticks": ""
             }
            },
            "type": "scatterpolar"
           }
          ],
          "scatterpolargl": [
           {
            "marker": {
             "colorbar": {
              "outlinewidth": 0,
              "ticks": ""
             }
            },
            "type": "scatterpolargl"
           }
          ],
          "scatterternary": [
           {
            "marker": {
             "colorbar": {
              "outlinewidth": 0,
              "ticks": ""
             }
            },
            "type": "scatterternary"
           }
          ],
          "surface": [
           {
            "colorbar": {
             "outlinewidth": 0,
             "ticks": ""
            },
            "colorscale": [
             [
              0,
              "#0d0887"
             ],
             [
              0.1111111111111111,
              "#46039f"
             ],
             [
              0.2222222222222222,
              "#7201a8"
             ],
             [
              0.3333333333333333,
              "#9c179e"
             ],
             [
              0.4444444444444444,
              "#bd3786"
             ],
             [
              0.5555555555555556,
              "#d8576b"
             ],
             [
              0.6666666666666666,
              "#ed7953"
             ],
             [
              0.7777777777777778,
              "#fb9f3a"
             ],
             [
              0.8888888888888888,
              "#fdca26"
             ],
             [
              1,
              "#f0f921"
             ]
            ],
            "type": "surface"
           }
          ],
          "table": [
           {
            "cells": {
             "fill": {
              "color": "#EBF0F8"
             },
             "line": {
              "color": "white"
             }
            },
            "header": {
             "fill": {
              "color": "#C8D4E3"
             },
             "line": {
              "color": "white"
             }
            },
            "type": "table"
           }
          ]
         },
         "layout": {
          "annotationdefaults": {
           "arrowcolor": "#2a3f5f",
           "arrowhead": 0,
           "arrowwidth": 1
          },
          "autotypenumbers": "strict",
          "coloraxis": {
           "colorbar": {
            "outlinewidth": 0,
            "ticks": ""
           }
          },
          "colorscale": {
           "diverging": [
            [
             0,
             "#8e0152"
            ],
            [
             0.1,
             "#c51b7d"
            ],
            [
             0.2,
             "#de77ae"
            ],
            [
             0.3,
             "#f1b6da"
            ],
            [
             0.4,
             "#fde0ef"
            ],
            [
             0.5,
             "#f7f7f7"
            ],
            [
             0.6,
             "#e6f5d0"
            ],
            [
             0.7,
             "#b8e186"
            ],
            [
             0.8,
             "#7fbc41"
            ],
            [
             0.9,
             "#4d9221"
            ],
            [
             1,
             "#276419"
            ]
           ],
           "sequential": [
            [
             0,
             "#0d0887"
            ],
            [
             0.1111111111111111,
             "#46039f"
            ],
            [
             0.2222222222222222,
             "#7201a8"
            ],
            [
             0.3333333333333333,
             "#9c179e"
            ],
            [
             0.4444444444444444,
             "#bd3786"
            ],
            [
             0.5555555555555556,
             "#d8576b"
            ],
            [
             0.6666666666666666,
             "#ed7953"
            ],
            [
             0.7777777777777778,
             "#fb9f3a"
            ],
            [
             0.8888888888888888,
             "#fdca26"
            ],
            [
             1,
             "#f0f921"
            ]
           ],
           "sequentialminus": [
            [
             0,
             "#0d0887"
            ],
            [
             0.1111111111111111,
             "#46039f"
            ],
            [
             0.2222222222222222,
             "#7201a8"
            ],
            [
             0.3333333333333333,
             "#9c179e"
            ],
            [
             0.4444444444444444,
             "#bd3786"
            ],
            [
             0.5555555555555556,
             "#d8576b"
            ],
            [
             0.6666666666666666,
             "#ed7953"
            ],
            [
             0.7777777777777778,
             "#fb9f3a"
            ],
            [
             0.8888888888888888,
             "#fdca26"
            ],
            [
             1,
             "#f0f921"
            ]
           ]
          },
          "colorway": [
           "#636efa",
           "#EF553B",
           "#00cc96",
           "#ab63fa",
           "#FFA15A",
           "#19d3f3",
           "#FF6692",
           "#B6E880",
           "#FF97FF",
           "#FECB52"
          ],
          "font": {
           "color": "#2a3f5f"
          },
          "geo": {
           "bgcolor": "white",
           "lakecolor": "white",
           "landcolor": "#E5ECF6",
           "showlakes": true,
           "showland": true,
           "subunitcolor": "white"
          },
          "hoverlabel": {
           "align": "left"
          },
          "hovermode": "closest",
          "mapbox": {
           "style": "light"
          },
          "paper_bgcolor": "white",
          "plot_bgcolor": "#E5ECF6",
          "polar": {
           "angularaxis": {
            "gridcolor": "white",
            "linecolor": "white",
            "ticks": ""
           },
           "bgcolor": "#E5ECF6",
           "radialaxis": {
            "gridcolor": "white",
            "linecolor": "white",
            "ticks": ""
           }
          },
          "scene": {
           "xaxis": {
            "backgroundcolor": "#E5ECF6",
            "gridcolor": "white",
            "gridwidth": 2,
            "linecolor": "white",
            "showbackground": true,
            "ticks": "",
            "zerolinecolor": "white"
           },
           "yaxis": {
            "backgroundcolor": "#E5ECF6",
            "gridcolor": "white",
            "gridwidth": 2,
            "linecolor": "white",
            "showbackground": true,
            "ticks": "",
            "zerolinecolor": "white"
           },
           "zaxis": {
            "backgroundcolor": "#E5ECF6",
            "gridcolor": "white",
            "gridwidth": 2,
            "linecolor": "white",
            "showbackground": true,
            "ticks": "",
            "zerolinecolor": "white"
           }
          },
          "shapedefaults": {
           "line": {
            "color": "#2a3f5f"
           }
          },
          "ternary": {
           "aaxis": {
            "gridcolor": "white",
            "linecolor": "white",
            "ticks": ""
           },
           "baxis": {
            "gridcolor": "white",
            "linecolor": "white",
            "ticks": ""
           },
           "bgcolor": "#E5ECF6",
           "caxis": {
            "gridcolor": "white",
            "linecolor": "white",
            "ticks": ""
           }
          },
          "title": {
           "x": 0.05
          },
          "xaxis": {
           "automargin": true,
           "gridcolor": "white",
           "linecolor": "white",
           "ticks": "",
           "title": {
            "standoff": 15
           },
           "zerolinecolor": "white",
           "zerolinewidth": 2
          },
          "yaxis": {
           "automargin": true,
           "gridcolor": "white",
           "linecolor": "white",
           "ticks": "",
           "title": {
            "standoff": 15
           },
           "zerolinecolor": "white",
           "zerolinewidth": 2
          }
         }
        },
        "title": {
         "text": "Powiązanie najczęściej występujących tagów z nacechowaniem recenzji"
        },
        "xaxis": {
         "anchor": "y",
         "domain": [
          0,
          1
         ],
         "tickangle": 45,
         "title": {
          "text": "Tag"
         }
        },
        "yaxis": {
         "anchor": "x",
         "domain": [
          0,
          1
         ],
         "title": {
          "text": "Liczba wystąpień"
         }
        }
       }
      }
     },
     "metadata": {},
     "output_type": "display_data"
    }
   ],
   "source": [
    "def tags_sentiment_analysis(df, top_n=10):\n",
    "    sentiment_counts = {}\n",
    "    for sentiment in df['Nacechowanie recenzji'].unique():\n",
    "        if pd.isna(sentiment):\n",
    "            continue\n",
    "        tags = df[df['Nacechowanie recenzji'] == sentiment]['Tagi'].apply(lambda x: x.split(', '))\n",
    "        tag_counter = Counter(tag for tag_list in tags for tag in tag_list)\n",
    "        sentiment_counts[sentiment] = dict(tag_counter)\n",
    "\n",
    "    # Konwersja na DataFrame i ograniczenie liczby tagów\n",
    "    sentiment_dfs = []\n",
    "    for sentiment, counts in sentiment_counts.items():\n",
    "        sentiment_df = pd.DataFrame(counts.items(), columns=['Tag', 'Count'])\n",
    "        sentiment_df['Sentiment'] = sentiment\n",
    "        sentiment_dfs.append(sentiment_df)\n",
    "\n",
    "    combined_df = pd.concat(sentiment_dfs)\n",
    "    top_tags = combined_df.groupby('Tag')['Count'].sum().nlargest(top_n).index\n",
    "    return combined_df[combined_df['Tag'].isin(top_tags)]\n",
    "\n",
    "# Analiza\n",
    "tags_sentiment_df = tags_sentiment_analysis(df)\n",
    "\n",
    "# Określenie kolejności dla 'Sentiment'\n",
    "category_order = ['Przytłaczająco pozytywne', 'Bardzo pozytywne', 'W większości pozytywne', 'Pozytywne', \n",
    "                  'Mieszane', 'W większości negatywne', 'Przytłaczająco negatywne']\n",
    "\n",
    "# Wizualizacja\n",
    "fig = px.bar(tags_sentiment_df, x='Tag', y='Count', color='Sentiment', barmode='group',\n",
    "             title='Powiązanie najczęściej występujących tagów z nacechowaniem recenzji',\n",
    "             labels={'Count': 'Liczba wystąpień', 'Tag': 'Tag'},\n",
    "             category_orders={'Sentiment': category_order})  # Dodajemy sortowanie dla sentimentu\n",
    "\n",
    "fig.update_layout(xaxis_tickangle=45)\n",
    "fig.show()"
   ]
  },
  {
   "cell_type": "code",
   "execution_count": 61,
   "metadata": {},
   "outputs": [],
   "source": [
    "# Mapowanie tekstowego nacechowania recenzji na wartości numeryczne\n",
    "sentiment_map = {\n",
    "    'Przytłaczająco pozytywne': 4,\n",
    "    'Bardzo pozytywne': 3,\n",
    "    'W większości pozytywne': 2,\n",
    "    'Mieszane': 1,\n",
    "    'Negatywne': 0\n",
    "}\n",
    "\n",
    "df['sentiment_score'] = df['Nacechowanie recenzji'].map(sentiment_map).fillna(0)\n"
   ]
  },
  {
   "cell_type": "code",
   "execution_count": 62,
   "metadata": {},
   "outputs": [],
   "source": [
    "# Obliczanie średnich ocen ważonych liczbą recenzji oraz średnich cen\n",
    "def avg_sentiment_and_price_per_tag(df, top_n=20, min_games=3):\n",
    "    tags = df['Tagi'].apply(lambda x: x.split(', '))\n",
    "    tag_scores = Counter()\n",
    "    tag_weights = Counter()\n",
    "    tag_prices = Counter()\n",
    "    tag_counts = Counter()\n",
    "\n",
    "    for idx, tag_list in enumerate(tags):\n",
    "        for tag in tag_list:\n",
    "            sentiment_score = df.iloc[idx]['sentiment_score']\n",
    "            review_count = df.iloc[idx]['Liczba recenzji']\n",
    "            price = df.iloc[idx]['Cena']\n",
    "            \n",
    "            # Ważenie ocen liczbą recenzji\n",
    "            tag_scores[tag] += sentiment_score * review_count\n",
    "            tag_weights[tag] += review_count\n",
    "            \n",
    "            # Suma cen i liczba wystąpień\n",
    "            tag_prices[tag] += price\n",
    "            tag_counts[tag] += 1\n",
    "\n",
    "    # Obliczanie średnich ocen i cen (filtr minimalnej liczby gier)\n",
    "    avg_data = {\n",
    "        tag: {\n",
    "            'Average Sentiment': tag_scores[tag] / tag_weights[tag],\n",
    "            'Average Price': tag_prices[tag] / tag_counts[tag],\n",
    "            'Game Count': tag_counts[tag]\n",
    "        }\n",
    "        for tag in tag_scores if tag_counts[tag] >= min_games\n",
    "    }\n",
    "    avg_df = pd.DataFrame.from_dict(avg_data, orient='index').reset_index()\n",
    "    avg_df.rename(columns={'index': 'Tag'}, inplace=True)\n",
    "    return avg_df.sort_values('Average Sentiment', ascending=False).head(top_n), \\\n",
    "           avg_df.sort_values('Average Sentiment', ascending=True).head(top_n)\n"
   ]
  },
  {
   "cell_type": "code",
   "execution_count": 73,
   "metadata": {},
   "outputs": [
    {
     "data": {
      "application/vnd.plotly.v1+json": {
       "config": {
        "plotlyServerURL": "https://plot.ly"
       },
       "data": [
        {
         "marker": {
          "color": "#90CAF9"
         },
         "name": "Średnia ocena",
         "type": "bar",
         "x": [
          "Strzelanka arenowa",
          "Podróż w czasie",
          "Wiele zakończeń",
          "Łamigłówki platformowe",
          "Ukryte przedmioty",
          "Platformowe 3D",
          "Czarny humor",
          "LGBTQ+",
          "Generacja proceduralna",
          "Fizyka",
          "Wczesny dostęp",
          "Automatyzacja",
          "Perspektywa pierwszej osoby",
          "Lata 90.",
          "Filmowe"
         ],
         "y": [
          3.986770299321978,
          3.9799744873118197,
          3.9772114011020157,
          3.9715791676475973,
          3.959997900152239,
          3.939822751339486,
          3.9124017779914757,
          3.9094537291095035,
          3.9054168714940842,
          3.901077207306535,
          3.892881421773332,
          3.862502998133336,
          3.8587759193308546,
          3.8510116593846937,
          3.844177184889987
         ],
         "yaxis": "y"
        },
        {
         "line": {
          "dash": "dot",
          "width": 2
         },
         "marker": {
          "color": "red",
          "size": 10
         },
         "mode": "lines+markers",
         "name": "Średnia cena",
         "type": "scatter",
         "x": [
          "Strzelanka arenowa",
          "Podróż w czasie",
          "Wiele zakończeń",
          "Łamigłówki platformowe",
          "Ukryte przedmioty",
          "Platformowe 3D",
          "Czarny humor",
          "LGBTQ+",
          "Generacja proceduralna",
          "Fizyka",
          "Wczesny dostęp",
          "Automatyzacja",
          "Perspektywa pierwszej osoby",
          "Lata 90.",
          "Filmowe"
         ],
         "y": [
          26.44333333333333,
          30.21666666666667,
          28.665000000000003,
          25.923333333333332,
          12.24,
          103.674,
          41.726,
          36.723333333333336,
          73.82000000000001,
          76.52,
          67.35,
          77.52875000000002,
          52.223000000000006,
          19.689999999999998,
          78.45
         ],
         "yaxis": "y2"
        }
       ],
       "layout": {
        "legend": {
         "orientation": "h",
         "x": 0.5,
         "y": 1.1
        },
        "template": {
         "data": {
          "bar": [
           {
            "error_x": {
             "color": "#2a3f5f"
            },
            "error_y": {
             "color": "#2a3f5f"
            },
            "marker": {
             "line": {
              "color": "#E5ECF6",
              "width": 0.5
             },
             "pattern": {
              "fillmode": "overlay",
              "size": 10,
              "solidity": 0.2
             }
            },
            "type": "bar"
           }
          ],
          "barpolar": [
           {
            "marker": {
             "line": {
              "color": "#E5ECF6",
              "width": 0.5
             },
             "pattern": {
              "fillmode": "overlay",
              "size": 10,
              "solidity": 0.2
             }
            },
            "type": "barpolar"
           }
          ],
          "carpet": [
           {
            "aaxis": {
             "endlinecolor": "#2a3f5f",
             "gridcolor": "white",
             "linecolor": "white",
             "minorgridcolor": "white",
             "startlinecolor": "#2a3f5f"
            },
            "baxis": {
             "endlinecolor": "#2a3f5f",
             "gridcolor": "white",
             "linecolor": "white",
             "minorgridcolor": "white",
             "startlinecolor": "#2a3f5f"
            },
            "type": "carpet"
           }
          ],
          "choropleth": [
           {
            "colorbar": {
             "outlinewidth": 0,
             "ticks": ""
            },
            "type": "choropleth"
           }
          ],
          "contour": [
           {
            "colorbar": {
             "outlinewidth": 0,
             "ticks": ""
            },
            "colorscale": [
             [
              0,
              "#0d0887"
             ],
             [
              0.1111111111111111,
              "#46039f"
             ],
             [
              0.2222222222222222,
              "#7201a8"
             ],
             [
              0.3333333333333333,
              "#9c179e"
             ],
             [
              0.4444444444444444,
              "#bd3786"
             ],
             [
              0.5555555555555556,
              "#d8576b"
             ],
             [
              0.6666666666666666,
              "#ed7953"
             ],
             [
              0.7777777777777778,
              "#fb9f3a"
             ],
             [
              0.8888888888888888,
              "#fdca26"
             ],
             [
              1,
              "#f0f921"
             ]
            ],
            "type": "contour"
           }
          ],
          "contourcarpet": [
           {
            "colorbar": {
             "outlinewidth": 0,
             "ticks": ""
            },
            "type": "contourcarpet"
           }
          ],
          "heatmap": [
           {
            "colorbar": {
             "outlinewidth": 0,
             "ticks": ""
            },
            "colorscale": [
             [
              0,
              "#0d0887"
             ],
             [
              0.1111111111111111,
              "#46039f"
             ],
             [
              0.2222222222222222,
              "#7201a8"
             ],
             [
              0.3333333333333333,
              "#9c179e"
             ],
             [
              0.4444444444444444,
              "#bd3786"
             ],
             [
              0.5555555555555556,
              "#d8576b"
             ],
             [
              0.6666666666666666,
              "#ed7953"
             ],
             [
              0.7777777777777778,
              "#fb9f3a"
             ],
             [
              0.8888888888888888,
              "#fdca26"
             ],
             [
              1,
              "#f0f921"
             ]
            ],
            "type": "heatmap"
           }
          ],
          "heatmapgl": [
           {
            "colorbar": {
             "outlinewidth": 0,
             "ticks": ""
            },
            "colorscale": [
             [
              0,
              "#0d0887"
             ],
             [
              0.1111111111111111,
              "#46039f"
             ],
             [
              0.2222222222222222,
              "#7201a8"
             ],
             [
              0.3333333333333333,
              "#9c179e"
             ],
             [
              0.4444444444444444,
              "#bd3786"
             ],
             [
              0.5555555555555556,
              "#d8576b"
             ],
             [
              0.6666666666666666,
              "#ed7953"
             ],
             [
              0.7777777777777778,
              "#fb9f3a"
             ],
             [
              0.8888888888888888,
              "#fdca26"
             ],
             [
              1,
              "#f0f921"
             ]
            ],
            "type": "heatmapgl"
           }
          ],
          "histogram": [
           {
            "marker": {
             "pattern": {
              "fillmode": "overlay",
              "size": 10,
              "solidity": 0.2
             }
            },
            "type": "histogram"
           }
          ],
          "histogram2d": [
           {
            "colorbar": {
             "outlinewidth": 0,
             "ticks": ""
            },
            "colorscale": [
             [
              0,
              "#0d0887"
             ],
             [
              0.1111111111111111,
              "#46039f"
             ],
             [
              0.2222222222222222,
              "#7201a8"
             ],
             [
              0.3333333333333333,
              "#9c179e"
             ],
             [
              0.4444444444444444,
              "#bd3786"
             ],
             [
              0.5555555555555556,
              "#d8576b"
             ],
             [
              0.6666666666666666,
              "#ed7953"
             ],
             [
              0.7777777777777778,
              "#fb9f3a"
             ],
             [
              0.8888888888888888,
              "#fdca26"
             ],
             [
              1,
              "#f0f921"
             ]
            ],
            "type": "histogram2d"
           }
          ],
          "histogram2dcontour": [
           {
            "colorbar": {
             "outlinewidth": 0,
             "ticks": ""
            },
            "colorscale": [
             [
              0,
              "#0d0887"
             ],
             [
              0.1111111111111111,
              "#46039f"
             ],
             [
              0.2222222222222222,
              "#7201a8"
             ],
             [
              0.3333333333333333,
              "#9c179e"
             ],
             [
              0.4444444444444444,
              "#bd3786"
             ],
             [
              0.5555555555555556,
              "#d8576b"
             ],
             [
              0.6666666666666666,
              "#ed7953"
             ],
             [
              0.7777777777777778,
              "#fb9f3a"
             ],
             [
              0.8888888888888888,
              "#fdca26"
             ],
             [
              1,
              "#f0f921"
             ]
            ],
            "type": "histogram2dcontour"
           }
          ],
          "mesh3d": [
           {
            "colorbar": {
             "outlinewidth": 0,
             "ticks": ""
            },
            "type": "mesh3d"
           }
          ],
          "parcoords": [
           {
            "line": {
             "colorbar": {
              "outlinewidth": 0,
              "ticks": ""
             }
            },
            "type": "parcoords"
           }
          ],
          "pie": [
           {
            "automargin": true,
            "type": "pie"
           }
          ],
          "scatter": [
           {
            "fillpattern": {
             "fillmode": "overlay",
             "size": 10,
             "solidity": 0.2
            },
            "type": "scatter"
           }
          ],
          "scatter3d": [
           {
            "line": {
             "colorbar": {
              "outlinewidth": 0,
              "ticks": ""
             }
            },
            "marker": {
             "colorbar": {
              "outlinewidth": 0,
              "ticks": ""
             }
            },
            "type": "scatter3d"
           }
          ],
          "scattercarpet": [
           {
            "marker": {
             "colorbar": {
              "outlinewidth": 0,
              "ticks": ""
             }
            },
            "type": "scattercarpet"
           }
          ],
          "scattergeo": [
           {
            "marker": {
             "colorbar": {
              "outlinewidth": 0,
              "ticks": ""
             }
            },
            "type": "scattergeo"
           }
          ],
          "scattergl": [
           {
            "marker": {
             "colorbar": {
              "outlinewidth": 0,
              "ticks": ""
             }
            },
            "type": "scattergl"
           }
          ],
          "scattermapbox": [
           {
            "marker": {
             "colorbar": {
              "outlinewidth": 0,
              "ticks": ""
             }
            },
            "type": "scattermapbox"
           }
          ],
          "scatterpolar": [
           {
            "marker": {
             "colorbar": {
              "outlinewidth": 0,
              "ticks": ""
             }
            },
            "type": "scatterpolar"
           }
          ],
          "scatterpolargl": [
           {
            "marker": {
             "colorbar": {
              "outlinewidth": 0,
              "ticks": ""
             }
            },
            "type": "scatterpolargl"
           }
          ],
          "scatterternary": [
           {
            "marker": {
             "colorbar": {
              "outlinewidth": 0,
              "ticks": ""
             }
            },
            "type": "scatterternary"
           }
          ],
          "surface": [
           {
            "colorbar": {
             "outlinewidth": 0,
             "ticks": ""
            },
            "colorscale": [
             [
              0,
              "#0d0887"
             ],
             [
              0.1111111111111111,
              "#46039f"
             ],
             [
              0.2222222222222222,
              "#7201a8"
             ],
             [
              0.3333333333333333,
              "#9c179e"
             ],
             [
              0.4444444444444444,
              "#bd3786"
             ],
             [
              0.5555555555555556,
              "#d8576b"
             ],
             [
              0.6666666666666666,
              "#ed7953"
             ],
             [
              0.7777777777777778,
              "#fb9f3a"
             ],
             [
              0.8888888888888888,
              "#fdca26"
             ],
             [
              1,
              "#f0f921"
             ]
            ],
            "type": "surface"
           }
          ],
          "table": [
           {
            "cells": {
             "fill": {
              "color": "#EBF0F8"
             },
             "line": {
              "color": "white"
             }
            },
            "header": {
             "fill": {
              "color": "#C8D4E3"
             },
             "line": {
              "color": "white"
             }
            },
            "type": "table"
           }
          ]
         },
         "layout": {
          "annotationdefaults": {
           "arrowcolor": "#2a3f5f",
           "arrowhead": 0,
           "arrowwidth": 1
          },
          "autotypenumbers": "strict",
          "coloraxis": {
           "colorbar": {
            "outlinewidth": 0,
            "ticks": ""
           }
          },
          "colorscale": {
           "diverging": [
            [
             0,
             "#8e0152"
            ],
            [
             0.1,
             "#c51b7d"
            ],
            [
             0.2,
             "#de77ae"
            ],
            [
             0.3,
             "#f1b6da"
            ],
            [
             0.4,
             "#fde0ef"
            ],
            [
             0.5,
             "#f7f7f7"
            ],
            [
             0.6,
             "#e6f5d0"
            ],
            [
             0.7,
             "#b8e186"
            ],
            [
             0.8,
             "#7fbc41"
            ],
            [
             0.9,
             "#4d9221"
            ],
            [
             1,
             "#276419"
            ]
           ],
           "sequential": [
            [
             0,
             "#0d0887"
            ],
            [
             0.1111111111111111,
             "#46039f"
            ],
            [
             0.2222222222222222,
             "#7201a8"
            ],
            [
             0.3333333333333333,
             "#9c179e"
            ],
            [
             0.4444444444444444,
             "#bd3786"
            ],
            [
             0.5555555555555556,
             "#d8576b"
            ],
            [
             0.6666666666666666,
             "#ed7953"
            ],
            [
             0.7777777777777778,
             "#fb9f3a"
            ],
            [
             0.8888888888888888,
             "#fdca26"
            ],
            [
             1,
             "#f0f921"
            ]
           ],
           "sequentialminus": [
            [
             0,
             "#0d0887"
            ],
            [
             0.1111111111111111,
             "#46039f"
            ],
            [
             0.2222222222222222,
             "#7201a8"
            ],
            [
             0.3333333333333333,
             "#9c179e"
            ],
            [
             0.4444444444444444,
             "#bd3786"
            ],
            [
             0.5555555555555556,
             "#d8576b"
            ],
            [
             0.6666666666666666,
             "#ed7953"
            ],
            [
             0.7777777777777778,
             "#fb9f3a"
            ],
            [
             0.8888888888888888,
             "#fdca26"
            ],
            [
             1,
             "#f0f921"
            ]
           ]
          },
          "colorway": [
           "#636efa",
           "#EF553B",
           "#00cc96",
           "#ab63fa",
           "#FFA15A",
           "#19d3f3",
           "#FF6692",
           "#B6E880",
           "#FF97FF",
           "#FECB52"
          ],
          "font": {
           "color": "#2a3f5f"
          },
          "geo": {
           "bgcolor": "white",
           "lakecolor": "white",
           "landcolor": "#E5ECF6",
           "showlakes": true,
           "showland": true,
           "subunitcolor": "white"
          },
          "hoverlabel": {
           "align": "left"
          },
          "hovermode": "closest",
          "mapbox": {
           "style": "light"
          },
          "paper_bgcolor": "white",
          "plot_bgcolor": "#E5ECF6",
          "polar": {
           "angularaxis": {
            "gridcolor": "white",
            "linecolor": "white",
            "ticks": ""
           },
           "bgcolor": "#E5ECF6",
           "radialaxis": {
            "gridcolor": "white",
            "linecolor": "white",
            "ticks": ""
           }
          },
          "scene": {
           "xaxis": {
            "backgroundcolor": "#E5ECF6",
            "gridcolor": "white",
            "gridwidth": 2,
            "linecolor": "white",
            "showbackground": true,
            "ticks": "",
            "zerolinecolor": "white"
           },
           "yaxis": {
            "backgroundcolor": "#E5ECF6",
            "gridcolor": "white",
            "gridwidth": 2,
            "linecolor": "white",
            "showbackground": true,
            "ticks": "",
            "zerolinecolor": "white"
           },
           "zaxis": {
            "backgroundcolor": "#E5ECF6",
            "gridcolor": "white",
            "gridwidth": 2,
            "linecolor": "white",
            "showbackground": true,
            "ticks": "",
            "zerolinecolor": "white"
           }
          },
          "shapedefaults": {
           "line": {
            "color": "#2a3f5f"
           }
          },
          "ternary": {
           "aaxis": {
            "gridcolor": "white",
            "linecolor": "white",
            "ticks": ""
           },
           "baxis": {
            "gridcolor": "white",
            "linecolor": "white",
            "ticks": ""
           },
           "bgcolor": "#E5ECF6",
           "caxis": {
            "gridcolor": "white",
            "linecolor": "white",
            "ticks": ""
           }
          },
          "title": {
           "x": 0.05
          },
          "xaxis": {
           "automargin": true,
           "gridcolor": "white",
           "linecolor": "white",
           "ticks": "",
           "title": {
            "standoff": 15
           },
           "zerolinecolor": "white",
           "zerolinewidth": 2
          },
          "yaxis": {
           "automargin": true,
           "gridcolor": "white",
           "linecolor": "white",
           "ticks": "",
           "title": {
            "standoff": 15
           },
           "zerolinecolor": "white",
           "zerolinewidth": 2
          }
         }
        },
        "title": {
         "text": "Tagi z najlepszymi ocenami (ważone liczbą recenzji)"
        },
        "xaxis": {
         "tickangle": 45,
         "title": {
          "text": "Tagi"
         }
        },
        "yaxis": {
         "tickfont": {
          "color": "#90CAF9"
         },
         "title": {
          "font": {
           "color": "#90CAF9"
          },
          "text": "Średnia ocena"
         }
        },
        "yaxis2": {
         "overlaying": "y",
         "side": "right",
         "tickfont": {
          "color": "red"
         },
         "title": {
          "font": {
           "color": "red"
          },
          "text": "Średnia cena (zł)"
         }
        }
       }
      }
     },
     "metadata": {},
     "output_type": "display_data"
    },
    {
     "data": {
      "application/vnd.plotly.v1+json": {
       "config": {
        "plotlyServerURL": "https://plot.ly"
       },
       "data": [
        {
         "marker": {
          "color": "#90CAF9"
         },
         "name": "Średnia ocena",
         "type": "bar",
         "x": [
          "MMO",
          "Strzelanka z bohaterami",
          "Wojskowe",
          "Gra karciana",
          "PvP",
          "Wojna",
          "Free to Play",
          "Przemoc",
          "Strzelanka z łupami",
          "Treści seksualne",
          "Dostosowywanie broni palnej",
          "Walka",
          "3D",
          "Dungeon crawler",
          "Platformowe 2D"
         ],
         "y": [
          1,
          1.0924168810694548,
          1.1862302573238637,
          1.3623563218390804,
          1.4186178480669118,
          1.5089443358822754,
          1.7249057212656145,
          1.8159328839810698,
          1.8612083582217485,
          1.956941362590401,
          2.0058402709632492,
          2.0378971363442084,
          2.049638129701933,
          2.1329404060248853,
          2.1507883633133464
         ],
         "yaxis": "y"
        },
        {
         "line": {
          "dash": "dot",
          "width": 2
         },
         "marker": {
          "color": "red",
          "size": 10
         },
         "mode": "lines+markers",
         "name": "Średnia cena",
         "type": "scatter",
         "x": [
          "MMO",
          "Strzelanka z bohaterami",
          "Wojskowe",
          "Gra karciana",
          "PvP",
          "Wojna",
          "Free to Play",
          "Przemoc",
          "Strzelanka z łupami",
          "Treści seksualne",
          "Dostosowywanie broni palnej",
          "Walka",
          "3D",
          "Dungeon crawler",
          "Platformowe 2D"
         ],
         "y": [
          0,
          33,
          147.76,
          17.526666666666667,
          14.681249999999999,
          64.68166666666666,
          0,
          33.664,
          30.991999999999997,
          44.739000000000004,
          8.766666666666666,
          81.24,
          88.97461538461539,
          25.630000000000003,
          38.458333333333336
         ],
         "yaxis": "y2"
        }
       ],
       "layout": {
        "legend": {
         "orientation": "h",
         "x": 0.5,
         "y": 1.1
        },
        "template": {
         "data": {
          "bar": [
           {
            "error_x": {
             "color": "#2a3f5f"
            },
            "error_y": {
             "color": "#2a3f5f"
            },
            "marker": {
             "line": {
              "color": "#E5ECF6",
              "width": 0.5
             },
             "pattern": {
              "fillmode": "overlay",
              "size": 10,
              "solidity": 0.2
             }
            },
            "type": "bar"
           }
          ],
          "barpolar": [
           {
            "marker": {
             "line": {
              "color": "#E5ECF6",
              "width": 0.5
             },
             "pattern": {
              "fillmode": "overlay",
              "size": 10,
              "solidity": 0.2
             }
            },
            "type": "barpolar"
           }
          ],
          "carpet": [
           {
            "aaxis": {
             "endlinecolor": "#2a3f5f",
             "gridcolor": "white",
             "linecolor": "white",
             "minorgridcolor": "white",
             "startlinecolor": "#2a3f5f"
            },
            "baxis": {
             "endlinecolor": "#2a3f5f",
             "gridcolor": "white",
             "linecolor": "white",
             "minorgridcolor": "white",
             "startlinecolor": "#2a3f5f"
            },
            "type": "carpet"
           }
          ],
          "choropleth": [
           {
            "colorbar": {
             "outlinewidth": 0,
             "ticks": ""
            },
            "type": "choropleth"
           }
          ],
          "contour": [
           {
            "colorbar": {
             "outlinewidth": 0,
             "ticks": ""
            },
            "colorscale": [
             [
              0,
              "#0d0887"
             ],
             [
              0.1111111111111111,
              "#46039f"
             ],
             [
              0.2222222222222222,
              "#7201a8"
             ],
             [
              0.3333333333333333,
              "#9c179e"
             ],
             [
              0.4444444444444444,
              "#bd3786"
             ],
             [
              0.5555555555555556,
              "#d8576b"
             ],
             [
              0.6666666666666666,
              "#ed7953"
             ],
             [
              0.7777777777777778,
              "#fb9f3a"
             ],
             [
              0.8888888888888888,
              "#fdca26"
             ],
             [
              1,
              "#f0f921"
             ]
            ],
            "type": "contour"
           }
          ],
          "contourcarpet": [
           {
            "colorbar": {
             "outlinewidth": 0,
             "ticks": ""
            },
            "type": "contourcarpet"
           }
          ],
          "heatmap": [
           {
            "colorbar": {
             "outlinewidth": 0,
             "ticks": ""
            },
            "colorscale": [
             [
              0,
              "#0d0887"
             ],
             [
              0.1111111111111111,
              "#46039f"
             ],
             [
              0.2222222222222222,
              "#7201a8"
             ],
             [
              0.3333333333333333,
              "#9c179e"
             ],
             [
              0.4444444444444444,
              "#bd3786"
             ],
             [
              0.5555555555555556,
              "#d8576b"
             ],
             [
              0.6666666666666666,
              "#ed7953"
             ],
             [
              0.7777777777777778,
              "#fb9f3a"
             ],
             [
              0.8888888888888888,
              "#fdca26"
             ],
             [
              1,
              "#f0f921"
             ]
            ],
            "type": "heatmap"
           }
          ],
          "heatmapgl": [
           {
            "colorbar": {
             "outlinewidth": 0,
             "ticks": ""
            },
            "colorscale": [
             [
              0,
              "#0d0887"
             ],
             [
              0.1111111111111111,
              "#46039f"
             ],
             [
              0.2222222222222222,
              "#7201a8"
             ],
             [
              0.3333333333333333,
              "#9c179e"
             ],
             [
              0.4444444444444444,
              "#bd3786"
             ],
             [
              0.5555555555555556,
              "#d8576b"
             ],
             [
              0.6666666666666666,
              "#ed7953"
             ],
             [
              0.7777777777777778,
              "#fb9f3a"
             ],
             [
              0.8888888888888888,
              "#fdca26"
             ],
             [
              1,
              "#f0f921"
             ]
            ],
            "type": "heatmapgl"
           }
          ],
          "histogram": [
           {
            "marker": {
             "pattern": {
              "fillmode": "overlay",
              "size": 10,
              "solidity": 0.2
             }
            },
            "type": "histogram"
           }
          ],
          "histogram2d": [
           {
            "colorbar": {
             "outlinewidth": 0,
             "ticks": ""
            },
            "colorscale": [
             [
              0,
              "#0d0887"
             ],
             [
              0.1111111111111111,
              "#46039f"
             ],
             [
              0.2222222222222222,
              "#7201a8"
             ],
             [
              0.3333333333333333,
              "#9c179e"
             ],
             [
              0.4444444444444444,
              "#bd3786"
             ],
             [
              0.5555555555555556,
              "#d8576b"
             ],
             [
              0.6666666666666666,
              "#ed7953"
             ],
             [
              0.7777777777777778,
              "#fb9f3a"
             ],
             [
              0.8888888888888888,
              "#fdca26"
             ],
             [
              1,
              "#f0f921"
             ]
            ],
            "type": "histogram2d"
           }
          ],
          "histogram2dcontour": [
           {
            "colorbar": {
             "outlinewidth": 0,
             "ticks": ""
            },
            "colorscale": [
             [
              0,
              "#0d0887"
             ],
             [
              0.1111111111111111,
              "#46039f"
             ],
             [
              0.2222222222222222,
              "#7201a8"
             ],
             [
              0.3333333333333333,
              "#9c179e"
             ],
             [
              0.4444444444444444,
              "#bd3786"
             ],
             [
              0.5555555555555556,
              "#d8576b"
             ],
             [
              0.6666666666666666,
              "#ed7953"
             ],
             [
              0.7777777777777778,
              "#fb9f3a"
             ],
             [
              0.8888888888888888,
              "#fdca26"
             ],
             [
              1,
              "#f0f921"
             ]
            ],
            "type": "histogram2dcontour"
           }
          ],
          "mesh3d": [
           {
            "colorbar": {
             "outlinewidth": 0,
             "ticks": ""
            },
            "type": "mesh3d"
           }
          ],
          "parcoords": [
           {
            "line": {
             "colorbar": {
              "outlinewidth": 0,
              "ticks": ""
             }
            },
            "type": "parcoords"
           }
          ],
          "pie": [
           {
            "automargin": true,
            "type": "pie"
           }
          ],
          "scatter": [
           {
            "fillpattern": {
             "fillmode": "overlay",
             "size": 10,
             "solidity": 0.2
            },
            "type": "scatter"
           }
          ],
          "scatter3d": [
           {
            "line": {
             "colorbar": {
              "outlinewidth": 0,
              "ticks": ""
             }
            },
            "marker": {
             "colorbar": {
              "outlinewidth": 0,
              "ticks": ""
             }
            },
            "type": "scatter3d"
           }
          ],
          "scattercarpet": [
           {
            "marker": {
             "colorbar": {
              "outlinewidth": 0,
              "ticks": ""
             }
            },
            "type": "scattercarpet"
           }
          ],
          "scattergeo": [
           {
            "marker": {
             "colorbar": {
              "outlinewidth": 0,
              "ticks": ""
             }
            },
            "type": "scattergeo"
           }
          ],
          "scattergl": [
           {
            "marker": {
             "colorbar": {
              "outlinewidth": 0,
              "ticks": ""
             }
            },
            "type": "scattergl"
           }
          ],
          "scattermapbox": [
           {
            "marker": {
             "colorbar": {
              "outlinewidth": 0,
              "ticks": ""
             }
            },
            "type": "scattermapbox"
           }
          ],
          "scatterpolar": [
           {
            "marker": {
             "colorbar": {
              "outlinewidth": 0,
              "ticks": ""
             }
            },
            "type": "scatterpolar"
           }
          ],
          "scatterpolargl": [
           {
            "marker": {
             "colorbar": {
              "outlinewidth": 0,
              "ticks": ""
             }
            },
            "type": "scatterpolargl"
           }
          ],
          "scatterternary": [
           {
            "marker": {
             "colorbar": {
              "outlinewidth": 0,
              "ticks": ""
             }
            },
            "type": "scatterternary"
           }
          ],
          "surface": [
           {
            "colorbar": {
             "outlinewidth": 0,
             "ticks": ""
            },
            "colorscale": [
             [
              0,
              "#0d0887"
             ],
             [
              0.1111111111111111,
              "#46039f"
             ],
             [
              0.2222222222222222,
              "#7201a8"
             ],
             [
              0.3333333333333333,
              "#9c179e"
             ],
             [
              0.4444444444444444,
              "#bd3786"
             ],
             [
              0.5555555555555556,
              "#d8576b"
             ],
             [
              0.6666666666666666,
              "#ed7953"
             ],
             [
              0.7777777777777778,
              "#fb9f3a"
             ],
             [
              0.8888888888888888,
              "#fdca26"
             ],
             [
              1,
              "#f0f921"
             ]
            ],
            "type": "surface"
           }
          ],
          "table": [
           {
            "cells": {
             "fill": {
              "color": "#EBF0F8"
             },
             "line": {
              "color": "white"
             }
            },
            "header": {
             "fill": {
              "color": "#C8D4E3"
             },
             "line": {
              "color": "white"
             }
            },
            "type": "table"
           }
          ]
         },
         "layout": {
          "annotationdefaults": {
           "arrowcolor": "#2a3f5f",
           "arrowhead": 0,
           "arrowwidth": 1
          },
          "autotypenumbers": "strict",
          "coloraxis": {
           "colorbar": {
            "outlinewidth": 0,
            "ticks": ""
           }
          },
          "colorscale": {
           "diverging": [
            [
             0,
             "#8e0152"
            ],
            [
             0.1,
             "#c51b7d"
            ],
            [
             0.2,
             "#de77ae"
            ],
            [
             0.3,
             "#f1b6da"
            ],
            [
             0.4,
             "#fde0ef"
            ],
            [
             0.5,
             "#f7f7f7"
            ],
            [
             0.6,
             "#e6f5d0"
            ],
            [
             0.7,
             "#b8e186"
            ],
            [
             0.8,
             "#7fbc41"
            ],
            [
             0.9,
             "#4d9221"
            ],
            [
             1,
             "#276419"
            ]
           ],
           "sequential": [
            [
             0,
             "#0d0887"
            ],
            [
             0.1111111111111111,
             "#46039f"
            ],
            [
             0.2222222222222222,
             "#7201a8"
            ],
            [
             0.3333333333333333,
             "#9c179e"
            ],
            [
             0.4444444444444444,
             "#bd3786"
            ],
            [
             0.5555555555555556,
             "#d8576b"
            ],
            [
             0.6666666666666666,
             "#ed7953"
            ],
            [
             0.7777777777777778,
             "#fb9f3a"
            ],
            [
             0.8888888888888888,
             "#fdca26"
            ],
            [
             1,
             "#f0f921"
            ]
           ],
           "sequentialminus": [
            [
             0,
             "#0d0887"
            ],
            [
             0.1111111111111111,
             "#46039f"
            ],
            [
             0.2222222222222222,
             "#7201a8"
            ],
            [
             0.3333333333333333,
             "#9c179e"
            ],
            [
             0.4444444444444444,
             "#bd3786"
            ],
            [
             0.5555555555555556,
             "#d8576b"
            ],
            [
             0.6666666666666666,
             "#ed7953"
            ],
            [
             0.7777777777777778,
             "#fb9f3a"
            ],
            [
             0.8888888888888888,
             "#fdca26"
            ],
            [
             1,
             "#f0f921"
            ]
           ]
          },
          "colorway": [
           "#636efa",
           "#EF553B",
           "#00cc96",
           "#ab63fa",
           "#FFA15A",
           "#19d3f3",
           "#FF6692",
           "#B6E880",
           "#FF97FF",
           "#FECB52"
          ],
          "font": {
           "color": "#2a3f5f"
          },
          "geo": {
           "bgcolor": "white",
           "lakecolor": "white",
           "landcolor": "#E5ECF6",
           "showlakes": true,
           "showland": true,
           "subunitcolor": "white"
          },
          "hoverlabel": {
           "align": "left"
          },
          "hovermode": "closest",
          "mapbox": {
           "style": "light"
          },
          "paper_bgcolor": "white",
          "plot_bgcolor": "#E5ECF6",
          "polar": {
           "angularaxis": {
            "gridcolor": "white",
            "linecolor": "white",
            "ticks": ""
           },
           "bgcolor": "#E5ECF6",
           "radialaxis": {
            "gridcolor": "white",
            "linecolor": "white",
            "ticks": ""
           }
          },
          "scene": {
           "xaxis": {
            "backgroundcolor": "#E5ECF6",
            "gridcolor": "white",
            "gridwidth": 2,
            "linecolor": "white",
            "showbackground": true,
            "ticks": "",
            "zerolinecolor": "white"
           },
           "yaxis": {
            "backgroundcolor": "#E5ECF6",
            "gridcolor": "white",
            "gridwidth": 2,
            "linecolor": "white",
            "showbackground": true,
            "ticks": "",
            "zerolinecolor": "white"
           },
           "zaxis": {
            "backgroundcolor": "#E5ECF6",
            "gridcolor": "white",
            "gridwidth": 2,
            "linecolor": "white",
            "showbackground": true,
            "ticks": "",
            "zerolinecolor": "white"
           }
          },
          "shapedefaults": {
           "line": {
            "color": "#2a3f5f"
           }
          },
          "ternary": {
           "aaxis": {
            "gridcolor": "white",
            "linecolor": "white",
            "ticks": ""
           },
           "baxis": {
            "gridcolor": "white",
            "linecolor": "white",
            "ticks": ""
           },
           "bgcolor": "#E5ECF6",
           "caxis": {
            "gridcolor": "white",
            "linecolor": "white",
            "ticks": ""
           }
          },
          "title": {
           "x": 0.05
          },
          "xaxis": {
           "automargin": true,
           "gridcolor": "white",
           "linecolor": "white",
           "ticks": "",
           "title": {
            "standoff": 15
           },
           "zerolinecolor": "white",
           "zerolinewidth": 2
          },
          "yaxis": {
           "automargin": true,
           "gridcolor": "white",
           "linecolor": "white",
           "ticks": "",
           "title": {
            "standoff": 15
           },
           "zerolinecolor": "white",
           "zerolinewidth": 2
          }
         }
        },
        "title": {
         "text": "Tagi z najgorszymi ocenami (ważone liczbą recenzji)"
        },
        "xaxis": {
         "tickangle": 45,
         "title": {
          "text": "Tagi"
         }
        },
        "yaxis": {
         "tickfont": {
          "color": "#90CAF9"
         },
         "title": {
          "font": {
           "color": "#90CAF9"
          },
          "text": "Średnia ocena"
         }
        },
        "yaxis2": {
         "overlaying": "y",
         "side": "right",
         "tickfont": {
          "color": "red"
         },
         "title": {
          "font": {
           "color": "red"
          },
          "text": "Średnia cena (zł)"
         }
        }
       }
      }
     },
     "metadata": {},
     "output_type": "display_data"
    }
   ],
   "source": [
    "import plotly.graph_objects as go\n",
    "\n",
    "# Obliczanie wyników\n",
    "top_positive_tags, top_negative_tags = avg_sentiment_and_price_per_tag(df, top_n=15, min_games=3)\n",
    "\n",
    "def create_dual_axis_chart(df, title):\n",
    "    fig = go.Figure()\n",
    "\n",
    "    # Słupki dla średniej oceny\n",
    "    fig.add_trace(go.Bar(\n",
    "        x=df['Tag'],\n",
    "        y=df['Average Sentiment'],\n",
    "        name='Średnia ocena',\n",
    "        marker_color='#90CAF9',  # Łagodny pastelowy niebieski\n",
    "        yaxis='y1'\n",
    "    ))\n",
    "\n",
    "    # Linie i punkty dla średniej ceny\n",
    "    fig.add_trace(go.Scatter(\n",
    "        x=df['Tag'],\n",
    "        y=df['Average Price'],\n",
    "        name='Średnia cena',\n",
    "        mode='lines+markers',\n",
    "        marker=dict(color='red', size=10),\n",
    "        line=dict(width=2, dash='dot'),\n",
    "        yaxis='y2'\n",
    "    ))\n",
    "\n",
    "    # Konfiguracja osi Y\n",
    "    fig.update_layout(\n",
    "        title=title,\n",
    "        xaxis=dict(title='Tagi', tickangle=45),\n",
    "        yaxis=dict(\n",
    "            title='Średnia ocena',\n",
    "            titlefont=dict(color='#90CAF9'),  # Dopasowany kolor tytułu osi\n",
    "            tickfont=dict(color='#90CAF9'),\n",
    "        ),\n",
    "        yaxis2=dict(\n",
    "            title='Średnia cena (zł)',\n",
    "            titlefont=dict(color='red'),\n",
    "            tickfont=dict(color='red'),\n",
    "            overlaying='y',\n",
    "            side='right'\n",
    "        ),\n",
    "        legend=dict(x=0.5, y=1.1, orientation='h')\n",
    "    )\n",
    "\n",
    "    return fig\n",
    "\n",
    "# Przygotowanie wykresów dla najlepszych i najgorszych tagów\n",
    "fig_positive = create_dual_axis_chart(top_positive_tags, 'Tagi z najlepszymi ocenami (ważone liczbą recenzji)')\n",
    "fig_negative = create_dual_axis_chart(top_negative_tags, 'Tagi z najgorszymi ocenami (ważone liczbą recenzji)')\n",
    "\n",
    "# Wyświetlenie wykresów\n",
    "fig_positive.show()\n",
    "fig_negative.show()\n"
   ]
  },
  {
   "cell_type": "code",
   "execution_count": 64,
   "metadata": {},
   "outputs": [
    {
     "data": {
      "application/vnd.plotly.v1+json": {
       "config": {
        "plotlyServerURL": "https://plot.ly"
       },
       "data": [
        {
         "alignmentgroup": "True",
         "hovertemplate": "Tag=%{x}<br>Średnia liczba recenzji=%{y}<extra></extra>",
         "legendgroup": "",
         "marker": {
          "color": "#636efa",
          "pattern": {
           "shape": ""
          }
         },
         "name": "",
         "offsetgroup": "",
         "orientation": "v",
         "showlegend": false,
         "textposition": "auto",
         "type": "bar",
         "x": [
          "Battle royale",
          "Nagość",
          "Dedukcyjne towarzyskie",
          "Strzelanka z bohaterami",
          "Zespołowe",
          "Strzelanka z łupami",
          "Krasnoludy",
          "Free to Play",
          "Koty",
          "PvE",
          "Podwodne",
          "Remake",
          "Wieloosobowe",
          "Sieciowa kooperacja",
          "Wojskowe",
          "Szybkie tempo",
          "Zombie",
          "Czarny humor",
          "FPS",
          "Świetna ścieżka dźwiękowa"
         ],
         "xaxis": "x",
         "y": [
          976248,
          358744,
          208300.66666666666,
          170629,
          162772,
          149333.2,
          148355.5,
          136088.04166666666,
          134727,
          125502,
          118968.33333333333,
          113307,
          95487.29487179487,
          92577.72727272728,
          83448.66666666667,
          81070.33333333333,
          79899.96428571429,
          76535.8,
          75871.66666666667,
          71087.5
         ],
         "yaxis": "y"
        }
       ],
       "layout": {
        "barmode": "relative",
        "legend": {
         "tracegroupgap": 0
        },
        "template": {
         "data": {
          "bar": [
           {
            "error_x": {
             "color": "#2a3f5f"
            },
            "error_y": {
             "color": "#2a3f5f"
            },
            "marker": {
             "line": {
              "color": "#E5ECF6",
              "width": 0.5
             },
             "pattern": {
              "fillmode": "overlay",
              "size": 10,
              "solidity": 0.2
             }
            },
            "type": "bar"
           }
          ],
          "barpolar": [
           {
            "marker": {
             "line": {
              "color": "#E5ECF6",
              "width": 0.5
             },
             "pattern": {
              "fillmode": "overlay",
              "size": 10,
              "solidity": 0.2
             }
            },
            "type": "barpolar"
           }
          ],
          "carpet": [
           {
            "aaxis": {
             "endlinecolor": "#2a3f5f",
             "gridcolor": "white",
             "linecolor": "white",
             "minorgridcolor": "white",
             "startlinecolor": "#2a3f5f"
            },
            "baxis": {
             "endlinecolor": "#2a3f5f",
             "gridcolor": "white",
             "linecolor": "white",
             "minorgridcolor": "white",
             "startlinecolor": "#2a3f5f"
            },
            "type": "carpet"
           }
          ],
          "choropleth": [
           {
            "colorbar": {
             "outlinewidth": 0,
             "ticks": ""
            },
            "type": "choropleth"
           }
          ],
          "contour": [
           {
            "colorbar": {
             "outlinewidth": 0,
             "ticks": ""
            },
            "colorscale": [
             [
              0,
              "#0d0887"
             ],
             [
              0.1111111111111111,
              "#46039f"
             ],
             [
              0.2222222222222222,
              "#7201a8"
             ],
             [
              0.3333333333333333,
              "#9c179e"
             ],
             [
              0.4444444444444444,
              "#bd3786"
             ],
             [
              0.5555555555555556,
              "#d8576b"
             ],
             [
              0.6666666666666666,
              "#ed7953"
             ],
             [
              0.7777777777777778,
              "#fb9f3a"
             ],
             [
              0.8888888888888888,
              "#fdca26"
             ],
             [
              1,
              "#f0f921"
             ]
            ],
            "type": "contour"
           }
          ],
          "contourcarpet": [
           {
            "colorbar": {
             "outlinewidth": 0,
             "ticks": ""
            },
            "type": "contourcarpet"
           }
          ],
          "heatmap": [
           {
            "colorbar": {
             "outlinewidth": 0,
             "ticks": ""
            },
            "colorscale": [
             [
              0,
              "#0d0887"
             ],
             [
              0.1111111111111111,
              "#46039f"
             ],
             [
              0.2222222222222222,
              "#7201a8"
             ],
             [
              0.3333333333333333,
              "#9c179e"
             ],
             [
              0.4444444444444444,
              "#bd3786"
             ],
             [
              0.5555555555555556,
              "#d8576b"
             ],
             [
              0.6666666666666666,
              "#ed7953"
             ],
             [
              0.7777777777777778,
              "#fb9f3a"
             ],
             [
              0.8888888888888888,
              "#fdca26"
             ],
             [
              1,
              "#f0f921"
             ]
            ],
            "type": "heatmap"
           }
          ],
          "heatmapgl": [
           {
            "colorbar": {
             "outlinewidth": 0,
             "ticks": ""
            },
            "colorscale": [
             [
              0,
              "#0d0887"
             ],
             [
              0.1111111111111111,
              "#46039f"
             ],
             [
              0.2222222222222222,
              "#7201a8"
             ],
             [
              0.3333333333333333,
              "#9c179e"
             ],
             [
              0.4444444444444444,
              "#bd3786"
             ],
             [
              0.5555555555555556,
              "#d8576b"
             ],
             [
              0.6666666666666666,
              "#ed7953"
             ],
             [
              0.7777777777777778,
              "#fb9f3a"
             ],
             [
              0.8888888888888888,
              "#fdca26"
             ],
             [
              1,
              "#f0f921"
             ]
            ],
            "type": "heatmapgl"
           }
          ],
          "histogram": [
           {
            "marker": {
             "pattern": {
              "fillmode": "overlay",
              "size": 10,
              "solidity": 0.2
             }
            },
            "type": "histogram"
           }
          ],
          "histogram2d": [
           {
            "colorbar": {
             "outlinewidth": 0,
             "ticks": ""
            },
            "colorscale": [
             [
              0,
              "#0d0887"
             ],
             [
              0.1111111111111111,
              "#46039f"
             ],
             [
              0.2222222222222222,
              "#7201a8"
             ],
             [
              0.3333333333333333,
              "#9c179e"
             ],
             [
              0.4444444444444444,
              "#bd3786"
             ],
             [
              0.5555555555555556,
              "#d8576b"
             ],
             [
              0.6666666666666666,
              "#ed7953"
             ],
             [
              0.7777777777777778,
              "#fb9f3a"
             ],
             [
              0.8888888888888888,
              "#fdca26"
             ],
             [
              1,
              "#f0f921"
             ]
            ],
            "type": "histogram2d"
           }
          ],
          "histogram2dcontour": [
           {
            "colorbar": {
             "outlinewidth": 0,
             "ticks": ""
            },
            "colorscale": [
             [
              0,
              "#0d0887"
             ],
             [
              0.1111111111111111,
              "#46039f"
             ],
             [
              0.2222222222222222,
              "#7201a8"
             ],
             [
              0.3333333333333333,
              "#9c179e"
             ],
             [
              0.4444444444444444,
              "#bd3786"
             ],
             [
              0.5555555555555556,
              "#d8576b"
             ],
             [
              0.6666666666666666,
              "#ed7953"
             ],
             [
              0.7777777777777778,
              "#fb9f3a"
             ],
             [
              0.8888888888888888,
              "#fdca26"
             ],
             [
              1,
              "#f0f921"
             ]
            ],
            "type": "histogram2dcontour"
           }
          ],
          "mesh3d": [
           {
            "colorbar": {
             "outlinewidth": 0,
             "ticks": ""
            },
            "type": "mesh3d"
           }
          ],
          "parcoords": [
           {
            "line": {
             "colorbar": {
              "outlinewidth": 0,
              "ticks": ""
             }
            },
            "type": "parcoords"
           }
          ],
          "pie": [
           {
            "automargin": true,
            "type": "pie"
           }
          ],
          "scatter": [
           {
            "fillpattern": {
             "fillmode": "overlay",
             "size": 10,
             "solidity": 0.2
            },
            "type": "scatter"
           }
          ],
          "scatter3d": [
           {
            "line": {
             "colorbar": {
              "outlinewidth": 0,
              "ticks": ""
             }
            },
            "marker": {
             "colorbar": {
              "outlinewidth": 0,
              "ticks": ""
             }
            },
            "type": "scatter3d"
           }
          ],
          "scattercarpet": [
           {
            "marker": {
             "colorbar": {
              "outlinewidth": 0,
              "ticks": ""
             }
            },
            "type": "scattercarpet"
           }
          ],
          "scattergeo": [
           {
            "marker": {
             "colorbar": {
              "outlinewidth": 0,
              "ticks": ""
             }
            },
            "type": "scattergeo"
           }
          ],
          "scattergl": [
           {
            "marker": {
             "colorbar": {
              "outlinewidth": 0,
              "ticks": ""
             }
            },
            "type": "scattergl"
           }
          ],
          "scattermapbox": [
           {
            "marker": {
             "colorbar": {
              "outlinewidth": 0,
              "ticks": ""
             }
            },
            "type": "scattermapbox"
           }
          ],
          "scatterpolar": [
           {
            "marker": {
             "colorbar": {
              "outlinewidth": 0,
              "ticks": ""
             }
            },
            "type": "scatterpolar"
           }
          ],
          "scatterpolargl": [
           {
            "marker": {
             "colorbar": {
              "outlinewidth": 0,
              "ticks": ""
             }
            },
            "type": "scatterpolargl"
           }
          ],
          "scatterternary": [
           {
            "marker": {
             "colorbar": {
              "outlinewidth": 0,
              "ticks": ""
             }
            },
            "type": "scatterternary"
           }
          ],
          "surface": [
           {
            "colorbar": {
             "outlinewidth": 0,
             "ticks": ""
            },
            "colorscale": [
             [
              0,
              "#0d0887"
             ],
             [
              0.1111111111111111,
              "#46039f"
             ],
             [
              0.2222222222222222,
              "#7201a8"
             ],
             [
              0.3333333333333333,
              "#9c179e"
             ],
             [
              0.4444444444444444,
              "#bd3786"
             ],
             [
              0.5555555555555556,
              "#d8576b"
             ],
             [
              0.6666666666666666,
              "#ed7953"
             ],
             [
              0.7777777777777778,
              "#fb9f3a"
             ],
             [
              0.8888888888888888,
              "#fdca26"
             ],
             [
              1,
              "#f0f921"
             ]
            ],
            "type": "surface"
           }
          ],
          "table": [
           {
            "cells": {
             "fill": {
              "color": "#EBF0F8"
             },
             "line": {
              "color": "white"
             }
            },
            "header": {
             "fill": {
              "color": "#C8D4E3"
             },
             "line": {
              "color": "white"
             }
            },
            "type": "table"
           }
          ]
         },
         "layout": {
          "annotationdefaults": {
           "arrowcolor": "#2a3f5f",
           "arrowhead": 0,
           "arrowwidth": 1
          },
          "autotypenumbers": "strict",
          "coloraxis": {
           "colorbar": {
            "outlinewidth": 0,
            "ticks": ""
           }
          },
          "colorscale": {
           "diverging": [
            [
             0,
             "#8e0152"
            ],
            [
             0.1,
             "#c51b7d"
            ],
            [
             0.2,
             "#de77ae"
            ],
            [
             0.3,
             "#f1b6da"
            ],
            [
             0.4,
             "#fde0ef"
            ],
            [
             0.5,
             "#f7f7f7"
            ],
            [
             0.6,
             "#e6f5d0"
            ],
            [
             0.7,
             "#b8e186"
            ],
            [
             0.8,
             "#7fbc41"
            ],
            [
             0.9,
             "#4d9221"
            ],
            [
             1,
             "#276419"
            ]
           ],
           "sequential": [
            [
             0,
             "#0d0887"
            ],
            [
             0.1111111111111111,
             "#46039f"
            ],
            [
             0.2222222222222222,
             "#7201a8"
            ],
            [
             0.3333333333333333,
             "#9c179e"
            ],
            [
             0.4444444444444444,
             "#bd3786"
            ],
            [
             0.5555555555555556,
             "#d8576b"
            ],
            [
             0.6666666666666666,
             "#ed7953"
            ],
            [
             0.7777777777777778,
             "#fb9f3a"
            ],
            [
             0.8888888888888888,
             "#fdca26"
            ],
            [
             1,
             "#f0f921"
            ]
           ],
           "sequentialminus": [
            [
             0,
             "#0d0887"
            ],
            [
             0.1111111111111111,
             "#46039f"
            ],
            [
             0.2222222222222222,
             "#7201a8"
            ],
            [
             0.3333333333333333,
             "#9c179e"
            ],
            [
             0.4444444444444444,
             "#bd3786"
            ],
            [
             0.5555555555555556,
             "#d8576b"
            ],
            [
             0.6666666666666666,
             "#ed7953"
            ],
            [
             0.7777777777777778,
             "#fb9f3a"
            ],
            [
             0.8888888888888888,
             "#fdca26"
            ],
            [
             1,
             "#f0f921"
            ]
           ]
          },
          "colorway": [
           "#636efa",
           "#EF553B",
           "#00cc96",
           "#ab63fa",
           "#FFA15A",
           "#19d3f3",
           "#FF6692",
           "#B6E880",
           "#FF97FF",
           "#FECB52"
          ],
          "font": {
           "color": "#2a3f5f"
          },
          "geo": {
           "bgcolor": "white",
           "lakecolor": "white",
           "landcolor": "#E5ECF6",
           "showlakes": true,
           "showland": true,
           "subunitcolor": "white"
          },
          "hoverlabel": {
           "align": "left"
          },
          "hovermode": "closest",
          "mapbox": {
           "style": "light"
          },
          "paper_bgcolor": "white",
          "plot_bgcolor": "#E5ECF6",
          "polar": {
           "angularaxis": {
            "gridcolor": "white",
            "linecolor": "white",
            "ticks": ""
           },
           "bgcolor": "#E5ECF6",
           "radialaxis": {
            "gridcolor": "white",
            "linecolor": "white",
            "ticks": ""
           }
          },
          "scene": {
           "xaxis": {
            "backgroundcolor": "#E5ECF6",
            "gridcolor": "white",
            "gridwidth": 2,
            "linecolor": "white",
            "showbackground": true,
            "ticks": "",
            "zerolinecolor": "white"
           },
           "yaxis": {
            "backgroundcolor": "#E5ECF6",
            "gridcolor": "white",
            "gridwidth": 2,
            "linecolor": "white",
            "showbackground": true,
            "ticks": "",
            "zerolinecolor": "white"
           },
           "zaxis": {
            "backgroundcolor": "#E5ECF6",
            "gridcolor": "white",
            "gridwidth": 2,
            "linecolor": "white",
            "showbackground": true,
            "ticks": "",
            "zerolinecolor": "white"
           }
          },
          "shapedefaults": {
           "line": {
            "color": "#2a3f5f"
           }
          },
          "ternary": {
           "aaxis": {
            "gridcolor": "white",
            "linecolor": "white",
            "ticks": ""
           },
           "baxis": {
            "gridcolor": "white",
            "linecolor": "white",
            "ticks": ""
           },
           "bgcolor": "#E5ECF6",
           "caxis": {
            "gridcolor": "white",
            "linecolor": "white",
            "ticks": ""
           }
          },
          "title": {
           "x": 0.05
          },
          "xaxis": {
           "automargin": true,
           "gridcolor": "white",
           "linecolor": "white",
           "ticks": "",
           "title": {
            "standoff": 15
           },
           "zerolinecolor": "white",
           "zerolinewidth": 2
          },
          "yaxis": {
           "automargin": true,
           "gridcolor": "white",
           "linecolor": "white",
           "ticks": "",
           "title": {
            "standoff": 15
           },
           "zerolinecolor": "white",
           "zerolinewidth": 2
          }
         }
        },
        "title": {
         "text": "Średnia liczba recenzji na najpopularniejsze tagi"
        },
        "xaxis": {
         "anchor": "y",
         "domain": [
          0,
          1
         ],
         "tickangle": 45,
         "title": {
          "text": "Tag"
         }
        },
        "yaxis": {
         "anchor": "x",
         "domain": [
          0,
          1
         ],
         "title": {
          "text": "Średnia liczba recenzji"
         }
        }
       }
      }
     },
     "metadata": {},
     "output_type": "display_data"
    }
   ],
   "source": [
    "def avg_reviews_per_tag(df, top_n=20):\n",
    "    tags = df['Tagi'].apply(lambda x: x.split(', '))\n",
    "    tag_reviews = Counter()\n",
    "    tag_counts = Counter()\n",
    "\n",
    "    for idx, tag_list in enumerate(tags):\n",
    "        for tag in tag_list:\n",
    "            tag_reviews[tag] += df.iloc[idx]['Liczba recenzji']\n",
    "            tag_counts[tag] += 1\n",
    "\n",
    "    avg_reviews = {tag: tag_reviews[tag] / tag_counts[tag] for tag in tag_counts}\n",
    "    avg_reviews_df = pd.DataFrame(list(avg_reviews.items()), columns=['Tag', 'Average Reviews'])\n",
    "    return avg_reviews_df.nlargest(top_n, 'Average Reviews')\n",
    "\n",
    "# Analiza\n",
    "tag_avg_reviews_df = avg_reviews_per_tag(df)\n",
    "\n",
    "# Wizualizacja\n",
    "fig = px.bar(tag_avg_reviews_df, x='Tag', y='Average Reviews',\n",
    "             title='Średnia liczba recenzji na najpopularniejsze tagi',\n",
    "             labels={'Average Reviews': 'Średnia liczba recenzji'})\n",
    "fig.update_layout(xaxis_tickangle=45)\n",
    "fig.show()\n"
   ]
  },
  {
   "cell_type": "code",
   "execution_count": 65,
   "metadata": {},
   "outputs": [
    {
     "data": {
      "application/vnd.plotly.v1+json": {
       "config": {
        "plotlyServerURL": "https://plot.ly"
       },
       "data": [
        {
         "alignmentgroup": "True",
         "hovertemplate": "Tag=%{x}<br>Średnia cena=%{y}<extra></extra>",
         "legendgroup": "",
         "marker": {
          "color": "#636efa",
          "pattern": {
           "shape": ""
          }
         },
         "name": "",
         "offsetgroup": "",
         "orientation": "v",
         "showlegend": false,
         "textposition": "auto",
         "type": "bar",
         "x": [
          "Gospodarka",
          "Skrytobójca",
          "Wojskowe",
          "LEGO",
          "Symulator farmy",
          "Perspektywa trzeciej osoby",
          "Nagość",
          "RPG akcji",
          "Mroczne fantasy",
          "Narracja",
          "Transhumanizm",
          "Nauka",
          "Trudne",
          "Platformowe 3D",
          "Taktyczne RPG",
          "Latanie",
          "Parkour",
          "Souls-like",
          "Piaskownica",
          "Przygodowe akcji"
         ],
         "xaxis": "x",
         "y": [
          199.99,
          159.9,
          147.76,
          142.99333333333334,
          132.49,
          130.34428571428572,
          126.495,
          122.09200000000001,
          120.55250000000001,
          118.3,
          118.14,
          109.174,
          105.59,
          103.674,
          101.74,
          98.04,
          97.2175,
          95.74000000000001,
          95.09518518518516,
          94.03099999999999
         ],
         "yaxis": "y"
        }
       ],
       "layout": {
        "barmode": "relative",
        "legend": {
         "tracegroupgap": 0
        },
        "template": {
         "data": {
          "bar": [
           {
            "error_x": {
             "color": "#2a3f5f"
            },
            "error_y": {
             "color": "#2a3f5f"
            },
            "marker": {
             "line": {
              "color": "#E5ECF6",
              "width": 0.5
             },
             "pattern": {
              "fillmode": "overlay",
              "size": 10,
              "solidity": 0.2
             }
            },
            "type": "bar"
           }
          ],
          "barpolar": [
           {
            "marker": {
             "line": {
              "color": "#E5ECF6",
              "width": 0.5
             },
             "pattern": {
              "fillmode": "overlay",
              "size": 10,
              "solidity": 0.2
             }
            },
            "type": "barpolar"
           }
          ],
          "carpet": [
           {
            "aaxis": {
             "endlinecolor": "#2a3f5f",
             "gridcolor": "white",
             "linecolor": "white",
             "minorgridcolor": "white",
             "startlinecolor": "#2a3f5f"
            },
            "baxis": {
             "endlinecolor": "#2a3f5f",
             "gridcolor": "white",
             "linecolor": "white",
             "minorgridcolor": "white",
             "startlinecolor": "#2a3f5f"
            },
            "type": "carpet"
           }
          ],
          "choropleth": [
           {
            "colorbar": {
             "outlinewidth": 0,
             "ticks": ""
            },
            "type": "choropleth"
           }
          ],
          "contour": [
           {
            "colorbar": {
             "outlinewidth": 0,
             "ticks": ""
            },
            "colorscale": [
             [
              0,
              "#0d0887"
             ],
             [
              0.1111111111111111,
              "#46039f"
             ],
             [
              0.2222222222222222,
              "#7201a8"
             ],
             [
              0.3333333333333333,
              "#9c179e"
             ],
             [
              0.4444444444444444,
              "#bd3786"
             ],
             [
              0.5555555555555556,
              "#d8576b"
             ],
             [
              0.6666666666666666,
              "#ed7953"
             ],
             [
              0.7777777777777778,
              "#fb9f3a"
             ],
             [
              0.8888888888888888,
              "#fdca26"
             ],
             [
              1,
              "#f0f921"
             ]
            ],
            "type": "contour"
           }
          ],
          "contourcarpet": [
           {
            "colorbar": {
             "outlinewidth": 0,
             "ticks": ""
            },
            "type": "contourcarpet"
           }
          ],
          "heatmap": [
           {
            "colorbar": {
             "outlinewidth": 0,
             "ticks": ""
            },
            "colorscale": [
             [
              0,
              "#0d0887"
             ],
             [
              0.1111111111111111,
              "#46039f"
             ],
             [
              0.2222222222222222,
              "#7201a8"
             ],
             [
              0.3333333333333333,
              "#9c179e"
             ],
             [
              0.4444444444444444,
              "#bd3786"
             ],
             [
              0.5555555555555556,
              "#d8576b"
             ],
             [
              0.6666666666666666,
              "#ed7953"
             ],
             [
              0.7777777777777778,
              "#fb9f3a"
             ],
             [
              0.8888888888888888,
              "#fdca26"
             ],
             [
              1,
              "#f0f921"
             ]
            ],
            "type": "heatmap"
           }
          ],
          "heatmapgl": [
           {
            "colorbar": {
             "outlinewidth": 0,
             "ticks": ""
            },
            "colorscale": [
             [
              0,
              "#0d0887"
             ],
             [
              0.1111111111111111,
              "#46039f"
             ],
             [
              0.2222222222222222,
              "#7201a8"
             ],
             [
              0.3333333333333333,
              "#9c179e"
             ],
             [
              0.4444444444444444,
              "#bd3786"
             ],
             [
              0.5555555555555556,
              "#d8576b"
             ],
             [
              0.6666666666666666,
              "#ed7953"
             ],
             [
              0.7777777777777778,
              "#fb9f3a"
             ],
             [
              0.8888888888888888,
              "#fdca26"
             ],
             [
              1,
              "#f0f921"
             ]
            ],
            "type": "heatmapgl"
           }
          ],
          "histogram": [
           {
            "marker": {
             "pattern": {
              "fillmode": "overlay",
              "size": 10,
              "solidity": 0.2
             }
            },
            "type": "histogram"
           }
          ],
          "histogram2d": [
           {
            "colorbar": {
             "outlinewidth": 0,
             "ticks": ""
            },
            "colorscale": [
             [
              0,
              "#0d0887"
             ],
             [
              0.1111111111111111,
              "#46039f"
             ],
             [
              0.2222222222222222,
              "#7201a8"
             ],
             [
              0.3333333333333333,
              "#9c179e"
             ],
             [
              0.4444444444444444,
              "#bd3786"
             ],
             [
              0.5555555555555556,
              "#d8576b"
             ],
             [
              0.6666666666666666,
              "#ed7953"
             ],
             [
              0.7777777777777778,
              "#fb9f3a"
             ],
             [
              0.8888888888888888,
              "#fdca26"
             ],
             [
              1,
              "#f0f921"
             ]
            ],
            "type": "histogram2d"
           }
          ],
          "histogram2dcontour": [
           {
            "colorbar": {
             "outlinewidth": 0,
             "ticks": ""
            },
            "colorscale": [
             [
              0,
              "#0d0887"
             ],
             [
              0.1111111111111111,
              "#46039f"
             ],
             [
              0.2222222222222222,
              "#7201a8"
             ],
             [
              0.3333333333333333,
              "#9c179e"
             ],
             [
              0.4444444444444444,
              "#bd3786"
             ],
             [
              0.5555555555555556,
              "#d8576b"
             ],
             [
              0.6666666666666666,
              "#ed7953"
             ],
             [
              0.7777777777777778,
              "#fb9f3a"
             ],
             [
              0.8888888888888888,
              "#fdca26"
             ],
             [
              1,
              "#f0f921"
             ]
            ],
            "type": "histogram2dcontour"
           }
          ],
          "mesh3d": [
           {
            "colorbar": {
             "outlinewidth": 0,
             "ticks": ""
            },
            "type": "mesh3d"
           }
          ],
          "parcoords": [
           {
            "line": {
             "colorbar": {
              "outlinewidth": 0,
              "ticks": ""
             }
            },
            "type": "parcoords"
           }
          ],
          "pie": [
           {
            "automargin": true,
            "type": "pie"
           }
          ],
          "scatter": [
           {
            "fillpattern": {
             "fillmode": "overlay",
             "size": 10,
             "solidity": 0.2
            },
            "type": "scatter"
           }
          ],
          "scatter3d": [
           {
            "line": {
             "colorbar": {
              "outlinewidth": 0,
              "ticks": ""
             }
            },
            "marker": {
             "colorbar": {
              "outlinewidth": 0,
              "ticks": ""
             }
            },
            "type": "scatter3d"
           }
          ],
          "scattercarpet": [
           {
            "marker": {
             "colorbar": {
              "outlinewidth": 0,
              "ticks": ""
             }
            },
            "type": "scattercarpet"
           }
          ],
          "scattergeo": [
           {
            "marker": {
             "colorbar": {
              "outlinewidth": 0,
              "ticks": ""
             }
            },
            "type": "scattergeo"
           }
          ],
          "scattergl": [
           {
            "marker": {
             "colorbar": {
              "outlinewidth": 0,
              "ticks": ""
             }
            },
            "type": "scattergl"
           }
          ],
          "scattermapbox": [
           {
            "marker": {
             "colorbar": {
              "outlinewidth": 0,
              "ticks": ""
             }
            },
            "type": "scattermapbox"
           }
          ],
          "scatterpolar": [
           {
            "marker": {
             "colorbar": {
              "outlinewidth": 0,
              "ticks": ""
             }
            },
            "type": "scatterpolar"
           }
          ],
          "scatterpolargl": [
           {
            "marker": {
             "colorbar": {
              "outlinewidth": 0,
              "ticks": ""
             }
            },
            "type": "scatterpolargl"
           }
          ],
          "scatterternary": [
           {
            "marker": {
             "colorbar": {
              "outlinewidth": 0,
              "ticks": ""
             }
            },
            "type": "scatterternary"
           }
          ],
          "surface": [
           {
            "colorbar": {
             "outlinewidth": 0,
             "ticks": ""
            },
            "colorscale": [
             [
              0,
              "#0d0887"
             ],
             [
              0.1111111111111111,
              "#46039f"
             ],
             [
              0.2222222222222222,
              "#7201a8"
             ],
             [
              0.3333333333333333,
              "#9c179e"
             ],
             [
              0.4444444444444444,
              "#bd3786"
             ],
             [
              0.5555555555555556,
              "#d8576b"
             ],
             [
              0.6666666666666666,
              "#ed7953"
             ],
             [
              0.7777777777777778,
              "#fb9f3a"
             ],
             [
              0.8888888888888888,
              "#fdca26"
             ],
             [
              1,
              "#f0f921"
             ]
            ],
            "type": "surface"
           }
          ],
          "table": [
           {
            "cells": {
             "fill": {
              "color": "#EBF0F8"
             },
             "line": {
              "color": "white"
             }
            },
            "header": {
             "fill": {
              "color": "#C8D4E3"
             },
             "line": {
              "color": "white"
             }
            },
            "type": "table"
           }
          ]
         },
         "layout": {
          "annotationdefaults": {
           "arrowcolor": "#2a3f5f",
           "arrowhead": 0,
           "arrowwidth": 1
          },
          "autotypenumbers": "strict",
          "coloraxis": {
           "colorbar": {
            "outlinewidth": 0,
            "ticks": ""
           }
          },
          "colorscale": {
           "diverging": [
            [
             0,
             "#8e0152"
            ],
            [
             0.1,
             "#c51b7d"
            ],
            [
             0.2,
             "#de77ae"
            ],
            [
             0.3,
             "#f1b6da"
            ],
            [
             0.4,
             "#fde0ef"
            ],
            [
             0.5,
             "#f7f7f7"
            ],
            [
             0.6,
             "#e6f5d0"
            ],
            [
             0.7,
             "#b8e186"
            ],
            [
             0.8,
             "#7fbc41"
            ],
            [
             0.9,
             "#4d9221"
            ],
            [
             1,
             "#276419"
            ]
           ],
           "sequential": [
            [
             0,
             "#0d0887"
            ],
            [
             0.1111111111111111,
             "#46039f"
            ],
            [
             0.2222222222222222,
             "#7201a8"
            ],
            [
             0.3333333333333333,
             "#9c179e"
            ],
            [
             0.4444444444444444,
             "#bd3786"
            ],
            [
             0.5555555555555556,
             "#d8576b"
            ],
            [
             0.6666666666666666,
             "#ed7953"
            ],
            [
             0.7777777777777778,
             "#fb9f3a"
            ],
            [
             0.8888888888888888,
             "#fdca26"
            ],
            [
             1,
             "#f0f921"
            ]
           ],
           "sequentialminus": [
            [
             0,
             "#0d0887"
            ],
            [
             0.1111111111111111,
             "#46039f"
            ],
            [
             0.2222222222222222,
             "#7201a8"
            ],
            [
             0.3333333333333333,
             "#9c179e"
            ],
            [
             0.4444444444444444,
             "#bd3786"
            ],
            [
             0.5555555555555556,
             "#d8576b"
            ],
            [
             0.6666666666666666,
             "#ed7953"
            ],
            [
             0.7777777777777778,
             "#fb9f3a"
            ],
            [
             0.8888888888888888,
             "#fdca26"
            ],
            [
             1,
             "#f0f921"
            ]
           ]
          },
          "colorway": [
           "#636efa",
           "#EF553B",
           "#00cc96",
           "#ab63fa",
           "#FFA15A",
           "#19d3f3",
           "#FF6692",
           "#B6E880",
           "#FF97FF",
           "#FECB52"
          ],
          "font": {
           "color": "#2a3f5f"
          },
          "geo": {
           "bgcolor": "white",
           "lakecolor": "white",
           "landcolor": "#E5ECF6",
           "showlakes": true,
           "showland": true,
           "subunitcolor": "white"
          },
          "hoverlabel": {
           "align": "left"
          },
          "hovermode": "closest",
          "mapbox": {
           "style": "light"
          },
          "paper_bgcolor": "white",
          "plot_bgcolor": "#E5ECF6",
          "polar": {
           "angularaxis": {
            "gridcolor": "white",
            "linecolor": "white",
            "ticks": ""
           },
           "bgcolor": "#E5ECF6",
           "radialaxis": {
            "gridcolor": "white",
            "linecolor": "white",
            "ticks": ""
           }
          },
          "scene": {
           "xaxis": {
            "backgroundcolor": "#E5ECF6",
            "gridcolor": "white",
            "gridwidth": 2,
            "linecolor": "white",
            "showbackground": true,
            "ticks": "",
            "zerolinecolor": "white"
           },
           "yaxis": {
            "backgroundcolor": "#E5ECF6",
            "gridcolor": "white",
            "gridwidth": 2,
            "linecolor": "white",
            "showbackground": true,
            "ticks": "",
            "zerolinecolor": "white"
           },
           "zaxis": {
            "backgroundcolor": "#E5ECF6",
            "gridcolor": "white",
            "gridwidth": 2,
            "linecolor": "white",
            "showbackground": true,
            "ticks": "",
            "zerolinecolor": "white"
           }
          },
          "shapedefaults": {
           "line": {
            "color": "#2a3f5f"
           }
          },
          "ternary": {
           "aaxis": {
            "gridcolor": "white",
            "linecolor": "white",
            "ticks": ""
           },
           "baxis": {
            "gridcolor": "white",
            "linecolor": "white",
            "ticks": ""
           },
           "bgcolor": "#E5ECF6",
           "caxis": {
            "gridcolor": "white",
            "linecolor": "white",
            "ticks": ""
           }
          },
          "title": {
           "x": 0.05
          },
          "xaxis": {
           "automargin": true,
           "gridcolor": "white",
           "linecolor": "white",
           "ticks": "",
           "title": {
            "standoff": 15
           },
           "zerolinecolor": "white",
           "zerolinewidth": 2
          },
          "yaxis": {
           "automargin": true,
           "gridcolor": "white",
           "linecolor": "white",
           "ticks": "",
           "title": {
            "standoff": 15
           },
           "zerolinecolor": "white",
           "zerolinewidth": 2
          }
         }
        },
        "title": {
         "text": "Średnia cena dla najdroższych tagów"
        },
        "xaxis": {
         "anchor": "y",
         "domain": [
          0,
          1
         ],
         "tickangle": 45,
         "title": {
          "text": "Tag"
         }
        },
        "yaxis": {
         "anchor": "x",
         "domain": [
          0,
          1
         ],
         "title": {
          "text": "Średnia cena"
         }
        }
       }
      }
     },
     "metadata": {},
     "output_type": "display_data"
    }
   ],
   "source": [
    "def avg_price_per_tag(df, top_n=20):\n",
    "    tags = df['Tagi'].apply(lambda x: x.split(', '))\n",
    "    tag_prices = Counter()\n",
    "    tag_counts = Counter()\n",
    "\n",
    "    for idx, tag_list in enumerate(tags):\n",
    "        for tag in tag_list:\n",
    "            tag_prices[tag] += df.iloc[idx]['Cena']\n",
    "            tag_counts[tag] += 1\n",
    "\n",
    "    avg_prices = {tag: tag_prices[tag] / tag_counts[tag] for tag in tag_counts}\n",
    "    avg_prices_df = pd.DataFrame(list(avg_prices.items()), columns=['Tag', 'Average Price'])\n",
    "    return avg_prices_df.nlargest(top_n, 'Average Price')\n",
    "\n",
    "# Analiza\n",
    "tag_avg_price_df = avg_price_per_tag(df)\n",
    "\n",
    "# Wizualizacja\n",
    "fig = px.bar(tag_avg_price_df, x='Tag', y='Average Price',\n",
    "             title='Średnia cena dla najdroższych tagów',\n",
    "             labels={'Average Price': 'Średnia cena'})\n",
    "fig.update_layout(xaxis_tickangle=45)\n",
    "fig.show()\n"
   ]
  },
  {
   "cell_type": "code",
   "execution_count": 74,
   "metadata": {},
   "outputs": [
    {
     "ename": "ValueError",
     "evalue": "Value of 'x' is not the name of a column in 'data_frame'. Expected one of ['Tytuł', 'Tagi', 'Cena', 'Data wydania', 'Nacechowanie recenzji', 'Liczba recenzji', 'Tag_2,5D', 'Tag_2D', 'Tag_3D', 'Tag_4X', 'Tag_Akcja', 'Tag_Anime', 'Tag_Autobitewniak', 'Tag_Automatyzacja', 'Tag_Battle royale', \"Tag_Beat 'em up\", 'Tag_Bijatyka', 'Tag_Bijatyka 2D', 'Tag_Bogata fabuła', 'Tag_Bogate uniwersum', 'Tag_Brutalność', 'Tag_Budowanie', 'Tag_Budowanie bazy', 'Tag_Budowanie miasta', 'Tag_Bullet hell', 'Tag_Bullet time', 'Tag_CRPG', 'Tag_Cyberpunk', 'Tag_Czarna komedia', 'Tag_Czarny humor', 'Tag_Czas rzeczywisty', 'Tag_Czas rzeczywisty z pauzą', 'Tag_Dedukcyjne towarzyskie', 'Tag_Demony', 'Tag_Destrukcja', 'Tag_Detektywistyczne', 'Tag_Dinozaury', 'Tag_Dostosowywanie broni palnej', 'Tag_Dostosowywanie postaci', 'Tag_Drużynowe RPG', 'Tag_Dungeon crawler', 'Tag_Dyplomacja', 'Tag_Dystopijne', 'Tag_Dzielony ekran', 'Tag_E-sport', 'Tag_Edukacyjne', 'Tag_Edytor poziomów', 'Tag_Eksperymentalne', 'Tag_Eksploracja', 'Tag_Escape room', 'Tag_FMV', 'Tag_FPS', 'Tag_Familijne', 'Tag_Fantasy', 'Tag_Fikcja interaktywna', 'Tag_Filmowe', 'Tag_Filozoficzne', 'Tag_Fizyka', 'Tag_Free to Play', 'Tag_Futurystyczne', 'Tag_Generacja proceduralna', 'Tag_Gospodarka', 'Tag_Gotowanie', 'Tag_Gra karciana', 'Tag_Gra planszowa', 'Tag_Gra słowna', 'Tag_Gra w boga', 'Tag_Gry na punkty', 'Tag_Górnictwo', 'Tag_Hack and slash', 'Tag_Hakowanie', 'Tag_Historia alternatywna', 'Tag_Horror', 'Tag_Horror psychologiczny', 'Tag_Idlery', 'Tag_Inspirowane Lovecraftem', 'Tag_Izometryczne', 'Tag_JRPG', 'Tag_Jednoosobowe', 'Tag_Kapitalizm', 'Tag_Karciany bitewniak', 'Tag_Kierowanie pojazdem', 'Tag_Klasyczne', 'Tag_Kliker', 'Tag_Klimatyczne', 'Tag_Kolorowe', 'Tag_Komediowe', 'Tag_Komiks', 'Tag_Kooperacja', 'Tag_Kosmici', 'Tag_Kosmos', 'Tag_Koty', 'Tag_Kości do gry', 'Tag_Krasnoludy', 'Tag_Kreskówkowe', 'Tag_Krew', 'Tag_Kultowa klasyka', 'Tag_LEGO', 'Tag_LGBTQ+', 'Tag_Lata 80.', 'Tag_Lata 90.', 'Tag_Latanie', 'Tag_Logiczne', 'Tag_Lokalna kooperacja', 'Tag_MMO', 'Tag_MMORPG', 'Tag_Manipulacja czasem', 'Tag_Mars', 'Tag_Mechy', 'Tag_Metroidvania', 'Tag_Minigry', 'Tag_Minimalistyczne', 'Tag_Modyfikowalne', 'Tag_Morskie', 'Tag_Mroczne', 'Tag_Mroczne fantasy', 'Tag_Muzyczne', 'Tag_Nagość', 'Tag_Narracja', 'Tag_Narracyjne', 'Tag_Natura', 'Tag_Nauka', 'Tag_Nieliniowe', 'Tag_Niezależne', 'Tag_Ninja', 'Tag_Noir', 'Tag_Odcinkowe', 'Tag_Odrzutowce', 'Tag_Okręty podwodne', 'Tag_Otwarty świat', 'Tag_Parkour', 'Tag_Pasjans', 'Tag_Perspektywa pierwszej osoby', 'Tag_Perspektywa trzeciej osoby', 'Tag_Piaskownica', 'Tag_Pikselowa grafika', 'Tag_Platformowe', 'Tag_Platformowe 2D', 'Tag_Platformowe 3D', 'Tag_Podróż w czasie', 'Tag_Podwodne', 'Tag_Polityczne', 'Tag_Polityka', 'Tag_Poruszające', 'Tag_Postapokaliptyczne', 'Tag_Powieść wizualna', 'Tag_Pozytywne', 'Tag_Precyzyjne platformowe', 'Tag_Programowanie', 'Tag_Przemoc', 'Tag_Przestępczość', 'Tag_Przygodowe', 'Tag_Przygodowe akcji', 'Tag_Psychodeliczne', 'Tag_Psychologiczne', 'Tag_PvE', 'Tag_PvP', 'Tag_RPG', 'Tag_RPG akcji', 'Tag_RPGMaker', 'Tag_RTS', 'Tag_RTS akcji', 'Tag_Realistyczne', 'Tag_Regrywalność', 'Tag_Rekreacyjne', 'Tag_Relaksujące', 'Tag_Remake', 'Tag_Retro', 'Tag_Roboty', 'Tag_Roguelike', 'Tag_Roguelike akcji', 'Tag_Roguelike z tworzeniem talii', 'Tag_Roguelite', 'Tag_Romans', 'Tag_Rozgrywane na stole', 'Tag_Rozmowa', 'Tag_Rytmiczne', 'Tag_Rywalizacja', 'Tag_Ręcznie rysowane', 'Tag_Science fiction', \"Tag_Shoot 'em up\", 'Tag_Side-scroller', 'Tag_Sieciowa kooperacja', 'Tag_Skradanie', 'Tag_Skrytobójca', 'Tag_Souls-like', 'Tag_Spisek', 'Tag_Statki kosmiczne', 'Tag_Steampunk', 'Tag_Strategiczne', 'Tag_Strategiczne RPG', 'Tag_Strategiczne globalne', 'Tag_Strategiczne turowe', 'Tag_Strzelanka', 'Tag_Strzelanka arenowa', 'Tag_Strzelanka ewakuacyjna', 'Tag_Strzelanka na dwa drążki', 'Tag_Strzelanka w dawnym stylu', 'Tag_Strzelanka z bohaterami', 'Tag_Strzelanka z perspektywą trzeciej osoby', 'Tag_Strzelanka z widokiem z góry', 'Tag_Strzelanka z łupami', 'Tag_Stylizowane', 'Tag_Superbohater', 'Tag_Surrealistyczne', 'Tag_Survival', 'Tag_Survival horror', 'Tag_Survivalowe w otwartym świecie', 'Tag_Symulator chodzenia', 'Tag_Symulator farmy', 'Tag_Symulator katastroficzny', 'Tag_Symulator kolonizacji', 'Tag_Symulator kosmiczny', 'Tag_Symulator polityczny', 'Tag_Symulator randkowania', 'Tag_Symulator samochodowy', 'Tag_Symulator życia', 'Tag_Symulatory', 'Tag_Sztuki walki', 'Tag_Szybkie tempo', 'Tag_Tajemnicze', 'Tag_Taktyczne', 'Tag_Taktyczne RPG', 'Tag_Taktyczne turowe', 'Tag_Taktyka w czasie rzeczywistym', 'Tag_Thriller', 'Tag_Tower defense', 'Tag_Tradycyjne roguelike', 'Tag_Transhumanizm', 'Tag_Transport', 'Tag_Treści seksualne', 'Tag_Trudne', 'Tag_Trwała śmierć', 'Tag_Turowe', 'Tag_Tworzenie talii', 'Tag_Ukryte przedmioty', 'Tag_Urocze', 'Tag_VR', 'Tag_Walka', 'Tag_Walka morska', 'Tag_Walka na miecze', 'Tag_Walka pojazdami', 'Tag_Walka turowa', 'Tag_Warhammer 40K', 'Tag_Wciągający symulator', 'Tag_Wczesny dostęp', 'Tag_Widok z góry', 'Tag_Widowiskowa bijatyka', 'Tag_Wiele zakończeń', 'Tag_Wieloosobowe', 'Tag_Wojenne', 'Tag_Wojna', 'Tag_Wojskowe', 'Tag_Wskaż i kliknij', 'Tag_Wybierz własną przygodę', 'Tag_Wytwarzanie', 'Tag_Wyścigi z walką', 'Tag_Wyścigowe', 'Tag_Zabawne', 'Tag_Zarządzanie', 'Tag_Zarządzanie czasem', 'Tag_Zarządzanie zasobami', 'Tag_Zbieranie stworów', 'Tag_Zespołowe', 'Tag_Znaczące wybory', 'Tag_Zombie', 'Tag_Zręcznościowe', 'Tag_Zły protagonista', 'Tag_Łamigłówki', 'Tag_Łamigłówki platformowe', 'Tag_Łupy', 'Tag_Śledztwo', 'Tag_Świetna ścieżka dźwiękowa', 'Tag_Żeńska postać w roli głównej', 'sentiment_score', 'Rok wydania', 'Recenzje_grupa'] but received: tag_count",
     "output_type": "error",
     "traceback": [
      "\u001b[1;31m---------------------------------------------------------------------------\u001b[0m",
      "\u001b[1;31mValueError\u001b[0m                                Traceback (most recent call last)",
      "Input \u001b[1;32mIn [74]\u001b[0m, in \u001b[0;36m<cell line: 1>\u001b[1;34m()\u001b[0m\n\u001b[1;32m----> 1\u001b[0m fig \u001b[38;5;241m=\u001b[39m \u001b[43mpx\u001b[49m\u001b[38;5;241;43m.\u001b[39;49m\u001b[43mbox\u001b[49m\u001b[43m(\u001b[49m\u001b[43mdf\u001b[49m\u001b[43m,\u001b[49m\u001b[43m \u001b[49m\u001b[43mx\u001b[49m\u001b[38;5;241;43m=\u001b[39;49m\u001b[38;5;124;43m'\u001b[39;49m\u001b[38;5;124;43mtag_count\u001b[39;49m\u001b[38;5;124;43m'\u001b[39;49m\u001b[43m,\u001b[49m\u001b[43m \u001b[49m\u001b[43my\u001b[49m\u001b[38;5;241;43m=\u001b[39;49m\u001b[38;5;124;43m'\u001b[39;49m\u001b[38;5;124;43mCena\u001b[39;49m\u001b[38;5;124;43m'\u001b[39;49m\u001b[43m,\u001b[49m\u001b[43m \u001b[49m\u001b[43mtitle\u001b[49m\u001b[38;5;241;43m=\u001b[39;49m\u001b[38;5;124;43m'\u001b[39;49m\u001b[38;5;124;43mRozkład cen w zależności od liczby tagów\u001b[39;49m\u001b[38;5;124;43m'\u001b[39;49m\u001b[43m,\u001b[49m\u001b[43m \u001b[49m\u001b[43mlabels\u001b[49m\u001b[38;5;241;43m=\u001b[39;49m\u001b[43m{\u001b[49m\u001b[38;5;124;43m'\u001b[39;49m\u001b[38;5;124;43mtag_count\u001b[39;49m\u001b[38;5;124;43m'\u001b[39;49m\u001b[43m:\u001b[49m\u001b[43m \u001b[49m\u001b[38;5;124;43m'\u001b[39;49m\u001b[38;5;124;43mLiczba tagów\u001b[39;49m\u001b[38;5;124;43m'\u001b[39;49m\u001b[43m,\u001b[49m\u001b[43m \u001b[49m\u001b[38;5;124;43m'\u001b[39;49m\u001b[38;5;124;43mCena\u001b[39;49m\u001b[38;5;124;43m'\u001b[39;49m\u001b[43m:\u001b[49m\u001b[43m \u001b[49m\u001b[38;5;124;43m'\u001b[39;49m\u001b[38;5;124;43mCena (zł)\u001b[39;49m\u001b[38;5;124;43m'\u001b[39;49m\u001b[43m}\u001b[49m\u001b[43m)\u001b[49m\n\u001b[0;32m      2\u001b[0m fig\u001b[38;5;241m.\u001b[39mshow()\n",
      "File \u001b[1;32mc:\\Users\\awodz\\AppData\\Local\\Programs\\Python\\Python310\\lib\\site-packages\\plotly\\express\\_chart_types.py:666\u001b[0m, in \u001b[0;36mbox\u001b[1;34m(data_frame, x, y, color, facet_row, facet_col, facet_col_wrap, facet_row_spacing, facet_col_spacing, hover_name, hover_data, custom_data, animation_frame, animation_group, category_orders, labels, color_discrete_sequence, color_discrete_map, orientation, boxmode, log_x, log_y, range_x, range_y, points, notched, title, template, width, height)\u001b[0m\n\u001b[0;32m    625\u001b[0m \u001b[38;5;28;01mdef\u001b[39;00m \u001b[38;5;21mbox\u001b[39m(\n\u001b[0;32m    626\u001b[0m     data_frame\u001b[38;5;241m=\u001b[39m\u001b[38;5;28;01mNone\u001b[39;00m,\n\u001b[0;32m    627\u001b[0m     x\u001b[38;5;241m=\u001b[39m\u001b[38;5;28;01mNone\u001b[39;00m,\n\u001b[1;32m   (...)\u001b[0m\n\u001b[0;32m    655\u001b[0m     height\u001b[38;5;241m=\u001b[39m\u001b[38;5;28;01mNone\u001b[39;00m,\n\u001b[0;32m    656\u001b[0m ) \u001b[38;5;241m-\u001b[39m\u001b[38;5;241m>\u001b[39m go\u001b[38;5;241m.\u001b[39mFigure:\n\u001b[0;32m    657\u001b[0m \u001b[38;5;250m    \u001b[39m\u001b[38;5;124;03m\"\"\"\u001b[39;00m\n\u001b[0;32m    658\u001b[0m \u001b[38;5;124;03m    In a box plot, rows of `data_frame` are grouped together into a\u001b[39;00m\n\u001b[0;32m    659\u001b[0m \u001b[38;5;124;03m    box-and-whisker mark to visualize their distribution.\u001b[39;00m\n\u001b[1;32m   (...)\u001b[0m\n\u001b[0;32m    664\u001b[0m \u001b[38;5;124;03m    range (IQR: Q3-Q1), see \"points\" for other options.\u001b[39;00m\n\u001b[0;32m    665\u001b[0m \u001b[38;5;124;03m    \"\"\"\u001b[39;00m\n\u001b[1;32m--> 666\u001b[0m     \u001b[38;5;28;01mreturn\u001b[39;00m \u001b[43mmake_figure\u001b[49m\u001b[43m(\u001b[49m\n\u001b[0;32m    667\u001b[0m \u001b[43m        \u001b[49m\u001b[43margs\u001b[49m\u001b[38;5;241;43m=\u001b[39;49m\u001b[38;5;28;43mlocals\u001b[39;49m\u001b[43m(\u001b[49m\u001b[43m)\u001b[49m\u001b[43m,\u001b[49m\n\u001b[0;32m    668\u001b[0m \u001b[43m        \u001b[49m\u001b[43mconstructor\u001b[49m\u001b[38;5;241;43m=\u001b[39;49m\u001b[43mgo\u001b[49m\u001b[38;5;241;43m.\u001b[39;49m\u001b[43mBox\u001b[49m\u001b[43m,\u001b[49m\n\u001b[0;32m    669\u001b[0m \u001b[43m        \u001b[49m\u001b[43mtrace_patch\u001b[49m\u001b[38;5;241;43m=\u001b[39;49m\u001b[38;5;28;43mdict\u001b[39;49m\u001b[43m(\u001b[49m\u001b[43mboxpoints\u001b[49m\u001b[38;5;241;43m=\u001b[39;49m\u001b[43mpoints\u001b[49m\u001b[43m,\u001b[49m\u001b[43m \u001b[49m\u001b[43mnotched\u001b[49m\u001b[38;5;241;43m=\u001b[39;49m\u001b[43mnotched\u001b[49m\u001b[43m,\u001b[49m\u001b[43m \u001b[49m\u001b[43mx0\u001b[49m\u001b[38;5;241;43m=\u001b[39;49m\u001b[38;5;124;43m\"\u001b[39;49m\u001b[38;5;124;43m \u001b[39;49m\u001b[38;5;124;43m\"\u001b[39;49m\u001b[43m,\u001b[49m\u001b[43m \u001b[49m\u001b[43my0\u001b[49m\u001b[38;5;241;43m=\u001b[39;49m\u001b[38;5;124;43m\"\u001b[39;49m\u001b[38;5;124;43m \u001b[39;49m\u001b[38;5;124;43m\"\u001b[39;49m\u001b[43m)\u001b[49m\u001b[43m,\u001b[49m\n\u001b[0;32m    670\u001b[0m \u001b[43m        \u001b[49m\u001b[43mlayout_patch\u001b[49m\u001b[38;5;241;43m=\u001b[39;49m\u001b[38;5;28;43mdict\u001b[39;49m\u001b[43m(\u001b[49m\u001b[43mboxmode\u001b[49m\u001b[38;5;241;43m=\u001b[39;49m\u001b[43mboxmode\u001b[49m\u001b[43m)\u001b[49m\u001b[43m,\u001b[49m\n\u001b[0;32m    671\u001b[0m \u001b[43m    \u001b[49m\u001b[43m)\u001b[49m\n",
      "File \u001b[1;32mc:\\Users\\awodz\\AppData\\Local\\Programs\\Python\\Python310\\lib\\site-packages\\plotly\\express\\_core.py:2117\u001b[0m, in \u001b[0;36mmake_figure\u001b[1;34m(args, constructor, trace_patch, layout_patch)\u001b[0m\n\u001b[0;32m   2114\u001b[0m layout_patch \u001b[38;5;241m=\u001b[39m layout_patch \u001b[38;5;129;01mor\u001b[39;00m {}\n\u001b[0;32m   2115\u001b[0m apply_default_cascade(args)\n\u001b[1;32m-> 2117\u001b[0m args \u001b[38;5;241m=\u001b[39m \u001b[43mbuild_dataframe\u001b[49m\u001b[43m(\u001b[49m\u001b[43margs\u001b[49m\u001b[43m,\u001b[49m\u001b[43m \u001b[49m\u001b[43mconstructor\u001b[49m\u001b[43m)\u001b[49m\n\u001b[0;32m   2118\u001b[0m \u001b[38;5;28;01mif\u001b[39;00m constructor \u001b[38;5;129;01min\u001b[39;00m [go\u001b[38;5;241m.\u001b[39mTreemap, go\u001b[38;5;241m.\u001b[39mSunburst, go\u001b[38;5;241m.\u001b[39mIcicle] \u001b[38;5;129;01mand\u001b[39;00m args[\u001b[38;5;124m\"\u001b[39m\u001b[38;5;124mpath\u001b[39m\u001b[38;5;124m\"\u001b[39m] \u001b[38;5;129;01mis\u001b[39;00m \u001b[38;5;129;01mnot\u001b[39;00m \u001b[38;5;28;01mNone\u001b[39;00m:\n\u001b[0;32m   2119\u001b[0m     args \u001b[38;5;241m=\u001b[39m process_dataframe_hierarchy(args)\n",
      "File \u001b[1;32mc:\\Users\\awodz\\AppData\\Local\\Programs\\Python\\Python310\\lib\\site-packages\\plotly\\express\\_core.py:1513\u001b[0m, in \u001b[0;36mbuild_dataframe\u001b[1;34m(args, constructor)\u001b[0m\n\u001b[0;32m   1510\u001b[0m     args[\u001b[38;5;124m\"\u001b[39m\u001b[38;5;124mcolor\u001b[39m\u001b[38;5;124m\"\u001b[39m] \u001b[38;5;241m=\u001b[39m \u001b[38;5;28;01mNone\u001b[39;00m\n\u001b[0;32m   1511\u001b[0m \u001b[38;5;66;03m# now that things have been prepped, we do the systematic rewriting of `args`\u001b[39;00m\n\u001b[1;32m-> 1513\u001b[0m df_output, wide_id_vars \u001b[38;5;241m=\u001b[39m \u001b[43mprocess_args_into_dataframe\u001b[49m\u001b[43m(\u001b[49m\n\u001b[0;32m   1514\u001b[0m \u001b[43m    \u001b[49m\u001b[43margs\u001b[49m\u001b[43m,\u001b[49m\u001b[43m \u001b[49m\u001b[43mwide_mode\u001b[49m\u001b[43m,\u001b[49m\u001b[43m \u001b[49m\u001b[43mvar_name\u001b[49m\u001b[43m,\u001b[49m\u001b[43m \u001b[49m\u001b[43mvalue_name\u001b[49m\n\u001b[0;32m   1515\u001b[0m \u001b[43m\u001b[49m\u001b[43m)\u001b[49m\n\u001b[0;32m   1517\u001b[0m \u001b[38;5;66;03m# now that `df_output` exists and `args` contains only references, we complete\u001b[39;00m\n\u001b[0;32m   1518\u001b[0m \u001b[38;5;66;03m# the special-case and wide-mode handling by further rewriting args and/or mutating\u001b[39;00m\n\u001b[0;32m   1519\u001b[0m \u001b[38;5;66;03m# df_output\u001b[39;00m\n\u001b[0;32m   1521\u001b[0m count_name \u001b[38;5;241m=\u001b[39m _escape_col_name(df_output, \u001b[38;5;124m\"\u001b[39m\u001b[38;5;124mcount\u001b[39m\u001b[38;5;124m\"\u001b[39m, [var_name, value_name])\n",
      "File \u001b[1;32mc:\\Users\\awodz\\AppData\\Local\\Programs\\Python\\Python310\\lib\\site-packages\\plotly\\express\\_core.py:1234\u001b[0m, in \u001b[0;36mprocess_args_into_dataframe\u001b[1;34m(args, wide_mode, var_name, value_name)\u001b[0m\n\u001b[0;32m   1232\u001b[0m         \u001b[38;5;28;01mif\u001b[39;00m argument \u001b[38;5;241m==\u001b[39m \u001b[38;5;124m\"\u001b[39m\u001b[38;5;124mindex\u001b[39m\u001b[38;5;124m\"\u001b[39m:\n\u001b[0;32m   1233\u001b[0m             err_msg \u001b[38;5;241m+\u001b[39m\u001b[38;5;241m=\u001b[39m \u001b[38;5;124m\"\u001b[39m\u001b[38;5;130;01m\\n\u001b[39;00m\u001b[38;5;124m To use the index, pass it in directly as `df.index`.\u001b[39m\u001b[38;5;124m\"\u001b[39m\n\u001b[1;32m-> 1234\u001b[0m         \u001b[38;5;28;01mraise\u001b[39;00m \u001b[38;5;167;01mValueError\u001b[39;00m(err_msg)\n\u001b[0;32m   1235\u001b[0m \u001b[38;5;28;01melif\u001b[39;00m length \u001b[38;5;129;01mand\u001b[39;00m \u001b[38;5;28mlen\u001b[39m(df_input[argument]) \u001b[38;5;241m!=\u001b[39m length:\n\u001b[0;32m   1236\u001b[0m     \u001b[38;5;28;01mraise\u001b[39;00m \u001b[38;5;167;01mValueError\u001b[39;00m(\n\u001b[0;32m   1237\u001b[0m         \u001b[38;5;124m\"\u001b[39m\u001b[38;5;124mAll arguments should have the same length. \u001b[39m\u001b[38;5;124m\"\u001b[39m\n\u001b[0;32m   1238\u001b[0m         \u001b[38;5;124m\"\u001b[39m\u001b[38;5;124mThe length of column argument `df[\u001b[39m\u001b[38;5;132;01m%s\u001b[39;00m\u001b[38;5;124m]` is \u001b[39m\u001b[38;5;132;01m%d\u001b[39;00m\u001b[38;5;124m, whereas the \u001b[39m\u001b[38;5;124m\"\u001b[39m\n\u001b[1;32m   (...)\u001b[0m\n\u001b[0;32m   1245\u001b[0m         )\n\u001b[0;32m   1246\u001b[0m     )\n",
      "\u001b[1;31mValueError\u001b[0m: Value of 'x' is not the name of a column in 'data_frame'. Expected one of ['Tytuł', 'Tagi', 'Cena', 'Data wydania', 'Nacechowanie recenzji', 'Liczba recenzji', 'Tag_2,5D', 'Tag_2D', 'Tag_3D', 'Tag_4X', 'Tag_Akcja', 'Tag_Anime', 'Tag_Autobitewniak', 'Tag_Automatyzacja', 'Tag_Battle royale', \"Tag_Beat 'em up\", 'Tag_Bijatyka', 'Tag_Bijatyka 2D', 'Tag_Bogata fabuła', 'Tag_Bogate uniwersum', 'Tag_Brutalność', 'Tag_Budowanie', 'Tag_Budowanie bazy', 'Tag_Budowanie miasta', 'Tag_Bullet hell', 'Tag_Bullet time', 'Tag_CRPG', 'Tag_Cyberpunk', 'Tag_Czarna komedia', 'Tag_Czarny humor', 'Tag_Czas rzeczywisty', 'Tag_Czas rzeczywisty z pauzą', 'Tag_Dedukcyjne towarzyskie', 'Tag_Demony', 'Tag_Destrukcja', 'Tag_Detektywistyczne', 'Tag_Dinozaury', 'Tag_Dostosowywanie broni palnej', 'Tag_Dostosowywanie postaci', 'Tag_Drużynowe RPG', 'Tag_Dungeon crawler', 'Tag_Dyplomacja', 'Tag_Dystopijne', 'Tag_Dzielony ekran', 'Tag_E-sport', 'Tag_Edukacyjne', 'Tag_Edytor poziomów', 'Tag_Eksperymentalne', 'Tag_Eksploracja', 'Tag_Escape room', 'Tag_FMV', 'Tag_FPS', 'Tag_Familijne', 'Tag_Fantasy', 'Tag_Fikcja interaktywna', 'Tag_Filmowe', 'Tag_Filozoficzne', 'Tag_Fizyka', 'Tag_Free to Play', 'Tag_Futurystyczne', 'Tag_Generacja proceduralna', 'Tag_Gospodarka', 'Tag_Gotowanie', 'Tag_Gra karciana', 'Tag_Gra planszowa', 'Tag_Gra słowna', 'Tag_Gra w boga', 'Tag_Gry na punkty', 'Tag_Górnictwo', 'Tag_Hack and slash', 'Tag_Hakowanie', 'Tag_Historia alternatywna', 'Tag_Horror', 'Tag_Horror psychologiczny', 'Tag_Idlery', 'Tag_Inspirowane Lovecraftem', 'Tag_Izometryczne', 'Tag_JRPG', 'Tag_Jednoosobowe', 'Tag_Kapitalizm', 'Tag_Karciany bitewniak', 'Tag_Kierowanie pojazdem', 'Tag_Klasyczne', 'Tag_Kliker', 'Tag_Klimatyczne', 'Tag_Kolorowe', 'Tag_Komediowe', 'Tag_Komiks', 'Tag_Kooperacja', 'Tag_Kosmici', 'Tag_Kosmos', 'Tag_Koty', 'Tag_Kości do gry', 'Tag_Krasnoludy', 'Tag_Kreskówkowe', 'Tag_Krew', 'Tag_Kultowa klasyka', 'Tag_LEGO', 'Tag_LGBTQ+', 'Tag_Lata 80.', 'Tag_Lata 90.', 'Tag_Latanie', 'Tag_Logiczne', 'Tag_Lokalna kooperacja', 'Tag_MMO', 'Tag_MMORPG', 'Tag_Manipulacja czasem', 'Tag_Mars', 'Tag_Mechy', 'Tag_Metroidvania', 'Tag_Minigry', 'Tag_Minimalistyczne', 'Tag_Modyfikowalne', 'Tag_Morskie', 'Tag_Mroczne', 'Tag_Mroczne fantasy', 'Tag_Muzyczne', 'Tag_Nagość', 'Tag_Narracja', 'Tag_Narracyjne', 'Tag_Natura', 'Tag_Nauka', 'Tag_Nieliniowe', 'Tag_Niezależne', 'Tag_Ninja', 'Tag_Noir', 'Tag_Odcinkowe', 'Tag_Odrzutowce', 'Tag_Okręty podwodne', 'Tag_Otwarty świat', 'Tag_Parkour', 'Tag_Pasjans', 'Tag_Perspektywa pierwszej osoby', 'Tag_Perspektywa trzeciej osoby', 'Tag_Piaskownica', 'Tag_Pikselowa grafika', 'Tag_Platformowe', 'Tag_Platformowe 2D', 'Tag_Platformowe 3D', 'Tag_Podróż w czasie', 'Tag_Podwodne', 'Tag_Polityczne', 'Tag_Polityka', 'Tag_Poruszające', 'Tag_Postapokaliptyczne', 'Tag_Powieść wizualna', 'Tag_Pozytywne', 'Tag_Precyzyjne platformowe', 'Tag_Programowanie', 'Tag_Przemoc', 'Tag_Przestępczość', 'Tag_Przygodowe', 'Tag_Przygodowe akcji', 'Tag_Psychodeliczne', 'Tag_Psychologiczne', 'Tag_PvE', 'Tag_PvP', 'Tag_RPG', 'Tag_RPG akcji', 'Tag_RPGMaker', 'Tag_RTS', 'Tag_RTS akcji', 'Tag_Realistyczne', 'Tag_Regrywalność', 'Tag_Rekreacyjne', 'Tag_Relaksujące', 'Tag_Remake', 'Tag_Retro', 'Tag_Roboty', 'Tag_Roguelike', 'Tag_Roguelike akcji', 'Tag_Roguelike z tworzeniem talii', 'Tag_Roguelite', 'Tag_Romans', 'Tag_Rozgrywane na stole', 'Tag_Rozmowa', 'Tag_Rytmiczne', 'Tag_Rywalizacja', 'Tag_Ręcznie rysowane', 'Tag_Science fiction', \"Tag_Shoot 'em up\", 'Tag_Side-scroller', 'Tag_Sieciowa kooperacja', 'Tag_Skradanie', 'Tag_Skrytobójca', 'Tag_Souls-like', 'Tag_Spisek', 'Tag_Statki kosmiczne', 'Tag_Steampunk', 'Tag_Strategiczne', 'Tag_Strategiczne RPG', 'Tag_Strategiczne globalne', 'Tag_Strategiczne turowe', 'Tag_Strzelanka', 'Tag_Strzelanka arenowa', 'Tag_Strzelanka ewakuacyjna', 'Tag_Strzelanka na dwa drążki', 'Tag_Strzelanka w dawnym stylu', 'Tag_Strzelanka z bohaterami', 'Tag_Strzelanka z perspektywą trzeciej osoby', 'Tag_Strzelanka z widokiem z góry', 'Tag_Strzelanka z łupami', 'Tag_Stylizowane', 'Tag_Superbohater', 'Tag_Surrealistyczne', 'Tag_Survival', 'Tag_Survival horror', 'Tag_Survivalowe w otwartym świecie', 'Tag_Symulator chodzenia', 'Tag_Symulator farmy', 'Tag_Symulator katastroficzny', 'Tag_Symulator kolonizacji', 'Tag_Symulator kosmiczny', 'Tag_Symulator polityczny', 'Tag_Symulator randkowania', 'Tag_Symulator samochodowy', 'Tag_Symulator życia', 'Tag_Symulatory', 'Tag_Sztuki walki', 'Tag_Szybkie tempo', 'Tag_Tajemnicze', 'Tag_Taktyczne', 'Tag_Taktyczne RPG', 'Tag_Taktyczne turowe', 'Tag_Taktyka w czasie rzeczywistym', 'Tag_Thriller', 'Tag_Tower defense', 'Tag_Tradycyjne roguelike', 'Tag_Transhumanizm', 'Tag_Transport', 'Tag_Treści seksualne', 'Tag_Trudne', 'Tag_Trwała śmierć', 'Tag_Turowe', 'Tag_Tworzenie talii', 'Tag_Ukryte przedmioty', 'Tag_Urocze', 'Tag_VR', 'Tag_Walka', 'Tag_Walka morska', 'Tag_Walka na miecze', 'Tag_Walka pojazdami', 'Tag_Walka turowa', 'Tag_Warhammer 40K', 'Tag_Wciągający symulator', 'Tag_Wczesny dostęp', 'Tag_Widok z góry', 'Tag_Widowiskowa bijatyka', 'Tag_Wiele zakończeń', 'Tag_Wieloosobowe', 'Tag_Wojenne', 'Tag_Wojna', 'Tag_Wojskowe', 'Tag_Wskaż i kliknij', 'Tag_Wybierz własną przygodę', 'Tag_Wytwarzanie', 'Tag_Wyścigi z walką', 'Tag_Wyścigowe', 'Tag_Zabawne', 'Tag_Zarządzanie', 'Tag_Zarządzanie czasem', 'Tag_Zarządzanie zasobami', 'Tag_Zbieranie stworów', 'Tag_Zespołowe', 'Tag_Znaczące wybory', 'Tag_Zombie', 'Tag_Zręcznościowe', 'Tag_Zły protagonista', 'Tag_Łamigłówki', 'Tag_Łamigłówki platformowe', 'Tag_Łupy', 'Tag_Śledztwo', 'Tag_Świetna ścieżka dźwiękowa', 'Tag_Żeńska postać w roli głównej', 'sentiment_score', 'Rok wydania', 'Recenzje_grupa'] but received: tag_count"
     ]
    }
   ],
   "source": [
    "fig = px.box(df, x='tag_count', y='Cena', title='Rozkład cen w zależności od liczby tagów', labels={'tag_count': 'Liczba tagów', 'Cena': 'Cena (zł)'})\n",
    "fig.show()\n",
    "\n"
   ]
  },
  {
   "cell_type": "code",
   "execution_count": null,
   "metadata": {},
   "outputs": [],
   "source": [
    "# tabela krzyżowa potrzebna"
   ]
  },
  {
   "cell_type": "code",
   "execution_count": null,
   "metadata": {},
   "outputs": [
    {
     "data": {
      "application/vnd.plotly.v1+json": {
       "config": {
        "plotlyServerURL": "https://plot.ly"
       },
       "data": [
        {
         "alignmentgroup": "True",
         "hovertemplate": "Tag=%{x}<br>Średnia cena=%{y}<extra></extra>",
         "legendgroup": "",
         "marker": {
          "color": "#636efa",
          "pattern": {
           "shape": ""
          }
         },
         "name": "",
         "offsetgroup": "",
         "orientation": "v",
         "showlegend": false,
         "textposition": "auto",
         "type": "bar",
         "x": [
          "Fikcja interaktywna",
          "Nagość",
          "Perspektywa trzeciej osoby",
          "Czarna komedia",
          "Quick time event",
          "Mroczne fantasy",
          "Walka na miecze",
          "Szybkie tempo",
          "Platformowe 3D",
          "Wiele zakończeń",
          "Zespołowe",
          "MMO",
          "Idlery",
          "Dostosowywanie broni palnej",
          "MMORPG",
          "Free to Play",
          "Strzelanka z bohaterami",
          "Battle royale",
          "Mars",
          "Symulator polityczny"
         ],
         "xaxis": "x",
         "y": [
          231.99,
          199,
          172.96666666666667,
          169.9,
          169,
          164.99,
          159.99,
          153.995,
          152.495,
          152.16,
          0,
          0,
          0,
          0,
          0,
          0,
          0,
          0,
          0,
          9.59
         ],
         "yaxis": "y"
        }
       ],
       "layout": {
        "barmode": "relative",
        "legend": {
         "tracegroupgap": 0
        },
        "template": {
         "data": {
          "bar": [
           {
            "error_x": {
             "color": "#2a3f5f"
            },
            "error_y": {
             "color": "#2a3f5f"
            },
            "marker": {
             "line": {
              "color": "#E5ECF6",
              "width": 0.5
             },
             "pattern": {
              "fillmode": "overlay",
              "size": 10,
              "solidity": 0.2
             }
            },
            "type": "bar"
           }
          ],
          "barpolar": [
           {
            "marker": {
             "line": {
              "color": "#E5ECF6",
              "width": 0.5
             },
             "pattern": {
              "fillmode": "overlay",
              "size": 10,
              "solidity": 0.2
             }
            },
            "type": "barpolar"
           }
          ],
          "carpet": [
           {
            "aaxis": {
             "endlinecolor": "#2a3f5f",
             "gridcolor": "white",
             "linecolor": "white",
             "minorgridcolor": "white",
             "startlinecolor": "#2a3f5f"
            },
            "baxis": {
             "endlinecolor": "#2a3f5f",
             "gridcolor": "white",
             "linecolor": "white",
             "minorgridcolor": "white",
             "startlinecolor": "#2a3f5f"
            },
            "type": "carpet"
           }
          ],
          "choropleth": [
           {
            "colorbar": {
             "outlinewidth": 0,
             "ticks": ""
            },
            "type": "choropleth"
           }
          ],
          "contour": [
           {
            "colorbar": {
             "outlinewidth": 0,
             "ticks": ""
            },
            "colorscale": [
             [
              0,
              "#0d0887"
             ],
             [
              0.1111111111111111,
              "#46039f"
             ],
             [
              0.2222222222222222,
              "#7201a8"
             ],
             [
              0.3333333333333333,
              "#9c179e"
             ],
             [
              0.4444444444444444,
              "#bd3786"
             ],
             [
              0.5555555555555556,
              "#d8576b"
             ],
             [
              0.6666666666666666,
              "#ed7953"
             ],
             [
              0.7777777777777778,
              "#fb9f3a"
             ],
             [
              0.8888888888888888,
              "#fdca26"
             ],
             [
              1,
              "#f0f921"
             ]
            ],
            "type": "contour"
           }
          ],
          "contourcarpet": [
           {
            "colorbar": {
             "outlinewidth": 0,
             "ticks": ""
            },
            "type": "contourcarpet"
           }
          ],
          "heatmap": [
           {
            "colorbar": {
             "outlinewidth": 0,
             "ticks": ""
            },
            "colorscale": [
             [
              0,
              "#0d0887"
             ],
             [
              0.1111111111111111,
              "#46039f"
             ],
             [
              0.2222222222222222,
              "#7201a8"
             ],
             [
              0.3333333333333333,
              "#9c179e"
             ],
             [
              0.4444444444444444,
              "#bd3786"
             ],
             [
              0.5555555555555556,
              "#d8576b"
             ],
             [
              0.6666666666666666,
              "#ed7953"
             ],
             [
              0.7777777777777778,
              "#fb9f3a"
             ],
             [
              0.8888888888888888,
              "#fdca26"
             ],
             [
              1,
              "#f0f921"
             ]
            ],
            "type": "heatmap"
           }
          ],
          "heatmapgl": [
           {
            "colorbar": {
             "outlinewidth": 0,
             "ticks": ""
            },
            "colorscale": [
             [
              0,
              "#0d0887"
             ],
             [
              0.1111111111111111,
              "#46039f"
             ],
             [
              0.2222222222222222,
              "#7201a8"
             ],
             [
              0.3333333333333333,
              "#9c179e"
             ],
             [
              0.4444444444444444,
              "#bd3786"
             ],
             [
              0.5555555555555556,
              "#d8576b"
             ],
             [
              0.6666666666666666,
              "#ed7953"
             ],
             [
              0.7777777777777778,
              "#fb9f3a"
             ],
             [
              0.8888888888888888,
              "#fdca26"
             ],
             [
              1,
              "#f0f921"
             ]
            ],
            "type": "heatmapgl"
           }
          ],
          "histogram": [
           {
            "marker": {
             "pattern": {
              "fillmode": "overlay",
              "size": 10,
              "solidity": 0.2
             }
            },
            "type": "histogram"
           }
          ],
          "histogram2d": [
           {
            "colorbar": {
             "outlinewidth": 0,
             "ticks": ""
            },
            "colorscale": [
             [
              0,
              "#0d0887"
             ],
             [
              0.1111111111111111,
              "#46039f"
             ],
             [
              0.2222222222222222,
              "#7201a8"
             ],
             [
              0.3333333333333333,
              "#9c179e"
             ],
             [
              0.4444444444444444,
              "#bd3786"
             ],
             [
              0.5555555555555556,
              "#d8576b"
             ],
             [
              0.6666666666666666,
              "#ed7953"
             ],
             [
              0.7777777777777778,
              "#fb9f3a"
             ],
             [
              0.8888888888888888,
              "#fdca26"
             ],
             [
              1,
              "#f0f921"
             ]
            ],
            "type": "histogram2d"
           }
          ],
          "histogram2dcontour": [
           {
            "colorbar": {
             "outlinewidth": 0,
             "ticks": ""
            },
            "colorscale": [
             [
              0,
              "#0d0887"
             ],
             [
              0.1111111111111111,
              "#46039f"
             ],
             [
              0.2222222222222222,
              "#7201a8"
             ],
             [
              0.3333333333333333,
              "#9c179e"
             ],
             [
              0.4444444444444444,
              "#bd3786"
             ],
             [
              0.5555555555555556,
              "#d8576b"
             ],
             [
              0.6666666666666666,
              "#ed7953"
             ],
             [
              0.7777777777777778,
              "#fb9f3a"
             ],
             [
              0.8888888888888888,
              "#fdca26"
             ],
             [
              1,
              "#f0f921"
             ]
            ],
            "type": "histogram2dcontour"
           }
          ],
          "mesh3d": [
           {
            "colorbar": {
             "outlinewidth": 0,
             "ticks": ""
            },
            "type": "mesh3d"
           }
          ],
          "parcoords": [
           {
            "line": {
             "colorbar": {
              "outlinewidth": 0,
              "ticks": ""
             }
            },
            "type": "parcoords"
           }
          ],
          "pie": [
           {
            "automargin": true,
            "type": "pie"
           }
          ],
          "scatter": [
           {
            "fillpattern": {
             "fillmode": "overlay",
             "size": 10,
             "solidity": 0.2
            },
            "type": "scatter"
           }
          ],
          "scatter3d": [
           {
            "line": {
             "colorbar": {
              "outlinewidth": 0,
              "ticks": ""
             }
            },
            "marker": {
             "colorbar": {
              "outlinewidth": 0,
              "ticks": ""
             }
            },
            "type": "scatter3d"
           }
          ],
          "scattercarpet": [
           {
            "marker": {
             "colorbar": {
              "outlinewidth": 0,
              "ticks": ""
             }
            },
            "type": "scattercarpet"
           }
          ],
          "scattergeo": [
           {
            "marker": {
             "colorbar": {
              "outlinewidth": 0,
              "ticks": ""
             }
            },
            "type": "scattergeo"
           }
          ],
          "scattergl": [
           {
            "marker": {
             "colorbar": {
              "outlinewidth": 0,
              "ticks": ""
             }
            },
            "type": "scattergl"
           }
          ],
          "scattermapbox": [
           {
            "marker": {
             "colorbar": {
              "outlinewidth": 0,
              "ticks": ""
             }
            },
            "type": "scattermapbox"
           }
          ],
          "scatterpolar": [
           {
            "marker": {
             "colorbar": {
              "outlinewidth": 0,
              "ticks": ""
             }
            },
            "type": "scatterpolar"
           }
          ],
          "scatterpolargl": [
           {
            "marker": {
             "colorbar": {
              "outlinewidth": 0,
              "ticks": ""
             }
            },
            "type": "scatterpolargl"
           }
          ],
          "scatterternary": [
           {
            "marker": {
             "colorbar": {
              "outlinewidth": 0,
              "ticks": ""
             }
            },
            "type": "scatterternary"
           }
          ],
          "surface": [
           {
            "colorbar": {
             "outlinewidth": 0,
             "ticks": ""
            },
            "colorscale": [
             [
              0,
              "#0d0887"
             ],
             [
              0.1111111111111111,
              "#46039f"
             ],
             [
              0.2222222222222222,
              "#7201a8"
             ],
             [
              0.3333333333333333,
              "#9c179e"
             ],
             [
              0.4444444444444444,
              "#bd3786"
             ],
             [
              0.5555555555555556,
              "#d8576b"
             ],
             [
              0.6666666666666666,
              "#ed7953"
             ],
             [
              0.7777777777777778,
              "#fb9f3a"
             ],
             [
              0.8888888888888888,
              "#fdca26"
             ],
             [
              1,
              "#f0f921"
             ]
            ],
            "type": "surface"
           }
          ],
          "table": [
           {
            "cells": {
             "fill": {
              "color": "#EBF0F8"
             },
             "line": {
              "color": "white"
             }
            },
            "header": {
             "fill": {
              "color": "#C8D4E3"
             },
             "line": {
              "color": "white"
             }
            },
            "type": "table"
           }
          ]
         },
         "layout": {
          "annotationdefaults": {
           "arrowcolor": "#2a3f5f",
           "arrowhead": 0,
           "arrowwidth": 1
          },
          "autotypenumbers": "strict",
          "coloraxis": {
           "colorbar": {
            "outlinewidth": 0,
            "ticks": ""
           }
          },
          "colorscale": {
           "diverging": [
            [
             0,
             "#8e0152"
            ],
            [
             0.1,
             "#c51b7d"
            ],
            [
             0.2,
             "#de77ae"
            ],
            [
             0.3,
             "#f1b6da"
            ],
            [
             0.4,
             "#fde0ef"
            ],
            [
             0.5,
             "#f7f7f7"
            ],
            [
             0.6,
             "#e6f5d0"
            ],
            [
             0.7,
             "#b8e186"
            ],
            [
             0.8,
             "#7fbc41"
            ],
            [
             0.9,
             "#4d9221"
            ],
            [
             1,
             "#276419"
            ]
           ],
           "sequential": [
            [
             0,
             "#0d0887"
            ],
            [
             0.1111111111111111,
             "#46039f"
            ],
            [
             0.2222222222222222,
             "#7201a8"
            ],
            [
             0.3333333333333333,
             "#9c179e"
            ],
            [
             0.4444444444444444,
             "#bd3786"
            ],
            [
             0.5555555555555556,
             "#d8576b"
            ],
            [
             0.6666666666666666,
             "#ed7953"
            ],
            [
             0.7777777777777778,
             "#fb9f3a"
            ],
            [
             0.8888888888888888,
             "#fdca26"
            ],
            [
             1,
             "#f0f921"
            ]
           ],
           "sequentialminus": [
            [
             0,
             "#0d0887"
            ],
            [
             0.1111111111111111,
             "#46039f"
            ],
            [
             0.2222222222222222,
             "#7201a8"
            ],
            [
             0.3333333333333333,
             "#9c179e"
            ],
            [
             0.4444444444444444,
             "#bd3786"
            ],
            [
             0.5555555555555556,
             "#d8576b"
            ],
            [
             0.6666666666666666,
             "#ed7953"
            ],
            [
             0.7777777777777778,
             "#fb9f3a"
            ],
            [
             0.8888888888888888,
             "#fdca26"
            ],
            [
             1,
             "#f0f921"
            ]
           ]
          },
          "colorway": [
           "#636efa",
           "#EF553B",
           "#00cc96",
           "#ab63fa",
           "#FFA15A",
           "#19d3f3",
           "#FF6692",
           "#B6E880",
           "#FF97FF",
           "#FECB52"
          ],
          "font": {
           "color": "#2a3f5f"
          },
          "geo": {
           "bgcolor": "white",
           "lakecolor": "white",
           "landcolor": "#E5ECF6",
           "showlakes": true,
           "showland": true,
           "subunitcolor": "white"
          },
          "hoverlabel": {
           "align": "left"
          },
          "hovermode": "closest",
          "mapbox": {
           "style": "light"
          },
          "paper_bgcolor": "white",
          "plot_bgcolor": "#E5ECF6",
          "polar": {
           "angularaxis": {
            "gridcolor": "white",
            "linecolor": "white",
            "ticks": ""
           },
           "bgcolor": "#E5ECF6",
           "radialaxis": {
            "gridcolor": "white",
            "linecolor": "white",
            "ticks": ""
           }
          },
          "scene": {
           "xaxis": {
            "backgroundcolor": "#E5ECF6",
            "gridcolor": "white",
            "gridwidth": 2,
            "linecolor": "white",
            "showbackground": true,
            "ticks": "",
            "zerolinecolor": "white"
           },
           "yaxis": {
            "backgroundcolor": "#E5ECF6",
            "gridcolor": "white",
            "gridwidth": 2,
            "linecolor": "white",
            "showbackground": true,
            "ticks": "",
            "zerolinecolor": "white"
           },
           "zaxis": {
            "backgroundcolor": "#E5ECF6",
            "gridcolor": "white",
            "gridwidth": 2,
            "linecolor": "white",
            "showbackground": true,
            "ticks": "",
            "zerolinecolor": "white"
           }
          },
          "shapedefaults": {
           "line": {
            "color": "#2a3f5f"
           }
          },
          "ternary": {
           "aaxis": {
            "gridcolor": "white",
            "linecolor": "white",
            "ticks": ""
           },
           "baxis": {
            "gridcolor": "white",
            "linecolor": "white",
            "ticks": ""
           },
           "bgcolor": "#E5ECF6",
           "caxis": {
            "gridcolor": "white",
            "linecolor": "white",
            "ticks": ""
           }
          },
          "title": {
           "x": 0.05
          },
          "xaxis": {
           "automargin": true,
           "gridcolor": "white",
           "linecolor": "white",
           "ticks": "",
           "title": {
            "standoff": 15
           },
           "zerolinecolor": "white",
           "zerolinewidth": 2
          },
          "yaxis": {
           "automargin": true,
           "gridcolor": "white",
           "linecolor": "white",
           "ticks": "",
           "title": {
            "standoff": 15
           },
           "zerolinecolor": "white",
           "zerolinewidth": 2
          }
         }
        },
        "title": {
         "text": "Wpływ wybranych tagów na cenę"
        },
        "xaxis": {
         "anchor": "y",
         "domain": [
          0,
          1
         ],
         "title": {
          "text": "Tag"
         }
        },
        "yaxis": {
         "anchor": "x",
         "domain": [
          0,
          1
         ],
         "title": {
          "text": "Średnia cena"
         }
        }
       }
      }
     },
     "metadata": {},
     "output_type": "display_data"
    }
   ],
   "source": [
    "tag_prices = []\n",
    "\n",
    "for tag in all_tags:\n",
    "    subset = df[df['tags'].apply(lambda tags: tag in tags)]\n",
    "    avg_price = subset['price'].mean()\n",
    "    tag_prices.append({'Tag': tag, 'Average Price': avg_price})\n",
    "\n",
    "tag_price_df = pd.DataFrame(tag_prices).sort_values('Average Price', ascending=False)\n",
    "\n",
    "\n",
    "# Wybór tagów z największą średnią ceną i różnicą cen\n",
    "top_expensive_tags = tag_price_df.nlargest(10, 'Average Price')\n",
    "top_cheap_tags = tag_price_df.nsmallest(10, 'Average Price')\n",
    "filtered_tag_price_df = pd.concat([top_expensive_tags, top_cheap_tags])\n",
    "\n",
    "# Wizualizacja\n",
    "fig = px.bar(filtered_tag_price_df, x='Tag', y='Average Price', title='Wpływ wybranych tagów na cenę', labels={'Tag': 'Tag', 'Average Price': 'Średnia cena'})\n",
    "fig.show()\n"
   ]
  },
  {
   "cell_type": "code",
   "execution_count": null,
   "metadata": {},
   "outputs": [],
   "source": [
    "# todo:   - Dla szeregów czasowych, mogą pasować takie metody jak średnie kroczące, metody dekompozycji, itd.\n",
    "\n",
    "#   - Dla danych kategorycznych, można użyć  jak tabele krzyżowe, test chi-kwadrat,  itd.\n",
    "\n",
    "#   - Dla danych ciągłych, możemy użyć analizę korelacji, regresję, itd."
   ]
  },
  {
   "cell_type": "code",
   "execution_count": null,
   "metadata": {},
   "outputs": [],
   "source": [
    "# Modelowanie: Zdecyduj, czy problem to klasyfikacja, czy regresja. Wykorzystaj odpowiednie modele uczenia maszynowego (np. drzewa decyzyjne, regresję logistyczną dla klasyfikacji; regresję liniową, lasy losowe dla regresji) z biblioteki `scikit-learn` i oceń ich wyniki przy użyciu takich miar jak dokładność (accuracy), F1 score lub R-kwadrat (R²), w zależności od typu danych i analizy.\n",
    "\n",
    "# 1. na podstawie tagów, ceny i roku wydania oceń, jakie opinie ma gra - klasyfikacja\n",
    "# 2. na podstawie tagów, opinii, liczby opinii, roku wydania zgadnij, jaką cenę ma gra - regresja"
   ]
  },
  {
   "cell_type": "code",
   "execution_count": 23,
   "metadata": {},
   "outputs": [
    {
     "name": "stdout",
     "output_type": "stream",
     "text": [
      "Collecting sklearn\n",
      "  Downloading sklearn-0.0.post12.tar.gz (2.6 kB)\n",
      "  Installing build dependencies: started\n",
      "  Installing build dependencies: finished with status 'done'\n",
      "  Getting requirements to build wheel: started\n",
      "  Getting requirements to build wheel: finished with status 'error'\n",
      "Note: you may need to restart the kernel to use updated packages.\n"
     ]
    },
    {
     "name": "stderr",
     "output_type": "stream",
     "text": [
      "  error: subprocess-exited-with-error\n",
      "  \n",
      "  × Getting requirements to build wheel did not run successfully.\n",
      "  │ exit code: 1\n",
      "  ╰─> [15 lines of output]\n",
      "      The 'sklearn' PyPI package is deprecated, use 'scikit-learn'\n",
      "      rather than 'sklearn' for pip commands.\n",
      "      \n",
      "      Here is how to fix this error in the main use cases:\n",
      "      - use 'pip install scikit-learn' rather than 'pip install sklearn'\n",
      "      - replace 'sklearn' by 'scikit-learn' in your pip requirements files\n",
      "        (requirements.txt, setup.py, setup.cfg, Pipfile, etc ...)\n",
      "      - if the 'sklearn' package is used by one of your dependencies,\n",
      "        it would be great if you take some time to track which package uses\n",
      "        'sklearn' instead of 'scikit-learn' and report it to their issue tracker\n",
      "      - as a last resort, set the environment variable\n",
      "        SKLEARN_ALLOW_DEPRECATED_SKLEARN_PACKAGE_INSTALL=True to avoid this error\n",
      "      \n",
      "      More information is available at\n",
      "      https://github.com/scikit-learn/sklearn-pypi-package\n",
      "      [end of output]\n",
      "  \n",
      "  note: This error originates from a subprocess, and is likely not a problem with pip.\n",
      "error: subprocess-exited-with-error\n",
      "\n",
      "× Getting requirements to build wheel did not run successfully.\n",
      "│ exit code: 1\n",
      "╰─> See above for output.\n",
      "\n",
      "note: This error originates from a subprocess, and is likely not a problem with pip.\n",
      "\n",
      "[notice] A new release of pip is available: 24.1.2 -> 24.3.1\n",
      "[notice] To update, run: python.exe -m pip install --upgrade pip\n"
     ]
    }
   ],
   "source": [
    "%pip install sklearn"
   ]
  },
  {
   "cell_type": "code",
   "execution_count": 24,
   "metadata": {},
   "outputs": [
    {
     "ename": "ModuleNotFoundError",
     "evalue": "No module named 'sklearn'",
     "output_type": "error",
     "traceback": [
      "\u001b[1;31m---------------------------------------------------------------------------\u001b[0m",
      "\u001b[1;31mModuleNotFoundError\u001b[0m                       Traceback (most recent call last)",
      "Input \u001b[1;32mIn [24]\u001b[0m, in \u001b[0;36m<cell line: 1>\u001b[1;34m()\u001b[0m\n\u001b[1;32m----> 1\u001b[0m \u001b[38;5;28;01mfrom\u001b[39;00m \u001b[38;5;21;01msklearn\u001b[39;00m\u001b[38;5;21;01m.\u001b[39;00m\u001b[38;5;21;01mpreprocessing\u001b[39;00m \u001b[38;5;28;01mimport\u001b[39;00m StandardScaler\n\u001b[0;32m      2\u001b[0m \u001b[38;5;28;01mfrom\u001b[39;00m \u001b[38;5;21;01msklearn\u001b[39;00m\u001b[38;5;21;01m.\u001b[39;00m\u001b[38;5;21;01mcluster\u001b[39;00m \u001b[38;5;28;01mimport\u001b[39;00m KMeans\n\u001b[0;32m      4\u001b[0m \u001b[38;5;66;03m# Przygotowanie danych\u001b[39;00m\n",
      "\u001b[1;31mModuleNotFoundError\u001b[0m: No module named 'sklearn'"
     ]
    }
   ],
   "source": [
    "from sklearn.preprocessing import StandardScaler\n",
    "from sklearn.cluster import KMeans\n",
    "\n",
    "# Przygotowanie danych\n",
    "tag_matrix = pd.DataFrame(0, index=df.index, columns=all_tags)\n",
    "for i, tags in enumerate(df['tags']):\n",
    "    tag_matrix.loc[i, tags] = 1\n",
    "\n",
    "scaler = StandardScaler()\n",
    "X = scaler.fit_transform(tag_matrix)\n",
    "\n",
    "# Klasteryzacja\n",
    "kmeans = KMeans(n_clusters=5, random_state=42)\n",
    "df['cluster'] = kmeans.fit_predict(X)\n",
    "\n",
    "# Wizualizacja klastrów (kolor + centroidy)\n",
    "fig = px.scatter(df, x='price', y='tag_count', color='cluster', title='Klasteryzacja gier (cena vs liczba tagów)', labels={'price': 'Cena (zł)', 'tag_count': 'Liczba tagów'}, hover_data=['title'])\n",
    "fig.show()\n"
   ]
  }
 ],
 "metadata": {
  "kernelspec": {
   "display_name": "Python 3",
   "language": "python",
   "name": "python3"
  },
  "language_info": {
   "codemirror_mode": {
    "name": "ipython",
    "version": 3
   },
   "file_extension": ".py",
   "mimetype": "text/x-python",
   "name": "python",
   "nbconvert_exporter": "python",
   "pygments_lexer": "ipython3",
   "version": "3.10.4"
  }
 },
 "nbformat": 4,
 "nbformat_minor": 2
}

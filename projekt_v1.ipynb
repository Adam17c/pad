{
 "cells": [
  {
   "cell_type": "code",
   "execution_count": null,
   "metadata": {},
   "outputs": [],
   "source": [
    "%pip install selenium\n",
    "%pip install beautifulsoup4\n",
    "%pip install plotly\n",
    "%pip install seaborn\n",
    "%pip install scipy\n",
    "%pip install nbformat"
   ]
  },
  {
   "cell_type": "code",
   "execution_count": 71,
   "metadata": {},
   "outputs": [
    {
     "name": "stdout",
     "output_type": "stream",
     "text": [
      "nbformat==5.10.4\n",
      "Note: you may need to restart the kernel to use updated packages.\n"
     ]
    }
   ],
   "source": [
    "%pip freeze | findstr nbformat\n"
   ]
  },
  {
   "cell_type": "code",
   "execution_count": 16,
   "metadata": {},
   "outputs": [],
   "source": [
    "from selenium import webdriver\n",
    "from selenium.webdriver.common.by import By\n",
    "import time"
   ]
  },
  {
   "cell_type": "code",
   "execution_count": 17,
   "metadata": {},
   "outputs": [
    {
     "name": "stderr",
     "output_type": "stream",
     "text": [
      "The chromedriver version (131.0.6778.69) detected in PATH at I:\\ChromeDriver\\chromedriver.exe might not be compatible with the detected chrome version (132.0.6834.110); currently, chromedriver 132.0.6834.110 is recommended for chrome 132.*, so it is advised to delete the driver in PATH and retry\n"
     ]
    }
   ],
   "source": [
    "from selenium.webdriver.chrome.service import Service\n",
    "\n",
    "download_service = Service()\n",
    "\n",
    "driver = webdriver.Chrome(service=download_service)\n",
    "\n",
    "driver.maximize_window()"
   ]
  },
  {
   "cell_type": "code",
   "execution_count": 18,
   "metadata": {},
   "outputs": [],
   "source": [
    "# Otwieranie strony Steam\n",
    "url = \"https://store.steampowered.com/category/science_fiction/\"\n",
    "driver.get(url)\n",
    "\n",
    "# Czekanie na załadowanie treści\n",
    "time.sleep(2)  # Dostosuj, jeśli strona ładuje się szybciej"
   ]
  },
  {
   "cell_type": "code",
   "execution_count": 19,
   "metadata": {},
   "outputs": [],
   "source": [
    "driver.execute_script('window.scroll(0, document.body.scrollHeight-2000)')\n"
   ]
  },
  {
   "cell_type": "code",
   "execution_count": 29,
   "metadata": {},
   "outputs": [],
   "source": [
    "load_more_button = driver.find_element(By.CLASS_NAME, '_2tkiJ4VfEdI9kq1agjZyNz.Focusable')\n",
    "load_more_button.click()"
   ]
  },
  {
   "cell_type": "code",
   "execution_count": 20,
   "metadata": {},
   "outputs": [],
   "source": [
    "import pandas as pd\n",
    "\n",
    "def GetTitlesWithDetails():\n",
    "    games_data = []\n",
    "    game_containers = driver.find_elements(By.XPATH, \"//div[contains(@class, 'v9uRg57bwOaPsvAnkXESO')]\")\n",
    "\n",
    "    for game in game_containers:\n",
    "        try:\n",
    "            # Pobranie tytułu gry\n",
    "            title = game.find_element(By.XPATH, \".//div[contains(@class, '_3rrH9dPdtHVRMzAEw82AId')]//a//div\").text.strip()\n",
    "\n",
    "            # Pobranie tagów\n",
    "            tags_container = game.find_element(By.XPATH, \".//div[contains(@class, '_3wryhCRrTuMULeq_YjNk-s')]\")\n",
    "            tag_elements = tags_container.find_elements(By.XPATH, \".//div[contains(@class, '_2bkP-3b7dvr0a_qPdZEfHY')]//a\")\n",
    "            tags = ', '.join([tag.text.strip() for tag in tag_elements if tag.text.strip()])\n",
    "\n",
    "            # Pobranie ceny gry\n",
    "            try:\n",
    "                price_container = game.find_element(By.XPATH, \".//div[contains(@class, 'kW6m4Sjqacp5hykrj5LEo')]//div[contains(@class, '_2s-O5T3qJJYR2AUq4b9jIN')]\")\n",
    "                price = price_container.find_element(By.XPATH, \".//div[contains(@class, '_3j4dI1yA7cRfCvK8h406OB')]\").text.strip()\n",
    "            except:\n",
    "                price = \"Free to Play\"\n",
    "\n",
    "            # Pobranie daty wydania\n",
    "            try:\n",
    "                release_date = game.find_element(By.XPATH, \".//div[contains(@class, '_3wryhCRrTuMULeq_YjNk-s')]//div[contains(@class, '_3a6HRK-P6LK0-pxRKXYgyP')]//div[contains(@class, '_1qvTFgmehUzbdYM9cw0eS7')]\").text.strip()\n",
    "            except:\n",
    "                release_date = \"Brak daty\"\n",
    "\n",
    "            # Pobranie nacechowania recenzji\n",
    "            try:\n",
    "                review_sentiment = game.find_element(By.XPATH, \".//div[contains(@class, '_3wryhCRrTuMULeq_YjNk-s')]//a[contains(@class, '_3qvppfM_u0yn2jrpoUo8RM')]//div[contains(@class, '_3ZWs0kB-1tuqQtie9KK-E7')]//div[contains(@class, '_2nuoOi5kC2aUI12z85PneA')]\").text.strip()\n",
    "            except:\n",
    "                review_sentiment = \"Brak informacji\"\n",
    "\n",
    "            # Pobranie liczby recenzji\n",
    "            try:\n",
    "                review_count = game.find_element(By.XPATH, \".//div[contains(@class, '_3wryhCRrTuMULeq_YjNk-s')]//a[contains(@class, '_3qvppfM_u0yn2jrpoUo8RM')]//div[contains(@class, '_3ZWs0kB-1tuqQtie9KK-E7')]//div[contains(@class, '_1wXL_MfRpdKQ3wZiNP5lrH')]\").text.strip()\n",
    "            except:\n",
    "                review_count = \"0\"\n",
    "\n",
    "            # Dodanie gry do listy\n",
    "            games_data.append({\n",
    "                \"Tytuł\": title,\n",
    "                \"Tagi\": tags,\n",
    "                \"Cena\": price,\n",
    "                \"Data wydania\": release_date,\n",
    "                \"Nacechowanie recenzji\": review_sentiment,\n",
    "                \"Liczba recenzji\": review_count\n",
    "            })\n",
    "\n",
    "        except Exception as e:\n",
    "            print(f\"Problem z przetwarzaniem gry: {e}\")\n",
    "\n",
    "    # Konwersja do DataFrame\n",
    "    df = pd.DataFrame(games_data)\n",
    "    return df\n"
   ]
  },
  {
   "cell_type": "code",
   "execution_count": 21,
   "metadata": {},
   "outputs": [],
   "source": [
    "# zescrolluj do początku listy\n",
    "#driver.execute_script('window.scroll(0, document.body.scrollHeight-3000)')\n",
    "\n",
    "# zecrolluj na dół listy\n",
    "driver.execute_script('window.scroll(0, document.body.scrollHeight-2000)')\n",
    "\n",
    "# Powtarzanie procesu 10 razy\n",
    "for i in range(25):\n",
    "    load_more_button = driver.find_element(By.CLASS_NAME, '_2tkiJ4VfEdI9kq1agjZyNz.Focusable')\n",
    "    load_more_button.click()\n",
    "    time.sleep(2)\n",
    "    driver.execute_script('window.scroll(0, document.body.scrollHeight-2000)')\n",
    "\n",
    "\n",
    "data = GetTitlesWithDetails()"
   ]
  },
  {
   "cell_type": "code",
   "execution_count": 23,
   "metadata": {},
   "outputs": [],
   "source": [
    "# Zamknięcie drivera\n",
    "driver.quit()"
   ]
  },
  {
   "cell_type": "code",
   "execution_count": 24,
   "metadata": {},
   "outputs": [],
   "source": [
    "import pandas as pd\n",
    "import numpy as np\n",
    "\n",
    "def clean_data(df):\n",
    "    # 1. Konwersja ceny\n",
    "    def clean_price(price):\n",
    "        try:\n",
    "            if \"Free to Play\" in price:\n",
    "                return 0.0\n",
    "            return float(price.replace(' zł', '').replace(',', '.'))\n",
    "        except:\n",
    "            return np.nan\n",
    "\n",
    "    df['Cena'] = df['Cena'].apply(clean_price)\n",
    "\n",
    "    # 2. Konwersja liczby recenzji\n",
    "    def clean_reviews(reviews):\n",
    "        try:\n",
    "            return int(reviews.replace('Recenzje użytkowników: ', '').replace(' ', ''))\n",
    "        except:\n",
    "            return np.nan\n",
    "\n",
    "    df['Liczba recenzji'] = df['Liczba recenzji'].apply(clean_reviews)\n",
    "\n",
    "    # 3. Konwersja daty wydania\n",
    "    polish_months = {\n",
    "        'STY': 'Jan', 'LUT': 'Feb', 'MAR': 'Mar', 'KWI': 'Apr', 'MAJ': 'May', 'CZE': 'Jun',\n",
    "        'LIP': 'Jul', 'SIE': 'Aug', 'WRZ': 'Sep', 'PAŹ': 'Oct', 'LIS': 'Nov', 'GRU': 'Dec'\n",
    "    }\n",
    "\n",
    "    def clean_date(date):\n",
    "        if pd.isna(date):\n",
    "            return np.nan\n",
    "        for pl, en in polish_months.items():\n",
    "            date = date.replace(pl, en)\n",
    "        try:\n",
    "            return pd.to_datetime(date, format='%d %b %Y')\n",
    "        except:\n",
    "            return np.nan\n",
    "\n",
    "    df['Data wydania'] = df['Data wydania'].apply(clean_date)\n",
    "\n",
    "    # 4. Rozbicie tagów na kolumny (one-hot encoding)\n",
    "    def split_tags(tags):\n",
    "        return tags.split(', ') if isinstance(tags, str) else []\n",
    "\n",
    "    all_tags = sorted(set(tag for tags in df['Tagi'].apply(split_tags) for tag in tags))\n",
    "    for tag in all_tags:\n",
    "        df[f'Tag_{tag}'] = df['Tagi'].apply(lambda tags: 1 if tag in split_tags(tags) else 0)\n",
    "\n",
    "    # 5. Obsługa braków danych\n",
    "    df.dropna(subset=['Cena', 'Liczba recenzji', 'Data wydania'], inplace=True)\n",
    "\n",
    "    return df\n"
   ]
  },
  {
   "cell_type": "code",
   "execution_count": 26,
   "metadata": {},
   "outputs": [
    {
     "data": {
      "text/html": [
       "<div>\n",
       "<style scoped>\n",
       "    .dataframe tbody tr th:only-of-type {\n",
       "        vertical-align: middle;\n",
       "    }\n",
       "\n",
       "    .dataframe tbody tr th {\n",
       "        vertical-align: top;\n",
       "    }\n",
       "\n",
       "    .dataframe thead th {\n",
       "        text-align: right;\n",
       "    }\n",
       "</style>\n",
       "<table border=\"1\" class=\"dataframe\">\n",
       "  <thead>\n",
       "    <tr style=\"text-align: right;\">\n",
       "      <th></th>\n",
       "      <th>Tytuł</th>\n",
       "      <th>Tagi</th>\n",
       "      <th>Cena</th>\n",
       "      <th>Data wydania</th>\n",
       "      <th>Nacechowanie recenzji</th>\n",
       "      <th>Liczba recenzji</th>\n",
       "      <th>Tag_2,5D</th>\n",
       "      <th>Tag_2D</th>\n",
       "      <th>Tag_3D</th>\n",
       "      <th>Tag_4X</th>\n",
       "      <th>...</th>\n",
       "      <th>Tag_Zarządzanie zasobami</th>\n",
       "      <th>Tag_Zespołowe</th>\n",
       "      <th>Tag_Znaczące wybory</th>\n",
       "      <th>Tag_Zombie</th>\n",
       "      <th>Tag_Zręcznościowe</th>\n",
       "      <th>Tag_Łamigłówki</th>\n",
       "      <th>Tag_Łamigłówki platformowe</th>\n",
       "      <th>Tag_Łupy</th>\n",
       "      <th>Tag_Świetna ścieżka dźwiękowa</th>\n",
       "      <th>Tag_Żeńska postać w roli głównej</th>\n",
       "    </tr>\n",
       "  </thead>\n",
       "  <tbody>\n",
       "    <tr>\n",
       "      <th>0</th>\n",
       "      <td>Marvel Rivals</td>\n",
       "      <td>Free to Play, Wieloosobowe, Strzelanka z bohat...</td>\n",
       "      <td>0.00</td>\n",
       "      <td>2024-12-06</td>\n",
       "      <td>Bardzo pozytywne</td>\n",
       "      <td>179402</td>\n",
       "      <td>0</td>\n",
       "      <td>0</td>\n",
       "      <td>0</td>\n",
       "      <td>0</td>\n",
       "      <td>...</td>\n",
       "      <td>0</td>\n",
       "      <td>0</td>\n",
       "      <td>0</td>\n",
       "      <td>0</td>\n",
       "      <td>0</td>\n",
       "      <td>0</td>\n",
       "      <td>0</td>\n",
       "      <td>0</td>\n",
       "      <td>0</td>\n",
       "      <td>0</td>\n",
       "    </tr>\n",
       "    <tr>\n",
       "      <th>1</th>\n",
       "      <td>Warhammer 40,000: Space Marine 2</td>\n",
       "      <td>Warhammer 40K, Akcja, Strzelanka z perspektywą...</td>\n",
       "      <td>157.49</td>\n",
       "      <td>2024-09-09</td>\n",
       "      <td>Bardzo pozytywne</td>\n",
       "      <td>107725</td>\n",
       "      <td>0</td>\n",
       "      <td>0</td>\n",
       "      <td>0</td>\n",
       "      <td>0</td>\n",
       "      <td>...</td>\n",
       "      <td>0</td>\n",
       "      <td>0</td>\n",
       "      <td>0</td>\n",
       "      <td>0</td>\n",
       "      <td>0</td>\n",
       "      <td>0</td>\n",
       "      <td>0</td>\n",
       "      <td>0</td>\n",
       "      <td>0</td>\n",
       "      <td>0</td>\n",
       "    </tr>\n",
       "    <tr>\n",
       "      <th>2</th>\n",
       "      <td>Detroit: Become Human</td>\n",
       "      <td>Znaczące wybory, Bogata fabuła, Wiele zakończe...</td>\n",
       "      <td>55.49</td>\n",
       "      <td>2020-06-18</td>\n",
       "      <td>Przytłaczająco pozytywne</td>\n",
       "      <td>129150</td>\n",
       "      <td>0</td>\n",
       "      <td>0</td>\n",
       "      <td>0</td>\n",
       "      <td>0</td>\n",
       "      <td>...</td>\n",
       "      <td>0</td>\n",
       "      <td>0</td>\n",
       "      <td>1</td>\n",
       "      <td>0</td>\n",
       "      <td>0</td>\n",
       "      <td>0</td>\n",
       "      <td>0</td>\n",
       "      <td>0</td>\n",
       "      <td>0</td>\n",
       "      <td>0</td>\n",
       "    </tr>\n",
       "    <tr>\n",
       "      <th>3</th>\n",
       "      <td>Among Us</td>\n",
       "      <td>Wieloosobowe, Sieciowa kooperacja, Dedukcyjne ...</td>\n",
       "      <td>10.79</td>\n",
       "      <td>2018-11-16</td>\n",
       "      <td>Bardzo pozytywne</td>\n",
       "      <td>611949</td>\n",
       "      <td>0</td>\n",
       "      <td>0</td>\n",
       "      <td>0</td>\n",
       "      <td>0</td>\n",
       "      <td>...</td>\n",
       "      <td>0</td>\n",
       "      <td>0</td>\n",
       "      <td>0</td>\n",
       "      <td>0</td>\n",
       "      <td>0</td>\n",
       "      <td>0</td>\n",
       "      <td>0</td>\n",
       "      <td>0</td>\n",
       "      <td>0</td>\n",
       "      <td>0</td>\n",
       "    </tr>\n",
       "    <tr>\n",
       "      <th>4</th>\n",
       "      <td>HELLDIVERS™ 2</td>\n",
       "      <td>Sieciowa kooperacja, PvE, Strzelanka z perspek...</td>\n",
       "      <td>169.00</td>\n",
       "      <td>2024-02-08</td>\n",
       "      <td>W większości pozytywne</td>\n",
       "      <td>706128</td>\n",
       "      <td>0</td>\n",
       "      <td>0</td>\n",
       "      <td>0</td>\n",
       "      <td>0</td>\n",
       "      <td>...</td>\n",
       "      <td>0</td>\n",
       "      <td>0</td>\n",
       "      <td>0</td>\n",
       "      <td>0</td>\n",
       "      <td>0</td>\n",
       "      <td>0</td>\n",
       "      <td>0</td>\n",
       "      <td>0</td>\n",
       "      <td>0</td>\n",
       "      <td>0</td>\n",
       "    </tr>\n",
       "    <tr>\n",
       "      <th>...</th>\n",
       "      <td>...</td>\n",
       "      <td>...</td>\n",
       "      <td>...</td>\n",
       "      <td>...</td>\n",
       "      <td>...</td>\n",
       "      <td>...</td>\n",
       "      <td>...</td>\n",
       "      <td>...</td>\n",
       "      <td>...</td>\n",
       "      <td>...</td>\n",
       "      <td>...</td>\n",
       "      <td>...</td>\n",
       "      <td>...</td>\n",
       "      <td>...</td>\n",
       "      <td>...</td>\n",
       "      <td>...</td>\n",
       "      <td>...</td>\n",
       "      <td>...</td>\n",
       "      <td>...</td>\n",
       "      <td>...</td>\n",
       "      <td>...</td>\n",
       "    </tr>\n",
       "    <tr>\n",
       "      <th>307</th>\n",
       "      <td>Necromunda: Hired Gun</td>\n",
       "      <td>Akcja, Warhammer 40K, Przygodowe, FPS, Strzelanka</td>\n",
       "      <td>29.99</td>\n",
       "      <td>2021-06-01</td>\n",
       "      <td>Mieszane</td>\n",
       "      <td>5295</td>\n",
       "      <td>0</td>\n",
       "      <td>0</td>\n",
       "      <td>0</td>\n",
       "      <td>0</td>\n",
       "      <td>...</td>\n",
       "      <td>0</td>\n",
       "      <td>0</td>\n",
       "      <td>0</td>\n",
       "      <td>0</td>\n",
       "      <td>0</td>\n",
       "      <td>0</td>\n",
       "      <td>0</td>\n",
       "      <td>0</td>\n",
       "      <td>0</td>\n",
       "      <td>0</td>\n",
       "    </tr>\n",
       "    <tr>\n",
       "      <th>308</th>\n",
       "      <td>Bridge Constructor Portal - Portal Proficiency</td>\n",
       "      <td>Symulatory, Strategiczne, Łamigłówki, Fizyka, ...</td>\n",
       "      <td>4.49</td>\n",
       "      <td>2019-11-12</td>\n",
       "      <td>Bardzo pozytywne</td>\n",
       "      <td>114</td>\n",
       "      <td>0</td>\n",
       "      <td>0</td>\n",
       "      <td>0</td>\n",
       "      <td>0</td>\n",
       "      <td>...</td>\n",
       "      <td>0</td>\n",
       "      <td>0</td>\n",
       "      <td>0</td>\n",
       "      <td>0</td>\n",
       "      <td>0</td>\n",
       "      <td>1</td>\n",
       "      <td>0</td>\n",
       "      <td>0</td>\n",
       "      <td>0</td>\n",
       "      <td>0</td>\n",
       "    </tr>\n",
       "    <tr>\n",
       "      <th>309</th>\n",
       "      <td>Iron Marines Invasion</td>\n",
       "      <td>RTS, RTS akcji, Roguelike akcji, Taktyka w cza...</td>\n",
       "      <td>33.99</td>\n",
       "      <td>2023-11-03</td>\n",
       "      <td>W większości pozytywne</td>\n",
       "      <td>244</td>\n",
       "      <td>0</td>\n",
       "      <td>0</td>\n",
       "      <td>0</td>\n",
       "      <td>0</td>\n",
       "      <td>...</td>\n",
       "      <td>0</td>\n",
       "      <td>0</td>\n",
       "      <td>0</td>\n",
       "      <td>0</td>\n",
       "      <td>0</td>\n",
       "      <td>0</td>\n",
       "      <td>0</td>\n",
       "      <td>0</td>\n",
       "      <td>0</td>\n",
       "      <td>0</td>\n",
       "    </tr>\n",
       "    <tr>\n",
       "      <th>310</th>\n",
       "      <td>MechWarrior 5: Clans</td>\n",
       "      <td>Akcja, Symulatory, Strzelanka, FPS, Mechy</td>\n",
       "      <td>173.99</td>\n",
       "      <td>2024-10-17</td>\n",
       "      <td>W większości pozytywne</td>\n",
       "      <td>3820</td>\n",
       "      <td>0</td>\n",
       "      <td>0</td>\n",
       "      <td>0</td>\n",
       "      <td>0</td>\n",
       "      <td>...</td>\n",
       "      <td>0</td>\n",
       "      <td>0</td>\n",
       "      <td>0</td>\n",
       "      <td>0</td>\n",
       "      <td>0</td>\n",
       "      <td>0</td>\n",
       "      <td>0</td>\n",
       "      <td>0</td>\n",
       "      <td>0</td>\n",
       "      <td>0</td>\n",
       "    </tr>\n",
       "    <tr>\n",
       "      <th>311</th>\n",
       "      <td>Original War</td>\n",
       "      <td>Strategiczne, RTS, Science fiction, Jednoosobo...</td>\n",
       "      <td>8.59</td>\n",
       "      <td>2014-01-27</td>\n",
       "      <td>Bardzo pozytywne</td>\n",
       "      <td>1665</td>\n",
       "      <td>0</td>\n",
       "      <td>0</td>\n",
       "      <td>0</td>\n",
       "      <td>0</td>\n",
       "      <td>...</td>\n",
       "      <td>0</td>\n",
       "      <td>0</td>\n",
       "      <td>0</td>\n",
       "      <td>0</td>\n",
       "      <td>0</td>\n",
       "      <td>0</td>\n",
       "      <td>0</td>\n",
       "      <td>0</td>\n",
       "      <td>0</td>\n",
       "      <td>0</td>\n",
       "    </tr>\n",
       "  </tbody>\n",
       "</table>\n",
       "<p>303 rows × 205 columns</p>\n",
       "</div>"
      ],
      "text/plain": [
       "                                              Tytuł  \\\n",
       "0                                     Marvel Rivals   \n",
       "1                  Warhammer 40,000: Space Marine 2   \n",
       "2                             Detroit: Become Human   \n",
       "3                                          Among Us   \n",
       "4                                     HELLDIVERS™ 2   \n",
       "..                                              ...   \n",
       "307                           Necromunda: Hired Gun   \n",
       "308  Bridge Constructor Portal - Portal Proficiency   \n",
       "309                           Iron Marines Invasion   \n",
       "310                            MechWarrior 5: Clans   \n",
       "311                                    Original War   \n",
       "\n",
       "                                                  Tagi    Cena Data wydania  \\\n",
       "0    Free to Play, Wieloosobowe, Strzelanka z bohat...    0.00   2024-12-06   \n",
       "1    Warhammer 40K, Akcja, Strzelanka z perspektywą...  157.49   2024-09-09   \n",
       "2    Znaczące wybory, Bogata fabuła, Wiele zakończe...   55.49   2020-06-18   \n",
       "3    Wieloosobowe, Sieciowa kooperacja, Dedukcyjne ...   10.79   2018-11-16   \n",
       "4    Sieciowa kooperacja, PvE, Strzelanka z perspek...  169.00   2024-02-08   \n",
       "..                                                 ...     ...          ...   \n",
       "307  Akcja, Warhammer 40K, Przygodowe, FPS, Strzelanka   29.99   2021-06-01   \n",
       "308  Symulatory, Strategiczne, Łamigłówki, Fizyka, ...    4.49   2019-11-12   \n",
       "309  RTS, RTS akcji, Roguelike akcji, Taktyka w cza...   33.99   2023-11-03   \n",
       "310          Akcja, Symulatory, Strzelanka, FPS, Mechy  173.99   2024-10-17   \n",
       "311  Strategiczne, RTS, Science fiction, Jednoosobo...    8.59   2014-01-27   \n",
       "\n",
       "        Nacechowanie recenzji  Liczba recenzji  Tag_2,5D  Tag_2D  Tag_3D  \\\n",
       "0            Bardzo pozytywne           179402         0       0       0   \n",
       "1            Bardzo pozytywne           107725         0       0       0   \n",
       "2    Przytłaczająco pozytywne           129150         0       0       0   \n",
       "3            Bardzo pozytywne           611949         0       0       0   \n",
       "4      W większości pozytywne           706128         0       0       0   \n",
       "..                        ...              ...       ...     ...     ...   \n",
       "307                  Mieszane             5295         0       0       0   \n",
       "308          Bardzo pozytywne              114         0       0       0   \n",
       "309    W większości pozytywne              244         0       0       0   \n",
       "310    W większości pozytywne             3820         0       0       0   \n",
       "311          Bardzo pozytywne             1665         0       0       0   \n",
       "\n",
       "     Tag_4X  ...  Tag_Zarządzanie zasobami  Tag_Zespołowe  \\\n",
       "0         0  ...                         0              0   \n",
       "1         0  ...                         0              0   \n",
       "2         0  ...                         0              0   \n",
       "3         0  ...                         0              0   \n",
       "4         0  ...                         0              0   \n",
       "..      ...  ...                       ...            ...   \n",
       "307       0  ...                         0              0   \n",
       "308       0  ...                         0              0   \n",
       "309       0  ...                         0              0   \n",
       "310       0  ...                         0              0   \n",
       "311       0  ...                         0              0   \n",
       "\n",
       "     Tag_Znaczące wybory  Tag_Zombie  Tag_Zręcznościowe  Tag_Łamigłówki  \\\n",
       "0                      0           0                  0               0   \n",
       "1                      0           0                  0               0   \n",
       "2                      1           0                  0               0   \n",
       "3                      0           0                  0               0   \n",
       "4                      0           0                  0               0   \n",
       "..                   ...         ...                ...             ...   \n",
       "307                    0           0                  0               0   \n",
       "308                    0           0                  0               1   \n",
       "309                    0           0                  0               0   \n",
       "310                    0           0                  0               0   \n",
       "311                    0           0                  0               0   \n",
       "\n",
       "     Tag_Łamigłówki platformowe  Tag_Łupy  Tag_Świetna ścieżka dźwiękowa  \\\n",
       "0                             0         0                              0   \n",
       "1                             0         0                              0   \n",
       "2                             0         0                              0   \n",
       "3                             0         0                              0   \n",
       "4                             0         0                              0   \n",
       "..                          ...       ...                            ...   \n",
       "307                           0         0                              0   \n",
       "308                           0         0                              0   \n",
       "309                           0         0                              0   \n",
       "310                           0         0                              0   \n",
       "311                           0         0                              0   \n",
       "\n",
       "     Tag_Żeńska postać w roli głównej  \n",
       "0                                   0  \n",
       "1                                   0  \n",
       "2                                   0  \n",
       "3                                   0  \n",
       "4                                   0  \n",
       "..                                ...  \n",
       "307                                 0  \n",
       "308                                 0  \n",
       "309                                 0  \n",
       "310                                 0  \n",
       "311                                 0  \n",
       "\n",
       "[303 rows x 205 columns]"
      ]
     },
     "metadata": {},
     "output_type": "display_data"
    }
   ],
   "source": [
    "display(df)"
   ]
  },
  {
   "cell_type": "code",
   "execution_count": 25,
   "metadata": {},
   "outputs": [
    {
     "name": "stderr",
     "output_type": "stream",
     "text": [
      "C:\\Users\\awodz\\AppData\\Local\\Temp\\ipykernel_25500\\3288987377.py:49: PerformanceWarning: DataFrame is highly fragmented.  This is usually the result of calling `frame.insert` many times, which has poor performance.  Consider joining all columns at once using pd.concat(axis=1) instead. To get a de-fragmented frame, use `newframe = frame.copy()`\n",
      "  df[f'Tag_{tag}'] = df['Tagi'].apply(lambda tags: 1 if tag in split_tags(tags) else 0)\n",
      "C:\\Users\\awodz\\AppData\\Local\\Temp\\ipykernel_25500\\3288987377.py:49: PerformanceWarning: DataFrame is highly fragmented.  This is usually the result of calling `frame.insert` many times, which has poor performance.  Consider joining all columns at once using pd.concat(axis=1) instead. To get a de-fragmented frame, use `newframe = frame.copy()`\n",
      "  df[f'Tag_{tag}'] = df['Tagi'].apply(lambda tags: 1 if tag in split_tags(tags) else 0)\n",
      "C:\\Users\\awodz\\AppData\\Local\\Temp\\ipykernel_25500\\3288987377.py:49: PerformanceWarning: DataFrame is highly fragmented.  This is usually the result of calling `frame.insert` many times, which has poor performance.  Consider joining all columns at once using pd.concat(axis=1) instead. To get a de-fragmented frame, use `newframe = frame.copy()`\n",
      "  df[f'Tag_{tag}'] = df['Tagi'].apply(lambda tags: 1 if tag in split_tags(tags) else 0)\n",
      "C:\\Users\\awodz\\AppData\\Local\\Temp\\ipykernel_25500\\3288987377.py:49: PerformanceWarning: DataFrame is highly fragmented.  This is usually the result of calling `frame.insert` many times, which has poor performance.  Consider joining all columns at once using pd.concat(axis=1) instead. To get a de-fragmented frame, use `newframe = frame.copy()`\n",
      "  df[f'Tag_{tag}'] = df['Tagi'].apply(lambda tags: 1 if tag in split_tags(tags) else 0)\n",
      "C:\\Users\\awodz\\AppData\\Local\\Temp\\ipykernel_25500\\3288987377.py:49: PerformanceWarning: DataFrame is highly fragmented.  This is usually the result of calling `frame.insert` many times, which has poor performance.  Consider joining all columns at once using pd.concat(axis=1) instead. To get a de-fragmented frame, use `newframe = frame.copy()`\n",
      "  df[f'Tag_{tag}'] = df['Tagi'].apply(lambda tags: 1 if tag in split_tags(tags) else 0)\n",
      "C:\\Users\\awodz\\AppData\\Local\\Temp\\ipykernel_25500\\3288987377.py:49: PerformanceWarning: DataFrame is highly fragmented.  This is usually the result of calling `frame.insert` many times, which has poor performance.  Consider joining all columns at once using pd.concat(axis=1) instead. To get a de-fragmented frame, use `newframe = frame.copy()`\n",
      "  df[f'Tag_{tag}'] = df['Tagi'].apply(lambda tags: 1 if tag in split_tags(tags) else 0)\n",
      "C:\\Users\\awodz\\AppData\\Local\\Temp\\ipykernel_25500\\3288987377.py:49: PerformanceWarning: DataFrame is highly fragmented.  This is usually the result of calling `frame.insert` many times, which has poor performance.  Consider joining all columns at once using pd.concat(axis=1) instead. To get a de-fragmented frame, use `newframe = frame.copy()`\n",
      "  df[f'Tag_{tag}'] = df['Tagi'].apply(lambda tags: 1 if tag in split_tags(tags) else 0)\n",
      "C:\\Users\\awodz\\AppData\\Local\\Temp\\ipykernel_25500\\3288987377.py:49: PerformanceWarning: DataFrame is highly fragmented.  This is usually the result of calling `frame.insert` many times, which has poor performance.  Consider joining all columns at once using pd.concat(axis=1) instead. To get a de-fragmented frame, use `newframe = frame.copy()`\n",
      "  df[f'Tag_{tag}'] = df['Tagi'].apply(lambda tags: 1 if tag in split_tags(tags) else 0)\n",
      "C:\\Users\\awodz\\AppData\\Local\\Temp\\ipykernel_25500\\3288987377.py:49: PerformanceWarning: DataFrame is highly fragmented.  This is usually the result of calling `frame.insert` many times, which has poor performance.  Consider joining all columns at once using pd.concat(axis=1) instead. To get a de-fragmented frame, use `newframe = frame.copy()`\n",
      "  df[f'Tag_{tag}'] = df['Tagi'].apply(lambda tags: 1 if tag in split_tags(tags) else 0)\n",
      "C:\\Users\\awodz\\AppData\\Local\\Temp\\ipykernel_25500\\3288987377.py:49: PerformanceWarning: DataFrame is highly fragmented.  This is usually the result of calling `frame.insert` many times, which has poor performance.  Consider joining all columns at once using pd.concat(axis=1) instead. To get a de-fragmented frame, use `newframe = frame.copy()`\n",
      "  df[f'Tag_{tag}'] = df['Tagi'].apply(lambda tags: 1 if tag in split_tags(tags) else 0)\n",
      "C:\\Users\\awodz\\AppData\\Local\\Temp\\ipykernel_25500\\3288987377.py:49: PerformanceWarning: DataFrame is highly fragmented.  This is usually the result of calling `frame.insert` many times, which has poor performance.  Consider joining all columns at once using pd.concat(axis=1) instead. To get a de-fragmented frame, use `newframe = frame.copy()`\n",
      "  df[f'Tag_{tag}'] = df['Tagi'].apply(lambda tags: 1 if tag in split_tags(tags) else 0)\n",
      "C:\\Users\\awodz\\AppData\\Local\\Temp\\ipykernel_25500\\3288987377.py:49: PerformanceWarning: DataFrame is highly fragmented.  This is usually the result of calling `frame.insert` many times, which has poor performance.  Consider joining all columns at once using pd.concat(axis=1) instead. To get a de-fragmented frame, use `newframe = frame.copy()`\n",
      "  df[f'Tag_{tag}'] = df['Tagi'].apply(lambda tags: 1 if tag in split_tags(tags) else 0)\n",
      "C:\\Users\\awodz\\AppData\\Local\\Temp\\ipykernel_25500\\3288987377.py:49: PerformanceWarning: DataFrame is highly fragmented.  This is usually the result of calling `frame.insert` many times, which has poor performance.  Consider joining all columns at once using pd.concat(axis=1) instead. To get a de-fragmented frame, use `newframe = frame.copy()`\n",
      "  df[f'Tag_{tag}'] = df['Tagi'].apply(lambda tags: 1 if tag in split_tags(tags) else 0)\n",
      "C:\\Users\\awodz\\AppData\\Local\\Temp\\ipykernel_25500\\3288987377.py:49: PerformanceWarning: DataFrame is highly fragmented.  This is usually the result of calling `frame.insert` many times, which has poor performance.  Consider joining all columns at once using pd.concat(axis=1) instead. To get a de-fragmented frame, use `newframe = frame.copy()`\n",
      "  df[f'Tag_{tag}'] = df['Tagi'].apply(lambda tags: 1 if tag in split_tags(tags) else 0)\n",
      "C:\\Users\\awodz\\AppData\\Local\\Temp\\ipykernel_25500\\3288987377.py:49: PerformanceWarning: DataFrame is highly fragmented.  This is usually the result of calling `frame.insert` many times, which has poor performance.  Consider joining all columns at once using pd.concat(axis=1) instead. To get a de-fragmented frame, use `newframe = frame.copy()`\n",
      "  df[f'Tag_{tag}'] = df['Tagi'].apply(lambda tags: 1 if tag in split_tags(tags) else 0)\n",
      "C:\\Users\\awodz\\AppData\\Local\\Temp\\ipykernel_25500\\3288987377.py:49: PerformanceWarning: DataFrame is highly fragmented.  This is usually the result of calling `frame.insert` many times, which has poor performance.  Consider joining all columns at once using pd.concat(axis=1) instead. To get a de-fragmented frame, use `newframe = frame.copy()`\n",
      "  df[f'Tag_{tag}'] = df['Tagi'].apply(lambda tags: 1 if tag in split_tags(tags) else 0)\n",
      "C:\\Users\\awodz\\AppData\\Local\\Temp\\ipykernel_25500\\3288987377.py:49: PerformanceWarning: DataFrame is highly fragmented.  This is usually the result of calling `frame.insert` many times, which has poor performance.  Consider joining all columns at once using pd.concat(axis=1) instead. To get a de-fragmented frame, use `newframe = frame.copy()`\n",
      "  df[f'Tag_{tag}'] = df['Tagi'].apply(lambda tags: 1 if tag in split_tags(tags) else 0)\n",
      "C:\\Users\\awodz\\AppData\\Local\\Temp\\ipykernel_25500\\3288987377.py:49: PerformanceWarning: DataFrame is highly fragmented.  This is usually the result of calling `frame.insert` many times, which has poor performance.  Consider joining all columns at once using pd.concat(axis=1) instead. To get a de-fragmented frame, use `newframe = frame.copy()`\n",
      "  df[f'Tag_{tag}'] = df['Tagi'].apply(lambda tags: 1 if tag in split_tags(tags) else 0)\n",
      "C:\\Users\\awodz\\AppData\\Local\\Temp\\ipykernel_25500\\3288987377.py:49: PerformanceWarning: DataFrame is highly fragmented.  This is usually the result of calling `frame.insert` many times, which has poor performance.  Consider joining all columns at once using pd.concat(axis=1) instead. To get a de-fragmented frame, use `newframe = frame.copy()`\n",
      "  df[f'Tag_{tag}'] = df['Tagi'].apply(lambda tags: 1 if tag in split_tags(tags) else 0)\n",
      "C:\\Users\\awodz\\AppData\\Local\\Temp\\ipykernel_25500\\3288987377.py:49: PerformanceWarning: DataFrame is highly fragmented.  This is usually the result of calling `frame.insert` many times, which has poor performance.  Consider joining all columns at once using pd.concat(axis=1) instead. To get a de-fragmented frame, use `newframe = frame.copy()`\n",
      "  df[f'Tag_{tag}'] = df['Tagi'].apply(lambda tags: 1 if tag in split_tags(tags) else 0)\n",
      "C:\\Users\\awodz\\AppData\\Local\\Temp\\ipykernel_25500\\3288987377.py:49: PerformanceWarning: DataFrame is highly fragmented.  This is usually the result of calling `frame.insert` many times, which has poor performance.  Consider joining all columns at once using pd.concat(axis=1) instead. To get a de-fragmented frame, use `newframe = frame.copy()`\n",
      "  df[f'Tag_{tag}'] = df['Tagi'].apply(lambda tags: 1 if tag in split_tags(tags) else 0)\n",
      "C:\\Users\\awodz\\AppData\\Local\\Temp\\ipykernel_25500\\3288987377.py:49: PerformanceWarning: DataFrame is highly fragmented.  This is usually the result of calling `frame.insert` many times, which has poor performance.  Consider joining all columns at once using pd.concat(axis=1) instead. To get a de-fragmented frame, use `newframe = frame.copy()`\n",
      "  df[f'Tag_{tag}'] = df['Tagi'].apply(lambda tags: 1 if tag in split_tags(tags) else 0)\n",
      "C:\\Users\\awodz\\AppData\\Local\\Temp\\ipykernel_25500\\3288987377.py:49: PerformanceWarning: DataFrame is highly fragmented.  This is usually the result of calling `frame.insert` many times, which has poor performance.  Consider joining all columns at once using pd.concat(axis=1) instead. To get a de-fragmented frame, use `newframe = frame.copy()`\n",
      "  df[f'Tag_{tag}'] = df['Tagi'].apply(lambda tags: 1 if tag in split_tags(tags) else 0)\n",
      "C:\\Users\\awodz\\AppData\\Local\\Temp\\ipykernel_25500\\3288987377.py:49: PerformanceWarning: DataFrame is highly fragmented.  This is usually the result of calling `frame.insert` many times, which has poor performance.  Consider joining all columns at once using pd.concat(axis=1) instead. To get a de-fragmented frame, use `newframe = frame.copy()`\n",
      "  df[f'Tag_{tag}'] = df['Tagi'].apply(lambda tags: 1 if tag in split_tags(tags) else 0)\n",
      "C:\\Users\\awodz\\AppData\\Local\\Temp\\ipykernel_25500\\3288987377.py:49: PerformanceWarning: DataFrame is highly fragmented.  This is usually the result of calling `frame.insert` many times, which has poor performance.  Consider joining all columns at once using pd.concat(axis=1) instead. To get a de-fragmented frame, use `newframe = frame.copy()`\n",
      "  df[f'Tag_{tag}'] = df['Tagi'].apply(lambda tags: 1 if tag in split_tags(tags) else 0)\n",
      "C:\\Users\\awodz\\AppData\\Local\\Temp\\ipykernel_25500\\3288987377.py:49: PerformanceWarning: DataFrame is highly fragmented.  This is usually the result of calling `frame.insert` many times, which has poor performance.  Consider joining all columns at once using pd.concat(axis=1) instead. To get a de-fragmented frame, use `newframe = frame.copy()`\n",
      "  df[f'Tag_{tag}'] = df['Tagi'].apply(lambda tags: 1 if tag in split_tags(tags) else 0)\n",
      "C:\\Users\\awodz\\AppData\\Local\\Temp\\ipykernel_25500\\3288987377.py:49: PerformanceWarning: DataFrame is highly fragmented.  This is usually the result of calling `frame.insert` many times, which has poor performance.  Consider joining all columns at once using pd.concat(axis=1) instead. To get a de-fragmented frame, use `newframe = frame.copy()`\n",
      "  df[f'Tag_{tag}'] = df['Tagi'].apply(lambda tags: 1 if tag in split_tags(tags) else 0)\n",
      "C:\\Users\\awodz\\AppData\\Local\\Temp\\ipykernel_25500\\3288987377.py:49: PerformanceWarning: DataFrame is highly fragmented.  This is usually the result of calling `frame.insert` many times, which has poor performance.  Consider joining all columns at once using pd.concat(axis=1) instead. To get a de-fragmented frame, use `newframe = frame.copy()`\n",
      "  df[f'Tag_{tag}'] = df['Tagi'].apply(lambda tags: 1 if tag in split_tags(tags) else 0)\n",
      "C:\\Users\\awodz\\AppData\\Local\\Temp\\ipykernel_25500\\3288987377.py:49: PerformanceWarning: DataFrame is highly fragmented.  This is usually the result of calling `frame.insert` many times, which has poor performance.  Consider joining all columns at once using pd.concat(axis=1) instead. To get a de-fragmented frame, use `newframe = frame.copy()`\n",
      "  df[f'Tag_{tag}'] = df['Tagi'].apply(lambda tags: 1 if tag in split_tags(tags) else 0)\n",
      "C:\\Users\\awodz\\AppData\\Local\\Temp\\ipykernel_25500\\3288987377.py:49: PerformanceWarning: DataFrame is highly fragmented.  This is usually the result of calling `frame.insert` many times, which has poor performance.  Consider joining all columns at once using pd.concat(axis=1) instead. To get a de-fragmented frame, use `newframe = frame.copy()`\n",
      "  df[f'Tag_{tag}'] = df['Tagi'].apply(lambda tags: 1 if tag in split_tags(tags) else 0)\n",
      "C:\\Users\\awodz\\AppData\\Local\\Temp\\ipykernel_25500\\3288987377.py:49: PerformanceWarning: DataFrame is highly fragmented.  This is usually the result of calling `frame.insert` many times, which has poor performance.  Consider joining all columns at once using pd.concat(axis=1) instead. To get a de-fragmented frame, use `newframe = frame.copy()`\n",
      "  df[f'Tag_{tag}'] = df['Tagi'].apply(lambda tags: 1 if tag in split_tags(tags) else 0)\n",
      "C:\\Users\\awodz\\AppData\\Local\\Temp\\ipykernel_25500\\3288987377.py:49: PerformanceWarning: DataFrame is highly fragmented.  This is usually the result of calling `frame.insert` many times, which has poor performance.  Consider joining all columns at once using pd.concat(axis=1) instead. To get a de-fragmented frame, use `newframe = frame.copy()`\n",
      "  df[f'Tag_{tag}'] = df['Tagi'].apply(lambda tags: 1 if tag in split_tags(tags) else 0)\n",
      "C:\\Users\\awodz\\AppData\\Local\\Temp\\ipykernel_25500\\3288987377.py:49: PerformanceWarning: DataFrame is highly fragmented.  This is usually the result of calling `frame.insert` many times, which has poor performance.  Consider joining all columns at once using pd.concat(axis=1) instead. To get a de-fragmented frame, use `newframe = frame.copy()`\n",
      "  df[f'Tag_{tag}'] = df['Tagi'].apply(lambda tags: 1 if tag in split_tags(tags) else 0)\n",
      "C:\\Users\\awodz\\AppData\\Local\\Temp\\ipykernel_25500\\3288987377.py:49: PerformanceWarning: DataFrame is highly fragmented.  This is usually the result of calling `frame.insert` many times, which has poor performance.  Consider joining all columns at once using pd.concat(axis=1) instead. To get a de-fragmented frame, use `newframe = frame.copy()`\n",
      "  df[f'Tag_{tag}'] = df['Tagi'].apply(lambda tags: 1 if tag in split_tags(tags) else 0)\n",
      "C:\\Users\\awodz\\AppData\\Local\\Temp\\ipykernel_25500\\3288987377.py:49: PerformanceWarning: DataFrame is highly fragmented.  This is usually the result of calling `frame.insert` many times, which has poor performance.  Consider joining all columns at once using pd.concat(axis=1) instead. To get a de-fragmented frame, use `newframe = frame.copy()`\n",
      "  df[f'Tag_{tag}'] = df['Tagi'].apply(lambda tags: 1 if tag in split_tags(tags) else 0)\n",
      "C:\\Users\\awodz\\AppData\\Local\\Temp\\ipykernel_25500\\3288987377.py:49: PerformanceWarning: DataFrame is highly fragmented.  This is usually the result of calling `frame.insert` many times, which has poor performance.  Consider joining all columns at once using pd.concat(axis=1) instead. To get a de-fragmented frame, use `newframe = frame.copy()`\n",
      "  df[f'Tag_{tag}'] = df['Tagi'].apply(lambda tags: 1 if tag in split_tags(tags) else 0)\n",
      "C:\\Users\\awodz\\AppData\\Local\\Temp\\ipykernel_25500\\3288987377.py:49: PerformanceWarning: DataFrame is highly fragmented.  This is usually the result of calling `frame.insert` many times, which has poor performance.  Consider joining all columns at once using pd.concat(axis=1) instead. To get a de-fragmented frame, use `newframe = frame.copy()`\n",
      "  df[f'Tag_{tag}'] = df['Tagi'].apply(lambda tags: 1 if tag in split_tags(tags) else 0)\n",
      "C:\\Users\\awodz\\AppData\\Local\\Temp\\ipykernel_25500\\3288987377.py:49: PerformanceWarning: DataFrame is highly fragmented.  This is usually the result of calling `frame.insert` many times, which has poor performance.  Consider joining all columns at once using pd.concat(axis=1) instead. To get a de-fragmented frame, use `newframe = frame.copy()`\n",
      "  df[f'Tag_{tag}'] = df['Tagi'].apply(lambda tags: 1 if tag in split_tags(tags) else 0)\n",
      "C:\\Users\\awodz\\AppData\\Local\\Temp\\ipykernel_25500\\3288987377.py:49: PerformanceWarning: DataFrame is highly fragmented.  This is usually the result of calling `frame.insert` many times, which has poor performance.  Consider joining all columns at once using pd.concat(axis=1) instead. To get a de-fragmented frame, use `newframe = frame.copy()`\n",
      "  df[f'Tag_{tag}'] = df['Tagi'].apply(lambda tags: 1 if tag in split_tags(tags) else 0)\n",
      "C:\\Users\\awodz\\AppData\\Local\\Temp\\ipykernel_25500\\3288987377.py:49: PerformanceWarning: DataFrame is highly fragmented.  This is usually the result of calling `frame.insert` many times, which has poor performance.  Consider joining all columns at once using pd.concat(axis=1) instead. To get a de-fragmented frame, use `newframe = frame.copy()`\n",
      "  df[f'Tag_{tag}'] = df['Tagi'].apply(lambda tags: 1 if tag in split_tags(tags) else 0)\n",
      "C:\\Users\\awodz\\AppData\\Local\\Temp\\ipykernel_25500\\3288987377.py:49: PerformanceWarning: DataFrame is highly fragmented.  This is usually the result of calling `frame.insert` many times, which has poor performance.  Consider joining all columns at once using pd.concat(axis=1) instead. To get a de-fragmented frame, use `newframe = frame.copy()`\n",
      "  df[f'Tag_{tag}'] = df['Tagi'].apply(lambda tags: 1 if tag in split_tags(tags) else 0)\n",
      "C:\\Users\\awodz\\AppData\\Local\\Temp\\ipykernel_25500\\3288987377.py:49: PerformanceWarning: DataFrame is highly fragmented.  This is usually the result of calling `frame.insert` many times, which has poor performance.  Consider joining all columns at once using pd.concat(axis=1) instead. To get a de-fragmented frame, use `newframe = frame.copy()`\n",
      "  df[f'Tag_{tag}'] = df['Tagi'].apply(lambda tags: 1 if tag in split_tags(tags) else 0)\n",
      "C:\\Users\\awodz\\AppData\\Local\\Temp\\ipykernel_25500\\3288987377.py:49: PerformanceWarning: DataFrame is highly fragmented.  This is usually the result of calling `frame.insert` many times, which has poor performance.  Consider joining all columns at once using pd.concat(axis=1) instead. To get a de-fragmented frame, use `newframe = frame.copy()`\n",
      "  df[f'Tag_{tag}'] = df['Tagi'].apply(lambda tags: 1 if tag in split_tags(tags) else 0)\n",
      "C:\\Users\\awodz\\AppData\\Local\\Temp\\ipykernel_25500\\3288987377.py:49: PerformanceWarning: DataFrame is highly fragmented.  This is usually the result of calling `frame.insert` many times, which has poor performance.  Consider joining all columns at once using pd.concat(axis=1) instead. To get a de-fragmented frame, use `newframe = frame.copy()`\n",
      "  df[f'Tag_{tag}'] = df['Tagi'].apply(lambda tags: 1 if tag in split_tags(tags) else 0)\n",
      "C:\\Users\\awodz\\AppData\\Local\\Temp\\ipykernel_25500\\3288987377.py:49: PerformanceWarning: DataFrame is highly fragmented.  This is usually the result of calling `frame.insert` many times, which has poor performance.  Consider joining all columns at once using pd.concat(axis=1) instead. To get a de-fragmented frame, use `newframe = frame.copy()`\n",
      "  df[f'Tag_{tag}'] = df['Tagi'].apply(lambda tags: 1 if tag in split_tags(tags) else 0)\n",
      "C:\\Users\\awodz\\AppData\\Local\\Temp\\ipykernel_25500\\3288987377.py:49: PerformanceWarning: DataFrame is highly fragmented.  This is usually the result of calling `frame.insert` many times, which has poor performance.  Consider joining all columns at once using pd.concat(axis=1) instead. To get a de-fragmented frame, use `newframe = frame.copy()`\n",
      "  df[f'Tag_{tag}'] = df['Tagi'].apply(lambda tags: 1 if tag in split_tags(tags) else 0)\n",
      "C:\\Users\\awodz\\AppData\\Local\\Temp\\ipykernel_25500\\3288987377.py:49: PerformanceWarning: DataFrame is highly fragmented.  This is usually the result of calling `frame.insert` many times, which has poor performance.  Consider joining all columns at once using pd.concat(axis=1) instead. To get a de-fragmented frame, use `newframe = frame.copy()`\n",
      "  df[f'Tag_{tag}'] = df['Tagi'].apply(lambda tags: 1 if tag in split_tags(tags) else 0)\n",
      "C:\\Users\\awodz\\AppData\\Local\\Temp\\ipykernel_25500\\3288987377.py:49: PerformanceWarning: DataFrame is highly fragmented.  This is usually the result of calling `frame.insert` many times, which has poor performance.  Consider joining all columns at once using pd.concat(axis=1) instead. To get a de-fragmented frame, use `newframe = frame.copy()`\n",
      "  df[f'Tag_{tag}'] = df['Tagi'].apply(lambda tags: 1 if tag in split_tags(tags) else 0)\n",
      "C:\\Users\\awodz\\AppData\\Local\\Temp\\ipykernel_25500\\3288987377.py:49: PerformanceWarning: DataFrame is highly fragmented.  This is usually the result of calling `frame.insert` many times, which has poor performance.  Consider joining all columns at once using pd.concat(axis=1) instead. To get a de-fragmented frame, use `newframe = frame.copy()`\n",
      "  df[f'Tag_{tag}'] = df['Tagi'].apply(lambda tags: 1 if tag in split_tags(tags) else 0)\n",
      "C:\\Users\\awodz\\AppData\\Local\\Temp\\ipykernel_25500\\3288987377.py:49: PerformanceWarning: DataFrame is highly fragmented.  This is usually the result of calling `frame.insert` many times, which has poor performance.  Consider joining all columns at once using pd.concat(axis=1) instead. To get a de-fragmented frame, use `newframe = frame.copy()`\n",
      "  df[f'Tag_{tag}'] = df['Tagi'].apply(lambda tags: 1 if tag in split_tags(tags) else 0)\n",
      "C:\\Users\\awodz\\AppData\\Local\\Temp\\ipykernel_25500\\3288987377.py:49: PerformanceWarning: DataFrame is highly fragmented.  This is usually the result of calling `frame.insert` many times, which has poor performance.  Consider joining all columns at once using pd.concat(axis=1) instead. To get a de-fragmented frame, use `newframe = frame.copy()`\n",
      "  df[f'Tag_{tag}'] = df['Tagi'].apply(lambda tags: 1 if tag in split_tags(tags) else 0)\n",
      "C:\\Users\\awodz\\AppData\\Local\\Temp\\ipykernel_25500\\3288987377.py:49: PerformanceWarning: DataFrame is highly fragmented.  This is usually the result of calling `frame.insert` many times, which has poor performance.  Consider joining all columns at once using pd.concat(axis=1) instead. To get a de-fragmented frame, use `newframe = frame.copy()`\n",
      "  df[f'Tag_{tag}'] = df['Tagi'].apply(lambda tags: 1 if tag in split_tags(tags) else 0)\n",
      "C:\\Users\\awodz\\AppData\\Local\\Temp\\ipykernel_25500\\3288987377.py:49: PerformanceWarning: DataFrame is highly fragmented.  This is usually the result of calling `frame.insert` many times, which has poor performance.  Consider joining all columns at once using pd.concat(axis=1) instead. To get a de-fragmented frame, use `newframe = frame.copy()`\n",
      "  df[f'Tag_{tag}'] = df['Tagi'].apply(lambda tags: 1 if tag in split_tags(tags) else 0)\n",
      "C:\\Users\\awodz\\AppData\\Local\\Temp\\ipykernel_25500\\3288987377.py:49: PerformanceWarning: DataFrame is highly fragmented.  This is usually the result of calling `frame.insert` many times, which has poor performance.  Consider joining all columns at once using pd.concat(axis=1) instead. To get a de-fragmented frame, use `newframe = frame.copy()`\n",
      "  df[f'Tag_{tag}'] = df['Tagi'].apply(lambda tags: 1 if tag in split_tags(tags) else 0)\n",
      "C:\\Users\\awodz\\AppData\\Local\\Temp\\ipykernel_25500\\3288987377.py:49: PerformanceWarning: DataFrame is highly fragmented.  This is usually the result of calling `frame.insert` many times, which has poor performance.  Consider joining all columns at once using pd.concat(axis=1) instead. To get a de-fragmented frame, use `newframe = frame.copy()`\n",
      "  df[f'Tag_{tag}'] = df['Tagi'].apply(lambda tags: 1 if tag in split_tags(tags) else 0)\n",
      "C:\\Users\\awodz\\AppData\\Local\\Temp\\ipykernel_25500\\3288987377.py:49: PerformanceWarning: DataFrame is highly fragmented.  This is usually the result of calling `frame.insert` many times, which has poor performance.  Consider joining all columns at once using pd.concat(axis=1) instead. To get a de-fragmented frame, use `newframe = frame.copy()`\n",
      "  df[f'Tag_{tag}'] = df['Tagi'].apply(lambda tags: 1 if tag in split_tags(tags) else 0)\n",
      "C:\\Users\\awodz\\AppData\\Local\\Temp\\ipykernel_25500\\3288987377.py:49: PerformanceWarning: DataFrame is highly fragmented.  This is usually the result of calling `frame.insert` many times, which has poor performance.  Consider joining all columns at once using pd.concat(axis=1) instead. To get a de-fragmented frame, use `newframe = frame.copy()`\n",
      "  df[f'Tag_{tag}'] = df['Tagi'].apply(lambda tags: 1 if tag in split_tags(tags) else 0)\n",
      "C:\\Users\\awodz\\AppData\\Local\\Temp\\ipykernel_25500\\3288987377.py:49: PerformanceWarning: DataFrame is highly fragmented.  This is usually the result of calling `frame.insert` many times, which has poor performance.  Consider joining all columns at once using pd.concat(axis=1) instead. To get a de-fragmented frame, use `newframe = frame.copy()`\n",
      "  df[f'Tag_{tag}'] = df['Tagi'].apply(lambda tags: 1 if tag in split_tags(tags) else 0)\n",
      "C:\\Users\\awodz\\AppData\\Local\\Temp\\ipykernel_25500\\3288987377.py:49: PerformanceWarning: DataFrame is highly fragmented.  This is usually the result of calling `frame.insert` many times, which has poor performance.  Consider joining all columns at once using pd.concat(axis=1) instead. To get a de-fragmented frame, use `newframe = frame.copy()`\n",
      "  df[f'Tag_{tag}'] = df['Tagi'].apply(lambda tags: 1 if tag in split_tags(tags) else 0)\n",
      "C:\\Users\\awodz\\AppData\\Local\\Temp\\ipykernel_25500\\3288987377.py:49: PerformanceWarning: DataFrame is highly fragmented.  This is usually the result of calling `frame.insert` many times, which has poor performance.  Consider joining all columns at once using pd.concat(axis=1) instead. To get a de-fragmented frame, use `newframe = frame.copy()`\n",
      "  df[f'Tag_{tag}'] = df['Tagi'].apply(lambda tags: 1 if tag in split_tags(tags) else 0)\n",
      "C:\\Users\\awodz\\AppData\\Local\\Temp\\ipykernel_25500\\3288987377.py:49: PerformanceWarning: DataFrame is highly fragmented.  This is usually the result of calling `frame.insert` many times, which has poor performance.  Consider joining all columns at once using pd.concat(axis=1) instead. To get a de-fragmented frame, use `newframe = frame.copy()`\n",
      "  df[f'Tag_{tag}'] = df['Tagi'].apply(lambda tags: 1 if tag in split_tags(tags) else 0)\n",
      "C:\\Users\\awodz\\AppData\\Local\\Temp\\ipykernel_25500\\3288987377.py:49: PerformanceWarning: DataFrame is highly fragmented.  This is usually the result of calling `frame.insert` many times, which has poor performance.  Consider joining all columns at once using pd.concat(axis=1) instead. To get a de-fragmented frame, use `newframe = frame.copy()`\n",
      "  df[f'Tag_{tag}'] = df['Tagi'].apply(lambda tags: 1 if tag in split_tags(tags) else 0)\n",
      "C:\\Users\\awodz\\AppData\\Local\\Temp\\ipykernel_25500\\3288987377.py:49: PerformanceWarning: DataFrame is highly fragmented.  This is usually the result of calling `frame.insert` many times, which has poor performance.  Consider joining all columns at once using pd.concat(axis=1) instead. To get a de-fragmented frame, use `newframe = frame.copy()`\n",
      "  df[f'Tag_{tag}'] = df['Tagi'].apply(lambda tags: 1 if tag in split_tags(tags) else 0)\n",
      "C:\\Users\\awodz\\AppData\\Local\\Temp\\ipykernel_25500\\3288987377.py:49: PerformanceWarning: DataFrame is highly fragmented.  This is usually the result of calling `frame.insert` many times, which has poor performance.  Consider joining all columns at once using pd.concat(axis=1) instead. To get a de-fragmented frame, use `newframe = frame.copy()`\n",
      "  df[f'Tag_{tag}'] = df['Tagi'].apply(lambda tags: 1 if tag in split_tags(tags) else 0)\n",
      "C:\\Users\\awodz\\AppData\\Local\\Temp\\ipykernel_25500\\3288987377.py:49: PerformanceWarning: DataFrame is highly fragmented.  This is usually the result of calling `frame.insert` many times, which has poor performance.  Consider joining all columns at once using pd.concat(axis=1) instead. To get a de-fragmented frame, use `newframe = frame.copy()`\n",
      "  df[f'Tag_{tag}'] = df['Tagi'].apply(lambda tags: 1 if tag in split_tags(tags) else 0)\n",
      "C:\\Users\\awodz\\AppData\\Local\\Temp\\ipykernel_25500\\3288987377.py:49: PerformanceWarning: DataFrame is highly fragmented.  This is usually the result of calling `frame.insert` many times, which has poor performance.  Consider joining all columns at once using pd.concat(axis=1) instead. To get a de-fragmented frame, use `newframe = frame.copy()`\n",
      "  df[f'Tag_{tag}'] = df['Tagi'].apply(lambda tags: 1 if tag in split_tags(tags) else 0)\n",
      "C:\\Users\\awodz\\AppData\\Local\\Temp\\ipykernel_25500\\3288987377.py:49: PerformanceWarning: DataFrame is highly fragmented.  This is usually the result of calling `frame.insert` many times, which has poor performance.  Consider joining all columns at once using pd.concat(axis=1) instead. To get a de-fragmented frame, use `newframe = frame.copy()`\n",
      "  df[f'Tag_{tag}'] = df['Tagi'].apply(lambda tags: 1 if tag in split_tags(tags) else 0)\n",
      "C:\\Users\\awodz\\AppData\\Local\\Temp\\ipykernel_25500\\3288987377.py:49: PerformanceWarning: DataFrame is highly fragmented.  This is usually the result of calling `frame.insert` many times, which has poor performance.  Consider joining all columns at once using pd.concat(axis=1) instead. To get a de-fragmented frame, use `newframe = frame.copy()`\n",
      "  df[f'Tag_{tag}'] = df['Tagi'].apply(lambda tags: 1 if tag in split_tags(tags) else 0)\n",
      "C:\\Users\\awodz\\AppData\\Local\\Temp\\ipykernel_25500\\3288987377.py:49: PerformanceWarning: DataFrame is highly fragmented.  This is usually the result of calling `frame.insert` many times, which has poor performance.  Consider joining all columns at once using pd.concat(axis=1) instead. To get a de-fragmented frame, use `newframe = frame.copy()`\n",
      "  df[f'Tag_{tag}'] = df['Tagi'].apply(lambda tags: 1 if tag in split_tags(tags) else 0)\n",
      "C:\\Users\\awodz\\AppData\\Local\\Temp\\ipykernel_25500\\3288987377.py:49: PerformanceWarning: DataFrame is highly fragmented.  This is usually the result of calling `frame.insert` many times, which has poor performance.  Consider joining all columns at once using pd.concat(axis=1) instead. To get a de-fragmented frame, use `newframe = frame.copy()`\n",
      "  df[f'Tag_{tag}'] = df['Tagi'].apply(lambda tags: 1 if tag in split_tags(tags) else 0)\n",
      "C:\\Users\\awodz\\AppData\\Local\\Temp\\ipykernel_25500\\3288987377.py:49: PerformanceWarning: DataFrame is highly fragmented.  This is usually the result of calling `frame.insert` many times, which has poor performance.  Consider joining all columns at once using pd.concat(axis=1) instead. To get a de-fragmented frame, use `newframe = frame.copy()`\n",
      "  df[f'Tag_{tag}'] = df['Tagi'].apply(lambda tags: 1 if tag in split_tags(tags) else 0)\n",
      "C:\\Users\\awodz\\AppData\\Local\\Temp\\ipykernel_25500\\3288987377.py:49: PerformanceWarning: DataFrame is highly fragmented.  This is usually the result of calling `frame.insert` many times, which has poor performance.  Consider joining all columns at once using pd.concat(axis=1) instead. To get a de-fragmented frame, use `newframe = frame.copy()`\n",
      "  df[f'Tag_{tag}'] = df['Tagi'].apply(lambda tags: 1 if tag in split_tags(tags) else 0)\n",
      "C:\\Users\\awodz\\AppData\\Local\\Temp\\ipykernel_25500\\3288987377.py:49: PerformanceWarning: DataFrame is highly fragmented.  This is usually the result of calling `frame.insert` many times, which has poor performance.  Consider joining all columns at once using pd.concat(axis=1) instead. To get a de-fragmented frame, use `newframe = frame.copy()`\n",
      "  df[f'Tag_{tag}'] = df['Tagi'].apply(lambda tags: 1 if tag in split_tags(tags) else 0)\n",
      "C:\\Users\\awodz\\AppData\\Local\\Temp\\ipykernel_25500\\3288987377.py:49: PerformanceWarning: DataFrame is highly fragmented.  This is usually the result of calling `frame.insert` many times, which has poor performance.  Consider joining all columns at once using pd.concat(axis=1) instead. To get a de-fragmented frame, use `newframe = frame.copy()`\n",
      "  df[f'Tag_{tag}'] = df['Tagi'].apply(lambda tags: 1 if tag in split_tags(tags) else 0)\n",
      "C:\\Users\\awodz\\AppData\\Local\\Temp\\ipykernel_25500\\3288987377.py:49: PerformanceWarning: DataFrame is highly fragmented.  This is usually the result of calling `frame.insert` many times, which has poor performance.  Consider joining all columns at once using pd.concat(axis=1) instead. To get a de-fragmented frame, use `newframe = frame.copy()`\n",
      "  df[f'Tag_{tag}'] = df['Tagi'].apply(lambda tags: 1 if tag in split_tags(tags) else 0)\n",
      "C:\\Users\\awodz\\AppData\\Local\\Temp\\ipykernel_25500\\3288987377.py:49: PerformanceWarning: DataFrame is highly fragmented.  This is usually the result of calling `frame.insert` many times, which has poor performance.  Consider joining all columns at once using pd.concat(axis=1) instead. To get a de-fragmented frame, use `newframe = frame.copy()`\n",
      "  df[f'Tag_{tag}'] = df['Tagi'].apply(lambda tags: 1 if tag in split_tags(tags) else 0)\n",
      "C:\\Users\\awodz\\AppData\\Local\\Temp\\ipykernel_25500\\3288987377.py:49: PerformanceWarning: DataFrame is highly fragmented.  This is usually the result of calling `frame.insert` many times, which has poor performance.  Consider joining all columns at once using pd.concat(axis=1) instead. To get a de-fragmented frame, use `newframe = frame.copy()`\n",
      "  df[f'Tag_{tag}'] = df['Tagi'].apply(lambda tags: 1 if tag in split_tags(tags) else 0)\n",
      "C:\\Users\\awodz\\AppData\\Local\\Temp\\ipykernel_25500\\3288987377.py:49: PerformanceWarning: DataFrame is highly fragmented.  This is usually the result of calling `frame.insert` many times, which has poor performance.  Consider joining all columns at once using pd.concat(axis=1) instead. To get a de-fragmented frame, use `newframe = frame.copy()`\n",
      "  df[f'Tag_{tag}'] = df['Tagi'].apply(lambda tags: 1 if tag in split_tags(tags) else 0)\n",
      "C:\\Users\\awodz\\AppData\\Local\\Temp\\ipykernel_25500\\3288987377.py:49: PerformanceWarning: DataFrame is highly fragmented.  This is usually the result of calling `frame.insert` many times, which has poor performance.  Consider joining all columns at once using pd.concat(axis=1) instead. To get a de-fragmented frame, use `newframe = frame.copy()`\n",
      "  df[f'Tag_{tag}'] = df['Tagi'].apply(lambda tags: 1 if tag in split_tags(tags) else 0)\n",
      "C:\\Users\\awodz\\AppData\\Local\\Temp\\ipykernel_25500\\3288987377.py:49: PerformanceWarning: DataFrame is highly fragmented.  This is usually the result of calling `frame.insert` many times, which has poor performance.  Consider joining all columns at once using pd.concat(axis=1) instead. To get a de-fragmented frame, use `newframe = frame.copy()`\n",
      "  df[f'Tag_{tag}'] = df['Tagi'].apply(lambda tags: 1 if tag in split_tags(tags) else 0)\n",
      "C:\\Users\\awodz\\AppData\\Local\\Temp\\ipykernel_25500\\3288987377.py:49: PerformanceWarning: DataFrame is highly fragmented.  This is usually the result of calling `frame.insert` many times, which has poor performance.  Consider joining all columns at once using pd.concat(axis=1) instead. To get a de-fragmented frame, use `newframe = frame.copy()`\n",
      "  df[f'Tag_{tag}'] = df['Tagi'].apply(lambda tags: 1 if tag in split_tags(tags) else 0)\n",
      "C:\\Users\\awodz\\AppData\\Local\\Temp\\ipykernel_25500\\3288987377.py:49: PerformanceWarning: DataFrame is highly fragmented.  This is usually the result of calling `frame.insert` many times, which has poor performance.  Consider joining all columns at once using pd.concat(axis=1) instead. To get a de-fragmented frame, use `newframe = frame.copy()`\n",
      "  df[f'Tag_{tag}'] = df['Tagi'].apply(lambda tags: 1 if tag in split_tags(tags) else 0)\n",
      "C:\\Users\\awodz\\AppData\\Local\\Temp\\ipykernel_25500\\3288987377.py:49: PerformanceWarning: DataFrame is highly fragmented.  This is usually the result of calling `frame.insert` many times, which has poor performance.  Consider joining all columns at once using pd.concat(axis=1) instead. To get a de-fragmented frame, use `newframe = frame.copy()`\n",
      "  df[f'Tag_{tag}'] = df['Tagi'].apply(lambda tags: 1 if tag in split_tags(tags) else 0)\n",
      "C:\\Users\\awodz\\AppData\\Local\\Temp\\ipykernel_25500\\3288987377.py:49: PerformanceWarning: DataFrame is highly fragmented.  This is usually the result of calling `frame.insert` many times, which has poor performance.  Consider joining all columns at once using pd.concat(axis=1) instead. To get a de-fragmented frame, use `newframe = frame.copy()`\n",
      "  df[f'Tag_{tag}'] = df['Tagi'].apply(lambda tags: 1 if tag in split_tags(tags) else 0)\n",
      "C:\\Users\\awodz\\AppData\\Local\\Temp\\ipykernel_25500\\3288987377.py:49: PerformanceWarning: DataFrame is highly fragmented.  This is usually the result of calling `frame.insert` many times, which has poor performance.  Consider joining all columns at once using pd.concat(axis=1) instead. To get a de-fragmented frame, use `newframe = frame.copy()`\n",
      "  df[f'Tag_{tag}'] = df['Tagi'].apply(lambda tags: 1 if tag in split_tags(tags) else 0)\n",
      "C:\\Users\\awodz\\AppData\\Local\\Temp\\ipykernel_25500\\3288987377.py:49: PerformanceWarning: DataFrame is highly fragmented.  This is usually the result of calling `frame.insert` many times, which has poor performance.  Consider joining all columns at once using pd.concat(axis=1) instead. To get a de-fragmented frame, use `newframe = frame.copy()`\n",
      "  df[f'Tag_{tag}'] = df['Tagi'].apply(lambda tags: 1 if tag in split_tags(tags) else 0)\n",
      "C:\\Users\\awodz\\AppData\\Local\\Temp\\ipykernel_25500\\3288987377.py:49: PerformanceWarning: DataFrame is highly fragmented.  This is usually the result of calling `frame.insert` many times, which has poor performance.  Consider joining all columns at once using pd.concat(axis=1) instead. To get a de-fragmented frame, use `newframe = frame.copy()`\n",
      "  df[f'Tag_{tag}'] = df['Tagi'].apply(lambda tags: 1 if tag in split_tags(tags) else 0)\n",
      "C:\\Users\\awodz\\AppData\\Local\\Temp\\ipykernel_25500\\3288987377.py:49: PerformanceWarning: DataFrame is highly fragmented.  This is usually the result of calling `frame.insert` many times, which has poor performance.  Consider joining all columns at once using pd.concat(axis=1) instead. To get a de-fragmented frame, use `newframe = frame.copy()`\n",
      "  df[f'Tag_{tag}'] = df['Tagi'].apply(lambda tags: 1 if tag in split_tags(tags) else 0)\n",
      "C:\\Users\\awodz\\AppData\\Local\\Temp\\ipykernel_25500\\3288987377.py:49: PerformanceWarning: DataFrame is highly fragmented.  This is usually the result of calling `frame.insert` many times, which has poor performance.  Consider joining all columns at once using pd.concat(axis=1) instead. To get a de-fragmented frame, use `newframe = frame.copy()`\n",
      "  df[f'Tag_{tag}'] = df['Tagi'].apply(lambda tags: 1 if tag in split_tags(tags) else 0)\n",
      "C:\\Users\\awodz\\AppData\\Local\\Temp\\ipykernel_25500\\3288987377.py:49: PerformanceWarning: DataFrame is highly fragmented.  This is usually the result of calling `frame.insert` many times, which has poor performance.  Consider joining all columns at once using pd.concat(axis=1) instead. To get a de-fragmented frame, use `newframe = frame.copy()`\n",
      "  df[f'Tag_{tag}'] = df['Tagi'].apply(lambda tags: 1 if tag in split_tags(tags) else 0)\n",
      "C:\\Users\\awodz\\AppData\\Local\\Temp\\ipykernel_25500\\3288987377.py:49: PerformanceWarning: DataFrame is highly fragmented.  This is usually the result of calling `frame.insert` many times, which has poor performance.  Consider joining all columns at once using pd.concat(axis=1) instead. To get a de-fragmented frame, use `newframe = frame.copy()`\n",
      "  df[f'Tag_{tag}'] = df['Tagi'].apply(lambda tags: 1 if tag in split_tags(tags) else 0)\n",
      "C:\\Users\\awodz\\AppData\\Local\\Temp\\ipykernel_25500\\3288987377.py:49: PerformanceWarning: DataFrame is highly fragmented.  This is usually the result of calling `frame.insert` many times, which has poor performance.  Consider joining all columns at once using pd.concat(axis=1) instead. To get a de-fragmented frame, use `newframe = frame.copy()`\n",
      "  df[f'Tag_{tag}'] = df['Tagi'].apply(lambda tags: 1 if tag in split_tags(tags) else 0)\n",
      "C:\\Users\\awodz\\AppData\\Local\\Temp\\ipykernel_25500\\3288987377.py:49: PerformanceWarning: DataFrame is highly fragmented.  This is usually the result of calling `frame.insert` many times, which has poor performance.  Consider joining all columns at once using pd.concat(axis=1) instead. To get a de-fragmented frame, use `newframe = frame.copy()`\n",
      "  df[f'Tag_{tag}'] = df['Tagi'].apply(lambda tags: 1 if tag in split_tags(tags) else 0)\n",
      "C:\\Users\\awodz\\AppData\\Local\\Temp\\ipykernel_25500\\3288987377.py:49: PerformanceWarning: DataFrame is highly fragmented.  This is usually the result of calling `frame.insert` many times, which has poor performance.  Consider joining all columns at once using pd.concat(axis=1) instead. To get a de-fragmented frame, use `newframe = frame.copy()`\n",
      "  df[f'Tag_{tag}'] = df['Tagi'].apply(lambda tags: 1 if tag in split_tags(tags) else 0)\n",
      "C:\\Users\\awodz\\AppData\\Local\\Temp\\ipykernel_25500\\3288987377.py:49: PerformanceWarning: DataFrame is highly fragmented.  This is usually the result of calling `frame.insert` many times, which has poor performance.  Consider joining all columns at once using pd.concat(axis=1) instead. To get a de-fragmented frame, use `newframe = frame.copy()`\n",
      "  df[f'Tag_{tag}'] = df['Tagi'].apply(lambda tags: 1 if tag in split_tags(tags) else 0)\n",
      "C:\\Users\\awodz\\AppData\\Local\\Temp\\ipykernel_25500\\3288987377.py:49: PerformanceWarning: DataFrame is highly fragmented.  This is usually the result of calling `frame.insert` many times, which has poor performance.  Consider joining all columns at once using pd.concat(axis=1) instead. To get a de-fragmented frame, use `newframe = frame.copy()`\n",
      "  df[f'Tag_{tag}'] = df['Tagi'].apply(lambda tags: 1 if tag in split_tags(tags) else 0)\n",
      "C:\\Users\\awodz\\AppData\\Local\\Temp\\ipykernel_25500\\3288987377.py:49: PerformanceWarning: DataFrame is highly fragmented.  This is usually the result of calling `frame.insert` many times, which has poor performance.  Consider joining all columns at once using pd.concat(axis=1) instead. To get a de-fragmented frame, use `newframe = frame.copy()`\n",
      "  df[f'Tag_{tag}'] = df['Tagi'].apply(lambda tags: 1 if tag in split_tags(tags) else 0)\n",
      "C:\\Users\\awodz\\AppData\\Local\\Temp\\ipykernel_25500\\3288987377.py:49: PerformanceWarning: DataFrame is highly fragmented.  This is usually the result of calling `frame.insert` many times, which has poor performance.  Consider joining all columns at once using pd.concat(axis=1) instead. To get a de-fragmented frame, use `newframe = frame.copy()`\n",
      "  df[f'Tag_{tag}'] = df['Tagi'].apply(lambda tags: 1 if tag in split_tags(tags) else 0)\n",
      "C:\\Users\\awodz\\AppData\\Local\\Temp\\ipykernel_25500\\3288987377.py:49: PerformanceWarning: DataFrame is highly fragmented.  This is usually the result of calling `frame.insert` many times, which has poor performance.  Consider joining all columns at once using pd.concat(axis=1) instead. To get a de-fragmented frame, use `newframe = frame.copy()`\n",
      "  df[f'Tag_{tag}'] = df['Tagi'].apply(lambda tags: 1 if tag in split_tags(tags) else 0)\n",
      "C:\\Users\\awodz\\AppData\\Local\\Temp\\ipykernel_25500\\3288987377.py:49: PerformanceWarning: DataFrame is highly fragmented.  This is usually the result of calling `frame.insert` many times, which has poor performance.  Consider joining all columns at once using pd.concat(axis=1) instead. To get a de-fragmented frame, use `newframe = frame.copy()`\n",
      "  df[f'Tag_{tag}'] = df['Tagi'].apply(lambda tags: 1 if tag in split_tags(tags) else 0)\n",
      "C:\\Users\\awodz\\AppData\\Local\\Temp\\ipykernel_25500\\3288987377.py:49: PerformanceWarning: DataFrame is highly fragmented.  This is usually the result of calling `frame.insert` many times, which has poor performance.  Consider joining all columns at once using pd.concat(axis=1) instead. To get a de-fragmented frame, use `newframe = frame.copy()`\n",
      "  df[f'Tag_{tag}'] = df['Tagi'].apply(lambda tags: 1 if tag in split_tags(tags) else 0)\n",
      "C:\\Users\\awodz\\AppData\\Local\\Temp\\ipykernel_25500\\3288987377.py:49: PerformanceWarning: DataFrame is highly fragmented.  This is usually the result of calling `frame.insert` many times, which has poor performance.  Consider joining all columns at once using pd.concat(axis=1) instead. To get a de-fragmented frame, use `newframe = frame.copy()`\n",
      "  df[f'Tag_{tag}'] = df['Tagi'].apply(lambda tags: 1 if tag in split_tags(tags) else 0)\n",
      "C:\\Users\\awodz\\AppData\\Local\\Temp\\ipykernel_25500\\3288987377.py:49: PerformanceWarning: DataFrame is highly fragmented.  This is usually the result of calling `frame.insert` many times, which has poor performance.  Consider joining all columns at once using pd.concat(axis=1) instead. To get a de-fragmented frame, use `newframe = frame.copy()`\n",
      "  df[f'Tag_{tag}'] = df['Tagi'].apply(lambda tags: 1 if tag in split_tags(tags) else 0)\n",
      "C:\\Users\\awodz\\AppData\\Local\\Temp\\ipykernel_25500\\3288987377.py:49: PerformanceWarning: DataFrame is highly fragmented.  This is usually the result of calling `frame.insert` many times, which has poor performance.  Consider joining all columns at once using pd.concat(axis=1) instead. To get a de-fragmented frame, use `newframe = frame.copy()`\n",
      "  df[f'Tag_{tag}'] = df['Tagi'].apply(lambda tags: 1 if tag in split_tags(tags) else 0)\n"
     ]
    }
   ],
   "source": [
    "import pandas as pd\n",
    "\n",
    "# Dane wejściowe\n",
    "df = pd.DataFrame(data)\n",
    "\n",
    "# Przetwarzanie danych\n",
    "df = clean_data(df)\n"
   ]
  },
  {
   "cell_type": "code",
   "execution_count": 10,
   "metadata": {},
   "outputs": [],
   "source": [
    "import pandas as pd\n",
    "import numpy as np\n",
    "from scipy.stats import chi2_contingency\n",
    "import plotly.express as px\n",
    "\n",
    "def analyze_data(df):\n",
    "    # 1. Tworzenie tabeli krzyżowej tagów\n",
    "    def create_crosstab(df):\n",
    "        all_tags = [tag for tags in df['tags'] for tag in tags]  # Zbiór wszystkich tagów\n",
    "        unique_tags = sorted(set(all_tags))  # Unikalne tagi\n",
    "        \n",
    "        # Tworzenie macierzy obecności tagów\n",
    "        tag_matrix = pd.DataFrame(0, index=unique_tags, columns=unique_tags)\n",
    "        for tags in df['tags']:\n",
    "            for tag1 in tags:\n",
    "                for tag2 in tags:\n",
    "                    if tag1 != tag2:  # Ignorujemy współwystępowanie z samym sobą\n",
    "                        tag_matrix.loc[tag1, tag2] += 1\n",
    "        \n",
    "        return tag_matrix\n",
    "\n",
    "    # 2. Test chi-kwadrat na współwystępowanie tagów\n",
    "    def chi_square_analysis(tag_matrix):\n",
    "        chi2_results = []\n",
    "        for tag1 in tag_matrix.index:\n",
    "            for tag2 in tag_matrix.columns:\n",
    "                if tag1 != tag2:  # Test tylko dla różnych tagów\n",
    "                    obs = [[tag_matrix.loc[tag1, tag2], tag_matrix.loc[tag2, tag1]],\n",
    "                           [sum(tag_matrix.loc[tag1, :]), sum(tag_matrix.loc[:, tag2])]]\n",
    "                    _, p, _, _ = chi2_contingency(obs)\n",
    "                    chi2_results.append((tag1, tag2, p))\n",
    "        \n",
    "        return pd.DataFrame(chi2_results, columns=['Tag1', 'Tag2', 'P-value']).sort_values('P-value')\n",
    "\n",
    "    # 3. Analiza wpływu tagów na ceny\n",
    "    def tag_price_analysis(df):\n",
    "        tag_price_data = []\n",
    "        for tag in sorted(set(tag for tags in df['tags'] for tag in tags)):\n",
    "            filtered = df[df['tags'].apply(lambda tags: tag in tags)]\n",
    "            avg_price = filtered['price'].mean()\n",
    "            tag_price_data.append({'Tag': tag, 'Average Price': avg_price})\n",
    "        \n",
    "        return pd.DataFrame(tag_price_data).sort_values('Average Price', ascending=False)\n",
    "\n",
    "    # Tworzenie tabeli krzyżowej tagów\n",
    "    tag_matrix = create_crosstab(df)\n",
    "    print(\"Tabela krzyżowa tagów:\\n\", tag_matrix)\n",
    "\n",
    "    # Analiza współwystępowania tagów z testem chi-kwadrat\n",
    "    #chi2_results = chi_square_analysis(tag_matrix)\n",
    "    #print(\"Wyniki testu chi-kwadrat:\\n\", chi2_results.head(10))\n",
    "\n",
    "    # Analiza wpływu tagów na ceny\n",
    "    tag_price_df = tag_price_analysis(df)\n",
    "    print(\"Średnia cena dla poszczególnych tagów:\\n\", tag_price_df)\n",
    "\n",
    "    # Wizualizacja danych\n",
    "    fig1 = px.imshow(tag_matrix, text_auto=True, title=\"Współwystępowanie tagów (Tabela krzyżowa)\")\n",
    "    fig2 = px.bar(tag_price_df, x='Tag', y='Average Price', title=\"Średnia cena w zależności od tagu\", labels={'Tag': 'Tag', 'Average Price': 'Średnia cena'})\n",
    "    \n",
    "    fig1.show()\n",
    "    fig2.show()\n",
    "\n",
    "    return {\n",
    "        \"tag_matrix\": tag_matrix,\n",
    "        #\"chi2_results\": chi2_results,\n",
    "        \"tag_price_analysis\": tag_price_df\n",
    "    }\n"
   ]
  },
  {
   "cell_type": "code",
   "execution_count": null,
   "metadata": {},
   "outputs": [],
   "source": [
    "# Analiza\n",
    "analyze_data(df)\n"
   ]
  },
  {
   "cell_type": "code",
   "execution_count": 28,
   "metadata": {},
   "outputs": [
    {
     "data": {
      "application/vnd.plotly.v1+json": {
       "config": {
        "plotlyServerURL": "https://plot.ly"
       },
       "data": [
        {
         "alignmentgroup": "True",
         "bingroup": "x",
         "hovertemplate": "Cena=%{x}<br>count=%{y}<extra></extra>",
         "legendgroup": "",
         "marker": {
          "color": "#636efa",
          "pattern": {
           "shape": ""
          }
         },
         "name": "",
         "nbinsx": 20,
         "offsetgroup": "",
         "orientation": "v",
         "showlegend": false,
         "type": "histogram",
         "x": [
          0,
          157.49,
          55.49,
          10.79,
          169,
          0,
          46.24,
          199,
          45.86,
          40.49,
          13.89,
          45.99,
          124.79,
          75.59,
          99.99,
          35.63,
          71.99,
          164.99,
          229.99,
          55.99,
          49.75,
          45.86,
          91.99,
          0,
          64.49,
          199.99,
          9.19,
          72.59,
          20.39,
          22.99,
          69.99,
          0,
          19.01,
          42.25,
          0,
          13.79,
          31.75,
          79.99,
          86.34,
          0,
          75,
          63.99,
          169.9,
          0,
          84.99,
          59.99,
          83.39,
          65.99,
          139.99,
          17.99,
          59.99,
          0,
          219,
          49.99,
          39.97,
          61.19,
          23.39,
          107.99,
          13.99,
          259,
          37.48,
          35.8,
          219,
          29.99,
          29.99,
          58.49,
          89.99,
          15.99,
          29.97,
          299,
          32.19,
          138.74,
          0,
          19.99,
          138.99,
          79,
          68.64,
          35.98,
          45.99,
          14.39,
          269.9,
          67.99,
          72.99,
          259,
          185.59,
          39.99,
          0,
          12.6,
          14.99,
          208.49,
          8.99,
          229,
          0,
          114.99,
          73.59,
          27.99,
          32.39,
          45.99,
          0,
          48.59,
          111.3,
          149.99,
          118.3,
          115.08,
          35.99,
          55.19,
          71.99,
          179,
          125.09,
          138.99,
          21.59,
          199.99,
          49.17,
          6.89,
          0,
          59.99,
          159.9,
          43.99,
          35.74,
          45.99,
          44.99,
          7.49,
          199,
          0,
          24.99,
          82.99,
          17.49,
          45.99,
          45.99,
          171.9,
          32.24,
          114.99,
          119,
          53.99,
          69.9,
          34.99,
          138.99,
          161.99,
          45.99,
          63.24,
          259,
          79.9,
          21.24,
          107.46,
          31.99,
          43.19,
          40.47,
          45.99,
          269.9,
          19.25,
          71.99,
          50,
          59.99,
          31.99,
          114.99,
          184.99,
          43.19,
          45.99,
          91.99,
          12.6,
          0,
          45.99,
          85.9,
          24.75,
          45.99,
          0,
          9.99,
          34.75,
          114.99,
          26.99,
          28.79,
          91.99,
          4.59,
          22.99,
          17.81,
          35.99,
          19.97,
          17.99,
          21.12,
          45.99,
          45.99,
          42.99,
          33.99,
          41.99,
          45.99,
          59.99,
          64.99,
          134,
          17.99,
          49.99,
          54.39,
          41.99,
          22.99,
          22.99,
          0,
          91.99,
          22.99,
          45.99,
          138.99,
          89.99,
          91.99,
          71.99,
          89.9,
          15.6,
          67.99,
          91.99,
          67.99,
          67.49,
          67.6,
          23.99,
          46.99,
          54.99,
          7.99,
          14.49,
          34.74,
          67.99,
          73.59,
          73.59,
          114.99,
          89.99,
          0,
          71.99,
          71.99,
          73.59,
          10.79,
          26.99,
          44.99,
          34.99,
          100,
          100,
          100,
          45.99,
          45.99,
          54.99,
          79.99,
          33.99,
          274.99,
          274.99,
          0,
          138.99,
          0,
          46.99,
          71.99,
          53.99,
          21.59,
          63.99,
          0,
          35.99,
          82.79,
          44.19,
          214.9,
          39.99,
          14.29,
          219.99,
          100,
          45.99,
          58.49,
          28.74,
          71.2,
          80.49,
          44.99,
          54.99,
          0,
          107.99,
          55.19,
          100,
          100,
          100,
          39.59,
          9.59,
          63.99,
          159.9,
          269.9,
          17.99,
          39,
          40.99,
          32.39,
          14.66,
          22.99,
          79,
          37.79,
          46.99,
          0,
          36.99,
          36.79,
          79.99,
          45.99,
          45.99,
          94.99,
          7.19,
          64.99,
          92.79,
          45,
          59.99,
          35.99,
          14.99,
          29.99,
          43.99,
          29.99,
          4.49,
          33.99,
          173.99,
          8.59
         ],
         "xaxis": "x",
         "yaxis": "y"
        }
       ],
       "layout": {
        "barmode": "relative",
        "legend": {
         "tracegroupgap": 0
        },
        "template": {
         "data": {
          "bar": [
           {
            "error_x": {
             "color": "#2a3f5f"
            },
            "error_y": {
             "color": "#2a3f5f"
            },
            "marker": {
             "line": {
              "color": "#E5ECF6",
              "width": 0.5
             },
             "pattern": {
              "fillmode": "overlay",
              "size": 10,
              "solidity": 0.2
             }
            },
            "type": "bar"
           }
          ],
          "barpolar": [
           {
            "marker": {
             "line": {
              "color": "#E5ECF6",
              "width": 0.5
             },
             "pattern": {
              "fillmode": "overlay",
              "size": 10,
              "solidity": 0.2
             }
            },
            "type": "barpolar"
           }
          ],
          "carpet": [
           {
            "aaxis": {
             "endlinecolor": "#2a3f5f",
             "gridcolor": "white",
             "linecolor": "white",
             "minorgridcolor": "white",
             "startlinecolor": "#2a3f5f"
            },
            "baxis": {
             "endlinecolor": "#2a3f5f",
             "gridcolor": "white",
             "linecolor": "white",
             "minorgridcolor": "white",
             "startlinecolor": "#2a3f5f"
            },
            "type": "carpet"
           }
          ],
          "choropleth": [
           {
            "colorbar": {
             "outlinewidth": 0,
             "ticks": ""
            },
            "type": "choropleth"
           }
          ],
          "contour": [
           {
            "colorbar": {
             "outlinewidth": 0,
             "ticks": ""
            },
            "colorscale": [
             [
              0,
              "#0d0887"
             ],
             [
              0.1111111111111111,
              "#46039f"
             ],
             [
              0.2222222222222222,
              "#7201a8"
             ],
             [
              0.3333333333333333,
              "#9c179e"
             ],
             [
              0.4444444444444444,
              "#bd3786"
             ],
             [
              0.5555555555555556,
              "#d8576b"
             ],
             [
              0.6666666666666666,
              "#ed7953"
             ],
             [
              0.7777777777777778,
              "#fb9f3a"
             ],
             [
              0.8888888888888888,
              "#fdca26"
             ],
             [
              1,
              "#f0f921"
             ]
            ],
            "type": "contour"
           }
          ],
          "contourcarpet": [
           {
            "colorbar": {
             "outlinewidth": 0,
             "ticks": ""
            },
            "type": "contourcarpet"
           }
          ],
          "heatmap": [
           {
            "colorbar": {
             "outlinewidth": 0,
             "ticks": ""
            },
            "colorscale": [
             [
              0,
              "#0d0887"
             ],
             [
              0.1111111111111111,
              "#46039f"
             ],
             [
              0.2222222222222222,
              "#7201a8"
             ],
             [
              0.3333333333333333,
              "#9c179e"
             ],
             [
              0.4444444444444444,
              "#bd3786"
             ],
             [
              0.5555555555555556,
              "#d8576b"
             ],
             [
              0.6666666666666666,
              "#ed7953"
             ],
             [
              0.7777777777777778,
              "#fb9f3a"
             ],
             [
              0.8888888888888888,
              "#fdca26"
             ],
             [
              1,
              "#f0f921"
             ]
            ],
            "type": "heatmap"
           }
          ],
          "heatmapgl": [
           {
            "colorbar": {
             "outlinewidth": 0,
             "ticks": ""
            },
            "colorscale": [
             [
              0,
              "#0d0887"
             ],
             [
              0.1111111111111111,
              "#46039f"
             ],
             [
              0.2222222222222222,
              "#7201a8"
             ],
             [
              0.3333333333333333,
              "#9c179e"
             ],
             [
              0.4444444444444444,
              "#bd3786"
             ],
             [
              0.5555555555555556,
              "#d8576b"
             ],
             [
              0.6666666666666666,
              "#ed7953"
             ],
             [
              0.7777777777777778,
              "#fb9f3a"
             ],
             [
              0.8888888888888888,
              "#fdca26"
             ],
             [
              1,
              "#f0f921"
             ]
            ],
            "type": "heatmapgl"
           }
          ],
          "histogram": [
           {
            "marker": {
             "pattern": {
              "fillmode": "overlay",
              "size": 10,
              "solidity": 0.2
             }
            },
            "type": "histogram"
           }
          ],
          "histogram2d": [
           {
            "colorbar": {
             "outlinewidth": 0,
             "ticks": ""
            },
            "colorscale": [
             [
              0,
              "#0d0887"
             ],
             [
              0.1111111111111111,
              "#46039f"
             ],
             [
              0.2222222222222222,
              "#7201a8"
             ],
             [
              0.3333333333333333,
              "#9c179e"
             ],
             [
              0.4444444444444444,
              "#bd3786"
             ],
             [
              0.5555555555555556,
              "#d8576b"
             ],
             [
              0.6666666666666666,
              "#ed7953"
             ],
             [
              0.7777777777777778,
              "#fb9f3a"
             ],
             [
              0.8888888888888888,
              "#fdca26"
             ],
             [
              1,
              "#f0f921"
             ]
            ],
            "type": "histogram2d"
           }
          ],
          "histogram2dcontour": [
           {
            "colorbar": {
             "outlinewidth": 0,
             "ticks": ""
            },
            "colorscale": [
             [
              0,
              "#0d0887"
             ],
             [
              0.1111111111111111,
              "#46039f"
             ],
             [
              0.2222222222222222,
              "#7201a8"
             ],
             [
              0.3333333333333333,
              "#9c179e"
             ],
             [
              0.4444444444444444,
              "#bd3786"
             ],
             [
              0.5555555555555556,
              "#d8576b"
             ],
             [
              0.6666666666666666,
              "#ed7953"
             ],
             [
              0.7777777777777778,
              "#fb9f3a"
             ],
             [
              0.8888888888888888,
              "#fdca26"
             ],
             [
              1,
              "#f0f921"
             ]
            ],
            "type": "histogram2dcontour"
           }
          ],
          "mesh3d": [
           {
            "colorbar": {
             "outlinewidth": 0,
             "ticks": ""
            },
            "type": "mesh3d"
           }
          ],
          "parcoords": [
           {
            "line": {
             "colorbar": {
              "outlinewidth": 0,
              "ticks": ""
             }
            },
            "type": "parcoords"
           }
          ],
          "pie": [
           {
            "automargin": true,
            "type": "pie"
           }
          ],
          "scatter": [
           {
            "fillpattern": {
             "fillmode": "overlay",
             "size": 10,
             "solidity": 0.2
            },
            "type": "scatter"
           }
          ],
          "scatter3d": [
           {
            "line": {
             "colorbar": {
              "outlinewidth": 0,
              "ticks": ""
             }
            },
            "marker": {
             "colorbar": {
              "outlinewidth": 0,
              "ticks": ""
             }
            },
            "type": "scatter3d"
           }
          ],
          "scattercarpet": [
           {
            "marker": {
             "colorbar": {
              "outlinewidth": 0,
              "ticks": ""
             }
            },
            "type": "scattercarpet"
           }
          ],
          "scattergeo": [
           {
            "marker": {
             "colorbar": {
              "outlinewidth": 0,
              "ticks": ""
             }
            },
            "type": "scattergeo"
           }
          ],
          "scattergl": [
           {
            "marker": {
             "colorbar": {
              "outlinewidth": 0,
              "ticks": ""
             }
            },
            "type": "scattergl"
           }
          ],
          "scattermapbox": [
           {
            "marker": {
             "colorbar": {
              "outlinewidth": 0,
              "ticks": ""
             }
            },
            "type": "scattermapbox"
           }
          ],
          "scatterpolar": [
           {
            "marker": {
             "colorbar": {
              "outlinewidth": 0,
              "ticks": ""
             }
            },
            "type": "scatterpolar"
           }
          ],
          "scatterpolargl": [
           {
            "marker": {
             "colorbar": {
              "outlinewidth": 0,
              "ticks": ""
             }
            },
            "type": "scatterpolargl"
           }
          ],
          "scatterternary": [
           {
            "marker": {
             "colorbar": {
              "outlinewidth": 0,
              "ticks": ""
             }
            },
            "type": "scatterternary"
           }
          ],
          "surface": [
           {
            "colorbar": {
             "outlinewidth": 0,
             "ticks": ""
            },
            "colorscale": [
             [
              0,
              "#0d0887"
             ],
             [
              0.1111111111111111,
              "#46039f"
             ],
             [
              0.2222222222222222,
              "#7201a8"
             ],
             [
              0.3333333333333333,
              "#9c179e"
             ],
             [
              0.4444444444444444,
              "#bd3786"
             ],
             [
              0.5555555555555556,
              "#d8576b"
             ],
             [
              0.6666666666666666,
              "#ed7953"
             ],
             [
              0.7777777777777778,
              "#fb9f3a"
             ],
             [
              0.8888888888888888,
              "#fdca26"
             ],
             [
              1,
              "#f0f921"
             ]
            ],
            "type": "surface"
           }
          ],
          "table": [
           {
            "cells": {
             "fill": {
              "color": "#EBF0F8"
             },
             "line": {
              "color": "white"
             }
            },
            "header": {
             "fill": {
              "color": "#C8D4E3"
             },
             "line": {
              "color": "white"
             }
            },
            "type": "table"
           }
          ]
         },
         "layout": {
          "annotationdefaults": {
           "arrowcolor": "#2a3f5f",
           "arrowhead": 0,
           "arrowwidth": 1
          },
          "autotypenumbers": "strict",
          "coloraxis": {
           "colorbar": {
            "outlinewidth": 0,
            "ticks": ""
           }
          },
          "colorscale": {
           "diverging": [
            [
             0,
             "#8e0152"
            ],
            [
             0.1,
             "#c51b7d"
            ],
            [
             0.2,
             "#de77ae"
            ],
            [
             0.3,
             "#f1b6da"
            ],
            [
             0.4,
             "#fde0ef"
            ],
            [
             0.5,
             "#f7f7f7"
            ],
            [
             0.6,
             "#e6f5d0"
            ],
            [
             0.7,
             "#b8e186"
            ],
            [
             0.8,
             "#7fbc41"
            ],
            [
             0.9,
             "#4d9221"
            ],
            [
             1,
             "#276419"
            ]
           ],
           "sequential": [
            [
             0,
             "#0d0887"
            ],
            [
             0.1111111111111111,
             "#46039f"
            ],
            [
             0.2222222222222222,
             "#7201a8"
            ],
            [
             0.3333333333333333,
             "#9c179e"
            ],
            [
             0.4444444444444444,
             "#bd3786"
            ],
            [
             0.5555555555555556,
             "#d8576b"
            ],
            [
             0.6666666666666666,
             "#ed7953"
            ],
            [
             0.7777777777777778,
             "#fb9f3a"
            ],
            [
             0.8888888888888888,
             "#fdca26"
            ],
            [
             1,
             "#f0f921"
            ]
           ],
           "sequentialminus": [
            [
             0,
             "#0d0887"
            ],
            [
             0.1111111111111111,
             "#46039f"
            ],
            [
             0.2222222222222222,
             "#7201a8"
            ],
            [
             0.3333333333333333,
             "#9c179e"
            ],
            [
             0.4444444444444444,
             "#bd3786"
            ],
            [
             0.5555555555555556,
             "#d8576b"
            ],
            [
             0.6666666666666666,
             "#ed7953"
            ],
            [
             0.7777777777777778,
             "#fb9f3a"
            ],
            [
             0.8888888888888888,
             "#fdca26"
            ],
            [
             1,
             "#f0f921"
            ]
           ]
          },
          "colorway": [
           "#636efa",
           "#EF553B",
           "#00cc96",
           "#ab63fa",
           "#FFA15A",
           "#19d3f3",
           "#FF6692",
           "#B6E880",
           "#FF97FF",
           "#FECB52"
          ],
          "font": {
           "color": "#2a3f5f"
          },
          "geo": {
           "bgcolor": "white",
           "lakecolor": "white",
           "landcolor": "#E5ECF6",
           "showlakes": true,
           "showland": true,
           "subunitcolor": "white"
          },
          "hoverlabel": {
           "align": "left"
          },
          "hovermode": "closest",
          "mapbox": {
           "style": "light"
          },
          "paper_bgcolor": "white",
          "plot_bgcolor": "#E5ECF6",
          "polar": {
           "angularaxis": {
            "gridcolor": "white",
            "linecolor": "white",
            "ticks": ""
           },
           "bgcolor": "#E5ECF6",
           "radialaxis": {
            "gridcolor": "white",
            "linecolor": "white",
            "ticks": ""
           }
          },
          "scene": {
           "xaxis": {
            "backgroundcolor": "#E5ECF6",
            "gridcolor": "white",
            "gridwidth": 2,
            "linecolor": "white",
            "showbackground": true,
            "ticks": "",
            "zerolinecolor": "white"
           },
           "yaxis": {
            "backgroundcolor": "#E5ECF6",
            "gridcolor": "white",
            "gridwidth": 2,
            "linecolor": "white",
            "showbackground": true,
            "ticks": "",
            "zerolinecolor": "white"
           },
           "zaxis": {
            "backgroundcolor": "#E5ECF6",
            "gridcolor": "white",
            "gridwidth": 2,
            "linecolor": "white",
            "showbackground": true,
            "ticks": "",
            "zerolinecolor": "white"
           }
          },
          "shapedefaults": {
           "line": {
            "color": "#2a3f5f"
           }
          },
          "ternary": {
           "aaxis": {
            "gridcolor": "white",
            "linecolor": "white",
            "ticks": ""
           },
           "baxis": {
            "gridcolor": "white",
            "linecolor": "white",
            "ticks": ""
           },
           "bgcolor": "#E5ECF6",
           "caxis": {
            "gridcolor": "white",
            "linecolor": "white",
            "ticks": ""
           }
          },
          "title": {
           "x": 0.05
          },
          "xaxis": {
           "automargin": true,
           "gridcolor": "white",
           "linecolor": "white",
           "ticks": "",
           "title": {
            "standoff": 15
           },
           "zerolinecolor": "white",
           "zerolinewidth": 2
          },
          "yaxis": {
           "automargin": true,
           "gridcolor": "white",
           "linecolor": "white",
           "ticks": "",
           "title": {
            "standoff": 15
           },
           "zerolinecolor": "white",
           "zerolinewidth": 2
          }
         }
        },
        "title": {
         "text": "Rozkład cen gier"
        },
        "xaxis": {
         "anchor": "y",
         "domain": [
          0,
          1
         ],
         "title": {
          "text": "Cena"
         }
        },
        "yaxis": {
         "anchor": "x",
         "domain": [
          0,
          1
         ],
         "title": {
          "text": "Liczba gier"
         }
        }
       }
      }
     },
     "metadata": {},
     "output_type": "display_data"
    }
   ],
   "source": [
    "import plotly.express as px\n",
    "\n",
    "fig = px.histogram(df, x='Cena', nbins=20, title='Rozkład cen gier')\n",
    "fig.update_layout(xaxis_title='Cena', yaxis_title='Liczba gier')\n",
    "fig.show()\n"
   ]
  },
  {
   "cell_type": "code",
   "execution_count": 29,
   "metadata": {},
   "outputs": [
    {
     "data": {
      "application/vnd.plotly.v1+json": {
       "config": {
        "plotlyServerURL": "https://plot.ly"
       },
       "data": [
        {
         "alignmentgroup": "True",
         "hovertemplate": "Tag=%{x}<br>Count=%{y}<extra></extra>",
         "legendgroup": "",
         "marker": {
          "color": "#636efa",
          "pattern": {
           "shape": ""
          }
         },
         "name": "",
         "offsetgroup": "",
         "orientation": "v",
         "showlegend": false,
         "textposition": "auto",
         "type": "bar",
         "x": [
          " ",
          "a",
          "o",
          "e",
          ",",
          "i",
          "t",
          "r",
          "n",
          "c",
          "w",
          "y",
          "z",
          "l",
          "s",
          "S",
          "k",
          "u",
          "m",
          "P"
         ],
         "xaxis": "x",
         "y": [
          1877,
          1533,
          1514,
          1471,
          1211,
          1058,
          937,
          874,
          727,
          712,
          628,
          576,
          546,
          532,
          485,
          467,
          435,
          376,
          340,
          256
         ],
         "yaxis": "y"
        }
       ],
       "layout": {
        "barmode": "relative",
        "legend": {
         "tracegroupgap": 0
        },
        "template": {
         "data": {
          "bar": [
           {
            "error_x": {
             "color": "#2a3f5f"
            },
            "error_y": {
             "color": "#2a3f5f"
            },
            "marker": {
             "line": {
              "color": "#E5ECF6",
              "width": 0.5
             },
             "pattern": {
              "fillmode": "overlay",
              "size": 10,
              "solidity": 0.2
             }
            },
            "type": "bar"
           }
          ],
          "barpolar": [
           {
            "marker": {
             "line": {
              "color": "#E5ECF6",
              "width": 0.5
             },
             "pattern": {
              "fillmode": "overlay",
              "size": 10,
              "solidity": 0.2
             }
            },
            "type": "barpolar"
           }
          ],
          "carpet": [
           {
            "aaxis": {
             "endlinecolor": "#2a3f5f",
             "gridcolor": "white",
             "linecolor": "white",
             "minorgridcolor": "white",
             "startlinecolor": "#2a3f5f"
            },
            "baxis": {
             "endlinecolor": "#2a3f5f",
             "gridcolor": "white",
             "linecolor": "white",
             "minorgridcolor": "white",
             "startlinecolor": "#2a3f5f"
            },
            "type": "carpet"
           }
          ],
          "choropleth": [
           {
            "colorbar": {
             "outlinewidth": 0,
             "ticks": ""
            },
            "type": "choropleth"
           }
          ],
          "contour": [
           {
            "colorbar": {
             "outlinewidth": 0,
             "ticks": ""
            },
            "colorscale": [
             [
              0,
              "#0d0887"
             ],
             [
              0.1111111111111111,
              "#46039f"
             ],
             [
              0.2222222222222222,
              "#7201a8"
             ],
             [
              0.3333333333333333,
              "#9c179e"
             ],
             [
              0.4444444444444444,
              "#bd3786"
             ],
             [
              0.5555555555555556,
              "#d8576b"
             ],
             [
              0.6666666666666666,
              "#ed7953"
             ],
             [
              0.7777777777777778,
              "#fb9f3a"
             ],
             [
              0.8888888888888888,
              "#fdca26"
             ],
             [
              1,
              "#f0f921"
             ]
            ],
            "type": "contour"
           }
          ],
          "contourcarpet": [
           {
            "colorbar": {
             "outlinewidth": 0,
             "ticks": ""
            },
            "type": "contourcarpet"
           }
          ],
          "heatmap": [
           {
            "colorbar": {
             "outlinewidth": 0,
             "ticks": ""
            },
            "colorscale": [
             [
              0,
              "#0d0887"
             ],
             [
              0.1111111111111111,
              "#46039f"
             ],
             [
              0.2222222222222222,
              "#7201a8"
             ],
             [
              0.3333333333333333,
              "#9c179e"
             ],
             [
              0.4444444444444444,
              "#bd3786"
             ],
             [
              0.5555555555555556,
              "#d8576b"
             ],
             [
              0.6666666666666666,
              "#ed7953"
             ],
             [
              0.7777777777777778,
              "#fb9f3a"
             ],
             [
              0.8888888888888888,
              "#fdca26"
             ],
             [
              1,
              "#f0f921"
             ]
            ],
            "type": "heatmap"
           }
          ],
          "heatmapgl": [
           {
            "colorbar": {
             "outlinewidth": 0,
             "ticks": ""
            },
            "colorscale": [
             [
              0,
              "#0d0887"
             ],
             [
              0.1111111111111111,
              "#46039f"
             ],
             [
              0.2222222222222222,
              "#7201a8"
             ],
             [
              0.3333333333333333,
              "#9c179e"
             ],
             [
              0.4444444444444444,
              "#bd3786"
             ],
             [
              0.5555555555555556,
              "#d8576b"
             ],
             [
              0.6666666666666666,
              "#ed7953"
             ],
             [
              0.7777777777777778,
              "#fb9f3a"
             ],
             [
              0.8888888888888888,
              "#fdca26"
             ],
             [
              1,
              "#f0f921"
             ]
            ],
            "type": "heatmapgl"
           }
          ],
          "histogram": [
           {
            "marker": {
             "pattern": {
              "fillmode": "overlay",
              "size": 10,
              "solidity": 0.2
             }
            },
            "type": "histogram"
           }
          ],
          "histogram2d": [
           {
            "colorbar": {
             "outlinewidth": 0,
             "ticks": ""
            },
            "colorscale": [
             [
              0,
              "#0d0887"
             ],
             [
              0.1111111111111111,
              "#46039f"
             ],
             [
              0.2222222222222222,
              "#7201a8"
             ],
             [
              0.3333333333333333,
              "#9c179e"
             ],
             [
              0.4444444444444444,
              "#bd3786"
             ],
             [
              0.5555555555555556,
              "#d8576b"
             ],
             [
              0.6666666666666666,
              "#ed7953"
             ],
             [
              0.7777777777777778,
              "#fb9f3a"
             ],
             [
              0.8888888888888888,
              "#fdca26"
             ],
             [
              1,
              "#f0f921"
             ]
            ],
            "type": "histogram2d"
           }
          ],
          "histogram2dcontour": [
           {
            "colorbar": {
             "outlinewidth": 0,
             "ticks": ""
            },
            "colorscale": [
             [
              0,
              "#0d0887"
             ],
             [
              0.1111111111111111,
              "#46039f"
             ],
             [
              0.2222222222222222,
              "#7201a8"
             ],
             [
              0.3333333333333333,
              "#9c179e"
             ],
             [
              0.4444444444444444,
              "#bd3786"
             ],
             [
              0.5555555555555556,
              "#d8576b"
             ],
             [
              0.6666666666666666,
              "#ed7953"
             ],
             [
              0.7777777777777778,
              "#fb9f3a"
             ],
             [
              0.8888888888888888,
              "#fdca26"
             ],
             [
              1,
              "#f0f921"
             ]
            ],
            "type": "histogram2dcontour"
           }
          ],
          "mesh3d": [
           {
            "colorbar": {
             "outlinewidth": 0,
             "ticks": ""
            },
            "type": "mesh3d"
           }
          ],
          "parcoords": [
           {
            "line": {
             "colorbar": {
              "outlinewidth": 0,
              "ticks": ""
             }
            },
            "type": "parcoords"
           }
          ],
          "pie": [
           {
            "automargin": true,
            "type": "pie"
           }
          ],
          "scatter": [
           {
            "fillpattern": {
             "fillmode": "overlay",
             "size": 10,
             "solidity": 0.2
            },
            "type": "scatter"
           }
          ],
          "scatter3d": [
           {
            "line": {
             "colorbar": {
              "outlinewidth": 0,
              "ticks": ""
             }
            },
            "marker": {
             "colorbar": {
              "outlinewidth": 0,
              "ticks": ""
             }
            },
            "type": "scatter3d"
           }
          ],
          "scattercarpet": [
           {
            "marker": {
             "colorbar": {
              "outlinewidth": 0,
              "ticks": ""
             }
            },
            "type": "scattercarpet"
           }
          ],
          "scattergeo": [
           {
            "marker": {
             "colorbar": {
              "outlinewidth": 0,
              "ticks": ""
             }
            },
            "type": "scattergeo"
           }
          ],
          "scattergl": [
           {
            "marker": {
             "colorbar": {
              "outlinewidth": 0,
              "ticks": ""
             }
            },
            "type": "scattergl"
           }
          ],
          "scattermapbox": [
           {
            "marker": {
             "colorbar": {
              "outlinewidth": 0,
              "ticks": ""
             }
            },
            "type": "scattermapbox"
           }
          ],
          "scatterpolar": [
           {
            "marker": {
             "colorbar": {
              "outlinewidth": 0,
              "ticks": ""
             }
            },
            "type": "scatterpolar"
           }
          ],
          "scatterpolargl": [
           {
            "marker": {
             "colorbar": {
              "outlinewidth": 0,
              "ticks": ""
             }
            },
            "type": "scatterpolargl"
           }
          ],
          "scatterternary": [
           {
            "marker": {
             "colorbar": {
              "outlinewidth": 0,
              "ticks": ""
             }
            },
            "type": "scatterternary"
           }
          ],
          "surface": [
           {
            "colorbar": {
             "outlinewidth": 0,
             "ticks": ""
            },
            "colorscale": [
             [
              0,
              "#0d0887"
             ],
             [
              0.1111111111111111,
              "#46039f"
             ],
             [
              0.2222222222222222,
              "#7201a8"
             ],
             [
              0.3333333333333333,
              "#9c179e"
             ],
             [
              0.4444444444444444,
              "#bd3786"
             ],
             [
              0.5555555555555556,
              "#d8576b"
             ],
             [
              0.6666666666666666,
              "#ed7953"
             ],
             [
              0.7777777777777778,
              "#fb9f3a"
             ],
             [
              0.8888888888888888,
              "#fdca26"
             ],
             [
              1,
              "#f0f921"
             ]
            ],
            "type": "surface"
           }
          ],
          "table": [
           {
            "cells": {
             "fill": {
              "color": "#EBF0F8"
             },
             "line": {
              "color": "white"
             }
            },
            "header": {
             "fill": {
              "color": "#C8D4E3"
             },
             "line": {
              "color": "white"
             }
            },
            "type": "table"
           }
          ]
         },
         "layout": {
          "annotationdefaults": {
           "arrowcolor": "#2a3f5f",
           "arrowhead": 0,
           "arrowwidth": 1
          },
          "autotypenumbers": "strict",
          "coloraxis": {
           "colorbar": {
            "outlinewidth": 0,
            "ticks": ""
           }
          },
          "colorscale": {
           "diverging": [
            [
             0,
             "#8e0152"
            ],
            [
             0.1,
             "#c51b7d"
            ],
            [
             0.2,
             "#de77ae"
            ],
            [
             0.3,
             "#f1b6da"
            ],
            [
             0.4,
             "#fde0ef"
            ],
            [
             0.5,
             "#f7f7f7"
            ],
            [
             0.6,
             "#e6f5d0"
            ],
            [
             0.7,
             "#b8e186"
            ],
            [
             0.8,
             "#7fbc41"
            ],
            [
             0.9,
             "#4d9221"
            ],
            [
             1,
             "#276419"
            ]
           ],
           "sequential": [
            [
             0,
             "#0d0887"
            ],
            [
             0.1111111111111111,
             "#46039f"
            ],
            [
             0.2222222222222222,
             "#7201a8"
            ],
            [
             0.3333333333333333,
             "#9c179e"
            ],
            [
             0.4444444444444444,
             "#bd3786"
            ],
            [
             0.5555555555555556,
             "#d8576b"
            ],
            [
             0.6666666666666666,
             "#ed7953"
            ],
            [
             0.7777777777777778,
             "#fb9f3a"
            ],
            [
             0.8888888888888888,
             "#fdca26"
            ],
            [
             1,
             "#f0f921"
            ]
           ],
           "sequentialminus": [
            [
             0,
             "#0d0887"
            ],
            [
             0.1111111111111111,
             "#46039f"
            ],
            [
             0.2222222222222222,
             "#7201a8"
            ],
            [
             0.3333333333333333,
             "#9c179e"
            ],
            [
             0.4444444444444444,
             "#bd3786"
            ],
            [
             0.5555555555555556,
             "#d8576b"
            ],
            [
             0.6666666666666666,
             "#ed7953"
            ],
            [
             0.7777777777777778,
             "#fb9f3a"
            ],
            [
             0.8888888888888888,
             "#fdca26"
            ],
            [
             1,
             "#f0f921"
            ]
           ]
          },
          "colorway": [
           "#636efa",
           "#EF553B",
           "#00cc96",
           "#ab63fa",
           "#FFA15A",
           "#19d3f3",
           "#FF6692",
           "#B6E880",
           "#FF97FF",
           "#FECB52"
          ],
          "font": {
           "color": "#2a3f5f"
          },
          "geo": {
           "bgcolor": "white",
           "lakecolor": "white",
           "landcolor": "#E5ECF6",
           "showlakes": true,
           "showland": true,
           "subunitcolor": "white"
          },
          "hoverlabel": {
           "align": "left"
          },
          "hovermode": "closest",
          "mapbox": {
           "style": "light"
          },
          "paper_bgcolor": "white",
          "plot_bgcolor": "#E5ECF6",
          "polar": {
           "angularaxis": {
            "gridcolor": "white",
            "linecolor": "white",
            "ticks": ""
           },
           "bgcolor": "#E5ECF6",
           "radialaxis": {
            "gridcolor": "white",
            "linecolor": "white",
            "ticks": ""
           }
          },
          "scene": {
           "xaxis": {
            "backgroundcolor": "#E5ECF6",
            "gridcolor": "white",
            "gridwidth": 2,
            "linecolor": "white",
            "showbackground": true,
            "ticks": "",
            "zerolinecolor": "white"
           },
           "yaxis": {
            "backgroundcolor": "#E5ECF6",
            "gridcolor": "white",
            "gridwidth": 2,
            "linecolor": "white",
            "showbackground": true,
            "ticks": "",
            "zerolinecolor": "white"
           },
           "zaxis": {
            "backgroundcolor": "#E5ECF6",
            "gridcolor": "white",
            "gridwidth": 2,
            "linecolor": "white",
            "showbackground": true,
            "ticks": "",
            "zerolinecolor": "white"
           }
          },
          "shapedefaults": {
           "line": {
            "color": "#2a3f5f"
           }
          },
          "ternary": {
           "aaxis": {
            "gridcolor": "white",
            "linecolor": "white",
            "ticks": ""
           },
           "baxis": {
            "gridcolor": "white",
            "linecolor": "white",
            "ticks": ""
           },
           "bgcolor": "#E5ECF6",
           "caxis": {
            "gridcolor": "white",
            "linecolor": "white",
            "ticks": ""
           }
          },
          "title": {
           "x": 0.05
          },
          "xaxis": {
           "automargin": true,
           "gridcolor": "white",
           "linecolor": "white",
           "ticks": "",
           "title": {
            "standoff": 15
           },
           "zerolinecolor": "white",
           "zerolinewidth": 2
          },
          "yaxis": {
           "automargin": true,
           "gridcolor": "white",
           "linecolor": "white",
           "ticks": "",
           "title": {
            "standoff": 15
           },
           "zerolinecolor": "white",
           "zerolinewidth": 2
          }
         }
        },
        "title": {
         "text": "Najpopularniejsze tagi"
        },
        "xaxis": {
         "anchor": "y",
         "domain": [
          0,
          1
         ],
         "title": {
          "text": "Tag"
         }
        },
        "yaxis": {
         "anchor": "x",
         "domain": [
          0,
          1
         ],
         "title": {
          "text": "Count"
         }
        }
       }
      }
     },
     "metadata": {},
     "output_type": "display_data"
    }
   ],
   "source": [
    "from collections import Counter\n",
    "\n",
    "# Liczenie występowania tagów\n",
    "tag_counts = Counter(tag for tags in df['Tagi'] for tag in tags)\n",
    "tag_df = pd.DataFrame(tag_counts.items(), columns=['Tag', 'Count']).sort_values('Count', ascending=False)\n",
    "\n",
    "# Wizualizacja\n",
    "fig = px.bar(tag_df.head(20), x='Tag', y='Count', title='Najpopularniejsze tagi')\n",
    "fig.show()\n"
   ]
  },
  {
   "cell_type": "code",
   "execution_count": null,
   "metadata": {},
   "outputs": [
    {
     "data": {
      "application/vnd.plotly.v1+json": {
       "config": {
        "plotlyServerURL": "https://plot.ly"
       },
       "data": [
        {
         "customdata": [
          [
           "Marvel Rivals"
          ],
          [
           "Warhammer 40,000: Space Marine 2"
          ],
          [
           "Among Us"
          ],
          [
           "Stellaris"
          ],
          [
           "Cyberpunk 2077"
          ],
          [
           "Frostpunk"
          ],
          [
           "They Are Billions"
          ],
          [
           "Cyberpunk 2077: Widmo wolności"
          ],
          [
           "Planetary Annihilation: TITANS"
          ],
          [
           "Lies of P"
          ],
          [
           "S.T.A.L.K.E.R. 2: Heart of Chornobyl"
          ],
          [
           "BlazBlue Entropy Effect"
          ],
          [
           "Halo: The Master Chief Collection"
          ],
          [
           "Subnautica: Below Zero"
          ],
          [
           "Project Zomboid"
          ],
          [
           "Jurassic World Evolution 2"
          ],
          [
           "This War of Mine"
          ],
          [
           "Atomic Heart"
          ],
          [
           "Plague Inc: Evolved"
          ],
          [
           "Chained Together"
          ],
          [
           "Barotrauma"
          ],
          [
           "DOOM Eternal"
          ],
          [
           "Metro Exodus"
          ],
          [
           "The Invincible"
          ],
          [
           "Void Crew"
          ],
          [
           "Starship Troopers: Terran Command"
          ],
          [
           "Forever Skies"
          ],
          [
           "Days Gone"
          ],
          [
           "Horizon Forbidden West™ Edycja kompletna"
          ],
          [
           "The Long Dark"
          ],
          [
           "Chernobylite Complete Edition"
          ],
          [
           "Aliens: Dark Descent"
          ],
          [
           "Aliens: Fireteam Elite"
          ],
          [
           "LOCKDOWN Protocol"
          ],
          [
           "Terminator: Dark Fate - Defiance"
          ],
          [
           "STAR WARS™: The Old Republic™"
          ],
          [
           "Fallout 4"
          ],
          [
           "Nobody Wants to Die"
          ],
          [
           "Mass Effect™ Edycja legendarna"
          ],
          [
           "Stellaris: Grand Archive"
          ],
          [
           "The Long Drive"
          ],
          [
           "Ratchet & Clank: Rift Apart"
          ],
          [
           "Sins of a Solar Empire II"
          ],
          [
           "Metro 2033 Redux"
          ],
          [
           "BlazBlue Entropy Effect - Hazama Character Pack"
          ],
          [
           "7 Days to Die"
          ],
          [
           "LEGO ® Gwiezdne Wojny™: Saga Skywalkerów"
          ],
          [
           "Unturned"
          ],
          [
           "Stellaris: The Machine Age"
          ],
          [
           "Eden Crafters"
          ],
          [
           "From Glory To Goo"
          ],
          [
           "ZEPHON"
          ],
          [
           "High On Life"
          ],
          [
           "Alien: Isolation"
          ],
          [
           "Airborne Empire"
          ],
          [
           "ASTRONEER"
          ],
          [
           "Warhammer 40,000: Rogue Trader"
          ],
          [
           "Assassin's Creed® Syndicate"
          ],
          [
           "VLADiK BRUTAL"
          ],
          [
           "Quantum Break"
          ],
          [
           "Fallout: New Vegas"
          ],
          [
           "FANTASIAN Neo Dimension"
          ],
          [
           "Nuclear Option"
          ],
          [
           "AI: THE SOMNIUM FILES - nirvanA Initiative"
          ],
          [
           "Rain World"
          ],
          [
           "Arizona Sunshine® Remake"
          ],
          [
           "Aliens vs. Predator™"
          ],
          [
           "SPORE™"
          ],
          [
           "CRUEL"
          ],
          [
           "Stationeers"
          ],
          [
           "Beyond: Two Souls"
          ],
          [
           "Road 96 🛣️"
          ],
          [
           "Arizona Sunshine® 2"
          ],
          [
           "Amenti"
          ],
          [
           "MechWarrior 5: Mercenaries"
          ],
          [
           "Cyber Manhunt 2: New World - The Hacking Simulator"
          ],
          [
           "Space Engineers"
          ],
          [
           "Deep Rock Galactic: Survivor"
          ],
          [
           "Zompiercer"
          ],
          [
           "Nuclear Nightmare"
          ],
          [
           "Shadows of Doubt"
          ],
          [
           "State of Decay 2: Juggernaut Edition"
          ],
          [
           "Uncle Chop's Rocket Shop"
          ],
          [
           "Metro: Last Light Redux"
          ],
          [
           "XCOM: Enemy Unknown"
          ],
          [
           "Halo Wars: Definitive Edition"
          ],
          [
           "Sovereign Syndicate"
          ],
          [
           "Homeworld Remastered Collection"
          ],
          [
           "Into the Breach"
          ],
          [
           "Jurassic World Evolution 2: Dominion Biosyn Expansion"
          ],
          [
           "Bridge Constructor Portal"
          ],
          [
           "Saints Row IV: Re-Elected"
          ],
          [
           "STEINS;GATE ELITE"
          ],
          [
           "Drill Core"
          ],
          [
           "Quake 4"
          ],
          [
           "Neon Abyss"
          ],
          [
           "Risk of Rain 2: Survivors of the Void"
          ],
          [
           "Obenseuer"
          ],
          [
           "Pacify"
          ],
          [
           "LEGO® Star Wars™ III - The Clone Wars™"
          ],
          [
           "Stellar Warfare"
          ],
          [
           "Surviving Mars"
          ],
          [
           "Fallout 3: Game of the Year Edition"
          ],
          [
           "ENDER LILIES: Quietus of the Knights"
          ],
          [
           "S.T.A.L.K.E.R.: Shadow of Chernobyl"
          ],
          [
           "Mirror's Edge™"
          ],
          [
           "DOOM 3"
          ],
          [
           "Executive Assault 2"
          ],
          [
           "System Shock"
          ],
          [
           "Oxygen Not Included - Spaced Out!"
          ],
          [
           "SurrounDead"
          ],
          [
           "Jurassic World Evolution 2: Early Cretaceous Pack"
          ],
          [
           "Rogue Command"
          ],
          [
           "Avorion"
          ],
          [
           "Project Wingman"
          ],
          [
           "HELLDIVERS™ Dive Harder Edition"
          ],
          [
           "Zero Escape: The Nonary Games"
          ],
          [
           "Crying Suns"
          ],
          [
           "Dune: Spice Wars - House Vernius of Ix"
          ],
          [
           "60 Seconds!"
          ],
          [
           "Command & Conquer 3: Gniew Kane'a"
          ],
          [
           "Command & Conquer 3: Wojny o tyberium"
          ],
          [
           "Togainu no Chi ~Lost Blood~"
          ],
          [
           "No Man's Sky"
          ],
          [
           "Fallout Shelter"
          ],
          [
           "Supreme Commander 2"
          ],
          [
           "Starcom: Nexus"
          ],
          [
           "Serious Sam HD: The First Encounter"
          ],
          [
           "FAR: Changing Tides"
          ],
          [
           "Space Haven"
          ],
          [
           "BLADE CHIMERA"
          ],
          [
           "XCOM® 2"
          ],
          [
           "Jurassic World Evolution"
          ],
          [
           "AI: The Somnium Files"
          ],
          [
           "EVERSPACE™ 2"
          ],
          [
           "Command & Conquer™ Red Alert™ 3"
          ],
          [
           "Quasimorph"
          ],
          [
           "Endoparasitic 2"
          ],
          [
           "Sins of a Solar Empire®: Rebellion"
          ],
          [
           "Command & Conquer™ Tiberian Sun™ and Firestorm™"
          ],
          [
           "Command & Conquer™ Red Alert™ 3- Powstanie"
          ],
          [
           "Command & Conquer Red Alert™ 2 and Yuri’s Revenge™"
          ],
          [
           "Outer Wilds - Echoes of the Eye"
          ],
          [
           "Beholder"
          ],
          [
           "Dead Space"
          ],
          [
           "Murky Divers"
          ],
          [
           "Wasteland 2: Director's Cut"
          ],
          [
           "Takara Cards"
          ],
          [
           "Unturned - Permanent Gold Upgrade"
          ],
          [
           "Bio Inc. Redemption"
          ],
          [
           "Galaxy Life"
          ],
          [
           "Iron Lung"
          ],
          [
           "Warhammer 40,000: Boltgun"
          ],
          [
           "Serious Sam 2"
          ],
          [
           "Starcom: Unknown Space"
          ],
          [
           "Zero Escape: Zero Time Dilemma"
          ],
          [
           "S.T.A.L.K.E.R.: Clear Sky"
          ],
          [
           "SUPERHOT"
          ],
          [
           "Bridge Constructor Portal - Portal Proficiency"
          ],
          [
           "Original War"
          ]
         ],
         "hovertemplate": "Nacechowanie recenzji=Bardzo pozytywne<br>Cena (zł)=%{x}<br>Liczba recenzji=%{y}<br>Tytuł=%{customdata[0]}<extra></extra>",
         "legendgroup": "Bardzo pozytywne",
         "marker": {
          "color": "#636efa",
          "symbol": "circle"
         },
         "mode": "markers",
         "name": "Bardzo pozytywne",
         "orientation": "v",
         "showlegend": true,
         "type": "scatter",
         "x": [
          0,
          157.49,
          10.79,
          46.24,
          199,
          13.89,
          75.59,
          99.99,
          35.63,
          164.99,
          229.99,
          55.99,
          49.75,
          45.86,
          91.99,
          64.49,
          9.19,
          72.59,
          20.39,
          22.99,
          69.99,
          42.25,
          31.75,
          75,
          63.99,
          83.39,
          65.99,
          219,
          259,
          29.99,
          29.99,
          58.49,
          29.97,
          32.19,
          138.74,
          0,
          79,
          68.64,
          269.9,
          67.99,
          72.99,
          259,
          185.59,
          12.6,
          14.99,
          208.49,
          229,
          0,
          114.99,
          73.59,
          27.99,
          149.99,
          71.99,
          179,
          125.09,
          138.99,
          199.99,
          159.9,
          43.99,
          35.74,
          44.99,
          199,
          82.99,
          32.24,
          114.99,
          119,
          53.99,
          69.9,
          34.99,
          161.99,
          79.9,
          21.24,
          107.46,
          31.99,
          43.19,
          40.47,
          71.99,
          50,
          59.99,
          31.99,
          114.99,
          43.19,
          91.99,
          12.6,
          85.9,
          24.75,
          45.99,
          9.99,
          26.99,
          28.79,
          4.59,
          21.12,
          42.99,
          59.99,
          64.99,
          17.99,
          49.99,
          54.39,
          22.99,
          91.99,
          45.99,
          138.99,
          89.99,
          91.99,
          71.99,
          89.9,
          15.6,
          67.49,
          67.6,
          46.99,
          54.99,
          14.49,
          73.59,
          114.99,
          89.99,
          71.99,
          10.79,
          26.99,
          44.99,
          34.99,
          100,
          100,
          45.99,
          274.99,
          0,
          46.99,
          71.99,
          53.99,
          21.59,
          35.99,
          82.79,
          214.9,
          39.99,
          14.29,
          219.99,
          100,
          71.2,
          54.99,
          55.19,
          100,
          100,
          100,
          39.59,
          9.59,
          269.9,
          40.99,
          32.39,
          14.66,
          22.99,
          46.99,
          0,
          36.99,
          79.99,
          45.99,
          94.99,
          7.19,
          35.99,
          29.99,
          4.49,
          8.59
         ],
         "xaxis": "x",
         "y": [
          179402,
          107725,
          611949,
          124220,
          715099,
          98112,
          42733,
          17253,
          10767,
          34153,
          79066,
          22563,
          215298,
          86022,
          266252,
          27579,
          60535,
          26462,
          48044,
          41753,
          49338,
          169781,
          101275,
          4518,
          4669,
          8168,
          4620,
          68666,
          13796,
          94966,
          10827,
          12098,
          18772,
          10570,
          2307,
          65124,
          256252,
          2711,
          48701,
          177,
          38705,
          7924,
          5149,
          79908,
          99,
          246598,
          34862,
          550746,
          710,
          936,
          611,
          951,
          15219,
          42945,
          206,
          107926,
          18844,
          26910,
          7003,
          20449,
          11347,
          220,
          2876,
          2841,
          30373,
          551,
          14346,
          58305,
          535,
          6284,
          21587,
          17024,
          1434,
          383,
          10116,
          2866,
          95476,
          32846,
          1997,
          6940,
          12167,
          50457,
          563,
          58952,
          38156,
          7459,
          282,
          11274,
          16565,
          361,
          5633,
          57053,
          1331,
          902,
          2595,
          19087,
          4998,
          683,
          31593,
          6359,
          245,
          15547,
          38825,
          34429,
          36255,
          29056,
          7757,
          1337,
          7851,
          1124,
          5354,
          106,
          229,
          11920,
          15133,
          23607,
          5412,
          2912,
          103,
          10257,
          4401,
          7566,
          361,
          256429,
          72478,
          7842,
          1862,
          6437,
          3903,
          7973,
          350,
          71972,
          46827,
          7491,
          10207,
          13214,
          3385,
          408,
          9982,
          776,
          3874,
          7037,
          4767,
          19305,
          41169,
          2848,
          4616,
          71,
          9346,
          2044,
          7828,
          7346,
          12622,
          10283,
          2526,
          3877,
          16819,
          25743,
          114,
          1665
         ],
         "yaxis": "y"
        },
        {
         "customdata": [
          [
           "Detroit: Become Human"
          ],
          [
           "Subnautica"
          ],
          [
           "Lethal Company"
          ],
          [
           "Stray"
          ],
          [
           "Brotato"
          ],
          [
           "Outer Wilds"
          ],
          [
           "RimWorld"
          ],
          [
           "Mouthwashing"
          ],
          [
           "Deep Rock Galactic"
          ],
          [
           "Oxygen Not Included"
          ],
          [
           "DOOM"
          ],
          [
           "Warhammer 40,000: Dawn of War - Anniversary Edition"
          ],
          [
           "Beat Saber"
          ],
          [
           "Left 4 Dead 2"
          ],
          [
           "Severed Steel"
          ],
          [
           "Portal 2"
          ],
          [
           "Creeper World 4"
          ],
          [
           "DRAMAtical Murder"
          ],
          [
           "STEINS;GATE"
          ],
          [
           "Life is Strange - Episode 1"
          ],
          [
           "STEINS;GATE 0"
          ],
          [
           "Kerbal Space Program"
          ],
          [
           "Nine Sols"
          ],
          [
           "Half-Life 2"
          ],
          [
           "Black Mesa"
          ],
          [
           "Creeper World 3: Arc Eternal"
          ],
          [
           "Half-Life"
          ],
          [
           "Papers, Please"
          ],
          [
           "Portal"
          ],
          [
           "Beyond Citadel"
          ],
          [
           "Dystopika"
          ],
          [
           "The Walking Dead"
          ],
          [
           "Turing Complete"
          ],
          [
           "Left 4 Dead"
          ],
          [
           "Gloomwood"
          ],
          [
           "Half-Life: Alyx"
          ],
          [
           "Caves of Qud"
          ],
          [
           "SANABI"
          ],
          [
           "MULLET MADJACK"
          ],
          [
           "The Forgotten City"
          ],
          [
           "The Planet Crafter"
          ],
          [
           "Cosmoteer: Starship Architect & Commander"
          ],
          [
           "Quake II"
          ],
          [
           "DRAINUS"
          ],
          [
           "shapez 2"
          ],
          [
           "Spaceflight Simulator"
          ],
          [
           "Nuclear Throne"
          ]
         ],
         "hovertemplate": "Nacechowanie recenzji=Przytłaczająco pozytywne<br>Cena (zł)=%{x}<br>Liczba recenzji=%{y}<br>Tytuł=%{customdata[0]}<extra></extra>",
         "legendgroup": "Przytłaczająco pozytywne",
         "marker": {
          "color": "#EF553B",
          "symbol": "circle"
         },
         "mode": "markers",
         "name": "Przytłaczająco pozytywne",
         "orientation": "v",
         "showlegend": true,
         "type": "scatter",
         "x": [
          55.49,
          45.86,
          45.99,
          71.99,
          13.79,
          59.99,
          139.99,
          59.99,
          107.99,
          89.99,
          15.99,
          19.99,
          138.99,
          45.99,
          8.99,
          45.99,
          35.99,
          55.19,
          21.59,
          0,
          24.99,
          171.9,
          138.99,
          45.99,
          91.99,
          17.81,
          35.99,
          45.99,
          45.99,
          67.99,
          23.99,
          67.99,
          71.99,
          45.99,
          79.99,
          274.99,
          138.99,
          44.19,
          58.49,
          28.74,
          80.49,
          44.99,
          39,
          37.79,
          64.99,
          59.99,
          43.99
         ],
         "xaxis": "x",
         "y": [
          129150,
          270509,
          377652,
          134626,
          87074,
          65462,
          171224,
          22220,
          263746,
          117194,
          134665,
          7850,
          67644,
          707881,
          5198,
          349034,
          4027,
          3068,
          18328,
          167833,
          6031,
          101381,
          20608,
          174997,
          113268,
          3862,
          102032,
          65862,
          148514,
          1261,
          2266,
          45884,
          3511,
          50583,
          5544,
          83035,
          9001,
          30792,
          5703,
          9026,
          46310,
          9903,
          7275,
          866,
          9131,
          5587,
          13347
         ],
         "yaxis": "y"
        },
        {
         "customdata": [
          [
           "HELLDIVERS™ 2"
          ],
          [
           "ICARUS"
          ],
          [
           "Frostpunk 2"
          ],
          [
           "Dying Light 2 Stay Human: Reloaded Edition"
          ],
          [
           "Crossout"
          ],
          [
           "Iron Harvest"
          ],
          [
           "Infection Free Zone"
          ],
          [
           "Dune: Spice Wars"
          ],
          [
           "Fallout 76"
          ],
          [
           "Once Human"
          ],
          [
           "Warhammer 40,000: Darktide"
          ],
          [
           "New Cycle"
          ],
          [
           "Tom Clancy’s The Division® 2"
          ],
          [
           "IDUN"
          ],
          [
           "Frostpunk: The Last Autumn"
          ],
          [
           "Battlefleet Gothic: Armada 2"
          ],
          [
           "Horizon Zero Dawn™ Remastered"
          ],
          [
           "Far Cry® New Dawn"
          ],
          [
           "Destiny 2"
          ],
          [
           "Hidden Deep"
          ],
          [
           "Phantasy Star Online 2 New Genesis"
          ],
          [
           "Warhammer 40,000: Chaos Gate - Daemonhunters"
          ],
          [
           "Metro Awakening"
          ],
          [
           "Empire of the Ants"
          ],
          [
           "The Forever Winter"
          ],
          [
           "Gears Tactics"
          ],
          [
           "Tower of Fantasy"
          ],
          [
           "Stellaris: Utopia"
          ],
          [
           "The Last of Us™ Part I"
          ],
          [
           "Stellaris: Federations"
          ],
          [
           "Plague Inc: The Cure"
          ],
          [
           "Scorn"
          ],
          [
           "Ghosts of Tabor"
          ],
          [
           "Homeworld: Deserts of Kharak"
          ],
          [
           "Moon Mystery"
          ],
          [
           "Stellaris: Synthetic Dawn Story Pack"
          ],
          [
           "Stellaris: Leviathans Story Pack"
          ],
          [
           "Elite Dangerous"
          ],
          [
           "CryoFall"
          ],
          [
           "Ashes of the Singularity: Escalation"
          ],
          [
           "Exoplanet: First Contact"
          ],
          [
           "Halo Infinite"
          ],
          [
           "Heat Death: Survival Train"
          ],
          [
           "Out of Orbit"
          ],
          [
           "Snowbreak: Containment Zone"
          ],
          [
           "Machinika: Atlas"
          ],
          [
           "Distant Worlds 2"
          ],
          [
           "The Surge 2"
          ],
          [
           "Iron Marines Invasion"
          ],
          [
           "MechWarrior 5: Clans"
          ]
         ],
         "hovertemplate": "Nacechowanie recenzji=W większości pozytywne<br>Cena (zł)=%{x}<br>Liczba recenzji=%{y}<br>Tytuł=%{customdata[0]}<extra></extra>",
         "legendgroup": "W większości pozytywne",
         "marker": {
          "color": "#00cc96",
          "symbol": "circle"
         },
         "mode": "markers",
         "name": "W większości pozytywne",
         "orientation": "v",
         "showlegend": true,
         "type": "scatter",
         "x": [
          169,
          40.49,
          124.79,
          199.99,
          0,
          19.01,
          79.99,
          86.34,
          169.9,
          0,
          84.99,
          49.99,
          39.97,
          61.19,
          23.39,
          13.99,
          219,
          35.98,
          0,
          32.39,
          0,
          48.59,
          111.3,
          118.3,
          115.08,
          49.17,
          0,
          45.99,
          259,
          45.99,
          19.25,
          34.75,
          114.99,
          17.99,
          41.99,
          22.99,
          22.99,
          91.99,
          7.99,
          34.74,
          73.59,
          0,
          54.99,
          63.99,
          0,
          17.99,
          92.79,
          14.99,
          33.99,
          173.99
         ],
         "xaxis": "x",
         "y": [
          706128,
          35280,
          14905,
          137429,
          62761,
          10654,
          11373,
          10231,
          64459,
          117571,
          87400,
          1879,
          17341,
          153,
          1315,
          8553,
          2401,
          27707,
          617834,
          3485,
          23726,
          9672,
          1766,
          627,
          15073,
          6736,
          10462,
          1223,
          39560,
          915,
          114,
          10579,
          7772,
          7324,
          377,
          795,
          571,
          74260,
          4514,
          2520,
          219,
          174762,
          335,
          54,
          7022,
          323,
          2380,
          6256,
          244,
          3820
         ],
         "yaxis": "y"
        },
        {
         "customdata": [
          [
           "Apex Legends™"
          ],
          [
           "The First Descendant"
          ],
          [
           "Echocalypse: The Scarlet Covenant"
          ],
          [
           "Frostpunk: On The Edge"
          ],
          [
           "War Robots"
          ],
          [
           "Watch Dogs®: Legion"
          ],
          [
           "Warhammer 40,000: Dawn of War III"
          ],
          [
           "Starfield"
          ],
          [
           "Brotato: Abyssal Terrors"
          ],
          [
           "Arma 3 Contact"
          ],
          [
           "Frostpunk: The Rifts"
          ],
          [
           "Battlefleet Gothic: Armada"
          ],
          [
           "Battlefleet Gothic: Armada 2 - Chaos Campaign Expansion"
          ],
          [
           "Stellaris: Nemesis"
          ],
          [
           "Stellaris: Apocalypse"
          ],
          [
           "Outpost: Infinity Siege"
          ],
          [
           "Battlefield™ 2042"
          ],
          [
           "Alien: Rogue Incursion"
          ],
          [
           "Stellaris: Overlord"
          ],
          [
           "Infinite Lagrange"
          ],
          [
           "Build Master: MarsVille"
          ],
          [
           "Stellaris: Distant Stars Story Pack"
          ],
          [
           "Anno 2070™"
          ],
          [
           "Stellaris: MegaCorp"
          ],
          [
           "Stellaris: Galactic Paragons"
          ],
          [
           "ASTRONEER: Glitchwalkers"
          ],
          [
           "DISORDER"
          ],
          [
           "Warhammer 40,000: Warpforge"
          ],
          [
           "Elite Dangerous: Odyssey"
          ],
          [
           "Stellaris: First Contact Story Pack"
          ],
          [
           "Doomsday: Last Survivors"
          ],
          [
           "Stormworks: Space"
          ],
          [
           "FINAL FANTASY VII EVER CRISIS"
          ],
          [
           "Aliens: Colonial Marines Collection"
          ],
          [
           "Anno 2205™"
          ],
          [
           "The Elder Scrolls V: Skyrim Anniversary Upgrade"
          ],
          [
           "Fera: The Sundered Tribes"
          ],
          [
           "Arkanoid - Eternal Battle"
          ],
          [
           "Necromunda: Hired Gun"
          ]
         ],
         "hovertemplate": "Nacechowanie recenzji=Mieszane<br>Cena (zł)=%{x}<br>Liczba recenzji=%{y}<br>Tytuł=%{customdata[0]}<extra></extra>",
         "legendgroup": "Mieszane",
         "marker": {
          "color": "#ab63fa",
          "symbol": "circle"
         },
         "mode": "markers",
         "name": "Mieszane",
         "orientation": "v",
         "showlegend": true,
         "type": "scatter",
         "x": [
          0,
          0,
          0,
          17.99,
          0,
          37.48,
          35.8,
          299,
          14.39,
          39.99,
          6.89,
          7.49,
          17.49,
          45.99,
          45.99,
          63.24,
          269.9,
          184.99,
          45.99,
          0,
          0,
          22.99,
          19.97,
          45.99,
          33.99,
          41.99,
          134,
          0,
          67.99,
          33.99,
          0,
          45.99,
          0,
          107.99,
          159.9,
          79,
          45.99,
          45,
          29.99
         ],
         "xaxis": "x",
         "y": [
          976121,
          97704,
          239,
          1235,
          24977,
          8943,
          13008,
          106814,
          1746,
          1634,
          431,
          4874,
          143,
          1524,
          1423,
          10834,
          226924,
          549,
          1213,
          817,
          182,
          526,
          11130,
          1091,
          894,
          727,
          48,
          2527,
          7499,
          473,
          553,
          801,
          2657,
          7168,
          5662,
          6161,
          312,
          187,
          5295
         ],
         "yaxis": "y"
        },
        {
         "customdata": [
          [
           "Overwatch® 2"
          ],
          [
           "Stellaris: Cosmic Storms"
          ],
          [
           "Stellaris: Astral Planes"
          ]
         ],
         "hovertemplate": "Nacechowanie recenzji=W większości negatywne<br>Cena (zł)=%{x}<br>Liczba recenzji=%{y}<br>Tytuł=%{customdata[0]}<extra></extra>",
         "legendgroup": "W większości negatywne",
         "marker": {
          "color": "#FFA15A",
          "symbol": "circle"
         },
         "mode": "markers",
         "name": "W większości negatywne",
         "orientation": "v",
         "showlegend": true,
         "type": "scatter",
         "x": [
          0,
          59.99,
          45.99
         ],
         "xaxis": "x",
         "y": [
          325243,
          416,
          1015
         ],
         "yaxis": "y"
        },
        {
         "customdata": [
          [
           "SACRIFICE VILLAINS"
          ],
          [
           "Icarus: Creature Comforts Pack"
          ],
          [
           "Quasimorph - Supporter Pack"
          ]
         ],
         "hovertemplate": "Nacechowanie recenzji=Pozytywne<br>Cena (zł)=%{x}<br>Liczba recenzji=%{y}<br>Tytuł=%{customdata[0]}<extra></extra>",
         "legendgroup": "Pozytywne",
         "marker": {
          "color": "#19d3f3",
          "symbol": "circle"
         },
         "mode": "markers",
         "name": "Pozytywne",
         "orientation": "v",
         "showlegend": true,
         "type": "scatter",
         "x": [
          73.59,
          63.99,
          36.79
         ],
         "xaxis": "x",
         "y": [
          15,
          24,
          28
         ],
         "yaxis": "y"
        },
        {
         "customdata": [
          [
           "Command & Conquer™ 4 Tyberyjski zmierzch"
          ]
         ],
         "hovertemplate": "Nacechowanie recenzji=Przytłaczająco negatywne<br>Cena (zł)=%{x}<br>Liczba recenzji=%{y}<br>Tytuł=%{customdata[0]}<extra></extra>",
         "legendgroup": "Przytłaczająco negatywne",
         "marker": {
          "color": "#FF6692",
          "symbol": "circle"
         },
         "mode": "markers",
         "name": "Przytłaczająco negatywne",
         "orientation": "v",
         "showlegend": true,
         "type": "scatter",
         "x": [
          100
         ],
         "xaxis": "x",
         "y": [
          4073
         ],
         "yaxis": "y"
        }
       ],
       "layout": {
        "legend": {
         "title": {
          "text": "Nacechowanie recenzji"
         },
         "tracegroupgap": 0
        },
        "template": {
         "data": {
          "bar": [
           {
            "error_x": {
             "color": "#2a3f5f"
            },
            "error_y": {
             "color": "#2a3f5f"
            },
            "marker": {
             "line": {
              "color": "#E5ECF6",
              "width": 0.5
             },
             "pattern": {
              "fillmode": "overlay",
              "size": 10,
              "solidity": 0.2
             }
            },
            "type": "bar"
           }
          ],
          "barpolar": [
           {
            "marker": {
             "line": {
              "color": "#E5ECF6",
              "width": 0.5
             },
             "pattern": {
              "fillmode": "overlay",
              "size": 10,
              "solidity": 0.2
             }
            },
            "type": "barpolar"
           }
          ],
          "carpet": [
           {
            "aaxis": {
             "endlinecolor": "#2a3f5f",
             "gridcolor": "white",
             "linecolor": "white",
             "minorgridcolor": "white",
             "startlinecolor": "#2a3f5f"
            },
            "baxis": {
             "endlinecolor": "#2a3f5f",
             "gridcolor": "white",
             "linecolor": "white",
             "minorgridcolor": "white",
             "startlinecolor": "#2a3f5f"
            },
            "type": "carpet"
           }
          ],
          "choropleth": [
           {
            "colorbar": {
             "outlinewidth": 0,
             "ticks": ""
            },
            "type": "choropleth"
           }
          ],
          "contour": [
           {
            "colorbar": {
             "outlinewidth": 0,
             "ticks": ""
            },
            "colorscale": [
             [
              0,
              "#0d0887"
             ],
             [
              0.1111111111111111,
              "#46039f"
             ],
             [
              0.2222222222222222,
              "#7201a8"
             ],
             [
              0.3333333333333333,
              "#9c179e"
             ],
             [
              0.4444444444444444,
              "#bd3786"
             ],
             [
              0.5555555555555556,
              "#d8576b"
             ],
             [
              0.6666666666666666,
              "#ed7953"
             ],
             [
              0.7777777777777778,
              "#fb9f3a"
             ],
             [
              0.8888888888888888,
              "#fdca26"
             ],
             [
              1,
              "#f0f921"
             ]
            ],
            "type": "contour"
           }
          ],
          "contourcarpet": [
           {
            "colorbar": {
             "outlinewidth": 0,
             "ticks": ""
            },
            "type": "contourcarpet"
           }
          ],
          "heatmap": [
           {
            "colorbar": {
             "outlinewidth": 0,
             "ticks": ""
            },
            "colorscale": [
             [
              0,
              "#0d0887"
             ],
             [
              0.1111111111111111,
              "#46039f"
             ],
             [
              0.2222222222222222,
              "#7201a8"
             ],
             [
              0.3333333333333333,
              "#9c179e"
             ],
             [
              0.4444444444444444,
              "#bd3786"
             ],
             [
              0.5555555555555556,
              "#d8576b"
             ],
             [
              0.6666666666666666,
              "#ed7953"
             ],
             [
              0.7777777777777778,
              "#fb9f3a"
             ],
             [
              0.8888888888888888,
              "#fdca26"
             ],
             [
              1,
              "#f0f921"
             ]
            ],
            "type": "heatmap"
           }
          ],
          "heatmapgl": [
           {
            "colorbar": {
             "outlinewidth": 0,
             "ticks": ""
            },
            "colorscale": [
             [
              0,
              "#0d0887"
             ],
             [
              0.1111111111111111,
              "#46039f"
             ],
             [
              0.2222222222222222,
              "#7201a8"
             ],
             [
              0.3333333333333333,
              "#9c179e"
             ],
             [
              0.4444444444444444,
              "#bd3786"
             ],
             [
              0.5555555555555556,
              "#d8576b"
             ],
             [
              0.6666666666666666,
              "#ed7953"
             ],
             [
              0.7777777777777778,
              "#fb9f3a"
             ],
             [
              0.8888888888888888,
              "#fdca26"
             ],
             [
              1,
              "#f0f921"
             ]
            ],
            "type": "heatmapgl"
           }
          ],
          "histogram": [
           {
            "marker": {
             "pattern": {
              "fillmode": "overlay",
              "size": 10,
              "solidity": 0.2
             }
            },
            "type": "histogram"
           }
          ],
          "histogram2d": [
           {
            "colorbar": {
             "outlinewidth": 0,
             "ticks": ""
            },
            "colorscale": [
             [
              0,
              "#0d0887"
             ],
             [
              0.1111111111111111,
              "#46039f"
             ],
             [
              0.2222222222222222,
              "#7201a8"
             ],
             [
              0.3333333333333333,
              "#9c179e"
             ],
             [
              0.4444444444444444,
              "#bd3786"
             ],
             [
              0.5555555555555556,
              "#d8576b"
             ],
             [
              0.6666666666666666,
              "#ed7953"
             ],
             [
              0.7777777777777778,
              "#fb9f3a"
             ],
             [
              0.8888888888888888,
              "#fdca26"
             ],
             [
              1,
              "#f0f921"
             ]
            ],
            "type": "histogram2d"
           }
          ],
          "histogram2dcontour": [
           {
            "colorbar": {
             "outlinewidth": 0,
             "ticks": ""
            },
            "colorscale": [
             [
              0,
              "#0d0887"
             ],
             [
              0.1111111111111111,
              "#46039f"
             ],
             [
              0.2222222222222222,
              "#7201a8"
             ],
             [
              0.3333333333333333,
              "#9c179e"
             ],
             [
              0.4444444444444444,
              "#bd3786"
             ],
             [
              0.5555555555555556,
              "#d8576b"
             ],
             [
              0.6666666666666666,
              "#ed7953"
             ],
             [
              0.7777777777777778,
              "#fb9f3a"
             ],
             [
              0.8888888888888888,
              "#fdca26"
             ],
             [
              1,
              "#f0f921"
             ]
            ],
            "type": "histogram2dcontour"
           }
          ],
          "mesh3d": [
           {
            "colorbar": {
             "outlinewidth": 0,
             "ticks": ""
            },
            "type": "mesh3d"
           }
          ],
          "parcoords": [
           {
            "line": {
             "colorbar": {
              "outlinewidth": 0,
              "ticks": ""
             }
            },
            "type": "parcoords"
           }
          ],
          "pie": [
           {
            "automargin": true,
            "type": "pie"
           }
          ],
          "scatter": [
           {
            "fillpattern": {
             "fillmode": "overlay",
             "size": 10,
             "solidity": 0.2
            },
            "type": "scatter"
           }
          ],
          "scatter3d": [
           {
            "line": {
             "colorbar": {
              "outlinewidth": 0,
              "ticks": ""
             }
            },
            "marker": {
             "colorbar": {
              "outlinewidth": 0,
              "ticks": ""
             }
            },
            "type": "scatter3d"
           }
          ],
          "scattercarpet": [
           {
            "marker": {
             "colorbar": {
              "outlinewidth": 0,
              "ticks": ""
             }
            },
            "type": "scattercarpet"
           }
          ],
          "scattergeo": [
           {
            "marker": {
             "colorbar": {
              "outlinewidth": 0,
              "ticks": ""
             }
            },
            "type": "scattergeo"
           }
          ],
          "scattergl": [
           {
            "marker": {
             "colorbar": {
              "outlinewidth": 0,
              "ticks": ""
             }
            },
            "type": "scattergl"
           }
          ],
          "scattermapbox": [
           {
            "marker": {
             "colorbar": {
              "outlinewidth": 0,
              "ticks": ""
             }
            },
            "type": "scattermapbox"
           }
          ],
          "scatterpolar": [
           {
            "marker": {
             "colorbar": {
              "outlinewidth": 0,
              "ticks": ""
             }
            },
            "type": "scatterpolar"
           }
          ],
          "scatterpolargl": [
           {
            "marker": {
             "colorbar": {
              "outlinewidth": 0,
              "ticks": ""
             }
            },
            "type": "scatterpolargl"
           }
          ],
          "scatterternary": [
           {
            "marker": {
             "colorbar": {
              "outlinewidth": 0,
              "ticks": ""
             }
            },
            "type": "scatterternary"
           }
          ],
          "surface": [
           {
            "colorbar": {
             "outlinewidth": 0,
             "ticks": ""
            },
            "colorscale": [
             [
              0,
              "#0d0887"
             ],
             [
              0.1111111111111111,
              "#46039f"
             ],
             [
              0.2222222222222222,
              "#7201a8"
             ],
             [
              0.3333333333333333,
              "#9c179e"
             ],
             [
              0.4444444444444444,
              "#bd3786"
             ],
             [
              0.5555555555555556,
              "#d8576b"
             ],
             [
              0.6666666666666666,
              "#ed7953"
             ],
             [
              0.7777777777777778,
              "#fb9f3a"
             ],
             [
              0.8888888888888888,
              "#fdca26"
             ],
             [
              1,
              "#f0f921"
             ]
            ],
            "type": "surface"
           }
          ],
          "table": [
           {
            "cells": {
             "fill": {
              "color": "#EBF0F8"
             },
             "line": {
              "color": "white"
             }
            },
            "header": {
             "fill": {
              "color": "#C8D4E3"
             },
             "line": {
              "color": "white"
             }
            },
            "type": "table"
           }
          ]
         },
         "layout": {
          "annotationdefaults": {
           "arrowcolor": "#2a3f5f",
           "arrowhead": 0,
           "arrowwidth": 1
          },
          "autotypenumbers": "strict",
          "coloraxis": {
           "colorbar": {
            "outlinewidth": 0,
            "ticks": ""
           }
          },
          "colorscale": {
           "diverging": [
            [
             0,
             "#8e0152"
            ],
            [
             0.1,
             "#c51b7d"
            ],
            [
             0.2,
             "#de77ae"
            ],
            [
             0.3,
             "#f1b6da"
            ],
            [
             0.4,
             "#fde0ef"
            ],
            [
             0.5,
             "#f7f7f7"
            ],
            [
             0.6,
             "#e6f5d0"
            ],
            [
             0.7,
             "#b8e186"
            ],
            [
             0.8,
             "#7fbc41"
            ],
            [
             0.9,
             "#4d9221"
            ],
            [
             1,
             "#276419"
            ]
           ],
           "sequential": [
            [
             0,
             "#0d0887"
            ],
            [
             0.1111111111111111,
             "#46039f"
            ],
            [
             0.2222222222222222,
             "#7201a8"
            ],
            [
             0.3333333333333333,
             "#9c179e"
            ],
            [
             0.4444444444444444,
             "#bd3786"
            ],
            [
             0.5555555555555556,
             "#d8576b"
            ],
            [
             0.6666666666666666,
             "#ed7953"
            ],
            [
             0.7777777777777778,
             "#fb9f3a"
            ],
            [
             0.8888888888888888,
             "#fdca26"
            ],
            [
             1,
             "#f0f921"
            ]
           ],
           "sequentialminus": [
            [
             0,
             "#0d0887"
            ],
            [
             0.1111111111111111,
             "#46039f"
            ],
            [
             0.2222222222222222,
             "#7201a8"
            ],
            [
             0.3333333333333333,
             "#9c179e"
            ],
            [
             0.4444444444444444,
             "#bd3786"
            ],
            [
             0.5555555555555556,
             "#d8576b"
            ],
            [
             0.6666666666666666,
             "#ed7953"
            ],
            [
             0.7777777777777778,
             "#fb9f3a"
            ],
            [
             0.8888888888888888,
             "#fdca26"
            ],
            [
             1,
             "#f0f921"
            ]
           ]
          },
          "colorway": [
           "#636efa",
           "#EF553B",
           "#00cc96",
           "#ab63fa",
           "#FFA15A",
           "#19d3f3",
           "#FF6692",
           "#B6E880",
           "#FF97FF",
           "#FECB52"
          ],
          "font": {
           "color": "#2a3f5f"
          },
          "geo": {
           "bgcolor": "white",
           "lakecolor": "white",
           "landcolor": "#E5ECF6",
           "showlakes": true,
           "showland": true,
           "subunitcolor": "white"
          },
          "hoverlabel": {
           "align": "left"
          },
          "hovermode": "closest",
          "mapbox": {
           "style": "light"
          },
          "paper_bgcolor": "white",
          "plot_bgcolor": "#E5ECF6",
          "polar": {
           "angularaxis": {
            "gridcolor": "white",
            "linecolor": "white",
            "ticks": ""
           },
           "bgcolor": "#E5ECF6",
           "radialaxis": {
            "gridcolor": "white",
            "linecolor": "white",
            "ticks": ""
           }
          },
          "scene": {
           "xaxis": {
            "backgroundcolor": "#E5ECF6",
            "gridcolor": "white",
            "gridwidth": 2,
            "linecolor": "white",
            "showbackground": true,
            "ticks": "",
            "zerolinecolor": "white"
           },
           "yaxis": {
            "backgroundcolor": "#E5ECF6",
            "gridcolor": "white",
            "gridwidth": 2,
            "linecolor": "white",
            "showbackground": true,
            "ticks": "",
            "zerolinecolor": "white"
           },
           "zaxis": {
            "backgroundcolor": "#E5ECF6",
            "gridcolor": "white",
            "gridwidth": 2,
            "linecolor": "white",
            "showbackground": true,
            "ticks": "",
            "zerolinecolor": "white"
           }
          },
          "shapedefaults": {
           "line": {
            "color": "#2a3f5f"
           }
          },
          "ternary": {
           "aaxis": {
            "gridcolor": "white",
            "linecolor": "white",
            "ticks": ""
           },
           "baxis": {
            "gridcolor": "white",
            "linecolor": "white",
            "ticks": ""
           },
           "bgcolor": "#E5ECF6",
           "caxis": {
            "gridcolor": "white",
            "linecolor": "white",
            "ticks": ""
           }
          },
          "title": {
           "x": 0.05
          },
          "xaxis": {
           "automargin": true,
           "gridcolor": "white",
           "linecolor": "white",
           "ticks": "",
           "title": {
            "standoff": 15
           },
           "zerolinecolor": "white",
           "zerolinewidth": 2
          },
          "yaxis": {
           "automargin": true,
           "gridcolor": "white",
           "linecolor": "white",
           "ticks": "",
           "title": {
            "standoff": 15
           },
           "zerolinecolor": "white",
           "zerolinewidth": 2
          }
         }
        },
        "title": {
         "text": "Cena vs. liczba recenzji"
        },
        "xaxis": {
         "anchor": "y",
         "domain": [
          0,
          1
         ],
         "title": {
          "text": "Cena (zł)"
         }
        },
        "yaxis": {
         "anchor": "x",
         "domain": [
          0,
          1
         ],
         "title": {
          "text": "Liczba recenzji"
         }
        }
       }
      }
     },
     "metadata": {},
     "output_type": "display_data"
    }
   ],
   "source": [
    "# 1. Zależność między ceną a liczbą recenzji\n",
    "\n",
    "import plotly.express as px\n",
    "\n",
    "fig = px.scatter(df, x='Cena', y='Liczba recenzji', color='Nacechowanie recenzji',\n",
    "                 title='Cena vs. liczba recenzji', labels={'Cena': 'Cena (zł)', 'Liczba recenzji': 'Liczba recenzji'},\n",
    "                 hover_data=['Tytuł'])\n",
    "fig.show()\n"
   ]
  },
  {
   "cell_type": "code",
   "execution_count": 33,
   "metadata": {},
   "outputs": [
    {
     "name": "stderr",
     "output_type": "stream",
     "text": [
      "C:\\Users\\awodz\\AppData\\Local\\Temp\\ipykernel_25500\\1613657046.py:10: PerformanceWarning:\n",
      "\n",
      "DataFrame is highly fragmented.  This is usually the result of calling `frame.insert` many times, which has poor performance.  Consider joining all columns at once using pd.concat(axis=1) instead. To get a de-fragmented frame, use `newframe = frame.copy()`\n",
      "\n"
     ]
    },
    {
     "data": {
      "application/vnd.plotly.v1+json": {
       "config": {
        "plotlyServerURL": "https://plot.ly"
       },
       "data": [
        {
         "alignmentgroup": "True",
         "hovertemplate": "Nacechowanie recenzji=%{x}<br>Cena (zł)=%{y}<extra></extra>",
         "legendgroup": "",
         "marker": {
          "color": "#636efa"
         },
         "name": "",
         "notched": false,
         "offsetgroup": "",
         "orientation": "v",
         "showlegend": false,
         "type": "box",
         "x": [
          "Bardzo pozytywne",
          "Bardzo pozytywne",
          "Przytłaczająco pozytywne",
          "Bardzo pozytywne",
          "W większości pozytywne",
          "Mieszane",
          "Bardzo pozytywne",
          "Bardzo pozytywne",
          "Przytłaczająco pozytywne",
          "W większości pozytywne",
          "Bardzo pozytywne",
          "Przytłaczająco pozytywne",
          "W większości pozytywne",
          "Bardzo pozytywne",
          "Bardzo pozytywne",
          "Bardzo pozytywne",
          "Przytłaczająco pozytywne",
          "Bardzo pozytywne",
          "Bardzo pozytywne",
          "Bardzo pozytywne",
          "Bardzo pozytywne",
          "Bardzo pozytywne",
          "Bardzo pozytywne",
          "W większości negatywne",
          "Bardzo pozytywne",
          "W większości pozytywne",
          "Bardzo pozytywne",
          "Bardzo pozytywne",
          "Bardzo pozytywne",
          "Bardzo pozytywne",
          "Bardzo pozytywne",
          "W większości pozytywne",
          "W większości pozytywne",
          "Bardzo pozytywne",
          "Mieszane",
          "Przytłaczająco pozytywne",
          "Bardzo pozytywne",
          "W większości pozytywne",
          "W większości pozytywne",
          "Mieszane",
          "Bardzo pozytywne",
          "Bardzo pozytywne",
          "W większości pozytywne",
          "W większości pozytywne",
          "W większości pozytywne",
          "Przytłaczająco pozytywne",
          "Bardzo pozytywne",
          "Bardzo pozytywne",
          "Przytłaczająco pozytywne",
          "Mieszane",
          "Przytłaczająco pozytywne",
          "Mieszane",
          "Bardzo pozytywne",
          "W większości pozytywne",
          "W większości pozytywne",
          "W większości pozytywne",
          "W większości pozytywne",
          "Przytłaczająco pozytywne",
          "W większości pozytywne",
          "Bardzo pozytywne",
          "Mieszane",
          "Mieszane",
          "W większości pozytywne",
          "Bardzo pozytywne",
          "Bardzo pozytywne",
          "Bardzo pozytywne",
          "Przytłaczająco pozytywne",
          "Przytłaczająco pozytywne",
          "Bardzo pozytywne",
          "Mieszane",
          "Bardzo pozytywne",
          "Bardzo pozytywne",
          "Bardzo pozytywne",
          "Przytłaczająco pozytywne",
          "Przytłaczająco pozytywne",
          "Bardzo pozytywne",
          "Bardzo pozytywne",
          "W większości pozytywne",
          "Przytłaczająco pozytywne",
          "Mieszane",
          "Bardzo pozytywne",
          "Bardzo pozytywne",
          "Bardzo pozytywne",
          "Bardzo pozytywne",
          "Bardzo pozytywne",
          "Mieszane",
          "W większości pozytywne",
          "Bardzo pozytywne",
          "Bardzo pozytywne",
          "Bardzo pozytywne",
          "Przytłaczająco pozytywne",
          "Bardzo pozytywne",
          "Bardzo pozytywne",
          "Bardzo pozytywne",
          "Bardzo pozytywne",
          "Bardzo pozytywne",
          "W większości pozytywne",
          "Przytłaczająco pozytywne",
          "W większości pozytywne",
          "W większości pozytywne",
          "W większości pozytywne",
          "Bardzo pozytywne",
          "W większości pozytywne",
          "W większości pozytywne",
          "Przytłaczająco pozytywne",
          "Przytłaczająco pozytywne",
          "Bardzo pozytywne",
          "Bardzo pozytywne",
          "Bardzo pozytywne",
          "Bardzo pozytywne",
          "Przytłaczająco pozytywne",
          "Bardzo pozytywne",
          "W większości pozytywne",
          "Mieszane",
          "W większości pozytywne",
          "W większości negatywne",
          "Bardzo pozytywne",
          "Bardzo pozytywne",
          "Bardzo pozytywne",
          "W większości pozytywne",
          "Bardzo pozytywne",
          "Mieszane",
          "Bardzo pozytywne",
          "Przytłaczająco pozytywne",
          "Przytłaczająco pozytywne",
          "Bardzo pozytywne",
          "Mieszane",
          "W większości negatywne",
          "Mieszane",
          "Przytłaczająco pozytywne",
          "Bardzo pozytywne",
          "Bardzo pozytywne",
          "Bardzo pozytywne",
          "Bardzo pozytywne",
          "Bardzo pozytywne",
          "Bardzo pozytywne",
          "Przytłaczająco pozytywne",
          "Bardzo pozytywne",
          "Mieszane",
          "Mieszane",
          "W większości pozytywne",
          "Bardzo pozytywne",
          "Bardzo pozytywne",
          "Bardzo pozytywne",
          "Bardzo pozytywne",
          "Bardzo pozytywne",
          "Bardzo pozytywne",
          "W większości pozytywne",
          "Mieszane",
          "W większości pozytywne",
          "Bardzo pozytywne",
          "Bardzo pozytywne",
          "Bardzo pozytywne",
          "Bardzo pozytywne",
          "Bardzo pozytywne",
          "Mieszane",
          "Bardzo pozytywne",
          "Mieszane",
          "Bardzo pozytywne",
          "Bardzo pozytywne",
          "Mieszane",
          "Przytłaczająco pozytywne",
          "Bardzo pozytywne",
          "Bardzo pozytywne",
          "Bardzo pozytywne",
          "Mieszane",
          "Bardzo pozytywne",
          "W większości pozytywne",
          "W większości pozytywne",
          "Bardzo pozytywne",
          "Bardzo pozytywne",
          "Przytłaczająco pozytywne",
          "Bardzo pozytywne",
          "Mieszane",
          "Przytłaczająco pozytywne",
          "Przytłaczająco pozytywne",
          "Mieszane",
          "W większości pozytywne",
          "Bardzo pozytywne",
          "Przytłaczająco pozytywne",
          "Mieszane",
          "Bardzo pozytywne",
          "Mieszane",
          "Mieszane",
          "Przytłaczająco pozytywne",
          "Bardzo pozytywne",
          "Bardzo pozytywne",
          "Mieszane",
          "Bardzo pozytywne",
          "Bardzo pozytywne",
          "Bardzo pozytywne",
          "W większości pozytywne",
          "Bardzo pozytywne",
          "W większości pozytywne",
          "Mieszane",
          "Bardzo pozytywne",
          "W większości pozytywne",
          "Bardzo pozytywne",
          "Bardzo pozytywne",
          "Bardzo pozytywne",
          "Bardzo pozytywne",
          "Bardzo pozytywne",
          "Bardzo pozytywne",
          "Bardzo pozytywne",
          "Mieszane",
          "W większości pozytywne",
          "Przytłaczająco pozytywne",
          "Bardzo pozytywne",
          "Bardzo pozytywne",
          "Przytłaczająco pozytywne",
          "Bardzo pozytywne",
          "Bardzo pozytywne",
          "W większości pozytywne",
          "Bardzo pozytywne",
          "W większości pozytywne",
          "Przytłaczająco pozytywne",
          "Bardzo pozytywne",
          "W większości pozytywne",
          "Bardzo pozytywne",
          "Bardzo pozytywne",
          "W większości pozytywne",
          "Przytłaczająco pozytywne",
          "Bardzo pozytywne",
          "Pozytywne",
          "Bardzo pozytywne",
          "Bardzo pozytywne",
          "Bardzo pozytywne",
          "Bardzo pozytywne",
          "Bardzo pozytywne",
          "Bardzo pozytywne",
          "Przytłaczająco negatywne",
          "Przytłaczająco pozytywne",
          "Bardzo pozytywne",
          "W większości pozytywne",
          "Przytłaczająco pozytywne",
          "Mieszane",
          "Bardzo pozytywne",
          "Przytłaczająco pozytywne",
          "Mieszane",
          "Przytłaczająco pozytywne",
          "Bardzo pozytywne",
          "Bardzo pozytywne",
          "Bardzo pozytywne",
          "Bardzo pozytywne",
          "Bardzo pozytywne",
          "W większości pozytywne",
          "W większości pozytywne",
          "Bardzo pozytywne",
          "Bardzo pozytywne",
          "Przytłaczająco pozytywne",
          "Bardzo pozytywne",
          "Bardzo pozytywne",
          "Bardzo pozytywne",
          "Bardzo pozytywne",
          "Bardzo pozytywne",
          "Mieszane",
          "Przytłaczająco pozytywne",
          "Przytłaczająco pozytywne",
          "Bardzo pozytywne",
          "Przytłaczająco pozytywne",
          "Przytłaczająco pozytywne",
          "Bardzo pozytywne",
          "Mieszane",
          "Mieszane",
          "Bardzo pozytywne",
          "Bardzo pozytywne",
          "Bardzo pozytywne",
          "Bardzo pozytywne",
          "Bardzo pozytywne",
          "Bardzo pozytywne",
          "Pozytywne",
          "Mieszane",
          "Bardzo pozytywne",
          "W większości pozytywne",
          "Przytłaczająco pozytywne",
          "Bardzo pozytywne",
          "Bardzo pozytywne",
          "Bardzo pozytywne",
          "Bardzo pozytywne",
          "Mieszane",
          "Przytłaczająco pozytywne",
          "Bardzo pozytywne",
          "Bardzo pozytywne",
          "Bardzo pozytywne",
          "Pozytywne",
          "Bardzo pozytywne",
          "Mieszane",
          "Bardzo pozytywne",
          "Bardzo pozytywne",
          "Bardzo pozytywne",
          "Przytłaczająco pozytywne",
          "W większości pozytywne",
          "Mieszane",
          "Przytłaczająco pozytywne",
          "Bardzo pozytywne",
          "W większości pozytywne",
          "Bardzo pozytywne",
          "Przytłaczająco pozytywne",
          "Mieszane",
          "Bardzo pozytywne",
          "W większości pozytywne",
          "W większości pozytywne",
          "Bardzo pozytywne"
         ],
         "x0": " ",
         "xaxis": "x",
         "y": [
          0,
          157.49,
          55.49,
          10.79,
          169,
          0,
          46.24,
          199,
          45.86,
          40.49,
          13.89,
          45.99,
          124.79,
          75.59,
          99.99,
          35.63,
          71.99,
          164.99,
          229.99,
          55.99,
          49.75,
          45.86,
          91.99,
          0,
          64.49,
          199.99,
          9.19,
          72.59,
          20.39,
          22.99,
          69.99,
          0,
          19.01,
          42.25,
          0,
          13.79,
          31.75,
          79.99,
          86.34,
          0,
          75,
          63.99,
          169.9,
          0,
          84.99,
          59.99,
          83.39,
          65.99,
          139.99,
          17.99,
          59.99,
          0,
          219,
          49.99,
          39.97,
          61.19,
          23.39,
          107.99,
          13.99,
          259,
          37.48,
          35.8,
          219,
          29.99,
          29.99,
          58.49,
          89.99,
          15.99,
          29.97,
          299,
          32.19,
          138.74,
          0,
          19.99,
          138.99,
          79,
          68.64,
          35.98,
          45.99,
          14.39,
          269.9,
          67.99,
          72.99,
          259,
          185.59,
          39.99,
          0,
          12.6,
          14.99,
          208.49,
          8.99,
          229,
          0,
          114.99,
          73.59,
          27.99,
          32.39,
          45.99,
          0,
          48.59,
          111.3,
          149.99,
          118.3,
          115.08,
          35.99,
          55.19,
          71.99,
          179,
          125.09,
          138.99,
          21.59,
          199.99,
          49.17,
          6.89,
          0,
          59.99,
          159.9,
          43.99,
          35.74,
          45.99,
          44.99,
          7.49,
          199,
          0,
          24.99,
          82.99,
          17.49,
          45.99,
          45.99,
          171.9,
          32.24,
          114.99,
          119,
          53.99,
          69.9,
          34.99,
          138.99,
          161.99,
          45.99,
          63.24,
          259,
          79.9,
          21.24,
          107.46,
          31.99,
          43.19,
          40.47,
          45.99,
          269.9,
          19.25,
          71.99,
          50,
          59.99,
          31.99,
          114.99,
          184.99,
          43.19,
          45.99,
          91.99,
          12.6,
          0,
          45.99,
          85.9,
          24.75,
          45.99,
          0,
          9.99,
          34.75,
          114.99,
          26.99,
          28.79,
          91.99,
          4.59,
          22.99,
          17.81,
          35.99,
          19.97,
          17.99,
          21.12,
          45.99,
          45.99,
          42.99,
          33.99,
          41.99,
          45.99,
          59.99,
          64.99,
          134,
          17.99,
          49.99,
          54.39,
          41.99,
          22.99,
          22.99,
          0,
          91.99,
          22.99,
          45.99,
          138.99,
          89.99,
          91.99,
          71.99,
          89.9,
          15.6,
          67.99,
          91.99,
          67.99,
          67.49,
          67.6,
          23.99,
          46.99,
          54.99,
          7.99,
          14.49,
          34.74,
          67.99,
          73.59,
          73.59,
          114.99,
          89.99,
          0,
          71.99,
          71.99,
          73.59,
          10.79,
          26.99,
          44.99,
          34.99,
          100,
          100,
          100,
          45.99,
          45.99,
          54.99,
          79.99,
          33.99,
          274.99,
          274.99,
          0,
          138.99,
          0,
          46.99,
          71.99,
          53.99,
          21.59,
          63.99,
          0,
          35.99,
          82.79,
          44.19,
          214.9,
          39.99,
          14.29,
          219.99,
          100,
          45.99,
          58.49,
          28.74,
          71.2,
          80.49,
          44.99,
          54.99,
          0,
          107.99,
          55.19,
          100,
          100,
          100,
          39.59,
          9.59,
          63.99,
          159.9,
          269.9,
          17.99,
          39,
          40.99,
          32.39,
          14.66,
          22.99,
          79,
          37.79,
          46.99,
          0,
          36.99,
          36.79,
          79.99,
          45.99,
          45.99,
          94.99,
          7.19,
          64.99,
          92.79,
          45,
          59.99,
          35.99,
          14.99,
          29.99,
          43.99,
          29.99,
          4.49,
          33.99,
          173.99,
          8.59
         ],
         "y0": " ",
         "yaxis": "y"
        }
       ],
       "layout": {
        "boxmode": "group",
        "legend": {
         "tracegroupgap": 0
        },
        "template": {
         "data": {
          "bar": [
           {
            "error_x": {
             "color": "#2a3f5f"
            },
            "error_y": {
             "color": "#2a3f5f"
            },
            "marker": {
             "line": {
              "color": "#E5ECF6",
              "width": 0.5
             },
             "pattern": {
              "fillmode": "overlay",
              "size": 10,
              "solidity": 0.2
             }
            },
            "type": "bar"
           }
          ],
          "barpolar": [
           {
            "marker": {
             "line": {
              "color": "#E5ECF6",
              "width": 0.5
             },
             "pattern": {
              "fillmode": "overlay",
              "size": 10,
              "solidity": 0.2
             }
            },
            "type": "barpolar"
           }
          ],
          "carpet": [
           {
            "aaxis": {
             "endlinecolor": "#2a3f5f",
             "gridcolor": "white",
             "linecolor": "white",
             "minorgridcolor": "white",
             "startlinecolor": "#2a3f5f"
            },
            "baxis": {
             "endlinecolor": "#2a3f5f",
             "gridcolor": "white",
             "linecolor": "white",
             "minorgridcolor": "white",
             "startlinecolor": "#2a3f5f"
            },
            "type": "carpet"
           }
          ],
          "choropleth": [
           {
            "colorbar": {
             "outlinewidth": 0,
             "ticks": ""
            },
            "type": "choropleth"
           }
          ],
          "contour": [
           {
            "colorbar": {
             "outlinewidth": 0,
             "ticks": ""
            },
            "colorscale": [
             [
              0,
              "#0d0887"
             ],
             [
              0.1111111111111111,
              "#46039f"
             ],
             [
              0.2222222222222222,
              "#7201a8"
             ],
             [
              0.3333333333333333,
              "#9c179e"
             ],
             [
              0.4444444444444444,
              "#bd3786"
             ],
             [
              0.5555555555555556,
              "#d8576b"
             ],
             [
              0.6666666666666666,
              "#ed7953"
             ],
             [
              0.7777777777777778,
              "#fb9f3a"
             ],
             [
              0.8888888888888888,
              "#fdca26"
             ],
             [
              1,
              "#f0f921"
             ]
            ],
            "type": "contour"
           }
          ],
          "contourcarpet": [
           {
            "colorbar": {
             "outlinewidth": 0,
             "ticks": ""
            },
            "type": "contourcarpet"
           }
          ],
          "heatmap": [
           {
            "colorbar": {
             "outlinewidth": 0,
             "ticks": ""
            },
            "colorscale": [
             [
              0,
              "#0d0887"
             ],
             [
              0.1111111111111111,
              "#46039f"
             ],
             [
              0.2222222222222222,
              "#7201a8"
             ],
             [
              0.3333333333333333,
              "#9c179e"
             ],
             [
              0.4444444444444444,
              "#bd3786"
             ],
             [
              0.5555555555555556,
              "#d8576b"
             ],
             [
              0.6666666666666666,
              "#ed7953"
             ],
             [
              0.7777777777777778,
              "#fb9f3a"
             ],
             [
              0.8888888888888888,
              "#fdca26"
             ],
             [
              1,
              "#f0f921"
             ]
            ],
            "type": "heatmap"
           }
          ],
          "heatmapgl": [
           {
            "colorbar": {
             "outlinewidth": 0,
             "ticks": ""
            },
            "colorscale": [
             [
              0,
              "#0d0887"
             ],
             [
              0.1111111111111111,
              "#46039f"
             ],
             [
              0.2222222222222222,
              "#7201a8"
             ],
             [
              0.3333333333333333,
              "#9c179e"
             ],
             [
              0.4444444444444444,
              "#bd3786"
             ],
             [
              0.5555555555555556,
              "#d8576b"
             ],
             [
              0.6666666666666666,
              "#ed7953"
             ],
             [
              0.7777777777777778,
              "#fb9f3a"
             ],
             [
              0.8888888888888888,
              "#fdca26"
             ],
             [
              1,
              "#f0f921"
             ]
            ],
            "type": "heatmapgl"
           }
          ],
          "histogram": [
           {
            "marker": {
             "pattern": {
              "fillmode": "overlay",
              "size": 10,
              "solidity": 0.2
             }
            },
            "type": "histogram"
           }
          ],
          "histogram2d": [
           {
            "colorbar": {
             "outlinewidth": 0,
             "ticks": ""
            },
            "colorscale": [
             [
              0,
              "#0d0887"
             ],
             [
              0.1111111111111111,
              "#46039f"
             ],
             [
              0.2222222222222222,
              "#7201a8"
             ],
             [
              0.3333333333333333,
              "#9c179e"
             ],
             [
              0.4444444444444444,
              "#bd3786"
             ],
             [
              0.5555555555555556,
              "#d8576b"
             ],
             [
              0.6666666666666666,
              "#ed7953"
             ],
             [
              0.7777777777777778,
              "#fb9f3a"
             ],
             [
              0.8888888888888888,
              "#fdca26"
             ],
             [
              1,
              "#f0f921"
             ]
            ],
            "type": "histogram2d"
           }
          ],
          "histogram2dcontour": [
           {
            "colorbar": {
             "outlinewidth": 0,
             "ticks": ""
            },
            "colorscale": [
             [
              0,
              "#0d0887"
             ],
             [
              0.1111111111111111,
              "#46039f"
             ],
             [
              0.2222222222222222,
              "#7201a8"
             ],
             [
              0.3333333333333333,
              "#9c179e"
             ],
             [
              0.4444444444444444,
              "#bd3786"
             ],
             [
              0.5555555555555556,
              "#d8576b"
             ],
             [
              0.6666666666666666,
              "#ed7953"
             ],
             [
              0.7777777777777778,
              "#fb9f3a"
             ],
             [
              0.8888888888888888,
              "#fdca26"
             ],
             [
              1,
              "#f0f921"
             ]
            ],
            "type": "histogram2dcontour"
           }
          ],
          "mesh3d": [
           {
            "colorbar": {
             "outlinewidth": 0,
             "ticks": ""
            },
            "type": "mesh3d"
           }
          ],
          "parcoords": [
           {
            "line": {
             "colorbar": {
              "outlinewidth": 0,
              "ticks": ""
             }
            },
            "type": "parcoords"
           }
          ],
          "pie": [
           {
            "automargin": true,
            "type": "pie"
           }
          ],
          "scatter": [
           {
            "fillpattern": {
             "fillmode": "overlay",
             "size": 10,
             "solidity": 0.2
            },
            "type": "scatter"
           }
          ],
          "scatter3d": [
           {
            "line": {
             "colorbar": {
              "outlinewidth": 0,
              "ticks": ""
             }
            },
            "marker": {
             "colorbar": {
              "outlinewidth": 0,
              "ticks": ""
             }
            },
            "type": "scatter3d"
           }
          ],
          "scattercarpet": [
           {
            "marker": {
             "colorbar": {
              "outlinewidth": 0,
              "ticks": ""
             }
            },
            "type": "scattercarpet"
           }
          ],
          "scattergeo": [
           {
            "marker": {
             "colorbar": {
              "outlinewidth": 0,
              "ticks": ""
             }
            },
            "type": "scattergeo"
           }
          ],
          "scattergl": [
           {
            "marker": {
             "colorbar": {
              "outlinewidth": 0,
              "ticks": ""
             }
            },
            "type": "scattergl"
           }
          ],
          "scattermapbox": [
           {
            "marker": {
             "colorbar": {
              "outlinewidth": 0,
              "ticks": ""
             }
            },
            "type": "scattermapbox"
           }
          ],
          "scatterpolar": [
           {
            "marker": {
             "colorbar": {
              "outlinewidth": 0,
              "ticks": ""
             }
            },
            "type": "scatterpolar"
           }
          ],
          "scatterpolargl": [
           {
            "marker": {
             "colorbar": {
              "outlinewidth": 0,
              "ticks": ""
             }
            },
            "type": "scatterpolargl"
           }
          ],
          "scatterternary": [
           {
            "marker": {
             "colorbar": {
              "outlinewidth": 0,
              "ticks": ""
             }
            },
            "type": "scatterternary"
           }
          ],
          "surface": [
           {
            "colorbar": {
             "outlinewidth": 0,
             "ticks": ""
            },
            "colorscale": [
             [
              0,
              "#0d0887"
             ],
             [
              0.1111111111111111,
              "#46039f"
             ],
             [
              0.2222222222222222,
              "#7201a8"
             ],
             [
              0.3333333333333333,
              "#9c179e"
             ],
             [
              0.4444444444444444,
              "#bd3786"
             ],
             [
              0.5555555555555556,
              "#d8576b"
             ],
             [
              0.6666666666666666,
              "#ed7953"
             ],
             [
              0.7777777777777778,
              "#fb9f3a"
             ],
             [
              0.8888888888888888,
              "#fdca26"
             ],
             [
              1,
              "#f0f921"
             ]
            ],
            "type": "surface"
           }
          ],
          "table": [
           {
            "cells": {
             "fill": {
              "color": "#EBF0F8"
             },
             "line": {
              "color": "white"
             }
            },
            "header": {
             "fill": {
              "color": "#C8D4E3"
             },
             "line": {
              "color": "white"
             }
            },
            "type": "table"
           }
          ]
         },
         "layout": {
          "annotationdefaults": {
           "arrowcolor": "#2a3f5f",
           "arrowhead": 0,
           "arrowwidth": 1
          },
          "autotypenumbers": "strict",
          "coloraxis": {
           "colorbar": {
            "outlinewidth": 0,
            "ticks": ""
           }
          },
          "colorscale": {
           "diverging": [
            [
             0,
             "#8e0152"
            ],
            [
             0.1,
             "#c51b7d"
            ],
            [
             0.2,
             "#de77ae"
            ],
            [
             0.3,
             "#f1b6da"
            ],
            [
             0.4,
             "#fde0ef"
            ],
            [
             0.5,
             "#f7f7f7"
            ],
            [
             0.6,
             "#e6f5d0"
            ],
            [
             0.7,
             "#b8e186"
            ],
            [
             0.8,
             "#7fbc41"
            ],
            [
             0.9,
             "#4d9221"
            ],
            [
             1,
             "#276419"
            ]
           ],
           "sequential": [
            [
             0,
             "#0d0887"
            ],
            [
             0.1111111111111111,
             "#46039f"
            ],
            [
             0.2222222222222222,
             "#7201a8"
            ],
            [
             0.3333333333333333,
             "#9c179e"
            ],
            [
             0.4444444444444444,
             "#bd3786"
            ],
            [
             0.5555555555555556,
             "#d8576b"
            ],
            [
             0.6666666666666666,
             "#ed7953"
            ],
            [
             0.7777777777777778,
             "#fb9f3a"
            ],
            [
             0.8888888888888888,
             "#fdca26"
            ],
            [
             1,
             "#f0f921"
            ]
           ],
           "sequentialminus": [
            [
             0,
             "#0d0887"
            ],
            [
             0.1111111111111111,
             "#46039f"
            ],
            [
             0.2222222222222222,
             "#7201a8"
            ],
            [
             0.3333333333333333,
             "#9c179e"
            ],
            [
             0.4444444444444444,
             "#bd3786"
            ],
            [
             0.5555555555555556,
             "#d8576b"
            ],
            [
             0.6666666666666666,
             "#ed7953"
            ],
            [
             0.7777777777777778,
             "#fb9f3a"
            ],
            [
             0.8888888888888888,
             "#fdca26"
            ],
            [
             1,
             "#f0f921"
            ]
           ]
          },
          "colorway": [
           "#636efa",
           "#EF553B",
           "#00cc96",
           "#ab63fa",
           "#FFA15A",
           "#19d3f3",
           "#FF6692",
           "#B6E880",
           "#FF97FF",
           "#FECB52"
          ],
          "font": {
           "color": "#2a3f5f"
          },
          "geo": {
           "bgcolor": "white",
           "lakecolor": "white",
           "landcolor": "#E5ECF6",
           "showlakes": true,
           "showland": true,
           "subunitcolor": "white"
          },
          "hoverlabel": {
           "align": "left"
          },
          "hovermode": "closest",
          "mapbox": {
           "style": "light"
          },
          "paper_bgcolor": "white",
          "plot_bgcolor": "#E5ECF6",
          "polar": {
           "angularaxis": {
            "gridcolor": "white",
            "linecolor": "white",
            "ticks": ""
           },
           "bgcolor": "#E5ECF6",
           "radialaxis": {
            "gridcolor": "white",
            "linecolor": "white",
            "ticks": ""
           }
          },
          "scene": {
           "xaxis": {
            "backgroundcolor": "#E5ECF6",
            "gridcolor": "white",
            "gridwidth": 2,
            "linecolor": "white",
            "showbackground": true,
            "ticks": "",
            "zerolinecolor": "white"
           },
           "yaxis": {
            "backgroundcolor": "#E5ECF6",
            "gridcolor": "white",
            "gridwidth": 2,
            "linecolor": "white",
            "showbackground": true,
            "ticks": "",
            "zerolinecolor": "white"
           },
           "zaxis": {
            "backgroundcolor": "#E5ECF6",
            "gridcolor": "white",
            "gridwidth": 2,
            "linecolor": "white",
            "showbackground": true,
            "ticks": "",
            "zerolinecolor": "white"
           }
          },
          "shapedefaults": {
           "line": {
            "color": "#2a3f5f"
           }
          },
          "ternary": {
           "aaxis": {
            "gridcolor": "white",
            "linecolor": "white",
            "ticks": ""
           },
           "baxis": {
            "gridcolor": "white",
            "linecolor": "white",
            "ticks": ""
           },
           "bgcolor": "#E5ECF6",
           "caxis": {
            "gridcolor": "white",
            "linecolor": "white",
            "ticks": ""
           }
          },
          "title": {
           "x": 0.05
          },
          "xaxis": {
           "automargin": true,
           "gridcolor": "white",
           "linecolor": "white",
           "ticks": "",
           "title": {
            "standoff": 15
           },
           "zerolinecolor": "white",
           "zerolinewidth": 2
          },
          "yaxis": {
           "automargin": true,
           "gridcolor": "white",
           "linecolor": "white",
           "ticks": "",
           "title": {
            "standoff": 15
           },
           "zerolinecolor": "white",
           "zerolinewidth": 2
          }
         }
        },
        "title": {
         "text": "Cena w zależności od nacechowania recenzji"
        },
        "xaxis": {
         "anchor": "y",
         "domain": [
          0,
          1
         ],
         "title": {
          "text": "Nacechowanie recenzji"
         }
        },
        "yaxis": {
         "anchor": "x",
         "domain": [
          0,
          1
         ],
         "title": {
          "text": "Cena (zł)"
         }
        }
       }
      }
     },
     "metadata": {},
     "output_type": "display_data"
    }
   ],
   "source": [
    "# 2. Zależność między ceną a nacechowaniem recenzji\n",
    "\n",
    "# Mapowanie nacechowania na wartości numeryczne\n",
    "sentiment_map = {\n",
    "    'Bardzo pozytywne': 3,\n",
    "    'Pozytywne': 2,\n",
    "    'Mieszane': 1,\n",
    "    'Negatywne': 0\n",
    "}\n",
    "df['sentiment_score'] = df['Nacechowanie recenzji'].map(sentiment_map)\n",
    "\n",
    "# Scatter plot\n",
    "fig = px.box(df, x='Nacechowanie recenzji', y='Cena', title='Cena w zależności od nacechowania recenzji',\n",
    "             labels={'Cena': 'Cena (zł)', 'Nacechowanie recenzji': 'Nacechowanie recenzji'})\n",
    "fig.show()\n"
   ]
  },
  {
   "cell_type": "code",
   "execution_count": 35,
   "metadata": {},
   "outputs": [
    {
     "data": {
      "application/vnd.plotly.v1+json": {
       "config": {
        "plotlyServerURL": "https://plot.ly"
       },
       "data": [
        {
         "customdata": [
          [
           "Marvel Rivals"
          ],
          [
           "Warhammer 40,000: Space Marine 2"
          ],
          [
           "Among Us"
          ],
          [
           "Stellaris"
          ],
          [
           "Cyberpunk 2077"
          ],
          [
           "Frostpunk"
          ],
          [
           "They Are Billions"
          ],
          [
           "Cyberpunk 2077: Widmo wolności"
          ],
          [
           "Planetary Annihilation: TITANS"
          ],
          [
           "Lies of P"
          ],
          [
           "S.T.A.L.K.E.R. 2: Heart of Chornobyl"
          ],
          [
           "BlazBlue Entropy Effect"
          ],
          [
           "Halo: The Master Chief Collection"
          ],
          [
           "Subnautica: Below Zero"
          ],
          [
           "Project Zomboid"
          ],
          [
           "Jurassic World Evolution 2"
          ],
          [
           "This War of Mine"
          ],
          [
           "Atomic Heart"
          ],
          [
           "Plague Inc: Evolved"
          ],
          [
           "Chained Together"
          ],
          [
           "Barotrauma"
          ],
          [
           "DOOM Eternal"
          ],
          [
           "Metro Exodus"
          ],
          [
           "The Invincible"
          ],
          [
           "Void Crew"
          ],
          [
           "Starship Troopers: Terran Command"
          ],
          [
           "Forever Skies"
          ],
          [
           "Days Gone"
          ],
          [
           "Horizon Forbidden West™ Edycja kompletna"
          ],
          [
           "The Long Dark"
          ],
          [
           "Chernobylite Complete Edition"
          ],
          [
           "Aliens: Dark Descent"
          ],
          [
           "Aliens: Fireteam Elite"
          ],
          [
           "LOCKDOWN Protocol"
          ],
          [
           "Terminator: Dark Fate - Defiance"
          ],
          [
           "STAR WARS™: The Old Republic™"
          ],
          [
           "Fallout 4"
          ],
          [
           "Nobody Wants to Die"
          ],
          [
           "Mass Effect™ Edycja legendarna"
          ],
          [
           "Stellaris: Grand Archive"
          ],
          [
           "The Long Drive"
          ],
          [
           "Ratchet & Clank: Rift Apart"
          ],
          [
           "Sins of a Solar Empire II"
          ],
          [
           "Metro 2033 Redux"
          ],
          [
           "BlazBlue Entropy Effect - Hazama Character Pack"
          ],
          [
           "7 Days to Die"
          ],
          [
           "LEGO ® Gwiezdne Wojny™: Saga Skywalkerów"
          ],
          [
           "Unturned"
          ],
          [
           "Stellaris: The Machine Age"
          ],
          [
           "Eden Crafters"
          ],
          [
           "From Glory To Goo"
          ],
          [
           "ZEPHON"
          ],
          [
           "High On Life"
          ],
          [
           "Alien: Isolation"
          ],
          [
           "Airborne Empire"
          ],
          [
           "ASTRONEER"
          ],
          [
           "Warhammer 40,000: Rogue Trader"
          ],
          [
           "Assassin's Creed® Syndicate"
          ],
          [
           "VLADiK BRUTAL"
          ],
          [
           "Quantum Break"
          ],
          [
           "Fallout: New Vegas"
          ],
          [
           "FANTASIAN Neo Dimension"
          ],
          [
           "Nuclear Option"
          ],
          [
           "AI: THE SOMNIUM FILES - nirvanA Initiative"
          ],
          [
           "Rain World"
          ],
          [
           "Arizona Sunshine® Remake"
          ],
          [
           "Aliens vs. Predator™"
          ],
          [
           "SPORE™"
          ],
          [
           "CRUEL"
          ],
          [
           "Stationeers"
          ],
          [
           "Beyond: Two Souls"
          ],
          [
           "Road 96 🛣️"
          ],
          [
           "Arizona Sunshine® 2"
          ],
          [
           "Amenti"
          ],
          [
           "MechWarrior 5: Mercenaries"
          ],
          [
           "Cyber Manhunt 2: New World - The Hacking Simulator"
          ],
          [
           "Space Engineers"
          ],
          [
           "Deep Rock Galactic: Survivor"
          ],
          [
           "Zompiercer"
          ],
          [
           "Nuclear Nightmare"
          ],
          [
           "Shadows of Doubt"
          ],
          [
           "State of Decay 2: Juggernaut Edition"
          ],
          [
           "Uncle Chop's Rocket Shop"
          ],
          [
           "Metro: Last Light Redux"
          ],
          [
           "XCOM: Enemy Unknown"
          ],
          [
           "Halo Wars: Definitive Edition"
          ],
          [
           "Sovereign Syndicate"
          ],
          [
           "Homeworld Remastered Collection"
          ],
          [
           "Into the Breach"
          ],
          [
           "Jurassic World Evolution 2: Dominion Biosyn Expansion"
          ],
          [
           "Bridge Constructor Portal"
          ],
          [
           "Saints Row IV: Re-Elected"
          ],
          [
           "STEINS;GATE ELITE"
          ],
          [
           "Drill Core"
          ],
          [
           "Quake 4"
          ],
          [
           "Neon Abyss"
          ],
          [
           "Risk of Rain 2: Survivors of the Void"
          ],
          [
           "Obenseuer"
          ],
          [
           "Pacify"
          ],
          [
           "LEGO® Star Wars™ III - The Clone Wars™"
          ],
          [
           "Stellar Warfare"
          ],
          [
           "Surviving Mars"
          ],
          [
           "Fallout 3: Game of the Year Edition"
          ],
          [
           "ENDER LILIES: Quietus of the Knights"
          ],
          [
           "S.T.A.L.K.E.R.: Shadow of Chernobyl"
          ],
          [
           "Mirror's Edge™"
          ],
          [
           "DOOM 3"
          ],
          [
           "Executive Assault 2"
          ],
          [
           "System Shock"
          ],
          [
           "Oxygen Not Included - Spaced Out!"
          ],
          [
           "SurrounDead"
          ],
          [
           "Jurassic World Evolution 2: Early Cretaceous Pack"
          ],
          [
           "Rogue Command"
          ],
          [
           "Avorion"
          ],
          [
           "Project Wingman"
          ],
          [
           "HELLDIVERS™ Dive Harder Edition"
          ],
          [
           "Zero Escape: The Nonary Games"
          ],
          [
           "Crying Suns"
          ],
          [
           "Dune: Spice Wars - House Vernius of Ix"
          ],
          [
           "60 Seconds!"
          ],
          [
           "Command & Conquer 3: Gniew Kane'a"
          ],
          [
           "Command & Conquer 3: Wojny o tyberium"
          ],
          [
           "Togainu no Chi ~Lost Blood~"
          ],
          [
           "No Man's Sky"
          ],
          [
           "Fallout Shelter"
          ],
          [
           "Supreme Commander 2"
          ],
          [
           "Starcom: Nexus"
          ],
          [
           "Serious Sam HD: The First Encounter"
          ],
          [
           "FAR: Changing Tides"
          ],
          [
           "Space Haven"
          ],
          [
           "BLADE CHIMERA"
          ],
          [
           "XCOM® 2"
          ],
          [
           "Jurassic World Evolution"
          ],
          [
           "AI: The Somnium Files"
          ],
          [
           "EVERSPACE™ 2"
          ],
          [
           "Command & Conquer™ Red Alert™ 3"
          ],
          [
           "Quasimorph"
          ],
          [
           "Endoparasitic 2"
          ],
          [
           "Sins of a Solar Empire®: Rebellion"
          ],
          [
           "Command & Conquer™ Tiberian Sun™ and Firestorm™"
          ],
          [
           "Command & Conquer™ Red Alert™ 3- Powstanie"
          ],
          [
           "Command & Conquer Red Alert™ 2 and Yuri’s Revenge™"
          ],
          [
           "Outer Wilds - Echoes of the Eye"
          ],
          [
           "Beholder"
          ],
          [
           "Dead Space"
          ],
          [
           "Murky Divers"
          ],
          [
           "Wasteland 2: Director's Cut"
          ],
          [
           "Takara Cards"
          ],
          [
           "Unturned - Permanent Gold Upgrade"
          ],
          [
           "Bio Inc. Redemption"
          ],
          [
           "Galaxy Life"
          ],
          [
           "Iron Lung"
          ],
          [
           "Warhammer 40,000: Boltgun"
          ],
          [
           "Serious Sam 2"
          ],
          [
           "Starcom: Unknown Space"
          ],
          [
           "Zero Escape: Zero Time Dilemma"
          ],
          [
           "S.T.A.L.K.E.R.: Clear Sky"
          ],
          [
           "SUPERHOT"
          ],
          [
           "Bridge Constructor Portal - Portal Proficiency"
          ],
          [
           "Original War"
          ]
         ],
         "hovertemplate": "Nacechowanie recenzji=Bardzo pozytywne<br>Rok wydania=%{x}<br>Cena (zł)=%{y}<br>Tytuł=%{customdata[0]}<extra></extra>",
         "legendgroup": "Bardzo pozytywne",
         "marker": {
          "color": "#636efa",
          "symbol": "circle"
         },
         "mode": "markers",
         "name": "Bardzo pozytywne",
         "orientation": "v",
         "showlegend": true,
         "type": "scatter",
         "x": [
          2024,
          2024,
          2018,
          2016,
          2020,
          2018,
          2019,
          2023,
          2015,
          2023,
          2024,
          2024,
          2019,
          2021,
          2013,
          2021,
          2014,
          2023,
          2016,
          2024,
          2023,
          2020,
          2020,
          2023,
          2024,
          2022,
          2023,
          2021,
          2024,
          2017,
          2021,
          2023,
          2021,
          2024,
          2024,
          2020,
          2015,
          2024,
          2021,
          2024,
          2019,
          2023,
          2024,
          2014,
          2025,
          2024,
          2022,
          2017,
          2024,
          2024,
          2024,
          2024,
          2022,
          2014,
          2025,
          2019,
          2023,
          2015,
          2024,
          2016,
          2010,
          2024,
          2023,
          2022,
          2017,
          2024,
          2010,
          2008,
          2025,
          2017,
          2020,
          2021,
          2023,
          2025,
          2021,
          2025,
          2019,
          2024,
          2020,
          2024,
          2024,
          2020,
          2024,
          2014,
          2012,
          2017,
          2024,
          2015,
          2018,
          2022,
          2017,
          2013,
          2019,
          2024,
          2011,
          2020,
          2022,
          2018,
          2019,
          2011,
          2021,
          2018,
          2009,
          2021,
          2007,
          2009,
          2012,
          2023,
          2023,
          2021,
          2022,
          2021,
          2024,
          2020,
          2020,
          2015,
          2017,
          2019,
          2024,
          2015,
          2009,
          2009,
          2020,
          2016,
          2017,
          2010,
          2019,
          2009,
          2022,
          2020,
          2025,
          2016,
          2018,
          2019,
          2023,
          2009,
          2023,
          2024,
          2012,
          2024,
          2009,
          2024,
          2021,
          2016,
          2023,
          2024,
          2014,
          2025,
          2014,
          2018,
          2022,
          2022,
          2023,
          2012,
          2024,
          2016,
          2008,
          2016,
          2019,
          2014
         ],
         "xaxis": "x",
         "y": [
          0,
          157.49,
          10.79,
          46.24,
          199,
          13.89,
          75.59,
          99.99,
          35.63,
          164.99,
          229.99,
          55.99,
          49.75,
          45.86,
          91.99,
          64.49,
          9.19,
          72.59,
          20.39,
          22.99,
          69.99,
          42.25,
          31.75,
          75,
          63.99,
          83.39,
          65.99,
          219,
          259,
          29.99,
          29.99,
          58.49,
          29.97,
          32.19,
          138.74,
          0,
          79,
          68.64,
          269.9,
          67.99,
          72.99,
          259,
          185.59,
          12.6,
          14.99,
          208.49,
          229,
          0,
          114.99,
          73.59,
          27.99,
          149.99,
          71.99,
          179,
          125.09,
          138.99,
          199.99,
          159.9,
          43.99,
          35.74,
          44.99,
          199,
          82.99,
          32.24,
          114.99,
          119,
          53.99,
          69.9,
          34.99,
          161.99,
          79.9,
          21.24,
          107.46,
          31.99,
          43.19,
          40.47,
          71.99,
          50,
          59.99,
          31.99,
          114.99,
          43.19,
          91.99,
          12.6,
          85.9,
          24.75,
          45.99,
          9.99,
          26.99,
          28.79,
          4.59,
          21.12,
          42.99,
          59.99,
          64.99,
          17.99,
          49.99,
          54.39,
          22.99,
          91.99,
          45.99,
          138.99,
          89.99,
          91.99,
          71.99,
          89.9,
          15.6,
          67.49,
          67.6,
          46.99,
          54.99,
          14.49,
          73.59,
          114.99,
          89.99,
          71.99,
          10.79,
          26.99,
          44.99,
          34.99,
          100,
          100,
          45.99,
          274.99,
          0,
          46.99,
          71.99,
          53.99,
          21.59,
          35.99,
          82.79,
          214.9,
          39.99,
          14.29,
          219.99,
          100,
          71.2,
          54.99,
          55.19,
          100,
          100,
          100,
          39.59,
          9.59,
          269.9,
          40.99,
          32.39,
          14.66,
          22.99,
          46.99,
          0,
          36.99,
          79.99,
          45.99,
          94.99,
          7.19,
          35.99,
          29.99,
          4.49,
          8.59
         ],
         "yaxis": "y"
        },
        {
         "customdata": [
          [
           "Detroit: Become Human"
          ],
          [
           "Subnautica"
          ],
          [
           "Lethal Company"
          ],
          [
           "Stray"
          ],
          [
           "Brotato"
          ],
          [
           "Outer Wilds"
          ],
          [
           "RimWorld"
          ],
          [
           "Mouthwashing"
          ],
          [
           "Deep Rock Galactic"
          ],
          [
           "Oxygen Not Included"
          ],
          [
           "DOOM"
          ],
          [
           "Warhammer 40,000: Dawn of War - Anniversary Edition"
          ],
          [
           "Beat Saber"
          ],
          [
           "Left 4 Dead 2"
          ],
          [
           "Severed Steel"
          ],
          [
           "Portal 2"
          ],
          [
           "Creeper World 4"
          ],
          [
           "DRAMAtical Murder"
          ],
          [
           "STEINS;GATE"
          ],
          [
           "Life is Strange - Episode 1"
          ],
          [
           "STEINS;GATE 0"
          ],
          [
           "Kerbal Space Program"
          ],
          [
           "Nine Sols"
          ],
          [
           "Half-Life 2"
          ],
          [
           "Black Mesa"
          ],
          [
           "Creeper World 3: Arc Eternal"
          ],
          [
           "Half-Life"
          ],
          [
           "Papers, Please"
          ],
          [
           "Portal"
          ],
          [
           "Beyond Citadel"
          ],
          [
           "Dystopika"
          ],
          [
           "The Walking Dead"
          ],
          [
           "Turing Complete"
          ],
          [
           "Left 4 Dead"
          ],
          [
           "Gloomwood"
          ],
          [
           "Half-Life: Alyx"
          ],
          [
           "Caves of Qud"
          ],
          [
           "SANABI"
          ],
          [
           "MULLET MADJACK"
          ],
          [
           "The Forgotten City"
          ],
          [
           "The Planet Crafter"
          ],
          [
           "Cosmoteer: Starship Architect & Commander"
          ],
          [
           "Quake II"
          ],
          [
           "DRAINUS"
          ],
          [
           "shapez 2"
          ],
          [
           "Spaceflight Simulator"
          ],
          [
           "Nuclear Throne"
          ]
         ],
         "hovertemplate": "Nacechowanie recenzji=Przytłaczająco pozytywne<br>Rok wydania=%{x}<br>Cena (zł)=%{y}<br>Tytuł=%{customdata[0]}<extra></extra>",
         "legendgroup": "Przytłaczająco pozytywne",
         "marker": {
          "color": "#EF553B",
          "symbol": "circle"
         },
         "mode": "markers",
         "name": "Przytłaczająco pozytywne",
         "orientation": "v",
         "showlegend": true,
         "type": "scatter",
         "x": [
          2020,
          2018,
          2023,
          2022,
          2023,
          2020,
          2018,
          2024,
          2020,
          2019,
          2016,
          2007,
          2019,
          2009,
          2021,
          2011,
          2020,
          2021,
          2016,
          2015,
          2018,
          2015,
          2024,
          2004,
          2020,
          2014,
          1998,
          2013,
          2007,
          2025,
          2024,
          2012,
          2021,
          2008,
          2022,
          2020,
          2024,
          2023,
          2024,
          2021,
          2024,
          2022,
          2007,
          2022,
          2024,
          2022,
          2015
         ],
         "xaxis": "x",
         "y": [
          55.49,
          45.86,
          45.99,
          71.99,
          13.79,
          59.99,
          139.99,
          59.99,
          107.99,
          89.99,
          15.99,
          19.99,
          138.99,
          45.99,
          8.99,
          45.99,
          35.99,
          55.19,
          21.59,
          0,
          24.99,
          171.9,
          138.99,
          45.99,
          91.99,
          17.81,
          35.99,
          45.99,
          45.99,
          67.99,
          23.99,
          67.99,
          71.99,
          45.99,
          79.99,
          274.99,
          138.99,
          44.19,
          58.49,
          28.74,
          80.49,
          44.99,
          39,
          37.79,
          64.99,
          59.99,
          43.99
         ],
         "yaxis": "y"
        },
        {
         "customdata": [
          [
           "HELLDIVERS™ 2"
          ],
          [
           "ICARUS"
          ],
          [
           "Frostpunk 2"
          ],
          [
           "Dying Light 2 Stay Human: Reloaded Edition"
          ],
          [
           "Crossout"
          ],
          [
           "Iron Harvest"
          ],
          [
           "Infection Free Zone"
          ],
          [
           "Dune: Spice Wars"
          ],
          [
           "Fallout 76"
          ],
          [
           "Once Human"
          ],
          [
           "Warhammer 40,000: Darktide"
          ],
          [
           "New Cycle"
          ],
          [
           "Tom Clancy’s The Division® 2"
          ],
          [
           "IDUN"
          ],
          [
           "Frostpunk: The Last Autumn"
          ],
          [
           "Battlefleet Gothic: Armada 2"
          ],
          [
           "Horizon Zero Dawn™ Remastered"
          ],
          [
           "Far Cry® New Dawn"
          ],
          [
           "Destiny 2"
          ],
          [
           "Hidden Deep"
          ],
          [
           "Phantasy Star Online 2 New Genesis"
          ],
          [
           "Warhammer 40,000: Chaos Gate - Daemonhunters"
          ],
          [
           "Metro Awakening"
          ],
          [
           "Empire of the Ants"
          ],
          [
           "The Forever Winter"
          ],
          [
           "Gears Tactics"
          ],
          [
           "Tower of Fantasy"
          ],
          [
           "Stellaris: Utopia"
          ],
          [
           "The Last of Us™ Part I"
          ],
          [
           "Stellaris: Federations"
          ],
          [
           "Plague Inc: The Cure"
          ],
          [
           "Scorn"
          ],
          [
           "Ghosts of Tabor"
          ],
          [
           "Homeworld: Deserts of Kharak"
          ],
          [
           "Moon Mystery"
          ],
          [
           "Stellaris: Synthetic Dawn Story Pack"
          ],
          [
           "Stellaris: Leviathans Story Pack"
          ],
          [
           "Elite Dangerous"
          ],
          [
           "CryoFall"
          ],
          [
           "Ashes of the Singularity: Escalation"
          ],
          [
           "Exoplanet: First Contact"
          ],
          [
           "Halo Infinite"
          ],
          [
           "Heat Death: Survival Train"
          ],
          [
           "Out of Orbit"
          ],
          [
           "Snowbreak: Containment Zone"
          ],
          [
           "Machinika: Atlas"
          ],
          [
           "Distant Worlds 2"
          ],
          [
           "The Surge 2"
          ],
          [
           "Iron Marines Invasion"
          ],
          [
           "MechWarrior 5: Clans"
          ]
         ],
         "hovertemplate": "Nacechowanie recenzji=W większości pozytywne<br>Rok wydania=%{x}<br>Cena (zł)=%{y}<br>Tytuł=%{customdata[0]}<extra></extra>",
         "legendgroup": "W większości pozytywne",
         "marker": {
          "color": "#00cc96",
          "symbol": "circle"
         },
         "mode": "markers",
         "name": "W większości pozytywne",
         "orientation": "v",
         "showlegend": true,
         "type": "scatter",
         "x": [
          2024,
          2021,
          2024,
          2022,
          2017,
          2020,
          2024,
          2023,
          2020,
          2024,
          2022,
          2024,
          2023,
          2025,
          2020,
          2019,
          2024,
          2019,
          2019,
          2022,
          2020,
          2022,
          2024,
          2024,
          2024,
          2020,
          2022,
          2017,
          2023,
          2020,
          2021,
          2022,
          2023,
          2016,
          2024,
          2017,
          2016,
          2015,
          2021,
          2016,
          2016,
          2021,
          2024,
          2023,
          2023,
          2024,
          2022,
          2019,
          2023,
          2024
         ],
         "xaxis": "x",
         "y": [
          169,
          40.49,
          124.79,
          199.99,
          0,
          19.01,
          79.99,
          86.34,
          169.9,
          0,
          84.99,
          49.99,
          39.97,
          61.19,
          23.39,
          13.99,
          219,
          35.98,
          0,
          32.39,
          0,
          48.59,
          111.3,
          118.3,
          115.08,
          49.17,
          0,
          45.99,
          259,
          45.99,
          19.25,
          34.75,
          114.99,
          17.99,
          41.99,
          22.99,
          22.99,
          91.99,
          7.99,
          34.74,
          73.59,
          0,
          54.99,
          63.99,
          0,
          17.99,
          92.79,
          14.99,
          33.99,
          173.99
         ],
         "yaxis": "y"
        },
        {
         "customdata": [
          [
           "Apex Legends™"
          ],
          [
           "The First Descendant"
          ],
          [
           "Echocalypse: The Scarlet Covenant"
          ],
          [
           "Frostpunk: On The Edge"
          ],
          [
           "War Robots"
          ],
          [
           "Watch Dogs®: Legion"
          ],
          [
           "Warhammer 40,000: Dawn of War III"
          ],
          [
           "Starfield"
          ],
          [
           "Brotato: Abyssal Terrors"
          ],
          [
           "Arma 3 Contact"
          ],
          [
           "Frostpunk: The Rifts"
          ],
          [
           "Battlefleet Gothic: Armada"
          ],
          [
           "Battlefleet Gothic: Armada 2 - Chaos Campaign Expansion"
          ],
          [
           "Stellaris: Nemesis"
          ],
          [
           "Stellaris: Apocalypse"
          ],
          [
           "Outpost: Infinity Siege"
          ],
          [
           "Battlefield™ 2042"
          ],
          [
           "Alien: Rogue Incursion"
          ],
          [
           "Stellaris: Overlord"
          ],
          [
           "Infinite Lagrange"
          ],
          [
           "Build Master: MarsVille"
          ],
          [
           "Stellaris: Distant Stars Story Pack"
          ],
          [
           "Anno 2070™"
          ],
          [
           "Stellaris: MegaCorp"
          ],
          [
           "Stellaris: Galactic Paragons"
          ],
          [
           "ASTRONEER: Glitchwalkers"
          ],
          [
           "DISORDER"
          ],
          [
           "Warhammer 40,000: Warpforge"
          ],
          [
           "Elite Dangerous: Odyssey"
          ],
          [
           "Stellaris: First Contact Story Pack"
          ],
          [
           "Doomsday: Last Survivors"
          ],
          [
           "Stormworks: Space"
          ],
          [
           "FINAL FANTASY VII EVER CRISIS"
          ],
          [
           "Aliens: Colonial Marines Collection"
          ],
          [
           "Anno 2205™"
          ],
          [
           "The Elder Scrolls V: Skyrim Anniversary Upgrade"
          ],
          [
           "Fera: The Sundered Tribes"
          ],
          [
           "Arkanoid - Eternal Battle"
          ],
          [
           "Necromunda: Hired Gun"
          ]
         ],
         "hovertemplate": "Nacechowanie recenzji=Mieszane<br>Rok wydania=%{x}<br>Cena (zł)=%{y}<br>Tytuł=%{customdata[0]}<extra></extra>",
         "legendgroup": "Mieszane",
         "marker": {
          "color": "#ab63fa",
          "symbol": "circle"
         },
         "mode": "markers",
         "name": "Mieszane",
         "orientation": "v",
         "showlegend": true,
         "type": "scatter",
         "x": [
          2020,
          2024,
          2024,
          2020,
          2018,
          2023,
          2017,
          2023,
          2024,
          2019,
          2019,
          2016,
          2019,
          2021,
          2018,
          2024,
          2021,
          2024,
          2022,
          2021,
          2023,
          2018,
          2011,
          2018,
          2023,
          2024,
          2025,
          2024,
          2021,
          2023,
          2023,
          2023,
          2023,
          2012,
          2015,
          2021,
          2024,
          2022,
          2021
         ],
         "xaxis": "x",
         "y": [
          0,
          0,
          0,
          17.99,
          0,
          37.48,
          35.8,
          299,
          14.39,
          39.99,
          6.89,
          7.49,
          17.49,
          45.99,
          45.99,
          63.24,
          269.9,
          184.99,
          45.99,
          0,
          0,
          22.99,
          19.97,
          45.99,
          33.99,
          41.99,
          134,
          0,
          67.99,
          33.99,
          0,
          45.99,
          0,
          107.99,
          159.9,
          79,
          45.99,
          45,
          29.99
         ],
         "yaxis": "y"
        },
        {
         "customdata": [
          [
           "Overwatch® 2"
          ],
          [
           "Stellaris: Cosmic Storms"
          ],
          [
           "Stellaris: Astral Planes"
          ]
         ],
         "hovertemplate": "Nacechowanie recenzji=W większości negatywne<br>Rok wydania=%{x}<br>Cena (zł)=%{y}<br>Tytuł=%{customdata[0]}<extra></extra>",
         "legendgroup": "W większości negatywne",
         "marker": {
          "color": "#FFA15A",
          "symbol": "circle"
         },
         "mode": "markers",
         "name": "W większości negatywne",
         "orientation": "v",
         "showlegend": true,
         "type": "scatter",
         "x": [
          2023,
          2024,
          2023
         ],
         "xaxis": "x",
         "y": [
          0,
          59.99,
          45.99
         ],
         "yaxis": "y"
        },
        {
         "customdata": [
          [
           "SACRIFICE VILLAINS"
          ],
          [
           "Icarus: Creature Comforts Pack"
          ],
          [
           "Quasimorph - Supporter Pack"
          ]
         ],
         "hovertemplate": "Nacechowanie recenzji=Pozytywne<br>Rok wydania=%{x}<br>Cena (zł)=%{y}<br>Tytuł=%{customdata[0]}<extra></extra>",
         "legendgroup": "Pozytywne",
         "marker": {
          "color": "#19d3f3",
          "symbol": "circle"
         },
         "mode": "markers",
         "name": "Pozytywne",
         "orientation": "v",
         "showlegend": true,
         "type": "scatter",
         "x": [
          2025,
          2024,
          2023
         ],
         "xaxis": "x",
         "y": [
          73.59,
          63.99,
          36.79
         ],
         "yaxis": "y"
        },
        {
         "customdata": [
          [
           "Command & Conquer™ 4 Tyberyjski zmierzch"
          ]
         ],
         "hovertemplate": "Nacechowanie recenzji=Przytłaczająco negatywne<br>Rok wydania=%{x}<br>Cena (zł)=%{y}<br>Tytuł=%{customdata[0]}<extra></extra>",
         "legendgroup": "Przytłaczająco negatywne",
         "marker": {
          "color": "#FF6692",
          "symbol": "circle"
         },
         "mode": "markers",
         "name": "Przytłaczająco negatywne",
         "orientation": "v",
         "showlegend": true,
         "type": "scatter",
         "x": [
          2010
         ],
         "xaxis": "x",
         "y": [
          100
         ],
         "yaxis": "y"
        }
       ],
       "layout": {
        "legend": {
         "title": {
          "text": "Nacechowanie recenzji"
         },
         "tracegroupgap": 0
        },
        "template": {
         "data": {
          "bar": [
           {
            "error_x": {
             "color": "#2a3f5f"
            },
            "error_y": {
             "color": "#2a3f5f"
            },
            "marker": {
             "line": {
              "color": "#E5ECF6",
              "width": 0.5
             },
             "pattern": {
              "fillmode": "overlay",
              "size": 10,
              "solidity": 0.2
             }
            },
            "type": "bar"
           }
          ],
          "barpolar": [
           {
            "marker": {
             "line": {
              "color": "#E5ECF6",
              "width": 0.5
             },
             "pattern": {
              "fillmode": "overlay",
              "size": 10,
              "solidity": 0.2
             }
            },
            "type": "barpolar"
           }
          ],
          "carpet": [
           {
            "aaxis": {
             "endlinecolor": "#2a3f5f",
             "gridcolor": "white",
             "linecolor": "white",
             "minorgridcolor": "white",
             "startlinecolor": "#2a3f5f"
            },
            "baxis": {
             "endlinecolor": "#2a3f5f",
             "gridcolor": "white",
             "linecolor": "white",
             "minorgridcolor": "white",
             "startlinecolor": "#2a3f5f"
            },
            "type": "carpet"
           }
          ],
          "choropleth": [
           {
            "colorbar": {
             "outlinewidth": 0,
             "ticks": ""
            },
            "type": "choropleth"
           }
          ],
          "contour": [
           {
            "colorbar": {
             "outlinewidth": 0,
             "ticks": ""
            },
            "colorscale": [
             [
              0,
              "#0d0887"
             ],
             [
              0.1111111111111111,
              "#46039f"
             ],
             [
              0.2222222222222222,
              "#7201a8"
             ],
             [
              0.3333333333333333,
              "#9c179e"
             ],
             [
              0.4444444444444444,
              "#bd3786"
             ],
             [
              0.5555555555555556,
              "#d8576b"
             ],
             [
              0.6666666666666666,
              "#ed7953"
             ],
             [
              0.7777777777777778,
              "#fb9f3a"
             ],
             [
              0.8888888888888888,
              "#fdca26"
             ],
             [
              1,
              "#f0f921"
             ]
            ],
            "type": "contour"
           }
          ],
          "contourcarpet": [
           {
            "colorbar": {
             "outlinewidth": 0,
             "ticks": ""
            },
            "type": "contourcarpet"
           }
          ],
          "heatmap": [
           {
            "colorbar": {
             "outlinewidth": 0,
             "ticks": ""
            },
            "colorscale": [
             [
              0,
              "#0d0887"
             ],
             [
              0.1111111111111111,
              "#46039f"
             ],
             [
              0.2222222222222222,
              "#7201a8"
             ],
             [
              0.3333333333333333,
              "#9c179e"
             ],
             [
              0.4444444444444444,
              "#bd3786"
             ],
             [
              0.5555555555555556,
              "#d8576b"
             ],
             [
              0.6666666666666666,
              "#ed7953"
             ],
             [
              0.7777777777777778,
              "#fb9f3a"
             ],
             [
              0.8888888888888888,
              "#fdca26"
             ],
             [
              1,
              "#f0f921"
             ]
            ],
            "type": "heatmap"
           }
          ],
          "heatmapgl": [
           {
            "colorbar": {
             "outlinewidth": 0,
             "ticks": ""
            },
            "colorscale": [
             [
              0,
              "#0d0887"
             ],
             [
              0.1111111111111111,
              "#46039f"
             ],
             [
              0.2222222222222222,
              "#7201a8"
             ],
             [
              0.3333333333333333,
              "#9c179e"
             ],
             [
              0.4444444444444444,
              "#bd3786"
             ],
             [
              0.5555555555555556,
              "#d8576b"
             ],
             [
              0.6666666666666666,
              "#ed7953"
             ],
             [
              0.7777777777777778,
              "#fb9f3a"
             ],
             [
              0.8888888888888888,
              "#fdca26"
             ],
             [
              1,
              "#f0f921"
             ]
            ],
            "type": "heatmapgl"
           }
          ],
          "histogram": [
           {
            "marker": {
             "pattern": {
              "fillmode": "overlay",
              "size": 10,
              "solidity": 0.2
             }
            },
            "type": "histogram"
           }
          ],
          "histogram2d": [
           {
            "colorbar": {
             "outlinewidth": 0,
             "ticks": ""
            },
            "colorscale": [
             [
              0,
              "#0d0887"
             ],
             [
              0.1111111111111111,
              "#46039f"
             ],
             [
              0.2222222222222222,
              "#7201a8"
             ],
             [
              0.3333333333333333,
              "#9c179e"
             ],
             [
              0.4444444444444444,
              "#bd3786"
             ],
             [
              0.5555555555555556,
              "#d8576b"
             ],
             [
              0.6666666666666666,
              "#ed7953"
             ],
             [
              0.7777777777777778,
              "#fb9f3a"
             ],
             [
              0.8888888888888888,
              "#fdca26"
             ],
             [
              1,
              "#f0f921"
             ]
            ],
            "type": "histogram2d"
           }
          ],
          "histogram2dcontour": [
           {
            "colorbar": {
             "outlinewidth": 0,
             "ticks": ""
            },
            "colorscale": [
             [
              0,
              "#0d0887"
             ],
             [
              0.1111111111111111,
              "#46039f"
             ],
             [
              0.2222222222222222,
              "#7201a8"
             ],
             [
              0.3333333333333333,
              "#9c179e"
             ],
             [
              0.4444444444444444,
              "#bd3786"
             ],
             [
              0.5555555555555556,
              "#d8576b"
             ],
             [
              0.6666666666666666,
              "#ed7953"
             ],
             [
              0.7777777777777778,
              "#fb9f3a"
             ],
             [
              0.8888888888888888,
              "#fdca26"
             ],
             [
              1,
              "#f0f921"
             ]
            ],
            "type": "histogram2dcontour"
           }
          ],
          "mesh3d": [
           {
            "colorbar": {
             "outlinewidth": 0,
             "ticks": ""
            },
            "type": "mesh3d"
           }
          ],
          "parcoords": [
           {
            "line": {
             "colorbar": {
              "outlinewidth": 0,
              "ticks": ""
             }
            },
            "type": "parcoords"
           }
          ],
          "pie": [
           {
            "automargin": true,
            "type": "pie"
           }
          ],
          "scatter": [
           {
            "fillpattern": {
             "fillmode": "overlay",
             "size": 10,
             "solidity": 0.2
            },
            "type": "scatter"
           }
          ],
          "scatter3d": [
           {
            "line": {
             "colorbar": {
              "outlinewidth": 0,
              "ticks": ""
             }
            },
            "marker": {
             "colorbar": {
              "outlinewidth": 0,
              "ticks": ""
             }
            },
            "type": "scatter3d"
           }
          ],
          "scattercarpet": [
           {
            "marker": {
             "colorbar": {
              "outlinewidth": 0,
              "ticks": ""
             }
            },
            "type": "scattercarpet"
           }
          ],
          "scattergeo": [
           {
            "marker": {
             "colorbar": {
              "outlinewidth": 0,
              "ticks": ""
             }
            },
            "type": "scattergeo"
           }
          ],
          "scattergl": [
           {
            "marker": {
             "colorbar": {
              "outlinewidth": 0,
              "ticks": ""
             }
            },
            "type": "scattergl"
           }
          ],
          "scattermapbox": [
           {
            "marker": {
             "colorbar": {
              "outlinewidth": 0,
              "ticks": ""
             }
            },
            "type": "scattermapbox"
           }
          ],
          "scatterpolar": [
           {
            "marker": {
             "colorbar": {
              "outlinewidth": 0,
              "ticks": ""
             }
            },
            "type": "scatterpolar"
           }
          ],
          "scatterpolargl": [
           {
            "marker": {
             "colorbar": {
              "outlinewidth": 0,
              "ticks": ""
             }
            },
            "type": "scatterpolargl"
           }
          ],
          "scatterternary": [
           {
            "marker": {
             "colorbar": {
              "outlinewidth": 0,
              "ticks": ""
             }
            },
            "type": "scatterternary"
           }
          ],
          "surface": [
           {
            "colorbar": {
             "outlinewidth": 0,
             "ticks": ""
            },
            "colorscale": [
             [
              0,
              "#0d0887"
             ],
             [
              0.1111111111111111,
              "#46039f"
             ],
             [
              0.2222222222222222,
              "#7201a8"
             ],
             [
              0.3333333333333333,
              "#9c179e"
             ],
             [
              0.4444444444444444,
              "#bd3786"
             ],
             [
              0.5555555555555556,
              "#d8576b"
             ],
             [
              0.6666666666666666,
              "#ed7953"
             ],
             [
              0.7777777777777778,
              "#fb9f3a"
             ],
             [
              0.8888888888888888,
              "#fdca26"
             ],
             [
              1,
              "#f0f921"
             ]
            ],
            "type": "surface"
           }
          ],
          "table": [
           {
            "cells": {
             "fill": {
              "color": "#EBF0F8"
             },
             "line": {
              "color": "white"
             }
            },
            "header": {
             "fill": {
              "color": "#C8D4E3"
             },
             "line": {
              "color": "white"
             }
            },
            "type": "table"
           }
          ]
         },
         "layout": {
          "annotationdefaults": {
           "arrowcolor": "#2a3f5f",
           "arrowhead": 0,
           "arrowwidth": 1
          },
          "autotypenumbers": "strict",
          "coloraxis": {
           "colorbar": {
            "outlinewidth": 0,
            "ticks": ""
           }
          },
          "colorscale": {
           "diverging": [
            [
             0,
             "#8e0152"
            ],
            [
             0.1,
             "#c51b7d"
            ],
            [
             0.2,
             "#de77ae"
            ],
            [
             0.3,
             "#f1b6da"
            ],
            [
             0.4,
             "#fde0ef"
            ],
            [
             0.5,
             "#f7f7f7"
            ],
            [
             0.6,
             "#e6f5d0"
            ],
            [
             0.7,
             "#b8e186"
            ],
            [
             0.8,
             "#7fbc41"
            ],
            [
             0.9,
             "#4d9221"
            ],
            [
             1,
             "#276419"
            ]
           ],
           "sequential": [
            [
             0,
             "#0d0887"
            ],
            [
             0.1111111111111111,
             "#46039f"
            ],
            [
             0.2222222222222222,
             "#7201a8"
            ],
            [
             0.3333333333333333,
             "#9c179e"
            ],
            [
             0.4444444444444444,
             "#bd3786"
            ],
            [
             0.5555555555555556,
             "#d8576b"
            ],
            [
             0.6666666666666666,
             "#ed7953"
            ],
            [
             0.7777777777777778,
             "#fb9f3a"
            ],
            [
             0.8888888888888888,
             "#fdca26"
            ],
            [
             1,
             "#f0f921"
            ]
           ],
           "sequentialminus": [
            [
             0,
             "#0d0887"
            ],
            [
             0.1111111111111111,
             "#46039f"
            ],
            [
             0.2222222222222222,
             "#7201a8"
            ],
            [
             0.3333333333333333,
             "#9c179e"
            ],
            [
             0.4444444444444444,
             "#bd3786"
            ],
            [
             0.5555555555555556,
             "#d8576b"
            ],
            [
             0.6666666666666666,
             "#ed7953"
            ],
            [
             0.7777777777777778,
             "#fb9f3a"
            ],
            [
             0.8888888888888888,
             "#fdca26"
            ],
            [
             1,
             "#f0f921"
            ]
           ]
          },
          "colorway": [
           "#636efa",
           "#EF553B",
           "#00cc96",
           "#ab63fa",
           "#FFA15A",
           "#19d3f3",
           "#FF6692",
           "#B6E880",
           "#FF97FF",
           "#FECB52"
          ],
          "font": {
           "color": "#2a3f5f"
          },
          "geo": {
           "bgcolor": "white",
           "lakecolor": "white",
           "landcolor": "#E5ECF6",
           "showlakes": true,
           "showland": true,
           "subunitcolor": "white"
          },
          "hoverlabel": {
           "align": "left"
          },
          "hovermode": "closest",
          "mapbox": {
           "style": "light"
          },
          "paper_bgcolor": "white",
          "plot_bgcolor": "#E5ECF6",
          "polar": {
           "angularaxis": {
            "gridcolor": "white",
            "linecolor": "white",
            "ticks": ""
           },
           "bgcolor": "#E5ECF6",
           "radialaxis": {
            "gridcolor": "white",
            "linecolor": "white",
            "ticks": ""
           }
          },
          "scene": {
           "xaxis": {
            "backgroundcolor": "#E5ECF6",
            "gridcolor": "white",
            "gridwidth": 2,
            "linecolor": "white",
            "showbackground": true,
            "ticks": "",
            "zerolinecolor": "white"
           },
           "yaxis": {
            "backgroundcolor": "#E5ECF6",
            "gridcolor": "white",
            "gridwidth": 2,
            "linecolor": "white",
            "showbackground": true,
            "ticks": "",
            "zerolinecolor": "white"
           },
           "zaxis": {
            "backgroundcolor": "#E5ECF6",
            "gridcolor": "white",
            "gridwidth": 2,
            "linecolor": "white",
            "showbackground": true,
            "ticks": "",
            "zerolinecolor": "white"
           }
          },
          "shapedefaults": {
           "line": {
            "color": "#2a3f5f"
           }
          },
          "ternary": {
           "aaxis": {
            "gridcolor": "white",
            "linecolor": "white",
            "ticks": ""
           },
           "baxis": {
            "gridcolor": "white",
            "linecolor": "white",
            "ticks": ""
           },
           "bgcolor": "#E5ECF6",
           "caxis": {
            "gridcolor": "white",
            "linecolor": "white",
            "ticks": ""
           }
          },
          "title": {
           "x": 0.05
          },
          "xaxis": {
           "automargin": true,
           "gridcolor": "white",
           "linecolor": "white",
           "ticks": "",
           "title": {
            "standoff": 15
           },
           "zerolinecolor": "white",
           "zerolinewidth": 2
          },
          "yaxis": {
           "automargin": true,
           "gridcolor": "white",
           "linecolor": "white",
           "ticks": "",
           "title": {
            "standoff": 15
           },
           "zerolinecolor": "white",
           "zerolinewidth": 2
          }
         }
        },
        "title": {
         "text": "Cena w zależności od roku wydania"
        },
        "xaxis": {
         "anchor": "y",
         "domain": [
          0,
          1
         ],
         "title": {
          "text": "Rok wydania"
         }
        },
        "yaxis": {
         "anchor": "x",
         "domain": [
          0,
          1
         ],
         "title": {
          "text": "Cena (zł)"
         }
        }
       }
      }
     },
     "metadata": {},
     "output_type": "display_data"
    }
   ],
   "source": [
    "# 3. Rozkład cen w zależności od daty wydania\n",
    "\n",
    "df['Data wydania'] = pd.to_datetime(df['Data wydania'], errors='coerce')\n",
    "df['Rok wydania'] = df['Data wydania'].dt.year\n",
    "\n",
    "# Scatter plot: Cena vs. Rok wydania\n",
    "fig = px.scatter(df, x='Rok wydania', y='Cena', color='Nacechowanie recenzji',\n",
    "                 title='Cena w zależności od roku wydania', labels={'Cena': 'Cena (zł)', 'Rok wydania': 'Rok wydania'},\n",
    "                 hover_data=['Tytuł'])\n",
    "fig.show()\n"
   ]
  },
  {
   "cell_type": "code",
   "execution_count": 36,
   "metadata": {},
   "outputs": [
    {
     "name": "stderr",
     "output_type": "stream",
     "text": [
      "C:\\Users\\awodz\\AppData\\Local\\Temp\\ipykernel_25500\\85198826.py:4: PerformanceWarning:\n",
      "\n",
      "DataFrame is highly fragmented.  This is usually the result of calling `frame.insert` many times, which has poor performance.  Consider joining all columns at once using pd.concat(axis=1) instead. To get a de-fragmented frame, use `newframe = frame.copy()`\n",
      "\n"
     ]
    },
    {
     "data": {
      "application/vnd.plotly.v1+json": {
       "config": {
        "plotlyServerURL": "https://plot.ly"
       },
       "data": [
        {
         "alignmentgroup": "True",
         "bingroup": "x",
         "hovertemplate": "Nacechowanie recenzji=Bardzo pozytywne<br>Grupa liczby recenzji=%{x}<br>count=%{y}<extra></extra>",
         "legendgroup": "Bardzo pozytywne",
         "marker": {
          "color": "#636efa",
          "pattern": {
           "shape": ""
          }
         },
         "name": "Bardzo pozytywne",
         "offsetgroup": "Bardzo pozytywne",
         "orientation": "v",
         "showlegend": true,
         "type": "histogram",
         "x": [
          "10001+",
          "10001+",
          "10001+",
          "10001+",
          "10001+",
          "10001+",
          "10001+",
          "10001+",
          "10001+",
          "10001+",
          "10001+",
          "10001+",
          "10001+",
          "10001+",
          "10001+",
          "10001+",
          "10001+",
          "10001+",
          "10001+",
          "10001+",
          "10001+",
          "10001+",
          "10001+",
          "2001-5000",
          "2001-5000",
          "5001-10000",
          "2001-5000",
          "10001+",
          "10001+",
          "10001+",
          "10001+",
          "10001+",
          "10001+",
          "10001+",
          "2001-5000",
          "10001+",
          "10001+",
          "2001-5000",
          "10001+",
          "0-500",
          "10001+",
          "5001-10000",
          "5001-10000",
          "10001+",
          "0-500",
          "10001+",
          "10001+",
          "10001+",
          "501-2000",
          "501-2000",
          "501-2000",
          "501-2000",
          "10001+",
          "10001+",
          "0-500",
          "10001+",
          "10001+",
          "10001+",
          "5001-10000",
          "10001+",
          "10001+",
          "0-500",
          "2001-5000",
          "2001-5000",
          "10001+",
          "501-2000",
          "10001+",
          "10001+",
          "501-2000",
          "5001-10000",
          "10001+",
          "10001+",
          "501-2000",
          "0-500",
          "10001+",
          "2001-5000",
          "10001+",
          "10001+",
          "501-2000",
          "5001-10000",
          "10001+",
          "10001+",
          "501-2000",
          "10001+",
          "10001+",
          "5001-10000",
          "0-500",
          "10001+",
          "10001+",
          "0-500",
          "5001-10000",
          "10001+",
          "501-2000",
          "501-2000",
          "2001-5000",
          "10001+",
          "2001-5000",
          "501-2000",
          "10001+",
          "5001-10000",
          "0-500",
          "10001+",
          "10001+",
          "10001+",
          "10001+",
          "10001+",
          "5001-10000",
          "501-2000",
          "5001-10000",
          "501-2000",
          "5001-10000",
          "0-500",
          "0-500",
          "10001+",
          "10001+",
          "10001+",
          "5001-10000",
          "2001-5000",
          "0-500",
          "10001+",
          "2001-5000",
          "5001-10000",
          "0-500",
          "10001+",
          "10001+",
          "5001-10000",
          "501-2000",
          "5001-10000",
          "2001-5000",
          "5001-10000",
          "0-500",
          "10001+",
          "10001+",
          "5001-10000",
          "10001+",
          "10001+",
          "2001-5000",
          "0-500",
          "5001-10000",
          "501-2000",
          "2001-5000",
          "5001-10000",
          "2001-5000",
          "10001+",
          "10001+",
          "2001-5000",
          "2001-5000",
          "0-500",
          "5001-10000",
          "2001-5000",
          "5001-10000",
          "5001-10000",
          "10001+",
          "10001+",
          "2001-5000",
          "2001-5000",
          "10001+",
          "10001+",
          "0-500",
          "501-2000"
         ],
         "xaxis": "x",
         "yaxis": "y"
        },
        {
         "alignmentgroup": "True",
         "bingroup": "x",
         "hovertemplate": "Nacechowanie recenzji=Przytłaczająco pozytywne<br>Grupa liczby recenzji=%{x}<br>count=%{y}<extra></extra>",
         "legendgroup": "Przytłaczająco pozytywne",
         "marker": {
          "color": "#EF553B",
          "pattern": {
           "shape": ""
          }
         },
         "name": "Przytłaczająco pozytywne",
         "offsetgroup": "Przytłaczająco pozytywne",
         "orientation": "v",
         "showlegend": true,
         "type": "histogram",
         "x": [
          "10001+",
          "10001+",
          "10001+",
          "10001+",
          "10001+",
          "10001+",
          "10001+",
          "10001+",
          "10001+",
          "10001+",
          "10001+",
          "5001-10000",
          "10001+",
          "10001+",
          "5001-10000",
          "10001+",
          "2001-5000",
          "2001-5000",
          "10001+",
          "10001+",
          "5001-10000",
          "10001+",
          "10001+",
          "10001+",
          "10001+",
          "2001-5000",
          "10001+",
          "10001+",
          "10001+",
          "501-2000",
          "2001-5000",
          "10001+",
          "2001-5000",
          "10001+",
          "5001-10000",
          "10001+",
          "5001-10000",
          "10001+",
          "5001-10000",
          "5001-10000",
          "10001+",
          "5001-10000",
          "5001-10000",
          "501-2000",
          "5001-10000",
          "5001-10000",
          "10001+"
         ],
         "xaxis": "x",
         "yaxis": "y"
        },
        {
         "alignmentgroup": "True",
         "bingroup": "x",
         "hovertemplate": "Nacechowanie recenzji=W większości pozytywne<br>Grupa liczby recenzji=%{x}<br>count=%{y}<extra></extra>",
         "legendgroup": "W większości pozytywne",
         "marker": {
          "color": "#00cc96",
          "pattern": {
           "shape": ""
          }
         },
         "name": "W większości pozytywne",
         "offsetgroup": "W większości pozytywne",
         "orientation": "v",
         "showlegend": true,
         "type": "histogram",
         "x": [
          "10001+",
          "10001+",
          "10001+",
          "10001+",
          "10001+",
          "10001+",
          "10001+",
          "10001+",
          "10001+",
          "10001+",
          "10001+",
          "501-2000",
          "10001+",
          "0-500",
          "501-2000",
          "5001-10000",
          "2001-5000",
          "10001+",
          "10001+",
          "2001-5000",
          "10001+",
          "5001-10000",
          "501-2000",
          "501-2000",
          "10001+",
          "5001-10000",
          "10001+",
          "501-2000",
          "10001+",
          "501-2000",
          "0-500",
          "10001+",
          "5001-10000",
          "5001-10000",
          "0-500",
          "501-2000",
          "501-2000",
          "10001+",
          "2001-5000",
          "2001-5000",
          "0-500",
          "10001+",
          "0-500",
          "0-500",
          "5001-10000",
          "0-500",
          "2001-5000",
          "5001-10000",
          "0-500",
          "2001-5000"
         ],
         "xaxis": "x",
         "yaxis": "y"
        },
        {
         "alignmentgroup": "True",
         "bingroup": "x",
         "hovertemplate": "Nacechowanie recenzji=Mieszane<br>Grupa liczby recenzji=%{x}<br>count=%{y}<extra></extra>",
         "legendgroup": "Mieszane",
         "marker": {
          "color": "#ab63fa",
          "pattern": {
           "shape": ""
          }
         },
         "name": "Mieszane",
         "offsetgroup": "Mieszane",
         "orientation": "v",
         "showlegend": true,
         "type": "histogram",
         "x": [
          "10001+",
          "10001+",
          "0-500",
          "501-2000",
          "10001+",
          "5001-10000",
          "10001+",
          "10001+",
          "501-2000",
          "501-2000",
          "0-500",
          "2001-5000",
          "0-500",
          "501-2000",
          "501-2000",
          "10001+",
          "10001+",
          "501-2000",
          "501-2000",
          "501-2000",
          "0-500",
          "501-2000",
          "10001+",
          "501-2000",
          "501-2000",
          "501-2000",
          "0-500",
          "2001-5000",
          "5001-10000",
          "0-500",
          "501-2000",
          "501-2000",
          "2001-5000",
          "5001-10000",
          "5001-10000",
          "5001-10000",
          "0-500",
          "0-500",
          "5001-10000"
         ],
         "xaxis": "x",
         "yaxis": "y"
        },
        {
         "alignmentgroup": "True",
         "bingroup": "x",
         "hovertemplate": "Nacechowanie recenzji=W większości negatywne<br>Grupa liczby recenzji=%{x}<br>count=%{y}<extra></extra>",
         "legendgroup": "W większości negatywne",
         "marker": {
          "color": "#FFA15A",
          "pattern": {
           "shape": ""
          }
         },
         "name": "W większości negatywne",
         "offsetgroup": "W większości negatywne",
         "orientation": "v",
         "showlegend": true,
         "type": "histogram",
         "x": [
          "10001+",
          "0-500",
          "501-2000"
         ],
         "xaxis": "x",
         "yaxis": "y"
        },
        {
         "alignmentgroup": "True",
         "bingroup": "x",
         "hovertemplate": "Nacechowanie recenzji=Pozytywne<br>Grupa liczby recenzji=%{x}<br>count=%{y}<extra></extra>",
         "legendgroup": "Pozytywne",
         "marker": {
          "color": "#19d3f3",
          "pattern": {
           "shape": ""
          }
         },
         "name": "Pozytywne",
         "offsetgroup": "Pozytywne",
         "orientation": "v",
         "showlegend": true,
         "type": "histogram",
         "x": [
          "0-500",
          "0-500",
          "0-500"
         ],
         "xaxis": "x",
         "yaxis": "y"
        },
        {
         "alignmentgroup": "True",
         "bingroup": "x",
         "hovertemplate": "Nacechowanie recenzji=Przytłaczająco negatywne<br>Grupa liczby recenzji=%{x}<br>count=%{y}<extra></extra>",
         "legendgroup": "Przytłaczająco negatywne",
         "marker": {
          "color": "#FF6692",
          "pattern": {
           "shape": ""
          }
         },
         "name": "Przytłaczająco negatywne",
         "offsetgroup": "Przytłaczająco negatywne",
         "orientation": "v",
         "showlegend": true,
         "type": "histogram",
         "x": [
          "2001-5000"
         ],
         "xaxis": "x",
         "yaxis": "y"
        }
       ],
       "layout": {
        "barmode": "relative",
        "legend": {
         "title": {
          "text": "Nacechowanie recenzji"
         },
         "tracegroupgap": 0
        },
        "template": {
         "data": {
          "bar": [
           {
            "error_x": {
             "color": "#2a3f5f"
            },
            "error_y": {
             "color": "#2a3f5f"
            },
            "marker": {
             "line": {
              "color": "#E5ECF6",
              "width": 0.5
             },
             "pattern": {
              "fillmode": "overlay",
              "size": 10,
              "solidity": 0.2
             }
            },
            "type": "bar"
           }
          ],
          "barpolar": [
           {
            "marker": {
             "line": {
              "color": "#E5ECF6",
              "width": 0.5
             },
             "pattern": {
              "fillmode": "overlay",
              "size": 10,
              "solidity": 0.2
             }
            },
            "type": "barpolar"
           }
          ],
          "carpet": [
           {
            "aaxis": {
             "endlinecolor": "#2a3f5f",
             "gridcolor": "white",
             "linecolor": "white",
             "minorgridcolor": "white",
             "startlinecolor": "#2a3f5f"
            },
            "baxis": {
             "endlinecolor": "#2a3f5f",
             "gridcolor": "white",
             "linecolor": "white",
             "minorgridcolor": "white",
             "startlinecolor": "#2a3f5f"
            },
            "type": "carpet"
           }
          ],
          "choropleth": [
           {
            "colorbar": {
             "outlinewidth": 0,
             "ticks": ""
            },
            "type": "choropleth"
           }
          ],
          "contour": [
           {
            "colorbar": {
             "outlinewidth": 0,
             "ticks": ""
            },
            "colorscale": [
             [
              0,
              "#0d0887"
             ],
             [
              0.1111111111111111,
              "#46039f"
             ],
             [
              0.2222222222222222,
              "#7201a8"
             ],
             [
              0.3333333333333333,
              "#9c179e"
             ],
             [
              0.4444444444444444,
              "#bd3786"
             ],
             [
              0.5555555555555556,
              "#d8576b"
             ],
             [
              0.6666666666666666,
              "#ed7953"
             ],
             [
              0.7777777777777778,
              "#fb9f3a"
             ],
             [
              0.8888888888888888,
              "#fdca26"
             ],
             [
              1,
              "#f0f921"
             ]
            ],
            "type": "contour"
           }
          ],
          "contourcarpet": [
           {
            "colorbar": {
             "outlinewidth": 0,
             "ticks": ""
            },
            "type": "contourcarpet"
           }
          ],
          "heatmap": [
           {
            "colorbar": {
             "outlinewidth": 0,
             "ticks": ""
            },
            "colorscale": [
             [
              0,
              "#0d0887"
             ],
             [
              0.1111111111111111,
              "#46039f"
             ],
             [
              0.2222222222222222,
              "#7201a8"
             ],
             [
              0.3333333333333333,
              "#9c179e"
             ],
             [
              0.4444444444444444,
              "#bd3786"
             ],
             [
              0.5555555555555556,
              "#d8576b"
             ],
             [
              0.6666666666666666,
              "#ed7953"
             ],
             [
              0.7777777777777778,
              "#fb9f3a"
             ],
             [
              0.8888888888888888,
              "#fdca26"
             ],
             [
              1,
              "#f0f921"
             ]
            ],
            "type": "heatmap"
           }
          ],
          "heatmapgl": [
           {
            "colorbar": {
             "outlinewidth": 0,
             "ticks": ""
            },
            "colorscale": [
             [
              0,
              "#0d0887"
             ],
             [
              0.1111111111111111,
              "#46039f"
             ],
             [
              0.2222222222222222,
              "#7201a8"
             ],
             [
              0.3333333333333333,
              "#9c179e"
             ],
             [
              0.4444444444444444,
              "#bd3786"
             ],
             [
              0.5555555555555556,
              "#d8576b"
             ],
             [
              0.6666666666666666,
              "#ed7953"
             ],
             [
              0.7777777777777778,
              "#fb9f3a"
             ],
             [
              0.8888888888888888,
              "#fdca26"
             ],
             [
              1,
              "#f0f921"
             ]
            ],
            "type": "heatmapgl"
           }
          ],
          "histogram": [
           {
            "marker": {
             "pattern": {
              "fillmode": "overlay",
              "size": 10,
              "solidity": 0.2
             }
            },
            "type": "histogram"
           }
          ],
          "histogram2d": [
           {
            "colorbar": {
             "outlinewidth": 0,
             "ticks": ""
            },
            "colorscale": [
             [
              0,
              "#0d0887"
             ],
             [
              0.1111111111111111,
              "#46039f"
             ],
             [
              0.2222222222222222,
              "#7201a8"
             ],
             [
              0.3333333333333333,
              "#9c179e"
             ],
             [
              0.4444444444444444,
              "#bd3786"
             ],
             [
              0.5555555555555556,
              "#d8576b"
             ],
             [
              0.6666666666666666,
              "#ed7953"
             ],
             [
              0.7777777777777778,
              "#fb9f3a"
             ],
             [
              0.8888888888888888,
              "#fdca26"
             ],
             [
              1,
              "#f0f921"
             ]
            ],
            "type": "histogram2d"
           }
          ],
          "histogram2dcontour": [
           {
            "colorbar": {
             "outlinewidth": 0,
             "ticks": ""
            },
            "colorscale": [
             [
              0,
              "#0d0887"
             ],
             [
              0.1111111111111111,
              "#46039f"
             ],
             [
              0.2222222222222222,
              "#7201a8"
             ],
             [
              0.3333333333333333,
              "#9c179e"
             ],
             [
              0.4444444444444444,
              "#bd3786"
             ],
             [
              0.5555555555555556,
              "#d8576b"
             ],
             [
              0.6666666666666666,
              "#ed7953"
             ],
             [
              0.7777777777777778,
              "#fb9f3a"
             ],
             [
              0.8888888888888888,
              "#fdca26"
             ],
             [
              1,
              "#f0f921"
             ]
            ],
            "type": "histogram2dcontour"
           }
          ],
          "mesh3d": [
           {
            "colorbar": {
             "outlinewidth": 0,
             "ticks": ""
            },
            "type": "mesh3d"
           }
          ],
          "parcoords": [
           {
            "line": {
             "colorbar": {
              "outlinewidth": 0,
              "ticks": ""
             }
            },
            "type": "parcoords"
           }
          ],
          "pie": [
           {
            "automargin": true,
            "type": "pie"
           }
          ],
          "scatter": [
           {
            "fillpattern": {
             "fillmode": "overlay",
             "size": 10,
             "solidity": 0.2
            },
            "type": "scatter"
           }
          ],
          "scatter3d": [
           {
            "line": {
             "colorbar": {
              "outlinewidth": 0,
              "ticks": ""
             }
            },
            "marker": {
             "colorbar": {
              "outlinewidth": 0,
              "ticks": ""
             }
            },
            "type": "scatter3d"
           }
          ],
          "scattercarpet": [
           {
            "marker": {
             "colorbar": {
              "outlinewidth": 0,
              "ticks": ""
             }
            },
            "type": "scattercarpet"
           }
          ],
          "scattergeo": [
           {
            "marker": {
             "colorbar": {
              "outlinewidth": 0,
              "ticks": ""
             }
            },
            "type": "scattergeo"
           }
          ],
          "scattergl": [
           {
            "marker": {
             "colorbar": {
              "outlinewidth": 0,
              "ticks": ""
             }
            },
            "type": "scattergl"
           }
          ],
          "scattermapbox": [
           {
            "marker": {
             "colorbar": {
              "outlinewidth": 0,
              "ticks": ""
             }
            },
            "type": "scattermapbox"
           }
          ],
          "scatterpolar": [
           {
            "marker": {
             "colorbar": {
              "outlinewidth": 0,
              "ticks": ""
             }
            },
            "type": "scatterpolar"
           }
          ],
          "scatterpolargl": [
           {
            "marker": {
             "colorbar": {
              "outlinewidth": 0,
              "ticks": ""
             }
            },
            "type": "scatterpolargl"
           }
          ],
          "scatterternary": [
           {
            "marker": {
             "colorbar": {
              "outlinewidth": 0,
              "ticks": ""
             }
            },
            "type": "scatterternary"
           }
          ],
          "surface": [
           {
            "colorbar": {
             "outlinewidth": 0,
             "ticks": ""
            },
            "colorscale": [
             [
              0,
              "#0d0887"
             ],
             [
              0.1111111111111111,
              "#46039f"
             ],
             [
              0.2222222222222222,
              "#7201a8"
             ],
             [
              0.3333333333333333,
              "#9c179e"
             ],
             [
              0.4444444444444444,
              "#bd3786"
             ],
             [
              0.5555555555555556,
              "#d8576b"
             ],
             [
              0.6666666666666666,
              "#ed7953"
             ],
             [
              0.7777777777777778,
              "#fb9f3a"
             ],
             [
              0.8888888888888888,
              "#fdca26"
             ],
             [
              1,
              "#f0f921"
             ]
            ],
            "type": "surface"
           }
          ],
          "table": [
           {
            "cells": {
             "fill": {
              "color": "#EBF0F8"
             },
             "line": {
              "color": "white"
             }
            },
            "header": {
             "fill": {
              "color": "#C8D4E3"
             },
             "line": {
              "color": "white"
             }
            },
            "type": "table"
           }
          ]
         },
         "layout": {
          "annotationdefaults": {
           "arrowcolor": "#2a3f5f",
           "arrowhead": 0,
           "arrowwidth": 1
          },
          "autotypenumbers": "strict",
          "coloraxis": {
           "colorbar": {
            "outlinewidth": 0,
            "ticks": ""
           }
          },
          "colorscale": {
           "diverging": [
            [
             0,
             "#8e0152"
            ],
            [
             0.1,
             "#c51b7d"
            ],
            [
             0.2,
             "#de77ae"
            ],
            [
             0.3,
             "#f1b6da"
            ],
            [
             0.4,
             "#fde0ef"
            ],
            [
             0.5,
             "#f7f7f7"
            ],
            [
             0.6,
             "#e6f5d0"
            ],
            [
             0.7,
             "#b8e186"
            ],
            [
             0.8,
             "#7fbc41"
            ],
            [
             0.9,
             "#4d9221"
            ],
            [
             1,
             "#276419"
            ]
           ],
           "sequential": [
            [
             0,
             "#0d0887"
            ],
            [
             0.1111111111111111,
             "#46039f"
            ],
            [
             0.2222222222222222,
             "#7201a8"
            ],
            [
             0.3333333333333333,
             "#9c179e"
            ],
            [
             0.4444444444444444,
             "#bd3786"
            ],
            [
             0.5555555555555556,
             "#d8576b"
            ],
            [
             0.6666666666666666,
             "#ed7953"
            ],
            [
             0.7777777777777778,
             "#fb9f3a"
            ],
            [
             0.8888888888888888,
             "#fdca26"
            ],
            [
             1,
             "#f0f921"
            ]
           ],
           "sequentialminus": [
            [
             0,
             "#0d0887"
            ],
            [
             0.1111111111111111,
             "#46039f"
            ],
            [
             0.2222222222222222,
             "#7201a8"
            ],
            [
             0.3333333333333333,
             "#9c179e"
            ],
            [
             0.4444444444444444,
             "#bd3786"
            ],
            [
             0.5555555555555556,
             "#d8576b"
            ],
            [
             0.6666666666666666,
             "#ed7953"
            ],
            [
             0.7777777777777778,
             "#fb9f3a"
            ],
            [
             0.8888888888888888,
             "#fdca26"
            ],
            [
             1,
             "#f0f921"
            ]
           ]
          },
          "colorway": [
           "#636efa",
           "#EF553B",
           "#00cc96",
           "#ab63fa",
           "#FFA15A",
           "#19d3f3",
           "#FF6692",
           "#B6E880",
           "#FF97FF",
           "#FECB52"
          ],
          "font": {
           "color": "#2a3f5f"
          },
          "geo": {
           "bgcolor": "white",
           "lakecolor": "white",
           "landcolor": "#E5ECF6",
           "showlakes": true,
           "showland": true,
           "subunitcolor": "white"
          },
          "hoverlabel": {
           "align": "left"
          },
          "hovermode": "closest",
          "mapbox": {
           "style": "light"
          },
          "paper_bgcolor": "white",
          "plot_bgcolor": "#E5ECF6",
          "polar": {
           "angularaxis": {
            "gridcolor": "white",
            "linecolor": "white",
            "ticks": ""
           },
           "bgcolor": "#E5ECF6",
           "radialaxis": {
            "gridcolor": "white",
            "linecolor": "white",
            "ticks": ""
           }
          },
          "scene": {
           "xaxis": {
            "backgroundcolor": "#E5ECF6",
            "gridcolor": "white",
            "gridwidth": 2,
            "linecolor": "white",
            "showbackground": true,
            "ticks": "",
            "zerolinecolor": "white"
           },
           "yaxis": {
            "backgroundcolor": "#E5ECF6",
            "gridcolor": "white",
            "gridwidth": 2,
            "linecolor": "white",
            "showbackground": true,
            "ticks": "",
            "zerolinecolor": "white"
           },
           "zaxis": {
            "backgroundcolor": "#E5ECF6",
            "gridcolor": "white",
            "gridwidth": 2,
            "linecolor": "white",
            "showbackground": true,
            "ticks": "",
            "zerolinecolor": "white"
           }
          },
          "shapedefaults": {
           "line": {
            "color": "#2a3f5f"
           }
          },
          "ternary": {
           "aaxis": {
            "gridcolor": "white",
            "linecolor": "white",
            "ticks": ""
           },
           "baxis": {
            "gridcolor": "white",
            "linecolor": "white",
            "ticks": ""
           },
           "bgcolor": "#E5ECF6",
           "caxis": {
            "gridcolor": "white",
            "linecolor": "white",
            "ticks": ""
           }
          },
          "title": {
           "x": 0.05
          },
          "xaxis": {
           "automargin": true,
           "gridcolor": "white",
           "linecolor": "white",
           "ticks": "",
           "title": {
            "standoff": 15
           },
           "zerolinecolor": "white",
           "zerolinewidth": 2
          },
          "yaxis": {
           "automargin": true,
           "gridcolor": "white",
           "linecolor": "white",
           "ticks": "",
           "title": {
            "standoff": 15
           },
           "zerolinecolor": "white",
           "zerolinewidth": 2
          }
         }
        },
        "title": {
         "text": "Nacechowanie recenzji w zależności od liczby recenzji"
        },
        "xaxis": {
         "anchor": "y",
         "domain": [
          0,
          1
         ],
         "title": {
          "text": "Grupa liczby recenzji"
         }
        },
        "yaxis": {
         "anchor": "x",
         "domain": [
          0,
          1
         ],
         "title": {
          "text": "count"
         }
        }
       }
      }
     },
     "metadata": {},
     "output_type": "display_data"
    }
   ],
   "source": [
    "# 4. Wpływ liczby recenzji na nacechowanie recenzji\n",
    "\n",
    "# Tworzenie grup na podstawie liczby recenzji\n",
    "df['Recenzje_grupa'] = pd.cut(df['Liczba recenzji'].astype(int),\n",
    "                               bins=[0, 500, 2000, 5000, 10000, df['Liczba recenzji'].astype(int).max()],\n",
    "                               labels=['0-500', '501-2000', '2001-5000', '5001-10000', '10001+'])\n",
    "\n",
    "# Rozkład nacechowania recenzji\n",
    "fig = px.histogram(df, x='Recenzje_grupa', color='Nacechowanie recenzji',\n",
    "                   title='Nacechowanie recenzji w zależności od liczby recenzji',\n",
    "                   labels={'Recenzje_grupa': 'Grupa liczby recenzji', 'count': 'Liczba gier'})\n",
    "fig.show()\n"
   ]
  },
  {
   "cell_type": "code",
   "execution_count": 38,
   "metadata": {},
   "outputs": [
    {
     "data": {
      "application/vnd.plotly.v1+json": {
       "config": {
        "plotlyServerURL": "https://plot.ly"
       },
       "data": [
        {
         "alignmentgroup": "True",
         "bingroup": "x",
         "hovertemplate": "Cena (zł)=%{x}<br>count=%{y}<extra></extra>",
         "legendgroup": "",
         "marker": {
          "color": "#636efa",
          "pattern": {
           "shape": ""
          }
         },
         "name": "",
         "offsetgroup": "",
         "orientation": "v",
         "showlegend": false,
         "type": "histogram",
         "x": [
          0,
          157.49,
          55.49,
          10.79,
          169,
          0,
          46.24,
          199,
          45.86,
          40.49,
          13.89,
          45.99,
          124.79,
          75.59,
          99.99,
          35.63,
          71.99,
          164.99,
          229.99,
          55.99,
          49.75,
          45.86,
          91.99,
          0,
          64.49,
          199.99,
          9.19,
          72.59,
          20.39,
          22.99,
          69.99,
          0,
          19.01,
          42.25,
          0,
          13.79,
          31.75,
          79.99,
          86.34,
          0,
          75,
          63.99,
          169.9,
          0,
          84.99,
          59.99,
          83.39,
          65.99,
          139.99,
          17.99,
          59.99,
          0,
          219,
          49.99,
          39.97,
          61.19,
          23.39,
          107.99,
          13.99,
          259,
          37.48,
          35.8,
          219,
          29.99,
          29.99,
          58.49,
          89.99,
          15.99,
          29.97,
          299,
          32.19,
          138.74,
          0,
          19.99,
          138.99,
          79,
          68.64,
          35.98,
          45.99,
          14.39,
          269.9,
          67.99,
          72.99,
          259,
          185.59,
          39.99,
          0,
          12.6,
          14.99,
          208.49,
          8.99,
          229,
          0,
          114.99,
          73.59,
          27.99,
          32.39,
          45.99,
          0,
          48.59,
          111.3,
          149.99,
          118.3,
          115.08,
          35.99,
          55.19,
          71.99,
          179,
          125.09,
          138.99,
          21.59,
          199.99,
          49.17,
          6.89,
          0,
          59.99,
          159.9,
          43.99,
          35.74,
          45.99,
          44.99,
          7.49,
          199,
          0,
          24.99,
          82.99,
          17.49,
          45.99,
          45.99,
          171.9,
          32.24,
          114.99,
          119,
          53.99,
          69.9,
          34.99,
          138.99,
          161.99,
          45.99,
          63.24,
          259,
          79.9,
          21.24,
          107.46,
          31.99,
          43.19,
          40.47,
          45.99,
          269.9,
          19.25,
          71.99,
          50,
          59.99,
          31.99,
          114.99,
          184.99,
          43.19,
          45.99,
          91.99,
          12.6,
          0,
          45.99,
          85.9,
          24.75,
          45.99,
          0,
          9.99,
          34.75,
          114.99,
          26.99,
          28.79,
          91.99,
          4.59,
          22.99,
          17.81,
          35.99,
          19.97,
          17.99,
          21.12,
          45.99,
          45.99,
          42.99,
          33.99,
          41.99,
          45.99,
          59.99,
          64.99,
          134,
          17.99,
          49.99,
          54.39,
          41.99,
          22.99,
          22.99,
          0,
          91.99,
          22.99,
          45.99,
          138.99,
          89.99,
          91.99,
          71.99,
          89.9,
          15.6,
          67.99,
          91.99,
          67.99,
          67.49,
          67.6,
          23.99,
          46.99,
          54.99,
          7.99,
          14.49,
          34.74,
          67.99,
          73.59,
          73.59,
          114.99,
          89.99,
          0,
          71.99,
          71.99,
          73.59,
          10.79,
          26.99,
          44.99,
          34.99,
          100,
          100,
          100,
          45.99,
          45.99,
          54.99,
          79.99,
          33.99,
          274.99,
          274.99,
          0,
          138.99,
          0,
          46.99,
          71.99,
          53.99,
          21.59,
          63.99,
          0,
          35.99,
          82.79,
          44.19,
          214.9,
          39.99,
          14.29,
          219.99,
          100,
          45.99,
          58.49,
          28.74,
          71.2,
          80.49,
          44.99,
          54.99,
          0,
          107.99,
          55.19,
          100,
          100,
          100,
          39.59,
          9.59,
          63.99,
          159.9,
          269.9,
          17.99,
          39,
          40.99,
          32.39,
          14.66,
          22.99,
          79,
          37.79,
          46.99,
          0,
          36.99,
          36.79,
          79.99,
          45.99,
          45.99,
          94.99,
          7.19,
          64.99,
          92.79,
          45,
          59.99,
          35.99,
          14.99,
          29.99,
          43.99,
          29.99,
          4.49,
          33.99,
          173.99,
          8.59
         ],
         "xaxis": "x",
         "yaxis": "y"
        },
        {
         "customdata": [
          [
           "Marvel Rivals"
          ],
          [
           "Warhammer 40,000: Space Marine 2"
          ],
          [
           "Among Us"
          ],
          [
           "Stellaris"
          ],
          [
           "Cyberpunk 2077"
          ],
          [
           "Frostpunk"
          ],
          [
           "They Are Billions"
          ],
          [
           "Cyberpunk 2077: Widmo wolności"
          ],
          [
           "Planetary Annihilation: TITANS"
          ],
          [
           "Lies of P"
          ],
          [
           "S.T.A.L.K.E.R. 2: Heart of Chornobyl"
          ],
          [
           "BlazBlue Entropy Effect"
          ],
          [
           "Halo: The Master Chief Collection"
          ],
          [
           "Subnautica: Below Zero"
          ],
          [
           "Project Zomboid"
          ],
          [
           "Jurassic World Evolution 2"
          ],
          [
           "This War of Mine"
          ],
          [
           "Atomic Heart"
          ],
          [
           "Plague Inc: Evolved"
          ],
          [
           "Chained Together"
          ],
          [
           "Barotrauma"
          ],
          [
           "DOOM Eternal"
          ],
          [
           "Metro Exodus"
          ],
          [
           "The Invincible"
          ],
          [
           "Void Crew"
          ],
          [
           "Starship Troopers: Terran Command"
          ],
          [
           "Forever Skies"
          ],
          [
           "Days Gone"
          ],
          [
           "Horizon Forbidden West™ Edycja kompletna"
          ],
          [
           "The Long Dark"
          ],
          [
           "Chernobylite Complete Edition"
          ],
          [
           "Aliens: Dark Descent"
          ],
          [
           "Aliens: Fireteam Elite"
          ],
          [
           "LOCKDOWN Protocol"
          ],
          [
           "Terminator: Dark Fate - Defiance"
          ],
          [
           "STAR WARS™: The Old Republic™"
          ],
          [
           "Fallout 4"
          ],
          [
           "Nobody Wants to Die"
          ],
          [
           "Mass Effect™ Edycja legendarna"
          ],
          [
           "Stellaris: Grand Archive"
          ],
          [
           "The Long Drive"
          ],
          [
           "Ratchet & Clank: Rift Apart"
          ],
          [
           "Sins of a Solar Empire II"
          ],
          [
           "Metro 2033 Redux"
          ],
          [
           "BlazBlue Entropy Effect - Hazama Character Pack"
          ],
          [
           "7 Days to Die"
          ],
          [
           "LEGO ® Gwiezdne Wojny™: Saga Skywalkerów"
          ],
          [
           "Unturned"
          ],
          [
           "Stellaris: The Machine Age"
          ],
          [
           "Eden Crafters"
          ],
          [
           "From Glory To Goo"
          ],
          [
           "ZEPHON"
          ],
          [
           "High On Life"
          ],
          [
           "Alien: Isolation"
          ],
          [
           "Airborne Empire"
          ],
          [
           "ASTRONEER"
          ],
          [
           "Warhammer 40,000: Rogue Trader"
          ],
          [
           "Assassin's Creed® Syndicate"
          ],
          [
           "VLADiK BRUTAL"
          ],
          [
           "Quantum Break"
          ],
          [
           "Fallout: New Vegas"
          ],
          [
           "FANTASIAN Neo Dimension"
          ],
          [
           "Nuclear Option"
          ],
          [
           "AI: THE SOMNIUM FILES - nirvanA Initiative"
          ],
          [
           "Rain World"
          ],
          [
           "Arizona Sunshine® Remake"
          ],
          [
           "Aliens vs. Predator™"
          ],
          [
           "SPORE™"
          ],
          [
           "CRUEL"
          ],
          [
           "Stationeers"
          ],
          [
           "Beyond: Two Souls"
          ],
          [
           "Road 96 🛣️"
          ],
          [
           "Arizona Sunshine® 2"
          ],
          [
           "Amenti"
          ],
          [
           "MechWarrior 5: Mercenaries"
          ],
          [
           "Cyber Manhunt 2: New World - The Hacking Simulator"
          ],
          [
           "Space Engineers"
          ],
          [
           "Deep Rock Galactic: Survivor"
          ],
          [
           "Zompiercer"
          ],
          [
           "Nuclear Nightmare"
          ],
          [
           "Shadows of Doubt"
          ],
          [
           "State of Decay 2: Juggernaut Edition"
          ],
          [
           "Uncle Chop's Rocket Shop"
          ],
          [
           "Metro: Last Light Redux"
          ],
          [
           "XCOM: Enemy Unknown"
          ],
          [
           "Halo Wars: Definitive Edition"
          ],
          [
           "Sovereign Syndicate"
          ],
          [
           "Homeworld Remastered Collection"
          ],
          [
           "Into the Breach"
          ],
          [
           "Jurassic World Evolution 2: Dominion Biosyn Expansion"
          ],
          [
           "Bridge Constructor Portal"
          ],
          [
           "Saints Row IV: Re-Elected"
          ],
          [
           "STEINS;GATE ELITE"
          ],
          [
           "Drill Core"
          ],
          [
           "Quake 4"
          ],
          [
           "Neon Abyss"
          ],
          [
           "Risk of Rain 2: Survivors of the Void"
          ],
          [
           "Obenseuer"
          ],
          [
           "Pacify"
          ],
          [
           "LEGO® Star Wars™ III - The Clone Wars™"
          ],
          [
           "Stellar Warfare"
          ],
          [
           "Surviving Mars"
          ],
          [
           "Fallout 3: Game of the Year Edition"
          ],
          [
           "ENDER LILIES: Quietus of the Knights"
          ],
          [
           "S.T.A.L.K.E.R.: Shadow of Chernobyl"
          ],
          [
           "Mirror's Edge™"
          ],
          [
           "DOOM 3"
          ],
          [
           "Executive Assault 2"
          ],
          [
           "System Shock"
          ],
          [
           "Oxygen Not Included - Spaced Out!"
          ],
          [
           "SurrounDead"
          ],
          [
           "Jurassic World Evolution 2: Early Cretaceous Pack"
          ],
          [
           "Rogue Command"
          ],
          [
           "Avorion"
          ],
          [
           "Project Wingman"
          ],
          [
           "HELLDIVERS™ Dive Harder Edition"
          ],
          [
           "Zero Escape: The Nonary Games"
          ],
          [
           "Crying Suns"
          ],
          [
           "Dune: Spice Wars - House Vernius of Ix"
          ],
          [
           "60 Seconds!"
          ],
          [
           "Command & Conquer 3: Gniew Kane'a"
          ],
          [
           "Command & Conquer 3: Wojny o tyberium"
          ],
          [
           "Togainu no Chi ~Lost Blood~"
          ],
          [
           "No Man's Sky"
          ],
          [
           "Fallout Shelter"
          ],
          [
           "Supreme Commander 2"
          ],
          [
           "Starcom: Nexus"
          ],
          [
           "Serious Sam HD: The First Encounter"
          ],
          [
           "FAR: Changing Tides"
          ],
          [
           "Space Haven"
          ],
          [
           "BLADE CHIMERA"
          ],
          [
           "XCOM® 2"
          ],
          [
           "Jurassic World Evolution"
          ],
          [
           "AI: The Somnium Files"
          ],
          [
           "EVERSPACE™ 2"
          ],
          [
           "Command & Conquer™ Red Alert™ 3"
          ],
          [
           "Quasimorph"
          ],
          [
           "Endoparasitic 2"
          ],
          [
           "Sins of a Solar Empire®: Rebellion"
          ],
          [
           "Command & Conquer™ Tiberian Sun™ and Firestorm™"
          ],
          [
           "Command & Conquer™ Red Alert™ 3- Powstanie"
          ],
          [
           "Command & Conquer Red Alert™ 2 and Yuri’s Revenge™"
          ],
          [
           "Outer Wilds - Echoes of the Eye"
          ],
          [
           "Beholder"
          ],
          [
           "Dead Space"
          ],
          [
           "Murky Divers"
          ],
          [
           "Wasteland 2: Director's Cut"
          ],
          [
           "Takara Cards"
          ],
          [
           "Unturned - Permanent Gold Upgrade"
          ],
          [
           "Bio Inc. Redemption"
          ],
          [
           "Galaxy Life"
          ],
          [
           "Iron Lung"
          ],
          [
           "Warhammer 40,000: Boltgun"
          ],
          [
           "Serious Sam 2"
          ],
          [
           "Starcom: Unknown Space"
          ],
          [
           "Zero Escape: Zero Time Dilemma"
          ],
          [
           "S.T.A.L.K.E.R.: Clear Sky"
          ],
          [
           "SUPERHOT"
          ],
          [
           "Bridge Constructor Portal - Portal Proficiency"
          ],
          [
           "Original War"
          ]
         ],
         "hovertemplate": "Nacechowanie recenzji=Bardzo pozytywne<br>Cena=%{x}<br>Liczba recenzji=%{y}<br>Tytuł=%{customdata[0]}<extra></extra>",
         "legendgroup": "Bardzo pozytywne",
         "marker": {
          "color": "#636efa",
          "symbol": "circle"
         },
         "mode": "markers",
         "name": "Bardzo pozytywne",
         "orientation": "v",
         "showlegend": true,
         "type": "scatter",
         "x": [
          0,
          157.49,
          10.79,
          46.24,
          199,
          13.89,
          75.59,
          99.99,
          35.63,
          164.99,
          229.99,
          55.99,
          49.75,
          45.86,
          91.99,
          64.49,
          9.19,
          72.59,
          20.39,
          22.99,
          69.99,
          42.25,
          31.75,
          75,
          63.99,
          83.39,
          65.99,
          219,
          259,
          29.99,
          29.99,
          58.49,
          29.97,
          32.19,
          138.74,
          0,
          79,
          68.64,
          269.9,
          67.99,
          72.99,
          259,
          185.59,
          12.6,
          14.99,
          208.49,
          229,
          0,
          114.99,
          73.59,
          27.99,
          149.99,
          71.99,
          179,
          125.09,
          138.99,
          199.99,
          159.9,
          43.99,
          35.74,
          44.99,
          199,
          82.99,
          32.24,
          114.99,
          119,
          53.99,
          69.9,
          34.99,
          161.99,
          79.9,
          21.24,
          107.46,
          31.99,
          43.19,
          40.47,
          71.99,
          50,
          59.99,
          31.99,
          114.99,
          43.19,
          91.99,
          12.6,
          85.9,
          24.75,
          45.99,
          9.99,
          26.99,
          28.79,
          4.59,
          21.12,
          42.99,
          59.99,
          64.99,
          17.99,
          49.99,
          54.39,
          22.99,
          91.99,
          45.99,
          138.99,
          89.99,
          91.99,
          71.99,
          89.9,
          15.6,
          67.49,
          67.6,
          46.99,
          54.99,
          14.49,
          73.59,
          114.99,
          89.99,
          71.99,
          10.79,
          26.99,
          44.99,
          34.99,
          100,
          100,
          45.99,
          274.99,
          0,
          46.99,
          71.99,
          53.99,
          21.59,
          35.99,
          82.79,
          214.9,
          39.99,
          14.29,
          219.99,
          100,
          71.2,
          54.99,
          55.19,
          100,
          100,
          100,
          39.59,
          9.59,
          269.9,
          40.99,
          32.39,
          14.66,
          22.99,
          46.99,
          0,
          36.99,
          79.99,
          45.99,
          94.99,
          7.19,
          35.99,
          29.99,
          4.49,
          8.59
         ],
         "xaxis": "x2",
         "y": [
          179402,
          107725,
          611949,
          124220,
          715099,
          98112,
          42733,
          17253,
          10767,
          34153,
          79066,
          22563,
          215298,
          86022,
          266252,
          27579,
          60535,
          26462,
          48044,
          41753,
          49338,
          169781,
          101275,
          4518,
          4669,
          8168,
          4620,
          68666,
          13796,
          94966,
          10827,
          12098,
          18772,
          10570,
          2307,
          65124,
          256252,
          2711,
          48701,
          177,
          38705,
          7924,
          5149,
          79908,
          99,
          246598,
          34862,
          550746,
          710,
          936,
          611,
          951,
          15219,
          42945,
          206,
          107926,
          18844,
          26910,
          7003,
          20449,
          11347,
          220,
          2876,
          2841,
          30373,
          551,
          14346,
          58305,
          535,
          6284,
          21587,
          17024,
          1434,
          383,
          10116,
          2866,
          95476,
          32846,
          1997,
          6940,
          12167,
          50457,
          563,
          58952,
          38156,
          7459,
          282,
          11274,
          16565,
          361,
          5633,
          57053,
          1331,
          902,
          2595,
          19087,
          4998,
          683,
          31593,
          6359,
          245,
          15547,
          38825,
          34429,
          36255,
          29056,
          7757,
          1337,
          7851,
          1124,
          5354,
          106,
          229,
          11920,
          15133,
          23607,
          5412,
          2912,
          103,
          10257,
          4401,
          7566,
          361,
          256429,
          72478,
          7842,
          1862,
          6437,
          3903,
          7973,
          350,
          71972,
          46827,
          7491,
          10207,
          13214,
          3385,
          408,
          9982,
          776,
          3874,
          7037,
          4767,
          19305,
          41169,
          2848,
          4616,
          71,
          9346,
          2044,
          7828,
          7346,
          12622,
          10283,
          2526,
          3877,
          16819,
          25743,
          114,
          1665
         ],
         "yaxis": "y2"
        },
        {
         "customdata": [
          [
           "Detroit: Become Human"
          ],
          [
           "Subnautica"
          ],
          [
           "Lethal Company"
          ],
          [
           "Stray"
          ],
          [
           "Brotato"
          ],
          [
           "Outer Wilds"
          ],
          [
           "RimWorld"
          ],
          [
           "Mouthwashing"
          ],
          [
           "Deep Rock Galactic"
          ],
          [
           "Oxygen Not Included"
          ],
          [
           "DOOM"
          ],
          [
           "Warhammer 40,000: Dawn of War - Anniversary Edition"
          ],
          [
           "Beat Saber"
          ],
          [
           "Left 4 Dead 2"
          ],
          [
           "Severed Steel"
          ],
          [
           "Portal 2"
          ],
          [
           "Creeper World 4"
          ],
          [
           "DRAMAtical Murder"
          ],
          [
           "STEINS;GATE"
          ],
          [
           "Life is Strange - Episode 1"
          ],
          [
           "STEINS;GATE 0"
          ],
          [
           "Kerbal Space Program"
          ],
          [
           "Nine Sols"
          ],
          [
           "Half-Life 2"
          ],
          [
           "Black Mesa"
          ],
          [
           "Creeper World 3: Arc Eternal"
          ],
          [
           "Half-Life"
          ],
          [
           "Papers, Please"
          ],
          [
           "Portal"
          ],
          [
           "Beyond Citadel"
          ],
          [
           "Dystopika"
          ],
          [
           "The Walking Dead"
          ],
          [
           "Turing Complete"
          ],
          [
           "Left 4 Dead"
          ],
          [
           "Gloomwood"
          ],
          [
           "Half-Life: Alyx"
          ],
          [
           "Caves of Qud"
          ],
          [
           "SANABI"
          ],
          [
           "MULLET MADJACK"
          ],
          [
           "The Forgotten City"
          ],
          [
           "The Planet Crafter"
          ],
          [
           "Cosmoteer: Starship Architect & Commander"
          ],
          [
           "Quake II"
          ],
          [
           "DRAINUS"
          ],
          [
           "shapez 2"
          ],
          [
           "Spaceflight Simulator"
          ],
          [
           "Nuclear Throne"
          ]
         ],
         "hovertemplate": "Nacechowanie recenzji=Przytłaczająco pozytywne<br>Cena=%{x}<br>Liczba recenzji=%{y}<br>Tytuł=%{customdata[0]}<extra></extra>",
         "legendgroup": "Przytłaczająco pozytywne",
         "marker": {
          "color": "#EF553B",
          "symbol": "circle"
         },
         "mode": "markers",
         "name": "Przytłaczająco pozytywne",
         "orientation": "v",
         "showlegend": true,
         "type": "scatter",
         "x": [
          55.49,
          45.86,
          45.99,
          71.99,
          13.79,
          59.99,
          139.99,
          59.99,
          107.99,
          89.99,
          15.99,
          19.99,
          138.99,
          45.99,
          8.99,
          45.99,
          35.99,
          55.19,
          21.59,
          0,
          24.99,
          171.9,
          138.99,
          45.99,
          91.99,
          17.81,
          35.99,
          45.99,
          45.99,
          67.99,
          23.99,
          67.99,
          71.99,
          45.99,
          79.99,
          274.99,
          138.99,
          44.19,
          58.49,
          28.74,
          80.49,
          44.99,
          39,
          37.79,
          64.99,
          59.99,
          43.99
         ],
         "xaxis": "x2",
         "y": [
          129150,
          270509,
          377652,
          134626,
          87074,
          65462,
          171224,
          22220,
          263746,
          117194,
          134665,
          7850,
          67644,
          707881,
          5198,
          349034,
          4027,
          3068,
          18328,
          167833,
          6031,
          101381,
          20608,
          174997,
          113268,
          3862,
          102032,
          65862,
          148514,
          1261,
          2266,
          45884,
          3511,
          50583,
          5544,
          83035,
          9001,
          30792,
          5703,
          9026,
          46310,
          9903,
          7275,
          866,
          9131,
          5587,
          13347
         ],
         "yaxis": "y2"
        },
        {
         "customdata": [
          [
           "HELLDIVERS™ 2"
          ],
          [
           "ICARUS"
          ],
          [
           "Frostpunk 2"
          ],
          [
           "Dying Light 2 Stay Human: Reloaded Edition"
          ],
          [
           "Crossout"
          ],
          [
           "Iron Harvest"
          ],
          [
           "Infection Free Zone"
          ],
          [
           "Dune: Spice Wars"
          ],
          [
           "Fallout 76"
          ],
          [
           "Once Human"
          ],
          [
           "Warhammer 40,000: Darktide"
          ],
          [
           "New Cycle"
          ],
          [
           "Tom Clancy’s The Division® 2"
          ],
          [
           "IDUN"
          ],
          [
           "Frostpunk: The Last Autumn"
          ],
          [
           "Battlefleet Gothic: Armada 2"
          ],
          [
           "Horizon Zero Dawn™ Remastered"
          ],
          [
           "Far Cry® New Dawn"
          ],
          [
           "Destiny 2"
          ],
          [
           "Hidden Deep"
          ],
          [
           "Phantasy Star Online 2 New Genesis"
          ],
          [
           "Warhammer 40,000: Chaos Gate - Daemonhunters"
          ],
          [
           "Metro Awakening"
          ],
          [
           "Empire of the Ants"
          ],
          [
           "The Forever Winter"
          ],
          [
           "Gears Tactics"
          ],
          [
           "Tower of Fantasy"
          ],
          [
           "Stellaris: Utopia"
          ],
          [
           "The Last of Us™ Part I"
          ],
          [
           "Stellaris: Federations"
          ],
          [
           "Plague Inc: The Cure"
          ],
          [
           "Scorn"
          ],
          [
           "Ghosts of Tabor"
          ],
          [
           "Homeworld: Deserts of Kharak"
          ],
          [
           "Moon Mystery"
          ],
          [
           "Stellaris: Synthetic Dawn Story Pack"
          ],
          [
           "Stellaris: Leviathans Story Pack"
          ],
          [
           "Elite Dangerous"
          ],
          [
           "CryoFall"
          ],
          [
           "Ashes of the Singularity: Escalation"
          ],
          [
           "Exoplanet: First Contact"
          ],
          [
           "Halo Infinite"
          ],
          [
           "Heat Death: Survival Train"
          ],
          [
           "Out of Orbit"
          ],
          [
           "Snowbreak: Containment Zone"
          ],
          [
           "Machinika: Atlas"
          ],
          [
           "Distant Worlds 2"
          ],
          [
           "The Surge 2"
          ],
          [
           "Iron Marines Invasion"
          ],
          [
           "MechWarrior 5: Clans"
          ]
         ],
         "hovertemplate": "Nacechowanie recenzji=W większości pozytywne<br>Cena=%{x}<br>Liczba recenzji=%{y}<br>Tytuł=%{customdata[0]}<extra></extra>",
         "legendgroup": "W większości pozytywne",
         "marker": {
          "color": "#00cc96",
          "symbol": "circle"
         },
         "mode": "markers",
         "name": "W większości pozytywne",
         "orientation": "v",
         "showlegend": true,
         "type": "scatter",
         "x": [
          169,
          40.49,
          124.79,
          199.99,
          0,
          19.01,
          79.99,
          86.34,
          169.9,
          0,
          84.99,
          49.99,
          39.97,
          61.19,
          23.39,
          13.99,
          219,
          35.98,
          0,
          32.39,
          0,
          48.59,
          111.3,
          118.3,
          115.08,
          49.17,
          0,
          45.99,
          259,
          45.99,
          19.25,
          34.75,
          114.99,
          17.99,
          41.99,
          22.99,
          22.99,
          91.99,
          7.99,
          34.74,
          73.59,
          0,
          54.99,
          63.99,
          0,
          17.99,
          92.79,
          14.99,
          33.99,
          173.99
         ],
         "xaxis": "x2",
         "y": [
          706128,
          35280,
          14905,
          137429,
          62761,
          10654,
          11373,
          10231,
          64459,
          117571,
          87400,
          1879,
          17341,
          153,
          1315,
          8553,
          2401,
          27707,
          617834,
          3485,
          23726,
          9672,
          1766,
          627,
          15073,
          6736,
          10462,
          1223,
          39560,
          915,
          114,
          10579,
          7772,
          7324,
          377,
          795,
          571,
          74260,
          4514,
          2520,
          219,
          174762,
          335,
          54,
          7022,
          323,
          2380,
          6256,
          244,
          3820
         ],
         "yaxis": "y2"
        },
        {
         "customdata": [
          [
           "Apex Legends™"
          ],
          [
           "The First Descendant"
          ],
          [
           "Echocalypse: The Scarlet Covenant"
          ],
          [
           "Frostpunk: On The Edge"
          ],
          [
           "War Robots"
          ],
          [
           "Watch Dogs®: Legion"
          ],
          [
           "Warhammer 40,000: Dawn of War III"
          ],
          [
           "Starfield"
          ],
          [
           "Brotato: Abyssal Terrors"
          ],
          [
           "Arma 3 Contact"
          ],
          [
           "Frostpunk: The Rifts"
          ],
          [
           "Battlefleet Gothic: Armada"
          ],
          [
           "Battlefleet Gothic: Armada 2 - Chaos Campaign Expansion"
          ],
          [
           "Stellaris: Nemesis"
          ],
          [
           "Stellaris: Apocalypse"
          ],
          [
           "Outpost: Infinity Siege"
          ],
          [
           "Battlefield™ 2042"
          ],
          [
           "Alien: Rogue Incursion"
          ],
          [
           "Stellaris: Overlord"
          ],
          [
           "Infinite Lagrange"
          ],
          [
           "Build Master: MarsVille"
          ],
          [
           "Stellaris: Distant Stars Story Pack"
          ],
          [
           "Anno 2070™"
          ],
          [
           "Stellaris: MegaCorp"
          ],
          [
           "Stellaris: Galactic Paragons"
          ],
          [
           "ASTRONEER: Glitchwalkers"
          ],
          [
           "DISORDER"
          ],
          [
           "Warhammer 40,000: Warpforge"
          ],
          [
           "Elite Dangerous: Odyssey"
          ],
          [
           "Stellaris: First Contact Story Pack"
          ],
          [
           "Doomsday: Last Survivors"
          ],
          [
           "Stormworks: Space"
          ],
          [
           "FINAL FANTASY VII EVER CRISIS"
          ],
          [
           "Aliens: Colonial Marines Collection"
          ],
          [
           "Anno 2205™"
          ],
          [
           "The Elder Scrolls V: Skyrim Anniversary Upgrade"
          ],
          [
           "Fera: The Sundered Tribes"
          ],
          [
           "Arkanoid - Eternal Battle"
          ],
          [
           "Necromunda: Hired Gun"
          ]
         ],
         "hovertemplate": "Nacechowanie recenzji=Mieszane<br>Cena=%{x}<br>Liczba recenzji=%{y}<br>Tytuł=%{customdata[0]}<extra></extra>",
         "legendgroup": "Mieszane",
         "marker": {
          "color": "#ab63fa",
          "symbol": "circle"
         },
         "mode": "markers",
         "name": "Mieszane",
         "orientation": "v",
         "showlegend": true,
         "type": "scatter",
         "x": [
          0,
          0,
          0,
          17.99,
          0,
          37.48,
          35.8,
          299,
          14.39,
          39.99,
          6.89,
          7.49,
          17.49,
          45.99,
          45.99,
          63.24,
          269.9,
          184.99,
          45.99,
          0,
          0,
          22.99,
          19.97,
          45.99,
          33.99,
          41.99,
          134,
          0,
          67.99,
          33.99,
          0,
          45.99,
          0,
          107.99,
          159.9,
          79,
          45.99,
          45,
          29.99
         ],
         "xaxis": "x2",
         "y": [
          976121,
          97704,
          239,
          1235,
          24977,
          8943,
          13008,
          106814,
          1746,
          1634,
          431,
          4874,
          143,
          1524,
          1423,
          10834,
          226924,
          549,
          1213,
          817,
          182,
          526,
          11130,
          1091,
          894,
          727,
          48,
          2527,
          7499,
          473,
          553,
          801,
          2657,
          7168,
          5662,
          6161,
          312,
          187,
          5295
         ],
         "yaxis": "y2"
        },
        {
         "customdata": [
          [
           "Overwatch® 2"
          ],
          [
           "Stellaris: Cosmic Storms"
          ],
          [
           "Stellaris: Astral Planes"
          ]
         ],
         "hovertemplate": "Nacechowanie recenzji=W większości negatywne<br>Cena=%{x}<br>Liczba recenzji=%{y}<br>Tytuł=%{customdata[0]}<extra></extra>",
         "legendgroup": "W większości negatywne",
         "marker": {
          "color": "#FFA15A",
          "symbol": "circle"
         },
         "mode": "markers",
         "name": "W większości negatywne",
         "orientation": "v",
         "showlegend": true,
         "type": "scatter",
         "x": [
          0,
          59.99,
          45.99
         ],
         "xaxis": "x2",
         "y": [
          325243,
          416,
          1015
         ],
         "yaxis": "y2"
        },
        {
         "customdata": [
          [
           "SACRIFICE VILLAINS"
          ],
          [
           "Icarus: Creature Comforts Pack"
          ],
          [
           "Quasimorph - Supporter Pack"
          ]
         ],
         "hovertemplate": "Nacechowanie recenzji=Pozytywne<br>Cena=%{x}<br>Liczba recenzji=%{y}<br>Tytuł=%{customdata[0]}<extra></extra>",
         "legendgroup": "Pozytywne",
         "marker": {
          "color": "#19d3f3",
          "symbol": "circle"
         },
         "mode": "markers",
         "name": "Pozytywne",
         "orientation": "v",
         "showlegend": true,
         "type": "scatter",
         "x": [
          73.59,
          63.99,
          36.79
         ],
         "xaxis": "x2",
         "y": [
          15,
          24,
          28
         ],
         "yaxis": "y2"
        },
        {
         "customdata": [
          [
           "Command & Conquer™ 4 Tyberyjski zmierzch"
          ]
         ],
         "hovertemplate": "Nacechowanie recenzji=Przytłaczająco negatywne<br>Cena=%{x}<br>Liczba recenzji=%{y}<br>Tytuł=%{customdata[0]}<extra></extra>",
         "legendgroup": "Przytłaczająco negatywne",
         "marker": {
          "color": "#FF6692",
          "symbol": "circle"
         },
         "mode": "markers",
         "name": "Przytłaczająco negatywne",
         "orientation": "v",
         "showlegend": true,
         "type": "scatter",
         "x": [
          100
         ],
         "xaxis": "x2",
         "y": [
          4073
         ],
         "yaxis": "y2"
        },
        {
         "alignmentgroup": "True",
         "hovertemplate": "Nacechowanie recenzji=%{x}<br>Cena=%{y}<extra></extra>",
         "legendgroup": "",
         "marker": {
          "color": "#636efa"
         },
         "name": "",
         "notched": false,
         "offsetgroup": "",
         "orientation": "v",
         "showlegend": false,
         "type": "box",
         "x": [
          "Bardzo pozytywne",
          "Bardzo pozytywne",
          "Przytłaczająco pozytywne",
          "Bardzo pozytywne",
          "W większości pozytywne",
          "Mieszane",
          "Bardzo pozytywne",
          "Bardzo pozytywne",
          "Przytłaczająco pozytywne",
          "W większości pozytywne",
          "Bardzo pozytywne",
          "Przytłaczająco pozytywne",
          "W większości pozytywne",
          "Bardzo pozytywne",
          "Bardzo pozytywne",
          "Bardzo pozytywne",
          "Przytłaczająco pozytywne",
          "Bardzo pozytywne",
          "Bardzo pozytywne",
          "Bardzo pozytywne",
          "Bardzo pozytywne",
          "Bardzo pozytywne",
          "Bardzo pozytywne",
          "W większości negatywne",
          "Bardzo pozytywne",
          "W większości pozytywne",
          "Bardzo pozytywne",
          "Bardzo pozytywne",
          "Bardzo pozytywne",
          "Bardzo pozytywne",
          "Bardzo pozytywne",
          "W większości pozytywne",
          "W większości pozytywne",
          "Bardzo pozytywne",
          "Mieszane",
          "Przytłaczająco pozytywne",
          "Bardzo pozytywne",
          "W większości pozytywne",
          "W większości pozytywne",
          "Mieszane",
          "Bardzo pozytywne",
          "Bardzo pozytywne",
          "W większości pozytywne",
          "W większości pozytywne",
          "W większości pozytywne",
          "Przytłaczająco pozytywne",
          "Bardzo pozytywne",
          "Bardzo pozytywne",
          "Przytłaczająco pozytywne",
          "Mieszane",
          "Przytłaczająco pozytywne",
          "Mieszane",
          "Bardzo pozytywne",
          "W większości pozytywne",
          "W większości pozytywne",
          "W większości pozytywne",
          "W większości pozytywne",
          "Przytłaczająco pozytywne",
          "W większości pozytywne",
          "Bardzo pozytywne",
          "Mieszane",
          "Mieszane",
          "W większości pozytywne",
          "Bardzo pozytywne",
          "Bardzo pozytywne",
          "Bardzo pozytywne",
          "Przytłaczająco pozytywne",
          "Przytłaczająco pozytywne",
          "Bardzo pozytywne",
          "Mieszane",
          "Bardzo pozytywne",
          "Bardzo pozytywne",
          "Bardzo pozytywne",
          "Przytłaczająco pozytywne",
          "Przytłaczająco pozytywne",
          "Bardzo pozytywne",
          "Bardzo pozytywne",
          "W większości pozytywne",
          "Przytłaczająco pozytywne",
          "Mieszane",
          "Bardzo pozytywne",
          "Bardzo pozytywne",
          "Bardzo pozytywne",
          "Bardzo pozytywne",
          "Bardzo pozytywne",
          "Mieszane",
          "W większości pozytywne",
          "Bardzo pozytywne",
          "Bardzo pozytywne",
          "Bardzo pozytywne",
          "Przytłaczająco pozytywne",
          "Bardzo pozytywne",
          "Bardzo pozytywne",
          "Bardzo pozytywne",
          "Bardzo pozytywne",
          "Bardzo pozytywne",
          "W większości pozytywne",
          "Przytłaczająco pozytywne",
          "W większości pozytywne",
          "W większości pozytywne",
          "W większości pozytywne",
          "Bardzo pozytywne",
          "W większości pozytywne",
          "W większości pozytywne",
          "Przytłaczająco pozytywne",
          "Przytłaczająco pozytywne",
          "Bardzo pozytywne",
          "Bardzo pozytywne",
          "Bardzo pozytywne",
          "Bardzo pozytywne",
          "Przytłaczająco pozytywne",
          "Bardzo pozytywne",
          "W większości pozytywne",
          "Mieszane",
          "W większości pozytywne",
          "W większości negatywne",
          "Bardzo pozytywne",
          "Bardzo pozytywne",
          "Bardzo pozytywne",
          "W większości pozytywne",
          "Bardzo pozytywne",
          "Mieszane",
          "Bardzo pozytywne",
          "Przytłaczająco pozytywne",
          "Przytłaczająco pozytywne",
          "Bardzo pozytywne",
          "Mieszane",
          "W większości negatywne",
          "Mieszane",
          "Przytłaczająco pozytywne",
          "Bardzo pozytywne",
          "Bardzo pozytywne",
          "Bardzo pozytywne",
          "Bardzo pozytywne",
          "Bardzo pozytywne",
          "Bardzo pozytywne",
          "Przytłaczająco pozytywne",
          "Bardzo pozytywne",
          "Mieszane",
          "Mieszane",
          "W większości pozytywne",
          "Bardzo pozytywne",
          "Bardzo pozytywne",
          "Bardzo pozytywne",
          "Bardzo pozytywne",
          "Bardzo pozytywne",
          "Bardzo pozytywne",
          "W większości pozytywne",
          "Mieszane",
          "W większości pozytywne",
          "Bardzo pozytywne",
          "Bardzo pozytywne",
          "Bardzo pozytywne",
          "Bardzo pozytywne",
          "Bardzo pozytywne",
          "Mieszane",
          "Bardzo pozytywne",
          "Mieszane",
          "Bardzo pozytywne",
          "Bardzo pozytywne",
          "Mieszane",
          "Przytłaczająco pozytywne",
          "Bardzo pozytywne",
          "Bardzo pozytywne",
          "Bardzo pozytywne",
          "Mieszane",
          "Bardzo pozytywne",
          "W większości pozytywne",
          "W większości pozytywne",
          "Bardzo pozytywne",
          "Bardzo pozytywne",
          "Przytłaczająco pozytywne",
          "Bardzo pozytywne",
          "Mieszane",
          "Przytłaczająco pozytywne",
          "Przytłaczająco pozytywne",
          "Mieszane",
          "W większości pozytywne",
          "Bardzo pozytywne",
          "Przytłaczająco pozytywne",
          "Mieszane",
          "Bardzo pozytywne",
          "Mieszane",
          "Mieszane",
          "Przytłaczająco pozytywne",
          "Bardzo pozytywne",
          "Bardzo pozytywne",
          "Mieszane",
          "Bardzo pozytywne",
          "Bardzo pozytywne",
          "Bardzo pozytywne",
          "W większości pozytywne",
          "Bardzo pozytywne",
          "W większości pozytywne",
          "Mieszane",
          "Bardzo pozytywne",
          "W większości pozytywne",
          "Bardzo pozytywne",
          "Bardzo pozytywne",
          "Bardzo pozytywne",
          "Bardzo pozytywne",
          "Bardzo pozytywne",
          "Bardzo pozytywne",
          "Bardzo pozytywne",
          "Mieszane",
          "W większości pozytywne",
          "Przytłaczająco pozytywne",
          "Bardzo pozytywne",
          "Bardzo pozytywne",
          "Przytłaczająco pozytywne",
          "Bardzo pozytywne",
          "Bardzo pozytywne",
          "W większości pozytywne",
          "Bardzo pozytywne",
          "W większości pozytywne",
          "Przytłaczająco pozytywne",
          "Bardzo pozytywne",
          "W większości pozytywne",
          "Bardzo pozytywne",
          "Bardzo pozytywne",
          "W większości pozytywne",
          "Przytłaczająco pozytywne",
          "Bardzo pozytywne",
          "Pozytywne",
          "Bardzo pozytywne",
          "Bardzo pozytywne",
          "Bardzo pozytywne",
          "Bardzo pozytywne",
          "Bardzo pozytywne",
          "Bardzo pozytywne",
          "Przytłaczająco negatywne",
          "Przytłaczająco pozytywne",
          "Bardzo pozytywne",
          "W większości pozytywne",
          "Przytłaczająco pozytywne",
          "Mieszane",
          "Bardzo pozytywne",
          "Przytłaczająco pozytywne",
          "Mieszane",
          "Przytłaczająco pozytywne",
          "Bardzo pozytywne",
          "Bardzo pozytywne",
          "Bardzo pozytywne",
          "Bardzo pozytywne",
          "Bardzo pozytywne",
          "W większości pozytywne",
          "W większości pozytywne",
          "Bardzo pozytywne",
          "Bardzo pozytywne",
          "Przytłaczająco pozytywne",
          "Bardzo pozytywne",
          "Bardzo pozytywne",
          "Bardzo pozytywne",
          "Bardzo pozytywne",
          "Bardzo pozytywne",
          "Mieszane",
          "Przytłaczająco pozytywne",
          "Przytłaczająco pozytywne",
          "Bardzo pozytywne",
          "Przytłaczająco pozytywne",
          "Przytłaczająco pozytywne",
          "Bardzo pozytywne",
          "Mieszane",
          "Mieszane",
          "Bardzo pozytywne",
          "Bardzo pozytywne",
          "Bardzo pozytywne",
          "Bardzo pozytywne",
          "Bardzo pozytywne",
          "Bardzo pozytywne",
          "Pozytywne",
          "Mieszane",
          "Bardzo pozytywne",
          "W większości pozytywne",
          "Przytłaczająco pozytywne",
          "Bardzo pozytywne",
          "Bardzo pozytywne",
          "Bardzo pozytywne",
          "Bardzo pozytywne",
          "Mieszane",
          "Przytłaczająco pozytywne",
          "Bardzo pozytywne",
          "Bardzo pozytywne",
          "Bardzo pozytywne",
          "Pozytywne",
          "Bardzo pozytywne",
          "Mieszane",
          "Bardzo pozytywne",
          "Bardzo pozytywne",
          "Bardzo pozytywne",
          "Przytłaczająco pozytywne",
          "W większości pozytywne",
          "Mieszane",
          "Przytłaczająco pozytywne",
          "Bardzo pozytywne",
          "W większości pozytywne",
          "Bardzo pozytywne",
          "Przytłaczająco pozytywne",
          "Mieszane",
          "Bardzo pozytywne",
          "W większości pozytywne",
          "W większości pozytywne",
          "Bardzo pozytywne"
         ],
         "x0": " ",
         "xaxis": "x3",
         "y": [
          0,
          157.49,
          55.49,
          10.79,
          169,
          0,
          46.24,
          199,
          45.86,
          40.49,
          13.89,
          45.99,
          124.79,
          75.59,
          99.99,
          35.63,
          71.99,
          164.99,
          229.99,
          55.99,
          49.75,
          45.86,
          91.99,
          0,
          64.49,
          199.99,
          9.19,
          72.59,
          20.39,
          22.99,
          69.99,
          0,
          19.01,
          42.25,
          0,
          13.79,
          31.75,
          79.99,
          86.34,
          0,
          75,
          63.99,
          169.9,
          0,
          84.99,
          59.99,
          83.39,
          65.99,
          139.99,
          17.99,
          59.99,
          0,
          219,
          49.99,
          39.97,
          61.19,
          23.39,
          107.99,
          13.99,
          259,
          37.48,
          35.8,
          219,
          29.99,
          29.99,
          58.49,
          89.99,
          15.99,
          29.97,
          299,
          32.19,
          138.74,
          0,
          19.99,
          138.99,
          79,
          68.64,
          35.98,
          45.99,
          14.39,
          269.9,
          67.99,
          72.99,
          259,
          185.59,
          39.99,
          0,
          12.6,
          14.99,
          208.49,
          8.99,
          229,
          0,
          114.99,
          73.59,
          27.99,
          32.39,
          45.99,
          0,
          48.59,
          111.3,
          149.99,
          118.3,
          115.08,
          35.99,
          55.19,
          71.99,
          179,
          125.09,
          138.99,
          21.59,
          199.99,
          49.17,
          6.89,
          0,
          59.99,
          159.9,
          43.99,
          35.74,
          45.99,
          44.99,
          7.49,
          199,
          0,
          24.99,
          82.99,
          17.49,
          45.99,
          45.99,
          171.9,
          32.24,
          114.99,
          119,
          53.99,
          69.9,
          34.99,
          138.99,
          161.99,
          45.99,
          63.24,
          259,
          79.9,
          21.24,
          107.46,
          31.99,
          43.19,
          40.47,
          45.99,
          269.9,
          19.25,
          71.99,
          50,
          59.99,
          31.99,
          114.99,
          184.99,
          43.19,
          45.99,
          91.99,
          12.6,
          0,
          45.99,
          85.9,
          24.75,
          45.99,
          0,
          9.99,
          34.75,
          114.99,
          26.99,
          28.79,
          91.99,
          4.59,
          22.99,
          17.81,
          35.99,
          19.97,
          17.99,
          21.12,
          45.99,
          45.99,
          42.99,
          33.99,
          41.99,
          45.99,
          59.99,
          64.99,
          134,
          17.99,
          49.99,
          54.39,
          41.99,
          22.99,
          22.99,
          0,
          91.99,
          22.99,
          45.99,
          138.99,
          89.99,
          91.99,
          71.99,
          89.9,
          15.6,
          67.99,
          91.99,
          67.99,
          67.49,
          67.6,
          23.99,
          46.99,
          54.99,
          7.99,
          14.49,
          34.74,
          67.99,
          73.59,
          73.59,
          114.99,
          89.99,
          0,
          71.99,
          71.99,
          73.59,
          10.79,
          26.99,
          44.99,
          34.99,
          100,
          100,
          100,
          45.99,
          45.99,
          54.99,
          79.99,
          33.99,
          274.99,
          274.99,
          0,
          138.99,
          0,
          46.99,
          71.99,
          53.99,
          21.59,
          63.99,
          0,
          35.99,
          82.79,
          44.19,
          214.9,
          39.99,
          14.29,
          219.99,
          100,
          45.99,
          58.49,
          28.74,
          71.2,
          80.49,
          44.99,
          54.99,
          0,
          107.99,
          55.19,
          100,
          100,
          100,
          39.59,
          9.59,
          63.99,
          159.9,
          269.9,
          17.99,
          39,
          40.99,
          32.39,
          14.66,
          22.99,
          79,
          37.79,
          46.99,
          0,
          36.99,
          36.79,
          79.99,
          45.99,
          45.99,
          94.99,
          7.19,
          64.99,
          92.79,
          45,
          59.99,
          35.99,
          14.99,
          29.99,
          43.99,
          29.99,
          4.49,
          33.99,
          173.99,
          8.59
         ],
         "y0": " ",
         "yaxis": "y3"
        },
        {
         "customdata": [
          [
           "Marvel Rivals"
          ],
          [
           "Warhammer 40,000: Space Marine 2"
          ],
          [
           "Among Us"
          ],
          [
           "Stellaris"
          ],
          [
           "Cyberpunk 2077"
          ],
          [
           "Frostpunk"
          ],
          [
           "They Are Billions"
          ],
          [
           "Cyberpunk 2077: Widmo wolności"
          ],
          [
           "Planetary Annihilation: TITANS"
          ],
          [
           "Lies of P"
          ],
          [
           "S.T.A.L.K.E.R. 2: Heart of Chornobyl"
          ],
          [
           "BlazBlue Entropy Effect"
          ],
          [
           "Halo: The Master Chief Collection"
          ],
          [
           "Subnautica: Below Zero"
          ],
          [
           "Project Zomboid"
          ],
          [
           "Jurassic World Evolution 2"
          ],
          [
           "This War of Mine"
          ],
          [
           "Atomic Heart"
          ],
          [
           "Plague Inc: Evolved"
          ],
          [
           "Chained Together"
          ],
          [
           "Barotrauma"
          ],
          [
           "DOOM Eternal"
          ],
          [
           "Metro Exodus"
          ],
          [
           "The Invincible"
          ],
          [
           "Void Crew"
          ],
          [
           "Starship Troopers: Terran Command"
          ],
          [
           "Forever Skies"
          ],
          [
           "Days Gone"
          ],
          [
           "Horizon Forbidden West™ Edycja kompletna"
          ],
          [
           "The Long Dark"
          ],
          [
           "Chernobylite Complete Edition"
          ],
          [
           "Aliens: Dark Descent"
          ],
          [
           "Aliens: Fireteam Elite"
          ],
          [
           "LOCKDOWN Protocol"
          ],
          [
           "Terminator: Dark Fate - Defiance"
          ],
          [
           "STAR WARS™: The Old Republic™"
          ],
          [
           "Fallout 4"
          ],
          [
           "Nobody Wants to Die"
          ],
          [
           "Mass Effect™ Edycja legendarna"
          ],
          [
           "Stellaris: Grand Archive"
          ],
          [
           "The Long Drive"
          ],
          [
           "Ratchet & Clank: Rift Apart"
          ],
          [
           "Sins of a Solar Empire II"
          ],
          [
           "Metro 2033 Redux"
          ],
          [
           "BlazBlue Entropy Effect - Hazama Character Pack"
          ],
          [
           "7 Days to Die"
          ],
          [
           "LEGO ® Gwiezdne Wojny™: Saga Skywalkerów"
          ],
          [
           "Unturned"
          ],
          [
           "Stellaris: The Machine Age"
          ],
          [
           "Eden Crafters"
          ],
          [
           "From Glory To Goo"
          ],
          [
           "ZEPHON"
          ],
          [
           "High On Life"
          ],
          [
           "Alien: Isolation"
          ],
          [
           "Airborne Empire"
          ],
          [
           "ASTRONEER"
          ],
          [
           "Warhammer 40,000: Rogue Trader"
          ],
          [
           "Assassin's Creed® Syndicate"
          ],
          [
           "VLADiK BRUTAL"
          ],
          [
           "Quantum Break"
          ],
          [
           "Fallout: New Vegas"
          ],
          [
           "FANTASIAN Neo Dimension"
          ],
          [
           "Nuclear Option"
          ],
          [
           "AI: THE SOMNIUM FILES - nirvanA Initiative"
          ],
          [
           "Rain World"
          ],
          [
           "Arizona Sunshine® Remake"
          ],
          [
           "Aliens vs. Predator™"
          ],
          [
           "SPORE™"
          ],
          [
           "CRUEL"
          ],
          [
           "Stationeers"
          ],
          [
           "Beyond: Two Souls"
          ],
          [
           "Road 96 🛣️"
          ],
          [
           "Arizona Sunshine® 2"
          ],
          [
           "Amenti"
          ],
          [
           "MechWarrior 5: Mercenaries"
          ],
          [
           "Cyber Manhunt 2: New World - The Hacking Simulator"
          ],
          [
           "Space Engineers"
          ],
          [
           "Deep Rock Galactic: Survivor"
          ],
          [
           "Zompiercer"
          ],
          [
           "Nuclear Nightmare"
          ],
          [
           "Shadows of Doubt"
          ],
          [
           "State of Decay 2: Juggernaut Edition"
          ],
          [
           "Uncle Chop's Rocket Shop"
          ],
          [
           "Metro: Last Light Redux"
          ],
          [
           "XCOM: Enemy Unknown"
          ],
          [
           "Halo Wars: Definitive Edition"
          ],
          [
           "Sovereign Syndicate"
          ],
          [
           "Homeworld Remastered Collection"
          ],
          [
           "Into the Breach"
          ],
          [
           "Jurassic World Evolution 2: Dominion Biosyn Expansion"
          ],
          [
           "Bridge Constructor Portal"
          ],
          [
           "Saints Row IV: Re-Elected"
          ],
          [
           "STEINS;GATE ELITE"
          ],
          [
           "Drill Core"
          ],
          [
           "Quake 4"
          ],
          [
           "Neon Abyss"
          ],
          [
           "Risk of Rain 2: Survivors of the Void"
          ],
          [
           "Obenseuer"
          ],
          [
           "Pacify"
          ],
          [
           "LEGO® Star Wars™ III - The Clone Wars™"
          ],
          [
           "Stellar Warfare"
          ],
          [
           "Surviving Mars"
          ],
          [
           "Fallout 3: Game of the Year Edition"
          ],
          [
           "ENDER LILIES: Quietus of the Knights"
          ],
          [
           "S.T.A.L.K.E.R.: Shadow of Chernobyl"
          ],
          [
           "Mirror's Edge™"
          ],
          [
           "DOOM 3"
          ],
          [
           "Executive Assault 2"
          ],
          [
           "System Shock"
          ],
          [
           "Oxygen Not Included - Spaced Out!"
          ],
          [
           "SurrounDead"
          ],
          [
           "Jurassic World Evolution 2: Early Cretaceous Pack"
          ],
          [
           "Rogue Command"
          ],
          [
           "Avorion"
          ],
          [
           "Project Wingman"
          ],
          [
           "HELLDIVERS™ Dive Harder Edition"
          ],
          [
           "Zero Escape: The Nonary Games"
          ],
          [
           "Crying Suns"
          ],
          [
           "Dune: Spice Wars - House Vernius of Ix"
          ],
          [
           "60 Seconds!"
          ],
          [
           "Command & Conquer 3: Gniew Kane'a"
          ],
          [
           "Command & Conquer 3: Wojny o tyberium"
          ],
          [
           "Togainu no Chi ~Lost Blood~"
          ],
          [
           "No Man's Sky"
          ],
          [
           "Fallout Shelter"
          ],
          [
           "Supreme Commander 2"
          ],
          [
           "Starcom: Nexus"
          ],
          [
           "Serious Sam HD: The First Encounter"
          ],
          [
           "FAR: Changing Tides"
          ],
          [
           "Space Haven"
          ],
          [
           "BLADE CHIMERA"
          ],
          [
           "XCOM® 2"
          ],
          [
           "Jurassic World Evolution"
          ],
          [
           "AI: The Somnium Files"
          ],
          [
           "EVERSPACE™ 2"
          ],
          [
           "Command & Conquer™ Red Alert™ 3"
          ],
          [
           "Quasimorph"
          ],
          [
           "Endoparasitic 2"
          ],
          [
           "Sins of a Solar Empire®: Rebellion"
          ],
          [
           "Command & Conquer™ Tiberian Sun™ and Firestorm™"
          ],
          [
           "Command & Conquer™ Red Alert™ 3- Powstanie"
          ],
          [
           "Command & Conquer Red Alert™ 2 and Yuri’s Revenge™"
          ],
          [
           "Outer Wilds - Echoes of the Eye"
          ],
          [
           "Beholder"
          ],
          [
           "Dead Space"
          ],
          [
           "Murky Divers"
          ],
          [
           "Wasteland 2: Director's Cut"
          ],
          [
           "Takara Cards"
          ],
          [
           "Unturned - Permanent Gold Upgrade"
          ],
          [
           "Bio Inc. Redemption"
          ],
          [
           "Galaxy Life"
          ],
          [
           "Iron Lung"
          ],
          [
           "Warhammer 40,000: Boltgun"
          ],
          [
           "Serious Sam 2"
          ],
          [
           "Starcom: Unknown Space"
          ],
          [
           "Zero Escape: Zero Time Dilemma"
          ],
          [
           "S.T.A.L.K.E.R.: Clear Sky"
          ],
          [
           "SUPERHOT"
          ],
          [
           "Bridge Constructor Portal - Portal Proficiency"
          ],
          [
           "Original War"
          ]
         ],
         "hovertemplate": "Nacechowanie recenzji=Bardzo pozytywne<br>Rok wydania=%{x}<br>Cena=%{y}<br>Tytuł=%{customdata[0]}<extra></extra>",
         "legendgroup": "Bardzo pozytywne",
         "marker": {
          "color": "#636efa",
          "symbol": "circle"
         },
         "mode": "markers",
         "name": "Bardzo pozytywne",
         "orientation": "v",
         "showlegend": true,
         "type": "scatter",
         "x": [
          2024,
          2024,
          2018,
          2016,
          2020,
          2018,
          2019,
          2023,
          2015,
          2023,
          2024,
          2024,
          2019,
          2021,
          2013,
          2021,
          2014,
          2023,
          2016,
          2024,
          2023,
          2020,
          2020,
          2023,
          2024,
          2022,
          2023,
          2021,
          2024,
          2017,
          2021,
          2023,
          2021,
          2024,
          2024,
          2020,
          2015,
          2024,
          2021,
          2024,
          2019,
          2023,
          2024,
          2014,
          2025,
          2024,
          2022,
          2017,
          2024,
          2024,
          2024,
          2024,
          2022,
          2014,
          2025,
          2019,
          2023,
          2015,
          2024,
          2016,
          2010,
          2024,
          2023,
          2022,
          2017,
          2024,
          2010,
          2008,
          2025,
          2017,
          2020,
          2021,
          2023,
          2025,
          2021,
          2025,
          2019,
          2024,
          2020,
          2024,
          2024,
          2020,
          2024,
          2014,
          2012,
          2017,
          2024,
          2015,
          2018,
          2022,
          2017,
          2013,
          2019,
          2024,
          2011,
          2020,
          2022,
          2018,
          2019,
          2011,
          2021,
          2018,
          2009,
          2021,
          2007,
          2009,
          2012,
          2023,
          2023,
          2021,
          2022,
          2021,
          2024,
          2020,
          2020,
          2015,
          2017,
          2019,
          2024,
          2015,
          2009,
          2009,
          2020,
          2016,
          2017,
          2010,
          2019,
          2009,
          2022,
          2020,
          2025,
          2016,
          2018,
          2019,
          2023,
          2009,
          2023,
          2024,
          2012,
          2024,
          2009,
          2024,
          2021,
          2016,
          2023,
          2024,
          2014,
          2025,
          2014,
          2018,
          2022,
          2022,
          2023,
          2012,
          2024,
          2016,
          2008,
          2016,
          2019,
          2014
         ],
         "xaxis": "x4",
         "y": [
          0,
          157.49,
          10.79,
          46.24,
          199,
          13.89,
          75.59,
          99.99,
          35.63,
          164.99,
          229.99,
          55.99,
          49.75,
          45.86,
          91.99,
          64.49,
          9.19,
          72.59,
          20.39,
          22.99,
          69.99,
          42.25,
          31.75,
          75,
          63.99,
          83.39,
          65.99,
          219,
          259,
          29.99,
          29.99,
          58.49,
          29.97,
          32.19,
          138.74,
          0,
          79,
          68.64,
          269.9,
          67.99,
          72.99,
          259,
          185.59,
          12.6,
          14.99,
          208.49,
          229,
          0,
          114.99,
          73.59,
          27.99,
          149.99,
          71.99,
          179,
          125.09,
          138.99,
          199.99,
          159.9,
          43.99,
          35.74,
          44.99,
          199,
          82.99,
          32.24,
          114.99,
          119,
          53.99,
          69.9,
          34.99,
          161.99,
          79.9,
          21.24,
          107.46,
          31.99,
          43.19,
          40.47,
          71.99,
          50,
          59.99,
          31.99,
          114.99,
          43.19,
          91.99,
          12.6,
          85.9,
          24.75,
          45.99,
          9.99,
          26.99,
          28.79,
          4.59,
          21.12,
          42.99,
          59.99,
          64.99,
          17.99,
          49.99,
          54.39,
          22.99,
          91.99,
          45.99,
          138.99,
          89.99,
          91.99,
          71.99,
          89.9,
          15.6,
          67.49,
          67.6,
          46.99,
          54.99,
          14.49,
          73.59,
          114.99,
          89.99,
          71.99,
          10.79,
          26.99,
          44.99,
          34.99,
          100,
          100,
          45.99,
          274.99,
          0,
          46.99,
          71.99,
          53.99,
          21.59,
          35.99,
          82.79,
          214.9,
          39.99,
          14.29,
          219.99,
          100,
          71.2,
          54.99,
          55.19,
          100,
          100,
          100,
          39.59,
          9.59,
          269.9,
          40.99,
          32.39,
          14.66,
          22.99,
          46.99,
          0,
          36.99,
          79.99,
          45.99,
          94.99,
          7.19,
          35.99,
          29.99,
          4.49,
          8.59
         ],
         "yaxis": "y4"
        },
        {
         "customdata": [
          [
           "Detroit: Become Human"
          ],
          [
           "Subnautica"
          ],
          [
           "Lethal Company"
          ],
          [
           "Stray"
          ],
          [
           "Brotato"
          ],
          [
           "Outer Wilds"
          ],
          [
           "RimWorld"
          ],
          [
           "Mouthwashing"
          ],
          [
           "Deep Rock Galactic"
          ],
          [
           "Oxygen Not Included"
          ],
          [
           "DOOM"
          ],
          [
           "Warhammer 40,000: Dawn of War - Anniversary Edition"
          ],
          [
           "Beat Saber"
          ],
          [
           "Left 4 Dead 2"
          ],
          [
           "Severed Steel"
          ],
          [
           "Portal 2"
          ],
          [
           "Creeper World 4"
          ],
          [
           "DRAMAtical Murder"
          ],
          [
           "STEINS;GATE"
          ],
          [
           "Life is Strange - Episode 1"
          ],
          [
           "STEINS;GATE 0"
          ],
          [
           "Kerbal Space Program"
          ],
          [
           "Nine Sols"
          ],
          [
           "Half-Life 2"
          ],
          [
           "Black Mesa"
          ],
          [
           "Creeper World 3: Arc Eternal"
          ],
          [
           "Half-Life"
          ],
          [
           "Papers, Please"
          ],
          [
           "Portal"
          ],
          [
           "Beyond Citadel"
          ],
          [
           "Dystopika"
          ],
          [
           "The Walking Dead"
          ],
          [
           "Turing Complete"
          ],
          [
           "Left 4 Dead"
          ],
          [
           "Gloomwood"
          ],
          [
           "Half-Life: Alyx"
          ],
          [
           "Caves of Qud"
          ],
          [
           "SANABI"
          ],
          [
           "MULLET MADJACK"
          ],
          [
           "The Forgotten City"
          ],
          [
           "The Planet Crafter"
          ],
          [
           "Cosmoteer: Starship Architect & Commander"
          ],
          [
           "Quake II"
          ],
          [
           "DRAINUS"
          ],
          [
           "shapez 2"
          ],
          [
           "Spaceflight Simulator"
          ],
          [
           "Nuclear Throne"
          ]
         ],
         "hovertemplate": "Nacechowanie recenzji=Przytłaczająco pozytywne<br>Rok wydania=%{x}<br>Cena=%{y}<br>Tytuł=%{customdata[0]}<extra></extra>",
         "legendgroup": "Przytłaczająco pozytywne",
         "marker": {
          "color": "#EF553B",
          "symbol": "circle"
         },
         "mode": "markers",
         "name": "Przytłaczająco pozytywne",
         "orientation": "v",
         "showlegend": true,
         "type": "scatter",
         "x": [
          2020,
          2018,
          2023,
          2022,
          2023,
          2020,
          2018,
          2024,
          2020,
          2019,
          2016,
          2007,
          2019,
          2009,
          2021,
          2011,
          2020,
          2021,
          2016,
          2015,
          2018,
          2015,
          2024,
          2004,
          2020,
          2014,
          1998,
          2013,
          2007,
          2025,
          2024,
          2012,
          2021,
          2008,
          2022,
          2020,
          2024,
          2023,
          2024,
          2021,
          2024,
          2022,
          2007,
          2022,
          2024,
          2022,
          2015
         ],
         "xaxis": "x4",
         "y": [
          55.49,
          45.86,
          45.99,
          71.99,
          13.79,
          59.99,
          139.99,
          59.99,
          107.99,
          89.99,
          15.99,
          19.99,
          138.99,
          45.99,
          8.99,
          45.99,
          35.99,
          55.19,
          21.59,
          0,
          24.99,
          171.9,
          138.99,
          45.99,
          91.99,
          17.81,
          35.99,
          45.99,
          45.99,
          67.99,
          23.99,
          67.99,
          71.99,
          45.99,
          79.99,
          274.99,
          138.99,
          44.19,
          58.49,
          28.74,
          80.49,
          44.99,
          39,
          37.79,
          64.99,
          59.99,
          43.99
         ],
         "yaxis": "y4"
        },
        {
         "customdata": [
          [
           "HELLDIVERS™ 2"
          ],
          [
           "ICARUS"
          ],
          [
           "Frostpunk 2"
          ],
          [
           "Dying Light 2 Stay Human: Reloaded Edition"
          ],
          [
           "Crossout"
          ],
          [
           "Iron Harvest"
          ],
          [
           "Infection Free Zone"
          ],
          [
           "Dune: Spice Wars"
          ],
          [
           "Fallout 76"
          ],
          [
           "Once Human"
          ],
          [
           "Warhammer 40,000: Darktide"
          ],
          [
           "New Cycle"
          ],
          [
           "Tom Clancy’s The Division® 2"
          ],
          [
           "IDUN"
          ],
          [
           "Frostpunk: The Last Autumn"
          ],
          [
           "Battlefleet Gothic: Armada 2"
          ],
          [
           "Horizon Zero Dawn™ Remastered"
          ],
          [
           "Far Cry® New Dawn"
          ],
          [
           "Destiny 2"
          ],
          [
           "Hidden Deep"
          ],
          [
           "Phantasy Star Online 2 New Genesis"
          ],
          [
           "Warhammer 40,000: Chaos Gate - Daemonhunters"
          ],
          [
           "Metro Awakening"
          ],
          [
           "Empire of the Ants"
          ],
          [
           "The Forever Winter"
          ],
          [
           "Gears Tactics"
          ],
          [
           "Tower of Fantasy"
          ],
          [
           "Stellaris: Utopia"
          ],
          [
           "The Last of Us™ Part I"
          ],
          [
           "Stellaris: Federations"
          ],
          [
           "Plague Inc: The Cure"
          ],
          [
           "Scorn"
          ],
          [
           "Ghosts of Tabor"
          ],
          [
           "Homeworld: Deserts of Kharak"
          ],
          [
           "Moon Mystery"
          ],
          [
           "Stellaris: Synthetic Dawn Story Pack"
          ],
          [
           "Stellaris: Leviathans Story Pack"
          ],
          [
           "Elite Dangerous"
          ],
          [
           "CryoFall"
          ],
          [
           "Ashes of the Singularity: Escalation"
          ],
          [
           "Exoplanet: First Contact"
          ],
          [
           "Halo Infinite"
          ],
          [
           "Heat Death: Survival Train"
          ],
          [
           "Out of Orbit"
          ],
          [
           "Snowbreak: Containment Zone"
          ],
          [
           "Machinika: Atlas"
          ],
          [
           "Distant Worlds 2"
          ],
          [
           "The Surge 2"
          ],
          [
           "Iron Marines Invasion"
          ],
          [
           "MechWarrior 5: Clans"
          ]
         ],
         "hovertemplate": "Nacechowanie recenzji=W większości pozytywne<br>Rok wydania=%{x}<br>Cena=%{y}<br>Tytuł=%{customdata[0]}<extra></extra>",
         "legendgroup": "W większości pozytywne",
         "marker": {
          "color": "#00cc96",
          "symbol": "circle"
         },
         "mode": "markers",
         "name": "W większości pozytywne",
         "orientation": "v",
         "showlegend": true,
         "type": "scatter",
         "x": [
          2024,
          2021,
          2024,
          2022,
          2017,
          2020,
          2024,
          2023,
          2020,
          2024,
          2022,
          2024,
          2023,
          2025,
          2020,
          2019,
          2024,
          2019,
          2019,
          2022,
          2020,
          2022,
          2024,
          2024,
          2024,
          2020,
          2022,
          2017,
          2023,
          2020,
          2021,
          2022,
          2023,
          2016,
          2024,
          2017,
          2016,
          2015,
          2021,
          2016,
          2016,
          2021,
          2024,
          2023,
          2023,
          2024,
          2022,
          2019,
          2023,
          2024
         ],
         "xaxis": "x4",
         "y": [
          169,
          40.49,
          124.79,
          199.99,
          0,
          19.01,
          79.99,
          86.34,
          169.9,
          0,
          84.99,
          49.99,
          39.97,
          61.19,
          23.39,
          13.99,
          219,
          35.98,
          0,
          32.39,
          0,
          48.59,
          111.3,
          118.3,
          115.08,
          49.17,
          0,
          45.99,
          259,
          45.99,
          19.25,
          34.75,
          114.99,
          17.99,
          41.99,
          22.99,
          22.99,
          91.99,
          7.99,
          34.74,
          73.59,
          0,
          54.99,
          63.99,
          0,
          17.99,
          92.79,
          14.99,
          33.99,
          173.99
         ],
         "yaxis": "y4"
        },
        {
         "customdata": [
          [
           "Apex Legends™"
          ],
          [
           "The First Descendant"
          ],
          [
           "Echocalypse: The Scarlet Covenant"
          ],
          [
           "Frostpunk: On The Edge"
          ],
          [
           "War Robots"
          ],
          [
           "Watch Dogs®: Legion"
          ],
          [
           "Warhammer 40,000: Dawn of War III"
          ],
          [
           "Starfield"
          ],
          [
           "Brotato: Abyssal Terrors"
          ],
          [
           "Arma 3 Contact"
          ],
          [
           "Frostpunk: The Rifts"
          ],
          [
           "Battlefleet Gothic: Armada"
          ],
          [
           "Battlefleet Gothic: Armada 2 - Chaos Campaign Expansion"
          ],
          [
           "Stellaris: Nemesis"
          ],
          [
           "Stellaris: Apocalypse"
          ],
          [
           "Outpost: Infinity Siege"
          ],
          [
           "Battlefield™ 2042"
          ],
          [
           "Alien: Rogue Incursion"
          ],
          [
           "Stellaris: Overlord"
          ],
          [
           "Infinite Lagrange"
          ],
          [
           "Build Master: MarsVille"
          ],
          [
           "Stellaris: Distant Stars Story Pack"
          ],
          [
           "Anno 2070™"
          ],
          [
           "Stellaris: MegaCorp"
          ],
          [
           "Stellaris: Galactic Paragons"
          ],
          [
           "ASTRONEER: Glitchwalkers"
          ],
          [
           "DISORDER"
          ],
          [
           "Warhammer 40,000: Warpforge"
          ],
          [
           "Elite Dangerous: Odyssey"
          ],
          [
           "Stellaris: First Contact Story Pack"
          ],
          [
           "Doomsday: Last Survivors"
          ],
          [
           "Stormworks: Space"
          ],
          [
           "FINAL FANTASY VII EVER CRISIS"
          ],
          [
           "Aliens: Colonial Marines Collection"
          ],
          [
           "Anno 2205™"
          ],
          [
           "The Elder Scrolls V: Skyrim Anniversary Upgrade"
          ],
          [
           "Fera: The Sundered Tribes"
          ],
          [
           "Arkanoid - Eternal Battle"
          ],
          [
           "Necromunda: Hired Gun"
          ]
         ],
         "hovertemplate": "Nacechowanie recenzji=Mieszane<br>Rok wydania=%{x}<br>Cena=%{y}<br>Tytuł=%{customdata[0]}<extra></extra>",
         "legendgroup": "Mieszane",
         "marker": {
          "color": "#ab63fa",
          "symbol": "circle"
         },
         "mode": "markers",
         "name": "Mieszane",
         "orientation": "v",
         "showlegend": true,
         "type": "scatter",
         "x": [
          2020,
          2024,
          2024,
          2020,
          2018,
          2023,
          2017,
          2023,
          2024,
          2019,
          2019,
          2016,
          2019,
          2021,
          2018,
          2024,
          2021,
          2024,
          2022,
          2021,
          2023,
          2018,
          2011,
          2018,
          2023,
          2024,
          2025,
          2024,
          2021,
          2023,
          2023,
          2023,
          2023,
          2012,
          2015,
          2021,
          2024,
          2022,
          2021
         ],
         "xaxis": "x4",
         "y": [
          0,
          0,
          0,
          17.99,
          0,
          37.48,
          35.8,
          299,
          14.39,
          39.99,
          6.89,
          7.49,
          17.49,
          45.99,
          45.99,
          63.24,
          269.9,
          184.99,
          45.99,
          0,
          0,
          22.99,
          19.97,
          45.99,
          33.99,
          41.99,
          134,
          0,
          67.99,
          33.99,
          0,
          45.99,
          0,
          107.99,
          159.9,
          79,
          45.99,
          45,
          29.99
         ],
         "yaxis": "y4"
        },
        {
         "customdata": [
          [
           "Overwatch® 2"
          ],
          [
           "Stellaris: Cosmic Storms"
          ],
          [
           "Stellaris: Astral Planes"
          ]
         ],
         "hovertemplate": "Nacechowanie recenzji=W większości negatywne<br>Rok wydania=%{x}<br>Cena=%{y}<br>Tytuł=%{customdata[0]}<extra></extra>",
         "legendgroup": "W większości negatywne",
         "marker": {
          "color": "#FFA15A",
          "symbol": "circle"
         },
         "mode": "markers",
         "name": "W większości negatywne",
         "orientation": "v",
         "showlegend": true,
         "type": "scatter",
         "x": [
          2023,
          2024,
          2023
         ],
         "xaxis": "x4",
         "y": [
          0,
          59.99,
          45.99
         ],
         "yaxis": "y4"
        },
        {
         "customdata": [
          [
           "SACRIFICE VILLAINS"
          ],
          [
           "Icarus: Creature Comforts Pack"
          ],
          [
           "Quasimorph - Supporter Pack"
          ]
         ],
         "hovertemplate": "Nacechowanie recenzji=Pozytywne<br>Rok wydania=%{x}<br>Cena=%{y}<br>Tytuł=%{customdata[0]}<extra></extra>",
         "legendgroup": "Pozytywne",
         "marker": {
          "color": "#19d3f3",
          "symbol": "circle"
         },
         "mode": "markers",
         "name": "Pozytywne",
         "orientation": "v",
         "showlegend": true,
         "type": "scatter",
         "x": [
          2025,
          2024,
          2023
         ],
         "xaxis": "x4",
         "y": [
          73.59,
          63.99,
          36.79
         ],
         "yaxis": "y4"
        },
        {
         "customdata": [
          [
           "Command & Conquer™ 4 Tyberyjski zmierzch"
          ]
         ],
         "hovertemplate": "Nacechowanie recenzji=Przytłaczająco negatywne<br>Rok wydania=%{x}<br>Cena=%{y}<br>Tytuł=%{customdata[0]}<extra></extra>",
         "legendgroup": "Przytłaczająco negatywne",
         "marker": {
          "color": "#FF6692",
          "symbol": "circle"
         },
         "mode": "markers",
         "name": "Przytłaczająco negatywne",
         "orientation": "v",
         "showlegend": true,
         "type": "scatter",
         "x": [
          2010
         ],
         "xaxis": "x4",
         "y": [
          100
         ],
         "yaxis": "y4"
        }
       ],
       "layout": {
        "annotations": [
         {
          "font": {
           "size": 16
          },
          "showarrow": false,
          "text": "Rozkład cen",
          "x": 0.225,
          "xanchor": "center",
          "xref": "paper",
          "y": 1,
          "yanchor": "bottom",
          "yref": "paper"
         },
         {
          "font": {
           "size": 16
          },
          "showarrow": false,
          "text": "Cena vs. liczba recenzji",
          "x": 0.775,
          "xanchor": "center",
          "xref": "paper",
          "y": 1,
          "yanchor": "bottom",
          "yref": "paper"
         },
         {
          "font": {
           "size": 16
          },
          "showarrow": false,
          "text": "Cena vs. nacechowanie recenzji",
          "x": 0.225,
          "xanchor": "center",
          "xref": "paper",
          "y": 0.375,
          "yanchor": "bottom",
          "yref": "paper"
         },
         {
          "font": {
           "size": 16
          },
          "showarrow": false,
          "text": "Cena vs. rok wydania",
          "x": 0.775,
          "xanchor": "center",
          "xref": "paper",
          "y": 0.375,
          "yanchor": "bottom",
          "yref": "paper"
         }
        ],
        "height": 800,
        "template": {
         "data": {
          "bar": [
           {
            "error_x": {
             "color": "#2a3f5f"
            },
            "error_y": {
             "color": "#2a3f5f"
            },
            "marker": {
             "line": {
              "color": "#E5ECF6",
              "width": 0.5
             },
             "pattern": {
              "fillmode": "overlay",
              "size": 10,
              "solidity": 0.2
             }
            },
            "type": "bar"
           }
          ],
          "barpolar": [
           {
            "marker": {
             "line": {
              "color": "#E5ECF6",
              "width": 0.5
             },
             "pattern": {
              "fillmode": "overlay",
              "size": 10,
              "solidity": 0.2
             }
            },
            "type": "barpolar"
           }
          ],
          "carpet": [
           {
            "aaxis": {
             "endlinecolor": "#2a3f5f",
             "gridcolor": "white",
             "linecolor": "white",
             "minorgridcolor": "white",
             "startlinecolor": "#2a3f5f"
            },
            "baxis": {
             "endlinecolor": "#2a3f5f",
             "gridcolor": "white",
             "linecolor": "white",
             "minorgridcolor": "white",
             "startlinecolor": "#2a3f5f"
            },
            "type": "carpet"
           }
          ],
          "choropleth": [
           {
            "colorbar": {
             "outlinewidth": 0,
             "ticks": ""
            },
            "type": "choropleth"
           }
          ],
          "contour": [
           {
            "colorbar": {
             "outlinewidth": 0,
             "ticks": ""
            },
            "colorscale": [
             [
              0,
              "#0d0887"
             ],
             [
              0.1111111111111111,
              "#46039f"
             ],
             [
              0.2222222222222222,
              "#7201a8"
             ],
             [
              0.3333333333333333,
              "#9c179e"
             ],
             [
              0.4444444444444444,
              "#bd3786"
             ],
             [
              0.5555555555555556,
              "#d8576b"
             ],
             [
              0.6666666666666666,
              "#ed7953"
             ],
             [
              0.7777777777777778,
              "#fb9f3a"
             ],
             [
              0.8888888888888888,
              "#fdca26"
             ],
             [
              1,
              "#f0f921"
             ]
            ],
            "type": "contour"
           }
          ],
          "contourcarpet": [
           {
            "colorbar": {
             "outlinewidth": 0,
             "ticks": ""
            },
            "type": "contourcarpet"
           }
          ],
          "heatmap": [
           {
            "colorbar": {
             "outlinewidth": 0,
             "ticks": ""
            },
            "colorscale": [
             [
              0,
              "#0d0887"
             ],
             [
              0.1111111111111111,
              "#46039f"
             ],
             [
              0.2222222222222222,
              "#7201a8"
             ],
             [
              0.3333333333333333,
              "#9c179e"
             ],
             [
              0.4444444444444444,
              "#bd3786"
             ],
             [
              0.5555555555555556,
              "#d8576b"
             ],
             [
              0.6666666666666666,
              "#ed7953"
             ],
             [
              0.7777777777777778,
              "#fb9f3a"
             ],
             [
              0.8888888888888888,
              "#fdca26"
             ],
             [
              1,
              "#f0f921"
             ]
            ],
            "type": "heatmap"
           }
          ],
          "heatmapgl": [
           {
            "colorbar": {
             "outlinewidth": 0,
             "ticks": ""
            },
            "colorscale": [
             [
              0,
              "#0d0887"
             ],
             [
              0.1111111111111111,
              "#46039f"
             ],
             [
              0.2222222222222222,
              "#7201a8"
             ],
             [
              0.3333333333333333,
              "#9c179e"
             ],
             [
              0.4444444444444444,
              "#bd3786"
             ],
             [
              0.5555555555555556,
              "#d8576b"
             ],
             [
              0.6666666666666666,
              "#ed7953"
             ],
             [
              0.7777777777777778,
              "#fb9f3a"
             ],
             [
              0.8888888888888888,
              "#fdca26"
             ],
             [
              1,
              "#f0f921"
             ]
            ],
            "type": "heatmapgl"
           }
          ],
          "histogram": [
           {
            "marker": {
             "pattern": {
              "fillmode": "overlay",
              "size": 10,
              "solidity": 0.2
             }
            },
            "type": "histogram"
           }
          ],
          "histogram2d": [
           {
            "colorbar": {
             "outlinewidth": 0,
             "ticks": ""
            },
            "colorscale": [
             [
              0,
              "#0d0887"
             ],
             [
              0.1111111111111111,
              "#46039f"
             ],
             [
              0.2222222222222222,
              "#7201a8"
             ],
             [
              0.3333333333333333,
              "#9c179e"
             ],
             [
              0.4444444444444444,
              "#bd3786"
             ],
             [
              0.5555555555555556,
              "#d8576b"
             ],
             [
              0.6666666666666666,
              "#ed7953"
             ],
             [
              0.7777777777777778,
              "#fb9f3a"
             ],
             [
              0.8888888888888888,
              "#fdca26"
             ],
             [
              1,
              "#f0f921"
             ]
            ],
            "type": "histogram2d"
           }
          ],
          "histogram2dcontour": [
           {
            "colorbar": {
             "outlinewidth": 0,
             "ticks": ""
            },
            "colorscale": [
             [
              0,
              "#0d0887"
             ],
             [
              0.1111111111111111,
              "#46039f"
             ],
             [
              0.2222222222222222,
              "#7201a8"
             ],
             [
              0.3333333333333333,
              "#9c179e"
             ],
             [
              0.4444444444444444,
              "#bd3786"
             ],
             [
              0.5555555555555556,
              "#d8576b"
             ],
             [
              0.6666666666666666,
              "#ed7953"
             ],
             [
              0.7777777777777778,
              "#fb9f3a"
             ],
             [
              0.8888888888888888,
              "#fdca26"
             ],
             [
              1,
              "#f0f921"
             ]
            ],
            "type": "histogram2dcontour"
           }
          ],
          "mesh3d": [
           {
            "colorbar": {
             "outlinewidth": 0,
             "ticks": ""
            },
            "type": "mesh3d"
           }
          ],
          "parcoords": [
           {
            "line": {
             "colorbar": {
              "outlinewidth": 0,
              "ticks": ""
             }
            },
            "type": "parcoords"
           }
          ],
          "pie": [
           {
            "automargin": true,
            "type": "pie"
           }
          ],
          "scatter": [
           {
            "fillpattern": {
             "fillmode": "overlay",
             "size": 10,
             "solidity": 0.2
            },
            "type": "scatter"
           }
          ],
          "scatter3d": [
           {
            "line": {
             "colorbar": {
              "outlinewidth": 0,
              "ticks": ""
             }
            },
            "marker": {
             "colorbar": {
              "outlinewidth": 0,
              "ticks": ""
             }
            },
            "type": "scatter3d"
           }
          ],
          "scattercarpet": [
           {
            "marker": {
             "colorbar": {
              "outlinewidth": 0,
              "ticks": ""
             }
            },
            "type": "scattercarpet"
           }
          ],
          "scattergeo": [
           {
            "marker": {
             "colorbar": {
              "outlinewidth": 0,
              "ticks": ""
             }
            },
            "type": "scattergeo"
           }
          ],
          "scattergl": [
           {
            "marker": {
             "colorbar": {
              "outlinewidth": 0,
              "ticks": ""
             }
            },
            "type": "scattergl"
           }
          ],
          "scattermapbox": [
           {
            "marker": {
             "colorbar": {
              "outlinewidth": 0,
              "ticks": ""
             }
            },
            "type": "scattermapbox"
           }
          ],
          "scatterpolar": [
           {
            "marker": {
             "colorbar": {
              "outlinewidth": 0,
              "ticks": ""
             }
            },
            "type": "scatterpolar"
           }
          ],
          "scatterpolargl": [
           {
            "marker": {
             "colorbar": {
              "outlinewidth": 0,
              "ticks": ""
             }
            },
            "type": "scatterpolargl"
           }
          ],
          "scatterternary": [
           {
            "marker": {
             "colorbar": {
              "outlinewidth": 0,
              "ticks": ""
             }
            },
            "type": "scatterternary"
           }
          ],
          "surface": [
           {
            "colorbar": {
             "outlinewidth": 0,
             "ticks": ""
            },
            "colorscale": [
             [
              0,
              "#0d0887"
             ],
             [
              0.1111111111111111,
              "#46039f"
             ],
             [
              0.2222222222222222,
              "#7201a8"
             ],
             [
              0.3333333333333333,
              "#9c179e"
             ],
             [
              0.4444444444444444,
              "#bd3786"
             ],
             [
              0.5555555555555556,
              "#d8576b"
             ],
             [
              0.6666666666666666,
              "#ed7953"
             ],
             [
              0.7777777777777778,
              "#fb9f3a"
             ],
             [
              0.8888888888888888,
              "#fdca26"
             ],
             [
              1,
              "#f0f921"
             ]
            ],
            "type": "surface"
           }
          ],
          "table": [
           {
            "cells": {
             "fill": {
              "color": "#EBF0F8"
             },
             "line": {
              "color": "white"
             }
            },
            "header": {
             "fill": {
              "color": "#C8D4E3"
             },
             "line": {
              "color": "white"
             }
            },
            "type": "table"
           }
          ]
         },
         "layout": {
          "annotationdefaults": {
           "arrowcolor": "#2a3f5f",
           "arrowhead": 0,
           "arrowwidth": 1
          },
          "autotypenumbers": "strict",
          "coloraxis": {
           "colorbar": {
            "outlinewidth": 0,
            "ticks": ""
           }
          },
          "colorscale": {
           "diverging": [
            [
             0,
             "#8e0152"
            ],
            [
             0.1,
             "#c51b7d"
            ],
            [
             0.2,
             "#de77ae"
            ],
            [
             0.3,
             "#f1b6da"
            ],
            [
             0.4,
             "#fde0ef"
            ],
            [
             0.5,
             "#f7f7f7"
            ],
            [
             0.6,
             "#e6f5d0"
            ],
            [
             0.7,
             "#b8e186"
            ],
            [
             0.8,
             "#7fbc41"
            ],
            [
             0.9,
             "#4d9221"
            ],
            [
             1,
             "#276419"
            ]
           ],
           "sequential": [
            [
             0,
             "#0d0887"
            ],
            [
             0.1111111111111111,
             "#46039f"
            ],
            [
             0.2222222222222222,
             "#7201a8"
            ],
            [
             0.3333333333333333,
             "#9c179e"
            ],
            [
             0.4444444444444444,
             "#bd3786"
            ],
            [
             0.5555555555555556,
             "#d8576b"
            ],
            [
             0.6666666666666666,
             "#ed7953"
            ],
            [
             0.7777777777777778,
             "#fb9f3a"
            ],
            [
             0.8888888888888888,
             "#fdca26"
            ],
            [
             1,
             "#f0f921"
            ]
           ],
           "sequentialminus": [
            [
             0,
             "#0d0887"
            ],
            [
             0.1111111111111111,
             "#46039f"
            ],
            [
             0.2222222222222222,
             "#7201a8"
            ],
            [
             0.3333333333333333,
             "#9c179e"
            ],
            [
             0.4444444444444444,
             "#bd3786"
            ],
            [
             0.5555555555555556,
             "#d8576b"
            ],
            [
             0.6666666666666666,
             "#ed7953"
            ],
            [
             0.7777777777777778,
             "#fb9f3a"
            ],
            [
             0.8888888888888888,
             "#fdca26"
            ],
            [
             1,
             "#f0f921"
            ]
           ]
          },
          "colorway": [
           "#636efa",
           "#EF553B",
           "#00cc96",
           "#ab63fa",
           "#FFA15A",
           "#19d3f3",
           "#FF6692",
           "#B6E880",
           "#FF97FF",
           "#FECB52"
          ],
          "font": {
           "color": "#2a3f5f"
          },
          "geo": {
           "bgcolor": "white",
           "lakecolor": "white",
           "landcolor": "#E5ECF6",
           "showlakes": true,
           "showland": true,
           "subunitcolor": "white"
          },
          "hoverlabel": {
           "align": "left"
          },
          "hovermode": "closest",
          "mapbox": {
           "style": "light"
          },
          "paper_bgcolor": "white",
          "plot_bgcolor": "#E5ECF6",
          "polar": {
           "angularaxis": {
            "gridcolor": "white",
            "linecolor": "white",
            "ticks": ""
           },
           "bgcolor": "#E5ECF6",
           "radialaxis": {
            "gridcolor": "white",
            "linecolor": "white",
            "ticks": ""
           }
          },
          "scene": {
           "xaxis": {
            "backgroundcolor": "#E5ECF6",
            "gridcolor": "white",
            "gridwidth": 2,
            "linecolor": "white",
            "showbackground": true,
            "ticks": "",
            "zerolinecolor": "white"
           },
           "yaxis": {
            "backgroundcolor": "#E5ECF6",
            "gridcolor": "white",
            "gridwidth": 2,
            "linecolor": "white",
            "showbackground": true,
            "ticks": "",
            "zerolinecolor": "white"
           },
           "zaxis": {
            "backgroundcolor": "#E5ECF6",
            "gridcolor": "white",
            "gridwidth": 2,
            "linecolor": "white",
            "showbackground": true,
            "ticks": "",
            "zerolinecolor": "white"
           }
          },
          "shapedefaults": {
           "line": {
            "color": "#2a3f5f"
           }
          },
          "ternary": {
           "aaxis": {
            "gridcolor": "white",
            "linecolor": "white",
            "ticks": ""
           },
           "baxis": {
            "gridcolor": "white",
            "linecolor": "white",
            "ticks": ""
           },
           "bgcolor": "#E5ECF6",
           "caxis": {
            "gridcolor": "white",
            "linecolor": "white",
            "ticks": ""
           }
          },
          "title": {
           "x": 0.05
          },
          "xaxis": {
           "automargin": true,
           "gridcolor": "white",
           "linecolor": "white",
           "ticks": "",
           "title": {
            "standoff": 15
           },
           "zerolinecolor": "white",
           "zerolinewidth": 2
          },
          "yaxis": {
           "automargin": true,
           "gridcolor": "white",
           "linecolor": "white",
           "ticks": "",
           "title": {
            "standoff": 15
           },
           "zerolinecolor": "white",
           "zerolinewidth": 2
          }
         }
        },
        "title": {
         "text": "Dashboard analizy gier"
        },
        "width": 1200,
        "xaxis": {
         "anchor": "y",
         "domain": [
          0,
          0.45
         ]
        },
        "xaxis2": {
         "anchor": "y2",
         "domain": [
          0.55,
          1
         ]
        },
        "xaxis3": {
         "anchor": "y3",
         "domain": [
          0,
          0.45
         ]
        },
        "xaxis4": {
         "anchor": "y4",
         "domain": [
          0.55,
          1
         ]
        },
        "yaxis": {
         "anchor": "x",
         "domain": [
          0.625,
          1
         ]
        },
        "yaxis2": {
         "anchor": "x2",
         "domain": [
          0.625,
          1
         ]
        },
        "yaxis3": {
         "anchor": "x3",
         "domain": [
          0,
          0.375
         ]
        },
        "yaxis4": {
         "anchor": "x4",
         "domain": [
          0,
          0.375
         ]
        }
       }
      }
     },
     "metadata": {},
     "output_type": "display_data"
    }
   ],
   "source": [
    "# Interaktywny Dashboard\n",
    "\n",
    "import plotly.subplots as sp\n",
    "\n",
    "# Histogram cen\n",
    "fig1 = px.histogram(df, x='Cena', title='Rozkład cen gier', labels={'Cena': 'Cena (zł)'})\n",
    "\n",
    "# Scatter plot cena vs liczba recenzji\n",
    "fig2 = px.scatter(df, x='Cena', y='Liczba recenzji', color='Nacechowanie recenzji',\n",
    "                  title='Cena vs. liczba recenzji', hover_data=['Tytuł'])\n",
    "\n",
    "# Box plot cena vs nacechowanie recenzji\n",
    "fig3 = px.box(df, x='Nacechowanie recenzji', y='Cena', title='Cena vs. nacechowanie recenzji')\n",
    "\n",
    "# Scatter plot cena vs rok wydania\n",
    "fig4 = px.scatter(df, x='Rok wydania', y='Cena', color='Nacechowanie recenzji',\n",
    "                  title='Cena vs. rok wydania', hover_data=['Tytuł'])\n",
    "\n",
    "# Kombinacja wykresów w jednym dashboardzie\n",
    "dashboard = sp.make_subplots(rows=2, cols=2, subplot_titles=('Rozkład cen', 'Cena vs. liczba recenzji',\n",
    "                                                             'Cena vs. nacechowanie recenzji', 'Cena vs. rok wydania'))\n",
    "\n",
    "dashboard.add_traces(fig1.data, rows=1, cols=1)\n",
    "dashboard.add_traces(fig2.data, rows=1, cols=2)\n",
    "dashboard.add_traces(fig3.data, rows=2, cols=1)\n",
    "dashboard.add_traces(fig4.data, rows=2, cols=2)\n",
    "\n",
    "dashboard.update_layout(height=800, width=1200, title_text='Dashboard analizy gier')\n",
    "dashboard.show()\n"
   ]
  },
  {
   "cell_type": "code",
   "execution_count": 41,
   "metadata": {},
   "outputs": [
    {
     "data": {
      "application/vnd.plotly.v1+json": {
       "config": {
        "plotlyServerURL": "https://plot.ly"
       },
       "data": [
        {
         "alignmentgroup": "True",
         "hovertemplate": "Sentiment=Bardzo pozytywne<br>Tag=%{x}<br>Liczba wystąpień=%{y}<extra></extra>",
         "legendgroup": "Bardzo pozytywne",
         "marker": {
          "color": "#636efa",
          "pattern": {
           "shape": ""
          }
         },
         "name": "Bardzo pozytywne",
         "offsetgroup": "Bardzo pozytywne",
         "orientation": "v",
         "showlegend": true,
         "textposition": "auto",
         "type": "bar",
         "x": [
          "Wieloosobowe",
          "Akcja",
          "Kosmos",
          "Survival",
          "Strategiczne",
          "Science fiction",
          "Otwarty świat",
          "Jednoosobowe",
          "FPS",
          "Symulatory"
         ],
         "xaxis": "x",
         "y": [
          33,
          35,
          21,
          25,
          43,
          24,
          30,
          27,
          21,
          17
         ],
         "yaxis": "y"
        },
        {
         "alignmentgroup": "True",
         "hovertemplate": "Sentiment=Przytłaczająco pozytywne<br>Tag=%{x}<br>Liczba wystąpień=%{y}<extra></extra>",
         "legendgroup": "Przytłaczająco pozytywne",
         "marker": {
          "color": "#EF553B",
          "pattern": {
           "shape": ""
          }
         },
         "name": "Przytłaczająco pozytywne",
         "offsetgroup": "Przytłaczająco pozytywne",
         "orientation": "v",
         "showlegend": true,
         "textposition": "auto",
         "type": "bar",
         "x": [
          "Jednoosobowe",
          "Survival",
          "Otwarty świat",
          "Science fiction",
          "Kosmos",
          "Strategiczne",
          "FPS",
          "Akcja",
          "Wieloosobowe",
          "Symulatory"
         ],
         "xaxis": "x",
         "y": [
          10,
          4,
          2,
          8,
          5,
          4,
          13,
          10,
          2,
          4
         ],
         "yaxis": "y"
        },
        {
         "alignmentgroup": "True",
         "hovertemplate": "Sentiment=W większości pozytywne<br>Tag=%{x}<br>Liczba wystąpień=%{y}<extra></extra>",
         "legendgroup": "W większości pozytywne",
         "marker": {
          "color": "#00cc96",
          "pattern": {
           "shape": ""
          }
         },
         "name": "W większości pozytywne",
         "offsetgroup": "W większości pozytywne",
         "orientation": "v",
         "showlegend": true,
         "textposition": "auto",
         "type": "bar",
         "x": [
          "Wieloosobowe",
          "Akcja",
          "Survival",
          "Strategiczne",
          "Otwarty świat",
          "Jednoosobowe",
          "Science fiction",
          "Symulatory",
          "Kosmos",
          "FPS"
         ],
         "xaxis": "x",
         "y": [
          11,
          8,
          7,
          18,
          10,
          4,
          8,
          8,
          8,
          6
         ],
         "yaxis": "y"
        },
        {
         "alignmentgroup": "True",
         "hovertemplate": "Sentiment=Mieszane<br>Tag=%{x}<br>Liczba wystąpień=%{y}<extra></extra>",
         "legendgroup": "Mieszane",
         "marker": {
          "color": "#ab63fa",
          "pattern": {
           "shape": ""
          }
         },
         "name": "Mieszane",
         "offsetgroup": "Mieszane",
         "orientation": "v",
         "showlegend": true,
         "textposition": "auto",
         "type": "bar",
         "x": [
          "Wieloosobowe",
          "FPS",
          "Strategiczne",
          "Symulatory",
          "Survival",
          "Akcja",
          "Otwarty świat",
          "Science fiction",
          "Kosmos",
          "Jednoosobowe"
         ],
         "xaxis": "x",
         "y": [
          7,
          5,
          18,
          16,
          4,
          7,
          6,
          9,
          10,
          4
         ],
         "yaxis": "y"
        },
        {
         "alignmentgroup": "True",
         "hovertemplate": "Sentiment=W większości negatywne<br>Tag=%{x}<br>Liczba wystąpień=%{y}<extra></extra>",
         "legendgroup": "W większości negatywne",
         "marker": {
          "color": "#FFA15A",
          "pattern": {
           "shape": ""
          }
         },
         "name": "W większości negatywne",
         "offsetgroup": "W większości negatywne",
         "orientation": "v",
         "showlegend": true,
         "textposition": "auto",
         "type": "bar",
         "x": [
          "Wieloosobowe",
          "FPS",
          "Kosmos",
          "Strategiczne",
          "Science fiction",
          "Symulatory"
         ],
         "xaxis": "x",
         "y": [
          1,
          1,
          2,
          2,
          2,
          2
         ],
         "yaxis": "y"
        },
        {
         "alignmentgroup": "True",
         "hovertemplate": "Sentiment=Pozytywne<br>Tag=%{x}<br>Liczba wystąpień=%{y}<extra></extra>",
         "legendgroup": "Pozytywne",
         "marker": {
          "color": "#19d3f3",
          "pattern": {
           "shape": ""
          }
         },
         "name": "Pozytywne",
         "offsetgroup": "Pozytywne",
         "orientation": "v",
         "showlegend": true,
         "textposition": "auto",
         "type": "bar",
         "x": [
          "Survival",
          "Wieloosobowe",
          "Strategiczne",
          "Symulatory",
          "Otwarty świat"
         ],
         "xaxis": "x",
         "y": [
          1,
          1,
          1,
          1,
          1
         ],
         "yaxis": "y"
        },
        {
         "alignmentgroup": "True",
         "hovertemplate": "Sentiment=Przytłaczająco negatywne<br>Tag=%{x}<br>Liczba wystąpień=%{y}<extra></extra>",
         "legendgroup": "Przytłaczająco negatywne",
         "marker": {
          "color": "#FF6692",
          "pattern": {
           "shape": ""
          }
         },
         "name": "Przytłaczająco negatywne",
         "offsetgroup": "Przytłaczająco negatywne",
         "orientation": "v",
         "showlegend": true,
         "textposition": "auto",
         "type": "bar",
         "x": [
          "Strategiczne",
          "Wieloosobowe",
          "Science fiction"
         ],
         "xaxis": "x",
         "y": [
          1,
          1,
          1
         ],
         "yaxis": "y"
        }
       ],
       "layout": {
        "barmode": "group",
        "legend": {
         "title": {
          "text": "Sentiment"
         },
         "tracegroupgap": 0
        },
        "template": {
         "data": {
          "bar": [
           {
            "error_x": {
             "color": "#2a3f5f"
            },
            "error_y": {
             "color": "#2a3f5f"
            },
            "marker": {
             "line": {
              "color": "#E5ECF6",
              "width": 0.5
             },
             "pattern": {
              "fillmode": "overlay",
              "size": 10,
              "solidity": 0.2
             }
            },
            "type": "bar"
           }
          ],
          "barpolar": [
           {
            "marker": {
             "line": {
              "color": "#E5ECF6",
              "width": 0.5
             },
             "pattern": {
              "fillmode": "overlay",
              "size": 10,
              "solidity": 0.2
             }
            },
            "type": "barpolar"
           }
          ],
          "carpet": [
           {
            "aaxis": {
             "endlinecolor": "#2a3f5f",
             "gridcolor": "white",
             "linecolor": "white",
             "minorgridcolor": "white",
             "startlinecolor": "#2a3f5f"
            },
            "baxis": {
             "endlinecolor": "#2a3f5f",
             "gridcolor": "white",
             "linecolor": "white",
             "minorgridcolor": "white",
             "startlinecolor": "#2a3f5f"
            },
            "type": "carpet"
           }
          ],
          "choropleth": [
           {
            "colorbar": {
             "outlinewidth": 0,
             "ticks": ""
            },
            "type": "choropleth"
           }
          ],
          "contour": [
           {
            "colorbar": {
             "outlinewidth": 0,
             "ticks": ""
            },
            "colorscale": [
             [
              0,
              "#0d0887"
             ],
             [
              0.1111111111111111,
              "#46039f"
             ],
             [
              0.2222222222222222,
              "#7201a8"
             ],
             [
              0.3333333333333333,
              "#9c179e"
             ],
             [
              0.4444444444444444,
              "#bd3786"
             ],
             [
              0.5555555555555556,
              "#d8576b"
             ],
             [
              0.6666666666666666,
              "#ed7953"
             ],
             [
              0.7777777777777778,
              "#fb9f3a"
             ],
             [
              0.8888888888888888,
              "#fdca26"
             ],
             [
              1,
              "#f0f921"
             ]
            ],
            "type": "contour"
           }
          ],
          "contourcarpet": [
           {
            "colorbar": {
             "outlinewidth": 0,
             "ticks": ""
            },
            "type": "contourcarpet"
           }
          ],
          "heatmap": [
           {
            "colorbar": {
             "outlinewidth": 0,
             "ticks": ""
            },
            "colorscale": [
             [
              0,
              "#0d0887"
             ],
             [
              0.1111111111111111,
              "#46039f"
             ],
             [
              0.2222222222222222,
              "#7201a8"
             ],
             [
              0.3333333333333333,
              "#9c179e"
             ],
             [
              0.4444444444444444,
              "#bd3786"
             ],
             [
              0.5555555555555556,
              "#d8576b"
             ],
             [
              0.6666666666666666,
              "#ed7953"
             ],
             [
              0.7777777777777778,
              "#fb9f3a"
             ],
             [
              0.8888888888888888,
              "#fdca26"
             ],
             [
              1,
              "#f0f921"
             ]
            ],
            "type": "heatmap"
           }
          ],
          "heatmapgl": [
           {
            "colorbar": {
             "outlinewidth": 0,
             "ticks": ""
            },
            "colorscale": [
             [
              0,
              "#0d0887"
             ],
             [
              0.1111111111111111,
              "#46039f"
             ],
             [
              0.2222222222222222,
              "#7201a8"
             ],
             [
              0.3333333333333333,
              "#9c179e"
             ],
             [
              0.4444444444444444,
              "#bd3786"
             ],
             [
              0.5555555555555556,
              "#d8576b"
             ],
             [
              0.6666666666666666,
              "#ed7953"
             ],
             [
              0.7777777777777778,
              "#fb9f3a"
             ],
             [
              0.8888888888888888,
              "#fdca26"
             ],
             [
              1,
              "#f0f921"
             ]
            ],
            "type": "heatmapgl"
           }
          ],
          "histogram": [
           {
            "marker": {
             "pattern": {
              "fillmode": "overlay",
              "size": 10,
              "solidity": 0.2
             }
            },
            "type": "histogram"
           }
          ],
          "histogram2d": [
           {
            "colorbar": {
             "outlinewidth": 0,
             "ticks": ""
            },
            "colorscale": [
             [
              0,
              "#0d0887"
             ],
             [
              0.1111111111111111,
              "#46039f"
             ],
             [
              0.2222222222222222,
              "#7201a8"
             ],
             [
              0.3333333333333333,
              "#9c179e"
             ],
             [
              0.4444444444444444,
              "#bd3786"
             ],
             [
              0.5555555555555556,
              "#d8576b"
             ],
             [
              0.6666666666666666,
              "#ed7953"
             ],
             [
              0.7777777777777778,
              "#fb9f3a"
             ],
             [
              0.8888888888888888,
              "#fdca26"
             ],
             [
              1,
              "#f0f921"
             ]
            ],
            "type": "histogram2d"
           }
          ],
          "histogram2dcontour": [
           {
            "colorbar": {
             "outlinewidth": 0,
             "ticks": ""
            },
            "colorscale": [
             [
              0,
              "#0d0887"
             ],
             [
              0.1111111111111111,
              "#46039f"
             ],
             [
              0.2222222222222222,
              "#7201a8"
             ],
             [
              0.3333333333333333,
              "#9c179e"
             ],
             [
              0.4444444444444444,
              "#bd3786"
             ],
             [
              0.5555555555555556,
              "#d8576b"
             ],
             [
              0.6666666666666666,
              "#ed7953"
             ],
             [
              0.7777777777777778,
              "#fb9f3a"
             ],
             [
              0.8888888888888888,
              "#fdca26"
             ],
             [
              1,
              "#f0f921"
             ]
            ],
            "type": "histogram2dcontour"
           }
          ],
          "mesh3d": [
           {
            "colorbar": {
             "outlinewidth": 0,
             "ticks": ""
            },
            "type": "mesh3d"
           }
          ],
          "parcoords": [
           {
            "line": {
             "colorbar": {
              "outlinewidth": 0,
              "ticks": ""
             }
            },
            "type": "parcoords"
           }
          ],
          "pie": [
           {
            "automargin": true,
            "type": "pie"
           }
          ],
          "scatter": [
           {
            "fillpattern": {
             "fillmode": "overlay",
             "size": 10,
             "solidity": 0.2
            },
            "type": "scatter"
           }
          ],
          "scatter3d": [
           {
            "line": {
             "colorbar": {
              "outlinewidth": 0,
              "ticks": ""
             }
            },
            "marker": {
             "colorbar": {
              "outlinewidth": 0,
              "ticks": ""
             }
            },
            "type": "scatter3d"
           }
          ],
          "scattercarpet": [
           {
            "marker": {
             "colorbar": {
              "outlinewidth": 0,
              "ticks": ""
             }
            },
            "type": "scattercarpet"
           }
          ],
          "scattergeo": [
           {
            "marker": {
             "colorbar": {
              "outlinewidth": 0,
              "ticks": ""
             }
            },
            "type": "scattergeo"
           }
          ],
          "scattergl": [
           {
            "marker": {
             "colorbar": {
              "outlinewidth": 0,
              "ticks": ""
             }
            },
            "type": "scattergl"
           }
          ],
          "scattermapbox": [
           {
            "marker": {
             "colorbar": {
              "outlinewidth": 0,
              "ticks": ""
             }
            },
            "type": "scattermapbox"
           }
          ],
          "scatterpolar": [
           {
            "marker": {
             "colorbar": {
              "outlinewidth": 0,
              "ticks": ""
             }
            },
            "type": "scatterpolar"
           }
          ],
          "scatterpolargl": [
           {
            "marker": {
             "colorbar": {
              "outlinewidth": 0,
              "ticks": ""
             }
            },
            "type": "scatterpolargl"
           }
          ],
          "scatterternary": [
           {
            "marker": {
             "colorbar": {
              "outlinewidth": 0,
              "ticks": ""
             }
            },
            "type": "scatterternary"
           }
          ],
          "surface": [
           {
            "colorbar": {
             "outlinewidth": 0,
             "ticks": ""
            },
            "colorscale": [
             [
              0,
              "#0d0887"
             ],
             [
              0.1111111111111111,
              "#46039f"
             ],
             [
              0.2222222222222222,
              "#7201a8"
             ],
             [
              0.3333333333333333,
              "#9c179e"
             ],
             [
              0.4444444444444444,
              "#bd3786"
             ],
             [
              0.5555555555555556,
              "#d8576b"
             ],
             [
              0.6666666666666666,
              "#ed7953"
             ],
             [
              0.7777777777777778,
              "#fb9f3a"
             ],
             [
              0.8888888888888888,
              "#fdca26"
             ],
             [
              1,
              "#f0f921"
             ]
            ],
            "type": "surface"
           }
          ],
          "table": [
           {
            "cells": {
             "fill": {
              "color": "#EBF0F8"
             },
             "line": {
              "color": "white"
             }
            },
            "header": {
             "fill": {
              "color": "#C8D4E3"
             },
             "line": {
              "color": "white"
             }
            },
            "type": "table"
           }
          ]
         },
         "layout": {
          "annotationdefaults": {
           "arrowcolor": "#2a3f5f",
           "arrowhead": 0,
           "arrowwidth": 1
          },
          "autotypenumbers": "strict",
          "coloraxis": {
           "colorbar": {
            "outlinewidth": 0,
            "ticks": ""
           }
          },
          "colorscale": {
           "diverging": [
            [
             0,
             "#8e0152"
            ],
            [
             0.1,
             "#c51b7d"
            ],
            [
             0.2,
             "#de77ae"
            ],
            [
             0.3,
             "#f1b6da"
            ],
            [
             0.4,
             "#fde0ef"
            ],
            [
             0.5,
             "#f7f7f7"
            ],
            [
             0.6,
             "#e6f5d0"
            ],
            [
             0.7,
             "#b8e186"
            ],
            [
             0.8,
             "#7fbc41"
            ],
            [
             0.9,
             "#4d9221"
            ],
            [
             1,
             "#276419"
            ]
           ],
           "sequential": [
            [
             0,
             "#0d0887"
            ],
            [
             0.1111111111111111,
             "#46039f"
            ],
            [
             0.2222222222222222,
             "#7201a8"
            ],
            [
             0.3333333333333333,
             "#9c179e"
            ],
            [
             0.4444444444444444,
             "#bd3786"
            ],
            [
             0.5555555555555556,
             "#d8576b"
            ],
            [
             0.6666666666666666,
             "#ed7953"
            ],
            [
             0.7777777777777778,
             "#fb9f3a"
            ],
            [
             0.8888888888888888,
             "#fdca26"
            ],
            [
             1,
             "#f0f921"
            ]
           ],
           "sequentialminus": [
            [
             0,
             "#0d0887"
            ],
            [
             0.1111111111111111,
             "#46039f"
            ],
            [
             0.2222222222222222,
             "#7201a8"
            ],
            [
             0.3333333333333333,
             "#9c179e"
            ],
            [
             0.4444444444444444,
             "#bd3786"
            ],
            [
             0.5555555555555556,
             "#d8576b"
            ],
            [
             0.6666666666666666,
             "#ed7953"
            ],
            [
             0.7777777777777778,
             "#fb9f3a"
            ],
            [
             0.8888888888888888,
             "#fdca26"
            ],
            [
             1,
             "#f0f921"
            ]
           ]
          },
          "colorway": [
           "#636efa",
           "#EF553B",
           "#00cc96",
           "#ab63fa",
           "#FFA15A",
           "#19d3f3",
           "#FF6692",
           "#B6E880",
           "#FF97FF",
           "#FECB52"
          ],
          "font": {
           "color": "#2a3f5f"
          },
          "geo": {
           "bgcolor": "white",
           "lakecolor": "white",
           "landcolor": "#E5ECF6",
           "showlakes": true,
           "showland": true,
           "subunitcolor": "white"
          },
          "hoverlabel": {
           "align": "left"
          },
          "hovermode": "closest",
          "mapbox": {
           "style": "light"
          },
          "paper_bgcolor": "white",
          "plot_bgcolor": "#E5ECF6",
          "polar": {
           "angularaxis": {
            "gridcolor": "white",
            "linecolor": "white",
            "ticks": ""
           },
           "bgcolor": "#E5ECF6",
           "radialaxis": {
            "gridcolor": "white",
            "linecolor": "white",
            "ticks": ""
           }
          },
          "scene": {
           "xaxis": {
            "backgroundcolor": "#E5ECF6",
            "gridcolor": "white",
            "gridwidth": 2,
            "linecolor": "white",
            "showbackground": true,
            "ticks": "",
            "zerolinecolor": "white"
           },
           "yaxis": {
            "backgroundcolor": "#E5ECF6",
            "gridcolor": "white",
            "gridwidth": 2,
            "linecolor": "white",
            "showbackground": true,
            "ticks": "",
            "zerolinecolor": "white"
           },
           "zaxis": {
            "backgroundcolor": "#E5ECF6",
            "gridcolor": "white",
            "gridwidth": 2,
            "linecolor": "white",
            "showbackground": true,
            "ticks": "",
            "zerolinecolor": "white"
           }
          },
          "shapedefaults": {
           "line": {
            "color": "#2a3f5f"
           }
          },
          "ternary": {
           "aaxis": {
            "gridcolor": "white",
            "linecolor": "white",
            "ticks": ""
           },
           "baxis": {
            "gridcolor": "white",
            "linecolor": "white",
            "ticks": ""
           },
           "bgcolor": "#E5ECF6",
           "caxis": {
            "gridcolor": "white",
            "linecolor": "white",
            "ticks": ""
           }
          },
          "title": {
           "x": 0.05
          },
          "xaxis": {
           "automargin": true,
           "gridcolor": "white",
           "linecolor": "white",
           "ticks": "",
           "title": {
            "standoff": 15
           },
           "zerolinecolor": "white",
           "zerolinewidth": 2
          },
          "yaxis": {
           "automargin": true,
           "gridcolor": "white",
           "linecolor": "white",
           "ticks": "",
           "title": {
            "standoff": 15
           },
           "zerolinecolor": "white",
           "zerolinewidth": 2
          }
         }
        },
        "title": {
         "text": "Powiązanie najczęściej występujących tagów z nacechowaniem recenzji"
        },
        "xaxis": {
         "anchor": "y",
         "domain": [
          0,
          1
         ],
         "tickangle": 45,
         "title": {
          "text": "Tag"
         }
        },
        "yaxis": {
         "anchor": "x",
         "domain": [
          0,
          1
         ],
         "title": {
          "text": "Liczba wystąpień"
         }
        }
       }
      }
     },
     "metadata": {},
     "output_type": "display_data"
    }
   ],
   "source": [
    "def tags_sentiment_analysis(df, top_n=10):\n",
    "    sentiment_counts = {}\n",
    "    for sentiment in df['Nacechowanie recenzji'].unique():\n",
    "        if pd.isna(sentiment):\n",
    "            continue\n",
    "        tags = df[df['Nacechowanie recenzji'] == sentiment]['Tagi'].apply(lambda x: x.split(', '))\n",
    "        tag_counter = Counter(tag for tag_list in tags for tag in tag_list)\n",
    "        sentiment_counts[sentiment] = dict(tag_counter)\n",
    "\n",
    "    # Konwersja na DataFrame i ograniczenie liczby tagów\n",
    "    sentiment_dfs = []\n",
    "    for sentiment, counts in sentiment_counts.items():\n",
    "        sentiment_df = pd.DataFrame(counts.items(), columns=['Tag', 'Count'])\n",
    "        sentiment_df['Sentiment'] = sentiment\n",
    "        sentiment_dfs.append(sentiment_df)\n",
    "\n",
    "    combined_df = pd.concat(sentiment_dfs)\n",
    "    top_tags = combined_df.groupby('Tag')['Count'].sum().nlargest(top_n).index\n",
    "    return combined_df[combined_df['Tag'].isin(top_tags)]\n",
    "\n",
    "# Analiza\n",
    "tags_sentiment_df = tags_sentiment_analysis(df)\n",
    "\n",
    "# Wizualizacja\n",
    "fig = px.bar(tags_sentiment_df, x='Tag', y='Count', color='Sentiment', barmode='group',\n",
    "             title='Powiązanie najczęściej występujących tagów z nacechowaniem recenzji',\n",
    "             labels={'Count': 'Liczba wystąpień', 'Tag': 'Tag'})\n",
    "fig.update_layout(xaxis_tickangle=45)\n",
    "fig.show()\n"
   ]
  },
  {
   "cell_type": "code",
   "execution_count": 44,
   "metadata": {},
   "outputs": [],
   "source": [
    "# Mapowanie tekstowego nacechowania recenzji na wartości numeryczne\n",
    "sentiment_map = {\n",
    "    'Przytłaczająco pozytywne': 4,\n",
    "    'Bardzo pozytywne': 3,\n",
    "    'W większości pozytywne': 2,\n",
    "    'Mieszane': 1,\n",
    "    'Negatywne': 0\n",
    "}\n",
    "\n",
    "df['sentiment_score'] = df['Nacechowanie recenzji'].map(sentiment_map).fillna(0)\n"
   ]
  },
  {
   "cell_type": "code",
   "execution_count": 53,
   "metadata": {},
   "outputs": [],
   "source": [
    "# Obliczanie średnich ocen ważonych liczbą recenzji oraz średnich cen\n",
    "def avg_sentiment_and_price_per_tag(df, top_n=20, min_games=3):\n",
    "    tags = df['Tagi'].apply(lambda x: x.split(', '))\n",
    "    tag_scores = Counter()\n",
    "    tag_weights = Counter()\n",
    "    tag_prices = Counter()\n",
    "    tag_counts = Counter()\n",
    "\n",
    "    for idx, tag_list in enumerate(tags):\n",
    "        for tag in tag_list:\n",
    "            sentiment_score = df.iloc[idx]['sentiment_score']\n",
    "            review_count = df.iloc[idx]['Liczba recenzji']\n",
    "            price = df.iloc[idx]['Cena']\n",
    "            \n",
    "            # Ważenie ocen liczbą recenzji\n",
    "            tag_scores[tag] += sentiment_score * review_count\n",
    "            tag_weights[tag] += review_count\n",
    "            \n",
    "            # Suma cen i liczba wystąpień\n",
    "            tag_prices[tag] += price\n",
    "            tag_counts[tag] += 1\n",
    "\n",
    "    # Obliczanie średnich ocen i cen (filtr minimalnej liczby gier)\n",
    "    avg_data = {\n",
    "        tag: {\n",
    "            'Average Sentiment': tag_scores[tag] / tag_weights[tag],\n",
    "            'Average Price': tag_prices[tag] / tag_counts[tag],\n",
    "            'Game Count': tag_counts[tag]\n",
    "        }\n",
    "        for tag in tag_scores if tag_counts[tag] >= min_games\n",
    "    }\n",
    "    avg_df = pd.DataFrame.from_dict(avg_data, orient='index').reset_index()\n",
    "    avg_df.rename(columns={'index': 'Tag'}, inplace=True)\n",
    "    return avg_df.sort_values('Average Sentiment', ascending=False).head(top_n), \\\n",
    "           avg_df.sort_values('Average Sentiment', ascending=True).head(top_n)\n"
   ]
  },
  {
   "cell_type": "code",
   "execution_count": 57,
   "metadata": {},
   "outputs": [
    {
     "data": {
      "application/vnd.plotly.v1+json": {
       "config": {
        "plotlyServerURL": "https://plot.ly"
       },
       "data": [
        {
         "marker": {
          "color": "#90CAF9"
         },
         "name": "Średnia ocena",
         "type": "bar",
         "x": [
          "Wskaż i kliknij",
          "Podróż w czasie",
          "Czarny humor",
          "Perspektywa pierwszej osoby",
          "Generacja proceduralna",
          "Fizyka",
          "Łamigłówki",
          "Lata 90.",
          "VR",
          "Platformowe"
         ],
         "y": [
          3.994235694081325,
          3.993428750573935,
          3.950738044067455,
          3.9397209171440686,
          3.9328861815035108,
          3.8850315966477718,
          3.884724794322247,
          3.8652428936682206,
          3.860473975582331,
          3.8157274508765426
         ],
         "yaxis": "y"
        },
        {
         "line": {
          "dash": "dot",
          "width": 2
         },
         "marker": {
          "color": "red",
          "size": 10
         },
         "mode": "lines+markers",
         "name": "Średnia cena",
         "type": "scatter",
         "x": [
          "Wskaż i kliknij",
          "Podróż w czasie",
          "Czarny humor",
          "Perspektywa pierwszej osoby",
          "Generacja proceduralna",
          "Fizyka",
          "Łamigłówki",
          "Lata 90.",
          "VR",
          "Platformowe"
         ],
         "y": [
          43.99,
          23.662,
          52.81666666666666,
          49.306000000000004,
          74.99000000000001,
          53.34250000000001,
          37.122727272727275,
          32.07666666666667,
          150.24571428571429,
          49.49000000000001
         ],
         "yaxis": "y2"
        }
       ],
       "layout": {
        "legend": {
         "orientation": "h",
         "x": 0.5,
         "y": 1.1
        },
        "template": {
         "data": {
          "bar": [
           {
            "error_x": {
             "color": "#2a3f5f"
            },
            "error_y": {
             "color": "#2a3f5f"
            },
            "marker": {
             "line": {
              "color": "#E5ECF6",
              "width": 0.5
             },
             "pattern": {
              "fillmode": "overlay",
              "size": 10,
              "solidity": 0.2
             }
            },
            "type": "bar"
           }
          ],
          "barpolar": [
           {
            "marker": {
             "line": {
              "color": "#E5ECF6",
              "width": 0.5
             },
             "pattern": {
              "fillmode": "overlay",
              "size": 10,
              "solidity": 0.2
             }
            },
            "type": "barpolar"
           }
          ],
          "carpet": [
           {
            "aaxis": {
             "endlinecolor": "#2a3f5f",
             "gridcolor": "white",
             "linecolor": "white",
             "minorgridcolor": "white",
             "startlinecolor": "#2a3f5f"
            },
            "baxis": {
             "endlinecolor": "#2a3f5f",
             "gridcolor": "white",
             "linecolor": "white",
             "minorgridcolor": "white",
             "startlinecolor": "#2a3f5f"
            },
            "type": "carpet"
           }
          ],
          "choropleth": [
           {
            "colorbar": {
             "outlinewidth": 0,
             "ticks": ""
            },
            "type": "choropleth"
           }
          ],
          "contour": [
           {
            "colorbar": {
             "outlinewidth": 0,
             "ticks": ""
            },
            "colorscale": [
             [
              0,
              "#0d0887"
             ],
             [
              0.1111111111111111,
              "#46039f"
             ],
             [
              0.2222222222222222,
              "#7201a8"
             ],
             [
              0.3333333333333333,
              "#9c179e"
             ],
             [
              0.4444444444444444,
              "#bd3786"
             ],
             [
              0.5555555555555556,
              "#d8576b"
             ],
             [
              0.6666666666666666,
              "#ed7953"
             ],
             [
              0.7777777777777778,
              "#fb9f3a"
             ],
             [
              0.8888888888888888,
              "#fdca26"
             ],
             [
              1,
              "#f0f921"
             ]
            ],
            "type": "contour"
           }
          ],
          "contourcarpet": [
           {
            "colorbar": {
             "outlinewidth": 0,
             "ticks": ""
            },
            "type": "contourcarpet"
           }
          ],
          "heatmap": [
           {
            "colorbar": {
             "outlinewidth": 0,
             "ticks": ""
            },
            "colorscale": [
             [
              0,
              "#0d0887"
             ],
             [
              0.1111111111111111,
              "#46039f"
             ],
             [
              0.2222222222222222,
              "#7201a8"
             ],
             [
              0.3333333333333333,
              "#9c179e"
             ],
             [
              0.4444444444444444,
              "#bd3786"
             ],
             [
              0.5555555555555556,
              "#d8576b"
             ],
             [
              0.6666666666666666,
              "#ed7953"
             ],
             [
              0.7777777777777778,
              "#fb9f3a"
             ],
             [
              0.8888888888888888,
              "#fdca26"
             ],
             [
              1,
              "#f0f921"
             ]
            ],
            "type": "heatmap"
           }
          ],
          "heatmapgl": [
           {
            "colorbar": {
             "outlinewidth": 0,
             "ticks": ""
            },
            "colorscale": [
             [
              0,
              "#0d0887"
             ],
             [
              0.1111111111111111,
              "#46039f"
             ],
             [
              0.2222222222222222,
              "#7201a8"
             ],
             [
              0.3333333333333333,
              "#9c179e"
             ],
             [
              0.4444444444444444,
              "#bd3786"
             ],
             [
              0.5555555555555556,
              "#d8576b"
             ],
             [
              0.6666666666666666,
              "#ed7953"
             ],
             [
              0.7777777777777778,
              "#fb9f3a"
             ],
             [
              0.8888888888888888,
              "#fdca26"
             ],
             [
              1,
              "#f0f921"
             ]
            ],
            "type": "heatmapgl"
           }
          ],
          "histogram": [
           {
            "marker": {
             "pattern": {
              "fillmode": "overlay",
              "size": 10,
              "solidity": 0.2
             }
            },
            "type": "histogram"
           }
          ],
          "histogram2d": [
           {
            "colorbar": {
             "outlinewidth": 0,
             "ticks": ""
            },
            "colorscale": [
             [
              0,
              "#0d0887"
             ],
             [
              0.1111111111111111,
              "#46039f"
             ],
             [
              0.2222222222222222,
              "#7201a8"
             ],
             [
              0.3333333333333333,
              "#9c179e"
             ],
             [
              0.4444444444444444,
              "#bd3786"
             ],
             [
              0.5555555555555556,
              "#d8576b"
             ],
             [
              0.6666666666666666,
              "#ed7953"
             ],
             [
              0.7777777777777778,
              "#fb9f3a"
             ],
             [
              0.8888888888888888,
              "#fdca26"
             ],
             [
              1,
              "#f0f921"
             ]
            ],
            "type": "histogram2d"
           }
          ],
          "histogram2dcontour": [
           {
            "colorbar": {
             "outlinewidth": 0,
             "ticks": ""
            },
            "colorscale": [
             [
              0,
              "#0d0887"
             ],
             [
              0.1111111111111111,
              "#46039f"
             ],
             [
              0.2222222222222222,
              "#7201a8"
             ],
             [
              0.3333333333333333,
              "#9c179e"
             ],
             [
              0.4444444444444444,
              "#bd3786"
             ],
             [
              0.5555555555555556,
              "#d8576b"
             ],
             [
              0.6666666666666666,
              "#ed7953"
             ],
             [
              0.7777777777777778,
              "#fb9f3a"
             ],
             [
              0.8888888888888888,
              "#fdca26"
             ],
             [
              1,
              "#f0f921"
             ]
            ],
            "type": "histogram2dcontour"
           }
          ],
          "mesh3d": [
           {
            "colorbar": {
             "outlinewidth": 0,
             "ticks": ""
            },
            "type": "mesh3d"
           }
          ],
          "parcoords": [
           {
            "line": {
             "colorbar": {
              "outlinewidth": 0,
              "ticks": ""
             }
            },
            "type": "parcoords"
           }
          ],
          "pie": [
           {
            "automargin": true,
            "type": "pie"
           }
          ],
          "scatter": [
           {
            "fillpattern": {
             "fillmode": "overlay",
             "size": 10,
             "solidity": 0.2
            },
            "type": "scatter"
           }
          ],
          "scatter3d": [
           {
            "line": {
             "colorbar": {
              "outlinewidth": 0,
              "ticks": ""
             }
            },
            "marker": {
             "colorbar": {
              "outlinewidth": 0,
              "ticks": ""
             }
            },
            "type": "scatter3d"
           }
          ],
          "scattercarpet": [
           {
            "marker": {
             "colorbar": {
              "outlinewidth": 0,
              "ticks": ""
             }
            },
            "type": "scattercarpet"
           }
          ],
          "scattergeo": [
           {
            "marker": {
             "colorbar": {
              "outlinewidth": 0,
              "ticks": ""
             }
            },
            "type": "scattergeo"
           }
          ],
          "scattergl": [
           {
            "marker": {
             "colorbar": {
              "outlinewidth": 0,
              "ticks": ""
             }
            },
            "type": "scattergl"
           }
          ],
          "scattermapbox": [
           {
            "marker": {
             "colorbar": {
              "outlinewidth": 0,
              "ticks": ""
             }
            },
            "type": "scattermapbox"
           }
          ],
          "scatterpolar": [
           {
            "marker": {
             "colorbar": {
              "outlinewidth": 0,
              "ticks": ""
             }
            },
            "type": "scatterpolar"
           }
          ],
          "scatterpolargl": [
           {
            "marker": {
             "colorbar": {
              "outlinewidth": 0,
              "ticks": ""
             }
            },
            "type": "scatterpolargl"
           }
          ],
          "scatterternary": [
           {
            "marker": {
             "colorbar": {
              "outlinewidth": 0,
              "ticks": ""
             }
            },
            "type": "scatterternary"
           }
          ],
          "surface": [
           {
            "colorbar": {
             "outlinewidth": 0,
             "ticks": ""
            },
            "colorscale": [
             [
              0,
              "#0d0887"
             ],
             [
              0.1111111111111111,
              "#46039f"
             ],
             [
              0.2222222222222222,
              "#7201a8"
             ],
             [
              0.3333333333333333,
              "#9c179e"
             ],
             [
              0.4444444444444444,
              "#bd3786"
             ],
             [
              0.5555555555555556,
              "#d8576b"
             ],
             [
              0.6666666666666666,
              "#ed7953"
             ],
             [
              0.7777777777777778,
              "#fb9f3a"
             ],
             [
              0.8888888888888888,
              "#fdca26"
             ],
             [
              1,
              "#f0f921"
             ]
            ],
            "type": "surface"
           }
          ],
          "table": [
           {
            "cells": {
             "fill": {
              "color": "#EBF0F8"
             },
             "line": {
              "color": "white"
             }
            },
            "header": {
             "fill": {
              "color": "#C8D4E3"
             },
             "line": {
              "color": "white"
             }
            },
            "type": "table"
           }
          ]
         },
         "layout": {
          "annotationdefaults": {
           "arrowcolor": "#2a3f5f",
           "arrowhead": 0,
           "arrowwidth": 1
          },
          "autotypenumbers": "strict",
          "coloraxis": {
           "colorbar": {
            "outlinewidth": 0,
            "ticks": ""
           }
          },
          "colorscale": {
           "diverging": [
            [
             0,
             "#8e0152"
            ],
            [
             0.1,
             "#c51b7d"
            ],
            [
             0.2,
             "#de77ae"
            ],
            [
             0.3,
             "#f1b6da"
            ],
            [
             0.4,
             "#fde0ef"
            ],
            [
             0.5,
             "#f7f7f7"
            ],
            [
             0.6,
             "#e6f5d0"
            ],
            [
             0.7,
             "#b8e186"
            ],
            [
             0.8,
             "#7fbc41"
            ],
            [
             0.9,
             "#4d9221"
            ],
            [
             1,
             "#276419"
            ]
           ],
           "sequential": [
            [
             0,
             "#0d0887"
            ],
            [
             0.1111111111111111,
             "#46039f"
            ],
            [
             0.2222222222222222,
             "#7201a8"
            ],
            [
             0.3333333333333333,
             "#9c179e"
            ],
            [
             0.4444444444444444,
             "#bd3786"
            ],
            [
             0.5555555555555556,
             "#d8576b"
            ],
            [
             0.6666666666666666,
             "#ed7953"
            ],
            [
             0.7777777777777778,
             "#fb9f3a"
            ],
            [
             0.8888888888888888,
             "#fdca26"
            ],
            [
             1,
             "#f0f921"
            ]
           ],
           "sequentialminus": [
            [
             0,
             "#0d0887"
            ],
            [
             0.1111111111111111,
             "#46039f"
            ],
            [
             0.2222222222222222,
             "#7201a8"
            ],
            [
             0.3333333333333333,
             "#9c179e"
            ],
            [
             0.4444444444444444,
             "#bd3786"
            ],
            [
             0.5555555555555556,
             "#d8576b"
            ],
            [
             0.6666666666666666,
             "#ed7953"
            ],
            [
             0.7777777777777778,
             "#fb9f3a"
            ],
            [
             0.8888888888888888,
             "#fdca26"
            ],
            [
             1,
             "#f0f921"
            ]
           ]
          },
          "colorway": [
           "#636efa",
           "#EF553B",
           "#00cc96",
           "#ab63fa",
           "#FFA15A",
           "#19d3f3",
           "#FF6692",
           "#B6E880",
           "#FF97FF",
           "#FECB52"
          ],
          "font": {
           "color": "#2a3f5f"
          },
          "geo": {
           "bgcolor": "white",
           "lakecolor": "white",
           "landcolor": "#E5ECF6",
           "showlakes": true,
           "showland": true,
           "subunitcolor": "white"
          },
          "hoverlabel": {
           "align": "left"
          },
          "hovermode": "closest",
          "mapbox": {
           "style": "light"
          },
          "paper_bgcolor": "white",
          "plot_bgcolor": "#E5ECF6",
          "polar": {
           "angularaxis": {
            "gridcolor": "white",
            "linecolor": "white",
            "ticks": ""
           },
           "bgcolor": "#E5ECF6",
           "radialaxis": {
            "gridcolor": "white",
            "linecolor": "white",
            "ticks": ""
           }
          },
          "scene": {
           "xaxis": {
            "backgroundcolor": "#E5ECF6",
            "gridcolor": "white",
            "gridwidth": 2,
            "linecolor": "white",
            "showbackground": true,
            "ticks": "",
            "zerolinecolor": "white"
           },
           "yaxis": {
            "backgroundcolor": "#E5ECF6",
            "gridcolor": "white",
            "gridwidth": 2,
            "linecolor": "white",
            "showbackground": true,
            "ticks": "",
            "zerolinecolor": "white"
           },
           "zaxis": {
            "backgroundcolor": "#E5ECF6",
            "gridcolor": "white",
            "gridwidth": 2,
            "linecolor": "white",
            "showbackground": true,
            "ticks": "",
            "zerolinecolor": "white"
           }
          },
          "shapedefaults": {
           "line": {
            "color": "#2a3f5f"
           }
          },
          "ternary": {
           "aaxis": {
            "gridcolor": "white",
            "linecolor": "white",
            "ticks": ""
           },
           "baxis": {
            "gridcolor": "white",
            "linecolor": "white",
            "ticks": ""
           },
           "bgcolor": "#E5ECF6",
           "caxis": {
            "gridcolor": "white",
            "linecolor": "white",
            "ticks": ""
           }
          },
          "title": {
           "x": 0.05
          },
          "xaxis": {
           "automargin": true,
           "gridcolor": "white",
           "linecolor": "white",
           "ticks": "",
           "title": {
            "standoff": 15
           },
           "zerolinecolor": "white",
           "zerolinewidth": 2
          },
          "yaxis": {
           "automargin": true,
           "gridcolor": "white",
           "linecolor": "white",
           "ticks": "",
           "title": {
            "standoff": 15
           },
           "zerolinecolor": "white",
           "zerolinewidth": 2
          }
         }
        },
        "title": {
         "text": "Tagi z najlepszymi ocenami (ważone liczbą recenzji)"
        },
        "xaxis": {
         "tickangle": 45,
         "title": {
          "text": "Tagi"
         }
        },
        "yaxis": {
         "tickfont": {
          "color": "#90CAF9"
         },
         "title": {
          "font": {
           "color": "#90CAF9"
          },
          "text": "Średnia ocena"
         }
        },
        "yaxis2": {
         "overlaying": "y",
         "side": "right",
         "tickfont": {
          "color": "red"
         },
         "title": {
          "font": {
           "color": "red"
          },
          "text": "Średnia cena (zł)"
         }
        }
       }
      }
     },
     "metadata": {},
     "output_type": "display_data"
    },
    {
     "data": {
      "application/vnd.plotly.v1+json": {
       "config": {
        "plotlyServerURL": "https://plot.ly"
       },
       "data": [
        {
         "marker": {
          "color": "#90CAF9"
         },
         "name": "Średnia ocena",
         "type": "bar",
         "x": [
          "MMO",
          "JRPG",
          "Wojskowe",
          "PvP",
          "Roboty",
          "3D",
          "Steampunk",
          "Wojna",
          "Treści seksualne",
          "Mechy"
         ],
         "y": [
          1,
          1.141206675224647,
          1.185032101294772,
          1.202562994960403,
          1.2240571301048873,
          1.3949485389802436,
          1.4411271385441127,
          1.5168332120933676,
          1.694441763657537,
          1.7140355603448276
         ],
         "yaxis": "y"
        },
        {
         "line": {
          "dash": "dot",
          "width": 2
         },
         "marker": {
          "color": "red",
          "size": 10
         },
         "mode": "lines+markers",
         "name": "Średnia cena",
         "type": "scatter",
         "x": [
          "MMO",
          "JRPG",
          "Wojskowe",
          "PvP",
          "Roboty",
          "3D",
          "Steampunk",
          "Wojna",
          "Treści seksualne",
          "Mechy"
         ],
         "y": [
          22.66333333333333,
          66.33333333333333,
          120.8175,
          17.546,
          46.080000000000005,
          62.414,
          16.09,
          77.618,
          51.41833333333333,
          91.038
         ],
         "yaxis": "y2"
        }
       ],
       "layout": {
        "legend": {
         "orientation": "h",
         "x": 0.5,
         "y": 1.1
        },
        "template": {
         "data": {
          "bar": [
           {
            "error_x": {
             "color": "#2a3f5f"
            },
            "error_y": {
             "color": "#2a3f5f"
            },
            "marker": {
             "line": {
              "color": "#E5ECF6",
              "width": 0.5
             },
             "pattern": {
              "fillmode": "overlay",
              "size": 10,
              "solidity": 0.2
             }
            },
            "type": "bar"
           }
          ],
          "barpolar": [
           {
            "marker": {
             "line": {
              "color": "#E5ECF6",
              "width": 0.5
             },
             "pattern": {
              "fillmode": "overlay",
              "size": 10,
              "solidity": 0.2
             }
            },
            "type": "barpolar"
           }
          ],
          "carpet": [
           {
            "aaxis": {
             "endlinecolor": "#2a3f5f",
             "gridcolor": "white",
             "linecolor": "white",
             "minorgridcolor": "white",
             "startlinecolor": "#2a3f5f"
            },
            "baxis": {
             "endlinecolor": "#2a3f5f",
             "gridcolor": "white",
             "linecolor": "white",
             "minorgridcolor": "white",
             "startlinecolor": "#2a3f5f"
            },
            "type": "carpet"
           }
          ],
          "choropleth": [
           {
            "colorbar": {
             "outlinewidth": 0,
             "ticks": ""
            },
            "type": "choropleth"
           }
          ],
          "contour": [
           {
            "colorbar": {
             "outlinewidth": 0,
             "ticks": ""
            },
            "colorscale": [
             [
              0,
              "#0d0887"
             ],
             [
              0.1111111111111111,
              "#46039f"
             ],
             [
              0.2222222222222222,
              "#7201a8"
             ],
             [
              0.3333333333333333,
              "#9c179e"
             ],
             [
              0.4444444444444444,
              "#bd3786"
             ],
             [
              0.5555555555555556,
              "#d8576b"
             ],
             [
              0.6666666666666666,
              "#ed7953"
             ],
             [
              0.7777777777777778,
              "#fb9f3a"
             ],
             [
              0.8888888888888888,
              "#fdca26"
             ],
             [
              1,
              "#f0f921"
             ]
            ],
            "type": "contour"
           }
          ],
          "contourcarpet": [
           {
            "colorbar": {
             "outlinewidth": 0,
             "ticks": ""
            },
            "type": "contourcarpet"
           }
          ],
          "heatmap": [
           {
            "colorbar": {
             "outlinewidth": 0,
             "ticks": ""
            },
            "colorscale": [
             [
              0,
              "#0d0887"
             ],
             [
              0.1111111111111111,
              "#46039f"
             ],
             [
              0.2222222222222222,
              "#7201a8"
             ],
             [
              0.3333333333333333,
              "#9c179e"
             ],
             [
              0.4444444444444444,
              "#bd3786"
             ],
             [
              0.5555555555555556,
              "#d8576b"
             ],
             [
              0.6666666666666666,
              "#ed7953"
             ],
             [
              0.7777777777777778,
              "#fb9f3a"
             ],
             [
              0.8888888888888888,
              "#fdca26"
             ],
             [
              1,
              "#f0f921"
             ]
            ],
            "type": "heatmap"
           }
          ],
          "heatmapgl": [
           {
            "colorbar": {
             "outlinewidth": 0,
             "ticks": ""
            },
            "colorscale": [
             [
              0,
              "#0d0887"
             ],
             [
              0.1111111111111111,
              "#46039f"
             ],
             [
              0.2222222222222222,
              "#7201a8"
             ],
             [
              0.3333333333333333,
              "#9c179e"
             ],
             [
              0.4444444444444444,
              "#bd3786"
             ],
             [
              0.5555555555555556,
              "#d8576b"
             ],
             [
              0.6666666666666666,
              "#ed7953"
             ],
             [
              0.7777777777777778,
              "#fb9f3a"
             ],
             [
              0.8888888888888888,
              "#fdca26"
             ],
             [
              1,
              "#f0f921"
             ]
            ],
            "type": "heatmapgl"
           }
          ],
          "histogram": [
           {
            "marker": {
             "pattern": {
              "fillmode": "overlay",
              "size": 10,
              "solidity": 0.2
             }
            },
            "type": "histogram"
           }
          ],
          "histogram2d": [
           {
            "colorbar": {
             "outlinewidth": 0,
             "ticks": ""
            },
            "colorscale": [
             [
              0,
              "#0d0887"
             ],
             [
              0.1111111111111111,
              "#46039f"
             ],
             [
              0.2222222222222222,
              "#7201a8"
             ],
             [
              0.3333333333333333,
              "#9c179e"
             ],
             [
              0.4444444444444444,
              "#bd3786"
             ],
             [
              0.5555555555555556,
              "#d8576b"
             ],
             [
              0.6666666666666666,
              "#ed7953"
             ],
             [
              0.7777777777777778,
              "#fb9f3a"
             ],
             [
              0.8888888888888888,
              "#fdca26"
             ],
             [
              1,
              "#f0f921"
             ]
            ],
            "type": "histogram2d"
           }
          ],
          "histogram2dcontour": [
           {
            "colorbar": {
             "outlinewidth": 0,
             "ticks": ""
            },
            "colorscale": [
             [
              0,
              "#0d0887"
             ],
             [
              0.1111111111111111,
              "#46039f"
             ],
             [
              0.2222222222222222,
              "#7201a8"
             ],
             [
              0.3333333333333333,
              "#9c179e"
             ],
             [
              0.4444444444444444,
              "#bd3786"
             ],
             [
              0.5555555555555556,
              "#d8576b"
             ],
             [
              0.6666666666666666,
              "#ed7953"
             ],
             [
              0.7777777777777778,
              "#fb9f3a"
             ],
             [
              0.8888888888888888,
              "#fdca26"
             ],
             [
              1,
              "#f0f921"
             ]
            ],
            "type": "histogram2dcontour"
           }
          ],
          "mesh3d": [
           {
            "colorbar": {
             "outlinewidth": 0,
             "ticks": ""
            },
            "type": "mesh3d"
           }
          ],
          "parcoords": [
           {
            "line": {
             "colorbar": {
              "outlinewidth": 0,
              "ticks": ""
             }
            },
            "type": "parcoords"
           }
          ],
          "pie": [
           {
            "automargin": true,
            "type": "pie"
           }
          ],
          "scatter": [
           {
            "fillpattern": {
             "fillmode": "overlay",
             "size": 10,
             "solidity": 0.2
            },
            "type": "scatter"
           }
          ],
          "scatter3d": [
           {
            "line": {
             "colorbar": {
              "outlinewidth": 0,
              "ticks": ""
             }
            },
            "marker": {
             "colorbar": {
              "outlinewidth": 0,
              "ticks": ""
             }
            },
            "type": "scatter3d"
           }
          ],
          "scattercarpet": [
           {
            "marker": {
             "colorbar": {
              "outlinewidth": 0,
              "ticks": ""
             }
            },
            "type": "scattercarpet"
           }
          ],
          "scattergeo": [
           {
            "marker": {
             "colorbar": {
              "outlinewidth": 0,
              "ticks": ""
             }
            },
            "type": "scattergeo"
           }
          ],
          "scattergl": [
           {
            "marker": {
             "colorbar": {
              "outlinewidth": 0,
              "ticks": ""
             }
            },
            "type": "scattergl"
           }
          ],
          "scattermapbox": [
           {
            "marker": {
             "colorbar": {
              "outlinewidth": 0,
              "ticks": ""
             }
            },
            "type": "scattermapbox"
           }
          ],
          "scatterpolar": [
           {
            "marker": {
             "colorbar": {
              "outlinewidth": 0,
              "ticks": ""
             }
            },
            "type": "scatterpolar"
           }
          ],
          "scatterpolargl": [
           {
            "marker": {
             "colorbar": {
              "outlinewidth": 0,
              "ticks": ""
             }
            },
            "type": "scatterpolargl"
           }
          ],
          "scatterternary": [
           {
            "marker": {
             "colorbar": {
              "outlinewidth": 0,
              "ticks": ""
             }
            },
            "type": "scatterternary"
           }
          ],
          "surface": [
           {
            "colorbar": {
             "outlinewidth": 0,
             "ticks": ""
            },
            "colorscale": [
             [
              0,
              "#0d0887"
             ],
             [
              0.1111111111111111,
              "#46039f"
             ],
             [
              0.2222222222222222,
              "#7201a8"
             ],
             [
              0.3333333333333333,
              "#9c179e"
             ],
             [
              0.4444444444444444,
              "#bd3786"
             ],
             [
              0.5555555555555556,
              "#d8576b"
             ],
             [
              0.6666666666666666,
              "#ed7953"
             ],
             [
              0.7777777777777778,
              "#fb9f3a"
             ],
             [
              0.8888888888888888,
              "#fdca26"
             ],
             [
              1,
              "#f0f921"
             ]
            ],
            "type": "surface"
           }
          ],
          "table": [
           {
            "cells": {
             "fill": {
              "color": "#EBF0F8"
             },
             "line": {
              "color": "white"
             }
            },
            "header": {
             "fill": {
              "color": "#C8D4E3"
             },
             "line": {
              "color": "white"
             }
            },
            "type": "table"
           }
          ]
         },
         "layout": {
          "annotationdefaults": {
           "arrowcolor": "#2a3f5f",
           "arrowhead": 0,
           "arrowwidth": 1
          },
          "autotypenumbers": "strict",
          "coloraxis": {
           "colorbar": {
            "outlinewidth": 0,
            "ticks": ""
           }
          },
          "colorscale": {
           "diverging": [
            [
             0,
             "#8e0152"
            ],
            [
             0.1,
             "#c51b7d"
            ],
            [
             0.2,
             "#de77ae"
            ],
            [
             0.3,
             "#f1b6da"
            ],
            [
             0.4,
             "#fde0ef"
            ],
            [
             0.5,
             "#f7f7f7"
            ],
            [
             0.6,
             "#e6f5d0"
            ],
            [
             0.7,
             "#b8e186"
            ],
            [
             0.8,
             "#7fbc41"
            ],
            [
             0.9,
             "#4d9221"
            ],
            [
             1,
             "#276419"
            ]
           ],
           "sequential": [
            [
             0,
             "#0d0887"
            ],
            [
             0.1111111111111111,
             "#46039f"
            ],
            [
             0.2222222222222222,
             "#7201a8"
            ],
            [
             0.3333333333333333,
             "#9c179e"
            ],
            [
             0.4444444444444444,
             "#bd3786"
            ],
            [
             0.5555555555555556,
             "#d8576b"
            ],
            [
             0.6666666666666666,
             "#ed7953"
            ],
            [
             0.7777777777777778,
             "#fb9f3a"
            ],
            [
             0.8888888888888888,
             "#fdca26"
            ],
            [
             1,
             "#f0f921"
            ]
           ],
           "sequentialminus": [
            [
             0,
             "#0d0887"
            ],
            [
             0.1111111111111111,
             "#46039f"
            ],
            [
             0.2222222222222222,
             "#7201a8"
            ],
            [
             0.3333333333333333,
             "#9c179e"
            ],
            [
             0.4444444444444444,
             "#bd3786"
            ],
            [
             0.5555555555555556,
             "#d8576b"
            ],
            [
             0.6666666666666666,
             "#ed7953"
            ],
            [
             0.7777777777777778,
             "#fb9f3a"
            ],
            [
             0.8888888888888888,
             "#fdca26"
            ],
            [
             1,
             "#f0f921"
            ]
           ]
          },
          "colorway": [
           "#636efa",
           "#EF553B",
           "#00cc96",
           "#ab63fa",
           "#FFA15A",
           "#19d3f3",
           "#FF6692",
           "#B6E880",
           "#FF97FF",
           "#FECB52"
          ],
          "font": {
           "color": "#2a3f5f"
          },
          "geo": {
           "bgcolor": "white",
           "lakecolor": "white",
           "landcolor": "#E5ECF6",
           "showlakes": true,
           "showland": true,
           "subunitcolor": "white"
          },
          "hoverlabel": {
           "align": "left"
          },
          "hovermode": "closest",
          "mapbox": {
           "style": "light"
          },
          "paper_bgcolor": "white",
          "plot_bgcolor": "#E5ECF6",
          "polar": {
           "angularaxis": {
            "gridcolor": "white",
            "linecolor": "white",
            "ticks": ""
           },
           "bgcolor": "#E5ECF6",
           "radialaxis": {
            "gridcolor": "white",
            "linecolor": "white",
            "ticks": ""
           }
          },
          "scene": {
           "xaxis": {
            "backgroundcolor": "#E5ECF6",
            "gridcolor": "white",
            "gridwidth": 2,
            "linecolor": "white",
            "showbackground": true,
            "ticks": "",
            "zerolinecolor": "white"
           },
           "yaxis": {
            "backgroundcolor": "#E5ECF6",
            "gridcolor": "white",
            "gridwidth": 2,
            "linecolor": "white",
            "showbackground": true,
            "ticks": "",
            "zerolinecolor": "white"
           },
           "zaxis": {
            "backgroundcolor": "#E5ECF6",
            "gridcolor": "white",
            "gridwidth": 2,
            "linecolor": "white",
            "showbackground": true,
            "ticks": "",
            "zerolinecolor": "white"
           }
          },
          "shapedefaults": {
           "line": {
            "color": "#2a3f5f"
           }
          },
          "ternary": {
           "aaxis": {
            "gridcolor": "white",
            "linecolor": "white",
            "ticks": ""
           },
           "baxis": {
            "gridcolor": "white",
            "linecolor": "white",
            "ticks": ""
           },
           "bgcolor": "#E5ECF6",
           "caxis": {
            "gridcolor": "white",
            "linecolor": "white",
            "ticks": ""
           }
          },
          "title": {
           "x": 0.05
          },
          "xaxis": {
           "automargin": true,
           "gridcolor": "white",
           "linecolor": "white",
           "ticks": "",
           "title": {
            "standoff": 15
           },
           "zerolinecolor": "white",
           "zerolinewidth": 2
          },
          "yaxis": {
           "automargin": true,
           "gridcolor": "white",
           "linecolor": "white",
           "ticks": "",
           "title": {
            "standoff": 15
           },
           "zerolinecolor": "white",
           "zerolinewidth": 2
          }
         }
        },
        "title": {
         "text": "Tagi z najgorszymi ocenami (ważone liczbą recenzji)"
        },
        "xaxis": {
         "tickangle": 45,
         "title": {
          "text": "Tagi"
         }
        },
        "yaxis": {
         "tickfont": {
          "color": "#90CAF9"
         },
         "title": {
          "font": {
           "color": "#90CAF9"
          },
          "text": "Średnia ocena"
         }
        },
        "yaxis2": {
         "overlaying": "y",
         "side": "right",
         "tickfont": {
          "color": "red"
         },
         "title": {
          "font": {
           "color": "red"
          },
          "text": "Średnia cena (zł)"
         }
        }
       }
      }
     },
     "metadata": {},
     "output_type": "display_data"
    }
   ],
   "source": [
    "def create_dual_axis_chart(df, title):\n",
    "    fig = go.Figure()\n",
    "\n",
    "    # Słupki dla średniej oceny\n",
    "    fig.add_trace(go.Bar(\n",
    "        x=df['Tag'],\n",
    "        y=df['Average Sentiment'],\n",
    "        name='Średnia ocena',\n",
    "        marker_color='#90CAF9',  # Łagodny pastelowy niebieski\n",
    "        yaxis='y1'\n",
    "    ))\n",
    "\n",
    "    # Linie i punkty dla średniej ceny\n",
    "    fig.add_trace(go.Scatter(\n",
    "        x=df['Tag'],\n",
    "        y=df['Average Price'],\n",
    "        name='Średnia cena',\n",
    "        mode='lines+markers',\n",
    "        marker=dict(color='red', size=10),\n",
    "        line=dict(width=2, dash='dot'),\n",
    "        yaxis='y2'\n",
    "    ))\n",
    "\n",
    "    # Konfiguracja osi Y\n",
    "    fig.update_layout(\n",
    "        title=title,\n",
    "        xaxis=dict(title='Tagi', tickangle=45),\n",
    "        yaxis=dict(\n",
    "            title='Średnia ocena',\n",
    "            titlefont=dict(color='#90CAF9'),  # Dopasowany kolor tytułu osi\n",
    "            tickfont=dict(color='#90CAF9'),\n",
    "        ),\n",
    "        yaxis2=dict(\n",
    "            title='Średnia cena (zł)',\n",
    "            titlefont=dict(color='red'),\n",
    "            tickfont=dict(color='red'),\n",
    "            overlaying='y',\n",
    "            side='right'\n",
    "        ),\n",
    "        legend=dict(x=0.5, y=1.1, orientation='h')\n",
    "    )\n",
    "\n",
    "    return fig\n",
    "\n",
    "# Przygotowanie wykresów dla najlepszych i najgorszych tagów\n",
    "fig_positive = create_dual_axis_chart(top_positive_tags, 'Tagi z najlepszymi ocenami (ważone liczbą recenzji)')\n",
    "fig_negative = create_dual_axis_chart(top_negative_tags, 'Tagi z najgorszymi ocenami (ważone liczbą recenzji)')\n",
    "\n",
    "# Wyświetlenie wykresów\n",
    "fig_positive.show()\n",
    "fig_negative.show()\n"
   ]
  },
  {
   "cell_type": "code",
   "execution_count": 42,
   "metadata": {},
   "outputs": [
    {
     "data": {
      "application/vnd.plotly.v1+json": {
       "config": {
        "plotlyServerURL": "https://plot.ly"
       },
       "data": [
        {
         "alignmentgroup": "True",
         "hovertemplate": "Tag=%{x}<br>Średnia liczba recenzji=%{y}<extra></extra>",
         "legendgroup": "",
         "marker": {
          "color": "#636efa",
          "pattern": {
           "shape": ""
          }
         },
         "name": "",
         "offsetgroup": "",
         "orientation": "v",
         "showlegend": false,
         "textposition": "auto",
         "type": "bar",
         "x": [
          "Nagość",
          "Battle royale",
          "Zespołowe",
          "Dedukcyjne towarzyskie",
          "Strzelanka z bohaterami",
          "Free to Play",
          "PvE",
          "Cyberpunk",
          "Sieciowa kooperacja",
          "Zombie",
          "Krasnoludy",
          "Świetna ścieżka dźwiękowa",
          "Strzelanka z perspektywą trzeciej osoby",
          "Koty",
          "Wiele zakończeń",
          "Strzelanka z łupami",
          "Wieloosobowe",
          "Czarny humor",
          "Podwodne",
          "Remake"
         ],
         "xaxis": "x",
         "y": [
          715099,
          488154,
          325243,
          311259.5,
          252322.5,
          212651.53333333333,
          198017.6,
          181124.2,
          154385.41666666666,
          148953.06666666668,
          148296,
          138515,
          136513,
          134626,
          129150,
          127655.16666666667,
          127305.26785714286,
          122373,
          121292.33333333333,
          113268
         ],
         "yaxis": "y"
        }
       ],
       "layout": {
        "barmode": "relative",
        "legend": {
         "tracegroupgap": 0
        },
        "template": {
         "data": {
          "bar": [
           {
            "error_x": {
             "color": "#2a3f5f"
            },
            "error_y": {
             "color": "#2a3f5f"
            },
            "marker": {
             "line": {
              "color": "#E5ECF6",
              "width": 0.5
             },
             "pattern": {
              "fillmode": "overlay",
              "size": 10,
              "solidity": 0.2
             }
            },
            "type": "bar"
           }
          ],
          "barpolar": [
           {
            "marker": {
             "line": {
              "color": "#E5ECF6",
              "width": 0.5
             },
             "pattern": {
              "fillmode": "overlay",
              "size": 10,
              "solidity": 0.2
             }
            },
            "type": "barpolar"
           }
          ],
          "carpet": [
           {
            "aaxis": {
             "endlinecolor": "#2a3f5f",
             "gridcolor": "white",
             "linecolor": "white",
             "minorgridcolor": "white",
             "startlinecolor": "#2a3f5f"
            },
            "baxis": {
             "endlinecolor": "#2a3f5f",
             "gridcolor": "white",
             "linecolor": "white",
             "minorgridcolor": "white",
             "startlinecolor": "#2a3f5f"
            },
            "type": "carpet"
           }
          ],
          "choropleth": [
           {
            "colorbar": {
             "outlinewidth": 0,
             "ticks": ""
            },
            "type": "choropleth"
           }
          ],
          "contour": [
           {
            "colorbar": {
             "outlinewidth": 0,
             "ticks": ""
            },
            "colorscale": [
             [
              0,
              "#0d0887"
             ],
             [
              0.1111111111111111,
              "#46039f"
             ],
             [
              0.2222222222222222,
              "#7201a8"
             ],
             [
              0.3333333333333333,
              "#9c179e"
             ],
             [
              0.4444444444444444,
              "#bd3786"
             ],
             [
              0.5555555555555556,
              "#d8576b"
             ],
             [
              0.6666666666666666,
              "#ed7953"
             ],
             [
              0.7777777777777778,
              "#fb9f3a"
             ],
             [
              0.8888888888888888,
              "#fdca26"
             ],
             [
              1,
              "#f0f921"
             ]
            ],
            "type": "contour"
           }
          ],
          "contourcarpet": [
           {
            "colorbar": {
             "outlinewidth": 0,
             "ticks": ""
            },
            "type": "contourcarpet"
           }
          ],
          "heatmap": [
           {
            "colorbar": {
             "outlinewidth": 0,
             "ticks": ""
            },
            "colorscale": [
             [
              0,
              "#0d0887"
             ],
             [
              0.1111111111111111,
              "#46039f"
             ],
             [
              0.2222222222222222,
              "#7201a8"
             ],
             [
              0.3333333333333333,
              "#9c179e"
             ],
             [
              0.4444444444444444,
              "#bd3786"
             ],
             [
              0.5555555555555556,
              "#d8576b"
             ],
             [
              0.6666666666666666,
              "#ed7953"
             ],
             [
              0.7777777777777778,
              "#fb9f3a"
             ],
             [
              0.8888888888888888,
              "#fdca26"
             ],
             [
              1,
              "#f0f921"
             ]
            ],
            "type": "heatmap"
           }
          ],
          "heatmapgl": [
           {
            "colorbar": {
             "outlinewidth": 0,
             "ticks": ""
            },
            "colorscale": [
             [
              0,
              "#0d0887"
             ],
             [
              0.1111111111111111,
              "#46039f"
             ],
             [
              0.2222222222222222,
              "#7201a8"
             ],
             [
              0.3333333333333333,
              "#9c179e"
             ],
             [
              0.4444444444444444,
              "#bd3786"
             ],
             [
              0.5555555555555556,
              "#d8576b"
             ],
             [
              0.6666666666666666,
              "#ed7953"
             ],
             [
              0.7777777777777778,
              "#fb9f3a"
             ],
             [
              0.8888888888888888,
              "#fdca26"
             ],
             [
              1,
              "#f0f921"
             ]
            ],
            "type": "heatmapgl"
           }
          ],
          "histogram": [
           {
            "marker": {
             "pattern": {
              "fillmode": "overlay",
              "size": 10,
              "solidity": 0.2
             }
            },
            "type": "histogram"
           }
          ],
          "histogram2d": [
           {
            "colorbar": {
             "outlinewidth": 0,
             "ticks": ""
            },
            "colorscale": [
             [
              0,
              "#0d0887"
             ],
             [
              0.1111111111111111,
              "#46039f"
             ],
             [
              0.2222222222222222,
              "#7201a8"
             ],
             [
              0.3333333333333333,
              "#9c179e"
             ],
             [
              0.4444444444444444,
              "#bd3786"
             ],
             [
              0.5555555555555556,
              "#d8576b"
             ],
             [
              0.6666666666666666,
              "#ed7953"
             ],
             [
              0.7777777777777778,
              "#fb9f3a"
             ],
             [
              0.8888888888888888,
              "#fdca26"
             ],
             [
              1,
              "#f0f921"
             ]
            ],
            "type": "histogram2d"
           }
          ],
          "histogram2dcontour": [
           {
            "colorbar": {
             "outlinewidth": 0,
             "ticks": ""
            },
            "colorscale": [
             [
              0,
              "#0d0887"
             ],
             [
              0.1111111111111111,
              "#46039f"
             ],
             [
              0.2222222222222222,
              "#7201a8"
             ],
             [
              0.3333333333333333,
              "#9c179e"
             ],
             [
              0.4444444444444444,
              "#bd3786"
             ],
             [
              0.5555555555555556,
              "#d8576b"
             ],
             [
              0.6666666666666666,
              "#ed7953"
             ],
             [
              0.7777777777777778,
              "#fb9f3a"
             ],
             [
              0.8888888888888888,
              "#fdca26"
             ],
             [
              1,
              "#f0f921"
             ]
            ],
            "type": "histogram2dcontour"
           }
          ],
          "mesh3d": [
           {
            "colorbar": {
             "outlinewidth": 0,
             "ticks": ""
            },
            "type": "mesh3d"
           }
          ],
          "parcoords": [
           {
            "line": {
             "colorbar": {
              "outlinewidth": 0,
              "ticks": ""
             }
            },
            "type": "parcoords"
           }
          ],
          "pie": [
           {
            "automargin": true,
            "type": "pie"
           }
          ],
          "scatter": [
           {
            "fillpattern": {
             "fillmode": "overlay",
             "size": 10,
             "solidity": 0.2
            },
            "type": "scatter"
           }
          ],
          "scatter3d": [
           {
            "line": {
             "colorbar": {
              "outlinewidth": 0,
              "ticks": ""
             }
            },
            "marker": {
             "colorbar": {
              "outlinewidth": 0,
              "ticks": ""
             }
            },
            "type": "scatter3d"
           }
          ],
          "scattercarpet": [
           {
            "marker": {
             "colorbar": {
              "outlinewidth": 0,
              "ticks": ""
             }
            },
            "type": "scattercarpet"
           }
          ],
          "scattergeo": [
           {
            "marker": {
             "colorbar": {
              "outlinewidth": 0,
              "ticks": ""
             }
            },
            "type": "scattergeo"
           }
          ],
          "scattergl": [
           {
            "marker": {
             "colorbar": {
              "outlinewidth": 0,
              "ticks": ""
             }
            },
            "type": "scattergl"
           }
          ],
          "scattermapbox": [
           {
            "marker": {
             "colorbar": {
              "outlinewidth": 0,
              "ticks": ""
             }
            },
            "type": "scattermapbox"
           }
          ],
          "scatterpolar": [
           {
            "marker": {
             "colorbar": {
              "outlinewidth": 0,
              "ticks": ""
             }
            },
            "type": "scatterpolar"
           }
          ],
          "scatterpolargl": [
           {
            "marker": {
             "colorbar": {
              "outlinewidth": 0,
              "ticks": ""
             }
            },
            "type": "scatterpolargl"
           }
          ],
          "scatterternary": [
           {
            "marker": {
             "colorbar": {
              "outlinewidth": 0,
              "ticks": ""
             }
            },
            "type": "scatterternary"
           }
          ],
          "surface": [
           {
            "colorbar": {
             "outlinewidth": 0,
             "ticks": ""
            },
            "colorscale": [
             [
              0,
              "#0d0887"
             ],
             [
              0.1111111111111111,
              "#46039f"
             ],
             [
              0.2222222222222222,
              "#7201a8"
             ],
             [
              0.3333333333333333,
              "#9c179e"
             ],
             [
              0.4444444444444444,
              "#bd3786"
             ],
             [
              0.5555555555555556,
              "#d8576b"
             ],
             [
              0.6666666666666666,
              "#ed7953"
             ],
             [
              0.7777777777777778,
              "#fb9f3a"
             ],
             [
              0.8888888888888888,
              "#fdca26"
             ],
             [
              1,
              "#f0f921"
             ]
            ],
            "type": "surface"
           }
          ],
          "table": [
           {
            "cells": {
             "fill": {
              "color": "#EBF0F8"
             },
             "line": {
              "color": "white"
             }
            },
            "header": {
             "fill": {
              "color": "#C8D4E3"
             },
             "line": {
              "color": "white"
             }
            },
            "type": "table"
           }
          ]
         },
         "layout": {
          "annotationdefaults": {
           "arrowcolor": "#2a3f5f",
           "arrowhead": 0,
           "arrowwidth": 1
          },
          "autotypenumbers": "strict",
          "coloraxis": {
           "colorbar": {
            "outlinewidth": 0,
            "ticks": ""
           }
          },
          "colorscale": {
           "diverging": [
            [
             0,
             "#8e0152"
            ],
            [
             0.1,
             "#c51b7d"
            ],
            [
             0.2,
             "#de77ae"
            ],
            [
             0.3,
             "#f1b6da"
            ],
            [
             0.4,
             "#fde0ef"
            ],
            [
             0.5,
             "#f7f7f7"
            ],
            [
             0.6,
             "#e6f5d0"
            ],
            [
             0.7,
             "#b8e186"
            ],
            [
             0.8,
             "#7fbc41"
            ],
            [
             0.9,
             "#4d9221"
            ],
            [
             1,
             "#276419"
            ]
           ],
           "sequential": [
            [
             0,
             "#0d0887"
            ],
            [
             0.1111111111111111,
             "#46039f"
            ],
            [
             0.2222222222222222,
             "#7201a8"
            ],
            [
             0.3333333333333333,
             "#9c179e"
            ],
            [
             0.4444444444444444,
             "#bd3786"
            ],
            [
             0.5555555555555556,
             "#d8576b"
            ],
            [
             0.6666666666666666,
             "#ed7953"
            ],
            [
             0.7777777777777778,
             "#fb9f3a"
            ],
            [
             0.8888888888888888,
             "#fdca26"
            ],
            [
             1,
             "#f0f921"
            ]
           ],
           "sequentialminus": [
            [
             0,
             "#0d0887"
            ],
            [
             0.1111111111111111,
             "#46039f"
            ],
            [
             0.2222222222222222,
             "#7201a8"
            ],
            [
             0.3333333333333333,
             "#9c179e"
            ],
            [
             0.4444444444444444,
             "#bd3786"
            ],
            [
             0.5555555555555556,
             "#d8576b"
            ],
            [
             0.6666666666666666,
             "#ed7953"
            ],
            [
             0.7777777777777778,
             "#fb9f3a"
            ],
            [
             0.8888888888888888,
             "#fdca26"
            ],
            [
             1,
             "#f0f921"
            ]
           ]
          },
          "colorway": [
           "#636efa",
           "#EF553B",
           "#00cc96",
           "#ab63fa",
           "#FFA15A",
           "#19d3f3",
           "#FF6692",
           "#B6E880",
           "#FF97FF",
           "#FECB52"
          ],
          "font": {
           "color": "#2a3f5f"
          },
          "geo": {
           "bgcolor": "white",
           "lakecolor": "white",
           "landcolor": "#E5ECF6",
           "showlakes": true,
           "showland": true,
           "subunitcolor": "white"
          },
          "hoverlabel": {
           "align": "left"
          },
          "hovermode": "closest",
          "mapbox": {
           "style": "light"
          },
          "paper_bgcolor": "white",
          "plot_bgcolor": "#E5ECF6",
          "polar": {
           "angularaxis": {
            "gridcolor": "white",
            "linecolor": "white",
            "ticks": ""
           },
           "bgcolor": "#E5ECF6",
           "radialaxis": {
            "gridcolor": "white",
            "linecolor": "white",
            "ticks": ""
           }
          },
          "scene": {
           "xaxis": {
            "backgroundcolor": "#E5ECF6",
            "gridcolor": "white",
            "gridwidth": 2,
            "linecolor": "white",
            "showbackground": true,
            "ticks": "",
            "zerolinecolor": "white"
           },
           "yaxis": {
            "backgroundcolor": "#E5ECF6",
            "gridcolor": "white",
            "gridwidth": 2,
            "linecolor": "white",
            "showbackground": true,
            "ticks": "",
            "zerolinecolor": "white"
           },
           "zaxis": {
            "backgroundcolor": "#E5ECF6",
            "gridcolor": "white",
            "gridwidth": 2,
            "linecolor": "white",
            "showbackground": true,
            "ticks": "",
            "zerolinecolor": "white"
           }
          },
          "shapedefaults": {
           "line": {
            "color": "#2a3f5f"
           }
          },
          "ternary": {
           "aaxis": {
            "gridcolor": "white",
            "linecolor": "white",
            "ticks": ""
           },
           "baxis": {
            "gridcolor": "white",
            "linecolor": "white",
            "ticks": ""
           },
           "bgcolor": "#E5ECF6",
           "caxis": {
            "gridcolor": "white",
            "linecolor": "white",
            "ticks": ""
           }
          },
          "title": {
           "x": 0.05
          },
          "xaxis": {
           "automargin": true,
           "gridcolor": "white",
           "linecolor": "white",
           "ticks": "",
           "title": {
            "standoff": 15
           },
           "zerolinecolor": "white",
           "zerolinewidth": 2
          },
          "yaxis": {
           "automargin": true,
           "gridcolor": "white",
           "linecolor": "white",
           "ticks": "",
           "title": {
            "standoff": 15
           },
           "zerolinecolor": "white",
           "zerolinewidth": 2
          }
         }
        },
        "title": {
         "text": "Średnia liczba recenzji na najpopularniejsze tagi"
        },
        "xaxis": {
         "anchor": "y",
         "domain": [
          0,
          1
         ],
         "tickangle": 45,
         "title": {
          "text": "Tag"
         }
        },
        "yaxis": {
         "anchor": "x",
         "domain": [
          0,
          1
         ],
         "title": {
          "text": "Średnia liczba recenzji"
         }
        }
       }
      }
     },
     "metadata": {},
     "output_type": "display_data"
    }
   ],
   "source": [
    "def avg_reviews_per_tag(df, top_n=20):\n",
    "    tags = df['Tagi'].apply(lambda x: x.split(', '))\n",
    "    tag_reviews = Counter()\n",
    "    tag_counts = Counter()\n",
    "\n",
    "    for idx, tag_list in enumerate(tags):\n",
    "        for tag in tag_list:\n",
    "            tag_reviews[tag] += df.iloc[idx]['Liczba recenzji']\n",
    "            tag_counts[tag] += 1\n",
    "\n",
    "    avg_reviews = {tag: tag_reviews[tag] / tag_counts[tag] for tag in tag_counts}\n",
    "    avg_reviews_df = pd.DataFrame(list(avg_reviews.items()), columns=['Tag', 'Average Reviews'])\n",
    "    return avg_reviews_df.nlargest(top_n, 'Average Reviews')\n",
    "\n",
    "# Analiza\n",
    "tag_avg_reviews_df = avg_reviews_per_tag(df)\n",
    "\n",
    "# Wizualizacja\n",
    "fig = px.bar(tag_avg_reviews_df, x='Tag', y='Average Reviews',\n",
    "             title='Średnia liczba recenzji na najpopularniejsze tagi',\n",
    "             labels={'Average Reviews': 'Średnia liczba recenzji'})\n",
    "fig.update_layout(xaxis_tickangle=45)\n",
    "fig.show()\n"
   ]
  },
  {
   "cell_type": "code",
   "execution_count": 43,
   "metadata": {},
   "outputs": [
    {
     "data": {
      "application/vnd.plotly.v1+json": {
       "config": {
        "plotlyServerURL": "https://plot.ly"
       },
       "data": [
        {
         "alignmentgroup": "True",
         "hovertemplate": "Tag=%{x}<br>Średnia cena=%{y}<extra></extra>",
         "legendgroup": "",
         "marker": {
          "color": "#636efa",
          "pattern": {
           "shape": ""
          }
         },
         "name": "",
         "offsetgroup": "",
         "orientation": "v",
         "showlegend": false,
         "textposition": "auto",
         "type": "bar",
         "x": [
          "Nagość",
          "Mystery dungeon",
          "Czarna komedia",
          "Nauka",
          "LEGO",
          "Skrytobójca",
          "Perspektywa trzeciej osoby",
          "VR",
          "CRPG",
          "Żeńska postać w roli głównej",
          "Rytmiczne",
          "Muzyczne",
          "Walka turowa",
          "Transhumanizm",
          "Hack and slash",
          "Platformowe 3D",
          "Mroczne fantasy",
          "Wojskowe",
          "Skradanie",
          "Łupy"
         ],
         "xaxis": "x",
         "y": [
          199,
          199,
          169.9,
          166.945,
          160.495,
          159.9,
          159.33333333333334,
          150.24571428571429,
          148.32666666666668,
          141.83857142857144,
          138.99,
          138.99,
          138.99,
          138.99,
          134,
          131.63,
          128.49,
          120.8175,
          119.945,
          118.99000000000001
         ],
         "yaxis": "y"
        }
       ],
       "layout": {
        "barmode": "relative",
        "legend": {
         "tracegroupgap": 0
        },
        "template": {
         "data": {
          "bar": [
           {
            "error_x": {
             "color": "#2a3f5f"
            },
            "error_y": {
             "color": "#2a3f5f"
            },
            "marker": {
             "line": {
              "color": "#E5ECF6",
              "width": 0.5
             },
             "pattern": {
              "fillmode": "overlay",
              "size": 10,
              "solidity": 0.2
             }
            },
            "type": "bar"
           }
          ],
          "barpolar": [
           {
            "marker": {
             "line": {
              "color": "#E5ECF6",
              "width": 0.5
             },
             "pattern": {
              "fillmode": "overlay",
              "size": 10,
              "solidity": 0.2
             }
            },
            "type": "barpolar"
           }
          ],
          "carpet": [
           {
            "aaxis": {
             "endlinecolor": "#2a3f5f",
             "gridcolor": "white",
             "linecolor": "white",
             "minorgridcolor": "white",
             "startlinecolor": "#2a3f5f"
            },
            "baxis": {
             "endlinecolor": "#2a3f5f",
             "gridcolor": "white",
             "linecolor": "white",
             "minorgridcolor": "white",
             "startlinecolor": "#2a3f5f"
            },
            "type": "carpet"
           }
          ],
          "choropleth": [
           {
            "colorbar": {
             "outlinewidth": 0,
             "ticks": ""
            },
            "type": "choropleth"
           }
          ],
          "contour": [
           {
            "colorbar": {
             "outlinewidth": 0,
             "ticks": ""
            },
            "colorscale": [
             [
              0,
              "#0d0887"
             ],
             [
              0.1111111111111111,
              "#46039f"
             ],
             [
              0.2222222222222222,
              "#7201a8"
             ],
             [
              0.3333333333333333,
              "#9c179e"
             ],
             [
              0.4444444444444444,
              "#bd3786"
             ],
             [
              0.5555555555555556,
              "#d8576b"
             ],
             [
              0.6666666666666666,
              "#ed7953"
             ],
             [
              0.7777777777777778,
              "#fb9f3a"
             ],
             [
              0.8888888888888888,
              "#fdca26"
             ],
             [
              1,
              "#f0f921"
             ]
            ],
            "type": "contour"
           }
          ],
          "contourcarpet": [
           {
            "colorbar": {
             "outlinewidth": 0,
             "ticks": ""
            },
            "type": "contourcarpet"
           }
          ],
          "heatmap": [
           {
            "colorbar": {
             "outlinewidth": 0,
             "ticks": ""
            },
            "colorscale": [
             [
              0,
              "#0d0887"
             ],
             [
              0.1111111111111111,
              "#46039f"
             ],
             [
              0.2222222222222222,
              "#7201a8"
             ],
             [
              0.3333333333333333,
              "#9c179e"
             ],
             [
              0.4444444444444444,
              "#bd3786"
             ],
             [
              0.5555555555555556,
              "#d8576b"
             ],
             [
              0.6666666666666666,
              "#ed7953"
             ],
             [
              0.7777777777777778,
              "#fb9f3a"
             ],
             [
              0.8888888888888888,
              "#fdca26"
             ],
             [
              1,
              "#f0f921"
             ]
            ],
            "type": "heatmap"
           }
          ],
          "heatmapgl": [
           {
            "colorbar": {
             "outlinewidth": 0,
             "ticks": ""
            },
            "colorscale": [
             [
              0,
              "#0d0887"
             ],
             [
              0.1111111111111111,
              "#46039f"
             ],
             [
              0.2222222222222222,
              "#7201a8"
             ],
             [
              0.3333333333333333,
              "#9c179e"
             ],
             [
              0.4444444444444444,
              "#bd3786"
             ],
             [
              0.5555555555555556,
              "#d8576b"
             ],
             [
              0.6666666666666666,
              "#ed7953"
             ],
             [
              0.7777777777777778,
              "#fb9f3a"
             ],
             [
              0.8888888888888888,
              "#fdca26"
             ],
             [
              1,
              "#f0f921"
             ]
            ],
            "type": "heatmapgl"
           }
          ],
          "histogram": [
           {
            "marker": {
             "pattern": {
              "fillmode": "overlay",
              "size": 10,
              "solidity": 0.2
             }
            },
            "type": "histogram"
           }
          ],
          "histogram2d": [
           {
            "colorbar": {
             "outlinewidth": 0,
             "ticks": ""
            },
            "colorscale": [
             [
              0,
              "#0d0887"
             ],
             [
              0.1111111111111111,
              "#46039f"
             ],
             [
              0.2222222222222222,
              "#7201a8"
             ],
             [
              0.3333333333333333,
              "#9c179e"
             ],
             [
              0.4444444444444444,
              "#bd3786"
             ],
             [
              0.5555555555555556,
              "#d8576b"
             ],
             [
              0.6666666666666666,
              "#ed7953"
             ],
             [
              0.7777777777777778,
              "#fb9f3a"
             ],
             [
              0.8888888888888888,
              "#fdca26"
             ],
             [
              1,
              "#f0f921"
             ]
            ],
            "type": "histogram2d"
           }
          ],
          "histogram2dcontour": [
           {
            "colorbar": {
             "outlinewidth": 0,
             "ticks": ""
            },
            "colorscale": [
             [
              0,
              "#0d0887"
             ],
             [
              0.1111111111111111,
              "#46039f"
             ],
             [
              0.2222222222222222,
              "#7201a8"
             ],
             [
              0.3333333333333333,
              "#9c179e"
             ],
             [
              0.4444444444444444,
              "#bd3786"
             ],
             [
              0.5555555555555556,
              "#d8576b"
             ],
             [
              0.6666666666666666,
              "#ed7953"
             ],
             [
              0.7777777777777778,
              "#fb9f3a"
             ],
             [
              0.8888888888888888,
              "#fdca26"
             ],
             [
              1,
              "#f0f921"
             ]
            ],
            "type": "histogram2dcontour"
           }
          ],
          "mesh3d": [
           {
            "colorbar": {
             "outlinewidth": 0,
             "ticks": ""
            },
            "type": "mesh3d"
           }
          ],
          "parcoords": [
           {
            "line": {
             "colorbar": {
              "outlinewidth": 0,
              "ticks": ""
             }
            },
            "type": "parcoords"
           }
          ],
          "pie": [
           {
            "automargin": true,
            "type": "pie"
           }
          ],
          "scatter": [
           {
            "fillpattern": {
             "fillmode": "overlay",
             "size": 10,
             "solidity": 0.2
            },
            "type": "scatter"
           }
          ],
          "scatter3d": [
           {
            "line": {
             "colorbar": {
              "outlinewidth": 0,
              "ticks": ""
             }
            },
            "marker": {
             "colorbar": {
              "outlinewidth": 0,
              "ticks": ""
             }
            },
            "type": "scatter3d"
           }
          ],
          "scattercarpet": [
           {
            "marker": {
             "colorbar": {
              "outlinewidth": 0,
              "ticks": ""
             }
            },
            "type": "scattercarpet"
           }
          ],
          "scattergeo": [
           {
            "marker": {
             "colorbar": {
              "outlinewidth": 0,
              "ticks": ""
             }
            },
            "type": "scattergeo"
           }
          ],
          "scattergl": [
           {
            "marker": {
             "colorbar": {
              "outlinewidth": 0,
              "ticks": ""
             }
            },
            "type": "scattergl"
           }
          ],
          "scattermapbox": [
           {
            "marker": {
             "colorbar": {
              "outlinewidth": 0,
              "ticks": ""
             }
            },
            "type": "scattermapbox"
           }
          ],
          "scatterpolar": [
           {
            "marker": {
             "colorbar": {
              "outlinewidth": 0,
              "ticks": ""
             }
            },
            "type": "scatterpolar"
           }
          ],
          "scatterpolargl": [
           {
            "marker": {
             "colorbar": {
              "outlinewidth": 0,
              "ticks": ""
             }
            },
            "type": "scatterpolargl"
           }
          ],
          "scatterternary": [
           {
            "marker": {
             "colorbar": {
              "outlinewidth": 0,
              "ticks": ""
             }
            },
            "type": "scatterternary"
           }
          ],
          "surface": [
           {
            "colorbar": {
             "outlinewidth": 0,
             "ticks": ""
            },
            "colorscale": [
             [
              0,
              "#0d0887"
             ],
             [
              0.1111111111111111,
              "#46039f"
             ],
             [
              0.2222222222222222,
              "#7201a8"
             ],
             [
              0.3333333333333333,
              "#9c179e"
             ],
             [
              0.4444444444444444,
              "#bd3786"
             ],
             [
              0.5555555555555556,
              "#d8576b"
             ],
             [
              0.6666666666666666,
              "#ed7953"
             ],
             [
              0.7777777777777778,
              "#fb9f3a"
             ],
             [
              0.8888888888888888,
              "#fdca26"
             ],
             [
              1,
              "#f0f921"
             ]
            ],
            "type": "surface"
           }
          ],
          "table": [
           {
            "cells": {
             "fill": {
              "color": "#EBF0F8"
             },
             "line": {
              "color": "white"
             }
            },
            "header": {
             "fill": {
              "color": "#C8D4E3"
             },
             "line": {
              "color": "white"
             }
            },
            "type": "table"
           }
          ]
         },
         "layout": {
          "annotationdefaults": {
           "arrowcolor": "#2a3f5f",
           "arrowhead": 0,
           "arrowwidth": 1
          },
          "autotypenumbers": "strict",
          "coloraxis": {
           "colorbar": {
            "outlinewidth": 0,
            "ticks": ""
           }
          },
          "colorscale": {
           "diverging": [
            [
             0,
             "#8e0152"
            ],
            [
             0.1,
             "#c51b7d"
            ],
            [
             0.2,
             "#de77ae"
            ],
            [
             0.3,
             "#f1b6da"
            ],
            [
             0.4,
             "#fde0ef"
            ],
            [
             0.5,
             "#f7f7f7"
            ],
            [
             0.6,
             "#e6f5d0"
            ],
            [
             0.7,
             "#b8e186"
            ],
            [
             0.8,
             "#7fbc41"
            ],
            [
             0.9,
             "#4d9221"
            ],
            [
             1,
             "#276419"
            ]
           ],
           "sequential": [
            [
             0,
             "#0d0887"
            ],
            [
             0.1111111111111111,
             "#46039f"
            ],
            [
             0.2222222222222222,
             "#7201a8"
            ],
            [
             0.3333333333333333,
             "#9c179e"
            ],
            [
             0.4444444444444444,
             "#bd3786"
            ],
            [
             0.5555555555555556,
             "#d8576b"
            ],
            [
             0.6666666666666666,
             "#ed7953"
            ],
            [
             0.7777777777777778,
             "#fb9f3a"
            ],
            [
             0.8888888888888888,
             "#fdca26"
            ],
            [
             1,
             "#f0f921"
            ]
           ],
           "sequentialminus": [
            [
             0,
             "#0d0887"
            ],
            [
             0.1111111111111111,
             "#46039f"
            ],
            [
             0.2222222222222222,
             "#7201a8"
            ],
            [
             0.3333333333333333,
             "#9c179e"
            ],
            [
             0.4444444444444444,
             "#bd3786"
            ],
            [
             0.5555555555555556,
             "#d8576b"
            ],
            [
             0.6666666666666666,
             "#ed7953"
            ],
            [
             0.7777777777777778,
             "#fb9f3a"
            ],
            [
             0.8888888888888888,
             "#fdca26"
            ],
            [
             1,
             "#f0f921"
            ]
           ]
          },
          "colorway": [
           "#636efa",
           "#EF553B",
           "#00cc96",
           "#ab63fa",
           "#FFA15A",
           "#19d3f3",
           "#FF6692",
           "#B6E880",
           "#FF97FF",
           "#FECB52"
          ],
          "font": {
           "color": "#2a3f5f"
          },
          "geo": {
           "bgcolor": "white",
           "lakecolor": "white",
           "landcolor": "#E5ECF6",
           "showlakes": true,
           "showland": true,
           "subunitcolor": "white"
          },
          "hoverlabel": {
           "align": "left"
          },
          "hovermode": "closest",
          "mapbox": {
           "style": "light"
          },
          "paper_bgcolor": "white",
          "plot_bgcolor": "#E5ECF6",
          "polar": {
           "angularaxis": {
            "gridcolor": "white",
            "linecolor": "white",
            "ticks": ""
           },
           "bgcolor": "#E5ECF6",
           "radialaxis": {
            "gridcolor": "white",
            "linecolor": "white",
            "ticks": ""
           }
          },
          "scene": {
           "xaxis": {
            "backgroundcolor": "#E5ECF6",
            "gridcolor": "white",
            "gridwidth": 2,
            "linecolor": "white",
            "showbackground": true,
            "ticks": "",
            "zerolinecolor": "white"
           },
           "yaxis": {
            "backgroundcolor": "#E5ECF6",
            "gridcolor": "white",
            "gridwidth": 2,
            "linecolor": "white",
            "showbackground": true,
            "ticks": "",
            "zerolinecolor": "white"
           },
           "zaxis": {
            "backgroundcolor": "#E5ECF6",
            "gridcolor": "white",
            "gridwidth": 2,
            "linecolor": "white",
            "showbackground": true,
            "ticks": "",
            "zerolinecolor": "white"
           }
          },
          "shapedefaults": {
           "line": {
            "color": "#2a3f5f"
           }
          },
          "ternary": {
           "aaxis": {
            "gridcolor": "white",
            "linecolor": "white",
            "ticks": ""
           },
           "baxis": {
            "gridcolor": "white",
            "linecolor": "white",
            "ticks": ""
           },
           "bgcolor": "#E5ECF6",
           "caxis": {
            "gridcolor": "white",
            "linecolor": "white",
            "ticks": ""
           }
          },
          "title": {
           "x": 0.05
          },
          "xaxis": {
           "automargin": true,
           "gridcolor": "white",
           "linecolor": "white",
           "ticks": "",
           "title": {
            "standoff": 15
           },
           "zerolinecolor": "white",
           "zerolinewidth": 2
          },
          "yaxis": {
           "automargin": true,
           "gridcolor": "white",
           "linecolor": "white",
           "ticks": "",
           "title": {
            "standoff": 15
           },
           "zerolinecolor": "white",
           "zerolinewidth": 2
          }
         }
        },
        "title": {
         "text": "Średnia cena dla najdroższych tagów"
        },
        "xaxis": {
         "anchor": "y",
         "domain": [
          0,
          1
         ],
         "tickangle": 45,
         "title": {
          "text": "Tag"
         }
        },
        "yaxis": {
         "anchor": "x",
         "domain": [
          0,
          1
         ],
         "title": {
          "text": "Średnia cena"
         }
        }
       }
      }
     },
     "metadata": {},
     "output_type": "display_data"
    }
   ],
   "source": [
    "def avg_price_per_tag(df, top_n=20):\n",
    "    tags = df['Tagi'].apply(lambda x: x.split(', '))\n",
    "    tag_prices = Counter()\n",
    "    tag_counts = Counter()\n",
    "\n",
    "    for idx, tag_list in enumerate(tags):\n",
    "        for tag in tag_list:\n",
    "            tag_prices[tag] += df.iloc[idx]['Cena']\n",
    "            tag_counts[tag] += 1\n",
    "\n",
    "    avg_prices = {tag: tag_prices[tag] / tag_counts[tag] for tag in tag_counts}\n",
    "    avg_prices_df = pd.DataFrame(list(avg_prices.items()), columns=['Tag', 'Average Price'])\n",
    "    return avg_prices_df.nlargest(top_n, 'Average Price')\n",
    "\n",
    "# Analiza\n",
    "tag_avg_price_df = avg_price_per_tag(df)\n",
    "\n",
    "# Wizualizacja\n",
    "fig = px.bar(tag_avg_price_df, x='Tag', y='Average Price',\n",
    "             title='Średnia cena dla najdroższych tagów',\n",
    "             labels={'Average Price': 'Średnia cena'})\n",
    "fig.update_layout(xaxis_tickangle=45)\n",
    "fig.show()\n"
   ]
  },
  {
   "cell_type": "code",
   "execution_count": null,
   "metadata": {},
   "outputs": [],
   "source": [
    "fig = px.box(df, x='tag_count', y='Cena', title='Rozkład cen w zależności od liczby tagów', labels={'tag_count': 'Liczba tagów', 'price': 'Cena (zł)'})\n",
    "fig.show()\n",
    "\n"
   ]
  },
  {
   "cell_type": "code",
   "execution_count": null,
   "metadata": {},
   "outputs": [
    {
     "data": {
      "application/vnd.plotly.v1+json": {
       "config": {
        "plotlyServerURL": "https://plot.ly"
       },
       "data": [
        {
         "coloraxis": "coloraxis",
         "hovertemplate": "x: %{x}<br>y: %{y}<br>Liczba współwystąpień: %{z}<extra></extra>",
         "name": "0",
         "texttemplate": "%{z}",
         "type": "heatmap",
         "x": [
          "Strategiczne",
          "Akcja",
          "Science fiction",
          "Wieloosobowe",
          "Kosmos",
          "Otwarty świat",
          "Jednoosobowe",
          "Symulatory",
          "FPS",
          "Survival",
          "Bogata fabuła",
          "Przygodowe",
          "RTS",
          "Strzelanka",
          "RPG",
          "Postapokaliptyczne",
          "Eksploracja",
          "Horror",
          "Kooperacja",
          "Budowanie bazy"
         ],
         "xaxis": "x",
         "y": [
          "Strategiczne",
          "Akcja",
          "Science fiction",
          "Wieloosobowe",
          "Kosmos",
          "Otwarty świat",
          "Jednoosobowe",
          "Symulatory",
          "FPS",
          "Survival",
          "Bogata fabuła",
          "Przygodowe",
          "RTS",
          "Strzelanka",
          "RPG",
          "Postapokaliptyczne",
          "Eksploracja",
          "Horror",
          "Kooperacja",
          "Budowanie bazy"
         ],
         "yaxis": "y",
         "z": [
          [
           0,
           4,
           31,
           8,
           31,
           0,
           11,
           32,
           0,
           10,
           2,
           0,
           28,
           0,
           3,
           6,
           2,
           1,
           2,
           10
          ],
          [
           4,
           0,
           9,
           11,
           3,
           14,
           11,
           7,
           17,
           2,
           4,
           13,
           2,
           12,
           6,
           4,
           5,
           3,
           8,
           0
          ],
          [
           31,
           9,
           0,
           6,
           27,
           4,
           10,
           13,
           5,
           1,
           8,
           4,
           13,
           1,
           3,
           0,
           1,
           3,
           1,
           1
          ],
          [
           8,
           11,
           6,
           0,
           8,
           17,
           4,
           0,
           10,
           15,
           2,
           2,
           7,
           5,
           3,
           1,
           0,
           2,
           12,
           5
          ],
          [
           31,
           3,
           27,
           8,
           0,
           4,
           2,
           20,
           1,
           4,
           2,
           3,
           9,
           1,
           0,
           1,
           5,
           2,
           1,
           1
          ],
          [
           0,
           14,
           4,
           17,
           4,
           0,
           7,
           0,
           7,
           19,
           3,
           5,
           0,
           1,
           12,
           10,
           5,
           1,
           3,
           2
          ],
          [
           11,
           11,
           10,
           4,
           2,
           7,
           0,
           5,
           7,
           5,
           5,
           8,
           8,
           2,
           6,
           4,
           1,
           1,
           0,
           2
          ],
          [
           32,
           7,
           13,
           0,
           20,
           0,
           5,
           0,
           2,
           3,
           0,
           2,
           3,
           2,
           0,
           1,
           0,
           0,
           1,
           1
          ],
          [
           0,
           17,
           5,
           10,
           1,
           7,
           7,
           2,
           0,
           2,
           6,
           3,
           0,
           15,
           1,
           6,
           2,
           2,
           5,
           1
          ],
          [
           10,
           2,
           1,
           15,
           4,
           19,
           5,
           3,
           2,
           0,
           1,
           2,
           0,
           0,
           3,
           8,
           3,
           3,
           2,
           8
          ],
          [
           2,
           4,
           8,
           2,
           2,
           3,
           5,
           0,
           6,
           1,
           0,
           5,
           2,
           2,
           5,
           5,
           3,
           4,
           0,
           0
          ],
          [
           0,
           13,
           4,
           2,
           3,
           5,
           8,
           2,
           3,
           2,
           5,
           0,
           0,
           4,
           4,
           0,
           7,
           2,
           2,
           1
          ],
          [
           28,
           2,
           13,
           7,
           9,
           0,
           8,
           3,
           0,
           0,
           2,
           0,
           0,
           0,
           0,
           0,
           0,
           0,
           2,
           8
          ],
          [
           0,
           12,
           1,
           5,
           1,
           1,
           2,
           2,
           15,
           0,
           2,
           4,
           0,
           0,
           1,
           1,
           5,
           1,
           2,
           0
          ],
          [
           3,
           6,
           3,
           3,
           0,
           12,
           6,
           0,
           1,
           3,
           5,
           4,
           0,
           1,
           0,
           7,
           4,
           1,
           0,
           0
          ],
          [
           6,
           4,
           0,
           1,
           1,
           10,
           4,
           1,
           6,
           8,
           5,
           0,
           0,
           1,
           7,
           0,
           1,
           1,
           0,
           2
          ],
          [
           2,
           5,
           1,
           0,
           5,
           5,
           1,
           0,
           2,
           3,
           3,
           7,
           0,
           5,
           4,
           1,
           0,
           3,
           0,
           0
          ],
          [
           1,
           3,
           3,
           2,
           2,
           1,
           1,
           0,
           2,
           3,
           4,
           2,
           0,
           1,
           1,
           1,
           3,
           0,
           4,
           0
          ],
          [
           2,
           8,
           1,
           12,
           1,
           3,
           0,
           1,
           5,
           2,
           0,
           2,
           2,
           2,
           0,
           0,
           0,
           4,
           0,
           1
          ],
          [
           10,
           0,
           1,
           5,
           1,
           2,
           2,
           1,
           1,
           8,
           0,
           1,
           8,
           0,
           0,
           2,
           0,
           0,
           1,
           0
          ]
         ]
        }
       ],
       "layout": {
        "coloraxis": {
         "colorbar": {
          "title": {
           "text": "Liczba współwystąpień"
          }
         },
         "colorscale": [
          [
           0,
           "#0d0887"
          ],
          [
           0.1111111111111111,
           "#46039f"
          ],
          [
           0.2222222222222222,
           "#7201a8"
          ],
          [
           0.3333333333333333,
           "#9c179e"
          ],
          [
           0.4444444444444444,
           "#bd3786"
          ],
          [
           0.5555555555555556,
           "#d8576b"
          ],
          [
           0.6666666666666666,
           "#ed7953"
          ],
          [
           0.7777777777777778,
           "#fb9f3a"
          ],
          [
           0.8888888888888888,
           "#fdca26"
          ],
          [
           1,
           "#f0f921"
          ]
         ]
        },
        "template": {
         "data": {
          "bar": [
           {
            "error_x": {
             "color": "#2a3f5f"
            },
            "error_y": {
             "color": "#2a3f5f"
            },
            "marker": {
             "line": {
              "color": "#E5ECF6",
              "width": 0.5
             },
             "pattern": {
              "fillmode": "overlay",
              "size": 10,
              "solidity": 0.2
             }
            },
            "type": "bar"
           }
          ],
          "barpolar": [
           {
            "marker": {
             "line": {
              "color": "#E5ECF6",
              "width": 0.5
             },
             "pattern": {
              "fillmode": "overlay",
              "size": 10,
              "solidity": 0.2
             }
            },
            "type": "barpolar"
           }
          ],
          "carpet": [
           {
            "aaxis": {
             "endlinecolor": "#2a3f5f",
             "gridcolor": "white",
             "linecolor": "white",
             "minorgridcolor": "white",
             "startlinecolor": "#2a3f5f"
            },
            "baxis": {
             "endlinecolor": "#2a3f5f",
             "gridcolor": "white",
             "linecolor": "white",
             "minorgridcolor": "white",
             "startlinecolor": "#2a3f5f"
            },
            "type": "carpet"
           }
          ],
          "choropleth": [
           {
            "colorbar": {
             "outlinewidth": 0,
             "ticks": ""
            },
            "type": "choropleth"
           }
          ],
          "contour": [
           {
            "colorbar": {
             "outlinewidth": 0,
             "ticks": ""
            },
            "colorscale": [
             [
              0,
              "#0d0887"
             ],
             [
              0.1111111111111111,
              "#46039f"
             ],
             [
              0.2222222222222222,
              "#7201a8"
             ],
             [
              0.3333333333333333,
              "#9c179e"
             ],
             [
              0.4444444444444444,
              "#bd3786"
             ],
             [
              0.5555555555555556,
              "#d8576b"
             ],
             [
              0.6666666666666666,
              "#ed7953"
             ],
             [
              0.7777777777777778,
              "#fb9f3a"
             ],
             [
              0.8888888888888888,
              "#fdca26"
             ],
             [
              1,
              "#f0f921"
             ]
            ],
            "type": "contour"
           }
          ],
          "contourcarpet": [
           {
            "colorbar": {
             "outlinewidth": 0,
             "ticks": ""
            },
            "type": "contourcarpet"
           }
          ],
          "heatmap": [
           {
            "colorbar": {
             "outlinewidth": 0,
             "ticks": ""
            },
            "colorscale": [
             [
              0,
              "#0d0887"
             ],
             [
              0.1111111111111111,
              "#46039f"
             ],
             [
              0.2222222222222222,
              "#7201a8"
             ],
             [
              0.3333333333333333,
              "#9c179e"
             ],
             [
              0.4444444444444444,
              "#bd3786"
             ],
             [
              0.5555555555555556,
              "#d8576b"
             ],
             [
              0.6666666666666666,
              "#ed7953"
             ],
             [
              0.7777777777777778,
              "#fb9f3a"
             ],
             [
              0.8888888888888888,
              "#fdca26"
             ],
             [
              1,
              "#f0f921"
             ]
            ],
            "type": "heatmap"
           }
          ],
          "heatmapgl": [
           {
            "colorbar": {
             "outlinewidth": 0,
             "ticks": ""
            },
            "colorscale": [
             [
              0,
              "#0d0887"
             ],
             [
              0.1111111111111111,
              "#46039f"
             ],
             [
              0.2222222222222222,
              "#7201a8"
             ],
             [
              0.3333333333333333,
              "#9c179e"
             ],
             [
              0.4444444444444444,
              "#bd3786"
             ],
             [
              0.5555555555555556,
              "#d8576b"
             ],
             [
              0.6666666666666666,
              "#ed7953"
             ],
             [
              0.7777777777777778,
              "#fb9f3a"
             ],
             [
              0.8888888888888888,
              "#fdca26"
             ],
             [
              1,
              "#f0f921"
             ]
            ],
            "type": "heatmapgl"
           }
          ],
          "histogram": [
           {
            "marker": {
             "pattern": {
              "fillmode": "overlay",
              "size": 10,
              "solidity": 0.2
             }
            },
            "type": "histogram"
           }
          ],
          "histogram2d": [
           {
            "colorbar": {
             "outlinewidth": 0,
             "ticks": ""
            },
            "colorscale": [
             [
              0,
              "#0d0887"
             ],
             [
              0.1111111111111111,
              "#46039f"
             ],
             [
              0.2222222222222222,
              "#7201a8"
             ],
             [
              0.3333333333333333,
              "#9c179e"
             ],
             [
              0.4444444444444444,
              "#bd3786"
             ],
             [
              0.5555555555555556,
              "#d8576b"
             ],
             [
              0.6666666666666666,
              "#ed7953"
             ],
             [
              0.7777777777777778,
              "#fb9f3a"
             ],
             [
              0.8888888888888888,
              "#fdca26"
             ],
             [
              1,
              "#f0f921"
             ]
            ],
            "type": "histogram2d"
           }
          ],
          "histogram2dcontour": [
           {
            "colorbar": {
             "outlinewidth": 0,
             "ticks": ""
            },
            "colorscale": [
             [
              0,
              "#0d0887"
             ],
             [
              0.1111111111111111,
              "#46039f"
             ],
             [
              0.2222222222222222,
              "#7201a8"
             ],
             [
              0.3333333333333333,
              "#9c179e"
             ],
             [
              0.4444444444444444,
              "#bd3786"
             ],
             [
              0.5555555555555556,
              "#d8576b"
             ],
             [
              0.6666666666666666,
              "#ed7953"
             ],
             [
              0.7777777777777778,
              "#fb9f3a"
             ],
             [
              0.8888888888888888,
              "#fdca26"
             ],
             [
              1,
              "#f0f921"
             ]
            ],
            "type": "histogram2dcontour"
           }
          ],
          "mesh3d": [
           {
            "colorbar": {
             "outlinewidth": 0,
             "ticks": ""
            },
            "type": "mesh3d"
           }
          ],
          "parcoords": [
           {
            "line": {
             "colorbar": {
              "outlinewidth": 0,
              "ticks": ""
             }
            },
            "type": "parcoords"
           }
          ],
          "pie": [
           {
            "automargin": true,
            "type": "pie"
           }
          ],
          "scatter": [
           {
            "fillpattern": {
             "fillmode": "overlay",
             "size": 10,
             "solidity": 0.2
            },
            "type": "scatter"
           }
          ],
          "scatter3d": [
           {
            "line": {
             "colorbar": {
              "outlinewidth": 0,
              "ticks": ""
             }
            },
            "marker": {
             "colorbar": {
              "outlinewidth": 0,
              "ticks": ""
             }
            },
            "type": "scatter3d"
           }
          ],
          "scattercarpet": [
           {
            "marker": {
             "colorbar": {
              "outlinewidth": 0,
              "ticks": ""
             }
            },
            "type": "scattercarpet"
           }
          ],
          "scattergeo": [
           {
            "marker": {
             "colorbar": {
              "outlinewidth": 0,
              "ticks": ""
             }
            },
            "type": "scattergeo"
           }
          ],
          "scattergl": [
           {
            "marker": {
             "colorbar": {
              "outlinewidth": 0,
              "ticks": ""
             }
            },
            "type": "scattergl"
           }
          ],
          "scattermapbox": [
           {
            "marker": {
             "colorbar": {
              "outlinewidth": 0,
              "ticks": ""
             }
            },
            "type": "scattermapbox"
           }
          ],
          "scatterpolar": [
           {
            "marker": {
             "colorbar": {
              "outlinewidth": 0,
              "ticks": ""
             }
            },
            "type": "scatterpolar"
           }
          ],
          "scatterpolargl": [
           {
            "marker": {
             "colorbar": {
              "outlinewidth": 0,
              "ticks": ""
             }
            },
            "type": "scatterpolargl"
           }
          ],
          "scatterternary": [
           {
            "marker": {
             "colorbar": {
              "outlinewidth": 0,
              "ticks": ""
             }
            },
            "type": "scatterternary"
           }
          ],
          "surface": [
           {
            "colorbar": {
             "outlinewidth": 0,
             "ticks": ""
            },
            "colorscale": [
             [
              0,
              "#0d0887"
             ],
             [
              0.1111111111111111,
              "#46039f"
             ],
             [
              0.2222222222222222,
              "#7201a8"
             ],
             [
              0.3333333333333333,
              "#9c179e"
             ],
             [
              0.4444444444444444,
              "#bd3786"
             ],
             [
              0.5555555555555556,
              "#d8576b"
             ],
             [
              0.6666666666666666,
              "#ed7953"
             ],
             [
              0.7777777777777778,
              "#fb9f3a"
             ],
             [
              0.8888888888888888,
              "#fdca26"
             ],
             [
              1,
              "#f0f921"
             ]
            ],
            "type": "surface"
           }
          ],
          "table": [
           {
            "cells": {
             "fill": {
              "color": "#EBF0F8"
             },
             "line": {
              "color": "white"
             }
            },
            "header": {
             "fill": {
              "color": "#C8D4E3"
             },
             "line": {
              "color": "white"
             }
            },
            "type": "table"
           }
          ]
         },
         "layout": {
          "annotationdefaults": {
           "arrowcolor": "#2a3f5f",
           "arrowhead": 0,
           "arrowwidth": 1
          },
          "autotypenumbers": "strict",
          "coloraxis": {
           "colorbar": {
            "outlinewidth": 0,
            "ticks": ""
           }
          },
          "colorscale": {
           "diverging": [
            [
             0,
             "#8e0152"
            ],
            [
             0.1,
             "#c51b7d"
            ],
            [
             0.2,
             "#de77ae"
            ],
            [
             0.3,
             "#f1b6da"
            ],
            [
             0.4,
             "#fde0ef"
            ],
            [
             0.5,
             "#f7f7f7"
            ],
            [
             0.6,
             "#e6f5d0"
            ],
            [
             0.7,
             "#b8e186"
            ],
            [
             0.8,
             "#7fbc41"
            ],
            [
             0.9,
             "#4d9221"
            ],
            [
             1,
             "#276419"
            ]
           ],
           "sequential": [
            [
             0,
             "#0d0887"
            ],
            [
             0.1111111111111111,
             "#46039f"
            ],
            [
             0.2222222222222222,
             "#7201a8"
            ],
            [
             0.3333333333333333,
             "#9c179e"
            ],
            [
             0.4444444444444444,
             "#bd3786"
            ],
            [
             0.5555555555555556,
             "#d8576b"
            ],
            [
             0.6666666666666666,
             "#ed7953"
            ],
            [
             0.7777777777777778,
             "#fb9f3a"
            ],
            [
             0.8888888888888888,
             "#fdca26"
            ],
            [
             1,
             "#f0f921"
            ]
           ],
           "sequentialminus": [
            [
             0,
             "#0d0887"
            ],
            [
             0.1111111111111111,
             "#46039f"
            ],
            [
             0.2222222222222222,
             "#7201a8"
            ],
            [
             0.3333333333333333,
             "#9c179e"
            ],
            [
             0.4444444444444444,
             "#bd3786"
            ],
            [
             0.5555555555555556,
             "#d8576b"
            ],
            [
             0.6666666666666666,
             "#ed7953"
            ],
            [
             0.7777777777777778,
             "#fb9f3a"
            ],
            [
             0.8888888888888888,
             "#fdca26"
            ],
            [
             1,
             "#f0f921"
            ]
           ]
          },
          "colorway": [
           "#636efa",
           "#EF553B",
           "#00cc96",
           "#ab63fa",
           "#FFA15A",
           "#19d3f3",
           "#FF6692",
           "#B6E880",
           "#FF97FF",
           "#FECB52"
          ],
          "font": {
           "color": "#2a3f5f"
          },
          "geo": {
           "bgcolor": "white",
           "lakecolor": "white",
           "landcolor": "#E5ECF6",
           "showlakes": true,
           "showland": true,
           "subunitcolor": "white"
          },
          "hoverlabel": {
           "align": "left"
          },
          "hovermode": "closest",
          "mapbox": {
           "style": "light"
          },
          "paper_bgcolor": "white",
          "plot_bgcolor": "#E5ECF6",
          "polar": {
           "angularaxis": {
            "gridcolor": "white",
            "linecolor": "white",
            "ticks": ""
           },
           "bgcolor": "#E5ECF6",
           "radialaxis": {
            "gridcolor": "white",
            "linecolor": "white",
            "ticks": ""
           }
          },
          "scene": {
           "xaxis": {
            "backgroundcolor": "#E5ECF6",
            "gridcolor": "white",
            "gridwidth": 2,
            "linecolor": "white",
            "showbackground": true,
            "ticks": "",
            "zerolinecolor": "white"
           },
           "yaxis": {
            "backgroundcolor": "#E5ECF6",
            "gridcolor": "white",
            "gridwidth": 2,
            "linecolor": "white",
            "showbackground": true,
            "ticks": "",
            "zerolinecolor": "white"
           },
           "zaxis": {
            "backgroundcolor": "#E5ECF6",
            "gridcolor": "white",
            "gridwidth": 2,
            "linecolor": "white",
            "showbackground": true,
            "ticks": "",
            "zerolinecolor": "white"
           }
          },
          "shapedefaults": {
           "line": {
            "color": "#2a3f5f"
           }
          },
          "ternary": {
           "aaxis": {
            "gridcolor": "white",
            "linecolor": "white",
            "ticks": ""
           },
           "baxis": {
            "gridcolor": "white",
            "linecolor": "white",
            "ticks": ""
           },
           "bgcolor": "#E5ECF6",
           "caxis": {
            "gridcolor": "white",
            "linecolor": "white",
            "ticks": ""
           }
          },
          "title": {
           "x": 0.05
          },
          "xaxis": {
           "automargin": true,
           "gridcolor": "white",
           "linecolor": "white",
           "ticks": "",
           "title": {
            "standoff": 15
           },
           "zerolinecolor": "white",
           "zerolinewidth": 2
          },
          "yaxis": {
           "automargin": true,
           "gridcolor": "white",
           "linecolor": "white",
           "ticks": "",
           "title": {
            "standoff": 15
           },
           "zerolinecolor": "white",
           "zerolinewidth": 2
          }
         }
        },
        "title": {
         "text": "Współwystępowanie najpopularniejszych tagów"
        },
        "xaxis": {
         "anchor": "y",
         "constrain": "domain",
         "domain": [
          0,
          1
         ],
         "scaleanchor": "y"
        },
        "yaxis": {
         "anchor": "x",
         "autorange": "reversed",
         "constrain": "domain",
         "domain": [
          0,
          1
         ]
        }
       }
      }
     },
     "metadata": {},
     "output_type": "display_data"
    }
   ],
   "source": [
    "# Tabela krzyżowa\n",
    "all_tags = list(set(tag for tags in df['tags'] for tag in tags))\n",
    "cross_tab = pd.DataFrame(0, index=all_tags, columns=all_tags)\n",
    "\n",
    "for tags in df['tags']:\n",
    "    for tag1 in tags:\n",
    "        for tag2 in tags:\n",
    "            if tag1 != tag2:\n",
    "                cross_tab.loc[tag1, tag2] += 1\n",
    "\n",
    "# Wybór najpopularniejszych tagów (np. top 20)\n",
    "popular_tags = tag_df['Tag'].head(20).tolist()\n",
    "filtered_cross_tab = cross_tab.loc[popular_tags, popular_tags]\n",
    "\n",
    "# Wizualizacja\n",
    "fig = px.imshow(filtered_cross_tab, text_auto=True, title='Współwystępowanie najpopularniejszych tagów', labels={'color': 'Liczba współwystąpień'})\n",
    "fig.show()\n"
   ]
  },
  {
   "cell_type": "code",
   "execution_count": null,
   "metadata": {},
   "outputs": [
    {
     "data": {
      "application/vnd.plotly.v1+json": {
       "config": {
        "plotlyServerURL": "https://plot.ly"
       },
       "data": [
        {
         "alignmentgroup": "True",
         "hovertemplate": "Tag=%{x}<br>Średnia cena=%{y}<extra></extra>",
         "legendgroup": "",
         "marker": {
          "color": "#636efa",
          "pattern": {
           "shape": ""
          }
         },
         "name": "",
         "offsetgroup": "",
         "orientation": "v",
         "showlegend": false,
         "textposition": "auto",
         "type": "bar",
         "x": [
          "Fikcja interaktywna",
          "Nagość",
          "Perspektywa trzeciej osoby",
          "Czarna komedia",
          "Quick time event",
          "Mroczne fantasy",
          "Walka na miecze",
          "Szybkie tempo",
          "Platformowe 3D",
          "Wiele zakończeń",
          "Zespołowe",
          "MMO",
          "Idlery",
          "Dostosowywanie broni palnej",
          "MMORPG",
          "Free to Play",
          "Strzelanka z bohaterami",
          "Battle royale",
          "Mars",
          "Symulator polityczny"
         ],
         "xaxis": "x",
         "y": [
          231.99,
          199,
          172.96666666666667,
          169.9,
          169,
          164.99,
          159.99,
          153.995,
          152.495,
          152.16,
          0,
          0,
          0,
          0,
          0,
          0,
          0,
          0,
          0,
          9.59
         ],
         "yaxis": "y"
        }
       ],
       "layout": {
        "barmode": "relative",
        "legend": {
         "tracegroupgap": 0
        },
        "template": {
         "data": {
          "bar": [
           {
            "error_x": {
             "color": "#2a3f5f"
            },
            "error_y": {
             "color": "#2a3f5f"
            },
            "marker": {
             "line": {
              "color": "#E5ECF6",
              "width": 0.5
             },
             "pattern": {
              "fillmode": "overlay",
              "size": 10,
              "solidity": 0.2
             }
            },
            "type": "bar"
           }
          ],
          "barpolar": [
           {
            "marker": {
             "line": {
              "color": "#E5ECF6",
              "width": 0.5
             },
             "pattern": {
              "fillmode": "overlay",
              "size": 10,
              "solidity": 0.2
             }
            },
            "type": "barpolar"
           }
          ],
          "carpet": [
           {
            "aaxis": {
             "endlinecolor": "#2a3f5f",
             "gridcolor": "white",
             "linecolor": "white",
             "minorgridcolor": "white",
             "startlinecolor": "#2a3f5f"
            },
            "baxis": {
             "endlinecolor": "#2a3f5f",
             "gridcolor": "white",
             "linecolor": "white",
             "minorgridcolor": "white",
             "startlinecolor": "#2a3f5f"
            },
            "type": "carpet"
           }
          ],
          "choropleth": [
           {
            "colorbar": {
             "outlinewidth": 0,
             "ticks": ""
            },
            "type": "choropleth"
           }
          ],
          "contour": [
           {
            "colorbar": {
             "outlinewidth": 0,
             "ticks": ""
            },
            "colorscale": [
             [
              0,
              "#0d0887"
             ],
             [
              0.1111111111111111,
              "#46039f"
             ],
             [
              0.2222222222222222,
              "#7201a8"
             ],
             [
              0.3333333333333333,
              "#9c179e"
             ],
             [
              0.4444444444444444,
              "#bd3786"
             ],
             [
              0.5555555555555556,
              "#d8576b"
             ],
             [
              0.6666666666666666,
              "#ed7953"
             ],
             [
              0.7777777777777778,
              "#fb9f3a"
             ],
             [
              0.8888888888888888,
              "#fdca26"
             ],
             [
              1,
              "#f0f921"
             ]
            ],
            "type": "contour"
           }
          ],
          "contourcarpet": [
           {
            "colorbar": {
             "outlinewidth": 0,
             "ticks": ""
            },
            "type": "contourcarpet"
           }
          ],
          "heatmap": [
           {
            "colorbar": {
             "outlinewidth": 0,
             "ticks": ""
            },
            "colorscale": [
             [
              0,
              "#0d0887"
             ],
             [
              0.1111111111111111,
              "#46039f"
             ],
             [
              0.2222222222222222,
              "#7201a8"
             ],
             [
              0.3333333333333333,
              "#9c179e"
             ],
             [
              0.4444444444444444,
              "#bd3786"
             ],
             [
              0.5555555555555556,
              "#d8576b"
             ],
             [
              0.6666666666666666,
              "#ed7953"
             ],
             [
              0.7777777777777778,
              "#fb9f3a"
             ],
             [
              0.8888888888888888,
              "#fdca26"
             ],
             [
              1,
              "#f0f921"
             ]
            ],
            "type": "heatmap"
           }
          ],
          "heatmapgl": [
           {
            "colorbar": {
             "outlinewidth": 0,
             "ticks": ""
            },
            "colorscale": [
             [
              0,
              "#0d0887"
             ],
             [
              0.1111111111111111,
              "#46039f"
             ],
             [
              0.2222222222222222,
              "#7201a8"
             ],
             [
              0.3333333333333333,
              "#9c179e"
             ],
             [
              0.4444444444444444,
              "#bd3786"
             ],
             [
              0.5555555555555556,
              "#d8576b"
             ],
             [
              0.6666666666666666,
              "#ed7953"
             ],
             [
              0.7777777777777778,
              "#fb9f3a"
             ],
             [
              0.8888888888888888,
              "#fdca26"
             ],
             [
              1,
              "#f0f921"
             ]
            ],
            "type": "heatmapgl"
           }
          ],
          "histogram": [
           {
            "marker": {
             "pattern": {
              "fillmode": "overlay",
              "size": 10,
              "solidity": 0.2
             }
            },
            "type": "histogram"
           }
          ],
          "histogram2d": [
           {
            "colorbar": {
             "outlinewidth": 0,
             "ticks": ""
            },
            "colorscale": [
             [
              0,
              "#0d0887"
             ],
             [
              0.1111111111111111,
              "#46039f"
             ],
             [
              0.2222222222222222,
              "#7201a8"
             ],
             [
              0.3333333333333333,
              "#9c179e"
             ],
             [
              0.4444444444444444,
              "#bd3786"
             ],
             [
              0.5555555555555556,
              "#d8576b"
             ],
             [
              0.6666666666666666,
              "#ed7953"
             ],
             [
              0.7777777777777778,
              "#fb9f3a"
             ],
             [
              0.8888888888888888,
              "#fdca26"
             ],
             [
              1,
              "#f0f921"
             ]
            ],
            "type": "histogram2d"
           }
          ],
          "histogram2dcontour": [
           {
            "colorbar": {
             "outlinewidth": 0,
             "ticks": ""
            },
            "colorscale": [
             [
              0,
              "#0d0887"
             ],
             [
              0.1111111111111111,
              "#46039f"
             ],
             [
              0.2222222222222222,
              "#7201a8"
             ],
             [
              0.3333333333333333,
              "#9c179e"
             ],
             [
              0.4444444444444444,
              "#bd3786"
             ],
             [
              0.5555555555555556,
              "#d8576b"
             ],
             [
              0.6666666666666666,
              "#ed7953"
             ],
             [
              0.7777777777777778,
              "#fb9f3a"
             ],
             [
              0.8888888888888888,
              "#fdca26"
             ],
             [
              1,
              "#f0f921"
             ]
            ],
            "type": "histogram2dcontour"
           }
          ],
          "mesh3d": [
           {
            "colorbar": {
             "outlinewidth": 0,
             "ticks": ""
            },
            "type": "mesh3d"
           }
          ],
          "parcoords": [
           {
            "line": {
             "colorbar": {
              "outlinewidth": 0,
              "ticks": ""
             }
            },
            "type": "parcoords"
           }
          ],
          "pie": [
           {
            "automargin": true,
            "type": "pie"
           }
          ],
          "scatter": [
           {
            "fillpattern": {
             "fillmode": "overlay",
             "size": 10,
             "solidity": 0.2
            },
            "type": "scatter"
           }
          ],
          "scatter3d": [
           {
            "line": {
             "colorbar": {
              "outlinewidth": 0,
              "ticks": ""
             }
            },
            "marker": {
             "colorbar": {
              "outlinewidth": 0,
              "ticks": ""
             }
            },
            "type": "scatter3d"
           }
          ],
          "scattercarpet": [
           {
            "marker": {
             "colorbar": {
              "outlinewidth": 0,
              "ticks": ""
             }
            },
            "type": "scattercarpet"
           }
          ],
          "scattergeo": [
           {
            "marker": {
             "colorbar": {
              "outlinewidth": 0,
              "ticks": ""
             }
            },
            "type": "scattergeo"
           }
          ],
          "scattergl": [
           {
            "marker": {
             "colorbar": {
              "outlinewidth": 0,
              "ticks": ""
             }
            },
            "type": "scattergl"
           }
          ],
          "scattermapbox": [
           {
            "marker": {
             "colorbar": {
              "outlinewidth": 0,
              "ticks": ""
             }
            },
            "type": "scattermapbox"
           }
          ],
          "scatterpolar": [
           {
            "marker": {
             "colorbar": {
              "outlinewidth": 0,
              "ticks": ""
             }
            },
            "type": "scatterpolar"
           }
          ],
          "scatterpolargl": [
           {
            "marker": {
             "colorbar": {
              "outlinewidth": 0,
              "ticks": ""
             }
            },
            "type": "scatterpolargl"
           }
          ],
          "scatterternary": [
           {
            "marker": {
             "colorbar": {
              "outlinewidth": 0,
              "ticks": ""
             }
            },
            "type": "scatterternary"
           }
          ],
          "surface": [
           {
            "colorbar": {
             "outlinewidth": 0,
             "ticks": ""
            },
            "colorscale": [
             [
              0,
              "#0d0887"
             ],
             [
              0.1111111111111111,
              "#46039f"
             ],
             [
              0.2222222222222222,
              "#7201a8"
             ],
             [
              0.3333333333333333,
              "#9c179e"
             ],
             [
              0.4444444444444444,
              "#bd3786"
             ],
             [
              0.5555555555555556,
              "#d8576b"
             ],
             [
              0.6666666666666666,
              "#ed7953"
             ],
             [
              0.7777777777777778,
              "#fb9f3a"
             ],
             [
              0.8888888888888888,
              "#fdca26"
             ],
             [
              1,
              "#f0f921"
             ]
            ],
            "type": "surface"
           }
          ],
          "table": [
           {
            "cells": {
             "fill": {
              "color": "#EBF0F8"
             },
             "line": {
              "color": "white"
             }
            },
            "header": {
             "fill": {
              "color": "#C8D4E3"
             },
             "line": {
              "color": "white"
             }
            },
            "type": "table"
           }
          ]
         },
         "layout": {
          "annotationdefaults": {
           "arrowcolor": "#2a3f5f",
           "arrowhead": 0,
           "arrowwidth": 1
          },
          "autotypenumbers": "strict",
          "coloraxis": {
           "colorbar": {
            "outlinewidth": 0,
            "ticks": ""
           }
          },
          "colorscale": {
           "diverging": [
            [
             0,
             "#8e0152"
            ],
            [
             0.1,
             "#c51b7d"
            ],
            [
             0.2,
             "#de77ae"
            ],
            [
             0.3,
             "#f1b6da"
            ],
            [
             0.4,
             "#fde0ef"
            ],
            [
             0.5,
             "#f7f7f7"
            ],
            [
             0.6,
             "#e6f5d0"
            ],
            [
             0.7,
             "#b8e186"
            ],
            [
             0.8,
             "#7fbc41"
            ],
            [
             0.9,
             "#4d9221"
            ],
            [
             1,
             "#276419"
            ]
           ],
           "sequential": [
            [
             0,
             "#0d0887"
            ],
            [
             0.1111111111111111,
             "#46039f"
            ],
            [
             0.2222222222222222,
             "#7201a8"
            ],
            [
             0.3333333333333333,
             "#9c179e"
            ],
            [
             0.4444444444444444,
             "#bd3786"
            ],
            [
             0.5555555555555556,
             "#d8576b"
            ],
            [
             0.6666666666666666,
             "#ed7953"
            ],
            [
             0.7777777777777778,
             "#fb9f3a"
            ],
            [
             0.8888888888888888,
             "#fdca26"
            ],
            [
             1,
             "#f0f921"
            ]
           ],
           "sequentialminus": [
            [
             0,
             "#0d0887"
            ],
            [
             0.1111111111111111,
             "#46039f"
            ],
            [
             0.2222222222222222,
             "#7201a8"
            ],
            [
             0.3333333333333333,
             "#9c179e"
            ],
            [
             0.4444444444444444,
             "#bd3786"
            ],
            [
             0.5555555555555556,
             "#d8576b"
            ],
            [
             0.6666666666666666,
             "#ed7953"
            ],
            [
             0.7777777777777778,
             "#fb9f3a"
            ],
            [
             0.8888888888888888,
             "#fdca26"
            ],
            [
             1,
             "#f0f921"
            ]
           ]
          },
          "colorway": [
           "#636efa",
           "#EF553B",
           "#00cc96",
           "#ab63fa",
           "#FFA15A",
           "#19d3f3",
           "#FF6692",
           "#B6E880",
           "#FF97FF",
           "#FECB52"
          ],
          "font": {
           "color": "#2a3f5f"
          },
          "geo": {
           "bgcolor": "white",
           "lakecolor": "white",
           "landcolor": "#E5ECF6",
           "showlakes": true,
           "showland": true,
           "subunitcolor": "white"
          },
          "hoverlabel": {
           "align": "left"
          },
          "hovermode": "closest",
          "mapbox": {
           "style": "light"
          },
          "paper_bgcolor": "white",
          "plot_bgcolor": "#E5ECF6",
          "polar": {
           "angularaxis": {
            "gridcolor": "white",
            "linecolor": "white",
            "ticks": ""
           },
           "bgcolor": "#E5ECF6",
           "radialaxis": {
            "gridcolor": "white",
            "linecolor": "white",
            "ticks": ""
           }
          },
          "scene": {
           "xaxis": {
            "backgroundcolor": "#E5ECF6",
            "gridcolor": "white",
            "gridwidth": 2,
            "linecolor": "white",
            "showbackground": true,
            "ticks": "",
            "zerolinecolor": "white"
           },
           "yaxis": {
            "backgroundcolor": "#E5ECF6",
            "gridcolor": "white",
            "gridwidth": 2,
            "linecolor": "white",
            "showbackground": true,
            "ticks": "",
            "zerolinecolor": "white"
           },
           "zaxis": {
            "backgroundcolor": "#E5ECF6",
            "gridcolor": "white",
            "gridwidth": 2,
            "linecolor": "white",
            "showbackground": true,
            "ticks": "",
            "zerolinecolor": "white"
           }
          },
          "shapedefaults": {
           "line": {
            "color": "#2a3f5f"
           }
          },
          "ternary": {
           "aaxis": {
            "gridcolor": "white",
            "linecolor": "white",
            "ticks": ""
           },
           "baxis": {
            "gridcolor": "white",
            "linecolor": "white",
            "ticks": ""
           },
           "bgcolor": "#E5ECF6",
           "caxis": {
            "gridcolor": "white",
            "linecolor": "white",
            "ticks": ""
           }
          },
          "title": {
           "x": 0.05
          },
          "xaxis": {
           "automargin": true,
           "gridcolor": "white",
           "linecolor": "white",
           "ticks": "",
           "title": {
            "standoff": 15
           },
           "zerolinecolor": "white",
           "zerolinewidth": 2
          },
          "yaxis": {
           "automargin": true,
           "gridcolor": "white",
           "linecolor": "white",
           "ticks": "",
           "title": {
            "standoff": 15
           },
           "zerolinecolor": "white",
           "zerolinewidth": 2
          }
         }
        },
        "title": {
         "text": "Wpływ wybranych tagów na cenę"
        },
        "xaxis": {
         "anchor": "y",
         "domain": [
          0,
          1
         ],
         "title": {
          "text": "Tag"
         }
        },
        "yaxis": {
         "anchor": "x",
         "domain": [
          0,
          1
         ],
         "title": {
          "text": "Średnia cena"
         }
        }
       }
      }
     },
     "metadata": {},
     "output_type": "display_data"
    }
   ],
   "source": [
    "tag_prices = []\n",
    "\n",
    "for tag in all_tags:\n",
    "    subset = df[df['tags'].apply(lambda tags: tag in tags)]\n",
    "    avg_price = subset['price'].mean()\n",
    "    tag_prices.append({'Tag': tag, 'Average Price': avg_price})\n",
    "\n",
    "tag_price_df = pd.DataFrame(tag_prices).sort_values('Average Price', ascending=False)\n",
    "\n",
    "\n",
    "# Wybór tagów z największą średnią ceną i różnicą cen\n",
    "top_expensive_tags = tag_price_df.nlargest(10, 'Average Price')\n",
    "top_cheap_tags = tag_price_df.nsmallest(10, 'Average Price')\n",
    "filtered_tag_price_df = pd.concat([top_expensive_tags, top_cheap_tags])\n",
    "\n",
    "# Wizualizacja\n",
    "fig = px.bar(filtered_tag_price_df, x='Tag', y='Average Price', title='Wpływ wybranych tagów na cenę', labels={'Tag': 'Tag', 'Average Price': 'Średnia cena'})\n",
    "fig.show()\n"
   ]
  },
  {
   "cell_type": "code",
   "execution_count": 23,
   "metadata": {},
   "outputs": [
    {
     "name": "stdout",
     "output_type": "stream",
     "text": [
      "Collecting sklearn\n",
      "  Downloading sklearn-0.0.post12.tar.gz (2.6 kB)\n",
      "  Installing build dependencies: started\n",
      "  Installing build dependencies: finished with status 'done'\n",
      "  Getting requirements to build wheel: started\n",
      "  Getting requirements to build wheel: finished with status 'error'\n",
      "Note: you may need to restart the kernel to use updated packages.\n"
     ]
    },
    {
     "name": "stderr",
     "output_type": "stream",
     "text": [
      "  error: subprocess-exited-with-error\n",
      "  \n",
      "  × Getting requirements to build wheel did not run successfully.\n",
      "  │ exit code: 1\n",
      "  ╰─> [15 lines of output]\n",
      "      The 'sklearn' PyPI package is deprecated, use 'scikit-learn'\n",
      "      rather than 'sklearn' for pip commands.\n",
      "      \n",
      "      Here is how to fix this error in the main use cases:\n",
      "      - use 'pip install scikit-learn' rather than 'pip install sklearn'\n",
      "      - replace 'sklearn' by 'scikit-learn' in your pip requirements files\n",
      "        (requirements.txt, setup.py, setup.cfg, Pipfile, etc ...)\n",
      "      - if the 'sklearn' package is used by one of your dependencies,\n",
      "        it would be great if you take some time to track which package uses\n",
      "        'sklearn' instead of 'scikit-learn' and report it to their issue tracker\n",
      "      - as a last resort, set the environment variable\n",
      "        SKLEARN_ALLOW_DEPRECATED_SKLEARN_PACKAGE_INSTALL=True to avoid this error\n",
      "      \n",
      "      More information is available at\n",
      "      https://github.com/scikit-learn/sklearn-pypi-package\n",
      "      [end of output]\n",
      "  \n",
      "  note: This error originates from a subprocess, and is likely not a problem with pip.\n",
      "error: subprocess-exited-with-error\n",
      "\n",
      "× Getting requirements to build wheel did not run successfully.\n",
      "│ exit code: 1\n",
      "╰─> See above for output.\n",
      "\n",
      "note: This error originates from a subprocess, and is likely not a problem with pip.\n",
      "\n",
      "[notice] A new release of pip is available: 24.1.2 -> 24.3.1\n",
      "[notice] To update, run: python.exe -m pip install --upgrade pip\n"
     ]
    }
   ],
   "source": [
    "%pip install sklearn"
   ]
  },
  {
   "cell_type": "code",
   "execution_count": 24,
   "metadata": {},
   "outputs": [
    {
     "ename": "ModuleNotFoundError",
     "evalue": "No module named 'sklearn'",
     "output_type": "error",
     "traceback": [
      "\u001b[1;31m---------------------------------------------------------------------------\u001b[0m",
      "\u001b[1;31mModuleNotFoundError\u001b[0m                       Traceback (most recent call last)",
      "Input \u001b[1;32mIn [24]\u001b[0m, in \u001b[0;36m<cell line: 1>\u001b[1;34m()\u001b[0m\n\u001b[1;32m----> 1\u001b[0m \u001b[38;5;28;01mfrom\u001b[39;00m \u001b[38;5;21;01msklearn\u001b[39;00m\u001b[38;5;21;01m.\u001b[39;00m\u001b[38;5;21;01mpreprocessing\u001b[39;00m \u001b[38;5;28;01mimport\u001b[39;00m StandardScaler\n\u001b[0;32m      2\u001b[0m \u001b[38;5;28;01mfrom\u001b[39;00m \u001b[38;5;21;01msklearn\u001b[39;00m\u001b[38;5;21;01m.\u001b[39;00m\u001b[38;5;21;01mcluster\u001b[39;00m \u001b[38;5;28;01mimport\u001b[39;00m KMeans\n\u001b[0;32m      4\u001b[0m \u001b[38;5;66;03m# Przygotowanie danych\u001b[39;00m\n",
      "\u001b[1;31mModuleNotFoundError\u001b[0m: No module named 'sklearn'"
     ]
    }
   ],
   "source": [
    "from sklearn.preprocessing import StandardScaler\n",
    "from sklearn.cluster import KMeans\n",
    "\n",
    "# Przygotowanie danych\n",
    "tag_matrix = pd.DataFrame(0, index=df.index, columns=all_tags)\n",
    "for i, tags in enumerate(df['tags']):\n",
    "    tag_matrix.loc[i, tags] = 1\n",
    "\n",
    "scaler = StandardScaler()\n",
    "X = scaler.fit_transform(tag_matrix)\n",
    "\n",
    "# Klasteryzacja\n",
    "kmeans = KMeans(n_clusters=5, random_state=42)\n",
    "df['cluster'] = kmeans.fit_predict(X)\n",
    "\n",
    "# Wizualizacja klastrów (kolor + centroidy)\n",
    "fig = px.scatter(df, x='price', y='tag_count', color='cluster', title='Klasteryzacja gier (cena vs liczba tagów)', labels={'price': 'Cena (zł)', 'tag_count': 'Liczba tagów'}, hover_data=['title'])\n",
    "fig.show()\n"
   ]
  }
 ],
 "metadata": {
  "kernelspec": {
   "display_name": "Python 3",
   "language": "python",
   "name": "python3"
  },
  "language_info": {
   "codemirror_mode": {
    "name": "ipython",
    "version": 3
   },
   "file_extension": ".py",
   "mimetype": "text/x-python",
   "name": "python",
   "nbconvert_exporter": "python",
   "pygments_lexer": "ipython3",
   "version": "3.10.4"
  }
 },
 "nbformat": 4,
 "nbformat_minor": 2
}

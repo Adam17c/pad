{
 "cells": [
  {
   "cell_type": "code",
   "execution_count": null,
   "metadata": {},
   "outputs": [],
   "source": [
    "%pip install selenium\n",
    "%pip install beautifulsoup4\n",
    "%pip install plotly\n",
    "%pip install seaborn\n",
    "%pip install scipy\n",
    "%pip install nbformat"
   ]
  },
  {
   "cell_type": "code",
   "execution_count": 71,
   "metadata": {},
   "outputs": [
    {
     "name": "stdout",
     "output_type": "stream",
     "text": [
      "nbformat==5.10.4\n",
      "Note: you may need to restart the kernel to use updated packages.\n"
     ]
    }
   ],
   "source": [
    "%pip freeze | findstr nbformat\n"
   ]
  },
  {
   "cell_type": "code",
   "execution_count": 1,
   "metadata": {},
   "outputs": [],
   "source": [
    "from selenium import webdriver\n",
    "from selenium.webdriver.common.by import By\n",
    "import time"
   ]
  },
  {
   "cell_type": "code",
   "execution_count": 2,
   "metadata": {},
   "outputs": [
    {
     "name": "stderr",
     "output_type": "stream",
     "text": [
      "The chromedriver version (131.0.6778.69) detected in PATH at I:\\ChromeDriver\\chromedriver.exe might not be compatible with the detected chrome version (132.0.6834.110); currently, chromedriver 132.0.6834.110 is recommended for chrome 132.*, so it is advised to delete the driver in PATH and retry\n"
     ]
    }
   ],
   "source": [
    "from selenium.webdriver.chrome.service import Service\n",
    "\n",
    "download_service = Service()\n",
    "\n",
    "driver = webdriver.Chrome(service=download_service)\n",
    "\n",
    "#driver.maximize_window()"
   ]
  },
  {
   "cell_type": "code",
   "execution_count": 3,
   "metadata": {},
   "outputs": [],
   "source": [
    "# Otwieranie strony Steam\n",
    "url = \"https://store.steampowered.com/category/science_fiction/\"\n",
    "driver.get(url)\n",
    "\n",
    "# Czekanie na załadowanie treści\n",
    "time.sleep(2)  # Dostosuj, jeśli strona ładuje się szybciej"
   ]
  },
  {
   "cell_type": "code",
   "execution_count": 10,
   "metadata": {},
   "outputs": [],
   "source": [
    "driver.execute_script('window.scroll(0, document.body.scrollHeight-2000)')\n"
   ]
  },
  {
   "cell_type": "code",
   "execution_count": 29,
   "metadata": {},
   "outputs": [],
   "source": [
    "load_more_button = driver.find_element(By.CLASS_NAME, '_2tkiJ4VfEdI9kq1agjZyNz.Focusable')\n",
    "load_more_button.click()"
   ]
  },
  {
   "cell_type": "code",
   "execution_count": 4,
   "metadata": {},
   "outputs": [],
   "source": [
    "# todo: wyciągnąć jeszcze: datę wydania, opinie użytkownikow i liczbę opinii\n",
    "\n",
    "def GetTitlesWithTagsAndPrices():\n",
    "    games = []\n",
    "    game_containers = driver.find_elements(By.XPATH, \"//div[contains(@class, 'v9uRg57bwOaPsvAnkXESO')]\")\n",
    "\n",
    "    for game in game_containers:\n",
    "        try:\n",
    "            # Pobranie tytułu gry\n",
    "            title = game.find_element(By.XPATH, \".//div[contains(@class, '_3rrH9dPdtHVRMzAEw82AId')]//a//div\").text.strip()\n",
    "\n",
    "            # Pobranie tagów\n",
    "            tags_container = game.find_element(By.XPATH, \".//div[contains(@class, '_3wryhCRrTuMULeq_YjNk-s')]\")\n",
    "            tag_elements = tags_container.find_elements(By.XPATH, \".//div[contains(@class, '_2bkP-3b7dvr0a_qPdZEfHY')]//a\")\n",
    "            tags = [tag.text.strip() for tag in tag_elements if tag.text.strip()]\n",
    "\n",
    "            # Pobranie ceny gry\n",
    "            try:\n",
    "                price_container = game.find_element(By.XPATH, \".//div[contains(@class, '_1JuIpzMtS7-xZrnUmEQ4my')]//div[contains(@class, '_2s-O5T3qJJYR2AUq4b9jIN')]\")\n",
    "                price = price_container.find_element(By.XPATH, \".//div[contains(@class, '_3j4dI1yA7cRfCvK8h406OB')]\").text.strip()\n",
    "            except Exception as e:\n",
    "                price = \"Brak ceny\"  # Obsługa gier bez podanej ceny\n",
    "\n",
    "            # Dodanie gry do listy\n",
    "            games.append({\n",
    "                \"title\": title,\n",
    "                \"tags\": tags,\n",
    "                \"price\": price\n",
    "            })\n",
    "        except Exception as e:\n",
    "            print(f\"Problem z przetwarzaniem gry: {e}\")\n",
    "\n",
    "    # Wyświetlenie wyników\n",
    "    print(\"Lista gier, ich tagów i cen:\")\n",
    "    for game in games:\n",
    "        print(f\"Tytuł: {game['title']}, Tagi: {', '.join(game['tags'])}, Cena: {game['price']}\")\n",
    "\n",
    "    return games\n"
   ]
  },
  {
   "cell_type": "code",
   "execution_count": 9,
   "metadata": {},
   "outputs": [],
   "source": [
    "import pandas as pd\n",
    "\n",
    "def GetTitlesWithDetails():\n",
    "    games_data = []\n",
    "    game_containers = driver.find_elements(By.XPATH, \"//div[contains(@class, 'v9uRg57bwOaPsvAnkXESO')]\")\n",
    "\n",
    "    for game in game_containers:\n",
    "        try:\n",
    "            # Pobranie tytułu gry\n",
    "            title = game.find_element(By.XPATH, \".//div[contains(@class, '_3rrH9dPdtHVRMzAEw82AId')]//a//div\").text.strip()\n",
    "\n",
    "            # Pobranie tagów\n",
    "            tags_container = game.find_element(By.XPATH, \".//div[contains(@class, '_3wryhCRrTuMULeq_YjNk-s')]\")\n",
    "            tag_elements = tags_container.find_elements(By.XPATH, \".//div[contains(@class, '_2bkP-3b7dvr0a_qPdZEfHY')]//a\")\n",
    "            tags = ', '.join([tag.text.strip() for tag in tag_elements if tag.text.strip()])\n",
    "\n",
    "            # Pobranie ceny gry\n",
    "            try:\n",
    "                price_container = game.find_element(By.XPATH, \".//div[contains(@class, 'kW6m4Sjqacp5hykrj5LEo')]//div[contains(@class, '_2s-O5T3qJJYR2AUq4b9jIN')]\")\n",
    "                price = price_container.find_element(By.XPATH, \".//div[contains(@class, '_3j4dI1yA7cRfCvK8h406OB')]\").text.strip()\n",
    "            except:\n",
    "                price = \"Free to Play\"\n",
    "\n",
    "            # Pobranie daty wydania\n",
    "            try:\n",
    "                release_date = game.find_element(By.XPATH, \".//div[contains(@class, '_3wryhCRrTuMULeq_YjNk-s')]//div[contains(@class, '_3a6HRK-P6LK0-pxRKXYgyP')]//div[contains(@class, '_1qvTFgmehUzbdYM9cw0eS7')]\").text.strip()\n",
    "            except:\n",
    "                release_date = \"Brak daty\"\n",
    "\n",
    "            # Pobranie nacechowania recenzji\n",
    "            try:\n",
    "                review_sentiment = game.find_element(By.XPATH, \".//div[contains(@class, '_3wryhCRrTuMULeq_YjNk-s')]//a[contains(@class, '_3qvppfM_u0yn2jrpoUo8RM')]//div[contains(@class, '_3ZWs0kB-1tuqQtie9KK-E7')]//div[contains(@class, '_2nuoOi5kC2aUI12z85PneA')]\").text.strip()\n",
    "            except:\n",
    "                review_sentiment = \"Brak informacji\"\n",
    "\n",
    "            # Pobranie liczby recenzji\n",
    "            try:\n",
    "                review_count = game.find_element(By.XPATH, \".//div[contains(@class, '_3wryhCRrTuMULeq_YjNk-s')]//a[contains(@class, '_3qvppfM_u0yn2jrpoUo8RM')]//div[contains(@class, '_3ZWs0kB-1tuqQtie9KK-E7')]//div[contains(@class, '_1wXL_MfRpdKQ3wZiNP5lrH')]\").text.strip()\n",
    "            except:\n",
    "                review_count = \"0\"\n",
    "\n",
    "            # Dodanie gry do listy\n",
    "            games_data.append({\n",
    "                \"Tytuł\": title,\n",
    "                \"Tagi\": tags,\n",
    "                \"Cena\": price,\n",
    "                \"Data wydania\": release_date,\n",
    "                \"Nacechowanie recenzji\": review_sentiment,\n",
    "                \"Liczba recenzji\": review_count\n",
    "            })\n",
    "\n",
    "        except Exception as e:\n",
    "            print(f\"Problem z przetwarzaniem gry: {e}\")\n",
    "\n",
    "    # Konwersja do DataFrame\n",
    "    df = pd.DataFrame(games_data)\n",
    "    return df\n"
   ]
  },
  {
   "cell_type": "code",
   "execution_count": 13,
   "metadata": {},
   "outputs": [],
   "source": [
    "data = GetTitlesWithDetails()"
   ]
  },
  {
   "cell_type": "code",
   "execution_count": 5,
   "metadata": {},
   "outputs": [
    {
     "name": "stdout",
     "output_type": "stream",
     "text": [
      "Lista gier, ich tagów i cen:\n",
      "Tytuł: Marvel Rivals, Tagi: Free to Play, Wieloosobowe, Strzelanka z bohaterami, Cena: Free to Play\n",
      "Tytuł: Warhammer 40,000: Space Marine 2, Tagi: Warhammer 40K, Akcja, Strzelanka z perspektywą trzeciej osoby, Wieloosobowe, Cena: 157,49 zł\n",
      "Tytuł: Detroit: Become Human, Tagi: Znaczące wybory, Bogata fabuła, Wiele zakończeń, Filmowe, Jednoosobowe, Cena: 55,49 zł\n",
      "Tytuł: Stellaris, Tagi: Kosmos, Strategiczne globalne, Strategiczne, Science fiction, 4X, Cena: 46,24 zł\n",
      "Tytuł: HELLDIVERS™ 2, Tagi: Sieciowa kooperacja, PvE, Strzelanka z perspektywą trzeciej osoby, Wieloosobowe, Akcja, Cena: 169,00 zł\n",
      "Tytuł: Cyberpunk 2077, Tagi: Cyberpunk, Otwarty świat, Nagość, RPG, Jednoosobowe, Cena: 199,00 zł\n",
      "Tytuł: Among Us, Tagi: Wieloosobowe, Sieciowa kooperacja, Dedukcyjne towarzyskie, Kosmos, Survival, Cena: 10,79 zł\n",
      "Tytuł: Apex Legends™, Tagi: Free to Play, Battle royale, Wieloosobowe, FPS, Strzelanka, Cena: Free to Play\n",
      "Tytuł: Warframe, Tagi: Free to Play, RPG akcji, Strzelanka z łupami, Strzelanka z perspektywą trzeciej osoby, Cena: Free to Play\n",
      "Tytuł: Frostpunk, Tagi: Budowanie miasta, Survival, Zarządzanie zasobami, Strategiczne, Postapokaliptyczne, Cena: 13,89 zł\n",
      "Tytuł: Cyberpunk 2077: Widmo wolności, Tagi: RPG, Treści seksualne, Cyberpunk, Otwarty świat, Bogata fabuła, Cena: 99,99 zł\n",
      "Tytuł: They Are Billions, Tagi: Budowanie bazy, Symulator kolonizacji, Strategiczne, Zombie, Survival, Cena: 75,59 zł\n",
      "Tytuł: Halo: The Master Chief Collection, Tagi: Świetna ścieżka dźwiękowa, FPS, Klasyczne, Wieloosobowe, Bogata fabuła, Cena: 49,75 zł\n",
      "Tytuł: ICARUS, Tagi: Survival, Survivalowe w otwartym świecie, Wieloosobowe, Budowanie bazy, Cena: 40,49 zł\n",
      "Tytuł: Overwatch® 2, Tagi: Free to Play, Wieloosobowe, Strzelanka z bohaterami, FPS, Zespołowe, Cena: Free to Play\n",
      "Tytuł: BlazBlue Entropy Effect, Tagi: Roguelike akcji, Przygodowe akcji, Akcja, 2D, Platformowe, Cena: 55,99 zł\n",
      "Tytuł: Frostpunk 2, Tagi: Strategiczne, Budowanie miasta, Survival, Zarządzanie zasobami, Postapokaliptyczne, Cena: 124,79 zł\n",
      "Tytuł: Lies of P, Tagi: Souls-like, Akcja, Mroczne fantasy, RPG akcji, Eksploracja, Cena: 164,99 zł\n",
      "Tytuł: S.T.A.L.K.E.R. 2: Heart of Chornobyl, Tagi: Otwarty świat, FPS, Postapokaliptyczne, Survival, Klimatyczne, Cena: 229,99 zł\n",
      "Tytuł: Stray, Tagi: Koty, Przygodowe, Cyberpunk, Klimatyczne, Jednoosobowe, Cena: 71,99 zł\n",
      "Tytuł: Planetary Annihilation: TITANS, Tagi: RTS, Strategiczne, Taktyka w czasie rzeczywistym, Wieloosobowe, Budowanie bazy, Cena: 35,63 zł\n",
      "Tytuł: Atomic Heart, Tagi: Treści seksualne, Horror, FPS, Łamigłówki, Jednoosobowe, Cena: 72,59 zł\n",
      "Tytuł: Fallout 76, Tagi: Otwarty świat, Wieloosobowe, Postapokaliptyczne, Czarna komedia, RPG, Cena: 169,90 zł\n",
      "Tytuł: Lethal Company, Tagi: Sieciowa kooperacja, Horror, Perspektywa pierwszej osoby, Kooperacja, Survival horror, Cena: 45,99 zł\n",
      "Tytuł: Sins of a Solar Empire II, Tagi: Kosmos, Strategiczne, 4X, RTS, Science fiction, Cena: 185,59 zł\n",
      "Tytuł: Jurassic World Evolution 2, Tagi: Dinozaury, Budowanie, Symulatory, Zarządzanie, Piaskownica, Cena: 64,49 zł\n",
      "Tytuł: Once Human, Tagi: Wieloosobowe, Survivalowe w otwartym świecie, Survival, Strategiczne, Horror, Cena: Free to Play\n",
      "Tytuł: This War of Mine, Tagi: Survival, Wojna, Klimatyczne, Jednoosobowe, Strategiczne, Cena: 9,19 zł\n",
      "Tytuł: The First Descendant, Tagi: Free to Play, Treści seksualne, Strzelanka z łupami, Wieloosobowe, Cena: Free to Play\n",
      "Tytuł: Infection Free Zone, Tagi: Budowanie bazy, Postapokaliptyczne, Budowanie miasta, Strategiczne, Zombie, Cena: 79,99 zł\n",
      "Tytuł: Dying Light 2 Stay Human: Reloaded Edition, Tagi: Otwarty świat, Kooperacja, Zombie, Parkour, Wieloosobowe, Cena: 199,99 zł\n",
      "Tytuł: Horizon Forbidden West™ Edycja kompletna, Tagi: Otwarty świat, Jednoosobowe, Żeńska postać w roli głównej, Akcja, RPG, Cena: 259,00 zł\n",
      "Tytuł: Tower of Fantasy, Tagi: Anime, MMORPG, Otwarty świat, RPG, Akcja, Cena: Free to Play\n",
      "Tytuł: Outer Wilds, Tagi: Eksploracja, Kosmos, Tajemnicze, Bogata fabuła, Przygodowe, Cena: 59,99 zł\n",
      "Tytuł: Metro Exodus, Tagi: Postapokaliptyczne, FPS, Jednoosobowe, Otwarty świat, Bogata fabuła, Cena: 31,75 zł\n",
      "Tytuł: Project Zomboid, Tagi: Survival, Zombie, Otwarty świat, Wieloosobowe, Survivalowe w otwartym świecie, Cena: 91,99 zł\n",
      "Tytuł: Nobody Wants to Die, Tagi: 3D, Detektywistyczne, Dystopijne, Noir, Thriller, Cena: 68,64 zł\n",
      "Tytuł: Chained Together, Tagi: Kooperacja, Przygodowe, Rekreacyjne, Platformowe, Symulatory, Cena: 22,99 zł\n",
      "Tytuł: Barotrauma, Tagi: Kooperacja, Wieloosobowe, Survival, Okręty podwodne, Survival horror, Cena: 69,99 zł\n",
      "Tytuł: Plague Inc: Evolved, Tagi: Strategiczne, Symulatory, Symulator katastroficzny, Niezależne, Jednoosobowe, Cena: 20,39 zł\n",
      "Tytuł: Space Engineers 2, Tagi: Akcja, Symulatory, Strategiczne, Piaskownica, Przygodowe akcji, Cena: Zakup w przedsprzedaży\n",
      "Tytuł: Dune: Spice Wars, Tagi: Zarządzanie, Jednoosobowe, Science fiction, RTS, Strategiczne, Cena: 86,34 zł\n",
      "Tytuł: Brotato, Tagi: Roguelike, Jednoosobowe, Roguelike akcji, Science fiction, Bullet hell, Cena: 13,79 zł\n",
      "Tytuł: Iron Harvest, Tagi: RTS, Strategiczne, Budowanie bazy, Mechy, Wojna, Cena: 19,01 zł\n",
      "Tytuł: New Cycle, Tagi: Budowanie miasta, Strategiczne, Survival, Budowanie, Symulator kolonizacji, Cena: 49,99 zł\n",
      "Tytuł: Far Cry® New Dawn, Tagi: Otwarty świat, FPS, Akcja, Wieloosobowe, Kooperacja, Cena: 35,98 zł\n",
      "Tytuł: Warhammer 40,000: Darktide, Tagi: Przygodowe akcji, Horror, Walka, Warhammer 40K, Kooperacja, Cena: 84,99 zł\n",
      "Tytuł: Void Crew, Tagi: Kooperacja, Wieloosobowe, Symulator kosmiczny, Przygodowe, Kosmos, Cena: 63,99 zł\n",
      "Tytuł: Warhammer 40,000: Dawn of War III, Tagi: Warhammer 40K, Strategiczne, RTS, Science fiction, Wieloosobowe, Cena: 35,80 zł\n",
      "Tytuł: The Planet Crafter, Tagi: Survivalowe w otwartym świecie, Budowanie bazy, Sieciowa kooperacja, Survival, Cena: 80,49 zł\n",
      "Tytuł: Tom Clancy’s The Division® 2, Tagi: Otwarty świat, Strzelanka z łupami, Wieloosobowe, Cena: 39,97 zł\n",
      "Tytuł: Frostpunk: On The Edge, Tagi: Strategiczne, Symulatory, Survival, Budowanie miasta, Steampunk, Cena: 17,99 zł\n",
      "Tytuł: The Invincible, Tagi: Przygodowe, Roboty, Futurystyczne, Symulator chodzenia, Rozmowa, Cena: 75,00 zł\n",
      "Tytuł: Beat Saber, Tagi: VR, Rytmiczne, Muzyczne, Modyfikowalne, Szybkie tempo, Cena: 138,99 zł\n",
      "Tytuł: Aliens: Dark Descent, Tagi: Strategiczne, Akcja, Taktyczne, RTS, Science fiction, Cena: 58,49 zł\n",
      "Tytuł: IDUN, Tagi: 3D, Budowanie, Wojenne, Tower defense, Strategiczne, Cena: 61,19 zł\n",
      "Tytuł: Frostpunk: The Last Autumn, Tagi: Strategiczne, Symulatory, Budowanie miasta, Survival, Steampunk, Cena: 23,39 zł\n",
      "Tytuł: Battlefleet Gothic: Armada 2, Tagi: Kosmos, Strategiczne, Warhammer 40K, RTS, Taktyka w czasie rzeczywistym, Cena: 13,99 zł\n",
      "Tytuł: Stellar Warfare, Tagi: Niezależne, Symulatory, Kosmos, RTS, Strategiczne, Cena: 45,99 zł\n",
      "Tytuł: STAR WARS™: The Old Republic™, Tagi: Free to Play, MMORPG, Wieloosobowe, Dostosowywanie postaci, Otwarty świat, Cena: Free to Play\n",
      "Tytuł: DayZ, Tagi: Survival, Otwarty świat, Sieciowa kooperacja, Zombie, Wieloosobowe, Cena: 189,99 zł\n",
      "Tytuł: Warhammer 40,000: Chaos Gate - Daemonhunters, Tagi: Warhammer 40K, Strategiczne turowe, Taktyczne turowe, Strategiczne RPG, Taktyczne, Cena: 48,59 zł\n",
      "Tytuł: LOCKDOWN Protocol, Tagi: Wieloosobowe, Dedukcyjne towarzyskie, Rozmowa, Kosmos, Akcja, Cena: 32,19 zł\n",
      "Tytuł: Empire of the Ants, Tagi: Strategiczne, Narracja, RTS, Taktyka w czasie rzeczywistym, PvE, Cena: 118,30 zł\n",
      "Tytuł: RimWorld, Tagi: Symulator kolonizacji, Budowanie bazy, Survival, Strategiczne, Piaskownica, Cena: 139,99 zł\n",
      "Tytuł: Warhammer 40,000: Dawn of War - Anniversary Edition, Tagi: Strategiczne, Warhammer 40K, RTS, Budowanie bazy, Science fiction, Cena: 19,99 zł\n",
      "Tytuł: The Long Drive, Tagi: Wieloosobowe, Otwarty świat, Kierowanie pojazdem, Survival, Symulator samochodowy, Cena: 72,99 zł\n",
      "Tytuł: From Glory To Goo, Tagi: Budowanie bazy, RTS, Tower defense, Czas rzeczywisty z pauzą, RTS akcji, Cena: 27,99 zł\n",
      "Tytuł: Stellaris: The Machine Age, Tagi: Kosmos, Strategiczne, Strategiczne globalne, Science fiction, Symulatory, Cena: 114,99 zł\n",
      "Tytuł: Creeper World 4, Tagi: Tower defense, Taktyka w czasie rzeczywistym, Wojenne, Budowanie, Kosmos, Cena: 35,99 zł\n",
      "Tytuł: Caves of Qud, Tagi: Generacja proceduralna, Walka turowa, Otwarty świat, Turowe, Transhumanizm, Cena: 138,99 zł\n",
      "Tytuł: Starship Troopers: Terran Command, Tagi: Strategiczne, RTS, Jednoosobowe, Wojskowe, Taktyczne, Cena: 83,39 zł\n",
      "Tytuł: Subnautica, Tagi: Survivalowe w otwartym świecie, Survival, Horror, Otwarty świat, Podwodne, Cena: 138,99 zł\n",
      "Tytuł: VLADiK BRUTAL, Tagi: FPS, Strzelanka, Perspektywa pierwszej osoby, Akcja, Dystopijne, Cena: 43,99 zł\n",
      "Tytuł: BlazBlue Entropy Effect - Hazama Character Pack, Tagi: Roguelike akcji, Akcja, Przygodowe akcji, 2D, Platformowe, Cena: 14,99 zł\n",
      "Tytuł: Avatar: Frontiers of Pandora™, Tagi: Akcja, Przygodowe, Otwarty świat, Eksploracja, Strzelanka, Cena: 289,90 zł\n",
      "Tytuł: Metro 2033 Redux, Tagi: Postapokaliptyczne, FPS, Klimatyczne, Bogata fabuła, Akcja, Cena: 12,60 zł\n",
      "Tytuł: Stellaris: Grand Archive, Tagi: Kosmos, Strategiczne, Strategiczne globalne, Science fiction, 4X, Cena: 67,99 zł\n",
      "Tytuł: System Shock, Tagi: Akcja, Wciągający symulator, Przygodowe, Cyberpunk, Science fiction, Cena: 67,60 zł\n",
      "Tytuł: Outpost: Infinity Siege, Tagi: Roboty, 3D, Budowanie bazy, Tower defense, FPS, Cena: 63,24 zł\n",
      "Tytuł: Unturned, Tagi: Free to Play, Survival, Zombie, Wieloosobowe, Otwarty świat, Cena: Free to Play\n",
      "Tytuł: Metro Awakening, Tagi: VR, Eksploracja, Strzelanka, FPS, Bogata fabuła, Cena: 111,30 zł\n",
      "Tytuł: Warhammer 40,000: Space Marine - Anniversary Edition, Tagi: Warhammer 40K, Akcja, Strzelanka z perspektywą trzeciej osoby, Science fiction, Cena: 40,49 zł\n",
      "Tytuł: MechWarrior 5: Mercenaries, Tagi: Mechy, Symulatory, FPS, Akcja, Strzelanka, Cena: 43,19 zł\n",
      "Tytuł: DRAMAtical Murder, Tagi: LGBTQ+, Treści seksualne, Powieść wizualna, Romans, Anime, Cena: 55,19 zł\n",
      "Tytuł: Deep Rock Galactic, Tagi: Krasnoludy, Kooperacja, PvE, FPS, Generacja proceduralna, Cena: 107,99 zł\n",
      "Tytuł: Brotato: Abyssal Terrors, Tagi: Jednoosobowe, Roguelike, Roguelike akcji, Science fiction, Survival, Cena: 14,39 zł\n",
      "Tytuł: Space Engineers, Tagi: Kosmos, Piaskownica, Budowanie, Survivalowe w otwartym świecie, Wieloosobowe, Cena: 71,99 zł\n",
      "Tytuł: Chernobylite Complete Edition, Tagi: Postapokaliptyczne, Survival, Horror, RPG, Klimatyczne, Cena: 29,99 zł\n",
      "Tytuł: Snowbreak: Containment Zone, Tagi: Anime, Strzelanka z perspektywą trzeciej osoby, Free to Play, Strzelanka, RPG, Cena: Free to Play\n",
      "Tytuł: War Robots, Tagi: Roboty, Mechy, Free to Play, PvP, Strzelanka, Cena: Free to Play\n",
      "Tytuł: STEINS;GATE, Tagi: Powieść wizualna, Bogata fabuła, Anime, Podróż w czasie, Science fiction, Cena: 21,59 zł\n",
      "Tytuł: Half-Life: Alyx, Tagi: VR, FPS, Horror, Bogata fabuła, Żeńska postać w roli głównej, Cena: 274,99 zł\n",
      "Tytuł: The Last of Us™ Part II Remastered, Tagi: Strzelanka z perspektywą trzeciej osoby, Bogata fabuła, Postapokaliptyczne, Cena: Zakup w przedsprzedaży\n",
      "Tytuł: Mouthwashing, Tagi: Horror psychologiczny, Bogata fabuła, Horror, Klimatyczne, Retro, Cena: 59,99 zł\n",
      "Tytuł: Alien: Isolation, Tagi: Horror, Survival horror, Science fiction, Kosmici, Klimatyczne, Cena: 44,75 zł\n",
      "Tytuł: Watch Dogs®: Legion, Tagi: Akcja, Przygodowe, Otwarty świat, Wieloosobowe, RPG, Cena: 37,48 zł\n",
      "Tytuł: State of Decay 2: Juggernaut Edition, Tagi: Survival, Otwarty świat, Zombie, Budowanie bazy, Wieloosobowe, Cena: 43,19 zł\n",
      "Tytuł: Quantum Break, Tagi: Akcja, Bogata fabuła, Manipulacja czasem, Science fiction, Jednoosobowe, Cena: 35,74 zł\n",
      "Tytuł: Destiny 2, Tagi: Free to Play, Otwarty świat, Strzelanka z łupami, Wieloosobowe, FPS, Cena: Free to Play\n",
      "Tytuł: ASTRONEER, Tagi: Wieloosobowe, Survivalowe w otwartym świecie, Otwarty świat, Kosmos, Survival, Cena: 138,99 zł\n",
      "Tytuł: Frostpunk: The Rifts, Tagi: Symulatory, Strategiczne, Budowanie miasta, Survival, Steampunk, Cena: 6,89 zł\n",
      "Tytuł: Nine Sols, Tagi: Metroidvania, Souls-like, Akcja, Trudne, Platformowe, Cena: 138,99 zł\n",
      "Tytuł: The Long Dark, Tagi: Survival, Survivalowe w otwartym świecie, Otwarty świat, Eksploracja, Klimatyczne, Cena: 29,99 zł\n",
      "Tytuł: Subnautica: Below Zero, Tagi: Survivalowe w otwartym świecie, Survival, Podwodne, Jednoosobowe, Otwarty świat, Cena: 138,99 zł\n",
      "Tytuł: Assassin's Creed® Syndicate, Tagi: Skrytobójca, Otwarty świat, Akcja, Skradanie, Parkour, Cena: 159,90 zł\n",
      "Tytuł: Outer Wilds - Echoes of the Eye, Tagi: Przygodowe, Akcja, Horror, Tajemnicze, Eksploracja, Cena: 39,59 zł\n",
      "Tytuł: Beyond: Two Souls, Tagi: Przygodowe, Znaczące wybory, Bogata fabuła, Żeńska postać w roli głównej, Filmowe, Cena: 79,90 zł\n",
      "Tytuł: Days Gone, Tagi: Otwarty świat, Zombie, Survival, Jednoosobowe, Postapokaliptyczne, Cena: 219,00 zł\n",
      "Tytuł: Stellaris: Cosmic Storms, Tagi: Kosmos, Strategiczne, Strategiczne globalne, Science fiction, Symulatory, Cena: 59,99 zł\n",
      "Tytuł: Arken Age, Tagi: VR, Przygodowe, Fizyka, Walka na miecze, Strzelanka, Cena: 159,99 zł\n",
      "Tytuł: Metro: Last Light Redux, Tagi: Postapokaliptyczne, FPS, Klimatyczne, Akcja, Bogata fabuła, Cena: 12,60 zł\n",
      "Tytuł: XCOM® 2, Tagi: Strategiczne, Turowe, Strategiczne turowe, Taktyczne, Taktyczne turowe, Cena: 214,90 zł\n",
      "Tytuł: Battlefield™ 2042, Tagi: FPS, Strzelanka, Wieloosobowe, Wojskowe, Wojna, Cena: 269,90 zł\n",
      "Tytuł: Arma 3 Contact, Tagi: Symulatory, Strategiczne, Akcja, Wojskowe, Kosmici, Cena: 39,99 zł\n",
      "Tytuł: The Last of Us™ Part I, Tagi: Bogata fabuła, Postapokaliptyczne, Strzelanka, Przygodowe akcji, Zombie, Cena: 259,00 zł\n",
      "Tytuł: Zompiercer, Tagi: Piaskownica, FPS, Strzelanka, Przygodowe akcji, RPG akcji, Cena: 59,99 zł\n",
      "Tytuł: Homeworld: Deserts of Kharak, Tagi: Strategiczne, RTS, Science fiction, Wieloosobowe, Bogata fabuła, Cena: 17,99 zł\n",
      "Tytuł: Stellaris: Utopia, Tagi: Strategiczne, Symulatory, Strategiczne globalne, Kosmos, 4X, Cena: 45,99 zł\n",
      "Tytuł: Deep Rock Galactic: Survivor, Tagi: Krasnoludy, Roguelike akcji, Bullet hell, Roguelite, Strzelanka z widokiem z góry, Cena: 50,00 zł\n",
      "Tytuł: Stellaris: Federations, Tagi: Strategiczne, Symulatory, Kosmos, Strategiczne globalne, Science fiction, Cena: 45,99 zł\n",
      "Tytuł: Star Wars Outlaws, Tagi: Jednoosobowe, Akcja, Otwarty świat, Przygodowe, Przygodowe akcji, Cena: 289,90 zł\n",
      "Tytuł: Oxygen Not Included, Tagi: Symulator kolonizacji, Budowanie bazy, Survival, Zarządzanie zasobami, Budowanie, Cena: 89,99 zł\n",
      "Tytuł: Eden Crafters, Tagi: Survivalowe w otwartym świecie, Automatyzacja, Budowanie bazy, Wytwarzanie, Cena: 73,59 zł\n",
      "Tytuł: AI: THE SOMNIUM FILES - nirvanA Initiative, Tagi: Powieść wizualna, Tajemnicze, Anime, Przygodowe, Science fiction, Cena: 32,24 zł\n",
      "Tytuł: Stellaris: Astral Planes, Tagi: Kosmos, Strategiczne, Strategiczne globalne, Science fiction, Symulatory, Cena: 45,99 zł\n",
      "Tytuł: Stellaris: Galactic Paragons, Tagi: Strategiczne, Symulatory, Kosmos, Strategiczne globalne, RTS, Cena: 33,99 zł\n",
      "Tytuł: Stellaris: Overlord, Tagi: Strategiczne, Symulatory, Science fiction, Strategiczne globalne, 4X, Cena: 45,99 zł\n",
      "Tytuł: Life is Strange - Episode 1, Tagi: Bogata fabuła, Znaczące wybory, Świetna ścieżka dźwiękowa, Żeńska postać w roli głównej, Cena: Free to Play\n",
      "Tytuł: Hidden Deep, Tagi: Strzelanka, Fizyka, Platformowe 2D, Akcja, Kosmici, Cena: 32,39 zł\n",
      "Tytuł: Battlefleet Gothic: Armada 2 - Chaos Campaign Expansion, Tagi: Strategiczne, Przemoc, Warhammer 40K, Cena: 17,49 zł\n",
      "Tytuł: Aliens: Fireteam Elite, Tagi: Kooperacja, Strzelanka, Kosmici, Akcja, Horror, Cena: 29,97 zł\n",
      "Tytuł: Killing Floor 2, Tagi: Zombie, Wieloosobowe, Sieciowa kooperacja, Brutalność, FPS, Cena: 21,59 zł\n",
      "Tytuł: Creeper World 3: Arc Eternal, Tagi: Tower defense, Strategiczne, Niezależne, RTS, Jednoosobowe, Cena: 17,81 zł\n",
      "Tytuł: Sins of a Solar Empire®: Rebellion, Tagi: Zarządzanie, Dyplomacja, Sieciowa kooperacja, Wieloosobowe, Jednoosobowe, Cena: 55,19 zł\n",
      "Tytuł: Build Master: MarsVille, Tagi: Symulator kolonizacji, Budowanie miasta, Strategiczne, Wojna, Mars, Cena: Free to Play\n",
      "Tytuł: Warhammer 40,000: Boltgun, Tagi: Strzelanka w dawnym stylu, FPS, Retro, Warhammer 40K, Strzelanka, Cena: 79,99 zł\n",
      "Tytuł: Fallout 4, Tagi: Otwarty świat, Postapokaliptyczne, Jednoosobowe, Eksploracja, RPG, Cena: 79,00 zł\n",
      "Tytuł: CRUEL, Tagi: Akcja, Perspektywa pierwszej osoby, Roguelike, Generacja proceduralna, Trwała śmierć, Cena: 34,99 zł\n",
      "Tytuł: Drill Core, Tagi: Strategiczne, Symulator kolonizacji, Roguelite, Eksploracja, Tower defense, Cena: 59,99 zł\n",
      "Tytuł: Obenseuer, Tagi: Niezależne, RPG, Survival, Wczesny dostęp, Strategiczne RPG, Cena: 54,39 zł\n",
      "Tytuł: A Quiet Place: The Road Ahead, Tagi: Skradanie, Survival horror, Żeńska postać w roli głównej, Horror, Symulator chodzenia, Cena: 119,90 zł\n",
      "Tytuł: Nuclear Nightmare, Tagi: Sieciowa kooperacja, Survival horror, Horror, Kooperacja, Perspektywa pierwszej osoby, Cena: 31,99 zł\n",
      "Tytuł: STAR WARS™ Battlefront™ II, Tagi: Wieloosobowe, Strzelanka, Strzelanka z perspektywą trzeciej osoby, Jednoosobowe, Cena: 139,90 zł\n",
      "Tytuł: Doomsday: Last Survivors, Tagi: Strategiczne, Strategiczne RPG, 4X, MMO, Taktyka w czasie rzeczywistym, Cena: Free to Play\n",
      "Tytuł: Halo Wars: Definitive Edition, Tagi: Strategiczne, RTS, Budowanie bazy, Wieloosobowe, Jednoosobowe, Cena: 24,75 zł\n",
      "Tytuł: Zero Escape: The Nonary Games, Tagi: Powieść wizualna, Bogata fabuła, Łamigłówki, Tajemnicze, Znaczące wybory, Cena: 10,79 zł\n",
      "Tytuł: Road 96 🛣️, Tagi: Perspektywa pierwszej osoby, Kolorowe, Lata 90., Przygodowe, Znaczące wybory, Cena: 21,24 zł\n",
      "Tytuł: RAGE 2, Tagi: Akcja, FPS, Otwarty świat, Postapokaliptyczne, Walka pojazdami, Cena: 169,00 zł\n",
      "Tytuł: Terminator: Dark Fate - Defiance, Tagi: Strategiczne, Taktyka w czasie rzeczywistym, RTS, Wojenne, Klimatyczne, Cena: 138,74 zł\n",
      "Tytuł: Wolfenstein II: The New Colossus, Tagi: FPS, Akcja, Brutalność, Jednoosobowe, Historia alternatywna, Cena: 124,00 zł\n",
      "Tytuł: Warhammer 40,000: Chaos Gate - Daemonhunters - Execution Force, Tagi: Strategiczne, RPG, Przemoc, Brutalność, Cena: 33,99 zł\n",
      "Tytuł: Still Wakes the Deep, Tagi: Horror psychologiczny, Bogata fabuła, Horror, Inspirowane Lovecraftem, Klimatyczne, Cena: 104,99 zł\n",
      "Tytuł: Uncle Chop's Rocket Shop, Tagi: Przygodowe, Zarządzanie, Symulatory, Łamigłówki, Roguelite, Cena: 91,99 zł\n",
      "Tytuł: Forever Skies, Tagi: Survival, Otwarty świat, Budowanie bazy, Przygodowe, Wytwarzanie, Cena: 65,99 zł\n",
      "Tytuł: Amenti, Tagi: Przygodowe, Horror, Mroczne, Eksploracja, Klimatyczne, Cena: 31,99 zł\n",
      "Tytuł: MechWarrior 5: Clans, Tagi: Akcja, Symulatory, Strzelanka, FPS, Mechy, Cena: 173,99 zł\n",
      "Tytuł: Plague Inc: The Cure, Tagi: Strategiczne, Symulatory, Rekreacyjne, Niezależne, Symulator medyczny, Cena: 19,25 zł\n",
      "Tytuł: Scorn, Tagi: Brutalność, Horror, Klimatyczne, Łamigłówki, Treści seksualne, Cena: 34,75 zł\n",
      "Tytuł: Homeworld Remastered Collection, Tagi: Kosmos, Strategiczne, RTS, Science fiction, Klasyczne, Cena: 9,99 zł\n",
      "Tytuł: Sovereign Syndicate, Tagi: RPG, Jednoosobowe, CRPG, Izometryczne, Bogata fabuła, Cena: 45,99 zł\n",
      "Tytuł: STEINS;GATE 0, Tagi: Powieść wizualna, Bogata fabuła, Anime, Podróż w czasie, Science fiction, Cena: 24,99 zł\n",
      "Tytuł: AI: The Somnium Files, Tagi: Powieść wizualna, Anime, Tajemnicze, Bogata fabuła, Detektywistyczne, Cena: 14,29 zł\n",
      "Tytuł: Stellaris: First Contact Story Pack, Tagi: Strategiczne, Symulatory, Kosmos, Science fiction, Cena: 33,99 zł\n",
      "Tytuł: Arizona Sunshine® Remake, Tagi: FPS, Strzelanka, Przygodowe akcji, VR, 3D, Cena: 119,00 zł\n",
      "Tytuł: Revival: Recolonization, Tagi: 4X, Strategiczne globalne, Strategiczne turowe, Sześciokątna siatka, Strategiczne, Cena: 138,99 zł\n",
      "Tytuł: Stellaris: Nemesis, Tagi: Strategiczne, Symulatory, 4X, Strategiczne globalne, Regrywalność, Cena: 45,99 zł\n",
      "Tytuł: Unnamed Space Idle, Tagi: Idlery, Rekreacyjne, Free to Play, Symulatory, Kosmos, Cena: Free to Play\n",
      "Tytuł: STEINS;GATE ELITE, Tagi: Powieść wizualna, Anime, Podróż w czasie, Science fiction, Bogata fabuła, Cena: 42,99 zł\n",
      "Tytuł: Torment: Tides of Numenera, Tagi: RPG, Izometryczne, Bogata fabuła, Przygodowe, CRPG, Cena: 31,24 zł\n",
      "Tytuł: Project Wingman, Tagi: Latanie, Akcja, Odrzutowce, Wojna, Wojskowe, Cena: 89,99 zł\n",
      "Tytuł: Stellaris: Apocalypse, Tagi: Strategiczne, Symulatory, 4X, Kosmos, Postapokaliptyczne, Cena: 45,99 zł\n",
      "Tytuł: Capes, Tagi: Taktyczne turowe, Strategiczne turowe, Superbohater, Strategiczne, Jednoosobowe, Cena: 84,50 zł\n",
      "Tytuł: High On Life, Tagi: Komediowe, FPS, Jednoosobowe, Czarny humor, Przygodowe, Cena: 71,99 zł\n",
      "Tytuł: Left 4 Dead 2, Tagi: Zombie, Kooperacja, FPS, Wieloosobowe, Strzelanka, Cena: 45,99 zł\n",
      "Tytuł: Jurassic World Evolution 2: Dominion Biosyn Expansion, Tagi: Strategiczne, Akcja, Symulatory, Dinozaury, Kontynuacja, Cena: 28,79 zł\n",
      "Tytuł: Crossout, Tagi: Perspektywa trzeciej osoby, Dostosowywanie broni palnej, Free to Play, Walka pojazdami, Cena: Free to Play\n",
      "Tytuł: Mass Effect™ Edycja legendarna, Tagi: Bogata fabuła, RPG, Znaczące wybory, Science fiction, Jednoosobowe, Cena: 269,90 zł\n",
      "Tytuł: Galaxy Life, Tagi: Strategiczne, Budowanie miasta, Wojenne, Strategiczne RPG, 2,5D, Cena: Free to Play\n",
      "Tytuł: Realpolitiks 3: Earth and Beyond, Tagi: Strategiczne, Strategiczne globalne, Polityczne, Gospodarka, Piaskownica, Cena: 109,49 zł\n",
      "Tytuł: 7 Days to Die, Tagi: Survival, Zombie, Wieloosobowe, Otwarty świat, Survivalowe w otwartym świecie, Cena: 208,49 zł\n",
      "Tytuł: NEBULOUS: Fleet Command, Tagi: Strategiczne, Symulatory, Kosmos, Science fiction, Strategiczne globalne, Cena: 49,99 zł\n",
      "Tytuł: Executive Assault 2, Tagi: RTS, Budowanie, Symulator kosmiczny, Strategiczne, Budowanie bazy, Cena: 67,49 zł\n",
      "Tytuł: X4: Timelines, Tagi: Piaskownica, Symulator kosmiczny, Gospodarka, Handlowanie, Kosmos, Cena: 58,99 zł\n",
      "Tytuł: Jurassic World Evolution, Tagi: Budowanie, Dinozaury, Symulatory, Zarządzanie, Strategiczne, Cena: 39,99 zł\n",
      "Tytuł: Dead Island 2, Tagi: Kooperacja, Zombie, Brutalność, Perspektywa pierwszej osoby, Przygodowe akcji, Cena: 211,26 zł\n",
      "Tytuł: STAR WARS Jedi: Ocalały™, Tagi: Akcja, Przygodowe, Jednoosobowe, Souls-like, Perspektywa trzeciej osoby, Cena: 299,90 zł\n",
      "Tytuł: Half-Life 2, Tagi: FPS, Akcja, Science fiction, Klasyczne, Jednoosobowe, Cena: 45,99 zł\n",
      "Tytuł: Neon Abyss, Tagi: Roguelike, Platformowe, Łupy, Generacja proceduralna, Jednoosobowe, Cena: 17,99 zł\n",
      "Tytuł: Portal, Tagi: Łamigłówki, Łamigłówki platformowe, Perspektywa pierwszej osoby, Platformowe 3D, Cena: 45,99 zł\n",
      "Tytuł: Ghosts of Tabor, Tagi: Akcja, VR, Strzelanka z łupami, Strzelanka, Eksploracja, Cena: 114,99 zł\n",
      "Tytuł: Battlefleet Gothic: Armada, Tagi: Strategiczne, Warhammer 40K, Kosmos, RTS, Science fiction, Cena: 7,49 zł\n",
      "Tytuł: Portal 2, Tagi: Platformowe, Łamigłówki, Perspektywa pierwszej osoby, Czarny humor, Bogata fabuła, Cena: 45,99 zł\n",
      "Tytuł: CryoFall, Tagi: Symulator kolonizacji, Wytwarzanie, PvE, Budowanie bazy, PvP, Cena: 7,99 zł\n",
      "Tytuł: Horizon Zero Dawn™ Remastered, Tagi: Przygodowe akcji, Żeńska postać w roli głównej, Perspektywa trzeciej osoby, Otwarty świat, Cena: 219,00 zł\n",
      "Tytuł: Borderlands: The Pre-Sequel, Tagi: Strzelanka z łupami, Kooperacja, FPS, Akcja, Komediowe, Cena: 169,00 zł\n",
      "Tytuł: Halo Infinite, Tagi: Free to Play, FPS, Wieloosobowe, Jednoosobowe, Strzelanka, Cena: Free to Play\n",
      "Tytuł: Hatsune Miku: Project DIVA Mega Mix+, Tagi: Rytmiczne, Anime, Zręcznościowe, Urocze, 3D, Cena: 149,00 zł\n",
      "Tytuł: Cyber Manhunt 2: New World - The Hacking Simulator, Tagi: Hakowanie, Bogata fabuła, Czarny humor, Dystopijne, Znaczące wybory, Cena: 40,47 zł\n",
      "Tytuł: Wasteland 3, Tagi: CRPG, Dostosowywanie postaci, Znaczące wybory, Bogata fabuła, Treści seksualne, Cena: 71,49 zł\n",
      "Tytuł: Particle Fleet: Emergence, Tagi: Strategiczne, Niezależne, Symulatory, Kosmos, RTS, Cena: 17,81 zł\n",
      "Tytuł: Distant Worlds 2, Tagi: Strategiczne, Symulatory, 4X, Strategiczne globalne, Science fiction, Cena: 92,79 zł\n",
      "Tytuł: Homeworld 3, Tagi: Kosmos, RTS, Strategiczne, Science fiction, Bogata fabuła, Cena: 124,50 zł\n",
      "Tytuł: The Forever Winter, Tagi: PvE, Strzelanka ewakuacyjna, Strzelanka z łupami, Postapokaliptyczne, Cena: 115,08 zł\n",
      "Tytuł: Star Trek: Infinite, Tagi: Strategiczne globalne, 4X, Kosmos, Eksploracja, Piaskownica, Cena: 69,49 zł\n",
      "Tytuł: Saints Row IV: Re-Elected, Tagi: Otwarty świat, Akcja, Komediowe, Kooperacja, Strzelanka z perspektywą trzeciej osoby, Cena: 21,12 zł\n",
      "Tytuł: Galactic Civilizations IV, Tagi: Kosmos, Strategiczne globalne, Symulatory, 4X, Strategiczne, Cena: 231,99 zł\n",
      "Tytuł: STAR WARS™ Empire at War - Gold Pack, Tagi: Strategiczne, RTS, Kosmos, Science fiction, Wieloosobowe, Cena: 91,99 zł\n",
      "Tytuł: Fallout Tactics: Brotherhood of Steel, Tagi: Postapokaliptyczne, RPG, Turowe, Strategiczne, Taktyczne, Cena: 44,99 zł\n",
      "Tytuł: Among Us VR, Tagi: VR, Wieloosobowe, Horror, Dedukcyjne towarzyskie, Psychologiczne, Cena: 17,99 zł\n",
      "Tytuł: X4: Foundations, Tagi: Symulator kosmiczny, Symulatory, Piaskownica, Gospodarka, Latanie, Cena: 199,99 zł\n",
      "Tytuł: ENDLESS™ Space 2, Tagi: Strategiczne, Kosmos, Science fiction, 4X, Strategiczne turowe, Cena: 142,99 zł\n",
      "Tytuł: Murky Divers, Tagi: Sieciowa kooperacja, Horror, Perspektywa pierwszej osoby, Horror psychologiczny, Cena: 40,99 zł\n",
      "Tytuł: The Forgotten City, Tagi: Przygodowe, Podróż w czasie, Tajemnicze, Eksploracja, Znaczące wybory, Cena: 28,74 zł\n",
      "Tytuł: Zero Escape: Zero Time Dilemma, Tagi: Łamigłówki, Powieść wizualna, Bogata fabuła, Horror psychologiczny, Tajemnicze, Cena: 7,19 zł\n",
      "Tytuł: BROK the InvestiGator, Tagi: Przygodowe, Wskaż i kliknij, Beat 'em up, Detektywistyczne, Znaczące wybory, Cena: 88,56 zł\n",
      "Tytuł: Stellaris: Ancient Relics Story Pack, Tagi: Strategiczne, Symulatory, Kosmos, Science fiction, 4X, Cena: 22,99 zł\n",
      "Tytuł: DOOM Eternal, Tagi: FPS, Akcja, Brutalność, Świetna ścieżka dźwiękowa, Szybkie tempo, Cena: 169,00 zł\n",
      "Tytuł: Moon Mystery, Tagi: Przygodowe, Jednoosobowe, Science fiction, FPS, Kosmos, Cena: 41,99 zł\n",
      "Tytuł: Fortune's Run, Tagi: Science fiction, Wciągający symulator, Strzelanka w dawnym stylu, FPS, Cyberpunk, Cena: 73,43 zł\n",
      "Tytuł: Into the Breach, Tagi: Strategiczne, Strategiczne turowe, Niezależne, Pikselowa grafika, Taktyczne turowe, Cena: 26,99 zł\n",
      "Tytuł: 1000xRESIST, Tagi: Żeńska postać w roli głównej, Thriller, Futurystyczne, 3D, Postapokaliptyczne, Cena: 91,99 zł\n",
      "Tytuł: Dune: Spice Wars - House Vernius of Ix, Tagi: Zarządzanie, Jednoosobowe, Science fiction, Strategiczne, RTS, Cena: 44,99 zł\n",
      "Tytuł: Worldless, Tagi: Kolorowe, RPG, Akcja, Jednoosobowe, Przygodowe, Cena: 53,99 zł\n",
      "Tytuł: Sunset Overdrive, Tagi: Otwarty świat, Akcja, Parkour, Dostosowywanie postaci, Cena: 19,99 zł\n",
      "Tytuł: Mad Max, Tagi: Otwarty świat, Walka pojazdami, Postapokaliptyczne, Akcja, Kierowanie pojazdem, Cena: 94,00 zł\n",
      "Tytuł: Roboquest, Tagi: FPS, Roguelike akcji, Roguelite, Strzelanka, Sieciowa kooperacja, Cena: 70,39 zł\n",
      "Tytuł: Cosmoteer: Starship Architect & Commander, Tagi: Science fiction, Jednoosobowe, 2D, Niezależne, Kosmos, Cena: 44,99 zł\n",
      "Tytuł: Space Haven, Tagi: Budowanie bazy, Kosmos, Symulator kolonizacji, Symulatory, Strategiczne, Cena: 35,99 zł\n",
      "Tytuł: Out of Orbit, Tagi: Survivalowe w otwartym świecie, Statki kosmiczne, Eksploracja, Kosmos, Survival, Cena: 63,99 zł\n",
      "Tytuł: MechWarrior 5: Mercenaries - Heroes of the Inner Sphere, Tagi: Akcja, Symulatory, Przemoc, Mechy, Jednoosobowe, Cena: 28,79 zł\n",
      "Tytuł: Hacker Simulator, Tagi: Hakowanie, Symulatory, Jednoosobowe, Realistyczne, Przestępczość, Cena: 84,94 zł\n",
      "Tytuł: Quake 4, Tagi: FPS, Akcja, Strzelanka, Science fiction, Brutalność, Cena: 64,99 zł\n",
      "Tytuł: Stellaris: Aquatics Species Pack, Tagi: Strategiczne, Symulatory, Kosmos, 4X, Science fiction, Cena: 22,99 zł\n",
      "Tytuł: Bridge Constructor Portal, Tagi: Łamigłówki, Symulatory, Strategiczne, Fizyka, Budowanie, Cena: 4,59 zł\n",
      "Tytuł: FTL: Faster Than Light, Tagi: Roguelike, Kosmos, Strategiczne, Science fiction, Niezależne, Cena: 10,79 zł\n",
      "Tytuł: Jurassic World Evolution 2: Park Managers' Collection Pack, Tagi: Symulatory, Dinozaury, Strategiczne, Budowanie, Zarządzanie, Cena: 17,39 zł\n",
      "Tytuł: Alien Shooter, Tagi: Strzelanka, Akcja, Brutalność, Krew, Kosmici, Cena: 22,99 zł\n",
      "Tytuł: Ashes of the Singularity: Escalation, Tagi: RTS, Budowanie bazy, PvP, Taktyka w czasie rzeczywistym, Modyfikowalne, Cena: 34,74 zł\n",
      "Tytuł: Risk of Rain 2: Survivors of the Void, Tagi: Akcja, Niezależne, Kooperacja, Świetna ścieżka dźwiękowa, Wieloosobowe, Cena: 49,99 zł\n",
      "Tytuł: Aliens vs. Predator™, Tagi: Akcja, FPS, Kosmici, Wieloosobowe, Science fiction, Cena: 13,49 zł\n",
      "Tytuł: SUPERHOT, Tagi: Akcja, FPS, Bullet time, Manipulacja czasem, Niezależne, Cena: 29,99 zł\n",
      "Tytuł: BLEACH Brave Souls, Tagi: Free to Play, Anime, RPG, Wieloosobowe, Akcja, Cena: Free to Play\n",
      "Tytuł: The Surge 2, Tagi: Souls-like, RPG, Akcja, Otwarty świat, Science fiction, Cena: 14,99 zł\n",
      "Tytuł: Stay Out, Tagi: Free to Play, Survival, Wieloosobowe, Otwarty świat, Sieciowa kooperacja, Cena: Free to Play\n",
      "Tytuł: Stellaris: Distant Stars Story Pack, Tagi: Strategiczne, Kosmos, Science fiction, 4X, Symulatory, Cena: 22,99 zł\n",
      "Tytuł: Dead Space (2008), Tagi: Horror, Science fiction, Akcja, Kosmos, Survival horror, Cena: 69,90 zł\n",
      "Tytuł: World War Z, Tagi: Zombie, Wieloosobowe, Sieciowa kooperacja, Akcja, Kooperacja, Cena: 119,90 zł\n",
      "Tytuł: 60 Seconds! Reatomized, Tagi: 2D, Wybierz własną przygodę, Taktyczne turowe, Eksploracja, Czarny humor, Cena: 39,99 zł\n",
      "Tytuł: Avatar: Frontiers of Pandora™ – The Sky Breaker, Tagi: Akcja, Przygodowe, Strzelanka, Eksploracja, Perspektywa pierwszej osoby, Cena: 69,00 zł\n",
      "Tytuł: SurrounDead, Tagi: Zombie, Survival, Otwarty świat, Postapokaliptyczne, RPG, Cena: 54,99 zł\n",
      "Tytuł: Crysis 2 Remastered, Tagi: Akcja, FPS, Strzelanka, Piaskownica, Perspektywa pierwszej osoby, Cena: 99,00 zł\n",
      "Tytuł: Dead Space, Tagi: Horror, Strzelanka z perspektywą trzeciej osoby, Science fiction, Kosmos, Survival horror, Cena: 269,90 zł\n",
      "Tytuł: Pacific Drive, Tagi: Bogata fabuła, Survival, Kierowanie pojazdem, Eksploracja, Survival horror, Cena: 109,00 zł\n",
      "Tytuł: Beholder, Tagi: Dystopijne, Znaczące wybory, Symulator polityczny, Strategiczne, Klimatyczne, Cena: 9,59 zł\n",
      "Tytuł: Stellaris: Synthetic Dawn Story Pack, Tagi: Strategiczne, Symulatory, 4X, Kosmos, Cena: 22,99 zł\n",
      "Tytuł: The Outer Worlds: Morderstwo na Erydanie, Tagi: RPG, Brutalność, Przemoc, Tajemnicze, Eksploracja, Cena: 62,99 zł\n",
      "Tytuł: Dishonored 2, Tagi: Skradanie, Perspektywa pierwszej osoby, Akcja, Skrytobójca, Jednoosobowe, Cena: 124,00 zł\n",
      "Tytuł: Ratchet & Clank: Rift Apart, Tagi: Przygodowe, Platformowe 3D, Jednoosobowe, Przygodowe akcji, Cena: 259,00 zł\n",
      "Tytuł: The Outer Worlds, Tagi: Otwarty świat, RPG akcji, RPG, Eksploracja, FPS, Cena: 129,00 zł\n",
      "Tytuł: SACRIFICE VILLAINS, Tagi: Superbohater, Powieść wizualna, Urocze, Anime, Kreskówkowe, Cena: 73,59 zł\n",
      "Tytuł: Eclipse - 2nd Dawn for the Galaxy, Tagi: Rekreacyjne, Strategiczne, Gra planszowa, Eksploracja, Taktyczne turowe, Cena: 59,99 zł\n",
      "Tytuł: Stellaris: Leviathans Story Pack, Tagi: Strategiczne, Symulatory, 4X, Kosmos, Science fiction, Cena: 22,99 zł\n",
      "Tytuł: CHAOS;CHILD, Tagi: Powieść wizualna, Tajemnicze, Bogata fabuła, Anime, Brutalność, Cena: 44,99 zł\n",
      "Tytuł: SANABI, Tagi: Pikselowa grafika, Bogata fabuła, Akcja, Cyberpunk, Przygodowe, Cena: 44,19 zł\n",
      "Tytuł: Necromunda: Hired Gun, Tagi: Akcja, Warhammer 40K, Przygodowe, FPS, Strzelanka, Cena: 29,99 zł\n",
      "Tytuł: Command & Conquer™ 4 Tyberyjski zmierzch, Tagi: Strategiczne, RTS, Wieloosobowe, Science fiction, Kooperacja, Cena: 100,00 zł\n",
      "Tytuł: Mutant Year Zero: Road to Eden, Tagi: Strategiczne, RPG, Walka turowa, Postapokaliptyczne, Taktyczne turowe, Cena: 59,99 zł\n",
      "Tytuł: Left to Survive: Shooter PVP, Tagi: Free to Play, Zombie, Kooperacja, Wieloosobowe, Akcja, Cena: Free to Play\n",
      "Tytuł: The Walking Dead: The Telltale Definitive Series, Tagi: Znaczące wybory, Bogata fabuła, Fikcja interaktywna, Horror, Wiele zakończeń, Cena: 231,99 zł\n",
      "Tytuł: SpaceEngine, Tagi: Otwarty świat, Rekreacyjne, Science fiction, Piaskownica, Kosmos, Cena: 115,00 zł\n",
      "Tytuł: Togainu no Chi ~Lost Blood~, Tagi: Przygodowe, LGBTQ+, Treści seksualne, Powieść wizualna, Brutalność, Cena: 45,99 zł\n",
      "Tytuł: Command & Conquer™ Red Alert™ 3, Tagi: Strategiczne, RTS, Budowanie bazy, Wieloosobowe, Kooperacja, Cena: 100,00 zł\n",
      "Tytuł: Fallout: New Vegas, Tagi: RPG, Postapokaliptyczne, Otwarty świat, Klimatyczne, Bogata fabuła, Cena: 44,99 zł\n",
      "Tytuł: Dead Rising Deluxe Remaster, Tagi: Akcja, Przygodowe, Zombie, Przygodowe akcji, Piaskownica, Cena: 229,00 zł\n",
      "Tytuł: Job Simulator, Tagi: VR, Symulatory, Zabawne, Perspektywa pierwszej osoby, Jednoosobowe, Cena: 91,99 zł\n",
      "Tytuł: Rogue Command, Tagi: Roguelike, Jednoosobowe, RTS, Tworzenie talii, Strategiczne, Cena: 73,59 zł\n",
      "Tytuł: Space Reign, Tagi: Symulator kosmiczny, Taktyka w czasie rzeczywistym, Akcja, Kosmos, Niezależne, Cena: 73,59 zł\n",
      "Tytuł: Stellaris: MegaCorp, Tagi: Strategiczne, Symulatory, 4X, Science fiction, Kosmos, Cena: 45,99 zł\n",
      "Tytuł: EVERSPACE™ 2, Tagi: Strzelanka, Łupy, Kosmos, Eksploracja, Strzelanka z łupami, Cena: 219,99 zł\n",
      "Tytuł: Original War, Tagi: Strategiczne, RTS, Science fiction, Jednoosobowe, Czas rzeczywisty z pauzą, Cena: 8,59 zł\n",
      "Tytuł: 5D Chess With Multiverse Time Travel, Tagi: Survival horror, Szachy, Podróż w czasie, Manipulacja czasem, Gra planszowa, Cena: 43,99 zł\n",
      "Tytuł: S.T.A.L.K.E.R.: Shadow of Chernobyl, Tagi: Klimatyczne, Postapokaliptyczne, Otwarty świat, FPS, Survival, Cena: 71,99 zł\n",
      "Tytuł: MechWarrior 5: Mercenaries - Rise of Rasalhague, Tagi: Symulatory, Akcja, Mechy, Cena: 21,59 zł\n",
      "Tytuł: Sunkenland, Tagi: Survivalowe w otwartym świecie, Survival, Kooperacja, Podwodne, Wieloosobowe, Cena: 91,99 zł\n",
      "Tytuł: ASTRONEER: Glitchwalkers, Tagi: Wieloosobowe, Otwarty świat, Survivalowe w otwartym świecie, Kosmos, Survival, Cena: 41,99 zł\n",
      "Tytuł: Creatures of Ava, Tagi: Przygodowe akcji, Zbieranie stworów, Eksploracja, Pozytywne, Wytwarzanie, Cena: 69,30 zł\n",
      "Tytuł: FAR: Changing Tides, Tagi: Klimatyczne, Przygodowe akcji, Postapokaliptyczne, Łamigłówki platformowe, 2,5D, Cena: 21,59 zł\n",
      "Tytuł: SYNDUALITY Echo of Ada, Tagi: Strzelanka z łupami, Mechy, Strzelanka ewakuacyjna, PvP, PvE, Cena: Zakup w przedsprzedaży\n",
      "Tytuł: Papers, Please, Tagi: Niezależne, Polityczne, Symulatory, Jednoosobowe, Wskaż i kliknij, Cena: 45,99 zł\n",
      "Tytuł: Fallout Shelter, Tagi: Free to Play, Budowanie bazy, Survival, Postapokaliptyczne, Jednoosobowe, Cena: Free to Play\n",
      "Tytuł: Gears Tactics, Tagi: Strategiczne, Taktyczne turowe, Turowe, Brutalność, Taktyczne, Cena: 49,17 zł\n",
      "Tytuł: The Expanse: A Telltale Series, Tagi: RPG, Przygodowe, Wybierz własną przygodę, Przygodowe akcji, Eksploracja, Cena: 57,49 zł\n",
      "Tytuł: DayZ Frostline, Tagi: Survival, Wieloosobowe, Zombie, Otwarty świat, Akcja, Cena: 99,99 zł\n",
      "Tytuł: Iron Marines Invasion, Tagi: RTS, RTS akcji, Roguelike akcji, Taktyka w czasie rzeczywistym, Przygodowe akcji, Cena: 33,99 zł\n",
      "Tytuł: Mass Effect: Andromeda - ulepszenie Deluxe, Tagi: Dostosowywanie postaci, Science fiction, RPG, Otwarty świat, Cena: 189,90 zł\n",
      "Tytuł: Thief, Tagi: Skradanie, Akcja, Perspektywa pierwszej osoby, Przygodowe, Jednoosobowe, Cena: 89,90 zł\n",
      "Tytuł: Crying Suns, Tagi: Strategiczne, Kosmos, Roguelite, Pikselowa grafika, Niezależne, Cena: 26,99 zł\n",
      "Tytuł: New Tales from the Borderlands, Tagi: Znaczące wybory, Wybierz własną przygodę, Quick time event, Wiele zakończeń, Cena: 169,00 zł\n",
      "Tytuł: We Need To Go Deeper, Tagi: Kooperacja, 2D, Inspirowane Lovecraftem, Roguelite, Wieloosobowe, Cena: 57,99 zł\n",
      "Tytuł: Command & Conquer™ Tiberian Sun™ and Firestorm™, Tagi: Strategiczne, Akcja, Jednoosobowe, RTS, RPG akcji, Cena: 100,00 zł\n",
      "Tytuł: Anomaly Agent, Tagi: Roguelike akcji, Side-scroller, Platformowe 2D, Souls-like, Hack and slash, Cena: 54,99 zł\n",
      "Tytuł: ROBOTICS;NOTES ELITE, Tagi: Przygodowe, Powieść wizualna, Science fiction, Bogata fabuła, Anime, Cena: 24,99 zł\n",
      "Tytuł: Serious Sam 3: BFE, Tagi: FPS, Akcja, Brutalność, Kooperacja, Komediowe, Cena: 138,99 zł\n",
      "Tytuł: Warhammer 40,000: Rogue Trader - Void Shadows, Tagi: Znaczące wybory, Kampania kooperacyjna, Games Workshop, Otwarty świat, Cena: 79,99 zł\n",
      "Tytuł: Elite Dangerous, Tagi: Symulator kosmiczny, Kosmos, Otwarty świat, Eksploracja, Science fiction, Cena: 91,99 zł\n",
      "Tytuł: Misao - 2024 HD Remaster, Tagi: Eksploracja, Łamigłówki, Żeńska postać w roli głównej, 2D, Horror, Cena: 45,99 zł\n",
      "Tytuł: Project Wingman: Frontline-59 Campaign, Tagi: Akcja, Latanie, Niezależne, Symulatory, Odrzutowce, Cena: 22,99 zł\n",
      "Tytuł: We Happy Few, Tagi: Przygodowe, Otwarty świat, Akcja, Survival, Dystopijne, Cena: 44,75 zł\n",
      "Tytuł: Terraforming Mars, Tagi: Strategiczne, Gra planszowa, Kosmos, Rozgrywane na stole, Turowe, Cena: 91,99 zł\n",
      "Tytuł: STAR WARS™: Squadrons, Tagi: Latanie, Kosmos, VR, Wieloosobowe, Science fiction, Cena: 179,90 zł\n",
      "Tytuł: Nova: Space Armada, Tagi: Strategiczne, 4X, Science fiction, MMO, Free to Play, Cena: Free to Play\n"
     ]
    }
   ],
   "source": [
    "# zescrolluj do początku listy\n",
    "#driver.execute_script('window.scroll(0, document.body.scrollHeight-3000)')\n",
    "\n",
    "# zecrolluj na dół listy\n",
    "driver.execute_script('window.scroll(0, document.body.scrollHeight-2000)')\n",
    "\n",
    "# Powtarzanie procesu 10 razy\n",
    "for i in range(25):\n",
    "    load_more_button = driver.find_element(By.CLASS_NAME, '_2tkiJ4VfEdI9kq1agjZyNz.Focusable')\n",
    "    load_more_button.click()\n",
    "    time.sleep(2)\n",
    "    driver.execute_script('window.scroll(0, document.body.scrollHeight-2000)')\n",
    "\n",
    "\n",
    "data = GetTitlesWithTagsAndPrices()"
   ]
  },
  {
   "cell_type": "code",
   "execution_count": 6,
   "metadata": {},
   "outputs": [],
   "source": [
    "# Zamknięcie drivera\n",
    "driver.quit()"
   ]
  },
  {
   "cell_type": "code",
   "execution_count": 12,
   "metadata": {},
   "outputs": [],
   "source": [
    "import pandas as pd\n",
    "import numpy as np\n",
    "\n",
    "def clean_data(df):\n",
    "    # 1. Konwersja ceny\n",
    "    def clean_price(price):\n",
    "        try:\n",
    "            if \"Free to Play\" in price:\n",
    "                return 0.0\n",
    "            return float(price.replace(' zł', '').replace(',', '.'))\n",
    "        except:\n",
    "            return np.nan\n",
    "\n",
    "    df['Cena'] = df['Cena'].apply(clean_price)\n",
    "\n",
    "    # 2. Konwersja liczby recenzji\n",
    "    def clean_reviews(reviews):\n",
    "        try:\n",
    "            return int(reviews.replace('Recenzje użytkowników: ', '').replace(' ', ''))\n",
    "        except:\n",
    "            return np.nan\n",
    "\n",
    "    df['Liczba recenzji'] = df['Liczba recenzji'].apply(clean_reviews)\n",
    "\n",
    "    # 3. Konwersja daty wydania\n",
    "    polish_months = {\n",
    "        'STY': 'Jan', 'LUT': 'Feb', 'MAR': 'Mar', 'KWI': 'Apr', 'MAJ': 'May', 'CZE': 'Jun',\n",
    "        'LIP': 'Jul', 'SIE': 'Aug', 'WRZ': 'Sep', 'PAŹ': 'Oct', 'LIS': 'Nov', 'GRU': 'Dec'\n",
    "    }\n",
    "\n",
    "    def clean_date(date):\n",
    "        if pd.isna(date):\n",
    "            return np.nan\n",
    "        for pl, en in polish_months.items():\n",
    "            date = date.replace(pl, en)\n",
    "        try:\n",
    "            return pd.to_datetime(date, format='%d %b %Y')\n",
    "        except:\n",
    "            return np.nan\n",
    "\n",
    "    df['Data wydania'] = df['Data wydania'].apply(clean_date)\n",
    "\n",
    "    # 4. Rozbicie tagów na kolumny (one-hot encoding)\n",
    "    def split_tags(tags):\n",
    "        return tags.split(', ') if isinstance(tags, str) else []\n",
    "\n",
    "    all_tags = sorted(set(tag for tags in df['Tagi'].apply(split_tags) for tag in tags))\n",
    "    for tag in all_tags:\n",
    "        df[f'Tag_{tag}'] = df['Tagi'].apply(lambda tags: 1 if tag in split_tags(tags) else 0)\n",
    "\n",
    "    # 5. Obsługa braków danych\n",
    "    df.dropna(subset=['Cena', 'Liczba recenzji', 'Data wydania'], inplace=True)\n",
    "\n",
    "    return df\n"
   ]
  },
  {
   "cell_type": "code",
   "execution_count": 15,
   "metadata": {},
   "outputs": [
    {
     "data": {
      "text/html": [
       "<div>\n",
       "<style scoped>\n",
       "    .dataframe tbody tr th:only-of-type {\n",
       "        vertical-align: middle;\n",
       "    }\n",
       "\n",
       "    .dataframe tbody tr th {\n",
       "        vertical-align: top;\n",
       "    }\n",
       "\n",
       "    .dataframe thead th {\n",
       "        text-align: right;\n",
       "    }\n",
       "</style>\n",
       "<table border=\"1\" class=\"dataframe\">\n",
       "  <thead>\n",
       "    <tr style=\"text-align: right;\">\n",
       "      <th></th>\n",
       "      <th>Tytuł</th>\n",
       "      <th>Tagi</th>\n",
       "      <th>Cena</th>\n",
       "      <th>Data wydania</th>\n",
       "      <th>Nacechowanie recenzji</th>\n",
       "      <th>Liczba recenzji</th>\n",
       "      <th>Tag_4X</th>\n",
       "      <th>Tag_Akcja</th>\n",
       "      <th>Tag_Battle royale</th>\n",
       "      <th>Tag_Bogata fabuła</th>\n",
       "      <th>...</th>\n",
       "      <th>Tag_Strzelanka z łupami</th>\n",
       "      <th>Tag_Superbohater</th>\n",
       "      <th>Tag_Survival</th>\n",
       "      <th>Tag_Survival horror</th>\n",
       "      <th>Tag_Survivalowe w otwartym świecie</th>\n",
       "      <th>Tag_Warhammer 40K</th>\n",
       "      <th>Tag_Wiele zakończeń</th>\n",
       "      <th>Tag_Wieloosobowe</th>\n",
       "      <th>Tag_Zarządzanie zasobami</th>\n",
       "      <th>Tag_Znaczące wybory</th>\n",
       "    </tr>\n",
       "  </thead>\n",
       "  <tbody>\n",
       "    <tr>\n",
       "      <th>0</th>\n",
       "      <td>Marvel Rivals</td>\n",
       "      <td>Free to Play, Wieloosobowe, Strzelanka z bohat...</td>\n",
       "      <td>0.00</td>\n",
       "      <td>2024-12-06</td>\n",
       "      <td>Bardzo pozytywne</td>\n",
       "      <td>179402</td>\n",
       "      <td>0</td>\n",
       "      <td>0</td>\n",
       "      <td>0</td>\n",
       "      <td>0</td>\n",
       "      <td>...</td>\n",
       "      <td>0</td>\n",
       "      <td>1</td>\n",
       "      <td>0</td>\n",
       "      <td>0</td>\n",
       "      <td>0</td>\n",
       "      <td>0</td>\n",
       "      <td>0</td>\n",
       "      <td>1</td>\n",
       "      <td>0</td>\n",
       "      <td>0</td>\n",
       "    </tr>\n",
       "    <tr>\n",
       "      <th>1</th>\n",
       "      <td>Warhammer 40,000: Space Marine 2</td>\n",
       "      <td>Warhammer 40K, Akcja, Strzelanka z perspektywą...</td>\n",
       "      <td>157.49</td>\n",
       "      <td>2024-09-09</td>\n",
       "      <td>Bardzo pozytywne</td>\n",
       "      <td>107725</td>\n",
       "      <td>0</td>\n",
       "      <td>1</td>\n",
       "      <td>0</td>\n",
       "      <td>0</td>\n",
       "      <td>...</td>\n",
       "      <td>0</td>\n",
       "      <td>0</td>\n",
       "      <td>0</td>\n",
       "      <td>0</td>\n",
       "      <td>0</td>\n",
       "      <td>1</td>\n",
       "      <td>0</td>\n",
       "      <td>1</td>\n",
       "      <td>0</td>\n",
       "      <td>0</td>\n",
       "    </tr>\n",
       "    <tr>\n",
       "      <th>2</th>\n",
       "      <td>Detroit: Become Human</td>\n",
       "      <td>Znaczące wybory, Bogata fabuła, Wiele zakończe...</td>\n",
       "      <td>55.49</td>\n",
       "      <td>2020-06-18</td>\n",
       "      <td>Przytłaczająco pozytywne</td>\n",
       "      <td>129150</td>\n",
       "      <td>0</td>\n",
       "      <td>0</td>\n",
       "      <td>0</td>\n",
       "      <td>1</td>\n",
       "      <td>...</td>\n",
       "      <td>0</td>\n",
       "      <td>0</td>\n",
       "      <td>0</td>\n",
       "      <td>0</td>\n",
       "      <td>0</td>\n",
       "      <td>0</td>\n",
       "      <td>1</td>\n",
       "      <td>0</td>\n",
       "      <td>0</td>\n",
       "      <td>1</td>\n",
       "    </tr>\n",
       "    <tr>\n",
       "      <th>3</th>\n",
       "      <td>Among Us</td>\n",
       "      <td>Wieloosobowe, Sieciowa kooperacja, Dedukcyjne ...</td>\n",
       "      <td>10.79</td>\n",
       "      <td>2018-11-16</td>\n",
       "      <td>Bardzo pozytywne</td>\n",
       "      <td>611949</td>\n",
       "      <td>0</td>\n",
       "      <td>0</td>\n",
       "      <td>0</td>\n",
       "      <td>0</td>\n",
       "      <td>...</td>\n",
       "      <td>0</td>\n",
       "      <td>0</td>\n",
       "      <td>1</td>\n",
       "      <td>0</td>\n",
       "      <td>0</td>\n",
       "      <td>0</td>\n",
       "      <td>0</td>\n",
       "      <td>1</td>\n",
       "      <td>0</td>\n",
       "      <td>0</td>\n",
       "    </tr>\n",
       "    <tr>\n",
       "      <th>4</th>\n",
       "      <td>HELLDIVERS™ 2</td>\n",
       "      <td>Sieciowa kooperacja, PvE, Strzelanka z perspek...</td>\n",
       "      <td>169.00</td>\n",
       "      <td>2024-02-08</td>\n",
       "      <td>W większości pozytywne</td>\n",
       "      <td>706128</td>\n",
       "      <td>0</td>\n",
       "      <td>1</td>\n",
       "      <td>0</td>\n",
       "      <td>0</td>\n",
       "      <td>...</td>\n",
       "      <td>0</td>\n",
       "      <td>0</td>\n",
       "      <td>0</td>\n",
       "      <td>0</td>\n",
       "      <td>0</td>\n",
       "      <td>0</td>\n",
       "      <td>0</td>\n",
       "      <td>1</td>\n",
       "      <td>0</td>\n",
       "      <td>0</td>\n",
       "    </tr>\n",
       "    <tr>\n",
       "      <th>5</th>\n",
       "      <td>Apex Legends™</td>\n",
       "      <td>Free to Play, Battle royale, Wieloosobowe, FPS...</td>\n",
       "      <td>0.00</td>\n",
       "      <td>2020-11-05</td>\n",
       "      <td>Mieszane</td>\n",
       "      <td>976121</td>\n",
       "      <td>0</td>\n",
       "      <td>0</td>\n",
       "      <td>1</td>\n",
       "      <td>0</td>\n",
       "      <td>...</td>\n",
       "      <td>0</td>\n",
       "      <td>0</td>\n",
       "      <td>0</td>\n",
       "      <td>0</td>\n",
       "      <td>0</td>\n",
       "      <td>0</td>\n",
       "      <td>0</td>\n",
       "      <td>1</td>\n",
       "      <td>0</td>\n",
       "      <td>0</td>\n",
       "    </tr>\n",
       "    <tr>\n",
       "      <th>6</th>\n",
       "      <td>Stellaris</td>\n",
       "      <td>Kosmos, Strategiczne globalne, Strategiczne, S...</td>\n",
       "      <td>46.24</td>\n",
       "      <td>2016-05-09</td>\n",
       "      <td>Bardzo pozytywne</td>\n",
       "      <td>124220</td>\n",
       "      <td>1</td>\n",
       "      <td>0</td>\n",
       "      <td>0</td>\n",
       "      <td>0</td>\n",
       "      <td>...</td>\n",
       "      <td>0</td>\n",
       "      <td>0</td>\n",
       "      <td>0</td>\n",
       "      <td>0</td>\n",
       "      <td>0</td>\n",
       "      <td>0</td>\n",
       "      <td>0</td>\n",
       "      <td>0</td>\n",
       "      <td>0</td>\n",
       "      <td>0</td>\n",
       "    </tr>\n",
       "    <tr>\n",
       "      <th>8</th>\n",
       "      <td>Cyberpunk 2077</td>\n",
       "      <td>Cyberpunk, Otwarty świat, Nagość, RPG, Jednoos...</td>\n",
       "      <td>199.00</td>\n",
       "      <td>2020-12-10</td>\n",
       "      <td>Bardzo pozytywne</td>\n",
       "      <td>715099</td>\n",
       "      <td>0</td>\n",
       "      <td>0</td>\n",
       "      <td>0</td>\n",
       "      <td>0</td>\n",
       "      <td>...</td>\n",
       "      <td>0</td>\n",
       "      <td>0</td>\n",
       "      <td>0</td>\n",
       "      <td>0</td>\n",
       "      <td>0</td>\n",
       "      <td>0</td>\n",
       "      <td>0</td>\n",
       "      <td>0</td>\n",
       "      <td>0</td>\n",
       "      <td>0</td>\n",
       "    </tr>\n",
       "    <tr>\n",
       "      <th>9</th>\n",
       "      <td>ICARUS</td>\n",
       "      <td>Survival, Survivalowe w otwartym świecie, Wiel...</td>\n",
       "      <td>40.49</td>\n",
       "      <td>2021-12-03</td>\n",
       "      <td>W większości pozytywne</td>\n",
       "      <td>35280</td>\n",
       "      <td>0</td>\n",
       "      <td>0</td>\n",
       "      <td>0</td>\n",
       "      <td>0</td>\n",
       "      <td>...</td>\n",
       "      <td>0</td>\n",
       "      <td>0</td>\n",
       "      <td>1</td>\n",
       "      <td>0</td>\n",
       "      <td>1</td>\n",
       "      <td>0</td>\n",
       "      <td>0</td>\n",
       "      <td>1</td>\n",
       "      <td>0</td>\n",
       "      <td>0</td>\n",
       "    </tr>\n",
       "    <tr>\n",
       "      <th>10</th>\n",
       "      <td>Frostpunk</td>\n",
       "      <td>Budowanie miasta, Survival, Zarządzanie zasoba...</td>\n",
       "      <td>13.89</td>\n",
       "      <td>2018-04-24</td>\n",
       "      <td>Bardzo pozytywne</td>\n",
       "      <td>98112</td>\n",
       "      <td>0</td>\n",
       "      <td>0</td>\n",
       "      <td>0</td>\n",
       "      <td>0</td>\n",
       "      <td>...</td>\n",
       "      <td>0</td>\n",
       "      <td>0</td>\n",
       "      <td>1</td>\n",
       "      <td>0</td>\n",
       "      <td>0</td>\n",
       "      <td>0</td>\n",
       "      <td>0</td>\n",
       "      <td>0</td>\n",
       "      <td>1</td>\n",
       "      <td>0</td>\n",
       "    </tr>\n",
       "    <tr>\n",
       "      <th>11</th>\n",
       "      <td>Lethal Company</td>\n",
       "      <td>Sieciowa kooperacja, Horror, Perspektywa pierw...</td>\n",
       "      <td>45.99</td>\n",
       "      <td>2023-10-23</td>\n",
       "      <td>Przytłaczająco pozytywne</td>\n",
       "      <td>377652</td>\n",
       "      <td>0</td>\n",
       "      <td>0</td>\n",
       "      <td>0</td>\n",
       "      <td>0</td>\n",
       "      <td>...</td>\n",
       "      <td>0</td>\n",
       "      <td>0</td>\n",
       "      <td>0</td>\n",
       "      <td>1</td>\n",
       "      <td>0</td>\n",
       "      <td>0</td>\n",
       "      <td>0</td>\n",
       "      <td>0</td>\n",
       "      <td>0</td>\n",
       "      <td>0</td>\n",
       "    </tr>\n",
       "  </tbody>\n",
       "</table>\n",
       "<p>11 rows × 45 columns</p>\n",
       "</div>"
      ],
      "text/plain": [
       "                               Tytuł  \\\n",
       "0                      Marvel Rivals   \n",
       "1   Warhammer 40,000: Space Marine 2   \n",
       "2              Detroit: Become Human   \n",
       "3                           Among Us   \n",
       "4                      HELLDIVERS™ 2   \n",
       "5                      Apex Legends™   \n",
       "6                          Stellaris   \n",
       "8                     Cyberpunk 2077   \n",
       "9                             ICARUS   \n",
       "10                         Frostpunk   \n",
       "11                    Lethal Company   \n",
       "\n",
       "                                                 Tagi    Cena Data wydania  \\\n",
       "0   Free to Play, Wieloosobowe, Strzelanka z bohat...    0.00   2024-12-06   \n",
       "1   Warhammer 40K, Akcja, Strzelanka z perspektywą...  157.49   2024-09-09   \n",
       "2   Znaczące wybory, Bogata fabuła, Wiele zakończe...   55.49   2020-06-18   \n",
       "3   Wieloosobowe, Sieciowa kooperacja, Dedukcyjne ...   10.79   2018-11-16   \n",
       "4   Sieciowa kooperacja, PvE, Strzelanka z perspek...  169.00   2024-02-08   \n",
       "5   Free to Play, Battle royale, Wieloosobowe, FPS...    0.00   2020-11-05   \n",
       "6   Kosmos, Strategiczne globalne, Strategiczne, S...   46.24   2016-05-09   \n",
       "8   Cyberpunk, Otwarty świat, Nagość, RPG, Jednoos...  199.00   2020-12-10   \n",
       "9   Survival, Survivalowe w otwartym świecie, Wiel...   40.49   2021-12-03   \n",
       "10  Budowanie miasta, Survival, Zarządzanie zasoba...   13.89   2018-04-24   \n",
       "11  Sieciowa kooperacja, Horror, Perspektywa pierw...   45.99   2023-10-23   \n",
       "\n",
       "       Nacechowanie recenzji  Liczba recenzji  Tag_4X  Tag_Akcja  \\\n",
       "0           Bardzo pozytywne           179402       0          0   \n",
       "1           Bardzo pozytywne           107725       0          1   \n",
       "2   Przytłaczająco pozytywne           129150       0          0   \n",
       "3           Bardzo pozytywne           611949       0          0   \n",
       "4     W większości pozytywne           706128       0          1   \n",
       "5                   Mieszane           976121       0          0   \n",
       "6           Bardzo pozytywne           124220       1          0   \n",
       "8           Bardzo pozytywne           715099       0          0   \n",
       "9     W większości pozytywne            35280       0          0   \n",
       "10          Bardzo pozytywne            98112       0          0   \n",
       "11  Przytłaczająco pozytywne           377652       0          0   \n",
       "\n",
       "    Tag_Battle royale  Tag_Bogata fabuła  ...  Tag_Strzelanka z łupami  \\\n",
       "0                   0                  0  ...                        0   \n",
       "1                   0                  0  ...                        0   \n",
       "2                   0                  1  ...                        0   \n",
       "3                   0                  0  ...                        0   \n",
       "4                   0                  0  ...                        0   \n",
       "5                   1                  0  ...                        0   \n",
       "6                   0                  0  ...                        0   \n",
       "8                   0                  0  ...                        0   \n",
       "9                   0                  0  ...                        0   \n",
       "10                  0                  0  ...                        0   \n",
       "11                  0                  0  ...                        0   \n",
       "\n",
       "    Tag_Superbohater  Tag_Survival  Tag_Survival horror  \\\n",
       "0                  1             0                    0   \n",
       "1                  0             0                    0   \n",
       "2                  0             0                    0   \n",
       "3                  0             1                    0   \n",
       "4                  0             0                    0   \n",
       "5                  0             0                    0   \n",
       "6                  0             0                    0   \n",
       "8                  0             0                    0   \n",
       "9                  0             1                    0   \n",
       "10                 0             1                    0   \n",
       "11                 0             0                    1   \n",
       "\n",
       "    Tag_Survivalowe w otwartym świecie  Tag_Warhammer 40K  \\\n",
       "0                                    0                  0   \n",
       "1                                    0                  1   \n",
       "2                                    0                  0   \n",
       "3                                    0                  0   \n",
       "4                                    0                  0   \n",
       "5                                    0                  0   \n",
       "6                                    0                  0   \n",
       "8                                    0                  0   \n",
       "9                                    1                  0   \n",
       "10                                   0                  0   \n",
       "11                                   0                  0   \n",
       "\n",
       "    Tag_Wiele zakończeń  Tag_Wieloosobowe  Tag_Zarządzanie zasobami  \\\n",
       "0                     0                 1                         0   \n",
       "1                     0                 1                         0   \n",
       "2                     1                 0                         0   \n",
       "3                     0                 1                         0   \n",
       "4                     0                 1                         0   \n",
       "5                     0                 1                         0   \n",
       "6                     0                 0                         0   \n",
       "8                     0                 0                         0   \n",
       "9                     0                 1                         0   \n",
       "10                    0                 0                         1   \n",
       "11                    0                 0                         0   \n",
       "\n",
       "    Tag_Znaczące wybory  \n",
       "0                     0  \n",
       "1                     0  \n",
       "2                     1  \n",
       "3                     0  \n",
       "4                     0  \n",
       "5                     0  \n",
       "6                     0  \n",
       "8                     0  \n",
       "9                     0  \n",
       "10                    0  \n",
       "11                    0  \n",
       "\n",
       "[11 rows x 45 columns]"
      ]
     },
     "metadata": {},
     "output_type": "display_data"
    }
   ],
   "source": [
    "display(df)"
   ]
  },
  {
   "cell_type": "code",
   "execution_count": 14,
   "metadata": {},
   "outputs": [],
   "source": [
    "import pandas as pd\n",
    "\n",
    "# Dane wejściowe\n",
    "df = pd.DataFrame(data)\n",
    "\n",
    "# Przetwarzanie danych\n",
    "df = clean_data(df)\n"
   ]
  },
  {
   "cell_type": "code",
   "execution_count": 10,
   "metadata": {},
   "outputs": [],
   "source": [
    "import pandas as pd\n",
    "import numpy as np\n",
    "from scipy.stats import chi2_contingency\n",
    "import plotly.express as px\n",
    "\n",
    "def analyze_data(df):\n",
    "    # 1. Tworzenie tabeli krzyżowej tagów\n",
    "    def create_crosstab(df):\n",
    "        all_tags = [tag for tags in df['tags'] for tag in tags]  # Zbiór wszystkich tagów\n",
    "        unique_tags = sorted(set(all_tags))  # Unikalne tagi\n",
    "        \n",
    "        # Tworzenie macierzy obecności tagów\n",
    "        tag_matrix = pd.DataFrame(0, index=unique_tags, columns=unique_tags)\n",
    "        for tags in df['tags']:\n",
    "            for tag1 in tags:\n",
    "                for tag2 in tags:\n",
    "                    if tag1 != tag2:  # Ignorujemy współwystępowanie z samym sobą\n",
    "                        tag_matrix.loc[tag1, tag2] += 1\n",
    "        \n",
    "        return tag_matrix\n",
    "\n",
    "    # 2. Test chi-kwadrat na współwystępowanie tagów\n",
    "    def chi_square_analysis(tag_matrix):\n",
    "        chi2_results = []\n",
    "        for tag1 in tag_matrix.index:\n",
    "            for tag2 in tag_matrix.columns:\n",
    "                if tag1 != tag2:  # Test tylko dla różnych tagów\n",
    "                    obs = [[tag_matrix.loc[tag1, tag2], tag_matrix.loc[tag2, tag1]],\n",
    "                           [sum(tag_matrix.loc[tag1, :]), sum(tag_matrix.loc[:, tag2])]]\n",
    "                    _, p, _, _ = chi2_contingency(obs)\n",
    "                    chi2_results.append((tag1, tag2, p))\n",
    "        \n",
    "        return pd.DataFrame(chi2_results, columns=['Tag1', 'Tag2', 'P-value']).sort_values('P-value')\n",
    "\n",
    "    # 3. Analiza wpływu tagów na ceny\n",
    "    def tag_price_analysis(df):\n",
    "        tag_price_data = []\n",
    "        for tag in sorted(set(tag for tags in df['tags'] for tag in tags)):\n",
    "            filtered = df[df['tags'].apply(lambda tags: tag in tags)]\n",
    "            avg_price = filtered['price'].mean()\n",
    "            tag_price_data.append({'Tag': tag, 'Average Price': avg_price})\n",
    "        \n",
    "        return pd.DataFrame(tag_price_data).sort_values('Average Price', ascending=False)\n",
    "\n",
    "    # Tworzenie tabeli krzyżowej tagów\n",
    "    tag_matrix = create_crosstab(df)\n",
    "    print(\"Tabela krzyżowa tagów:\\n\", tag_matrix)\n",
    "\n",
    "    # Analiza współwystępowania tagów z testem chi-kwadrat\n",
    "    #chi2_results = chi_square_analysis(tag_matrix)\n",
    "    #print(\"Wyniki testu chi-kwadrat:\\n\", chi2_results.head(10))\n",
    "\n",
    "    # Analiza wpływu tagów na ceny\n",
    "    tag_price_df = tag_price_analysis(df)\n",
    "    print(\"Średnia cena dla poszczególnych tagów:\\n\", tag_price_df)\n",
    "\n",
    "    # Wizualizacja danych\n",
    "    fig1 = px.imshow(tag_matrix, text_auto=True, title=\"Współwystępowanie tagów (Tabela krzyżowa)\")\n",
    "    fig2 = px.bar(tag_price_df, x='Tag', y='Average Price', title=\"Średnia cena w zależności od tagu\", labels={'Tag': 'Tag', 'Average Price': 'Średnia cena'})\n",
    "    \n",
    "    fig1.show()\n",
    "    fig2.show()\n",
    "\n",
    "    return {\n",
    "        \"tag_matrix\": tag_matrix,\n",
    "        #\"chi2_results\": chi2_results,\n",
    "        \"tag_price_analysis\": tag_price_df\n",
    "    }\n"
   ]
  },
  {
   "cell_type": "code",
   "execution_count": null,
   "metadata": {},
   "outputs": [],
   "source": [
    "# Analiza\n",
    "analyze_data(df)\n"
   ]
  },
  {
   "cell_type": "code",
   "execution_count": 13,
   "metadata": {},
   "outputs": [
    {
     "data": {
      "application/vnd.plotly.v1+json": {
       "config": {
        "plotlyServerURL": "https://plot.ly"
       },
       "data": [
        {
         "alignmentgroup": "True",
         "bingroup": "x",
         "hovertemplate": "price=%{x}<br>count=%{y}<extra></extra>",
         "legendgroup": "",
         "marker": {
          "color": "#636efa",
          "pattern": {
           "shape": ""
          }
         },
         "name": "",
         "nbinsx": 20,
         "offsetgroup": "",
         "orientation": "v",
         "showlegend": false,
         "type": "histogram",
         "x": [
          0,
          157.49,
          55.49,
          46.24,
          169,
          199,
          10.79,
          0,
          0,
          13.89,
          99.99,
          75.59,
          49.75,
          40.49,
          0,
          55.99,
          124.79,
          164.99,
          229.99,
          71.99,
          35.63,
          72.59,
          169.9,
          45.99,
          185.59,
          64.49,
          0,
          9.19,
          0,
          79.99,
          199.99,
          259,
          0,
          59.99,
          31.75,
          91.99,
          68.64,
          22.99,
          69.99,
          20.39,
          86.34,
          13.79,
          19.01,
          49.99,
          35.98,
          84.99,
          63.99,
          35.8,
          80.49,
          39.97,
          17.99,
          75,
          138.99,
          58.49,
          61.19,
          23.39,
          13.99,
          45.99,
          0,
          189.99,
          48.59,
          32.19,
          118.3,
          139.99,
          19.99,
          72.99,
          27.99,
          114.99,
          35.99,
          138.99,
          83.39,
          138.99,
          43.99,
          14.99,
          289.9,
          12.6,
          67.99,
          67.6,
          63.24,
          0,
          111.3,
          40.49,
          43.19,
          55.19,
          107.99,
          14.39,
          71.99,
          29.99,
          0,
          0,
          21.59,
          274.99,
          59.99,
          44.75,
          37.48,
          43.19,
          35.74,
          0,
          138.99,
          6.89,
          138.99,
          29.99,
          138.99,
          159.9,
          39.59,
          79.9,
          219,
          59.99,
          159.99,
          12.6,
          214.9,
          269.9,
          39.99,
          259,
          59.99,
          17.99,
          45.99,
          50,
          45.99,
          289.9,
          89.99,
          73.59,
          32.24,
          45.99,
          33.99,
          45.99,
          0,
          32.39,
          17.49,
          29.97,
          21.59,
          17.81,
          55.19,
          0,
          79.99,
          79,
          34.99,
          59.99,
          54.39,
          119.9,
          31.99,
          139.9,
          0,
          24.75,
          10.79,
          21.24,
          169,
          138.74,
          124,
          33.99,
          104.99,
          91.99,
          65.99,
          31.99,
          173.99,
          19.25,
          34.75,
          9.99,
          45.99,
          24.99,
          14.29,
          33.99,
          119,
          138.99,
          45.99,
          0,
          42.99,
          31.24,
          89.99,
          45.99,
          84.5,
          71.99,
          45.99,
          28.79,
          0,
          269.9,
          0,
          109.49,
          208.49,
          49.99,
          67.49,
          58.99,
          39.99,
          211.26,
          299.9,
          45.99,
          17.99,
          45.99,
          114.99,
          7.49,
          45.99,
          7.99,
          219,
          169,
          0,
          149,
          40.47,
          71.49,
          17.81,
          92.79,
          124.5,
          115.08,
          69.49,
          21.12,
          231.99,
          91.99,
          44.99,
          17.99,
          199.99,
          142.99,
          40.99,
          28.74,
          7.19,
          88.56,
          22.99,
          169,
          41.99,
          73.43,
          26.99,
          91.99,
          44.99,
          53.99,
          19.99,
          94,
          70.39,
          44.99,
          35.99,
          63.99,
          28.79,
          84.94,
          64.99,
          22.99,
          4.59,
          10.79,
          17.39,
          22.99,
          34.74,
          49.99,
          13.49,
          29.99,
          0,
          14.99,
          0,
          22.99,
          69.9,
          119.9,
          39.99,
          69,
          54.99,
          99,
          269.9,
          109,
          9.59,
          22.99,
          62.99,
          124,
          259,
          129,
          73.59,
          59.99,
          22.99,
          44.99,
          44.19,
          29.99,
          100,
          59.99,
          0,
          231.99,
          115,
          45.99,
          100,
          44.99,
          229,
          91.99,
          73.59,
          73.59,
          45.99,
          219.99,
          8.59,
          43.99,
          71.99,
          21.59,
          91.99,
          41.99,
          69.3,
          21.59,
          45.99,
          0,
          49.17,
          57.49,
          99.99,
          33.99,
          189.9,
          89.9,
          26.99,
          169,
          57.99,
          100,
          54.99,
          24.99,
          138.99,
          79.99,
          91.99,
          45.99,
          22.99,
          44.75,
          91.99,
          179.9,
          0
         ],
         "xaxis": "x",
         "yaxis": "y"
        }
       ],
       "layout": {
        "barmode": "relative",
        "legend": {
         "tracegroupgap": 0
        },
        "template": {
         "data": {
          "bar": [
           {
            "error_x": {
             "color": "#2a3f5f"
            },
            "error_y": {
             "color": "#2a3f5f"
            },
            "marker": {
             "line": {
              "color": "#E5ECF6",
              "width": 0.5
             },
             "pattern": {
              "fillmode": "overlay",
              "size": 10,
              "solidity": 0.2
             }
            },
            "type": "bar"
           }
          ],
          "barpolar": [
           {
            "marker": {
             "line": {
              "color": "#E5ECF6",
              "width": 0.5
             },
             "pattern": {
              "fillmode": "overlay",
              "size": 10,
              "solidity": 0.2
             }
            },
            "type": "barpolar"
           }
          ],
          "carpet": [
           {
            "aaxis": {
             "endlinecolor": "#2a3f5f",
             "gridcolor": "white",
             "linecolor": "white",
             "minorgridcolor": "white",
             "startlinecolor": "#2a3f5f"
            },
            "baxis": {
             "endlinecolor": "#2a3f5f",
             "gridcolor": "white",
             "linecolor": "white",
             "minorgridcolor": "white",
             "startlinecolor": "#2a3f5f"
            },
            "type": "carpet"
           }
          ],
          "choropleth": [
           {
            "colorbar": {
             "outlinewidth": 0,
             "ticks": ""
            },
            "type": "choropleth"
           }
          ],
          "contour": [
           {
            "colorbar": {
             "outlinewidth": 0,
             "ticks": ""
            },
            "colorscale": [
             [
              0,
              "#0d0887"
             ],
             [
              0.1111111111111111,
              "#46039f"
             ],
             [
              0.2222222222222222,
              "#7201a8"
             ],
             [
              0.3333333333333333,
              "#9c179e"
             ],
             [
              0.4444444444444444,
              "#bd3786"
             ],
             [
              0.5555555555555556,
              "#d8576b"
             ],
             [
              0.6666666666666666,
              "#ed7953"
             ],
             [
              0.7777777777777778,
              "#fb9f3a"
             ],
             [
              0.8888888888888888,
              "#fdca26"
             ],
             [
              1,
              "#f0f921"
             ]
            ],
            "type": "contour"
           }
          ],
          "contourcarpet": [
           {
            "colorbar": {
             "outlinewidth": 0,
             "ticks": ""
            },
            "type": "contourcarpet"
           }
          ],
          "heatmap": [
           {
            "colorbar": {
             "outlinewidth": 0,
             "ticks": ""
            },
            "colorscale": [
             [
              0,
              "#0d0887"
             ],
             [
              0.1111111111111111,
              "#46039f"
             ],
             [
              0.2222222222222222,
              "#7201a8"
             ],
             [
              0.3333333333333333,
              "#9c179e"
             ],
             [
              0.4444444444444444,
              "#bd3786"
             ],
             [
              0.5555555555555556,
              "#d8576b"
             ],
             [
              0.6666666666666666,
              "#ed7953"
             ],
             [
              0.7777777777777778,
              "#fb9f3a"
             ],
             [
              0.8888888888888888,
              "#fdca26"
             ],
             [
              1,
              "#f0f921"
             ]
            ],
            "type": "heatmap"
           }
          ],
          "heatmapgl": [
           {
            "colorbar": {
             "outlinewidth": 0,
             "ticks": ""
            },
            "colorscale": [
             [
              0,
              "#0d0887"
             ],
             [
              0.1111111111111111,
              "#46039f"
             ],
             [
              0.2222222222222222,
              "#7201a8"
             ],
             [
              0.3333333333333333,
              "#9c179e"
             ],
             [
              0.4444444444444444,
              "#bd3786"
             ],
             [
              0.5555555555555556,
              "#d8576b"
             ],
             [
              0.6666666666666666,
              "#ed7953"
             ],
             [
              0.7777777777777778,
              "#fb9f3a"
             ],
             [
              0.8888888888888888,
              "#fdca26"
             ],
             [
              1,
              "#f0f921"
             ]
            ],
            "type": "heatmapgl"
           }
          ],
          "histogram": [
           {
            "marker": {
             "pattern": {
              "fillmode": "overlay",
              "size": 10,
              "solidity": 0.2
             }
            },
            "type": "histogram"
           }
          ],
          "histogram2d": [
           {
            "colorbar": {
             "outlinewidth": 0,
             "ticks": ""
            },
            "colorscale": [
             [
              0,
              "#0d0887"
             ],
             [
              0.1111111111111111,
              "#46039f"
             ],
             [
              0.2222222222222222,
              "#7201a8"
             ],
             [
              0.3333333333333333,
              "#9c179e"
             ],
             [
              0.4444444444444444,
              "#bd3786"
             ],
             [
              0.5555555555555556,
              "#d8576b"
             ],
             [
              0.6666666666666666,
              "#ed7953"
             ],
             [
              0.7777777777777778,
              "#fb9f3a"
             ],
             [
              0.8888888888888888,
              "#fdca26"
             ],
             [
              1,
              "#f0f921"
             ]
            ],
            "type": "histogram2d"
           }
          ],
          "histogram2dcontour": [
           {
            "colorbar": {
             "outlinewidth": 0,
             "ticks": ""
            },
            "colorscale": [
             [
              0,
              "#0d0887"
             ],
             [
              0.1111111111111111,
              "#46039f"
             ],
             [
              0.2222222222222222,
              "#7201a8"
             ],
             [
              0.3333333333333333,
              "#9c179e"
             ],
             [
              0.4444444444444444,
              "#bd3786"
             ],
             [
              0.5555555555555556,
              "#d8576b"
             ],
             [
              0.6666666666666666,
              "#ed7953"
             ],
             [
              0.7777777777777778,
              "#fb9f3a"
             ],
             [
              0.8888888888888888,
              "#fdca26"
             ],
             [
              1,
              "#f0f921"
             ]
            ],
            "type": "histogram2dcontour"
           }
          ],
          "mesh3d": [
           {
            "colorbar": {
             "outlinewidth": 0,
             "ticks": ""
            },
            "type": "mesh3d"
           }
          ],
          "parcoords": [
           {
            "line": {
             "colorbar": {
              "outlinewidth": 0,
              "ticks": ""
             }
            },
            "type": "parcoords"
           }
          ],
          "pie": [
           {
            "automargin": true,
            "type": "pie"
           }
          ],
          "scatter": [
           {
            "fillpattern": {
             "fillmode": "overlay",
             "size": 10,
             "solidity": 0.2
            },
            "type": "scatter"
           }
          ],
          "scatter3d": [
           {
            "line": {
             "colorbar": {
              "outlinewidth": 0,
              "ticks": ""
             }
            },
            "marker": {
             "colorbar": {
              "outlinewidth": 0,
              "ticks": ""
             }
            },
            "type": "scatter3d"
           }
          ],
          "scattercarpet": [
           {
            "marker": {
             "colorbar": {
              "outlinewidth": 0,
              "ticks": ""
             }
            },
            "type": "scattercarpet"
           }
          ],
          "scattergeo": [
           {
            "marker": {
             "colorbar": {
              "outlinewidth": 0,
              "ticks": ""
             }
            },
            "type": "scattergeo"
           }
          ],
          "scattergl": [
           {
            "marker": {
             "colorbar": {
              "outlinewidth": 0,
              "ticks": ""
             }
            },
            "type": "scattergl"
           }
          ],
          "scattermapbox": [
           {
            "marker": {
             "colorbar": {
              "outlinewidth": 0,
              "ticks": ""
             }
            },
            "type": "scattermapbox"
           }
          ],
          "scatterpolar": [
           {
            "marker": {
             "colorbar": {
              "outlinewidth": 0,
              "ticks": ""
             }
            },
            "type": "scatterpolar"
           }
          ],
          "scatterpolargl": [
           {
            "marker": {
             "colorbar": {
              "outlinewidth": 0,
              "ticks": ""
             }
            },
            "type": "scatterpolargl"
           }
          ],
          "scatterternary": [
           {
            "marker": {
             "colorbar": {
              "outlinewidth": 0,
              "ticks": ""
             }
            },
            "type": "scatterternary"
           }
          ],
          "surface": [
           {
            "colorbar": {
             "outlinewidth": 0,
             "ticks": ""
            },
            "colorscale": [
             [
              0,
              "#0d0887"
             ],
             [
              0.1111111111111111,
              "#46039f"
             ],
             [
              0.2222222222222222,
              "#7201a8"
             ],
             [
              0.3333333333333333,
              "#9c179e"
             ],
             [
              0.4444444444444444,
              "#bd3786"
             ],
             [
              0.5555555555555556,
              "#d8576b"
             ],
             [
              0.6666666666666666,
              "#ed7953"
             ],
             [
              0.7777777777777778,
              "#fb9f3a"
             ],
             [
              0.8888888888888888,
              "#fdca26"
             ],
             [
              1,
              "#f0f921"
             ]
            ],
            "type": "surface"
           }
          ],
          "table": [
           {
            "cells": {
             "fill": {
              "color": "#EBF0F8"
             },
             "line": {
              "color": "white"
             }
            },
            "header": {
             "fill": {
              "color": "#C8D4E3"
             },
             "line": {
              "color": "white"
             }
            },
            "type": "table"
           }
          ]
         },
         "layout": {
          "annotationdefaults": {
           "arrowcolor": "#2a3f5f",
           "arrowhead": 0,
           "arrowwidth": 1
          },
          "autotypenumbers": "strict",
          "coloraxis": {
           "colorbar": {
            "outlinewidth": 0,
            "ticks": ""
           }
          },
          "colorscale": {
           "diverging": [
            [
             0,
             "#8e0152"
            ],
            [
             0.1,
             "#c51b7d"
            ],
            [
             0.2,
             "#de77ae"
            ],
            [
             0.3,
             "#f1b6da"
            ],
            [
             0.4,
             "#fde0ef"
            ],
            [
             0.5,
             "#f7f7f7"
            ],
            [
             0.6,
             "#e6f5d0"
            ],
            [
             0.7,
             "#b8e186"
            ],
            [
             0.8,
             "#7fbc41"
            ],
            [
             0.9,
             "#4d9221"
            ],
            [
             1,
             "#276419"
            ]
           ],
           "sequential": [
            [
             0,
             "#0d0887"
            ],
            [
             0.1111111111111111,
             "#46039f"
            ],
            [
             0.2222222222222222,
             "#7201a8"
            ],
            [
             0.3333333333333333,
             "#9c179e"
            ],
            [
             0.4444444444444444,
             "#bd3786"
            ],
            [
             0.5555555555555556,
             "#d8576b"
            ],
            [
             0.6666666666666666,
             "#ed7953"
            ],
            [
             0.7777777777777778,
             "#fb9f3a"
            ],
            [
             0.8888888888888888,
             "#fdca26"
            ],
            [
             1,
             "#f0f921"
            ]
           ],
           "sequentialminus": [
            [
             0,
             "#0d0887"
            ],
            [
             0.1111111111111111,
             "#46039f"
            ],
            [
             0.2222222222222222,
             "#7201a8"
            ],
            [
             0.3333333333333333,
             "#9c179e"
            ],
            [
             0.4444444444444444,
             "#bd3786"
            ],
            [
             0.5555555555555556,
             "#d8576b"
            ],
            [
             0.6666666666666666,
             "#ed7953"
            ],
            [
             0.7777777777777778,
             "#fb9f3a"
            ],
            [
             0.8888888888888888,
             "#fdca26"
            ],
            [
             1,
             "#f0f921"
            ]
           ]
          },
          "colorway": [
           "#636efa",
           "#EF553B",
           "#00cc96",
           "#ab63fa",
           "#FFA15A",
           "#19d3f3",
           "#FF6692",
           "#B6E880",
           "#FF97FF",
           "#FECB52"
          ],
          "font": {
           "color": "#2a3f5f"
          },
          "geo": {
           "bgcolor": "white",
           "lakecolor": "white",
           "landcolor": "#E5ECF6",
           "showlakes": true,
           "showland": true,
           "subunitcolor": "white"
          },
          "hoverlabel": {
           "align": "left"
          },
          "hovermode": "closest",
          "mapbox": {
           "style": "light"
          },
          "paper_bgcolor": "white",
          "plot_bgcolor": "#E5ECF6",
          "polar": {
           "angularaxis": {
            "gridcolor": "white",
            "linecolor": "white",
            "ticks": ""
           },
           "bgcolor": "#E5ECF6",
           "radialaxis": {
            "gridcolor": "white",
            "linecolor": "white",
            "ticks": ""
           }
          },
          "scene": {
           "xaxis": {
            "backgroundcolor": "#E5ECF6",
            "gridcolor": "white",
            "gridwidth": 2,
            "linecolor": "white",
            "showbackground": true,
            "ticks": "",
            "zerolinecolor": "white"
           },
           "yaxis": {
            "backgroundcolor": "#E5ECF6",
            "gridcolor": "white",
            "gridwidth": 2,
            "linecolor": "white",
            "showbackground": true,
            "ticks": "",
            "zerolinecolor": "white"
           },
           "zaxis": {
            "backgroundcolor": "#E5ECF6",
            "gridcolor": "white",
            "gridwidth": 2,
            "linecolor": "white",
            "showbackground": true,
            "ticks": "",
            "zerolinecolor": "white"
           }
          },
          "shapedefaults": {
           "line": {
            "color": "#2a3f5f"
           }
          },
          "ternary": {
           "aaxis": {
            "gridcolor": "white",
            "linecolor": "white",
            "ticks": ""
           },
           "baxis": {
            "gridcolor": "white",
            "linecolor": "white",
            "ticks": ""
           },
           "bgcolor": "#E5ECF6",
           "caxis": {
            "gridcolor": "white",
            "linecolor": "white",
            "ticks": ""
           }
          },
          "title": {
           "x": 0.05
          },
          "xaxis": {
           "automargin": true,
           "gridcolor": "white",
           "linecolor": "white",
           "ticks": "",
           "title": {
            "standoff": 15
           },
           "zerolinecolor": "white",
           "zerolinewidth": 2
          },
          "yaxis": {
           "automargin": true,
           "gridcolor": "white",
           "linecolor": "white",
           "ticks": "",
           "title": {
            "standoff": 15
           },
           "zerolinecolor": "white",
           "zerolinewidth": 2
          }
         }
        },
        "title": {
         "text": "Rozkład cen gier"
        },
        "xaxis": {
         "anchor": "y",
         "domain": [
          0,
          1
         ],
         "title": {
          "text": "Cena"
         }
        },
        "yaxis": {
         "anchor": "x",
         "domain": [
          0,
          1
         ],
         "title": {
          "text": "Liczba gier"
         }
        }
       }
      }
     },
     "metadata": {},
     "output_type": "display_data"
    }
   ],
   "source": [
    "fig = px.histogram(df, x='price', nbins=20, title='Rozkład cen gier')\n",
    "fig.update_layout(xaxis_title='Cena', yaxis_title='Liczba gier')\n",
    "fig.show()\n"
   ]
  },
  {
   "cell_type": "code",
   "execution_count": 14,
   "metadata": {},
   "outputs": [
    {
     "data": {
      "application/vnd.plotly.v1+json": {
       "config": {
        "plotlyServerURL": "https://plot.ly"
       },
       "data": [
        {
         "alignmentgroup": "True",
         "hovertemplate": "Tag=%{x}<br>Count=%{y}<extra></extra>",
         "legendgroup": "",
         "marker": {
          "color": "#636efa",
          "pattern": {
           "shape": ""
          }
         },
         "name": "",
         "offsetgroup": "",
         "orientation": "v",
         "showlegend": false,
         "textposition": "auto",
         "type": "bar",
         "x": [
          "Strategiczne",
          "Akcja",
          "Science fiction",
          "Wieloosobowe",
          "Kosmos",
          "Otwarty świat",
          "Jednoosobowe",
          "Symulatory",
          "FPS",
          "Survival",
          "Bogata fabuła",
          "Przygodowe",
          "RTS",
          "Strzelanka",
          "RPG",
          "Postapokaliptyczne",
          "Eksploracja",
          "Horror",
          "Kooperacja",
          "Budowanie bazy"
         ],
         "xaxis": "x",
         "y": [
          89,
          66,
          56,
          53,
          52,
          48,
          45,
          45,
          41,
          41,
          35,
          34,
          31,
          27,
          25,
          24,
          24,
          22,
          22,
          21
         ],
         "yaxis": "y"
        }
       ],
       "layout": {
        "barmode": "relative",
        "legend": {
         "tracegroupgap": 0
        },
        "template": {
         "data": {
          "bar": [
           {
            "error_x": {
             "color": "#2a3f5f"
            },
            "error_y": {
             "color": "#2a3f5f"
            },
            "marker": {
             "line": {
              "color": "#E5ECF6",
              "width": 0.5
             },
             "pattern": {
              "fillmode": "overlay",
              "size": 10,
              "solidity": 0.2
             }
            },
            "type": "bar"
           }
          ],
          "barpolar": [
           {
            "marker": {
             "line": {
              "color": "#E5ECF6",
              "width": 0.5
             },
             "pattern": {
              "fillmode": "overlay",
              "size": 10,
              "solidity": 0.2
             }
            },
            "type": "barpolar"
           }
          ],
          "carpet": [
           {
            "aaxis": {
             "endlinecolor": "#2a3f5f",
             "gridcolor": "white",
             "linecolor": "white",
             "minorgridcolor": "white",
             "startlinecolor": "#2a3f5f"
            },
            "baxis": {
             "endlinecolor": "#2a3f5f",
             "gridcolor": "white",
             "linecolor": "white",
             "minorgridcolor": "white",
             "startlinecolor": "#2a3f5f"
            },
            "type": "carpet"
           }
          ],
          "choropleth": [
           {
            "colorbar": {
             "outlinewidth": 0,
             "ticks": ""
            },
            "type": "choropleth"
           }
          ],
          "contour": [
           {
            "colorbar": {
             "outlinewidth": 0,
             "ticks": ""
            },
            "colorscale": [
             [
              0,
              "#0d0887"
             ],
             [
              0.1111111111111111,
              "#46039f"
             ],
             [
              0.2222222222222222,
              "#7201a8"
             ],
             [
              0.3333333333333333,
              "#9c179e"
             ],
             [
              0.4444444444444444,
              "#bd3786"
             ],
             [
              0.5555555555555556,
              "#d8576b"
             ],
             [
              0.6666666666666666,
              "#ed7953"
             ],
             [
              0.7777777777777778,
              "#fb9f3a"
             ],
             [
              0.8888888888888888,
              "#fdca26"
             ],
             [
              1,
              "#f0f921"
             ]
            ],
            "type": "contour"
           }
          ],
          "contourcarpet": [
           {
            "colorbar": {
             "outlinewidth": 0,
             "ticks": ""
            },
            "type": "contourcarpet"
           }
          ],
          "heatmap": [
           {
            "colorbar": {
             "outlinewidth": 0,
             "ticks": ""
            },
            "colorscale": [
             [
              0,
              "#0d0887"
             ],
             [
              0.1111111111111111,
              "#46039f"
             ],
             [
              0.2222222222222222,
              "#7201a8"
             ],
             [
              0.3333333333333333,
              "#9c179e"
             ],
             [
              0.4444444444444444,
              "#bd3786"
             ],
             [
              0.5555555555555556,
              "#d8576b"
             ],
             [
              0.6666666666666666,
              "#ed7953"
             ],
             [
              0.7777777777777778,
              "#fb9f3a"
             ],
             [
              0.8888888888888888,
              "#fdca26"
             ],
             [
              1,
              "#f0f921"
             ]
            ],
            "type": "heatmap"
           }
          ],
          "heatmapgl": [
           {
            "colorbar": {
             "outlinewidth": 0,
             "ticks": ""
            },
            "colorscale": [
             [
              0,
              "#0d0887"
             ],
             [
              0.1111111111111111,
              "#46039f"
             ],
             [
              0.2222222222222222,
              "#7201a8"
             ],
             [
              0.3333333333333333,
              "#9c179e"
             ],
             [
              0.4444444444444444,
              "#bd3786"
             ],
             [
              0.5555555555555556,
              "#d8576b"
             ],
             [
              0.6666666666666666,
              "#ed7953"
             ],
             [
              0.7777777777777778,
              "#fb9f3a"
             ],
             [
              0.8888888888888888,
              "#fdca26"
             ],
             [
              1,
              "#f0f921"
             ]
            ],
            "type": "heatmapgl"
           }
          ],
          "histogram": [
           {
            "marker": {
             "pattern": {
              "fillmode": "overlay",
              "size": 10,
              "solidity": 0.2
             }
            },
            "type": "histogram"
           }
          ],
          "histogram2d": [
           {
            "colorbar": {
             "outlinewidth": 0,
             "ticks": ""
            },
            "colorscale": [
             [
              0,
              "#0d0887"
             ],
             [
              0.1111111111111111,
              "#46039f"
             ],
             [
              0.2222222222222222,
              "#7201a8"
             ],
             [
              0.3333333333333333,
              "#9c179e"
             ],
             [
              0.4444444444444444,
              "#bd3786"
             ],
             [
              0.5555555555555556,
              "#d8576b"
             ],
             [
              0.6666666666666666,
              "#ed7953"
             ],
             [
              0.7777777777777778,
              "#fb9f3a"
             ],
             [
              0.8888888888888888,
              "#fdca26"
             ],
             [
              1,
              "#f0f921"
             ]
            ],
            "type": "histogram2d"
           }
          ],
          "histogram2dcontour": [
           {
            "colorbar": {
             "outlinewidth": 0,
             "ticks": ""
            },
            "colorscale": [
             [
              0,
              "#0d0887"
             ],
             [
              0.1111111111111111,
              "#46039f"
             ],
             [
              0.2222222222222222,
              "#7201a8"
             ],
             [
              0.3333333333333333,
              "#9c179e"
             ],
             [
              0.4444444444444444,
              "#bd3786"
             ],
             [
              0.5555555555555556,
              "#d8576b"
             ],
             [
              0.6666666666666666,
              "#ed7953"
             ],
             [
              0.7777777777777778,
              "#fb9f3a"
             ],
             [
              0.8888888888888888,
              "#fdca26"
             ],
             [
              1,
              "#f0f921"
             ]
            ],
            "type": "histogram2dcontour"
           }
          ],
          "mesh3d": [
           {
            "colorbar": {
             "outlinewidth": 0,
             "ticks": ""
            },
            "type": "mesh3d"
           }
          ],
          "parcoords": [
           {
            "line": {
             "colorbar": {
              "outlinewidth": 0,
              "ticks": ""
             }
            },
            "type": "parcoords"
           }
          ],
          "pie": [
           {
            "automargin": true,
            "type": "pie"
           }
          ],
          "scatter": [
           {
            "fillpattern": {
             "fillmode": "overlay",
             "size": 10,
             "solidity": 0.2
            },
            "type": "scatter"
           }
          ],
          "scatter3d": [
           {
            "line": {
             "colorbar": {
              "outlinewidth": 0,
              "ticks": ""
             }
            },
            "marker": {
             "colorbar": {
              "outlinewidth": 0,
              "ticks": ""
             }
            },
            "type": "scatter3d"
           }
          ],
          "scattercarpet": [
           {
            "marker": {
             "colorbar": {
              "outlinewidth": 0,
              "ticks": ""
             }
            },
            "type": "scattercarpet"
           }
          ],
          "scattergeo": [
           {
            "marker": {
             "colorbar": {
              "outlinewidth": 0,
              "ticks": ""
             }
            },
            "type": "scattergeo"
           }
          ],
          "scattergl": [
           {
            "marker": {
             "colorbar": {
              "outlinewidth": 0,
              "ticks": ""
             }
            },
            "type": "scattergl"
           }
          ],
          "scattermapbox": [
           {
            "marker": {
             "colorbar": {
              "outlinewidth": 0,
              "ticks": ""
             }
            },
            "type": "scattermapbox"
           }
          ],
          "scatterpolar": [
           {
            "marker": {
             "colorbar": {
              "outlinewidth": 0,
              "ticks": ""
             }
            },
            "type": "scatterpolar"
           }
          ],
          "scatterpolargl": [
           {
            "marker": {
             "colorbar": {
              "outlinewidth": 0,
              "ticks": ""
             }
            },
            "type": "scatterpolargl"
           }
          ],
          "scatterternary": [
           {
            "marker": {
             "colorbar": {
              "outlinewidth": 0,
              "ticks": ""
             }
            },
            "type": "scatterternary"
           }
          ],
          "surface": [
           {
            "colorbar": {
             "outlinewidth": 0,
             "ticks": ""
            },
            "colorscale": [
             [
              0,
              "#0d0887"
             ],
             [
              0.1111111111111111,
              "#46039f"
             ],
             [
              0.2222222222222222,
              "#7201a8"
             ],
             [
              0.3333333333333333,
              "#9c179e"
             ],
             [
              0.4444444444444444,
              "#bd3786"
             ],
             [
              0.5555555555555556,
              "#d8576b"
             ],
             [
              0.6666666666666666,
              "#ed7953"
             ],
             [
              0.7777777777777778,
              "#fb9f3a"
             ],
             [
              0.8888888888888888,
              "#fdca26"
             ],
             [
              1,
              "#f0f921"
             ]
            ],
            "type": "surface"
           }
          ],
          "table": [
           {
            "cells": {
             "fill": {
              "color": "#EBF0F8"
             },
             "line": {
              "color": "white"
             }
            },
            "header": {
             "fill": {
              "color": "#C8D4E3"
             },
             "line": {
              "color": "white"
             }
            },
            "type": "table"
           }
          ]
         },
         "layout": {
          "annotationdefaults": {
           "arrowcolor": "#2a3f5f",
           "arrowhead": 0,
           "arrowwidth": 1
          },
          "autotypenumbers": "strict",
          "coloraxis": {
           "colorbar": {
            "outlinewidth": 0,
            "ticks": ""
           }
          },
          "colorscale": {
           "diverging": [
            [
             0,
             "#8e0152"
            ],
            [
             0.1,
             "#c51b7d"
            ],
            [
             0.2,
             "#de77ae"
            ],
            [
             0.3,
             "#f1b6da"
            ],
            [
             0.4,
             "#fde0ef"
            ],
            [
             0.5,
             "#f7f7f7"
            ],
            [
             0.6,
             "#e6f5d0"
            ],
            [
             0.7,
             "#b8e186"
            ],
            [
             0.8,
             "#7fbc41"
            ],
            [
             0.9,
             "#4d9221"
            ],
            [
             1,
             "#276419"
            ]
           ],
           "sequential": [
            [
             0,
             "#0d0887"
            ],
            [
             0.1111111111111111,
             "#46039f"
            ],
            [
             0.2222222222222222,
             "#7201a8"
            ],
            [
             0.3333333333333333,
             "#9c179e"
            ],
            [
             0.4444444444444444,
             "#bd3786"
            ],
            [
             0.5555555555555556,
             "#d8576b"
            ],
            [
             0.6666666666666666,
             "#ed7953"
            ],
            [
             0.7777777777777778,
             "#fb9f3a"
            ],
            [
             0.8888888888888888,
             "#fdca26"
            ],
            [
             1,
             "#f0f921"
            ]
           ],
           "sequentialminus": [
            [
             0,
             "#0d0887"
            ],
            [
             0.1111111111111111,
             "#46039f"
            ],
            [
             0.2222222222222222,
             "#7201a8"
            ],
            [
             0.3333333333333333,
             "#9c179e"
            ],
            [
             0.4444444444444444,
             "#bd3786"
            ],
            [
             0.5555555555555556,
             "#d8576b"
            ],
            [
             0.6666666666666666,
             "#ed7953"
            ],
            [
             0.7777777777777778,
             "#fb9f3a"
            ],
            [
             0.8888888888888888,
             "#fdca26"
            ],
            [
             1,
             "#f0f921"
            ]
           ]
          },
          "colorway": [
           "#636efa",
           "#EF553B",
           "#00cc96",
           "#ab63fa",
           "#FFA15A",
           "#19d3f3",
           "#FF6692",
           "#B6E880",
           "#FF97FF",
           "#FECB52"
          ],
          "font": {
           "color": "#2a3f5f"
          },
          "geo": {
           "bgcolor": "white",
           "lakecolor": "white",
           "landcolor": "#E5ECF6",
           "showlakes": true,
           "showland": true,
           "subunitcolor": "white"
          },
          "hoverlabel": {
           "align": "left"
          },
          "hovermode": "closest",
          "mapbox": {
           "style": "light"
          },
          "paper_bgcolor": "white",
          "plot_bgcolor": "#E5ECF6",
          "polar": {
           "angularaxis": {
            "gridcolor": "white",
            "linecolor": "white",
            "ticks": ""
           },
           "bgcolor": "#E5ECF6",
           "radialaxis": {
            "gridcolor": "white",
            "linecolor": "white",
            "ticks": ""
           }
          },
          "scene": {
           "xaxis": {
            "backgroundcolor": "#E5ECF6",
            "gridcolor": "white",
            "gridwidth": 2,
            "linecolor": "white",
            "showbackground": true,
            "ticks": "",
            "zerolinecolor": "white"
           },
           "yaxis": {
            "backgroundcolor": "#E5ECF6",
            "gridcolor": "white",
            "gridwidth": 2,
            "linecolor": "white",
            "showbackground": true,
            "ticks": "",
            "zerolinecolor": "white"
           },
           "zaxis": {
            "backgroundcolor": "#E5ECF6",
            "gridcolor": "white",
            "gridwidth": 2,
            "linecolor": "white",
            "showbackground": true,
            "ticks": "",
            "zerolinecolor": "white"
           }
          },
          "shapedefaults": {
           "line": {
            "color": "#2a3f5f"
           }
          },
          "ternary": {
           "aaxis": {
            "gridcolor": "white",
            "linecolor": "white",
            "ticks": ""
           },
           "baxis": {
            "gridcolor": "white",
            "linecolor": "white",
            "ticks": ""
           },
           "bgcolor": "#E5ECF6",
           "caxis": {
            "gridcolor": "white",
            "linecolor": "white",
            "ticks": ""
           }
          },
          "title": {
           "x": 0.05
          },
          "xaxis": {
           "automargin": true,
           "gridcolor": "white",
           "linecolor": "white",
           "ticks": "",
           "title": {
            "standoff": 15
           },
           "zerolinecolor": "white",
           "zerolinewidth": 2
          },
          "yaxis": {
           "automargin": true,
           "gridcolor": "white",
           "linecolor": "white",
           "ticks": "",
           "title": {
            "standoff": 15
           },
           "zerolinecolor": "white",
           "zerolinewidth": 2
          }
         }
        },
        "title": {
         "text": "Najpopularniejsze tagi"
        },
        "xaxis": {
         "anchor": "y",
         "domain": [
          0,
          1
         ],
         "title": {
          "text": "Tag"
         }
        },
        "yaxis": {
         "anchor": "x",
         "domain": [
          0,
          1
         ],
         "title": {
          "text": "Count"
         }
        }
       }
      }
     },
     "metadata": {},
     "output_type": "display_data"
    }
   ],
   "source": [
    "from collections import Counter\n",
    "\n",
    "# Liczenie występowania tagów\n",
    "tag_counts = Counter(tag for tags in df['tags'] for tag in tags)\n",
    "tag_df = pd.DataFrame(tag_counts.items(), columns=['Tag', 'Count']).sort_values('Count', ascending=False)\n",
    "\n",
    "# Wizualizacja\n",
    "fig = px.bar(tag_df.head(20), x='Tag', y='Count', title='Najpopularniejsze tagi')\n",
    "fig.show()\n"
   ]
  },
  {
   "cell_type": "code",
   "execution_count": 19,
   "metadata": {},
   "outputs": [
    {
     "data": {
      "application/vnd.plotly.v1+json": {
       "config": {
        "plotlyServerURL": "https://plot.ly"
       },
       "data": [
        {
         "alignmentgroup": "True",
         "hovertemplate": "Liczba tagów=%{x}<br>Cena (zł)=%{y}<extra></extra>",
         "legendgroup": "",
         "marker": {
          "color": "#636efa"
         },
         "name": "",
         "notched": false,
         "offsetgroup": "",
         "orientation": "v",
         "showlegend": false,
         "type": "box",
         "x": [
          3,
          4,
          5,
          5,
          5,
          5,
          5,
          5,
          4,
          5,
          5,
          5,
          5,
          4,
          5,
          5,
          5,
          5,
          5,
          5,
          5,
          5,
          5,
          5,
          5,
          5,
          5,
          5,
          4,
          5,
          5,
          5,
          5,
          5,
          5,
          5,
          5,
          5,
          5,
          5,
          5,
          5,
          5,
          5,
          5,
          5,
          5,
          5,
          4,
          3,
          5,
          5,
          5,
          5,
          5,
          5,
          5,
          5,
          5,
          5,
          5,
          5,
          5,
          5,
          5,
          5,
          5,
          5,
          5,
          5,
          5,
          5,
          5,
          5,
          5,
          5,
          5,
          5,
          5,
          5,
          5,
          4,
          5,
          5,
          5,
          5,
          5,
          5,
          5,
          5,
          5,
          5,
          5,
          5,
          5,
          5,
          5,
          5,
          5,
          5,
          5,
          5,
          5,
          5,
          5,
          5,
          5,
          5,
          5,
          5,
          5,
          5,
          5,
          5,
          5,
          5,
          5,
          5,
          5,
          5,
          5,
          4,
          5,
          5,
          5,
          5,
          4,
          5,
          3,
          5,
          5,
          5,
          5,
          5,
          5,
          5,
          5,
          5,
          5,
          5,
          5,
          4,
          5,
          5,
          5,
          5,
          5,
          5,
          5,
          4,
          5,
          5,
          5,
          5,
          5,
          5,
          5,
          5,
          5,
          5,
          5,
          4,
          5,
          5,
          5,
          5,
          5,
          5,
          5,
          5,
          5,
          5,
          5,
          5,
          4,
          5,
          5,
          5,
          5,
          5,
          5,
          5,
          5,
          5,
          5,
          5,
          5,
          4,
          5,
          5,
          5,
          5,
          4,
          5,
          5,
          5,
          5,
          5,
          5,
          5,
          5,
          4,
          5,
          5,
          5,
          5,
          5,
          5,
          5,
          5,
          4,
          5,
          5,
          5,
          5,
          5,
          5,
          5,
          5,
          5,
          5,
          5,
          4,
          5,
          5,
          5,
          5,
          5,
          5,
          5,
          5,
          5,
          5,
          5,
          5,
          5,
          5,
          5,
          5,
          5,
          5,
          5,
          5,
          5,
          5,
          5,
          5,
          5,
          5,
          5,
          5,
          5,
          5,
          4,
          5,
          5,
          4,
          5,
          5,
          5,
          5,
          5,
          5,
          5,
          5,
          5,
          5,
          5,
          5,
          5,
          5,
          5,
          5,
          5,
          5,
          5,
          5,
          5,
          5,
          5,
          5,
          3,
          5,
          5,
          5,
          5,
          5,
          5,
          5,
          5,
          5,
          5,
          4,
          5,
          5,
          4,
          5,
          5,
          5,
          5,
          5,
          4,
          5,
          5,
          5,
          5,
          5,
          5,
          5
         ],
         "x0": " ",
         "xaxis": "x",
         "y": [
          0,
          157.49,
          55.49,
          46.24,
          169,
          199,
          10.79,
          0,
          0,
          13.89,
          99.99,
          75.59,
          49.75,
          40.49,
          0,
          55.99,
          124.79,
          164.99,
          229.99,
          71.99,
          35.63,
          72.59,
          169.9,
          45.99,
          185.59,
          64.49,
          0,
          9.19,
          0,
          79.99,
          199.99,
          259,
          0,
          59.99,
          31.75,
          91.99,
          68.64,
          22.99,
          69.99,
          20.39,
          86.34,
          13.79,
          19.01,
          49.99,
          35.98,
          84.99,
          63.99,
          35.8,
          80.49,
          39.97,
          17.99,
          75,
          138.99,
          58.49,
          61.19,
          23.39,
          13.99,
          45.99,
          0,
          189.99,
          48.59,
          32.19,
          118.3,
          139.99,
          19.99,
          72.99,
          27.99,
          114.99,
          35.99,
          138.99,
          83.39,
          138.99,
          43.99,
          14.99,
          289.9,
          12.6,
          67.99,
          67.6,
          63.24,
          0,
          111.3,
          40.49,
          43.19,
          55.19,
          107.99,
          14.39,
          71.99,
          29.99,
          0,
          0,
          21.59,
          274.99,
          59.99,
          44.75,
          37.48,
          43.19,
          35.74,
          0,
          138.99,
          6.89,
          138.99,
          29.99,
          138.99,
          159.9,
          39.59,
          79.9,
          219,
          59.99,
          159.99,
          12.6,
          214.9,
          269.9,
          39.99,
          259,
          59.99,
          17.99,
          45.99,
          50,
          45.99,
          289.9,
          89.99,
          73.59,
          32.24,
          45.99,
          33.99,
          45.99,
          0,
          32.39,
          17.49,
          29.97,
          21.59,
          17.81,
          55.19,
          0,
          79.99,
          79,
          34.99,
          59.99,
          54.39,
          119.9,
          31.99,
          139.9,
          0,
          24.75,
          10.79,
          21.24,
          169,
          138.74,
          124,
          33.99,
          104.99,
          91.99,
          65.99,
          31.99,
          173.99,
          19.25,
          34.75,
          9.99,
          45.99,
          24.99,
          14.29,
          33.99,
          119,
          138.99,
          45.99,
          0,
          42.99,
          31.24,
          89.99,
          45.99,
          84.5,
          71.99,
          45.99,
          28.79,
          0,
          269.9,
          0,
          109.49,
          208.49,
          49.99,
          67.49,
          58.99,
          39.99,
          211.26,
          299.9,
          45.99,
          17.99,
          45.99,
          114.99,
          7.49,
          45.99,
          7.99,
          219,
          169,
          0,
          149,
          40.47,
          71.49,
          17.81,
          92.79,
          124.5,
          115.08,
          69.49,
          21.12,
          231.99,
          91.99,
          44.99,
          17.99,
          199.99,
          142.99,
          40.99,
          28.74,
          7.19,
          88.56,
          22.99,
          169,
          41.99,
          73.43,
          26.99,
          91.99,
          44.99,
          53.99,
          19.99,
          94,
          70.39,
          44.99,
          35.99,
          63.99,
          28.79,
          84.94,
          64.99,
          22.99,
          4.59,
          10.79,
          17.39,
          22.99,
          34.74,
          49.99,
          13.49,
          29.99,
          0,
          14.99,
          0,
          22.99,
          69.9,
          119.9,
          39.99,
          69,
          54.99,
          99,
          269.9,
          109,
          9.59,
          22.99,
          62.99,
          124,
          259,
          129,
          73.59,
          59.99,
          22.99,
          44.99,
          44.19,
          29.99,
          100,
          59.99,
          0,
          231.99,
          115,
          45.99,
          100,
          44.99,
          229,
          91.99,
          73.59,
          73.59,
          45.99,
          219.99,
          8.59,
          43.99,
          71.99,
          21.59,
          91.99,
          41.99,
          69.3,
          21.59,
          45.99,
          0,
          49.17,
          57.49,
          99.99,
          33.99,
          189.9,
          89.9,
          26.99,
          169,
          57.99,
          100,
          54.99,
          24.99,
          138.99,
          79.99,
          91.99,
          45.99,
          22.99,
          44.75,
          91.99,
          179.9,
          0
         ],
         "y0": " ",
         "yaxis": "y"
        }
       ],
       "layout": {
        "boxmode": "group",
        "legend": {
         "tracegroupgap": 0
        },
        "template": {
         "data": {
          "bar": [
           {
            "error_x": {
             "color": "#2a3f5f"
            },
            "error_y": {
             "color": "#2a3f5f"
            },
            "marker": {
             "line": {
              "color": "#E5ECF6",
              "width": 0.5
             },
             "pattern": {
              "fillmode": "overlay",
              "size": 10,
              "solidity": 0.2
             }
            },
            "type": "bar"
           }
          ],
          "barpolar": [
           {
            "marker": {
             "line": {
              "color": "#E5ECF6",
              "width": 0.5
             },
             "pattern": {
              "fillmode": "overlay",
              "size": 10,
              "solidity": 0.2
             }
            },
            "type": "barpolar"
           }
          ],
          "carpet": [
           {
            "aaxis": {
             "endlinecolor": "#2a3f5f",
             "gridcolor": "white",
             "linecolor": "white",
             "minorgridcolor": "white",
             "startlinecolor": "#2a3f5f"
            },
            "baxis": {
             "endlinecolor": "#2a3f5f",
             "gridcolor": "white",
             "linecolor": "white",
             "minorgridcolor": "white",
             "startlinecolor": "#2a3f5f"
            },
            "type": "carpet"
           }
          ],
          "choropleth": [
           {
            "colorbar": {
             "outlinewidth": 0,
             "ticks": ""
            },
            "type": "choropleth"
           }
          ],
          "contour": [
           {
            "colorbar": {
             "outlinewidth": 0,
             "ticks": ""
            },
            "colorscale": [
             [
              0,
              "#0d0887"
             ],
             [
              0.1111111111111111,
              "#46039f"
             ],
             [
              0.2222222222222222,
              "#7201a8"
             ],
             [
              0.3333333333333333,
              "#9c179e"
             ],
             [
              0.4444444444444444,
              "#bd3786"
             ],
             [
              0.5555555555555556,
              "#d8576b"
             ],
             [
              0.6666666666666666,
              "#ed7953"
             ],
             [
              0.7777777777777778,
              "#fb9f3a"
             ],
             [
              0.8888888888888888,
              "#fdca26"
             ],
             [
              1,
              "#f0f921"
             ]
            ],
            "type": "contour"
           }
          ],
          "contourcarpet": [
           {
            "colorbar": {
             "outlinewidth": 0,
             "ticks": ""
            },
            "type": "contourcarpet"
           }
          ],
          "heatmap": [
           {
            "colorbar": {
             "outlinewidth": 0,
             "ticks": ""
            },
            "colorscale": [
             [
              0,
              "#0d0887"
             ],
             [
              0.1111111111111111,
              "#46039f"
             ],
             [
              0.2222222222222222,
              "#7201a8"
             ],
             [
              0.3333333333333333,
              "#9c179e"
             ],
             [
              0.4444444444444444,
              "#bd3786"
             ],
             [
              0.5555555555555556,
              "#d8576b"
             ],
             [
              0.6666666666666666,
              "#ed7953"
             ],
             [
              0.7777777777777778,
              "#fb9f3a"
             ],
             [
              0.8888888888888888,
              "#fdca26"
             ],
             [
              1,
              "#f0f921"
             ]
            ],
            "type": "heatmap"
           }
          ],
          "heatmapgl": [
           {
            "colorbar": {
             "outlinewidth": 0,
             "ticks": ""
            },
            "colorscale": [
             [
              0,
              "#0d0887"
             ],
             [
              0.1111111111111111,
              "#46039f"
             ],
             [
              0.2222222222222222,
              "#7201a8"
             ],
             [
              0.3333333333333333,
              "#9c179e"
             ],
             [
              0.4444444444444444,
              "#bd3786"
             ],
             [
              0.5555555555555556,
              "#d8576b"
             ],
             [
              0.6666666666666666,
              "#ed7953"
             ],
             [
              0.7777777777777778,
              "#fb9f3a"
             ],
             [
              0.8888888888888888,
              "#fdca26"
             ],
             [
              1,
              "#f0f921"
             ]
            ],
            "type": "heatmapgl"
           }
          ],
          "histogram": [
           {
            "marker": {
             "pattern": {
              "fillmode": "overlay",
              "size": 10,
              "solidity": 0.2
             }
            },
            "type": "histogram"
           }
          ],
          "histogram2d": [
           {
            "colorbar": {
             "outlinewidth": 0,
             "ticks": ""
            },
            "colorscale": [
             [
              0,
              "#0d0887"
             ],
             [
              0.1111111111111111,
              "#46039f"
             ],
             [
              0.2222222222222222,
              "#7201a8"
             ],
             [
              0.3333333333333333,
              "#9c179e"
             ],
             [
              0.4444444444444444,
              "#bd3786"
             ],
             [
              0.5555555555555556,
              "#d8576b"
             ],
             [
              0.6666666666666666,
              "#ed7953"
             ],
             [
              0.7777777777777778,
              "#fb9f3a"
             ],
             [
              0.8888888888888888,
              "#fdca26"
             ],
             [
              1,
              "#f0f921"
             ]
            ],
            "type": "histogram2d"
           }
          ],
          "histogram2dcontour": [
           {
            "colorbar": {
             "outlinewidth": 0,
             "ticks": ""
            },
            "colorscale": [
             [
              0,
              "#0d0887"
             ],
             [
              0.1111111111111111,
              "#46039f"
             ],
             [
              0.2222222222222222,
              "#7201a8"
             ],
             [
              0.3333333333333333,
              "#9c179e"
             ],
             [
              0.4444444444444444,
              "#bd3786"
             ],
             [
              0.5555555555555556,
              "#d8576b"
             ],
             [
              0.6666666666666666,
              "#ed7953"
             ],
             [
              0.7777777777777778,
              "#fb9f3a"
             ],
             [
              0.8888888888888888,
              "#fdca26"
             ],
             [
              1,
              "#f0f921"
             ]
            ],
            "type": "histogram2dcontour"
           }
          ],
          "mesh3d": [
           {
            "colorbar": {
             "outlinewidth": 0,
             "ticks": ""
            },
            "type": "mesh3d"
           }
          ],
          "parcoords": [
           {
            "line": {
             "colorbar": {
              "outlinewidth": 0,
              "ticks": ""
             }
            },
            "type": "parcoords"
           }
          ],
          "pie": [
           {
            "automargin": true,
            "type": "pie"
           }
          ],
          "scatter": [
           {
            "fillpattern": {
             "fillmode": "overlay",
             "size": 10,
             "solidity": 0.2
            },
            "type": "scatter"
           }
          ],
          "scatter3d": [
           {
            "line": {
             "colorbar": {
              "outlinewidth": 0,
              "ticks": ""
             }
            },
            "marker": {
             "colorbar": {
              "outlinewidth": 0,
              "ticks": ""
             }
            },
            "type": "scatter3d"
           }
          ],
          "scattercarpet": [
           {
            "marker": {
             "colorbar": {
              "outlinewidth": 0,
              "ticks": ""
             }
            },
            "type": "scattercarpet"
           }
          ],
          "scattergeo": [
           {
            "marker": {
             "colorbar": {
              "outlinewidth": 0,
              "ticks": ""
             }
            },
            "type": "scattergeo"
           }
          ],
          "scattergl": [
           {
            "marker": {
             "colorbar": {
              "outlinewidth": 0,
              "ticks": ""
             }
            },
            "type": "scattergl"
           }
          ],
          "scattermapbox": [
           {
            "marker": {
             "colorbar": {
              "outlinewidth": 0,
              "ticks": ""
             }
            },
            "type": "scattermapbox"
           }
          ],
          "scatterpolar": [
           {
            "marker": {
             "colorbar": {
              "outlinewidth": 0,
              "ticks": ""
             }
            },
            "type": "scatterpolar"
           }
          ],
          "scatterpolargl": [
           {
            "marker": {
             "colorbar": {
              "outlinewidth": 0,
              "ticks": ""
             }
            },
            "type": "scatterpolargl"
           }
          ],
          "scatterternary": [
           {
            "marker": {
             "colorbar": {
              "outlinewidth": 0,
              "ticks": ""
             }
            },
            "type": "scatterternary"
           }
          ],
          "surface": [
           {
            "colorbar": {
             "outlinewidth": 0,
             "ticks": ""
            },
            "colorscale": [
             [
              0,
              "#0d0887"
             ],
             [
              0.1111111111111111,
              "#46039f"
             ],
             [
              0.2222222222222222,
              "#7201a8"
             ],
             [
              0.3333333333333333,
              "#9c179e"
             ],
             [
              0.4444444444444444,
              "#bd3786"
             ],
             [
              0.5555555555555556,
              "#d8576b"
             ],
             [
              0.6666666666666666,
              "#ed7953"
             ],
             [
              0.7777777777777778,
              "#fb9f3a"
             ],
             [
              0.8888888888888888,
              "#fdca26"
             ],
             [
              1,
              "#f0f921"
             ]
            ],
            "type": "surface"
           }
          ],
          "table": [
           {
            "cells": {
             "fill": {
              "color": "#EBF0F8"
             },
             "line": {
              "color": "white"
             }
            },
            "header": {
             "fill": {
              "color": "#C8D4E3"
             },
             "line": {
              "color": "white"
             }
            },
            "type": "table"
           }
          ]
         },
         "layout": {
          "annotationdefaults": {
           "arrowcolor": "#2a3f5f",
           "arrowhead": 0,
           "arrowwidth": 1
          },
          "autotypenumbers": "strict",
          "coloraxis": {
           "colorbar": {
            "outlinewidth": 0,
            "ticks": ""
           }
          },
          "colorscale": {
           "diverging": [
            [
             0,
             "#8e0152"
            ],
            [
             0.1,
             "#c51b7d"
            ],
            [
             0.2,
             "#de77ae"
            ],
            [
             0.3,
             "#f1b6da"
            ],
            [
             0.4,
             "#fde0ef"
            ],
            [
             0.5,
             "#f7f7f7"
            ],
            [
             0.6,
             "#e6f5d0"
            ],
            [
             0.7,
             "#b8e186"
            ],
            [
             0.8,
             "#7fbc41"
            ],
            [
             0.9,
             "#4d9221"
            ],
            [
             1,
             "#276419"
            ]
           ],
           "sequential": [
            [
             0,
             "#0d0887"
            ],
            [
             0.1111111111111111,
             "#46039f"
            ],
            [
             0.2222222222222222,
             "#7201a8"
            ],
            [
             0.3333333333333333,
             "#9c179e"
            ],
            [
             0.4444444444444444,
             "#bd3786"
            ],
            [
             0.5555555555555556,
             "#d8576b"
            ],
            [
             0.6666666666666666,
             "#ed7953"
            ],
            [
             0.7777777777777778,
             "#fb9f3a"
            ],
            [
             0.8888888888888888,
             "#fdca26"
            ],
            [
             1,
             "#f0f921"
            ]
           ],
           "sequentialminus": [
            [
             0,
             "#0d0887"
            ],
            [
             0.1111111111111111,
             "#46039f"
            ],
            [
             0.2222222222222222,
             "#7201a8"
            ],
            [
             0.3333333333333333,
             "#9c179e"
            ],
            [
             0.4444444444444444,
             "#bd3786"
            ],
            [
             0.5555555555555556,
             "#d8576b"
            ],
            [
             0.6666666666666666,
             "#ed7953"
            ],
            [
             0.7777777777777778,
             "#fb9f3a"
            ],
            [
             0.8888888888888888,
             "#fdca26"
            ],
            [
             1,
             "#f0f921"
            ]
           ]
          },
          "colorway": [
           "#636efa",
           "#EF553B",
           "#00cc96",
           "#ab63fa",
           "#FFA15A",
           "#19d3f3",
           "#FF6692",
           "#B6E880",
           "#FF97FF",
           "#FECB52"
          ],
          "font": {
           "color": "#2a3f5f"
          },
          "geo": {
           "bgcolor": "white",
           "lakecolor": "white",
           "landcolor": "#E5ECF6",
           "showlakes": true,
           "showland": true,
           "subunitcolor": "white"
          },
          "hoverlabel": {
           "align": "left"
          },
          "hovermode": "closest",
          "mapbox": {
           "style": "light"
          },
          "paper_bgcolor": "white",
          "plot_bgcolor": "#E5ECF6",
          "polar": {
           "angularaxis": {
            "gridcolor": "white",
            "linecolor": "white",
            "ticks": ""
           },
           "bgcolor": "#E5ECF6",
           "radialaxis": {
            "gridcolor": "white",
            "linecolor": "white",
            "ticks": ""
           }
          },
          "scene": {
           "xaxis": {
            "backgroundcolor": "#E5ECF6",
            "gridcolor": "white",
            "gridwidth": 2,
            "linecolor": "white",
            "showbackground": true,
            "ticks": "",
            "zerolinecolor": "white"
           },
           "yaxis": {
            "backgroundcolor": "#E5ECF6",
            "gridcolor": "white",
            "gridwidth": 2,
            "linecolor": "white",
            "showbackground": true,
            "ticks": "",
            "zerolinecolor": "white"
           },
           "zaxis": {
            "backgroundcolor": "#E5ECF6",
            "gridcolor": "white",
            "gridwidth": 2,
            "linecolor": "white",
            "showbackground": true,
            "ticks": "",
            "zerolinecolor": "white"
           }
          },
          "shapedefaults": {
           "line": {
            "color": "#2a3f5f"
           }
          },
          "ternary": {
           "aaxis": {
            "gridcolor": "white",
            "linecolor": "white",
            "ticks": ""
           },
           "baxis": {
            "gridcolor": "white",
            "linecolor": "white",
            "ticks": ""
           },
           "bgcolor": "#E5ECF6",
           "caxis": {
            "gridcolor": "white",
            "linecolor": "white",
            "ticks": ""
           }
          },
          "title": {
           "x": 0.05
          },
          "xaxis": {
           "automargin": true,
           "gridcolor": "white",
           "linecolor": "white",
           "ticks": "",
           "title": {
            "standoff": 15
           },
           "zerolinecolor": "white",
           "zerolinewidth": 2
          },
          "yaxis": {
           "automargin": true,
           "gridcolor": "white",
           "linecolor": "white",
           "ticks": "",
           "title": {
            "standoff": 15
           },
           "zerolinecolor": "white",
           "zerolinewidth": 2
          }
         }
        },
        "title": {
         "text": "Rozkład cen w zależności od liczby tagów"
        },
        "xaxis": {
         "anchor": "y",
         "domain": [
          0,
          1
         ],
         "title": {
          "text": "Liczba tagów"
         }
        },
        "yaxis": {
         "anchor": "x",
         "domain": [
          0,
          1
         ],
         "title": {
          "text": "Cena (zł)"
         }
        }
       }
      }
     },
     "metadata": {},
     "output_type": "display_data"
    }
   ],
   "source": [
    "fig = px.box(df, x='tag_count', y='price', title='Rozkład cen w zależności od liczby tagów', labels={'tag_count': 'Liczba tagów', 'price': 'Cena (zł)'})\n",
    "fig.show()\n",
    "\n"
   ]
  },
  {
   "cell_type": "code",
   "execution_count": null,
   "metadata": {},
   "outputs": [
    {
     "data": {
      "application/vnd.plotly.v1+json": {
       "config": {
        "plotlyServerURL": "https://plot.ly"
       },
       "data": [
        {
         "coloraxis": "coloraxis",
         "hovertemplate": "x: %{x}<br>y: %{y}<br>Liczba współwystąpień: %{z}<extra></extra>",
         "name": "0",
         "texttemplate": "%{z}",
         "type": "heatmap",
         "x": [
          "Strategiczne",
          "Akcja",
          "Science fiction",
          "Wieloosobowe",
          "Kosmos",
          "Otwarty świat",
          "Jednoosobowe",
          "Symulatory",
          "FPS",
          "Survival",
          "Bogata fabuła",
          "Przygodowe",
          "RTS",
          "Strzelanka",
          "RPG",
          "Postapokaliptyczne",
          "Eksploracja",
          "Horror",
          "Kooperacja",
          "Budowanie bazy"
         ],
         "xaxis": "x",
         "y": [
          "Strategiczne",
          "Akcja",
          "Science fiction",
          "Wieloosobowe",
          "Kosmos",
          "Otwarty świat",
          "Jednoosobowe",
          "Symulatory",
          "FPS",
          "Survival",
          "Bogata fabuła",
          "Przygodowe",
          "RTS",
          "Strzelanka",
          "RPG",
          "Postapokaliptyczne",
          "Eksploracja",
          "Horror",
          "Kooperacja",
          "Budowanie bazy"
         ],
         "yaxis": "y",
         "z": [
          [
           0,
           4,
           31,
           8,
           31,
           0,
           11,
           32,
           0,
           10,
           2,
           0,
           28,
           0,
           3,
           6,
           2,
           1,
           2,
           10
          ],
          [
           4,
           0,
           9,
           11,
           3,
           14,
           11,
           7,
           17,
           2,
           4,
           13,
           2,
           12,
           6,
           4,
           5,
           3,
           8,
           0
          ],
          [
           31,
           9,
           0,
           6,
           27,
           4,
           10,
           13,
           5,
           1,
           8,
           4,
           13,
           1,
           3,
           0,
           1,
           3,
           1,
           1
          ],
          [
           8,
           11,
           6,
           0,
           8,
           17,
           4,
           0,
           10,
           15,
           2,
           2,
           7,
           5,
           3,
           1,
           0,
           2,
           12,
           5
          ],
          [
           31,
           3,
           27,
           8,
           0,
           4,
           2,
           20,
           1,
           4,
           2,
           3,
           9,
           1,
           0,
           1,
           5,
           2,
           1,
           1
          ],
          [
           0,
           14,
           4,
           17,
           4,
           0,
           7,
           0,
           7,
           19,
           3,
           5,
           0,
           1,
           12,
           10,
           5,
           1,
           3,
           2
          ],
          [
           11,
           11,
           10,
           4,
           2,
           7,
           0,
           5,
           7,
           5,
           5,
           8,
           8,
           2,
           6,
           4,
           1,
           1,
           0,
           2
          ],
          [
           32,
           7,
           13,
           0,
           20,
           0,
           5,
           0,
           2,
           3,
           0,
           2,
           3,
           2,
           0,
           1,
           0,
           0,
           1,
           1
          ],
          [
           0,
           17,
           5,
           10,
           1,
           7,
           7,
           2,
           0,
           2,
           6,
           3,
           0,
           15,
           1,
           6,
           2,
           2,
           5,
           1
          ],
          [
           10,
           2,
           1,
           15,
           4,
           19,
           5,
           3,
           2,
           0,
           1,
           2,
           0,
           0,
           3,
           8,
           3,
           3,
           2,
           8
          ],
          [
           2,
           4,
           8,
           2,
           2,
           3,
           5,
           0,
           6,
           1,
           0,
           5,
           2,
           2,
           5,
           5,
           3,
           4,
           0,
           0
          ],
          [
           0,
           13,
           4,
           2,
           3,
           5,
           8,
           2,
           3,
           2,
           5,
           0,
           0,
           4,
           4,
           0,
           7,
           2,
           2,
           1
          ],
          [
           28,
           2,
           13,
           7,
           9,
           0,
           8,
           3,
           0,
           0,
           2,
           0,
           0,
           0,
           0,
           0,
           0,
           0,
           2,
           8
          ],
          [
           0,
           12,
           1,
           5,
           1,
           1,
           2,
           2,
           15,
           0,
           2,
           4,
           0,
           0,
           1,
           1,
           5,
           1,
           2,
           0
          ],
          [
           3,
           6,
           3,
           3,
           0,
           12,
           6,
           0,
           1,
           3,
           5,
           4,
           0,
           1,
           0,
           7,
           4,
           1,
           0,
           0
          ],
          [
           6,
           4,
           0,
           1,
           1,
           10,
           4,
           1,
           6,
           8,
           5,
           0,
           0,
           1,
           7,
           0,
           1,
           1,
           0,
           2
          ],
          [
           2,
           5,
           1,
           0,
           5,
           5,
           1,
           0,
           2,
           3,
           3,
           7,
           0,
           5,
           4,
           1,
           0,
           3,
           0,
           0
          ],
          [
           1,
           3,
           3,
           2,
           2,
           1,
           1,
           0,
           2,
           3,
           4,
           2,
           0,
           1,
           1,
           1,
           3,
           0,
           4,
           0
          ],
          [
           2,
           8,
           1,
           12,
           1,
           3,
           0,
           1,
           5,
           2,
           0,
           2,
           2,
           2,
           0,
           0,
           0,
           4,
           0,
           1
          ],
          [
           10,
           0,
           1,
           5,
           1,
           2,
           2,
           1,
           1,
           8,
           0,
           1,
           8,
           0,
           0,
           2,
           0,
           0,
           1,
           0
          ]
         ]
        }
       ],
       "layout": {
        "coloraxis": {
         "colorbar": {
          "title": {
           "text": "Liczba współwystąpień"
          }
         },
         "colorscale": [
          [
           0,
           "#0d0887"
          ],
          [
           0.1111111111111111,
           "#46039f"
          ],
          [
           0.2222222222222222,
           "#7201a8"
          ],
          [
           0.3333333333333333,
           "#9c179e"
          ],
          [
           0.4444444444444444,
           "#bd3786"
          ],
          [
           0.5555555555555556,
           "#d8576b"
          ],
          [
           0.6666666666666666,
           "#ed7953"
          ],
          [
           0.7777777777777778,
           "#fb9f3a"
          ],
          [
           0.8888888888888888,
           "#fdca26"
          ],
          [
           1,
           "#f0f921"
          ]
         ]
        },
        "template": {
         "data": {
          "bar": [
           {
            "error_x": {
             "color": "#2a3f5f"
            },
            "error_y": {
             "color": "#2a3f5f"
            },
            "marker": {
             "line": {
              "color": "#E5ECF6",
              "width": 0.5
             },
             "pattern": {
              "fillmode": "overlay",
              "size": 10,
              "solidity": 0.2
             }
            },
            "type": "bar"
           }
          ],
          "barpolar": [
           {
            "marker": {
             "line": {
              "color": "#E5ECF6",
              "width": 0.5
             },
             "pattern": {
              "fillmode": "overlay",
              "size": 10,
              "solidity": 0.2
             }
            },
            "type": "barpolar"
           }
          ],
          "carpet": [
           {
            "aaxis": {
             "endlinecolor": "#2a3f5f",
             "gridcolor": "white",
             "linecolor": "white",
             "minorgridcolor": "white",
             "startlinecolor": "#2a3f5f"
            },
            "baxis": {
             "endlinecolor": "#2a3f5f",
             "gridcolor": "white",
             "linecolor": "white",
             "minorgridcolor": "white",
             "startlinecolor": "#2a3f5f"
            },
            "type": "carpet"
           }
          ],
          "choropleth": [
           {
            "colorbar": {
             "outlinewidth": 0,
             "ticks": ""
            },
            "type": "choropleth"
           }
          ],
          "contour": [
           {
            "colorbar": {
             "outlinewidth": 0,
             "ticks": ""
            },
            "colorscale": [
             [
              0,
              "#0d0887"
             ],
             [
              0.1111111111111111,
              "#46039f"
             ],
             [
              0.2222222222222222,
              "#7201a8"
             ],
             [
              0.3333333333333333,
              "#9c179e"
             ],
             [
              0.4444444444444444,
              "#bd3786"
             ],
             [
              0.5555555555555556,
              "#d8576b"
             ],
             [
              0.6666666666666666,
              "#ed7953"
             ],
             [
              0.7777777777777778,
              "#fb9f3a"
             ],
             [
              0.8888888888888888,
              "#fdca26"
             ],
             [
              1,
              "#f0f921"
             ]
            ],
            "type": "contour"
           }
          ],
          "contourcarpet": [
           {
            "colorbar": {
             "outlinewidth": 0,
             "ticks": ""
            },
            "type": "contourcarpet"
           }
          ],
          "heatmap": [
           {
            "colorbar": {
             "outlinewidth": 0,
             "ticks": ""
            },
            "colorscale": [
             [
              0,
              "#0d0887"
             ],
             [
              0.1111111111111111,
              "#46039f"
             ],
             [
              0.2222222222222222,
              "#7201a8"
             ],
             [
              0.3333333333333333,
              "#9c179e"
             ],
             [
              0.4444444444444444,
              "#bd3786"
             ],
             [
              0.5555555555555556,
              "#d8576b"
             ],
             [
              0.6666666666666666,
              "#ed7953"
             ],
             [
              0.7777777777777778,
              "#fb9f3a"
             ],
             [
              0.8888888888888888,
              "#fdca26"
             ],
             [
              1,
              "#f0f921"
             ]
            ],
            "type": "heatmap"
           }
          ],
          "heatmapgl": [
           {
            "colorbar": {
             "outlinewidth": 0,
             "ticks": ""
            },
            "colorscale": [
             [
              0,
              "#0d0887"
             ],
             [
              0.1111111111111111,
              "#46039f"
             ],
             [
              0.2222222222222222,
              "#7201a8"
             ],
             [
              0.3333333333333333,
              "#9c179e"
             ],
             [
              0.4444444444444444,
              "#bd3786"
             ],
             [
              0.5555555555555556,
              "#d8576b"
             ],
             [
              0.6666666666666666,
              "#ed7953"
             ],
             [
              0.7777777777777778,
              "#fb9f3a"
             ],
             [
              0.8888888888888888,
              "#fdca26"
             ],
             [
              1,
              "#f0f921"
             ]
            ],
            "type": "heatmapgl"
           }
          ],
          "histogram": [
           {
            "marker": {
             "pattern": {
              "fillmode": "overlay",
              "size": 10,
              "solidity": 0.2
             }
            },
            "type": "histogram"
           }
          ],
          "histogram2d": [
           {
            "colorbar": {
             "outlinewidth": 0,
             "ticks": ""
            },
            "colorscale": [
             [
              0,
              "#0d0887"
             ],
             [
              0.1111111111111111,
              "#46039f"
             ],
             [
              0.2222222222222222,
              "#7201a8"
             ],
             [
              0.3333333333333333,
              "#9c179e"
             ],
             [
              0.4444444444444444,
              "#bd3786"
             ],
             [
              0.5555555555555556,
              "#d8576b"
             ],
             [
              0.6666666666666666,
              "#ed7953"
             ],
             [
              0.7777777777777778,
              "#fb9f3a"
             ],
             [
              0.8888888888888888,
              "#fdca26"
             ],
             [
              1,
              "#f0f921"
             ]
            ],
            "type": "histogram2d"
           }
          ],
          "histogram2dcontour": [
           {
            "colorbar": {
             "outlinewidth": 0,
             "ticks": ""
            },
            "colorscale": [
             [
              0,
              "#0d0887"
             ],
             [
              0.1111111111111111,
              "#46039f"
             ],
             [
              0.2222222222222222,
              "#7201a8"
             ],
             [
              0.3333333333333333,
              "#9c179e"
             ],
             [
              0.4444444444444444,
              "#bd3786"
             ],
             [
              0.5555555555555556,
              "#d8576b"
             ],
             [
              0.6666666666666666,
              "#ed7953"
             ],
             [
              0.7777777777777778,
              "#fb9f3a"
             ],
             [
              0.8888888888888888,
              "#fdca26"
             ],
             [
              1,
              "#f0f921"
             ]
            ],
            "type": "histogram2dcontour"
           }
          ],
          "mesh3d": [
           {
            "colorbar": {
             "outlinewidth": 0,
             "ticks": ""
            },
            "type": "mesh3d"
           }
          ],
          "parcoords": [
           {
            "line": {
             "colorbar": {
              "outlinewidth": 0,
              "ticks": ""
             }
            },
            "type": "parcoords"
           }
          ],
          "pie": [
           {
            "automargin": true,
            "type": "pie"
           }
          ],
          "scatter": [
           {
            "fillpattern": {
             "fillmode": "overlay",
             "size": 10,
             "solidity": 0.2
            },
            "type": "scatter"
           }
          ],
          "scatter3d": [
           {
            "line": {
             "colorbar": {
              "outlinewidth": 0,
              "ticks": ""
             }
            },
            "marker": {
             "colorbar": {
              "outlinewidth": 0,
              "ticks": ""
             }
            },
            "type": "scatter3d"
           }
          ],
          "scattercarpet": [
           {
            "marker": {
             "colorbar": {
              "outlinewidth": 0,
              "ticks": ""
             }
            },
            "type": "scattercarpet"
           }
          ],
          "scattergeo": [
           {
            "marker": {
             "colorbar": {
              "outlinewidth": 0,
              "ticks": ""
             }
            },
            "type": "scattergeo"
           }
          ],
          "scattergl": [
           {
            "marker": {
             "colorbar": {
              "outlinewidth": 0,
              "ticks": ""
             }
            },
            "type": "scattergl"
           }
          ],
          "scattermapbox": [
           {
            "marker": {
             "colorbar": {
              "outlinewidth": 0,
              "ticks": ""
             }
            },
            "type": "scattermapbox"
           }
          ],
          "scatterpolar": [
           {
            "marker": {
             "colorbar": {
              "outlinewidth": 0,
              "ticks": ""
             }
            },
            "type": "scatterpolar"
           }
          ],
          "scatterpolargl": [
           {
            "marker": {
             "colorbar": {
              "outlinewidth": 0,
              "ticks": ""
             }
            },
            "type": "scatterpolargl"
           }
          ],
          "scatterternary": [
           {
            "marker": {
             "colorbar": {
              "outlinewidth": 0,
              "ticks": ""
             }
            },
            "type": "scatterternary"
           }
          ],
          "surface": [
           {
            "colorbar": {
             "outlinewidth": 0,
             "ticks": ""
            },
            "colorscale": [
             [
              0,
              "#0d0887"
             ],
             [
              0.1111111111111111,
              "#46039f"
             ],
             [
              0.2222222222222222,
              "#7201a8"
             ],
             [
              0.3333333333333333,
              "#9c179e"
             ],
             [
              0.4444444444444444,
              "#bd3786"
             ],
             [
              0.5555555555555556,
              "#d8576b"
             ],
             [
              0.6666666666666666,
              "#ed7953"
             ],
             [
              0.7777777777777778,
              "#fb9f3a"
             ],
             [
              0.8888888888888888,
              "#fdca26"
             ],
             [
              1,
              "#f0f921"
             ]
            ],
            "type": "surface"
           }
          ],
          "table": [
           {
            "cells": {
             "fill": {
              "color": "#EBF0F8"
             },
             "line": {
              "color": "white"
             }
            },
            "header": {
             "fill": {
              "color": "#C8D4E3"
             },
             "line": {
              "color": "white"
             }
            },
            "type": "table"
           }
          ]
         },
         "layout": {
          "annotationdefaults": {
           "arrowcolor": "#2a3f5f",
           "arrowhead": 0,
           "arrowwidth": 1
          },
          "autotypenumbers": "strict",
          "coloraxis": {
           "colorbar": {
            "outlinewidth": 0,
            "ticks": ""
           }
          },
          "colorscale": {
           "diverging": [
            [
             0,
             "#8e0152"
            ],
            [
             0.1,
             "#c51b7d"
            ],
            [
             0.2,
             "#de77ae"
            ],
            [
             0.3,
             "#f1b6da"
            ],
            [
             0.4,
             "#fde0ef"
            ],
            [
             0.5,
             "#f7f7f7"
            ],
            [
             0.6,
             "#e6f5d0"
            ],
            [
             0.7,
             "#b8e186"
            ],
            [
             0.8,
             "#7fbc41"
            ],
            [
             0.9,
             "#4d9221"
            ],
            [
             1,
             "#276419"
            ]
           ],
           "sequential": [
            [
             0,
             "#0d0887"
            ],
            [
             0.1111111111111111,
             "#46039f"
            ],
            [
             0.2222222222222222,
             "#7201a8"
            ],
            [
             0.3333333333333333,
             "#9c179e"
            ],
            [
             0.4444444444444444,
             "#bd3786"
            ],
            [
             0.5555555555555556,
             "#d8576b"
            ],
            [
             0.6666666666666666,
             "#ed7953"
            ],
            [
             0.7777777777777778,
             "#fb9f3a"
            ],
            [
             0.8888888888888888,
             "#fdca26"
            ],
            [
             1,
             "#f0f921"
            ]
           ],
           "sequentialminus": [
            [
             0,
             "#0d0887"
            ],
            [
             0.1111111111111111,
             "#46039f"
            ],
            [
             0.2222222222222222,
             "#7201a8"
            ],
            [
             0.3333333333333333,
             "#9c179e"
            ],
            [
             0.4444444444444444,
             "#bd3786"
            ],
            [
             0.5555555555555556,
             "#d8576b"
            ],
            [
             0.6666666666666666,
             "#ed7953"
            ],
            [
             0.7777777777777778,
             "#fb9f3a"
            ],
            [
             0.8888888888888888,
             "#fdca26"
            ],
            [
             1,
             "#f0f921"
            ]
           ]
          },
          "colorway": [
           "#636efa",
           "#EF553B",
           "#00cc96",
           "#ab63fa",
           "#FFA15A",
           "#19d3f3",
           "#FF6692",
           "#B6E880",
           "#FF97FF",
           "#FECB52"
          ],
          "font": {
           "color": "#2a3f5f"
          },
          "geo": {
           "bgcolor": "white",
           "lakecolor": "white",
           "landcolor": "#E5ECF6",
           "showlakes": true,
           "showland": true,
           "subunitcolor": "white"
          },
          "hoverlabel": {
           "align": "left"
          },
          "hovermode": "closest",
          "mapbox": {
           "style": "light"
          },
          "paper_bgcolor": "white",
          "plot_bgcolor": "#E5ECF6",
          "polar": {
           "angularaxis": {
            "gridcolor": "white",
            "linecolor": "white",
            "ticks": ""
           },
           "bgcolor": "#E5ECF6",
           "radialaxis": {
            "gridcolor": "white",
            "linecolor": "white",
            "ticks": ""
           }
          },
          "scene": {
           "xaxis": {
            "backgroundcolor": "#E5ECF6",
            "gridcolor": "white",
            "gridwidth": 2,
            "linecolor": "white",
            "showbackground": true,
            "ticks": "",
            "zerolinecolor": "white"
           },
           "yaxis": {
            "backgroundcolor": "#E5ECF6",
            "gridcolor": "white",
            "gridwidth": 2,
            "linecolor": "white",
            "showbackground": true,
            "ticks": "",
            "zerolinecolor": "white"
           },
           "zaxis": {
            "backgroundcolor": "#E5ECF6",
            "gridcolor": "white",
            "gridwidth": 2,
            "linecolor": "white",
            "showbackground": true,
            "ticks": "",
            "zerolinecolor": "white"
           }
          },
          "shapedefaults": {
           "line": {
            "color": "#2a3f5f"
           }
          },
          "ternary": {
           "aaxis": {
            "gridcolor": "white",
            "linecolor": "white",
            "ticks": ""
           },
           "baxis": {
            "gridcolor": "white",
            "linecolor": "white",
            "ticks": ""
           },
           "bgcolor": "#E5ECF6",
           "caxis": {
            "gridcolor": "white",
            "linecolor": "white",
            "ticks": ""
           }
          },
          "title": {
           "x": 0.05
          },
          "xaxis": {
           "automargin": true,
           "gridcolor": "white",
           "linecolor": "white",
           "ticks": "",
           "title": {
            "standoff": 15
           },
           "zerolinecolor": "white",
           "zerolinewidth": 2
          },
          "yaxis": {
           "automargin": true,
           "gridcolor": "white",
           "linecolor": "white",
           "ticks": "",
           "title": {
            "standoff": 15
           },
           "zerolinecolor": "white",
           "zerolinewidth": 2
          }
         }
        },
        "title": {
         "text": "Współwystępowanie najpopularniejszych tagów"
        },
        "xaxis": {
         "anchor": "y",
         "constrain": "domain",
         "domain": [
          0,
          1
         ],
         "scaleanchor": "y"
        },
        "yaxis": {
         "anchor": "x",
         "autorange": "reversed",
         "constrain": "domain",
         "domain": [
          0,
          1
         ]
        }
       }
      }
     },
     "metadata": {},
     "output_type": "display_data"
    }
   ],
   "source": [
    "# Tabela krzyżowa\n",
    "all_tags = list(set(tag for tags in df['tags'] for tag in tags))\n",
    "cross_tab = pd.DataFrame(0, index=all_tags, columns=all_tags)\n",
    "\n",
    "for tags in df['tags']:\n",
    "    for tag1 in tags:\n",
    "        for tag2 in tags:\n",
    "            if tag1 != tag2:\n",
    "                cross_tab.loc[tag1, tag2] += 1\n",
    "\n",
    "# Wybór najpopularniejszych tagów (np. top 20)\n",
    "popular_tags = tag_df['Tag'].head(20).tolist()\n",
    "filtered_cross_tab = cross_tab.loc[popular_tags, popular_tags]\n",
    "\n",
    "# Wizualizacja\n",
    "fig = px.imshow(filtered_cross_tab, text_auto=True, title='Współwystępowanie najpopularniejszych tagów', labels={'color': 'Liczba współwystąpień'})\n",
    "fig.show()\n"
   ]
  },
  {
   "cell_type": "code",
   "execution_count": null,
   "metadata": {},
   "outputs": [
    {
     "data": {
      "application/vnd.plotly.v1+json": {
       "config": {
        "plotlyServerURL": "https://plot.ly"
       },
       "data": [
        {
         "alignmentgroup": "True",
         "hovertemplate": "Tag=%{x}<br>Średnia cena=%{y}<extra></extra>",
         "legendgroup": "",
         "marker": {
          "color": "#636efa",
          "pattern": {
           "shape": ""
          }
         },
         "name": "",
         "offsetgroup": "",
         "orientation": "v",
         "showlegend": false,
         "textposition": "auto",
         "type": "bar",
         "x": [
          "Fikcja interaktywna",
          "Nagość",
          "Perspektywa trzeciej osoby",
          "Czarna komedia",
          "Quick time event",
          "Mroczne fantasy",
          "Walka na miecze",
          "Szybkie tempo",
          "Platformowe 3D",
          "Wiele zakończeń",
          "Zespołowe",
          "MMO",
          "Idlery",
          "Dostosowywanie broni palnej",
          "MMORPG",
          "Free to Play",
          "Strzelanka z bohaterami",
          "Battle royale",
          "Mars",
          "Symulator polityczny"
         ],
         "xaxis": "x",
         "y": [
          231.99,
          199,
          172.96666666666667,
          169.9,
          169,
          164.99,
          159.99,
          153.995,
          152.495,
          152.16,
          0,
          0,
          0,
          0,
          0,
          0,
          0,
          0,
          0,
          9.59
         ],
         "yaxis": "y"
        }
       ],
       "layout": {
        "barmode": "relative",
        "legend": {
         "tracegroupgap": 0
        },
        "template": {
         "data": {
          "bar": [
           {
            "error_x": {
             "color": "#2a3f5f"
            },
            "error_y": {
             "color": "#2a3f5f"
            },
            "marker": {
             "line": {
              "color": "#E5ECF6",
              "width": 0.5
             },
             "pattern": {
              "fillmode": "overlay",
              "size": 10,
              "solidity": 0.2
             }
            },
            "type": "bar"
           }
          ],
          "barpolar": [
           {
            "marker": {
             "line": {
              "color": "#E5ECF6",
              "width": 0.5
             },
             "pattern": {
              "fillmode": "overlay",
              "size": 10,
              "solidity": 0.2
             }
            },
            "type": "barpolar"
           }
          ],
          "carpet": [
           {
            "aaxis": {
             "endlinecolor": "#2a3f5f",
             "gridcolor": "white",
             "linecolor": "white",
             "minorgridcolor": "white",
             "startlinecolor": "#2a3f5f"
            },
            "baxis": {
             "endlinecolor": "#2a3f5f",
             "gridcolor": "white",
             "linecolor": "white",
             "minorgridcolor": "white",
             "startlinecolor": "#2a3f5f"
            },
            "type": "carpet"
           }
          ],
          "choropleth": [
           {
            "colorbar": {
             "outlinewidth": 0,
             "ticks": ""
            },
            "type": "choropleth"
           }
          ],
          "contour": [
           {
            "colorbar": {
             "outlinewidth": 0,
             "ticks": ""
            },
            "colorscale": [
             [
              0,
              "#0d0887"
             ],
             [
              0.1111111111111111,
              "#46039f"
             ],
             [
              0.2222222222222222,
              "#7201a8"
             ],
             [
              0.3333333333333333,
              "#9c179e"
             ],
             [
              0.4444444444444444,
              "#bd3786"
             ],
             [
              0.5555555555555556,
              "#d8576b"
             ],
             [
              0.6666666666666666,
              "#ed7953"
             ],
             [
              0.7777777777777778,
              "#fb9f3a"
             ],
             [
              0.8888888888888888,
              "#fdca26"
             ],
             [
              1,
              "#f0f921"
             ]
            ],
            "type": "contour"
           }
          ],
          "contourcarpet": [
           {
            "colorbar": {
             "outlinewidth": 0,
             "ticks": ""
            },
            "type": "contourcarpet"
           }
          ],
          "heatmap": [
           {
            "colorbar": {
             "outlinewidth": 0,
             "ticks": ""
            },
            "colorscale": [
             [
              0,
              "#0d0887"
             ],
             [
              0.1111111111111111,
              "#46039f"
             ],
             [
              0.2222222222222222,
              "#7201a8"
             ],
             [
              0.3333333333333333,
              "#9c179e"
             ],
             [
              0.4444444444444444,
              "#bd3786"
             ],
             [
              0.5555555555555556,
              "#d8576b"
             ],
             [
              0.6666666666666666,
              "#ed7953"
             ],
             [
              0.7777777777777778,
              "#fb9f3a"
             ],
             [
              0.8888888888888888,
              "#fdca26"
             ],
             [
              1,
              "#f0f921"
             ]
            ],
            "type": "heatmap"
           }
          ],
          "heatmapgl": [
           {
            "colorbar": {
             "outlinewidth": 0,
             "ticks": ""
            },
            "colorscale": [
             [
              0,
              "#0d0887"
             ],
             [
              0.1111111111111111,
              "#46039f"
             ],
             [
              0.2222222222222222,
              "#7201a8"
             ],
             [
              0.3333333333333333,
              "#9c179e"
             ],
             [
              0.4444444444444444,
              "#bd3786"
             ],
             [
              0.5555555555555556,
              "#d8576b"
             ],
             [
              0.6666666666666666,
              "#ed7953"
             ],
             [
              0.7777777777777778,
              "#fb9f3a"
             ],
             [
              0.8888888888888888,
              "#fdca26"
             ],
             [
              1,
              "#f0f921"
             ]
            ],
            "type": "heatmapgl"
           }
          ],
          "histogram": [
           {
            "marker": {
             "pattern": {
              "fillmode": "overlay",
              "size": 10,
              "solidity": 0.2
             }
            },
            "type": "histogram"
           }
          ],
          "histogram2d": [
           {
            "colorbar": {
             "outlinewidth": 0,
             "ticks": ""
            },
            "colorscale": [
             [
              0,
              "#0d0887"
             ],
             [
              0.1111111111111111,
              "#46039f"
             ],
             [
              0.2222222222222222,
              "#7201a8"
             ],
             [
              0.3333333333333333,
              "#9c179e"
             ],
             [
              0.4444444444444444,
              "#bd3786"
             ],
             [
              0.5555555555555556,
              "#d8576b"
             ],
             [
              0.6666666666666666,
              "#ed7953"
             ],
             [
              0.7777777777777778,
              "#fb9f3a"
             ],
             [
              0.8888888888888888,
              "#fdca26"
             ],
             [
              1,
              "#f0f921"
             ]
            ],
            "type": "histogram2d"
           }
          ],
          "histogram2dcontour": [
           {
            "colorbar": {
             "outlinewidth": 0,
             "ticks": ""
            },
            "colorscale": [
             [
              0,
              "#0d0887"
             ],
             [
              0.1111111111111111,
              "#46039f"
             ],
             [
              0.2222222222222222,
              "#7201a8"
             ],
             [
              0.3333333333333333,
              "#9c179e"
             ],
             [
              0.4444444444444444,
              "#bd3786"
             ],
             [
              0.5555555555555556,
              "#d8576b"
             ],
             [
              0.6666666666666666,
              "#ed7953"
             ],
             [
              0.7777777777777778,
              "#fb9f3a"
             ],
             [
              0.8888888888888888,
              "#fdca26"
             ],
             [
              1,
              "#f0f921"
             ]
            ],
            "type": "histogram2dcontour"
           }
          ],
          "mesh3d": [
           {
            "colorbar": {
             "outlinewidth": 0,
             "ticks": ""
            },
            "type": "mesh3d"
           }
          ],
          "parcoords": [
           {
            "line": {
             "colorbar": {
              "outlinewidth": 0,
              "ticks": ""
             }
            },
            "type": "parcoords"
           }
          ],
          "pie": [
           {
            "automargin": true,
            "type": "pie"
           }
          ],
          "scatter": [
           {
            "fillpattern": {
             "fillmode": "overlay",
             "size": 10,
             "solidity": 0.2
            },
            "type": "scatter"
           }
          ],
          "scatter3d": [
           {
            "line": {
             "colorbar": {
              "outlinewidth": 0,
              "ticks": ""
             }
            },
            "marker": {
             "colorbar": {
              "outlinewidth": 0,
              "ticks": ""
             }
            },
            "type": "scatter3d"
           }
          ],
          "scattercarpet": [
           {
            "marker": {
             "colorbar": {
              "outlinewidth": 0,
              "ticks": ""
             }
            },
            "type": "scattercarpet"
           }
          ],
          "scattergeo": [
           {
            "marker": {
             "colorbar": {
              "outlinewidth": 0,
              "ticks": ""
             }
            },
            "type": "scattergeo"
           }
          ],
          "scattergl": [
           {
            "marker": {
             "colorbar": {
              "outlinewidth": 0,
              "ticks": ""
             }
            },
            "type": "scattergl"
           }
          ],
          "scattermapbox": [
           {
            "marker": {
             "colorbar": {
              "outlinewidth": 0,
              "ticks": ""
             }
            },
            "type": "scattermapbox"
           }
          ],
          "scatterpolar": [
           {
            "marker": {
             "colorbar": {
              "outlinewidth": 0,
              "ticks": ""
             }
            },
            "type": "scatterpolar"
           }
          ],
          "scatterpolargl": [
           {
            "marker": {
             "colorbar": {
              "outlinewidth": 0,
              "ticks": ""
             }
            },
            "type": "scatterpolargl"
           }
          ],
          "scatterternary": [
           {
            "marker": {
             "colorbar": {
              "outlinewidth": 0,
              "ticks": ""
             }
            },
            "type": "scatterternary"
           }
          ],
          "surface": [
           {
            "colorbar": {
             "outlinewidth": 0,
             "ticks": ""
            },
            "colorscale": [
             [
              0,
              "#0d0887"
             ],
             [
              0.1111111111111111,
              "#46039f"
             ],
             [
              0.2222222222222222,
              "#7201a8"
             ],
             [
              0.3333333333333333,
              "#9c179e"
             ],
             [
              0.4444444444444444,
              "#bd3786"
             ],
             [
              0.5555555555555556,
              "#d8576b"
             ],
             [
              0.6666666666666666,
              "#ed7953"
             ],
             [
              0.7777777777777778,
              "#fb9f3a"
             ],
             [
              0.8888888888888888,
              "#fdca26"
             ],
             [
              1,
              "#f0f921"
             ]
            ],
            "type": "surface"
           }
          ],
          "table": [
           {
            "cells": {
             "fill": {
              "color": "#EBF0F8"
             },
             "line": {
              "color": "white"
             }
            },
            "header": {
             "fill": {
              "color": "#C8D4E3"
             },
             "line": {
              "color": "white"
             }
            },
            "type": "table"
           }
          ]
         },
         "layout": {
          "annotationdefaults": {
           "arrowcolor": "#2a3f5f",
           "arrowhead": 0,
           "arrowwidth": 1
          },
          "autotypenumbers": "strict",
          "coloraxis": {
           "colorbar": {
            "outlinewidth": 0,
            "ticks": ""
           }
          },
          "colorscale": {
           "diverging": [
            [
             0,
             "#8e0152"
            ],
            [
             0.1,
             "#c51b7d"
            ],
            [
             0.2,
             "#de77ae"
            ],
            [
             0.3,
             "#f1b6da"
            ],
            [
             0.4,
             "#fde0ef"
            ],
            [
             0.5,
             "#f7f7f7"
            ],
            [
             0.6,
             "#e6f5d0"
            ],
            [
             0.7,
             "#b8e186"
            ],
            [
             0.8,
             "#7fbc41"
            ],
            [
             0.9,
             "#4d9221"
            ],
            [
             1,
             "#276419"
            ]
           ],
           "sequential": [
            [
             0,
             "#0d0887"
            ],
            [
             0.1111111111111111,
             "#46039f"
            ],
            [
             0.2222222222222222,
             "#7201a8"
            ],
            [
             0.3333333333333333,
             "#9c179e"
            ],
            [
             0.4444444444444444,
             "#bd3786"
            ],
            [
             0.5555555555555556,
             "#d8576b"
            ],
            [
             0.6666666666666666,
             "#ed7953"
            ],
            [
             0.7777777777777778,
             "#fb9f3a"
            ],
            [
             0.8888888888888888,
             "#fdca26"
            ],
            [
             1,
             "#f0f921"
            ]
           ],
           "sequentialminus": [
            [
             0,
             "#0d0887"
            ],
            [
             0.1111111111111111,
             "#46039f"
            ],
            [
             0.2222222222222222,
             "#7201a8"
            ],
            [
             0.3333333333333333,
             "#9c179e"
            ],
            [
             0.4444444444444444,
             "#bd3786"
            ],
            [
             0.5555555555555556,
             "#d8576b"
            ],
            [
             0.6666666666666666,
             "#ed7953"
            ],
            [
             0.7777777777777778,
             "#fb9f3a"
            ],
            [
             0.8888888888888888,
             "#fdca26"
            ],
            [
             1,
             "#f0f921"
            ]
           ]
          },
          "colorway": [
           "#636efa",
           "#EF553B",
           "#00cc96",
           "#ab63fa",
           "#FFA15A",
           "#19d3f3",
           "#FF6692",
           "#B6E880",
           "#FF97FF",
           "#FECB52"
          ],
          "font": {
           "color": "#2a3f5f"
          },
          "geo": {
           "bgcolor": "white",
           "lakecolor": "white",
           "landcolor": "#E5ECF6",
           "showlakes": true,
           "showland": true,
           "subunitcolor": "white"
          },
          "hoverlabel": {
           "align": "left"
          },
          "hovermode": "closest",
          "mapbox": {
           "style": "light"
          },
          "paper_bgcolor": "white",
          "plot_bgcolor": "#E5ECF6",
          "polar": {
           "angularaxis": {
            "gridcolor": "white",
            "linecolor": "white",
            "ticks": ""
           },
           "bgcolor": "#E5ECF6",
           "radialaxis": {
            "gridcolor": "white",
            "linecolor": "white",
            "ticks": ""
           }
          },
          "scene": {
           "xaxis": {
            "backgroundcolor": "#E5ECF6",
            "gridcolor": "white",
            "gridwidth": 2,
            "linecolor": "white",
            "showbackground": true,
            "ticks": "",
            "zerolinecolor": "white"
           },
           "yaxis": {
            "backgroundcolor": "#E5ECF6",
            "gridcolor": "white",
            "gridwidth": 2,
            "linecolor": "white",
            "showbackground": true,
            "ticks": "",
            "zerolinecolor": "white"
           },
           "zaxis": {
            "backgroundcolor": "#E5ECF6",
            "gridcolor": "white",
            "gridwidth": 2,
            "linecolor": "white",
            "showbackground": true,
            "ticks": "",
            "zerolinecolor": "white"
           }
          },
          "shapedefaults": {
           "line": {
            "color": "#2a3f5f"
           }
          },
          "ternary": {
           "aaxis": {
            "gridcolor": "white",
            "linecolor": "white",
            "ticks": ""
           },
           "baxis": {
            "gridcolor": "white",
            "linecolor": "white",
            "ticks": ""
           },
           "bgcolor": "#E5ECF6",
           "caxis": {
            "gridcolor": "white",
            "linecolor": "white",
            "ticks": ""
           }
          },
          "title": {
           "x": 0.05
          },
          "xaxis": {
           "automargin": true,
           "gridcolor": "white",
           "linecolor": "white",
           "ticks": "",
           "title": {
            "standoff": 15
           },
           "zerolinecolor": "white",
           "zerolinewidth": 2
          },
          "yaxis": {
           "automargin": true,
           "gridcolor": "white",
           "linecolor": "white",
           "ticks": "",
           "title": {
            "standoff": 15
           },
           "zerolinecolor": "white",
           "zerolinewidth": 2
          }
         }
        },
        "title": {
         "text": "Wpływ wybranych tagów na cenę"
        },
        "xaxis": {
         "anchor": "y",
         "domain": [
          0,
          1
         ],
         "title": {
          "text": "Tag"
         }
        },
        "yaxis": {
         "anchor": "x",
         "domain": [
          0,
          1
         ],
         "title": {
          "text": "Średnia cena"
         }
        }
       }
      }
     },
     "metadata": {},
     "output_type": "display_data"
    }
   ],
   "source": [
    "tag_prices = []\n",
    "\n",
    "for tag in all_tags:\n",
    "    subset = df[df['tags'].apply(lambda tags: tag in tags)]\n",
    "    avg_price = subset['price'].mean()\n",
    "    tag_prices.append({'Tag': tag, 'Average Price': avg_price})\n",
    "\n",
    "tag_price_df = pd.DataFrame(tag_prices).sort_values('Average Price', ascending=False)\n",
    "\n",
    "\n",
    "# Wybór tagów z największą średnią ceną i różnicą cen\n",
    "top_expensive_tags = tag_price_df.nlargest(10, 'Average Price')\n",
    "top_cheap_tags = tag_price_df.nsmallest(10, 'Average Price')\n",
    "filtered_tag_price_df = pd.concat([top_expensive_tags, top_cheap_tags])\n",
    "\n",
    "# Wizualizacja\n",
    "fig = px.bar(filtered_tag_price_df, x='Tag', y='Average Price', title='Wpływ wybranych tagów na cenę', labels={'Tag': 'Tag', 'Average Price': 'Średnia cena'})\n",
    "fig.show()\n"
   ]
  },
  {
   "cell_type": "code",
   "execution_count": 23,
   "metadata": {},
   "outputs": [
    {
     "name": "stdout",
     "output_type": "stream",
     "text": [
      "Collecting sklearn\n",
      "  Downloading sklearn-0.0.post12.tar.gz (2.6 kB)\n",
      "  Installing build dependencies: started\n",
      "  Installing build dependencies: finished with status 'done'\n",
      "  Getting requirements to build wheel: started\n",
      "  Getting requirements to build wheel: finished with status 'error'\n",
      "Note: you may need to restart the kernel to use updated packages.\n"
     ]
    },
    {
     "name": "stderr",
     "output_type": "stream",
     "text": [
      "  error: subprocess-exited-with-error\n",
      "  \n",
      "  × Getting requirements to build wheel did not run successfully.\n",
      "  │ exit code: 1\n",
      "  ╰─> [15 lines of output]\n",
      "      The 'sklearn' PyPI package is deprecated, use 'scikit-learn'\n",
      "      rather than 'sklearn' for pip commands.\n",
      "      \n",
      "      Here is how to fix this error in the main use cases:\n",
      "      - use 'pip install scikit-learn' rather than 'pip install sklearn'\n",
      "      - replace 'sklearn' by 'scikit-learn' in your pip requirements files\n",
      "        (requirements.txt, setup.py, setup.cfg, Pipfile, etc ...)\n",
      "      - if the 'sklearn' package is used by one of your dependencies,\n",
      "        it would be great if you take some time to track which package uses\n",
      "        'sklearn' instead of 'scikit-learn' and report it to their issue tracker\n",
      "      - as a last resort, set the environment variable\n",
      "        SKLEARN_ALLOW_DEPRECATED_SKLEARN_PACKAGE_INSTALL=True to avoid this error\n",
      "      \n",
      "      More information is available at\n",
      "      https://github.com/scikit-learn/sklearn-pypi-package\n",
      "      [end of output]\n",
      "  \n",
      "  note: This error originates from a subprocess, and is likely not a problem with pip.\n",
      "error: subprocess-exited-with-error\n",
      "\n",
      "× Getting requirements to build wheel did not run successfully.\n",
      "│ exit code: 1\n",
      "╰─> See above for output.\n",
      "\n",
      "note: This error originates from a subprocess, and is likely not a problem with pip.\n",
      "\n",
      "[notice] A new release of pip is available: 24.1.2 -> 24.3.1\n",
      "[notice] To update, run: python.exe -m pip install --upgrade pip\n"
     ]
    }
   ],
   "source": [
    "%pip install sklearn"
   ]
  },
  {
   "cell_type": "code",
   "execution_count": 24,
   "metadata": {},
   "outputs": [
    {
     "ename": "ModuleNotFoundError",
     "evalue": "No module named 'sklearn'",
     "output_type": "error",
     "traceback": [
      "\u001b[1;31m---------------------------------------------------------------------------\u001b[0m",
      "\u001b[1;31mModuleNotFoundError\u001b[0m                       Traceback (most recent call last)",
      "Input \u001b[1;32mIn [24]\u001b[0m, in \u001b[0;36m<cell line: 1>\u001b[1;34m()\u001b[0m\n\u001b[1;32m----> 1\u001b[0m \u001b[38;5;28;01mfrom\u001b[39;00m \u001b[38;5;21;01msklearn\u001b[39;00m\u001b[38;5;21;01m.\u001b[39;00m\u001b[38;5;21;01mpreprocessing\u001b[39;00m \u001b[38;5;28;01mimport\u001b[39;00m StandardScaler\n\u001b[0;32m      2\u001b[0m \u001b[38;5;28;01mfrom\u001b[39;00m \u001b[38;5;21;01msklearn\u001b[39;00m\u001b[38;5;21;01m.\u001b[39;00m\u001b[38;5;21;01mcluster\u001b[39;00m \u001b[38;5;28;01mimport\u001b[39;00m KMeans\n\u001b[0;32m      4\u001b[0m \u001b[38;5;66;03m# Przygotowanie danych\u001b[39;00m\n",
      "\u001b[1;31mModuleNotFoundError\u001b[0m: No module named 'sklearn'"
     ]
    }
   ],
   "source": [
    "from sklearn.preprocessing import StandardScaler\n",
    "from sklearn.cluster import KMeans\n",
    "\n",
    "# Przygotowanie danych\n",
    "tag_matrix = pd.DataFrame(0, index=df.index, columns=all_tags)\n",
    "for i, tags in enumerate(df['tags']):\n",
    "    tag_matrix.loc[i, tags] = 1\n",
    "\n",
    "scaler = StandardScaler()\n",
    "X = scaler.fit_transform(tag_matrix)\n",
    "\n",
    "# Klasteryzacja\n",
    "kmeans = KMeans(n_clusters=5, random_state=42)\n",
    "df['cluster'] = kmeans.fit_predict(X)\n",
    "\n",
    "# Wizualizacja klastrów (kolor + centroidy)\n",
    "fig = px.scatter(df, x='price', y='tag_count', color='cluster', title='Klasteryzacja gier (cena vs liczba tagów)', labels={'price': 'Cena (zł)', 'tag_count': 'Liczba tagów'}, hover_data=['title'])\n",
    "fig.show()\n"
   ]
  }
 ],
 "metadata": {
  "kernelspec": {
   "display_name": "Python 3",
   "language": "python",
   "name": "python3"
  },
  "language_info": {
   "codemirror_mode": {
    "name": "ipython",
    "version": 3
   },
   "file_extension": ".py",
   "mimetype": "text/x-python",
   "name": "python",
   "nbconvert_exporter": "python",
   "pygments_lexer": "ipython3",
   "version": "3.10.4"
  }
 },
 "nbformat": 4,
 "nbformat_minor": 2
}

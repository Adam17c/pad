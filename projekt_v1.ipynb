{
 "cells": [
  {
   "cell_type": "code",
   "execution_count": null,
   "metadata": {},
   "outputs": [],
   "source": [
    "%pip install selenium\n",
    "%pip install beautifulsoup4\n",
    "%pip install plotly\n",
    "%pip install seaborn\n",
    "%pip install scipy\n",
    "%pip install nbformat"
   ]
  },
  {
   "cell_type": "code",
   "execution_count": 71,
   "metadata": {},
   "outputs": [
    {
     "name": "stdout",
     "output_type": "stream",
     "text": [
      "nbformat==5.10.4\n",
      "Note: you may need to restart the kernel to use updated packages.\n"
     ]
    }
   ],
   "source": [
    "%pip freeze | findstr nbformat\n"
   ]
  },
  {
   "cell_type": "code",
   "execution_count": 1,
   "metadata": {},
   "outputs": [],
   "source": [
    "from selenium import webdriver\n",
    "from selenium.webdriver.common.by import By\n",
    "import time"
   ]
  },
  {
   "cell_type": "code",
   "execution_count": 2,
   "metadata": {},
   "outputs": [
    {
     "name": "stderr",
     "output_type": "stream",
     "text": [
      "The chromedriver version (131.0.6778.69) detected in PATH at I:\\ChromeDriver\\chromedriver.exe might not be compatible with the detected chrome version (132.0.6834.110); currently, chromedriver 132.0.6834.110 is recommended for chrome 132.*, so it is advised to delete the driver in PATH and retry\n"
     ]
    }
   ],
   "source": [
    "from selenium.webdriver.chrome.service import Service\n",
    "\n",
    "download_service = Service()\n",
    "\n",
    "driver = webdriver.Chrome(service=download_service)\n",
    "\n",
    "driver.maximize_window()"
   ]
  },
  {
   "cell_type": "code",
   "execution_count": 3,
   "metadata": {},
   "outputs": [],
   "source": [
    "# Otwieranie strony Steam\n",
    "url = \"https://store.steampowered.com/category/science_fiction/\"\n",
    "driver.get(url)\n",
    "\n",
    "# Czekanie na załadowanie treści\n",
    "time.sleep(2)  # Dostosuj, jeśli strona ładuje się szybciej"
   ]
  },
  {
   "cell_type": "code",
   "execution_count": 4,
   "metadata": {},
   "outputs": [],
   "source": [
    "# Znajdź i kliknij przycisk zamykający popup\n",
    "popup_close_button = driver.find_element(By.ID, \"rejectAllButton\")\n",
    "popup_close_button.click()"
   ]
  },
  {
   "cell_type": "code",
   "execution_count": 5,
   "metadata": {},
   "outputs": [],
   "source": [
    "menu_button = driver.find_element(By.XPATH, \"//div[text()='Typ']\")\n",
    "driver.execute_script(\"arguments[0].scrollIntoView(true);\", menu_button)\n",
    "menu_button.click()\n",
    "\n",
    "# Znalezienie elementu rodzica (div) dla <a> z tekstem \"Gry\"\n",
    "games_button = driver.find_element(By.XPATH, \"//a[text()='Gry']\")\n",
    "# Kliknięcie elementu rodzica\n",
    "driver.execute_script(\"arguments[0].click();\", games_button)"
   ]
  },
  {
   "cell_type": "code",
   "execution_count": 7,
   "metadata": {},
   "outputs": [],
   "source": [
    "import pandas as pd\n",
    "\n",
    "def GetTitlesWithDetails():\n",
    "    games_data = []\n",
    "    game_containers = driver.find_elements(By.XPATH, \"//div[contains(@class, 'v9uRg57bwOaPsvAnkXESO')]\")\n",
    "\n",
    "    for game in game_containers:\n",
    "        try:\n",
    "            # Pobranie tytułu gry\n",
    "            title = game.find_element(By.XPATH, \".//div[contains(@class, '_3rrH9dPdtHVRMzAEw82AId')]//a//div\").text.strip()\n",
    "\n",
    "            # Pobranie tagów\n",
    "            tags_container = game.find_element(By.XPATH, \".//div[contains(@class, '_3wryhCRrTuMULeq_YjNk-s')]\")\n",
    "            tag_elements = tags_container.find_elements(By.XPATH, \".//div[contains(@class, '_2bkP-3b7dvr0a_qPdZEfHY')]//a\")\n",
    "            tags = ', '.join([tag.text.strip() for tag in tag_elements if tag.text.strip()])\n",
    "\n",
    "            # Pobranie ceny gry\n",
    "            try:\n",
    "                price_container = game.find_element(By.XPATH, \".//div[contains(@class, 'kW6m4Sjqacp5hykrj5LEo')]//div[contains(@class, '_2s-O5T3qJJYR2AUq4b9jIN')]\")\n",
    "                price = price_container.find_element(By.XPATH, \".//div[contains(@class, '_3j4dI1yA7cRfCvK8h406OB')]\").text.strip()\n",
    "            except:\n",
    "                price = \"Free to Play\"\n",
    "\n",
    "            # Pobranie daty wydania\n",
    "            try:\n",
    "                release_date = game.find_element(By.XPATH, \".//div[contains(@class, '_3wryhCRrTuMULeq_YjNk-s')]//div[contains(@class, '_3a6HRK-P6LK0-pxRKXYgyP')]//div[contains(@class, '_1qvTFgmehUzbdYM9cw0eS7')]\").text.strip()\n",
    "            except:\n",
    "                release_date = \"Brak daty\"\n",
    "\n",
    "            # Pobranie nacechowania recenzji\n",
    "            try:\n",
    "                review_sentiment = game.find_element(By.XPATH, \".//div[contains(@class, '_3wryhCRrTuMULeq_YjNk-s')]//a[contains(@class, '_3qvppfM_u0yn2jrpoUo8RM')]//div[contains(@class, '_3ZWs0kB-1tuqQtie9KK-E7')]//div[contains(@class, '_2nuoOi5kC2aUI12z85PneA')]\").text.strip()\n",
    "            except:\n",
    "                review_sentiment = \"Brak informacji\"\n",
    "\n",
    "            # Pobranie liczby recenzji\n",
    "            try:\n",
    "                review_count = game.find_element(By.XPATH, \".//div[contains(@class, '_3wryhCRrTuMULeq_YjNk-s')]//a[contains(@class, '_3qvppfM_u0yn2jrpoUo8RM')]//div[contains(@class, '_3ZWs0kB-1tuqQtie9KK-E7')]//div[contains(@class, '_1wXL_MfRpdKQ3wZiNP5lrH')]\").text.strip()\n",
    "            except:\n",
    "                review_count = \"0\"\n",
    "\n",
    "            # Dodanie gry do listy\n",
    "            games_data.append({\n",
    "                \"Tytuł\": title,\n",
    "                \"Tagi\": tags,\n",
    "                \"Cena\": price,\n",
    "                \"Data wydania\": release_date,\n",
    "                \"Nacechowanie recenzji\": review_sentiment,\n",
    "                \"Liczba recenzji\": review_count\n",
    "            })\n",
    "\n",
    "        except Exception as e:\n",
    "            print(f\"Problem z przetwarzaniem gry: {e}\")\n",
    "\n",
    "    # Konwersja do DataFrame\n",
    "    df = pd.DataFrame(games_data)\n",
    "    return df\n"
   ]
  },
  {
   "cell_type": "code",
   "execution_count": 10,
   "metadata": {},
   "outputs": [],
   "source": [
    "driver.execute_script('window.scroll(0, document.body.scrollHeight-2000)')"
   ]
  },
  {
   "cell_type": "code",
   "execution_count": 11,
   "metadata": {},
   "outputs": [],
   "source": [
    "# zecrolluj na dół listy\n",
    "driver.execute_script('window.scroll(0, document.body.scrollHeight-2000)')\n",
    "\n",
    "# Powtarzanie procesu 10 razy\n",
    "for i in range(10):\n",
    "    load_more_button = driver.find_element(By.CLASS_NAME, '_2tkiJ4VfEdI9kq1agjZyNz.Focusable')\n",
    "    load_more_button.click()\n",
    "    driver.execute_script('window.scroll(0, document.body.scrollHeight-2000)')\n",
    "    time.sleep(2)\n",
    "\n",
    "\n",
    "data = GetTitlesWithDetails()"
   ]
  },
  {
   "cell_type": "code",
   "execution_count": 12,
   "metadata": {},
   "outputs": [],
   "source": [
    "# Zamknięcie drivera\n",
    "driver.quit()"
   ]
  },
  {
   "cell_type": "code",
   "execution_count": 13,
   "metadata": {},
   "outputs": [],
   "source": [
    "import pandas as pd\n",
    "import numpy as np\n",
    "\n",
    "def clean_data(df):\n",
    "    # 1. Konwersja ceny\n",
    "    def clean_price(price):\n",
    "        try:\n",
    "            if \"Free to Play\" in price:\n",
    "                return 0.0\n",
    "            return float(price.replace(' zł', '').replace(',', '.'))\n",
    "        except:\n",
    "            return np.nan\n",
    "\n",
    "    df['Cena'] = df['Cena'].apply(clean_price)\n",
    "\n",
    "    # 2. Konwersja liczby recenzji\n",
    "    def clean_reviews(reviews):\n",
    "        try:\n",
    "            return int(reviews.replace('Recenzje użytkowników: ', '').replace(' ', ''))\n",
    "        except:\n",
    "            return np.nan\n",
    "\n",
    "    df['Liczba recenzji'] = df['Liczba recenzji'].apply(clean_reviews)\n",
    "\n",
    "    # 3. Konwersja daty wydania\n",
    "    polish_months = {\n",
    "        'STY': 'Jan', 'LUT': 'Feb', 'MAR': 'Mar', 'KWI': 'Apr', 'MAJ': 'May', 'CZE': 'Jun',\n",
    "        'LIP': 'Jul', 'SIE': 'Aug', 'WRZ': 'Sep', 'PAŹ': 'Oct', 'LIS': 'Nov', 'GRU': 'Dec'\n",
    "    }\n",
    "\n",
    "    def clean_date(date):\n",
    "        if pd.isna(date):\n",
    "            return np.nan\n",
    "        for pl, en in polish_months.items():\n",
    "            date = date.replace(pl, en)\n",
    "        try:\n",
    "            return pd.to_datetime(date, format='%d %b %Y')\n",
    "        except:\n",
    "            return np.nan\n",
    "\n",
    "    df['Data wydania'] = df['Data wydania'].apply(clean_date)\n",
    "\n",
    "    # 4. Rozbicie tagów na kolumny (one-hot encoding)\n",
    "    def split_tags(tags):\n",
    "        return tags.split(', ') if isinstance(tags, str) else []\n",
    "\n",
    "    # Przygotowanie unikalnych tagów\n",
    "    all_tags = sorted(set(tag for tags in df['Tagi'].apply(split_tags) for tag in tags))\n",
    "    \n",
    "    # Tworzenie macierzy tagów (one-hot encoding)\n",
    "    tags_matrix = pd.DataFrame(\n",
    "        {\n",
    "            f'Tag_{tag}': df['Tagi'].apply(lambda tags: 1 if tag in split_tags(tags) else 0)\n",
    "            for tag in all_tags\n",
    "        }\n",
    "    )\n",
    "    \n",
    "    # Łączenie oryginalnego DataFrame z macierzą tagów\n",
    "    df = pd.concat([df.reset_index(drop=True), tags_matrix.reset_index(drop=True)], axis=1)\n",
    "\n",
    "    # Usuwanie potencjalnych braków danych (przykład)\n",
    "    df.dropna(subset=['Cena', 'Liczba recenzji', 'Data wydania'], inplace=True)\n",
    "\n",
    "    return df\n"
   ]
  },
  {
   "cell_type": "code",
   "execution_count": 15,
   "metadata": {},
   "outputs": [
    {
     "data": {
      "text/html": [
       "<div>\n",
       "<style scoped>\n",
       "    .dataframe tbody tr th:only-of-type {\n",
       "        vertical-align: middle;\n",
       "    }\n",
       "\n",
       "    .dataframe tbody tr th {\n",
       "        vertical-align: top;\n",
       "    }\n",
       "\n",
       "    .dataframe thead th {\n",
       "        text-align: right;\n",
       "    }\n",
       "</style>\n",
       "<table border=\"1\" class=\"dataframe\">\n",
       "  <thead>\n",
       "    <tr style=\"text-align: right;\">\n",
       "      <th></th>\n",
       "      <th>Tytuł</th>\n",
       "      <th>Tagi</th>\n",
       "      <th>Cena</th>\n",
       "      <th>Data wydania</th>\n",
       "      <th>Nacechowanie recenzji</th>\n",
       "      <th>Liczba recenzji</th>\n",
       "      <th>Tag_2,5D</th>\n",
       "      <th>Tag_2D</th>\n",
       "      <th>Tag_3D</th>\n",
       "      <th>Tag_4X</th>\n",
       "      <th>...</th>\n",
       "      <th>Tag_Zespołowe</th>\n",
       "      <th>Tag_Znaczące wybory</th>\n",
       "      <th>Tag_Zombie</th>\n",
       "      <th>Tag_Zręcznościowe</th>\n",
       "      <th>Tag_Zły protagonista</th>\n",
       "      <th>Tag_Łamigłówki</th>\n",
       "      <th>Tag_Łamigłówki platformowe</th>\n",
       "      <th>Tag_Łupy</th>\n",
       "      <th>Tag_Świetna ścieżka dźwiękowa</th>\n",
       "      <th>Tag_Żeńska postać w roli głównej</th>\n",
       "    </tr>\n",
       "  </thead>\n",
       "  <tbody>\n",
       "    <tr>\n",
       "      <th>0</th>\n",
       "      <td>Marvel Rivals</td>\n",
       "      <td>Free to Play, Wieloosobowe, Strzelanka z bohat...</td>\n",
       "      <td>0.00</td>\n",
       "      <td>2024-12-06</td>\n",
       "      <td>Bardzo pozytywne</td>\n",
       "      <td>182553</td>\n",
       "      <td>0</td>\n",
       "      <td>0</td>\n",
       "      <td>0</td>\n",
       "      <td>0</td>\n",
       "      <td>...</td>\n",
       "      <td>0</td>\n",
       "      <td>0</td>\n",
       "      <td>0</td>\n",
       "      <td>0</td>\n",
       "      <td>0</td>\n",
       "      <td>0</td>\n",
       "      <td>0</td>\n",
       "      <td>0</td>\n",
       "      <td>0</td>\n",
       "      <td>0</td>\n",
       "    </tr>\n",
       "    <tr>\n",
       "      <th>1</th>\n",
       "      <td>Subnautica</td>\n",
       "      <td>Survivalowe w otwartym świecie, Survival, Horr...</td>\n",
       "      <td>45.86</td>\n",
       "      <td>2018-01-24</td>\n",
       "      <td>Przytłaczająco pozytywne</td>\n",
       "      <td>270717</td>\n",
       "      <td>0</td>\n",
       "      <td>0</td>\n",
       "      <td>0</td>\n",
       "      <td>0</td>\n",
       "      <td>...</td>\n",
       "      <td>0</td>\n",
       "      <td>0</td>\n",
       "      <td>0</td>\n",
       "      <td>0</td>\n",
       "      <td>0</td>\n",
       "      <td>0</td>\n",
       "      <td>0</td>\n",
       "      <td>0</td>\n",
       "      <td>0</td>\n",
       "      <td>0</td>\n",
       "    </tr>\n",
       "    <tr>\n",
       "      <th>2</th>\n",
       "      <td>DOOM Eternal</td>\n",
       "      <td>FPS, Akcja, Brutalność, Świetna ścieżka dźwięk...</td>\n",
       "      <td>42.25</td>\n",
       "      <td>2020-03-20</td>\n",
       "      <td>Bardzo pozytywne</td>\n",
       "      <td>169843</td>\n",
       "      <td>0</td>\n",
       "      <td>0</td>\n",
       "      <td>0</td>\n",
       "      <td>0</td>\n",
       "      <td>...</td>\n",
       "      <td>0</td>\n",
       "      <td>0</td>\n",
       "      <td>0</td>\n",
       "      <td>0</td>\n",
       "      <td>0</td>\n",
       "      <td>0</td>\n",
       "      <td>0</td>\n",
       "      <td>0</td>\n",
       "      <td>1</td>\n",
       "      <td>0</td>\n",
       "    </tr>\n",
       "    <tr>\n",
       "      <th>3</th>\n",
       "      <td>Subnautica: Below Zero</td>\n",
       "      <td>Survivalowe w otwartym świecie, Survival, Podw...</td>\n",
       "      <td>45.86</td>\n",
       "      <td>2021-05-14</td>\n",
       "      <td>Bardzo pozytywne</td>\n",
       "      <td>86065</td>\n",
       "      <td>0</td>\n",
       "      <td>0</td>\n",
       "      <td>0</td>\n",
       "      <td>0</td>\n",
       "      <td>...</td>\n",
       "      <td>0</td>\n",
       "      <td>0</td>\n",
       "      <td>0</td>\n",
       "      <td>0</td>\n",
       "      <td>0</td>\n",
       "      <td>0</td>\n",
       "      <td>0</td>\n",
       "      <td>0</td>\n",
       "      <td>0</td>\n",
       "      <td>0</td>\n",
       "    </tr>\n",
       "    <tr>\n",
       "      <th>5</th>\n",
       "      <td>Cyberpunk 2077</td>\n",
       "      <td>Cyberpunk, Otwarty świat, Nagość, RPG, Jednoos...</td>\n",
       "      <td>199.00</td>\n",
       "      <td>2020-12-10</td>\n",
       "      <td>Bardzo pozytywne</td>\n",
       "      <td>715753</td>\n",
       "      <td>0</td>\n",
       "      <td>0</td>\n",
       "      <td>0</td>\n",
       "      <td>0</td>\n",
       "      <td>...</td>\n",
       "      <td>0</td>\n",
       "      <td>0</td>\n",
       "      <td>0</td>\n",
       "      <td>0</td>\n",
       "      <td>0</td>\n",
       "      <td>0</td>\n",
       "      <td>0</td>\n",
       "      <td>0</td>\n",
       "      <td>0</td>\n",
       "      <td>0</td>\n",
       "    </tr>\n",
       "    <tr>\n",
       "      <th>...</th>\n",
       "      <td>...</td>\n",
       "      <td>...</td>\n",
       "      <td>...</td>\n",
       "      <td>...</td>\n",
       "      <td>...</td>\n",
       "      <td>...</td>\n",
       "      <td>...</td>\n",
       "      <td>...</td>\n",
       "      <td>...</td>\n",
       "      <td>...</td>\n",
       "      <td>...</td>\n",
       "      <td>...</td>\n",
       "      <td>...</td>\n",
       "      <td>...</td>\n",
       "      <td>...</td>\n",
       "      <td>...</td>\n",
       "      <td>...</td>\n",
       "      <td>...</td>\n",
       "      <td>...</td>\n",
       "      <td>...</td>\n",
       "      <td>...</td>\n",
       "    </tr>\n",
       "    <tr>\n",
       "      <th>427</th>\n",
       "      <td>The Leviathan's fantasy</td>\n",
       "      <td>Symulatory, Strategiczne, Gra w boga, RTS, Bud...</td>\n",
       "      <td>24.41</td>\n",
       "      <td>2025-01-11</td>\n",
       "      <td>W większości pozytywne</td>\n",
       "      <td>52</td>\n",
       "      <td>0</td>\n",
       "      <td>0</td>\n",
       "      <td>0</td>\n",
       "      <td>0</td>\n",
       "      <td>...</td>\n",
       "      <td>0</td>\n",
       "      <td>0</td>\n",
       "      <td>0</td>\n",
       "      <td>0</td>\n",
       "      <td>0</td>\n",
       "      <td>0</td>\n",
       "      <td>0</td>\n",
       "      <td>0</td>\n",
       "      <td>0</td>\n",
       "      <td>0</td>\n",
       "    </tr>\n",
       "    <tr>\n",
       "      <th>428</th>\n",
       "      <td>Generation Zero®</td>\n",
       "      <td>Otwarty świat, Survival, FPS, Kooperacja, Budo...</td>\n",
       "      <td>99.99</td>\n",
       "      <td>2019-03-26</td>\n",
       "      <td>W większości pozytywne</td>\n",
       "      <td>27375</td>\n",
       "      <td>0</td>\n",
       "      <td>0</td>\n",
       "      <td>0</td>\n",
       "      <td>0</td>\n",
       "      <td>...</td>\n",
       "      <td>0</td>\n",
       "      <td>0</td>\n",
       "      <td>0</td>\n",
       "      <td>0</td>\n",
       "      <td>0</td>\n",
       "      <td>0</td>\n",
       "      <td>0</td>\n",
       "      <td>0</td>\n",
       "      <td>0</td>\n",
       "      <td>0</td>\n",
       "    </tr>\n",
       "    <tr>\n",
       "      <th>429</th>\n",
       "      <td>Azure Striker GUNVOLT 3</td>\n",
       "      <td>Akcja, Platformowe, Przygodowe, Platformowe 2D...</td>\n",
       "      <td>46.80</td>\n",
       "      <td>2022-10-13</td>\n",
       "      <td>Bardzo pozytywne</td>\n",
       "      <td>369</td>\n",
       "      <td>0</td>\n",
       "      <td>0</td>\n",
       "      <td>0</td>\n",
       "      <td>0</td>\n",
       "      <td>...</td>\n",
       "      <td>0</td>\n",
       "      <td>0</td>\n",
       "      <td>0</td>\n",
       "      <td>0</td>\n",
       "      <td>0</td>\n",
       "      <td>0</td>\n",
       "      <td>0</td>\n",
       "      <td>0</td>\n",
       "      <td>0</td>\n",
       "      <td>0</td>\n",
       "    </tr>\n",
       "    <tr>\n",
       "      <th>430</th>\n",
       "      <td>Uplink</td>\n",
       "      <td>Hakowanie, Niezależne, Strategiczne, Jednoosob...</td>\n",
       "      <td>36.79</td>\n",
       "      <td>2006-08-23</td>\n",
       "      <td>Bardzo pozytywne</td>\n",
       "      <td>1692</td>\n",
       "      <td>0</td>\n",
       "      <td>0</td>\n",
       "      <td>0</td>\n",
       "      <td>0</td>\n",
       "      <td>...</td>\n",
       "      <td>0</td>\n",
       "      <td>0</td>\n",
       "      <td>0</td>\n",
       "      <td>0</td>\n",
       "      <td>0</td>\n",
       "      <td>0</td>\n",
       "      <td>0</td>\n",
       "      <td>0</td>\n",
       "      <td>0</td>\n",
       "      <td>0</td>\n",
       "    </tr>\n",
       "    <tr>\n",
       "      <th>431</th>\n",
       "      <td>Avorion</td>\n",
       "      <td>Eksploracja, Piaskownica, Symulator kosmiczny,...</td>\n",
       "      <td>114.99</td>\n",
       "      <td>2020-03-09</td>\n",
       "      <td>Bardzo pozytywne</td>\n",
       "      <td>11923</td>\n",
       "      <td>0</td>\n",
       "      <td>0</td>\n",
       "      <td>0</td>\n",
       "      <td>0</td>\n",
       "      <td>...</td>\n",
       "      <td>0</td>\n",
       "      <td>0</td>\n",
       "      <td>0</td>\n",
       "      <td>0</td>\n",
       "      <td>0</td>\n",
       "      <td>0</td>\n",
       "      <td>0</td>\n",
       "      <td>0</td>\n",
       "      <td>0</td>\n",
       "      <td>0</td>\n",
       "    </tr>\n",
       "  </tbody>\n",
       "</table>\n",
       "<p>419 rows × 246 columns</p>\n",
       "</div>"
      ],
      "text/plain": [
       "                       Tytuł  \\\n",
       "0              Marvel Rivals   \n",
       "1                 Subnautica   \n",
       "2               DOOM Eternal   \n",
       "3     Subnautica: Below Zero   \n",
       "5             Cyberpunk 2077   \n",
       "..                       ...   \n",
       "427  The Leviathan's fantasy   \n",
       "428         Generation Zero®   \n",
       "429  Azure Striker GUNVOLT 3   \n",
       "430                   Uplink   \n",
       "431                  Avorion   \n",
       "\n",
       "                                                  Tagi    Cena Data wydania  \\\n",
       "0    Free to Play, Wieloosobowe, Strzelanka z bohat...    0.00   2024-12-06   \n",
       "1    Survivalowe w otwartym świecie, Survival, Horr...   45.86   2018-01-24   \n",
       "2    FPS, Akcja, Brutalność, Świetna ścieżka dźwięk...   42.25   2020-03-20   \n",
       "3    Survivalowe w otwartym świecie, Survival, Podw...   45.86   2021-05-14   \n",
       "5    Cyberpunk, Otwarty świat, Nagość, RPG, Jednoos...  199.00   2020-12-10   \n",
       "..                                                 ...     ...          ...   \n",
       "427  Symulatory, Strategiczne, Gra w boga, RTS, Bud...   24.41   2025-01-11   \n",
       "428  Otwarty świat, Survival, FPS, Kooperacja, Budo...   99.99   2019-03-26   \n",
       "429  Akcja, Platformowe, Przygodowe, Platformowe 2D...   46.80   2022-10-13   \n",
       "430  Hakowanie, Niezależne, Strategiczne, Jednoosob...   36.79   2006-08-23   \n",
       "431  Eksploracja, Piaskownica, Symulator kosmiczny,...  114.99   2020-03-09   \n",
       "\n",
       "        Nacechowanie recenzji  Liczba recenzji  Tag_2,5D  Tag_2D  Tag_3D  \\\n",
       "0            Bardzo pozytywne           182553         0       0       0   \n",
       "1    Przytłaczająco pozytywne           270717         0       0       0   \n",
       "2            Bardzo pozytywne           169843         0       0       0   \n",
       "3            Bardzo pozytywne            86065         0       0       0   \n",
       "5            Bardzo pozytywne           715753         0       0       0   \n",
       "..                        ...              ...       ...     ...     ...   \n",
       "427    W większości pozytywne               52         0       0       0   \n",
       "428    W większości pozytywne            27375         0       0       0   \n",
       "429          Bardzo pozytywne              369         0       0       0   \n",
       "430          Bardzo pozytywne             1692         0       0       0   \n",
       "431          Bardzo pozytywne            11923         0       0       0   \n",
       "\n",
       "     Tag_4X  ...  Tag_Zespołowe  Tag_Znaczące wybory  Tag_Zombie  \\\n",
       "0         0  ...              0                    0           0   \n",
       "1         0  ...              0                    0           0   \n",
       "2         0  ...              0                    0           0   \n",
       "3         0  ...              0                    0           0   \n",
       "5         0  ...              0                    0           0   \n",
       "..      ...  ...            ...                  ...         ...   \n",
       "427       0  ...              0                    0           0   \n",
       "428       0  ...              0                    0           0   \n",
       "429       0  ...              0                    0           0   \n",
       "430       0  ...              0                    0           0   \n",
       "431       0  ...              0                    0           0   \n",
       "\n",
       "     Tag_Zręcznościowe  Tag_Zły protagonista  Tag_Łamigłówki  \\\n",
       "0                    0                     0               0   \n",
       "1                    0                     0               0   \n",
       "2                    0                     0               0   \n",
       "3                    0                     0               0   \n",
       "5                    0                     0               0   \n",
       "..                 ...                   ...             ...   \n",
       "427                  0                     0               0   \n",
       "428                  0                     0               0   \n",
       "429                  0                     0               0   \n",
       "430                  0                     0               0   \n",
       "431                  0                     0               0   \n",
       "\n",
       "     Tag_Łamigłówki platformowe  Tag_Łupy  Tag_Świetna ścieżka dźwiękowa  \\\n",
       "0                             0         0                              0   \n",
       "1                             0         0                              0   \n",
       "2                             0         0                              1   \n",
       "3                             0         0                              0   \n",
       "5                             0         0                              0   \n",
       "..                          ...       ...                            ...   \n",
       "427                           0         0                              0   \n",
       "428                           0         0                              0   \n",
       "429                           0         0                              0   \n",
       "430                           0         0                              0   \n",
       "431                           0         0                              0   \n",
       "\n",
       "     Tag_Żeńska postać w roli głównej  \n",
       "0                                   0  \n",
       "1                                   0  \n",
       "2                                   0  \n",
       "3                                   0  \n",
       "5                                   0  \n",
       "..                                ...  \n",
       "427                                 0  \n",
       "428                                 0  \n",
       "429                                 0  \n",
       "430                                 0  \n",
       "431                                 0  \n",
       "\n",
       "[419 rows x 246 columns]"
      ]
     },
     "metadata": {},
     "output_type": "display_data"
    }
   ],
   "source": [
    "display(df)"
   ]
  },
  {
   "cell_type": "code",
   "execution_count": 14,
   "metadata": {},
   "outputs": [],
   "source": [
    "import pandas as pd\n",
    "\n",
    "# Dane wejściowe\n",
    "df = pd.DataFrame(data)\n",
    "\n",
    "# Przetwarzanie danych\n",
    "df = clean_data(df)\n"
   ]
  },
  {
   "cell_type": "code",
   "execution_count": 16,
   "metadata": {},
   "outputs": [],
   "source": [
    "import pandas as pd\n",
    "import numpy as np\n",
    "from scipy.stats import chi2_contingency\n",
    "import plotly.express as px\n",
    "\n",
    "def analyze_data(df):\n",
    "    # 1. Tworzenie tabeli krzyżowej tagów\n",
    "    def create_crosstab(df):\n",
    "        all_tags = [tag for tags in df['tags'] for tag in tags]  # Zbiór wszystkich tagów\n",
    "        unique_tags = sorted(set(all_tags))  # Unikalne tagi\n",
    "        \n",
    "        # Tworzenie macierzy obecności tagów\n",
    "        tag_matrix = pd.DataFrame(0, index=unique_tags, columns=unique_tags)\n",
    "        for tags in df['tags']:\n",
    "            for tag1 in tags:\n",
    "                for tag2 in tags:\n",
    "                    if tag1 != tag2:  # Ignorujemy współwystępowanie z samym sobą\n",
    "                        tag_matrix.loc[tag1, tag2] += 1\n",
    "        \n",
    "        return tag_matrix\n",
    "\n",
    "    # 2. Test chi-kwadrat na współwystępowanie tagów\n",
    "    def chi_square_analysis(tag_matrix):\n",
    "        chi2_results = []\n",
    "        for tag1 in tag_matrix.index:\n",
    "            for tag2 in tag_matrix.columns:\n",
    "                if tag1 != tag2:  # Test tylko dla różnych tagów\n",
    "                    obs = [[tag_matrix.loc[tag1, tag2], tag_matrix.loc[tag2, tag1]],\n",
    "                           [sum(tag_matrix.loc[tag1, :]), sum(tag_matrix.loc[:, tag2])]]\n",
    "                    _, p, _, _ = chi2_contingency(obs)\n",
    "                    chi2_results.append((tag1, tag2, p))\n",
    "        \n",
    "        return pd.DataFrame(chi2_results, columns=['Tag1', 'Tag2', 'P-value']).sort_values('P-value')\n",
    "\n",
    "    # 3. Analiza wpływu tagów na ceny\n",
    "    def tag_price_analysis(df):\n",
    "        tag_price_data = []\n",
    "        for tag in sorted(set(tag for tags in df['tags'] for tag in tags)):\n",
    "            filtered = df[df['tags'].apply(lambda tags: tag in tags)]\n",
    "            avg_price = filtered['price'].mean()\n",
    "            tag_price_data.append({'Tag': tag, 'Average Price': avg_price})\n",
    "        \n",
    "        return pd.DataFrame(tag_price_data).sort_values('Average Price', ascending=False)\n",
    "\n",
    "    # Tworzenie tabeli krzyżowej tagów\n",
    "    tag_matrix = create_crosstab(df)\n",
    "    print(\"Tabela krzyżowa tagów:\\n\", tag_matrix)\n",
    "\n",
    "    # Analiza współwystępowania tagów z testem chi-kwadrat\n",
    "    #chi2_results = chi_square_analysis(tag_matrix)\n",
    "    #print(\"Wyniki testu chi-kwadrat:\\n\", chi2_results.head(10))\n",
    "\n",
    "    # Analiza wpływu tagów na ceny\n",
    "    tag_price_df = tag_price_analysis(df)\n",
    "    print(\"Średnia cena dla poszczególnych tagów:\\n\", tag_price_df)\n",
    "\n",
    "    # Wizualizacja danych\n",
    "    fig1 = px.imshow(tag_matrix, text_auto=True, title=\"Współwystępowanie tagów (Tabela krzyżowa)\")\n",
    "    fig2 = px.bar(tag_price_df, x='Tag', y='Average Price', title=\"Średnia cena w zależności od tagu\", labels={'Tag': 'Tag', 'Average Price': 'Średnia cena'})\n",
    "    \n",
    "    fig1.show()\n",
    "    fig2.show()\n",
    "\n",
    "    return {\n",
    "        \"tag_matrix\": tag_matrix,\n",
    "        #\"chi2_results\": chi2_results,\n",
    "        \"tag_price_analysis\": tag_price_df\n",
    "    }\n"
   ]
  },
  {
   "cell_type": "code",
   "execution_count": null,
   "metadata": {},
   "outputs": [],
   "source": [
    "# Analiza\n",
    "analyze_data(df)\n"
   ]
  },
  {
   "cell_type": "code",
   "execution_count": 17,
   "metadata": {},
   "outputs": [
    {
     "data": {
      "application/vnd.plotly.v1+json": {
       "config": {
        "plotlyServerURL": "https://plot.ly"
       },
       "data": [
        {
         "domain": {
          "x": [
           0,
           1
          ],
          "y": [
           0,
           1
          ]
         },
         "hovertemplate": "Tag=%{label}<br>Count=%{value}<extra></extra>",
         "labels": [
          "Akcja",
          "Strategiczne",
          "Wieloosobowe",
          "Jednoosobowe",
          "Otwarty świat",
          "Science fiction",
          "FPS",
          "Przygodowe",
          "Survival",
          "RPG",
          "Bogata fabuła",
          "Kosmos",
          "Strzelanka",
          "Symulatory",
          "Budowanie bazy",
          "RTS",
          "Postapokaliptyczne",
          "Eksploracja",
          "Kooperacja",
          "Piaskownica",
          "Zombie",
          "Niezależne",
          "Klimatyczne",
          "Free to Play",
          "Łamigłówki",
          "Other"
         ],
         "legendgroup": "",
         "name": "",
         "showlegend": true,
         "type": "pie",
         "values": [
          97,
          84,
          65,
          63,
          62,
          62,
          61,
          60,
          52,
          48,
          48,
          45,
          45,
          35,
          34,
          34,
          33,
          32,
          28,
          28,
          26,
          26,
          22,
          21,
          21,
          963
         ]
        }
       ],
       "layout": {
        "legend": {
         "tracegroupgap": 0
        },
        "piecolorway": [
         "rgb(102, 197, 204)",
         "rgb(246, 207, 113)",
         "rgb(248, 156, 116)",
         "rgb(220, 176, 242)",
         "rgb(135, 197, 95)",
         "rgb(158, 185, 243)",
         "rgb(254, 136, 177)",
         "rgb(201, 219, 116)",
         "rgb(139, 224, 164)",
         "rgb(180, 151, 231)",
         "rgb(179, 179, 179)"
        ],
        "template": {
         "data": {
          "bar": [
           {
            "error_x": {
             "color": "#2a3f5f"
            },
            "error_y": {
             "color": "#2a3f5f"
            },
            "marker": {
             "line": {
              "color": "#E5ECF6",
              "width": 0.5
             },
             "pattern": {
              "fillmode": "overlay",
              "size": 10,
              "solidity": 0.2
             }
            },
            "type": "bar"
           }
          ],
          "barpolar": [
           {
            "marker": {
             "line": {
              "color": "#E5ECF6",
              "width": 0.5
             },
             "pattern": {
              "fillmode": "overlay",
              "size": 10,
              "solidity": 0.2
             }
            },
            "type": "barpolar"
           }
          ],
          "carpet": [
           {
            "aaxis": {
             "endlinecolor": "#2a3f5f",
             "gridcolor": "white",
             "linecolor": "white",
             "minorgridcolor": "white",
             "startlinecolor": "#2a3f5f"
            },
            "baxis": {
             "endlinecolor": "#2a3f5f",
             "gridcolor": "white",
             "linecolor": "white",
             "minorgridcolor": "white",
             "startlinecolor": "#2a3f5f"
            },
            "type": "carpet"
           }
          ],
          "choropleth": [
           {
            "colorbar": {
             "outlinewidth": 0,
             "ticks": ""
            },
            "type": "choropleth"
           }
          ],
          "contour": [
           {
            "colorbar": {
             "outlinewidth": 0,
             "ticks": ""
            },
            "colorscale": [
             [
              0,
              "#0d0887"
             ],
             [
              0.1111111111111111,
              "#46039f"
             ],
             [
              0.2222222222222222,
              "#7201a8"
             ],
             [
              0.3333333333333333,
              "#9c179e"
             ],
             [
              0.4444444444444444,
              "#bd3786"
             ],
             [
              0.5555555555555556,
              "#d8576b"
             ],
             [
              0.6666666666666666,
              "#ed7953"
             ],
             [
              0.7777777777777778,
              "#fb9f3a"
             ],
             [
              0.8888888888888888,
              "#fdca26"
             ],
             [
              1,
              "#f0f921"
             ]
            ],
            "type": "contour"
           }
          ],
          "contourcarpet": [
           {
            "colorbar": {
             "outlinewidth": 0,
             "ticks": ""
            },
            "type": "contourcarpet"
           }
          ],
          "heatmap": [
           {
            "colorbar": {
             "outlinewidth": 0,
             "ticks": ""
            },
            "colorscale": [
             [
              0,
              "#0d0887"
             ],
             [
              0.1111111111111111,
              "#46039f"
             ],
             [
              0.2222222222222222,
              "#7201a8"
             ],
             [
              0.3333333333333333,
              "#9c179e"
             ],
             [
              0.4444444444444444,
              "#bd3786"
             ],
             [
              0.5555555555555556,
              "#d8576b"
             ],
             [
              0.6666666666666666,
              "#ed7953"
             ],
             [
              0.7777777777777778,
              "#fb9f3a"
             ],
             [
              0.8888888888888888,
              "#fdca26"
             ],
             [
              1,
              "#f0f921"
             ]
            ],
            "type": "heatmap"
           }
          ],
          "heatmapgl": [
           {
            "colorbar": {
             "outlinewidth": 0,
             "ticks": ""
            },
            "colorscale": [
             [
              0,
              "#0d0887"
             ],
             [
              0.1111111111111111,
              "#46039f"
             ],
             [
              0.2222222222222222,
              "#7201a8"
             ],
             [
              0.3333333333333333,
              "#9c179e"
             ],
             [
              0.4444444444444444,
              "#bd3786"
             ],
             [
              0.5555555555555556,
              "#d8576b"
             ],
             [
              0.6666666666666666,
              "#ed7953"
             ],
             [
              0.7777777777777778,
              "#fb9f3a"
             ],
             [
              0.8888888888888888,
              "#fdca26"
             ],
             [
              1,
              "#f0f921"
             ]
            ],
            "type": "heatmapgl"
           }
          ],
          "histogram": [
           {
            "marker": {
             "pattern": {
              "fillmode": "overlay",
              "size": 10,
              "solidity": 0.2
             }
            },
            "type": "histogram"
           }
          ],
          "histogram2d": [
           {
            "colorbar": {
             "outlinewidth": 0,
             "ticks": ""
            },
            "colorscale": [
             [
              0,
              "#0d0887"
             ],
             [
              0.1111111111111111,
              "#46039f"
             ],
             [
              0.2222222222222222,
              "#7201a8"
             ],
             [
              0.3333333333333333,
              "#9c179e"
             ],
             [
              0.4444444444444444,
              "#bd3786"
             ],
             [
              0.5555555555555556,
              "#d8576b"
             ],
             [
              0.6666666666666666,
              "#ed7953"
             ],
             [
              0.7777777777777778,
              "#fb9f3a"
             ],
             [
              0.8888888888888888,
              "#fdca26"
             ],
             [
              1,
              "#f0f921"
             ]
            ],
            "type": "histogram2d"
           }
          ],
          "histogram2dcontour": [
           {
            "colorbar": {
             "outlinewidth": 0,
             "ticks": ""
            },
            "colorscale": [
             [
              0,
              "#0d0887"
             ],
             [
              0.1111111111111111,
              "#46039f"
             ],
             [
              0.2222222222222222,
              "#7201a8"
             ],
             [
              0.3333333333333333,
              "#9c179e"
             ],
             [
              0.4444444444444444,
              "#bd3786"
             ],
             [
              0.5555555555555556,
              "#d8576b"
             ],
             [
              0.6666666666666666,
              "#ed7953"
             ],
             [
              0.7777777777777778,
              "#fb9f3a"
             ],
             [
              0.8888888888888888,
              "#fdca26"
             ],
             [
              1,
              "#f0f921"
             ]
            ],
            "type": "histogram2dcontour"
           }
          ],
          "mesh3d": [
           {
            "colorbar": {
             "outlinewidth": 0,
             "ticks": ""
            },
            "type": "mesh3d"
           }
          ],
          "parcoords": [
           {
            "line": {
             "colorbar": {
              "outlinewidth": 0,
              "ticks": ""
             }
            },
            "type": "parcoords"
           }
          ],
          "pie": [
           {
            "automargin": true,
            "type": "pie"
           }
          ],
          "scatter": [
           {
            "fillpattern": {
             "fillmode": "overlay",
             "size": 10,
             "solidity": 0.2
            },
            "type": "scatter"
           }
          ],
          "scatter3d": [
           {
            "line": {
             "colorbar": {
              "outlinewidth": 0,
              "ticks": ""
             }
            },
            "marker": {
             "colorbar": {
              "outlinewidth": 0,
              "ticks": ""
             }
            },
            "type": "scatter3d"
           }
          ],
          "scattercarpet": [
           {
            "marker": {
             "colorbar": {
              "outlinewidth": 0,
              "ticks": ""
             }
            },
            "type": "scattercarpet"
           }
          ],
          "scattergeo": [
           {
            "marker": {
             "colorbar": {
              "outlinewidth": 0,
              "ticks": ""
             }
            },
            "type": "scattergeo"
           }
          ],
          "scattergl": [
           {
            "marker": {
             "colorbar": {
              "outlinewidth": 0,
              "ticks": ""
             }
            },
            "type": "scattergl"
           }
          ],
          "scattermapbox": [
           {
            "marker": {
             "colorbar": {
              "outlinewidth": 0,
              "ticks": ""
             }
            },
            "type": "scattermapbox"
           }
          ],
          "scatterpolar": [
           {
            "marker": {
             "colorbar": {
              "outlinewidth": 0,
              "ticks": ""
             }
            },
            "type": "scatterpolar"
           }
          ],
          "scatterpolargl": [
           {
            "marker": {
             "colorbar": {
              "outlinewidth": 0,
              "ticks": ""
             }
            },
            "type": "scatterpolargl"
           }
          ],
          "scatterternary": [
           {
            "marker": {
             "colorbar": {
              "outlinewidth": 0,
              "ticks": ""
             }
            },
            "type": "scatterternary"
           }
          ],
          "surface": [
           {
            "colorbar": {
             "outlinewidth": 0,
             "ticks": ""
            },
            "colorscale": [
             [
              0,
              "#0d0887"
             ],
             [
              0.1111111111111111,
              "#46039f"
             ],
             [
              0.2222222222222222,
              "#7201a8"
             ],
             [
              0.3333333333333333,
              "#9c179e"
             ],
             [
              0.4444444444444444,
              "#bd3786"
             ],
             [
              0.5555555555555556,
              "#d8576b"
             ],
             [
              0.6666666666666666,
              "#ed7953"
             ],
             [
              0.7777777777777778,
              "#fb9f3a"
             ],
             [
              0.8888888888888888,
              "#fdca26"
             ],
             [
              1,
              "#f0f921"
             ]
            ],
            "type": "surface"
           }
          ],
          "table": [
           {
            "cells": {
             "fill": {
              "color": "#EBF0F8"
             },
             "line": {
              "color": "white"
             }
            },
            "header": {
             "fill": {
              "color": "#C8D4E3"
             },
             "line": {
              "color": "white"
             }
            },
            "type": "table"
           }
          ]
         },
         "layout": {
          "annotationdefaults": {
           "arrowcolor": "#2a3f5f",
           "arrowhead": 0,
           "arrowwidth": 1
          },
          "autotypenumbers": "strict",
          "coloraxis": {
           "colorbar": {
            "outlinewidth": 0,
            "ticks": ""
           }
          },
          "colorscale": {
           "diverging": [
            [
             0,
             "#8e0152"
            ],
            [
             0.1,
             "#c51b7d"
            ],
            [
             0.2,
             "#de77ae"
            ],
            [
             0.3,
             "#f1b6da"
            ],
            [
             0.4,
             "#fde0ef"
            ],
            [
             0.5,
             "#f7f7f7"
            ],
            [
             0.6,
             "#e6f5d0"
            ],
            [
             0.7,
             "#b8e186"
            ],
            [
             0.8,
             "#7fbc41"
            ],
            [
             0.9,
             "#4d9221"
            ],
            [
             1,
             "#276419"
            ]
           ],
           "sequential": [
            [
             0,
             "#0d0887"
            ],
            [
             0.1111111111111111,
             "#46039f"
            ],
            [
             0.2222222222222222,
             "#7201a8"
            ],
            [
             0.3333333333333333,
             "#9c179e"
            ],
            [
             0.4444444444444444,
             "#bd3786"
            ],
            [
             0.5555555555555556,
             "#d8576b"
            ],
            [
             0.6666666666666666,
             "#ed7953"
            ],
            [
             0.7777777777777778,
             "#fb9f3a"
            ],
            [
             0.8888888888888888,
             "#fdca26"
            ],
            [
             1,
             "#f0f921"
            ]
           ],
           "sequentialminus": [
            [
             0,
             "#0d0887"
            ],
            [
             0.1111111111111111,
             "#46039f"
            ],
            [
             0.2222222222222222,
             "#7201a8"
            ],
            [
             0.3333333333333333,
             "#9c179e"
            ],
            [
             0.4444444444444444,
             "#bd3786"
            ],
            [
             0.5555555555555556,
             "#d8576b"
            ],
            [
             0.6666666666666666,
             "#ed7953"
            ],
            [
             0.7777777777777778,
             "#fb9f3a"
            ],
            [
             0.8888888888888888,
             "#fdca26"
            ],
            [
             1,
             "#f0f921"
            ]
           ]
          },
          "colorway": [
           "#636efa",
           "#EF553B",
           "#00cc96",
           "#ab63fa",
           "#FFA15A",
           "#19d3f3",
           "#FF6692",
           "#B6E880",
           "#FF97FF",
           "#FECB52"
          ],
          "font": {
           "color": "#2a3f5f"
          },
          "geo": {
           "bgcolor": "white",
           "lakecolor": "white",
           "landcolor": "#E5ECF6",
           "showlakes": true,
           "showland": true,
           "subunitcolor": "white"
          },
          "hoverlabel": {
           "align": "left"
          },
          "hovermode": "closest",
          "mapbox": {
           "style": "light"
          },
          "paper_bgcolor": "white",
          "plot_bgcolor": "#E5ECF6",
          "polar": {
           "angularaxis": {
            "gridcolor": "white",
            "linecolor": "white",
            "ticks": ""
           },
           "bgcolor": "#E5ECF6",
           "radialaxis": {
            "gridcolor": "white",
            "linecolor": "white",
            "ticks": ""
           }
          },
          "scene": {
           "xaxis": {
            "backgroundcolor": "#E5ECF6",
            "gridcolor": "white",
            "gridwidth": 2,
            "linecolor": "white",
            "showbackground": true,
            "ticks": "",
            "zerolinecolor": "white"
           },
           "yaxis": {
            "backgroundcolor": "#E5ECF6",
            "gridcolor": "white",
            "gridwidth": 2,
            "linecolor": "white",
            "showbackground": true,
            "ticks": "",
            "zerolinecolor": "white"
           },
           "zaxis": {
            "backgroundcolor": "#E5ECF6",
            "gridcolor": "white",
            "gridwidth": 2,
            "linecolor": "white",
            "showbackground": true,
            "ticks": "",
            "zerolinecolor": "white"
           }
          },
          "shapedefaults": {
           "line": {
            "color": "#2a3f5f"
           }
          },
          "ternary": {
           "aaxis": {
            "gridcolor": "white",
            "linecolor": "white",
            "ticks": ""
           },
           "baxis": {
            "gridcolor": "white",
            "linecolor": "white",
            "ticks": ""
           },
           "bgcolor": "#E5ECF6",
           "caxis": {
            "gridcolor": "white",
            "linecolor": "white",
            "ticks": ""
           }
          },
          "title": {
           "x": 0.05
          },
          "xaxis": {
           "automargin": true,
           "gridcolor": "white",
           "linecolor": "white",
           "ticks": "",
           "title": {
            "standoff": 15
           },
           "zerolinecolor": "white",
           "zerolinewidth": 2
          },
          "yaxis": {
           "automargin": true,
           "gridcolor": "white",
           "linecolor": "white",
           "ticks": "",
           "title": {
            "standoff": 15
           },
           "zerolinecolor": "white",
           "zerolinewidth": 2
          }
         }
        },
        "title": {
         "text": "Liczba gier per tag (z kategorią \"Other\")"
        }
       }
      }
     },
     "metadata": {},
     "output_type": "display_data"
    }
   ],
   "source": [
    "from collections import Counter\n",
    "import pandas as pd\n",
    "import plotly.express as px\n",
    "\n",
    "def prepare_pie_chart_data(df, top_n=25):\n",
    "    # Zliczanie wystąpień tagów\n",
    "    tags = df['Tagi'].apply(lambda x: x.split(', '))\n",
    "    tag_counts = Counter(tag for tag_list in tags for tag in tag_list)\n",
    "\n",
    "    # Podział na najpopularniejsze tagi i kategorię \"Other\"\n",
    "    top_tags = tag_counts.most_common(top_n)\n",
    "    other_count = sum(count for tag, count in tag_counts.items() if tag not in dict(top_tags))\n",
    "    \n",
    "    # Przygotowanie danych do DataFrame\n",
    "    pie_data = pd.DataFrame(top_tags, columns=['Tag', 'Count'])\n",
    "    if other_count > 0:\n",
    "        other_row = pd.DataFrame([{'Tag': 'Other', 'Count': other_count}])\n",
    "        pie_data = pd.concat([pie_data, other_row], ignore_index=True)\n",
    "    \n",
    "    return pie_data\n",
    "\n",
    "# Przygotowanie danych do wykresu\n",
    "pie_chart_data = prepare_pie_chart_data(df)\n",
    "\n",
    "# Wizualizacja\n",
    "fig = px.pie(pie_chart_data, names='Tag', values='Count',\n",
    "             title='Liczba gier per tag (z kategorią \"Other\")',\n",
    "             color_discrete_sequence=px.colors.qualitative.Pastel)\n",
    "fig.show()\n"
   ]
  },
  {
   "cell_type": "code",
   "execution_count": 18,
   "metadata": {},
   "outputs": [
    {
     "data": {
      "application/vnd.plotly.v1+json": {
       "config": {
        "plotlyServerURL": "https://plot.ly"
       },
       "data": [
        {
         "domain": {
          "x": [
           0,
           1
          ],
          "y": [
           0,
           1
          ]
         },
         "hovertemplate": "Tag=%{label}<br>Review Count=%{value}<extra></extra>",
         "labels": [
          "Wieloosobowe",
          "FPS",
          "Otwarty świat",
          "Survival",
          "Jednoosobowe",
          "Free to Play",
          "Strzelanka",
          "Akcja",
          "Zombie",
          "Kooperacja",
          "Sieciowa kooperacja",
          "Bogata fabuła",
          "Kosmos",
          "RPG",
          "Strzelanka z perspektywą trzeciej osoby",
          "Strategiczne",
          "Survivalowe w otwartym świecie",
          "Postapokaliptyczne",
          "Science fiction",
          "Horror",
          "Other"
         ],
         "legendgroup": "",
         "name": "",
         "showlegend": true,
         "type": "pie",
         "values": [
          7410892,
          5532683,
          4537845,
          3541519,
          3298186,
          3272910,
          2927927,
          2641587,
          2268684,
          2146812,
          2000384,
          1800049,
          1656965,
          1600489,
          1311310,
          1286515,
          1263927,
          1206343,
          1135334,
          1059455,
          28193764
         ]
        }
       ],
       "layout": {
        "legend": {
         "tracegroupgap": 0
        },
        "piecolorway": [
         "rgb(102, 197, 204)",
         "rgb(246, 207, 113)",
         "rgb(248, 156, 116)",
         "rgb(220, 176, 242)",
         "rgb(135, 197, 95)",
         "rgb(158, 185, 243)",
         "rgb(254, 136, 177)",
         "rgb(201, 219, 116)",
         "rgb(139, 224, 164)",
         "rgb(180, 151, 231)",
         "rgb(179, 179, 179)"
        ],
        "template": {
         "data": {
          "bar": [
           {
            "error_x": {
             "color": "#2a3f5f"
            },
            "error_y": {
             "color": "#2a3f5f"
            },
            "marker": {
             "line": {
              "color": "#E5ECF6",
              "width": 0.5
             },
             "pattern": {
              "fillmode": "overlay",
              "size": 10,
              "solidity": 0.2
             }
            },
            "type": "bar"
           }
          ],
          "barpolar": [
           {
            "marker": {
             "line": {
              "color": "#E5ECF6",
              "width": 0.5
             },
             "pattern": {
              "fillmode": "overlay",
              "size": 10,
              "solidity": 0.2
             }
            },
            "type": "barpolar"
           }
          ],
          "carpet": [
           {
            "aaxis": {
             "endlinecolor": "#2a3f5f",
             "gridcolor": "white",
             "linecolor": "white",
             "minorgridcolor": "white",
             "startlinecolor": "#2a3f5f"
            },
            "baxis": {
             "endlinecolor": "#2a3f5f",
             "gridcolor": "white",
             "linecolor": "white",
             "minorgridcolor": "white",
             "startlinecolor": "#2a3f5f"
            },
            "type": "carpet"
           }
          ],
          "choropleth": [
           {
            "colorbar": {
             "outlinewidth": 0,
             "ticks": ""
            },
            "type": "choropleth"
           }
          ],
          "contour": [
           {
            "colorbar": {
             "outlinewidth": 0,
             "ticks": ""
            },
            "colorscale": [
             [
              0,
              "#0d0887"
             ],
             [
              0.1111111111111111,
              "#46039f"
             ],
             [
              0.2222222222222222,
              "#7201a8"
             ],
             [
              0.3333333333333333,
              "#9c179e"
             ],
             [
              0.4444444444444444,
              "#bd3786"
             ],
             [
              0.5555555555555556,
              "#d8576b"
             ],
             [
              0.6666666666666666,
              "#ed7953"
             ],
             [
              0.7777777777777778,
              "#fb9f3a"
             ],
             [
              0.8888888888888888,
              "#fdca26"
             ],
             [
              1,
              "#f0f921"
             ]
            ],
            "type": "contour"
           }
          ],
          "contourcarpet": [
           {
            "colorbar": {
             "outlinewidth": 0,
             "ticks": ""
            },
            "type": "contourcarpet"
           }
          ],
          "heatmap": [
           {
            "colorbar": {
             "outlinewidth": 0,
             "ticks": ""
            },
            "colorscale": [
             [
              0,
              "#0d0887"
             ],
             [
              0.1111111111111111,
              "#46039f"
             ],
             [
              0.2222222222222222,
              "#7201a8"
             ],
             [
              0.3333333333333333,
              "#9c179e"
             ],
             [
              0.4444444444444444,
              "#bd3786"
             ],
             [
              0.5555555555555556,
              "#d8576b"
             ],
             [
              0.6666666666666666,
              "#ed7953"
             ],
             [
              0.7777777777777778,
              "#fb9f3a"
             ],
             [
              0.8888888888888888,
              "#fdca26"
             ],
             [
              1,
              "#f0f921"
             ]
            ],
            "type": "heatmap"
           }
          ],
          "heatmapgl": [
           {
            "colorbar": {
             "outlinewidth": 0,
             "ticks": ""
            },
            "colorscale": [
             [
              0,
              "#0d0887"
             ],
             [
              0.1111111111111111,
              "#46039f"
             ],
             [
              0.2222222222222222,
              "#7201a8"
             ],
             [
              0.3333333333333333,
              "#9c179e"
             ],
             [
              0.4444444444444444,
              "#bd3786"
             ],
             [
              0.5555555555555556,
              "#d8576b"
             ],
             [
              0.6666666666666666,
              "#ed7953"
             ],
             [
              0.7777777777777778,
              "#fb9f3a"
             ],
             [
              0.8888888888888888,
              "#fdca26"
             ],
             [
              1,
              "#f0f921"
             ]
            ],
            "type": "heatmapgl"
           }
          ],
          "histogram": [
           {
            "marker": {
             "pattern": {
              "fillmode": "overlay",
              "size": 10,
              "solidity": 0.2
             }
            },
            "type": "histogram"
           }
          ],
          "histogram2d": [
           {
            "colorbar": {
             "outlinewidth": 0,
             "ticks": ""
            },
            "colorscale": [
             [
              0,
              "#0d0887"
             ],
             [
              0.1111111111111111,
              "#46039f"
             ],
             [
              0.2222222222222222,
              "#7201a8"
             ],
             [
              0.3333333333333333,
              "#9c179e"
             ],
             [
              0.4444444444444444,
              "#bd3786"
             ],
             [
              0.5555555555555556,
              "#d8576b"
             ],
             [
              0.6666666666666666,
              "#ed7953"
             ],
             [
              0.7777777777777778,
              "#fb9f3a"
             ],
             [
              0.8888888888888888,
              "#fdca26"
             ],
             [
              1,
              "#f0f921"
             ]
            ],
            "type": "histogram2d"
           }
          ],
          "histogram2dcontour": [
           {
            "colorbar": {
             "outlinewidth": 0,
             "ticks": ""
            },
            "colorscale": [
             [
              0,
              "#0d0887"
             ],
             [
              0.1111111111111111,
              "#46039f"
             ],
             [
              0.2222222222222222,
              "#7201a8"
             ],
             [
              0.3333333333333333,
              "#9c179e"
             ],
             [
              0.4444444444444444,
              "#bd3786"
             ],
             [
              0.5555555555555556,
              "#d8576b"
             ],
             [
              0.6666666666666666,
              "#ed7953"
             ],
             [
              0.7777777777777778,
              "#fb9f3a"
             ],
             [
              0.8888888888888888,
              "#fdca26"
             ],
             [
              1,
              "#f0f921"
             ]
            ],
            "type": "histogram2dcontour"
           }
          ],
          "mesh3d": [
           {
            "colorbar": {
             "outlinewidth": 0,
             "ticks": ""
            },
            "type": "mesh3d"
           }
          ],
          "parcoords": [
           {
            "line": {
             "colorbar": {
              "outlinewidth": 0,
              "ticks": ""
             }
            },
            "type": "parcoords"
           }
          ],
          "pie": [
           {
            "automargin": true,
            "type": "pie"
           }
          ],
          "scatter": [
           {
            "fillpattern": {
             "fillmode": "overlay",
             "size": 10,
             "solidity": 0.2
            },
            "type": "scatter"
           }
          ],
          "scatter3d": [
           {
            "line": {
             "colorbar": {
              "outlinewidth": 0,
              "ticks": ""
             }
            },
            "marker": {
             "colorbar": {
              "outlinewidth": 0,
              "ticks": ""
             }
            },
            "type": "scatter3d"
           }
          ],
          "scattercarpet": [
           {
            "marker": {
             "colorbar": {
              "outlinewidth": 0,
              "ticks": ""
             }
            },
            "type": "scattercarpet"
           }
          ],
          "scattergeo": [
           {
            "marker": {
             "colorbar": {
              "outlinewidth": 0,
              "ticks": ""
             }
            },
            "type": "scattergeo"
           }
          ],
          "scattergl": [
           {
            "marker": {
             "colorbar": {
              "outlinewidth": 0,
              "ticks": ""
             }
            },
            "type": "scattergl"
           }
          ],
          "scattermapbox": [
           {
            "marker": {
             "colorbar": {
              "outlinewidth": 0,
              "ticks": ""
             }
            },
            "type": "scattermapbox"
           }
          ],
          "scatterpolar": [
           {
            "marker": {
             "colorbar": {
              "outlinewidth": 0,
              "ticks": ""
             }
            },
            "type": "scatterpolar"
           }
          ],
          "scatterpolargl": [
           {
            "marker": {
             "colorbar": {
              "outlinewidth": 0,
              "ticks": ""
             }
            },
            "type": "scatterpolargl"
           }
          ],
          "scatterternary": [
           {
            "marker": {
             "colorbar": {
              "outlinewidth": 0,
              "ticks": ""
             }
            },
            "type": "scatterternary"
           }
          ],
          "surface": [
           {
            "colorbar": {
             "outlinewidth": 0,
             "ticks": ""
            },
            "colorscale": [
             [
              0,
              "#0d0887"
             ],
             [
              0.1111111111111111,
              "#46039f"
             ],
             [
              0.2222222222222222,
              "#7201a8"
             ],
             [
              0.3333333333333333,
              "#9c179e"
             ],
             [
              0.4444444444444444,
              "#bd3786"
             ],
             [
              0.5555555555555556,
              "#d8576b"
             ],
             [
              0.6666666666666666,
              "#ed7953"
             ],
             [
              0.7777777777777778,
              "#fb9f3a"
             ],
             [
              0.8888888888888888,
              "#fdca26"
             ],
             [
              1,
              "#f0f921"
             ]
            ],
            "type": "surface"
           }
          ],
          "table": [
           {
            "cells": {
             "fill": {
              "color": "#EBF0F8"
             },
             "line": {
              "color": "white"
             }
            },
            "header": {
             "fill": {
              "color": "#C8D4E3"
             },
             "line": {
              "color": "white"
             }
            },
            "type": "table"
           }
          ]
         },
         "layout": {
          "annotationdefaults": {
           "arrowcolor": "#2a3f5f",
           "arrowhead": 0,
           "arrowwidth": 1
          },
          "autotypenumbers": "strict",
          "coloraxis": {
           "colorbar": {
            "outlinewidth": 0,
            "ticks": ""
           }
          },
          "colorscale": {
           "diverging": [
            [
             0,
             "#8e0152"
            ],
            [
             0.1,
             "#c51b7d"
            ],
            [
             0.2,
             "#de77ae"
            ],
            [
             0.3,
             "#f1b6da"
            ],
            [
             0.4,
             "#fde0ef"
            ],
            [
             0.5,
             "#f7f7f7"
            ],
            [
             0.6,
             "#e6f5d0"
            ],
            [
             0.7,
             "#b8e186"
            ],
            [
             0.8,
             "#7fbc41"
            ],
            [
             0.9,
             "#4d9221"
            ],
            [
             1,
             "#276419"
            ]
           ],
           "sequential": [
            [
             0,
             "#0d0887"
            ],
            [
             0.1111111111111111,
             "#46039f"
            ],
            [
             0.2222222222222222,
             "#7201a8"
            ],
            [
             0.3333333333333333,
             "#9c179e"
            ],
            [
             0.4444444444444444,
             "#bd3786"
            ],
            [
             0.5555555555555556,
             "#d8576b"
            ],
            [
             0.6666666666666666,
             "#ed7953"
            ],
            [
             0.7777777777777778,
             "#fb9f3a"
            ],
            [
             0.8888888888888888,
             "#fdca26"
            ],
            [
             1,
             "#f0f921"
            ]
           ],
           "sequentialminus": [
            [
             0,
             "#0d0887"
            ],
            [
             0.1111111111111111,
             "#46039f"
            ],
            [
             0.2222222222222222,
             "#7201a8"
            ],
            [
             0.3333333333333333,
             "#9c179e"
            ],
            [
             0.4444444444444444,
             "#bd3786"
            ],
            [
             0.5555555555555556,
             "#d8576b"
            ],
            [
             0.6666666666666666,
             "#ed7953"
            ],
            [
             0.7777777777777778,
             "#fb9f3a"
            ],
            [
             0.8888888888888888,
             "#fdca26"
            ],
            [
             1,
             "#f0f921"
            ]
           ]
          },
          "colorway": [
           "#636efa",
           "#EF553B",
           "#00cc96",
           "#ab63fa",
           "#FFA15A",
           "#19d3f3",
           "#FF6692",
           "#B6E880",
           "#FF97FF",
           "#FECB52"
          ],
          "font": {
           "color": "#2a3f5f"
          },
          "geo": {
           "bgcolor": "white",
           "lakecolor": "white",
           "landcolor": "#E5ECF6",
           "showlakes": true,
           "showland": true,
           "subunitcolor": "white"
          },
          "hoverlabel": {
           "align": "left"
          },
          "hovermode": "closest",
          "mapbox": {
           "style": "light"
          },
          "paper_bgcolor": "white",
          "plot_bgcolor": "#E5ECF6",
          "polar": {
           "angularaxis": {
            "gridcolor": "white",
            "linecolor": "white",
            "ticks": ""
           },
           "bgcolor": "#E5ECF6",
           "radialaxis": {
            "gridcolor": "white",
            "linecolor": "white",
            "ticks": ""
           }
          },
          "scene": {
           "xaxis": {
            "backgroundcolor": "#E5ECF6",
            "gridcolor": "white",
            "gridwidth": 2,
            "linecolor": "white",
            "showbackground": true,
            "ticks": "",
            "zerolinecolor": "white"
           },
           "yaxis": {
            "backgroundcolor": "#E5ECF6",
            "gridcolor": "white",
            "gridwidth": 2,
            "linecolor": "white",
            "showbackground": true,
            "ticks": "",
            "zerolinecolor": "white"
           },
           "zaxis": {
            "backgroundcolor": "#E5ECF6",
            "gridcolor": "white",
            "gridwidth": 2,
            "linecolor": "white",
            "showbackground": true,
            "ticks": "",
            "zerolinecolor": "white"
           }
          },
          "shapedefaults": {
           "line": {
            "color": "#2a3f5f"
           }
          },
          "ternary": {
           "aaxis": {
            "gridcolor": "white",
            "linecolor": "white",
            "ticks": ""
           },
           "baxis": {
            "gridcolor": "white",
            "linecolor": "white",
            "ticks": ""
           },
           "bgcolor": "#E5ECF6",
           "caxis": {
            "gridcolor": "white",
            "linecolor": "white",
            "ticks": ""
           }
          },
          "title": {
           "x": 0.05
          },
          "xaxis": {
           "automargin": true,
           "gridcolor": "white",
           "linecolor": "white",
           "ticks": "",
           "title": {
            "standoff": 15
           },
           "zerolinecolor": "white",
           "zerolinewidth": 2
          },
          "yaxis": {
           "automargin": true,
           "gridcolor": "white",
           "linecolor": "white",
           "ticks": "",
           "title": {
            "standoff": 15
           },
           "zerolinecolor": "white",
           "zerolinewidth": 2
          }
         }
        },
        "title": {
         "text": "Liczba opinii per tag (z kategorią \"Other\")"
        }
       }
      }
     },
     "metadata": {},
     "output_type": "display_data"
    }
   ],
   "source": [
    "def prepare_pie_chart_reviews(df, top_n=20):\n",
    "    # Zliczanie liczby recenzji na tag\n",
    "    tags = df['Tagi'].apply(lambda x: x.split(', '))\n",
    "    tag_reviews = Counter()\n",
    "\n",
    "    for idx, tag_list in enumerate(tags):\n",
    "        for tag in tag_list:\n",
    "            tag_reviews[tag] += df.iloc[idx]['Liczba recenzji']\n",
    "\n",
    "    # Podział na najpopularniejsze tagi i kategorię \"Other\"\n",
    "    top_tags = tag_reviews.most_common(top_n)\n",
    "    other_count = sum(count for tag, count in tag_reviews.items() if tag not in dict(top_tags))\n",
    "    \n",
    "    # Przygotowanie danych do DataFrame\n",
    "    pie_data = pd.DataFrame(top_tags, columns=['Tag', 'Review Count'])\n",
    "    if other_count > 0:\n",
    "        other_row = pd.DataFrame([{'Tag': 'Other', 'Review Count': other_count}])\n",
    "        pie_data = pd.concat([pie_data, other_row], ignore_index=True)\n",
    "    \n",
    "    return pie_data\n",
    "\n",
    "# Przygotowanie danych do wykresu\n",
    "pie_chart_reviews_data = prepare_pie_chart_reviews(df)\n",
    "\n",
    "# Wizualizacja\n",
    "fig = px.pie(pie_chart_reviews_data, names='Tag', values='Review Count',\n",
    "             title='Liczba opinii per tag (z kategorią \"Other\")',\n",
    "             color_discrete_sequence=px.colors.qualitative.Pastel)\n",
    "fig.show()\n"
   ]
  },
  {
   "cell_type": "code",
   "execution_count": 19,
   "metadata": {},
   "outputs": [
    {
     "data": {
      "application/vnd.plotly.v1+json": {
       "config": {
        "plotlyServerURL": "https://plot.ly"
       },
       "data": [
        {
         "domain": {
          "x": [
           0,
           1
          ],
          "y": [
           0,
           1
          ]
         },
         "hovertemplate": "Tag=%{label}<br>Average Reviews=%{value}<extra></extra>",
         "labels": [
          "Battle royale",
          "Nagość",
          "Zespołowe",
          "Dedukcyjne towarzyskie",
          "Strzelanka z bohaterami",
          "PvE",
          "Free to Play",
          "Świetna ścieżka dźwiękowa",
          "Łamigłówki platformowe",
          "Krasnoludy",
          "Koty",
          "Czarny humor",
          "Strzelanka z łupami",
          "Sieciowa kooperacja",
          "Wieloosobowe",
          "Podwodne",
          "FPS",
          "Zombie",
          "Wojskowe",
          "Szybkie tempo",
          "Other"
         ],
         "legendgroup": "",
         "name": "",
         "showlegend": true,
         "type": "pie",
         "values": [
          976249,
          715753,
          325520,
          208300.66666666666,
          170943,
          166683.33333333334,
          155852.85714285713,
          150123.6,
          148579,
          148366,
          134727,
          126433,
          124573.33333333333,
          117669.64705882352,
          114013.72307692308,
          91219.75,
          90699.72131147541,
          87257.07692307692,
          83449.33333333333,
          81072.66666666667,
          1862
         ]
        }
       ],
       "layout": {
        "legend": {
         "tracegroupgap": 0
        },
        "piecolorway": [
         "rgb(102, 197, 204)",
         "rgb(246, 207, 113)",
         "rgb(248, 156, 116)",
         "rgb(220, 176, 242)",
         "rgb(135, 197, 95)",
         "rgb(158, 185, 243)",
         "rgb(254, 136, 177)",
         "rgb(201, 219, 116)",
         "rgb(139, 224, 164)",
         "rgb(180, 151, 231)",
         "rgb(179, 179, 179)"
        ],
        "template": {
         "data": {
          "bar": [
           {
            "error_x": {
             "color": "#2a3f5f"
            },
            "error_y": {
             "color": "#2a3f5f"
            },
            "marker": {
             "line": {
              "color": "#E5ECF6",
              "width": 0.5
             },
             "pattern": {
              "fillmode": "overlay",
              "size": 10,
              "solidity": 0.2
             }
            },
            "type": "bar"
           }
          ],
          "barpolar": [
           {
            "marker": {
             "line": {
              "color": "#E5ECF6",
              "width": 0.5
             },
             "pattern": {
              "fillmode": "overlay",
              "size": 10,
              "solidity": 0.2
             }
            },
            "type": "barpolar"
           }
          ],
          "carpet": [
           {
            "aaxis": {
             "endlinecolor": "#2a3f5f",
             "gridcolor": "white",
             "linecolor": "white",
             "minorgridcolor": "white",
             "startlinecolor": "#2a3f5f"
            },
            "baxis": {
             "endlinecolor": "#2a3f5f",
             "gridcolor": "white",
             "linecolor": "white",
             "minorgridcolor": "white",
             "startlinecolor": "#2a3f5f"
            },
            "type": "carpet"
           }
          ],
          "choropleth": [
           {
            "colorbar": {
             "outlinewidth": 0,
             "ticks": ""
            },
            "type": "choropleth"
           }
          ],
          "contour": [
           {
            "colorbar": {
             "outlinewidth": 0,
             "ticks": ""
            },
            "colorscale": [
             [
              0,
              "#0d0887"
             ],
             [
              0.1111111111111111,
              "#46039f"
             ],
             [
              0.2222222222222222,
              "#7201a8"
             ],
             [
              0.3333333333333333,
              "#9c179e"
             ],
             [
              0.4444444444444444,
              "#bd3786"
             ],
             [
              0.5555555555555556,
              "#d8576b"
             ],
             [
              0.6666666666666666,
              "#ed7953"
             ],
             [
              0.7777777777777778,
              "#fb9f3a"
             ],
             [
              0.8888888888888888,
              "#fdca26"
             ],
             [
              1,
              "#f0f921"
             ]
            ],
            "type": "contour"
           }
          ],
          "contourcarpet": [
           {
            "colorbar": {
             "outlinewidth": 0,
             "ticks": ""
            },
            "type": "contourcarpet"
           }
          ],
          "heatmap": [
           {
            "colorbar": {
             "outlinewidth": 0,
             "ticks": ""
            },
            "colorscale": [
             [
              0,
              "#0d0887"
             ],
             [
              0.1111111111111111,
              "#46039f"
             ],
             [
              0.2222222222222222,
              "#7201a8"
             ],
             [
              0.3333333333333333,
              "#9c179e"
             ],
             [
              0.4444444444444444,
              "#bd3786"
             ],
             [
              0.5555555555555556,
              "#d8576b"
             ],
             [
              0.6666666666666666,
              "#ed7953"
             ],
             [
              0.7777777777777778,
              "#fb9f3a"
             ],
             [
              0.8888888888888888,
              "#fdca26"
             ],
             [
              1,
              "#f0f921"
             ]
            ],
            "type": "heatmap"
           }
          ],
          "heatmapgl": [
           {
            "colorbar": {
             "outlinewidth": 0,
             "ticks": ""
            },
            "colorscale": [
             [
              0,
              "#0d0887"
             ],
             [
              0.1111111111111111,
              "#46039f"
             ],
             [
              0.2222222222222222,
              "#7201a8"
             ],
             [
              0.3333333333333333,
              "#9c179e"
             ],
             [
              0.4444444444444444,
              "#bd3786"
             ],
             [
              0.5555555555555556,
              "#d8576b"
             ],
             [
              0.6666666666666666,
              "#ed7953"
             ],
             [
              0.7777777777777778,
              "#fb9f3a"
             ],
             [
              0.8888888888888888,
              "#fdca26"
             ],
             [
              1,
              "#f0f921"
             ]
            ],
            "type": "heatmapgl"
           }
          ],
          "histogram": [
           {
            "marker": {
             "pattern": {
              "fillmode": "overlay",
              "size": 10,
              "solidity": 0.2
             }
            },
            "type": "histogram"
           }
          ],
          "histogram2d": [
           {
            "colorbar": {
             "outlinewidth": 0,
             "ticks": ""
            },
            "colorscale": [
             [
              0,
              "#0d0887"
             ],
             [
              0.1111111111111111,
              "#46039f"
             ],
             [
              0.2222222222222222,
              "#7201a8"
             ],
             [
              0.3333333333333333,
              "#9c179e"
             ],
             [
              0.4444444444444444,
              "#bd3786"
             ],
             [
              0.5555555555555556,
              "#d8576b"
             ],
             [
              0.6666666666666666,
              "#ed7953"
             ],
             [
              0.7777777777777778,
              "#fb9f3a"
             ],
             [
              0.8888888888888888,
              "#fdca26"
             ],
             [
              1,
              "#f0f921"
             ]
            ],
            "type": "histogram2d"
           }
          ],
          "histogram2dcontour": [
           {
            "colorbar": {
             "outlinewidth": 0,
             "ticks": ""
            },
            "colorscale": [
             [
              0,
              "#0d0887"
             ],
             [
              0.1111111111111111,
              "#46039f"
             ],
             [
              0.2222222222222222,
              "#7201a8"
             ],
             [
              0.3333333333333333,
              "#9c179e"
             ],
             [
              0.4444444444444444,
              "#bd3786"
             ],
             [
              0.5555555555555556,
              "#d8576b"
             ],
             [
              0.6666666666666666,
              "#ed7953"
             ],
             [
              0.7777777777777778,
              "#fb9f3a"
             ],
             [
              0.8888888888888888,
              "#fdca26"
             ],
             [
              1,
              "#f0f921"
             ]
            ],
            "type": "histogram2dcontour"
           }
          ],
          "mesh3d": [
           {
            "colorbar": {
             "outlinewidth": 0,
             "ticks": ""
            },
            "type": "mesh3d"
           }
          ],
          "parcoords": [
           {
            "line": {
             "colorbar": {
              "outlinewidth": 0,
              "ticks": ""
             }
            },
            "type": "parcoords"
           }
          ],
          "pie": [
           {
            "automargin": true,
            "type": "pie"
           }
          ],
          "scatter": [
           {
            "fillpattern": {
             "fillmode": "overlay",
             "size": 10,
             "solidity": 0.2
            },
            "type": "scatter"
           }
          ],
          "scatter3d": [
           {
            "line": {
             "colorbar": {
              "outlinewidth": 0,
              "ticks": ""
             }
            },
            "marker": {
             "colorbar": {
              "outlinewidth": 0,
              "ticks": ""
             }
            },
            "type": "scatter3d"
           }
          ],
          "scattercarpet": [
           {
            "marker": {
             "colorbar": {
              "outlinewidth": 0,
              "ticks": ""
             }
            },
            "type": "scattercarpet"
           }
          ],
          "scattergeo": [
           {
            "marker": {
             "colorbar": {
              "outlinewidth": 0,
              "ticks": ""
             }
            },
            "type": "scattergeo"
           }
          ],
          "scattergl": [
           {
            "marker": {
             "colorbar": {
              "outlinewidth": 0,
              "ticks": ""
             }
            },
            "type": "scattergl"
           }
          ],
          "scattermapbox": [
           {
            "marker": {
             "colorbar": {
              "outlinewidth": 0,
              "ticks": ""
             }
            },
            "type": "scattermapbox"
           }
          ],
          "scatterpolar": [
           {
            "marker": {
             "colorbar": {
              "outlinewidth": 0,
              "ticks": ""
             }
            },
            "type": "scatterpolar"
           }
          ],
          "scatterpolargl": [
           {
            "marker": {
             "colorbar": {
              "outlinewidth": 0,
              "ticks": ""
             }
            },
            "type": "scatterpolargl"
           }
          ],
          "scatterternary": [
           {
            "marker": {
             "colorbar": {
              "outlinewidth": 0,
              "ticks": ""
             }
            },
            "type": "scatterternary"
           }
          ],
          "surface": [
           {
            "colorbar": {
             "outlinewidth": 0,
             "ticks": ""
            },
            "colorscale": [
             [
              0,
              "#0d0887"
             ],
             [
              0.1111111111111111,
              "#46039f"
             ],
             [
              0.2222222222222222,
              "#7201a8"
             ],
             [
              0.3333333333333333,
              "#9c179e"
             ],
             [
              0.4444444444444444,
              "#bd3786"
             ],
             [
              0.5555555555555556,
              "#d8576b"
             ],
             [
              0.6666666666666666,
              "#ed7953"
             ],
             [
              0.7777777777777778,
              "#fb9f3a"
             ],
             [
              0.8888888888888888,
              "#fdca26"
             ],
             [
              1,
              "#f0f921"
             ]
            ],
            "type": "surface"
           }
          ],
          "table": [
           {
            "cells": {
             "fill": {
              "color": "#EBF0F8"
             },
             "line": {
              "color": "white"
             }
            },
            "header": {
             "fill": {
              "color": "#C8D4E3"
             },
             "line": {
              "color": "white"
             }
            },
            "type": "table"
           }
          ]
         },
         "layout": {
          "annotationdefaults": {
           "arrowcolor": "#2a3f5f",
           "arrowhead": 0,
           "arrowwidth": 1
          },
          "autotypenumbers": "strict",
          "coloraxis": {
           "colorbar": {
            "outlinewidth": 0,
            "ticks": ""
           }
          },
          "colorscale": {
           "diverging": [
            [
             0,
             "#8e0152"
            ],
            [
             0.1,
             "#c51b7d"
            ],
            [
             0.2,
             "#de77ae"
            ],
            [
             0.3,
             "#f1b6da"
            ],
            [
             0.4,
             "#fde0ef"
            ],
            [
             0.5,
             "#f7f7f7"
            ],
            [
             0.6,
             "#e6f5d0"
            ],
            [
             0.7,
             "#b8e186"
            ],
            [
             0.8,
             "#7fbc41"
            ],
            [
             0.9,
             "#4d9221"
            ],
            [
             1,
             "#276419"
            ]
           ],
           "sequential": [
            [
             0,
             "#0d0887"
            ],
            [
             0.1111111111111111,
             "#46039f"
            ],
            [
             0.2222222222222222,
             "#7201a8"
            ],
            [
             0.3333333333333333,
             "#9c179e"
            ],
            [
             0.4444444444444444,
             "#bd3786"
            ],
            [
             0.5555555555555556,
             "#d8576b"
            ],
            [
             0.6666666666666666,
             "#ed7953"
            ],
            [
             0.7777777777777778,
             "#fb9f3a"
            ],
            [
             0.8888888888888888,
             "#fdca26"
            ],
            [
             1,
             "#f0f921"
            ]
           ],
           "sequentialminus": [
            [
             0,
             "#0d0887"
            ],
            [
             0.1111111111111111,
             "#46039f"
            ],
            [
             0.2222222222222222,
             "#7201a8"
            ],
            [
             0.3333333333333333,
             "#9c179e"
            ],
            [
             0.4444444444444444,
             "#bd3786"
            ],
            [
             0.5555555555555556,
             "#d8576b"
            ],
            [
             0.6666666666666666,
             "#ed7953"
            ],
            [
             0.7777777777777778,
             "#fb9f3a"
            ],
            [
             0.8888888888888888,
             "#fdca26"
            ],
            [
             1,
             "#f0f921"
            ]
           ]
          },
          "colorway": [
           "#636efa",
           "#EF553B",
           "#00cc96",
           "#ab63fa",
           "#FFA15A",
           "#19d3f3",
           "#FF6692",
           "#B6E880",
           "#FF97FF",
           "#FECB52"
          ],
          "font": {
           "color": "#2a3f5f"
          },
          "geo": {
           "bgcolor": "white",
           "lakecolor": "white",
           "landcolor": "#E5ECF6",
           "showlakes": true,
           "showland": true,
           "subunitcolor": "white"
          },
          "hoverlabel": {
           "align": "left"
          },
          "hovermode": "closest",
          "mapbox": {
           "style": "light"
          },
          "paper_bgcolor": "white",
          "plot_bgcolor": "#E5ECF6",
          "polar": {
           "angularaxis": {
            "gridcolor": "white",
            "linecolor": "white",
            "ticks": ""
           },
           "bgcolor": "#E5ECF6",
           "radialaxis": {
            "gridcolor": "white",
            "linecolor": "white",
            "ticks": ""
           }
          },
          "scene": {
           "xaxis": {
            "backgroundcolor": "#E5ECF6",
            "gridcolor": "white",
            "gridwidth": 2,
            "linecolor": "white",
            "showbackground": true,
            "ticks": "",
            "zerolinecolor": "white"
           },
           "yaxis": {
            "backgroundcolor": "#E5ECF6",
            "gridcolor": "white",
            "gridwidth": 2,
            "linecolor": "white",
            "showbackground": true,
            "ticks": "",
            "zerolinecolor": "white"
           },
           "zaxis": {
            "backgroundcolor": "#E5ECF6",
            "gridcolor": "white",
            "gridwidth": 2,
            "linecolor": "white",
            "showbackground": true,
            "ticks": "",
            "zerolinecolor": "white"
           }
          },
          "shapedefaults": {
           "line": {
            "color": "#2a3f5f"
           }
          },
          "ternary": {
           "aaxis": {
            "gridcolor": "white",
            "linecolor": "white",
            "ticks": ""
           },
           "baxis": {
            "gridcolor": "white",
            "linecolor": "white",
            "ticks": ""
           },
           "bgcolor": "#E5ECF6",
           "caxis": {
            "gridcolor": "white",
            "linecolor": "white",
            "ticks": ""
           }
          },
          "title": {
           "x": 0.05
          },
          "xaxis": {
           "automargin": true,
           "gridcolor": "white",
           "linecolor": "white",
           "ticks": "",
           "title": {
            "standoff": 15
           },
           "zerolinecolor": "white",
           "zerolinewidth": 2
          },
          "yaxis": {
           "automargin": true,
           "gridcolor": "white",
           "linecolor": "white",
           "ticks": "",
           "title": {
            "standoff": 15
           },
           "zerolinecolor": "white",
           "zerolinewidth": 2
          }
         }
        },
        "title": {
         "text": "Średnia liczba recenzji na tag (z kategorią \"Other\")"
        }
       }
      }
     },
     "metadata": {},
     "output_type": "display_data"
    }
   ],
   "source": [
    "def prepare_avg_reviews_per_tag(df, top_n=20):\n",
    "    # Zliczanie liczby recenzji na tag i liczby gier\n",
    "    tags = df['Tagi'].apply(lambda x: x.split(', '))\n",
    "    tag_reviews = Counter()\n",
    "    tag_counts = Counter()\n",
    "\n",
    "    for idx, tag_list in enumerate(tags):\n",
    "        for tag in tag_list:\n",
    "            tag_reviews[tag] += df.iloc[idx]['Liczba recenzji']\n",
    "            tag_counts[tag] += 1\n",
    "\n",
    "    # Obliczanie średniej liczby recenzji na tag\n",
    "    avg_reviews = {tag: tag_reviews[tag] / tag_counts[tag] for tag in tag_reviews}\n",
    "\n",
    "    # Przygotowanie danych: top N tagów i kategoria \"Other\"\n",
    "    sorted_avg_reviews = sorted(avg_reviews.items(), key=lambda x: x[1], reverse=True)\n",
    "    top_tags = sorted_avg_reviews[:top_n]\n",
    "    other_count = sum(tag_counts[tag] for tag, _ in sorted_avg_reviews[top_n:])\n",
    "\n",
    "    # Przygotowanie DataFrame\n",
    "    pie_data = pd.DataFrame(top_tags, columns=['Tag', 'Average Reviews'])\n",
    "    if other_count > 0:\n",
    "        other_row = pd.DataFrame([{'Tag': 'Other', 'Average Reviews': other_count}])\n",
    "        pie_data = pd.concat([pie_data, other_row], ignore_index=True)\n",
    "    \n",
    "    return pie_data\n",
    "\n",
    "# Przygotowanie danych do wykresu\n",
    "avg_reviews_per_tag_data = prepare_avg_reviews_per_tag(df)\n",
    "\n",
    "# Wizualizacja\n",
    "fig = px.pie(avg_reviews_per_tag_data, names='Tag', values='Average Reviews',\n",
    "             title='Średnia liczba recenzji na tag (z kategorią \"Other\")',\n",
    "             color_discrete_sequence=px.colors.qualitative.Pastel)\n",
    "fig.show()\n"
   ]
  },
  {
   "cell_type": "code",
   "execution_count": 20,
   "metadata": {},
   "outputs": [
    {
     "data": {
      "application/vnd.plotly.v1+json": {
       "config": {
        "plotlyServerURL": "https://plot.ly"
       },
       "data": [
        {
         "alignmentgroup": "True",
         "bingroup": "x",
         "hovertemplate": "Cena=%{x}<br>count=%{y}<extra></extra>",
         "legendgroup": "",
         "marker": {
          "color": "#636efa",
          "pattern": {
           "shape": ""
          }
         },
         "name": "",
         "nbinsx": 20,
         "offsetgroup": "",
         "orientation": "v",
         "showlegend": false,
         "type": "histogram",
         "x": [
          0,
          45.86,
          42.25,
          45.86,
          199,
          10.79,
          169,
          46.24,
          0,
          157.49,
          55.49,
          0,
          111.99,
          229.99,
          45.99,
          15.99,
          13.89,
          161.99,
          71.99,
          124.79,
          64.49,
          35.74,
          164.99,
          75.59,
          169.9,
          26.56,
          72.59,
          49.75,
          55.99,
          199.99,
          91.99,
          0,
          31.75,
          35.63,
          118.14,
          0,
          13.79,
          63.99,
          84.99,
          105.63,
          0,
          69.99,
          59.99,
          9.19,
          86.34,
          0,
          73.59,
          20.39,
          0,
          138.99,
          0,
          22.99,
          15.6,
          0,
          49.99,
          72.99,
          269.9,
          43.19,
          29.99,
          61.19,
          111.3,
          59.99,
          80.49,
          58.49,
          45.99,
          19.01,
          35.6,
          29.99,
          138.99,
          0,
          0,
          0,
          39.97,
          83.39,
          19.99,
          118.3,
          35.98,
          185.59,
          79.99,
          0,
          71.99,
          43.19,
          59.6,
          75,
          107.99,
          13.99,
          0,
          35.8,
          8.99,
          12.6,
          31.99,
          67.6,
          59.99,
          219,
          35.99,
          91.99,
          274.99,
          0,
          89.99,
          45.99,
          114.99,
          12.6,
          44.99,
          173.99,
          0,
          37.48,
          149.99,
          24.99,
          89.99,
          32.24,
          138.99,
          79,
          65.99,
          35.74,
          50,
          55.19,
          31.99,
          92.79,
          48.59,
          119.9,
          21.59,
          29.97,
          31,
          67.99,
          79.9,
          115,
          39.99,
          68.64,
          21.24,
          114.99,
          159.9,
          70.39,
          209.99,
          54.39,
          138.99,
          169,
          138.99,
          45.99,
          27.99,
          63.24,
          149.99,
          199.99,
          74.24,
          49.17,
          289.9,
          78.99,
          64.5,
          45.99,
          45.99,
          99,
          34.99,
          32.39,
          24.75,
          14.29,
          214.99,
          0,
          64.99,
          0,
          94.99,
          0,
          17.99,
          10.79,
          28.74,
          219,
          259,
          259,
          269.9,
          0,
          254.8,
          7.99,
          91.99,
          27.59,
          44.19,
          0,
          231.99,
          17.81,
          59,
          114.99,
          19.99,
          219,
          71.99,
          26.7,
          289.9,
          89.99,
          59.99,
          69.3,
          107.46,
          21.59,
          89.99,
          231.99,
          77.99,
          68.7,
          71.99,
          199,
          35.99,
          67.99,
          138.74,
          42.99,
          107.99,
          189.9,
          55.19,
          54.99,
          63.99,
          7.49,
          45.99,
          73.59,
          138.99,
          91.99,
          44.99,
          184.99,
          14.75,
          45.99,
          45.99,
          59.99,
          179,
          84.5,
          9.99,
          82.99,
          54.99,
          161.99,
          161.99,
          161.99,
          39.99,
          67.99,
          31.49,
          26.99,
          25.89,
          159.9,
          7.19,
          39.99,
          0,
          29.99,
          49.99,
          72.99,
          138.99,
          35.99,
          73.59,
          69.9,
          138.99,
          114.99,
          138.99,
          138.99,
          45.99,
          73.59,
          0,
          71.99,
          114.99,
          79.99,
          21.12,
          36.99,
          82.79,
          6.89,
          22,
          32.39,
          69.49,
          67.99,
          85.9,
          17.81,
          109,
          299,
          124.99,
          124.5,
          69.9,
          122.99,
          118.14,
          39.99,
          119,
          89.99,
          107.99,
          114.99,
          114.99,
          109.95,
          114.99,
          114.99,
          0,
          17.99,
          29.99,
          44.99,
          114.99,
          109,
          99,
          99,
          71.99,
          26.99,
          107.99,
          58.17,
          19.97,
          124,
          104.99,
          35.99,
          95,
          89.9,
          49.59,
          24.06,
          33.99,
          13.74,
          18.49,
          0,
          45.99,
          45.99,
          91.99,
          45.99,
          91.99,
          91.99,
          91.99,
          91.99,
          91.99,
          91.99,
          89.99,
          91.99,
          107.99,
          89.99,
          44.99,
          89.99,
          71.49,
          89.9,
          67.52,
          9.19,
          0,
          14.66,
          88.49,
          9.59,
          86.24,
          184.99,
          49.99,
          31.24,
          74.99,
          46.99,
          84.48,
          82.99,
          69.99,
          100,
          0,
          35.99,
          79.99,
          80,
          39.9,
          0,
          91.99,
          119,
          29.99,
          119.9,
          41.69,
          73.59,
          10.99,
          7.19,
          73.43,
          0,
          6.49,
          89.99,
          71.99,
          71.99,
          17.99,
          71.99,
          35.99,
          35.99,
          100,
          100,
          100,
          34.99,
          69.9,
          36.79,
          34.68,
          68.99,
          91.99,
          67.99,
          67.99,
          22.99,
          67.99,
          7.19,
          66.49,
          64.99,
          64.39,
          14.99,
          62.99,
          171.9,
          0,
          254.8,
          71.99,
          60.89,
          100,
          100,
          59.99,
          59.99,
          59.99,
          114.99,
          39.99,
          58.49,
          199.99,
          25.34,
          55.93,
          55.59,
          53.99,
          54.39,
          54.39,
          13.49,
          53.99,
          53.99,
          53.99,
          26.99,
          13.49,
          71.2,
          100,
          52.19,
          12.77,
          29.99,
          48.78,
          47.99,
          125.09,
          8.99,
          21.12,
          47.99,
          23.99,
          3.59,
          24.41,
          99.99,
          46.8,
          36.79,
          114.99
         ],
         "xaxis": "x",
         "yaxis": "y"
        }
       ],
       "layout": {
        "barmode": "relative",
        "legend": {
         "tracegroupgap": 0
        },
        "template": {
         "data": {
          "bar": [
           {
            "error_x": {
             "color": "#2a3f5f"
            },
            "error_y": {
             "color": "#2a3f5f"
            },
            "marker": {
             "line": {
              "color": "#E5ECF6",
              "width": 0.5
             },
             "pattern": {
              "fillmode": "overlay",
              "size": 10,
              "solidity": 0.2
             }
            },
            "type": "bar"
           }
          ],
          "barpolar": [
           {
            "marker": {
             "line": {
              "color": "#E5ECF6",
              "width": 0.5
             },
             "pattern": {
              "fillmode": "overlay",
              "size": 10,
              "solidity": 0.2
             }
            },
            "type": "barpolar"
           }
          ],
          "carpet": [
           {
            "aaxis": {
             "endlinecolor": "#2a3f5f",
             "gridcolor": "white",
             "linecolor": "white",
             "minorgridcolor": "white",
             "startlinecolor": "#2a3f5f"
            },
            "baxis": {
             "endlinecolor": "#2a3f5f",
             "gridcolor": "white",
             "linecolor": "white",
             "minorgridcolor": "white",
             "startlinecolor": "#2a3f5f"
            },
            "type": "carpet"
           }
          ],
          "choropleth": [
           {
            "colorbar": {
             "outlinewidth": 0,
             "ticks": ""
            },
            "type": "choropleth"
           }
          ],
          "contour": [
           {
            "colorbar": {
             "outlinewidth": 0,
             "ticks": ""
            },
            "colorscale": [
             [
              0,
              "#0d0887"
             ],
             [
              0.1111111111111111,
              "#46039f"
             ],
             [
              0.2222222222222222,
              "#7201a8"
             ],
             [
              0.3333333333333333,
              "#9c179e"
             ],
             [
              0.4444444444444444,
              "#bd3786"
             ],
             [
              0.5555555555555556,
              "#d8576b"
             ],
             [
              0.6666666666666666,
              "#ed7953"
             ],
             [
              0.7777777777777778,
              "#fb9f3a"
             ],
             [
              0.8888888888888888,
              "#fdca26"
             ],
             [
              1,
              "#f0f921"
             ]
            ],
            "type": "contour"
           }
          ],
          "contourcarpet": [
           {
            "colorbar": {
             "outlinewidth": 0,
             "ticks": ""
            },
            "type": "contourcarpet"
           }
          ],
          "heatmap": [
           {
            "colorbar": {
             "outlinewidth": 0,
             "ticks": ""
            },
            "colorscale": [
             [
              0,
              "#0d0887"
             ],
             [
              0.1111111111111111,
              "#46039f"
             ],
             [
              0.2222222222222222,
              "#7201a8"
             ],
             [
              0.3333333333333333,
              "#9c179e"
             ],
             [
              0.4444444444444444,
              "#bd3786"
             ],
             [
              0.5555555555555556,
              "#d8576b"
             ],
             [
              0.6666666666666666,
              "#ed7953"
             ],
             [
              0.7777777777777778,
              "#fb9f3a"
             ],
             [
              0.8888888888888888,
              "#fdca26"
             ],
             [
              1,
              "#f0f921"
             ]
            ],
            "type": "heatmap"
           }
          ],
          "heatmapgl": [
           {
            "colorbar": {
             "outlinewidth": 0,
             "ticks": ""
            },
            "colorscale": [
             [
              0,
              "#0d0887"
             ],
             [
              0.1111111111111111,
              "#46039f"
             ],
             [
              0.2222222222222222,
              "#7201a8"
             ],
             [
              0.3333333333333333,
              "#9c179e"
             ],
             [
              0.4444444444444444,
              "#bd3786"
             ],
             [
              0.5555555555555556,
              "#d8576b"
             ],
             [
              0.6666666666666666,
              "#ed7953"
             ],
             [
              0.7777777777777778,
              "#fb9f3a"
             ],
             [
              0.8888888888888888,
              "#fdca26"
             ],
             [
              1,
              "#f0f921"
             ]
            ],
            "type": "heatmapgl"
           }
          ],
          "histogram": [
           {
            "marker": {
             "pattern": {
              "fillmode": "overlay",
              "size": 10,
              "solidity": 0.2
             }
            },
            "type": "histogram"
           }
          ],
          "histogram2d": [
           {
            "colorbar": {
             "outlinewidth": 0,
             "ticks": ""
            },
            "colorscale": [
             [
              0,
              "#0d0887"
             ],
             [
              0.1111111111111111,
              "#46039f"
             ],
             [
              0.2222222222222222,
              "#7201a8"
             ],
             [
              0.3333333333333333,
              "#9c179e"
             ],
             [
              0.4444444444444444,
              "#bd3786"
             ],
             [
              0.5555555555555556,
              "#d8576b"
             ],
             [
              0.6666666666666666,
              "#ed7953"
             ],
             [
              0.7777777777777778,
              "#fb9f3a"
             ],
             [
              0.8888888888888888,
              "#fdca26"
             ],
             [
              1,
              "#f0f921"
             ]
            ],
            "type": "histogram2d"
           }
          ],
          "histogram2dcontour": [
           {
            "colorbar": {
             "outlinewidth": 0,
             "ticks": ""
            },
            "colorscale": [
             [
              0,
              "#0d0887"
             ],
             [
              0.1111111111111111,
              "#46039f"
             ],
             [
              0.2222222222222222,
              "#7201a8"
             ],
             [
              0.3333333333333333,
              "#9c179e"
             ],
             [
              0.4444444444444444,
              "#bd3786"
             ],
             [
              0.5555555555555556,
              "#d8576b"
             ],
             [
              0.6666666666666666,
              "#ed7953"
             ],
             [
              0.7777777777777778,
              "#fb9f3a"
             ],
             [
              0.8888888888888888,
              "#fdca26"
             ],
             [
              1,
              "#f0f921"
             ]
            ],
            "type": "histogram2dcontour"
           }
          ],
          "mesh3d": [
           {
            "colorbar": {
             "outlinewidth": 0,
             "ticks": ""
            },
            "type": "mesh3d"
           }
          ],
          "parcoords": [
           {
            "line": {
             "colorbar": {
              "outlinewidth": 0,
              "ticks": ""
             }
            },
            "type": "parcoords"
           }
          ],
          "pie": [
           {
            "automargin": true,
            "type": "pie"
           }
          ],
          "scatter": [
           {
            "fillpattern": {
             "fillmode": "overlay",
             "size": 10,
             "solidity": 0.2
            },
            "type": "scatter"
           }
          ],
          "scatter3d": [
           {
            "line": {
             "colorbar": {
              "outlinewidth": 0,
              "ticks": ""
             }
            },
            "marker": {
             "colorbar": {
              "outlinewidth": 0,
              "ticks": ""
             }
            },
            "type": "scatter3d"
           }
          ],
          "scattercarpet": [
           {
            "marker": {
             "colorbar": {
              "outlinewidth": 0,
              "ticks": ""
             }
            },
            "type": "scattercarpet"
           }
          ],
          "scattergeo": [
           {
            "marker": {
             "colorbar": {
              "outlinewidth": 0,
              "ticks": ""
             }
            },
            "type": "scattergeo"
           }
          ],
          "scattergl": [
           {
            "marker": {
             "colorbar": {
              "outlinewidth": 0,
              "ticks": ""
             }
            },
            "type": "scattergl"
           }
          ],
          "scattermapbox": [
           {
            "marker": {
             "colorbar": {
              "outlinewidth": 0,
              "ticks": ""
             }
            },
            "type": "scattermapbox"
           }
          ],
          "scatterpolar": [
           {
            "marker": {
             "colorbar": {
              "outlinewidth": 0,
              "ticks": ""
             }
            },
            "type": "scatterpolar"
           }
          ],
          "scatterpolargl": [
           {
            "marker": {
             "colorbar": {
              "outlinewidth": 0,
              "ticks": ""
             }
            },
            "type": "scatterpolargl"
           }
          ],
          "scatterternary": [
           {
            "marker": {
             "colorbar": {
              "outlinewidth": 0,
              "ticks": ""
             }
            },
            "type": "scatterternary"
           }
          ],
          "surface": [
           {
            "colorbar": {
             "outlinewidth": 0,
             "ticks": ""
            },
            "colorscale": [
             [
              0,
              "#0d0887"
             ],
             [
              0.1111111111111111,
              "#46039f"
             ],
             [
              0.2222222222222222,
              "#7201a8"
             ],
             [
              0.3333333333333333,
              "#9c179e"
             ],
             [
              0.4444444444444444,
              "#bd3786"
             ],
             [
              0.5555555555555556,
              "#d8576b"
             ],
             [
              0.6666666666666666,
              "#ed7953"
             ],
             [
              0.7777777777777778,
              "#fb9f3a"
             ],
             [
              0.8888888888888888,
              "#fdca26"
             ],
             [
              1,
              "#f0f921"
             ]
            ],
            "type": "surface"
           }
          ],
          "table": [
           {
            "cells": {
             "fill": {
              "color": "#EBF0F8"
             },
             "line": {
              "color": "white"
             }
            },
            "header": {
             "fill": {
              "color": "#C8D4E3"
             },
             "line": {
              "color": "white"
             }
            },
            "type": "table"
           }
          ]
         },
         "layout": {
          "annotationdefaults": {
           "arrowcolor": "#2a3f5f",
           "arrowhead": 0,
           "arrowwidth": 1
          },
          "autotypenumbers": "strict",
          "coloraxis": {
           "colorbar": {
            "outlinewidth": 0,
            "ticks": ""
           }
          },
          "colorscale": {
           "diverging": [
            [
             0,
             "#8e0152"
            ],
            [
             0.1,
             "#c51b7d"
            ],
            [
             0.2,
             "#de77ae"
            ],
            [
             0.3,
             "#f1b6da"
            ],
            [
             0.4,
             "#fde0ef"
            ],
            [
             0.5,
             "#f7f7f7"
            ],
            [
             0.6,
             "#e6f5d0"
            ],
            [
             0.7,
             "#b8e186"
            ],
            [
             0.8,
             "#7fbc41"
            ],
            [
             0.9,
             "#4d9221"
            ],
            [
             1,
             "#276419"
            ]
           ],
           "sequential": [
            [
             0,
             "#0d0887"
            ],
            [
             0.1111111111111111,
             "#46039f"
            ],
            [
             0.2222222222222222,
             "#7201a8"
            ],
            [
             0.3333333333333333,
             "#9c179e"
            ],
            [
             0.4444444444444444,
             "#bd3786"
            ],
            [
             0.5555555555555556,
             "#d8576b"
            ],
            [
             0.6666666666666666,
             "#ed7953"
            ],
            [
             0.7777777777777778,
             "#fb9f3a"
            ],
            [
             0.8888888888888888,
             "#fdca26"
            ],
            [
             1,
             "#f0f921"
            ]
           ],
           "sequentialminus": [
            [
             0,
             "#0d0887"
            ],
            [
             0.1111111111111111,
             "#46039f"
            ],
            [
             0.2222222222222222,
             "#7201a8"
            ],
            [
             0.3333333333333333,
             "#9c179e"
            ],
            [
             0.4444444444444444,
             "#bd3786"
            ],
            [
             0.5555555555555556,
             "#d8576b"
            ],
            [
             0.6666666666666666,
             "#ed7953"
            ],
            [
             0.7777777777777778,
             "#fb9f3a"
            ],
            [
             0.8888888888888888,
             "#fdca26"
            ],
            [
             1,
             "#f0f921"
            ]
           ]
          },
          "colorway": [
           "#636efa",
           "#EF553B",
           "#00cc96",
           "#ab63fa",
           "#FFA15A",
           "#19d3f3",
           "#FF6692",
           "#B6E880",
           "#FF97FF",
           "#FECB52"
          ],
          "font": {
           "color": "#2a3f5f"
          },
          "geo": {
           "bgcolor": "white",
           "lakecolor": "white",
           "landcolor": "#E5ECF6",
           "showlakes": true,
           "showland": true,
           "subunitcolor": "white"
          },
          "hoverlabel": {
           "align": "left"
          },
          "hovermode": "closest",
          "mapbox": {
           "style": "light"
          },
          "paper_bgcolor": "white",
          "plot_bgcolor": "#E5ECF6",
          "polar": {
           "angularaxis": {
            "gridcolor": "white",
            "linecolor": "white",
            "ticks": ""
           },
           "bgcolor": "#E5ECF6",
           "radialaxis": {
            "gridcolor": "white",
            "linecolor": "white",
            "ticks": ""
           }
          },
          "scene": {
           "xaxis": {
            "backgroundcolor": "#E5ECF6",
            "gridcolor": "white",
            "gridwidth": 2,
            "linecolor": "white",
            "showbackground": true,
            "ticks": "",
            "zerolinecolor": "white"
           },
           "yaxis": {
            "backgroundcolor": "#E5ECF6",
            "gridcolor": "white",
            "gridwidth": 2,
            "linecolor": "white",
            "showbackground": true,
            "ticks": "",
            "zerolinecolor": "white"
           },
           "zaxis": {
            "backgroundcolor": "#E5ECF6",
            "gridcolor": "white",
            "gridwidth": 2,
            "linecolor": "white",
            "showbackground": true,
            "ticks": "",
            "zerolinecolor": "white"
           }
          },
          "shapedefaults": {
           "line": {
            "color": "#2a3f5f"
           }
          },
          "ternary": {
           "aaxis": {
            "gridcolor": "white",
            "linecolor": "white",
            "ticks": ""
           },
           "baxis": {
            "gridcolor": "white",
            "linecolor": "white",
            "ticks": ""
           },
           "bgcolor": "#E5ECF6",
           "caxis": {
            "gridcolor": "white",
            "linecolor": "white",
            "ticks": ""
           }
          },
          "title": {
           "x": 0.05
          },
          "xaxis": {
           "automargin": true,
           "gridcolor": "white",
           "linecolor": "white",
           "ticks": "",
           "title": {
            "standoff": 15
           },
           "zerolinecolor": "white",
           "zerolinewidth": 2
          },
          "yaxis": {
           "automargin": true,
           "gridcolor": "white",
           "linecolor": "white",
           "ticks": "",
           "title": {
            "standoff": 15
           },
           "zerolinecolor": "white",
           "zerolinewidth": 2
          }
         }
        },
        "title": {
         "text": "Rozkład cen gier"
        },
        "xaxis": {
         "anchor": "y",
         "domain": [
          0,
          1
         ],
         "title": {
          "text": "Cena"
         }
        },
        "yaxis": {
         "anchor": "x",
         "domain": [
          0,
          1
         ],
         "title": {
          "text": "Liczba gier"
         }
        }
       }
      }
     },
     "metadata": {},
     "output_type": "display_data"
    }
   ],
   "source": [
    "import plotly.express as px\n",
    "\n",
    "fig = px.histogram(df, x='Cena', nbins=20, title='Rozkład cen gier')\n",
    "fig.update_layout(xaxis_title='Cena', yaxis_title='Liczba gier')\n",
    "fig.show()\n"
   ]
  },
  {
   "cell_type": "code",
   "execution_count": 21,
   "metadata": {},
   "outputs": [
    {
     "data": {
      "application/vnd.plotly.v1+json": {
       "config": {
        "plotlyServerURL": "https://plot.ly"
       },
       "data": [
        {
         "alignmentgroup": "True",
         "hovertemplate": "Tag=%{x}<br>Count=%{y}<extra></extra>",
         "legendgroup": "",
         "marker": {
          "color": "#636efa",
          "pattern": {
           "shape": ""
          }
         },
         "name": "",
         "offsetgroup": "",
         "orientation": "v",
         "showlegend": false,
         "textposition": "auto",
         "type": "bar",
         "x": [
          "Akcja",
          "Strategiczne",
          "Wieloosobowe",
          "Jednoosobowe",
          "Science fiction",
          "Otwarty świat",
          "FPS",
          "Przygodowe",
          "Survival",
          "RPG",
          "Bogata fabuła",
          "Strzelanka",
          "Kosmos",
          "Symulatory",
          "Budowanie bazy",
          "RTS",
          "Postapokaliptyczne",
          "Eksploracja",
          "Kooperacja",
          "Piaskownica"
         ],
         "xaxis": "x",
         "y": [
          97,
          84,
          65,
          63,
          62,
          62,
          61,
          60,
          52,
          48,
          48,
          45,
          45,
          35,
          34,
          34,
          33,
          32,
          28,
          28
         ],
         "yaxis": "y"
        }
       ],
       "layout": {
        "barmode": "relative",
        "legend": {
         "tracegroupgap": 0
        },
        "template": {
         "data": {
          "bar": [
           {
            "error_x": {
             "color": "#2a3f5f"
            },
            "error_y": {
             "color": "#2a3f5f"
            },
            "marker": {
             "line": {
              "color": "#E5ECF6",
              "width": 0.5
             },
             "pattern": {
              "fillmode": "overlay",
              "size": 10,
              "solidity": 0.2
             }
            },
            "type": "bar"
           }
          ],
          "barpolar": [
           {
            "marker": {
             "line": {
              "color": "#E5ECF6",
              "width": 0.5
             },
             "pattern": {
              "fillmode": "overlay",
              "size": 10,
              "solidity": 0.2
             }
            },
            "type": "barpolar"
           }
          ],
          "carpet": [
           {
            "aaxis": {
             "endlinecolor": "#2a3f5f",
             "gridcolor": "white",
             "linecolor": "white",
             "minorgridcolor": "white",
             "startlinecolor": "#2a3f5f"
            },
            "baxis": {
             "endlinecolor": "#2a3f5f",
             "gridcolor": "white",
             "linecolor": "white",
             "minorgridcolor": "white",
             "startlinecolor": "#2a3f5f"
            },
            "type": "carpet"
           }
          ],
          "choropleth": [
           {
            "colorbar": {
             "outlinewidth": 0,
             "ticks": ""
            },
            "type": "choropleth"
           }
          ],
          "contour": [
           {
            "colorbar": {
             "outlinewidth": 0,
             "ticks": ""
            },
            "colorscale": [
             [
              0,
              "#0d0887"
             ],
             [
              0.1111111111111111,
              "#46039f"
             ],
             [
              0.2222222222222222,
              "#7201a8"
             ],
             [
              0.3333333333333333,
              "#9c179e"
             ],
             [
              0.4444444444444444,
              "#bd3786"
             ],
             [
              0.5555555555555556,
              "#d8576b"
             ],
             [
              0.6666666666666666,
              "#ed7953"
             ],
             [
              0.7777777777777778,
              "#fb9f3a"
             ],
             [
              0.8888888888888888,
              "#fdca26"
             ],
             [
              1,
              "#f0f921"
             ]
            ],
            "type": "contour"
           }
          ],
          "contourcarpet": [
           {
            "colorbar": {
             "outlinewidth": 0,
             "ticks": ""
            },
            "type": "contourcarpet"
           }
          ],
          "heatmap": [
           {
            "colorbar": {
             "outlinewidth": 0,
             "ticks": ""
            },
            "colorscale": [
             [
              0,
              "#0d0887"
             ],
             [
              0.1111111111111111,
              "#46039f"
             ],
             [
              0.2222222222222222,
              "#7201a8"
             ],
             [
              0.3333333333333333,
              "#9c179e"
             ],
             [
              0.4444444444444444,
              "#bd3786"
             ],
             [
              0.5555555555555556,
              "#d8576b"
             ],
             [
              0.6666666666666666,
              "#ed7953"
             ],
             [
              0.7777777777777778,
              "#fb9f3a"
             ],
             [
              0.8888888888888888,
              "#fdca26"
             ],
             [
              1,
              "#f0f921"
             ]
            ],
            "type": "heatmap"
           }
          ],
          "heatmapgl": [
           {
            "colorbar": {
             "outlinewidth": 0,
             "ticks": ""
            },
            "colorscale": [
             [
              0,
              "#0d0887"
             ],
             [
              0.1111111111111111,
              "#46039f"
             ],
             [
              0.2222222222222222,
              "#7201a8"
             ],
             [
              0.3333333333333333,
              "#9c179e"
             ],
             [
              0.4444444444444444,
              "#bd3786"
             ],
             [
              0.5555555555555556,
              "#d8576b"
             ],
             [
              0.6666666666666666,
              "#ed7953"
             ],
             [
              0.7777777777777778,
              "#fb9f3a"
             ],
             [
              0.8888888888888888,
              "#fdca26"
             ],
             [
              1,
              "#f0f921"
             ]
            ],
            "type": "heatmapgl"
           }
          ],
          "histogram": [
           {
            "marker": {
             "pattern": {
              "fillmode": "overlay",
              "size": 10,
              "solidity": 0.2
             }
            },
            "type": "histogram"
           }
          ],
          "histogram2d": [
           {
            "colorbar": {
             "outlinewidth": 0,
             "ticks": ""
            },
            "colorscale": [
             [
              0,
              "#0d0887"
             ],
             [
              0.1111111111111111,
              "#46039f"
             ],
             [
              0.2222222222222222,
              "#7201a8"
             ],
             [
              0.3333333333333333,
              "#9c179e"
             ],
             [
              0.4444444444444444,
              "#bd3786"
             ],
             [
              0.5555555555555556,
              "#d8576b"
             ],
             [
              0.6666666666666666,
              "#ed7953"
             ],
             [
              0.7777777777777778,
              "#fb9f3a"
             ],
             [
              0.8888888888888888,
              "#fdca26"
             ],
             [
              1,
              "#f0f921"
             ]
            ],
            "type": "histogram2d"
           }
          ],
          "histogram2dcontour": [
           {
            "colorbar": {
             "outlinewidth": 0,
             "ticks": ""
            },
            "colorscale": [
             [
              0,
              "#0d0887"
             ],
             [
              0.1111111111111111,
              "#46039f"
             ],
             [
              0.2222222222222222,
              "#7201a8"
             ],
             [
              0.3333333333333333,
              "#9c179e"
             ],
             [
              0.4444444444444444,
              "#bd3786"
             ],
             [
              0.5555555555555556,
              "#d8576b"
             ],
             [
              0.6666666666666666,
              "#ed7953"
             ],
             [
              0.7777777777777778,
              "#fb9f3a"
             ],
             [
              0.8888888888888888,
              "#fdca26"
             ],
             [
              1,
              "#f0f921"
             ]
            ],
            "type": "histogram2dcontour"
           }
          ],
          "mesh3d": [
           {
            "colorbar": {
             "outlinewidth": 0,
             "ticks": ""
            },
            "type": "mesh3d"
           }
          ],
          "parcoords": [
           {
            "line": {
             "colorbar": {
              "outlinewidth": 0,
              "ticks": ""
             }
            },
            "type": "parcoords"
           }
          ],
          "pie": [
           {
            "automargin": true,
            "type": "pie"
           }
          ],
          "scatter": [
           {
            "fillpattern": {
             "fillmode": "overlay",
             "size": 10,
             "solidity": 0.2
            },
            "type": "scatter"
           }
          ],
          "scatter3d": [
           {
            "line": {
             "colorbar": {
              "outlinewidth": 0,
              "ticks": ""
             }
            },
            "marker": {
             "colorbar": {
              "outlinewidth": 0,
              "ticks": ""
             }
            },
            "type": "scatter3d"
           }
          ],
          "scattercarpet": [
           {
            "marker": {
             "colorbar": {
              "outlinewidth": 0,
              "ticks": ""
             }
            },
            "type": "scattercarpet"
           }
          ],
          "scattergeo": [
           {
            "marker": {
             "colorbar": {
              "outlinewidth": 0,
              "ticks": ""
             }
            },
            "type": "scattergeo"
           }
          ],
          "scattergl": [
           {
            "marker": {
             "colorbar": {
              "outlinewidth": 0,
              "ticks": ""
             }
            },
            "type": "scattergl"
           }
          ],
          "scattermapbox": [
           {
            "marker": {
             "colorbar": {
              "outlinewidth": 0,
              "ticks": ""
             }
            },
            "type": "scattermapbox"
           }
          ],
          "scatterpolar": [
           {
            "marker": {
             "colorbar": {
              "outlinewidth": 0,
              "ticks": ""
             }
            },
            "type": "scatterpolar"
           }
          ],
          "scatterpolargl": [
           {
            "marker": {
             "colorbar": {
              "outlinewidth": 0,
              "ticks": ""
             }
            },
            "type": "scatterpolargl"
           }
          ],
          "scatterternary": [
           {
            "marker": {
             "colorbar": {
              "outlinewidth": 0,
              "ticks": ""
             }
            },
            "type": "scatterternary"
           }
          ],
          "surface": [
           {
            "colorbar": {
             "outlinewidth": 0,
             "ticks": ""
            },
            "colorscale": [
             [
              0,
              "#0d0887"
             ],
             [
              0.1111111111111111,
              "#46039f"
             ],
             [
              0.2222222222222222,
              "#7201a8"
             ],
             [
              0.3333333333333333,
              "#9c179e"
             ],
             [
              0.4444444444444444,
              "#bd3786"
             ],
             [
              0.5555555555555556,
              "#d8576b"
             ],
             [
              0.6666666666666666,
              "#ed7953"
             ],
             [
              0.7777777777777778,
              "#fb9f3a"
             ],
             [
              0.8888888888888888,
              "#fdca26"
             ],
             [
              1,
              "#f0f921"
             ]
            ],
            "type": "surface"
           }
          ],
          "table": [
           {
            "cells": {
             "fill": {
              "color": "#EBF0F8"
             },
             "line": {
              "color": "white"
             }
            },
            "header": {
             "fill": {
              "color": "#C8D4E3"
             },
             "line": {
              "color": "white"
             }
            },
            "type": "table"
           }
          ]
         },
         "layout": {
          "annotationdefaults": {
           "arrowcolor": "#2a3f5f",
           "arrowhead": 0,
           "arrowwidth": 1
          },
          "autotypenumbers": "strict",
          "coloraxis": {
           "colorbar": {
            "outlinewidth": 0,
            "ticks": ""
           }
          },
          "colorscale": {
           "diverging": [
            [
             0,
             "#8e0152"
            ],
            [
             0.1,
             "#c51b7d"
            ],
            [
             0.2,
             "#de77ae"
            ],
            [
             0.3,
             "#f1b6da"
            ],
            [
             0.4,
             "#fde0ef"
            ],
            [
             0.5,
             "#f7f7f7"
            ],
            [
             0.6,
             "#e6f5d0"
            ],
            [
             0.7,
             "#b8e186"
            ],
            [
             0.8,
             "#7fbc41"
            ],
            [
             0.9,
             "#4d9221"
            ],
            [
             1,
             "#276419"
            ]
           ],
           "sequential": [
            [
             0,
             "#0d0887"
            ],
            [
             0.1111111111111111,
             "#46039f"
            ],
            [
             0.2222222222222222,
             "#7201a8"
            ],
            [
             0.3333333333333333,
             "#9c179e"
            ],
            [
             0.4444444444444444,
             "#bd3786"
            ],
            [
             0.5555555555555556,
             "#d8576b"
            ],
            [
             0.6666666666666666,
             "#ed7953"
            ],
            [
             0.7777777777777778,
             "#fb9f3a"
            ],
            [
             0.8888888888888888,
             "#fdca26"
            ],
            [
             1,
             "#f0f921"
            ]
           ],
           "sequentialminus": [
            [
             0,
             "#0d0887"
            ],
            [
             0.1111111111111111,
             "#46039f"
            ],
            [
             0.2222222222222222,
             "#7201a8"
            ],
            [
             0.3333333333333333,
             "#9c179e"
            ],
            [
             0.4444444444444444,
             "#bd3786"
            ],
            [
             0.5555555555555556,
             "#d8576b"
            ],
            [
             0.6666666666666666,
             "#ed7953"
            ],
            [
             0.7777777777777778,
             "#fb9f3a"
            ],
            [
             0.8888888888888888,
             "#fdca26"
            ],
            [
             1,
             "#f0f921"
            ]
           ]
          },
          "colorway": [
           "#636efa",
           "#EF553B",
           "#00cc96",
           "#ab63fa",
           "#FFA15A",
           "#19d3f3",
           "#FF6692",
           "#B6E880",
           "#FF97FF",
           "#FECB52"
          ],
          "font": {
           "color": "#2a3f5f"
          },
          "geo": {
           "bgcolor": "white",
           "lakecolor": "white",
           "landcolor": "#E5ECF6",
           "showlakes": true,
           "showland": true,
           "subunitcolor": "white"
          },
          "hoverlabel": {
           "align": "left"
          },
          "hovermode": "closest",
          "mapbox": {
           "style": "light"
          },
          "paper_bgcolor": "white",
          "plot_bgcolor": "#E5ECF6",
          "polar": {
           "angularaxis": {
            "gridcolor": "white",
            "linecolor": "white",
            "ticks": ""
           },
           "bgcolor": "#E5ECF6",
           "radialaxis": {
            "gridcolor": "white",
            "linecolor": "white",
            "ticks": ""
           }
          },
          "scene": {
           "xaxis": {
            "backgroundcolor": "#E5ECF6",
            "gridcolor": "white",
            "gridwidth": 2,
            "linecolor": "white",
            "showbackground": true,
            "ticks": "",
            "zerolinecolor": "white"
           },
           "yaxis": {
            "backgroundcolor": "#E5ECF6",
            "gridcolor": "white",
            "gridwidth": 2,
            "linecolor": "white",
            "showbackground": true,
            "ticks": "",
            "zerolinecolor": "white"
           },
           "zaxis": {
            "backgroundcolor": "#E5ECF6",
            "gridcolor": "white",
            "gridwidth": 2,
            "linecolor": "white",
            "showbackground": true,
            "ticks": "",
            "zerolinecolor": "white"
           }
          },
          "shapedefaults": {
           "line": {
            "color": "#2a3f5f"
           }
          },
          "ternary": {
           "aaxis": {
            "gridcolor": "white",
            "linecolor": "white",
            "ticks": ""
           },
           "baxis": {
            "gridcolor": "white",
            "linecolor": "white",
            "ticks": ""
           },
           "bgcolor": "#E5ECF6",
           "caxis": {
            "gridcolor": "white",
            "linecolor": "white",
            "ticks": ""
           }
          },
          "title": {
           "x": 0.05
          },
          "xaxis": {
           "automargin": true,
           "gridcolor": "white",
           "linecolor": "white",
           "ticks": "",
           "title": {
            "standoff": 15
           },
           "zerolinecolor": "white",
           "zerolinewidth": 2
          },
          "yaxis": {
           "automargin": true,
           "gridcolor": "white",
           "linecolor": "white",
           "ticks": "",
           "title": {
            "standoff": 15
           },
           "zerolinecolor": "white",
           "zerolinewidth": 2
          }
         }
        },
        "title": {
         "text": "Najpopularniejsze tagi"
        },
        "xaxis": {
         "anchor": "y",
         "domain": [
          0,
          1
         ],
         "title": {
          "text": "Tag"
         }
        },
        "yaxis": {
         "anchor": "x",
         "domain": [
          0,
          1
         ],
         "title": {
          "text": "Liczba gier"
         }
        }
       }
      }
     },
     "metadata": {},
     "output_type": "display_data"
    }
   ],
   "source": [
    "from collections import Counter\n",
    "\n",
    "# Zliczanie wystąpień tagów\n",
    "tag_counts = Counter()\n",
    "for tags in df['Tagi']:\n",
    "    # Przekształcenie stringa w listę tagów, zakładając, że są oddzielone przecinkami\n",
    "    tag_list = tags.split(', ')\n",
    "    tag_counts.update(tag_list)\n",
    "\n",
    "# Przekształcenie wyników w DataFrame\n",
    "tag_df = pd.DataFrame(tag_counts.items(), columns=['Tag', 'Count']).sort_values('Count', ascending=False)\n",
    "\n",
    "# Wizualizacja\n",
    "fig = px.bar(tag_df.head(20), x='Tag', y='Count', title='Najpopularniejsze tagi')\n",
    "fig.update_layout(yaxis_title='Liczba gier')\n",
    "fig.show()\n"
   ]
  },
  {
   "cell_type": "code",
   "execution_count": 22,
   "metadata": {},
   "outputs": [
    {
     "data": {
      "application/vnd.plotly.v1+json": {
       "config": {
        "plotlyServerURL": "https://plot.ly"
       },
       "data": [
        {
         "customdata": [
          [
           "Subnautica"
          ],
          [
           "Detroit: Become Human"
          ],
          [
           "RimWorld"
          ],
          [
           "Lethal Company"
          ],
          [
           "DOOM"
          ],
          [
           "Stray"
          ],
          [
           "Caves of Qud"
          ],
          [
           "Brotato"
          ],
          [
           "Outer Wilds"
          ],
          [
           "Beat Saber"
          ],
          [
           "Mouthwashing"
          ],
          [
           "The Planet Crafter"
          ],
          [
           "Life is Strange - Episode 1"
          ],
          [
           "Warhammer 40,000: Dawn of War - Anniversary Edition"
          ],
          [
           "Deep Rock Galactic"
          ],
          [
           "Severed Steel"
          ],
          [
           "Creeper World 4"
          ],
          [
           "Half-Life: Alyx"
          ],
          [
           "Oxygen Not Included"
          ],
          [
           "Left 4 Dead 2"
          ],
          [
           "Abiotic Factor"
          ],
          [
           "Cosmoteer: Starship Architect & Commander"
          ],
          [
           "STEINS;GATE 0"
          ],
          [
           "Nine Sols"
          ],
          [
           "DRAMAtical Murder"
          ],
          [
           "Titanfall® 2"
          ],
          [
           "STEINS;GATE"
          ],
          [
           "SpaceEngine"
          ],
          [
           "Roboquest"
          ],
          [
           "Portal"
          ],
          [
           "Portal 2"
          ],
          [
           "CRUEL"
          ],
          [
           "shapez 2"
          ],
          [
           "The Forgotten City"
          ],
          [
           "SANABI"
          ],
          [
           "Creeper World 3: Arc Eternal"
          ],
          [
           "Turing Complete"
          ],
          [
           "Beyond Citadel"
          ],
          [
           "Kenshi"
          ],
          [
           "Anomaly Agent"
          ],
          [
           "Papers, Please"
          ],
          [
           "Half-Life 2"
          ],
          [
           "The Walking Dead"
          ],
          [
           "Universe Sandbox"
          ],
          [
           "The Talos Principle 2"
          ],
          [
           "Dyson Sphere Program"
          ],
          [
           "I Was a Teenage Exocolonist"
          ],
          [
           "Dishonored"
          ],
          [
           "METAL GEAR RISING: REVENGEANCE"
          ],
          [
           "Half-Life"
          ],
          [
           "Nova Drift"
          ],
          [
           "Left 4 Dead"
          ],
          [
           "Opus Magnum"
          ],
          [
           "Machinarium"
          ],
          [
           "Minds Beneath Us"
          ],
          [
           "S.T.A.L.K.E.R.: Call of Pripyat"
          ],
          [
           "Cruelty Squad"
          ],
          [
           "Misao - 2024 HD Remaster"
          ],
          [
           "Mars First Logistics"
          ],
          [
           "Alien Shooter"
          ],
          [
           "Kerbal Space Program"
          ],
          [
           "Spaceflight Simulator"
          ],
          [
           "MULLET MADJACK"
          ],
          [
           "Worldless"
          ],
          [
           "VA-11 Hall-A: Cyberpunk Bartender Action"
          ]
         ],
         "hovertemplate": "Nacechowanie recenzji=Przytłaczająco pozytywne<br>Cena (zł)=%{x}<br>Liczba recenzji=%{y}<br>Tytuł=%{customdata[0]}<extra></extra>",
         "legendgroup": "Przytłaczająco pozytywne",
         "marker": {
          "color": "green",
          "symbol": "circle"
         },
         "mode": "markers",
         "name": "Przytłaczająco pozytywne",
         "orientation": "v",
         "showlegend": true,
         "type": "scatter",
         "x": [
          45.86,
          55.49,
          111.99,
          45.99,
          15.99,
          71.99,
          118.14,
          13.79,
          59.99,
          138.99,
          59.99,
          80.49,
          0,
          19.99,
          107.99,
          8.99,
          35.99,
          274.99,
          89.99,
          45.99,
          114.99,
          44.99,
          24.99,
          138.99,
          55.19,
          119.9,
          21.59,
          115,
          70.39,
          45.99,
          45.99,
          34.99,
          64.99,
          28.74,
          44.19,
          17.81,
          71.99,
          67.99,
          107.99,
          54.99,
          45.99,
          45.99,
          67.99,
          138.99,
          138.99,
          71.99,
          114.99,
          44.99,
          109,
          35.99,
          49.59,
          45.99,
          91.99,
          74.99,
          91.99,
          71.99,
          71.99,
          36.79,
          68.99,
          22.99,
          171.9,
          59.99,
          58.49,
          53.99,
          53.99
         ],
         "xaxis": "x",
         "y": [
          270717,
          129446,
          171314,
          378091,
          134704,
          134727,
          9023,
          87149,
          65580,
          67651,
          22283,
          46357,
          167844,
          7856,
          263856,
          5207,
          4032,
          83075,
          117237,
          708227,
          18747,
          9910,
          6040,
          20696,
          3076,
          216599,
          18353,
          11165,
          15797,
          148579,
          349169,
          550,
          9137,
          9035,
          30831,
          3864,
          3517,
          1300,
          78325,
          7468,
          65893,
          175083,
          45901,
          22357,
          10534,
          75847,
          3310,
          11155,
          62838,
          102094,
          12054,
          50603,
          4699,
          13218,
          2280,
          23818,
          18019,
          2029,
          1044,
          3361,
          101395,
          5591,
          5724,
          924,
          30979
         ],
         "yaxis": "y"
        },
        {
         "customdata": [
          [
           "Marvel Rivals"
          ],
          [
           "DOOM Eternal"
          ],
          [
           "Subnautica: Below Zero"
          ],
          [
           "Cyberpunk 2077"
          ],
          [
           "Among Us"
          ],
          [
           "Stellaris"
          ],
          [
           "Warhammer 40,000: Space Marine 2"
          ],
          [
           "S.T.A.L.K.E.R. 2: Heart of Chornobyl"
          ],
          [
           "Frostpunk"
          ],
          [
           "Jurassic World Evolution 2"
          ],
          [
           "ENDLESS™ Space 2"
          ],
          [
           "Lies of P"
          ],
          [
           "They Are Billions"
          ],
          [
           "ENDLESS™ Legend"
          ],
          [
           "Atomic Heart"
          ],
          [
           "Halo: The Master Chief Collection"
          ],
          [
           "BlazBlue Entropy Effect"
          ],
          [
           "Project Zomboid"
          ],
          [
           "Metro Exodus"
          ],
          [
           "Planetary Annihilation: TITANS"
          ],
          [
           "Void Crew"
          ],
          [
           "STAR WARS™: The Old Republic™"
          ],
          [
           "Barotrauma"
          ],
          [
           "This War of Mine"
          ],
          [
           "Plague Inc: Evolved"
          ],
          [
           "Chained Together"
          ],
          [
           "DOOM 3"
          ],
          [
           "The Long Drive"
          ],
          [
           "MechWarrior 5: Mercenaries"
          ],
          [
           "The Long Dark"
          ],
          [
           "Aliens: Dark Descent"
          ],
          [
           "LOCKDOWN Protocol"
          ],
          [
           "Chernobylite Complete Edition"
          ],
          [
           "Annihilate The Spance"
          ],
          [
           "Starship Troopers: Terran Command"
          ],
          [
           "Sins of a Solar Empire II"
          ],
          [
           "Unturned"
          ],
          [
           "Space Engineers"
          ],
          [
           "State of Decay 2: Juggernaut Edition"
          ],
          [
           "Hatsune Miku: Project DIVA Mega Mix+"
          ],
          [
           "The Invincible"
          ],
          [
           "Metro 2033 Redux"
          ],
          [
           "Nuclear Nightmare"
          ],
          [
           "System Shock"
          ],
          [
           "Zompiercer"
          ],
          [
           "Horizon Zero Dawn™ Complete Edition"
          ],
          [
           "Job Simulator"
          ],
          [
           "Metro: Last Light Redux"
          ],
          [
           "My Time at Sandrock"
          ],
          [
           "Wolfenstein: The New Order"
          ],
          [
           "AI: THE SOMNIUM FILES - nirvanA Initiative"
          ],
          [
           "Fallout 4"
          ],
          [
           "Forever Skies"
          ],
          [
           "Quantum Break"
          ],
          [
           "Deep Rock Galactic: Survivor"
          ],
          [
           "Amenti"
          ],
          [
           "Aliens: Fireteam Elite"
          ],
          [
           "Mechabellum"
          ],
          [
           "Beyond: Two Souls"
          ],
          [
           "60 Seconds! Reatomized"
          ],
          [
           "Nobody Wants to Die"
          ],
          [
           "Road 96 🛣️"
          ],
          [
           "REMNANT II®"
          ],
          [
           "Obenseuer"
          ],
          [
           "Age of Wonders: Planetfall"
          ],
          [
           "ASTRONEER"
          ],
          [
           "Sovereign Syndicate"
          ],
          [
           "From Glory To Goo"
          ],
          [
           "ZEPHON"
          ],
          [
           "Warhammer 40,000: Rogue Trader"
          ],
          [
           "Astrometica"
          ],
          [
           "The Riftbreaker"
          ],
          [
           "Halo Wars: Definitive Edition"
          ],
          [
           "AI: The Somnium Files"
          ],
          [
           "EARTH DEFENSE FORCE 5"
          ],
          [
           "Fallout Shelter"
          ],
          [
           "Starcom: Unknown Space"
          ],
          [
           "Zero Escape: The Nonary Games"
          ],
          [
           "Horizon Forbidden West™ Edycja kompletna"
          ],
          [
           "Mass Effect™ Edycja legendarna"
          ],
          [
           "Call of Duty®: Black Ops III"
          ],
          [
           "STAR WARS™: Episode I: Jedi Power Battles™"
          ],
          [
           "RoboCop: Rogue City"
          ],
          [
           "Clone Drone in the Hyperdome"
          ],
          [
           "Lightyear Frontier"
          ],
          [
           "Sunset Overdrive"
          ],
          [
           "Days Gone"
          ],
          [
           "Vanquish"
          ],
          [
           "Slice of Sea"
          ],
          [
           "Mutant Year Zero: Road to Eden"
          ],
          [
           "Creatures of Ava"
          ],
          [
           "Arizona Sunshine® 2"
          ],
          [
           "Killing Floor 2"
          ],
          [
           "Project Wingman"
          ],
          [
           "Stardeus"
          ],
          [
           "Shin Megami Tensei III Nocturne HD Remaster"
          ],
          [
           "High On Life"
          ],
          [
           "FANTASIAN Neo Dimension"
          ],
          [
           "Bright Memory: Infinite"
          ],
          [
           "Terminator: Dark Fate - Defiance"
          ],
          [
           "STEINS;GATE ELITE"
          ],
          [
           "Sins of a Solar Empire®: Rebellion"
          ],
          [
           "Solar Ash"
          ],
          [
           "Cepheus Protocol"
          ],
          [
           "ENDER LILIES: Quietus of the Knights"
          ],
          [
           "Fallout: New Vegas"
          ],
          [
           "Warhammer 40,000: Gladius - Relics of War"
          ],
          [
           "Drill Core"
          ],
          [
           "Homeworld Remastered Collection"
          ],
          [
           "Nuclear Option"
          ],
          [
           "Endoparasitic 2"
          ],
          [
           "Pathologic 2"
          ],
          [
           "Into the Breach"
          ],
          [
           "Iron Lung"
          ],
          [
           "Assassin's Creed® Syndicate"
          ],
          [
           "Zero Escape: Zero Time Dilemma"
          ],
          [
           "Jurassic World Evolution"
          ],
          [
           "Airborne Kingdom"
          ],
          [
           "NEBULOUS: Fleet Command"
          ],
          [
           "The Sapling"
          ],
          [
           "Space Haven"
          ],
          [
           "Eden Crafters"
          ],
          [
           "SPORE™"
          ],
          [
           "Kristala"
          ],
          [
           "Star Trek: Resurgence"
          ],
          [
           "Serious Sam 2"
          ],
          [
           "Cell to Singularity - Evolution Never Ends"
          ],
          [
           "Rain World"
          ],
          [
           "Warhammer 40,000: Boltgun"
          ],
          [
           "Saints Row IV: Re-Elected"
          ],
          [
           "Stellar Settlers: Space Base Builder"
          ],
          [
           "BLADE CHIMERA"
          ],
          [
           "Wall World"
          ],
          [
           "Wasteland 2: Director's Cut"
          ],
          [
           "Seed of the Dead: Sweet Home"
          ],
          [
           "ATOM RPG: Post-apocalyptic indie game"
          ],
          [
           "XCOM: Enemy Unknown"
          ],
          [
           "Particle Fleet: Emergence"
          ],
          [
           "Pacific Drive"
          ],
          [
           "Destroy All Humans!"
          ],
          [
           "The Thing: Remastered"
          ],
          [
           "Caravan SandWitch"
          ],
          [
           "The Last Stand: Aftermath"
          ],
          [
           "Crysis 2 Remastered"
          ],
          [
           "Crysis 3 Remastered"
          ],
          [
           "S.T.A.L.K.E.R.: Shadow of Chernobyl"
          ],
          [
           "Crying Suns"
          ],
          [
           "Wolfenstein II: The New Colossus"
          ],
          [
           "Still Wakes the Deep"
          ],
          [
           "Genome Guardian"
          ],
          [
           "Doors: Paradox"
          ],
          [
           "STAR WARS™ Knights of the Old Republic™ II - The Sith Lords™"
          ],
          [
           "Citizen Sleeper"
          ],
          [
           "STAR WARS™ Battlefront II (Classic, 2005)"
          ],
          [
           "Cataclysm: Dark Days Ahead"
          ],
          [
           "Starship EVO"
          ],
          [
           "LEGO® Star Wars™ III - The Clone Wars™"
          ],
          [
           "DYSMANTLE"
          ],
          [
           "The Walking Dead: The Final Season"
          ],
          [
           "InfraSpace"
          ],
          [
           "Uncle Chop's Rocket Shop"
          ],
          [
           "Ben 10: Power Trip"
          ],
          [
           "ANNO: Mutationem"
          ],
          [
           "Fallout 2: A Post Nuclear Role Playing Game"
          ],
          [
           "Fallout 3: Game of the Year Edition"
          ],
          [
           "Wasteland 3"
          ],
          [
           "Deus Ex: Human Revolution - Director's Cut"
          ],
          [
           "Goodbye Deponia"
          ],
          [
           "Poker Master"
          ],
          [
           "Takara Cards"
          ],
          [
           "New Arc Line"
          ],
          [
           "Beholder"
          ],
          [
           "The Devil Within: Satgat"
          ],
          [
           "Warhammer 40,000: Battlesector"
          ],
          [
           "ATOM RPG Trudograd"
          ],
          [
           "Tasty Planet Forever"
          ],
          [
           "Oblivion Override"
          ],
          [
           "Dome Keeper"
          ],
          [
           "Revolution Idle"
          ],
          [
           "Five Nations"
          ],
          [
           "SUPERHOT VR"
          ],
          [
           "Chicken Police: Into the HIVE!"
          ],
          [
           "Far Cry®"
          ],
          [
           "Arizona Sunshine® Remake"
          ],
          [
           "World War Z"
          ],
          [
           "Space Reign"
          ],
          [
           "Dungeon of the ENDLESS™"
          ],
          [
           "Deponia Doomsday"
          ],
          [
           "Fortune's Run"
          ],
          [
           "Neon Abyss"
          ],
          [
           "Endoparasitic"
          ],
          [
           "S.T.A.L.K.E.R.: Clear Sky"
          ],
          [
           "Command & Conquer 3: Gniew Kane'a"
          ],
          [
           "Command & Conquer™ Red Alert™ 3"
          ],
          [
           "Command & Conquer 3: Wojny o tyberium"
          ],
          [
           "Syberia"
          ],
          [
           "Aliens vs. Ghosts"
          ],
          [
           "Risk of Rain Returns"
          ],
          [
           "Starbound"
          ],
          [
           "Chaos on Deponia"
          ],
          [
           "Space Rangers HD: A War Apart"
          ],
          [
           "GNOSIA"
          ],
          [
           "Call of Duty®: Black Ops II"
          ],
          [
           "Rigid Force Alpha"
          ],
          [
           "Command & Conquer™ Tiberian Sun™ and Firestorm™"
          ],
          [
           "Command & Conquer Red Alert™ 2 and Yuri’s Revenge™"
          ],
          [
           "Whispers of a Machine"
          ],
          [
           "COCOON"
          ],
          [
           "Supreme Commander"
          ],
          [
           "Beyond Good & Evil - 20th Anniversary Edition"
          ],
          [
           "Muv-Luv (マブラヴ)"
          ],
          [
           "Gun Metal"
          ],
          [
           "Red Matter"
          ],
          [
           "Quasimorph"
          ],
          [
           "Command & Conquer™ Red Alert™ 3- Powstanie"
          ],
          [
           "Final Factory"
          ],
          [
           "Splatter - Zombiecalypse Now"
          ],
          [
           "SUPERHOT"
          ],
          [
           "Airborne Empire"
          ],
          [
           "Chorus"
          ],
          [
           "Gatekeeper"
          ],
          [
           "NORCO"
          ],
          [
           "Deponia"
          ],
          [
           "Azure Striker GUNVOLT 3"
          ],
          [
           "Uplink"
          ],
          [
           "Avorion"
          ]
         ],
         "hovertemplate": "Nacechowanie recenzji=Bardzo pozytywne<br>Cena (zł)=%{x}<br>Liczba recenzji=%{y}<br>Tytuł=%{customdata[0]}<extra></extra>",
         "legendgroup": "Bardzo pozytywne",
         "marker": {
          "color": "lightgreen",
          "symbol": "circle"
         },
         "mode": "markers",
         "name": "Bardzo pozytywne",
         "orientation": "v",
         "showlegend": true,
         "type": "scatter",
         "x": [
          0,
          42.25,
          45.86,
          199,
          10.79,
          46.24,
          157.49,
          229.99,
          13.89,
          64.49,
          35.74,
          164.99,
          75.59,
          26.56,
          72.59,
          49.75,
          55.99,
          91.99,
          31.75,
          35.63,
          63.99,
          0,
          69.99,
          9.19,
          20.39,
          22.99,
          15.6,
          72.99,
          43.19,
          29.99,
          58.49,
          45.99,
          29.99,
          138.99,
          83.39,
          185.59,
          0,
          71.99,
          43.19,
          59.6,
          75,
          12.6,
          31.99,
          67.6,
          59.99,
          219,
          91.99,
          12.6,
          149.99,
          89.99,
          32.24,
          79,
          65.99,
          35.74,
          50,
          31.99,
          29.97,
          67.99,
          79.9,
          39.99,
          68.64,
          21.24,
          209.99,
          54.39,
          138.99,
          138.99,
          45.99,
          27.99,
          149.99,
          199.99,
          78.99,
          99,
          24.75,
          14.29,
          214.99,
          0,
          94.99,
          10.79,
          259,
          269.9,
          254.8,
          91.99,
          231.99,
          59,
          114.99,
          19.99,
          219,
          26.7,
          89.99,
          59.99,
          69.3,
          107.46,
          21.59,
          89.99,
          77.99,
          68.7,
          71.99,
          199,
          35.99,
          138.74,
          42.99,
          55.19,
          63.99,
          73.59,
          91.99,
          44.99,
          184.99,
          59.99,
          9.99,
          82.99,
          54.99,
          161.99,
          26.99,
          25.89,
          159.9,
          7.19,
          39.99,
          29.99,
          49.99,
          72.99,
          35.99,
          73.59,
          69.9,
          138.99,
          114.99,
          45.99,
          0,
          114.99,
          79.99,
          21.12,
          36.99,
          82.79,
          6.89,
          32.39,
          69.49,
          67.99,
          85.9,
          17.81,
          109,
          124.99,
          122.99,
          39.99,
          114.99,
          99,
          99,
          71.99,
          26.99,
          124,
          104.99,
          24.06,
          33.99,
          45.99,
          91.99,
          45.99,
          91.99,
          91.99,
          91.99,
          91.99,
          91.99,
          89.99,
          91.99,
          107.99,
          89.99,
          44.99,
          89.99,
          71.49,
          67.52,
          9.19,
          0,
          14.66,
          88.49,
          9.59,
          86.24,
          184.99,
          49.99,
          46.99,
          82.99,
          69.99,
          0,
          35.99,
          79.99,
          80,
          39.9,
          119,
          119.9,
          73.59,
          10.99,
          7.19,
          73.43,
          17.99,
          35.99,
          35.99,
          100,
          100,
          100,
          34.99,
          34.68,
          67.99,
          67.99,
          7.19,
          66.49,
          62.99,
          254.8,
          71.99,
          100,
          100,
          59.99,
          59.99,
          39.99,
          55.93,
          55.59,
          13.49,
          53.99,
          71.2,
          100,
          52.19,
          12.77,
          29.99,
          125.09,
          21.12,
          47.99,
          23.99,
          3.59,
          46.8,
          36.79,
          114.99
         ],
         "xaxis": "x",
         "y": [
          182553,
          169843,
          86065,
          715753,
          612000,
          124289,
          107919,
          79211,
          98175,
          27610,
          16363,
          34215,
          42756,
          13989,
          26482,
          215389,
          22712,
          266531,
          101357,
          10780,
          4681,
          65154,
          49377,
          60529,
          48068,
          41794,
          7757,
          38741,
          10122,
          95010,
          12115,
          10614,
          10836,
          98,
          8172,
          5165,
          550767,
          95500,
          50481,
          14253,
          4528,
          79958,
          6980,
          7858,
          2002,
          92645,
          3836,
          58984,
          21481,
          40525,
          2847,
          256332,
          4637,
          20453,
          32876,
          428,
          18784,
          12033,
          21610,
          14900,
          2717,
          17045,
          39732,
          693,
          4508,
          107935,
          282,
          631,
          957,
          18908,
          1283,
          16076,
          7468,
          7498,
          8643,
          72445,
          2551,
          5426,
          13811,
          48750,
          136348,
          71,
          11094,
          446,
          2081,
          10389,
          68732,
          6127,
          405,
          12642,
          171,
          1439,
          82811,
          15140,
          1176,
          3250,
          15230,
          221,
          34827,
          2313,
          1332,
          9982,
          1052,
          2296,
          34481,
          11350,
          7135,
          906,
          11276,
          2897,
          409,
          8185,
          16571,
          7349,
          26916,
          3878,
          46831,
          1876,
          3091,
          1294,
          7977,
          943,
          58329,
          106,
          1757,
          10286,
          22517,
          30412,
          12629,
          57056,
          407,
          402,
          8177,
          4615,
          2816,
          9206,
          38165,
          1112,
          14482,
          8309,
          646,
          1487,
          5260,
          5667,
          4756,
          36261,
          2912,
          29993,
          4688,
          393,
          1081,
          20540,
          5704,
          45071,
          402,
          867,
          6362,
          9745,
          14920,
          1356,
          570,
          246,
          5082,
          11950,
          38835,
          15930,
          23427,
          1828,
          3983,
          75,
          299,
          19309,
          636,
          4004,
          3479,
          281,
          1540,
          13065,
          2194,
          216,
          7324,
          182,
          9028,
          553,
          18206,
          199,
          9197,
          2623,
          462,
          19093,
          2429,
          16822,
          4402,
          13217,
          7569,
          3480,
          379,
          23932,
          85929,
          2192,
          5223,
          2781,
          20516,
          100,
          776,
          7046,
          1213,
          6066,
          2060,
          954,
          1376,
          556,
          910,
          3394,
          3875,
          232,
          2019,
          25751,
          221,
          3196,
          1240,
          2137,
          9262,
          369,
          1692,
          11923
         ],
         "yaxis": "y"
        },
        {
         "customdata": [
          [
           "HELLDIVERS™ 2"
          ],
          [
           "Once Human"
          ],
          [
           "ICARUS"
          ],
          [
           "Frostpunk 2"
          ],
          [
           "Fallout 76"
          ],
          [
           "Dying Light 2 Stay Human: Reloaded Edition"
          ],
          [
           "Snowbreak: Containment Zone"
          ],
          [
           "Warhammer 40,000: Darktide"
          ],
          [
           "Dead Island 2"
          ],
          [
           "Dune: Spice Wars"
          ],
          [
           "Ostranauts"
          ],
          [
           "Crossout"
          ],
          [
           "Destiny 2"
          ],
          [
           "New Cycle"
          ],
          [
           "IDUN"
          ],
          [
           "Metro Awakening"
          ],
          [
           "Iron Harvest"
          ],
          [
           "Tom Clancy’s The Division® 2"
          ],
          [
           "Empire of the Ants"
          ],
          [
           "Far Cry® New Dawn"
          ],
          [
           "Infection Free Zone"
          ],
          [
           "Battlefleet Gothic: Armada 2"
          ],
          [
           "Halo Infinite"
          ],
          [
           "MechWarrior 5: Clans"
          ],
          [
           "Tower of Fantasy"
          ],
          [
           "Distant Worlds 2"
          ],
          [
           "Warhammer 40,000: Chaos Gate - Daemonhunters"
          ],
          [
           "The Ascent"
          ],
          [
           "Star Trucker"
          ],
          [
           "Gears Tactics"
          ],
          [
           "Star Wars Outlaws"
          ],
          [
           "Age of Water"
          ],
          [
           "Hidden Deep"
          ],
          [
           "Phantasy Star Online 2 New Genesis"
          ],
          [
           "Homeworld: Deserts of Kharak"
          ],
          [
           "Horizon Zero Dawn™ Remastered"
          ],
          [
           "The Last of Us™ Part I"
          ],
          [
           "CryoFall"
          ],
          [
           "Dark Sky"
          ],
          [
           "Warhammer 40,000: Inquisitor - Martyr"
          ],
          [
           "Mass Effect: Andromeda - ulepszenie Deluxe"
          ],
          [
           "Surviving the Aftermath"
          ],
          [
           "IXION"
          ],
          [
           "Urban Strife"
          ],
          [
           "Twelve Minutes"
          ],
          [
           "Dustwind"
          ],
          [
           "Will To Live Online"
          ],
          [
           "Revival: Recolonization"
          ],
          [
           "Dead Space™ 3"
          ],
          [
           "The Crust"
          ],
          [
           "Master of Orion"
          ],
          [
           "Crysis Remastered"
          ],
          [
           "Occupy Mars: The Game"
          ],
          [
           "Deadside"
          ],
          [
           "Among Us VR"
          ],
          [
           "Ghosts of Tabor"
          ],
          [
           "Rick and Morty: Virtual Rick-ality"
          ],
          [
           "Fort Solis"
          ],
          [
           "OVRLRD"
          ],
          [
           "Thief"
          ],
          [
           "Survivors of the Dawn"
          ],
          [
           "XCOM®: Chimera Squad"
          ],
          [
           "Torment: Tides of Numenera"
          ],
          [
           "Red Faction Guerrilla Re-Mars-tered"
          ],
          [
           "Star Trek Online"
          ],
          [
           "After the Fall®"
          ],
          [
           "The Surge"
          ],
          [
           "Phoenix Point"
          ],
          [
           "Silica"
          ],
          [
           "STAR WARS™ Battlefront"
          ],
          [
           "Elite Dangerous"
          ],
          [
           "DUCKSIDE"
          ],
          [
           "Space Simulation Toolkit"
          ],
          [
           "The Surge 2"
          ],
          [
           "Reverse Collapse: Code Name Bakery"
          ],
          [
           "X4: Foundations"
          ],
          [
           "Scars Above"
          ],
          [
           "Deadlight"
          ],
          [
           "Star Dynasties"
          ],
          [
           "ENDLESS™ Space - Definitive Edition"
          ],
          [
           "The Leviathan's fantasy"
          ],
          [
           "Generation Zero®"
          ]
         ],
         "hovertemplate": "Nacechowanie recenzji=W większości pozytywne<br>Cena (zł)=%{x}<br>Liczba recenzji=%{y}<br>Tytuł=%{customdata[0]}<extra></extra>",
         "legendgroup": "W większości pozytywne",
         "marker": {
          "color": "yellow",
          "symbol": "circle"
         },
         "mode": "markers",
         "name": "W większości pozytywne",
         "orientation": "v",
         "showlegend": true,
         "type": "scatter",
         "x": [
          169,
          0,
          161.99,
          124.79,
          169.9,
          199.99,
          0,
          84.99,
          105.63,
          86.34,
          73.59,
          0,
          0,
          49.99,
          61.19,
          111.3,
          19.01,
          39.97,
          118.3,
          35.98,
          79.99,
          13.99,
          0,
          173.99,
          0,
          92.79,
          48.59,
          31,
          74.24,
          49.17,
          289.9,
          64.5,
          32.39,
          0,
          17.99,
          219,
          259,
          7.99,
          27.59,
          231.99,
          189.9,
          138.99,
          161.99,
          161.99,
          39.99,
          31.49,
          0,
          138.99,
          69.9,
          119,
          89.99,
          107.99,
          114.99,
          114.99,
          17.99,
          114.99,
          107.99,
          58.17,
          95,
          89.9,
          18.49,
          89.9,
          31.24,
          84.48,
          0,
          41.69,
          6.49,
          89.99,
          71.99,
          69.9,
          91.99,
          67.99,
          64.39,
          14.99,
          114.99,
          199.99,
          25.34,
          13.49,
          48.78,
          8.99,
          24.41,
          99.99
         ],
         "xaxis": "x",
         "y": [
          706413,
          117775,
          35431,
          14948,
          64469,
          137460,
          7038,
          87431,
          7998,
          10237,
          1531,
          62777,
          617922,
          1881,
          206,
          1786,
          10660,
          17357,
          631,
          27725,
          11394,
          8557,
          174780,
          3830,
          10471,
          2380,
          9677,
          17561,
          3644,
          6737,
          2207,
          1898,
          3494,
          23737,
          7324,
          2413,
          39626,
          4517,
          37,
          18096,
          13861,
          2902,
          12960,
          163,
          6691,
          296,
          17258,
          319,
          9624,
          1884,
          6995,
          11110,
          1947,
          31402,
          2288,
          7774,
          2088,
          1673,
          34,
          16525,
          569,
          19735,
          1948,
          3012,
          19809,
          2325,
          7656,
          4499,
          3892,
          4383,
          74276,
          1974,
          302,
          6259,
          4144,
          18621,
          1947,
          9237,
          364,
          6511,
          52,
          27375
         ],
         "yaxis": "y"
        },
        {
         "customdata": [
          [
           "Planetiles"
          ],
          [
           "SACRIFICE VILLAINS"
          ],
          [
           "Infest"
          ],
          [
           "Super Roboy"
          ],
          [
           "Mini Mini Golf Golf"
          ]
         ],
         "hovertemplate": "Nacechowanie recenzji=Pozytywne<br>Cena (zł)=%{x}<br>Liczba recenzji=%{y}<br>Tytuł=%{customdata[0]}<extra></extra>",
         "legendgroup": "Pozytywne",
         "marker": {
          "color": "yellow",
          "symbol": "circle"
         },
         "mode": "markers",
         "name": "Pozytywne",
         "orientation": "v",
         "showlegend": true,
         "type": "scatter",
         "x": [
          45.99,
          73.59,
          54.39,
          54.39,
          47.99
         ],
         "xaxis": "x",
         "y": [
          48,
          17,
          14,
          17,
          25
         ],
         "yaxis": "y"
        },
        {
         "customdata": [
          [
           "Apex Legends™"
          ],
          [
           "The First Descendant"
          ],
          [
           "War Robots"
          ],
          [
           "Battlefield™ 2042"
          ],
          [
           "ENDLESS™ Dungeon"
          ],
          [
           "Stay Out"
          ],
          [
           "Build Master: MarsVille"
          ],
          [
           "Warhammer 40,000: Dawn of War III"
          ],
          [
           "Warhammer 40,000: Warpforge"
          ],
          [
           "Watch Dogs®: Legion"
          ],
          [
           "Hyper Light Breaker"
          ],
          [
           "Anno 2205™"
          ],
          [
           "SYNDUALITY Echo of Ada"
          ],
          [
           "Outpost: Infinity Siege"
          ],
          [
           "Echocalypse: The Scarlet Covenant"
          ],
          [
           "Warhammer The Horus Heresy: Legions"
          ],
          [
           "FINAL FANTASY VII EVER CRISIS"
          ],
          [
           "Avatar: Frontiers of Pandora™"
          ],
          [
           "Battlefleet Gothic: Armada"
          ],
          [
           "DOOM VFR"
          ],
          [
           "FREEDOM WARS Remastered"
          ],
          [
           "Capes"
          ],
          [
           "Starfield"
          ],
          [
           "Stargate: Timekeepers"
          ],
          [
           "White Sands"
          ],
          [
           "Left to Survive: Shooter PVP"
          ],
          [
           "Necromunda: Hired Gun"
          ],
          [
           "Anno 2070™"
          ],
          [
           "Road 96: Mile 0"
          ],
          [
           "ANOTHER EDEN"
          ],
          [
           "One Lonely Outpost"
          ],
          [
           "Vigor"
          ],
          [
           "Serum"
          ],
          [
           "Infinite Lagrange"
          ],
          [
           "Life Not Supported"
          ],
          [
           "StarMade"
          ],
          [
           "Aquatico"
          ]
         ],
         "hovertemplate": "Nacechowanie recenzji=Mieszane<br>Cena (zł)=%{x}<br>Liczba recenzji=%{y}<br>Tytuł=%{customdata[0]}<extra></extra>",
         "legendgroup": "Mieszane",
         "marker": {
          "color": "orange",
          "symbol": "circle"
         },
         "mode": "markers",
         "name": "Mieszane",
         "orientation": "v",
         "showlegend": true,
         "type": "scatter",
         "x": [
          0,
          0,
          0,
          269.9,
          35.6,
          0,
          0,
          35.8,
          0,
          37.48,
          114.99,
          159.9,
          169,
          63.24,
          0,
          0,
          0,
          289.9,
          7.49,
          14.75,
          179,
          84.5,
          299,
          118.14,
          109.95,
          0,
          29.99,
          19.97,
          13.74,
          0,
          29.99,
          0,
          64.99,
          0,
          60.89,
          53.99,
          26.99
         ],
         "xaxis": "x",
         "y": [
          976249,
          97782,
          24994,
          227036,
          2648,
          24049,
          182,
          13017,
          2531,
          8947,
          2406,
          5662,
          751,
          10843,
          240,
          2831,
          2660,
          2398,
          4875,
          2164,
          943,
          342,
          106827,
          166,
          26,
          384,
          5295,
          11131,
          1340,
          1813,
          432,
          5854,
          179,
          817,
          133,
          2180,
          748
         ],
         "yaxis": "y"
        },
        {
         "customdata": [
          [
           "Overwatch® 2"
          ],
          [
           "Homeworld 3"
          ]
         ],
         "hovertemplate": "Nacechowanie recenzji=W większości negatywne<br>Cena (zł)=%{x}<br>Liczba recenzji=%{y}<br>Tytuł=%{customdata[0]}<extra></extra>",
         "legendgroup": "W większości negatywne",
         "marker": {
          "color": "red",
          "symbol": "circle"
         },
         "mode": "markers",
         "name": "W większości negatywne",
         "orientation": "v",
         "showlegend": true,
         "type": "scatter",
         "x": [
          0,
          124.5
         ],
         "xaxis": "x",
         "y": [
          325520,
          4929
         ],
         "yaxis": "y"
        },
        {
         "customdata": [
          [
           "Command & Conquer™ 4 Tyberyjski zmierzch"
          ]
         ],
         "hovertemplate": "Nacechowanie recenzji=Przytłaczająco negatywne<br>Cena (zł)=%{x}<br>Liczba recenzji=%{y}<br>Tytuł=%{customdata[0]}<extra></extra>",
         "legendgroup": "Przytłaczająco negatywne",
         "marker": {
          "color": "darkred",
          "symbol": "circle"
         },
         "mode": "markers",
         "name": "Przytłaczająco negatywne",
         "orientation": "v",
         "showlegend": true,
         "type": "scatter",
         "x": [
          100
         ],
         "xaxis": "x",
         "y": [
          4076
         ],
         "yaxis": "y"
        },
        {
         "customdata": [
          [
           "Airships: Lost Flotilla"
          ]
         ],
         "hovertemplate": "Nacechowanie recenzji=Brak informacji<br>Cena (zł)=%{x}<br>Liczba recenzji=%{y}<br>Tytuł=%{customdata[0]}<extra></extra>",
         "legendgroup": "Brak informacji",
         "marker": {
          "color": "#B6E880",
          "symbol": "circle"
         },
         "mode": "markers",
         "name": "Brak informacji",
         "orientation": "v",
         "showlegend": true,
         "type": "scatter",
         "x": [
          22
         ],
         "xaxis": "x",
         "y": [
          0
         ],
         "yaxis": "y"
        }
       ],
       "layout": {
        "legend": {
         "title": {
          "text": "Nacechowanie recenzji"
         },
         "tracegroupgap": 0
        },
        "template": {
         "data": {
          "bar": [
           {
            "error_x": {
             "color": "#2a3f5f"
            },
            "error_y": {
             "color": "#2a3f5f"
            },
            "marker": {
             "line": {
              "color": "#E5ECF6",
              "width": 0.5
             },
             "pattern": {
              "fillmode": "overlay",
              "size": 10,
              "solidity": 0.2
             }
            },
            "type": "bar"
           }
          ],
          "barpolar": [
           {
            "marker": {
             "line": {
              "color": "#E5ECF6",
              "width": 0.5
             },
             "pattern": {
              "fillmode": "overlay",
              "size": 10,
              "solidity": 0.2
             }
            },
            "type": "barpolar"
           }
          ],
          "carpet": [
           {
            "aaxis": {
             "endlinecolor": "#2a3f5f",
             "gridcolor": "white",
             "linecolor": "white",
             "minorgridcolor": "white",
             "startlinecolor": "#2a3f5f"
            },
            "baxis": {
             "endlinecolor": "#2a3f5f",
             "gridcolor": "white",
             "linecolor": "white",
             "minorgridcolor": "white",
             "startlinecolor": "#2a3f5f"
            },
            "type": "carpet"
           }
          ],
          "choropleth": [
           {
            "colorbar": {
             "outlinewidth": 0,
             "ticks": ""
            },
            "type": "choropleth"
           }
          ],
          "contour": [
           {
            "colorbar": {
             "outlinewidth": 0,
             "ticks": ""
            },
            "colorscale": [
             [
              0,
              "#0d0887"
             ],
             [
              0.1111111111111111,
              "#46039f"
             ],
             [
              0.2222222222222222,
              "#7201a8"
             ],
             [
              0.3333333333333333,
              "#9c179e"
             ],
             [
              0.4444444444444444,
              "#bd3786"
             ],
             [
              0.5555555555555556,
              "#d8576b"
             ],
             [
              0.6666666666666666,
              "#ed7953"
             ],
             [
              0.7777777777777778,
              "#fb9f3a"
             ],
             [
              0.8888888888888888,
              "#fdca26"
             ],
             [
              1,
              "#f0f921"
             ]
            ],
            "type": "contour"
           }
          ],
          "contourcarpet": [
           {
            "colorbar": {
             "outlinewidth": 0,
             "ticks": ""
            },
            "type": "contourcarpet"
           }
          ],
          "heatmap": [
           {
            "colorbar": {
             "outlinewidth": 0,
             "ticks": ""
            },
            "colorscale": [
             [
              0,
              "#0d0887"
             ],
             [
              0.1111111111111111,
              "#46039f"
             ],
             [
              0.2222222222222222,
              "#7201a8"
             ],
             [
              0.3333333333333333,
              "#9c179e"
             ],
             [
              0.4444444444444444,
              "#bd3786"
             ],
             [
              0.5555555555555556,
              "#d8576b"
             ],
             [
              0.6666666666666666,
              "#ed7953"
             ],
             [
              0.7777777777777778,
              "#fb9f3a"
             ],
             [
              0.8888888888888888,
              "#fdca26"
             ],
             [
              1,
              "#f0f921"
             ]
            ],
            "type": "heatmap"
           }
          ],
          "heatmapgl": [
           {
            "colorbar": {
             "outlinewidth": 0,
             "ticks": ""
            },
            "colorscale": [
             [
              0,
              "#0d0887"
             ],
             [
              0.1111111111111111,
              "#46039f"
             ],
             [
              0.2222222222222222,
              "#7201a8"
             ],
             [
              0.3333333333333333,
              "#9c179e"
             ],
             [
              0.4444444444444444,
              "#bd3786"
             ],
             [
              0.5555555555555556,
              "#d8576b"
             ],
             [
              0.6666666666666666,
              "#ed7953"
             ],
             [
              0.7777777777777778,
              "#fb9f3a"
             ],
             [
              0.8888888888888888,
              "#fdca26"
             ],
             [
              1,
              "#f0f921"
             ]
            ],
            "type": "heatmapgl"
           }
          ],
          "histogram": [
           {
            "marker": {
             "pattern": {
              "fillmode": "overlay",
              "size": 10,
              "solidity": 0.2
             }
            },
            "type": "histogram"
           }
          ],
          "histogram2d": [
           {
            "colorbar": {
             "outlinewidth": 0,
             "ticks": ""
            },
            "colorscale": [
             [
              0,
              "#0d0887"
             ],
             [
              0.1111111111111111,
              "#46039f"
             ],
             [
              0.2222222222222222,
              "#7201a8"
             ],
             [
              0.3333333333333333,
              "#9c179e"
             ],
             [
              0.4444444444444444,
              "#bd3786"
             ],
             [
              0.5555555555555556,
              "#d8576b"
             ],
             [
              0.6666666666666666,
              "#ed7953"
             ],
             [
              0.7777777777777778,
              "#fb9f3a"
             ],
             [
              0.8888888888888888,
              "#fdca26"
             ],
             [
              1,
              "#f0f921"
             ]
            ],
            "type": "histogram2d"
           }
          ],
          "histogram2dcontour": [
           {
            "colorbar": {
             "outlinewidth": 0,
             "ticks": ""
            },
            "colorscale": [
             [
              0,
              "#0d0887"
             ],
             [
              0.1111111111111111,
              "#46039f"
             ],
             [
              0.2222222222222222,
              "#7201a8"
             ],
             [
              0.3333333333333333,
              "#9c179e"
             ],
             [
              0.4444444444444444,
              "#bd3786"
             ],
             [
              0.5555555555555556,
              "#d8576b"
             ],
             [
              0.6666666666666666,
              "#ed7953"
             ],
             [
              0.7777777777777778,
              "#fb9f3a"
             ],
             [
              0.8888888888888888,
              "#fdca26"
             ],
             [
              1,
              "#f0f921"
             ]
            ],
            "type": "histogram2dcontour"
           }
          ],
          "mesh3d": [
           {
            "colorbar": {
             "outlinewidth": 0,
             "ticks": ""
            },
            "type": "mesh3d"
           }
          ],
          "parcoords": [
           {
            "line": {
             "colorbar": {
              "outlinewidth": 0,
              "ticks": ""
             }
            },
            "type": "parcoords"
           }
          ],
          "pie": [
           {
            "automargin": true,
            "type": "pie"
           }
          ],
          "scatter": [
           {
            "fillpattern": {
             "fillmode": "overlay",
             "size": 10,
             "solidity": 0.2
            },
            "type": "scatter"
           }
          ],
          "scatter3d": [
           {
            "line": {
             "colorbar": {
              "outlinewidth": 0,
              "ticks": ""
             }
            },
            "marker": {
             "colorbar": {
              "outlinewidth": 0,
              "ticks": ""
             }
            },
            "type": "scatter3d"
           }
          ],
          "scattercarpet": [
           {
            "marker": {
             "colorbar": {
              "outlinewidth": 0,
              "ticks": ""
             }
            },
            "type": "scattercarpet"
           }
          ],
          "scattergeo": [
           {
            "marker": {
             "colorbar": {
              "outlinewidth": 0,
              "ticks": ""
             }
            },
            "type": "scattergeo"
           }
          ],
          "scattergl": [
           {
            "marker": {
             "colorbar": {
              "outlinewidth": 0,
              "ticks": ""
             }
            },
            "type": "scattergl"
           }
          ],
          "scattermapbox": [
           {
            "marker": {
             "colorbar": {
              "outlinewidth": 0,
              "ticks": ""
             }
            },
            "type": "scattermapbox"
           }
          ],
          "scatterpolar": [
           {
            "marker": {
             "colorbar": {
              "outlinewidth": 0,
              "ticks": ""
             }
            },
            "type": "scatterpolar"
           }
          ],
          "scatterpolargl": [
           {
            "marker": {
             "colorbar": {
              "outlinewidth": 0,
              "ticks": ""
             }
            },
            "type": "scatterpolargl"
           }
          ],
          "scatterternary": [
           {
            "marker": {
             "colorbar": {
              "outlinewidth": 0,
              "ticks": ""
             }
            },
            "type": "scatterternary"
           }
          ],
          "surface": [
           {
            "colorbar": {
             "outlinewidth": 0,
             "ticks": ""
            },
            "colorscale": [
             [
              0,
              "#0d0887"
             ],
             [
              0.1111111111111111,
              "#46039f"
             ],
             [
              0.2222222222222222,
              "#7201a8"
             ],
             [
              0.3333333333333333,
              "#9c179e"
             ],
             [
              0.4444444444444444,
              "#bd3786"
             ],
             [
              0.5555555555555556,
              "#d8576b"
             ],
             [
              0.6666666666666666,
              "#ed7953"
             ],
             [
              0.7777777777777778,
              "#fb9f3a"
             ],
             [
              0.8888888888888888,
              "#fdca26"
             ],
             [
              1,
              "#f0f921"
             ]
            ],
            "type": "surface"
           }
          ],
          "table": [
           {
            "cells": {
             "fill": {
              "color": "#EBF0F8"
             },
             "line": {
              "color": "white"
             }
            },
            "header": {
             "fill": {
              "color": "#C8D4E3"
             },
             "line": {
              "color": "white"
             }
            },
            "type": "table"
           }
          ]
         },
         "layout": {
          "annotationdefaults": {
           "arrowcolor": "#2a3f5f",
           "arrowhead": 0,
           "arrowwidth": 1
          },
          "autotypenumbers": "strict",
          "coloraxis": {
           "colorbar": {
            "outlinewidth": 0,
            "ticks": ""
           }
          },
          "colorscale": {
           "diverging": [
            [
             0,
             "#8e0152"
            ],
            [
             0.1,
             "#c51b7d"
            ],
            [
             0.2,
             "#de77ae"
            ],
            [
             0.3,
             "#f1b6da"
            ],
            [
             0.4,
             "#fde0ef"
            ],
            [
             0.5,
             "#f7f7f7"
            ],
            [
             0.6,
             "#e6f5d0"
            ],
            [
             0.7,
             "#b8e186"
            ],
            [
             0.8,
             "#7fbc41"
            ],
            [
             0.9,
             "#4d9221"
            ],
            [
             1,
             "#276419"
            ]
           ],
           "sequential": [
            [
             0,
             "#0d0887"
            ],
            [
             0.1111111111111111,
             "#46039f"
            ],
            [
             0.2222222222222222,
             "#7201a8"
            ],
            [
             0.3333333333333333,
             "#9c179e"
            ],
            [
             0.4444444444444444,
             "#bd3786"
            ],
            [
             0.5555555555555556,
             "#d8576b"
            ],
            [
             0.6666666666666666,
             "#ed7953"
            ],
            [
             0.7777777777777778,
             "#fb9f3a"
            ],
            [
             0.8888888888888888,
             "#fdca26"
            ],
            [
             1,
             "#f0f921"
            ]
           ],
           "sequentialminus": [
            [
             0,
             "#0d0887"
            ],
            [
             0.1111111111111111,
             "#46039f"
            ],
            [
             0.2222222222222222,
             "#7201a8"
            ],
            [
             0.3333333333333333,
             "#9c179e"
            ],
            [
             0.4444444444444444,
             "#bd3786"
            ],
            [
             0.5555555555555556,
             "#d8576b"
            ],
            [
             0.6666666666666666,
             "#ed7953"
            ],
            [
             0.7777777777777778,
             "#fb9f3a"
            ],
            [
             0.8888888888888888,
             "#fdca26"
            ],
            [
             1,
             "#f0f921"
            ]
           ]
          },
          "colorway": [
           "#636efa",
           "#EF553B",
           "#00cc96",
           "#ab63fa",
           "#FFA15A",
           "#19d3f3",
           "#FF6692",
           "#B6E880",
           "#FF97FF",
           "#FECB52"
          ],
          "font": {
           "color": "#2a3f5f"
          },
          "geo": {
           "bgcolor": "white",
           "lakecolor": "white",
           "landcolor": "#E5ECF6",
           "showlakes": true,
           "showland": true,
           "subunitcolor": "white"
          },
          "hoverlabel": {
           "align": "left"
          },
          "hovermode": "closest",
          "mapbox": {
           "style": "light"
          },
          "paper_bgcolor": "white",
          "plot_bgcolor": "#E5ECF6",
          "polar": {
           "angularaxis": {
            "gridcolor": "white",
            "linecolor": "white",
            "ticks": ""
           },
           "bgcolor": "#E5ECF6",
           "radialaxis": {
            "gridcolor": "white",
            "linecolor": "white",
            "ticks": ""
           }
          },
          "scene": {
           "xaxis": {
            "backgroundcolor": "#E5ECF6",
            "gridcolor": "white",
            "gridwidth": 2,
            "linecolor": "white",
            "showbackground": true,
            "ticks": "",
            "zerolinecolor": "white"
           },
           "yaxis": {
            "backgroundcolor": "#E5ECF6",
            "gridcolor": "white",
            "gridwidth": 2,
            "linecolor": "white",
            "showbackground": true,
            "ticks": "",
            "zerolinecolor": "white"
           },
           "zaxis": {
            "backgroundcolor": "#E5ECF6",
            "gridcolor": "white",
            "gridwidth": 2,
            "linecolor": "white",
            "showbackground": true,
            "ticks": "",
            "zerolinecolor": "white"
           }
          },
          "shapedefaults": {
           "line": {
            "color": "#2a3f5f"
           }
          },
          "ternary": {
           "aaxis": {
            "gridcolor": "white",
            "linecolor": "white",
            "ticks": ""
           },
           "baxis": {
            "gridcolor": "white",
            "linecolor": "white",
            "ticks": ""
           },
           "bgcolor": "#E5ECF6",
           "caxis": {
            "gridcolor": "white",
            "linecolor": "white",
            "ticks": ""
           }
          },
          "title": {
           "x": 0.05
          },
          "xaxis": {
           "automargin": true,
           "gridcolor": "white",
           "linecolor": "white",
           "ticks": "",
           "title": {
            "standoff": 15
           },
           "zerolinecolor": "white",
           "zerolinewidth": 2
          },
          "yaxis": {
           "automargin": true,
           "gridcolor": "white",
           "linecolor": "white",
           "ticks": "",
           "title": {
            "standoff": 15
           },
           "zerolinecolor": "white",
           "zerolinewidth": 2
          }
         }
        },
        "title": {
         "text": "Cena vs. liczba recenzji"
        },
        "xaxis": {
         "anchor": "y",
         "domain": [
          0,
          1
         ],
         "title": {
          "text": "Cena (zł)"
         }
        },
        "yaxis": {
         "anchor": "x",
         "domain": [
          0,
          1
         ],
         "title": {
          "text": "Liczba recenzji"
         }
        }
       }
      }
     },
     "metadata": {},
     "output_type": "display_data"
    }
   ],
   "source": [
    "# 1. Zależność między ceną a liczbą recenzji\n",
    "\n",
    "import plotly.express as px\n",
    "\n",
    "# Ustalamy kolejność nacechowania recenzji od najbardziej pozytywnych do najmniej pozytywnych\n",
    "category_order = ['Przytłaczająco pozytywne', 'Bardzo pozytywne', 'W większości pozytywne', 'Pozytywne', 'Mieszane', 'W większości negatywne', 'Przytłaczająco negatywne']\n",
    "\n",
    "# Tworzymy wykres\n",
    "fig = px.scatter(df, x='Cena', y='Liczba recenzji', color='Nacechowanie recenzji',\n",
    "                 title='Cena vs. liczba recenzji', labels={'Cena': 'Cena (zł)', 'Liczba recenzji': 'Liczba recenzji'},\n",
    "                 hover_data=['Tytuł'],\n",
    "                 category_orders={'Nacechowanie recenzji': category_order},\n",
    "                 color_continuous_scale='RdYlGn',  # Ustawienie palety kolorów\n",
    "                 color_discrete_map={'Przytłaczająco pozytywne': 'green', 'Bardzo pozytywne': 'lightgreen', \n",
    "                                     'W większości pozytywne': 'yellow', 'Pozytywne': 'yellow', \n",
    "                                     'Mieszane': 'orange', 'W większości negatywne': 'red', 'Przytłaczająco negatywne': 'darkred'})\n",
    "\n",
    "# Wyświetlamy wykres\n",
    "fig.show()\n",
    "\n"
   ]
  },
  {
   "cell_type": "code",
   "execution_count": 24,
   "metadata": {},
   "outputs": [
    {
     "data": {
      "application/vnd.plotly.v1+json": {
       "config": {
        "plotlyServerURL": "https://plot.ly"
       },
       "data": [
        {
         "alignmentgroup": "True",
         "hovertemplate": "Nacechowanie recenzji=%{x}<br>Cena (zł)=%{y}<extra></extra>",
         "legendgroup": "",
         "marker": {
          "color": "#636efa"
         },
         "name": "",
         "notched": false,
         "offsetgroup": "",
         "orientation": "v",
         "showlegend": false,
         "type": "box",
         "x": [
          "Bardzo pozytywne",
          "Przytłaczająco pozytywne",
          "Bardzo pozytywne",
          "Bardzo pozytywne",
          "Bardzo pozytywne",
          "Bardzo pozytywne",
          "W większości pozytywne",
          "Bardzo pozytywne",
          "Mieszane",
          "Bardzo pozytywne",
          "Przytłaczająco pozytywne",
          "W większości pozytywne",
          "Przytłaczająco pozytywne",
          "Bardzo pozytywne",
          "Przytłaczająco pozytywne",
          "Przytłaczająco pozytywne",
          "Bardzo pozytywne",
          "W większości pozytywne",
          "Przytłaczająco pozytywne",
          "W większości pozytywne",
          "Bardzo pozytywne",
          "Bardzo pozytywne",
          "Bardzo pozytywne",
          "Bardzo pozytywne",
          "W większości pozytywne",
          "Bardzo pozytywne",
          "Bardzo pozytywne",
          "Bardzo pozytywne",
          "Bardzo pozytywne",
          "W większości pozytywne",
          "Bardzo pozytywne",
          "W większości pozytywne",
          "Bardzo pozytywne",
          "Bardzo pozytywne",
          "Przytłaczająco pozytywne",
          "W większości negatywne",
          "Przytłaczająco pozytywne",
          "Bardzo pozytywne",
          "W większości pozytywne",
          "W większości pozytywne",
          "Bardzo pozytywne",
          "Bardzo pozytywne",
          "Przytłaczająco pozytywne",
          "Bardzo pozytywne",
          "W większości pozytywne",
          "Mieszane",
          "W większości pozytywne",
          "Bardzo pozytywne",
          "Mieszane",
          "Przytłaczająco pozytywne",
          "W większości pozytywne",
          "Bardzo pozytywne",
          "Bardzo pozytywne",
          "W większości pozytywne",
          "W większości pozytywne",
          "Bardzo pozytywne",
          "Mieszane",
          "Bardzo pozytywne",
          "Bardzo pozytywne",
          "W większości pozytywne",
          "W większości pozytywne",
          "Przytłaczająco pozytywne",
          "Przytłaczająco pozytywne",
          "Bardzo pozytywne",
          "Bardzo pozytywne",
          "W większości pozytywne",
          "Mieszane",
          "Bardzo pozytywne",
          "Bardzo pozytywne",
          "Mieszane",
          "Mieszane",
          "Przytłaczająco pozytywne",
          "W większości pozytywne",
          "Bardzo pozytywne",
          "Przytłaczająco pozytywne",
          "W większości pozytywne",
          "W większości pozytywne",
          "Bardzo pozytywne",
          "W większości pozytywne",
          "Bardzo pozytywne",
          "Bardzo pozytywne",
          "Bardzo pozytywne",
          "Bardzo pozytywne",
          "Bardzo pozytywne",
          "Przytłaczająco pozytywne",
          "W większości pozytywne",
          "W większości pozytywne",
          "Mieszane",
          "Przytłaczająco pozytywne",
          "Bardzo pozytywne",
          "Bardzo pozytywne",
          "Bardzo pozytywne",
          "Bardzo pozytywne",
          "Bardzo pozytywne",
          "Przytłaczająco pozytywne",
          "Bardzo pozytywne",
          "Przytłaczająco pozytywne",
          "Mieszane",
          "Przytłaczająco pozytywne",
          "Przytłaczająco pozytywne",
          "Przytłaczająco pozytywne",
          "Bardzo pozytywne",
          "Przytłaczająco pozytywne",
          "W większości pozytywne",
          "W większości pozytywne",
          "Mieszane",
          "Bardzo pozytywne",
          "Przytłaczająco pozytywne",
          "Bardzo pozytywne",
          "Bardzo pozytywne",
          "Przytłaczająco pozytywne",
          "Bardzo pozytywne",
          "Bardzo pozytywne",
          "Bardzo pozytywne",
          "Bardzo pozytywne",
          "Przytłaczająco pozytywne",
          "Bardzo pozytywne",
          "W większości pozytywne",
          "W większości pozytywne",
          "Przytłaczająco pozytywne",
          "Przytłaczająco pozytywne",
          "Bardzo pozytywne",
          "W większości pozytywne",
          "Bardzo pozytywne",
          "Bardzo pozytywne",
          "Przytłaczająco pozytywne",
          "Bardzo pozytywne",
          "Bardzo pozytywne",
          "Bardzo pozytywne",
          "Mieszane",
          "Mieszane",
          "Przytłaczająco pozytywne",
          "Bardzo pozytywne",
          "Bardzo pozytywne",
          "Bardzo pozytywne",
          "Mieszane",
          "Bardzo pozytywne",
          "Bardzo pozytywne",
          "Bardzo pozytywne",
          "Mieszane",
          "Bardzo pozytywne",
          "Bardzo pozytywne",
          "W większości pozytywne",
          "W większości pozytywne",
          "W większości pozytywne",
          "Bardzo pozytywne",
          "W większości pozytywne",
          "Przytłaczająco pozytywne",
          "Przytłaczająco pozytywne",
          "Bardzo pozytywne",
          "Przytłaczająco pozytywne",
          "W większości pozytywne",
          "Bardzo pozytywne",
          "Bardzo pozytywne",
          "Bardzo pozytywne",
          "Bardzo pozytywne",
          "Przytłaczająco pozytywne",
          "Mieszane",
          "Bardzo pozytywne",
          "W większości pozytywne",
          "W większości pozytywne",
          "Bardzo pozytywne",
          "Przytłaczająco pozytywne",
          "W większości pozytywne",
          "Bardzo pozytywne",
          "W większości pozytywne",
          "Bardzo pozytywne",
          "Mieszane",
          "Bardzo pozytywne",
          "W większości pozytywne",
          "Bardzo pozytywne",
          "W większości pozytywne",
          "Przytłaczająco pozytywne",
          "Mieszane",
          "Bardzo pozytywne",
          "Przytłaczająco pozytywne",
          "Bardzo pozytywne",
          "Bardzo pozytywne",
          "Bardzo pozytywne",
          "Bardzo pozytywne",
          "Przytłaczająco pozytywne",
          "Bardzo pozytywne",
          "Mieszane",
          "Bardzo pozytywne",
          "Bardzo pozytywne",
          "Bardzo pozytywne",
          "Bardzo pozytywne",
          "Bardzo pozytywne",
          "Bardzo pozytywne",
          "W większości pozytywne",
          "Bardzo pozytywne",
          "Bardzo pozytywne",
          "Bardzo pozytywne",
          "Bardzo pozytywne",
          "Bardzo pozytywne",
          "Przytłaczająco pozytywne",
          "Bardzo pozytywne",
          "Bardzo pozytywne",
          "Przytłaczająco pozytywne",
          "W większości pozytywne",
          "Bardzo pozytywne",
          "Przytłaczająco pozytywne",
          "Bardzo pozytywne",
          "Mieszane",
          "Przytłaczająco pozytywne",
          "Bardzo pozytywne",
          "W większości pozytywne",
          "Bardzo pozytywne",
          "Bardzo pozytywne",
          "Bardzo pozytywne",
          "Mieszane",
          "Przytłaczająco pozytywne",
          "Pozytywne",
          "Bardzo pozytywne",
          "Mieszane",
          "Mieszane",
          "Bardzo pozytywne",
          "Bardzo pozytywne",
          "Bardzo pozytywne",
          "W większości pozytywne",
          "Bardzo pozytywne",
          "W większości pozytywne",
          "W większości pozytywne",
          "Przytłaczająco pozytywne",
          "W większości pozytywne",
          "Bardzo pozytywne",
          "Bardzo pozytywne",
          "Bardzo pozytywne",
          "Bardzo pozytywne",
          "Bardzo pozytywne",
          "W większości pozytywne",
          "Bardzo pozytywne",
          "Bardzo pozytywne",
          "Bardzo pozytywne",
          "W większości pozytywne",
          "Bardzo pozytywne",
          "Bardzo pozytywne",
          "Bardzo pozytywne",
          "Bardzo pozytywne",
          "Bardzo pozytywne",
          "Przytłaczająco pozytywne",
          "Przytłaczająco pozytywne",
          "Bardzo pozytywne",
          "Pozytywne",
          "Bardzo pozytywne",
          "Przytłaczająco pozytywne",
          "Bardzo pozytywne",
          "Bardzo pozytywne",
          "Bardzo pozytywne",
          "Bardzo pozytywne",
          "Bardzo pozytywne",
          "Bardzo pozytywne",
          "Brak informacji",
          "Bardzo pozytywne",
          "Bardzo pozytywne",
          "Bardzo pozytywne",
          "Bardzo pozytywne",
          "Bardzo pozytywne",
          "Bardzo pozytywne",
          "Mieszane",
          "Bardzo pozytywne",
          "W większości negatywne",
          "W większości pozytywne",
          "Bardzo pozytywne",
          "Mieszane",
          "Bardzo pozytywne",
          "W większości pozytywne",
          "W większości pozytywne",
          "W większości pozytywne",
          "W większości pozytywne",
          "Bardzo pozytywne",
          "Mieszane",
          "Przytłaczająco pozytywne",
          "W większości pozytywne",
          "Mieszane",
          "W większości pozytywne",
          "Mieszane",
          "Przytłaczająco pozytywne",
          "W większości pozytywne",
          "Przytłaczająco pozytywne",
          "Bardzo pozytywne",
          "Bardzo pozytywne",
          "Bardzo pozytywne",
          "Bardzo pozytywne",
          "W większości pozytywne",
          "W większości pozytywne",
          "Mieszane",
          "Bardzo pozytywne",
          "Bardzo pozytywne",
          "Przytłaczająco pozytywne",
          "W większości pozytywne",
          "W większości pozytywne",
          "Przytłaczająco pozytywne",
          "Bardzo pozytywne",
          "Bardzo pozytywne",
          "Mieszane",
          "W większości pozytywne",
          "Mieszane",
          "Bardzo pozytywne",
          "Przytłaczająco pozytywne",
          "Bardzo pozytywne",
          "Bardzo pozytywne",
          "Bardzo pozytywne",
          "Bardzo pozytywne",
          "Bardzo pozytywne",
          "Bardzo pozytywne",
          "Przytłaczająco pozytywne",
          "Bardzo pozytywne",
          "Bardzo pozytywne",
          "Bardzo pozytywne",
          "Bardzo pozytywne",
          "Bardzo pozytywne",
          "Bardzo pozytywne",
          "Bardzo pozytywne",
          "Bardzo pozytywne",
          "W większości pozytywne",
          "Bardzo pozytywne",
          "Bardzo pozytywne",
          "Bardzo pozytywne",
          "Bardzo pozytywne",
          "Bardzo pozytywne",
          "Bardzo pozytywne",
          "Bardzo pozytywne",
          "Bardzo pozytywne",
          "Bardzo pozytywne",
          "W większości pozytywne",
          "Przytłaczająco pozytywne",
          "Bardzo pozytywne",
          "W większości pozytywne",
          "Bardzo pozytywne",
          "Bardzo pozytywne",
          "Przytłaczająco negatywne",
          "Bardzo pozytywne",
          "Bardzo pozytywne",
          "Bardzo pozytywne",
          "Bardzo pozytywne",
          "Bardzo pozytywne",
          "W większości pozytywne",
          "Przytłaczająco pozytywne",
          "Bardzo pozytywne",
          "Mieszane",
          "Bardzo pozytywne",
          "W większości pozytywne",
          "Bardzo pozytywne",
          "Bardzo pozytywne",
          "Bardzo pozytywne",
          "Bardzo pozytywne",
          "Mieszane",
          "W większości pozytywne",
          "W większości pozytywne",
          "Przytłaczająco pozytywne",
          "Przytłaczająco pozytywne",
          "Bardzo pozytywne",
          "W większości pozytywne",
          "Bardzo pozytywne",
          "Bardzo pozytywne",
          "Bardzo pozytywne",
          "Bardzo pozytywne",
          "Bardzo pozytywne",
          "Bardzo pozytywne",
          "W większości pozytywne",
          "Przytłaczająco pozytywne",
          "Bardzo pozytywne",
          "Przytłaczająco pozytywne",
          "W większości pozytywne",
          "Bardzo pozytywne",
          "W większości pozytywne",
          "Przytłaczająco pozytywne",
          "Bardzo pozytywne",
          "Bardzo pozytywne",
          "Bardzo pozytywne",
          "Mieszane",
          "W większości pozytywne",
          "W większości pozytywne",
          "Bardzo pozytywne",
          "Przytłaczająco pozytywne",
          "Mieszane",
          "Bardzo pozytywne",
          "Bardzo pozytywne",
          "Mieszane",
          "Bardzo pozytywne",
          "Bardzo pozytywne",
          "Bardzo pozytywne",
          "Bardzo pozytywne",
          "Przytłaczająco pozytywne",
          "W większości pozytywne",
          "Bardzo pozytywne",
          "Przytłaczająco pozytywne",
          "W większości pozytywne",
          "W większości pozytywne",
          "Bardzo pozytywne",
          "Bardzo pozytywne",
          "Mieszane",
          "Pozytywne",
          "Pozytywne",
          "Bardzo pozytywne",
          "Przytłaczająco pozytywne",
          "Przytłaczająco pozytywne",
          "Bardzo pozytywne",
          "Mieszane",
          "W większości pozytywne",
          "Bardzo pozytywne",
          "Bardzo pozytywne",
          "Bardzo pozytywne",
          "Bardzo pozytywne",
          "Bardzo pozytywne",
          "W większości pozytywne",
          "Pozytywne",
          "Bardzo pozytywne",
          "W większości pozytywne",
          "Bardzo pozytywne",
          "Bardzo pozytywne",
          "Bardzo pozytywne",
          "Bardzo pozytywne",
          "W większości pozytywne",
          "W większości pozytywne",
          "Bardzo pozytywne",
          "Bardzo pozytywne",
          "Bardzo pozytywne"
         ],
         "x0": " ",
         "xaxis": "x",
         "y": [
          0,
          45.86,
          42.25,
          45.86,
          199,
          10.79,
          169,
          46.24,
          0,
          157.49,
          55.49,
          0,
          111.99,
          229.99,
          45.99,
          15.99,
          13.89,
          161.99,
          71.99,
          124.79,
          64.49,
          35.74,
          164.99,
          75.59,
          169.9,
          26.56,
          72.59,
          49.75,
          55.99,
          199.99,
          91.99,
          0,
          31.75,
          35.63,
          118.14,
          0,
          13.79,
          63.99,
          84.99,
          105.63,
          0,
          69.99,
          59.99,
          9.19,
          86.34,
          0,
          73.59,
          20.39,
          0,
          138.99,
          0,
          22.99,
          15.6,
          0,
          49.99,
          72.99,
          269.9,
          43.19,
          29.99,
          61.19,
          111.3,
          59.99,
          80.49,
          58.49,
          45.99,
          19.01,
          35.6,
          29.99,
          138.99,
          0,
          0,
          0,
          39.97,
          83.39,
          19.99,
          118.3,
          35.98,
          185.59,
          79.99,
          0,
          71.99,
          43.19,
          59.6,
          75,
          107.99,
          13.99,
          0,
          35.8,
          8.99,
          12.6,
          31.99,
          67.6,
          59.99,
          219,
          35.99,
          91.99,
          274.99,
          0,
          89.99,
          45.99,
          114.99,
          12.6,
          44.99,
          173.99,
          0,
          37.48,
          149.99,
          24.99,
          89.99,
          32.24,
          138.99,
          79,
          65.99,
          35.74,
          50,
          55.19,
          31.99,
          92.79,
          48.59,
          119.9,
          21.59,
          29.97,
          31,
          67.99,
          79.9,
          115,
          39.99,
          68.64,
          21.24,
          114.99,
          159.9,
          70.39,
          209.99,
          54.39,
          138.99,
          169,
          138.99,
          45.99,
          27.99,
          63.24,
          149.99,
          199.99,
          74.24,
          49.17,
          289.9,
          78.99,
          64.5,
          45.99,
          45.99,
          99,
          34.99,
          32.39,
          24.75,
          14.29,
          214.99,
          0,
          64.99,
          0,
          94.99,
          0,
          17.99,
          10.79,
          28.74,
          219,
          259,
          259,
          269.9,
          0,
          254.8,
          7.99,
          91.99,
          27.59,
          44.19,
          0,
          231.99,
          17.81,
          59,
          114.99,
          19.99,
          219,
          71.99,
          26.7,
          289.9,
          89.99,
          59.99,
          69.3,
          107.46,
          21.59,
          89.99,
          231.99,
          77.99,
          68.7,
          71.99,
          199,
          35.99,
          67.99,
          138.74,
          42.99,
          107.99,
          189.9,
          55.19,
          54.99,
          63.99,
          7.49,
          45.99,
          73.59,
          138.99,
          91.99,
          44.99,
          184.99,
          14.75,
          45.99,
          45.99,
          59.99,
          179,
          84.5,
          9.99,
          82.99,
          54.99,
          161.99,
          161.99,
          161.99,
          39.99,
          67.99,
          31.49,
          26.99,
          25.89,
          159.9,
          7.19,
          39.99,
          0,
          29.99,
          49.99,
          72.99,
          138.99,
          35.99,
          73.59,
          69.9,
          138.99,
          114.99,
          138.99,
          138.99,
          45.99,
          73.59,
          0,
          71.99,
          114.99,
          79.99,
          21.12,
          36.99,
          82.79,
          6.89,
          22,
          32.39,
          69.49,
          67.99,
          85.9,
          17.81,
          109,
          299,
          124.99,
          124.5,
          69.9,
          122.99,
          118.14,
          39.99,
          119,
          89.99,
          107.99,
          114.99,
          114.99,
          109.95,
          114.99,
          114.99,
          0,
          17.99,
          29.99,
          44.99,
          114.99,
          109,
          99,
          99,
          71.99,
          26.99,
          107.99,
          58.17,
          19.97,
          124,
          104.99,
          35.99,
          95,
          89.9,
          49.59,
          24.06,
          33.99,
          13.74,
          18.49,
          0,
          45.99,
          45.99,
          91.99,
          45.99,
          91.99,
          91.99,
          91.99,
          91.99,
          91.99,
          91.99,
          89.99,
          91.99,
          107.99,
          89.99,
          44.99,
          89.99,
          71.49,
          89.9,
          67.52,
          9.19,
          0,
          14.66,
          88.49,
          9.59,
          86.24,
          184.99,
          49.99,
          31.24,
          74.99,
          46.99,
          84.48,
          82.99,
          69.99,
          100,
          0,
          35.99,
          79.99,
          80,
          39.9,
          0,
          91.99,
          119,
          29.99,
          119.9,
          41.69,
          73.59,
          10.99,
          7.19,
          73.43,
          0,
          6.49,
          89.99,
          71.99,
          71.99,
          17.99,
          71.99,
          35.99,
          35.99,
          100,
          100,
          100,
          34.99,
          69.9,
          36.79,
          34.68,
          68.99,
          91.99,
          67.99,
          67.99,
          22.99,
          67.99,
          7.19,
          66.49,
          64.99,
          64.39,
          14.99,
          62.99,
          171.9,
          0,
          254.8,
          71.99,
          60.89,
          100,
          100,
          59.99,
          59.99,
          59.99,
          114.99,
          39.99,
          58.49,
          199.99,
          25.34,
          55.93,
          55.59,
          53.99,
          54.39,
          54.39,
          13.49,
          53.99,
          53.99,
          53.99,
          26.99,
          13.49,
          71.2,
          100,
          52.19,
          12.77,
          29.99,
          48.78,
          47.99,
          125.09,
          8.99,
          21.12,
          47.99,
          23.99,
          3.59,
          24.41,
          99.99,
          46.8,
          36.79,
          114.99
         ],
         "y0": " ",
         "yaxis": "y"
        }
       ],
       "layout": {
        "boxmode": "group",
        "legend": {
         "tracegroupgap": 0
        },
        "template": {
         "data": {
          "bar": [
           {
            "error_x": {
             "color": "#2a3f5f"
            },
            "error_y": {
             "color": "#2a3f5f"
            },
            "marker": {
             "line": {
              "color": "#E5ECF6",
              "width": 0.5
             },
             "pattern": {
              "fillmode": "overlay",
              "size": 10,
              "solidity": 0.2
             }
            },
            "type": "bar"
           }
          ],
          "barpolar": [
           {
            "marker": {
             "line": {
              "color": "#E5ECF6",
              "width": 0.5
             },
             "pattern": {
              "fillmode": "overlay",
              "size": 10,
              "solidity": 0.2
             }
            },
            "type": "barpolar"
           }
          ],
          "carpet": [
           {
            "aaxis": {
             "endlinecolor": "#2a3f5f",
             "gridcolor": "white",
             "linecolor": "white",
             "minorgridcolor": "white",
             "startlinecolor": "#2a3f5f"
            },
            "baxis": {
             "endlinecolor": "#2a3f5f",
             "gridcolor": "white",
             "linecolor": "white",
             "minorgridcolor": "white",
             "startlinecolor": "#2a3f5f"
            },
            "type": "carpet"
           }
          ],
          "choropleth": [
           {
            "colorbar": {
             "outlinewidth": 0,
             "ticks": ""
            },
            "type": "choropleth"
           }
          ],
          "contour": [
           {
            "colorbar": {
             "outlinewidth": 0,
             "ticks": ""
            },
            "colorscale": [
             [
              0,
              "#0d0887"
             ],
             [
              0.1111111111111111,
              "#46039f"
             ],
             [
              0.2222222222222222,
              "#7201a8"
             ],
             [
              0.3333333333333333,
              "#9c179e"
             ],
             [
              0.4444444444444444,
              "#bd3786"
             ],
             [
              0.5555555555555556,
              "#d8576b"
             ],
             [
              0.6666666666666666,
              "#ed7953"
             ],
             [
              0.7777777777777778,
              "#fb9f3a"
             ],
             [
              0.8888888888888888,
              "#fdca26"
             ],
             [
              1,
              "#f0f921"
             ]
            ],
            "type": "contour"
           }
          ],
          "contourcarpet": [
           {
            "colorbar": {
             "outlinewidth": 0,
             "ticks": ""
            },
            "type": "contourcarpet"
           }
          ],
          "heatmap": [
           {
            "colorbar": {
             "outlinewidth": 0,
             "ticks": ""
            },
            "colorscale": [
             [
              0,
              "#0d0887"
             ],
             [
              0.1111111111111111,
              "#46039f"
             ],
             [
              0.2222222222222222,
              "#7201a8"
             ],
             [
              0.3333333333333333,
              "#9c179e"
             ],
             [
              0.4444444444444444,
              "#bd3786"
             ],
             [
              0.5555555555555556,
              "#d8576b"
             ],
             [
              0.6666666666666666,
              "#ed7953"
             ],
             [
              0.7777777777777778,
              "#fb9f3a"
             ],
             [
              0.8888888888888888,
              "#fdca26"
             ],
             [
              1,
              "#f0f921"
             ]
            ],
            "type": "heatmap"
           }
          ],
          "heatmapgl": [
           {
            "colorbar": {
             "outlinewidth": 0,
             "ticks": ""
            },
            "colorscale": [
             [
              0,
              "#0d0887"
             ],
             [
              0.1111111111111111,
              "#46039f"
             ],
             [
              0.2222222222222222,
              "#7201a8"
             ],
             [
              0.3333333333333333,
              "#9c179e"
             ],
             [
              0.4444444444444444,
              "#bd3786"
             ],
             [
              0.5555555555555556,
              "#d8576b"
             ],
             [
              0.6666666666666666,
              "#ed7953"
             ],
             [
              0.7777777777777778,
              "#fb9f3a"
             ],
             [
              0.8888888888888888,
              "#fdca26"
             ],
             [
              1,
              "#f0f921"
             ]
            ],
            "type": "heatmapgl"
           }
          ],
          "histogram": [
           {
            "marker": {
             "pattern": {
              "fillmode": "overlay",
              "size": 10,
              "solidity": 0.2
             }
            },
            "type": "histogram"
           }
          ],
          "histogram2d": [
           {
            "colorbar": {
             "outlinewidth": 0,
             "ticks": ""
            },
            "colorscale": [
             [
              0,
              "#0d0887"
             ],
             [
              0.1111111111111111,
              "#46039f"
             ],
             [
              0.2222222222222222,
              "#7201a8"
             ],
             [
              0.3333333333333333,
              "#9c179e"
             ],
             [
              0.4444444444444444,
              "#bd3786"
             ],
             [
              0.5555555555555556,
              "#d8576b"
             ],
             [
              0.6666666666666666,
              "#ed7953"
             ],
             [
              0.7777777777777778,
              "#fb9f3a"
             ],
             [
              0.8888888888888888,
              "#fdca26"
             ],
             [
              1,
              "#f0f921"
             ]
            ],
            "type": "histogram2d"
           }
          ],
          "histogram2dcontour": [
           {
            "colorbar": {
             "outlinewidth": 0,
             "ticks": ""
            },
            "colorscale": [
             [
              0,
              "#0d0887"
             ],
             [
              0.1111111111111111,
              "#46039f"
             ],
             [
              0.2222222222222222,
              "#7201a8"
             ],
             [
              0.3333333333333333,
              "#9c179e"
             ],
             [
              0.4444444444444444,
              "#bd3786"
             ],
             [
              0.5555555555555556,
              "#d8576b"
             ],
             [
              0.6666666666666666,
              "#ed7953"
             ],
             [
              0.7777777777777778,
              "#fb9f3a"
             ],
             [
              0.8888888888888888,
              "#fdca26"
             ],
             [
              1,
              "#f0f921"
             ]
            ],
            "type": "histogram2dcontour"
           }
          ],
          "mesh3d": [
           {
            "colorbar": {
             "outlinewidth": 0,
             "ticks": ""
            },
            "type": "mesh3d"
           }
          ],
          "parcoords": [
           {
            "line": {
             "colorbar": {
              "outlinewidth": 0,
              "ticks": ""
             }
            },
            "type": "parcoords"
           }
          ],
          "pie": [
           {
            "automargin": true,
            "type": "pie"
           }
          ],
          "scatter": [
           {
            "fillpattern": {
             "fillmode": "overlay",
             "size": 10,
             "solidity": 0.2
            },
            "type": "scatter"
           }
          ],
          "scatter3d": [
           {
            "line": {
             "colorbar": {
              "outlinewidth": 0,
              "ticks": ""
             }
            },
            "marker": {
             "colorbar": {
              "outlinewidth": 0,
              "ticks": ""
             }
            },
            "type": "scatter3d"
           }
          ],
          "scattercarpet": [
           {
            "marker": {
             "colorbar": {
              "outlinewidth": 0,
              "ticks": ""
             }
            },
            "type": "scattercarpet"
           }
          ],
          "scattergeo": [
           {
            "marker": {
             "colorbar": {
              "outlinewidth": 0,
              "ticks": ""
             }
            },
            "type": "scattergeo"
           }
          ],
          "scattergl": [
           {
            "marker": {
             "colorbar": {
              "outlinewidth": 0,
              "ticks": ""
             }
            },
            "type": "scattergl"
           }
          ],
          "scattermapbox": [
           {
            "marker": {
             "colorbar": {
              "outlinewidth": 0,
              "ticks": ""
             }
            },
            "type": "scattermapbox"
           }
          ],
          "scatterpolar": [
           {
            "marker": {
             "colorbar": {
              "outlinewidth": 0,
              "ticks": ""
             }
            },
            "type": "scatterpolar"
           }
          ],
          "scatterpolargl": [
           {
            "marker": {
             "colorbar": {
              "outlinewidth": 0,
              "ticks": ""
             }
            },
            "type": "scatterpolargl"
           }
          ],
          "scatterternary": [
           {
            "marker": {
             "colorbar": {
              "outlinewidth": 0,
              "ticks": ""
             }
            },
            "type": "scatterternary"
           }
          ],
          "surface": [
           {
            "colorbar": {
             "outlinewidth": 0,
             "ticks": ""
            },
            "colorscale": [
             [
              0,
              "#0d0887"
             ],
             [
              0.1111111111111111,
              "#46039f"
             ],
             [
              0.2222222222222222,
              "#7201a8"
             ],
             [
              0.3333333333333333,
              "#9c179e"
             ],
             [
              0.4444444444444444,
              "#bd3786"
             ],
             [
              0.5555555555555556,
              "#d8576b"
             ],
             [
              0.6666666666666666,
              "#ed7953"
             ],
             [
              0.7777777777777778,
              "#fb9f3a"
             ],
             [
              0.8888888888888888,
              "#fdca26"
             ],
             [
              1,
              "#f0f921"
             ]
            ],
            "type": "surface"
           }
          ],
          "table": [
           {
            "cells": {
             "fill": {
              "color": "#EBF0F8"
             },
             "line": {
              "color": "white"
             }
            },
            "header": {
             "fill": {
              "color": "#C8D4E3"
             },
             "line": {
              "color": "white"
             }
            },
            "type": "table"
           }
          ]
         },
         "layout": {
          "annotationdefaults": {
           "arrowcolor": "#2a3f5f",
           "arrowhead": 0,
           "arrowwidth": 1
          },
          "autotypenumbers": "strict",
          "coloraxis": {
           "colorbar": {
            "outlinewidth": 0,
            "ticks": ""
           }
          },
          "colorscale": {
           "diverging": [
            [
             0,
             "#8e0152"
            ],
            [
             0.1,
             "#c51b7d"
            ],
            [
             0.2,
             "#de77ae"
            ],
            [
             0.3,
             "#f1b6da"
            ],
            [
             0.4,
             "#fde0ef"
            ],
            [
             0.5,
             "#f7f7f7"
            ],
            [
             0.6,
             "#e6f5d0"
            ],
            [
             0.7,
             "#b8e186"
            ],
            [
             0.8,
             "#7fbc41"
            ],
            [
             0.9,
             "#4d9221"
            ],
            [
             1,
             "#276419"
            ]
           ],
           "sequential": [
            [
             0,
             "#0d0887"
            ],
            [
             0.1111111111111111,
             "#46039f"
            ],
            [
             0.2222222222222222,
             "#7201a8"
            ],
            [
             0.3333333333333333,
             "#9c179e"
            ],
            [
             0.4444444444444444,
             "#bd3786"
            ],
            [
             0.5555555555555556,
             "#d8576b"
            ],
            [
             0.6666666666666666,
             "#ed7953"
            ],
            [
             0.7777777777777778,
             "#fb9f3a"
            ],
            [
             0.8888888888888888,
             "#fdca26"
            ],
            [
             1,
             "#f0f921"
            ]
           ],
           "sequentialminus": [
            [
             0,
             "#0d0887"
            ],
            [
             0.1111111111111111,
             "#46039f"
            ],
            [
             0.2222222222222222,
             "#7201a8"
            ],
            [
             0.3333333333333333,
             "#9c179e"
            ],
            [
             0.4444444444444444,
             "#bd3786"
            ],
            [
             0.5555555555555556,
             "#d8576b"
            ],
            [
             0.6666666666666666,
             "#ed7953"
            ],
            [
             0.7777777777777778,
             "#fb9f3a"
            ],
            [
             0.8888888888888888,
             "#fdca26"
            ],
            [
             1,
             "#f0f921"
            ]
           ]
          },
          "colorway": [
           "#636efa",
           "#EF553B",
           "#00cc96",
           "#ab63fa",
           "#FFA15A",
           "#19d3f3",
           "#FF6692",
           "#B6E880",
           "#FF97FF",
           "#FECB52"
          ],
          "font": {
           "color": "#2a3f5f"
          },
          "geo": {
           "bgcolor": "white",
           "lakecolor": "white",
           "landcolor": "#E5ECF6",
           "showlakes": true,
           "showland": true,
           "subunitcolor": "white"
          },
          "hoverlabel": {
           "align": "left"
          },
          "hovermode": "closest",
          "mapbox": {
           "style": "light"
          },
          "paper_bgcolor": "white",
          "plot_bgcolor": "#E5ECF6",
          "polar": {
           "angularaxis": {
            "gridcolor": "white",
            "linecolor": "white",
            "ticks": ""
           },
           "bgcolor": "#E5ECF6",
           "radialaxis": {
            "gridcolor": "white",
            "linecolor": "white",
            "ticks": ""
           }
          },
          "scene": {
           "xaxis": {
            "backgroundcolor": "#E5ECF6",
            "gridcolor": "white",
            "gridwidth": 2,
            "linecolor": "white",
            "showbackground": true,
            "ticks": "",
            "zerolinecolor": "white"
           },
           "yaxis": {
            "backgroundcolor": "#E5ECF6",
            "gridcolor": "white",
            "gridwidth": 2,
            "linecolor": "white",
            "showbackground": true,
            "ticks": "",
            "zerolinecolor": "white"
           },
           "zaxis": {
            "backgroundcolor": "#E5ECF6",
            "gridcolor": "white",
            "gridwidth": 2,
            "linecolor": "white",
            "showbackground": true,
            "ticks": "",
            "zerolinecolor": "white"
           }
          },
          "shapedefaults": {
           "line": {
            "color": "#2a3f5f"
           }
          },
          "ternary": {
           "aaxis": {
            "gridcolor": "white",
            "linecolor": "white",
            "ticks": ""
           },
           "baxis": {
            "gridcolor": "white",
            "linecolor": "white",
            "ticks": ""
           },
           "bgcolor": "#E5ECF6",
           "caxis": {
            "gridcolor": "white",
            "linecolor": "white",
            "ticks": ""
           }
          },
          "title": {
           "x": 0.05
          },
          "xaxis": {
           "automargin": true,
           "gridcolor": "white",
           "linecolor": "white",
           "ticks": "",
           "title": {
            "standoff": 15
           },
           "zerolinecolor": "white",
           "zerolinewidth": 2
          },
          "yaxis": {
           "automargin": true,
           "gridcolor": "white",
           "linecolor": "white",
           "ticks": "",
           "title": {
            "standoff": 15
           },
           "zerolinecolor": "white",
           "zerolinewidth": 2
          }
         }
        },
        "title": {
         "text": "Cena w zależności od nacechowania recenzji"
        },
        "xaxis": {
         "anchor": "y",
         "categoryarray": [
          "Przytłaczająco pozytywne",
          "Bardzo pozytywne",
          "W większości pozytywne",
          "Pozytywne",
          "Mieszane",
          "W większości negatywne",
          "Przytłaczająco negatywne"
         ],
         "categoryorder": "array",
         "domain": [
          0,
          1
         ],
         "title": {
          "text": "Nacechowanie recenzji"
         }
        },
        "yaxis": {
         "anchor": "x",
         "domain": [
          0,
          1
         ],
         "title": {
          "text": "Cena (zł)"
         }
        }
       }
      }
     },
     "metadata": {},
     "output_type": "display_data"
    }
   ],
   "source": [
    "# 2. Zależność między ceną a nacechowaniem recenzji\n",
    "\n",
    "# Mapowanie nacechowania na wartości numeryczne\n",
    "sentiment_map = {\n",
    "    'Bardzo pozytywne': 3,\n",
    "    'Pozytywne': 2,\n",
    "    'Mieszane': 1,\n",
    "    'Negatywne': 0\n",
    "}\n",
    "df['sentiment_score'] = df['Nacechowanie recenzji'].map(sentiment_map)\n",
    "\n",
    "# Określenie kolejności dla 'Nacechowanie recenzji'\n",
    "category_order = ['Przytłaczająco pozytywne', 'Bardzo pozytywne', 'W większości pozytywne', 'Pozytywne', 'Mieszane', 'W większości negatywne', 'Przytłaczająco negatywne']\n",
    "\n",
    "# Scatter plot\n",
    "fig = px.box(df, x='Nacechowanie recenzji', y='Cena', title='Cena w zależności od nacechowania recenzji',\n",
    "             labels={'Cena': 'Cena (zł)', 'Nacechowanie recenzji': 'Nacechowanie recenzji'},\n",
    "             category_orders={'Nacechowanie recenzji': category_order})  # Dodajemy sortowanie\n",
    "\n",
    "fig.show()\n",
    "\n"
   ]
  },
  {
   "cell_type": "code",
   "execution_count": 25,
   "metadata": {},
   "outputs": [
    {
     "data": {
      "application/vnd.plotly.v1+json": {
       "config": {
        "plotlyServerURL": "https://plot.ly"
       },
       "data": [
        {
         "customdata": [
          [
           "Marvel Rivals"
          ],
          [
           "DOOM Eternal"
          ],
          [
           "Subnautica: Below Zero"
          ],
          [
           "Cyberpunk 2077"
          ],
          [
           "Among Us"
          ],
          [
           "Stellaris"
          ],
          [
           "Warhammer 40,000: Space Marine 2"
          ],
          [
           "S.T.A.L.K.E.R. 2: Heart of Chornobyl"
          ],
          [
           "Frostpunk"
          ],
          [
           "Jurassic World Evolution 2"
          ],
          [
           "ENDLESS™ Space 2"
          ],
          [
           "Lies of P"
          ],
          [
           "They Are Billions"
          ],
          [
           "ENDLESS™ Legend"
          ],
          [
           "Atomic Heart"
          ],
          [
           "Halo: The Master Chief Collection"
          ],
          [
           "BlazBlue Entropy Effect"
          ],
          [
           "Project Zomboid"
          ],
          [
           "Metro Exodus"
          ],
          [
           "Planetary Annihilation: TITANS"
          ],
          [
           "Void Crew"
          ],
          [
           "STAR WARS™: The Old Republic™"
          ],
          [
           "Barotrauma"
          ],
          [
           "This War of Mine"
          ],
          [
           "Plague Inc: Evolved"
          ],
          [
           "Chained Together"
          ],
          [
           "DOOM 3"
          ],
          [
           "The Long Drive"
          ],
          [
           "MechWarrior 5: Mercenaries"
          ],
          [
           "The Long Dark"
          ],
          [
           "Aliens: Dark Descent"
          ],
          [
           "LOCKDOWN Protocol"
          ],
          [
           "Chernobylite Complete Edition"
          ],
          [
           "Annihilate The Spance"
          ],
          [
           "Starship Troopers: Terran Command"
          ],
          [
           "Sins of a Solar Empire II"
          ],
          [
           "Unturned"
          ],
          [
           "Space Engineers"
          ],
          [
           "State of Decay 2: Juggernaut Edition"
          ],
          [
           "Hatsune Miku: Project DIVA Mega Mix+"
          ],
          [
           "The Invincible"
          ],
          [
           "Metro 2033 Redux"
          ],
          [
           "Nuclear Nightmare"
          ],
          [
           "System Shock"
          ],
          [
           "Zompiercer"
          ],
          [
           "Horizon Zero Dawn™ Complete Edition"
          ],
          [
           "Job Simulator"
          ],
          [
           "Metro: Last Light Redux"
          ],
          [
           "My Time at Sandrock"
          ],
          [
           "Wolfenstein: The New Order"
          ],
          [
           "AI: THE SOMNIUM FILES - nirvanA Initiative"
          ],
          [
           "Fallout 4"
          ],
          [
           "Forever Skies"
          ],
          [
           "Quantum Break"
          ],
          [
           "Deep Rock Galactic: Survivor"
          ],
          [
           "Amenti"
          ],
          [
           "Aliens: Fireteam Elite"
          ],
          [
           "Mechabellum"
          ],
          [
           "Beyond: Two Souls"
          ],
          [
           "60 Seconds! Reatomized"
          ],
          [
           "Nobody Wants to Die"
          ],
          [
           "Road 96 🛣️"
          ],
          [
           "REMNANT II®"
          ],
          [
           "Obenseuer"
          ],
          [
           "Age of Wonders: Planetfall"
          ],
          [
           "ASTRONEER"
          ],
          [
           "Sovereign Syndicate"
          ],
          [
           "From Glory To Goo"
          ],
          [
           "ZEPHON"
          ],
          [
           "Warhammer 40,000: Rogue Trader"
          ],
          [
           "Astrometica"
          ],
          [
           "The Riftbreaker"
          ],
          [
           "Halo Wars: Definitive Edition"
          ],
          [
           "AI: The Somnium Files"
          ],
          [
           "EARTH DEFENSE FORCE 5"
          ],
          [
           "Fallout Shelter"
          ],
          [
           "Starcom: Unknown Space"
          ],
          [
           "Zero Escape: The Nonary Games"
          ],
          [
           "Horizon Forbidden West™ Edycja kompletna"
          ],
          [
           "Mass Effect™ Edycja legendarna"
          ],
          [
           "Call of Duty®: Black Ops III"
          ],
          [
           "STAR WARS™: Episode I: Jedi Power Battles™"
          ],
          [
           "RoboCop: Rogue City"
          ],
          [
           "Clone Drone in the Hyperdome"
          ],
          [
           "Lightyear Frontier"
          ],
          [
           "Sunset Overdrive"
          ],
          [
           "Days Gone"
          ],
          [
           "Vanquish"
          ],
          [
           "Slice of Sea"
          ],
          [
           "Mutant Year Zero: Road to Eden"
          ],
          [
           "Creatures of Ava"
          ],
          [
           "Arizona Sunshine® 2"
          ],
          [
           "Killing Floor 2"
          ],
          [
           "Project Wingman"
          ],
          [
           "Stardeus"
          ],
          [
           "Shin Megami Tensei III Nocturne HD Remaster"
          ],
          [
           "High On Life"
          ],
          [
           "FANTASIAN Neo Dimension"
          ],
          [
           "Bright Memory: Infinite"
          ],
          [
           "Terminator: Dark Fate - Defiance"
          ],
          [
           "STEINS;GATE ELITE"
          ],
          [
           "Sins of a Solar Empire®: Rebellion"
          ],
          [
           "Solar Ash"
          ],
          [
           "Cepheus Protocol"
          ],
          [
           "ENDER LILIES: Quietus of the Knights"
          ],
          [
           "Fallout: New Vegas"
          ],
          [
           "Warhammer 40,000: Gladius - Relics of War"
          ],
          [
           "Drill Core"
          ],
          [
           "Homeworld Remastered Collection"
          ],
          [
           "Nuclear Option"
          ],
          [
           "Endoparasitic 2"
          ],
          [
           "Pathologic 2"
          ],
          [
           "Into the Breach"
          ],
          [
           "Iron Lung"
          ],
          [
           "Assassin's Creed® Syndicate"
          ],
          [
           "Zero Escape: Zero Time Dilemma"
          ],
          [
           "Jurassic World Evolution"
          ],
          [
           "Airborne Kingdom"
          ],
          [
           "NEBULOUS: Fleet Command"
          ],
          [
           "The Sapling"
          ],
          [
           "Space Haven"
          ],
          [
           "Eden Crafters"
          ],
          [
           "SPORE™"
          ],
          [
           "Kristala"
          ],
          [
           "Star Trek: Resurgence"
          ],
          [
           "Serious Sam 2"
          ],
          [
           "Cell to Singularity - Evolution Never Ends"
          ],
          [
           "Rain World"
          ],
          [
           "Warhammer 40,000: Boltgun"
          ],
          [
           "Saints Row IV: Re-Elected"
          ],
          [
           "Stellar Settlers: Space Base Builder"
          ],
          [
           "BLADE CHIMERA"
          ],
          [
           "Wall World"
          ],
          [
           "Wasteland 2: Director's Cut"
          ],
          [
           "Seed of the Dead: Sweet Home"
          ],
          [
           "ATOM RPG: Post-apocalyptic indie game"
          ],
          [
           "XCOM: Enemy Unknown"
          ],
          [
           "Particle Fleet: Emergence"
          ],
          [
           "Pacific Drive"
          ],
          [
           "Destroy All Humans!"
          ],
          [
           "The Thing: Remastered"
          ],
          [
           "Caravan SandWitch"
          ],
          [
           "The Last Stand: Aftermath"
          ],
          [
           "Crysis 2 Remastered"
          ],
          [
           "Crysis 3 Remastered"
          ],
          [
           "S.T.A.L.K.E.R.: Shadow of Chernobyl"
          ],
          [
           "Crying Suns"
          ],
          [
           "Wolfenstein II: The New Colossus"
          ],
          [
           "Still Wakes the Deep"
          ],
          [
           "Genome Guardian"
          ],
          [
           "Doors: Paradox"
          ],
          [
           "STAR WARS™ Knights of the Old Republic™ II - The Sith Lords™"
          ],
          [
           "Citizen Sleeper"
          ],
          [
           "STAR WARS™ Battlefront II (Classic, 2005)"
          ],
          [
           "Cataclysm: Dark Days Ahead"
          ],
          [
           "Starship EVO"
          ],
          [
           "LEGO® Star Wars™ III - The Clone Wars™"
          ],
          [
           "DYSMANTLE"
          ],
          [
           "The Walking Dead: The Final Season"
          ],
          [
           "InfraSpace"
          ],
          [
           "Uncle Chop's Rocket Shop"
          ],
          [
           "Ben 10: Power Trip"
          ],
          [
           "ANNO: Mutationem"
          ],
          [
           "Fallout 2: A Post Nuclear Role Playing Game"
          ],
          [
           "Fallout 3: Game of the Year Edition"
          ],
          [
           "Wasteland 3"
          ],
          [
           "Deus Ex: Human Revolution - Director's Cut"
          ],
          [
           "Goodbye Deponia"
          ],
          [
           "Poker Master"
          ],
          [
           "Takara Cards"
          ],
          [
           "New Arc Line"
          ],
          [
           "Beholder"
          ],
          [
           "The Devil Within: Satgat"
          ],
          [
           "Warhammer 40,000: Battlesector"
          ],
          [
           "ATOM RPG Trudograd"
          ],
          [
           "Tasty Planet Forever"
          ],
          [
           "Oblivion Override"
          ],
          [
           "Dome Keeper"
          ],
          [
           "Revolution Idle"
          ],
          [
           "Five Nations"
          ],
          [
           "SUPERHOT VR"
          ],
          [
           "Chicken Police: Into the HIVE!"
          ],
          [
           "Far Cry®"
          ],
          [
           "Arizona Sunshine® Remake"
          ],
          [
           "World War Z"
          ],
          [
           "Space Reign"
          ],
          [
           "Dungeon of the ENDLESS™"
          ],
          [
           "Deponia Doomsday"
          ],
          [
           "Fortune's Run"
          ],
          [
           "Neon Abyss"
          ],
          [
           "Endoparasitic"
          ],
          [
           "S.T.A.L.K.E.R.: Clear Sky"
          ],
          [
           "Command & Conquer 3: Gniew Kane'a"
          ],
          [
           "Command & Conquer™ Red Alert™ 3"
          ],
          [
           "Command & Conquer 3: Wojny o tyberium"
          ],
          [
           "Syberia"
          ],
          [
           "Aliens vs. Ghosts"
          ],
          [
           "Risk of Rain Returns"
          ],
          [
           "Starbound"
          ],
          [
           "Chaos on Deponia"
          ],
          [
           "Space Rangers HD: A War Apart"
          ],
          [
           "GNOSIA"
          ],
          [
           "Call of Duty®: Black Ops II"
          ],
          [
           "Rigid Force Alpha"
          ],
          [
           "Command & Conquer™ Tiberian Sun™ and Firestorm™"
          ],
          [
           "Command & Conquer Red Alert™ 2 and Yuri’s Revenge™"
          ],
          [
           "Whispers of a Machine"
          ],
          [
           "COCOON"
          ],
          [
           "Supreme Commander"
          ],
          [
           "Beyond Good & Evil - 20th Anniversary Edition"
          ],
          [
           "Muv-Luv (マブラヴ)"
          ],
          [
           "Gun Metal"
          ],
          [
           "Red Matter"
          ],
          [
           "Quasimorph"
          ],
          [
           "Command & Conquer™ Red Alert™ 3- Powstanie"
          ],
          [
           "Final Factory"
          ],
          [
           "Splatter - Zombiecalypse Now"
          ],
          [
           "SUPERHOT"
          ],
          [
           "Airborne Empire"
          ],
          [
           "Chorus"
          ],
          [
           "Gatekeeper"
          ],
          [
           "NORCO"
          ],
          [
           "Deponia"
          ],
          [
           "Azure Striker GUNVOLT 3"
          ],
          [
           "Uplink"
          ],
          [
           "Avorion"
          ]
         ],
         "hovertemplate": "Nacechowanie recenzji=Bardzo pozytywne<br>Rok wydania=%{x}<br>Cena (zł)=%{y}<br>Tytuł=%{customdata[0]}<extra></extra>",
         "legendgroup": "Bardzo pozytywne",
         "marker": {
          "color": "#636efa",
          "symbol": "circle"
         },
         "mode": "markers",
         "name": "Bardzo pozytywne",
         "orientation": "v",
         "showlegend": true,
         "type": "scatter",
         "x": [
          2024,
          2020,
          2021,
          2020,
          2018,
          2016,
          2024,
          2024,
          2018,
          2021,
          2017,
          2023,
          2019,
          2014,
          2023,
          2019,
          2024,
          2013,
          2020,
          2015,
          2024,
          2020,
          2023,
          2014,
          2016,
          2024,
          2012,
          2019,
          2021,
          2017,
          2023,
          2024,
          2021,
          2025,
          2022,
          2024,
          2017,
          2019,
          2020,
          2022,
          2023,
          2014,
          2024,
          2023,
          2020,
          2020,
          2016,
          2014,
          2023,
          2014,
          2022,
          2015,
          2023,
          2016,
          2024,
          2025,
          2021,
          2024,
          2020,
          2019,
          2024,
          2021,
          2023,
          2018,
          2019,
          2019,
          2024,
          2024,
          2024,
          2023,
          2024,
          2021,
          2017,
          2019,
          2019,
          2017,
          2024,
          2017,
          2024,
          2021,
          2015,
          2025,
          2023,
          2024,
          2024,
          2018,
          2021,
          2017,
          2021,
          2018,
          2024,
          2023,
          2016,
          2020,
          2022,
          2021,
          2022,
          2024,
          2021,
          2024,
          2019,
          2012,
          2022,
          2020,
          2021,
          2010,
          2018,
          2024,
          2015,
          2023,
          2024,
          2019,
          2018,
          2022,
          2015,
          2016,
          2018,
          2022,
          2022,
          2019,
          2020,
          2024,
          2008,
          2024,
          2024,
          2012,
          2021,
          2017,
          2023,
          2013,
          2024,
          2025,
          2023,
          2014,
          2021,
          2018,
          2012,
          2016,
          2024,
          2020,
          2024,
          2024,
          2021,
          2022,
          2022,
          2007,
          2019,
          2017,
          2024,
          2024,
          2022,
          2012,
          2022,
          2009,
          2023,
          2020,
          2011,
          2021,
          2018,
          2023,
          2024,
          2020,
          2022,
          2009,
          2009,
          2020,
          2013,
          2013,
          2020,
          2025,
          2024,
          2016,
          2024,
          2021,
          2021,
          2018,
          2024,
          2022,
          2024,
          2021,
          2017,
          2024,
          2008,
          2024,
          2021,
          2023,
          2014,
          2016,
          2023,
          2020,
          2022,
          2008,
          2009,
          2009,
          2009,
          2011,
          2022,
          2023,
          2016,
          2012,
          2013,
          2022,
          2012,
          2018,
          2024,
          2024,
          2019,
          2023,
          2011,
          2024,
          2018,
          2014,
          2018,
          2023,
          2009,
          2024,
          2014,
          2016,
          2025,
          2021,
          2024,
          2022,
          2012,
          2022,
          2006,
          2020
         ],
         "xaxis": "x",
         "y": [
          0,
          42.25,
          45.86,
          199,
          10.79,
          46.24,
          157.49,
          229.99,
          13.89,
          64.49,
          35.74,
          164.99,
          75.59,
          26.56,
          72.59,
          49.75,
          55.99,
          91.99,
          31.75,
          35.63,
          63.99,
          0,
          69.99,
          9.19,
          20.39,
          22.99,
          15.6,
          72.99,
          43.19,
          29.99,
          58.49,
          45.99,
          29.99,
          138.99,
          83.39,
          185.59,
          0,
          71.99,
          43.19,
          59.6,
          75,
          12.6,
          31.99,
          67.6,
          59.99,
          219,
          91.99,
          12.6,
          149.99,
          89.99,
          32.24,
          79,
          65.99,
          35.74,
          50,
          31.99,
          29.97,
          67.99,
          79.9,
          39.99,
          68.64,
          21.24,
          209.99,
          54.39,
          138.99,
          138.99,
          45.99,
          27.99,
          149.99,
          199.99,
          78.99,
          99,
          24.75,
          14.29,
          214.99,
          0,
          94.99,
          10.79,
          259,
          269.9,
          254.8,
          91.99,
          231.99,
          59,
          114.99,
          19.99,
          219,
          26.7,
          89.99,
          59.99,
          69.3,
          107.46,
          21.59,
          89.99,
          77.99,
          68.7,
          71.99,
          199,
          35.99,
          138.74,
          42.99,
          55.19,
          63.99,
          73.59,
          91.99,
          44.99,
          184.99,
          59.99,
          9.99,
          82.99,
          54.99,
          161.99,
          26.99,
          25.89,
          159.9,
          7.19,
          39.99,
          29.99,
          49.99,
          72.99,
          35.99,
          73.59,
          69.9,
          138.99,
          114.99,
          45.99,
          0,
          114.99,
          79.99,
          21.12,
          36.99,
          82.79,
          6.89,
          32.39,
          69.49,
          67.99,
          85.9,
          17.81,
          109,
          124.99,
          122.99,
          39.99,
          114.99,
          99,
          99,
          71.99,
          26.99,
          124,
          104.99,
          24.06,
          33.99,
          45.99,
          91.99,
          45.99,
          91.99,
          91.99,
          91.99,
          91.99,
          91.99,
          89.99,
          91.99,
          107.99,
          89.99,
          44.99,
          89.99,
          71.49,
          67.52,
          9.19,
          0,
          14.66,
          88.49,
          9.59,
          86.24,
          184.99,
          49.99,
          46.99,
          82.99,
          69.99,
          0,
          35.99,
          79.99,
          80,
          39.9,
          119,
          119.9,
          73.59,
          10.99,
          7.19,
          73.43,
          17.99,
          35.99,
          35.99,
          100,
          100,
          100,
          34.99,
          34.68,
          67.99,
          67.99,
          7.19,
          66.49,
          62.99,
          254.8,
          71.99,
          100,
          100,
          59.99,
          59.99,
          39.99,
          55.93,
          55.59,
          13.49,
          53.99,
          71.2,
          100,
          52.19,
          12.77,
          29.99,
          125.09,
          21.12,
          47.99,
          23.99,
          3.59,
          46.8,
          36.79,
          114.99
         ],
         "yaxis": "y"
        },
        {
         "customdata": [
          [
           "Subnautica"
          ],
          [
           "Detroit: Become Human"
          ],
          [
           "RimWorld"
          ],
          [
           "Lethal Company"
          ],
          [
           "DOOM"
          ],
          [
           "Stray"
          ],
          [
           "Caves of Qud"
          ],
          [
           "Brotato"
          ],
          [
           "Outer Wilds"
          ],
          [
           "Beat Saber"
          ],
          [
           "Mouthwashing"
          ],
          [
           "The Planet Crafter"
          ],
          [
           "Life is Strange - Episode 1"
          ],
          [
           "Warhammer 40,000: Dawn of War - Anniversary Edition"
          ],
          [
           "Deep Rock Galactic"
          ],
          [
           "Severed Steel"
          ],
          [
           "Creeper World 4"
          ],
          [
           "Half-Life: Alyx"
          ],
          [
           "Oxygen Not Included"
          ],
          [
           "Left 4 Dead 2"
          ],
          [
           "Abiotic Factor"
          ],
          [
           "Cosmoteer: Starship Architect & Commander"
          ],
          [
           "STEINS;GATE 0"
          ],
          [
           "Nine Sols"
          ],
          [
           "DRAMAtical Murder"
          ],
          [
           "Titanfall® 2"
          ],
          [
           "STEINS;GATE"
          ],
          [
           "SpaceEngine"
          ],
          [
           "Roboquest"
          ],
          [
           "Portal"
          ],
          [
           "Portal 2"
          ],
          [
           "CRUEL"
          ],
          [
           "shapez 2"
          ],
          [
           "The Forgotten City"
          ],
          [
           "SANABI"
          ],
          [
           "Creeper World 3: Arc Eternal"
          ],
          [
           "Turing Complete"
          ],
          [
           "Beyond Citadel"
          ],
          [
           "Kenshi"
          ],
          [
           "Anomaly Agent"
          ],
          [
           "Papers, Please"
          ],
          [
           "Half-Life 2"
          ],
          [
           "The Walking Dead"
          ],
          [
           "Universe Sandbox"
          ],
          [
           "The Talos Principle 2"
          ],
          [
           "Dyson Sphere Program"
          ],
          [
           "I Was a Teenage Exocolonist"
          ],
          [
           "Dishonored"
          ],
          [
           "METAL GEAR RISING: REVENGEANCE"
          ],
          [
           "Half-Life"
          ],
          [
           "Nova Drift"
          ],
          [
           "Left 4 Dead"
          ],
          [
           "Opus Magnum"
          ],
          [
           "Machinarium"
          ],
          [
           "Minds Beneath Us"
          ],
          [
           "S.T.A.L.K.E.R.: Call of Pripyat"
          ],
          [
           "Cruelty Squad"
          ],
          [
           "Misao - 2024 HD Remaster"
          ],
          [
           "Mars First Logistics"
          ],
          [
           "Alien Shooter"
          ],
          [
           "Kerbal Space Program"
          ],
          [
           "Spaceflight Simulator"
          ],
          [
           "MULLET MADJACK"
          ],
          [
           "Worldless"
          ],
          [
           "VA-11 Hall-A: Cyberpunk Bartender Action"
          ]
         ],
         "hovertemplate": "Nacechowanie recenzji=Przytłaczająco pozytywne<br>Rok wydania=%{x}<br>Cena (zł)=%{y}<br>Tytuł=%{customdata[0]}<extra></extra>",
         "legendgroup": "Przytłaczająco pozytywne",
         "marker": {
          "color": "#EF553B",
          "symbol": "circle"
         },
         "mode": "markers",
         "name": "Przytłaczająco pozytywne",
         "orientation": "v",
         "showlegend": true,
         "type": "scatter",
         "x": [
          2018,
          2020,
          2018,
          2023,
          2016,
          2022,
          2024,
          2023,
          2020,
          2019,
          2024,
          2024,
          2015,
          2007,
          2020,
          2021,
          2020,
          2020,
          2019,
          2009,
          2024,
          2022,
          2018,
          2024,
          2021,
          2020,
          2016,
          2019,
          2023,
          2007,
          2011,
          2025,
          2024,
          2021,
          2023,
          2014,
          2021,
          2025,
          2018,
          2024,
          2013,
          2004,
          2012,
          2015,
          2023,
          2021,
          2022,
          2012,
          2014,
          1998,
          2024,
          2008,
          2017,
          2009,
          2024,
          2010,
          2021,
          2017,
          2023,
          2009,
          2015,
          2022,
          2024,
          2023,
          2016
         ],
         "xaxis": "x",
         "y": [
          45.86,
          55.49,
          111.99,
          45.99,
          15.99,
          71.99,
          118.14,
          13.79,
          59.99,
          138.99,
          59.99,
          80.49,
          0,
          19.99,
          107.99,
          8.99,
          35.99,
          274.99,
          89.99,
          45.99,
          114.99,
          44.99,
          24.99,
          138.99,
          55.19,
          119.9,
          21.59,
          115,
          70.39,
          45.99,
          45.99,
          34.99,
          64.99,
          28.74,
          44.19,
          17.81,
          71.99,
          67.99,
          107.99,
          54.99,
          45.99,
          45.99,
          67.99,
          138.99,
          138.99,
          71.99,
          114.99,
          44.99,
          109,
          35.99,
          49.59,
          45.99,
          91.99,
          74.99,
          91.99,
          71.99,
          71.99,
          36.79,
          68.99,
          22.99,
          171.9,
          59.99,
          58.49,
          53.99,
          53.99
         ],
         "yaxis": "y"
        },
        {
         "customdata": [
          [
           "HELLDIVERS™ 2"
          ],
          [
           "Once Human"
          ],
          [
           "ICARUS"
          ],
          [
           "Frostpunk 2"
          ],
          [
           "Fallout 76"
          ],
          [
           "Dying Light 2 Stay Human: Reloaded Edition"
          ],
          [
           "Snowbreak: Containment Zone"
          ],
          [
           "Warhammer 40,000: Darktide"
          ],
          [
           "Dead Island 2"
          ],
          [
           "Dune: Spice Wars"
          ],
          [
           "Ostranauts"
          ],
          [
           "Crossout"
          ],
          [
           "Destiny 2"
          ],
          [
           "New Cycle"
          ],
          [
           "IDUN"
          ],
          [
           "Metro Awakening"
          ],
          [
           "Iron Harvest"
          ],
          [
           "Tom Clancy’s The Division® 2"
          ],
          [
           "Empire of the Ants"
          ],
          [
           "Far Cry® New Dawn"
          ],
          [
           "Infection Free Zone"
          ],
          [
           "Battlefleet Gothic: Armada 2"
          ],
          [
           "Halo Infinite"
          ],
          [
           "MechWarrior 5: Clans"
          ],
          [
           "Tower of Fantasy"
          ],
          [
           "Distant Worlds 2"
          ],
          [
           "Warhammer 40,000: Chaos Gate - Daemonhunters"
          ],
          [
           "The Ascent"
          ],
          [
           "Star Trucker"
          ],
          [
           "Gears Tactics"
          ],
          [
           "Star Wars Outlaws"
          ],
          [
           "Age of Water"
          ],
          [
           "Hidden Deep"
          ],
          [
           "Phantasy Star Online 2 New Genesis"
          ],
          [
           "Homeworld: Deserts of Kharak"
          ],
          [
           "Horizon Zero Dawn™ Remastered"
          ],
          [
           "The Last of Us™ Part I"
          ],
          [
           "CryoFall"
          ],
          [
           "Dark Sky"
          ],
          [
           "Warhammer 40,000: Inquisitor - Martyr"
          ],
          [
           "Mass Effect: Andromeda - ulepszenie Deluxe"
          ],
          [
           "Surviving the Aftermath"
          ],
          [
           "IXION"
          ],
          [
           "Urban Strife"
          ],
          [
           "Twelve Minutes"
          ],
          [
           "Dustwind"
          ],
          [
           "Will To Live Online"
          ],
          [
           "Revival: Recolonization"
          ],
          [
           "Dead Space™ 3"
          ],
          [
           "The Crust"
          ],
          [
           "Master of Orion"
          ],
          [
           "Crysis Remastered"
          ],
          [
           "Occupy Mars: The Game"
          ],
          [
           "Deadside"
          ],
          [
           "Among Us VR"
          ],
          [
           "Ghosts of Tabor"
          ],
          [
           "Rick and Morty: Virtual Rick-ality"
          ],
          [
           "Fort Solis"
          ],
          [
           "OVRLRD"
          ],
          [
           "Thief"
          ],
          [
           "Survivors of the Dawn"
          ],
          [
           "XCOM®: Chimera Squad"
          ],
          [
           "Torment: Tides of Numenera"
          ],
          [
           "Red Faction Guerrilla Re-Mars-tered"
          ],
          [
           "Star Trek Online"
          ],
          [
           "After the Fall®"
          ],
          [
           "The Surge"
          ],
          [
           "Phoenix Point"
          ],
          [
           "Silica"
          ],
          [
           "STAR WARS™ Battlefront"
          ],
          [
           "Elite Dangerous"
          ],
          [
           "DUCKSIDE"
          ],
          [
           "Space Simulation Toolkit"
          ],
          [
           "The Surge 2"
          ],
          [
           "Reverse Collapse: Code Name Bakery"
          ],
          [
           "X4: Foundations"
          ],
          [
           "Scars Above"
          ],
          [
           "Deadlight"
          ],
          [
           "Star Dynasties"
          ],
          [
           "ENDLESS™ Space - Definitive Edition"
          ],
          [
           "The Leviathan's fantasy"
          ],
          [
           "Generation Zero®"
          ]
         ],
         "hovertemplate": "Nacechowanie recenzji=W większości pozytywne<br>Rok wydania=%{x}<br>Cena (zł)=%{y}<br>Tytuł=%{customdata[0]}<extra></extra>",
         "legendgroup": "W większości pozytywne",
         "marker": {
          "color": "#00cc96",
          "symbol": "circle"
         },
         "mode": "markers",
         "name": "W większości pozytywne",
         "orientation": "v",
         "showlegend": true,
         "type": "scatter",
         "x": [
          2024,
          2024,
          2021,
          2024,
          2020,
          2022,
          2023,
          2022,
          2024,
          2023,
          2020,
          2017,
          2019,
          2024,
          2025,
          2024,
          2020,
          2023,
          2024,
          2019,
          2024,
          2019,
          2021,
          2024,
          2022,
          2022,
          2022,
          2021,
          2024,
          2020,
          2024,
          2025,
          2022,
          2020,
          2016,
          2024,
          2023,
          2021,
          2024,
          2018,
          2020,
          2021,
          2022,
          2024,
          2021,
          2018,
          2018,
          2024,
          2020,
          2024,
          2016,
          2021,
          2023,
          2024,
          2022,
          2023,
          2017,
          2023,
          2024,
          2014,
          2023,
          2020,
          2017,
          2018,
          2012,
          2021,
          2017,
          2020,
          2023,
          2020,
          2015,
          2024,
          2020,
          2019,
          2024,
          2018,
          2023,
          2012,
          2021,
          2012,
          2025,
          2019
         ],
         "xaxis": "x",
         "y": [
          169,
          0,
          161.99,
          124.79,
          169.9,
          199.99,
          0,
          84.99,
          105.63,
          86.34,
          73.59,
          0,
          0,
          49.99,
          61.19,
          111.3,
          19.01,
          39.97,
          118.3,
          35.98,
          79.99,
          13.99,
          0,
          173.99,
          0,
          92.79,
          48.59,
          31,
          74.24,
          49.17,
          289.9,
          64.5,
          32.39,
          0,
          17.99,
          219,
          259,
          7.99,
          27.59,
          231.99,
          189.9,
          138.99,
          161.99,
          161.99,
          39.99,
          31.49,
          0,
          138.99,
          69.9,
          119,
          89.99,
          107.99,
          114.99,
          114.99,
          17.99,
          114.99,
          107.99,
          58.17,
          95,
          89.9,
          18.49,
          89.9,
          31.24,
          84.48,
          0,
          41.69,
          6.49,
          89.99,
          71.99,
          69.9,
          91.99,
          67.99,
          64.39,
          14.99,
          114.99,
          199.99,
          25.34,
          13.49,
          48.78,
          8.99,
          24.41,
          99.99
         ],
         "yaxis": "y"
        },
        {
         "customdata": [
          [
           "Apex Legends™"
          ],
          [
           "The First Descendant"
          ],
          [
           "War Robots"
          ],
          [
           "Battlefield™ 2042"
          ],
          [
           "ENDLESS™ Dungeon"
          ],
          [
           "Stay Out"
          ],
          [
           "Build Master: MarsVille"
          ],
          [
           "Warhammer 40,000: Dawn of War III"
          ],
          [
           "Warhammer 40,000: Warpforge"
          ],
          [
           "Watch Dogs®: Legion"
          ],
          [
           "Hyper Light Breaker"
          ],
          [
           "Anno 2205™"
          ],
          [
           "SYNDUALITY Echo of Ada"
          ],
          [
           "Outpost: Infinity Siege"
          ],
          [
           "Echocalypse: The Scarlet Covenant"
          ],
          [
           "Warhammer The Horus Heresy: Legions"
          ],
          [
           "FINAL FANTASY VII EVER CRISIS"
          ],
          [
           "Avatar: Frontiers of Pandora™"
          ],
          [
           "Battlefleet Gothic: Armada"
          ],
          [
           "DOOM VFR"
          ],
          [
           "FREEDOM WARS Remastered"
          ],
          [
           "Capes"
          ],
          [
           "Starfield"
          ],
          [
           "Stargate: Timekeepers"
          ],
          [
           "White Sands"
          ],
          [
           "Left to Survive: Shooter PVP"
          ],
          [
           "Necromunda: Hired Gun"
          ],
          [
           "Anno 2070™"
          ],
          [
           "Road 96: Mile 0"
          ],
          [
           "ANOTHER EDEN"
          ],
          [
           "One Lonely Outpost"
          ],
          [
           "Vigor"
          ],
          [
           "Serum"
          ],
          [
           "Infinite Lagrange"
          ],
          [
           "Life Not Supported"
          ],
          [
           "StarMade"
          ],
          [
           "Aquatico"
          ]
         ],
         "hovertemplate": "Nacechowanie recenzji=Mieszane<br>Rok wydania=%{x}<br>Cena (zł)=%{y}<br>Tytuł=%{customdata[0]}<extra></extra>",
         "legendgroup": "Mieszane",
         "marker": {
          "color": "#ab63fa",
          "symbol": "circle"
         },
         "mode": "markers",
         "name": "Mieszane",
         "orientation": "v",
         "showlegend": true,
         "type": "scatter",
         "x": [
          2020,
          2024,
          2018,
          2021,
          2023,
          2019,
          2023,
          2017,
          2024,
          2023,
          2025,
          2015,
          2025,
          2024,
          2024,
          2019,
          2023,
          2024,
          2016,
          2017,
          2025,
          2024,
          2023,
          2024,
          2024,
          2021,
          2021,
          2011,
          2023,
          2021,
          2023,
          2024,
          2024,
          2021,
          2023,
          2014,
          2023
         ],
         "xaxis": "x",
         "y": [
          0,
          0,
          0,
          269.9,
          35.6,
          0,
          0,
          35.8,
          0,
          37.48,
          114.99,
          159.9,
          169,
          63.24,
          0,
          0,
          0,
          289.9,
          7.49,
          14.75,
          179,
          84.5,
          299,
          118.14,
          109.95,
          0,
          29.99,
          19.97,
          13.74,
          0,
          29.99,
          0,
          64.99,
          0,
          60.89,
          53.99,
          26.99
         ],
         "yaxis": "y"
        },
        {
         "customdata": [
          [
           "Overwatch® 2"
          ],
          [
           "Homeworld 3"
          ]
         ],
         "hovertemplate": "Nacechowanie recenzji=W większości negatywne<br>Rok wydania=%{x}<br>Cena (zł)=%{y}<br>Tytuł=%{customdata[0]}<extra></extra>",
         "legendgroup": "W większości negatywne",
         "marker": {
          "color": "#FFA15A",
          "symbol": "circle"
         },
         "mode": "markers",
         "name": "W większości negatywne",
         "orientation": "v",
         "showlegend": true,
         "type": "scatter",
         "x": [
          2023,
          2024
         ],
         "xaxis": "x",
         "y": [
          0,
          124.5
         ],
         "yaxis": "y"
        },
        {
         "customdata": [
          [
           "Planetiles"
          ],
          [
           "SACRIFICE VILLAINS"
          ],
          [
           "Infest"
          ],
          [
           "Super Roboy"
          ],
          [
           "Mini Mini Golf Golf"
          ]
         ],
         "hovertemplate": "Nacechowanie recenzji=Pozytywne<br>Rok wydania=%{x}<br>Cena (zł)=%{y}<br>Tytuł=%{customdata[0]}<extra></extra>",
         "legendgroup": "Pozytywne",
         "marker": {
          "color": "#19d3f3",
          "symbol": "circle"
         },
         "mode": "markers",
         "name": "Pozytywne",
         "orientation": "v",
         "showlegend": true,
         "type": "scatter",
         "x": [
          2024,
          2025,
          2025,
          2025,
          2024
         ],
         "xaxis": "x",
         "y": [
          45.99,
          73.59,
          54.39,
          54.39,
          47.99
         ],
         "yaxis": "y"
        },
        {
         "customdata": [
          [
           "Airships: Lost Flotilla"
          ]
         ],
         "hovertemplate": "Nacechowanie recenzji=Brak informacji<br>Rok wydania=%{x}<br>Cena (zł)=%{y}<br>Tytuł=%{customdata[0]}<extra></extra>",
         "legendgroup": "Brak informacji",
         "marker": {
          "color": "#FF6692",
          "symbol": "circle"
         },
         "mode": "markers",
         "name": "Brak informacji",
         "orientation": "v",
         "showlegend": true,
         "type": "scatter",
         "x": [
          2025
         ],
         "xaxis": "x",
         "y": [
          22
         ],
         "yaxis": "y"
        },
        {
         "customdata": [
          [
           "Command & Conquer™ 4 Tyberyjski zmierzch"
          ]
         ],
         "hovertemplate": "Nacechowanie recenzji=Przytłaczająco negatywne<br>Rok wydania=%{x}<br>Cena (zł)=%{y}<br>Tytuł=%{customdata[0]}<extra></extra>",
         "legendgroup": "Przytłaczająco negatywne",
         "marker": {
          "color": "#B6E880",
          "symbol": "circle"
         },
         "mode": "markers",
         "name": "Przytłaczająco negatywne",
         "orientation": "v",
         "showlegend": true,
         "type": "scatter",
         "x": [
          2010
         ],
         "xaxis": "x",
         "y": [
          100
         ],
         "yaxis": "y"
        }
       ],
       "layout": {
        "legend": {
         "title": {
          "text": "Nacechowanie recenzji"
         },
         "tracegroupgap": 0
        },
        "template": {
         "data": {
          "bar": [
           {
            "error_x": {
             "color": "#2a3f5f"
            },
            "error_y": {
             "color": "#2a3f5f"
            },
            "marker": {
             "line": {
              "color": "#E5ECF6",
              "width": 0.5
             },
             "pattern": {
              "fillmode": "overlay",
              "size": 10,
              "solidity": 0.2
             }
            },
            "type": "bar"
           }
          ],
          "barpolar": [
           {
            "marker": {
             "line": {
              "color": "#E5ECF6",
              "width": 0.5
             },
             "pattern": {
              "fillmode": "overlay",
              "size": 10,
              "solidity": 0.2
             }
            },
            "type": "barpolar"
           }
          ],
          "carpet": [
           {
            "aaxis": {
             "endlinecolor": "#2a3f5f",
             "gridcolor": "white",
             "linecolor": "white",
             "minorgridcolor": "white",
             "startlinecolor": "#2a3f5f"
            },
            "baxis": {
             "endlinecolor": "#2a3f5f",
             "gridcolor": "white",
             "linecolor": "white",
             "minorgridcolor": "white",
             "startlinecolor": "#2a3f5f"
            },
            "type": "carpet"
           }
          ],
          "choropleth": [
           {
            "colorbar": {
             "outlinewidth": 0,
             "ticks": ""
            },
            "type": "choropleth"
           }
          ],
          "contour": [
           {
            "colorbar": {
             "outlinewidth": 0,
             "ticks": ""
            },
            "colorscale": [
             [
              0,
              "#0d0887"
             ],
             [
              0.1111111111111111,
              "#46039f"
             ],
             [
              0.2222222222222222,
              "#7201a8"
             ],
             [
              0.3333333333333333,
              "#9c179e"
             ],
             [
              0.4444444444444444,
              "#bd3786"
             ],
             [
              0.5555555555555556,
              "#d8576b"
             ],
             [
              0.6666666666666666,
              "#ed7953"
             ],
             [
              0.7777777777777778,
              "#fb9f3a"
             ],
             [
              0.8888888888888888,
              "#fdca26"
             ],
             [
              1,
              "#f0f921"
             ]
            ],
            "type": "contour"
           }
          ],
          "contourcarpet": [
           {
            "colorbar": {
             "outlinewidth": 0,
             "ticks": ""
            },
            "type": "contourcarpet"
           }
          ],
          "heatmap": [
           {
            "colorbar": {
             "outlinewidth": 0,
             "ticks": ""
            },
            "colorscale": [
             [
              0,
              "#0d0887"
             ],
             [
              0.1111111111111111,
              "#46039f"
             ],
             [
              0.2222222222222222,
              "#7201a8"
             ],
             [
              0.3333333333333333,
              "#9c179e"
             ],
             [
              0.4444444444444444,
              "#bd3786"
             ],
             [
              0.5555555555555556,
              "#d8576b"
             ],
             [
              0.6666666666666666,
              "#ed7953"
             ],
             [
              0.7777777777777778,
              "#fb9f3a"
             ],
             [
              0.8888888888888888,
              "#fdca26"
             ],
             [
              1,
              "#f0f921"
             ]
            ],
            "type": "heatmap"
           }
          ],
          "heatmapgl": [
           {
            "colorbar": {
             "outlinewidth": 0,
             "ticks": ""
            },
            "colorscale": [
             [
              0,
              "#0d0887"
             ],
             [
              0.1111111111111111,
              "#46039f"
             ],
             [
              0.2222222222222222,
              "#7201a8"
             ],
             [
              0.3333333333333333,
              "#9c179e"
             ],
             [
              0.4444444444444444,
              "#bd3786"
             ],
             [
              0.5555555555555556,
              "#d8576b"
             ],
             [
              0.6666666666666666,
              "#ed7953"
             ],
             [
              0.7777777777777778,
              "#fb9f3a"
             ],
             [
              0.8888888888888888,
              "#fdca26"
             ],
             [
              1,
              "#f0f921"
             ]
            ],
            "type": "heatmapgl"
           }
          ],
          "histogram": [
           {
            "marker": {
             "pattern": {
              "fillmode": "overlay",
              "size": 10,
              "solidity": 0.2
             }
            },
            "type": "histogram"
           }
          ],
          "histogram2d": [
           {
            "colorbar": {
             "outlinewidth": 0,
             "ticks": ""
            },
            "colorscale": [
             [
              0,
              "#0d0887"
             ],
             [
              0.1111111111111111,
              "#46039f"
             ],
             [
              0.2222222222222222,
              "#7201a8"
             ],
             [
              0.3333333333333333,
              "#9c179e"
             ],
             [
              0.4444444444444444,
              "#bd3786"
             ],
             [
              0.5555555555555556,
              "#d8576b"
             ],
             [
              0.6666666666666666,
              "#ed7953"
             ],
             [
              0.7777777777777778,
              "#fb9f3a"
             ],
             [
              0.8888888888888888,
              "#fdca26"
             ],
             [
              1,
              "#f0f921"
             ]
            ],
            "type": "histogram2d"
           }
          ],
          "histogram2dcontour": [
           {
            "colorbar": {
             "outlinewidth": 0,
             "ticks": ""
            },
            "colorscale": [
             [
              0,
              "#0d0887"
             ],
             [
              0.1111111111111111,
              "#46039f"
             ],
             [
              0.2222222222222222,
              "#7201a8"
             ],
             [
              0.3333333333333333,
              "#9c179e"
             ],
             [
              0.4444444444444444,
              "#bd3786"
             ],
             [
              0.5555555555555556,
              "#d8576b"
             ],
             [
              0.6666666666666666,
              "#ed7953"
             ],
             [
              0.7777777777777778,
              "#fb9f3a"
             ],
             [
              0.8888888888888888,
              "#fdca26"
             ],
             [
              1,
              "#f0f921"
             ]
            ],
            "type": "histogram2dcontour"
           }
          ],
          "mesh3d": [
           {
            "colorbar": {
             "outlinewidth": 0,
             "ticks": ""
            },
            "type": "mesh3d"
           }
          ],
          "parcoords": [
           {
            "line": {
             "colorbar": {
              "outlinewidth": 0,
              "ticks": ""
             }
            },
            "type": "parcoords"
           }
          ],
          "pie": [
           {
            "automargin": true,
            "type": "pie"
           }
          ],
          "scatter": [
           {
            "fillpattern": {
             "fillmode": "overlay",
             "size": 10,
             "solidity": 0.2
            },
            "type": "scatter"
           }
          ],
          "scatter3d": [
           {
            "line": {
             "colorbar": {
              "outlinewidth": 0,
              "ticks": ""
             }
            },
            "marker": {
             "colorbar": {
              "outlinewidth": 0,
              "ticks": ""
             }
            },
            "type": "scatter3d"
           }
          ],
          "scattercarpet": [
           {
            "marker": {
             "colorbar": {
              "outlinewidth": 0,
              "ticks": ""
             }
            },
            "type": "scattercarpet"
           }
          ],
          "scattergeo": [
           {
            "marker": {
             "colorbar": {
              "outlinewidth": 0,
              "ticks": ""
             }
            },
            "type": "scattergeo"
           }
          ],
          "scattergl": [
           {
            "marker": {
             "colorbar": {
              "outlinewidth": 0,
              "ticks": ""
             }
            },
            "type": "scattergl"
           }
          ],
          "scattermapbox": [
           {
            "marker": {
             "colorbar": {
              "outlinewidth": 0,
              "ticks": ""
             }
            },
            "type": "scattermapbox"
           }
          ],
          "scatterpolar": [
           {
            "marker": {
             "colorbar": {
              "outlinewidth": 0,
              "ticks": ""
             }
            },
            "type": "scatterpolar"
           }
          ],
          "scatterpolargl": [
           {
            "marker": {
             "colorbar": {
              "outlinewidth": 0,
              "ticks": ""
             }
            },
            "type": "scatterpolargl"
           }
          ],
          "scatterternary": [
           {
            "marker": {
             "colorbar": {
              "outlinewidth": 0,
              "ticks": ""
             }
            },
            "type": "scatterternary"
           }
          ],
          "surface": [
           {
            "colorbar": {
             "outlinewidth": 0,
             "ticks": ""
            },
            "colorscale": [
             [
              0,
              "#0d0887"
             ],
             [
              0.1111111111111111,
              "#46039f"
             ],
             [
              0.2222222222222222,
              "#7201a8"
             ],
             [
              0.3333333333333333,
              "#9c179e"
             ],
             [
              0.4444444444444444,
              "#bd3786"
             ],
             [
              0.5555555555555556,
              "#d8576b"
             ],
             [
              0.6666666666666666,
              "#ed7953"
             ],
             [
              0.7777777777777778,
              "#fb9f3a"
             ],
             [
              0.8888888888888888,
              "#fdca26"
             ],
             [
              1,
              "#f0f921"
             ]
            ],
            "type": "surface"
           }
          ],
          "table": [
           {
            "cells": {
             "fill": {
              "color": "#EBF0F8"
             },
             "line": {
              "color": "white"
             }
            },
            "header": {
             "fill": {
              "color": "#C8D4E3"
             },
             "line": {
              "color": "white"
             }
            },
            "type": "table"
           }
          ]
         },
         "layout": {
          "annotationdefaults": {
           "arrowcolor": "#2a3f5f",
           "arrowhead": 0,
           "arrowwidth": 1
          },
          "autotypenumbers": "strict",
          "coloraxis": {
           "colorbar": {
            "outlinewidth": 0,
            "ticks": ""
           }
          },
          "colorscale": {
           "diverging": [
            [
             0,
             "#8e0152"
            ],
            [
             0.1,
             "#c51b7d"
            ],
            [
             0.2,
             "#de77ae"
            ],
            [
             0.3,
             "#f1b6da"
            ],
            [
             0.4,
             "#fde0ef"
            ],
            [
             0.5,
             "#f7f7f7"
            ],
            [
             0.6,
             "#e6f5d0"
            ],
            [
             0.7,
             "#b8e186"
            ],
            [
             0.8,
             "#7fbc41"
            ],
            [
             0.9,
             "#4d9221"
            ],
            [
             1,
             "#276419"
            ]
           ],
           "sequential": [
            [
             0,
             "#0d0887"
            ],
            [
             0.1111111111111111,
             "#46039f"
            ],
            [
             0.2222222222222222,
             "#7201a8"
            ],
            [
             0.3333333333333333,
             "#9c179e"
            ],
            [
             0.4444444444444444,
             "#bd3786"
            ],
            [
             0.5555555555555556,
             "#d8576b"
            ],
            [
             0.6666666666666666,
             "#ed7953"
            ],
            [
             0.7777777777777778,
             "#fb9f3a"
            ],
            [
             0.8888888888888888,
             "#fdca26"
            ],
            [
             1,
             "#f0f921"
            ]
           ],
           "sequentialminus": [
            [
             0,
             "#0d0887"
            ],
            [
             0.1111111111111111,
             "#46039f"
            ],
            [
             0.2222222222222222,
             "#7201a8"
            ],
            [
             0.3333333333333333,
             "#9c179e"
            ],
            [
             0.4444444444444444,
             "#bd3786"
            ],
            [
             0.5555555555555556,
             "#d8576b"
            ],
            [
             0.6666666666666666,
             "#ed7953"
            ],
            [
             0.7777777777777778,
             "#fb9f3a"
            ],
            [
             0.8888888888888888,
             "#fdca26"
            ],
            [
             1,
             "#f0f921"
            ]
           ]
          },
          "colorway": [
           "#636efa",
           "#EF553B",
           "#00cc96",
           "#ab63fa",
           "#FFA15A",
           "#19d3f3",
           "#FF6692",
           "#B6E880",
           "#FF97FF",
           "#FECB52"
          ],
          "font": {
           "color": "#2a3f5f"
          },
          "geo": {
           "bgcolor": "white",
           "lakecolor": "white",
           "landcolor": "#E5ECF6",
           "showlakes": true,
           "showland": true,
           "subunitcolor": "white"
          },
          "hoverlabel": {
           "align": "left"
          },
          "hovermode": "closest",
          "mapbox": {
           "style": "light"
          },
          "paper_bgcolor": "white",
          "plot_bgcolor": "#E5ECF6",
          "polar": {
           "angularaxis": {
            "gridcolor": "white",
            "linecolor": "white",
            "ticks": ""
           },
           "bgcolor": "#E5ECF6",
           "radialaxis": {
            "gridcolor": "white",
            "linecolor": "white",
            "ticks": ""
           }
          },
          "scene": {
           "xaxis": {
            "backgroundcolor": "#E5ECF6",
            "gridcolor": "white",
            "gridwidth": 2,
            "linecolor": "white",
            "showbackground": true,
            "ticks": "",
            "zerolinecolor": "white"
           },
           "yaxis": {
            "backgroundcolor": "#E5ECF6",
            "gridcolor": "white",
            "gridwidth": 2,
            "linecolor": "white",
            "showbackground": true,
            "ticks": "",
            "zerolinecolor": "white"
           },
           "zaxis": {
            "backgroundcolor": "#E5ECF6",
            "gridcolor": "white",
            "gridwidth": 2,
            "linecolor": "white",
            "showbackground": true,
            "ticks": "",
            "zerolinecolor": "white"
           }
          },
          "shapedefaults": {
           "line": {
            "color": "#2a3f5f"
           }
          },
          "ternary": {
           "aaxis": {
            "gridcolor": "white",
            "linecolor": "white",
            "ticks": ""
           },
           "baxis": {
            "gridcolor": "white",
            "linecolor": "white",
            "ticks": ""
           },
           "bgcolor": "#E5ECF6",
           "caxis": {
            "gridcolor": "white",
            "linecolor": "white",
            "ticks": ""
           }
          },
          "title": {
           "x": 0.05
          },
          "xaxis": {
           "automargin": true,
           "gridcolor": "white",
           "linecolor": "white",
           "ticks": "",
           "title": {
            "standoff": 15
           },
           "zerolinecolor": "white",
           "zerolinewidth": 2
          },
          "yaxis": {
           "automargin": true,
           "gridcolor": "white",
           "linecolor": "white",
           "ticks": "",
           "title": {
            "standoff": 15
           },
           "zerolinecolor": "white",
           "zerolinewidth": 2
          }
         }
        },
        "title": {
         "text": "Cena w zależności od roku wydania"
        },
        "xaxis": {
         "anchor": "y",
         "domain": [
          0,
          1
         ],
         "title": {
          "text": "Rok wydania"
         }
        },
        "yaxis": {
         "anchor": "x",
         "domain": [
          0,
          1
         ],
         "title": {
          "text": "Cena (zł)"
         }
        }
       }
      }
     },
     "metadata": {},
     "output_type": "display_data"
    }
   ],
   "source": [
    "# 3. Rozkład cen w zależności od daty wydania\n",
    "\n",
    "df['Data wydania'] = pd.to_datetime(df['Data wydania'], errors='coerce')\n",
    "df['Rok wydania'] = df['Data wydania'].dt.year\n",
    "\n",
    "# Scatter plot: Cena vs. Rok wydania\n",
    "fig = px.scatter(df, x='Rok wydania', y='Cena', color='Nacechowanie recenzji',\n",
    "                 title='Cena w zależności od roku wydania', labels={'Cena': 'Cena (zł)', 'Rok wydania': 'Rok wydania'},\n",
    "                 hover_data=['Tytuł'])\n",
    "fig.show()\n"
   ]
  },
  {
   "cell_type": "code",
   "execution_count": 58,
   "metadata": {},
   "outputs": [],
   "source": [
    "# 4. Wpływ liczby recenzji na nacechowanie recenzji\n",
    "\n"
   ]
  },
  {
   "cell_type": "code",
   "execution_count": 26,
   "metadata": {},
   "outputs": [
    {
     "data": {
      "application/vnd.plotly.v1+json": {
       "config": {
        "plotlyServerURL": "https://plot.ly"
       },
       "data": [
        {
         "alignmentgroup": "True",
         "bingroup": "x",
         "hovertemplate": "Cena (zł)=%{x}<br>count=%{y}<extra></extra>",
         "legendgroup": "",
         "marker": {
          "color": "#636efa",
          "pattern": {
           "shape": ""
          }
         },
         "name": "",
         "offsetgroup": "",
         "orientation": "v",
         "showlegend": false,
         "type": "histogram",
         "x": [
          0,
          45.86,
          42.25,
          45.86,
          199,
          10.79,
          169,
          46.24,
          0,
          157.49,
          55.49,
          0,
          111.99,
          229.99,
          45.99,
          15.99,
          13.89,
          161.99,
          71.99,
          124.79,
          64.49,
          35.74,
          164.99,
          75.59,
          169.9,
          26.56,
          72.59,
          49.75,
          55.99,
          199.99,
          91.99,
          0,
          31.75,
          35.63,
          118.14,
          0,
          13.79,
          63.99,
          84.99,
          105.63,
          0,
          69.99,
          59.99,
          9.19,
          86.34,
          0,
          73.59,
          20.39,
          0,
          138.99,
          0,
          22.99,
          15.6,
          0,
          49.99,
          72.99,
          269.9,
          43.19,
          29.99,
          61.19,
          111.3,
          59.99,
          80.49,
          58.49,
          45.99,
          19.01,
          35.6,
          29.99,
          138.99,
          0,
          0,
          0,
          39.97,
          83.39,
          19.99,
          118.3,
          35.98,
          185.59,
          79.99,
          0,
          71.99,
          43.19,
          59.6,
          75,
          107.99,
          13.99,
          0,
          35.8,
          8.99,
          12.6,
          31.99,
          67.6,
          59.99,
          219,
          35.99,
          91.99,
          274.99,
          0,
          89.99,
          45.99,
          114.99,
          12.6,
          44.99,
          173.99,
          0,
          37.48,
          149.99,
          24.99,
          89.99,
          32.24,
          138.99,
          79,
          65.99,
          35.74,
          50,
          55.19,
          31.99,
          92.79,
          48.59,
          119.9,
          21.59,
          29.97,
          31,
          67.99,
          79.9,
          115,
          39.99,
          68.64,
          21.24,
          114.99,
          159.9,
          70.39,
          209.99,
          54.39,
          138.99,
          169,
          138.99,
          45.99,
          27.99,
          63.24,
          149.99,
          199.99,
          74.24,
          49.17,
          289.9,
          78.99,
          64.5,
          45.99,
          45.99,
          99,
          34.99,
          32.39,
          24.75,
          14.29,
          214.99,
          0,
          64.99,
          0,
          94.99,
          0,
          17.99,
          10.79,
          28.74,
          219,
          259,
          259,
          269.9,
          0,
          254.8,
          7.99,
          91.99,
          27.59,
          44.19,
          0,
          231.99,
          17.81,
          59,
          114.99,
          19.99,
          219,
          71.99,
          26.7,
          289.9,
          89.99,
          59.99,
          69.3,
          107.46,
          21.59,
          89.99,
          231.99,
          77.99,
          68.7,
          71.99,
          199,
          35.99,
          67.99,
          138.74,
          42.99,
          107.99,
          189.9,
          55.19,
          54.99,
          63.99,
          7.49,
          45.99,
          73.59,
          138.99,
          91.99,
          44.99,
          184.99,
          14.75,
          45.99,
          45.99,
          59.99,
          179,
          84.5,
          9.99,
          82.99,
          54.99,
          161.99,
          161.99,
          161.99,
          39.99,
          67.99,
          31.49,
          26.99,
          25.89,
          159.9,
          7.19,
          39.99,
          0,
          29.99,
          49.99,
          72.99,
          138.99,
          35.99,
          73.59,
          69.9,
          138.99,
          114.99,
          138.99,
          138.99,
          45.99,
          73.59,
          0,
          71.99,
          114.99,
          79.99,
          21.12,
          36.99,
          82.79,
          6.89,
          22,
          32.39,
          69.49,
          67.99,
          85.9,
          17.81,
          109,
          299,
          124.99,
          124.5,
          69.9,
          122.99,
          118.14,
          39.99,
          119,
          89.99,
          107.99,
          114.99,
          114.99,
          109.95,
          114.99,
          114.99,
          0,
          17.99,
          29.99,
          44.99,
          114.99,
          109,
          99,
          99,
          71.99,
          26.99,
          107.99,
          58.17,
          19.97,
          124,
          104.99,
          35.99,
          95,
          89.9,
          49.59,
          24.06,
          33.99,
          13.74,
          18.49,
          0,
          45.99,
          45.99,
          91.99,
          45.99,
          91.99,
          91.99,
          91.99,
          91.99,
          91.99,
          91.99,
          89.99,
          91.99,
          107.99,
          89.99,
          44.99,
          89.99,
          71.49,
          89.9,
          67.52,
          9.19,
          0,
          14.66,
          88.49,
          9.59,
          86.24,
          184.99,
          49.99,
          31.24,
          74.99,
          46.99,
          84.48,
          82.99,
          69.99,
          100,
          0,
          35.99,
          79.99,
          80,
          39.9,
          0,
          91.99,
          119,
          29.99,
          119.9,
          41.69,
          73.59,
          10.99,
          7.19,
          73.43,
          0,
          6.49,
          89.99,
          71.99,
          71.99,
          17.99,
          71.99,
          35.99,
          35.99,
          100,
          100,
          100,
          34.99,
          69.9,
          36.79,
          34.68,
          68.99,
          91.99,
          67.99,
          67.99,
          22.99,
          67.99,
          7.19,
          66.49,
          64.99,
          64.39,
          14.99,
          62.99,
          171.9,
          0,
          254.8,
          71.99,
          60.89,
          100,
          100,
          59.99,
          59.99,
          59.99,
          114.99,
          39.99,
          58.49,
          199.99,
          25.34,
          55.93,
          55.59,
          53.99,
          54.39,
          54.39,
          13.49,
          53.99,
          53.99,
          53.99,
          26.99,
          13.49,
          71.2,
          100,
          52.19,
          12.77,
          29.99,
          48.78,
          47.99,
          125.09,
          8.99,
          21.12,
          47.99,
          23.99,
          3.59,
          24.41,
          99.99,
          46.8,
          36.79,
          114.99
         ],
         "xaxis": "x",
         "yaxis": "y"
        },
        {
         "customdata": [
          [
           "Marvel Rivals"
          ],
          [
           "DOOM Eternal"
          ],
          [
           "Subnautica: Below Zero"
          ],
          [
           "Cyberpunk 2077"
          ],
          [
           "Among Us"
          ],
          [
           "Stellaris"
          ],
          [
           "Warhammer 40,000: Space Marine 2"
          ],
          [
           "S.T.A.L.K.E.R. 2: Heart of Chornobyl"
          ],
          [
           "Frostpunk"
          ],
          [
           "Jurassic World Evolution 2"
          ],
          [
           "ENDLESS™ Space 2"
          ],
          [
           "Lies of P"
          ],
          [
           "They Are Billions"
          ],
          [
           "ENDLESS™ Legend"
          ],
          [
           "Atomic Heart"
          ],
          [
           "Halo: The Master Chief Collection"
          ],
          [
           "BlazBlue Entropy Effect"
          ],
          [
           "Project Zomboid"
          ],
          [
           "Metro Exodus"
          ],
          [
           "Planetary Annihilation: TITANS"
          ],
          [
           "Void Crew"
          ],
          [
           "STAR WARS™: The Old Republic™"
          ],
          [
           "Barotrauma"
          ],
          [
           "This War of Mine"
          ],
          [
           "Plague Inc: Evolved"
          ],
          [
           "Chained Together"
          ],
          [
           "DOOM 3"
          ],
          [
           "The Long Drive"
          ],
          [
           "MechWarrior 5: Mercenaries"
          ],
          [
           "The Long Dark"
          ],
          [
           "Aliens: Dark Descent"
          ],
          [
           "LOCKDOWN Protocol"
          ],
          [
           "Chernobylite Complete Edition"
          ],
          [
           "Annihilate The Spance"
          ],
          [
           "Starship Troopers: Terran Command"
          ],
          [
           "Sins of a Solar Empire II"
          ],
          [
           "Unturned"
          ],
          [
           "Space Engineers"
          ],
          [
           "State of Decay 2: Juggernaut Edition"
          ],
          [
           "Hatsune Miku: Project DIVA Mega Mix+"
          ],
          [
           "The Invincible"
          ],
          [
           "Metro 2033 Redux"
          ],
          [
           "Nuclear Nightmare"
          ],
          [
           "System Shock"
          ],
          [
           "Zompiercer"
          ],
          [
           "Horizon Zero Dawn™ Complete Edition"
          ],
          [
           "Job Simulator"
          ],
          [
           "Metro: Last Light Redux"
          ],
          [
           "My Time at Sandrock"
          ],
          [
           "Wolfenstein: The New Order"
          ],
          [
           "AI: THE SOMNIUM FILES - nirvanA Initiative"
          ],
          [
           "Fallout 4"
          ],
          [
           "Forever Skies"
          ],
          [
           "Quantum Break"
          ],
          [
           "Deep Rock Galactic: Survivor"
          ],
          [
           "Amenti"
          ],
          [
           "Aliens: Fireteam Elite"
          ],
          [
           "Mechabellum"
          ],
          [
           "Beyond: Two Souls"
          ],
          [
           "60 Seconds! Reatomized"
          ],
          [
           "Nobody Wants to Die"
          ],
          [
           "Road 96 🛣️"
          ],
          [
           "REMNANT II®"
          ],
          [
           "Obenseuer"
          ],
          [
           "Age of Wonders: Planetfall"
          ],
          [
           "ASTRONEER"
          ],
          [
           "Sovereign Syndicate"
          ],
          [
           "From Glory To Goo"
          ],
          [
           "ZEPHON"
          ],
          [
           "Warhammer 40,000: Rogue Trader"
          ],
          [
           "Astrometica"
          ],
          [
           "The Riftbreaker"
          ],
          [
           "Halo Wars: Definitive Edition"
          ],
          [
           "AI: The Somnium Files"
          ],
          [
           "EARTH DEFENSE FORCE 5"
          ],
          [
           "Fallout Shelter"
          ],
          [
           "Starcom: Unknown Space"
          ],
          [
           "Zero Escape: The Nonary Games"
          ],
          [
           "Horizon Forbidden West™ Edycja kompletna"
          ],
          [
           "Mass Effect™ Edycja legendarna"
          ],
          [
           "Call of Duty®: Black Ops III"
          ],
          [
           "STAR WARS™: Episode I: Jedi Power Battles™"
          ],
          [
           "RoboCop: Rogue City"
          ],
          [
           "Clone Drone in the Hyperdome"
          ],
          [
           "Lightyear Frontier"
          ],
          [
           "Sunset Overdrive"
          ],
          [
           "Days Gone"
          ],
          [
           "Vanquish"
          ],
          [
           "Slice of Sea"
          ],
          [
           "Mutant Year Zero: Road to Eden"
          ],
          [
           "Creatures of Ava"
          ],
          [
           "Arizona Sunshine® 2"
          ],
          [
           "Killing Floor 2"
          ],
          [
           "Project Wingman"
          ],
          [
           "Stardeus"
          ],
          [
           "Shin Megami Tensei III Nocturne HD Remaster"
          ],
          [
           "High On Life"
          ],
          [
           "FANTASIAN Neo Dimension"
          ],
          [
           "Bright Memory: Infinite"
          ],
          [
           "Terminator: Dark Fate - Defiance"
          ],
          [
           "STEINS;GATE ELITE"
          ],
          [
           "Sins of a Solar Empire®: Rebellion"
          ],
          [
           "Solar Ash"
          ],
          [
           "Cepheus Protocol"
          ],
          [
           "ENDER LILIES: Quietus of the Knights"
          ],
          [
           "Fallout: New Vegas"
          ],
          [
           "Warhammer 40,000: Gladius - Relics of War"
          ],
          [
           "Drill Core"
          ],
          [
           "Homeworld Remastered Collection"
          ],
          [
           "Nuclear Option"
          ],
          [
           "Endoparasitic 2"
          ],
          [
           "Pathologic 2"
          ],
          [
           "Into the Breach"
          ],
          [
           "Iron Lung"
          ],
          [
           "Assassin's Creed® Syndicate"
          ],
          [
           "Zero Escape: Zero Time Dilemma"
          ],
          [
           "Jurassic World Evolution"
          ],
          [
           "Airborne Kingdom"
          ],
          [
           "NEBULOUS: Fleet Command"
          ],
          [
           "The Sapling"
          ],
          [
           "Space Haven"
          ],
          [
           "Eden Crafters"
          ],
          [
           "SPORE™"
          ],
          [
           "Kristala"
          ],
          [
           "Star Trek: Resurgence"
          ],
          [
           "Serious Sam 2"
          ],
          [
           "Cell to Singularity - Evolution Never Ends"
          ],
          [
           "Rain World"
          ],
          [
           "Warhammer 40,000: Boltgun"
          ],
          [
           "Saints Row IV: Re-Elected"
          ],
          [
           "Stellar Settlers: Space Base Builder"
          ],
          [
           "BLADE CHIMERA"
          ],
          [
           "Wall World"
          ],
          [
           "Wasteland 2: Director's Cut"
          ],
          [
           "Seed of the Dead: Sweet Home"
          ],
          [
           "ATOM RPG: Post-apocalyptic indie game"
          ],
          [
           "XCOM: Enemy Unknown"
          ],
          [
           "Particle Fleet: Emergence"
          ],
          [
           "Pacific Drive"
          ],
          [
           "Destroy All Humans!"
          ],
          [
           "The Thing: Remastered"
          ],
          [
           "Caravan SandWitch"
          ],
          [
           "The Last Stand: Aftermath"
          ],
          [
           "Crysis 2 Remastered"
          ],
          [
           "Crysis 3 Remastered"
          ],
          [
           "S.T.A.L.K.E.R.: Shadow of Chernobyl"
          ],
          [
           "Crying Suns"
          ],
          [
           "Wolfenstein II: The New Colossus"
          ],
          [
           "Still Wakes the Deep"
          ],
          [
           "Genome Guardian"
          ],
          [
           "Doors: Paradox"
          ],
          [
           "STAR WARS™ Knights of the Old Republic™ II - The Sith Lords™"
          ],
          [
           "Citizen Sleeper"
          ],
          [
           "STAR WARS™ Battlefront II (Classic, 2005)"
          ],
          [
           "Cataclysm: Dark Days Ahead"
          ],
          [
           "Starship EVO"
          ],
          [
           "LEGO® Star Wars™ III - The Clone Wars™"
          ],
          [
           "DYSMANTLE"
          ],
          [
           "The Walking Dead: The Final Season"
          ],
          [
           "InfraSpace"
          ],
          [
           "Uncle Chop's Rocket Shop"
          ],
          [
           "Ben 10: Power Trip"
          ],
          [
           "ANNO: Mutationem"
          ],
          [
           "Fallout 2: A Post Nuclear Role Playing Game"
          ],
          [
           "Fallout 3: Game of the Year Edition"
          ],
          [
           "Wasteland 3"
          ],
          [
           "Deus Ex: Human Revolution - Director's Cut"
          ],
          [
           "Goodbye Deponia"
          ],
          [
           "Poker Master"
          ],
          [
           "Takara Cards"
          ],
          [
           "New Arc Line"
          ],
          [
           "Beholder"
          ],
          [
           "The Devil Within: Satgat"
          ],
          [
           "Warhammer 40,000: Battlesector"
          ],
          [
           "ATOM RPG Trudograd"
          ],
          [
           "Tasty Planet Forever"
          ],
          [
           "Oblivion Override"
          ],
          [
           "Dome Keeper"
          ],
          [
           "Revolution Idle"
          ],
          [
           "Five Nations"
          ],
          [
           "SUPERHOT VR"
          ],
          [
           "Chicken Police: Into the HIVE!"
          ],
          [
           "Far Cry®"
          ],
          [
           "Arizona Sunshine® Remake"
          ],
          [
           "World War Z"
          ],
          [
           "Space Reign"
          ],
          [
           "Dungeon of the ENDLESS™"
          ],
          [
           "Deponia Doomsday"
          ],
          [
           "Fortune's Run"
          ],
          [
           "Neon Abyss"
          ],
          [
           "Endoparasitic"
          ],
          [
           "S.T.A.L.K.E.R.: Clear Sky"
          ],
          [
           "Command & Conquer 3: Gniew Kane'a"
          ],
          [
           "Command & Conquer™ Red Alert™ 3"
          ],
          [
           "Command & Conquer 3: Wojny o tyberium"
          ],
          [
           "Syberia"
          ],
          [
           "Aliens vs. Ghosts"
          ],
          [
           "Risk of Rain Returns"
          ],
          [
           "Starbound"
          ],
          [
           "Chaos on Deponia"
          ],
          [
           "Space Rangers HD: A War Apart"
          ],
          [
           "GNOSIA"
          ],
          [
           "Call of Duty®: Black Ops II"
          ],
          [
           "Rigid Force Alpha"
          ],
          [
           "Command & Conquer™ Tiberian Sun™ and Firestorm™"
          ],
          [
           "Command & Conquer Red Alert™ 2 and Yuri’s Revenge™"
          ],
          [
           "Whispers of a Machine"
          ],
          [
           "COCOON"
          ],
          [
           "Supreme Commander"
          ],
          [
           "Beyond Good & Evil - 20th Anniversary Edition"
          ],
          [
           "Muv-Luv (マブラヴ)"
          ],
          [
           "Gun Metal"
          ],
          [
           "Red Matter"
          ],
          [
           "Quasimorph"
          ],
          [
           "Command & Conquer™ Red Alert™ 3- Powstanie"
          ],
          [
           "Final Factory"
          ],
          [
           "Splatter - Zombiecalypse Now"
          ],
          [
           "SUPERHOT"
          ],
          [
           "Airborne Empire"
          ],
          [
           "Chorus"
          ],
          [
           "Gatekeeper"
          ],
          [
           "NORCO"
          ],
          [
           "Deponia"
          ],
          [
           "Azure Striker GUNVOLT 3"
          ],
          [
           "Uplink"
          ],
          [
           "Avorion"
          ]
         ],
         "hovertemplate": "Nacechowanie recenzji=Bardzo pozytywne<br>Cena=%{x}<br>Liczba recenzji=%{y}<br>Tytuł=%{customdata[0]}<extra></extra>",
         "legendgroup": "Bardzo pozytywne",
         "marker": {
          "color": "#636efa",
          "symbol": "circle"
         },
         "mode": "markers",
         "name": "Bardzo pozytywne",
         "orientation": "v",
         "showlegend": true,
         "type": "scatter",
         "x": [
          0,
          42.25,
          45.86,
          199,
          10.79,
          46.24,
          157.49,
          229.99,
          13.89,
          64.49,
          35.74,
          164.99,
          75.59,
          26.56,
          72.59,
          49.75,
          55.99,
          91.99,
          31.75,
          35.63,
          63.99,
          0,
          69.99,
          9.19,
          20.39,
          22.99,
          15.6,
          72.99,
          43.19,
          29.99,
          58.49,
          45.99,
          29.99,
          138.99,
          83.39,
          185.59,
          0,
          71.99,
          43.19,
          59.6,
          75,
          12.6,
          31.99,
          67.6,
          59.99,
          219,
          91.99,
          12.6,
          149.99,
          89.99,
          32.24,
          79,
          65.99,
          35.74,
          50,
          31.99,
          29.97,
          67.99,
          79.9,
          39.99,
          68.64,
          21.24,
          209.99,
          54.39,
          138.99,
          138.99,
          45.99,
          27.99,
          149.99,
          199.99,
          78.99,
          99,
          24.75,
          14.29,
          214.99,
          0,
          94.99,
          10.79,
          259,
          269.9,
          254.8,
          91.99,
          231.99,
          59,
          114.99,
          19.99,
          219,
          26.7,
          89.99,
          59.99,
          69.3,
          107.46,
          21.59,
          89.99,
          77.99,
          68.7,
          71.99,
          199,
          35.99,
          138.74,
          42.99,
          55.19,
          63.99,
          73.59,
          91.99,
          44.99,
          184.99,
          59.99,
          9.99,
          82.99,
          54.99,
          161.99,
          26.99,
          25.89,
          159.9,
          7.19,
          39.99,
          29.99,
          49.99,
          72.99,
          35.99,
          73.59,
          69.9,
          138.99,
          114.99,
          45.99,
          0,
          114.99,
          79.99,
          21.12,
          36.99,
          82.79,
          6.89,
          32.39,
          69.49,
          67.99,
          85.9,
          17.81,
          109,
          124.99,
          122.99,
          39.99,
          114.99,
          99,
          99,
          71.99,
          26.99,
          124,
          104.99,
          24.06,
          33.99,
          45.99,
          91.99,
          45.99,
          91.99,
          91.99,
          91.99,
          91.99,
          91.99,
          89.99,
          91.99,
          107.99,
          89.99,
          44.99,
          89.99,
          71.49,
          67.52,
          9.19,
          0,
          14.66,
          88.49,
          9.59,
          86.24,
          184.99,
          49.99,
          46.99,
          82.99,
          69.99,
          0,
          35.99,
          79.99,
          80,
          39.9,
          119,
          119.9,
          73.59,
          10.99,
          7.19,
          73.43,
          17.99,
          35.99,
          35.99,
          100,
          100,
          100,
          34.99,
          34.68,
          67.99,
          67.99,
          7.19,
          66.49,
          62.99,
          254.8,
          71.99,
          100,
          100,
          59.99,
          59.99,
          39.99,
          55.93,
          55.59,
          13.49,
          53.99,
          71.2,
          100,
          52.19,
          12.77,
          29.99,
          125.09,
          21.12,
          47.99,
          23.99,
          3.59,
          46.8,
          36.79,
          114.99
         ],
         "xaxis": "x2",
         "y": [
          182553,
          169843,
          86065,
          715753,
          612000,
          124289,
          107919,
          79211,
          98175,
          27610,
          16363,
          34215,
          42756,
          13989,
          26482,
          215389,
          22712,
          266531,
          101357,
          10780,
          4681,
          65154,
          49377,
          60529,
          48068,
          41794,
          7757,
          38741,
          10122,
          95010,
          12115,
          10614,
          10836,
          98,
          8172,
          5165,
          550767,
          95500,
          50481,
          14253,
          4528,
          79958,
          6980,
          7858,
          2002,
          92645,
          3836,
          58984,
          21481,
          40525,
          2847,
          256332,
          4637,
          20453,
          32876,
          428,
          18784,
          12033,
          21610,
          14900,
          2717,
          17045,
          39732,
          693,
          4508,
          107935,
          282,
          631,
          957,
          18908,
          1283,
          16076,
          7468,
          7498,
          8643,
          72445,
          2551,
          5426,
          13811,
          48750,
          136348,
          71,
          11094,
          446,
          2081,
          10389,
          68732,
          6127,
          405,
          12642,
          171,
          1439,
          82811,
          15140,
          1176,
          3250,
          15230,
          221,
          34827,
          2313,
          1332,
          9982,
          1052,
          2296,
          34481,
          11350,
          7135,
          906,
          11276,
          2897,
          409,
          8185,
          16571,
          7349,
          26916,
          3878,
          46831,
          1876,
          3091,
          1294,
          7977,
          943,
          58329,
          106,
          1757,
          10286,
          22517,
          30412,
          12629,
          57056,
          407,
          402,
          8177,
          4615,
          2816,
          9206,
          38165,
          1112,
          14482,
          8309,
          646,
          1487,
          5260,
          5667,
          4756,
          36261,
          2912,
          29993,
          4688,
          393,
          1081,
          20540,
          5704,
          45071,
          402,
          867,
          6362,
          9745,
          14920,
          1356,
          570,
          246,
          5082,
          11950,
          38835,
          15930,
          23427,
          1828,
          3983,
          75,
          299,
          19309,
          636,
          4004,
          3479,
          281,
          1540,
          13065,
          2194,
          216,
          7324,
          182,
          9028,
          553,
          18206,
          199,
          9197,
          2623,
          462,
          19093,
          2429,
          16822,
          4402,
          13217,
          7569,
          3480,
          379,
          23932,
          85929,
          2192,
          5223,
          2781,
          20516,
          100,
          776,
          7046,
          1213,
          6066,
          2060,
          954,
          1376,
          556,
          910,
          3394,
          3875,
          232,
          2019,
          25751,
          221,
          3196,
          1240,
          2137,
          9262,
          369,
          1692,
          11923
         ],
         "yaxis": "y2"
        },
        {
         "customdata": [
          [
           "Subnautica"
          ],
          [
           "Detroit: Become Human"
          ],
          [
           "RimWorld"
          ],
          [
           "Lethal Company"
          ],
          [
           "DOOM"
          ],
          [
           "Stray"
          ],
          [
           "Caves of Qud"
          ],
          [
           "Brotato"
          ],
          [
           "Outer Wilds"
          ],
          [
           "Beat Saber"
          ],
          [
           "Mouthwashing"
          ],
          [
           "The Planet Crafter"
          ],
          [
           "Life is Strange - Episode 1"
          ],
          [
           "Warhammer 40,000: Dawn of War - Anniversary Edition"
          ],
          [
           "Deep Rock Galactic"
          ],
          [
           "Severed Steel"
          ],
          [
           "Creeper World 4"
          ],
          [
           "Half-Life: Alyx"
          ],
          [
           "Oxygen Not Included"
          ],
          [
           "Left 4 Dead 2"
          ],
          [
           "Abiotic Factor"
          ],
          [
           "Cosmoteer: Starship Architect & Commander"
          ],
          [
           "STEINS;GATE 0"
          ],
          [
           "Nine Sols"
          ],
          [
           "DRAMAtical Murder"
          ],
          [
           "Titanfall® 2"
          ],
          [
           "STEINS;GATE"
          ],
          [
           "SpaceEngine"
          ],
          [
           "Roboquest"
          ],
          [
           "Portal"
          ],
          [
           "Portal 2"
          ],
          [
           "CRUEL"
          ],
          [
           "shapez 2"
          ],
          [
           "The Forgotten City"
          ],
          [
           "SANABI"
          ],
          [
           "Creeper World 3: Arc Eternal"
          ],
          [
           "Turing Complete"
          ],
          [
           "Beyond Citadel"
          ],
          [
           "Kenshi"
          ],
          [
           "Anomaly Agent"
          ],
          [
           "Papers, Please"
          ],
          [
           "Half-Life 2"
          ],
          [
           "The Walking Dead"
          ],
          [
           "Universe Sandbox"
          ],
          [
           "The Talos Principle 2"
          ],
          [
           "Dyson Sphere Program"
          ],
          [
           "I Was a Teenage Exocolonist"
          ],
          [
           "Dishonored"
          ],
          [
           "METAL GEAR RISING: REVENGEANCE"
          ],
          [
           "Half-Life"
          ],
          [
           "Nova Drift"
          ],
          [
           "Left 4 Dead"
          ],
          [
           "Opus Magnum"
          ],
          [
           "Machinarium"
          ],
          [
           "Minds Beneath Us"
          ],
          [
           "S.T.A.L.K.E.R.: Call of Pripyat"
          ],
          [
           "Cruelty Squad"
          ],
          [
           "Misao - 2024 HD Remaster"
          ],
          [
           "Mars First Logistics"
          ],
          [
           "Alien Shooter"
          ],
          [
           "Kerbal Space Program"
          ],
          [
           "Spaceflight Simulator"
          ],
          [
           "MULLET MADJACK"
          ],
          [
           "Worldless"
          ],
          [
           "VA-11 Hall-A: Cyberpunk Bartender Action"
          ]
         ],
         "hovertemplate": "Nacechowanie recenzji=Przytłaczająco pozytywne<br>Cena=%{x}<br>Liczba recenzji=%{y}<br>Tytuł=%{customdata[0]}<extra></extra>",
         "legendgroup": "Przytłaczająco pozytywne",
         "marker": {
          "color": "#EF553B",
          "symbol": "circle"
         },
         "mode": "markers",
         "name": "Przytłaczająco pozytywne",
         "orientation": "v",
         "showlegend": true,
         "type": "scatter",
         "x": [
          45.86,
          55.49,
          111.99,
          45.99,
          15.99,
          71.99,
          118.14,
          13.79,
          59.99,
          138.99,
          59.99,
          80.49,
          0,
          19.99,
          107.99,
          8.99,
          35.99,
          274.99,
          89.99,
          45.99,
          114.99,
          44.99,
          24.99,
          138.99,
          55.19,
          119.9,
          21.59,
          115,
          70.39,
          45.99,
          45.99,
          34.99,
          64.99,
          28.74,
          44.19,
          17.81,
          71.99,
          67.99,
          107.99,
          54.99,
          45.99,
          45.99,
          67.99,
          138.99,
          138.99,
          71.99,
          114.99,
          44.99,
          109,
          35.99,
          49.59,
          45.99,
          91.99,
          74.99,
          91.99,
          71.99,
          71.99,
          36.79,
          68.99,
          22.99,
          171.9,
          59.99,
          58.49,
          53.99,
          53.99
         ],
         "xaxis": "x2",
         "y": [
          270717,
          129446,
          171314,
          378091,
          134704,
          134727,
          9023,
          87149,
          65580,
          67651,
          22283,
          46357,
          167844,
          7856,
          263856,
          5207,
          4032,
          83075,
          117237,
          708227,
          18747,
          9910,
          6040,
          20696,
          3076,
          216599,
          18353,
          11165,
          15797,
          148579,
          349169,
          550,
          9137,
          9035,
          30831,
          3864,
          3517,
          1300,
          78325,
          7468,
          65893,
          175083,
          45901,
          22357,
          10534,
          75847,
          3310,
          11155,
          62838,
          102094,
          12054,
          50603,
          4699,
          13218,
          2280,
          23818,
          18019,
          2029,
          1044,
          3361,
          101395,
          5591,
          5724,
          924,
          30979
         ],
         "yaxis": "y2"
        },
        {
         "customdata": [
          [
           "HELLDIVERS™ 2"
          ],
          [
           "Once Human"
          ],
          [
           "ICARUS"
          ],
          [
           "Frostpunk 2"
          ],
          [
           "Fallout 76"
          ],
          [
           "Dying Light 2 Stay Human: Reloaded Edition"
          ],
          [
           "Snowbreak: Containment Zone"
          ],
          [
           "Warhammer 40,000: Darktide"
          ],
          [
           "Dead Island 2"
          ],
          [
           "Dune: Spice Wars"
          ],
          [
           "Ostranauts"
          ],
          [
           "Crossout"
          ],
          [
           "Destiny 2"
          ],
          [
           "New Cycle"
          ],
          [
           "IDUN"
          ],
          [
           "Metro Awakening"
          ],
          [
           "Iron Harvest"
          ],
          [
           "Tom Clancy’s The Division® 2"
          ],
          [
           "Empire of the Ants"
          ],
          [
           "Far Cry® New Dawn"
          ],
          [
           "Infection Free Zone"
          ],
          [
           "Battlefleet Gothic: Armada 2"
          ],
          [
           "Halo Infinite"
          ],
          [
           "MechWarrior 5: Clans"
          ],
          [
           "Tower of Fantasy"
          ],
          [
           "Distant Worlds 2"
          ],
          [
           "Warhammer 40,000: Chaos Gate - Daemonhunters"
          ],
          [
           "The Ascent"
          ],
          [
           "Star Trucker"
          ],
          [
           "Gears Tactics"
          ],
          [
           "Star Wars Outlaws"
          ],
          [
           "Age of Water"
          ],
          [
           "Hidden Deep"
          ],
          [
           "Phantasy Star Online 2 New Genesis"
          ],
          [
           "Homeworld: Deserts of Kharak"
          ],
          [
           "Horizon Zero Dawn™ Remastered"
          ],
          [
           "The Last of Us™ Part I"
          ],
          [
           "CryoFall"
          ],
          [
           "Dark Sky"
          ],
          [
           "Warhammer 40,000: Inquisitor - Martyr"
          ],
          [
           "Mass Effect: Andromeda - ulepszenie Deluxe"
          ],
          [
           "Surviving the Aftermath"
          ],
          [
           "IXION"
          ],
          [
           "Urban Strife"
          ],
          [
           "Twelve Minutes"
          ],
          [
           "Dustwind"
          ],
          [
           "Will To Live Online"
          ],
          [
           "Revival: Recolonization"
          ],
          [
           "Dead Space™ 3"
          ],
          [
           "The Crust"
          ],
          [
           "Master of Orion"
          ],
          [
           "Crysis Remastered"
          ],
          [
           "Occupy Mars: The Game"
          ],
          [
           "Deadside"
          ],
          [
           "Among Us VR"
          ],
          [
           "Ghosts of Tabor"
          ],
          [
           "Rick and Morty: Virtual Rick-ality"
          ],
          [
           "Fort Solis"
          ],
          [
           "OVRLRD"
          ],
          [
           "Thief"
          ],
          [
           "Survivors of the Dawn"
          ],
          [
           "XCOM®: Chimera Squad"
          ],
          [
           "Torment: Tides of Numenera"
          ],
          [
           "Red Faction Guerrilla Re-Mars-tered"
          ],
          [
           "Star Trek Online"
          ],
          [
           "After the Fall®"
          ],
          [
           "The Surge"
          ],
          [
           "Phoenix Point"
          ],
          [
           "Silica"
          ],
          [
           "STAR WARS™ Battlefront"
          ],
          [
           "Elite Dangerous"
          ],
          [
           "DUCKSIDE"
          ],
          [
           "Space Simulation Toolkit"
          ],
          [
           "The Surge 2"
          ],
          [
           "Reverse Collapse: Code Name Bakery"
          ],
          [
           "X4: Foundations"
          ],
          [
           "Scars Above"
          ],
          [
           "Deadlight"
          ],
          [
           "Star Dynasties"
          ],
          [
           "ENDLESS™ Space - Definitive Edition"
          ],
          [
           "The Leviathan's fantasy"
          ],
          [
           "Generation Zero®"
          ]
         ],
         "hovertemplate": "Nacechowanie recenzji=W większości pozytywne<br>Cena=%{x}<br>Liczba recenzji=%{y}<br>Tytuł=%{customdata[0]}<extra></extra>",
         "legendgroup": "W większości pozytywne",
         "marker": {
          "color": "#00cc96",
          "symbol": "circle"
         },
         "mode": "markers",
         "name": "W większości pozytywne",
         "orientation": "v",
         "showlegend": true,
         "type": "scatter",
         "x": [
          169,
          0,
          161.99,
          124.79,
          169.9,
          199.99,
          0,
          84.99,
          105.63,
          86.34,
          73.59,
          0,
          0,
          49.99,
          61.19,
          111.3,
          19.01,
          39.97,
          118.3,
          35.98,
          79.99,
          13.99,
          0,
          173.99,
          0,
          92.79,
          48.59,
          31,
          74.24,
          49.17,
          289.9,
          64.5,
          32.39,
          0,
          17.99,
          219,
          259,
          7.99,
          27.59,
          231.99,
          189.9,
          138.99,
          161.99,
          161.99,
          39.99,
          31.49,
          0,
          138.99,
          69.9,
          119,
          89.99,
          107.99,
          114.99,
          114.99,
          17.99,
          114.99,
          107.99,
          58.17,
          95,
          89.9,
          18.49,
          89.9,
          31.24,
          84.48,
          0,
          41.69,
          6.49,
          89.99,
          71.99,
          69.9,
          91.99,
          67.99,
          64.39,
          14.99,
          114.99,
          199.99,
          25.34,
          13.49,
          48.78,
          8.99,
          24.41,
          99.99
         ],
         "xaxis": "x2",
         "y": [
          706413,
          117775,
          35431,
          14948,
          64469,
          137460,
          7038,
          87431,
          7998,
          10237,
          1531,
          62777,
          617922,
          1881,
          206,
          1786,
          10660,
          17357,
          631,
          27725,
          11394,
          8557,
          174780,
          3830,
          10471,
          2380,
          9677,
          17561,
          3644,
          6737,
          2207,
          1898,
          3494,
          23737,
          7324,
          2413,
          39626,
          4517,
          37,
          18096,
          13861,
          2902,
          12960,
          163,
          6691,
          296,
          17258,
          319,
          9624,
          1884,
          6995,
          11110,
          1947,
          31402,
          2288,
          7774,
          2088,
          1673,
          34,
          16525,
          569,
          19735,
          1948,
          3012,
          19809,
          2325,
          7656,
          4499,
          3892,
          4383,
          74276,
          1974,
          302,
          6259,
          4144,
          18621,
          1947,
          9237,
          364,
          6511,
          52,
          27375
         ],
         "yaxis": "y2"
        },
        {
         "customdata": [
          [
           "Apex Legends™"
          ],
          [
           "The First Descendant"
          ],
          [
           "War Robots"
          ],
          [
           "Battlefield™ 2042"
          ],
          [
           "ENDLESS™ Dungeon"
          ],
          [
           "Stay Out"
          ],
          [
           "Build Master: MarsVille"
          ],
          [
           "Warhammer 40,000: Dawn of War III"
          ],
          [
           "Warhammer 40,000: Warpforge"
          ],
          [
           "Watch Dogs®: Legion"
          ],
          [
           "Hyper Light Breaker"
          ],
          [
           "Anno 2205™"
          ],
          [
           "SYNDUALITY Echo of Ada"
          ],
          [
           "Outpost: Infinity Siege"
          ],
          [
           "Echocalypse: The Scarlet Covenant"
          ],
          [
           "Warhammer The Horus Heresy: Legions"
          ],
          [
           "FINAL FANTASY VII EVER CRISIS"
          ],
          [
           "Avatar: Frontiers of Pandora™"
          ],
          [
           "Battlefleet Gothic: Armada"
          ],
          [
           "DOOM VFR"
          ],
          [
           "FREEDOM WARS Remastered"
          ],
          [
           "Capes"
          ],
          [
           "Starfield"
          ],
          [
           "Stargate: Timekeepers"
          ],
          [
           "White Sands"
          ],
          [
           "Left to Survive: Shooter PVP"
          ],
          [
           "Necromunda: Hired Gun"
          ],
          [
           "Anno 2070™"
          ],
          [
           "Road 96: Mile 0"
          ],
          [
           "ANOTHER EDEN"
          ],
          [
           "One Lonely Outpost"
          ],
          [
           "Vigor"
          ],
          [
           "Serum"
          ],
          [
           "Infinite Lagrange"
          ],
          [
           "Life Not Supported"
          ],
          [
           "StarMade"
          ],
          [
           "Aquatico"
          ]
         ],
         "hovertemplate": "Nacechowanie recenzji=Mieszane<br>Cena=%{x}<br>Liczba recenzji=%{y}<br>Tytuł=%{customdata[0]}<extra></extra>",
         "legendgroup": "Mieszane",
         "marker": {
          "color": "#ab63fa",
          "symbol": "circle"
         },
         "mode": "markers",
         "name": "Mieszane",
         "orientation": "v",
         "showlegend": true,
         "type": "scatter",
         "x": [
          0,
          0,
          0,
          269.9,
          35.6,
          0,
          0,
          35.8,
          0,
          37.48,
          114.99,
          159.9,
          169,
          63.24,
          0,
          0,
          0,
          289.9,
          7.49,
          14.75,
          179,
          84.5,
          299,
          118.14,
          109.95,
          0,
          29.99,
          19.97,
          13.74,
          0,
          29.99,
          0,
          64.99,
          0,
          60.89,
          53.99,
          26.99
         ],
         "xaxis": "x2",
         "y": [
          976249,
          97782,
          24994,
          227036,
          2648,
          24049,
          182,
          13017,
          2531,
          8947,
          2406,
          5662,
          751,
          10843,
          240,
          2831,
          2660,
          2398,
          4875,
          2164,
          943,
          342,
          106827,
          166,
          26,
          384,
          5295,
          11131,
          1340,
          1813,
          432,
          5854,
          179,
          817,
          133,
          2180,
          748
         ],
         "yaxis": "y2"
        },
        {
         "customdata": [
          [
           "Overwatch® 2"
          ],
          [
           "Homeworld 3"
          ]
         ],
         "hovertemplate": "Nacechowanie recenzji=W większości negatywne<br>Cena=%{x}<br>Liczba recenzji=%{y}<br>Tytuł=%{customdata[0]}<extra></extra>",
         "legendgroup": "W większości negatywne",
         "marker": {
          "color": "#FFA15A",
          "symbol": "circle"
         },
         "mode": "markers",
         "name": "W większości negatywne",
         "orientation": "v",
         "showlegend": true,
         "type": "scatter",
         "x": [
          0,
          124.5
         ],
         "xaxis": "x2",
         "y": [
          325520,
          4929
         ],
         "yaxis": "y2"
        },
        {
         "customdata": [
          [
           "Planetiles"
          ],
          [
           "SACRIFICE VILLAINS"
          ],
          [
           "Infest"
          ],
          [
           "Super Roboy"
          ],
          [
           "Mini Mini Golf Golf"
          ]
         ],
         "hovertemplate": "Nacechowanie recenzji=Pozytywne<br>Cena=%{x}<br>Liczba recenzji=%{y}<br>Tytuł=%{customdata[0]}<extra></extra>",
         "legendgroup": "Pozytywne",
         "marker": {
          "color": "#19d3f3",
          "symbol": "circle"
         },
         "mode": "markers",
         "name": "Pozytywne",
         "orientation": "v",
         "showlegend": true,
         "type": "scatter",
         "x": [
          45.99,
          73.59,
          54.39,
          54.39,
          47.99
         ],
         "xaxis": "x2",
         "y": [
          48,
          17,
          14,
          17,
          25
         ],
         "yaxis": "y2"
        },
        {
         "customdata": [
          [
           "Airships: Lost Flotilla"
          ]
         ],
         "hovertemplate": "Nacechowanie recenzji=Brak informacji<br>Cena=%{x}<br>Liczba recenzji=%{y}<br>Tytuł=%{customdata[0]}<extra></extra>",
         "legendgroup": "Brak informacji",
         "marker": {
          "color": "#FF6692",
          "symbol": "circle"
         },
         "mode": "markers",
         "name": "Brak informacji",
         "orientation": "v",
         "showlegend": true,
         "type": "scatter",
         "x": [
          22
         ],
         "xaxis": "x2",
         "y": [
          0
         ],
         "yaxis": "y2"
        },
        {
         "customdata": [
          [
           "Command & Conquer™ 4 Tyberyjski zmierzch"
          ]
         ],
         "hovertemplate": "Nacechowanie recenzji=Przytłaczająco negatywne<br>Cena=%{x}<br>Liczba recenzji=%{y}<br>Tytuł=%{customdata[0]}<extra></extra>",
         "legendgroup": "Przytłaczająco negatywne",
         "marker": {
          "color": "#B6E880",
          "symbol": "circle"
         },
         "mode": "markers",
         "name": "Przytłaczająco negatywne",
         "orientation": "v",
         "showlegend": true,
         "type": "scatter",
         "x": [
          100
         ],
         "xaxis": "x2",
         "y": [
          4076
         ],
         "yaxis": "y2"
        },
        {
         "alignmentgroup": "True",
         "hovertemplate": "Nacechowanie recenzji=%{x}<br>Cena=%{y}<extra></extra>",
         "legendgroup": "",
         "marker": {
          "color": "#636efa"
         },
         "name": "",
         "notched": false,
         "offsetgroup": "",
         "orientation": "v",
         "showlegend": false,
         "type": "box",
         "x": [
          "Bardzo pozytywne",
          "Przytłaczająco pozytywne",
          "Bardzo pozytywne",
          "Bardzo pozytywne",
          "Bardzo pozytywne",
          "Bardzo pozytywne",
          "W większości pozytywne",
          "Bardzo pozytywne",
          "Mieszane",
          "Bardzo pozytywne",
          "Przytłaczająco pozytywne",
          "W większości pozytywne",
          "Przytłaczająco pozytywne",
          "Bardzo pozytywne",
          "Przytłaczająco pozytywne",
          "Przytłaczająco pozytywne",
          "Bardzo pozytywne",
          "W większości pozytywne",
          "Przytłaczająco pozytywne",
          "W większości pozytywne",
          "Bardzo pozytywne",
          "Bardzo pozytywne",
          "Bardzo pozytywne",
          "Bardzo pozytywne",
          "W większości pozytywne",
          "Bardzo pozytywne",
          "Bardzo pozytywne",
          "Bardzo pozytywne",
          "Bardzo pozytywne",
          "W większości pozytywne",
          "Bardzo pozytywne",
          "W większości pozytywne",
          "Bardzo pozytywne",
          "Bardzo pozytywne",
          "Przytłaczająco pozytywne",
          "W większości negatywne",
          "Przytłaczająco pozytywne",
          "Bardzo pozytywne",
          "W większości pozytywne",
          "W większości pozytywne",
          "Bardzo pozytywne",
          "Bardzo pozytywne",
          "Przytłaczająco pozytywne",
          "Bardzo pozytywne",
          "W większości pozytywne",
          "Mieszane",
          "W większości pozytywne",
          "Bardzo pozytywne",
          "Mieszane",
          "Przytłaczająco pozytywne",
          "W większości pozytywne",
          "Bardzo pozytywne",
          "Bardzo pozytywne",
          "W większości pozytywne",
          "W większości pozytywne",
          "Bardzo pozytywne",
          "Mieszane",
          "Bardzo pozytywne",
          "Bardzo pozytywne",
          "W większości pozytywne",
          "W większości pozytywne",
          "Przytłaczająco pozytywne",
          "Przytłaczająco pozytywne",
          "Bardzo pozytywne",
          "Bardzo pozytywne",
          "W większości pozytywne",
          "Mieszane",
          "Bardzo pozytywne",
          "Bardzo pozytywne",
          "Mieszane",
          "Mieszane",
          "Przytłaczająco pozytywne",
          "W większości pozytywne",
          "Bardzo pozytywne",
          "Przytłaczająco pozytywne",
          "W większości pozytywne",
          "W większości pozytywne",
          "Bardzo pozytywne",
          "W większości pozytywne",
          "Bardzo pozytywne",
          "Bardzo pozytywne",
          "Bardzo pozytywne",
          "Bardzo pozytywne",
          "Bardzo pozytywne",
          "Przytłaczająco pozytywne",
          "W większości pozytywne",
          "W większości pozytywne",
          "Mieszane",
          "Przytłaczająco pozytywne",
          "Bardzo pozytywne",
          "Bardzo pozytywne",
          "Bardzo pozytywne",
          "Bardzo pozytywne",
          "Bardzo pozytywne",
          "Przytłaczająco pozytywne",
          "Bardzo pozytywne",
          "Przytłaczająco pozytywne",
          "Mieszane",
          "Przytłaczająco pozytywne",
          "Przytłaczająco pozytywne",
          "Przytłaczająco pozytywne",
          "Bardzo pozytywne",
          "Przytłaczająco pozytywne",
          "W większości pozytywne",
          "W większości pozytywne",
          "Mieszane",
          "Bardzo pozytywne",
          "Przytłaczająco pozytywne",
          "Bardzo pozytywne",
          "Bardzo pozytywne",
          "Przytłaczająco pozytywne",
          "Bardzo pozytywne",
          "Bardzo pozytywne",
          "Bardzo pozytywne",
          "Bardzo pozytywne",
          "Przytłaczająco pozytywne",
          "Bardzo pozytywne",
          "W większości pozytywne",
          "W większości pozytywne",
          "Przytłaczająco pozytywne",
          "Przytłaczająco pozytywne",
          "Bardzo pozytywne",
          "W większości pozytywne",
          "Bardzo pozytywne",
          "Bardzo pozytywne",
          "Przytłaczająco pozytywne",
          "Bardzo pozytywne",
          "Bardzo pozytywne",
          "Bardzo pozytywne",
          "Mieszane",
          "Mieszane",
          "Przytłaczająco pozytywne",
          "Bardzo pozytywne",
          "Bardzo pozytywne",
          "Bardzo pozytywne",
          "Mieszane",
          "Bardzo pozytywne",
          "Bardzo pozytywne",
          "Bardzo pozytywne",
          "Mieszane",
          "Bardzo pozytywne",
          "Bardzo pozytywne",
          "W większości pozytywne",
          "W większości pozytywne",
          "W większości pozytywne",
          "Bardzo pozytywne",
          "W większości pozytywne",
          "Przytłaczająco pozytywne",
          "Przytłaczająco pozytywne",
          "Bardzo pozytywne",
          "Przytłaczająco pozytywne",
          "W większości pozytywne",
          "Bardzo pozytywne",
          "Bardzo pozytywne",
          "Bardzo pozytywne",
          "Bardzo pozytywne",
          "Przytłaczająco pozytywne",
          "Mieszane",
          "Bardzo pozytywne",
          "W większości pozytywne",
          "W większości pozytywne",
          "Bardzo pozytywne",
          "Przytłaczająco pozytywne",
          "W większości pozytywne",
          "Bardzo pozytywne",
          "W większości pozytywne",
          "Bardzo pozytywne",
          "Mieszane",
          "Bardzo pozytywne",
          "W większości pozytywne",
          "Bardzo pozytywne",
          "W większości pozytywne",
          "Przytłaczająco pozytywne",
          "Mieszane",
          "Bardzo pozytywne",
          "Przytłaczająco pozytywne",
          "Bardzo pozytywne",
          "Bardzo pozytywne",
          "Bardzo pozytywne",
          "Bardzo pozytywne",
          "Przytłaczająco pozytywne",
          "Bardzo pozytywne",
          "Mieszane",
          "Bardzo pozytywne",
          "Bardzo pozytywne",
          "Bardzo pozytywne",
          "Bardzo pozytywne",
          "Bardzo pozytywne",
          "Bardzo pozytywne",
          "W większości pozytywne",
          "Bardzo pozytywne",
          "Bardzo pozytywne",
          "Bardzo pozytywne",
          "Bardzo pozytywne",
          "Bardzo pozytywne",
          "Przytłaczająco pozytywne",
          "Bardzo pozytywne",
          "Bardzo pozytywne",
          "Przytłaczająco pozytywne",
          "W większości pozytywne",
          "Bardzo pozytywne",
          "Przytłaczająco pozytywne",
          "Bardzo pozytywne",
          "Mieszane",
          "Przytłaczająco pozytywne",
          "Bardzo pozytywne",
          "W większości pozytywne",
          "Bardzo pozytywne",
          "Bardzo pozytywne",
          "Bardzo pozytywne",
          "Mieszane",
          "Przytłaczająco pozytywne",
          "Pozytywne",
          "Bardzo pozytywne",
          "Mieszane",
          "Mieszane",
          "Bardzo pozytywne",
          "Bardzo pozytywne",
          "Bardzo pozytywne",
          "W większości pozytywne",
          "Bardzo pozytywne",
          "W większości pozytywne",
          "W większości pozytywne",
          "Przytłaczająco pozytywne",
          "W większości pozytywne",
          "Bardzo pozytywne",
          "Bardzo pozytywne",
          "Bardzo pozytywne",
          "Bardzo pozytywne",
          "Bardzo pozytywne",
          "W większości pozytywne",
          "Bardzo pozytywne",
          "Bardzo pozytywne",
          "Bardzo pozytywne",
          "W większości pozytywne",
          "Bardzo pozytywne",
          "Bardzo pozytywne",
          "Bardzo pozytywne",
          "Bardzo pozytywne",
          "Bardzo pozytywne",
          "Przytłaczająco pozytywne",
          "Przytłaczająco pozytywne",
          "Bardzo pozytywne",
          "Pozytywne",
          "Bardzo pozytywne",
          "Przytłaczająco pozytywne",
          "Bardzo pozytywne",
          "Bardzo pozytywne",
          "Bardzo pozytywne",
          "Bardzo pozytywne",
          "Bardzo pozytywne",
          "Bardzo pozytywne",
          "Brak informacji",
          "Bardzo pozytywne",
          "Bardzo pozytywne",
          "Bardzo pozytywne",
          "Bardzo pozytywne",
          "Bardzo pozytywne",
          "Bardzo pozytywne",
          "Mieszane",
          "Bardzo pozytywne",
          "W większości negatywne",
          "W większości pozytywne",
          "Bardzo pozytywne",
          "Mieszane",
          "Bardzo pozytywne",
          "W większości pozytywne",
          "W większości pozytywne",
          "W większości pozytywne",
          "W większości pozytywne",
          "Bardzo pozytywne",
          "Mieszane",
          "Przytłaczająco pozytywne",
          "W większości pozytywne",
          "Mieszane",
          "W większości pozytywne",
          "Mieszane",
          "Przytłaczająco pozytywne",
          "W większości pozytywne",
          "Przytłaczająco pozytywne",
          "Bardzo pozytywne",
          "Bardzo pozytywne",
          "Bardzo pozytywne",
          "Bardzo pozytywne",
          "W większości pozytywne",
          "W większości pozytywne",
          "Mieszane",
          "Bardzo pozytywne",
          "Bardzo pozytywne",
          "Przytłaczająco pozytywne",
          "W większości pozytywne",
          "W większości pozytywne",
          "Przytłaczająco pozytywne",
          "Bardzo pozytywne",
          "Bardzo pozytywne",
          "Mieszane",
          "W większości pozytywne",
          "Mieszane",
          "Bardzo pozytywne",
          "Przytłaczająco pozytywne",
          "Bardzo pozytywne",
          "Bardzo pozytywne",
          "Bardzo pozytywne",
          "Bardzo pozytywne",
          "Bardzo pozytywne",
          "Bardzo pozytywne",
          "Przytłaczająco pozytywne",
          "Bardzo pozytywne",
          "Bardzo pozytywne",
          "Bardzo pozytywne",
          "Bardzo pozytywne",
          "Bardzo pozytywne",
          "Bardzo pozytywne",
          "Bardzo pozytywne",
          "Bardzo pozytywne",
          "W większości pozytywne",
          "Bardzo pozytywne",
          "Bardzo pozytywne",
          "Bardzo pozytywne",
          "Bardzo pozytywne",
          "Bardzo pozytywne",
          "Bardzo pozytywne",
          "Bardzo pozytywne",
          "Bardzo pozytywne",
          "Bardzo pozytywne",
          "W większości pozytywne",
          "Przytłaczająco pozytywne",
          "Bardzo pozytywne",
          "W większości pozytywne",
          "Bardzo pozytywne",
          "Bardzo pozytywne",
          "Przytłaczająco negatywne",
          "Bardzo pozytywne",
          "Bardzo pozytywne",
          "Bardzo pozytywne",
          "Bardzo pozytywne",
          "Bardzo pozytywne",
          "W większości pozytywne",
          "Przytłaczająco pozytywne",
          "Bardzo pozytywne",
          "Mieszane",
          "Bardzo pozytywne",
          "W większości pozytywne",
          "Bardzo pozytywne",
          "Bardzo pozytywne",
          "Bardzo pozytywne",
          "Bardzo pozytywne",
          "Mieszane",
          "W większości pozytywne",
          "W większości pozytywne",
          "Przytłaczająco pozytywne",
          "Przytłaczająco pozytywne",
          "Bardzo pozytywne",
          "W większości pozytywne",
          "Bardzo pozytywne",
          "Bardzo pozytywne",
          "Bardzo pozytywne",
          "Bardzo pozytywne",
          "Bardzo pozytywne",
          "Bardzo pozytywne",
          "W większości pozytywne",
          "Przytłaczająco pozytywne",
          "Bardzo pozytywne",
          "Przytłaczająco pozytywne",
          "W większości pozytywne",
          "Bardzo pozytywne",
          "W większości pozytywne",
          "Przytłaczająco pozytywne",
          "Bardzo pozytywne",
          "Bardzo pozytywne",
          "Bardzo pozytywne",
          "Mieszane",
          "W większości pozytywne",
          "W większości pozytywne",
          "Bardzo pozytywne",
          "Przytłaczająco pozytywne",
          "Mieszane",
          "Bardzo pozytywne",
          "Bardzo pozytywne",
          "Mieszane",
          "Bardzo pozytywne",
          "Bardzo pozytywne",
          "Bardzo pozytywne",
          "Bardzo pozytywne",
          "Przytłaczająco pozytywne",
          "W większości pozytywne",
          "Bardzo pozytywne",
          "Przytłaczająco pozytywne",
          "W większości pozytywne",
          "W większości pozytywne",
          "Bardzo pozytywne",
          "Bardzo pozytywne",
          "Mieszane",
          "Pozytywne",
          "Pozytywne",
          "Bardzo pozytywne",
          "Przytłaczająco pozytywne",
          "Przytłaczająco pozytywne",
          "Bardzo pozytywne",
          "Mieszane",
          "W większości pozytywne",
          "Bardzo pozytywne",
          "Bardzo pozytywne",
          "Bardzo pozytywne",
          "Bardzo pozytywne",
          "Bardzo pozytywne",
          "W większości pozytywne",
          "Pozytywne",
          "Bardzo pozytywne",
          "W większości pozytywne",
          "Bardzo pozytywne",
          "Bardzo pozytywne",
          "Bardzo pozytywne",
          "Bardzo pozytywne",
          "W większości pozytywne",
          "W większości pozytywne",
          "Bardzo pozytywne",
          "Bardzo pozytywne",
          "Bardzo pozytywne"
         ],
         "x0": " ",
         "xaxis": "x3",
         "y": [
          0,
          45.86,
          42.25,
          45.86,
          199,
          10.79,
          169,
          46.24,
          0,
          157.49,
          55.49,
          0,
          111.99,
          229.99,
          45.99,
          15.99,
          13.89,
          161.99,
          71.99,
          124.79,
          64.49,
          35.74,
          164.99,
          75.59,
          169.9,
          26.56,
          72.59,
          49.75,
          55.99,
          199.99,
          91.99,
          0,
          31.75,
          35.63,
          118.14,
          0,
          13.79,
          63.99,
          84.99,
          105.63,
          0,
          69.99,
          59.99,
          9.19,
          86.34,
          0,
          73.59,
          20.39,
          0,
          138.99,
          0,
          22.99,
          15.6,
          0,
          49.99,
          72.99,
          269.9,
          43.19,
          29.99,
          61.19,
          111.3,
          59.99,
          80.49,
          58.49,
          45.99,
          19.01,
          35.6,
          29.99,
          138.99,
          0,
          0,
          0,
          39.97,
          83.39,
          19.99,
          118.3,
          35.98,
          185.59,
          79.99,
          0,
          71.99,
          43.19,
          59.6,
          75,
          107.99,
          13.99,
          0,
          35.8,
          8.99,
          12.6,
          31.99,
          67.6,
          59.99,
          219,
          35.99,
          91.99,
          274.99,
          0,
          89.99,
          45.99,
          114.99,
          12.6,
          44.99,
          173.99,
          0,
          37.48,
          149.99,
          24.99,
          89.99,
          32.24,
          138.99,
          79,
          65.99,
          35.74,
          50,
          55.19,
          31.99,
          92.79,
          48.59,
          119.9,
          21.59,
          29.97,
          31,
          67.99,
          79.9,
          115,
          39.99,
          68.64,
          21.24,
          114.99,
          159.9,
          70.39,
          209.99,
          54.39,
          138.99,
          169,
          138.99,
          45.99,
          27.99,
          63.24,
          149.99,
          199.99,
          74.24,
          49.17,
          289.9,
          78.99,
          64.5,
          45.99,
          45.99,
          99,
          34.99,
          32.39,
          24.75,
          14.29,
          214.99,
          0,
          64.99,
          0,
          94.99,
          0,
          17.99,
          10.79,
          28.74,
          219,
          259,
          259,
          269.9,
          0,
          254.8,
          7.99,
          91.99,
          27.59,
          44.19,
          0,
          231.99,
          17.81,
          59,
          114.99,
          19.99,
          219,
          71.99,
          26.7,
          289.9,
          89.99,
          59.99,
          69.3,
          107.46,
          21.59,
          89.99,
          231.99,
          77.99,
          68.7,
          71.99,
          199,
          35.99,
          67.99,
          138.74,
          42.99,
          107.99,
          189.9,
          55.19,
          54.99,
          63.99,
          7.49,
          45.99,
          73.59,
          138.99,
          91.99,
          44.99,
          184.99,
          14.75,
          45.99,
          45.99,
          59.99,
          179,
          84.5,
          9.99,
          82.99,
          54.99,
          161.99,
          161.99,
          161.99,
          39.99,
          67.99,
          31.49,
          26.99,
          25.89,
          159.9,
          7.19,
          39.99,
          0,
          29.99,
          49.99,
          72.99,
          138.99,
          35.99,
          73.59,
          69.9,
          138.99,
          114.99,
          138.99,
          138.99,
          45.99,
          73.59,
          0,
          71.99,
          114.99,
          79.99,
          21.12,
          36.99,
          82.79,
          6.89,
          22,
          32.39,
          69.49,
          67.99,
          85.9,
          17.81,
          109,
          299,
          124.99,
          124.5,
          69.9,
          122.99,
          118.14,
          39.99,
          119,
          89.99,
          107.99,
          114.99,
          114.99,
          109.95,
          114.99,
          114.99,
          0,
          17.99,
          29.99,
          44.99,
          114.99,
          109,
          99,
          99,
          71.99,
          26.99,
          107.99,
          58.17,
          19.97,
          124,
          104.99,
          35.99,
          95,
          89.9,
          49.59,
          24.06,
          33.99,
          13.74,
          18.49,
          0,
          45.99,
          45.99,
          91.99,
          45.99,
          91.99,
          91.99,
          91.99,
          91.99,
          91.99,
          91.99,
          89.99,
          91.99,
          107.99,
          89.99,
          44.99,
          89.99,
          71.49,
          89.9,
          67.52,
          9.19,
          0,
          14.66,
          88.49,
          9.59,
          86.24,
          184.99,
          49.99,
          31.24,
          74.99,
          46.99,
          84.48,
          82.99,
          69.99,
          100,
          0,
          35.99,
          79.99,
          80,
          39.9,
          0,
          91.99,
          119,
          29.99,
          119.9,
          41.69,
          73.59,
          10.99,
          7.19,
          73.43,
          0,
          6.49,
          89.99,
          71.99,
          71.99,
          17.99,
          71.99,
          35.99,
          35.99,
          100,
          100,
          100,
          34.99,
          69.9,
          36.79,
          34.68,
          68.99,
          91.99,
          67.99,
          67.99,
          22.99,
          67.99,
          7.19,
          66.49,
          64.99,
          64.39,
          14.99,
          62.99,
          171.9,
          0,
          254.8,
          71.99,
          60.89,
          100,
          100,
          59.99,
          59.99,
          59.99,
          114.99,
          39.99,
          58.49,
          199.99,
          25.34,
          55.93,
          55.59,
          53.99,
          54.39,
          54.39,
          13.49,
          53.99,
          53.99,
          53.99,
          26.99,
          13.49,
          71.2,
          100,
          52.19,
          12.77,
          29.99,
          48.78,
          47.99,
          125.09,
          8.99,
          21.12,
          47.99,
          23.99,
          3.59,
          24.41,
          99.99,
          46.8,
          36.79,
          114.99
         ],
         "y0": " ",
         "yaxis": "y3"
        },
        {
         "customdata": [
          [
           "Marvel Rivals"
          ],
          [
           "DOOM Eternal"
          ],
          [
           "Subnautica: Below Zero"
          ],
          [
           "Cyberpunk 2077"
          ],
          [
           "Among Us"
          ],
          [
           "Stellaris"
          ],
          [
           "Warhammer 40,000: Space Marine 2"
          ],
          [
           "S.T.A.L.K.E.R. 2: Heart of Chornobyl"
          ],
          [
           "Frostpunk"
          ],
          [
           "Jurassic World Evolution 2"
          ],
          [
           "ENDLESS™ Space 2"
          ],
          [
           "Lies of P"
          ],
          [
           "They Are Billions"
          ],
          [
           "ENDLESS™ Legend"
          ],
          [
           "Atomic Heart"
          ],
          [
           "Halo: The Master Chief Collection"
          ],
          [
           "BlazBlue Entropy Effect"
          ],
          [
           "Project Zomboid"
          ],
          [
           "Metro Exodus"
          ],
          [
           "Planetary Annihilation: TITANS"
          ],
          [
           "Void Crew"
          ],
          [
           "STAR WARS™: The Old Republic™"
          ],
          [
           "Barotrauma"
          ],
          [
           "This War of Mine"
          ],
          [
           "Plague Inc: Evolved"
          ],
          [
           "Chained Together"
          ],
          [
           "DOOM 3"
          ],
          [
           "The Long Drive"
          ],
          [
           "MechWarrior 5: Mercenaries"
          ],
          [
           "The Long Dark"
          ],
          [
           "Aliens: Dark Descent"
          ],
          [
           "LOCKDOWN Protocol"
          ],
          [
           "Chernobylite Complete Edition"
          ],
          [
           "Annihilate The Spance"
          ],
          [
           "Starship Troopers: Terran Command"
          ],
          [
           "Sins of a Solar Empire II"
          ],
          [
           "Unturned"
          ],
          [
           "Space Engineers"
          ],
          [
           "State of Decay 2: Juggernaut Edition"
          ],
          [
           "Hatsune Miku: Project DIVA Mega Mix+"
          ],
          [
           "The Invincible"
          ],
          [
           "Metro 2033 Redux"
          ],
          [
           "Nuclear Nightmare"
          ],
          [
           "System Shock"
          ],
          [
           "Zompiercer"
          ],
          [
           "Horizon Zero Dawn™ Complete Edition"
          ],
          [
           "Job Simulator"
          ],
          [
           "Metro: Last Light Redux"
          ],
          [
           "My Time at Sandrock"
          ],
          [
           "Wolfenstein: The New Order"
          ],
          [
           "AI: THE SOMNIUM FILES - nirvanA Initiative"
          ],
          [
           "Fallout 4"
          ],
          [
           "Forever Skies"
          ],
          [
           "Quantum Break"
          ],
          [
           "Deep Rock Galactic: Survivor"
          ],
          [
           "Amenti"
          ],
          [
           "Aliens: Fireteam Elite"
          ],
          [
           "Mechabellum"
          ],
          [
           "Beyond: Two Souls"
          ],
          [
           "60 Seconds! Reatomized"
          ],
          [
           "Nobody Wants to Die"
          ],
          [
           "Road 96 🛣️"
          ],
          [
           "REMNANT II®"
          ],
          [
           "Obenseuer"
          ],
          [
           "Age of Wonders: Planetfall"
          ],
          [
           "ASTRONEER"
          ],
          [
           "Sovereign Syndicate"
          ],
          [
           "From Glory To Goo"
          ],
          [
           "ZEPHON"
          ],
          [
           "Warhammer 40,000: Rogue Trader"
          ],
          [
           "Astrometica"
          ],
          [
           "The Riftbreaker"
          ],
          [
           "Halo Wars: Definitive Edition"
          ],
          [
           "AI: The Somnium Files"
          ],
          [
           "EARTH DEFENSE FORCE 5"
          ],
          [
           "Fallout Shelter"
          ],
          [
           "Starcom: Unknown Space"
          ],
          [
           "Zero Escape: The Nonary Games"
          ],
          [
           "Horizon Forbidden West™ Edycja kompletna"
          ],
          [
           "Mass Effect™ Edycja legendarna"
          ],
          [
           "Call of Duty®: Black Ops III"
          ],
          [
           "STAR WARS™: Episode I: Jedi Power Battles™"
          ],
          [
           "RoboCop: Rogue City"
          ],
          [
           "Clone Drone in the Hyperdome"
          ],
          [
           "Lightyear Frontier"
          ],
          [
           "Sunset Overdrive"
          ],
          [
           "Days Gone"
          ],
          [
           "Vanquish"
          ],
          [
           "Slice of Sea"
          ],
          [
           "Mutant Year Zero: Road to Eden"
          ],
          [
           "Creatures of Ava"
          ],
          [
           "Arizona Sunshine® 2"
          ],
          [
           "Killing Floor 2"
          ],
          [
           "Project Wingman"
          ],
          [
           "Stardeus"
          ],
          [
           "Shin Megami Tensei III Nocturne HD Remaster"
          ],
          [
           "High On Life"
          ],
          [
           "FANTASIAN Neo Dimension"
          ],
          [
           "Bright Memory: Infinite"
          ],
          [
           "Terminator: Dark Fate - Defiance"
          ],
          [
           "STEINS;GATE ELITE"
          ],
          [
           "Sins of a Solar Empire®: Rebellion"
          ],
          [
           "Solar Ash"
          ],
          [
           "Cepheus Protocol"
          ],
          [
           "ENDER LILIES: Quietus of the Knights"
          ],
          [
           "Fallout: New Vegas"
          ],
          [
           "Warhammer 40,000: Gladius - Relics of War"
          ],
          [
           "Drill Core"
          ],
          [
           "Homeworld Remastered Collection"
          ],
          [
           "Nuclear Option"
          ],
          [
           "Endoparasitic 2"
          ],
          [
           "Pathologic 2"
          ],
          [
           "Into the Breach"
          ],
          [
           "Iron Lung"
          ],
          [
           "Assassin's Creed® Syndicate"
          ],
          [
           "Zero Escape: Zero Time Dilemma"
          ],
          [
           "Jurassic World Evolution"
          ],
          [
           "Airborne Kingdom"
          ],
          [
           "NEBULOUS: Fleet Command"
          ],
          [
           "The Sapling"
          ],
          [
           "Space Haven"
          ],
          [
           "Eden Crafters"
          ],
          [
           "SPORE™"
          ],
          [
           "Kristala"
          ],
          [
           "Star Trek: Resurgence"
          ],
          [
           "Serious Sam 2"
          ],
          [
           "Cell to Singularity - Evolution Never Ends"
          ],
          [
           "Rain World"
          ],
          [
           "Warhammer 40,000: Boltgun"
          ],
          [
           "Saints Row IV: Re-Elected"
          ],
          [
           "Stellar Settlers: Space Base Builder"
          ],
          [
           "BLADE CHIMERA"
          ],
          [
           "Wall World"
          ],
          [
           "Wasteland 2: Director's Cut"
          ],
          [
           "Seed of the Dead: Sweet Home"
          ],
          [
           "ATOM RPG: Post-apocalyptic indie game"
          ],
          [
           "XCOM: Enemy Unknown"
          ],
          [
           "Particle Fleet: Emergence"
          ],
          [
           "Pacific Drive"
          ],
          [
           "Destroy All Humans!"
          ],
          [
           "The Thing: Remastered"
          ],
          [
           "Caravan SandWitch"
          ],
          [
           "The Last Stand: Aftermath"
          ],
          [
           "Crysis 2 Remastered"
          ],
          [
           "Crysis 3 Remastered"
          ],
          [
           "S.T.A.L.K.E.R.: Shadow of Chernobyl"
          ],
          [
           "Crying Suns"
          ],
          [
           "Wolfenstein II: The New Colossus"
          ],
          [
           "Still Wakes the Deep"
          ],
          [
           "Genome Guardian"
          ],
          [
           "Doors: Paradox"
          ],
          [
           "STAR WARS™ Knights of the Old Republic™ II - The Sith Lords™"
          ],
          [
           "Citizen Sleeper"
          ],
          [
           "STAR WARS™ Battlefront II (Classic, 2005)"
          ],
          [
           "Cataclysm: Dark Days Ahead"
          ],
          [
           "Starship EVO"
          ],
          [
           "LEGO® Star Wars™ III - The Clone Wars™"
          ],
          [
           "DYSMANTLE"
          ],
          [
           "The Walking Dead: The Final Season"
          ],
          [
           "InfraSpace"
          ],
          [
           "Uncle Chop's Rocket Shop"
          ],
          [
           "Ben 10: Power Trip"
          ],
          [
           "ANNO: Mutationem"
          ],
          [
           "Fallout 2: A Post Nuclear Role Playing Game"
          ],
          [
           "Fallout 3: Game of the Year Edition"
          ],
          [
           "Wasteland 3"
          ],
          [
           "Deus Ex: Human Revolution - Director's Cut"
          ],
          [
           "Goodbye Deponia"
          ],
          [
           "Poker Master"
          ],
          [
           "Takara Cards"
          ],
          [
           "New Arc Line"
          ],
          [
           "Beholder"
          ],
          [
           "The Devil Within: Satgat"
          ],
          [
           "Warhammer 40,000: Battlesector"
          ],
          [
           "ATOM RPG Trudograd"
          ],
          [
           "Tasty Planet Forever"
          ],
          [
           "Oblivion Override"
          ],
          [
           "Dome Keeper"
          ],
          [
           "Revolution Idle"
          ],
          [
           "Five Nations"
          ],
          [
           "SUPERHOT VR"
          ],
          [
           "Chicken Police: Into the HIVE!"
          ],
          [
           "Far Cry®"
          ],
          [
           "Arizona Sunshine® Remake"
          ],
          [
           "World War Z"
          ],
          [
           "Space Reign"
          ],
          [
           "Dungeon of the ENDLESS™"
          ],
          [
           "Deponia Doomsday"
          ],
          [
           "Fortune's Run"
          ],
          [
           "Neon Abyss"
          ],
          [
           "Endoparasitic"
          ],
          [
           "S.T.A.L.K.E.R.: Clear Sky"
          ],
          [
           "Command & Conquer 3: Gniew Kane'a"
          ],
          [
           "Command & Conquer™ Red Alert™ 3"
          ],
          [
           "Command & Conquer 3: Wojny o tyberium"
          ],
          [
           "Syberia"
          ],
          [
           "Aliens vs. Ghosts"
          ],
          [
           "Risk of Rain Returns"
          ],
          [
           "Starbound"
          ],
          [
           "Chaos on Deponia"
          ],
          [
           "Space Rangers HD: A War Apart"
          ],
          [
           "GNOSIA"
          ],
          [
           "Call of Duty®: Black Ops II"
          ],
          [
           "Rigid Force Alpha"
          ],
          [
           "Command & Conquer™ Tiberian Sun™ and Firestorm™"
          ],
          [
           "Command & Conquer Red Alert™ 2 and Yuri’s Revenge™"
          ],
          [
           "Whispers of a Machine"
          ],
          [
           "COCOON"
          ],
          [
           "Supreme Commander"
          ],
          [
           "Beyond Good & Evil - 20th Anniversary Edition"
          ],
          [
           "Muv-Luv (マブラヴ)"
          ],
          [
           "Gun Metal"
          ],
          [
           "Red Matter"
          ],
          [
           "Quasimorph"
          ],
          [
           "Command & Conquer™ Red Alert™ 3- Powstanie"
          ],
          [
           "Final Factory"
          ],
          [
           "Splatter - Zombiecalypse Now"
          ],
          [
           "SUPERHOT"
          ],
          [
           "Airborne Empire"
          ],
          [
           "Chorus"
          ],
          [
           "Gatekeeper"
          ],
          [
           "NORCO"
          ],
          [
           "Deponia"
          ],
          [
           "Azure Striker GUNVOLT 3"
          ],
          [
           "Uplink"
          ],
          [
           "Avorion"
          ]
         ],
         "hovertemplate": "Nacechowanie recenzji=Bardzo pozytywne<br>Rok wydania=%{x}<br>Cena=%{y}<br>Tytuł=%{customdata[0]}<extra></extra>",
         "legendgroup": "Bardzo pozytywne",
         "marker": {
          "color": "#636efa",
          "symbol": "circle"
         },
         "mode": "markers",
         "name": "Bardzo pozytywne",
         "orientation": "v",
         "showlegend": true,
         "type": "scatter",
         "x": [
          2024,
          2020,
          2021,
          2020,
          2018,
          2016,
          2024,
          2024,
          2018,
          2021,
          2017,
          2023,
          2019,
          2014,
          2023,
          2019,
          2024,
          2013,
          2020,
          2015,
          2024,
          2020,
          2023,
          2014,
          2016,
          2024,
          2012,
          2019,
          2021,
          2017,
          2023,
          2024,
          2021,
          2025,
          2022,
          2024,
          2017,
          2019,
          2020,
          2022,
          2023,
          2014,
          2024,
          2023,
          2020,
          2020,
          2016,
          2014,
          2023,
          2014,
          2022,
          2015,
          2023,
          2016,
          2024,
          2025,
          2021,
          2024,
          2020,
          2019,
          2024,
          2021,
          2023,
          2018,
          2019,
          2019,
          2024,
          2024,
          2024,
          2023,
          2024,
          2021,
          2017,
          2019,
          2019,
          2017,
          2024,
          2017,
          2024,
          2021,
          2015,
          2025,
          2023,
          2024,
          2024,
          2018,
          2021,
          2017,
          2021,
          2018,
          2024,
          2023,
          2016,
          2020,
          2022,
          2021,
          2022,
          2024,
          2021,
          2024,
          2019,
          2012,
          2022,
          2020,
          2021,
          2010,
          2018,
          2024,
          2015,
          2023,
          2024,
          2019,
          2018,
          2022,
          2015,
          2016,
          2018,
          2022,
          2022,
          2019,
          2020,
          2024,
          2008,
          2024,
          2024,
          2012,
          2021,
          2017,
          2023,
          2013,
          2024,
          2025,
          2023,
          2014,
          2021,
          2018,
          2012,
          2016,
          2024,
          2020,
          2024,
          2024,
          2021,
          2022,
          2022,
          2007,
          2019,
          2017,
          2024,
          2024,
          2022,
          2012,
          2022,
          2009,
          2023,
          2020,
          2011,
          2021,
          2018,
          2023,
          2024,
          2020,
          2022,
          2009,
          2009,
          2020,
          2013,
          2013,
          2020,
          2025,
          2024,
          2016,
          2024,
          2021,
          2021,
          2018,
          2024,
          2022,
          2024,
          2021,
          2017,
          2024,
          2008,
          2024,
          2021,
          2023,
          2014,
          2016,
          2023,
          2020,
          2022,
          2008,
          2009,
          2009,
          2009,
          2011,
          2022,
          2023,
          2016,
          2012,
          2013,
          2022,
          2012,
          2018,
          2024,
          2024,
          2019,
          2023,
          2011,
          2024,
          2018,
          2014,
          2018,
          2023,
          2009,
          2024,
          2014,
          2016,
          2025,
          2021,
          2024,
          2022,
          2012,
          2022,
          2006,
          2020
         ],
         "xaxis": "x4",
         "y": [
          0,
          42.25,
          45.86,
          199,
          10.79,
          46.24,
          157.49,
          229.99,
          13.89,
          64.49,
          35.74,
          164.99,
          75.59,
          26.56,
          72.59,
          49.75,
          55.99,
          91.99,
          31.75,
          35.63,
          63.99,
          0,
          69.99,
          9.19,
          20.39,
          22.99,
          15.6,
          72.99,
          43.19,
          29.99,
          58.49,
          45.99,
          29.99,
          138.99,
          83.39,
          185.59,
          0,
          71.99,
          43.19,
          59.6,
          75,
          12.6,
          31.99,
          67.6,
          59.99,
          219,
          91.99,
          12.6,
          149.99,
          89.99,
          32.24,
          79,
          65.99,
          35.74,
          50,
          31.99,
          29.97,
          67.99,
          79.9,
          39.99,
          68.64,
          21.24,
          209.99,
          54.39,
          138.99,
          138.99,
          45.99,
          27.99,
          149.99,
          199.99,
          78.99,
          99,
          24.75,
          14.29,
          214.99,
          0,
          94.99,
          10.79,
          259,
          269.9,
          254.8,
          91.99,
          231.99,
          59,
          114.99,
          19.99,
          219,
          26.7,
          89.99,
          59.99,
          69.3,
          107.46,
          21.59,
          89.99,
          77.99,
          68.7,
          71.99,
          199,
          35.99,
          138.74,
          42.99,
          55.19,
          63.99,
          73.59,
          91.99,
          44.99,
          184.99,
          59.99,
          9.99,
          82.99,
          54.99,
          161.99,
          26.99,
          25.89,
          159.9,
          7.19,
          39.99,
          29.99,
          49.99,
          72.99,
          35.99,
          73.59,
          69.9,
          138.99,
          114.99,
          45.99,
          0,
          114.99,
          79.99,
          21.12,
          36.99,
          82.79,
          6.89,
          32.39,
          69.49,
          67.99,
          85.9,
          17.81,
          109,
          124.99,
          122.99,
          39.99,
          114.99,
          99,
          99,
          71.99,
          26.99,
          124,
          104.99,
          24.06,
          33.99,
          45.99,
          91.99,
          45.99,
          91.99,
          91.99,
          91.99,
          91.99,
          91.99,
          89.99,
          91.99,
          107.99,
          89.99,
          44.99,
          89.99,
          71.49,
          67.52,
          9.19,
          0,
          14.66,
          88.49,
          9.59,
          86.24,
          184.99,
          49.99,
          46.99,
          82.99,
          69.99,
          0,
          35.99,
          79.99,
          80,
          39.9,
          119,
          119.9,
          73.59,
          10.99,
          7.19,
          73.43,
          17.99,
          35.99,
          35.99,
          100,
          100,
          100,
          34.99,
          34.68,
          67.99,
          67.99,
          7.19,
          66.49,
          62.99,
          254.8,
          71.99,
          100,
          100,
          59.99,
          59.99,
          39.99,
          55.93,
          55.59,
          13.49,
          53.99,
          71.2,
          100,
          52.19,
          12.77,
          29.99,
          125.09,
          21.12,
          47.99,
          23.99,
          3.59,
          46.8,
          36.79,
          114.99
         ],
         "yaxis": "y4"
        },
        {
         "customdata": [
          [
           "Subnautica"
          ],
          [
           "Detroit: Become Human"
          ],
          [
           "RimWorld"
          ],
          [
           "Lethal Company"
          ],
          [
           "DOOM"
          ],
          [
           "Stray"
          ],
          [
           "Caves of Qud"
          ],
          [
           "Brotato"
          ],
          [
           "Outer Wilds"
          ],
          [
           "Beat Saber"
          ],
          [
           "Mouthwashing"
          ],
          [
           "The Planet Crafter"
          ],
          [
           "Life is Strange - Episode 1"
          ],
          [
           "Warhammer 40,000: Dawn of War - Anniversary Edition"
          ],
          [
           "Deep Rock Galactic"
          ],
          [
           "Severed Steel"
          ],
          [
           "Creeper World 4"
          ],
          [
           "Half-Life: Alyx"
          ],
          [
           "Oxygen Not Included"
          ],
          [
           "Left 4 Dead 2"
          ],
          [
           "Abiotic Factor"
          ],
          [
           "Cosmoteer: Starship Architect & Commander"
          ],
          [
           "STEINS;GATE 0"
          ],
          [
           "Nine Sols"
          ],
          [
           "DRAMAtical Murder"
          ],
          [
           "Titanfall® 2"
          ],
          [
           "STEINS;GATE"
          ],
          [
           "SpaceEngine"
          ],
          [
           "Roboquest"
          ],
          [
           "Portal"
          ],
          [
           "Portal 2"
          ],
          [
           "CRUEL"
          ],
          [
           "shapez 2"
          ],
          [
           "The Forgotten City"
          ],
          [
           "SANABI"
          ],
          [
           "Creeper World 3: Arc Eternal"
          ],
          [
           "Turing Complete"
          ],
          [
           "Beyond Citadel"
          ],
          [
           "Kenshi"
          ],
          [
           "Anomaly Agent"
          ],
          [
           "Papers, Please"
          ],
          [
           "Half-Life 2"
          ],
          [
           "The Walking Dead"
          ],
          [
           "Universe Sandbox"
          ],
          [
           "The Talos Principle 2"
          ],
          [
           "Dyson Sphere Program"
          ],
          [
           "I Was a Teenage Exocolonist"
          ],
          [
           "Dishonored"
          ],
          [
           "METAL GEAR RISING: REVENGEANCE"
          ],
          [
           "Half-Life"
          ],
          [
           "Nova Drift"
          ],
          [
           "Left 4 Dead"
          ],
          [
           "Opus Magnum"
          ],
          [
           "Machinarium"
          ],
          [
           "Minds Beneath Us"
          ],
          [
           "S.T.A.L.K.E.R.: Call of Pripyat"
          ],
          [
           "Cruelty Squad"
          ],
          [
           "Misao - 2024 HD Remaster"
          ],
          [
           "Mars First Logistics"
          ],
          [
           "Alien Shooter"
          ],
          [
           "Kerbal Space Program"
          ],
          [
           "Spaceflight Simulator"
          ],
          [
           "MULLET MADJACK"
          ],
          [
           "Worldless"
          ],
          [
           "VA-11 Hall-A: Cyberpunk Bartender Action"
          ]
         ],
         "hovertemplate": "Nacechowanie recenzji=Przytłaczająco pozytywne<br>Rok wydania=%{x}<br>Cena=%{y}<br>Tytuł=%{customdata[0]}<extra></extra>",
         "legendgroup": "Przytłaczająco pozytywne",
         "marker": {
          "color": "#EF553B",
          "symbol": "circle"
         },
         "mode": "markers",
         "name": "Przytłaczająco pozytywne",
         "orientation": "v",
         "showlegend": true,
         "type": "scatter",
         "x": [
          2018,
          2020,
          2018,
          2023,
          2016,
          2022,
          2024,
          2023,
          2020,
          2019,
          2024,
          2024,
          2015,
          2007,
          2020,
          2021,
          2020,
          2020,
          2019,
          2009,
          2024,
          2022,
          2018,
          2024,
          2021,
          2020,
          2016,
          2019,
          2023,
          2007,
          2011,
          2025,
          2024,
          2021,
          2023,
          2014,
          2021,
          2025,
          2018,
          2024,
          2013,
          2004,
          2012,
          2015,
          2023,
          2021,
          2022,
          2012,
          2014,
          1998,
          2024,
          2008,
          2017,
          2009,
          2024,
          2010,
          2021,
          2017,
          2023,
          2009,
          2015,
          2022,
          2024,
          2023,
          2016
         ],
         "xaxis": "x4",
         "y": [
          45.86,
          55.49,
          111.99,
          45.99,
          15.99,
          71.99,
          118.14,
          13.79,
          59.99,
          138.99,
          59.99,
          80.49,
          0,
          19.99,
          107.99,
          8.99,
          35.99,
          274.99,
          89.99,
          45.99,
          114.99,
          44.99,
          24.99,
          138.99,
          55.19,
          119.9,
          21.59,
          115,
          70.39,
          45.99,
          45.99,
          34.99,
          64.99,
          28.74,
          44.19,
          17.81,
          71.99,
          67.99,
          107.99,
          54.99,
          45.99,
          45.99,
          67.99,
          138.99,
          138.99,
          71.99,
          114.99,
          44.99,
          109,
          35.99,
          49.59,
          45.99,
          91.99,
          74.99,
          91.99,
          71.99,
          71.99,
          36.79,
          68.99,
          22.99,
          171.9,
          59.99,
          58.49,
          53.99,
          53.99
         ],
         "yaxis": "y4"
        },
        {
         "customdata": [
          [
           "HELLDIVERS™ 2"
          ],
          [
           "Once Human"
          ],
          [
           "ICARUS"
          ],
          [
           "Frostpunk 2"
          ],
          [
           "Fallout 76"
          ],
          [
           "Dying Light 2 Stay Human: Reloaded Edition"
          ],
          [
           "Snowbreak: Containment Zone"
          ],
          [
           "Warhammer 40,000: Darktide"
          ],
          [
           "Dead Island 2"
          ],
          [
           "Dune: Spice Wars"
          ],
          [
           "Ostranauts"
          ],
          [
           "Crossout"
          ],
          [
           "Destiny 2"
          ],
          [
           "New Cycle"
          ],
          [
           "IDUN"
          ],
          [
           "Metro Awakening"
          ],
          [
           "Iron Harvest"
          ],
          [
           "Tom Clancy’s The Division® 2"
          ],
          [
           "Empire of the Ants"
          ],
          [
           "Far Cry® New Dawn"
          ],
          [
           "Infection Free Zone"
          ],
          [
           "Battlefleet Gothic: Armada 2"
          ],
          [
           "Halo Infinite"
          ],
          [
           "MechWarrior 5: Clans"
          ],
          [
           "Tower of Fantasy"
          ],
          [
           "Distant Worlds 2"
          ],
          [
           "Warhammer 40,000: Chaos Gate - Daemonhunters"
          ],
          [
           "The Ascent"
          ],
          [
           "Star Trucker"
          ],
          [
           "Gears Tactics"
          ],
          [
           "Star Wars Outlaws"
          ],
          [
           "Age of Water"
          ],
          [
           "Hidden Deep"
          ],
          [
           "Phantasy Star Online 2 New Genesis"
          ],
          [
           "Homeworld: Deserts of Kharak"
          ],
          [
           "Horizon Zero Dawn™ Remastered"
          ],
          [
           "The Last of Us™ Part I"
          ],
          [
           "CryoFall"
          ],
          [
           "Dark Sky"
          ],
          [
           "Warhammer 40,000: Inquisitor - Martyr"
          ],
          [
           "Mass Effect: Andromeda - ulepszenie Deluxe"
          ],
          [
           "Surviving the Aftermath"
          ],
          [
           "IXION"
          ],
          [
           "Urban Strife"
          ],
          [
           "Twelve Minutes"
          ],
          [
           "Dustwind"
          ],
          [
           "Will To Live Online"
          ],
          [
           "Revival: Recolonization"
          ],
          [
           "Dead Space™ 3"
          ],
          [
           "The Crust"
          ],
          [
           "Master of Orion"
          ],
          [
           "Crysis Remastered"
          ],
          [
           "Occupy Mars: The Game"
          ],
          [
           "Deadside"
          ],
          [
           "Among Us VR"
          ],
          [
           "Ghosts of Tabor"
          ],
          [
           "Rick and Morty: Virtual Rick-ality"
          ],
          [
           "Fort Solis"
          ],
          [
           "OVRLRD"
          ],
          [
           "Thief"
          ],
          [
           "Survivors of the Dawn"
          ],
          [
           "XCOM®: Chimera Squad"
          ],
          [
           "Torment: Tides of Numenera"
          ],
          [
           "Red Faction Guerrilla Re-Mars-tered"
          ],
          [
           "Star Trek Online"
          ],
          [
           "After the Fall®"
          ],
          [
           "The Surge"
          ],
          [
           "Phoenix Point"
          ],
          [
           "Silica"
          ],
          [
           "STAR WARS™ Battlefront"
          ],
          [
           "Elite Dangerous"
          ],
          [
           "DUCKSIDE"
          ],
          [
           "Space Simulation Toolkit"
          ],
          [
           "The Surge 2"
          ],
          [
           "Reverse Collapse: Code Name Bakery"
          ],
          [
           "X4: Foundations"
          ],
          [
           "Scars Above"
          ],
          [
           "Deadlight"
          ],
          [
           "Star Dynasties"
          ],
          [
           "ENDLESS™ Space - Definitive Edition"
          ],
          [
           "The Leviathan's fantasy"
          ],
          [
           "Generation Zero®"
          ]
         ],
         "hovertemplate": "Nacechowanie recenzji=W większości pozytywne<br>Rok wydania=%{x}<br>Cena=%{y}<br>Tytuł=%{customdata[0]}<extra></extra>",
         "legendgroup": "W większości pozytywne",
         "marker": {
          "color": "#00cc96",
          "symbol": "circle"
         },
         "mode": "markers",
         "name": "W większości pozytywne",
         "orientation": "v",
         "showlegend": true,
         "type": "scatter",
         "x": [
          2024,
          2024,
          2021,
          2024,
          2020,
          2022,
          2023,
          2022,
          2024,
          2023,
          2020,
          2017,
          2019,
          2024,
          2025,
          2024,
          2020,
          2023,
          2024,
          2019,
          2024,
          2019,
          2021,
          2024,
          2022,
          2022,
          2022,
          2021,
          2024,
          2020,
          2024,
          2025,
          2022,
          2020,
          2016,
          2024,
          2023,
          2021,
          2024,
          2018,
          2020,
          2021,
          2022,
          2024,
          2021,
          2018,
          2018,
          2024,
          2020,
          2024,
          2016,
          2021,
          2023,
          2024,
          2022,
          2023,
          2017,
          2023,
          2024,
          2014,
          2023,
          2020,
          2017,
          2018,
          2012,
          2021,
          2017,
          2020,
          2023,
          2020,
          2015,
          2024,
          2020,
          2019,
          2024,
          2018,
          2023,
          2012,
          2021,
          2012,
          2025,
          2019
         ],
         "xaxis": "x4",
         "y": [
          169,
          0,
          161.99,
          124.79,
          169.9,
          199.99,
          0,
          84.99,
          105.63,
          86.34,
          73.59,
          0,
          0,
          49.99,
          61.19,
          111.3,
          19.01,
          39.97,
          118.3,
          35.98,
          79.99,
          13.99,
          0,
          173.99,
          0,
          92.79,
          48.59,
          31,
          74.24,
          49.17,
          289.9,
          64.5,
          32.39,
          0,
          17.99,
          219,
          259,
          7.99,
          27.59,
          231.99,
          189.9,
          138.99,
          161.99,
          161.99,
          39.99,
          31.49,
          0,
          138.99,
          69.9,
          119,
          89.99,
          107.99,
          114.99,
          114.99,
          17.99,
          114.99,
          107.99,
          58.17,
          95,
          89.9,
          18.49,
          89.9,
          31.24,
          84.48,
          0,
          41.69,
          6.49,
          89.99,
          71.99,
          69.9,
          91.99,
          67.99,
          64.39,
          14.99,
          114.99,
          199.99,
          25.34,
          13.49,
          48.78,
          8.99,
          24.41,
          99.99
         ],
         "yaxis": "y4"
        },
        {
         "customdata": [
          [
           "Apex Legends™"
          ],
          [
           "The First Descendant"
          ],
          [
           "War Robots"
          ],
          [
           "Battlefield™ 2042"
          ],
          [
           "ENDLESS™ Dungeon"
          ],
          [
           "Stay Out"
          ],
          [
           "Build Master: MarsVille"
          ],
          [
           "Warhammer 40,000: Dawn of War III"
          ],
          [
           "Warhammer 40,000: Warpforge"
          ],
          [
           "Watch Dogs®: Legion"
          ],
          [
           "Hyper Light Breaker"
          ],
          [
           "Anno 2205™"
          ],
          [
           "SYNDUALITY Echo of Ada"
          ],
          [
           "Outpost: Infinity Siege"
          ],
          [
           "Echocalypse: The Scarlet Covenant"
          ],
          [
           "Warhammer The Horus Heresy: Legions"
          ],
          [
           "FINAL FANTASY VII EVER CRISIS"
          ],
          [
           "Avatar: Frontiers of Pandora™"
          ],
          [
           "Battlefleet Gothic: Armada"
          ],
          [
           "DOOM VFR"
          ],
          [
           "FREEDOM WARS Remastered"
          ],
          [
           "Capes"
          ],
          [
           "Starfield"
          ],
          [
           "Stargate: Timekeepers"
          ],
          [
           "White Sands"
          ],
          [
           "Left to Survive: Shooter PVP"
          ],
          [
           "Necromunda: Hired Gun"
          ],
          [
           "Anno 2070™"
          ],
          [
           "Road 96: Mile 0"
          ],
          [
           "ANOTHER EDEN"
          ],
          [
           "One Lonely Outpost"
          ],
          [
           "Vigor"
          ],
          [
           "Serum"
          ],
          [
           "Infinite Lagrange"
          ],
          [
           "Life Not Supported"
          ],
          [
           "StarMade"
          ],
          [
           "Aquatico"
          ]
         ],
         "hovertemplate": "Nacechowanie recenzji=Mieszane<br>Rok wydania=%{x}<br>Cena=%{y}<br>Tytuł=%{customdata[0]}<extra></extra>",
         "legendgroup": "Mieszane",
         "marker": {
          "color": "#ab63fa",
          "symbol": "circle"
         },
         "mode": "markers",
         "name": "Mieszane",
         "orientation": "v",
         "showlegend": true,
         "type": "scatter",
         "x": [
          2020,
          2024,
          2018,
          2021,
          2023,
          2019,
          2023,
          2017,
          2024,
          2023,
          2025,
          2015,
          2025,
          2024,
          2024,
          2019,
          2023,
          2024,
          2016,
          2017,
          2025,
          2024,
          2023,
          2024,
          2024,
          2021,
          2021,
          2011,
          2023,
          2021,
          2023,
          2024,
          2024,
          2021,
          2023,
          2014,
          2023
         ],
         "xaxis": "x4",
         "y": [
          0,
          0,
          0,
          269.9,
          35.6,
          0,
          0,
          35.8,
          0,
          37.48,
          114.99,
          159.9,
          169,
          63.24,
          0,
          0,
          0,
          289.9,
          7.49,
          14.75,
          179,
          84.5,
          299,
          118.14,
          109.95,
          0,
          29.99,
          19.97,
          13.74,
          0,
          29.99,
          0,
          64.99,
          0,
          60.89,
          53.99,
          26.99
         ],
         "yaxis": "y4"
        },
        {
         "customdata": [
          [
           "Overwatch® 2"
          ],
          [
           "Homeworld 3"
          ]
         ],
         "hovertemplate": "Nacechowanie recenzji=W większości negatywne<br>Rok wydania=%{x}<br>Cena=%{y}<br>Tytuł=%{customdata[0]}<extra></extra>",
         "legendgroup": "W większości negatywne",
         "marker": {
          "color": "#FFA15A",
          "symbol": "circle"
         },
         "mode": "markers",
         "name": "W większości negatywne",
         "orientation": "v",
         "showlegend": true,
         "type": "scatter",
         "x": [
          2023,
          2024
         ],
         "xaxis": "x4",
         "y": [
          0,
          124.5
         ],
         "yaxis": "y4"
        },
        {
         "customdata": [
          [
           "Planetiles"
          ],
          [
           "SACRIFICE VILLAINS"
          ],
          [
           "Infest"
          ],
          [
           "Super Roboy"
          ],
          [
           "Mini Mini Golf Golf"
          ]
         ],
         "hovertemplate": "Nacechowanie recenzji=Pozytywne<br>Rok wydania=%{x}<br>Cena=%{y}<br>Tytuł=%{customdata[0]}<extra></extra>",
         "legendgroup": "Pozytywne",
         "marker": {
          "color": "#19d3f3",
          "symbol": "circle"
         },
         "mode": "markers",
         "name": "Pozytywne",
         "orientation": "v",
         "showlegend": true,
         "type": "scatter",
         "x": [
          2024,
          2025,
          2025,
          2025,
          2024
         ],
         "xaxis": "x4",
         "y": [
          45.99,
          73.59,
          54.39,
          54.39,
          47.99
         ],
         "yaxis": "y4"
        },
        {
         "customdata": [
          [
           "Airships: Lost Flotilla"
          ]
         ],
         "hovertemplate": "Nacechowanie recenzji=Brak informacji<br>Rok wydania=%{x}<br>Cena=%{y}<br>Tytuł=%{customdata[0]}<extra></extra>",
         "legendgroup": "Brak informacji",
         "marker": {
          "color": "#FF6692",
          "symbol": "circle"
         },
         "mode": "markers",
         "name": "Brak informacji",
         "orientation": "v",
         "showlegend": true,
         "type": "scatter",
         "x": [
          2025
         ],
         "xaxis": "x4",
         "y": [
          22
         ],
         "yaxis": "y4"
        },
        {
         "customdata": [
          [
           "Command & Conquer™ 4 Tyberyjski zmierzch"
          ]
         ],
         "hovertemplate": "Nacechowanie recenzji=Przytłaczająco negatywne<br>Rok wydania=%{x}<br>Cena=%{y}<br>Tytuł=%{customdata[0]}<extra></extra>",
         "legendgroup": "Przytłaczająco negatywne",
         "marker": {
          "color": "#B6E880",
          "symbol": "circle"
         },
         "mode": "markers",
         "name": "Przytłaczająco negatywne",
         "orientation": "v",
         "showlegend": true,
         "type": "scatter",
         "x": [
          2010
         ],
         "xaxis": "x4",
         "y": [
          100
         ],
         "yaxis": "y4"
        }
       ],
       "layout": {
        "annotations": [
         {
          "font": {
           "size": 16
          },
          "showarrow": false,
          "text": "Rozkład cen",
          "x": 0.225,
          "xanchor": "center",
          "xref": "paper",
          "y": 1,
          "yanchor": "bottom",
          "yref": "paper"
         },
         {
          "font": {
           "size": 16
          },
          "showarrow": false,
          "text": "Cena vs. liczba recenzji",
          "x": 0.775,
          "xanchor": "center",
          "xref": "paper",
          "y": 1,
          "yanchor": "bottom",
          "yref": "paper"
         },
         {
          "font": {
           "size": 16
          },
          "showarrow": false,
          "text": "Cena vs. nacechowanie recenzji",
          "x": 0.225,
          "xanchor": "center",
          "xref": "paper",
          "y": 0.375,
          "yanchor": "bottom",
          "yref": "paper"
         },
         {
          "font": {
           "size": 16
          },
          "showarrow": false,
          "text": "Cena vs. rok wydania",
          "x": 0.775,
          "xanchor": "center",
          "xref": "paper",
          "y": 0.375,
          "yanchor": "bottom",
          "yref": "paper"
         }
        ],
        "height": 800,
        "template": {
         "data": {
          "bar": [
           {
            "error_x": {
             "color": "#2a3f5f"
            },
            "error_y": {
             "color": "#2a3f5f"
            },
            "marker": {
             "line": {
              "color": "#E5ECF6",
              "width": 0.5
             },
             "pattern": {
              "fillmode": "overlay",
              "size": 10,
              "solidity": 0.2
             }
            },
            "type": "bar"
           }
          ],
          "barpolar": [
           {
            "marker": {
             "line": {
              "color": "#E5ECF6",
              "width": 0.5
             },
             "pattern": {
              "fillmode": "overlay",
              "size": 10,
              "solidity": 0.2
             }
            },
            "type": "barpolar"
           }
          ],
          "carpet": [
           {
            "aaxis": {
             "endlinecolor": "#2a3f5f",
             "gridcolor": "white",
             "linecolor": "white",
             "minorgridcolor": "white",
             "startlinecolor": "#2a3f5f"
            },
            "baxis": {
             "endlinecolor": "#2a3f5f",
             "gridcolor": "white",
             "linecolor": "white",
             "minorgridcolor": "white",
             "startlinecolor": "#2a3f5f"
            },
            "type": "carpet"
           }
          ],
          "choropleth": [
           {
            "colorbar": {
             "outlinewidth": 0,
             "ticks": ""
            },
            "type": "choropleth"
           }
          ],
          "contour": [
           {
            "colorbar": {
             "outlinewidth": 0,
             "ticks": ""
            },
            "colorscale": [
             [
              0,
              "#0d0887"
             ],
             [
              0.1111111111111111,
              "#46039f"
             ],
             [
              0.2222222222222222,
              "#7201a8"
             ],
             [
              0.3333333333333333,
              "#9c179e"
             ],
             [
              0.4444444444444444,
              "#bd3786"
             ],
             [
              0.5555555555555556,
              "#d8576b"
             ],
             [
              0.6666666666666666,
              "#ed7953"
             ],
             [
              0.7777777777777778,
              "#fb9f3a"
             ],
             [
              0.8888888888888888,
              "#fdca26"
             ],
             [
              1,
              "#f0f921"
             ]
            ],
            "type": "contour"
           }
          ],
          "contourcarpet": [
           {
            "colorbar": {
             "outlinewidth": 0,
             "ticks": ""
            },
            "type": "contourcarpet"
           }
          ],
          "heatmap": [
           {
            "colorbar": {
             "outlinewidth": 0,
             "ticks": ""
            },
            "colorscale": [
             [
              0,
              "#0d0887"
             ],
             [
              0.1111111111111111,
              "#46039f"
             ],
             [
              0.2222222222222222,
              "#7201a8"
             ],
             [
              0.3333333333333333,
              "#9c179e"
             ],
             [
              0.4444444444444444,
              "#bd3786"
             ],
             [
              0.5555555555555556,
              "#d8576b"
             ],
             [
              0.6666666666666666,
              "#ed7953"
             ],
             [
              0.7777777777777778,
              "#fb9f3a"
             ],
             [
              0.8888888888888888,
              "#fdca26"
             ],
             [
              1,
              "#f0f921"
             ]
            ],
            "type": "heatmap"
           }
          ],
          "heatmapgl": [
           {
            "colorbar": {
             "outlinewidth": 0,
             "ticks": ""
            },
            "colorscale": [
             [
              0,
              "#0d0887"
             ],
             [
              0.1111111111111111,
              "#46039f"
             ],
             [
              0.2222222222222222,
              "#7201a8"
             ],
             [
              0.3333333333333333,
              "#9c179e"
             ],
             [
              0.4444444444444444,
              "#bd3786"
             ],
             [
              0.5555555555555556,
              "#d8576b"
             ],
             [
              0.6666666666666666,
              "#ed7953"
             ],
             [
              0.7777777777777778,
              "#fb9f3a"
             ],
             [
              0.8888888888888888,
              "#fdca26"
             ],
             [
              1,
              "#f0f921"
             ]
            ],
            "type": "heatmapgl"
           }
          ],
          "histogram": [
           {
            "marker": {
             "pattern": {
              "fillmode": "overlay",
              "size": 10,
              "solidity": 0.2
             }
            },
            "type": "histogram"
           }
          ],
          "histogram2d": [
           {
            "colorbar": {
             "outlinewidth": 0,
             "ticks": ""
            },
            "colorscale": [
             [
              0,
              "#0d0887"
             ],
             [
              0.1111111111111111,
              "#46039f"
             ],
             [
              0.2222222222222222,
              "#7201a8"
             ],
             [
              0.3333333333333333,
              "#9c179e"
             ],
             [
              0.4444444444444444,
              "#bd3786"
             ],
             [
              0.5555555555555556,
              "#d8576b"
             ],
             [
              0.6666666666666666,
              "#ed7953"
             ],
             [
              0.7777777777777778,
              "#fb9f3a"
             ],
             [
              0.8888888888888888,
              "#fdca26"
             ],
             [
              1,
              "#f0f921"
             ]
            ],
            "type": "histogram2d"
           }
          ],
          "histogram2dcontour": [
           {
            "colorbar": {
             "outlinewidth": 0,
             "ticks": ""
            },
            "colorscale": [
             [
              0,
              "#0d0887"
             ],
             [
              0.1111111111111111,
              "#46039f"
             ],
             [
              0.2222222222222222,
              "#7201a8"
             ],
             [
              0.3333333333333333,
              "#9c179e"
             ],
             [
              0.4444444444444444,
              "#bd3786"
             ],
             [
              0.5555555555555556,
              "#d8576b"
             ],
             [
              0.6666666666666666,
              "#ed7953"
             ],
             [
              0.7777777777777778,
              "#fb9f3a"
             ],
             [
              0.8888888888888888,
              "#fdca26"
             ],
             [
              1,
              "#f0f921"
             ]
            ],
            "type": "histogram2dcontour"
           }
          ],
          "mesh3d": [
           {
            "colorbar": {
             "outlinewidth": 0,
             "ticks": ""
            },
            "type": "mesh3d"
           }
          ],
          "parcoords": [
           {
            "line": {
             "colorbar": {
              "outlinewidth": 0,
              "ticks": ""
             }
            },
            "type": "parcoords"
           }
          ],
          "pie": [
           {
            "automargin": true,
            "type": "pie"
           }
          ],
          "scatter": [
           {
            "fillpattern": {
             "fillmode": "overlay",
             "size": 10,
             "solidity": 0.2
            },
            "type": "scatter"
           }
          ],
          "scatter3d": [
           {
            "line": {
             "colorbar": {
              "outlinewidth": 0,
              "ticks": ""
             }
            },
            "marker": {
             "colorbar": {
              "outlinewidth": 0,
              "ticks": ""
             }
            },
            "type": "scatter3d"
           }
          ],
          "scattercarpet": [
           {
            "marker": {
             "colorbar": {
              "outlinewidth": 0,
              "ticks": ""
             }
            },
            "type": "scattercarpet"
           }
          ],
          "scattergeo": [
           {
            "marker": {
             "colorbar": {
              "outlinewidth": 0,
              "ticks": ""
             }
            },
            "type": "scattergeo"
           }
          ],
          "scattergl": [
           {
            "marker": {
             "colorbar": {
              "outlinewidth": 0,
              "ticks": ""
             }
            },
            "type": "scattergl"
           }
          ],
          "scattermapbox": [
           {
            "marker": {
             "colorbar": {
              "outlinewidth": 0,
              "ticks": ""
             }
            },
            "type": "scattermapbox"
           }
          ],
          "scatterpolar": [
           {
            "marker": {
             "colorbar": {
              "outlinewidth": 0,
              "ticks": ""
             }
            },
            "type": "scatterpolar"
           }
          ],
          "scatterpolargl": [
           {
            "marker": {
             "colorbar": {
              "outlinewidth": 0,
              "ticks": ""
             }
            },
            "type": "scatterpolargl"
           }
          ],
          "scatterternary": [
           {
            "marker": {
             "colorbar": {
              "outlinewidth": 0,
              "ticks": ""
             }
            },
            "type": "scatterternary"
           }
          ],
          "surface": [
           {
            "colorbar": {
             "outlinewidth": 0,
             "ticks": ""
            },
            "colorscale": [
             [
              0,
              "#0d0887"
             ],
             [
              0.1111111111111111,
              "#46039f"
             ],
             [
              0.2222222222222222,
              "#7201a8"
             ],
             [
              0.3333333333333333,
              "#9c179e"
             ],
             [
              0.4444444444444444,
              "#bd3786"
             ],
             [
              0.5555555555555556,
              "#d8576b"
             ],
             [
              0.6666666666666666,
              "#ed7953"
             ],
             [
              0.7777777777777778,
              "#fb9f3a"
             ],
             [
              0.8888888888888888,
              "#fdca26"
             ],
             [
              1,
              "#f0f921"
             ]
            ],
            "type": "surface"
           }
          ],
          "table": [
           {
            "cells": {
             "fill": {
              "color": "#EBF0F8"
             },
             "line": {
              "color": "white"
             }
            },
            "header": {
             "fill": {
              "color": "#C8D4E3"
             },
             "line": {
              "color": "white"
             }
            },
            "type": "table"
           }
          ]
         },
         "layout": {
          "annotationdefaults": {
           "arrowcolor": "#2a3f5f",
           "arrowhead": 0,
           "arrowwidth": 1
          },
          "autotypenumbers": "strict",
          "coloraxis": {
           "colorbar": {
            "outlinewidth": 0,
            "ticks": ""
           }
          },
          "colorscale": {
           "diverging": [
            [
             0,
             "#8e0152"
            ],
            [
             0.1,
             "#c51b7d"
            ],
            [
             0.2,
             "#de77ae"
            ],
            [
             0.3,
             "#f1b6da"
            ],
            [
             0.4,
             "#fde0ef"
            ],
            [
             0.5,
             "#f7f7f7"
            ],
            [
             0.6,
             "#e6f5d0"
            ],
            [
             0.7,
             "#b8e186"
            ],
            [
             0.8,
             "#7fbc41"
            ],
            [
             0.9,
             "#4d9221"
            ],
            [
             1,
             "#276419"
            ]
           ],
           "sequential": [
            [
             0,
             "#0d0887"
            ],
            [
             0.1111111111111111,
             "#46039f"
            ],
            [
             0.2222222222222222,
             "#7201a8"
            ],
            [
             0.3333333333333333,
             "#9c179e"
            ],
            [
             0.4444444444444444,
             "#bd3786"
            ],
            [
             0.5555555555555556,
             "#d8576b"
            ],
            [
             0.6666666666666666,
             "#ed7953"
            ],
            [
             0.7777777777777778,
             "#fb9f3a"
            ],
            [
             0.8888888888888888,
             "#fdca26"
            ],
            [
             1,
             "#f0f921"
            ]
           ],
           "sequentialminus": [
            [
             0,
             "#0d0887"
            ],
            [
             0.1111111111111111,
             "#46039f"
            ],
            [
             0.2222222222222222,
             "#7201a8"
            ],
            [
             0.3333333333333333,
             "#9c179e"
            ],
            [
             0.4444444444444444,
             "#bd3786"
            ],
            [
             0.5555555555555556,
             "#d8576b"
            ],
            [
             0.6666666666666666,
             "#ed7953"
            ],
            [
             0.7777777777777778,
             "#fb9f3a"
            ],
            [
             0.8888888888888888,
             "#fdca26"
            ],
            [
             1,
             "#f0f921"
            ]
           ]
          },
          "colorway": [
           "#636efa",
           "#EF553B",
           "#00cc96",
           "#ab63fa",
           "#FFA15A",
           "#19d3f3",
           "#FF6692",
           "#B6E880",
           "#FF97FF",
           "#FECB52"
          ],
          "font": {
           "color": "#2a3f5f"
          },
          "geo": {
           "bgcolor": "white",
           "lakecolor": "white",
           "landcolor": "#E5ECF6",
           "showlakes": true,
           "showland": true,
           "subunitcolor": "white"
          },
          "hoverlabel": {
           "align": "left"
          },
          "hovermode": "closest",
          "mapbox": {
           "style": "light"
          },
          "paper_bgcolor": "white",
          "plot_bgcolor": "#E5ECF6",
          "polar": {
           "angularaxis": {
            "gridcolor": "white",
            "linecolor": "white",
            "ticks": ""
           },
           "bgcolor": "#E5ECF6",
           "radialaxis": {
            "gridcolor": "white",
            "linecolor": "white",
            "ticks": ""
           }
          },
          "scene": {
           "xaxis": {
            "backgroundcolor": "#E5ECF6",
            "gridcolor": "white",
            "gridwidth": 2,
            "linecolor": "white",
            "showbackground": true,
            "ticks": "",
            "zerolinecolor": "white"
           },
           "yaxis": {
            "backgroundcolor": "#E5ECF6",
            "gridcolor": "white",
            "gridwidth": 2,
            "linecolor": "white",
            "showbackground": true,
            "ticks": "",
            "zerolinecolor": "white"
           },
           "zaxis": {
            "backgroundcolor": "#E5ECF6",
            "gridcolor": "white",
            "gridwidth": 2,
            "linecolor": "white",
            "showbackground": true,
            "ticks": "",
            "zerolinecolor": "white"
           }
          },
          "shapedefaults": {
           "line": {
            "color": "#2a3f5f"
           }
          },
          "ternary": {
           "aaxis": {
            "gridcolor": "white",
            "linecolor": "white",
            "ticks": ""
           },
           "baxis": {
            "gridcolor": "white",
            "linecolor": "white",
            "ticks": ""
           },
           "bgcolor": "#E5ECF6",
           "caxis": {
            "gridcolor": "white",
            "linecolor": "white",
            "ticks": ""
           }
          },
          "title": {
           "x": 0.05
          },
          "xaxis": {
           "automargin": true,
           "gridcolor": "white",
           "linecolor": "white",
           "ticks": "",
           "title": {
            "standoff": 15
           },
           "zerolinecolor": "white",
           "zerolinewidth": 2
          },
          "yaxis": {
           "automargin": true,
           "gridcolor": "white",
           "linecolor": "white",
           "ticks": "",
           "title": {
            "standoff": 15
           },
           "zerolinecolor": "white",
           "zerolinewidth": 2
          }
         }
        },
        "title": {
         "text": "Dashboard analizy gier"
        },
        "width": 1200,
        "xaxis": {
         "anchor": "y",
         "domain": [
          0,
          0.45
         ]
        },
        "xaxis2": {
         "anchor": "y2",
         "domain": [
          0.55,
          1
         ]
        },
        "xaxis3": {
         "anchor": "y3",
         "domain": [
          0,
          0.45
         ]
        },
        "xaxis4": {
         "anchor": "y4",
         "domain": [
          0.55,
          1
         ]
        },
        "yaxis": {
         "anchor": "x",
         "domain": [
          0.625,
          1
         ]
        },
        "yaxis2": {
         "anchor": "x2",
         "domain": [
          0.625,
          1
         ]
        },
        "yaxis3": {
         "anchor": "x3",
         "domain": [
          0,
          0.375
         ]
        },
        "yaxis4": {
         "anchor": "x4",
         "domain": [
          0,
          0.375
         ]
        }
       }
      }
     },
     "metadata": {},
     "output_type": "display_data"
    }
   ],
   "source": [
    "# Interaktywny Dashboard\n",
    "\n",
    "import plotly.subplots as sp\n",
    "\n",
    "# Histogram cen\n",
    "fig1 = px.histogram(df, x='Cena', title='Rozkład cen gier', labels={'Cena': 'Cena (zł)'})\n",
    "\n",
    "# Scatter plot cena vs liczba recenzji\n",
    "fig2 = px.scatter(df, x='Cena', y='Liczba recenzji', color='Nacechowanie recenzji',\n",
    "                  title='Cena vs. liczba recenzji', hover_data=['Tytuł'])\n",
    "\n",
    "# Box plot cena vs nacechowanie recenzji\n",
    "fig3 = px.box(df, x='Nacechowanie recenzji', y='Cena', title='Cena vs. nacechowanie recenzji')\n",
    "\n",
    "# Scatter plot cena vs rok wydania\n",
    "fig4 = px.scatter(df, x='Rok wydania', y='Cena', color='Nacechowanie recenzji',\n",
    "                  title='Cena vs. rok wydania', hover_data=['Tytuł'])\n",
    "\n",
    "# Kombinacja wykresów w jednym dashboardzie\n",
    "dashboard = sp.make_subplots(rows=2, cols=2, subplot_titles=('Rozkład cen', 'Cena vs. liczba recenzji',\n",
    "                                                             'Cena vs. nacechowanie recenzji', 'Cena vs. rok wydania'))\n",
    "\n",
    "dashboard.add_traces(fig1.data, rows=1, cols=1)\n",
    "dashboard.add_traces(fig2.data, rows=1, cols=2)\n",
    "dashboard.add_traces(fig3.data, rows=2, cols=1)\n",
    "dashboard.add_traces(fig4.data, rows=2, cols=2)\n",
    "\n",
    "dashboard.update_layout(height=800, width=1200, title_text='Dashboard analizy gier')\n",
    "dashboard.show()\n"
   ]
  },
  {
   "cell_type": "code",
   "execution_count": 27,
   "metadata": {},
   "outputs": [
    {
     "data": {
      "application/vnd.plotly.v1+json": {
       "config": {
        "plotlyServerURL": "https://plot.ly"
       },
       "data": [
        {
         "alignmentgroup": "True",
         "hovertemplate": "Sentiment=Przytłaczająco pozytywne<br>Tag=%{x}<br>Liczba wystąpień=%{y}<extra></extra>",
         "legendgroup": "Przytłaczająco pozytywne",
         "marker": {
          "color": "#636efa",
          "pattern": {
           "shape": ""
          }
         },
         "name": "Przytłaczająco pozytywne",
         "offsetgroup": "Przytłaczająco pozytywne",
         "orientation": "v",
         "showlegend": true,
         "textposition": "auto",
         "type": "bar",
         "x": [
          "Survival",
          "Otwarty świat",
          "Bogata fabuła",
          "Jednoosobowe",
          "Strategiczne",
          "FPS",
          "Akcja",
          "Przygodowe",
          "Science fiction",
          "Wieloosobowe"
         ],
         "xaxis": "x",
         "y": [
          7,
          6,
          14,
          11,
          5,
          14,
          12,
          6,
          9,
          3
         ],
         "yaxis": "y"
        },
        {
         "alignmentgroup": "True",
         "hovertemplate": "Sentiment=Bardzo pozytywne<br>Tag=%{x}<br>Liczba wystąpień=%{y}<extra></extra>",
         "legendgroup": "Bardzo pozytywne",
         "marker": {
          "color": "#EF553B",
          "pattern": {
           "shape": ""
          }
         },
         "name": "Bardzo pozytywne",
         "offsetgroup": "Bardzo pozytywne",
         "orientation": "v",
         "showlegend": true,
         "textposition": "auto",
         "type": "bar",
         "x": [
          "Wieloosobowe",
          "FPS",
          "Akcja",
          "Survival",
          "Jednoosobowe",
          "Otwarty świat",
          "Strategiczne",
          "Science fiction",
          "Bogata fabuła",
          "Przygodowe"
         ],
         "xaxis": "x",
         "y": [
          34,
          31,
          56,
          31,
          40,
          34,
          45,
          29,
          26,
          38
         ],
         "yaxis": "y"
        },
        {
         "alignmentgroup": "True",
         "hovertemplate": "Sentiment=W większości pozytywne<br>Tag=%{x}<br>Liczba wystąpień=%{y}<extra></extra>",
         "legendgroup": "W większości pozytywne",
         "marker": {
          "color": "#00cc96",
          "pattern": {
           "shape": ""
          }
         },
         "name": "W większości pozytywne",
         "offsetgroup": "W większości pozytywne",
         "orientation": "v",
         "showlegend": true,
         "textposition": "auto",
         "type": "bar",
         "x": [
          "Wieloosobowe",
          "Akcja",
          "Survival",
          "Strategiczne",
          "Otwarty świat",
          "Jednoosobowe",
          "Science fiction",
          "FPS",
          "Bogata fabuła",
          "Przygodowe"
         ],
         "xaxis": "x",
         "y": [
          17,
          19,
          11,
          21,
          17,
          8,
          17,
          9,
          6,
          8
         ],
         "yaxis": "y"
        },
        {
         "alignmentgroup": "True",
         "hovertemplate": "Sentiment=Pozytywne<br>Tag=%{x}<br>Liczba wystąpień=%{y}<extra></extra>",
         "legendgroup": "Pozytywne",
         "marker": {
          "color": "#ab63fa",
          "pattern": {
           "shape": ""
          }
         },
         "name": "Pozytywne",
         "offsetgroup": "Pozytywne",
         "orientation": "v",
         "showlegend": true,
         "textposition": "auto",
         "type": "bar",
         "x": [
          "Akcja",
          "Science fiction",
          "Przygodowe",
          "Bogata fabuła"
         ],
         "xaxis": "x",
         "y": [
          1,
          1,
          1,
          1
         ],
         "yaxis": "y"
        },
        {
         "alignmentgroup": "True",
         "hovertemplate": "Sentiment=Mieszane<br>Tag=%{x}<br>Liczba wystąpień=%{y}<extra></extra>",
         "legendgroup": "Mieszane",
         "marker": {
          "color": "#FFA15A",
          "pattern": {
           "shape": ""
          }
         },
         "name": "Mieszane",
         "offsetgroup": "Mieszane",
         "orientation": "v",
         "showlegend": true,
         "textposition": "auto",
         "type": "bar",
         "x": [
          "Wieloosobowe",
          "FPS",
          "Akcja",
          "Strategiczne",
          "Survival",
          "Otwarty świat",
          "Science fiction",
          "Przygodowe",
          "Jednoosobowe"
         ],
         "xaxis": "x",
         "y": [
          9,
          6,
          8,
          11,
          3,
          5,
          4,
          7,
          4
         ],
         "yaxis": "y"
        },
        {
         "alignmentgroup": "True",
         "hovertemplate": "Sentiment=W większości negatywne<br>Tag=%{x}<br>Liczba wystąpień=%{y}<extra></extra>",
         "legendgroup": "W większości negatywne",
         "marker": {
          "color": "#19d3f3",
          "pattern": {
           "shape": ""
          }
         },
         "name": "W większości negatywne",
         "offsetgroup": "W większości negatywne",
         "orientation": "v",
         "showlegend": true,
         "textposition": "auto",
         "type": "bar",
         "x": [
          "Wieloosobowe",
          "FPS",
          "Strategiczne",
          "Science fiction",
          "Bogata fabuła"
         ],
         "xaxis": "x",
         "y": [
          1,
          1,
          1,
          1,
          1
         ],
         "yaxis": "y"
        },
        {
         "alignmentgroup": "True",
         "hovertemplate": "Sentiment=Przytłaczająco negatywne<br>Tag=%{x}<br>Liczba wystąpień=%{y}<extra></extra>",
         "legendgroup": "Przytłaczająco negatywne",
         "marker": {
          "color": "#FF6692",
          "pattern": {
           "shape": ""
          }
         },
         "name": "Przytłaczająco negatywne",
         "offsetgroup": "Przytłaczająco negatywne",
         "orientation": "v",
         "showlegend": true,
         "textposition": "auto",
         "type": "bar",
         "x": [
          "Strategiczne",
          "Wieloosobowe",
          "Science fiction"
         ],
         "xaxis": "x",
         "y": [
          1,
          1,
          1
         ],
         "yaxis": "y"
        },
        {
         "alignmentgroup": "True",
         "hovertemplate": "Sentiment=Brak informacji<br>Tag=%{x}<br>Liczba wystąpień=%{y}<extra></extra>",
         "legendgroup": "Brak informacji",
         "marker": {
          "color": "#B6E880",
          "pattern": {
           "shape": ""
          }
         },
         "name": "Brak informacji",
         "offsetgroup": "Brak informacji",
         "orientation": "v",
         "showlegend": true,
         "textposition": "auto",
         "type": "bar",
         "x": [
          "Akcja"
         ],
         "xaxis": "x",
         "y": [
          1
         ],
         "yaxis": "y"
        }
       ],
       "layout": {
        "barmode": "group",
        "legend": {
         "title": {
          "text": "Sentiment"
         },
         "tracegroupgap": 0
        },
        "template": {
         "data": {
          "bar": [
           {
            "error_x": {
             "color": "#2a3f5f"
            },
            "error_y": {
             "color": "#2a3f5f"
            },
            "marker": {
             "line": {
              "color": "#E5ECF6",
              "width": 0.5
             },
             "pattern": {
              "fillmode": "overlay",
              "size": 10,
              "solidity": 0.2
             }
            },
            "type": "bar"
           }
          ],
          "barpolar": [
           {
            "marker": {
             "line": {
              "color": "#E5ECF6",
              "width": 0.5
             },
             "pattern": {
              "fillmode": "overlay",
              "size": 10,
              "solidity": 0.2
             }
            },
            "type": "barpolar"
           }
          ],
          "carpet": [
           {
            "aaxis": {
             "endlinecolor": "#2a3f5f",
             "gridcolor": "white",
             "linecolor": "white",
             "minorgridcolor": "white",
             "startlinecolor": "#2a3f5f"
            },
            "baxis": {
             "endlinecolor": "#2a3f5f",
             "gridcolor": "white",
             "linecolor": "white",
             "minorgridcolor": "white",
             "startlinecolor": "#2a3f5f"
            },
            "type": "carpet"
           }
          ],
          "choropleth": [
           {
            "colorbar": {
             "outlinewidth": 0,
             "ticks": ""
            },
            "type": "choropleth"
           }
          ],
          "contour": [
           {
            "colorbar": {
             "outlinewidth": 0,
             "ticks": ""
            },
            "colorscale": [
             [
              0,
              "#0d0887"
             ],
             [
              0.1111111111111111,
              "#46039f"
             ],
             [
              0.2222222222222222,
              "#7201a8"
             ],
             [
              0.3333333333333333,
              "#9c179e"
             ],
             [
              0.4444444444444444,
              "#bd3786"
             ],
             [
              0.5555555555555556,
              "#d8576b"
             ],
             [
              0.6666666666666666,
              "#ed7953"
             ],
             [
              0.7777777777777778,
              "#fb9f3a"
             ],
             [
              0.8888888888888888,
              "#fdca26"
             ],
             [
              1,
              "#f0f921"
             ]
            ],
            "type": "contour"
           }
          ],
          "contourcarpet": [
           {
            "colorbar": {
             "outlinewidth": 0,
             "ticks": ""
            },
            "type": "contourcarpet"
           }
          ],
          "heatmap": [
           {
            "colorbar": {
             "outlinewidth": 0,
             "ticks": ""
            },
            "colorscale": [
             [
              0,
              "#0d0887"
             ],
             [
              0.1111111111111111,
              "#46039f"
             ],
             [
              0.2222222222222222,
              "#7201a8"
             ],
             [
              0.3333333333333333,
              "#9c179e"
             ],
             [
              0.4444444444444444,
              "#bd3786"
             ],
             [
              0.5555555555555556,
              "#d8576b"
             ],
             [
              0.6666666666666666,
              "#ed7953"
             ],
             [
              0.7777777777777778,
              "#fb9f3a"
             ],
             [
              0.8888888888888888,
              "#fdca26"
             ],
             [
              1,
              "#f0f921"
             ]
            ],
            "type": "heatmap"
           }
          ],
          "heatmapgl": [
           {
            "colorbar": {
             "outlinewidth": 0,
             "ticks": ""
            },
            "colorscale": [
             [
              0,
              "#0d0887"
             ],
             [
              0.1111111111111111,
              "#46039f"
             ],
             [
              0.2222222222222222,
              "#7201a8"
             ],
             [
              0.3333333333333333,
              "#9c179e"
             ],
             [
              0.4444444444444444,
              "#bd3786"
             ],
             [
              0.5555555555555556,
              "#d8576b"
             ],
             [
              0.6666666666666666,
              "#ed7953"
             ],
             [
              0.7777777777777778,
              "#fb9f3a"
             ],
             [
              0.8888888888888888,
              "#fdca26"
             ],
             [
              1,
              "#f0f921"
             ]
            ],
            "type": "heatmapgl"
           }
          ],
          "histogram": [
           {
            "marker": {
             "pattern": {
              "fillmode": "overlay",
              "size": 10,
              "solidity": 0.2
             }
            },
            "type": "histogram"
           }
          ],
          "histogram2d": [
           {
            "colorbar": {
             "outlinewidth": 0,
             "ticks": ""
            },
            "colorscale": [
             [
              0,
              "#0d0887"
             ],
             [
              0.1111111111111111,
              "#46039f"
             ],
             [
              0.2222222222222222,
              "#7201a8"
             ],
             [
              0.3333333333333333,
              "#9c179e"
             ],
             [
              0.4444444444444444,
              "#bd3786"
             ],
             [
              0.5555555555555556,
              "#d8576b"
             ],
             [
              0.6666666666666666,
              "#ed7953"
             ],
             [
              0.7777777777777778,
              "#fb9f3a"
             ],
             [
              0.8888888888888888,
              "#fdca26"
             ],
             [
              1,
              "#f0f921"
             ]
            ],
            "type": "histogram2d"
           }
          ],
          "histogram2dcontour": [
           {
            "colorbar": {
             "outlinewidth": 0,
             "ticks": ""
            },
            "colorscale": [
             [
              0,
              "#0d0887"
             ],
             [
              0.1111111111111111,
              "#46039f"
             ],
             [
              0.2222222222222222,
              "#7201a8"
             ],
             [
              0.3333333333333333,
              "#9c179e"
             ],
             [
              0.4444444444444444,
              "#bd3786"
             ],
             [
              0.5555555555555556,
              "#d8576b"
             ],
             [
              0.6666666666666666,
              "#ed7953"
             ],
             [
              0.7777777777777778,
              "#fb9f3a"
             ],
             [
              0.8888888888888888,
              "#fdca26"
             ],
             [
              1,
              "#f0f921"
             ]
            ],
            "type": "histogram2dcontour"
           }
          ],
          "mesh3d": [
           {
            "colorbar": {
             "outlinewidth": 0,
             "ticks": ""
            },
            "type": "mesh3d"
           }
          ],
          "parcoords": [
           {
            "line": {
             "colorbar": {
              "outlinewidth": 0,
              "ticks": ""
             }
            },
            "type": "parcoords"
           }
          ],
          "pie": [
           {
            "automargin": true,
            "type": "pie"
           }
          ],
          "scatter": [
           {
            "fillpattern": {
             "fillmode": "overlay",
             "size": 10,
             "solidity": 0.2
            },
            "type": "scatter"
           }
          ],
          "scatter3d": [
           {
            "line": {
             "colorbar": {
              "outlinewidth": 0,
              "ticks": ""
             }
            },
            "marker": {
             "colorbar": {
              "outlinewidth": 0,
              "ticks": ""
             }
            },
            "type": "scatter3d"
           }
          ],
          "scattercarpet": [
           {
            "marker": {
             "colorbar": {
              "outlinewidth": 0,
              "ticks": ""
             }
            },
            "type": "scattercarpet"
           }
          ],
          "scattergeo": [
           {
            "marker": {
             "colorbar": {
              "outlinewidth": 0,
              "ticks": ""
             }
            },
            "type": "scattergeo"
           }
          ],
          "scattergl": [
           {
            "marker": {
             "colorbar": {
              "outlinewidth": 0,
              "ticks": ""
             }
            },
            "type": "scattergl"
           }
          ],
          "scattermapbox": [
           {
            "marker": {
             "colorbar": {
              "outlinewidth": 0,
              "ticks": ""
             }
            },
            "type": "scattermapbox"
           }
          ],
          "scatterpolar": [
           {
            "marker": {
             "colorbar": {
              "outlinewidth": 0,
              "ticks": ""
             }
            },
            "type": "scatterpolar"
           }
          ],
          "scatterpolargl": [
           {
            "marker": {
             "colorbar": {
              "outlinewidth": 0,
              "ticks": ""
             }
            },
            "type": "scatterpolargl"
           }
          ],
          "scatterternary": [
           {
            "marker": {
             "colorbar": {
              "outlinewidth": 0,
              "ticks": ""
             }
            },
            "type": "scatterternary"
           }
          ],
          "surface": [
           {
            "colorbar": {
             "outlinewidth": 0,
             "ticks": ""
            },
            "colorscale": [
             [
              0,
              "#0d0887"
             ],
             [
              0.1111111111111111,
              "#46039f"
             ],
             [
              0.2222222222222222,
              "#7201a8"
             ],
             [
              0.3333333333333333,
              "#9c179e"
             ],
             [
              0.4444444444444444,
              "#bd3786"
             ],
             [
              0.5555555555555556,
              "#d8576b"
             ],
             [
              0.6666666666666666,
              "#ed7953"
             ],
             [
              0.7777777777777778,
              "#fb9f3a"
             ],
             [
              0.8888888888888888,
              "#fdca26"
             ],
             [
              1,
              "#f0f921"
             ]
            ],
            "type": "surface"
           }
          ],
          "table": [
           {
            "cells": {
             "fill": {
              "color": "#EBF0F8"
             },
             "line": {
              "color": "white"
             }
            },
            "header": {
             "fill": {
              "color": "#C8D4E3"
             },
             "line": {
              "color": "white"
             }
            },
            "type": "table"
           }
          ]
         },
         "layout": {
          "annotationdefaults": {
           "arrowcolor": "#2a3f5f",
           "arrowhead": 0,
           "arrowwidth": 1
          },
          "autotypenumbers": "strict",
          "coloraxis": {
           "colorbar": {
            "outlinewidth": 0,
            "ticks": ""
           }
          },
          "colorscale": {
           "diverging": [
            [
             0,
             "#8e0152"
            ],
            [
             0.1,
             "#c51b7d"
            ],
            [
             0.2,
             "#de77ae"
            ],
            [
             0.3,
             "#f1b6da"
            ],
            [
             0.4,
             "#fde0ef"
            ],
            [
             0.5,
             "#f7f7f7"
            ],
            [
             0.6,
             "#e6f5d0"
            ],
            [
             0.7,
             "#b8e186"
            ],
            [
             0.8,
             "#7fbc41"
            ],
            [
             0.9,
             "#4d9221"
            ],
            [
             1,
             "#276419"
            ]
           ],
           "sequential": [
            [
             0,
             "#0d0887"
            ],
            [
             0.1111111111111111,
             "#46039f"
            ],
            [
             0.2222222222222222,
             "#7201a8"
            ],
            [
             0.3333333333333333,
             "#9c179e"
            ],
            [
             0.4444444444444444,
             "#bd3786"
            ],
            [
             0.5555555555555556,
             "#d8576b"
            ],
            [
             0.6666666666666666,
             "#ed7953"
            ],
            [
             0.7777777777777778,
             "#fb9f3a"
            ],
            [
             0.8888888888888888,
             "#fdca26"
            ],
            [
             1,
             "#f0f921"
            ]
           ],
           "sequentialminus": [
            [
             0,
             "#0d0887"
            ],
            [
             0.1111111111111111,
             "#46039f"
            ],
            [
             0.2222222222222222,
             "#7201a8"
            ],
            [
             0.3333333333333333,
             "#9c179e"
            ],
            [
             0.4444444444444444,
             "#bd3786"
            ],
            [
             0.5555555555555556,
             "#d8576b"
            ],
            [
             0.6666666666666666,
             "#ed7953"
            ],
            [
             0.7777777777777778,
             "#fb9f3a"
            ],
            [
             0.8888888888888888,
             "#fdca26"
            ],
            [
             1,
             "#f0f921"
            ]
           ]
          },
          "colorway": [
           "#636efa",
           "#EF553B",
           "#00cc96",
           "#ab63fa",
           "#FFA15A",
           "#19d3f3",
           "#FF6692",
           "#B6E880",
           "#FF97FF",
           "#FECB52"
          ],
          "font": {
           "color": "#2a3f5f"
          },
          "geo": {
           "bgcolor": "white",
           "lakecolor": "white",
           "landcolor": "#E5ECF6",
           "showlakes": true,
           "showland": true,
           "subunitcolor": "white"
          },
          "hoverlabel": {
           "align": "left"
          },
          "hovermode": "closest",
          "mapbox": {
           "style": "light"
          },
          "paper_bgcolor": "white",
          "plot_bgcolor": "#E5ECF6",
          "polar": {
           "angularaxis": {
            "gridcolor": "white",
            "linecolor": "white",
            "ticks": ""
           },
           "bgcolor": "#E5ECF6",
           "radialaxis": {
            "gridcolor": "white",
            "linecolor": "white",
            "ticks": ""
           }
          },
          "scene": {
           "xaxis": {
            "backgroundcolor": "#E5ECF6",
            "gridcolor": "white",
            "gridwidth": 2,
            "linecolor": "white",
            "showbackground": true,
            "ticks": "",
            "zerolinecolor": "white"
           },
           "yaxis": {
            "backgroundcolor": "#E5ECF6",
            "gridcolor": "white",
            "gridwidth": 2,
            "linecolor": "white",
            "showbackground": true,
            "ticks": "",
            "zerolinecolor": "white"
           },
           "zaxis": {
            "backgroundcolor": "#E5ECF6",
            "gridcolor": "white",
            "gridwidth": 2,
            "linecolor": "white",
            "showbackground": true,
            "ticks": "",
            "zerolinecolor": "white"
           }
          },
          "shapedefaults": {
           "line": {
            "color": "#2a3f5f"
           }
          },
          "ternary": {
           "aaxis": {
            "gridcolor": "white",
            "linecolor": "white",
            "ticks": ""
           },
           "baxis": {
            "gridcolor": "white",
            "linecolor": "white",
            "ticks": ""
           },
           "bgcolor": "#E5ECF6",
           "caxis": {
            "gridcolor": "white",
            "linecolor": "white",
            "ticks": ""
           }
          },
          "title": {
           "x": 0.05
          },
          "xaxis": {
           "automargin": true,
           "gridcolor": "white",
           "linecolor": "white",
           "ticks": "",
           "title": {
            "standoff": 15
           },
           "zerolinecolor": "white",
           "zerolinewidth": 2
          },
          "yaxis": {
           "automargin": true,
           "gridcolor": "white",
           "linecolor": "white",
           "ticks": "",
           "title": {
            "standoff": 15
           },
           "zerolinecolor": "white",
           "zerolinewidth": 2
          }
         }
        },
        "title": {
         "text": "Powiązanie najczęściej występujących tagów z nacechowaniem recenzji"
        },
        "xaxis": {
         "anchor": "y",
         "domain": [
          0,
          1
         ],
         "tickangle": 45,
         "title": {
          "text": "Tag"
         }
        },
        "yaxis": {
         "anchor": "x",
         "domain": [
          0,
          1
         ],
         "title": {
          "text": "Liczba wystąpień"
         }
        }
       }
      }
     },
     "metadata": {},
     "output_type": "display_data"
    }
   ],
   "source": [
    "def tags_sentiment_analysis(df, top_n=10):\n",
    "    sentiment_counts = {}\n",
    "    for sentiment in df['Nacechowanie recenzji'].unique():\n",
    "        if pd.isna(sentiment):\n",
    "            continue\n",
    "        tags = df[df['Nacechowanie recenzji'] == sentiment]['Tagi'].apply(lambda x: x.split(', '))\n",
    "        tag_counter = Counter(tag for tag_list in tags for tag in tag_list)\n",
    "        sentiment_counts[sentiment] = dict(tag_counter)\n",
    "\n",
    "    # Konwersja na DataFrame i ograniczenie liczby tagów\n",
    "    sentiment_dfs = []\n",
    "    for sentiment, counts in sentiment_counts.items():\n",
    "        sentiment_df = pd.DataFrame(counts.items(), columns=['Tag', 'Count'])\n",
    "        sentiment_df['Sentiment'] = sentiment\n",
    "        sentiment_dfs.append(sentiment_df)\n",
    "\n",
    "    combined_df = pd.concat(sentiment_dfs)\n",
    "    top_tags = combined_df.groupby('Tag')['Count'].sum().nlargest(top_n).index\n",
    "    return combined_df[combined_df['Tag'].isin(top_tags)]\n",
    "\n",
    "# Analiza\n",
    "tags_sentiment_df = tags_sentiment_analysis(df)\n",
    "\n",
    "# Określenie kolejności dla 'Sentiment'\n",
    "category_order = ['Przytłaczająco pozytywne', 'Bardzo pozytywne', 'W większości pozytywne', 'Pozytywne', \n",
    "                  'Mieszane', 'W większości negatywne', 'Przytłaczająco negatywne']\n",
    "\n",
    "# Wizualizacja\n",
    "fig = px.bar(tags_sentiment_df, x='Tag', y='Count', color='Sentiment', barmode='group',\n",
    "             title='Powiązanie najczęściej występujących tagów z nacechowaniem recenzji',\n",
    "             labels={'Count': 'Liczba wystąpień', 'Tag': 'Tag'},\n",
    "             category_orders={'Sentiment': category_order})  # Dodajemy sortowanie dla sentimentu\n",
    "\n",
    "fig.update_layout(xaxis_tickangle=45)\n",
    "fig.show()"
   ]
  },
  {
   "cell_type": "code",
   "execution_count": 28,
   "metadata": {},
   "outputs": [],
   "source": [
    "# Mapowanie tekstowego nacechowania recenzji na wartości numeryczne\n",
    "sentiment_map = {\n",
    "    'Przytłaczająco pozytywne': 4,\n",
    "    'Bardzo pozytywne': 3,\n",
    "    'W większości pozytywne': 2,\n",
    "    'Mieszane': 1,\n",
    "    'Negatywne': 0\n",
    "}\n",
    "\n",
    "df['sentiment_score'] = df['Nacechowanie recenzji'].map(sentiment_map).fillna(0)\n"
   ]
  },
  {
   "cell_type": "code",
   "execution_count": 29,
   "metadata": {},
   "outputs": [],
   "source": [
    "# Obliczanie średnich ocen ważonych liczbą recenzji oraz średnich cen\n",
    "def avg_sentiment_and_price_per_tag(df, top_n=20, min_games=3):\n",
    "    tags = df['Tagi'].apply(lambda x: x.split(', '))\n",
    "    tag_scores = Counter()\n",
    "    tag_weights = Counter()\n",
    "    tag_prices = Counter()\n",
    "    tag_counts = Counter()\n",
    "\n",
    "    for idx, tag_list in enumerate(tags):\n",
    "        for tag in tag_list:\n",
    "            sentiment_score = df.iloc[idx]['sentiment_score']\n",
    "            review_count = df.iloc[idx]['Liczba recenzji']\n",
    "            price = df.iloc[idx]['Cena']\n",
    "            \n",
    "            # Ważenie ocen liczbą recenzji\n",
    "            tag_scores[tag] += sentiment_score * review_count\n",
    "            tag_weights[tag] += review_count\n",
    "            \n",
    "            # Suma cen i liczba wystąpień\n",
    "            tag_prices[tag] += price\n",
    "            tag_counts[tag] += 1\n",
    "\n",
    "    # Obliczanie średnich ocen i cen (filtr minimalnej liczby gier)\n",
    "    avg_data = {\n",
    "        tag: {\n",
    "            'Average Sentiment': tag_scores[tag] / tag_weights[tag],\n",
    "            'Average Price': tag_prices[tag] / tag_counts[tag],\n",
    "            'Game Count': tag_counts[tag]\n",
    "        }\n",
    "        for tag in tag_scores if tag_counts[tag] >= min_games\n",
    "    }\n",
    "    avg_df = pd.DataFrame.from_dict(avg_data, orient='index').reset_index()\n",
    "    avg_df.rename(columns={'index': 'Tag'}, inplace=True)\n",
    "    return avg_df.sort_values('Average Sentiment', ascending=False).head(top_n), \\\n",
    "           avg_df.sort_values('Average Sentiment', ascending=True).head(top_n)\n"
   ]
  },
  {
   "cell_type": "code",
   "execution_count": 31,
   "metadata": {},
   "outputs": [
    {
     "data": {
      "application/vnd.plotly.v1+json": {
       "config": {
        "plotlyServerURL": "https://plot.ly"
       },
       "data": [
        {
         "marker": {
          "color": "#90CAF9"
         },
         "name": "Średnia ocena",
         "type": "bar",
         "x": [
          "Platformowe 3D",
          "Steampunk",
          "Ręcznie rysowane",
          "Wczesny dostęp",
          "Podróż w czasie",
          "Fizyka",
          "Automatyzacja",
          "Czarny humor",
          "Generacja proceduralna",
          "Perspektywa pierwszej osoby",
          "Łamigłówki",
          "Filmowe",
          "Nauka",
          "Survival horror",
          "Wskaż i kliknij",
          "Side-scroller",
          "Platformowe",
          "Podwodne",
          "Bullet hell",
          "Horror psychologiczny"
         ],
         "y": [
          3.991339565110057,
          3.987880998702983,
          3.9653225806451613,
          3.9550884725925415,
          3.9538991689108967,
          3.9405315459620858,
          3.9330591510977917,
          3.9205639877774527,
          3.9054241955955975,
          3.9016085500343176,
          3.8668174912477706,
          3.859067668388376,
          3.838638412068066,
          3.835719053787018,
          3.830175648304944,
          3.78527865404837,
          3.7758098004410736,
          3.737836378635109,
          3.7366903680688335,
          3.7169005816745826
         ],
         "yaxis": "y"
        },
        {
         "line": {
          "dash": "dot",
          "width": 2
         },
         "marker": {
          "color": "red",
          "size": 10
         },
         "mode": "lines+markers",
         "name": "Średnia cena",
         "type": "scatter",
         "x": [
          "Platformowe 3D",
          "Steampunk",
          "Ręcznie rysowane",
          "Wczesny dostęp",
          "Podróż w czasie",
          "Fizyka",
          "Automatyzacja",
          "Czarny humor",
          "Generacja proceduralna",
          "Perspektywa pierwszej osoby",
          "Łamigłówki",
          "Filmowe",
          "Nauka",
          "Survival horror",
          "Wskaż i kliknij",
          "Side-scroller",
          "Platformowe",
          "Podwodne",
          "Bullet hell",
          "Horror psychologiczny"
         ],
         "y": [
          72.65666666666667,
          69.49,
          73.12333333333333,
          74.69,
          25.900000000000002,
          88.50833333333333,
          80.53428571428572,
          52.656666666666666,
          73.82000000000001,
          76.15666666666668,
          54.23761904761905,
          75.79333333333334,
          95.97,
          67.27714285714286,
          40.339999999999996,
          73.19,
          54.686,
          36.15,
          33.64333333333334,
          54.010000000000005
         ],
         "yaxis": "y2"
        }
       ],
       "layout": {
        "legend": {
         "orientation": "h",
         "x": 0.5,
         "y": 1.1
        },
        "template": {
         "data": {
          "bar": [
           {
            "error_x": {
             "color": "#2a3f5f"
            },
            "error_y": {
             "color": "#2a3f5f"
            },
            "marker": {
             "line": {
              "color": "#E5ECF6",
              "width": 0.5
             },
             "pattern": {
              "fillmode": "overlay",
              "size": 10,
              "solidity": 0.2
             }
            },
            "type": "bar"
           }
          ],
          "barpolar": [
           {
            "marker": {
             "line": {
              "color": "#E5ECF6",
              "width": 0.5
             },
             "pattern": {
              "fillmode": "overlay",
              "size": 10,
              "solidity": 0.2
             }
            },
            "type": "barpolar"
           }
          ],
          "carpet": [
           {
            "aaxis": {
             "endlinecolor": "#2a3f5f",
             "gridcolor": "white",
             "linecolor": "white",
             "minorgridcolor": "white",
             "startlinecolor": "#2a3f5f"
            },
            "baxis": {
             "endlinecolor": "#2a3f5f",
             "gridcolor": "white",
             "linecolor": "white",
             "minorgridcolor": "white",
             "startlinecolor": "#2a3f5f"
            },
            "type": "carpet"
           }
          ],
          "choropleth": [
           {
            "colorbar": {
             "outlinewidth": 0,
             "ticks": ""
            },
            "type": "choropleth"
           }
          ],
          "contour": [
           {
            "colorbar": {
             "outlinewidth": 0,
             "ticks": ""
            },
            "colorscale": [
             [
              0,
              "#0d0887"
             ],
             [
              0.1111111111111111,
              "#46039f"
             ],
             [
              0.2222222222222222,
              "#7201a8"
             ],
             [
              0.3333333333333333,
              "#9c179e"
             ],
             [
              0.4444444444444444,
              "#bd3786"
             ],
             [
              0.5555555555555556,
              "#d8576b"
             ],
             [
              0.6666666666666666,
              "#ed7953"
             ],
             [
              0.7777777777777778,
              "#fb9f3a"
             ],
             [
              0.8888888888888888,
              "#fdca26"
             ],
             [
              1,
              "#f0f921"
             ]
            ],
            "type": "contour"
           }
          ],
          "contourcarpet": [
           {
            "colorbar": {
             "outlinewidth": 0,
             "ticks": ""
            },
            "type": "contourcarpet"
           }
          ],
          "heatmap": [
           {
            "colorbar": {
             "outlinewidth": 0,
             "ticks": ""
            },
            "colorscale": [
             [
              0,
              "#0d0887"
             ],
             [
              0.1111111111111111,
              "#46039f"
             ],
             [
              0.2222222222222222,
              "#7201a8"
             ],
             [
              0.3333333333333333,
              "#9c179e"
             ],
             [
              0.4444444444444444,
              "#bd3786"
             ],
             [
              0.5555555555555556,
              "#d8576b"
             ],
             [
              0.6666666666666666,
              "#ed7953"
             ],
             [
              0.7777777777777778,
              "#fb9f3a"
             ],
             [
              0.8888888888888888,
              "#fdca26"
             ],
             [
              1,
              "#f0f921"
             ]
            ],
            "type": "heatmap"
           }
          ],
          "heatmapgl": [
           {
            "colorbar": {
             "outlinewidth": 0,
             "ticks": ""
            },
            "colorscale": [
             [
              0,
              "#0d0887"
             ],
             [
              0.1111111111111111,
              "#46039f"
             ],
             [
              0.2222222222222222,
              "#7201a8"
             ],
             [
              0.3333333333333333,
              "#9c179e"
             ],
             [
              0.4444444444444444,
              "#bd3786"
             ],
             [
              0.5555555555555556,
              "#d8576b"
             ],
             [
              0.6666666666666666,
              "#ed7953"
             ],
             [
              0.7777777777777778,
              "#fb9f3a"
             ],
             [
              0.8888888888888888,
              "#fdca26"
             ],
             [
              1,
              "#f0f921"
             ]
            ],
            "type": "heatmapgl"
           }
          ],
          "histogram": [
           {
            "marker": {
             "pattern": {
              "fillmode": "overlay",
              "size": 10,
              "solidity": 0.2
             }
            },
            "type": "histogram"
           }
          ],
          "histogram2d": [
           {
            "colorbar": {
             "outlinewidth": 0,
             "ticks": ""
            },
            "colorscale": [
             [
              0,
              "#0d0887"
             ],
             [
              0.1111111111111111,
              "#46039f"
             ],
             [
              0.2222222222222222,
              "#7201a8"
             ],
             [
              0.3333333333333333,
              "#9c179e"
             ],
             [
              0.4444444444444444,
              "#bd3786"
             ],
             [
              0.5555555555555556,
              "#d8576b"
             ],
             [
              0.6666666666666666,
              "#ed7953"
             ],
             [
              0.7777777777777778,
              "#fb9f3a"
             ],
             [
              0.8888888888888888,
              "#fdca26"
             ],
             [
              1,
              "#f0f921"
             ]
            ],
            "type": "histogram2d"
           }
          ],
          "histogram2dcontour": [
           {
            "colorbar": {
             "outlinewidth": 0,
             "ticks": ""
            },
            "colorscale": [
             [
              0,
              "#0d0887"
             ],
             [
              0.1111111111111111,
              "#46039f"
             ],
             [
              0.2222222222222222,
              "#7201a8"
             ],
             [
              0.3333333333333333,
              "#9c179e"
             ],
             [
              0.4444444444444444,
              "#bd3786"
             ],
             [
              0.5555555555555556,
              "#d8576b"
             ],
             [
              0.6666666666666666,
              "#ed7953"
             ],
             [
              0.7777777777777778,
              "#fb9f3a"
             ],
             [
              0.8888888888888888,
              "#fdca26"
             ],
             [
              1,
              "#f0f921"
             ]
            ],
            "type": "histogram2dcontour"
           }
          ],
          "mesh3d": [
           {
            "colorbar": {
             "outlinewidth": 0,
             "ticks": ""
            },
            "type": "mesh3d"
           }
          ],
          "parcoords": [
           {
            "line": {
             "colorbar": {
              "outlinewidth": 0,
              "ticks": ""
             }
            },
            "type": "parcoords"
           }
          ],
          "pie": [
           {
            "automargin": true,
            "type": "pie"
           }
          ],
          "scatter": [
           {
            "fillpattern": {
             "fillmode": "overlay",
             "size": 10,
             "solidity": 0.2
            },
            "type": "scatter"
           }
          ],
          "scatter3d": [
           {
            "line": {
             "colorbar": {
              "outlinewidth": 0,
              "ticks": ""
             }
            },
            "marker": {
             "colorbar": {
              "outlinewidth": 0,
              "ticks": ""
             }
            },
            "type": "scatter3d"
           }
          ],
          "scattercarpet": [
           {
            "marker": {
             "colorbar": {
              "outlinewidth": 0,
              "ticks": ""
             }
            },
            "type": "scattercarpet"
           }
          ],
          "scattergeo": [
           {
            "marker": {
             "colorbar": {
              "outlinewidth": 0,
              "ticks": ""
             }
            },
            "type": "scattergeo"
           }
          ],
          "scattergl": [
           {
            "marker": {
             "colorbar": {
              "outlinewidth": 0,
              "ticks": ""
             }
            },
            "type": "scattergl"
           }
          ],
          "scattermapbox": [
           {
            "marker": {
             "colorbar": {
              "outlinewidth": 0,
              "ticks": ""
             }
            },
            "type": "scattermapbox"
           }
          ],
          "scatterpolar": [
           {
            "marker": {
             "colorbar": {
              "outlinewidth": 0,
              "ticks": ""
             }
            },
            "type": "scatterpolar"
           }
          ],
          "scatterpolargl": [
           {
            "marker": {
             "colorbar": {
              "outlinewidth": 0,
              "ticks": ""
             }
            },
            "type": "scatterpolargl"
           }
          ],
          "scatterternary": [
           {
            "marker": {
             "colorbar": {
              "outlinewidth": 0,
              "ticks": ""
             }
            },
            "type": "scatterternary"
           }
          ],
          "surface": [
           {
            "colorbar": {
             "outlinewidth": 0,
             "ticks": ""
            },
            "colorscale": [
             [
              0,
              "#0d0887"
             ],
             [
              0.1111111111111111,
              "#46039f"
             ],
             [
              0.2222222222222222,
              "#7201a8"
             ],
             [
              0.3333333333333333,
              "#9c179e"
             ],
             [
              0.4444444444444444,
              "#bd3786"
             ],
             [
              0.5555555555555556,
              "#d8576b"
             ],
             [
              0.6666666666666666,
              "#ed7953"
             ],
             [
              0.7777777777777778,
              "#fb9f3a"
             ],
             [
              0.8888888888888888,
              "#fdca26"
             ],
             [
              1,
              "#f0f921"
             ]
            ],
            "type": "surface"
           }
          ],
          "table": [
           {
            "cells": {
             "fill": {
              "color": "#EBF0F8"
             },
             "line": {
              "color": "white"
             }
            },
            "header": {
             "fill": {
              "color": "#C8D4E3"
             },
             "line": {
              "color": "white"
             }
            },
            "type": "table"
           }
          ]
         },
         "layout": {
          "annotationdefaults": {
           "arrowcolor": "#2a3f5f",
           "arrowhead": 0,
           "arrowwidth": 1
          },
          "autotypenumbers": "strict",
          "coloraxis": {
           "colorbar": {
            "outlinewidth": 0,
            "ticks": ""
           }
          },
          "colorscale": {
           "diverging": [
            [
             0,
             "#8e0152"
            ],
            [
             0.1,
             "#c51b7d"
            ],
            [
             0.2,
             "#de77ae"
            ],
            [
             0.3,
             "#f1b6da"
            ],
            [
             0.4,
             "#fde0ef"
            ],
            [
             0.5,
             "#f7f7f7"
            ],
            [
             0.6,
             "#e6f5d0"
            ],
            [
             0.7,
             "#b8e186"
            ],
            [
             0.8,
             "#7fbc41"
            ],
            [
             0.9,
             "#4d9221"
            ],
            [
             1,
             "#276419"
            ]
           ],
           "sequential": [
            [
             0,
             "#0d0887"
            ],
            [
             0.1111111111111111,
             "#46039f"
            ],
            [
             0.2222222222222222,
             "#7201a8"
            ],
            [
             0.3333333333333333,
             "#9c179e"
            ],
            [
             0.4444444444444444,
             "#bd3786"
            ],
            [
             0.5555555555555556,
             "#d8576b"
            ],
            [
             0.6666666666666666,
             "#ed7953"
            ],
            [
             0.7777777777777778,
             "#fb9f3a"
            ],
            [
             0.8888888888888888,
             "#fdca26"
            ],
            [
             1,
             "#f0f921"
            ]
           ],
           "sequentialminus": [
            [
             0,
             "#0d0887"
            ],
            [
             0.1111111111111111,
             "#46039f"
            ],
            [
             0.2222222222222222,
             "#7201a8"
            ],
            [
             0.3333333333333333,
             "#9c179e"
            ],
            [
             0.4444444444444444,
             "#bd3786"
            ],
            [
             0.5555555555555556,
             "#d8576b"
            ],
            [
             0.6666666666666666,
             "#ed7953"
            ],
            [
             0.7777777777777778,
             "#fb9f3a"
            ],
            [
             0.8888888888888888,
             "#fdca26"
            ],
            [
             1,
             "#f0f921"
            ]
           ]
          },
          "colorway": [
           "#636efa",
           "#EF553B",
           "#00cc96",
           "#ab63fa",
           "#FFA15A",
           "#19d3f3",
           "#FF6692",
           "#B6E880",
           "#FF97FF",
           "#FECB52"
          ],
          "font": {
           "color": "#2a3f5f"
          },
          "geo": {
           "bgcolor": "white",
           "lakecolor": "white",
           "landcolor": "#E5ECF6",
           "showlakes": true,
           "showland": true,
           "subunitcolor": "white"
          },
          "hoverlabel": {
           "align": "left"
          },
          "hovermode": "closest",
          "mapbox": {
           "style": "light"
          },
          "paper_bgcolor": "white",
          "plot_bgcolor": "#E5ECF6",
          "polar": {
           "angularaxis": {
            "gridcolor": "white",
            "linecolor": "white",
            "ticks": ""
           },
           "bgcolor": "#E5ECF6",
           "radialaxis": {
            "gridcolor": "white",
            "linecolor": "white",
            "ticks": ""
           }
          },
          "scene": {
           "xaxis": {
            "backgroundcolor": "#E5ECF6",
            "gridcolor": "white",
            "gridwidth": 2,
            "linecolor": "white",
            "showbackground": true,
            "ticks": "",
            "zerolinecolor": "white"
           },
           "yaxis": {
            "backgroundcolor": "#E5ECF6",
            "gridcolor": "white",
            "gridwidth": 2,
            "linecolor": "white",
            "showbackground": true,
            "ticks": "",
            "zerolinecolor": "white"
           },
           "zaxis": {
            "backgroundcolor": "#E5ECF6",
            "gridcolor": "white",
            "gridwidth": 2,
            "linecolor": "white",
            "showbackground": true,
            "ticks": "",
            "zerolinecolor": "white"
           }
          },
          "shapedefaults": {
           "line": {
            "color": "#2a3f5f"
           }
          },
          "ternary": {
           "aaxis": {
            "gridcolor": "white",
            "linecolor": "white",
            "ticks": ""
           },
           "baxis": {
            "gridcolor": "white",
            "linecolor": "white",
            "ticks": ""
           },
           "bgcolor": "#E5ECF6",
           "caxis": {
            "gridcolor": "white",
            "linecolor": "white",
            "ticks": ""
           }
          },
          "title": {
           "x": 0.05
          },
          "xaxis": {
           "automargin": true,
           "gridcolor": "white",
           "linecolor": "white",
           "ticks": "",
           "title": {
            "standoff": 15
           },
           "zerolinecolor": "white",
           "zerolinewidth": 2
          },
          "yaxis": {
           "automargin": true,
           "gridcolor": "white",
           "linecolor": "white",
           "ticks": "",
           "title": {
            "standoff": 15
           },
           "zerolinecolor": "white",
           "zerolinewidth": 2
          }
         }
        },
        "title": {
         "text": "Tagi z najlepszymi ocenami (ważone liczbą recenzji)"
        },
        "xaxis": {
         "tickangle": 45,
         "title": {
          "text": "Tagi"
         }
        },
        "yaxis": {
         "tickfont": {
          "color": "#90CAF9"
         },
         "title": {
          "font": {
           "color": "#90CAF9"
          },
          "text": "Średnia ocena"
         }
        },
        "yaxis2": {
         "overlaying": "y",
         "side": "right",
         "tickfont": {
          "color": "red"
         },
         "title": {
          "font": {
           "color": "red"
          },
          "text": "Średnia cena (zł)"
         }
        }
       }
      }
     },
     "metadata": {},
     "output_type": "display_data"
    },
    {
     "data": {
      "application/vnd.plotly.v1+json": {
       "config": {
        "plotlyServerURL": "https://plot.ly"
       },
       "data": [
        {
         "marker": {
          "color": "#90CAF9"
         },
         "name": "Średnia ocena",
         "type": "bar",
         "x": [
          "Strzelanka z bohaterami",
          "Wojskowe",
          "Wojna",
          "PvP",
          "Free to Play",
          "JRPG",
          "Strzelanka z łupami",
          "Treści seksualne",
          "Perspektywa trzeciej osoby",
          "Walka",
          "Strategiczne RPG",
          "Roboty",
          "Przygodowe akcji",
          "Futurystyczne",
          "Karciany bitewniak",
          "Symulator kosmiczny",
          "Parkour",
          "Strzelanka z perspektywą trzeciej osoby",
          "3D",
          "Mars"
         ],
         "y": [
          1.0957395155110183,
          1.1862367584322624,
          1.516662573713032,
          1.6537090888356711,
          1.7286094026416858,
          1.760600416347102,
          1.860340629348175,
          1.9360189704443573,
          2.0214920882250222,
          2.0300308263449236,
          2.083432222729347,
          2.136696597353497,
          2.180982342771306,
          2.1870156546637203,
          2.2270180221111615,
          2.2591778054720653,
          2.2651468006134285,
          2.2702717130198047,
          2.316529894490035,
          2.322449670106581
         ],
         "yaxis": "y"
        },
        {
         "line": {
          "dash": "dot",
          "width": 2
         },
         "marker": {
          "color": "red",
          "size": 10
         },
         "mode": "lines+markers",
         "name": "Średnia cena",
         "type": "scatter",
         "x": [
          "Strzelanka z bohaterami",
          "Wojskowe",
          "Wojna",
          "PvP",
          "Free to Play",
          "JRPG",
          "Strzelanka z łupami",
          "Treści seksualne",
          "Perspektywa trzeciej osoby",
          "Walka",
          "Strategiczne RPG",
          "Roboty",
          "Przygodowe akcji",
          "Futurystyczne",
          "Karciany bitewniak",
          "Symulator kosmiczny",
          "Parkour",
          "Strzelanka z perspektywą trzeciej osoby",
          "3D",
          "Mars"
         ],
         "y": [
          33,
          147.76,
          77.618,
          51.424285714285716,
          0,
          74.45,
          53.99333333333333,
          50.791666666666664,
          80.882,
          77.65666666666665,
          69.2125,
          53.95714285714286,
          116.13066666666667,
          75.606,
          17.2625,
          94.75111111111111,
          97.2175,
          71.6735294117647,
          85.48,
          52.91
         ],
         "yaxis": "y2"
        }
       ],
       "layout": {
        "legend": {
         "orientation": "h",
         "x": 0.5,
         "y": 1.1
        },
        "template": {
         "data": {
          "bar": [
           {
            "error_x": {
             "color": "#2a3f5f"
            },
            "error_y": {
             "color": "#2a3f5f"
            },
            "marker": {
             "line": {
              "color": "#E5ECF6",
              "width": 0.5
             },
             "pattern": {
              "fillmode": "overlay",
              "size": 10,
              "solidity": 0.2
             }
            },
            "type": "bar"
           }
          ],
          "barpolar": [
           {
            "marker": {
             "line": {
              "color": "#E5ECF6",
              "width": 0.5
             },
             "pattern": {
              "fillmode": "overlay",
              "size": 10,
              "solidity": 0.2
             }
            },
            "type": "barpolar"
           }
          ],
          "carpet": [
           {
            "aaxis": {
             "endlinecolor": "#2a3f5f",
             "gridcolor": "white",
             "linecolor": "white",
             "minorgridcolor": "white",
             "startlinecolor": "#2a3f5f"
            },
            "baxis": {
             "endlinecolor": "#2a3f5f",
             "gridcolor": "white",
             "linecolor": "white",
             "minorgridcolor": "white",
             "startlinecolor": "#2a3f5f"
            },
            "type": "carpet"
           }
          ],
          "choropleth": [
           {
            "colorbar": {
             "outlinewidth": 0,
             "ticks": ""
            },
            "type": "choropleth"
           }
          ],
          "contour": [
           {
            "colorbar": {
             "outlinewidth": 0,
             "ticks": ""
            },
            "colorscale": [
             [
              0,
              "#0d0887"
             ],
             [
              0.1111111111111111,
              "#46039f"
             ],
             [
              0.2222222222222222,
              "#7201a8"
             ],
             [
              0.3333333333333333,
              "#9c179e"
             ],
             [
              0.4444444444444444,
              "#bd3786"
             ],
             [
              0.5555555555555556,
              "#d8576b"
             ],
             [
              0.6666666666666666,
              "#ed7953"
             ],
             [
              0.7777777777777778,
              "#fb9f3a"
             ],
             [
              0.8888888888888888,
              "#fdca26"
             ],
             [
              1,
              "#f0f921"
             ]
            ],
            "type": "contour"
           }
          ],
          "contourcarpet": [
           {
            "colorbar": {
             "outlinewidth": 0,
             "ticks": ""
            },
            "type": "contourcarpet"
           }
          ],
          "heatmap": [
           {
            "colorbar": {
             "outlinewidth": 0,
             "ticks": ""
            },
            "colorscale": [
             [
              0,
              "#0d0887"
             ],
             [
              0.1111111111111111,
              "#46039f"
             ],
             [
              0.2222222222222222,
              "#7201a8"
             ],
             [
              0.3333333333333333,
              "#9c179e"
             ],
             [
              0.4444444444444444,
              "#bd3786"
             ],
             [
              0.5555555555555556,
              "#d8576b"
             ],
             [
              0.6666666666666666,
              "#ed7953"
             ],
             [
              0.7777777777777778,
              "#fb9f3a"
             ],
             [
              0.8888888888888888,
              "#fdca26"
             ],
             [
              1,
              "#f0f921"
             ]
            ],
            "type": "heatmap"
           }
          ],
          "heatmapgl": [
           {
            "colorbar": {
             "outlinewidth": 0,
             "ticks": ""
            },
            "colorscale": [
             [
              0,
              "#0d0887"
             ],
             [
              0.1111111111111111,
              "#46039f"
             ],
             [
              0.2222222222222222,
              "#7201a8"
             ],
             [
              0.3333333333333333,
              "#9c179e"
             ],
             [
              0.4444444444444444,
              "#bd3786"
             ],
             [
              0.5555555555555556,
              "#d8576b"
             ],
             [
              0.6666666666666666,
              "#ed7953"
             ],
             [
              0.7777777777777778,
              "#fb9f3a"
             ],
             [
              0.8888888888888888,
              "#fdca26"
             ],
             [
              1,
              "#f0f921"
             ]
            ],
            "type": "heatmapgl"
           }
          ],
          "histogram": [
           {
            "marker": {
             "pattern": {
              "fillmode": "overlay",
              "size": 10,
              "solidity": 0.2
             }
            },
            "type": "histogram"
           }
          ],
          "histogram2d": [
           {
            "colorbar": {
             "outlinewidth": 0,
             "ticks": ""
            },
            "colorscale": [
             [
              0,
              "#0d0887"
             ],
             [
              0.1111111111111111,
              "#46039f"
             ],
             [
              0.2222222222222222,
              "#7201a8"
             ],
             [
              0.3333333333333333,
              "#9c179e"
             ],
             [
              0.4444444444444444,
              "#bd3786"
             ],
             [
              0.5555555555555556,
              "#d8576b"
             ],
             [
              0.6666666666666666,
              "#ed7953"
             ],
             [
              0.7777777777777778,
              "#fb9f3a"
             ],
             [
              0.8888888888888888,
              "#fdca26"
             ],
             [
              1,
              "#f0f921"
             ]
            ],
            "type": "histogram2d"
           }
          ],
          "histogram2dcontour": [
           {
            "colorbar": {
             "outlinewidth": 0,
             "ticks": ""
            },
            "colorscale": [
             [
              0,
              "#0d0887"
             ],
             [
              0.1111111111111111,
              "#46039f"
             ],
             [
              0.2222222222222222,
              "#7201a8"
             ],
             [
              0.3333333333333333,
              "#9c179e"
             ],
             [
              0.4444444444444444,
              "#bd3786"
             ],
             [
              0.5555555555555556,
              "#d8576b"
             ],
             [
              0.6666666666666666,
              "#ed7953"
             ],
             [
              0.7777777777777778,
              "#fb9f3a"
             ],
             [
              0.8888888888888888,
              "#fdca26"
             ],
             [
              1,
              "#f0f921"
             ]
            ],
            "type": "histogram2dcontour"
           }
          ],
          "mesh3d": [
           {
            "colorbar": {
             "outlinewidth": 0,
             "ticks": ""
            },
            "type": "mesh3d"
           }
          ],
          "parcoords": [
           {
            "line": {
             "colorbar": {
              "outlinewidth": 0,
              "ticks": ""
             }
            },
            "type": "parcoords"
           }
          ],
          "pie": [
           {
            "automargin": true,
            "type": "pie"
           }
          ],
          "scatter": [
           {
            "fillpattern": {
             "fillmode": "overlay",
             "size": 10,
             "solidity": 0.2
            },
            "type": "scatter"
           }
          ],
          "scatter3d": [
           {
            "line": {
             "colorbar": {
              "outlinewidth": 0,
              "ticks": ""
             }
            },
            "marker": {
             "colorbar": {
              "outlinewidth": 0,
              "ticks": ""
             }
            },
            "type": "scatter3d"
           }
          ],
          "scattercarpet": [
           {
            "marker": {
             "colorbar": {
              "outlinewidth": 0,
              "ticks": ""
             }
            },
            "type": "scattercarpet"
           }
          ],
          "scattergeo": [
           {
            "marker": {
             "colorbar": {
              "outlinewidth": 0,
              "ticks": ""
             }
            },
            "type": "scattergeo"
           }
          ],
          "scattergl": [
           {
            "marker": {
             "colorbar": {
              "outlinewidth": 0,
              "ticks": ""
             }
            },
            "type": "scattergl"
           }
          ],
          "scattermapbox": [
           {
            "marker": {
             "colorbar": {
              "outlinewidth": 0,
              "ticks": ""
             }
            },
            "type": "scattermapbox"
           }
          ],
          "scatterpolar": [
           {
            "marker": {
             "colorbar": {
              "outlinewidth": 0,
              "ticks": ""
             }
            },
            "type": "scatterpolar"
           }
          ],
          "scatterpolargl": [
           {
            "marker": {
             "colorbar": {
              "outlinewidth": 0,
              "ticks": ""
             }
            },
            "type": "scatterpolargl"
           }
          ],
          "scatterternary": [
           {
            "marker": {
             "colorbar": {
              "outlinewidth": 0,
              "ticks": ""
             }
            },
            "type": "scatterternary"
           }
          ],
          "surface": [
           {
            "colorbar": {
             "outlinewidth": 0,
             "ticks": ""
            },
            "colorscale": [
             [
              0,
              "#0d0887"
             ],
             [
              0.1111111111111111,
              "#46039f"
             ],
             [
              0.2222222222222222,
              "#7201a8"
             ],
             [
              0.3333333333333333,
              "#9c179e"
             ],
             [
              0.4444444444444444,
              "#bd3786"
             ],
             [
              0.5555555555555556,
              "#d8576b"
             ],
             [
              0.6666666666666666,
              "#ed7953"
             ],
             [
              0.7777777777777778,
              "#fb9f3a"
             ],
             [
              0.8888888888888888,
              "#fdca26"
             ],
             [
              1,
              "#f0f921"
             ]
            ],
            "type": "surface"
           }
          ],
          "table": [
           {
            "cells": {
             "fill": {
              "color": "#EBF0F8"
             },
             "line": {
              "color": "white"
             }
            },
            "header": {
             "fill": {
              "color": "#C8D4E3"
             },
             "line": {
              "color": "white"
             }
            },
            "type": "table"
           }
          ]
         },
         "layout": {
          "annotationdefaults": {
           "arrowcolor": "#2a3f5f",
           "arrowhead": 0,
           "arrowwidth": 1
          },
          "autotypenumbers": "strict",
          "coloraxis": {
           "colorbar": {
            "outlinewidth": 0,
            "ticks": ""
           }
          },
          "colorscale": {
           "diverging": [
            [
             0,
             "#8e0152"
            ],
            [
             0.1,
             "#c51b7d"
            ],
            [
             0.2,
             "#de77ae"
            ],
            [
             0.3,
             "#f1b6da"
            ],
            [
             0.4,
             "#fde0ef"
            ],
            [
             0.5,
             "#f7f7f7"
            ],
            [
             0.6,
             "#e6f5d0"
            ],
            [
             0.7,
             "#b8e186"
            ],
            [
             0.8,
             "#7fbc41"
            ],
            [
             0.9,
             "#4d9221"
            ],
            [
             1,
             "#276419"
            ]
           ],
           "sequential": [
            [
             0,
             "#0d0887"
            ],
            [
             0.1111111111111111,
             "#46039f"
            ],
            [
             0.2222222222222222,
             "#7201a8"
            ],
            [
             0.3333333333333333,
             "#9c179e"
            ],
            [
             0.4444444444444444,
             "#bd3786"
            ],
            [
             0.5555555555555556,
             "#d8576b"
            ],
            [
             0.6666666666666666,
             "#ed7953"
            ],
            [
             0.7777777777777778,
             "#fb9f3a"
            ],
            [
             0.8888888888888888,
             "#fdca26"
            ],
            [
             1,
             "#f0f921"
            ]
           ],
           "sequentialminus": [
            [
             0,
             "#0d0887"
            ],
            [
             0.1111111111111111,
             "#46039f"
            ],
            [
             0.2222222222222222,
             "#7201a8"
            ],
            [
             0.3333333333333333,
             "#9c179e"
            ],
            [
             0.4444444444444444,
             "#bd3786"
            ],
            [
             0.5555555555555556,
             "#d8576b"
            ],
            [
             0.6666666666666666,
             "#ed7953"
            ],
            [
             0.7777777777777778,
             "#fb9f3a"
            ],
            [
             0.8888888888888888,
             "#fdca26"
            ],
            [
             1,
             "#f0f921"
            ]
           ]
          },
          "colorway": [
           "#636efa",
           "#EF553B",
           "#00cc96",
           "#ab63fa",
           "#FFA15A",
           "#19d3f3",
           "#FF6692",
           "#B6E880",
           "#FF97FF",
           "#FECB52"
          ],
          "font": {
           "color": "#2a3f5f"
          },
          "geo": {
           "bgcolor": "white",
           "lakecolor": "white",
           "landcolor": "#E5ECF6",
           "showlakes": true,
           "showland": true,
           "subunitcolor": "white"
          },
          "hoverlabel": {
           "align": "left"
          },
          "hovermode": "closest",
          "mapbox": {
           "style": "light"
          },
          "paper_bgcolor": "white",
          "plot_bgcolor": "#E5ECF6",
          "polar": {
           "angularaxis": {
            "gridcolor": "white",
            "linecolor": "white",
            "ticks": ""
           },
           "bgcolor": "#E5ECF6",
           "radialaxis": {
            "gridcolor": "white",
            "linecolor": "white",
            "ticks": ""
           }
          },
          "scene": {
           "xaxis": {
            "backgroundcolor": "#E5ECF6",
            "gridcolor": "white",
            "gridwidth": 2,
            "linecolor": "white",
            "showbackground": true,
            "ticks": "",
            "zerolinecolor": "white"
           },
           "yaxis": {
            "backgroundcolor": "#E5ECF6",
            "gridcolor": "white",
            "gridwidth": 2,
            "linecolor": "white",
            "showbackground": true,
            "ticks": "",
            "zerolinecolor": "white"
           },
           "zaxis": {
            "backgroundcolor": "#E5ECF6",
            "gridcolor": "white",
            "gridwidth": 2,
            "linecolor": "white",
            "showbackground": true,
            "ticks": "",
            "zerolinecolor": "white"
           }
          },
          "shapedefaults": {
           "line": {
            "color": "#2a3f5f"
           }
          },
          "ternary": {
           "aaxis": {
            "gridcolor": "white",
            "linecolor": "white",
            "ticks": ""
           },
           "baxis": {
            "gridcolor": "white",
            "linecolor": "white",
            "ticks": ""
           },
           "bgcolor": "#E5ECF6",
           "caxis": {
            "gridcolor": "white",
            "linecolor": "white",
            "ticks": ""
           }
          },
          "title": {
           "x": 0.05
          },
          "xaxis": {
           "automargin": true,
           "gridcolor": "white",
           "linecolor": "white",
           "ticks": "",
           "title": {
            "standoff": 15
           },
           "zerolinecolor": "white",
           "zerolinewidth": 2
          },
          "yaxis": {
           "automargin": true,
           "gridcolor": "white",
           "linecolor": "white",
           "ticks": "",
           "title": {
            "standoff": 15
           },
           "zerolinecolor": "white",
           "zerolinewidth": 2
          }
         }
        },
        "title": {
         "text": "Tagi z najgorszymi ocenami (ważone liczbą recenzji)"
        },
        "xaxis": {
         "tickangle": 45,
         "title": {
          "text": "Tagi"
         }
        },
        "yaxis": {
         "tickfont": {
          "color": "#90CAF9"
         },
         "title": {
          "font": {
           "color": "#90CAF9"
          },
          "text": "Średnia ocena"
         }
        },
        "yaxis2": {
         "overlaying": "y",
         "side": "right",
         "tickfont": {
          "color": "red"
         },
         "title": {
          "font": {
           "color": "red"
          },
          "text": "Średnia cena (zł)"
         }
        }
       }
      }
     },
     "metadata": {},
     "output_type": "display_data"
    }
   ],
   "source": [
    "import plotly.graph_objects as go\n",
    "\n",
    "# Obliczanie wyników\n",
    "top_positive_tags, top_negative_tags = avg_sentiment_and_price_per_tag(df, top_n=20, min_games=3)\n",
    "\n",
    "def create_dual_axis_chart(df, title):\n",
    "    fig = go.Figure()\n",
    "\n",
    "    # Słupki dla średniej oceny\n",
    "    fig.add_trace(go.Bar(\n",
    "        x=df['Tag'],\n",
    "        y=df['Average Sentiment'],\n",
    "        name='Średnia ocena',\n",
    "        marker_color='#90CAF9',  # Łagodny pastelowy niebieski\n",
    "        yaxis='y1'\n",
    "    ))\n",
    "\n",
    "    # Linie i punkty dla średniej ceny\n",
    "    fig.add_trace(go.Scatter(\n",
    "        x=df['Tag'],\n",
    "        y=df['Average Price'],\n",
    "        name='Średnia cena',\n",
    "        mode='lines+markers',\n",
    "        marker=dict(color='red', size=10),\n",
    "        line=dict(width=2, dash='dot'),\n",
    "        yaxis='y2'\n",
    "    ))\n",
    "\n",
    "    # Konfiguracja osi Y\n",
    "    fig.update_layout(\n",
    "        title=title,\n",
    "        xaxis=dict(title='Tagi', tickangle=45),\n",
    "        yaxis=dict(\n",
    "            title='Średnia ocena',\n",
    "            titlefont=dict(color='#90CAF9'),  # Dopasowany kolor tytułu osi\n",
    "            tickfont=dict(color='#90CAF9'),\n",
    "        ),\n",
    "        yaxis2=dict(\n",
    "            title='Średnia cena (zł)',\n",
    "            titlefont=dict(color='red'),\n",
    "            tickfont=dict(color='red'),\n",
    "            overlaying='y',\n",
    "            side='right'\n",
    "        ),\n",
    "        legend=dict(x=0.5, y=1.1, orientation='h')\n",
    "    )\n",
    "\n",
    "    return fig\n",
    "\n",
    "# Przygotowanie wykresów dla najlepszych i najgorszych tagów\n",
    "fig_positive = create_dual_axis_chart(top_positive_tags, 'Tagi z najlepszymi ocenami (ważone liczbą recenzji)')\n",
    "fig_negative = create_dual_axis_chart(top_negative_tags, 'Tagi z najgorszymi ocenami (ważone liczbą recenzji)')\n",
    "\n",
    "# Wyświetlenie wykresów\n",
    "fig_positive.show()\n",
    "fig_negative.show()\n"
   ]
  },
  {
   "cell_type": "code",
   "execution_count": 32,
   "metadata": {},
   "outputs": [
    {
     "data": {
      "application/vnd.plotly.v1+json": {
       "config": {
        "plotlyServerURL": "https://plot.ly"
       },
       "data": [
        {
         "alignmentgroup": "True",
         "hovertemplate": "Tag=%{x}<br>Średnia liczba recenzji=%{y}<extra></extra>",
         "legendgroup": "",
         "marker": {
          "color": "#636efa",
          "pattern": {
           "shape": ""
          }
         },
         "name": "",
         "offsetgroup": "",
         "orientation": "v",
         "showlegend": false,
         "textposition": "auto",
         "type": "bar",
         "x": [
          "Battle royale",
          "Nagość",
          "Zespołowe",
          "Dedukcyjne towarzyskie",
          "Strzelanka z bohaterami",
          "PvE",
          "Free to Play",
          "Świetna ścieżka dźwiękowa",
          "Łamigłówki platformowe",
          "Krasnoludy",
          "Koty",
          "Czarny humor",
          "Strzelanka z łupami",
          "Sieciowa kooperacja",
          "Wieloosobowe",
          "Podwodne",
          "FPS",
          "Zombie",
          "Wojskowe",
          "Szybkie tempo"
         ],
         "xaxis": "x",
         "y": [
          976249,
          715753,
          325520,
          208300.66666666666,
          170943,
          166683.33333333334,
          155852.85714285713,
          150123.6,
          148579,
          148366,
          134727,
          126433,
          124573.33333333333,
          117669.64705882352,
          114013.72307692308,
          91219.75,
          90699.72131147541,
          87257.07692307692,
          83449.33333333333,
          81072.66666666667
         ],
         "yaxis": "y"
        }
       ],
       "layout": {
        "barmode": "relative",
        "legend": {
         "tracegroupgap": 0
        },
        "template": {
         "data": {
          "bar": [
           {
            "error_x": {
             "color": "#2a3f5f"
            },
            "error_y": {
             "color": "#2a3f5f"
            },
            "marker": {
             "line": {
              "color": "#E5ECF6",
              "width": 0.5
             },
             "pattern": {
              "fillmode": "overlay",
              "size": 10,
              "solidity": 0.2
             }
            },
            "type": "bar"
           }
          ],
          "barpolar": [
           {
            "marker": {
             "line": {
              "color": "#E5ECF6",
              "width": 0.5
             },
             "pattern": {
              "fillmode": "overlay",
              "size": 10,
              "solidity": 0.2
             }
            },
            "type": "barpolar"
           }
          ],
          "carpet": [
           {
            "aaxis": {
             "endlinecolor": "#2a3f5f",
             "gridcolor": "white",
             "linecolor": "white",
             "minorgridcolor": "white",
             "startlinecolor": "#2a3f5f"
            },
            "baxis": {
             "endlinecolor": "#2a3f5f",
             "gridcolor": "white",
             "linecolor": "white",
             "minorgridcolor": "white",
             "startlinecolor": "#2a3f5f"
            },
            "type": "carpet"
           }
          ],
          "choropleth": [
           {
            "colorbar": {
             "outlinewidth": 0,
             "ticks": ""
            },
            "type": "choropleth"
           }
          ],
          "contour": [
           {
            "colorbar": {
             "outlinewidth": 0,
             "ticks": ""
            },
            "colorscale": [
             [
              0,
              "#0d0887"
             ],
             [
              0.1111111111111111,
              "#46039f"
             ],
             [
              0.2222222222222222,
              "#7201a8"
             ],
             [
              0.3333333333333333,
              "#9c179e"
             ],
             [
              0.4444444444444444,
              "#bd3786"
             ],
             [
              0.5555555555555556,
              "#d8576b"
             ],
             [
              0.6666666666666666,
              "#ed7953"
             ],
             [
              0.7777777777777778,
              "#fb9f3a"
             ],
             [
              0.8888888888888888,
              "#fdca26"
             ],
             [
              1,
              "#f0f921"
             ]
            ],
            "type": "contour"
           }
          ],
          "contourcarpet": [
           {
            "colorbar": {
             "outlinewidth": 0,
             "ticks": ""
            },
            "type": "contourcarpet"
           }
          ],
          "heatmap": [
           {
            "colorbar": {
             "outlinewidth": 0,
             "ticks": ""
            },
            "colorscale": [
             [
              0,
              "#0d0887"
             ],
             [
              0.1111111111111111,
              "#46039f"
             ],
             [
              0.2222222222222222,
              "#7201a8"
             ],
             [
              0.3333333333333333,
              "#9c179e"
             ],
             [
              0.4444444444444444,
              "#bd3786"
             ],
             [
              0.5555555555555556,
              "#d8576b"
             ],
             [
              0.6666666666666666,
              "#ed7953"
             ],
             [
              0.7777777777777778,
              "#fb9f3a"
             ],
             [
              0.8888888888888888,
              "#fdca26"
             ],
             [
              1,
              "#f0f921"
             ]
            ],
            "type": "heatmap"
           }
          ],
          "heatmapgl": [
           {
            "colorbar": {
             "outlinewidth": 0,
             "ticks": ""
            },
            "colorscale": [
             [
              0,
              "#0d0887"
             ],
             [
              0.1111111111111111,
              "#46039f"
             ],
             [
              0.2222222222222222,
              "#7201a8"
             ],
             [
              0.3333333333333333,
              "#9c179e"
             ],
             [
              0.4444444444444444,
              "#bd3786"
             ],
             [
              0.5555555555555556,
              "#d8576b"
             ],
             [
              0.6666666666666666,
              "#ed7953"
             ],
             [
              0.7777777777777778,
              "#fb9f3a"
             ],
             [
              0.8888888888888888,
              "#fdca26"
             ],
             [
              1,
              "#f0f921"
             ]
            ],
            "type": "heatmapgl"
           }
          ],
          "histogram": [
           {
            "marker": {
             "pattern": {
              "fillmode": "overlay",
              "size": 10,
              "solidity": 0.2
             }
            },
            "type": "histogram"
           }
          ],
          "histogram2d": [
           {
            "colorbar": {
             "outlinewidth": 0,
             "ticks": ""
            },
            "colorscale": [
             [
              0,
              "#0d0887"
             ],
             [
              0.1111111111111111,
              "#46039f"
             ],
             [
              0.2222222222222222,
              "#7201a8"
             ],
             [
              0.3333333333333333,
              "#9c179e"
             ],
             [
              0.4444444444444444,
              "#bd3786"
             ],
             [
              0.5555555555555556,
              "#d8576b"
             ],
             [
              0.6666666666666666,
              "#ed7953"
             ],
             [
              0.7777777777777778,
              "#fb9f3a"
             ],
             [
              0.8888888888888888,
              "#fdca26"
             ],
             [
              1,
              "#f0f921"
             ]
            ],
            "type": "histogram2d"
           }
          ],
          "histogram2dcontour": [
           {
            "colorbar": {
             "outlinewidth": 0,
             "ticks": ""
            },
            "colorscale": [
             [
              0,
              "#0d0887"
             ],
             [
              0.1111111111111111,
              "#46039f"
             ],
             [
              0.2222222222222222,
              "#7201a8"
             ],
             [
              0.3333333333333333,
              "#9c179e"
             ],
             [
              0.4444444444444444,
              "#bd3786"
             ],
             [
              0.5555555555555556,
              "#d8576b"
             ],
             [
              0.6666666666666666,
              "#ed7953"
             ],
             [
              0.7777777777777778,
              "#fb9f3a"
             ],
             [
              0.8888888888888888,
              "#fdca26"
             ],
             [
              1,
              "#f0f921"
             ]
            ],
            "type": "histogram2dcontour"
           }
          ],
          "mesh3d": [
           {
            "colorbar": {
             "outlinewidth": 0,
             "ticks": ""
            },
            "type": "mesh3d"
           }
          ],
          "parcoords": [
           {
            "line": {
             "colorbar": {
              "outlinewidth": 0,
              "ticks": ""
             }
            },
            "type": "parcoords"
           }
          ],
          "pie": [
           {
            "automargin": true,
            "type": "pie"
           }
          ],
          "scatter": [
           {
            "fillpattern": {
             "fillmode": "overlay",
             "size": 10,
             "solidity": 0.2
            },
            "type": "scatter"
           }
          ],
          "scatter3d": [
           {
            "line": {
             "colorbar": {
              "outlinewidth": 0,
              "ticks": ""
             }
            },
            "marker": {
             "colorbar": {
              "outlinewidth": 0,
              "ticks": ""
             }
            },
            "type": "scatter3d"
           }
          ],
          "scattercarpet": [
           {
            "marker": {
             "colorbar": {
              "outlinewidth": 0,
              "ticks": ""
             }
            },
            "type": "scattercarpet"
           }
          ],
          "scattergeo": [
           {
            "marker": {
             "colorbar": {
              "outlinewidth": 0,
              "ticks": ""
             }
            },
            "type": "scattergeo"
           }
          ],
          "scattergl": [
           {
            "marker": {
             "colorbar": {
              "outlinewidth": 0,
              "ticks": ""
             }
            },
            "type": "scattergl"
           }
          ],
          "scattermapbox": [
           {
            "marker": {
             "colorbar": {
              "outlinewidth": 0,
              "ticks": ""
             }
            },
            "type": "scattermapbox"
           }
          ],
          "scatterpolar": [
           {
            "marker": {
             "colorbar": {
              "outlinewidth": 0,
              "ticks": ""
             }
            },
            "type": "scatterpolar"
           }
          ],
          "scatterpolargl": [
           {
            "marker": {
             "colorbar": {
              "outlinewidth": 0,
              "ticks": ""
             }
            },
            "type": "scatterpolargl"
           }
          ],
          "scatterternary": [
           {
            "marker": {
             "colorbar": {
              "outlinewidth": 0,
              "ticks": ""
             }
            },
            "type": "scatterternary"
           }
          ],
          "surface": [
           {
            "colorbar": {
             "outlinewidth": 0,
             "ticks": ""
            },
            "colorscale": [
             [
              0,
              "#0d0887"
             ],
             [
              0.1111111111111111,
              "#46039f"
             ],
             [
              0.2222222222222222,
              "#7201a8"
             ],
             [
              0.3333333333333333,
              "#9c179e"
             ],
             [
              0.4444444444444444,
              "#bd3786"
             ],
             [
              0.5555555555555556,
              "#d8576b"
             ],
             [
              0.6666666666666666,
              "#ed7953"
             ],
             [
              0.7777777777777778,
              "#fb9f3a"
             ],
             [
              0.8888888888888888,
              "#fdca26"
             ],
             [
              1,
              "#f0f921"
             ]
            ],
            "type": "surface"
           }
          ],
          "table": [
           {
            "cells": {
             "fill": {
              "color": "#EBF0F8"
             },
             "line": {
              "color": "white"
             }
            },
            "header": {
             "fill": {
              "color": "#C8D4E3"
             },
             "line": {
              "color": "white"
             }
            },
            "type": "table"
           }
          ]
         },
         "layout": {
          "annotationdefaults": {
           "arrowcolor": "#2a3f5f",
           "arrowhead": 0,
           "arrowwidth": 1
          },
          "autotypenumbers": "strict",
          "coloraxis": {
           "colorbar": {
            "outlinewidth": 0,
            "ticks": ""
           }
          },
          "colorscale": {
           "diverging": [
            [
             0,
             "#8e0152"
            ],
            [
             0.1,
             "#c51b7d"
            ],
            [
             0.2,
             "#de77ae"
            ],
            [
             0.3,
             "#f1b6da"
            ],
            [
             0.4,
             "#fde0ef"
            ],
            [
             0.5,
             "#f7f7f7"
            ],
            [
             0.6,
             "#e6f5d0"
            ],
            [
             0.7,
             "#b8e186"
            ],
            [
             0.8,
             "#7fbc41"
            ],
            [
             0.9,
             "#4d9221"
            ],
            [
             1,
             "#276419"
            ]
           ],
           "sequential": [
            [
             0,
             "#0d0887"
            ],
            [
             0.1111111111111111,
             "#46039f"
            ],
            [
             0.2222222222222222,
             "#7201a8"
            ],
            [
             0.3333333333333333,
             "#9c179e"
            ],
            [
             0.4444444444444444,
             "#bd3786"
            ],
            [
             0.5555555555555556,
             "#d8576b"
            ],
            [
             0.6666666666666666,
             "#ed7953"
            ],
            [
             0.7777777777777778,
             "#fb9f3a"
            ],
            [
             0.8888888888888888,
             "#fdca26"
            ],
            [
             1,
             "#f0f921"
            ]
           ],
           "sequentialminus": [
            [
             0,
             "#0d0887"
            ],
            [
             0.1111111111111111,
             "#46039f"
            ],
            [
             0.2222222222222222,
             "#7201a8"
            ],
            [
             0.3333333333333333,
             "#9c179e"
            ],
            [
             0.4444444444444444,
             "#bd3786"
            ],
            [
             0.5555555555555556,
             "#d8576b"
            ],
            [
             0.6666666666666666,
             "#ed7953"
            ],
            [
             0.7777777777777778,
             "#fb9f3a"
            ],
            [
             0.8888888888888888,
             "#fdca26"
            ],
            [
             1,
             "#f0f921"
            ]
           ]
          },
          "colorway": [
           "#636efa",
           "#EF553B",
           "#00cc96",
           "#ab63fa",
           "#FFA15A",
           "#19d3f3",
           "#FF6692",
           "#B6E880",
           "#FF97FF",
           "#FECB52"
          ],
          "font": {
           "color": "#2a3f5f"
          },
          "geo": {
           "bgcolor": "white",
           "lakecolor": "white",
           "landcolor": "#E5ECF6",
           "showlakes": true,
           "showland": true,
           "subunitcolor": "white"
          },
          "hoverlabel": {
           "align": "left"
          },
          "hovermode": "closest",
          "mapbox": {
           "style": "light"
          },
          "paper_bgcolor": "white",
          "plot_bgcolor": "#E5ECF6",
          "polar": {
           "angularaxis": {
            "gridcolor": "white",
            "linecolor": "white",
            "ticks": ""
           },
           "bgcolor": "#E5ECF6",
           "radialaxis": {
            "gridcolor": "white",
            "linecolor": "white",
            "ticks": ""
           }
          },
          "scene": {
           "xaxis": {
            "backgroundcolor": "#E5ECF6",
            "gridcolor": "white",
            "gridwidth": 2,
            "linecolor": "white",
            "showbackground": true,
            "ticks": "",
            "zerolinecolor": "white"
           },
           "yaxis": {
            "backgroundcolor": "#E5ECF6",
            "gridcolor": "white",
            "gridwidth": 2,
            "linecolor": "white",
            "showbackground": true,
            "ticks": "",
            "zerolinecolor": "white"
           },
           "zaxis": {
            "backgroundcolor": "#E5ECF6",
            "gridcolor": "white",
            "gridwidth": 2,
            "linecolor": "white",
            "showbackground": true,
            "ticks": "",
            "zerolinecolor": "white"
           }
          },
          "shapedefaults": {
           "line": {
            "color": "#2a3f5f"
           }
          },
          "ternary": {
           "aaxis": {
            "gridcolor": "white",
            "linecolor": "white",
            "ticks": ""
           },
           "baxis": {
            "gridcolor": "white",
            "linecolor": "white",
            "ticks": ""
           },
           "bgcolor": "#E5ECF6",
           "caxis": {
            "gridcolor": "white",
            "linecolor": "white",
            "ticks": ""
           }
          },
          "title": {
           "x": 0.05
          },
          "xaxis": {
           "automargin": true,
           "gridcolor": "white",
           "linecolor": "white",
           "ticks": "",
           "title": {
            "standoff": 15
           },
           "zerolinecolor": "white",
           "zerolinewidth": 2
          },
          "yaxis": {
           "automargin": true,
           "gridcolor": "white",
           "linecolor": "white",
           "ticks": "",
           "title": {
            "standoff": 15
           },
           "zerolinecolor": "white",
           "zerolinewidth": 2
          }
         }
        },
        "title": {
         "text": "Średnia liczba recenzji na najpopularniejsze tagi"
        },
        "xaxis": {
         "anchor": "y",
         "domain": [
          0,
          1
         ],
         "tickangle": 45,
         "title": {
          "text": "Tag"
         }
        },
        "yaxis": {
         "anchor": "x",
         "domain": [
          0,
          1
         ],
         "title": {
          "text": "Średnia liczba recenzji"
         }
        }
       }
      }
     },
     "metadata": {},
     "output_type": "display_data"
    }
   ],
   "source": [
    "def avg_reviews_per_tag(df, top_n=20):\n",
    "    tags = df['Tagi'].apply(lambda x: x.split(', '))\n",
    "    tag_reviews = Counter()\n",
    "    tag_counts = Counter()\n",
    "\n",
    "    for idx, tag_list in enumerate(tags):\n",
    "        for tag in tag_list:\n",
    "            tag_reviews[tag] += df.iloc[idx]['Liczba recenzji']\n",
    "            tag_counts[tag] += 1\n",
    "\n",
    "    avg_reviews = {tag: tag_reviews[tag] / tag_counts[tag] for tag in tag_counts}\n",
    "    avg_reviews_df = pd.DataFrame(list(avg_reviews.items()), columns=['Tag', 'Average Reviews'])\n",
    "    return avg_reviews_df.nlargest(top_n, 'Average Reviews')\n",
    "\n",
    "# Analiza\n",
    "tag_avg_reviews_df = avg_reviews_per_tag(df)\n",
    "\n",
    "# Wizualizacja\n",
    "fig = px.bar(tag_avg_reviews_df, x='Tag', y='Average Reviews',\n",
    "             title='Średnia liczba recenzji na najpopularniejsze tagi',\n",
    "             labels={'Average Reviews': 'Średnia liczba recenzji'})\n",
    "fig.update_layout(xaxis_tickangle=45)\n",
    "fig.show()\n"
   ]
  },
  {
   "cell_type": "code",
   "execution_count": 33,
   "metadata": {},
   "outputs": [
    {
     "data": {
      "application/vnd.plotly.v1+json": {
       "config": {
        "plotlyServerURL": "https://plot.ly"
       },
       "data": [
        {
         "alignmentgroup": "True",
         "hovertemplate": "Tag=%{x}<br>Średnia cena=%{y}<extra></extra>",
         "legendgroup": "",
         "marker": {
          "color": "#636efa",
          "pattern": {
           "shape": ""
          }
         },
         "name": "",
         "offsetgroup": "",
         "orientation": "v",
         "showlegend": false,
         "textposition": "auto",
         "type": "bar",
         "x": [
          "Gospodarka",
          "Nagość",
          "Mystery dungeon",
          "Czarna komedia",
          "Skrytobójca",
          "Wojskowe",
          "Muzyczne",
          "Sześciokątna siatka",
          "Filozoficzne",
          "Trudne",
          "RPG akcji",
          "Zły protagonista",
          "Latanie",
          "Mroczne fantasy",
          "Strzelanka ewakuacyjna",
          "Narracja",
          "Transhumanizm",
          "Przygodowe akcji",
          "Walka turowa",
          "Symulator życia"
         ],
         "xaxis": "x",
         "y": [
          199.99,
          199,
          199,
          169.9,
          159.9,
          147.76,
          138.99,
          138.99,
          138.99,
          138.65666666666667,
          132.54777777777778,
          124.99,
          121.99000000000001,
          120.55250000000001,
          120.1,
          118.3,
          118.14,
          116.13066666666667,
          113.37333333333333,
          112.65666666666668
         ],
         "yaxis": "y"
        }
       ],
       "layout": {
        "barmode": "relative",
        "legend": {
         "tracegroupgap": 0
        },
        "template": {
         "data": {
          "bar": [
           {
            "error_x": {
             "color": "#2a3f5f"
            },
            "error_y": {
             "color": "#2a3f5f"
            },
            "marker": {
             "line": {
              "color": "#E5ECF6",
              "width": 0.5
             },
             "pattern": {
              "fillmode": "overlay",
              "size": 10,
              "solidity": 0.2
             }
            },
            "type": "bar"
           }
          ],
          "barpolar": [
           {
            "marker": {
             "line": {
              "color": "#E5ECF6",
              "width": 0.5
             },
             "pattern": {
              "fillmode": "overlay",
              "size": 10,
              "solidity": 0.2
             }
            },
            "type": "barpolar"
           }
          ],
          "carpet": [
           {
            "aaxis": {
             "endlinecolor": "#2a3f5f",
             "gridcolor": "white",
             "linecolor": "white",
             "minorgridcolor": "white",
             "startlinecolor": "#2a3f5f"
            },
            "baxis": {
             "endlinecolor": "#2a3f5f",
             "gridcolor": "white",
             "linecolor": "white",
             "minorgridcolor": "white",
             "startlinecolor": "#2a3f5f"
            },
            "type": "carpet"
           }
          ],
          "choropleth": [
           {
            "colorbar": {
             "outlinewidth": 0,
             "ticks": ""
            },
            "type": "choropleth"
           }
          ],
          "contour": [
           {
            "colorbar": {
             "outlinewidth": 0,
             "ticks": ""
            },
            "colorscale": [
             [
              0,
              "#0d0887"
             ],
             [
              0.1111111111111111,
              "#46039f"
             ],
             [
              0.2222222222222222,
              "#7201a8"
             ],
             [
              0.3333333333333333,
              "#9c179e"
             ],
             [
              0.4444444444444444,
              "#bd3786"
             ],
             [
              0.5555555555555556,
              "#d8576b"
             ],
             [
              0.6666666666666666,
              "#ed7953"
             ],
             [
              0.7777777777777778,
              "#fb9f3a"
             ],
             [
              0.8888888888888888,
              "#fdca26"
             ],
             [
              1,
              "#f0f921"
             ]
            ],
            "type": "contour"
           }
          ],
          "contourcarpet": [
           {
            "colorbar": {
             "outlinewidth": 0,
             "ticks": ""
            },
            "type": "contourcarpet"
           }
          ],
          "heatmap": [
           {
            "colorbar": {
             "outlinewidth": 0,
             "ticks": ""
            },
            "colorscale": [
             [
              0,
              "#0d0887"
             ],
             [
              0.1111111111111111,
              "#46039f"
             ],
             [
              0.2222222222222222,
              "#7201a8"
             ],
             [
              0.3333333333333333,
              "#9c179e"
             ],
             [
              0.4444444444444444,
              "#bd3786"
             ],
             [
              0.5555555555555556,
              "#d8576b"
             ],
             [
              0.6666666666666666,
              "#ed7953"
             ],
             [
              0.7777777777777778,
              "#fb9f3a"
             ],
             [
              0.8888888888888888,
              "#fdca26"
             ],
             [
              1,
              "#f0f921"
             ]
            ],
            "type": "heatmap"
           }
          ],
          "heatmapgl": [
           {
            "colorbar": {
             "outlinewidth": 0,
             "ticks": ""
            },
            "colorscale": [
             [
              0,
              "#0d0887"
             ],
             [
              0.1111111111111111,
              "#46039f"
             ],
             [
              0.2222222222222222,
              "#7201a8"
             ],
             [
              0.3333333333333333,
              "#9c179e"
             ],
             [
              0.4444444444444444,
              "#bd3786"
             ],
             [
              0.5555555555555556,
              "#d8576b"
             ],
             [
              0.6666666666666666,
              "#ed7953"
             ],
             [
              0.7777777777777778,
              "#fb9f3a"
             ],
             [
              0.8888888888888888,
              "#fdca26"
             ],
             [
              1,
              "#f0f921"
             ]
            ],
            "type": "heatmapgl"
           }
          ],
          "histogram": [
           {
            "marker": {
             "pattern": {
              "fillmode": "overlay",
              "size": 10,
              "solidity": 0.2
             }
            },
            "type": "histogram"
           }
          ],
          "histogram2d": [
           {
            "colorbar": {
             "outlinewidth": 0,
             "ticks": ""
            },
            "colorscale": [
             [
              0,
              "#0d0887"
             ],
             [
              0.1111111111111111,
              "#46039f"
             ],
             [
              0.2222222222222222,
              "#7201a8"
             ],
             [
              0.3333333333333333,
              "#9c179e"
             ],
             [
              0.4444444444444444,
              "#bd3786"
             ],
             [
              0.5555555555555556,
              "#d8576b"
             ],
             [
              0.6666666666666666,
              "#ed7953"
             ],
             [
              0.7777777777777778,
              "#fb9f3a"
             ],
             [
              0.8888888888888888,
              "#fdca26"
             ],
             [
              1,
              "#f0f921"
             ]
            ],
            "type": "histogram2d"
           }
          ],
          "histogram2dcontour": [
           {
            "colorbar": {
             "outlinewidth": 0,
             "ticks": ""
            },
            "colorscale": [
             [
              0,
              "#0d0887"
             ],
             [
              0.1111111111111111,
              "#46039f"
             ],
             [
              0.2222222222222222,
              "#7201a8"
             ],
             [
              0.3333333333333333,
              "#9c179e"
             ],
             [
              0.4444444444444444,
              "#bd3786"
             ],
             [
              0.5555555555555556,
              "#d8576b"
             ],
             [
              0.6666666666666666,
              "#ed7953"
             ],
             [
              0.7777777777777778,
              "#fb9f3a"
             ],
             [
              0.8888888888888888,
              "#fdca26"
             ],
             [
              1,
              "#f0f921"
             ]
            ],
            "type": "histogram2dcontour"
           }
          ],
          "mesh3d": [
           {
            "colorbar": {
             "outlinewidth": 0,
             "ticks": ""
            },
            "type": "mesh3d"
           }
          ],
          "parcoords": [
           {
            "line": {
             "colorbar": {
              "outlinewidth": 0,
              "ticks": ""
             }
            },
            "type": "parcoords"
           }
          ],
          "pie": [
           {
            "automargin": true,
            "type": "pie"
           }
          ],
          "scatter": [
           {
            "fillpattern": {
             "fillmode": "overlay",
             "size": 10,
             "solidity": 0.2
            },
            "type": "scatter"
           }
          ],
          "scatter3d": [
           {
            "line": {
             "colorbar": {
              "outlinewidth": 0,
              "ticks": ""
             }
            },
            "marker": {
             "colorbar": {
              "outlinewidth": 0,
              "ticks": ""
             }
            },
            "type": "scatter3d"
           }
          ],
          "scattercarpet": [
           {
            "marker": {
             "colorbar": {
              "outlinewidth": 0,
              "ticks": ""
             }
            },
            "type": "scattercarpet"
           }
          ],
          "scattergeo": [
           {
            "marker": {
             "colorbar": {
              "outlinewidth": 0,
              "ticks": ""
             }
            },
            "type": "scattergeo"
           }
          ],
          "scattergl": [
           {
            "marker": {
             "colorbar": {
              "outlinewidth": 0,
              "ticks": ""
             }
            },
            "type": "scattergl"
           }
          ],
          "scattermapbox": [
           {
            "marker": {
             "colorbar": {
              "outlinewidth": 0,
              "ticks": ""
             }
            },
            "type": "scattermapbox"
           }
          ],
          "scatterpolar": [
           {
            "marker": {
             "colorbar": {
              "outlinewidth": 0,
              "ticks": ""
             }
            },
            "type": "scatterpolar"
           }
          ],
          "scatterpolargl": [
           {
            "marker": {
             "colorbar": {
              "outlinewidth": 0,
              "ticks": ""
             }
            },
            "type": "scatterpolargl"
           }
          ],
          "scatterternary": [
           {
            "marker": {
             "colorbar": {
              "outlinewidth": 0,
              "ticks": ""
             }
            },
            "type": "scatterternary"
           }
          ],
          "surface": [
           {
            "colorbar": {
             "outlinewidth": 0,
             "ticks": ""
            },
            "colorscale": [
             [
              0,
              "#0d0887"
             ],
             [
              0.1111111111111111,
              "#46039f"
             ],
             [
              0.2222222222222222,
              "#7201a8"
             ],
             [
              0.3333333333333333,
              "#9c179e"
             ],
             [
              0.4444444444444444,
              "#bd3786"
             ],
             [
              0.5555555555555556,
              "#d8576b"
             ],
             [
              0.6666666666666666,
              "#ed7953"
             ],
             [
              0.7777777777777778,
              "#fb9f3a"
             ],
             [
              0.8888888888888888,
              "#fdca26"
             ],
             [
              1,
              "#f0f921"
             ]
            ],
            "type": "surface"
           }
          ],
          "table": [
           {
            "cells": {
             "fill": {
              "color": "#EBF0F8"
             },
             "line": {
              "color": "white"
             }
            },
            "header": {
             "fill": {
              "color": "#C8D4E3"
             },
             "line": {
              "color": "white"
             }
            },
            "type": "table"
           }
          ]
         },
         "layout": {
          "annotationdefaults": {
           "arrowcolor": "#2a3f5f",
           "arrowhead": 0,
           "arrowwidth": 1
          },
          "autotypenumbers": "strict",
          "coloraxis": {
           "colorbar": {
            "outlinewidth": 0,
            "ticks": ""
           }
          },
          "colorscale": {
           "diverging": [
            [
             0,
             "#8e0152"
            ],
            [
             0.1,
             "#c51b7d"
            ],
            [
             0.2,
             "#de77ae"
            ],
            [
             0.3,
             "#f1b6da"
            ],
            [
             0.4,
             "#fde0ef"
            ],
            [
             0.5,
             "#f7f7f7"
            ],
            [
             0.6,
             "#e6f5d0"
            ],
            [
             0.7,
             "#b8e186"
            ],
            [
             0.8,
             "#7fbc41"
            ],
            [
             0.9,
             "#4d9221"
            ],
            [
             1,
             "#276419"
            ]
           ],
           "sequential": [
            [
             0,
             "#0d0887"
            ],
            [
             0.1111111111111111,
             "#46039f"
            ],
            [
             0.2222222222222222,
             "#7201a8"
            ],
            [
             0.3333333333333333,
             "#9c179e"
            ],
            [
             0.4444444444444444,
             "#bd3786"
            ],
            [
             0.5555555555555556,
             "#d8576b"
            ],
            [
             0.6666666666666666,
             "#ed7953"
            ],
            [
             0.7777777777777778,
             "#fb9f3a"
            ],
            [
             0.8888888888888888,
             "#fdca26"
            ],
            [
             1,
             "#f0f921"
            ]
           ],
           "sequentialminus": [
            [
             0,
             "#0d0887"
            ],
            [
             0.1111111111111111,
             "#46039f"
            ],
            [
             0.2222222222222222,
             "#7201a8"
            ],
            [
             0.3333333333333333,
             "#9c179e"
            ],
            [
             0.4444444444444444,
             "#bd3786"
            ],
            [
             0.5555555555555556,
             "#d8576b"
            ],
            [
             0.6666666666666666,
             "#ed7953"
            ],
            [
             0.7777777777777778,
             "#fb9f3a"
            ],
            [
             0.8888888888888888,
             "#fdca26"
            ],
            [
             1,
             "#f0f921"
            ]
           ]
          },
          "colorway": [
           "#636efa",
           "#EF553B",
           "#00cc96",
           "#ab63fa",
           "#FFA15A",
           "#19d3f3",
           "#FF6692",
           "#B6E880",
           "#FF97FF",
           "#FECB52"
          ],
          "font": {
           "color": "#2a3f5f"
          },
          "geo": {
           "bgcolor": "white",
           "lakecolor": "white",
           "landcolor": "#E5ECF6",
           "showlakes": true,
           "showland": true,
           "subunitcolor": "white"
          },
          "hoverlabel": {
           "align": "left"
          },
          "hovermode": "closest",
          "mapbox": {
           "style": "light"
          },
          "paper_bgcolor": "white",
          "plot_bgcolor": "#E5ECF6",
          "polar": {
           "angularaxis": {
            "gridcolor": "white",
            "linecolor": "white",
            "ticks": ""
           },
           "bgcolor": "#E5ECF6",
           "radialaxis": {
            "gridcolor": "white",
            "linecolor": "white",
            "ticks": ""
           }
          },
          "scene": {
           "xaxis": {
            "backgroundcolor": "#E5ECF6",
            "gridcolor": "white",
            "gridwidth": 2,
            "linecolor": "white",
            "showbackground": true,
            "ticks": "",
            "zerolinecolor": "white"
           },
           "yaxis": {
            "backgroundcolor": "#E5ECF6",
            "gridcolor": "white",
            "gridwidth": 2,
            "linecolor": "white",
            "showbackground": true,
            "ticks": "",
            "zerolinecolor": "white"
           },
           "zaxis": {
            "backgroundcolor": "#E5ECF6",
            "gridcolor": "white",
            "gridwidth": 2,
            "linecolor": "white",
            "showbackground": true,
            "ticks": "",
            "zerolinecolor": "white"
           }
          },
          "shapedefaults": {
           "line": {
            "color": "#2a3f5f"
           }
          },
          "ternary": {
           "aaxis": {
            "gridcolor": "white",
            "linecolor": "white",
            "ticks": ""
           },
           "baxis": {
            "gridcolor": "white",
            "linecolor": "white",
            "ticks": ""
           },
           "bgcolor": "#E5ECF6",
           "caxis": {
            "gridcolor": "white",
            "linecolor": "white",
            "ticks": ""
           }
          },
          "title": {
           "x": 0.05
          },
          "xaxis": {
           "automargin": true,
           "gridcolor": "white",
           "linecolor": "white",
           "ticks": "",
           "title": {
            "standoff": 15
           },
           "zerolinecolor": "white",
           "zerolinewidth": 2
          },
          "yaxis": {
           "automargin": true,
           "gridcolor": "white",
           "linecolor": "white",
           "ticks": "",
           "title": {
            "standoff": 15
           },
           "zerolinecolor": "white",
           "zerolinewidth": 2
          }
         }
        },
        "title": {
         "text": "Średnia cena dla najdroższych tagów"
        },
        "xaxis": {
         "anchor": "y",
         "domain": [
          0,
          1
         ],
         "tickangle": 45,
         "title": {
          "text": "Tag"
         }
        },
        "yaxis": {
         "anchor": "x",
         "domain": [
          0,
          1
         ],
         "title": {
          "text": "Średnia cena"
         }
        }
       }
      }
     },
     "metadata": {},
     "output_type": "display_data"
    }
   ],
   "source": [
    "def avg_price_per_tag(df, top_n=20):\n",
    "    tags = df['Tagi'].apply(lambda x: x.split(', '))\n",
    "    tag_prices = Counter()\n",
    "    tag_counts = Counter()\n",
    "\n",
    "    for idx, tag_list in enumerate(tags):\n",
    "        for tag in tag_list:\n",
    "            tag_prices[tag] += df.iloc[idx]['Cena']\n",
    "            tag_counts[tag] += 1\n",
    "\n",
    "    avg_prices = {tag: tag_prices[tag] / tag_counts[tag] for tag in tag_counts}\n",
    "    avg_prices_df = pd.DataFrame(list(avg_prices.items()), columns=['Tag', 'Average Price'])\n",
    "    return avg_prices_df.nlargest(top_n, 'Average Price')\n",
    "\n",
    "# Analiza\n",
    "tag_avg_price_df = avg_price_per_tag(df)\n",
    "\n",
    "# Wizualizacja\n",
    "fig = px.bar(tag_avg_price_df, x='Tag', y='Average Price',\n",
    "             title='Średnia cena dla najdroższych tagów',\n",
    "             labels={'Average Price': 'Średnia cena'})\n",
    "fig.update_layout(xaxis_tickangle=45)\n",
    "fig.show()\n"
   ]
  },
  {
   "cell_type": "code",
   "execution_count": 74,
   "metadata": {},
   "outputs": [
    {
     "ename": "ValueError",
     "evalue": "Value of 'x' is not the name of a column in 'data_frame'. Expected one of ['Tytuł', 'Tagi', 'Cena', 'Data wydania', 'Nacechowanie recenzji', 'Liczba recenzji', 'Tag_2,5D', 'Tag_2D', 'Tag_3D', 'Tag_4X', 'Tag_Akcja', 'Tag_Anime', 'Tag_Autobitewniak', 'Tag_Automatyzacja', 'Tag_Battle royale', \"Tag_Beat 'em up\", 'Tag_Bijatyka', 'Tag_Bijatyka 2D', 'Tag_Bogata fabuła', 'Tag_Bogate uniwersum', 'Tag_Brutalność', 'Tag_Budowanie', 'Tag_Budowanie bazy', 'Tag_Budowanie miasta', 'Tag_Bullet hell', 'Tag_Bullet time', 'Tag_CRPG', 'Tag_Cyberpunk', 'Tag_Czarna komedia', 'Tag_Czarny humor', 'Tag_Czas rzeczywisty', 'Tag_Czas rzeczywisty z pauzą', 'Tag_Dedukcyjne towarzyskie', 'Tag_Demony', 'Tag_Destrukcja', 'Tag_Detektywistyczne', 'Tag_Dinozaury', 'Tag_Dostosowywanie broni palnej', 'Tag_Dostosowywanie postaci', 'Tag_Drużynowe RPG', 'Tag_Dungeon crawler', 'Tag_Dyplomacja', 'Tag_Dystopijne', 'Tag_Dzielony ekran', 'Tag_E-sport', 'Tag_Edukacyjne', 'Tag_Edytor poziomów', 'Tag_Eksperymentalne', 'Tag_Eksploracja', 'Tag_Escape room', 'Tag_FMV', 'Tag_FPS', 'Tag_Familijne', 'Tag_Fantasy', 'Tag_Fikcja interaktywna', 'Tag_Filmowe', 'Tag_Filozoficzne', 'Tag_Fizyka', 'Tag_Free to Play', 'Tag_Futurystyczne', 'Tag_Generacja proceduralna', 'Tag_Gospodarka', 'Tag_Gotowanie', 'Tag_Gra karciana', 'Tag_Gra planszowa', 'Tag_Gra słowna', 'Tag_Gra w boga', 'Tag_Gry na punkty', 'Tag_Górnictwo', 'Tag_Hack and slash', 'Tag_Hakowanie', 'Tag_Historia alternatywna', 'Tag_Horror', 'Tag_Horror psychologiczny', 'Tag_Idlery', 'Tag_Inspirowane Lovecraftem', 'Tag_Izometryczne', 'Tag_JRPG', 'Tag_Jednoosobowe', 'Tag_Kapitalizm', 'Tag_Karciany bitewniak', 'Tag_Kierowanie pojazdem', 'Tag_Klasyczne', 'Tag_Kliker', 'Tag_Klimatyczne', 'Tag_Kolorowe', 'Tag_Komediowe', 'Tag_Komiks', 'Tag_Kooperacja', 'Tag_Kosmici', 'Tag_Kosmos', 'Tag_Koty', 'Tag_Kości do gry', 'Tag_Krasnoludy', 'Tag_Kreskówkowe', 'Tag_Krew', 'Tag_Kultowa klasyka', 'Tag_LEGO', 'Tag_LGBTQ+', 'Tag_Lata 80.', 'Tag_Lata 90.', 'Tag_Latanie', 'Tag_Logiczne', 'Tag_Lokalna kooperacja', 'Tag_MMO', 'Tag_MMORPG', 'Tag_Manipulacja czasem', 'Tag_Mars', 'Tag_Mechy', 'Tag_Metroidvania', 'Tag_Minigry', 'Tag_Minimalistyczne', 'Tag_Modyfikowalne', 'Tag_Morskie', 'Tag_Mroczne', 'Tag_Mroczne fantasy', 'Tag_Muzyczne', 'Tag_Nagość', 'Tag_Narracja', 'Tag_Narracyjne', 'Tag_Natura', 'Tag_Nauka', 'Tag_Nieliniowe', 'Tag_Niezależne', 'Tag_Ninja', 'Tag_Noir', 'Tag_Odcinkowe', 'Tag_Odrzutowce', 'Tag_Okręty podwodne', 'Tag_Otwarty świat', 'Tag_Parkour', 'Tag_Pasjans', 'Tag_Perspektywa pierwszej osoby', 'Tag_Perspektywa trzeciej osoby', 'Tag_Piaskownica', 'Tag_Pikselowa grafika', 'Tag_Platformowe', 'Tag_Platformowe 2D', 'Tag_Platformowe 3D', 'Tag_Podróż w czasie', 'Tag_Podwodne', 'Tag_Polityczne', 'Tag_Polityka', 'Tag_Poruszające', 'Tag_Postapokaliptyczne', 'Tag_Powieść wizualna', 'Tag_Pozytywne', 'Tag_Precyzyjne platformowe', 'Tag_Programowanie', 'Tag_Przemoc', 'Tag_Przestępczość', 'Tag_Przygodowe', 'Tag_Przygodowe akcji', 'Tag_Psychodeliczne', 'Tag_Psychologiczne', 'Tag_PvE', 'Tag_PvP', 'Tag_RPG', 'Tag_RPG akcji', 'Tag_RPGMaker', 'Tag_RTS', 'Tag_RTS akcji', 'Tag_Realistyczne', 'Tag_Regrywalność', 'Tag_Rekreacyjne', 'Tag_Relaksujące', 'Tag_Remake', 'Tag_Retro', 'Tag_Roboty', 'Tag_Roguelike', 'Tag_Roguelike akcji', 'Tag_Roguelike z tworzeniem talii', 'Tag_Roguelite', 'Tag_Romans', 'Tag_Rozgrywane na stole', 'Tag_Rozmowa', 'Tag_Rytmiczne', 'Tag_Rywalizacja', 'Tag_Ręcznie rysowane', 'Tag_Science fiction', \"Tag_Shoot 'em up\", 'Tag_Side-scroller', 'Tag_Sieciowa kooperacja', 'Tag_Skradanie', 'Tag_Skrytobójca', 'Tag_Souls-like', 'Tag_Spisek', 'Tag_Statki kosmiczne', 'Tag_Steampunk', 'Tag_Strategiczne', 'Tag_Strategiczne RPG', 'Tag_Strategiczne globalne', 'Tag_Strategiczne turowe', 'Tag_Strzelanka', 'Tag_Strzelanka arenowa', 'Tag_Strzelanka ewakuacyjna', 'Tag_Strzelanka na dwa drążki', 'Tag_Strzelanka w dawnym stylu', 'Tag_Strzelanka z bohaterami', 'Tag_Strzelanka z perspektywą trzeciej osoby', 'Tag_Strzelanka z widokiem z góry', 'Tag_Strzelanka z łupami', 'Tag_Stylizowane', 'Tag_Superbohater', 'Tag_Surrealistyczne', 'Tag_Survival', 'Tag_Survival horror', 'Tag_Survivalowe w otwartym świecie', 'Tag_Symulator chodzenia', 'Tag_Symulator farmy', 'Tag_Symulator katastroficzny', 'Tag_Symulator kolonizacji', 'Tag_Symulator kosmiczny', 'Tag_Symulator polityczny', 'Tag_Symulator randkowania', 'Tag_Symulator samochodowy', 'Tag_Symulator życia', 'Tag_Symulatory', 'Tag_Sztuki walki', 'Tag_Szybkie tempo', 'Tag_Tajemnicze', 'Tag_Taktyczne', 'Tag_Taktyczne RPG', 'Tag_Taktyczne turowe', 'Tag_Taktyka w czasie rzeczywistym', 'Tag_Thriller', 'Tag_Tower defense', 'Tag_Tradycyjne roguelike', 'Tag_Transhumanizm', 'Tag_Transport', 'Tag_Treści seksualne', 'Tag_Trudne', 'Tag_Trwała śmierć', 'Tag_Turowe', 'Tag_Tworzenie talii', 'Tag_Ukryte przedmioty', 'Tag_Urocze', 'Tag_VR', 'Tag_Walka', 'Tag_Walka morska', 'Tag_Walka na miecze', 'Tag_Walka pojazdami', 'Tag_Walka turowa', 'Tag_Warhammer 40K', 'Tag_Wciągający symulator', 'Tag_Wczesny dostęp', 'Tag_Widok z góry', 'Tag_Widowiskowa bijatyka', 'Tag_Wiele zakończeń', 'Tag_Wieloosobowe', 'Tag_Wojenne', 'Tag_Wojna', 'Tag_Wojskowe', 'Tag_Wskaż i kliknij', 'Tag_Wybierz własną przygodę', 'Tag_Wytwarzanie', 'Tag_Wyścigi z walką', 'Tag_Wyścigowe', 'Tag_Zabawne', 'Tag_Zarządzanie', 'Tag_Zarządzanie czasem', 'Tag_Zarządzanie zasobami', 'Tag_Zbieranie stworów', 'Tag_Zespołowe', 'Tag_Znaczące wybory', 'Tag_Zombie', 'Tag_Zręcznościowe', 'Tag_Zły protagonista', 'Tag_Łamigłówki', 'Tag_Łamigłówki platformowe', 'Tag_Łupy', 'Tag_Śledztwo', 'Tag_Świetna ścieżka dźwiękowa', 'Tag_Żeńska postać w roli głównej', 'sentiment_score', 'Rok wydania', 'Recenzje_grupa'] but received: tag_count",
     "output_type": "error",
     "traceback": [
      "\u001b[1;31m---------------------------------------------------------------------------\u001b[0m",
      "\u001b[1;31mValueError\u001b[0m                                Traceback (most recent call last)",
      "Input \u001b[1;32mIn [74]\u001b[0m, in \u001b[0;36m<cell line: 1>\u001b[1;34m()\u001b[0m\n\u001b[1;32m----> 1\u001b[0m fig \u001b[38;5;241m=\u001b[39m \u001b[43mpx\u001b[49m\u001b[38;5;241;43m.\u001b[39;49m\u001b[43mbox\u001b[49m\u001b[43m(\u001b[49m\u001b[43mdf\u001b[49m\u001b[43m,\u001b[49m\u001b[43m \u001b[49m\u001b[43mx\u001b[49m\u001b[38;5;241;43m=\u001b[39;49m\u001b[38;5;124;43m'\u001b[39;49m\u001b[38;5;124;43mtag_count\u001b[39;49m\u001b[38;5;124;43m'\u001b[39;49m\u001b[43m,\u001b[49m\u001b[43m \u001b[49m\u001b[43my\u001b[49m\u001b[38;5;241;43m=\u001b[39;49m\u001b[38;5;124;43m'\u001b[39;49m\u001b[38;5;124;43mCena\u001b[39;49m\u001b[38;5;124;43m'\u001b[39;49m\u001b[43m,\u001b[49m\u001b[43m \u001b[49m\u001b[43mtitle\u001b[49m\u001b[38;5;241;43m=\u001b[39;49m\u001b[38;5;124;43m'\u001b[39;49m\u001b[38;5;124;43mRozkład cen w zależności od liczby tagów\u001b[39;49m\u001b[38;5;124;43m'\u001b[39;49m\u001b[43m,\u001b[49m\u001b[43m \u001b[49m\u001b[43mlabels\u001b[49m\u001b[38;5;241;43m=\u001b[39;49m\u001b[43m{\u001b[49m\u001b[38;5;124;43m'\u001b[39;49m\u001b[38;5;124;43mtag_count\u001b[39;49m\u001b[38;5;124;43m'\u001b[39;49m\u001b[43m:\u001b[49m\u001b[43m \u001b[49m\u001b[38;5;124;43m'\u001b[39;49m\u001b[38;5;124;43mLiczba tagów\u001b[39;49m\u001b[38;5;124;43m'\u001b[39;49m\u001b[43m,\u001b[49m\u001b[43m \u001b[49m\u001b[38;5;124;43m'\u001b[39;49m\u001b[38;5;124;43mCena\u001b[39;49m\u001b[38;5;124;43m'\u001b[39;49m\u001b[43m:\u001b[49m\u001b[43m \u001b[49m\u001b[38;5;124;43m'\u001b[39;49m\u001b[38;5;124;43mCena (zł)\u001b[39;49m\u001b[38;5;124;43m'\u001b[39;49m\u001b[43m}\u001b[49m\u001b[43m)\u001b[49m\n\u001b[0;32m      2\u001b[0m fig\u001b[38;5;241m.\u001b[39mshow()\n",
      "File \u001b[1;32mc:\\Users\\awodz\\AppData\\Local\\Programs\\Python\\Python310\\lib\\site-packages\\plotly\\express\\_chart_types.py:666\u001b[0m, in \u001b[0;36mbox\u001b[1;34m(data_frame, x, y, color, facet_row, facet_col, facet_col_wrap, facet_row_spacing, facet_col_spacing, hover_name, hover_data, custom_data, animation_frame, animation_group, category_orders, labels, color_discrete_sequence, color_discrete_map, orientation, boxmode, log_x, log_y, range_x, range_y, points, notched, title, template, width, height)\u001b[0m\n\u001b[0;32m    625\u001b[0m \u001b[38;5;28;01mdef\u001b[39;00m \u001b[38;5;21mbox\u001b[39m(\n\u001b[0;32m    626\u001b[0m     data_frame\u001b[38;5;241m=\u001b[39m\u001b[38;5;28;01mNone\u001b[39;00m,\n\u001b[0;32m    627\u001b[0m     x\u001b[38;5;241m=\u001b[39m\u001b[38;5;28;01mNone\u001b[39;00m,\n\u001b[1;32m   (...)\u001b[0m\n\u001b[0;32m    655\u001b[0m     height\u001b[38;5;241m=\u001b[39m\u001b[38;5;28;01mNone\u001b[39;00m,\n\u001b[0;32m    656\u001b[0m ) \u001b[38;5;241m-\u001b[39m\u001b[38;5;241m>\u001b[39m go\u001b[38;5;241m.\u001b[39mFigure:\n\u001b[0;32m    657\u001b[0m \u001b[38;5;250m    \u001b[39m\u001b[38;5;124;03m\"\"\"\u001b[39;00m\n\u001b[0;32m    658\u001b[0m \u001b[38;5;124;03m    In a box plot, rows of `data_frame` are grouped together into a\u001b[39;00m\n\u001b[0;32m    659\u001b[0m \u001b[38;5;124;03m    box-and-whisker mark to visualize their distribution.\u001b[39;00m\n\u001b[1;32m   (...)\u001b[0m\n\u001b[0;32m    664\u001b[0m \u001b[38;5;124;03m    range (IQR: Q3-Q1), see \"points\" for other options.\u001b[39;00m\n\u001b[0;32m    665\u001b[0m \u001b[38;5;124;03m    \"\"\"\u001b[39;00m\n\u001b[1;32m--> 666\u001b[0m     \u001b[38;5;28;01mreturn\u001b[39;00m \u001b[43mmake_figure\u001b[49m\u001b[43m(\u001b[49m\n\u001b[0;32m    667\u001b[0m \u001b[43m        \u001b[49m\u001b[43margs\u001b[49m\u001b[38;5;241;43m=\u001b[39;49m\u001b[38;5;28;43mlocals\u001b[39;49m\u001b[43m(\u001b[49m\u001b[43m)\u001b[49m\u001b[43m,\u001b[49m\n\u001b[0;32m    668\u001b[0m \u001b[43m        \u001b[49m\u001b[43mconstructor\u001b[49m\u001b[38;5;241;43m=\u001b[39;49m\u001b[43mgo\u001b[49m\u001b[38;5;241;43m.\u001b[39;49m\u001b[43mBox\u001b[49m\u001b[43m,\u001b[49m\n\u001b[0;32m    669\u001b[0m \u001b[43m        \u001b[49m\u001b[43mtrace_patch\u001b[49m\u001b[38;5;241;43m=\u001b[39;49m\u001b[38;5;28;43mdict\u001b[39;49m\u001b[43m(\u001b[49m\u001b[43mboxpoints\u001b[49m\u001b[38;5;241;43m=\u001b[39;49m\u001b[43mpoints\u001b[49m\u001b[43m,\u001b[49m\u001b[43m \u001b[49m\u001b[43mnotched\u001b[49m\u001b[38;5;241;43m=\u001b[39;49m\u001b[43mnotched\u001b[49m\u001b[43m,\u001b[49m\u001b[43m \u001b[49m\u001b[43mx0\u001b[49m\u001b[38;5;241;43m=\u001b[39;49m\u001b[38;5;124;43m\"\u001b[39;49m\u001b[38;5;124;43m \u001b[39;49m\u001b[38;5;124;43m\"\u001b[39;49m\u001b[43m,\u001b[49m\u001b[43m \u001b[49m\u001b[43my0\u001b[49m\u001b[38;5;241;43m=\u001b[39;49m\u001b[38;5;124;43m\"\u001b[39;49m\u001b[38;5;124;43m \u001b[39;49m\u001b[38;5;124;43m\"\u001b[39;49m\u001b[43m)\u001b[49m\u001b[43m,\u001b[49m\n\u001b[0;32m    670\u001b[0m \u001b[43m        \u001b[49m\u001b[43mlayout_patch\u001b[49m\u001b[38;5;241;43m=\u001b[39;49m\u001b[38;5;28;43mdict\u001b[39;49m\u001b[43m(\u001b[49m\u001b[43mboxmode\u001b[49m\u001b[38;5;241;43m=\u001b[39;49m\u001b[43mboxmode\u001b[49m\u001b[43m)\u001b[49m\u001b[43m,\u001b[49m\n\u001b[0;32m    671\u001b[0m \u001b[43m    \u001b[49m\u001b[43m)\u001b[49m\n",
      "File \u001b[1;32mc:\\Users\\awodz\\AppData\\Local\\Programs\\Python\\Python310\\lib\\site-packages\\plotly\\express\\_core.py:2117\u001b[0m, in \u001b[0;36mmake_figure\u001b[1;34m(args, constructor, trace_patch, layout_patch)\u001b[0m\n\u001b[0;32m   2114\u001b[0m layout_patch \u001b[38;5;241m=\u001b[39m layout_patch \u001b[38;5;129;01mor\u001b[39;00m {}\n\u001b[0;32m   2115\u001b[0m apply_default_cascade(args)\n\u001b[1;32m-> 2117\u001b[0m args \u001b[38;5;241m=\u001b[39m \u001b[43mbuild_dataframe\u001b[49m\u001b[43m(\u001b[49m\u001b[43margs\u001b[49m\u001b[43m,\u001b[49m\u001b[43m \u001b[49m\u001b[43mconstructor\u001b[49m\u001b[43m)\u001b[49m\n\u001b[0;32m   2118\u001b[0m \u001b[38;5;28;01mif\u001b[39;00m constructor \u001b[38;5;129;01min\u001b[39;00m [go\u001b[38;5;241m.\u001b[39mTreemap, go\u001b[38;5;241m.\u001b[39mSunburst, go\u001b[38;5;241m.\u001b[39mIcicle] \u001b[38;5;129;01mand\u001b[39;00m args[\u001b[38;5;124m\"\u001b[39m\u001b[38;5;124mpath\u001b[39m\u001b[38;5;124m\"\u001b[39m] \u001b[38;5;129;01mis\u001b[39;00m \u001b[38;5;129;01mnot\u001b[39;00m \u001b[38;5;28;01mNone\u001b[39;00m:\n\u001b[0;32m   2119\u001b[0m     args \u001b[38;5;241m=\u001b[39m process_dataframe_hierarchy(args)\n",
      "File \u001b[1;32mc:\\Users\\awodz\\AppData\\Local\\Programs\\Python\\Python310\\lib\\site-packages\\plotly\\express\\_core.py:1513\u001b[0m, in \u001b[0;36mbuild_dataframe\u001b[1;34m(args, constructor)\u001b[0m\n\u001b[0;32m   1510\u001b[0m     args[\u001b[38;5;124m\"\u001b[39m\u001b[38;5;124mcolor\u001b[39m\u001b[38;5;124m\"\u001b[39m] \u001b[38;5;241m=\u001b[39m \u001b[38;5;28;01mNone\u001b[39;00m\n\u001b[0;32m   1511\u001b[0m \u001b[38;5;66;03m# now that things have been prepped, we do the systematic rewriting of `args`\u001b[39;00m\n\u001b[1;32m-> 1513\u001b[0m df_output, wide_id_vars \u001b[38;5;241m=\u001b[39m \u001b[43mprocess_args_into_dataframe\u001b[49m\u001b[43m(\u001b[49m\n\u001b[0;32m   1514\u001b[0m \u001b[43m    \u001b[49m\u001b[43margs\u001b[49m\u001b[43m,\u001b[49m\u001b[43m \u001b[49m\u001b[43mwide_mode\u001b[49m\u001b[43m,\u001b[49m\u001b[43m \u001b[49m\u001b[43mvar_name\u001b[49m\u001b[43m,\u001b[49m\u001b[43m \u001b[49m\u001b[43mvalue_name\u001b[49m\n\u001b[0;32m   1515\u001b[0m \u001b[43m\u001b[49m\u001b[43m)\u001b[49m\n\u001b[0;32m   1517\u001b[0m \u001b[38;5;66;03m# now that `df_output` exists and `args` contains only references, we complete\u001b[39;00m\n\u001b[0;32m   1518\u001b[0m \u001b[38;5;66;03m# the special-case and wide-mode handling by further rewriting args and/or mutating\u001b[39;00m\n\u001b[0;32m   1519\u001b[0m \u001b[38;5;66;03m# df_output\u001b[39;00m\n\u001b[0;32m   1521\u001b[0m count_name \u001b[38;5;241m=\u001b[39m _escape_col_name(df_output, \u001b[38;5;124m\"\u001b[39m\u001b[38;5;124mcount\u001b[39m\u001b[38;5;124m\"\u001b[39m, [var_name, value_name])\n",
      "File \u001b[1;32mc:\\Users\\awodz\\AppData\\Local\\Programs\\Python\\Python310\\lib\\site-packages\\plotly\\express\\_core.py:1234\u001b[0m, in \u001b[0;36mprocess_args_into_dataframe\u001b[1;34m(args, wide_mode, var_name, value_name)\u001b[0m\n\u001b[0;32m   1232\u001b[0m         \u001b[38;5;28;01mif\u001b[39;00m argument \u001b[38;5;241m==\u001b[39m \u001b[38;5;124m\"\u001b[39m\u001b[38;5;124mindex\u001b[39m\u001b[38;5;124m\"\u001b[39m:\n\u001b[0;32m   1233\u001b[0m             err_msg \u001b[38;5;241m+\u001b[39m\u001b[38;5;241m=\u001b[39m \u001b[38;5;124m\"\u001b[39m\u001b[38;5;130;01m\\n\u001b[39;00m\u001b[38;5;124m To use the index, pass it in directly as `df.index`.\u001b[39m\u001b[38;5;124m\"\u001b[39m\n\u001b[1;32m-> 1234\u001b[0m         \u001b[38;5;28;01mraise\u001b[39;00m \u001b[38;5;167;01mValueError\u001b[39;00m(err_msg)\n\u001b[0;32m   1235\u001b[0m \u001b[38;5;28;01melif\u001b[39;00m length \u001b[38;5;129;01mand\u001b[39;00m \u001b[38;5;28mlen\u001b[39m(df_input[argument]) \u001b[38;5;241m!=\u001b[39m length:\n\u001b[0;32m   1236\u001b[0m     \u001b[38;5;28;01mraise\u001b[39;00m \u001b[38;5;167;01mValueError\u001b[39;00m(\n\u001b[0;32m   1237\u001b[0m         \u001b[38;5;124m\"\u001b[39m\u001b[38;5;124mAll arguments should have the same length. \u001b[39m\u001b[38;5;124m\"\u001b[39m\n\u001b[0;32m   1238\u001b[0m         \u001b[38;5;124m\"\u001b[39m\u001b[38;5;124mThe length of column argument `df[\u001b[39m\u001b[38;5;132;01m%s\u001b[39;00m\u001b[38;5;124m]` is \u001b[39m\u001b[38;5;132;01m%d\u001b[39;00m\u001b[38;5;124m, whereas the \u001b[39m\u001b[38;5;124m\"\u001b[39m\n\u001b[1;32m   (...)\u001b[0m\n\u001b[0;32m   1245\u001b[0m         )\n\u001b[0;32m   1246\u001b[0m     )\n",
      "\u001b[1;31mValueError\u001b[0m: Value of 'x' is not the name of a column in 'data_frame'. Expected one of ['Tytuł', 'Tagi', 'Cena', 'Data wydania', 'Nacechowanie recenzji', 'Liczba recenzji', 'Tag_2,5D', 'Tag_2D', 'Tag_3D', 'Tag_4X', 'Tag_Akcja', 'Tag_Anime', 'Tag_Autobitewniak', 'Tag_Automatyzacja', 'Tag_Battle royale', \"Tag_Beat 'em up\", 'Tag_Bijatyka', 'Tag_Bijatyka 2D', 'Tag_Bogata fabuła', 'Tag_Bogate uniwersum', 'Tag_Brutalność', 'Tag_Budowanie', 'Tag_Budowanie bazy', 'Tag_Budowanie miasta', 'Tag_Bullet hell', 'Tag_Bullet time', 'Tag_CRPG', 'Tag_Cyberpunk', 'Tag_Czarna komedia', 'Tag_Czarny humor', 'Tag_Czas rzeczywisty', 'Tag_Czas rzeczywisty z pauzą', 'Tag_Dedukcyjne towarzyskie', 'Tag_Demony', 'Tag_Destrukcja', 'Tag_Detektywistyczne', 'Tag_Dinozaury', 'Tag_Dostosowywanie broni palnej', 'Tag_Dostosowywanie postaci', 'Tag_Drużynowe RPG', 'Tag_Dungeon crawler', 'Tag_Dyplomacja', 'Tag_Dystopijne', 'Tag_Dzielony ekran', 'Tag_E-sport', 'Tag_Edukacyjne', 'Tag_Edytor poziomów', 'Tag_Eksperymentalne', 'Tag_Eksploracja', 'Tag_Escape room', 'Tag_FMV', 'Tag_FPS', 'Tag_Familijne', 'Tag_Fantasy', 'Tag_Fikcja interaktywna', 'Tag_Filmowe', 'Tag_Filozoficzne', 'Tag_Fizyka', 'Tag_Free to Play', 'Tag_Futurystyczne', 'Tag_Generacja proceduralna', 'Tag_Gospodarka', 'Tag_Gotowanie', 'Tag_Gra karciana', 'Tag_Gra planszowa', 'Tag_Gra słowna', 'Tag_Gra w boga', 'Tag_Gry na punkty', 'Tag_Górnictwo', 'Tag_Hack and slash', 'Tag_Hakowanie', 'Tag_Historia alternatywna', 'Tag_Horror', 'Tag_Horror psychologiczny', 'Tag_Idlery', 'Tag_Inspirowane Lovecraftem', 'Tag_Izometryczne', 'Tag_JRPG', 'Tag_Jednoosobowe', 'Tag_Kapitalizm', 'Tag_Karciany bitewniak', 'Tag_Kierowanie pojazdem', 'Tag_Klasyczne', 'Tag_Kliker', 'Tag_Klimatyczne', 'Tag_Kolorowe', 'Tag_Komediowe', 'Tag_Komiks', 'Tag_Kooperacja', 'Tag_Kosmici', 'Tag_Kosmos', 'Tag_Koty', 'Tag_Kości do gry', 'Tag_Krasnoludy', 'Tag_Kreskówkowe', 'Tag_Krew', 'Tag_Kultowa klasyka', 'Tag_LEGO', 'Tag_LGBTQ+', 'Tag_Lata 80.', 'Tag_Lata 90.', 'Tag_Latanie', 'Tag_Logiczne', 'Tag_Lokalna kooperacja', 'Tag_MMO', 'Tag_MMORPG', 'Tag_Manipulacja czasem', 'Tag_Mars', 'Tag_Mechy', 'Tag_Metroidvania', 'Tag_Minigry', 'Tag_Minimalistyczne', 'Tag_Modyfikowalne', 'Tag_Morskie', 'Tag_Mroczne', 'Tag_Mroczne fantasy', 'Tag_Muzyczne', 'Tag_Nagość', 'Tag_Narracja', 'Tag_Narracyjne', 'Tag_Natura', 'Tag_Nauka', 'Tag_Nieliniowe', 'Tag_Niezależne', 'Tag_Ninja', 'Tag_Noir', 'Tag_Odcinkowe', 'Tag_Odrzutowce', 'Tag_Okręty podwodne', 'Tag_Otwarty świat', 'Tag_Parkour', 'Tag_Pasjans', 'Tag_Perspektywa pierwszej osoby', 'Tag_Perspektywa trzeciej osoby', 'Tag_Piaskownica', 'Tag_Pikselowa grafika', 'Tag_Platformowe', 'Tag_Platformowe 2D', 'Tag_Platformowe 3D', 'Tag_Podróż w czasie', 'Tag_Podwodne', 'Tag_Polityczne', 'Tag_Polityka', 'Tag_Poruszające', 'Tag_Postapokaliptyczne', 'Tag_Powieść wizualna', 'Tag_Pozytywne', 'Tag_Precyzyjne platformowe', 'Tag_Programowanie', 'Tag_Przemoc', 'Tag_Przestępczość', 'Tag_Przygodowe', 'Tag_Przygodowe akcji', 'Tag_Psychodeliczne', 'Tag_Psychologiczne', 'Tag_PvE', 'Tag_PvP', 'Tag_RPG', 'Tag_RPG akcji', 'Tag_RPGMaker', 'Tag_RTS', 'Tag_RTS akcji', 'Tag_Realistyczne', 'Tag_Regrywalność', 'Tag_Rekreacyjne', 'Tag_Relaksujące', 'Tag_Remake', 'Tag_Retro', 'Tag_Roboty', 'Tag_Roguelike', 'Tag_Roguelike akcji', 'Tag_Roguelike z tworzeniem talii', 'Tag_Roguelite', 'Tag_Romans', 'Tag_Rozgrywane na stole', 'Tag_Rozmowa', 'Tag_Rytmiczne', 'Tag_Rywalizacja', 'Tag_Ręcznie rysowane', 'Tag_Science fiction', \"Tag_Shoot 'em up\", 'Tag_Side-scroller', 'Tag_Sieciowa kooperacja', 'Tag_Skradanie', 'Tag_Skrytobójca', 'Tag_Souls-like', 'Tag_Spisek', 'Tag_Statki kosmiczne', 'Tag_Steampunk', 'Tag_Strategiczne', 'Tag_Strategiczne RPG', 'Tag_Strategiczne globalne', 'Tag_Strategiczne turowe', 'Tag_Strzelanka', 'Tag_Strzelanka arenowa', 'Tag_Strzelanka ewakuacyjna', 'Tag_Strzelanka na dwa drążki', 'Tag_Strzelanka w dawnym stylu', 'Tag_Strzelanka z bohaterami', 'Tag_Strzelanka z perspektywą trzeciej osoby', 'Tag_Strzelanka z widokiem z góry', 'Tag_Strzelanka z łupami', 'Tag_Stylizowane', 'Tag_Superbohater', 'Tag_Surrealistyczne', 'Tag_Survival', 'Tag_Survival horror', 'Tag_Survivalowe w otwartym świecie', 'Tag_Symulator chodzenia', 'Tag_Symulator farmy', 'Tag_Symulator katastroficzny', 'Tag_Symulator kolonizacji', 'Tag_Symulator kosmiczny', 'Tag_Symulator polityczny', 'Tag_Symulator randkowania', 'Tag_Symulator samochodowy', 'Tag_Symulator życia', 'Tag_Symulatory', 'Tag_Sztuki walki', 'Tag_Szybkie tempo', 'Tag_Tajemnicze', 'Tag_Taktyczne', 'Tag_Taktyczne RPG', 'Tag_Taktyczne turowe', 'Tag_Taktyka w czasie rzeczywistym', 'Tag_Thriller', 'Tag_Tower defense', 'Tag_Tradycyjne roguelike', 'Tag_Transhumanizm', 'Tag_Transport', 'Tag_Treści seksualne', 'Tag_Trudne', 'Tag_Trwała śmierć', 'Tag_Turowe', 'Tag_Tworzenie talii', 'Tag_Ukryte przedmioty', 'Tag_Urocze', 'Tag_VR', 'Tag_Walka', 'Tag_Walka morska', 'Tag_Walka na miecze', 'Tag_Walka pojazdami', 'Tag_Walka turowa', 'Tag_Warhammer 40K', 'Tag_Wciągający symulator', 'Tag_Wczesny dostęp', 'Tag_Widok z góry', 'Tag_Widowiskowa bijatyka', 'Tag_Wiele zakończeń', 'Tag_Wieloosobowe', 'Tag_Wojenne', 'Tag_Wojna', 'Tag_Wojskowe', 'Tag_Wskaż i kliknij', 'Tag_Wybierz własną przygodę', 'Tag_Wytwarzanie', 'Tag_Wyścigi z walką', 'Tag_Wyścigowe', 'Tag_Zabawne', 'Tag_Zarządzanie', 'Tag_Zarządzanie czasem', 'Tag_Zarządzanie zasobami', 'Tag_Zbieranie stworów', 'Tag_Zespołowe', 'Tag_Znaczące wybory', 'Tag_Zombie', 'Tag_Zręcznościowe', 'Tag_Zły protagonista', 'Tag_Łamigłówki', 'Tag_Łamigłówki platformowe', 'Tag_Łupy', 'Tag_Śledztwo', 'Tag_Świetna ścieżka dźwiękowa', 'Tag_Żeńska postać w roli głównej', 'sentiment_score', 'Rok wydania', 'Recenzje_grupa'] but received: tag_count"
     ]
    }
   ],
   "source": [
    "fig = px.box(df, x='tag_count', y='Cena', title='Rozkład cen w zależności od liczby tagów', labels={'tag_count': 'Liczba tagów', 'Cena': 'Cena (zł)'})\n",
    "fig.show()\n",
    "\n"
   ]
  },
  {
   "cell_type": "code",
   "execution_count": null,
   "metadata": {},
   "outputs": [],
   "source": [
    "# tabela krzyżowa potrzebna"
   ]
  },
  {
   "cell_type": "code",
   "execution_count": 34,
   "metadata": {},
   "outputs": [
    {
     "ename": "NameError",
     "evalue": "name 'all_tags' is not defined",
     "output_type": "error",
     "traceback": [
      "\u001b[1;31m---------------------------------------------------------------------------\u001b[0m",
      "\u001b[1;31mNameError\u001b[0m                                 Traceback (most recent call last)",
      "Input \u001b[1;32mIn [34]\u001b[0m, in \u001b[0;36m<cell line: 3>\u001b[1;34m()\u001b[0m\n\u001b[0;32m      1\u001b[0m tag_prices \u001b[38;5;241m=\u001b[39m []\n\u001b[1;32m----> 3\u001b[0m \u001b[38;5;28;01mfor\u001b[39;00m tag \u001b[38;5;129;01min\u001b[39;00m \u001b[43mall_tags\u001b[49m:\n\u001b[0;32m      4\u001b[0m     subset \u001b[38;5;241m=\u001b[39m df[df[\u001b[38;5;124m'\u001b[39m\u001b[38;5;124mtags\u001b[39m\u001b[38;5;124m'\u001b[39m]\u001b[38;5;241m.\u001b[39mapply(\u001b[38;5;28;01mlambda\u001b[39;00m tags: tag \u001b[38;5;129;01min\u001b[39;00m tags)]\n\u001b[0;32m      5\u001b[0m     avg_price \u001b[38;5;241m=\u001b[39m subset[\u001b[38;5;124m'\u001b[39m\u001b[38;5;124mprice\u001b[39m\u001b[38;5;124m'\u001b[39m]\u001b[38;5;241m.\u001b[39mmean()\n",
      "\u001b[1;31mNameError\u001b[0m: name 'all_tags' is not defined"
     ]
    }
   ],
   "source": [
    "tag_prices = []\n",
    "\n",
    "for tag in all_tags:\n",
    "    subset = df[df['tags'].apply(lambda tags: tag in tags)]\n",
    "    avg_price = subset['price'].mean()\n",
    "    tag_prices.append({'Tag': tag, 'Average Price': avg_price})\n",
    "\n",
    "tag_price_df = pd.DataFrame(tag_prices).sort_values('Average Price', ascending=False)\n",
    "\n",
    "\n",
    "# Wybór tagów z największą średnią ceną i różnicą cen\n",
    "top_expensive_tags = tag_price_df.nlargest(10, 'Average Price')\n",
    "top_cheap_tags = tag_price_df.nsmallest(10, 'Average Price')\n",
    "filtered_tag_price_df = pd.concat([top_expensive_tags, top_cheap_tags])\n",
    "\n",
    "# Wizualizacja\n",
    "fig = px.bar(filtered_tag_price_df, x='Tag', y='Average Price', title='Wpływ wybranych tagów na cenę', labels={'Tag': 'Tag', 'Average Price': 'Średnia cena'})\n",
    "fig.show()\n"
   ]
  },
  {
   "cell_type": "code",
   "execution_count": null,
   "metadata": {},
   "outputs": [],
   "source": [
    "# Przeprowadź dokładną analizę, koncentrując się na odkrywaniu zależności, trendów i wzorców. Metody analizy muszą być dostosowane do typu danych.\n",
    "\n",
    "# Przykłady:   - Dla szeregów czasowych, mogą pasować takie metody jak średnie kroczące, metody dekompozycji, itd. - data wydania\n",
    "\n",
    "#   - Dla danych kategorycznych, można użyć  jak tabele krzyżowe, test chi-kwadrat,  itd. - nacechowanie recenzji\n",
    "\n",
    "#   - Dla danych ciągłych, możemy użyć analizę korelacji, regresję, itd. - cena, ew. liczba recenzji"
   ]
  },
  {
   "cell_type": "code",
   "execution_count": 35,
   "metadata": {},
   "outputs": [
    {
     "data": {
      "image/png": "[encoded data removed]",
      "text/plain": [
       "<Figure size 1008x432 with 2 Axes>"
      ]
     },
     "metadata": {
      "needs_background": "light"
     },
     "output_type": "display_data"
    }
   ],
   "source": [
    "import pandas as pd\n",
    "import matplotlib.pyplot as plt\n",
    "\n",
    "# Konwersja daty wydania na rok\n",
    "df['Year'] = df['Data wydania'].dt.year\n",
    "\n",
    "# Liczba gier wydanych w poszczególnych latach\n",
    "games_per_year = df.groupby('Year').size()\n",
    "\n",
    "# Średnia cena gier w poszczególnych latach\n",
    "avg_price_per_year = df.groupby('Year')['Cena'].mean()\n",
    "\n",
    "# Wizualizacja trendów czasowych\n",
    "plt.figure(figsize=(14, 6))\n",
    "\n",
    "# Liczba gier na osi 1\n",
    "plt.subplot(1, 2, 1)\n",
    "games_per_year.plot(kind='bar', color='skyblue', alpha=0.8)\n",
    "plt.title(\"Liczba gier wydanych w poszczególnych latach\")\n",
    "plt.xlabel(\"Rok\")\n",
    "plt.ylabel(\"Liczba gier\")\n",
    "\n",
    "# Średnia cena na osi 2\n",
    "plt.subplot(1, 2, 2)\n",
    "avg_price_per_year.plot(kind='line', marker='o', color='orange')\n",
    "plt.title(\"Średnia cena gier w poszczególnych latach\")\n",
    "plt.xlabel(\"Rok\")\n",
    "plt.ylabel(\"Średnia cena (zł)\")\n",
    "\n",
    "plt.tight_layout()\n",
    "plt.show()\n"
   ]
  },
  {
   "cell_type": "code",
   "execution_count": 43,
   "metadata": {},
   "outputs": [
    {
     "ename": "ValueError",
     "evalue": "cannot reindex on an axis with duplicate labels",
     "output_type": "error",
     "traceback": [
      "\u001b[1;31m---------------------------------------------------------------------------\u001b[0m",
      "\u001b[1;31mValueError\u001b[0m                                Traceback (most recent call last)",
      "Input \u001b[1;32mIn [43]\u001b[0m, in \u001b[0;36m<cell line: 12>\u001b[1;34m()\u001b[0m\n\u001b[0;32m      9\u001b[0m     \u001b[38;5;28;01mreturn\u001b[39;00m np\u001b[38;5;241m.\u001b[39msqrt(phi2 \u001b[38;5;241m/\u001b[39m \u001b[38;5;28mmin\u001b[39m(k\u001b[38;5;241m-\u001b[39m\u001b[38;5;241m1\u001b[39m, r\u001b[38;5;241m-\u001b[39m\u001b[38;5;241m1\u001b[39m))\n\u001b[0;32m     11\u001b[0m \u001b[38;5;66;03m# Tabela krzyżowa: Nacechowanie recenzji a liczba gier w poszczególnych tagach\u001b[39;00m\n\u001b[1;32m---> 12\u001b[0m cross_table \u001b[38;5;241m=\u001b[39m \u001b[43mpd\u001b[49m\u001b[38;5;241;43m.\u001b[39;49m\u001b[43mcrosstab\u001b[49m\u001b[43m(\u001b[49m\u001b[43mdf\u001b[49m\u001b[43m[\u001b[49m\u001b[38;5;124;43m'\u001b[39;49m\u001b[38;5;124;43mNacechowanie recenzji\u001b[39;49m\u001b[38;5;124;43m'\u001b[39;49m\u001b[43m]\u001b[49m\u001b[43m,\u001b[49m\u001b[43m \u001b[49m\u001b[43mdf\u001b[49m\u001b[43m[\u001b[49m\u001b[38;5;124;43m'\u001b[39;49m\u001b[38;5;124;43mTagi\u001b[39;49m\u001b[38;5;124;43m'\u001b[39;49m\u001b[43m]\u001b[49m\u001b[38;5;241;43m.\u001b[39;49m\u001b[43mstr\u001b[49m\u001b[38;5;241;43m.\u001b[39;49m\u001b[43msplit\u001b[49m\u001b[43m(\u001b[49m\u001b[38;5;124;43m'\u001b[39;49m\u001b[38;5;124;43m, \u001b[39;49m\u001b[38;5;124;43m'\u001b[39;49m\u001b[43m)\u001b[49m\u001b[38;5;241;43m.\u001b[39;49m\u001b[43mexplode\u001b[49m\u001b[43m(\u001b[49m\u001b[43m)\u001b[49m\u001b[43m)\u001b[49m\n\u001b[0;32m     14\u001b[0m \u001b[38;5;66;03m# Obliczenie Cramer's V\u001b[39;00m\n\u001b[0;32m     15\u001b[0m cramers_v_value \u001b[38;5;241m=\u001b[39m cramers_v(cross_table)\n",
      "File \u001b[1;32mc:\\Users\\awodz\\AppData\\Local\\Programs\\Python\\Python310\\lib\\site-packages\\pandas\\core\\reshape\\pivot.py:717\u001b[0m, in \u001b[0;36mcrosstab\u001b[1;34m(index, columns, values, rownames, colnames, aggfunc, margins, margins_name, dropna, normalize)\u001b[0m\n\u001b[0;32m    711\u001b[0m \u001b[38;5;28;01mfrom\u001b[39;00m \u001b[38;5;21;01mpandas\u001b[39;00m \u001b[38;5;28;01mimport\u001b[39;00m DataFrame\n\u001b[0;32m    713\u001b[0m data \u001b[38;5;241m=\u001b[39m {\n\u001b[0;32m    714\u001b[0m     \u001b[38;5;241m*\u001b[39m\u001b[38;5;241m*\u001b[39m\u001b[38;5;28mdict\u001b[39m(\u001b[38;5;28mzip\u001b[39m(unique_rownames, index)),\n\u001b[0;32m    715\u001b[0m     \u001b[38;5;241m*\u001b[39m\u001b[38;5;241m*\u001b[39m\u001b[38;5;28mdict\u001b[39m(\u001b[38;5;28mzip\u001b[39m(unique_colnames, columns)),\n\u001b[0;32m    716\u001b[0m }\n\u001b[1;32m--> 717\u001b[0m df \u001b[38;5;241m=\u001b[39m \u001b[43mDataFrame\u001b[49m\u001b[43m(\u001b[49m\u001b[43mdata\u001b[49m\u001b[43m,\u001b[49m\u001b[43m \u001b[49m\u001b[43mindex\u001b[49m\u001b[38;5;241;43m=\u001b[39;49m\u001b[43mcommon_idx\u001b[49m\u001b[43m)\u001b[49m\n\u001b[0;32m    719\u001b[0m \u001b[38;5;28;01mif\u001b[39;00m values \u001b[38;5;129;01mis\u001b[39;00m \u001b[38;5;28;01mNone\u001b[39;00m:\n\u001b[0;32m    720\u001b[0m     df[\u001b[38;5;124m\"\u001b[39m\u001b[38;5;124m__dummy__\u001b[39m\u001b[38;5;124m\"\u001b[39m] \u001b[38;5;241m=\u001b[39m \u001b[38;5;241m0\u001b[39m\n",
      "File \u001b[1;32mc:\\Users\\awodz\\AppData\\Local\\Programs\\Python\\Python310\\lib\\site-packages\\pandas\\core\\frame.py:778\u001b[0m, in \u001b[0;36mDataFrame.__init__\u001b[1;34m(self, data, index, columns, dtype, copy)\u001b[0m\n\u001b[0;32m    772\u001b[0m     mgr \u001b[38;5;241m=\u001b[39m \u001b[38;5;28mself\u001b[39m\u001b[38;5;241m.\u001b[39m_init_mgr(\n\u001b[0;32m    773\u001b[0m         data, axes\u001b[38;5;241m=\u001b[39m{\u001b[38;5;124m\"\u001b[39m\u001b[38;5;124mindex\u001b[39m\u001b[38;5;124m\"\u001b[39m: index, \u001b[38;5;124m\"\u001b[39m\u001b[38;5;124mcolumns\u001b[39m\u001b[38;5;124m\"\u001b[39m: columns}, dtype\u001b[38;5;241m=\u001b[39mdtype, copy\u001b[38;5;241m=\u001b[39mcopy\n\u001b[0;32m    774\u001b[0m     )\n\u001b[0;32m    776\u001b[0m \u001b[38;5;28;01melif\u001b[39;00m \u001b[38;5;28misinstance\u001b[39m(data, \u001b[38;5;28mdict\u001b[39m):\n\u001b[0;32m    777\u001b[0m     \u001b[38;5;66;03m# GH#38939 de facto copy defaults to False only in non-dict cases\u001b[39;00m\n\u001b[1;32m--> 778\u001b[0m     mgr \u001b[38;5;241m=\u001b[39m \u001b[43mdict_to_mgr\u001b[49m\u001b[43m(\u001b[49m\u001b[43mdata\u001b[49m\u001b[43m,\u001b[49m\u001b[43m \u001b[49m\u001b[43mindex\u001b[49m\u001b[43m,\u001b[49m\u001b[43m \u001b[49m\u001b[43mcolumns\u001b[49m\u001b[43m,\u001b[49m\u001b[43m \u001b[49m\u001b[43mdtype\u001b[49m\u001b[38;5;241;43m=\u001b[39;49m\u001b[43mdtype\u001b[49m\u001b[43m,\u001b[49m\u001b[43m \u001b[49m\u001b[43mcopy\u001b[49m\u001b[38;5;241;43m=\u001b[39;49m\u001b[43mcopy\u001b[49m\u001b[43m,\u001b[49m\u001b[43m \u001b[49m\u001b[43mtyp\u001b[49m\u001b[38;5;241;43m=\u001b[39;49m\u001b[43mmanager\u001b[49m\u001b[43m)\u001b[49m\n\u001b[0;32m    779\u001b[0m \u001b[38;5;28;01melif\u001b[39;00m \u001b[38;5;28misinstance\u001b[39m(data, ma\u001b[38;5;241m.\u001b[39mMaskedArray):\n\u001b[0;32m    780\u001b[0m     \u001b[38;5;28;01mfrom\u001b[39;00m \u001b[38;5;21;01mnumpy\u001b[39;00m\u001b[38;5;21;01m.\u001b[39;00m\u001b[38;5;21;01mma\u001b[39;00m \u001b[38;5;28;01mimport\u001b[39;00m mrecords\n",
      "File \u001b[1;32mc:\\Users\\awodz\\AppData\\Local\\Programs\\Python\\Python310\\lib\\site-packages\\pandas\\core\\internals\\construction.py:503\u001b[0m, in \u001b[0;36mdict_to_mgr\u001b[1;34m(data, index, columns, dtype, typ, copy)\u001b[0m\n\u001b[0;32m    499\u001b[0m     \u001b[38;5;28;01melse\u001b[39;00m:\n\u001b[0;32m    500\u001b[0m         \u001b[38;5;66;03m# dtype check to exclude e.g. range objects, scalars\u001b[39;00m\n\u001b[0;32m    501\u001b[0m         arrays \u001b[38;5;241m=\u001b[39m [x\u001b[38;5;241m.\u001b[39mcopy() \u001b[38;5;28;01mif\u001b[39;00m \u001b[38;5;28mhasattr\u001b[39m(x, \u001b[38;5;124m\"\u001b[39m\u001b[38;5;124mdtype\u001b[39m\u001b[38;5;124m\"\u001b[39m) \u001b[38;5;28;01melse\u001b[39;00m x \u001b[38;5;28;01mfor\u001b[39;00m x \u001b[38;5;129;01min\u001b[39;00m arrays]\n\u001b[1;32m--> 503\u001b[0m \u001b[38;5;28;01mreturn\u001b[39;00m \u001b[43marrays_to_mgr\u001b[49m\u001b[43m(\u001b[49m\u001b[43marrays\u001b[49m\u001b[43m,\u001b[49m\u001b[43m \u001b[49m\u001b[43mcolumns\u001b[49m\u001b[43m,\u001b[49m\u001b[43m \u001b[49m\u001b[43mindex\u001b[49m\u001b[43m,\u001b[49m\u001b[43m \u001b[49m\u001b[43mdtype\u001b[49m\u001b[38;5;241;43m=\u001b[39;49m\u001b[43mdtype\u001b[49m\u001b[43m,\u001b[49m\u001b[43m \u001b[49m\u001b[43mtyp\u001b[49m\u001b[38;5;241;43m=\u001b[39;49m\u001b[43mtyp\u001b[49m\u001b[43m,\u001b[49m\u001b[43m \u001b[49m\u001b[43mconsolidate\u001b[49m\u001b[38;5;241;43m=\u001b[39;49m\u001b[43mcopy\u001b[49m\u001b[43m)\u001b[49m\n",
      "File \u001b[1;32mc:\\Users\\awodz\\AppData\\Local\\Programs\\Python\\Python310\\lib\\site-packages\\pandas\\core\\internals\\construction.py:119\u001b[0m, in \u001b[0;36marrays_to_mgr\u001b[1;34m(arrays, columns, index, dtype, verify_integrity, typ, consolidate)\u001b[0m\n\u001b[0;32m    116\u001b[0m         index \u001b[38;5;241m=\u001b[39m ensure_index(index)\n\u001b[0;32m    118\u001b[0m     \u001b[38;5;66;03m# don't force copy because getting jammed in an ndarray anyway\u001b[39;00m\n\u001b[1;32m--> 119\u001b[0m     arrays, refs \u001b[38;5;241m=\u001b[39m \u001b[43m_homogenize\u001b[49m\u001b[43m(\u001b[49m\u001b[43marrays\u001b[49m\u001b[43m,\u001b[49m\u001b[43m \u001b[49m\u001b[43mindex\u001b[49m\u001b[43m,\u001b[49m\u001b[43m \u001b[49m\u001b[43mdtype\u001b[49m\u001b[43m)\u001b[49m\n\u001b[0;32m    120\u001b[0m     \u001b[38;5;66;03m# _homogenize ensures\u001b[39;00m\n\u001b[0;32m    121\u001b[0m     \u001b[38;5;66;03m#  - all(len(x) == len(index) for x in arrays)\u001b[39;00m\n\u001b[0;32m    122\u001b[0m     \u001b[38;5;66;03m#  - all(x.ndim == 1 for x in arrays)\u001b[39;00m\n\u001b[1;32m   (...)\u001b[0m\n\u001b[0;32m    125\u001b[0m \n\u001b[0;32m    126\u001b[0m \u001b[38;5;28;01melse\u001b[39;00m:\n\u001b[0;32m    127\u001b[0m     index \u001b[38;5;241m=\u001b[39m ensure_index(index)\n",
      "File \u001b[1;32mc:\\Users\\awodz\\AppData\\Local\\Programs\\Python\\Python310\\lib\\site-packages\\pandas\\core\\internals\\construction.py:611\u001b[0m, in \u001b[0;36m_homogenize\u001b[1;34m(data, index, dtype)\u001b[0m\n\u001b[0;32m    607\u001b[0m     val \u001b[38;5;241m=\u001b[39m val\u001b[38;5;241m.\u001b[39mastype(dtype, copy\u001b[38;5;241m=\u001b[39m\u001b[38;5;28;01mFalse\u001b[39;00m)\n\u001b[0;32m    608\u001b[0m \u001b[38;5;28;01mif\u001b[39;00m \u001b[38;5;28misinstance\u001b[39m(val, ABCSeries) \u001b[38;5;129;01mand\u001b[39;00m val\u001b[38;5;241m.\u001b[39mindex \u001b[38;5;129;01mis\u001b[39;00m \u001b[38;5;129;01mnot\u001b[39;00m index:\n\u001b[0;32m    609\u001b[0m     \u001b[38;5;66;03m# Forces alignment. No need to copy data since we\u001b[39;00m\n\u001b[0;32m    610\u001b[0m     \u001b[38;5;66;03m# are putting it into an ndarray later\u001b[39;00m\n\u001b[1;32m--> 611\u001b[0m     val \u001b[38;5;241m=\u001b[39m \u001b[43mval\u001b[49m\u001b[38;5;241;43m.\u001b[39;49m\u001b[43mreindex\u001b[49m\u001b[43m(\u001b[49m\u001b[43mindex\u001b[49m\u001b[43m,\u001b[49m\u001b[43m \u001b[49m\u001b[43mcopy\u001b[49m\u001b[38;5;241;43m=\u001b[39;49m\u001b[38;5;28;43;01mFalse\u001b[39;49;00m\u001b[43m)\u001b[49m\n\u001b[0;32m    612\u001b[0m refs\u001b[38;5;241m.\u001b[39mappend(val\u001b[38;5;241m.\u001b[39m_references)\n\u001b[0;32m    613\u001b[0m val \u001b[38;5;241m=\u001b[39m val\u001b[38;5;241m.\u001b[39m_values\n",
      "File \u001b[1;32mc:\\Users\\awodz\\AppData\\Local\\Programs\\Python\\Python310\\lib\\site-packages\\pandas\\core\\series.py:5153\u001b[0m, in \u001b[0;36mSeries.reindex\u001b[1;34m(self, index, axis, method, copy, level, fill_value, limit, tolerance)\u001b[0m\n\u001b[0;32m   5136\u001b[0m \u001b[38;5;129m@doc\u001b[39m(\n\u001b[0;32m   5137\u001b[0m     NDFrame\u001b[38;5;241m.\u001b[39mreindex,  \u001b[38;5;66;03m# type: ignore[has-type]\u001b[39;00m\n\u001b[0;32m   5138\u001b[0m     klass\u001b[38;5;241m=\u001b[39m_shared_doc_kwargs[\u001b[38;5;124m\"\u001b[39m\u001b[38;5;124mklass\u001b[39m\u001b[38;5;124m\"\u001b[39m],\n\u001b[1;32m   (...)\u001b[0m\n\u001b[0;32m   5151\u001b[0m     tolerance\u001b[38;5;241m=\u001b[39m\u001b[38;5;28;01mNone\u001b[39;00m,\n\u001b[0;32m   5152\u001b[0m ) \u001b[38;5;241m-\u001b[39m\u001b[38;5;241m>\u001b[39m Series:\n\u001b[1;32m-> 5153\u001b[0m     \u001b[38;5;28;01mreturn\u001b[39;00m \u001b[38;5;28;43msuper\u001b[39;49m\u001b[43m(\u001b[49m\u001b[43m)\u001b[49m\u001b[38;5;241;43m.\u001b[39;49m\u001b[43mreindex\u001b[49m\u001b[43m(\u001b[49m\n\u001b[0;32m   5154\u001b[0m \u001b[43m        \u001b[49m\u001b[43mindex\u001b[49m\u001b[38;5;241;43m=\u001b[39;49m\u001b[43mindex\u001b[49m\u001b[43m,\u001b[49m\n\u001b[0;32m   5155\u001b[0m \u001b[43m        \u001b[49m\u001b[43mmethod\u001b[49m\u001b[38;5;241;43m=\u001b[39;49m\u001b[43mmethod\u001b[49m\u001b[43m,\u001b[49m\n\u001b[0;32m   5156\u001b[0m \u001b[43m        \u001b[49m\u001b[43mcopy\u001b[49m\u001b[38;5;241;43m=\u001b[39;49m\u001b[43mcopy\u001b[49m\u001b[43m,\u001b[49m\n\u001b[0;32m   5157\u001b[0m \u001b[43m        \u001b[49m\u001b[43mlevel\u001b[49m\u001b[38;5;241;43m=\u001b[39;49m\u001b[43mlevel\u001b[49m\u001b[43m,\u001b[49m\n\u001b[0;32m   5158\u001b[0m \u001b[43m        \u001b[49m\u001b[43mfill_value\u001b[49m\u001b[38;5;241;43m=\u001b[39;49m\u001b[43mfill_value\u001b[49m\u001b[43m,\u001b[49m\n\u001b[0;32m   5159\u001b[0m \u001b[43m        \u001b[49m\u001b[43mlimit\u001b[49m\u001b[38;5;241;43m=\u001b[39;49m\u001b[43mlimit\u001b[49m\u001b[43m,\u001b[49m\n\u001b[0;32m   5160\u001b[0m \u001b[43m        \u001b[49m\u001b[43mtolerance\u001b[49m\u001b[38;5;241;43m=\u001b[39;49m\u001b[43mtolerance\u001b[49m\u001b[43m,\u001b[49m\n\u001b[0;32m   5161\u001b[0m \u001b[43m    \u001b[49m\u001b[43m)\u001b[49m\n",
      "File \u001b[1;32mc:\\Users\\awodz\\AppData\\Local\\Programs\\Python\\Python310\\lib\\site-packages\\pandas\\core\\generic.py:5610\u001b[0m, in \u001b[0;36mNDFrame.reindex\u001b[1;34m(self, labels, index, columns, axis, method, copy, level, fill_value, limit, tolerance)\u001b[0m\n\u001b[0;32m   5607\u001b[0m     \u001b[38;5;28;01mreturn\u001b[39;00m \u001b[38;5;28mself\u001b[39m\u001b[38;5;241m.\u001b[39m_reindex_multi(axes, copy, fill_value)\n\u001b[0;32m   5609\u001b[0m \u001b[38;5;66;03m# perform the reindex on the axes\u001b[39;00m\n\u001b[1;32m-> 5610\u001b[0m \u001b[38;5;28;01mreturn\u001b[39;00m \u001b[38;5;28;43mself\u001b[39;49m\u001b[38;5;241;43m.\u001b[39;49m\u001b[43m_reindex_axes\u001b[49m\u001b[43m(\u001b[49m\n\u001b[0;32m   5611\u001b[0m \u001b[43m    \u001b[49m\u001b[43maxes\u001b[49m\u001b[43m,\u001b[49m\u001b[43m \u001b[49m\u001b[43mlevel\u001b[49m\u001b[43m,\u001b[49m\u001b[43m \u001b[49m\u001b[43mlimit\u001b[49m\u001b[43m,\u001b[49m\u001b[43m \u001b[49m\u001b[43mtolerance\u001b[49m\u001b[43m,\u001b[49m\u001b[43m \u001b[49m\u001b[43mmethod\u001b[49m\u001b[43m,\u001b[49m\u001b[43m \u001b[49m\u001b[43mfill_value\u001b[49m\u001b[43m,\u001b[49m\u001b[43m \u001b[49m\u001b[43mcopy\u001b[49m\n\u001b[0;32m   5612\u001b[0m \u001b[43m\u001b[49m\u001b[43m)\u001b[49m\u001b[38;5;241m.\u001b[39m__finalize__(\u001b[38;5;28mself\u001b[39m, method\u001b[38;5;241m=\u001b[39m\u001b[38;5;124m\"\u001b[39m\u001b[38;5;124mreindex\u001b[39m\u001b[38;5;124m\"\u001b[39m)\n",
      "File \u001b[1;32mc:\\Users\\awodz\\AppData\\Local\\Programs\\Python\\Python310\\lib\\site-packages\\pandas\\core\\generic.py:5633\u001b[0m, in \u001b[0;36mNDFrame._reindex_axes\u001b[1;34m(self, axes, level, limit, tolerance, method, fill_value, copy)\u001b[0m\n\u001b[0;32m   5630\u001b[0m     \u001b[38;5;28;01mcontinue\u001b[39;00m\n\u001b[0;32m   5632\u001b[0m ax \u001b[38;5;241m=\u001b[39m \u001b[38;5;28mself\u001b[39m\u001b[38;5;241m.\u001b[39m_get_axis(a)\n\u001b[1;32m-> 5633\u001b[0m new_index, indexer \u001b[38;5;241m=\u001b[39m \u001b[43max\u001b[49m\u001b[38;5;241;43m.\u001b[39;49m\u001b[43mreindex\u001b[49m\u001b[43m(\u001b[49m\n\u001b[0;32m   5634\u001b[0m \u001b[43m    \u001b[49m\u001b[43mlabels\u001b[49m\u001b[43m,\u001b[49m\u001b[43m \u001b[49m\u001b[43mlevel\u001b[49m\u001b[38;5;241;43m=\u001b[39;49m\u001b[43mlevel\u001b[49m\u001b[43m,\u001b[49m\u001b[43m \u001b[49m\u001b[43mlimit\u001b[49m\u001b[38;5;241;43m=\u001b[39;49m\u001b[43mlimit\u001b[49m\u001b[43m,\u001b[49m\u001b[43m \u001b[49m\u001b[43mtolerance\u001b[49m\u001b[38;5;241;43m=\u001b[39;49m\u001b[43mtolerance\u001b[49m\u001b[43m,\u001b[49m\u001b[43m \u001b[49m\u001b[43mmethod\u001b[49m\u001b[38;5;241;43m=\u001b[39;49m\u001b[43mmethod\u001b[49m\n\u001b[0;32m   5635\u001b[0m \u001b[43m\u001b[49m\u001b[43m)\u001b[49m\n\u001b[0;32m   5637\u001b[0m axis \u001b[38;5;241m=\u001b[39m \u001b[38;5;28mself\u001b[39m\u001b[38;5;241m.\u001b[39m_get_axis_number(a)\n\u001b[0;32m   5638\u001b[0m obj \u001b[38;5;241m=\u001b[39m obj\u001b[38;5;241m.\u001b[39m_reindex_with_indexers(\n\u001b[0;32m   5639\u001b[0m     {axis: [new_index, indexer]},\n\u001b[0;32m   5640\u001b[0m     fill_value\u001b[38;5;241m=\u001b[39mfill_value,\n\u001b[0;32m   5641\u001b[0m     copy\u001b[38;5;241m=\u001b[39mcopy,\n\u001b[0;32m   5642\u001b[0m     allow_dups\u001b[38;5;241m=\u001b[39m\u001b[38;5;28;01mFalse\u001b[39;00m,\n\u001b[0;32m   5643\u001b[0m )\n",
      "File \u001b[1;32mc:\\Users\\awodz\\AppData\\Local\\Programs\\Python\\Python310\\lib\\site-packages\\pandas\\core\\indexes\\base.py:4429\u001b[0m, in \u001b[0;36mIndex.reindex\u001b[1;34m(self, target, method, level, limit, tolerance)\u001b[0m\n\u001b[0;32m   4426\u001b[0m     \u001b[38;5;28;01mraise\u001b[39;00m \u001b[38;5;167;01mValueError\u001b[39;00m(\u001b[38;5;124m\"\u001b[39m\u001b[38;5;124mcannot handle a non-unique multi-index!\u001b[39m\u001b[38;5;124m\"\u001b[39m)\n\u001b[0;32m   4427\u001b[0m \u001b[38;5;28;01melif\u001b[39;00m \u001b[38;5;129;01mnot\u001b[39;00m \u001b[38;5;28mself\u001b[39m\u001b[38;5;241m.\u001b[39mis_unique:\n\u001b[0;32m   4428\u001b[0m     \u001b[38;5;66;03m# GH#42568\u001b[39;00m\n\u001b[1;32m-> 4429\u001b[0m     \u001b[38;5;28;01mraise\u001b[39;00m \u001b[38;5;167;01mValueError\u001b[39;00m(\u001b[38;5;124m\"\u001b[39m\u001b[38;5;124mcannot reindex on an axis with duplicate labels\u001b[39m\u001b[38;5;124m\"\u001b[39m)\n\u001b[0;32m   4430\u001b[0m \u001b[38;5;28;01melse\u001b[39;00m:\n\u001b[0;32m   4431\u001b[0m     indexer, _ \u001b[38;5;241m=\u001b[39m \u001b[38;5;28mself\u001b[39m\u001b[38;5;241m.\u001b[39mget_indexer_non_unique(target)\n",
      "\u001b[1;31mValueError\u001b[0m: cannot reindex on an axis with duplicate labels"
     ]
    }
   ],
   "source": [
    "import numpy as np\n",
    "from scipy.stats import chi2_contingency\n",
    "\n",
    "def cramers_v(cross_table):\n",
    "    chi2, _, _, _ = chi2_contingency(cross_table)\n",
    "    n = cross_table.sum().sum()\n",
    "    phi2 = chi2 / n\n",
    "    r, k = cross_table.shape\n",
    "    return np.sqrt(phi2 / min(k-1, r-1))\n",
    "\n",
    "# Tabela krzyżowa: Nacechowanie recenzji a liczba gier w poszczególnych tagach\n",
    "cross_table = pd.crosstab(df['Nacechowanie recenzji'], df['Tagi'].str.split(', ').explode())\n",
    "\n",
    "# Obliczenie Cramer's V\n",
    "cramers_v_value = cramers_v(cross_table)\n",
    "print(f\"Cramer's V: {cramers_v_value:.2f}\")\n"
   ]
  },
  {
   "cell_type": "code",
   "execution_count": 44,
   "metadata": {},
   "outputs": [
    {
     "data": {
      "image/png": "[encoded data removed]",
      "text/plain": [
       "<Figure size 720x432 with 1 Axes>"
      ]
     },
     "metadata": {
      "needs_background": "light"
     },
     "output_type": "display_data"
    }
   ],
   "source": [
    "import seaborn as sns\n",
    "import matplotlib.pyplot as plt\n",
    "\n",
    "# Grupowanie cen na przedziały\n",
    "df['Cena_kategoria'] = pd.cut(df['Cena'], bins=[0, 50, 100, 150, 200, 300], labels=['0-50', '51-100', '101-150', '151-200', '201-300'])\n",
    "\n",
    "# Udział typów recenzji w różnych przedziałach cen\n",
    "plt.figure(figsize=(10, 6))\n",
    "sns.countplot(data=df, x='Cena_kategoria', hue='Nacechowanie recenzji', palette='viridis')\n",
    "plt.title('Rozkład typów recenzji w różnych przedziałach cenowych')\n",
    "plt.xlabel('Przedziały cenowe')\n",
    "plt.ylabel('Liczba gier')\n",
    "plt.legend(title='Nacechowanie recenzji')\n",
    "plt.show()\n"
   ]
  },
  {
   "cell_type": "code",
   "execution_count": 39,
   "metadata": {},
   "outputs": [
    {
     "name": "stdout",
     "output_type": "stream",
     "text": [
      "Collecting statsmodels\n",
      "  Using cached statsmodels-0.14.4-cp310-cp310-win_amd64.whl.metadata (9.5 kB)\n",
      "Requirement already satisfied: numpy<3,>=1.22.3 in c:\\users\\awodz\\appdata\\local\\programs\\python\\python310\\lib\\site-packages (from statsmodels) (2.0.0)\n",
      "Requirement already satisfied: scipy!=1.9.2,>=1.8 in c:\\users\\awodz\\appdata\\local\\programs\\python\\python310\\lib\\site-packages (from statsmodels) (1.15.1)\n",
      "Requirement already satisfied: pandas!=2.1.0,>=1.4 in c:\\users\\awodz\\appdata\\local\\programs\\python\\python310\\lib\\site-packages (from statsmodels) (2.2.2)\n",
      "Collecting patsy>=0.5.6 (from statsmodels)\n",
      "  Using cached patsy-1.0.1-py2.py3-none-any.whl.metadata (3.3 kB)\n",
      "Requirement already satisfied: packaging>=21.3 in c:\\users\\awodz\\appdata\\local\\programs\\python\\python310\\lib\\site-packages (from statsmodels) (21.3)\n",
      "Requirement already satisfied: pyparsing!=3.0.5,>=2.0.2 in c:\\users\\awodz\\appdata\\local\\programs\\python\\python310\\lib\\site-packages (from packaging>=21.3->statsmodels) (3.0.8)\n",
      "Requirement already satisfied: python-dateutil>=2.8.2 in c:\\users\\awodz\\appdata\\local\\programs\\python\\python310\\lib\\site-packages (from pandas!=2.1.0,>=1.4->statsmodels) (2.8.2)\n",
      "Requirement already satisfied: pytz>=2020.1 in c:\\users\\awodz\\appdata\\local\\programs\\python\\python310\\lib\\site-packages (from pandas!=2.1.0,>=1.4->statsmodels) (2024.1)\n",
      "Requirement already satisfied: tzdata>=2022.7 in c:\\users\\awodz\\appdata\\local\\programs\\python\\python310\\lib\\site-packages (from pandas!=2.1.0,>=1.4->statsmodels) (2024.1)\n",
      "Requirement already satisfied: six>=1.5 in c:\\users\\awodz\\appdata\\local\\programs\\python\\python310\\lib\\site-packages (from python-dateutil>=2.8.2->pandas!=2.1.0,>=1.4->statsmodels) (1.16.0)\n",
      "Using cached statsmodels-0.14.4-cp310-cp310-win_amd64.whl (9.8 MB)\n",
      "Using cached patsy-1.0.1-py2.py3-none-any.whl (232 kB)\n",
      "Installing collected packages: patsy, statsmodels\n",
      "Successfully installed patsy-1.0.1 statsmodels-0.14.4\n",
      "Note: you may need to restart the kernel to use updated packages.\n"
     ]
    },
    {
     "name": "stderr",
     "output_type": "stream",
     "text": [
      "\n",
      "[notice] A new release of pip is available: 24.1.2 -> 24.3.1\n",
      "[notice] To update, run: python.exe -m pip install --upgrade pip\n"
     ]
    }
   ],
   "source": [
    "%pip install statsmodels\n"
   ]
  },
  {
   "cell_type": "code",
   "execution_count": 45,
   "metadata": {},
   "outputs": [
    {
     "name": "stdout",
     "output_type": "stream",
     "text": [
      "Collecting scikit-learn\n",
      "  Downloading scikit_learn-1.6.1-cp310-cp310-win_amd64.whl.metadata (15 kB)\n",
      "Requirement already satisfied: numpy>=1.19.5 in c:\\users\\awodz\\appdata\\local\\programs\\python\\python310\\lib\\site-packages (from scikit-learn) (2.0.0)\n",
      "Requirement already satisfied: scipy>=1.6.0 in c:\\users\\awodz\\appdata\\local\\programs\\python\\python310\\lib\\site-packages (from scikit-learn) (1.15.1)\n",
      "Collecting joblib>=1.2.0 (from scikit-learn)\n",
      "  Using cached joblib-1.4.2-py3-none-any.whl.metadata (5.4 kB)\n",
      "Collecting threadpoolctl>=3.1.0 (from scikit-learn)\n",
      "  Using cached threadpoolctl-3.5.0-py3-none-any.whl.metadata (13 kB)\n",
      "Downloading scikit_learn-1.6.1-cp310-cp310-win_amd64.whl (11.1 MB)\n",
      "   ---------------------------------------- 11.1/11.1 MB 40.9 MB/s eta 0:00:00\n",
      "Using cached joblib-1.4.2-py3-none-any.whl (301 kB)\n",
      "Using cached threadpoolctl-3.5.0-py3-none-any.whl (18 kB)\n",
      "Installing collected packages: threadpoolctl, joblib, scikit-learn\n",
      "Successfully installed joblib-1.4.2 scikit-learn-1.6.1 threadpoolctl-3.5.0\n",
      "Note: you may need to restart the kernel to use updated packages.\n"
     ]
    },
    {
     "name": "stderr",
     "output_type": "stream",
     "text": [
      "\n",
      "[notice] A new release of pip is available: 24.1.2 -> 24.3.1\n",
      "[notice] To update, run: python.exe -m pip install --upgrade pip\n"
     ]
    }
   ],
   "source": [
    "%pip install scikit-learn\n"
   ]
  },
  {
   "cell_type": "code",
   "execution_count": 47,
   "metadata": {},
   "outputs": [
    {
     "name": "stderr",
     "output_type": "stream",
     "text": [
      "C:\\Users\\awodz\\AppData\\Local\\Temp\\ipykernel_13196\\4230884242.py:9: FutureWarning:\n",
      "\n",
      "\n",
      "\n",
      "Passing `palette` without assigning `hue` is deprecated and will be removed in v0.14.0. Assign the `x` variable to `hue` and set `legend=False` for the same effect.\n",
      "\n",
      "\n"
     ]
    },
    {
     "data": {
      "image/png": "[encoded data removed]",
      "text/plain": [
       "<Figure size 720x432 with 1 Axes>"
      ]
     },
     "metadata": {
      "needs_background": "light"
     },
     "output_type": "display_data"
    }
   ],
   "source": [
    "import seaborn as sns\n",
    "import matplotlib.pyplot as plt\n",
    "\n",
    "# Średnia cena gier dla różnych typów recenzji\n",
    "avg_price_by_sentiment = df.groupby('Nacechowanie recenzji')['Cena'].mean().sort_values()\n",
    "\n",
    "# Wizualizacja: słupki pokazujące średnią cenę dla każdego typu recenzji\n",
    "plt.figure(figsize=(10, 6))\n",
    "sns.barplot(x=avg_price_by_sentiment.index, y=avg_price_by_sentiment.values, palette='viridis')\n",
    "plt.title('Średnia cena gier dla różnych typów recenzji')\n",
    "plt.xlabel('Nacechowanie recenzji')\n",
    "plt.ylabel('Średnia cena (zł)')\n",
    "plt.xticks(rotation=45)\n",
    "plt.show()\n"
   ]
  },
  {
   "cell_type": "code",
   "execution_count": 48,
   "metadata": {},
   "outputs": [
    {
     "data": {
      "image/png": "[encoded data removed]",
      "text/plain": [
       "<Figure size 720x432 with 1 Axes>"
      ]
     },
     "metadata": {
      "needs_background": "light"
     },
     "output_type": "display_data"
    }
   ],
   "source": [
    "# Obliczanie liczby tagów dla każdej gry\n",
    "df['Liczba tagów'] = df['Tagi'].apply(lambda x: len(x.split(', ')))\n",
    "\n",
    "# Średnia cena w zależności od liczby tagów\n",
    "avg_price_by_tags = df.groupby('Liczba tagów')['Cena'].mean()\n",
    "\n",
    "# Wizualizacja: linia pokazująca zależność liczby tagów od ceny\n",
    "plt.figure(figsize=(10, 6))\n",
    "sns.lineplot(x=avg_price_by_tags.index, y=avg_price_by_tags.values, marker='o', color='orange')\n",
    "plt.title('Średnia cena w zależności od liczby tagów')\n",
    "plt.xlabel('Liczba tagów')\n",
    "plt.ylabel('Średnia cena (zł)')\n",
    "plt.show()\n"
   ]
  },
  {
   "cell_type": "code",
   "execution_count": 49,
   "metadata": {},
   "outputs": [
    {
     "name": "stderr",
     "output_type": "stream",
     "text": [
      "C:\\Users\\awodz\\AppData\\Local\\Temp\\ipykernel_13196\\3742788888.py:2: FutureWarning:\n",
      "\n",
      "\n",
      "\n",
      "Passing `palette` without assigning `hue` is deprecated and will be removed in v0.14.0. Assign the `x` variable to `hue` and set `legend=False` for the same effect.\n",
      "\n",
      "\n"
     ]
    },
    {
     "data": {
      "image/png": "[encoded data removed]",
      "text/plain": [
       "<Figure size 864x432 with 1 Axes>"
      ]
     },
     "metadata": {
      "needs_background": "light"
     },
     "output_type": "display_data"
    }
   ],
   "source": [
    "plt.figure(figsize=(12, 6))\n",
    "sns.boxplot(data=df, x='Nacechowanie recenzji', y='Cena', palette='coolwarm')\n",
    "plt.title('Rozkład cen dla różnych typów recenzji')\n",
    "plt.xlabel('Nacechowanie recenzji')\n",
    "plt.ylabel('Cena (zł)')\n",
    "plt.xticks(rotation=45)\n",
    "plt.show()\n"
   ]
  },
  {
   "cell_type": "code",
   "execution_count": null,
   "metadata": {},
   "outputs": [],
   "source": [
    "# Modelowanie: Zdecyduj, czy problem to klasyfikacja, czy regresja. Wykorzystaj odpowiednie modele uczenia maszynowego (np. drzewa decyzyjne, regresję logistyczną dla klasyfikacji; regresję liniową, lasy losowe dla regresji) z biblioteki `scikit-learn` i oceń ich wyniki przy użyciu takich miar jak dokładność (accuracy), F1 score lub R-kwadrat (R²), w zależności od typu danych i analizy.\n",
    "\n",
    "# 1. na podstawie tagów, ceny i roku wydania oceń, jakie opinie ma gra - klasyfikacja\n",
    "# 2. na podstawie tagów, opinii, liczby opinii, roku wydania zgadnij, jaką cenę ma gra - regresja"
   ]
  },
  {
   "cell_type": "code",
   "execution_count": 50,
   "metadata": {},
   "outputs": [
    {
     "name": "stdout",
     "output_type": "stream",
     "text": [
      "Dokładność (Accuracy): 0.5119047619047619\n"
     ]
    },
    {
     "ename": "ValueError",
     "evalue": "Number of classes, 6, does not match size of target_names, 8. Try specifying the labels parameter",
     "output_type": "error",
     "traceback": [
      "\u001b[1;31m---------------------------------------------------------------------------\u001b[0m",
      "\u001b[1;31mValueError\u001b[0m                                Traceback (most recent call last)",
      "Input \u001b[1;32mIn [50]\u001b[0m, in \u001b[0;36m<cell line: 26>\u001b[1;34m()\u001b[0m\n\u001b[0;32m     24\u001b[0m \u001b[38;5;66;03m# Ocena modelu\u001b[39;00m\n\u001b[0;32m     25\u001b[0m \u001b[38;5;28mprint\u001b[39m(\u001b[38;5;124m\"\u001b[39m\u001b[38;5;124mDokładność (Accuracy):\u001b[39m\u001b[38;5;124m\"\u001b[39m, accuracy_score(y_test, y_pred))\n\u001b[1;32m---> 26\u001b[0m \u001b[38;5;28mprint\u001b[39m(\u001b[38;5;124m\"\u001b[39m\u001b[38;5;130;01m\\n\u001b[39;00m\u001b[38;5;124mRaport klasyfikacji:\u001b[39m\u001b[38;5;130;01m\\n\u001b[39;00m\u001b[38;5;124m\"\u001b[39m, \u001b[43mclassification_report\u001b[49m\u001b[43m(\u001b[49m\u001b[43my_test\u001b[49m\u001b[43m,\u001b[49m\u001b[43m \u001b[49m\u001b[43my_pred\u001b[49m\u001b[43m,\u001b[49m\u001b[43m \u001b[49m\u001b[43mtarget_names\u001b[49m\u001b[38;5;241;43m=\u001b[39;49m\u001b[43mlabel_encoder\u001b[49m\u001b[38;5;241;43m.\u001b[39;49m\u001b[43mclasses_\u001b[49m\u001b[43m)\u001b[49m)\n",
      "File \u001b[1;32mc:\\Users\\awodz\\AppData\\Local\\Programs\\Python\\Python310\\lib\\site-packages\\sklearn\\utils\\_param_validation.py:216\u001b[0m, in \u001b[0;36mvalidate_params.<locals>.decorator.<locals>.wrapper\u001b[1;34m(*args, **kwargs)\u001b[0m\n\u001b[0;32m    210\u001b[0m \u001b[38;5;28;01mtry\u001b[39;00m:\n\u001b[0;32m    211\u001b[0m     \u001b[38;5;28;01mwith\u001b[39;00m config_context(\n\u001b[0;32m    212\u001b[0m         skip_parameter_validation\u001b[38;5;241m=\u001b[39m(\n\u001b[0;32m    213\u001b[0m             prefer_skip_nested_validation \u001b[38;5;129;01mor\u001b[39;00m global_skip_validation\n\u001b[0;32m    214\u001b[0m         )\n\u001b[0;32m    215\u001b[0m     ):\n\u001b[1;32m--> 216\u001b[0m         \u001b[38;5;28;01mreturn\u001b[39;00m func(\u001b[38;5;241m*\u001b[39margs, \u001b[38;5;241m*\u001b[39m\u001b[38;5;241m*\u001b[39mkwargs)\n\u001b[0;32m    217\u001b[0m \u001b[38;5;28;01mexcept\u001b[39;00m InvalidParameterError \u001b[38;5;28;01mas\u001b[39;00m e:\n\u001b[0;32m    218\u001b[0m     \u001b[38;5;66;03m# When the function is just a wrapper around an estimator, we allow\u001b[39;00m\n\u001b[0;32m    219\u001b[0m     \u001b[38;5;66;03m# the function to delegate validation to the estimator, but we replace\u001b[39;00m\n\u001b[0;32m    220\u001b[0m     \u001b[38;5;66;03m# the name of the estimator by the name of the function in the error\u001b[39;00m\n\u001b[0;32m    221\u001b[0m     \u001b[38;5;66;03m# message to avoid confusion.\u001b[39;00m\n\u001b[0;32m    222\u001b[0m     msg \u001b[38;5;241m=\u001b[39m re\u001b[38;5;241m.\u001b[39msub(\n\u001b[0;32m    223\u001b[0m         \u001b[38;5;124mr\u001b[39m\u001b[38;5;124m\"\u001b[39m\u001b[38;5;124mparameter of \u001b[39m\u001b[38;5;124m\\\u001b[39m\u001b[38;5;124mw+ must be\u001b[39m\u001b[38;5;124m\"\u001b[39m,\n\u001b[0;32m    224\u001b[0m         \u001b[38;5;124mf\u001b[39m\u001b[38;5;124m\"\u001b[39m\u001b[38;5;124mparameter of \u001b[39m\u001b[38;5;132;01m{\u001b[39;00mfunc\u001b[38;5;241m.\u001b[39m\u001b[38;5;18m__qualname__\u001b[39m\u001b[38;5;132;01m}\u001b[39;00m\u001b[38;5;124m must be\u001b[39m\u001b[38;5;124m\"\u001b[39m,\n\u001b[0;32m    225\u001b[0m         \u001b[38;5;28mstr\u001b[39m(e),\n\u001b[0;32m    226\u001b[0m     )\n",
      "File \u001b[1;32mc:\\Users\\awodz\\AppData\\Local\\Programs\\Python\\Python310\\lib\\site-packages\\sklearn\\metrics\\_classification.py:2693\u001b[0m, in \u001b[0;36mclassification_report\u001b[1;34m(y_true, y_pred, labels, target_names, sample_weight, digits, output_dict, zero_division)\u001b[0m\n\u001b[0;32m   2687\u001b[0m         warnings\u001b[38;5;241m.\u001b[39mwarn(\n\u001b[0;32m   2688\u001b[0m             \u001b[38;5;124m\"\u001b[39m\u001b[38;5;124mlabels size, \u001b[39m\u001b[38;5;132;01m{0}\u001b[39;00m\u001b[38;5;124m, does not match size of target_names, \u001b[39m\u001b[38;5;132;01m{1}\u001b[39;00m\u001b[38;5;124m\"\u001b[39m\u001b[38;5;241m.\u001b[39mformat(\n\u001b[0;32m   2689\u001b[0m                 \u001b[38;5;28mlen\u001b[39m(labels), \u001b[38;5;28mlen\u001b[39m(target_names)\n\u001b[0;32m   2690\u001b[0m             )\n\u001b[0;32m   2691\u001b[0m         )\n\u001b[0;32m   2692\u001b[0m     \u001b[38;5;28;01melse\u001b[39;00m:\n\u001b[1;32m-> 2693\u001b[0m         \u001b[38;5;28;01mraise\u001b[39;00m \u001b[38;5;167;01mValueError\u001b[39;00m(\n\u001b[0;32m   2694\u001b[0m             \u001b[38;5;124m\"\u001b[39m\u001b[38;5;124mNumber of classes, \u001b[39m\u001b[38;5;132;01m{0}\u001b[39;00m\u001b[38;5;124m, does not match size of \u001b[39m\u001b[38;5;124m\"\u001b[39m\n\u001b[0;32m   2695\u001b[0m             \u001b[38;5;124m\"\u001b[39m\u001b[38;5;124mtarget_names, \u001b[39m\u001b[38;5;132;01m{1}\u001b[39;00m\u001b[38;5;124m. Try specifying the labels \u001b[39m\u001b[38;5;124m\"\u001b[39m\n\u001b[0;32m   2696\u001b[0m             \u001b[38;5;124m\"\u001b[39m\u001b[38;5;124mparameter\u001b[39m\u001b[38;5;124m\"\u001b[39m\u001b[38;5;241m.\u001b[39mformat(\u001b[38;5;28mlen\u001b[39m(labels), \u001b[38;5;28mlen\u001b[39m(target_names))\n\u001b[0;32m   2697\u001b[0m         )\n\u001b[0;32m   2698\u001b[0m \u001b[38;5;28;01mif\u001b[39;00m target_names \u001b[38;5;129;01mis\u001b[39;00m \u001b[38;5;28;01mNone\u001b[39;00m:\n\u001b[0;32m   2699\u001b[0m     target_names \u001b[38;5;241m=\u001b[39m [\u001b[38;5;124m\"\u001b[39m\u001b[38;5;132;01m%s\u001b[39;00m\u001b[38;5;124m\"\u001b[39m \u001b[38;5;241m%\u001b[39m l \u001b[38;5;28;01mfor\u001b[39;00m l \u001b[38;5;129;01min\u001b[39;00m labels]\n",
      "\u001b[1;31mValueError\u001b[0m: Number of classes, 6, does not match size of target_names, 8. Try specifying the labels parameter"
     ]
    }
   ],
   "source": [
    "from sklearn.model_selection import train_test_split\n",
    "from sklearn.ensemble import RandomForestClassifier\n",
    "from sklearn.metrics import classification_report, accuracy_score\n",
    "from sklearn.preprocessing import LabelEncoder\n",
    "\n",
    "# Kodowanie nacechowania recenzji na wartości numeryczne\n",
    "label_encoder = LabelEncoder()\n",
    "df['Nacechowanie recenzji_encoded'] = label_encoder.fit_transform(df['Nacechowanie recenzji'])\n",
    "\n",
    "# Przygotowanie cech (X) i etykiet (y)\n",
    "X = df[['Cena', 'Year'] + [col for col in df.columns if col.startswith('Tag_')]]  # Cena, rok wydania i tagi\n",
    "y = df['Nacechowanie recenzji_encoded']\n",
    "\n",
    "# Podział danych na zbiór treningowy i testowy\n",
    "X_train, X_test, y_train, y_test = train_test_split(X, y, test_size=0.2, random_state=42)\n",
    "\n",
    "# Klasyfikator: Random Forest\n",
    "clf = RandomForestClassifier(n_estimators=100, random_state=42)\n",
    "clf.fit(X_train, y_train)\n",
    "\n",
    "# Predykcja na zbiorze testowym\n",
    "y_pred = clf.predict(X_test)\n",
    "\n",
    "# Ocena modelu\n",
    "print(\"Dokładność (Accuracy):\", accuracy_score(y_test, y_pred))\n",
    "print(\"\\nRaport klasyfikacji:\\n\", classification_report(y_test, y_pred, target_names=label_encoder.classes_))\n"
   ]
  },
  {
   "cell_type": "code",
   "execution_count": 52,
   "metadata": {},
   "outputs": [
    {
     "name": "stderr",
     "output_type": "stream",
     "text": [
      "C:\\Users\\awodz\\AppData\\Local\\Temp\\ipykernel_13196\\3820707793.py:6: SettingWithCopyWarning:\n",
      "\n",
      "\n",
      "A value is trying to be set on a copy of a slice from a DataFrame.\n",
      "Try using .loc[row_indexer,col_indexer] = value instead\n",
      "\n",
      "See the caveats in the documentation: https://pandas.pydata.org/pandas-docs/stable/user_guide/indexing.html#returning-a-view-versus-a-copy\n",
      "\n"
     ]
    },
    {
     "ename": "NameError",
     "evalue": "name 'StandardScaler' is not defined",
     "output_type": "error",
     "traceback": [
      "\u001b[1;31m---------------------------------------------------------------------------\u001b[0m",
      "\u001b[1;31mNameError\u001b[0m                                 Traceback (most recent call last)",
      "Input \u001b[1;32mIn [52]\u001b[0m, in \u001b[0;36m<cell line: 15>\u001b[1;34m()\u001b[0m\n\u001b[0;32m     13\u001b[0m reg \u001b[38;5;241m=\u001b[39m RandomForestRegressor(n_estimators\u001b[38;5;241m=\u001b[39m\u001b[38;5;241m100\u001b[39m, random_state\u001b[38;5;241m=\u001b[39m\u001b[38;5;241m42\u001b[39m)\n\u001b[0;32m     14\u001b[0m \u001b[38;5;66;03m# Standaryzacja cech\u001b[39;00m\n\u001b[1;32m---> 15\u001b[0m scaler \u001b[38;5;241m=\u001b[39m \u001b[43mStandardScaler\u001b[49m()\n\u001b[0;32m     16\u001b[0m X_scaled \u001b[38;5;241m=\u001b[39m scaler\u001b[38;5;241m.\u001b[39mfit_transform(X)\n\u001b[0;32m     18\u001b[0m \u001b[38;5;66;03m# Trening modelu regresji na danych standaryzowanych\u001b[39;00m\n",
      "\u001b[1;31mNameError\u001b[0m: name 'StandardScaler' is not defined"
     ]
    }
   ],
   "source": [
    "from sklearn.ensemble import RandomForestRegressor\n",
    "from sklearn.metrics import mean_squared_error, r2_score\n",
    "\n",
    "# Przygotowanie cech (X) i zmiennej celu (y)\n",
    "X = df[['Liczba recenzji', 'Year'] + [col for col in df.columns if col.startswith('Tag_')]]\n",
    "X['Nacechowanie recenzji_encoded'] = df['Nacechowanie recenzji_encoded']\n",
    "y = df['Cena']\n",
    "\n",
    "# Podział danych na zbiór treningowy i testowy\n",
    "X_train, X_test, y_train, y_test = train_test_split(X, y, test_size=0.2, random_state=42)\n",
    "\n",
    "# Regressor: Random Forest\n",
    "reg = RandomForestRegressor(n_estimators=100, random_state=42)\n",
    "# Standaryzacja cech\n",
    "scaler = StandardScaler()\n",
    "X_scaled = scaler.fit_transform(X)\n",
    "\n",
    "# Trening modelu regresji na danych standaryzowanych\n",
    "reg.fit(X_scaled, y)\n",
    "y_pred = reg.predict(scaler.transform(X_test))\n",
    "\n",
    "# Obliczenie metryk\n",
    "print(\"Mean Squared Error (MSE):\", mean_squared_error(y_test, y_pred))\n",
    "print(\"R-kwadrat (R²):\", r2_score(y_test, y_pred))"
   ]
  },
  {
   "cell_type": "code",
   "execution_count": 23,
   "metadata": {},
   "outputs": [
    {
     "name": "stdout",
     "output_type": "stream",
     "text": [
      "Collecting sklearn\n",
      "  Downloading sklearn-0.0.post12.tar.gz (2.6 kB)\n",
      "  Installing build dependencies: started\n",
      "  Installing build dependencies: finished with status 'done'\n",
      "  Getting requirements to build wheel: started\n",
      "  Getting requirements to build wheel: finished with status 'error'\n",
      "Note: you may need to restart the kernel to use updated packages.\n"
     ]
    },
    {
     "name": "stderr",
     "output_type": "stream",
     "text": [
      "  error: subprocess-exited-with-error\n",
      "  \n",
      "  × Getting requirements to build wheel did not run successfully.\n",
      "  │ exit code: 1\n",
      "  ╰─> [15 lines of output]\n",
      "      The 'sklearn' PyPI package is deprecated, use 'scikit-learn'\n",
      "      rather than 'sklearn' for pip commands.\n",
      "      \n",
      "      Here is how to fix this error in the main use cases:\n",
      "      - use 'pip install scikit-learn' rather than 'pip install sklearn'\n",
      "      - replace 'sklearn' by 'scikit-learn' in your pip requirements files\n",
      "        (requirements.txt, setup.py, setup.cfg, Pipfile, etc ...)\n",
      "      - if the 'sklearn' package is used by one of your dependencies,\n",
      "        it would be great if you take some time to track which package uses\n",
      "        'sklearn' instead of 'scikit-learn' and report it to their issue tracker\n",
      "      - as a last resort, set the environment variable\n",
      "        SKLEARN_ALLOW_DEPRECATED_SKLEARN_PACKAGE_INSTALL=True to avoid this error\n",
      "      \n",
      "      More information is available at\n",
      "      https://github.com/scikit-learn/sklearn-pypi-package\n",
      "      [end of output]\n",
      "  \n",
      "  note: This error originates from a subprocess, and is likely not a problem with pip.\n",
      "error: subprocess-exited-with-error\n",
      "\n",
      "× Getting requirements to build wheel did not run successfully.\n",
      "│ exit code: 1\n",
      "╰─> See above for output.\n",
      "\n",
      "note: This error originates from a subprocess, and is likely not a problem with pip.\n",
      "\n",
      "[notice] A new release of pip is available: 24.1.2 -> 24.3.1\n",
      "[notice] To update, run: python.exe -m pip install --upgrade pip\n"
     ]
    }
   ],
   "source": [
    "%pip install sklearn"
   ]
  },
  {
   "cell_type": "code",
   "execution_count": 24,
   "metadata": {},
   "outputs": [
    {
     "ename": "ModuleNotFoundError",
     "evalue": "No module named 'sklearn'",
     "output_type": "error",
     "traceback": [
      "\u001b[1;31m---------------------------------------------------------------------------\u001b[0m",
      "\u001b[1;31mModuleNotFoundError\u001b[0m                       Traceback (most recent call last)",
      "Input \u001b[1;32mIn [24]\u001b[0m, in \u001b[0;36m<cell line: 1>\u001b[1;34m()\u001b[0m\n\u001b[1;32m----> 1\u001b[0m \u001b[38;5;28;01mfrom\u001b[39;00m \u001b[38;5;21;01msklearn\u001b[39;00m\u001b[38;5;21;01m.\u001b[39;00m\u001b[38;5;21;01mpreprocessing\u001b[39;00m \u001b[38;5;28;01mimport\u001b[39;00m StandardScaler\n\u001b[0;32m      2\u001b[0m \u001b[38;5;28;01mfrom\u001b[39;00m \u001b[38;5;21;01msklearn\u001b[39;00m\u001b[38;5;21;01m.\u001b[39;00m\u001b[38;5;21;01mcluster\u001b[39;00m \u001b[38;5;28;01mimport\u001b[39;00m KMeans\n\u001b[0;32m      4\u001b[0m \u001b[38;5;66;03m# Przygotowanie danych\u001b[39;00m\n",
      "\u001b[1;31mModuleNotFoundError\u001b[0m: No module named 'sklearn'"
     ]
    }
   ],
   "source": [
    "from sklearn.preprocessing import StandardScaler\n",
    "from sklearn.cluster import KMeans\n",
    "\n",
    "# Przygotowanie danych\n",
    "tag_matrix = pd.DataFrame(0, index=df.index, columns=all_tags)\n",
    "for i, tags in enumerate(df['tags']):\n",
    "    tag_matrix.loc[i, tags] = 1\n",
    "\n",
    "scaler = StandardScaler()\n",
    "X = scaler.fit_transform(tag_matrix)\n",
    "\n",
    "# Klasteryzacja\n",
    "kmeans = KMeans(n_clusters=5, random_state=42)\n",
    "df['cluster'] = kmeans.fit_predict(X)\n",
    "\n",
    "# Wizualizacja klastrów (kolor + centroidy)\n",
    "fig = px.scatter(df, x='price', y='tag_count', color='cluster', title='Klasteryzacja gier (cena vs liczba tagów)', labels={'price': 'Cena (zł)', 'tag_count': 'Liczba tagów'}, hover_data=['title'])\n",
    "fig.show()\n"
   ]
  }
 ],
 "metadata": {
  "kernelspec": {
   "display_name": "Python 3",
   "language": "python",
   "name": "python3"
  },
  "language_info": {
   "codemirror_mode": {
    "name": "ipython",
    "version": 3
   },
   "file_extension": ".py",
   "mimetype": "text/x-python",
   "name": "python",
   "nbconvert_exporter": "python",
   "pygments_lexer": "ipython3",
   "version": "3.10.4"
  }
 },
 "nbformat": 4,
 "nbformat_minor": 2
}

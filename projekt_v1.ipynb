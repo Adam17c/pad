{
 "cells": [
  {
   "cell_type": "code",
   "execution_count": null,
   "metadata": {},
   "outputs": [],
   "source": [
    "%pip install selenium\n",
    "%pip install beautifulsoup4\n",
    "%pip install plotly\n",
    "%pip install seaborn\n",
    "%pip install scipy\n",
    "%pip install nbformat"
   ]
  },
  {
   "cell_type": "code",
   "execution_count": 71,
   "metadata": {},
   "outputs": [
    {
     "name": "stdout",
     "output_type": "stream",
     "text": [
      "nbformat==5.10.4\n",
      "Note: you may need to restart the kernel to use updated packages.\n"
     ]
    }
   ],
   "source": [
    "%pip freeze | findstr nbformat\n"
   ]
  },
  {
   "cell_type": "markdown",
   "metadata": {},
   "source": [
    "Etap 1: Zbieranie danych"
   ]
  },
  {
   "cell_type": "code",
   "execution_count": 1,
   "metadata": {},
   "outputs": [
    {
     "name": "stderr",
     "output_type": "stream",
     "text": [
      "The chromedriver version (131.0.6778.69) detected in PATH at I:\\ChromeDriver\\chromedriver.exe might not be compatible with the detected chrome version (132.0.6834.110); currently, chromedriver 132.0.6834.110 is recommended for chrome 132.*, so it is advised to delete the driver in PATH and retry\n"
     ]
    }
   ],
   "source": [
    "from web_scraping import scrap_data\n",
    "\n",
    "data = scrap_data()"
   ]
  },
  {
   "cell_type": "markdown",
   "metadata": {},
   "source": [
    "Etap 2: Czyszczenie danych"
   ]
  },
  {
   "cell_type": "code",
   "execution_count": 2,
   "metadata": {},
   "outputs": [],
   "source": [
    "import pandas as pd\n",
    "from cleaning import clean_data\n",
    "\n",
    "# Dane wejściowe\n",
    "df = pd.DataFrame(data)\n",
    "\n",
    "# Przetwarzanie danych\n",
    "df = clean_data(df)\n"
   ]
  },
  {
   "cell_type": "code",
   "execution_count": 4,
   "metadata": {},
   "outputs": [],
   "source": [
    "df['Data wydania'] = pd.to_datetime(df['Data wydania'])\n",
    "\n",
    "# Ekstrakcja roku z kolumny 'Data wydania' i zapisanie jako nowa kolumna 'Rok wydania'\n",
    "df['Rok wydania'] = df['Data wydania'].dt.year"
   ]
  },
  {
   "cell_type": "code",
   "execution_count": 5,
   "metadata": {},
   "outputs": [
    {
     "data": {
      "text/html": [
       "<div>\n",
       "<style scoped>\n",
       "    .dataframe tbody tr th:only-of-type {\n",
       "        vertical-align: middle;\n",
       "    }\n",
       "\n",
       "    .dataframe tbody tr th {\n",
       "        vertical-align: top;\n",
       "    }\n",
       "\n",
       "    .dataframe thead th {\n",
       "        text-align: right;\n",
       "    }\n",
       "</style>\n",
       "<table border=\"1\" class=\"dataframe\">\n",
       "  <thead>\n",
       "    <tr style=\"text-align: right;\">\n",
       "      <th></th>\n",
       "      <th>Tytuł</th>\n",
       "      <th>Tagi</th>\n",
       "      <th>Cena</th>\n",
       "      <th>Data wydania</th>\n",
       "      <th>Nacechowanie recenzji</th>\n",
       "      <th>Liczba recenzji</th>\n",
       "      <th>Tag_2,5D</th>\n",
       "      <th>Tag_2D</th>\n",
       "      <th>Tag_3D</th>\n",
       "      <th>Tag_4X</th>\n",
       "      <th>...</th>\n",
       "      <th>Tag_Znaczące wybory</th>\n",
       "      <th>Tag_Zombie</th>\n",
       "      <th>Tag_Zręcznościowe</th>\n",
       "      <th>Tag_Łamigłówki</th>\n",
       "      <th>Tag_Łamigłówki platformowe</th>\n",
       "      <th>Tag_Łupy</th>\n",
       "      <th>Tag_Śledztwo</th>\n",
       "      <th>Tag_Świetna ścieżka dźwiękowa</th>\n",
       "      <th>Tag_Żeńska postać w roli głównej</th>\n",
       "      <th>Rok wydania</th>\n",
       "    </tr>\n",
       "  </thead>\n",
       "  <tbody>\n",
       "    <tr>\n",
       "      <th>0</th>\n",
       "      <td>Cyberpunk 2077</td>\n",
       "      <td>Cyberpunk, Otwarty świat, Nagość, RPG, Jednoos...</td>\n",
       "      <td>89.55</td>\n",
       "      <td>2020-12-10</td>\n",
       "      <td>Bardzo pozytywne</td>\n",
       "      <td>717578</td>\n",
       "      <td>0</td>\n",
       "      <td>0</td>\n",
       "      <td>0</td>\n",
       "      <td>0</td>\n",
       "      <td>...</td>\n",
       "      <td>0</td>\n",
       "      <td>0</td>\n",
       "      <td>0</td>\n",
       "      <td>0</td>\n",
       "      <td>0</td>\n",
       "      <td>0</td>\n",
       "      <td>0</td>\n",
       "      <td>0</td>\n",
       "      <td>0</td>\n",
       "      <td>2020</td>\n",
       "    </tr>\n",
       "    <tr>\n",
       "      <th>1</th>\n",
       "      <td>Dying Light 2 Stay Human: Reloaded Edition</td>\n",
       "      <td>Otwarty świat, Kooperacja, Zombie, Parkour, Wi...</td>\n",
       "      <td>65.99</td>\n",
       "      <td>2022-02-04</td>\n",
       "      <td>W większości pozytywne</td>\n",
       "      <td>137565</td>\n",
       "      <td>0</td>\n",
       "      <td>0</td>\n",
       "      <td>0</td>\n",
       "      <td>0</td>\n",
       "      <td>...</td>\n",
       "      <td>0</td>\n",
       "      <td>1</td>\n",
       "      <td>0</td>\n",
       "      <td>0</td>\n",
       "      <td>0</td>\n",
       "      <td>0</td>\n",
       "      <td>0</td>\n",
       "      <td>0</td>\n",
       "      <td>0</td>\n",
       "      <td>2022</td>\n",
       "    </tr>\n",
       "    <tr>\n",
       "      <th>2</th>\n",
       "      <td>Marvel Rivals</td>\n",
       "      <td>Free to Play, Wieloosobowe, Strzelanka z bohat...</td>\n",
       "      <td>0.00</td>\n",
       "      <td>2024-12-06</td>\n",
       "      <td>Bardzo pozytywne</td>\n",
       "      <td>183495</td>\n",
       "      <td>0</td>\n",
       "      <td>0</td>\n",
       "      <td>0</td>\n",
       "      <td>0</td>\n",
       "      <td>...</td>\n",
       "      <td>0</td>\n",
       "      <td>0</td>\n",
       "      <td>0</td>\n",
       "      <td>0</td>\n",
       "      <td>0</td>\n",
       "      <td>0</td>\n",
       "      <td>0</td>\n",
       "      <td>0</td>\n",
       "      <td>0</td>\n",
       "      <td>2024</td>\n",
       "    </tr>\n",
       "    <tr>\n",
       "      <th>3</th>\n",
       "      <td>Space Engineers 2</td>\n",
       "      <td>Symulatory, Akcja, Strategiczne, Piaskownica, ...</td>\n",
       "      <td>138.99</td>\n",
       "      <td>2025-01-27</td>\n",
       "      <td>W większości pozytywne</td>\n",
       "      <td>638</td>\n",
       "      <td>0</td>\n",
       "      <td>0</td>\n",
       "      <td>0</td>\n",
       "      <td>0</td>\n",
       "      <td>...</td>\n",
       "      <td>0</td>\n",
       "      <td>0</td>\n",
       "      <td>0</td>\n",
       "      <td>0</td>\n",
       "      <td>0</td>\n",
       "      <td>0</td>\n",
       "      <td>0</td>\n",
       "      <td>0</td>\n",
       "      <td>0</td>\n",
       "      <td>2025</td>\n",
       "    </tr>\n",
       "    <tr>\n",
       "      <th>4</th>\n",
       "      <td>Among Us</td>\n",
       "      <td>Wieloosobowe, Sieciowa kooperacja, Dedukcyjne ...</td>\n",
       "      <td>10.79</td>\n",
       "      <td>2018-11-16</td>\n",
       "      <td>Bardzo pozytywne</td>\n",
       "      <td>612177</td>\n",
       "      <td>0</td>\n",
       "      <td>0</td>\n",
       "      <td>0</td>\n",
       "      <td>0</td>\n",
       "      <td>...</td>\n",
       "      <td>0</td>\n",
       "      <td>0</td>\n",
       "      <td>0</td>\n",
       "      <td>0</td>\n",
       "      <td>0</td>\n",
       "      <td>0</td>\n",
       "      <td>0</td>\n",
       "      <td>0</td>\n",
       "      <td>0</td>\n",
       "      <td>2018</td>\n",
       "    </tr>\n",
       "    <tr>\n",
       "      <th>...</th>\n",
       "      <td>...</td>\n",
       "      <td>...</td>\n",
       "      <td>...</td>\n",
       "      <td>...</td>\n",
       "      <td>...</td>\n",
       "      <td>...</td>\n",
       "      <td>...</td>\n",
       "      <td>...</td>\n",
       "      <td>...</td>\n",
       "      <td>...</td>\n",
       "      <td>...</td>\n",
       "      <td>...</td>\n",
       "      <td>...</td>\n",
       "      <td>...</td>\n",
       "      <td>...</td>\n",
       "      <td>...</td>\n",
       "      <td>...</td>\n",
       "      <td>...</td>\n",
       "      <td>...</td>\n",
       "      <td>...</td>\n",
       "      <td>...</td>\n",
       "    </tr>\n",
       "    <tr>\n",
       "      <th>487</th>\n",
       "      <td>Space Prison</td>\n",
       "      <td>Taktyczne turowe, Komiks, Strategiczne RPG, RP...</td>\n",
       "      <td>70.00</td>\n",
       "      <td>2024-07-18</td>\n",
       "      <td>Bardzo pozytywne</td>\n",
       "      <td>182</td>\n",
       "      <td>0</td>\n",
       "      <td>0</td>\n",
       "      <td>0</td>\n",
       "      <td>0</td>\n",
       "      <td>...</td>\n",
       "      <td>0</td>\n",
       "      <td>0</td>\n",
       "      <td>0</td>\n",
       "      <td>0</td>\n",
       "      <td>0</td>\n",
       "      <td>0</td>\n",
       "      <td>0</td>\n",
       "      <td>0</td>\n",
       "      <td>0</td>\n",
       "      <td>2024</td>\n",
       "    </tr>\n",
       "    <tr>\n",
       "      <th>488</th>\n",
       "      <td>Nuke Them All</td>\n",
       "      <td>RTS, RTS akcji, Wojenne, Strategiczne, Taktyka...</td>\n",
       "      <td>91.99</td>\n",
       "      <td>2024-06-19</td>\n",
       "      <td>Bardzo pozytywne</td>\n",
       "      <td>86</td>\n",
       "      <td>0</td>\n",
       "      <td>0</td>\n",
       "      <td>0</td>\n",
       "      <td>0</td>\n",
       "      <td>...</td>\n",
       "      <td>0</td>\n",
       "      <td>0</td>\n",
       "      <td>0</td>\n",
       "      <td>0</td>\n",
       "      <td>0</td>\n",
       "      <td>0</td>\n",
       "      <td>0</td>\n",
       "      <td>0</td>\n",
       "      <td>0</td>\n",
       "      <td>2024</td>\n",
       "    </tr>\n",
       "    <tr>\n",
       "      <th>489</th>\n",
       "      <td>Aliens vs. Ghosts</td>\n",
       "      <td>Akcja, Strzelanka, FPS, 3D, Perspektywa pierws...</td>\n",
       "      <td>34.68</td>\n",
       "      <td>2022-07-06</td>\n",
       "      <td>Bardzo pozytywne</td>\n",
       "      <td>379</td>\n",
       "      <td>0</td>\n",
       "      <td>0</td>\n",
       "      <td>1</td>\n",
       "      <td>0</td>\n",
       "      <td>...</td>\n",
       "      <td>0</td>\n",
       "      <td>0</td>\n",
       "      <td>0</td>\n",
       "      <td>0</td>\n",
       "      <td>0</td>\n",
       "      <td>0</td>\n",
       "      <td>0</td>\n",
       "      <td>0</td>\n",
       "      <td>0</td>\n",
       "      <td>2022</td>\n",
       "    </tr>\n",
       "    <tr>\n",
       "      <th>490</th>\n",
       "      <td>Goodbye Deponia</td>\n",
       "      <td>Przygodowe, Wskaż i kliknij, Komediowe, Jednoo...</td>\n",
       "      <td>9.19</td>\n",
       "      <td>2013-10-18</td>\n",
       "      <td>Bardzo pozytywne</td>\n",
       "      <td>1829</td>\n",
       "      <td>0</td>\n",
       "      <td>0</td>\n",
       "      <td>0</td>\n",
       "      <td>0</td>\n",
       "      <td>...</td>\n",
       "      <td>0</td>\n",
       "      <td>0</td>\n",
       "      <td>0</td>\n",
       "      <td>0</td>\n",
       "      <td>0</td>\n",
       "      <td>0</td>\n",
       "      <td>0</td>\n",
       "      <td>0</td>\n",
       "      <td>0</td>\n",
       "      <td>2013</td>\n",
       "    </tr>\n",
       "    <tr>\n",
       "      <th>491</th>\n",
       "      <td>Narita Boy</td>\n",
       "      <td>Akcja, Retro, Przygodowe, Platformowe, 2D</td>\n",
       "      <td>17.99</td>\n",
       "      <td>2021-03-30</td>\n",
       "      <td>Bardzo pozytywne</td>\n",
       "      <td>969</td>\n",
       "      <td>0</td>\n",
       "      <td>1</td>\n",
       "      <td>0</td>\n",
       "      <td>0</td>\n",
       "      <td>...</td>\n",
       "      <td>0</td>\n",
       "      <td>0</td>\n",
       "      <td>0</td>\n",
       "      <td>0</td>\n",
       "      <td>0</td>\n",
       "      <td>0</td>\n",
       "      <td>0</td>\n",
       "      <td>0</td>\n",
       "      <td>0</td>\n",
       "      <td>2021</td>\n",
       "    </tr>\n",
       "  </tbody>\n",
       "</table>\n",
       "<p>480 rows × 253 columns</p>\n",
       "</div>"
      ],
      "text/plain": [
       "                                          Tytuł  \\\n",
       "0                                Cyberpunk 2077   \n",
       "1    Dying Light 2 Stay Human: Reloaded Edition   \n",
       "2                                 Marvel Rivals   \n",
       "3                             Space Engineers 2   \n",
       "4                                      Among Us   \n",
       "..                                          ...   \n",
       "487                                Space Prison   \n",
       "488                               Nuke Them All   \n",
       "489                           Aliens vs. Ghosts   \n",
       "490                             Goodbye Deponia   \n",
       "491                                  Narita Boy   \n",
       "\n",
       "                                                  Tagi    Cena Data wydania  \\\n",
       "0    Cyberpunk, Otwarty świat, Nagość, RPG, Jednoos...   89.55   2020-12-10   \n",
       "1    Otwarty świat, Kooperacja, Zombie, Parkour, Wi...   65.99   2022-02-04   \n",
       "2    Free to Play, Wieloosobowe, Strzelanka z bohat...    0.00   2024-12-06   \n",
       "3    Symulatory, Akcja, Strategiczne, Piaskownica, ...  138.99   2025-01-27   \n",
       "4    Wieloosobowe, Sieciowa kooperacja, Dedukcyjne ...   10.79   2018-11-16   \n",
       "..                                                 ...     ...          ...   \n",
       "487  Taktyczne turowe, Komiks, Strategiczne RPG, RP...   70.00   2024-07-18   \n",
       "488  RTS, RTS akcji, Wojenne, Strategiczne, Taktyka...   91.99   2024-06-19   \n",
       "489  Akcja, Strzelanka, FPS, 3D, Perspektywa pierws...   34.68   2022-07-06   \n",
       "490  Przygodowe, Wskaż i kliknij, Komediowe, Jednoo...    9.19   2013-10-18   \n",
       "491          Akcja, Retro, Przygodowe, Platformowe, 2D   17.99   2021-03-30   \n",
       "\n",
       "      Nacechowanie recenzji  Liczba recenzji  Tag_2,5D  Tag_2D  Tag_3D  \\\n",
       "0          Bardzo pozytywne           717578         0       0       0   \n",
       "1    W większości pozytywne           137565         0       0       0   \n",
       "2          Bardzo pozytywne           183495         0       0       0   \n",
       "3    W większości pozytywne              638         0       0       0   \n",
       "4          Bardzo pozytywne           612177         0       0       0   \n",
       "..                      ...              ...       ...     ...     ...   \n",
       "487        Bardzo pozytywne              182         0       0       0   \n",
       "488        Bardzo pozytywne               86         0       0       0   \n",
       "489        Bardzo pozytywne              379         0       0       1   \n",
       "490        Bardzo pozytywne             1829         0       0       0   \n",
       "491        Bardzo pozytywne              969         0       1       0   \n",
       "\n",
       "     Tag_4X  ...  Tag_Znaczące wybory  Tag_Zombie  Tag_Zręcznościowe  \\\n",
       "0         0  ...                    0           0                  0   \n",
       "1         0  ...                    0           1                  0   \n",
       "2         0  ...                    0           0                  0   \n",
       "3         0  ...                    0           0                  0   \n",
       "4         0  ...                    0           0                  0   \n",
       "..      ...  ...                  ...         ...                ...   \n",
       "487       0  ...                    0           0                  0   \n",
       "488       0  ...                    0           0                  0   \n",
       "489       0  ...                    0           0                  0   \n",
       "490       0  ...                    0           0                  0   \n",
       "491       0  ...                    0           0                  0   \n",
       "\n",
       "     Tag_Łamigłówki  Tag_Łamigłówki platformowe  Tag_Łupy  Tag_Śledztwo  \\\n",
       "0                 0                           0         0             0   \n",
       "1                 0                           0         0             0   \n",
       "2                 0                           0         0             0   \n",
       "3                 0                           0         0             0   \n",
       "4                 0                           0         0             0   \n",
       "..              ...                         ...       ...           ...   \n",
       "487               0                           0         0             0   \n",
       "488               0                           0         0             0   \n",
       "489               0                           0         0             0   \n",
       "490               0                           0         0             0   \n",
       "491               0                           0         0             0   \n",
       "\n",
       "     Tag_Świetna ścieżka dźwiękowa  Tag_Żeńska postać w roli głównej  \\\n",
       "0                                0                                 0   \n",
       "1                                0                                 0   \n",
       "2                                0                                 0   \n",
       "3                                0                                 0   \n",
       "4                                0                                 0   \n",
       "..                             ...                               ...   \n",
       "487                              0                                 0   \n",
       "488                              0                                 0   \n",
       "489                              0                                 0   \n",
       "490                              0                                 0   \n",
       "491                              0                                 0   \n",
       "\n",
       "     Rok wydania  \n",
       "0           2020  \n",
       "1           2022  \n",
       "2           2024  \n",
       "3           2025  \n",
       "4           2018  \n",
       "..           ...  \n",
       "487         2024  \n",
       "488         2024  \n",
       "489         2022  \n",
       "490         2013  \n",
       "491         2021  \n",
       "\n",
       "[480 rows x 253 columns]"
      ]
     },
     "metadata": {},
     "output_type": "display_data"
    }
   ],
   "source": [
    "display(df)"
   ]
  },
  {
   "cell_type": "markdown",
   "metadata": {},
   "source": [
    "Etap 4: Analiza danych"
   ]
  },
  {
   "cell_type": "markdown",
   "metadata": {},
   "source": [
    "Średnie kroczące szeregu czasowego"
   ]
  },
  {
   "cell_type": "code",
   "execution_count": 163,
   "metadata": {},
   "outputs": [
    {
     "data": {
      "image/png": "[encoded data removed]",
      "text/plain": [
       "<Figure size 1008x432 with 2 Axes>"
      ]
     },
     "metadata": {
      "needs_background": "light"
     },
     "output_type": "display_data"
    },
    {
     "data": {
      "image/png": "[encoded data removed]",
      "text/plain": [
       "<Figure size 864x432 with 1 Axes>"
      ]
     },
     "metadata": {
      "needs_background": "light"
     },
     "output_type": "display_data"
    },
    {
     "data": {
      "image/png": "[encoded data removed]",
      "text/plain": [
       "<Figure size 720x360 with 1 Axes>"
      ]
     },
     "metadata": {
      "needs_background": "light"
     },
     "output_type": "display_data"
    }
   ],
   "source": [
    "from analyzing import analyze_data\n",
    "\n",
    "analyze_data(df)"
   ]
  },
  {
   "cell_type": "markdown",
   "metadata": {},
   "source": [
    "Dekompozycja szeregu czasowego"
   ]
  },
  {
   "cell_type": "code",
   "execution_count": null,
   "metadata": {},
   "outputs": [],
   "source": []
  },
  {
   "cell_type": "markdown",
   "metadata": {},
   "source": [
    "Tagi - tabela korzyżowa"
   ]
  },
  {
   "cell_type": "code",
   "execution_count": 109,
   "metadata": {},
   "outputs": [],
   "source": [
    "import seaborn as sns\n",
    "import matplotlib.pyplot as plt\n",
    "\n",
    "# Zliczanie liczby wystąpień każdego tagu\n",
    "tag_counts = df['Tagi'].str.split(', ').explode().value_counts()\n",
    "\n",
    "# Wybór najpopularniejszych tagów\n",
    "top_tags = tag_counts.head(20).index\n",
    "\n",
    "# Tworzenie macierzy współwystępowania tagów\n",
    "tag_matrix = pd.DataFrame(0, index=top_tags, columns=top_tags)\n",
    "\n",
    "for tags in df['Tagi'].dropna().str.split(', '):\n",
    "    for tag1 in tags:\n",
    "        for tag2 in tags:\n",
    "            if tag1 in top_tags and tag2 in top_tags:\n",
    "                tag_matrix.loc[tag1, tag2] += 1\n",
    "\n",
    "# Obliczenie korelacji między tagami\n",
    "tag_corr = tag_matrix.corr()\n"
   ]
  },
  {
   "cell_type": "code",
   "execution_count": 110,
   "metadata": {},
   "outputs": [
    {
     "data": {
      "image/png": "[encoded data removed]",
      "text/plain": [
       "<Figure size 864x576 with 2 Axes>"
      ]
     },
     "metadata": {
      "needs_background": "light"
     },
     "output_type": "display_data"
    }
   ],
   "source": [
    "# Wybranie top 20 tagów z najwyższą sumaryczną korelacją\n",
    "top_corr_tags = tag_corr.sum().sort_values(ascending=False).head(20).index\n",
    "filtered_corr = tag_corr.loc[top_corr_tags, top_corr_tags]\n",
    "\n",
    "# Heatmapa\n",
    "plt.figure(figsize=(12, 8))\n",
    "sns.heatmap(filtered_corr, annot=True, cmap='coolwarm', xticklabels=top_corr_tags, yticklabels=top_corr_tags)\n",
    "plt.title('Heatmapa dla 20 najbardziej skorelowanych tagów')\n",
    "plt.show()\n"
   ]
  },
  {
   "cell_type": "markdown",
   "metadata": {},
   "source": [
    "Etap 5: Dashboard"
   ]
  },
  {
   "cell_type": "code",
   "execution_count": 92,
   "metadata": {},
   "outputs": [
    {
     "data": {
      "application/vnd.plotly.v1+json": {
       "config": {
        "plotlyServerURL": "https://plot.ly"
       },
       "data": [
        {
         "domain": {
          "x": [
           0,
           1
          ],
          "y": [
           0,
           1
          ]
         },
         "hovertemplate": "Tag=%{label}<br>Review Count=%{value}<extra></extra>",
         "labels": [
          "Wieloosobowe",
          "FPS",
          "Otwarty świat",
          "Survival",
          "Free to Play",
          "Jednoosobowe",
          "Akcja",
          "Strzelanka",
          "Zombie",
          "Kooperacja",
          "Sieciowa kooperacja",
          "Bogata fabuła",
          "Kosmos",
          "Survivalowe w otwartym świecie",
          "RPG",
          "Science fiction",
          "Strzelanka z perspektywą trzeciej osoby",
          "Perspektywa pierwszej osoby",
          "Strategiczne",
          "Postapokaliptyczne",
          "Other"
         ],
         "legendgroup": "",
         "name": "",
         "showlegend": true,
         "type": "pie",
         "values": [
          7735094,
          5571828,
          4969732,
          3733851,
          3351497,
          3299591,
          3189706,
          3091217,
          2442445,
          2174584,
          1959500,
          1922024,
          1667533,
          1603479,
          1595450,
          1577525,
          1363155,
          1244256,
          1233542,
          1230833,
          29737518
         ]
        }
       ],
       "layout": {
        "legend": {
         "tracegroupgap": 0
        },
        "piecolorway": [
         "rgb(102, 197, 204)",
         "rgb(246, 207, 113)",
         "rgb(248, 156, 116)",
         "rgb(220, 176, 242)",
         "rgb(135, 197, 95)",
         "rgb(158, 185, 243)",
         "rgb(254, 136, 177)",
         "rgb(201, 219, 116)",
         "rgb(139, 224, 164)",
         "rgb(180, 151, 231)",
         "rgb(179, 179, 179)"
        ],
        "template": {
         "data": {
          "bar": [
           {
            "error_x": {
             "color": "#2a3f5f"
            },
            "error_y": {
             "color": "#2a3f5f"
            },
            "marker": {
             "line": {
              "color": "#E5ECF6",
              "width": 0.5
             },
             "pattern": {
              "fillmode": "overlay",
              "size": 10,
              "solidity": 0.2
             }
            },
            "type": "bar"
           }
          ],
          "barpolar": [
           {
            "marker": {
             "line": {
              "color": "#E5ECF6",
              "width": 0.5
             },
             "pattern": {
              "fillmode": "overlay",
              "size": 10,
              "solidity": 0.2
             }
            },
            "type": "barpolar"
           }
          ],
          "carpet": [
           {
            "aaxis": {
             "endlinecolor": "#2a3f5f",
             "gridcolor": "white",
             "linecolor": "white",
             "minorgridcolor": "white",
             "startlinecolor": "#2a3f5f"
            },
            "baxis": {
             "endlinecolor": "#2a3f5f",
             "gridcolor": "white",
             "linecolor": "white",
             "minorgridcolor": "white",
             "startlinecolor": "#2a3f5f"
            },
            "type": "carpet"
           }
          ],
          "choropleth": [
           {
            "colorbar": {
             "outlinewidth": 0,
             "ticks": ""
            },
            "type": "choropleth"
           }
          ],
          "contour": [
           {
            "colorbar": {
             "outlinewidth": 0,
             "ticks": ""
            },
            "colorscale": [
             [
              0,
              "#0d0887"
             ],
             [
              0.1111111111111111,
              "#46039f"
             ],
             [
              0.2222222222222222,
              "#7201a8"
             ],
             [
              0.3333333333333333,
              "#9c179e"
             ],
             [
              0.4444444444444444,
              "#bd3786"
             ],
             [
              0.5555555555555556,
              "#d8576b"
             ],
             [
              0.6666666666666666,
              "#ed7953"
             ],
             [
              0.7777777777777778,
              "#fb9f3a"
             ],
             [
              0.8888888888888888,
              "#fdca26"
             ],
             [
              1,
              "#f0f921"
             ]
            ],
            "type": "contour"
           }
          ],
          "contourcarpet": [
           {
            "colorbar": {
             "outlinewidth": 0,
             "ticks": ""
            },
            "type": "contourcarpet"
           }
          ],
          "heatmap": [
           {
            "colorbar": {
             "outlinewidth": 0,
             "ticks": ""
            },
            "colorscale": [
             [
              0,
              "#0d0887"
             ],
             [
              0.1111111111111111,
              "#46039f"
             ],
             [
              0.2222222222222222,
              "#7201a8"
             ],
             [
              0.3333333333333333,
              "#9c179e"
             ],
             [
              0.4444444444444444,
              "#bd3786"
             ],
             [
              0.5555555555555556,
              "#d8576b"
             ],
             [
              0.6666666666666666,
              "#ed7953"
             ],
             [
              0.7777777777777778,
              "#fb9f3a"
             ],
             [
              0.8888888888888888,
              "#fdca26"
             ],
             [
              1,
              "#f0f921"
             ]
            ],
            "type": "heatmap"
           }
          ],
          "heatmapgl": [
           {
            "colorbar": {
             "outlinewidth": 0,
             "ticks": ""
            },
            "colorscale": [
             [
              0,
              "#0d0887"
             ],
             [
              0.1111111111111111,
              "#46039f"
             ],
             [
              0.2222222222222222,
              "#7201a8"
             ],
             [
              0.3333333333333333,
              "#9c179e"
             ],
             [
              0.4444444444444444,
              "#bd3786"
             ],
             [
              0.5555555555555556,
              "#d8576b"
             ],
             [
              0.6666666666666666,
              "#ed7953"
             ],
             [
              0.7777777777777778,
              "#fb9f3a"
             ],
             [
              0.8888888888888888,
              "#fdca26"
             ],
             [
              1,
              "#f0f921"
             ]
            ],
            "type": "heatmapgl"
           }
          ],
          "histogram": [
           {
            "marker": {
             "pattern": {
              "fillmode": "overlay",
              "size": 10,
              "solidity": 0.2
             }
            },
            "type": "histogram"
           }
          ],
          "histogram2d": [
           {
            "colorbar": {
             "outlinewidth": 0,
             "ticks": ""
            },
            "colorscale": [
             [
              0,
              "#0d0887"
             ],
             [
              0.1111111111111111,
              "#46039f"
             ],
             [
              0.2222222222222222,
              "#7201a8"
             ],
             [
              0.3333333333333333,
              "#9c179e"
             ],
             [
              0.4444444444444444,
              "#bd3786"
             ],
             [
              0.5555555555555556,
              "#d8576b"
             ],
             [
              0.6666666666666666,
              "#ed7953"
             ],
             [
              0.7777777777777778,
              "#fb9f3a"
             ],
             [
              0.8888888888888888,
              "#fdca26"
             ],
             [
              1,
              "#f0f921"
             ]
            ],
            "type": "histogram2d"
           }
          ],
          "histogram2dcontour": [
           {
            "colorbar": {
             "outlinewidth": 0,
             "ticks": ""
            },
            "colorscale": [
             [
              0,
              "#0d0887"
             ],
             [
              0.1111111111111111,
              "#46039f"
             ],
             [
              0.2222222222222222,
              "#7201a8"
             ],
             [
              0.3333333333333333,
              "#9c179e"
             ],
             [
              0.4444444444444444,
              "#bd3786"
             ],
             [
              0.5555555555555556,
              "#d8576b"
             ],
             [
              0.6666666666666666,
              "#ed7953"
             ],
             [
              0.7777777777777778,
              "#fb9f3a"
             ],
             [
              0.8888888888888888,
              "#fdca26"
             ],
             [
              1,
              "#f0f921"
             ]
            ],
            "type": "histogram2dcontour"
           }
          ],
          "mesh3d": [
           {
            "colorbar": {
             "outlinewidth": 0,
             "ticks": ""
            },
            "type": "mesh3d"
           }
          ],
          "parcoords": [
           {
            "line": {
             "colorbar": {
              "outlinewidth": 0,
              "ticks": ""
             }
            },
            "type": "parcoords"
           }
          ],
          "pie": [
           {
            "automargin": true,
            "type": "pie"
           }
          ],
          "scatter": [
           {
            "fillpattern": {
             "fillmode": "overlay",
             "size": 10,
             "solidity": 0.2
            },
            "type": "scatter"
           }
          ],
          "scatter3d": [
           {
            "line": {
             "colorbar": {
              "outlinewidth": 0,
              "ticks": ""
             }
            },
            "marker": {
             "colorbar": {
              "outlinewidth": 0,
              "ticks": ""
             }
            },
            "type": "scatter3d"
           }
          ],
          "scattercarpet": [
           {
            "marker": {
             "colorbar": {
              "outlinewidth": 0,
              "ticks": ""
             }
            },
            "type": "scattercarpet"
           }
          ],
          "scattergeo": [
           {
            "marker": {
             "colorbar": {
              "outlinewidth": 0,
              "ticks": ""
             }
            },
            "type": "scattergeo"
           }
          ],
          "scattergl": [
           {
            "marker": {
             "colorbar": {
              "outlinewidth": 0,
              "ticks": ""
             }
            },
            "type": "scattergl"
           }
          ],
          "scattermapbox": [
           {
            "marker": {
             "colorbar": {
              "outlinewidth": 0,
              "ticks": ""
             }
            },
            "type": "scattermapbox"
           }
          ],
          "scatterpolar": [
           {
            "marker": {
             "colorbar": {
              "outlinewidth": 0,
              "ticks": ""
             }
            },
            "type": "scatterpolar"
           }
          ],
          "scatterpolargl": [
           {
            "marker": {
             "colorbar": {
              "outlinewidth": 0,
              "ticks": ""
             }
            },
            "type": "scatterpolargl"
           }
          ],
          "scatterternary": [
           {
            "marker": {
             "colorbar": {
              "outlinewidth": 0,
              "ticks": ""
             }
            },
            "type": "scatterternary"
           }
          ],
          "surface": [
           {
            "colorbar": {
             "outlinewidth": 0,
             "ticks": ""
            },
            "colorscale": [
             [
              0,
              "#0d0887"
             ],
             [
              0.1111111111111111,
              "#46039f"
             ],
             [
              0.2222222222222222,
              "#7201a8"
             ],
             [
              0.3333333333333333,
              "#9c179e"
             ],
             [
              0.4444444444444444,
              "#bd3786"
             ],
             [
              0.5555555555555556,
              "#d8576b"
             ],
             [
              0.6666666666666666,
              "#ed7953"
             ],
             [
              0.7777777777777778,
              "#fb9f3a"
             ],
             [
              0.8888888888888888,
              "#fdca26"
             ],
             [
              1,
              "#f0f921"
             ]
            ],
            "type": "surface"
           }
          ],
          "table": [
           {
            "cells": {
             "fill": {
              "color": "#EBF0F8"
             },
             "line": {
              "color": "white"
             }
            },
            "header": {
             "fill": {
              "color": "#C8D4E3"
             },
             "line": {
              "color": "white"
             }
            },
            "type": "table"
           }
          ]
         },
         "layout": {
          "annotationdefaults": {
           "arrowcolor": "#2a3f5f",
           "arrowhead": 0,
           "arrowwidth": 1
          },
          "autotypenumbers": "strict",
          "coloraxis": {
           "colorbar": {
            "outlinewidth": 0,
            "ticks": ""
           }
          },
          "colorscale": {
           "diverging": [
            [
             0,
             "#8e0152"
            ],
            [
             0.1,
             "#c51b7d"
            ],
            [
             0.2,
             "#de77ae"
            ],
            [
             0.3,
             "#f1b6da"
            ],
            [
             0.4,
             "#fde0ef"
            ],
            [
             0.5,
             "#f7f7f7"
            ],
            [
             0.6,
             "#e6f5d0"
            ],
            [
             0.7,
             "#b8e186"
            ],
            [
             0.8,
             "#7fbc41"
            ],
            [
             0.9,
             "#4d9221"
            ],
            [
             1,
             "#276419"
            ]
           ],
           "sequential": [
            [
             0,
             "#0d0887"
            ],
            [
             0.1111111111111111,
             "#46039f"
            ],
            [
             0.2222222222222222,
             "#7201a8"
            ],
            [
             0.3333333333333333,
             "#9c179e"
            ],
            [
             0.4444444444444444,
             "#bd3786"
            ],
            [
             0.5555555555555556,
             "#d8576b"
            ],
            [
             0.6666666666666666,
             "#ed7953"
            ],
            [
             0.7777777777777778,
             "#fb9f3a"
            ],
            [
             0.8888888888888888,
             "#fdca26"
            ],
            [
             1,
             "#f0f921"
            ]
           ],
           "sequentialminus": [
            [
             0,
             "#0d0887"
            ],
            [
             0.1111111111111111,
             "#46039f"
            ],
            [
             0.2222222222222222,
             "#7201a8"
            ],
            [
             0.3333333333333333,
             "#9c179e"
            ],
            [
             0.4444444444444444,
             "#bd3786"
            ],
            [
             0.5555555555555556,
             "#d8576b"
            ],
            [
             0.6666666666666666,
             "#ed7953"
            ],
            [
             0.7777777777777778,
             "#fb9f3a"
            ],
            [
             0.8888888888888888,
             "#fdca26"
            ],
            [
             1,
             "#f0f921"
            ]
           ]
          },
          "colorway": [
           "#636efa",
           "#EF553B",
           "#00cc96",
           "#ab63fa",
           "#FFA15A",
           "#19d3f3",
           "#FF6692",
           "#B6E880",
           "#FF97FF",
           "#FECB52"
          ],
          "font": {
           "color": "#2a3f5f"
          },
          "geo": {
           "bgcolor": "white",
           "lakecolor": "white",
           "landcolor": "#E5ECF6",
           "showlakes": true,
           "showland": true,
           "subunitcolor": "white"
          },
          "hoverlabel": {
           "align": "left"
          },
          "hovermode": "closest",
          "mapbox": {
           "style": "light"
          },
          "paper_bgcolor": "white",
          "plot_bgcolor": "#E5ECF6",
          "polar": {
           "angularaxis": {
            "gridcolor": "white",
            "linecolor": "white",
            "ticks": ""
           },
           "bgcolor": "#E5ECF6",
           "radialaxis": {
            "gridcolor": "white",
            "linecolor": "white",
            "ticks": ""
           }
          },
          "scene": {
           "xaxis": {
            "backgroundcolor": "#E5ECF6",
            "gridcolor": "white",
            "gridwidth": 2,
            "linecolor": "white",
            "showbackground": true,
            "ticks": "",
            "zerolinecolor": "white"
           },
           "yaxis": {
            "backgroundcolor": "#E5ECF6",
            "gridcolor": "white",
            "gridwidth": 2,
            "linecolor": "white",
            "showbackground": true,
            "ticks": "",
            "zerolinecolor": "white"
           },
           "zaxis": {
            "backgroundcolor": "#E5ECF6",
            "gridcolor": "white",
            "gridwidth": 2,
            "linecolor": "white",
            "showbackground": true,
            "ticks": "",
            "zerolinecolor": "white"
           }
          },
          "shapedefaults": {
           "line": {
            "color": "#2a3f5f"
           }
          },
          "ternary": {
           "aaxis": {
            "gridcolor": "white",
            "linecolor": "white",
            "ticks": ""
           },
           "baxis": {
            "gridcolor": "white",
            "linecolor": "white",
            "ticks": ""
           },
           "bgcolor": "#E5ECF6",
           "caxis": {
            "gridcolor": "white",
            "linecolor": "white",
            "ticks": ""
           }
          },
          "title": {
           "x": 0.05
          },
          "xaxis": {
           "automargin": true,
           "gridcolor": "white",
           "linecolor": "white",
           "ticks": "",
           "title": {
            "standoff": 15
           },
           "zerolinecolor": "white",
           "zerolinewidth": 2
          },
          "yaxis": {
           "automargin": true,
           "gridcolor": "white",
           "linecolor": "white",
           "ticks": "",
           "title": {
            "standoff": 15
           },
           "zerolinecolor": "white",
           "zerolinewidth": 2
          }
         }
        },
        "title": {
         "text": "Liczba opinii per tag (z kategorią \"Other\")"
        }
       }
      }
     },
     "metadata": {},
     "output_type": "display_data"
    }
   ],
   "source": [
    "from collections import Counter\n",
    "import pandas as pd\n",
    "import plotly.express as px\n",
    "\n",
    "def prepare_pie_chart_reviews(df, top_n=20):\n",
    "    # Zliczanie liczby recenzji na tag\n",
    "    tags = df['Tagi'].apply(lambda x: x.split(', '))\n",
    "    tag_reviews = Counter()\n",
    "\n",
    "    for idx, tag_list in enumerate(tags):\n",
    "        for tag in tag_list:\n",
    "            tag_reviews[tag] += df.iloc[idx]['Liczba recenzji']\n",
    "\n",
    "    # Podział na najpopularniejsze tagi i kategorię \"Other\"\n",
    "    top_tags = tag_reviews.most_common(top_n)\n",
    "    other_count = sum(count for tag, count in tag_reviews.items() if tag not in dict(top_tags))\n",
    "    \n",
    "    # Przygotowanie danych do DataFrame\n",
    "    pie_data = pd.DataFrame(top_tags, columns=['Tag', 'Review Count'])\n",
    "    if other_count > 0:\n",
    "        other_row = pd.DataFrame([{'Tag': 'Other', 'Review Count': other_count}])\n",
    "        pie_data = pd.concat([pie_data, other_row], ignore_index=True)\n",
    "    \n",
    "    return pie_data\n",
    "\n",
    "# Przygotowanie danych do wykresu\n",
    "pie_chart_reviews_data = prepare_pie_chart_reviews(df)\n",
    "\n",
    "# Wizualizacja\n",
    "fig0 = px.pie(pie_chart_reviews_data, names='Tag', values='Review Count',\n",
    "             title='Liczba opinii per tag (z kategorią \"Other\")',\n",
    "             color_discrete_sequence=px.colors.qualitative.Pastel)\n",
    "fig0.show()\n"
   ]
  },
  {
   "cell_type": "code",
   "execution_count": 93,
   "metadata": {},
   "outputs": [
    {
     "data": {
      "application/vnd.plotly.v1+json": {
       "config": {
        "plotlyServerURL": "https://plot.ly"
       },
       "data": [
        {
         "alignmentgroup": "True",
         "bingroup": "x",
         "hovertemplate": "Cena=%{x}<br>count=%{y}<extra></extra>",
         "legendgroup": "",
         "marker": {
          "color": "#636efa",
          "pattern": {
           "shape": ""
          }
         },
         "name": "",
         "nbinsx": 20,
         "offsetgroup": "",
         "orientation": "v",
         "showlegend": false,
         "type": "histogram",
         "x": [
          89.55,
          138.99,
          0,
          65.99,
          10.79,
          157.49,
          45.86,
          42.25,
          111.99,
          169,
          184.99,
          45.86,
          15.99,
          45.99,
          184.99,
          214.99,
          105.63,
          161.99,
          26.56,
          74.97,
          91.99,
          49.99,
          13.89,
          72.59,
          124.79,
          229.99,
          0,
          0,
          84.5,
          35.74,
          107.99,
          31.75,
          109.99,
          26.99,
          89.99,
          169.9,
          22.99,
          138.99,
          49.75,
          84.99,
          0,
          0,
          26.99,
          35.5,
          13.79,
          45.86,
          57.19,
          79.99,
          0,
          138.99,
          55.99,
          259,
          37.2,
          259,
          59.6,
          0,
          99.6,
          26.98,
          107.99,
          104.99,
          79.99,
          40.48,
          15.6,
          65.4,
          0,
          118.14,
          0,
          15.99,
          72.99,
          29.99,
          57.59,
          289.9,
          129.99,
          77.99,
          111.3,
          219,
          27.98,
          207.2,
          69.99,
          9.19,
          0,
          45.99,
          199.99,
          114.99,
          67.99,
          274.99,
          68.64,
          11.99,
          40.99,
          89.99,
          149.99,
          12.6,
          45.99,
          269.9,
          54.45,
          19.99,
          65.99,
          31.99,
          69.49,
          12.6,
          229,
          0,
          119.9,
          68.99,
          110.99,
          114.99,
          107.99,
          219,
          35.8,
          254.8,
          114.99,
          79,
          91.99,
          45.99,
          0,
          39.99,
          29.99,
          126.74,
          28.48,
          45.99,
          107.99,
          119.99,
          109,
          55.19,
          35.6,
          78.99,
          231.99,
          32.24,
          107.46,
          43.19,
          91.99,
          89.99,
          13.98,
          169,
          95.5,
          59.99,
          29.85,
          71.99,
          36.79,
          159.99,
          67.49,
          0,
          156.99,
          64.99,
          208.49,
          34.75,
          0,
          13.99,
          91.99,
          114.99,
          13.98,
          107.99,
          35.99,
          13.98,
          71.49,
          0,
          99.6,
          67.99,
          91.99,
          109.49,
          71.99,
          28.74,
          61.19,
          32.39,
          68.7,
          44.99,
          47.2,
          17.99,
          49.99,
          91.06,
          41.99,
          21.24,
          0,
          107.99,
          41.98,
          94.99,
          289.9,
          45.99,
          53.99,
          64.5,
          0,
          91.99,
          105.79,
          71.99,
          35.99,
          89.99,
          89.99,
          0,
          13.48,
          34.99,
          34.99,
          17.99,
          14.99,
          82.79,
          32.49,
          45.99,
          99,
          0,
          77.99,
          89.99,
          74.99,
          138.99,
          36.79,
          0,
          71.99,
          27.59,
          24.99,
          69.99,
          34.99,
          45.99,
          67.99,
          26.99,
          91.99,
          68.99,
          54.99,
          7.99,
          274.99,
          100,
          171.9,
          184.99,
          35.99,
          31,
          14.75,
          100,
          100,
          31.24,
          124,
          122.99,
          44.99,
          44.99,
          44.99,
          48.13,
          19.99,
          14.29,
          9.99,
          17.99,
          10.79,
          45.99,
          45.99,
          89.99,
          22.99,
          45.86,
          39.99,
          0,
          54.99,
          45.99,
          13.48,
          67.52,
          6.99,
          82.99,
          21.59,
          50,
          75,
          17.47,
          161.99,
          52.19,
          138.99,
          35.59,
          17.99,
          40.99,
          67.99,
          22.99,
          7.99,
          100,
          39.99,
          39.9,
          199,
          49.17,
          91.99,
          100,
          100,
          161.99,
          73.59,
          0,
          89.99,
          22,
          159.99,
          124.99,
          36.99,
          21.59,
          45.99,
          91.99,
          91.99,
          6.49,
          44.99,
          35.99,
          44.22,
          21.8,
          0,
          38.39,
          139.99,
          41.91,
          91.99,
          20.84,
          82.99,
          45.99,
          91.99,
          27.5,
          45.99,
          100,
          0,
          40.99,
          21.17,
          81.95,
          40.79,
          0,
          53.99,
          79.99,
          19.9,
          161.99,
          79.9,
          91.99,
          91.99,
          91.99,
          184.99,
          71.99,
          71.99,
          71.99,
          89.99,
          44.99,
          71.99,
          35.74,
          35.74,
          34.97,
          138.99,
          89.99,
          34.68,
          8.99,
          45.99,
          13.74,
          114.99,
          44.99,
          7.19,
          82.79,
          8.39,
          0,
          31.99,
          125,
          124,
          0,
          29.97,
          119,
          107.99,
          114.99,
          59.99,
          8.99,
          27.99,
          27.96,
          9.19,
          22.99,
          45.99,
          27.59,
          42.99,
          11.49,
          0,
          27.49,
          99,
          99,
          107.99,
          107.99,
          107.99,
          35.99,
          74.99,
          39,
          53.99,
          107.99,
          29.99,
          12.45,
          24.75,
          59.99,
          32.39,
          67.99,
          94,
          23.11,
          91.99,
          45.99,
          91.99,
          91.99,
          91.99,
          91.99,
          45.99,
          79.99,
          19.99,
          91.99,
          21.99,
          22.99,
          44.99,
          89.99,
          45.99,
          89.9,
          17.59,
          21.99,
          21.59,
          10.99,
          84.5,
          59.99,
          27.99,
          0,
          25.2,
          22.99,
          0,
          22.99,
          50.69,
          77.99,
          82.99,
          13.49,
          91.99,
          91.99,
          32.39,
          73.59,
          71.99,
          13.49,
          138.99,
          18.19,
          20.97,
          91.99,
          68.99,
          10.99,
          67.6,
          71.99,
          89.99,
          35.99,
          10.07,
          71.99,
          63.99,
          24.99,
          24.99,
          143.48,
          63,
          62.99,
          10.79,
          86.99,
          17.99,
          59.99,
          59.99,
          13.49,
          7.49,
          9.19,
          69.49,
          15.74,
          14.49,
          34.99,
          13.98,
          25.49,
          53.99,
          17.99,
          53.99,
          26.7,
          25.89,
          17.99,
          25.34,
          39.99,
          49.91,
          71.99,
          63.99,
          64.99,
          64.99,
          53.99,
          7.99,
          59.99,
          23.8,
          67.99,
          46.99,
          7.19,
          7.19,
          7.19,
          82.99,
          49.49,
          45.99,
          10.99,
          7.49,
          44.75,
          35.59,
          10.79,
          21.49,
          159.9,
          21.12,
          70,
          41.4
         ],
         "xaxis": "x",
         "yaxis": "y"
        }
       ],
       "layout": {
        "barmode": "relative",
        "legend": {
         "tracegroupgap": 0
        },
        "template": {
         "data": {
          "bar": [
           {
            "error_x": {
             "color": "#2a3f5f"
            },
            "error_y": {
             "color": "#2a3f5f"
            },
            "marker": {
             "line": {
              "color": "#E5ECF6",
              "width": 0.5
             },
             "pattern": {
              "fillmode": "overlay",
              "size": 10,
              "solidity": 0.2
             }
            },
            "type": "bar"
           }
          ],
          "barpolar": [
           {
            "marker": {
             "line": {
              "color": "#E5ECF6",
              "width": 0.5
             },
             "pattern": {
              "fillmode": "overlay",
              "size": 10,
              "solidity": 0.2
             }
            },
            "type": "barpolar"
           }
          ],
          "carpet": [
           {
            "aaxis": {
             "endlinecolor": "#2a3f5f",
             "gridcolor": "white",
             "linecolor": "white",
             "minorgridcolor": "white",
             "startlinecolor": "#2a3f5f"
            },
            "baxis": {
             "endlinecolor": "#2a3f5f",
             "gridcolor": "white",
             "linecolor": "white",
             "minorgridcolor": "white",
             "startlinecolor": "#2a3f5f"
            },
            "type": "carpet"
           }
          ],
          "choropleth": [
           {
            "colorbar": {
             "outlinewidth": 0,
             "ticks": ""
            },
            "type": "choropleth"
           }
          ],
          "contour": [
           {
            "colorbar": {
             "outlinewidth": 0,
             "ticks": ""
            },
            "colorscale": [
             [
              0,
              "#0d0887"
             ],
             [
              0.1111111111111111,
              "#46039f"
             ],
             [
              0.2222222222222222,
              "#7201a8"
             ],
             [
              0.3333333333333333,
              "#9c179e"
             ],
             [
              0.4444444444444444,
              "#bd3786"
             ],
             [
              0.5555555555555556,
              "#d8576b"
             ],
             [
              0.6666666666666666,
              "#ed7953"
             ],
             [
              0.7777777777777778,
              "#fb9f3a"
             ],
             [
              0.8888888888888888,
              "#fdca26"
             ],
             [
              1,
              "#f0f921"
             ]
            ],
            "type": "contour"
           }
          ],
          "contourcarpet": [
           {
            "colorbar": {
             "outlinewidth": 0,
             "ticks": ""
            },
            "type": "contourcarpet"
           }
          ],
          "heatmap": [
           {
            "colorbar": {
             "outlinewidth": 0,
             "ticks": ""
            },
            "colorscale": [
             [
              0,
              "#0d0887"
             ],
             [
              0.1111111111111111,
              "#46039f"
             ],
             [
              0.2222222222222222,
              "#7201a8"
             ],
             [
              0.3333333333333333,
              "#9c179e"
             ],
             [
              0.4444444444444444,
              "#bd3786"
             ],
             [
              0.5555555555555556,
              "#d8576b"
             ],
             [
              0.6666666666666666,
              "#ed7953"
             ],
             [
              0.7777777777777778,
              "#fb9f3a"
             ],
             [
              0.8888888888888888,
              "#fdca26"
             ],
             [
              1,
              "#f0f921"
             ]
            ],
            "type": "heatmap"
           }
          ],
          "heatmapgl": [
           {
            "colorbar": {
             "outlinewidth": 0,
             "ticks": ""
            },
            "colorscale": [
             [
              0,
              "#0d0887"
             ],
             [
              0.1111111111111111,
              "#46039f"
             ],
             [
              0.2222222222222222,
              "#7201a8"
             ],
             [
              0.3333333333333333,
              "#9c179e"
             ],
             [
              0.4444444444444444,
              "#bd3786"
             ],
             [
              0.5555555555555556,
              "#d8576b"
             ],
             [
              0.6666666666666666,
              "#ed7953"
             ],
             [
              0.7777777777777778,
              "#fb9f3a"
             ],
             [
              0.8888888888888888,
              "#fdca26"
             ],
             [
              1,
              "#f0f921"
             ]
            ],
            "type": "heatmapgl"
           }
          ],
          "histogram": [
           {
            "marker": {
             "pattern": {
              "fillmode": "overlay",
              "size": 10,
              "solidity": 0.2
             }
            },
            "type": "histogram"
           }
          ],
          "histogram2d": [
           {
            "colorbar": {
             "outlinewidth": 0,
             "ticks": ""
            },
            "colorscale": [
             [
              0,
              "#0d0887"
             ],
             [
              0.1111111111111111,
              "#46039f"
             ],
             [
              0.2222222222222222,
              "#7201a8"
             ],
             [
              0.3333333333333333,
              "#9c179e"
             ],
             [
              0.4444444444444444,
              "#bd3786"
             ],
             [
              0.5555555555555556,
              "#d8576b"
             ],
             [
              0.6666666666666666,
              "#ed7953"
             ],
             [
              0.7777777777777778,
              "#fb9f3a"
             ],
             [
              0.8888888888888888,
              "#fdca26"
             ],
             [
              1,
              "#f0f921"
             ]
            ],
            "type": "histogram2d"
           }
          ],
          "histogram2dcontour": [
           {
            "colorbar": {
             "outlinewidth": 0,
             "ticks": ""
            },
            "colorscale": [
             [
              0,
              "#0d0887"
             ],
             [
              0.1111111111111111,
              "#46039f"
             ],
             [
              0.2222222222222222,
              "#7201a8"
             ],
             [
              0.3333333333333333,
              "#9c179e"
             ],
             [
              0.4444444444444444,
              "#bd3786"
             ],
             [
              0.5555555555555556,
              "#d8576b"
             ],
             [
              0.6666666666666666,
              "#ed7953"
             ],
             [
              0.7777777777777778,
              "#fb9f3a"
             ],
             [
              0.8888888888888888,
              "#fdca26"
             ],
             [
              1,
              "#f0f921"
             ]
            ],
            "type": "histogram2dcontour"
           }
          ],
          "mesh3d": [
           {
            "colorbar": {
             "outlinewidth": 0,
             "ticks": ""
            },
            "type": "mesh3d"
           }
          ],
          "parcoords": [
           {
            "line": {
             "colorbar": {
              "outlinewidth": 0,
              "ticks": ""
             }
            },
            "type": "parcoords"
           }
          ],
          "pie": [
           {
            "automargin": true,
            "type": "pie"
           }
          ],
          "scatter": [
           {
            "fillpattern": {
             "fillmode": "overlay",
             "size": 10,
             "solidity": 0.2
            },
            "type": "scatter"
           }
          ],
          "scatter3d": [
           {
            "line": {
             "colorbar": {
              "outlinewidth": 0,
              "ticks": ""
             }
            },
            "marker": {
             "colorbar": {
              "outlinewidth": 0,
              "ticks": ""
             }
            },
            "type": "scatter3d"
           }
          ],
          "scattercarpet": [
           {
            "marker": {
             "colorbar": {
              "outlinewidth": 0,
              "ticks": ""
             }
            },
            "type": "scattercarpet"
           }
          ],
          "scattergeo": [
           {
            "marker": {
             "colorbar": {
              "outlinewidth": 0,
              "ticks": ""
             }
            },
            "type": "scattergeo"
           }
          ],
          "scattergl": [
           {
            "marker": {
             "colorbar": {
              "outlinewidth": 0,
              "ticks": ""
             }
            },
            "type": "scattergl"
           }
          ],
          "scattermapbox": [
           {
            "marker": {
             "colorbar": {
              "outlinewidth": 0,
              "ticks": ""
             }
            },
            "type": "scattermapbox"
           }
          ],
          "scatterpolar": [
           {
            "marker": {
             "colorbar": {
              "outlinewidth": 0,
              "ticks": ""
             }
            },
            "type": "scatterpolar"
           }
          ],
          "scatterpolargl": [
           {
            "marker": {
             "colorbar": {
              "outlinewidth": 0,
              "ticks": ""
             }
            },
            "type": "scatterpolargl"
           }
          ],
          "scatterternary": [
           {
            "marker": {
             "colorbar": {
              "outlinewidth": 0,
              "ticks": ""
             }
            },
            "type": "scatterternary"
           }
          ],
          "surface": [
           {
            "colorbar": {
             "outlinewidth": 0,
             "ticks": ""
            },
            "colorscale": [
             [
              0,
              "#0d0887"
             ],
             [
              0.1111111111111111,
              "#46039f"
             ],
             [
              0.2222222222222222,
              "#7201a8"
             ],
             [
              0.3333333333333333,
              "#9c179e"
             ],
             [
              0.4444444444444444,
              "#bd3786"
             ],
             [
              0.5555555555555556,
              "#d8576b"
             ],
             [
              0.6666666666666666,
              "#ed7953"
             ],
             [
              0.7777777777777778,
              "#fb9f3a"
             ],
             [
              0.8888888888888888,
              "#fdca26"
             ],
             [
              1,
              "#f0f921"
             ]
            ],
            "type": "surface"
           }
          ],
          "table": [
           {
            "cells": {
             "fill": {
              "color": "#EBF0F8"
             },
             "line": {
              "color": "white"
             }
            },
            "header": {
             "fill": {
              "color": "#C8D4E3"
             },
             "line": {
              "color": "white"
             }
            },
            "type": "table"
           }
          ]
         },
         "layout": {
          "annotationdefaults": {
           "arrowcolor": "#2a3f5f",
           "arrowhead": 0,
           "arrowwidth": 1
          },
          "autotypenumbers": "strict",
          "coloraxis": {
           "colorbar": {
            "outlinewidth": 0,
            "ticks": ""
           }
          },
          "colorscale": {
           "diverging": [
            [
             0,
             "#8e0152"
            ],
            [
             0.1,
             "#c51b7d"
            ],
            [
             0.2,
             "#de77ae"
            ],
            [
             0.3,
             "#f1b6da"
            ],
            [
             0.4,
             "#fde0ef"
            ],
            [
             0.5,
             "#f7f7f7"
            ],
            [
             0.6,
             "#e6f5d0"
            ],
            [
             0.7,
             "#b8e186"
            ],
            [
             0.8,
             "#7fbc41"
            ],
            [
             0.9,
             "#4d9221"
            ],
            [
             1,
             "#276419"
            ]
           ],
           "sequential": [
            [
             0,
             "#0d0887"
            ],
            [
             0.1111111111111111,
             "#46039f"
            ],
            [
             0.2222222222222222,
             "#7201a8"
            ],
            [
             0.3333333333333333,
             "#9c179e"
            ],
            [
             0.4444444444444444,
             "#bd3786"
            ],
            [
             0.5555555555555556,
             "#d8576b"
            ],
            [
             0.6666666666666666,
             "#ed7953"
            ],
            [
             0.7777777777777778,
             "#fb9f3a"
            ],
            [
             0.8888888888888888,
             "#fdca26"
            ],
            [
             1,
             "#f0f921"
            ]
           ],
           "sequentialminus": [
            [
             0,
             "#0d0887"
            ],
            [
             0.1111111111111111,
             "#46039f"
            ],
            [
             0.2222222222222222,
             "#7201a8"
            ],
            [
             0.3333333333333333,
             "#9c179e"
            ],
            [
             0.4444444444444444,
             "#bd3786"
            ],
            [
             0.5555555555555556,
             "#d8576b"
            ],
            [
             0.6666666666666666,
             "#ed7953"
            ],
            [
             0.7777777777777778,
             "#fb9f3a"
            ],
            [
             0.8888888888888888,
             "#fdca26"
            ],
            [
             1,
             "#f0f921"
            ]
           ]
          },
          "colorway": [
           "#636efa",
           "#EF553B",
           "#00cc96",
           "#ab63fa",
           "#FFA15A",
           "#19d3f3",
           "#FF6692",
           "#B6E880",
           "#FF97FF",
           "#FECB52"
          ],
          "font": {
           "color": "#2a3f5f"
          },
          "geo": {
           "bgcolor": "white",
           "lakecolor": "white",
           "landcolor": "#E5ECF6",
           "showlakes": true,
           "showland": true,
           "subunitcolor": "white"
          },
          "hoverlabel": {
           "align": "left"
          },
          "hovermode": "closest",
          "mapbox": {
           "style": "light"
          },
          "paper_bgcolor": "white",
          "plot_bgcolor": "#E5ECF6",
          "polar": {
           "angularaxis": {
            "gridcolor": "white",
            "linecolor": "white",
            "ticks": ""
           },
           "bgcolor": "#E5ECF6",
           "radialaxis": {
            "gridcolor": "white",
            "linecolor": "white",
            "ticks": ""
           }
          },
          "scene": {
           "xaxis": {
            "backgroundcolor": "#E5ECF6",
            "gridcolor": "white",
            "gridwidth": 2,
            "linecolor": "white",
            "showbackground": true,
            "ticks": "",
            "zerolinecolor": "white"
           },
           "yaxis": {
            "backgroundcolor": "#E5ECF6",
            "gridcolor": "white",
            "gridwidth": 2,
            "linecolor": "white",
            "showbackground": true,
            "ticks": "",
            "zerolinecolor": "white"
           },
           "zaxis": {
            "backgroundcolor": "#E5ECF6",
            "gridcolor": "white",
            "gridwidth": 2,
            "linecolor": "white",
            "showbackground": true,
            "ticks": "",
            "zerolinecolor": "white"
           }
          },
          "shapedefaults": {
           "line": {
            "color": "#2a3f5f"
           }
          },
          "ternary": {
           "aaxis": {
            "gridcolor": "white",
            "linecolor": "white",
            "ticks": ""
           },
           "baxis": {
            "gridcolor": "white",
            "linecolor": "white",
            "ticks": ""
           },
           "bgcolor": "#E5ECF6",
           "caxis": {
            "gridcolor": "white",
            "linecolor": "white",
            "ticks": ""
           }
          },
          "title": {
           "x": 0.05
          },
          "xaxis": {
           "automargin": true,
           "gridcolor": "white",
           "linecolor": "white",
           "ticks": "",
           "title": {
            "standoff": 15
           },
           "zerolinecolor": "white",
           "zerolinewidth": 2
          },
          "yaxis": {
           "automargin": true,
           "gridcolor": "white",
           "linecolor": "white",
           "ticks": "",
           "title": {
            "standoff": 15
           },
           "zerolinecolor": "white",
           "zerolinewidth": 2
          }
         }
        },
        "title": {
         "text": "Rozkład cen gier"
        },
        "xaxis": {
         "anchor": "y",
         "domain": [
          0,
          1
         ],
         "title": {
          "text": "Cena"
         }
        },
        "yaxis": {
         "anchor": "x",
         "domain": [
          0,
          1
         ],
         "title": {
          "text": "Liczba gier"
         }
        }
       }
      }
     },
     "metadata": {},
     "output_type": "display_data"
    }
   ],
   "source": [
    "import plotly.express as px\n",
    "\n",
    "fig1 = px.histogram(df, x='Cena', nbins=20, title='Rozkład cen gier')\n",
    "fig1.update_layout(xaxis_title='Cena', yaxis_title='Liczba gier')\n",
    "fig1.show()\n"
   ]
  },
  {
   "cell_type": "code",
   "execution_count": 94,
   "metadata": {},
   "outputs": [
    {
     "data": {
      "application/vnd.plotly.v1+json": {
       "config": {
        "plotlyServerURL": "https://plot.ly"
       },
       "data": [
        {
         "alignmentgroup": "True",
         "hovertemplate": "Tag=%{x}<br>Count=%{y}<extra></extra>",
         "legendgroup": "",
         "marker": {
          "color": "#636efa",
          "pattern": {
           "shape": ""
          }
         },
         "name": "",
         "offsetgroup": "",
         "orientation": "v",
         "showlegend": false,
         "textposition": "auto",
         "type": "bar",
         "x": [
          "Akcja",
          "Strategiczne",
          "Science fiction",
          "Wieloosobowe",
          "Jednoosobowe",
          "Przygodowe",
          "Otwarty świat",
          "FPS",
          "Survival",
          "RPG",
          "Bogata fabuła",
          "Strzelanka",
          "Kosmos",
          "Symulatory",
          "RTS",
          "Budowanie bazy",
          "Postapokaliptyczne",
          "Eksploracja",
          "Kooperacja",
          "Niezależne"
         ],
         "xaxis": "x",
         "y": [
          125,
          92,
          81,
          78,
          72,
          69,
          67,
          65,
          62,
          58,
          51,
          50,
          46,
          41,
          40,
          38,
          36,
          31,
          30,
          29
         ],
         "yaxis": "y"
        }
       ],
       "layout": {
        "barmode": "relative",
        "legend": {
         "tracegroupgap": 0
        },
        "template": {
         "data": {
          "bar": [
           {
            "error_x": {
             "color": "#2a3f5f"
            },
            "error_y": {
             "color": "#2a3f5f"
            },
            "marker": {
             "line": {
              "color": "#E5ECF6",
              "width": 0.5
             },
             "pattern": {
              "fillmode": "overlay",
              "size": 10,
              "solidity": 0.2
             }
            },
            "type": "bar"
           }
          ],
          "barpolar": [
           {
            "marker": {
             "line": {
              "color": "#E5ECF6",
              "width": 0.5
             },
             "pattern": {
              "fillmode": "overlay",
              "size": 10,
              "solidity": 0.2
             }
            },
            "type": "barpolar"
           }
          ],
          "carpet": [
           {
            "aaxis": {
             "endlinecolor": "#2a3f5f",
             "gridcolor": "white",
             "linecolor": "white",
             "minorgridcolor": "white",
             "startlinecolor": "#2a3f5f"
            },
            "baxis": {
             "endlinecolor": "#2a3f5f",
             "gridcolor": "white",
             "linecolor": "white",
             "minorgridcolor": "white",
             "startlinecolor": "#2a3f5f"
            },
            "type": "carpet"
           }
          ],
          "choropleth": [
           {
            "colorbar": {
             "outlinewidth": 0,
             "ticks": ""
            },
            "type": "choropleth"
           }
          ],
          "contour": [
           {
            "colorbar": {
             "outlinewidth": 0,
             "ticks": ""
            },
            "colorscale": [
             [
              0,
              "#0d0887"
             ],
             [
              0.1111111111111111,
              "#46039f"
             ],
             [
              0.2222222222222222,
              "#7201a8"
             ],
             [
              0.3333333333333333,
              "#9c179e"
             ],
             [
              0.4444444444444444,
              "#bd3786"
             ],
             [
              0.5555555555555556,
              "#d8576b"
             ],
             [
              0.6666666666666666,
              "#ed7953"
             ],
             [
              0.7777777777777778,
              "#fb9f3a"
             ],
             [
              0.8888888888888888,
              "#fdca26"
             ],
             [
              1,
              "#f0f921"
             ]
            ],
            "type": "contour"
           }
          ],
          "contourcarpet": [
           {
            "colorbar": {
             "outlinewidth": 0,
             "ticks": ""
            },
            "type": "contourcarpet"
           }
          ],
          "heatmap": [
           {
            "colorbar": {
             "outlinewidth": 0,
             "ticks": ""
            },
            "colorscale": [
             [
              0,
              "#0d0887"
             ],
             [
              0.1111111111111111,
              "#46039f"
             ],
             [
              0.2222222222222222,
              "#7201a8"
             ],
             [
              0.3333333333333333,
              "#9c179e"
             ],
             [
              0.4444444444444444,
              "#bd3786"
             ],
             [
              0.5555555555555556,
              "#d8576b"
             ],
             [
              0.6666666666666666,
              "#ed7953"
             ],
             [
              0.7777777777777778,
              "#fb9f3a"
             ],
             [
              0.8888888888888888,
              "#fdca26"
             ],
             [
              1,
              "#f0f921"
             ]
            ],
            "type": "heatmap"
           }
          ],
          "heatmapgl": [
           {
            "colorbar": {
             "outlinewidth": 0,
             "ticks": ""
            },
            "colorscale": [
             [
              0,
              "#0d0887"
             ],
             [
              0.1111111111111111,
              "#46039f"
             ],
             [
              0.2222222222222222,
              "#7201a8"
             ],
             [
              0.3333333333333333,
              "#9c179e"
             ],
             [
              0.4444444444444444,
              "#bd3786"
             ],
             [
              0.5555555555555556,
              "#d8576b"
             ],
             [
              0.6666666666666666,
              "#ed7953"
             ],
             [
              0.7777777777777778,
              "#fb9f3a"
             ],
             [
              0.8888888888888888,
              "#fdca26"
             ],
             [
              1,
              "#f0f921"
             ]
            ],
            "type": "heatmapgl"
           }
          ],
          "histogram": [
           {
            "marker": {
             "pattern": {
              "fillmode": "overlay",
              "size": 10,
              "solidity": 0.2
             }
            },
            "type": "histogram"
           }
          ],
          "histogram2d": [
           {
            "colorbar": {
             "outlinewidth": 0,
             "ticks": ""
            },
            "colorscale": [
             [
              0,
              "#0d0887"
             ],
             [
              0.1111111111111111,
              "#46039f"
             ],
             [
              0.2222222222222222,
              "#7201a8"
             ],
             [
              0.3333333333333333,
              "#9c179e"
             ],
             [
              0.4444444444444444,
              "#bd3786"
             ],
             [
              0.5555555555555556,
              "#d8576b"
             ],
             [
              0.6666666666666666,
              "#ed7953"
             ],
             [
              0.7777777777777778,
              "#fb9f3a"
             ],
             [
              0.8888888888888888,
              "#fdca26"
             ],
             [
              1,
              "#f0f921"
             ]
            ],
            "type": "histogram2d"
           }
          ],
          "histogram2dcontour": [
           {
            "colorbar": {
             "outlinewidth": 0,
             "ticks": ""
            },
            "colorscale": [
             [
              0,
              "#0d0887"
             ],
             [
              0.1111111111111111,
              "#46039f"
             ],
             [
              0.2222222222222222,
              "#7201a8"
             ],
             [
              0.3333333333333333,
              "#9c179e"
             ],
             [
              0.4444444444444444,
              "#bd3786"
             ],
             [
              0.5555555555555556,
              "#d8576b"
             ],
             [
              0.6666666666666666,
              "#ed7953"
             ],
             [
              0.7777777777777778,
              "#fb9f3a"
             ],
             [
              0.8888888888888888,
              "#fdca26"
             ],
             [
              1,
              "#f0f921"
             ]
            ],
            "type": "histogram2dcontour"
           }
          ],
          "mesh3d": [
           {
            "colorbar": {
             "outlinewidth": 0,
             "ticks": ""
            },
            "type": "mesh3d"
           }
          ],
          "parcoords": [
           {
            "line": {
             "colorbar": {
              "outlinewidth": 0,
              "ticks": ""
             }
            },
            "type": "parcoords"
           }
          ],
          "pie": [
           {
            "automargin": true,
            "type": "pie"
           }
          ],
          "scatter": [
           {
            "fillpattern": {
             "fillmode": "overlay",
             "size": 10,
             "solidity": 0.2
            },
            "type": "scatter"
           }
          ],
          "scatter3d": [
           {
            "line": {
             "colorbar": {
              "outlinewidth": 0,
              "ticks": ""
             }
            },
            "marker": {
             "colorbar": {
              "outlinewidth": 0,
              "ticks": ""
             }
            },
            "type": "scatter3d"
           }
          ],
          "scattercarpet": [
           {
            "marker": {
             "colorbar": {
              "outlinewidth": 0,
              "ticks": ""
             }
            },
            "type": "scattercarpet"
           }
          ],
          "scattergeo": [
           {
            "marker": {
             "colorbar": {
              "outlinewidth": 0,
              "ticks": ""
             }
            },
            "type": "scattergeo"
           }
          ],
          "scattergl": [
           {
            "marker": {
             "colorbar": {
              "outlinewidth": 0,
              "ticks": ""
             }
            },
            "type": "scattergl"
           }
          ],
          "scattermapbox": [
           {
            "marker": {
             "colorbar": {
              "outlinewidth": 0,
              "ticks": ""
             }
            },
            "type": "scattermapbox"
           }
          ],
          "scatterpolar": [
           {
            "marker": {
             "colorbar": {
              "outlinewidth": 0,
              "ticks": ""
             }
            },
            "type": "scatterpolar"
           }
          ],
          "scatterpolargl": [
           {
            "marker": {
             "colorbar": {
              "outlinewidth": 0,
              "ticks": ""
             }
            },
            "type": "scatterpolargl"
           }
          ],
          "scatterternary": [
           {
            "marker": {
             "colorbar": {
              "outlinewidth": 0,
              "ticks": ""
             }
            },
            "type": "scatterternary"
           }
          ],
          "surface": [
           {
            "colorbar": {
             "outlinewidth": 0,
             "ticks": ""
            },
            "colorscale": [
             [
              0,
              "#0d0887"
             ],
             [
              0.1111111111111111,
              "#46039f"
             ],
             [
              0.2222222222222222,
              "#7201a8"
             ],
             [
              0.3333333333333333,
              "#9c179e"
             ],
             [
              0.4444444444444444,
              "#bd3786"
             ],
             [
              0.5555555555555556,
              "#d8576b"
             ],
             [
              0.6666666666666666,
              "#ed7953"
             ],
             [
              0.7777777777777778,
              "#fb9f3a"
             ],
             [
              0.8888888888888888,
              "#fdca26"
             ],
             [
              1,
              "#f0f921"
             ]
            ],
            "type": "surface"
           }
          ],
          "table": [
           {
            "cells": {
             "fill": {
              "color": "#EBF0F8"
             },
             "line": {
              "color": "white"
             }
            },
            "header": {
             "fill": {
              "color": "#C8D4E3"
             },
             "line": {
              "color": "white"
             }
            },
            "type": "table"
           }
          ]
         },
         "layout": {
          "annotationdefaults": {
           "arrowcolor": "#2a3f5f",
           "arrowhead": 0,
           "arrowwidth": 1
          },
          "autotypenumbers": "strict",
          "coloraxis": {
           "colorbar": {
            "outlinewidth": 0,
            "ticks": ""
           }
          },
          "colorscale": {
           "diverging": [
            [
             0,
             "#8e0152"
            ],
            [
             0.1,
             "#c51b7d"
            ],
            [
             0.2,
             "#de77ae"
            ],
            [
             0.3,
             "#f1b6da"
            ],
            [
             0.4,
             "#fde0ef"
            ],
            [
             0.5,
             "#f7f7f7"
            ],
            [
             0.6,
             "#e6f5d0"
            ],
            [
             0.7,
             "#b8e186"
            ],
            [
             0.8,
             "#7fbc41"
            ],
            [
             0.9,
             "#4d9221"
            ],
            [
             1,
             "#276419"
            ]
           ],
           "sequential": [
            [
             0,
             "#0d0887"
            ],
            [
             0.1111111111111111,
             "#46039f"
            ],
            [
             0.2222222222222222,
             "#7201a8"
            ],
            [
             0.3333333333333333,
             "#9c179e"
            ],
            [
             0.4444444444444444,
             "#bd3786"
            ],
            [
             0.5555555555555556,
             "#d8576b"
            ],
            [
             0.6666666666666666,
             "#ed7953"
            ],
            [
             0.7777777777777778,
             "#fb9f3a"
            ],
            [
             0.8888888888888888,
             "#fdca26"
            ],
            [
             1,
             "#f0f921"
            ]
           ],
           "sequentialminus": [
            [
             0,
             "#0d0887"
            ],
            [
             0.1111111111111111,
             "#46039f"
            ],
            [
             0.2222222222222222,
             "#7201a8"
            ],
            [
             0.3333333333333333,
             "#9c179e"
            ],
            [
             0.4444444444444444,
             "#bd3786"
            ],
            [
             0.5555555555555556,
             "#d8576b"
            ],
            [
             0.6666666666666666,
             "#ed7953"
            ],
            [
             0.7777777777777778,
             "#fb9f3a"
            ],
            [
             0.8888888888888888,
             "#fdca26"
            ],
            [
             1,
             "#f0f921"
            ]
           ]
          },
          "colorway": [
           "#636efa",
           "#EF553B",
           "#00cc96",
           "#ab63fa",
           "#FFA15A",
           "#19d3f3",
           "#FF6692",
           "#B6E880",
           "#FF97FF",
           "#FECB52"
          ],
          "font": {
           "color": "#2a3f5f"
          },
          "geo": {
           "bgcolor": "white",
           "lakecolor": "white",
           "landcolor": "#E5ECF6",
           "showlakes": true,
           "showland": true,
           "subunitcolor": "white"
          },
          "hoverlabel": {
           "align": "left"
          },
          "hovermode": "closest",
          "mapbox": {
           "style": "light"
          },
          "paper_bgcolor": "white",
          "plot_bgcolor": "#E5ECF6",
          "polar": {
           "angularaxis": {
            "gridcolor": "white",
            "linecolor": "white",
            "ticks": ""
           },
           "bgcolor": "#E5ECF6",
           "radialaxis": {
            "gridcolor": "white",
            "linecolor": "white",
            "ticks": ""
           }
          },
          "scene": {
           "xaxis": {
            "backgroundcolor": "#E5ECF6",
            "gridcolor": "white",
            "gridwidth": 2,
            "linecolor": "white",
            "showbackground": true,
            "ticks": "",
            "zerolinecolor": "white"
           },
           "yaxis": {
            "backgroundcolor": "#E5ECF6",
            "gridcolor": "white",
            "gridwidth": 2,
            "linecolor": "white",
            "showbackground": true,
            "ticks": "",
            "zerolinecolor": "white"
           },
           "zaxis": {
            "backgroundcolor": "#E5ECF6",
            "gridcolor": "white",
            "gridwidth": 2,
            "linecolor": "white",
            "showbackground": true,
            "ticks": "",
            "zerolinecolor": "white"
           }
          },
          "shapedefaults": {
           "line": {
            "color": "#2a3f5f"
           }
          },
          "ternary": {
           "aaxis": {
            "gridcolor": "white",
            "linecolor": "white",
            "ticks": ""
           },
           "baxis": {
            "gridcolor": "white",
            "linecolor": "white",
            "ticks": ""
           },
           "bgcolor": "#E5ECF6",
           "caxis": {
            "gridcolor": "white",
            "linecolor": "white",
            "ticks": ""
           }
          },
          "title": {
           "x": 0.05
          },
          "xaxis": {
           "automargin": true,
           "gridcolor": "white",
           "linecolor": "white",
           "ticks": "",
           "title": {
            "standoff": 15
           },
           "zerolinecolor": "white",
           "zerolinewidth": 2
          },
          "yaxis": {
           "automargin": true,
           "gridcolor": "white",
           "linecolor": "white",
           "ticks": "",
           "title": {
            "standoff": 15
           },
           "zerolinecolor": "white",
           "zerolinewidth": 2
          }
         }
        },
        "title": {
         "text": "Najpopularniejsze tagi"
        },
        "xaxis": {
         "anchor": "y",
         "domain": [
          0,
          1
         ],
         "title": {
          "text": "Tag"
         }
        },
        "yaxis": {
         "anchor": "x",
         "domain": [
          0,
          1
         ],
         "title": {
          "text": "Liczba gier"
         }
        }
       }
      }
     },
     "metadata": {},
     "output_type": "display_data"
    }
   ],
   "source": [
    "from collections import Counter\n",
    "\n",
    "# Zliczanie wystąpień tagów\n",
    "tag_counts = Counter()\n",
    "for tags in df['Tagi']:\n",
    "    # Przekształcenie stringa w listę tagów, zakładając, że są oddzielone przecinkami\n",
    "    tag_list = tags.split(', ')\n",
    "    tag_counts.update(tag_list)\n",
    "\n",
    "# Przekształcenie wyników w DataFrame\n",
    "tag_df = pd.DataFrame(tag_counts.items(), columns=['Tag', 'Count']).sort_values('Count', ascending=False)\n",
    "\n",
    "# Wizualizacja\n",
    "fig2 = px.bar(tag_df.head(20), x='Tag', y='Count', title='Najpopularniejsze tagi')\n",
    "fig2.update_layout(yaxis_title='Liczba gier')\n",
    "fig2.show()\n"
   ]
  },
  {
   "cell_type": "code",
   "execution_count": 95,
   "metadata": {},
   "outputs": [
    {
     "data": {
      "application/vnd.plotly.v1+json": {
       "config": {
        "plotlyServerURL": "https://plot.ly"
       },
       "data": [
        {
         "customdata": [
          [
           "Subnautica"
          ],
          [
           "RimWorld"
          ],
          [
           "Detroit: Become Human"
          ],
          [
           "DOOM"
          ],
          [
           "Lethal Company"
          ],
          [
           "Beat Saber"
          ],
          [
           "Brotato"
          ],
          [
           "Nine Sols"
          ],
          [
           "METAL GEAR RISING: REVENGEANCE"
          ],
          [
           "Caves of Qud"
          ],
          [
           "Dyson Sphere Program"
          ],
          [
           "Half-Life 2"
          ],
          [
           "Titanfall® 2"
          ],
          [
           "Oxygen Not Included"
          ],
          [
           "Left 4 Dead 2"
          ],
          [
           "Warhammer 40,000: Dawn of War - Anniversary Edition"
          ],
          [
           "The Talos Principle 2"
          ],
          [
           "Deep Rock Galactic"
          ],
          [
           "Black Mesa"
          ],
          [
           "Papers, Please"
          ],
          [
           "Kenshi"
          ],
          [
           "Stray"
          ],
          [
           "DRAMAtical Murder"
          ],
          [
           "Creeper World 4"
          ],
          [
           "Turing Complete"
          ],
          [
           "ASTLIBRA Revision"
          ],
          [
           "shapez 2"
          ],
          [
           "The Planet Crafter"
          ],
          [
           "Half-Life"
          ],
          [
           "Beyond Citadel"
          ],
          [
           "The Forgotten City"
          ],
          [
           "Portal 2"
          ],
          [
           "Dune: Imperium"
          ],
          [
           "S.T.A.L.K.E.R.: Call of Pripyat"
          ],
          [
           "Cogmind"
          ],
          [
           "CRUEL"
          ],
          [
           "Portal"
          ],
          [
           "Machinarium"
          ],
          [
           "Life is Strange - Episode 1"
          ],
          [
           "STEINS;GATE 0"
          ],
          [
           "Half-Life: Alyx"
          ],
          [
           "Kerbal Space Program"
          ],
          [
           "Dishonored"
          ],
          [
           "STAR WARS™ Jedi Knight - Jedi Academy™"
          ],
          [
           "Left 4 Dead"
          ],
          [
           "STEINS;GATE"
          ],
          [
           "Supreme Commander: Forged Alliance"
          ],
          [
           "The Last Clockwinder"
          ],
          [
           "STAR WARS™ Battlefront (Classic, 2004)"
          ],
          [
           "Primordia"
          ],
          [
           "The Talos Principle"
          ],
          [
           "Katana ZERO"
          ],
          [
           "Creeper World 3: Arc Eternal"
          ],
          [
           "SIGNALIS"
          ],
          [
           "Cosmoteer: Starship Architect & Commander"
          ],
          [
           "Mouthwashing"
          ],
          [
           "Severed Steel"
          ],
          [
           "Spark the Electric Jester 3"
          ],
          [
           "Quake II"
          ],
          [
           "Opus Magnum"
          ],
          [
           "STAR WARS™ Empire at War - Gold Pack"
          ],
          [
           "VVVVVV"
          ],
          [
           "Mars First Logistics"
          ],
          [
           "SteamWorld Dig 2"
          ],
          [
           "Spaceflight Simulator"
          ],
          [
           "Impossible Creatures Steam Edition"
          ],
          [
           "Quake III Arena"
          ]
         ],
         "hovertemplate": "Nacechowanie recenzji=Przytłaczająco pozytywne<br>Cena (zł)=%{x}<br>Liczba recenzji=%{y}<br>Tytuł=%{customdata[0]}<extra></extra>",
         "legendgroup": "Przytłaczająco pozytywne",
         "marker": {
          "color": "green",
          "symbol": "circle"
         },
         "mode": "markers",
         "name": "Przytłaczająco pozytywne",
         "orientation": "v",
         "showlegend": true,
         "type": "scatter",
         "x": [
          45.86,
          111.99,
          184.99,
          15.99,
          45.99,
          138.99,
          13.79,
          138.99,
          65.4,
          118.14,
          57.59,
          45.99,
          11.99,
          89.99,
          45.99,
          19.99,
          69.49,
          107.99,
          91.99,
          45.99,
          107.99,
          119.99,
          55.19,
          89.99,
          71.99,
          67.49,
          64.99,
          114.99,
          35.99,
          67.99,
          28.74,
          45.99,
          105.79,
          71.99,
          89.99,
          34.99,
          45.99,
          74.99,
          0,
          24.99,
          274.99,
          171.9,
          44.99,
          45.99,
          45.99,
          21.59,
          7.99,
          39.99,
          45.99,
          35.99,
          20.84,
          40.79,
          53.99,
          71.99,
          44.99,
          59.99,
          8.99,
          35.99,
          39,
          91.99,
          91.99,
          22.99,
          68.99,
          10.07,
          59.99,
          39.99,
          64.99
         ],
         "xaxis": "x",
         "y": [
          271295,
          171314,
          129446,
          134708,
          378091,
          67688,
          87350,
          20696,
          62838,
          9070,
          75862,
          175317,
          216599,
          117335,
          708227,
          7861,
          10558,
          264056,
          113307,
          65893,
          78325,
          134727,
          3076,
          4032,
          3526,
          24635,
          9137,
          46488,
          102215,
          1365,
          9035,
          349236,
          2520,
          23818,
          1322,
          593,
          148579,
          13218,
          167844,
          6040,
          83075,
          101395,
          11155,
          10686,
          50603,
          18353,
          8988,
          602,
          3800,
          2806,
          27718,
          60775,
          3864,
          21198,
          9910,
          22356,
          5207,
          1679,
          7278,
          4699,
          31911,
          6180,
          1044,
          4253,
          5596,
          1444,
          3076
         ],
         "yaxis": "y"
        },
        {
         "customdata": [
          [
           "Cyberpunk 2077"
          ],
          [
           "Marvel Rivals"
          ],
          [
           "Among Us"
          ],
          [
           "Warhammer 40,000: Space Marine 2"
          ],
          [
           "DOOM Eternal"
          ],
          [
           "Subnautica: Below Zero"
          ],
          [
           "Stellaris"
          ],
          [
           "Jurassic World Evolution 2"
          ],
          [
           "ENDLESS™ Legend"
          ],
          [
           "Project Zomboid"
          ],
          [
           "Frostpunk"
          ],
          [
           "Atomic Heart"
          ],
          [
           "S.T.A.L.K.E.R. 2: Heart of Chornobyl"
          ],
          [
           "DEATH STRANDING DIRECTOR'S CUT"
          ],
          [
           "ENDLESS™ Space 2"
          ],
          [
           "They Are Billions"
          ],
          [
           "Metro Exodus"
          ],
          [
           "No Man's Sky"
          ],
          [
           "My Time at Sandrock"
          ],
          [
           "Chained Together"
          ],
          [
           "Halo: The Master Chief Collection"
          ],
          [
           "Mass Effect™ Edycja legendarna"
          ],
          [
           "Ghostrunner 2"
          ],
          [
           "ASTRONEER"
          ],
          [
           "NieR:Automata™"
          ],
          [
           "BlazBlue Entropy Effect"
          ],
          [
           "Horizon Forbidden West™ Edycja kompletna"
          ],
          [
           "Ghostrunner"
          ],
          [
           "Hatsune Miku: Project DIVA Mega Mix+"
          ],
          [
           "NieR Replicant™ ver.1.22474487139..."
          ],
          [
           "STAR WARS Jedi: Upadły zakon™"
          ],
          [
           "Planetary Annihilation: TITANS"
          ],
          [
           "REMNANT II®"
          ],
          [
           "Void Crew"
          ],
          [
           "DOOM 3"
          ],
          [
           "STAR WARS™: The Old Republic™"
          ],
          [
           "Nuclear Nightmare"
          ],
          [
           "The Long Drive"
          ],
          [
           "Chernobylite Complete Edition"
          ],
          [
           "Aliens: Dark Descent"
          ],
          [
           "Stardeus"
          ],
          [
           "STAR WARS™ Battlefront™ II"
          ],
          [
           "Barotrauma"
          ],
          [
           "This War of Mine"
          ],
          [
           "Warhammer 40,000: Rogue Trader"
          ],
          [
           "Rain World"
          ],
          [
           "Plague Inc: Evolved"
          ],
          [
           "Lies of P"
          ],
          [
           "Nobody Wants to Die"
          ],
          [
           "Murky Divers"
          ],
          [
           "ZEPHON"
          ],
          [
           "Metro 2033 Redux"
          ],
          [
           "Dead Space"
          ],
          [
           "The Riftbreaker"
          ],
          [
           "Forever Skies"
          ],
          [
           "Metro: Last Light Redux"
          ],
          [
           "LEGO ® Gwiezdne Wojny™: Saga Skywalkerów"
          ],
          [
           "Aliens: Fireteam Elite"
          ],
          [
           "Astro Colony"
          ],
          [
           "Contra: Operation Galuga"
          ],
          [
           "Days Gone"
          ],
          [
           "Call of Duty®: Black Ops III"
          ],
          [
           "Fallout 4"
          ],
          [
           "Unturned"
          ],
          [
           "60 Seconds! Reatomized"
          ],
          [
           "The Long Dark"
          ],
          [
           "LOCKDOWN Protocol"
          ],
          [
           "Pacific Drive"
          ],
          [
           "Astrometica"
          ],
          [
           "Sins of a Solar Empire II"
          ],
          [
           "AI: THE SOMNIUM FILES - nirvanA Initiative"
          ],
          [
           "Arizona Sunshine® 2"
          ],
          [
           "State of Decay 2: Juggernaut Edition"
          ],
          [
           "Selaco"
          ],
          [
           "Zompiercer"
          ],
          [
           "CODE VEIN"
          ],
          [
           "Juno: New Origins"
          ],
          [
           "Arken Age"
          ],
          [
           "7 Days to Die"
          ],
          [
           "Uncle Chop's Rocket Shop"
          ],
          [
           "SPORE™"
          ],
          [
           "MechWarrior 5: Mercenaries"
          ],
          [
           "Dead Space™ 2"
          ],
          [
           "Wasteland 3"
          ],
          [
           "Sunkenland"
          ],
          [
           "High On Life"
          ],
          [
           "Wasteland 2: Director's Cut"
          ],
          [
           "Shin Megami Tensei III Nocturne HD Remaster"
          ],
          [
           "Eastward"
          ],
          [
           "Clone Drone in the Hyperdome"
          ],
          [
           "NEBULOUS: Fleet Command"
          ],
          [
           "Anonymous Hacker Simulator"
          ],
          [
           "Hardspace: Shipbreaker"
          ],
          [
           "Road 96 🛣️"
          ],
          [
           "Observer: System Redux"
          ],
          [
           "Starcom: Unknown Space"
          ],
          [
           "Into the Breach"
          ],
          [
           "Grey Hack"
          ],
          [
           "Space Haven"
          ],
          [
           "Wolfenstein: The New Order"
          ],
          [
           "Fallout Shelter"
          ],
          [
           "Mirror's Edge™ Catalyst"
          ],
          [
           "60 Seconds!"
          ],
          [
           "HAAK"
          ],
          [
           "Halo Wars: Definitive Edition"
          ],
          [
           "Cell to Singularity - Evolution Never Ends"
          ],
          [
           "The Last Plague: Blight"
          ],
          [
           "Punch Club 2: Fast Forward"
          ],
          [
           "Operation: Tango"
          ],
          [
           "Black Skylands"
          ],
          [
           "Dome Keeper"
          ],
          [
           "STAR WARS™ Knights of the Old Republic™"
          ],
          [
           "SpiderHeck"
          ],
          [
           "VLADiK BRUTAL"
          ],
          [
           "Warhammer 40,000: Battlesector"
          ],
          [
           "S.T.A.L.K.E.R.: Clear Sky"
          ],
          [
           "Command & Conquer 3: Gniew Kane'a"
          ],
          [
           "Command & Conquer 3: Wojny o tyberium"
          ],
          [
           "Dishonored 2"
          ],
          [
           "The Thing: Remastered"
          ],
          [
           "CHAOS;HEAD NOAH"
          ],
          [
           "CHAOS;CHILD"
          ],
          [
           "Oblivion Override"
          ],
          [
           "Sunset Overdrive"
          ],
          [
           "AI: The Somnium Files"
          ],
          [
           "Homeworld Remastered Collection"
          ],
          [
           "Neon Abyss"
          ],
          [
           "Zero Escape: The Nonary Games"
          ],
          [
           "STAR WARS™ Battlefront II (Classic, 2005)"
          ],
          [
           "Project Wingman"
          ],
          [
           "Pacify"
          ],
          [
           "60 Parsecs!"
          ],
          [
           "Mirror's Edge™"
          ],
          [
           "Deus Ex: Human Revolution - Director's Cut"
          ],
          [
           "Deep Rock Galactic: Survivor"
          ],
          [
           "The Invincible"
          ],
          [
           "Crysis Warhead®"
          ],
          [
           "Stationeers"
          ],
          [
           "Final Factory"
          ],
          [
           "Starship Troopers: Terran Command"
          ],
          [
           "Sketchy's Contract"
          ],
          [
           "Mechabellum"
          ],
          [
           "Command & Conquer™ Red Alert™ 3"
          ],
          [
           "Prince of Persia: Warrior Within™"
          ],
          [
           "FANTASIAN Neo Dimension"
          ],
          [
           "Sins of a Solar Empire®: Rebellion"
          ],
          [
           "Command & Conquer™ Tiberian Sun™ and Firestorm™"
          ],
          [
           "Command & Conquer Red Alert™ 2 and Yuri’s Revenge™"
          ],
          [
           "Airships: Lost Flotilla"
          ],
          [
           "Jurassic World Evolution"
          ],
          [
           "To The Core"
          ],
          [
           "Killing Floor 2"
          ],
          [
           "Job Simulator"
          ],
          [
           "Chromosome Evil 2"
          ],
          [
           "Fallout 3"
          ],
          [
           "MEGA MAN X DiVE Offline"
          ],
          [
           "Remember Me"
          ],
          [
           "Shardpunk"
          ],
          [
           "Endling - Extinction is Forever"
          ],
          [
           "Nuclear Option"
          ],
          [
           "Nuke Them All"
          ],
          [
           "Krążowniki"
          ],
          [
           "Serious Sam: Siberian Mayhem"
          ],
          [
           "Command & Conquer™ Red Alert™ 3- Powstanie"
          ],
          [
           "SUPERHOT VR"
          ],
          [
           "GOD EATER 3"
          ],
          [
           "Beyond: Two Souls"
          ],
          [
           "DYSMANTLE"
          ],
          [
           "Eden Crafters"
          ],
          [
           "Space Reign"
          ],
          [
           "Warhammer 40,000: Gladius - Relics of War"
          ],
          [
           "Volcanoids"
          ],
          [
           "Scrapland Remastered"
          ],
          [
           "Fallout: New Vegas"
          ],
          [
           "S.T.A.L.K.E.R.: Shadow of Chernobyl"
          ],
          [
           "Remnant: From the Ashes"
          ],
          [
           "Quantum Break"
          ],
          [
           "Mass Effect (2007)"
          ],
          [
           "Budget Cuts Ultimate"
          ],
          [
           "Aliens vs. Ghosts"
          ],
          [
           "Sovereign Syndicate"
          ],
          [
           "Zero Escape: Zero Time Dilemma"
          ],
          [
           "BLADE CHIMERA"
          ],
          [
           "ΔV: Rings of Saturn"
          ],
          [
           "JudgeSim"
          ],
          [
           "Silence of the Siren"
          ],
          [
           "Wolfenstein II: The New Colossus"
          ],
          [
           "PlanetSide 2"
          ],
          [
           "Crysis 2 - Maximum Edition"
          ],
          [
           "Arizona Sunshine® Remake"
          ],
          [
           "Shadows of Doubt"
          ],
          [
           "Dead Space (2008)"
          ],
          [
           "Serious Sam 2"
          ],
          [
           "Shrot"
          ],
          [
           "STEINS;GATE ELITE"
          ],
          [
           "CHRONO TRIGGER®"
          ],
          [
           "Crysis 2 Remastered"
          ],
          [
           "Crysis 3 Remastered"
          ],
          [
           "The Universim"
          ],
          [
           "LEGO® STAR WARS™: The Force Awakens"
          ],
          [
           "Airborne Kingdom"
          ],
          [
           "Particle Fleet: Emergence"
          ],
          [
           "Sid Meier's Alpha Centauri™ Planetary Pack"
          ],
          [
           "Mutant Year Zero: Road to Eden"
          ],
          [
           "Keplerth"
          ],
          [
           "Doors: Paradox"
          ],
          [
           "Mad Max"
          ],
          [
           "LEGO® Star Wars™ III - The Clone Wars™"
          ],
          [
           "STAR WARS™ Knights of the Old Republic™ II - The Sith Lords™"
          ],
          [
           "ZERO Sievert"
          ],
          [
           "Obenseuer"
          ],
          [
           "Togainu no Chi ~Lost Blood~"
          ],
          [
           "Warhammer 40,000: Boltgun"
          ],
          [
           "ICEY"
          ],
          [
           "AI War 2"
          ],
          [
           "Tasty Planet"
          ],
          [
           "Fallout 3: Game of the Year Edition"
          ],
          [
           "FINAL FANTASY VII"
          ],
          [
           "Dungeon of the ENDLESS™"
          ],
          [
           "From Glory To Goo"
          ],
          [
           "Mega Man Legacy Collection"
          ],
          [
           "Wall World"
          ],
          [
           "Voids Vigil"
          ],
          [
           "Hollowbody"
          ],
          [
           "Vaporum: Lockdown"
          ],
          [
           "SteamWorld Quest: Hand of Gilgamech"
          ],
          [
           "Cepheus Protocol"
          ],
          [
           "NanoApostle"
          ],
          [
           "The Last Cube"
          ],
          [
           "How to Survive"
          ],
          [
           "Swarm Queen"
          ],
          [
           "Vaporum"
          ],
          [
           "Make America Great Again: The Trump Presidency"
          ],
          [
           "System Shock"
          ],
          [
           "Battlezone 98 Redux"
          ],
          [
           "Executive Assault 2"
          ],
          [
           "Bright Memory: Infinite"
          ],
          [
           "FAR: Changing Tides"
          ],
          [
           "Plan B: Terraform"
          ],
          [
           "ROBOTICS;NOTES ELITE"
          ],
          [
           "GNOSIA"
          ],
          [
           "Binary Domain"
          ],
          [
           "Xeno Command"
          ],
          [
           "They Are Coming"
          ],
          [
           "Goodbye Deponia"
          ],
          [
           "Seed of the Dead: Sweet Home"
          ],
          [
           "Doki Doki AI Interrogation"
          ],
          [
           "The Symbiant Re:Union"
          ],
          [
           "SPORE™ Creepy & Cute Parts Pack"
          ],
          [
           "Detective Girl of the Steam City"
          ],
          [
           "Last Day of June"
          ],
          [
           "Vanquish"
          ],
          [
           "Iron Lung"
          ],
          [
           "Battlezone: Combat Commander"
          ],
          [
           "Beholder"
          ],
          [
           "Quake 4"
          ],
          [
           "The Citadel"
          ],
          [
           "Supreme Commander"
          ],
          [
           "NORCO"
          ],
          [
           "Clockwork Tales: Of Glass and Ink"
          ],
          [
           "while True: learn()"
          ],
          [
           "Chaos on Deponia"
          ],
          [
           "Deponia Doomsday"
          ],
          [
           "SteamWorld Dig"
          ],
          [
           "Beholder 2"
          ],
          [
           "ANNO: Mutationem"
          ],
          [
           "Dreamfall: The Longest Journey"
          ],
          [
           "Chorus"
          ],
          [
           "Space Prison"
          ],
          [
           "Bears In Space"
          ]
         ],
         "hovertemplate": "Nacechowanie recenzji=Bardzo pozytywne<br>Cena (zł)=%{x}<br>Liczba recenzji=%{y}<br>Tytuł=%{customdata[0]}<extra></extra>",
         "legendgroup": "Bardzo pozytywne",
         "marker": {
          "color": "lightgreen",
          "symbol": "circle"
         },
         "mode": "markers",
         "name": "Bardzo pozytywne",
         "orientation": "v",
         "showlegend": true,
         "type": "scatter",
         "x": [
          89.55,
          0,
          10.79,
          157.49,
          42.25,
          45.86,
          184.99,
          214.99,
          26.56,
          91.99,
          13.89,
          72.59,
          229.99,
          84.5,
          35.74,
          107.99,
          31.75,
          109.99,
          89.99,
          22.99,
          49.75,
          26.99,
          35.5,
          45.86,
          57.19,
          55.99,
          259,
          37.2,
          59.6,
          99.6,
          26.98,
          107.99,
          104.99,
          79.99,
          15.6,
          0,
          15.99,
          72.99,
          29.99,
          129.99,
          77.99,
          27.98,
          69.99,
          9.19,
          199.99,
          114.99,
          67.99,
          274.99,
          68.64,
          40.99,
          149.99,
          12.6,
          269.9,
          54.45,
          65.99,
          12.6,
          229,
          119.9,
          68.99,
          110.99,
          219,
          254.8,
          79,
          0,
          39.99,
          29.99,
          45.99,
          109,
          78.99,
          231.99,
          32.24,
          107.46,
          43.19,
          95.5,
          59.99,
          29.85,
          36.79,
          159.99,
          208.49,
          91.99,
          13.98,
          107.99,
          13.98,
          71.49,
          91.99,
          71.99,
          32.39,
          68.7,
          44.99,
          47.2,
          49.99,
          91.06,
          41.99,
          21.24,
          107.99,
          94.99,
          53.99,
          91.99,
          35.99,
          89.99,
          0,
          13.48,
          34.99,
          32.49,
          99,
          0,
          77.99,
          36.79,
          71.99,
          27.59,
          69.99,
          45.99,
          26.99,
          54.99,
          184.99,
          35.99,
          100,
          100,
          124,
          122.99,
          44.99,
          44.99,
          48.13,
          19.99,
          14.29,
          9.99,
          17.99,
          10.79,
          45.99,
          89.99,
          22.99,
          39.99,
          13.48,
          67.52,
          50,
          75,
          17.47,
          161.99,
          52.19,
          138.99,
          40.99,
          67.99,
          100,
          39.9,
          199,
          91.99,
          100,
          100,
          22,
          159.99,
          36.99,
          21.59,
          91.99,
          91.99,
          44.99,
          44.22,
          21.8,
          38.39,
          41.91,
          82.99,
          91.99,
          27.5,
          45.99,
          100,
          79.99,
          19.9,
          79.9,
          91.99,
          91.99,
          91.99,
          184.99,
          71.99,
          71.99,
          44.99,
          71.99,
          35.74,
          35.74,
          34.97,
          138.99,
          34.68,
          45.99,
          7.19,
          82.79,
          8.39,
          31.99,
          125,
          124,
          0,
          29.97,
          119,
          114.99,
          27.96,
          9.19,
          22.99,
          42.99,
          27.49,
          99,
          99,
          107.99,
          107.99,
          74.99,
          53.99,
          12.45,
          59.99,
          32.39,
          67.99,
          94,
          91.99,
          45.99,
          91.99,
          91.99,
          45.99,
          79.99,
          19.99,
          91.99,
          21.99,
          89.99,
          17.59,
          10.99,
          27.99,
          25.2,
          22.99,
          22.99,
          77.99,
          82.99,
          13.49,
          91.99,
          73.59,
          71.99,
          13.49,
          18.19,
          91.99,
          10.99,
          67.6,
          71.99,
          89.99,
          35.99,
          71.99,
          63.99,
          24.99,
          62.99,
          10.79,
          17.99,
          13.49,
          9.19,
          69.49,
          15.74,
          34.99,
          13.98,
          53.99,
          17.99,
          26.7,
          25.89,
          71.99,
          63.99,
          64.99,
          53.99,
          7.99,
          59.99,
          67.99,
          46.99,
          7.19,
          7.19,
          7.19,
          82.99,
          49.49,
          35.59,
          21.12,
          70,
          41.4
         ],
         "xaxis": "x",
         "y": [
          717578,
          183495,
          612177,
          108301,
          169973,
          86067,
          124476,
          27610,
          13989,
          267266,
          98288,
          26520,
          79641,
          24733,
          16363,
          42756,
          101357,
          256618,
          21481,
          41897,
          215389,
          48750,
          6165,
          107998,
          100652,
          22852,
          13811,
          43808,
          14253,
          18625,
          132838,
          10814,
          39732,
          4742,
          7757,
          65164,
          7269,
          38741,
          10836,
          12114,
          1194,
          54108,
          49377,
          60524,
          19071,
          30436,
          48068,
          34349,
          2734,
          2870,
          957,
          79958,
          41194,
          16087,
          4669,
          58984,
          34871,
          18784,
          1886,
          514,
          68771,
          136348,
          256332,
          550767,
          14905,
          95008,
          10614,
          14539,
          1305,
          5200,
          2847,
          1451,
          50600,
          3404,
          2002,
          41765,
          2640,
          128,
          246721,
          587,
          58329,
          10122,
          21331,
          15930,
          17709,
          15230,
          4615,
          3257,
          13628,
          446,
          3108,
          484,
          17463,
          17045,
          1916,
          2597,
          16571,
          1459,
          7977,
          40525,
          72445,
          12370,
          10258,
          2552,
          7468,
          22546,
          652,
          2970,
          6281,
          2309,
          13065,
          26229,
          3017,
          7065,
          4009,
          16822,
          4402,
          7569,
          39083,
          647,
          1039,
          2887,
          1540,
          10389,
          7498,
          11276,
          19093,
          5426,
          45071,
          15140,
          31598,
          2825,
          29060,
          23437,
          32876,
          4528,
          3480,
          6290,
          232,
          8180,
          826,
          12079,
          13217,
          3124,
          226,
          9982,
          776,
          7046,
          81,
          46831,
          4265,
          82811,
          3836,
          182,
          16831,
          1326,
          10228,
          625,
          1816,
          2930,
          86,
          342,
          3892,
          3875,
          7324,
          7112,
          21610,
          9745,
          954,
          199,
          7135,
          7171,
          80,
          11350,
          36261,
          42972,
          20453,
          14692,
          50,
          379,
          289,
          3878,
          484,
          2248,
          693,
          203,
          30001,
          73153,
          9075,
          553,
          12171,
          21138,
          10286,
          77,
          1332,
          9088,
          5667,
          4756,
          7865,
          3873,
          1880,
          1112,
          394,
          12642,
          3536,
          1081,
          50601,
          6362,
          20540,
          11599,
          718,
          363,
          12629,
          24043,
          1067,
          320,
          38835,
          23398,
          9197,
          655,
          3324,
          8177,
          228,
          1130,
          239,
          1685,
          2296,
          572,
          110,
          13872,
          289,
          889,
          1621,
          7858,
          950,
          1340,
          34827,
          3910,
          2229,
          490,
          2784,
          3017,
          50,
          345,
          1829,
          2816,
          387,
          213,
          1847,
          1767,
          2724,
          6127,
          7349,
          771,
          19309,
          2597,
          1327,
          2060,
          2140,
          598,
          6569,
          2192,
          2624,
          5620,
          5701,
          5082,
          996,
          3196,
          182,
          284
         ],
         "yaxis": "y"
        },
        {
         "customdata": [
          [
           "Space Engineers 2"
          ],
          [
           "Dying Light 2 Stay Human: Reloaded Edition"
          ],
          [
           "HELLDIVERS™ 2"
          ],
          [
           "Dead Island 2"
          ],
          [
           "ICARUS"
          ],
          [
           "New Cycle"
          ],
          [
           "Frostpunk 2"
          ],
          [
           "Once Human"
          ],
          [
           "Fallout 76"
          ],
          [
           "Warhammer 40,000: Darktide"
          ],
          [
           "Infection Free Zone"
          ],
          [
           "The Last of Us™ Part I"
          ],
          [
           "Destiny 2"
          ],
          [
           "Star Wars Outlaws"
          ],
          [
           "Metro Awakening"
          ],
          [
           "Horizon Zero Dawn™ Remastered"
          ],
          [
           "GUNDAM BREAKER 4"
          ],
          [
           "Halo Infinite"
          ],
          [
           "Amenti"
          ],
          [
           "Snowbreak: Containment Zone"
          ],
          [
           "Iron Harvest"
          ],
          [
           "Mass Effect: Andromeda - ulepszenie Deluxe"
          ],
          [
           "Elite Dangerous"
          ],
          [
           "Dead Space™ 3"
          ],
          [
           "Empire of the Ants"
          ],
          [
           "Tower of Fantasy"
          ],
          [
           "Dune: Spice Wars"
          ],
          [
           "Scorn"
          ],
          [
           "Battlefleet Gothic: Armada 2"
          ],
          [
           "IDUN"
          ],
          [
           "Crossout"
          ],
          [
           "Immortals of Aveum™"
          ],
          [
           "Age of Water"
          ],
          [
           "Homeworld: Deserts of Kharak"
          ],
          [
           "The Surge 2"
          ],
          [
           "Hacker Simulator"
          ],
          [
           "Ashes of the Singularity: Escalation"
          ],
          [
           "Space Colony: Steam Edition"
          ],
          [
           "DUCKSIDE"
          ],
          [
           "Terraforming Mars"
          ],
          [
           "Bad 2 Bad: Apocalypse"
          ],
          [
           "CryoFall"
          ],
          [
           "The Ascent"
          ],
          [
           "Torment: Tides of Numenera"
          ],
          [
           "Fargone"
          ],
          [
           "Empyrion - Galactic Survival"
          ],
          [
           "Among Us VR"
          ],
          [
           "Gears Tactics"
          ],
          [
           "FRONT MISSION 1st: Remake"
          ],
          [
           "Ostranauts"
          ],
          [
           "Phoenix Point"
          ],
          [
           "Starpoint Gemini Warlords"
          ],
          [
           "The Surge"
          ],
          [
           "Reverse Collapse: Code Name Bakery"
          ],
          [
           "X3: Reunion"
          ],
          [
           "Miasma Chronicles"
          ],
          [
           "Warhammer 40,000: Chaos Gate - Daemonhunters"
          ],
          [
           "Silica"
          ],
          [
           "ENDLESS™ Space - Definitive Edition"
          ],
          [
           "The Expanse: A Telltale Series"
          ],
          [
           "Will To Live Online"
          ],
          [
           "Crysis Remastered"
          ],
          [
           "Sins of a Solar Empire: Trinity®"
          ],
          [
           "Dark Sky"
          ],
          [
           "The Complex"
          ],
          [
           "Fallout Tactics: Brotherhood of Steel"
          ],
          [
           "Earth 2150 Trilogy"
          ],
          [
           "Thief"
          ],
          [
           "STAR OCEAN™ - THE LAST HOPE -™ 4K & Full HD Remaster"
          ],
          [
           "Moon Mystery"
          ],
          [
           "Farlight 84"
          ],
          [
           "Survive the Nights"
          ],
          [
           "Hidden Deep"
          ],
          [
           "STAR WARS™ Battlefront"
          ],
          [
           "Star Dynasties"
          ],
          [
           "HumanitZ"
          ],
          [
           "Lost Planet™: Extreme Condition"
          ],
          [
           "Swarm the City: Zombie Evolved"
          ],
          [
           "Scars Above"
          ],
          [
           "Dark Light"
          ],
          [
           "ZONE OF THE ENDERS THE 2nd RUNNER : M∀RS / アヌビス ゾーン・オブ・エンダーズ : マーズ"
          ],
          [
           "Hellwatch"
          ],
          [
           "Oxygen"
          ],
          [
           "We Happy Few"
          ],
          [
           "Zanki Zero: Last Beginning"
          ],
          [
           "Tom Clancy’s The Division® 2"
          ]
         ],
         "hovertemplate": "Nacechowanie recenzji=W większości pozytywne<br>Cena (zł)=%{x}<br>Liczba recenzji=%{y}<br>Tytuł=%{customdata[0]}<extra></extra>",
         "legendgroup": "W większości pozytywne",
         "marker": {
          "color": "yellow",
          "symbol": "circle"
         },
         "mode": "markers",
         "name": "W większości pozytywne",
         "orientation": "v",
         "showlegend": true,
         "type": "scatter",
         "x": [
          138.99,
          65.99,
          169,
          105.63,
          161.99,
          49.99,
          124.79,
          0,
          169.9,
          84.99,
          79.99,
          259,
          0,
          289.9,
          111.3,
          219,
          207.2,
          0,
          31.99,
          0,
          126.74,
          28.48,
          91.99,
          13.98,
          169,
          0,
          156.99,
          34.75,
          13.99,
          61.19,
          0,
          41.98,
          64.5,
          17.99,
          14.99,
          89.99,
          138.99,
          34.99,
          67.99,
          91.99,
          68.99,
          7.99,
          31,
          31.24,
          54.99,
          35.59,
          17.99,
          49.17,
          161.99,
          73.59,
          89.99,
          124.99,
          6.49,
          91.99,
          45.99,
          81.95,
          161.99,
          89.99,
          8.99,
          114.99,
          0,
          107.99,
          45.99,
          27.59,
          23.11,
          44.99,
          45.99,
          89.9,
          21.59,
          59.99,
          0,
          91.99,
          32.39,
          20.97,
          143.48,
          59.99,
          14.49,
          17.99,
          25.34,
          49.91,
          23.8,
          45.99,
          10.99,
          44.75,
          21.49,
          159.9
         ],
         "xaxis": "x",
         "y": [
          370,
          137563,
          707047,
          8005,
          35562,
          1897,
          15030,
          117783,
          64512,
          87510,
          11449,
          39827,
          618035,
          2262,
          1786,
          2413,
          2901,
          174836,
          506,
          7057,
          10660,
          13861,
          74276,
          9633,
          631,
          10469,
          10237,
          10589,
          8557,
          279,
          62815,
          1828,
          1954,
          7324,
          6259,
          990,
          2521,
          506,
          1993,
          4636,
          597,
          4517,
          17561,
          1948,
          386,
          28037,
          2291,
          6737,
          455,
          1531,
          4499,
          3012,
          7659,
          4144,
          536,
          1487,
          9677,
          3904,
          6511,
          1512,
          17270,
          11110,
          660,
          39,
          2977,
          2046,
          418,
          16525,
          1407,
          378,
          49153,
          3076,
          3512,
          4383,
          364,
          3358,
          1529,
          200,
          1960,
          561,
          861,
          16,
          661,
          10639,
          587,
          17357
         ],
         "yaxis": "y"
        },
        {
         "customdata": [
          [
           "Boomcestors"
          ]
         ],
         "hovertemplate": "Nacechowanie recenzji=Pozytywne<br>Cena (zł)=%{x}<br>Liczba recenzji=%{y}<br>Tytuł=%{customdata[0]}<extra></extra>",
         "legendgroup": "Pozytywne",
         "marker": {
          "color": "yellow",
          "symbol": "circle"
         },
         "mode": "markers",
         "name": "Pozytywne",
         "orientation": "v",
         "showlegend": true,
         "type": "scatter",
         "x": [
          21.99
         ],
         "xaxis": "x",
         "y": [
          10
         ],
         "yaxis": "y"
        },
        {
         "customdata": [
          [
           "STAR WARS Jedi: Ocalały™"
          ],
          [
           "Apex Legends™"
          ],
          [
           "The First Descendant"
          ],
          [
           "War Robots"
          ],
          [
           "Build Master: MarsVille"
          ],
          [
           "Battlefield™ 2042"
          ],
          [
           "Hyper Light Breaker"
          ],
          [
           "Warhammer 40,000: Dawn of War III"
          ],
          [
           "Outpost: Infinity Siege"
          ],
          [
           "ENDLESS™ Dungeon"
          ],
          [
           "FINAL FANTASY VII EVER CRISIS"
          ],
          [
           "Nova: Space Armada"
          ],
          [
           "STAR OCEAN THE DIVINE FORCE"
          ],
          [
           "Realpolitiks 3: Earth and Beyond"
          ],
          [
           "STAR WARS™: Squadrons"
          ],
          [
           "Avatar: Frontiers of Pandora™"
          ],
          [
           "Armored Warfare"
          ],
          [
           "Grim"
          ],
          [
           "DOOM VFR"
          ],
          [
           "CYGNI: All Guns Blazing"
          ],
          [
           "Warhammer 40,000: Warpforge"
          ],
          [
           "Necromunda: Underhive Wars"
          ],
          [
           "Beholder 3"
          ],
          [
           "Computer Repair Shop"
          ],
          [
           "Echocalypse: The Scarlet Covenant"
          ],
          [
           "Undawn"
          ],
          [
           "FRONT MISSION 2: Remake"
          ],
          [
           "Starborne: Frontiers"
          ],
          [
           "KeepUp Survival"
          ],
          [
           "PolyZ"
          ],
          [
           "Metal Slug: Awakening"
          ],
          [
           "Aquatico"
          ],
          [
           "Road 96: Mile 0"
          ],
          [
           "CHRONO CROSS: THE RADICAL DREAMERS EDITION"
          ],
          [
           "Border Officer"
          ],
          [
           "Stay Out"
          ],
          [
           "Aliens: Colonial Marines Collection"
          ],
          [
           "StarDrive"
          ],
          [
           "Necromunda: Hired Gun"
          ],
          [
           "Capes"
          ],
          [
           "Warhammer The Horus Heresy: Legions"
          ],
          [
           "No One Survived"
          ],
          [
           "Star Trek: Infinite"
          ],
          [
           "ROBOTICS;NOTES DaSH"
          ],
          [
           "Syberia 3"
          ],
          [
           "Life Not Supported"
          ],
          [
           "Battlefleet Gothic: Armada"
          ],
          [
           "StarMade"
          ],
          [
           "Space Hulk: Tactics"
          ],
          [
           "Killing Floor: Incursion"
          ]
         ],
         "hovertemplate": "Nacechowanie recenzji=Mieszane<br>Cena (zł)=%{x}<br>Liczba recenzji=%{y}<br>Tytuł=%{customdata[0]}<extra></extra>",
         "legendgroup": "Mieszane",
         "marker": {
          "color": "orange",
          "symbol": "circle"
         },
         "mode": "markers",
         "name": "Mieszane",
         "orientation": "v",
         "showlegend": true,
         "type": "scatter",
         "x": [
          74.97,
          0,
          0,
          0,
          0,
          40.48,
          114.99,
          35.8,
          114.99,
          35.6,
          0,
          0,
          99.6,
          109.49,
          17.99,
          289.9,
          0,
          82.79,
          14.75,
          45.86,
          0,
          6.99,
          82.99,
          22.99,
          0,
          0,
          139.99,
          0,
          40.99,
          21.17,
          0,
          89.99,
          13.74,
          27.99,
          11.49,
          0,
          107.99,
          107.99,
          29.99,
          84.5,
          0,
          50.69,
          138.99,
          24.99,
          63,
          86.99,
          7.49,
          53.99,
          7.49,
          10.79
         ],
         "xaxis": "x",
         "y": [
          56158,
          976753,
          97779,
          24994,
          182,
          227207,
          2526,
          13017,
          10843,
          2648,
          2660,
          42,
          1556,
          86,
          23679,
          2455,
          4757,
          78,
          2164,
          205,
          2535,
          2571,
          1711,
          449,
          240,
          6221,
          203,
          194,
          582,
          38,
          2927,
          748,
          1340,
          1754,
          1206,
          24108,
          7169,
          1240,
          5295,
          342,
          2836,
          6013,
          2804,
          201,
          2894,
          134,
          4875,
          2180,
          833,
          632
         ],
         "yaxis": "y"
        },
        {
         "customdata": [
          [
           "Overwatch® 2"
          ]
         ],
         "hovertemplate": "Nacechowanie recenzji=W większości negatywne<br>Cena (zł)=%{x}<br>Liczba recenzji=%{y}<br>Tytuł=%{customdata[0]}<extra></extra>",
         "legendgroup": "W większości negatywne",
         "marker": {
          "color": "red",
          "symbol": "circle"
         },
         "mode": "markers",
         "name": "W większości negatywne",
         "orientation": "v",
         "showlegend": true,
         "type": "scatter",
         "x": [
          0
         ],
         "xaxis": "x",
         "y": [
          325520
         ],
         "yaxis": "y"
        },
        {
         "customdata": [
          [
           "Command & Conquer™ 4 Tyberyjski zmierzch"
          ]
         ],
         "hovertemplate": "Nacechowanie recenzji=Przytłaczająco negatywne<br>Cena (zł)=%{x}<br>Liczba recenzji=%{y}<br>Tytuł=%{customdata[0]}<extra></extra>",
         "legendgroup": "Przytłaczająco negatywne",
         "marker": {
          "color": "darkred",
          "symbol": "circle"
         },
         "mode": "markers",
         "name": "Przytłaczająco negatywne",
         "orientation": "v",
         "showlegend": true,
         "type": "scatter",
         "x": [
          100
         ],
         "xaxis": "x",
         "y": [
          4076
         ],
         "yaxis": "y"
        },
        {
         "customdata": [
          [
           "SCP: Fragmented Minds"
          ],
          [
           "Horizons: The End Of Words"
          ],
          [
           "Battlecruiser Generations"
          ]
         ],
         "hovertemplate": "Nacechowanie recenzji=Brak informacji<br>Cena (zł)=%{x}<br>Liczba recenzji=%{y}<br>Tytuł=%{customdata[0]}<extra></extra>",
         "legendgroup": "Brak informacji",
         "marker": {
          "color": "#B6E880",
          "symbol": "circle"
         },
         "mode": "markers",
         "name": "Brak informacji",
         "orientation": "v",
         "showlegend": true,
         "type": "scatter",
         "x": [
          26.99,
          24.75,
          25.49
         ],
         "xaxis": "x",
         "y": [
          0,
          0,
          0
         ],
         "yaxis": "y"
        }
       ],
       "layout": {
        "legend": {
         "title": {
          "text": "Nacechowanie recenzji"
         },
         "tracegroupgap": 0
        },
        "template": {
         "data": {
          "bar": [
           {
            "error_x": {
             "color": "#2a3f5f"
            },
            "error_y": {
             "color": "#2a3f5f"
            },
            "marker": {
             "line": {
              "color": "#E5ECF6",
              "width": 0.5
             },
             "pattern": {
              "fillmode": "overlay",
              "size": 10,
              "solidity": 0.2
             }
            },
            "type": "bar"
           }
          ],
          "barpolar": [
           {
            "marker": {
             "line": {
              "color": "#E5ECF6",
              "width": 0.5
             },
             "pattern": {
              "fillmode": "overlay",
              "size": 10,
              "solidity": 0.2
             }
            },
            "type": "barpolar"
           }
          ],
          "carpet": [
           {
            "aaxis": {
             "endlinecolor": "#2a3f5f",
             "gridcolor": "white",
             "linecolor": "white",
             "minorgridcolor": "white",
             "startlinecolor": "#2a3f5f"
            },
            "baxis": {
             "endlinecolor": "#2a3f5f",
             "gridcolor": "white",
             "linecolor": "white",
             "minorgridcolor": "white",
             "startlinecolor": "#2a3f5f"
            },
            "type": "carpet"
           }
          ],
          "choropleth": [
           {
            "colorbar": {
             "outlinewidth": 0,
             "ticks": ""
            },
            "type": "choropleth"
           }
          ],
          "contour": [
           {
            "colorbar": {
             "outlinewidth": 0,
             "ticks": ""
            },
            "colorscale": [
             [
              0,
              "#0d0887"
             ],
             [
              0.1111111111111111,
              "#46039f"
             ],
             [
              0.2222222222222222,
              "#7201a8"
             ],
             [
              0.3333333333333333,
              "#9c179e"
             ],
             [
              0.4444444444444444,
              "#bd3786"
             ],
             [
              0.5555555555555556,
              "#d8576b"
             ],
             [
              0.6666666666666666,
              "#ed7953"
             ],
             [
              0.7777777777777778,
              "#fb9f3a"
             ],
             [
              0.8888888888888888,
              "#fdca26"
             ],
             [
              1,
              "#f0f921"
             ]
            ],
            "type": "contour"
           }
          ],
          "contourcarpet": [
           {
            "colorbar": {
             "outlinewidth": 0,
             "ticks": ""
            },
            "type": "contourcarpet"
           }
          ],
          "heatmap": [
           {
            "colorbar": {
             "outlinewidth": 0,
             "ticks": ""
            },
            "colorscale": [
             [
              0,
              "#0d0887"
             ],
             [
              0.1111111111111111,
              "#46039f"
             ],
             [
              0.2222222222222222,
              "#7201a8"
             ],
             [
              0.3333333333333333,
              "#9c179e"
             ],
             [
              0.4444444444444444,
              "#bd3786"
             ],
             [
              0.5555555555555556,
              "#d8576b"
             ],
             [
              0.6666666666666666,
              "#ed7953"
             ],
             [
              0.7777777777777778,
              "#fb9f3a"
             ],
             [
              0.8888888888888888,
              "#fdca26"
             ],
             [
              1,
              "#f0f921"
             ]
            ],
            "type": "heatmap"
           }
          ],
          "heatmapgl": [
           {
            "colorbar": {
             "outlinewidth": 0,
             "ticks": ""
            },
            "colorscale": [
             [
              0,
              "#0d0887"
             ],
             [
              0.1111111111111111,
              "#46039f"
             ],
             [
              0.2222222222222222,
              "#7201a8"
             ],
             [
              0.3333333333333333,
              "#9c179e"
             ],
             [
              0.4444444444444444,
              "#bd3786"
             ],
             [
              0.5555555555555556,
              "#d8576b"
             ],
             [
              0.6666666666666666,
              "#ed7953"
             ],
             [
              0.7777777777777778,
              "#fb9f3a"
             ],
             [
              0.8888888888888888,
              "#fdca26"
             ],
             [
              1,
              "#f0f921"
             ]
            ],
            "type": "heatmapgl"
           }
          ],
          "histogram": [
           {
            "marker": {
             "pattern": {
              "fillmode": "overlay",
              "size": 10,
              "solidity": 0.2
             }
            },
            "type": "histogram"
           }
          ],
          "histogram2d": [
           {
            "colorbar": {
             "outlinewidth": 0,
             "ticks": ""
            },
            "colorscale": [
             [
              0,
              "#0d0887"
             ],
             [
              0.1111111111111111,
              "#46039f"
             ],
             [
              0.2222222222222222,
              "#7201a8"
             ],
             [
              0.3333333333333333,
              "#9c179e"
             ],
             [
              0.4444444444444444,
              "#bd3786"
             ],
             [
              0.5555555555555556,
              "#d8576b"
             ],
             [
              0.6666666666666666,
              "#ed7953"
             ],
             [
              0.7777777777777778,
              "#fb9f3a"
             ],
             [
              0.8888888888888888,
              "#fdca26"
             ],
             [
              1,
              "#f0f921"
             ]
            ],
            "type": "histogram2d"
           }
          ],
          "histogram2dcontour": [
           {
            "colorbar": {
             "outlinewidth": 0,
             "ticks": ""
            },
            "colorscale": [
             [
              0,
              "#0d0887"
             ],
             [
              0.1111111111111111,
              "#46039f"
             ],
             [
              0.2222222222222222,
              "#7201a8"
             ],
             [
              0.3333333333333333,
              "#9c179e"
             ],
             [
              0.4444444444444444,
              "#bd3786"
             ],
             [
              0.5555555555555556,
              "#d8576b"
             ],
             [
              0.6666666666666666,
              "#ed7953"
             ],
             [
              0.7777777777777778,
              "#fb9f3a"
             ],
             [
              0.8888888888888888,
              "#fdca26"
             ],
             [
              1,
              "#f0f921"
             ]
            ],
            "type": "histogram2dcontour"
           }
          ],
          "mesh3d": [
           {
            "colorbar": {
             "outlinewidth": 0,
             "ticks": ""
            },
            "type": "mesh3d"
           }
          ],
          "parcoords": [
           {
            "line": {
             "colorbar": {
              "outlinewidth": 0,
              "ticks": ""
             }
            },
            "type": "parcoords"
           }
          ],
          "pie": [
           {
            "automargin": true,
            "type": "pie"
           }
          ],
          "scatter": [
           {
            "fillpattern": {
             "fillmode": "overlay",
             "size": 10,
             "solidity": 0.2
            },
            "type": "scatter"
           }
          ],
          "scatter3d": [
           {
            "line": {
             "colorbar": {
              "outlinewidth": 0,
              "ticks": ""
             }
            },
            "marker": {
             "colorbar": {
              "outlinewidth": 0,
              "ticks": ""
             }
            },
            "type": "scatter3d"
           }
          ],
          "scattercarpet": [
           {
            "marker": {
             "colorbar": {
              "outlinewidth": 0,
              "ticks": ""
             }
            },
            "type": "scattercarpet"
           }
          ],
          "scattergeo": [
           {
            "marker": {
             "colorbar": {
              "outlinewidth": 0,
              "ticks": ""
             }
            },
            "type": "scattergeo"
           }
          ],
          "scattergl": [
           {
            "marker": {
             "colorbar": {
              "outlinewidth": 0,
              "ticks": ""
             }
            },
            "type": "scattergl"
           }
          ],
          "scattermapbox": [
           {
            "marker": {
             "colorbar": {
              "outlinewidth": 0,
              "ticks": ""
             }
            },
            "type": "scattermapbox"
           }
          ],
          "scatterpolar": [
           {
            "marker": {
             "colorbar": {
              "outlinewidth": 0,
              "ticks": ""
             }
            },
            "type": "scatterpolar"
           }
          ],
          "scatterpolargl": [
           {
            "marker": {
             "colorbar": {
              "outlinewidth": 0,
              "ticks": ""
             }
            },
            "type": "scatterpolargl"
           }
          ],
          "scatterternary": [
           {
            "marker": {
             "colorbar": {
              "outlinewidth": 0,
              "ticks": ""
             }
            },
            "type": "scatterternary"
           }
          ],
          "surface": [
           {
            "colorbar": {
             "outlinewidth": 0,
             "ticks": ""
            },
            "colorscale": [
             [
              0,
              "#0d0887"
             ],
             [
              0.1111111111111111,
              "#46039f"
             ],
             [
              0.2222222222222222,
              "#7201a8"
             ],
             [
              0.3333333333333333,
              "#9c179e"
             ],
             [
              0.4444444444444444,
              "#bd3786"
             ],
             [
              0.5555555555555556,
              "#d8576b"
             ],
             [
              0.6666666666666666,
              "#ed7953"
             ],
             [
              0.7777777777777778,
              "#fb9f3a"
             ],
             [
              0.8888888888888888,
              "#fdca26"
             ],
             [
              1,
              "#f0f921"
             ]
            ],
            "type": "surface"
           }
          ],
          "table": [
           {
            "cells": {
             "fill": {
              "color": "#EBF0F8"
             },
             "line": {
              "color": "white"
             }
            },
            "header": {
             "fill": {
              "color": "#C8D4E3"
             },
             "line": {
              "color": "white"
             }
            },
            "type": "table"
           }
          ]
         },
         "layout": {
          "annotationdefaults": {
           "arrowcolor": "#2a3f5f",
           "arrowhead": 0,
           "arrowwidth": 1
          },
          "autotypenumbers": "strict",
          "coloraxis": {
           "colorbar": {
            "outlinewidth": 0,
            "ticks": ""
           }
          },
          "colorscale": {
           "diverging": [
            [
             0,
             "#8e0152"
            ],
            [
             0.1,
             "#c51b7d"
            ],
            [
             0.2,
             "#de77ae"
            ],
            [
             0.3,
             "#f1b6da"
            ],
            [
             0.4,
             "#fde0ef"
            ],
            [
             0.5,
             "#f7f7f7"
            ],
            [
             0.6,
             "#e6f5d0"
            ],
            [
             0.7,
             "#b8e186"
            ],
            [
             0.8,
             "#7fbc41"
            ],
            [
             0.9,
             "#4d9221"
            ],
            [
             1,
             "#276419"
            ]
           ],
           "sequential": [
            [
             0,
             "#0d0887"
            ],
            [
             0.1111111111111111,
             "#46039f"
            ],
            [
             0.2222222222222222,
             "#7201a8"
            ],
            [
             0.3333333333333333,
             "#9c179e"
            ],
            [
             0.4444444444444444,
             "#bd3786"
            ],
            [
             0.5555555555555556,
             "#d8576b"
            ],
            [
             0.6666666666666666,
             "#ed7953"
            ],
            [
             0.7777777777777778,
             "#fb9f3a"
            ],
            [
             0.8888888888888888,
             "#fdca26"
            ],
            [
             1,
             "#f0f921"
            ]
           ],
           "sequentialminus": [
            [
             0,
             "#0d0887"
            ],
            [
             0.1111111111111111,
             "#46039f"
            ],
            [
             0.2222222222222222,
             "#7201a8"
            ],
            [
             0.3333333333333333,
             "#9c179e"
            ],
            [
             0.4444444444444444,
             "#bd3786"
            ],
            [
             0.5555555555555556,
             "#d8576b"
            ],
            [
             0.6666666666666666,
             "#ed7953"
            ],
            [
             0.7777777777777778,
             "#fb9f3a"
            ],
            [
             0.8888888888888888,
             "#fdca26"
            ],
            [
             1,
             "#f0f921"
            ]
           ]
          },
          "colorway": [
           "#636efa",
           "#EF553B",
           "#00cc96",
           "#ab63fa",
           "#FFA15A",
           "#19d3f3",
           "#FF6692",
           "#B6E880",
           "#FF97FF",
           "#FECB52"
          ],
          "font": {
           "color": "#2a3f5f"
          },
          "geo": {
           "bgcolor": "white",
           "lakecolor": "white",
           "landcolor": "#E5ECF6",
           "showlakes": true,
           "showland": true,
           "subunitcolor": "white"
          },
          "hoverlabel": {
           "align": "left"
          },
          "hovermode": "closest",
          "mapbox": {
           "style": "light"
          },
          "paper_bgcolor": "white",
          "plot_bgcolor": "#E5ECF6",
          "polar": {
           "angularaxis": {
            "gridcolor": "white",
            "linecolor": "white",
            "ticks": ""
           },
           "bgcolor": "#E5ECF6",
           "radialaxis": {
            "gridcolor": "white",
            "linecolor": "white",
            "ticks": ""
           }
          },
          "scene": {
           "xaxis": {
            "backgroundcolor": "#E5ECF6",
            "gridcolor": "white",
            "gridwidth": 2,
            "linecolor": "white",
            "showbackground": true,
            "ticks": "",
            "zerolinecolor": "white"
           },
           "yaxis": {
            "backgroundcolor": "#E5ECF6",
            "gridcolor": "white",
            "gridwidth": 2,
            "linecolor": "white",
            "showbackground": true,
            "ticks": "",
            "zerolinecolor": "white"
           },
           "zaxis": {
            "backgroundcolor": "#E5ECF6",
            "gridcolor": "white",
            "gridwidth": 2,
            "linecolor": "white",
            "showbackground": true,
            "ticks": "",
            "zerolinecolor": "white"
           }
          },
          "shapedefaults": {
           "line": {
            "color": "#2a3f5f"
           }
          },
          "ternary": {
           "aaxis": {
            "gridcolor": "white",
            "linecolor": "white",
            "ticks": ""
           },
           "baxis": {
            "gridcolor": "white",
            "linecolor": "white",
            "ticks": ""
           },
           "bgcolor": "#E5ECF6",
           "caxis": {
            "gridcolor": "white",
            "linecolor": "white",
            "ticks": ""
           }
          },
          "title": {
           "x": 0.05
          },
          "xaxis": {
           "automargin": true,
           "gridcolor": "white",
           "linecolor": "white",
           "ticks": "",
           "title": {
            "standoff": 15
           },
           "zerolinecolor": "white",
           "zerolinewidth": 2
          },
          "yaxis": {
           "automargin": true,
           "gridcolor": "white",
           "linecolor": "white",
           "ticks": "",
           "title": {
            "standoff": 15
           },
           "zerolinecolor": "white",
           "zerolinewidth": 2
          }
         }
        },
        "title": {
         "text": "Cena vs. liczba recenzji"
        },
        "xaxis": {
         "anchor": "y",
         "domain": [
          0,
          1
         ],
         "title": {
          "text": "Cena (zł)"
         }
        },
        "yaxis": {
         "anchor": "x",
         "domain": [
          0,
          1
         ],
         "title": {
          "text": "Liczba recenzji"
         }
        }
       }
      }
     },
     "metadata": {},
     "output_type": "display_data"
    }
   ],
   "source": [
    "# 1. Zależność między ceną a liczbą recenzji\n",
    "\n",
    "import plotly.express as px\n",
    "\n",
    "# Ustalamy kolejność nacechowania recenzji od najbardziej pozytywnych do najmniej pozytywnych\n",
    "category_order = ['Przytłaczająco pozytywne', 'Bardzo pozytywne', 'W większości pozytywne', 'Pozytywne', 'Mieszane', 'W większości negatywne', 'Przytłaczająco negatywne']\n",
    "\n",
    "# Tworzymy wykres\n",
    "fig3 = px.scatter(df, x='Cena', y='Liczba recenzji', color='Nacechowanie recenzji',\n",
    "                 title='Cena vs. liczba recenzji', labels={'Cena': 'Cena (zł)', 'Liczba recenzji': 'Liczba recenzji'},\n",
    "                 hover_data=['Tytuł'],\n",
    "                 category_orders={'Nacechowanie recenzji': category_order},\n",
    "                 color_continuous_scale='RdYlGn',  # Ustawienie palety kolorów\n",
    "                 color_discrete_map={'Przytłaczająco pozytywne': 'green', 'Bardzo pozytywne': 'lightgreen', \n",
    "                                     'W większości pozytywne': 'yellow', 'Pozytywne': 'yellow', \n",
    "                                     'Mieszane': 'orange', 'W większości negatywne': 'red', 'Przytłaczająco negatywne': 'darkred'})\n",
    "\n",
    "# Wyświetlamy wykres\n",
    "fig3.show()\n",
    "\n"
   ]
  },
  {
   "cell_type": "code",
   "execution_count": 96,
   "metadata": {},
   "outputs": [
    {
     "data": {
      "application/vnd.plotly.v1+json": {
       "config": {
        "plotlyServerURL": "https://plot.ly"
       },
       "data": [
        {
         "alignmentgroup": "True",
         "hovertemplate": "Nacechowanie recenzji=%{x}<br>Cena (zł)=%{y}<extra></extra>",
         "legendgroup": "",
         "marker": {
          "color": "#636efa"
         },
         "name": "",
         "notched": false,
         "offsetgroup": "",
         "orientation": "v",
         "showlegend": false,
         "type": "box",
         "x": [
          "Bardzo pozytywne",
          "W większości pozytywne",
          "Bardzo pozytywne",
          "W większości pozytywne",
          "Bardzo pozytywne",
          "Bardzo pozytywne",
          "Przytłaczająco pozytywne",
          "Bardzo pozytywne",
          "Przytłaczająco pozytywne",
          "W większości pozytywne",
          "Przytłaczająco pozytywne",
          "Bardzo pozytywne",
          "Przytłaczająco pozytywne",
          "Przytłaczająco pozytywne",
          "Bardzo pozytywne",
          "Bardzo pozytywne",
          "W większości pozytywne",
          "W większości pozytywne",
          "Bardzo pozytywne",
          "Mieszane",
          "Bardzo pozytywne",
          "W większości pozytywne",
          "Bardzo pozytywne",
          "Bardzo pozytywne",
          "W większości pozytywne",
          "Bardzo pozytywne",
          "Mieszane",
          "W większości pozytywne",
          "Bardzo pozytywne",
          "Bardzo pozytywne",
          "Bardzo pozytywne",
          "Bardzo pozytywne",
          "Bardzo pozytywne",
          "Brak informacji",
          "Bardzo pozytywne",
          "W większości pozytywne",
          "Bardzo pozytywne",
          "Przytłaczająco pozytywne",
          "Bardzo pozytywne",
          "W większości pozytywne",
          "Mieszane",
          "Mieszane",
          "Bardzo pozytywne",
          "Bardzo pozytywne",
          "Przytłaczająco pozytywne",
          "Bardzo pozytywne",
          "Bardzo pozytywne",
          "W większości pozytywne",
          "W większości negatywne",
          "Przytłaczająco pozytywne",
          "Bardzo pozytywne",
          "Bardzo pozytywne",
          "Bardzo pozytywne",
          "W większości pozytywne",
          "Bardzo pozytywne",
          "Mieszane",
          "Bardzo pozytywne",
          "Bardzo pozytywne",
          "Bardzo pozytywne",
          "Bardzo pozytywne",
          "Bardzo pozytywne",
          "Mieszane",
          "Bardzo pozytywne",
          "Przytłaczająco pozytywne",
          "W większości pozytywne",
          "Przytłaczająco pozytywne",
          "Bardzo pozytywne",
          "Bardzo pozytywne",
          "Bardzo pozytywne",
          "Bardzo pozytywne",
          "Przytłaczająco pozytywne",
          "W większości pozytywne",
          "Bardzo pozytywne",
          "Bardzo pozytywne",
          "W większości pozytywne",
          "W większości pozytywne",
          "Bardzo pozytywne",
          "W większości pozytywne",
          "Bardzo pozytywne",
          "Bardzo pozytywne",
          "W większości pozytywne",
          "Przytłaczająco pozytywne",
          "Bardzo pozytywne",
          "Bardzo pozytywne",
          "Bardzo pozytywne",
          "Bardzo pozytywne",
          "Bardzo pozytywne",
          "Przytłaczająco pozytywne",
          "Bardzo pozytywne",
          "Przytłaczająco pozytywne",
          "Bardzo pozytywne",
          "Bardzo pozytywne",
          "Przytłaczająco pozytywne",
          "Bardzo pozytywne",
          "Bardzo pozytywne",
          "Przytłaczająco pozytywne",
          "Bardzo pozytywne",
          "W większości pozytywne",
          "Przytłaczająco pozytywne",
          "Bardzo pozytywne",
          "Bardzo pozytywne",
          "W większości pozytywne",
          "Bardzo pozytywne",
          "Bardzo pozytywne",
          "Bardzo pozytywne",
          "Mieszane",
          "Przytłaczająco pozytywne",
          "Bardzo pozytywne",
          "Mieszane",
          "Bardzo pozytywne",
          "Mieszane",
          "Bardzo pozytywne",
          "Przytłaczająco pozytywne",
          "Przytłaczająco pozytywne",
          "Bardzo pozytywne",
          "Bardzo pozytywne",
          "Bardzo pozytywne",
          "W większości pozytywne",
          "W większości pozytywne",
          "Bardzo pozytywne",
          "Przytłaczająco pozytywne",
          "Przytłaczająco pozytywne",
          "Bardzo pozytywne",
          "Przytłaczająco pozytywne",
          "Mieszane",
          "Bardzo pozytywne",
          "Bardzo pozytywne",
          "Bardzo pozytywne",
          "Bardzo pozytywne",
          "Bardzo pozytywne",
          "W większości pozytywne",
          "Przytłaczająco pozytywne",
          "W większości pozytywne",
          "W większości pozytywne",
          "Bardzo pozytywne",
          "Bardzo pozytywne",
          "Bardzo pozytywne",
          "Przytłaczająco pozytywne",
          "Bardzo pozytywne",
          "Bardzo pozytywne",
          "Przytłaczająco pozytywne",
          "W większości pozytywne",
          "W większości pozytywne",
          "Przytłaczająco pozytywne",
          "Bardzo pozytywne",
          "W większości pozytywne",
          "Mieszane",
          "W większości pozytywne",
          "Bardzo pozytywne",
          "Przytłaczająco pozytywne",
          "Bardzo pozytywne",
          "Bardzo pozytywne",
          "Przytłaczająco pozytywne",
          "Bardzo pozytywne",
          "Bardzo pozytywne",
          "Mieszane",
          "Mieszane",
          "Przytłaczająco pozytywne",
          "Bardzo pozytywne",
          "Mieszane",
          "Bardzo pozytywne",
          "Przytłaczająco pozytywne",
          "W większości pozytywne",
          "Bardzo pozytywne",
          "Bardzo pozytywne",
          "Bardzo pozytywne",
          "Bardzo pozytywne",
          "Mieszane",
          "Bardzo pozytywne",
          "Bardzo pozytywne",
          "Bardzo pozytywne",
          "Bardzo pozytywne",
          "W większości pozytywne",
          "Bardzo pozytywne",
          "W większości pozytywne",
          "Bardzo pozytywne",
          "Mieszane",
          "Przytłaczająco pozytywne",
          "Bardzo pozytywne",
          "W większości pozytywne",
          "Mieszane",
          "Bardzo pozytywne",
          "Przytłaczająco pozytywne",
          "Przytłaczająco pozytywne",
          "Bardzo pozytywne",
          "Bardzo pozytywne",
          "Przytłaczająco pozytywne",
          "Bardzo pozytywne",
          "Bardzo pozytywne",
          "Bardzo pozytywne",
          "Przytłaczająco pozytywne",
          "W większości pozytywne",
          "W większości pozytywne",
          "Mieszane",
          "Bardzo pozytywne",
          "Przytłaczająco pozytywne",
          "Bardzo pozytywne",
          "Bardzo pozytywne",
          "Bardzo pozytywne",
          "W większości pozytywne",
          "Przytłaczająco pozytywne",
          "W większości pozytywne",
          "Bardzo pozytywne",
          "Przytłaczająco pozytywne",
          "Bardzo pozytywne",
          "Bardzo pozytywne",
          "Przytłaczająco pozytywne",
          "Bardzo pozytywne",
          "W większości pozytywne",
          "Bardzo pozytywne",
          "W większości pozytywne",
          "Bardzo pozytywne",
          "W większości pozytywne",
          "W większości pozytywne",
          "Bardzo pozytywne",
          "W większości pozytywne",
          "Przytłaczająco pozytywne",
          "Przytłaczająco negatywne",
          "Przytłaczająco pozytywne",
          "Bardzo pozytywne",
          "Bardzo pozytywne",
          "W większości pozytywne",
          "Mieszane",
          "Bardzo pozytywne",
          "Bardzo pozytywne",
          "W większości pozytywne",
          "Bardzo pozytywne",
          "Bardzo pozytywne",
          "Przytłaczająco pozytywne",
          "Bardzo pozytywne",
          "Bardzo pozytywne",
          "Bardzo pozytywne",
          "Bardzo pozytywne",
          "Bardzo pozytywne",
          "Bardzo pozytywne",
          "Bardzo pozytywne",
          "Bardzo pozytywne",
          "Przytłaczająco pozytywne",
          "Bardzo pozytywne",
          "Bardzo pozytywne",
          "Bardzo pozytywne",
          "Mieszane",
          "Bardzo pozytywne",
          "Mieszane",
          "W większości pozytywne",
          "Przytłaczająco pozytywne",
          "Bardzo pozytywne",
          "Bardzo pozytywne",
          "Mieszane",
          "Mieszane",
          "Przytłaczająco pozytywne",
          "Bardzo pozytywne",
          "Bardzo pozytywne",
          "Bardzo pozytywne",
          "Bardzo pozytywne",
          "Bardzo pozytywne",
          "Bardzo pozytywne",
          "W większości pozytywne",
          "W większości pozytywne",
          "Bardzo pozytywne",
          "Bardzo pozytywne",
          "Mieszane",
          "Przytłaczająco pozytywne",
          "Bardzo pozytywne",
          "Przytłaczająco pozytywne",
          "Bardzo pozytywne",
          "Bardzo pozytywne",
          "W większości pozytywne",
          "Bardzo pozytywne",
          "Bardzo pozytywne",
          "Bardzo pozytywne",
          "W większości pozytywne",
          "W większości pozytywne",
          "Mieszane",
          "W większości pozytywne",
          "Bardzo pozytywne",
          "Bardzo pozytywne",
          "W większości pozytywne",
          "Bardzo pozytywne",
          "Bardzo pozytywne",
          "Przytłaczająco pozytywne",
          "Bardzo pozytywne",
          "Bardzo pozytywne",
          "W większości pozytywne",
          "Bardzo pozytywne",
          "Przytłaczająco pozytywne",
          "Bardzo pozytywne",
          "Bardzo pozytywne",
          "Mieszane",
          "Bardzo pozytywne",
          "Mieszane",
          "Bardzo pozytywne",
          "W większości pozytywne",
          "Przytłaczająco pozytywne",
          "Bardzo pozytywne",
          "W większości pozytywne",
          "Bardzo pozytywne",
          "Bardzo pozytywne",
          "Bardzo pozytywne",
          "Bardzo pozytywne",
          "Mieszane",
          "Mieszane",
          "Mieszane",
          "W większości pozytywne",
          "Przytłaczająco pozytywne",
          "Mieszane",
          "Przytłaczająco pozytywne",
          "Bardzo pozytywne",
          "Bardzo pozytywne",
          "W większości pozytywne",
          "Bardzo pozytywne",
          "Bardzo pozytywne",
          "Bardzo pozytywne",
          "Bardzo pozytywne",
          "Bardzo pozytywne",
          "Bardzo pozytywne",
          "Przytłaczająco pozytywne",
          "Bardzo pozytywne",
          "W większości pozytywne",
          "Bardzo pozytywne",
          "Bardzo pozytywne",
          "Bardzo pozytywne",
          "Bardzo pozytywne",
          "Bardzo pozytywne",
          "Bardzo pozytywne",
          "Mieszane",
          "Bardzo pozytywne",
          "W większości pozytywne",
          "Bardzo pozytywne",
          "Mieszane",
          "W większości pozytywne",
          "Przytłaczająco pozytywne",
          "Bardzo pozytywne",
          "Bardzo pozytywne",
          "Bardzo pozytywne",
          "W większości pozytywne",
          "Bardzo pozytywne",
          "Bardzo pozytywne",
          "Bardzo pozytywne",
          "Bardzo pozytywne",
          "Bardzo pozytywne",
          "Bardzo pozytywne",
          "W większości pozytywne",
          "Bardzo pozytywne",
          "Przytłaczająco pozytywne",
          "Przytłaczająco pozytywne",
          "Mieszane",
          "Bardzo pozytywne",
          "Bardzo pozytywne",
          "Bardzo pozytywne",
          "W większości pozytywne",
          "W większości pozytywne",
          "Bardzo pozytywne",
          "Mieszane",
          "Mieszane",
          "Bardzo pozytywne",
          "Bardzo pozytywne",
          "Bardzo pozytywne",
          "Bardzo pozytywne",
          "Mieszane",
          "Bardzo pozytywne",
          "Przytłaczająco pozytywne",
          "Bardzo pozytywne",
          "Przytłaczająco pozytywne",
          "Bardzo pozytywne",
          "Mieszane",
          "Mieszane",
          "Bardzo pozytywne",
          "Brak informacji",
          "Bardzo pozytywne",
          "Bardzo pozytywne",
          "Bardzo pozytywne",
          "Bardzo pozytywne",
          "W większości pozytywne",
          "Bardzo pozytywne",
          "Bardzo pozytywne",
          "Bardzo pozytywne",
          "Przytłaczająco pozytywne",
          "Przytłaczająco pozytywne",
          "Bardzo pozytywne",
          "Bardzo pozytywne",
          "Bardzo pozytywne",
          "Bardzo pozytywne",
          "Bardzo pozytywne",
          "Bardzo pozytywne",
          "Przytłaczająco pozytywne",
          "W większości pozytywne",
          "Bardzo pozytywne",
          "W większości pozytywne",
          "W większości pozytywne",
          "Bardzo pozytywne",
          "Pozytywne",
          "W większości pozytywne",
          "Bardzo pozytywne",
          "Mieszane",
          "W większości pozytywne",
          "Bardzo pozytywne",
          "W większości pozytywne",
          "Bardzo pozytywne",
          "Bardzo pozytywne",
          "Mieszane",
          "Bardzo pozytywne",
          "Mieszane",
          "Bardzo pozytywne",
          "Bardzo pozytywne",
          "Bardzo pozytywne",
          "W większości pozytywne",
          "Bardzo pozytywne",
          "W większości pozytywne",
          "Bardzo pozytywne",
          "Bardzo pozytywne",
          "Bardzo pozytywne",
          "Mieszane",
          "Bardzo pozytywne",
          "W większości pozytywne",
          "Bardzo pozytywne",
          "Przytłaczająco pozytywne",
          "Bardzo pozytywne",
          "Bardzo pozytywne",
          "Bardzo pozytywne",
          "Bardzo pozytywne",
          "Bardzo pozytywne",
          "Przytłaczająco pozytywne",
          "Bardzo pozytywne",
          "Bardzo pozytywne",
          "Mieszane",
          "Bardzo pozytywne",
          "W większości pozytywne",
          "Mieszane",
          "Bardzo pozytywne",
          "Bardzo pozytywne",
          "Mieszane",
          "Bardzo pozytywne",
          "W większości pozytywne",
          "Przytłaczająco pozytywne",
          "Bardzo pozytywne",
          "Mieszane",
          "Bardzo pozytywne",
          "Bardzo pozytywne",
          "Bardzo pozytywne",
          "W większości pozytywne",
          "Bardzo pozytywne",
          "Bardzo pozytywne",
          "Brak informacji",
          "Bardzo pozytywne",
          "Bardzo pozytywne",
          "Mieszane",
          "Bardzo pozytywne",
          "Bardzo pozytywne",
          "W większości pozytywne",
          "W większości pozytywne",
          "Przytłaczająco pozytywne",
          "W większości pozytywne",
          "Bardzo pozytywne",
          "Bardzo pozytywne",
          "Przytłaczająco pozytywne",
          "Bardzo pozytywne",
          "Bardzo pozytywne",
          "Bardzo pozytywne",
          "Bardzo pozytywne",
          "W większości pozytywne",
          "Bardzo pozytywne",
          "Bardzo pozytywne",
          "Bardzo pozytywne",
          "Bardzo pozytywne",
          "Bardzo pozytywne",
          "Bardzo pozytywne",
          "Bardzo pozytywne",
          "W większości pozytywne",
          "W większości pozytywne",
          "Mieszane",
          "W większości pozytywne",
          "Bardzo pozytywne",
          "Mieszane",
          "W większości pozytywne",
          "W większości pozytywne",
          "Bardzo pozytywne",
          "Bardzo pozytywne",
          "Bardzo pozytywne"
         ],
         "x0": " ",
         "xaxis": "x",
         "y": [
          89.55,
          138.99,
          0,
          65.99,
          10.79,
          157.49,
          45.86,
          42.25,
          111.99,
          169,
          184.99,
          45.86,
          15.99,
          45.99,
          184.99,
          214.99,
          105.63,
          161.99,
          26.56,
          74.97,
          91.99,
          49.99,
          13.89,
          72.59,
          124.79,
          229.99,
          0,
          0,
          84.5,
          35.74,
          107.99,
          31.75,
          109.99,
          26.99,
          89.99,
          169.9,
          22.99,
          138.99,
          49.75,
          84.99,
          0,
          0,
          26.99,
          35.5,
          13.79,
          45.86,
          57.19,
          79.99,
          0,
          138.99,
          55.99,
          259,
          37.2,
          259,
          59.6,
          0,
          99.6,
          26.98,
          107.99,
          104.99,
          79.99,
          40.48,
          15.6,
          65.4,
          0,
          118.14,
          0,
          15.99,
          72.99,
          29.99,
          57.59,
          289.9,
          129.99,
          77.99,
          111.3,
          219,
          27.98,
          207.2,
          69.99,
          9.19,
          0,
          45.99,
          199.99,
          114.99,
          67.99,
          274.99,
          68.64,
          11.99,
          40.99,
          89.99,
          149.99,
          12.6,
          45.99,
          269.9,
          54.45,
          19.99,
          65.99,
          31.99,
          69.49,
          12.6,
          229,
          0,
          119.9,
          68.99,
          110.99,
          114.99,
          107.99,
          219,
          35.8,
          254.8,
          114.99,
          79,
          91.99,
          45.99,
          0,
          39.99,
          29.99,
          126.74,
          28.48,
          45.99,
          107.99,
          119.99,
          109,
          55.19,
          35.6,
          78.99,
          231.99,
          32.24,
          107.46,
          43.19,
          91.99,
          89.99,
          13.98,
          169,
          95.5,
          59.99,
          29.85,
          71.99,
          36.79,
          159.99,
          67.49,
          0,
          156.99,
          64.99,
          208.49,
          34.75,
          0,
          13.99,
          91.99,
          114.99,
          13.98,
          107.99,
          35.99,
          13.98,
          71.49,
          0,
          99.6,
          67.99,
          91.99,
          109.49,
          71.99,
          28.74,
          61.19,
          32.39,
          68.7,
          44.99,
          47.2,
          17.99,
          49.99,
          91.06,
          41.99,
          21.24,
          0,
          107.99,
          41.98,
          94.99,
          289.9,
          45.99,
          53.99,
          64.5,
          0,
          91.99,
          105.79,
          71.99,
          35.99,
          89.99,
          89.99,
          0,
          13.48,
          34.99,
          34.99,
          17.99,
          14.99,
          82.79,
          32.49,
          45.99,
          99,
          0,
          77.99,
          89.99,
          74.99,
          138.99,
          36.79,
          0,
          71.99,
          27.59,
          24.99,
          69.99,
          34.99,
          45.99,
          67.99,
          26.99,
          91.99,
          68.99,
          54.99,
          7.99,
          274.99,
          100,
          171.9,
          184.99,
          35.99,
          31,
          14.75,
          100,
          100,
          31.24,
          124,
          122.99,
          44.99,
          44.99,
          44.99,
          48.13,
          19.99,
          14.29,
          9.99,
          17.99,
          10.79,
          45.99,
          45.99,
          89.99,
          22.99,
          45.86,
          39.99,
          0,
          54.99,
          45.99,
          13.48,
          67.52,
          6.99,
          82.99,
          21.59,
          50,
          75,
          17.47,
          161.99,
          52.19,
          138.99,
          35.59,
          17.99,
          40.99,
          67.99,
          22.99,
          7.99,
          100,
          39.99,
          39.9,
          199,
          49.17,
          91.99,
          100,
          100,
          161.99,
          73.59,
          0,
          89.99,
          22,
          159.99,
          124.99,
          36.99,
          21.59,
          45.99,
          91.99,
          91.99,
          6.49,
          44.99,
          35.99,
          44.22,
          21.8,
          0,
          38.39,
          139.99,
          41.91,
          91.99,
          20.84,
          82.99,
          45.99,
          91.99,
          27.5,
          45.99,
          100,
          0,
          40.99,
          21.17,
          81.95,
          40.79,
          0,
          53.99,
          79.99,
          19.9,
          161.99,
          79.9,
          91.99,
          91.99,
          91.99,
          184.99,
          71.99,
          71.99,
          71.99,
          89.99,
          44.99,
          71.99,
          35.74,
          35.74,
          34.97,
          138.99,
          89.99,
          34.68,
          8.99,
          45.99,
          13.74,
          114.99,
          44.99,
          7.19,
          82.79,
          8.39,
          0,
          31.99,
          125,
          124,
          0,
          29.97,
          119,
          107.99,
          114.99,
          59.99,
          8.99,
          27.99,
          27.96,
          9.19,
          22.99,
          45.99,
          27.59,
          42.99,
          11.49,
          0,
          27.49,
          99,
          99,
          107.99,
          107.99,
          107.99,
          35.99,
          74.99,
          39,
          53.99,
          107.99,
          29.99,
          12.45,
          24.75,
          59.99,
          32.39,
          67.99,
          94,
          23.11,
          91.99,
          45.99,
          91.99,
          91.99,
          91.99,
          91.99,
          45.99,
          79.99,
          19.99,
          91.99,
          21.99,
          22.99,
          44.99,
          89.99,
          45.99,
          89.9,
          17.59,
          21.99,
          21.59,
          10.99,
          84.5,
          59.99,
          27.99,
          0,
          25.2,
          22.99,
          0,
          22.99,
          50.69,
          77.99,
          82.99,
          13.49,
          91.99,
          91.99,
          32.39,
          73.59,
          71.99,
          13.49,
          138.99,
          18.19,
          20.97,
          91.99,
          68.99,
          10.99,
          67.6,
          71.99,
          89.99,
          35.99,
          10.07,
          71.99,
          63.99,
          24.99,
          24.99,
          143.48,
          63,
          62.99,
          10.79,
          86.99,
          17.99,
          59.99,
          59.99,
          13.49,
          7.49,
          9.19,
          69.49,
          15.74,
          14.49,
          34.99,
          13.98,
          25.49,
          53.99,
          17.99,
          53.99,
          26.7,
          25.89,
          17.99,
          25.34,
          39.99,
          49.91,
          71.99,
          63.99,
          64.99,
          64.99,
          53.99,
          7.99,
          59.99,
          23.8,
          67.99,
          46.99,
          7.19,
          7.19,
          7.19,
          82.99,
          49.49,
          45.99,
          10.99,
          7.49,
          44.75,
          35.59,
          10.79,
          21.49,
          159.9,
          21.12,
          70,
          41.4
         ],
         "y0": " ",
         "yaxis": "y"
        }
       ],
       "layout": {
        "boxmode": "group",
        "legend": {
         "tracegroupgap": 0
        },
        "template": {
         "data": {
          "bar": [
           {
            "error_x": {
             "color": "#2a3f5f"
            },
            "error_y": {
             "color": "#2a3f5f"
            },
            "marker": {
             "line": {
              "color": "#E5ECF6",
              "width": 0.5
             },
             "pattern": {
              "fillmode": "overlay",
              "size": 10,
              "solidity": 0.2
             }
            },
            "type": "bar"
           }
          ],
          "barpolar": [
           {
            "marker": {
             "line": {
              "color": "#E5ECF6",
              "width": 0.5
             },
             "pattern": {
              "fillmode": "overlay",
              "size": 10,
              "solidity": 0.2
             }
            },
            "type": "barpolar"
           }
          ],
          "carpet": [
           {
            "aaxis": {
             "endlinecolor": "#2a3f5f",
             "gridcolor": "white",
             "linecolor": "white",
             "minorgridcolor": "white",
             "startlinecolor": "#2a3f5f"
            },
            "baxis": {
             "endlinecolor": "#2a3f5f",
             "gridcolor": "white",
             "linecolor": "white",
             "minorgridcolor": "white",
             "startlinecolor": "#2a3f5f"
            },
            "type": "carpet"
           }
          ],
          "choropleth": [
           {
            "colorbar": {
             "outlinewidth": 0,
             "ticks": ""
            },
            "type": "choropleth"
           }
          ],
          "contour": [
           {
            "colorbar": {
             "outlinewidth": 0,
             "ticks": ""
            },
            "colorscale": [
             [
              0,
              "#0d0887"
             ],
             [
              0.1111111111111111,
              "#46039f"
             ],
             [
              0.2222222222222222,
              "#7201a8"
             ],
             [
              0.3333333333333333,
              "#9c179e"
             ],
             [
              0.4444444444444444,
              "#bd3786"
             ],
             [
              0.5555555555555556,
              "#d8576b"
             ],
             [
              0.6666666666666666,
              "#ed7953"
             ],
             [
              0.7777777777777778,
              "#fb9f3a"
             ],
             [
              0.8888888888888888,
              "#fdca26"
             ],
             [
              1,
              "#f0f921"
             ]
            ],
            "type": "contour"
           }
          ],
          "contourcarpet": [
           {
            "colorbar": {
             "outlinewidth": 0,
             "ticks": ""
            },
            "type": "contourcarpet"
           }
          ],
          "heatmap": [
           {
            "colorbar": {
             "outlinewidth": 0,
             "ticks": ""
            },
            "colorscale": [
             [
              0,
              "#0d0887"
             ],
             [
              0.1111111111111111,
              "#46039f"
             ],
             [
              0.2222222222222222,
              "#7201a8"
             ],
             [
              0.3333333333333333,
              "#9c179e"
             ],
             [
              0.4444444444444444,
              "#bd3786"
             ],
             [
              0.5555555555555556,
              "#d8576b"
             ],
             [
              0.6666666666666666,
              "#ed7953"
             ],
             [
              0.7777777777777778,
              "#fb9f3a"
             ],
             [
              0.8888888888888888,
              "#fdca26"
             ],
             [
              1,
              "#f0f921"
             ]
            ],
            "type": "heatmap"
           }
          ],
          "heatmapgl": [
           {
            "colorbar": {
             "outlinewidth": 0,
             "ticks": ""
            },
            "colorscale": [
             [
              0,
              "#0d0887"
             ],
             [
              0.1111111111111111,
              "#46039f"
             ],
             [
              0.2222222222222222,
              "#7201a8"
             ],
             [
              0.3333333333333333,
              "#9c179e"
             ],
             [
              0.4444444444444444,
              "#bd3786"
             ],
             [
              0.5555555555555556,
              "#d8576b"
             ],
             [
              0.6666666666666666,
              "#ed7953"
             ],
             [
              0.7777777777777778,
              "#fb9f3a"
             ],
             [
              0.8888888888888888,
              "#fdca26"
             ],
             [
              1,
              "#f0f921"
             ]
            ],
            "type": "heatmapgl"
           }
          ],
          "histogram": [
           {
            "marker": {
             "pattern": {
              "fillmode": "overlay",
              "size": 10,
              "solidity": 0.2
             }
            },
            "type": "histogram"
           }
          ],
          "histogram2d": [
           {
            "colorbar": {
             "outlinewidth": 0,
             "ticks": ""
            },
            "colorscale": [
             [
              0,
              "#0d0887"
             ],
             [
              0.1111111111111111,
              "#46039f"
             ],
             [
              0.2222222222222222,
              "#7201a8"
             ],
             [
              0.3333333333333333,
              "#9c179e"
             ],
             [
              0.4444444444444444,
              "#bd3786"
             ],
             [
              0.5555555555555556,
              "#d8576b"
             ],
             [
              0.6666666666666666,
              "#ed7953"
             ],
             [
              0.7777777777777778,
              "#fb9f3a"
             ],
             [
              0.8888888888888888,
              "#fdca26"
             ],
             [
              1,
              "#f0f921"
             ]
            ],
            "type": "histogram2d"
           }
          ],
          "histogram2dcontour": [
           {
            "colorbar": {
             "outlinewidth": 0,
             "ticks": ""
            },
            "colorscale": [
             [
              0,
              "#0d0887"
             ],
             [
              0.1111111111111111,
              "#46039f"
             ],
             [
              0.2222222222222222,
              "#7201a8"
             ],
             [
              0.3333333333333333,
              "#9c179e"
             ],
             [
              0.4444444444444444,
              "#bd3786"
             ],
             [
              0.5555555555555556,
              "#d8576b"
             ],
             [
              0.6666666666666666,
              "#ed7953"
             ],
             [
              0.7777777777777778,
              "#fb9f3a"
             ],
             [
              0.8888888888888888,
              "#fdca26"
             ],
             [
              1,
              "#f0f921"
             ]
            ],
            "type": "histogram2dcontour"
           }
          ],
          "mesh3d": [
           {
            "colorbar": {
             "outlinewidth": 0,
             "ticks": ""
            },
            "type": "mesh3d"
           }
          ],
          "parcoords": [
           {
            "line": {
             "colorbar": {
              "outlinewidth": 0,
              "ticks": ""
             }
            },
            "type": "parcoords"
           }
          ],
          "pie": [
           {
            "automargin": true,
            "type": "pie"
           }
          ],
          "scatter": [
           {
            "fillpattern": {
             "fillmode": "overlay",
             "size": 10,
             "solidity": 0.2
            },
            "type": "scatter"
           }
          ],
          "scatter3d": [
           {
            "line": {
             "colorbar": {
              "outlinewidth": 0,
              "ticks": ""
             }
            },
            "marker": {
             "colorbar": {
              "outlinewidth": 0,
              "ticks": ""
             }
            },
            "type": "scatter3d"
           }
          ],
          "scattercarpet": [
           {
            "marker": {
             "colorbar": {
              "outlinewidth": 0,
              "ticks": ""
             }
            },
            "type": "scattercarpet"
           }
          ],
          "scattergeo": [
           {
            "marker": {
             "colorbar": {
              "outlinewidth": 0,
              "ticks": ""
             }
            },
            "type": "scattergeo"
           }
          ],
          "scattergl": [
           {
            "marker": {
             "colorbar": {
              "outlinewidth": 0,
              "ticks": ""
             }
            },
            "type": "scattergl"
           }
          ],
          "scattermapbox": [
           {
            "marker": {
             "colorbar": {
              "outlinewidth": 0,
              "ticks": ""
             }
            },
            "type": "scattermapbox"
           }
          ],
          "scatterpolar": [
           {
            "marker": {
             "colorbar": {
              "outlinewidth": 0,
              "ticks": ""
             }
            },
            "type": "scatterpolar"
           }
          ],
          "scatterpolargl": [
           {
            "marker": {
             "colorbar": {
              "outlinewidth": 0,
              "ticks": ""
             }
            },
            "type": "scatterpolargl"
           }
          ],
          "scatterternary": [
           {
            "marker": {
             "colorbar": {
              "outlinewidth": 0,
              "ticks": ""
             }
            },
            "type": "scatterternary"
           }
          ],
          "surface": [
           {
            "colorbar": {
             "outlinewidth": 0,
             "ticks": ""
            },
            "colorscale": [
             [
              0,
              "#0d0887"
             ],
             [
              0.1111111111111111,
              "#46039f"
             ],
             [
              0.2222222222222222,
              "#7201a8"
             ],
             [
              0.3333333333333333,
              "#9c179e"
             ],
             [
              0.4444444444444444,
              "#bd3786"
             ],
             [
              0.5555555555555556,
              "#d8576b"
             ],
             [
              0.6666666666666666,
              "#ed7953"
             ],
             [
              0.7777777777777778,
              "#fb9f3a"
             ],
             [
              0.8888888888888888,
              "#fdca26"
             ],
             [
              1,
              "#f0f921"
             ]
            ],
            "type": "surface"
           }
          ],
          "table": [
           {
            "cells": {
             "fill": {
              "color": "#EBF0F8"
             },
             "line": {
              "color": "white"
             }
            },
            "header": {
             "fill": {
              "color": "#C8D4E3"
             },
             "line": {
              "color": "white"
             }
            },
            "type": "table"
           }
          ]
         },
         "layout": {
          "annotationdefaults": {
           "arrowcolor": "#2a3f5f",
           "arrowhead": 0,
           "arrowwidth": 1
          },
          "autotypenumbers": "strict",
          "coloraxis": {
           "colorbar": {
            "outlinewidth": 0,
            "ticks": ""
           }
          },
          "colorscale": {
           "diverging": [
            [
             0,
             "#8e0152"
            ],
            [
             0.1,
             "#c51b7d"
            ],
            [
             0.2,
             "#de77ae"
            ],
            [
             0.3,
             "#f1b6da"
            ],
            [
             0.4,
             "#fde0ef"
            ],
            [
             0.5,
             "#f7f7f7"
            ],
            [
             0.6,
             "#e6f5d0"
            ],
            [
             0.7,
             "#b8e186"
            ],
            [
             0.8,
             "#7fbc41"
            ],
            [
             0.9,
             "#4d9221"
            ],
            [
             1,
             "#276419"
            ]
           ],
           "sequential": [
            [
             0,
             "#0d0887"
            ],
            [
             0.1111111111111111,
             "#46039f"
            ],
            [
             0.2222222222222222,
             "#7201a8"
            ],
            [
             0.3333333333333333,
             "#9c179e"
            ],
            [
             0.4444444444444444,
             "#bd3786"
            ],
            [
             0.5555555555555556,
             "#d8576b"
            ],
            [
             0.6666666666666666,
             "#ed7953"
            ],
            [
             0.7777777777777778,
             "#fb9f3a"
            ],
            [
             0.8888888888888888,
             "#fdca26"
            ],
            [
             1,
             "#f0f921"
            ]
           ],
           "sequentialminus": [
            [
             0,
             "#0d0887"
            ],
            [
             0.1111111111111111,
             "#46039f"
            ],
            [
             0.2222222222222222,
             "#7201a8"
            ],
            [
             0.3333333333333333,
             "#9c179e"
            ],
            [
             0.4444444444444444,
             "#bd3786"
            ],
            [
             0.5555555555555556,
             "#d8576b"
            ],
            [
             0.6666666666666666,
             "#ed7953"
            ],
            [
             0.7777777777777778,
             "#fb9f3a"
            ],
            [
             0.8888888888888888,
             "#fdca26"
            ],
            [
             1,
             "#f0f921"
            ]
           ]
          },
          "colorway": [
           "#636efa",
           "#EF553B",
           "#00cc96",
           "#ab63fa",
           "#FFA15A",
           "#19d3f3",
           "#FF6692",
           "#B6E880",
           "#FF97FF",
           "#FECB52"
          ],
          "font": {
           "color": "#2a3f5f"
          },
          "geo": {
           "bgcolor": "white",
           "lakecolor": "white",
           "landcolor": "#E5ECF6",
           "showlakes": true,
           "showland": true,
           "subunitcolor": "white"
          },
          "hoverlabel": {
           "align": "left"
          },
          "hovermode": "closest",
          "mapbox": {
           "style": "light"
          },
          "paper_bgcolor": "white",
          "plot_bgcolor": "#E5ECF6",
          "polar": {
           "angularaxis": {
            "gridcolor": "white",
            "linecolor": "white",
            "ticks": ""
           },
           "bgcolor": "#E5ECF6",
           "radialaxis": {
            "gridcolor": "white",
            "linecolor": "white",
            "ticks": ""
           }
          },
          "scene": {
           "xaxis": {
            "backgroundcolor": "#E5ECF6",
            "gridcolor": "white",
            "gridwidth": 2,
            "linecolor": "white",
            "showbackground": true,
            "ticks": "",
            "zerolinecolor": "white"
           },
           "yaxis": {
            "backgroundcolor": "#E5ECF6",
            "gridcolor": "white",
            "gridwidth": 2,
            "linecolor": "white",
            "showbackground": true,
            "ticks": "",
            "zerolinecolor": "white"
           },
           "zaxis": {
            "backgroundcolor": "#E5ECF6",
            "gridcolor": "white",
            "gridwidth": 2,
            "linecolor": "white",
            "showbackground": true,
            "ticks": "",
            "zerolinecolor": "white"
           }
          },
          "shapedefaults": {
           "line": {
            "color": "#2a3f5f"
           }
          },
          "ternary": {
           "aaxis": {
            "gridcolor": "white",
            "linecolor": "white",
            "ticks": ""
           },
           "baxis": {
            "gridcolor": "white",
            "linecolor": "white",
            "ticks": ""
           },
           "bgcolor": "#E5ECF6",
           "caxis": {
            "gridcolor": "white",
            "linecolor": "white",
            "ticks": ""
           }
          },
          "title": {
           "x": 0.05
          },
          "xaxis": {
           "automargin": true,
           "gridcolor": "white",
           "linecolor": "white",
           "ticks": "",
           "title": {
            "standoff": 15
           },
           "zerolinecolor": "white",
           "zerolinewidth": 2
          },
          "yaxis": {
           "automargin": true,
           "gridcolor": "white",
           "linecolor": "white",
           "ticks": "",
           "title": {
            "standoff": 15
           },
           "zerolinecolor": "white",
           "zerolinewidth": 2
          }
         }
        },
        "title": {
         "text": "Cena w zależności od nacechowania recenzji"
        },
        "xaxis": {
         "anchor": "y",
         "categoryarray": [
          "Przytłaczająco pozytywne",
          "Bardzo pozytywne",
          "W większości pozytywne",
          "Pozytywne",
          "Mieszane",
          "W większości negatywne",
          "Przytłaczająco negatywne"
         ],
         "categoryorder": "array",
         "domain": [
          0,
          1
         ],
         "title": {
          "text": "Nacechowanie recenzji"
         }
        },
        "yaxis": {
         "anchor": "x",
         "domain": [
          0,
          1
         ],
         "title": {
          "text": "Cena (zł)"
         }
        }
       }
      }
     },
     "metadata": {},
     "output_type": "display_data"
    }
   ],
   "source": [
    "# 2. Zależność między ceną a nacechowaniem recenzji\n",
    "\n",
    "# Mapowanie nacechowania na wartości numeryczne\n",
    "sentiment_map = {\n",
    "    'Bardzo pozytywne': 3,\n",
    "    'Pozytywne': 2,\n",
    "    'Mieszane': 1,\n",
    "    'Negatywne': 0\n",
    "}\n",
    "df['sentiment_score'] = df['Nacechowanie recenzji'].map(sentiment_map)\n",
    "\n",
    "# Określenie kolejności dla 'Nacechowanie recenzji'\n",
    "category_order = ['Przytłaczająco pozytywne', 'Bardzo pozytywne', 'W większości pozytywne', 'Pozytywne', 'Mieszane', 'W większości negatywne', 'Przytłaczająco negatywne']\n",
    "\n",
    "# Scatter plot\n",
    "fig4 = px.box(df, x='Nacechowanie recenzji', y='Cena', title='Cena w zależności od nacechowania recenzji',\n",
    "             labels={'Cena': 'Cena (zł)', 'Nacechowanie recenzji': 'Nacechowanie recenzji'},\n",
    "             category_orders={'Nacechowanie recenzji': category_order})  # Dodajemy sortowanie\n",
    "\n",
    "fig4.show()\n",
    "\n"
   ]
  },
  {
   "cell_type": "code",
   "execution_count": 97,
   "metadata": {},
   "outputs": [],
   "source": [
    "# Upewnij się, że Data wydania jest w formacie datetime\n",
    "df['Data wydania'] = pd.to_datetime(df['Data wydania'], errors='coerce')\n",
    "\n",
    "# Wyodrębnij rok i dodaj go do nowej kolumny\n",
    "df['Rok wydania'] = df['Data wydania'].dt.year\n"
   ]
  },
  {
   "cell_type": "code",
   "execution_count": 103,
   "metadata": {},
   "outputs": [
    {
     "data": {
      "application/vnd.plotly.v1+json": {
       "config": {
        "plotlyServerURL": "https://plot.ly"
       },
       "data": [
        {
         "alignmentgroup": "True",
         "hovertemplate": "Nacechowanie recenzji=Przytłaczająco pozytywne<br>Rok wydania=%{x}<br>Liczba gier=%{y}<extra></extra>",
         "legendgroup": "Przytłaczająco pozytywne",
         "marker": {
          "color": "#636efa",
          "pattern": {
           "shape": ""
          }
         },
         "name": "Przytłaczająco pozytywne",
         "offsetgroup": "Przytłaczająco pozytywne",
         "orientation": "v",
         "showlegend": true,
         "textposition": "auto",
         "type": "bar",
         "x": [
          1998,
          2004,
          2007,
          2008,
          2009,
          2010,
          2011,
          2012,
          2013,
          2014,
          2015,
          2016,
          2017,
          2018,
          2019,
          2020,
          2021,
          2022,
          2023,
          2024,
          2025
         ],
         "xaxis": "x",
         "y": [
          1,
          1,
          4,
          1,
          3,
          3,
          2,
          2,
          1,
          3,
          3,
          2,
          3,
          4,
          4,
          6,
          5,
          7,
          4,
          6,
          2
         ],
         "yaxis": "y"
        },
        {
         "alignmentgroup": "True",
         "hovertemplate": "Nacechowanie recenzji=Bardzo pozytywne<br>Rok wydania=%{x}<br>Liczba gier=%{y}<extra></extra>",
         "legendgroup": "Bardzo pozytywne",
         "marker": {
          "color": "#EF553B",
          "pattern": {
           "shape": ""
          }
         },
         "name": "Bardzo pozytywne",
         "offsetgroup": "Bardzo pozytywne",
         "orientation": "v",
         "showlegend": true,
         "textposition": "auto",
         "type": "bar",
         "x": [
          2007,
          2008,
          2009,
          2010,
          2011,
          2012,
          2013,
          2014,
          2015,
          2016,
          2017,
          2018,
          2019,
          2020,
          2021,
          2022,
          2023,
          2024,
          2025
         ],
         "xaxis": "x",
         "y": [
          2,
          6,
          10,
          1,
          5,
          7,
          6,
          9,
          7,
          15,
          17,
          12,
          18,
          20,
          21,
          29,
          29,
          53,
          3
         ],
         "yaxis": "y"
        },
        {
         "alignmentgroup": "True",
         "hovertemplate": "Nacechowanie recenzji=W większości pozytywne<br>Rok wydania=%{x}<br>Liczba gier=%{y}<extra></extra>",
         "legendgroup": "W większości pozytywne",
         "marker": {
          "color": "#00cc96",
          "pattern": {
           "shape": ""
          }
         },
         "name": "W większości pozytywne",
         "offsetgroup": "W większości pozytywne",
         "orientation": "v",
         "showlegend": true,
         "textposition": "auto",
         "type": "bar",
         "x": [
          2006,
          2007,
          2009,
          2011,
          2012,
          2013,
          2014,
          2015,
          2016,
          2017,
          2018,
          2019,
          2020,
          2021,
          2022,
          2023,
          2024,
          2025
         ],
         "xaxis": "x",
         "y": [
          1,
          1,
          1,
          1,
          1,
          1,
          1,
          2,
          2,
          6,
          4,
          4,
          10,
          7,
          10,
          13,
          17,
          4
         ],
         "yaxis": "y"
        },
        {
         "alignmentgroup": "True",
         "hovertemplate": "Nacechowanie recenzji=Pozytywne<br>Rok wydania=%{x}<br>Liczba gier=%{y}<extra></extra>",
         "legendgroup": "Pozytywne",
         "marker": {
          "color": "#ab63fa",
          "pattern": {
           "shape": ""
          }
         },
         "name": "Pozytywne",
         "offsetgroup": "Pozytywne",
         "orientation": "v",
         "showlegend": true,
         "textposition": "auto",
         "type": "bar",
         "x": [
          2025
         ],
         "xaxis": "x",
         "y": [
          1
         ],
         "yaxis": "y"
        },
        {
         "alignmentgroup": "True",
         "hovertemplate": "Nacechowanie recenzji=Mieszane<br>Rok wydania=%{x}<br>Liczba gier=%{y}<extra></extra>",
         "legendgroup": "Mieszane",
         "marker": {
          "color": "#FFA15A",
          "pattern": {
           "shape": ""
          }
         },
         "name": "Mieszane",
         "offsetgroup": "Mieszane",
         "orientation": "v",
         "showlegend": true,
         "textposition": "auto",
         "type": "bar",
         "x": [
          2012,
          2013,
          2014,
          2016,
          2017,
          2018,
          2019,
          2020,
          2021,
          2022,
          2023,
          2024,
          2025
         ],
         "xaxis": "x",
         "y": [
          1,
          1,
          1,
          1,
          5,
          2,
          3,
          4,
          2,
          3,
          10,
          15,
          2
         ],
         "yaxis": "y"
        },
        {
         "alignmentgroup": "True",
         "hovertemplate": "Nacechowanie recenzji=W większości negatywne<br>Rok wydania=%{x}<br>Liczba gier=%{y}<extra></extra>",
         "legendgroup": "W większości negatywne",
         "marker": {
          "color": "#19d3f3",
          "pattern": {
           "shape": ""
          }
         },
         "name": "W większości negatywne",
         "offsetgroup": "W większości negatywne",
         "orientation": "v",
         "showlegend": true,
         "textposition": "auto",
         "type": "bar",
         "x": [
          2023
         ],
         "xaxis": "x",
         "y": [
          1
         ],
         "yaxis": "y"
        },
        {
         "alignmentgroup": "True",
         "hovertemplate": "Nacechowanie recenzji=Przytłaczająco negatywne<br>Rok wydania=%{x}<br>Liczba gier=%{y}<extra></extra>",
         "legendgroup": "Przytłaczająco negatywne",
         "marker": {
          "color": "#FF6692",
          "pattern": {
           "shape": ""
          }
         },
         "name": "Przytłaczająco negatywne",
         "offsetgroup": "Przytłaczająco negatywne",
         "orientation": "v",
         "showlegend": true,
         "textposition": "auto",
         "type": "bar",
         "x": [
          2010
         ],
         "xaxis": "x",
         "y": [
          1
         ],
         "yaxis": "y"
        },
        {
         "alignmentgroup": "True",
         "hovertemplate": "Nacechowanie recenzji=Brak informacji<br>Rok wydania=%{x}<br>Liczba gier=%{y}<extra></extra>",
         "legendgroup": "Brak informacji",
         "marker": {
          "color": "#B6E880",
          "pattern": {
           "shape": ""
          }
         },
         "name": "Brak informacji",
         "offsetgroup": "Brak informacji",
         "orientation": "v",
         "showlegend": true,
         "textposition": "auto",
         "type": "bar",
         "x": [
          2021,
          2025
         ],
         "xaxis": "x",
         "y": [
          1,
          2
         ],
         "yaxis": "y"
        }
       ],
       "layout": {
        "barmode": "stack",
        "legend": {
         "title": {
          "text": "Nacechowanie recenzji"
         },
         "tracegroupgap": 0
        },
        "template": {
         "data": {
          "bar": [
           {
            "error_x": {
             "color": "#2a3f5f"
            },
            "error_y": {
             "color": "#2a3f5f"
            },
            "marker": {
             "line": {
              "color": "#E5ECF6",
              "width": 0.5
             },
             "pattern": {
              "fillmode": "overlay",
              "size": 10,
              "solidity": 0.2
             }
            },
            "type": "bar"
           }
          ],
          "barpolar": [
           {
            "marker": {
             "line": {
              "color": "#E5ECF6",
              "width": 0.5
             },
             "pattern": {
              "fillmode": "overlay",
              "size": 10,
              "solidity": 0.2
             }
            },
            "type": "barpolar"
           }
          ],
          "carpet": [
           {
            "aaxis": {
             "endlinecolor": "#2a3f5f",
             "gridcolor": "white",
             "linecolor": "white",
             "minorgridcolor": "white",
             "startlinecolor": "#2a3f5f"
            },
            "baxis": {
             "endlinecolor": "#2a3f5f",
             "gridcolor": "white",
             "linecolor": "white",
             "minorgridcolor": "white",
             "startlinecolor": "#2a3f5f"
            },
            "type": "carpet"
           }
          ],
          "choropleth": [
           {
            "colorbar": {
             "outlinewidth": 0,
             "ticks": ""
            },
            "type": "choropleth"
           }
          ],
          "contour": [
           {
            "colorbar": {
             "outlinewidth": 0,
             "ticks": ""
            },
            "colorscale": [
             [
              0,
              "#0d0887"
             ],
             [
              0.1111111111111111,
              "#46039f"
             ],
             [
              0.2222222222222222,
              "#7201a8"
             ],
             [
              0.3333333333333333,
              "#9c179e"
             ],
             [
              0.4444444444444444,
              "#bd3786"
             ],
             [
              0.5555555555555556,
              "#d8576b"
             ],
             [
              0.6666666666666666,
              "#ed7953"
             ],
             [
              0.7777777777777778,
              "#fb9f3a"
             ],
             [
              0.8888888888888888,
              "#fdca26"
             ],
             [
              1,
              "#f0f921"
             ]
            ],
            "type": "contour"
           }
          ],
          "contourcarpet": [
           {
            "colorbar": {
             "outlinewidth": 0,
             "ticks": ""
            },
            "type": "contourcarpet"
           }
          ],
          "heatmap": [
           {
            "colorbar": {
             "outlinewidth": 0,
             "ticks": ""
            },
            "colorscale": [
             [
              0,
              "#0d0887"
             ],
             [
              0.1111111111111111,
              "#46039f"
             ],
             [
              0.2222222222222222,
              "#7201a8"
             ],
             [
              0.3333333333333333,
              "#9c179e"
             ],
             [
              0.4444444444444444,
              "#bd3786"
             ],
             [
              0.5555555555555556,
              "#d8576b"
             ],
             [
              0.6666666666666666,
              "#ed7953"
             ],
             [
              0.7777777777777778,
              "#fb9f3a"
             ],
             [
              0.8888888888888888,
              "#fdca26"
             ],
             [
              1,
              "#f0f921"
             ]
            ],
            "type": "heatmap"
           }
          ],
          "heatmapgl": [
           {
            "colorbar": {
             "outlinewidth": 0,
             "ticks": ""
            },
            "colorscale": [
             [
              0,
              "#0d0887"
             ],
             [
              0.1111111111111111,
              "#46039f"
             ],
             [
              0.2222222222222222,
              "#7201a8"
             ],
             [
              0.3333333333333333,
              "#9c179e"
             ],
             [
              0.4444444444444444,
              "#bd3786"
             ],
             [
              0.5555555555555556,
              "#d8576b"
             ],
             [
              0.6666666666666666,
              "#ed7953"
             ],
             [
              0.7777777777777778,
              "#fb9f3a"
             ],
             [
              0.8888888888888888,
              "#fdca26"
             ],
             [
              1,
              "#f0f921"
             ]
            ],
            "type": "heatmapgl"
           }
          ],
          "histogram": [
           {
            "marker": {
             "pattern": {
              "fillmode": "overlay",
              "size": 10,
              "solidity": 0.2
             }
            },
            "type": "histogram"
           }
          ],
          "histogram2d": [
           {
            "colorbar": {
             "outlinewidth": 0,
             "ticks": ""
            },
            "colorscale": [
             [
              0,
              "#0d0887"
             ],
             [
              0.1111111111111111,
              "#46039f"
             ],
             [
              0.2222222222222222,
              "#7201a8"
             ],
             [
              0.3333333333333333,
              "#9c179e"
             ],
             [
              0.4444444444444444,
              "#bd3786"
             ],
             [
              0.5555555555555556,
              "#d8576b"
             ],
             [
              0.6666666666666666,
              "#ed7953"
             ],
             [
              0.7777777777777778,
              "#fb9f3a"
             ],
             [
              0.8888888888888888,
              "#fdca26"
             ],
             [
              1,
              "#f0f921"
             ]
            ],
            "type": "histogram2d"
           }
          ],
          "histogram2dcontour": [
           {
            "colorbar": {
             "outlinewidth": 0,
             "ticks": ""
            },
            "colorscale": [
             [
              0,
              "#0d0887"
             ],
             [
              0.1111111111111111,
              "#46039f"
             ],
             [
              0.2222222222222222,
              "#7201a8"
             ],
             [
              0.3333333333333333,
              "#9c179e"
             ],
             [
              0.4444444444444444,
              "#bd3786"
             ],
             [
              0.5555555555555556,
              "#d8576b"
             ],
             [
              0.6666666666666666,
              "#ed7953"
             ],
             [
              0.7777777777777778,
              "#fb9f3a"
             ],
             [
              0.8888888888888888,
              "#fdca26"
             ],
             [
              1,
              "#f0f921"
             ]
            ],
            "type": "histogram2dcontour"
           }
          ],
          "mesh3d": [
           {
            "colorbar": {
             "outlinewidth": 0,
             "ticks": ""
            },
            "type": "mesh3d"
           }
          ],
          "parcoords": [
           {
            "line": {
             "colorbar": {
              "outlinewidth": 0,
              "ticks": ""
             }
            },
            "type": "parcoords"
           }
          ],
          "pie": [
           {
            "automargin": true,
            "type": "pie"
           }
          ],
          "scatter": [
           {
            "fillpattern": {
             "fillmode": "overlay",
             "size": 10,
             "solidity": 0.2
            },
            "type": "scatter"
           }
          ],
          "scatter3d": [
           {
            "line": {
             "colorbar": {
              "outlinewidth": 0,
              "ticks": ""
             }
            },
            "marker": {
             "colorbar": {
              "outlinewidth": 0,
              "ticks": ""
             }
            },
            "type": "scatter3d"
           }
          ],
          "scattercarpet": [
           {
            "marker": {
             "colorbar": {
              "outlinewidth": 0,
              "ticks": ""
             }
            },
            "type": "scattercarpet"
           }
          ],
          "scattergeo": [
           {
            "marker": {
             "colorbar": {
              "outlinewidth": 0,
              "ticks": ""
             }
            },
            "type": "scattergeo"
           }
          ],
          "scattergl": [
           {
            "marker": {
             "colorbar": {
              "outlinewidth": 0,
              "ticks": ""
             }
            },
            "type": "scattergl"
           }
          ],
          "scattermapbox": [
           {
            "marker": {
             "colorbar": {
              "outlinewidth": 0,
              "ticks": ""
             }
            },
            "type": "scattermapbox"
           }
          ],
          "scatterpolar": [
           {
            "marker": {
             "colorbar": {
              "outlinewidth": 0,
              "ticks": ""
             }
            },
            "type": "scatterpolar"
           }
          ],
          "scatterpolargl": [
           {
            "marker": {
             "colorbar": {
              "outlinewidth": 0,
              "ticks": ""
             }
            },
            "type": "scatterpolargl"
           }
          ],
          "scatterternary": [
           {
            "marker": {
             "colorbar": {
              "outlinewidth": 0,
              "ticks": ""
             }
            },
            "type": "scatterternary"
           }
          ],
          "surface": [
           {
            "colorbar": {
             "outlinewidth": 0,
             "ticks": ""
            },
            "colorscale": [
             [
              0,
              "#0d0887"
             ],
             [
              0.1111111111111111,
              "#46039f"
             ],
             [
              0.2222222222222222,
              "#7201a8"
             ],
             [
              0.3333333333333333,
              "#9c179e"
             ],
             [
              0.4444444444444444,
              "#bd3786"
             ],
             [
              0.5555555555555556,
              "#d8576b"
             ],
             [
              0.6666666666666666,
              "#ed7953"
             ],
             [
              0.7777777777777778,
              "#fb9f3a"
             ],
             [
              0.8888888888888888,
              "#fdca26"
             ],
             [
              1,
              "#f0f921"
             ]
            ],
            "type": "surface"
           }
          ],
          "table": [
           {
            "cells": {
             "fill": {
              "color": "#EBF0F8"
             },
             "line": {
              "color": "white"
             }
            },
            "header": {
             "fill": {
              "color": "#C8D4E3"
             },
             "line": {
              "color": "white"
             }
            },
            "type": "table"
           }
          ]
         },
         "layout": {
          "annotationdefaults": {
           "arrowcolor": "#2a3f5f",
           "arrowhead": 0,
           "arrowwidth": 1
          },
          "autotypenumbers": "strict",
          "coloraxis": {
           "colorbar": {
            "outlinewidth": 0,
            "ticks": ""
           }
          },
          "colorscale": {
           "diverging": [
            [
             0,
             "#8e0152"
            ],
            [
             0.1,
             "#c51b7d"
            ],
            [
             0.2,
             "#de77ae"
            ],
            [
             0.3,
             "#f1b6da"
            ],
            [
             0.4,
             "#fde0ef"
            ],
            [
             0.5,
             "#f7f7f7"
            ],
            [
             0.6,
             "#e6f5d0"
            ],
            [
             0.7,
             "#b8e186"
            ],
            [
             0.8,
             "#7fbc41"
            ],
            [
             0.9,
             "#4d9221"
            ],
            [
             1,
             "#276419"
            ]
           ],
           "sequential": [
            [
             0,
             "#0d0887"
            ],
            [
             0.1111111111111111,
             "#46039f"
            ],
            [
             0.2222222222222222,
             "#7201a8"
            ],
            [
             0.3333333333333333,
             "#9c179e"
            ],
            [
             0.4444444444444444,
             "#bd3786"
            ],
            [
             0.5555555555555556,
             "#d8576b"
            ],
            [
             0.6666666666666666,
             "#ed7953"
            ],
            [
             0.7777777777777778,
             "#fb9f3a"
            ],
            [
             0.8888888888888888,
             "#fdca26"
            ],
            [
             1,
             "#f0f921"
            ]
           ],
           "sequentialminus": [
            [
             0,
             "#0d0887"
            ],
            [
             0.1111111111111111,
             "#46039f"
            ],
            [
             0.2222222222222222,
             "#7201a8"
            ],
            [
             0.3333333333333333,
             "#9c179e"
            ],
            [
             0.4444444444444444,
             "#bd3786"
            ],
            [
             0.5555555555555556,
             "#d8576b"
            ],
            [
             0.6666666666666666,
             "#ed7953"
            ],
            [
             0.7777777777777778,
             "#fb9f3a"
            ],
            [
             0.8888888888888888,
             "#fdca26"
            ],
            [
             1,
             "#f0f921"
            ]
           ]
          },
          "colorway": [
           "#636efa",
           "#EF553B",
           "#00cc96",
           "#ab63fa",
           "#FFA15A",
           "#19d3f3",
           "#FF6692",
           "#B6E880",
           "#FF97FF",
           "#FECB52"
          ],
          "font": {
           "color": "#2a3f5f"
          },
          "geo": {
           "bgcolor": "white",
           "lakecolor": "white",
           "landcolor": "#E5ECF6",
           "showlakes": true,
           "showland": true,
           "subunitcolor": "white"
          },
          "hoverlabel": {
           "align": "left"
          },
          "hovermode": "closest",
          "mapbox": {
           "style": "light"
          },
          "paper_bgcolor": "white",
          "plot_bgcolor": "#E5ECF6",
          "polar": {
           "angularaxis": {
            "gridcolor": "white",
            "linecolor": "white",
            "ticks": ""
           },
           "bgcolor": "#E5ECF6",
           "radialaxis": {
            "gridcolor": "white",
            "linecolor": "white",
            "ticks": ""
           }
          },
          "scene": {
           "xaxis": {
            "backgroundcolor": "#E5ECF6",
            "gridcolor": "white",
            "gridwidth": 2,
            "linecolor": "white",
            "showbackground": true,
            "ticks": "",
            "zerolinecolor": "white"
           },
           "yaxis": {
            "backgroundcolor": "#E5ECF6",
            "gridcolor": "white",
            "gridwidth": 2,
            "linecolor": "white",
            "showbackground": true,
            "ticks": "",
            "zerolinecolor": "white"
           },
           "zaxis": {
            "backgroundcolor": "#E5ECF6",
            "gridcolor": "white",
            "gridwidth": 2,
            "linecolor": "white",
            "showbackground": true,
            "ticks": "",
            "zerolinecolor": "white"
           }
          },
          "shapedefaults": {
           "line": {
            "color": "#2a3f5f"
           }
          },
          "ternary": {
           "aaxis": {
            "gridcolor": "white",
            "linecolor": "white",
            "ticks": ""
           },
           "baxis": {
            "gridcolor": "white",
            "linecolor": "white",
            "ticks": ""
           },
           "bgcolor": "#E5ECF6",
           "caxis": {
            "gridcolor": "white",
            "linecolor": "white",
            "ticks": ""
           }
          },
          "title": {
           "x": 0.05
          },
          "xaxis": {
           "automargin": true,
           "gridcolor": "white",
           "linecolor": "white",
           "ticks": "",
           "title": {
            "standoff": 15
           },
           "zerolinecolor": "white",
           "zerolinewidth": 2
          },
          "yaxis": {
           "automargin": true,
           "gridcolor": "white",
           "linecolor": "white",
           "ticks": "",
           "title": {
            "standoff": 15
           },
           "zerolinecolor": "white",
           "zerolinewidth": 2
          }
         }
        },
        "title": {
         "text": "Liczba gier w zależności od roku wydania i nacechowania recenzji"
        },
        "xaxis": {
         "anchor": "y",
         "domain": [
          0,
          1
         ],
         "title": {
          "text": "Rok wydania"
         }
        },
        "yaxis": {
         "anchor": "x",
         "domain": [
          0,
          1
         ],
         "title": {
          "text": "Liczba gier"
         }
        }
       }
      }
     },
     "metadata": {},
     "output_type": "display_data"
    }
   ],
   "source": [
    "# 3. Rozkład cen w zależności od daty wydania\n",
    "import plotly.express as px\n",
    "import pandas as pd\n",
    "\n",
    "# Wykres liczby gier z podziałem na nacechowanie\n",
    "# Grupowanie danych: liczba gier w zależności od nacechowania recenzji\n",
    "count_data = df.groupby('Nacechowanie recenzji')['Tytuł'].count().reset_index()\n",
    "count_data.rename(columns={'Tytuł': 'Liczba gier'}, inplace=True)\n",
    "\n",
    "# Grupowanie danych: liczba gier w zależności od roku i nacechowania recenzji\n",
    "grouped_data = df.groupby(['Rok wydania', 'Nacechowanie recenzji'])['Tytuł'].count().reset_index()\n",
    "grouped_data.rename(columns={'Tytuł': 'Liczba gier'}, inplace=True)\n",
    "\n",
    "# Wykres słupkowy z podziałem\n",
    "fig5 = px.bar(grouped_data, x='Rok wydania', y='Liczba gier', color='Nacechowanie recenzji', barmode='stack',\n",
    "             title='Liczba gier w zależności od roku wydania i nacechowania recenzji',\n",
    "             labels={'Rok wydania': 'Rok wydania', 'Liczba gier': 'Liczba gier', 'Nacechowanie recenzji': 'Nacechowanie recenzji'},\n",
    "             category_orders={'Nacechowanie recenzji': category_order})\n",
    "fig5.show()"
   ]
  },
  {
   "cell_type": "code",
   "execution_count": 99,
   "metadata": {},
   "outputs": [],
   "source": [
    "# Mapowanie tekstowego nacechowania recenzji na wartości numeryczne\n",
    "sentiment_map = {\n",
    "    'Przytłaczająco pozytywne': 4,\n",
    "    'Bardzo pozytywne': 3,\n",
    "    'W większości pozytywne': 2,\n",
    "    'Mieszane': 1,\n",
    "    'Negatywne': 0\n",
    "}\n",
    "\n",
    "df['sentiment_score'] = df['Nacechowanie recenzji'].map(sentiment_map).fillna(0)\n"
   ]
  },
  {
   "cell_type": "code",
   "execution_count": 100,
   "metadata": {},
   "outputs": [],
   "source": [
    "# Obliczanie średnich ocen ważonych liczbą recenzji oraz średnich cen\n",
    "def avg_sentiment_and_price_per_tag(df, top_n=20, min_games=3):\n",
    "    tags = df['Tagi'].apply(lambda x: x.split(', '))\n",
    "    tag_scores = Counter()\n",
    "    tag_weights = Counter()\n",
    "    tag_prices = Counter()\n",
    "    tag_counts = Counter()\n",
    "\n",
    "    for idx, tag_list in enumerate(tags):\n",
    "        for tag in tag_list:\n",
    "            sentiment_score = df.iloc[idx]['sentiment_score']\n",
    "            review_count = df.iloc[idx]['Liczba recenzji']\n",
    "            price = df.iloc[idx]['Cena']\n",
    "            \n",
    "            # Ważenie ocen liczbą recenzji\n",
    "            tag_scores[tag] += sentiment_score * review_count\n",
    "            tag_weights[tag] += review_count\n",
    "            \n",
    "            # Suma cen i liczba wystąpień\n",
    "            tag_prices[tag] += price\n",
    "            tag_counts[tag] += 1\n",
    "\n",
    "    # Obliczanie średnich ocen i cen (filtr minimalnej liczby gier)\n",
    "    avg_data = {\n",
    "        tag: {\n",
    "            'Average Sentiment': tag_scores[tag] / tag_weights[tag],\n",
    "            'Average Price': tag_prices[tag] / tag_counts[tag],\n",
    "            'Game Count': tag_counts[tag]\n",
    "        }\n",
    "        for tag in tag_scores if tag_counts[tag] >= min_games\n",
    "    }\n",
    "    avg_df = pd.DataFrame.from_dict(avg_data, orient='index').reset_index()\n",
    "    avg_df.rename(columns={'index': 'Tag'}, inplace=True)\n",
    "    return avg_df.sort_values('Average Sentiment', ascending=False).head(top_n), \\\n",
    "           avg_df.sort_values('Average Sentiment', ascending=True).head(top_n)\n"
   ]
  },
  {
   "cell_type": "code",
   "execution_count": 63,
   "metadata": {},
   "outputs": [
    {
     "data": {
      "application/vnd.plotly.v1+json": {
       "config": {
        "plotlyServerURL": "https://plot.ly"
       },
       "data": [
        {
         "marker": {
          "color": "#90CAF9"
         },
         "name": "Średnia ocena",
         "type": "bar",
         "x": [
          "Detektywistyczne",
          "LEGO",
          "Gra w boga",
          "Zabawne",
          "RTS akcji",
          "Komediowe",
          "Rekreacyjne",
          "Symulator chodzenia",
          "Symulator polityczny",
          "Historia alternatywna",
          "MMO",
          "Zręcznościowe",
          "Drużynowe RPG",
          "Latanie",
          "Wojskowe",
          "Cyberpunk",
          "Otwarty świat",
          "RPG",
          "Jednoosobowe",
          "Symulatory"
         ],
         "y": [
          3,
          3,
          3,
          3,
          3,
          3,
          2.988109891836681,
          2.9124211627071013,
          2.879260461505892,
          2.8736235272239417,
          2.8451190108191655,
          2.6986790431988577,
          2.0564343736639588,
          1.9331140597895875,
          1.186167558786079,
          null,
          null,
          null,
          null,
          null
         ],
         "yaxis": "y"
        },
        {
         "line": {
          "dash": "dot",
          "width": 2
         },
         "marker": {
          "color": "red",
          "size": 10
         },
         "mode": "lines+markers",
         "name": "Średnia cena",
         "type": "scatter",
         "x": [
          "Detektywistyczne",
          "LEGO",
          "Gra w boga",
          "Zabawne",
          "RTS akcji",
          "Komediowe",
          "Rekreacyjne",
          "Symulator chodzenia",
          "Symulator polityczny",
          "Historia alternatywna",
          "MMO",
          "Zręcznościowe",
          "Drużynowe RPG",
          "Latanie",
          "Wojskowe",
          "Cyberpunk",
          "Otwarty świat",
          "RPG",
          "Jednoosobowe",
          "Symulatory"
         ],
         "y": [
          53.415000000000006,
          142.99333333333334,
          45.31666666666666,
          39.83,
          40.24,
          20.949999999999996,
          33.36625,
          57.74666666666667,
          60.239999999999995,
          71.33,
          22.9975,
          46.114000000000004,
          27.544999999999998,
          56.94,
          89.82000000000001,
          58.61,
          79.69388059701484,
          68.11293103448267,
          65.37347222222212,
          70.13121951219505
         ],
         "yaxis": "y2"
        }
       ],
       "layout": {
        "legend": {
         "orientation": "h",
         "x": 0.5,
         "y": 1.1
        },
        "template": {
         "data": {
          "bar": [
           {
            "error_x": {
             "color": "#2a3f5f"
            },
            "error_y": {
             "color": "#2a3f5f"
            },
            "marker": {
             "line": {
              "color": "#E5ECF6",
              "width": 0.5
             },
             "pattern": {
              "fillmode": "overlay",
              "size": 10,
              "solidity": 0.2
             }
            },
            "type": "bar"
           }
          ],
          "barpolar": [
           {
            "marker": {
             "line": {
              "color": "#E5ECF6",
              "width": 0.5
             },
             "pattern": {
              "fillmode": "overlay",
              "size": 10,
              "solidity": 0.2
             }
            },
            "type": "barpolar"
           }
          ],
          "carpet": [
           {
            "aaxis": {
             "endlinecolor": "#2a3f5f",
             "gridcolor": "white",
             "linecolor": "white",
             "minorgridcolor": "white",
             "startlinecolor": "#2a3f5f"
            },
            "baxis": {
             "endlinecolor": "#2a3f5f",
             "gridcolor": "white",
             "linecolor": "white",
             "minorgridcolor": "white",
             "startlinecolor": "#2a3f5f"
            },
            "type": "carpet"
           }
          ],
          "choropleth": [
           {
            "colorbar": {
             "outlinewidth": 0,
             "ticks": ""
            },
            "type": "choropleth"
           }
          ],
          "contour": [
           {
            "colorbar": {
             "outlinewidth": 0,
             "ticks": ""
            },
            "colorscale": [
             [
              0,
              "#0d0887"
             ],
             [
              0.1111111111111111,
              "#46039f"
             ],
             [
              0.2222222222222222,
              "#7201a8"
             ],
             [
              0.3333333333333333,
              "#9c179e"
             ],
             [
              0.4444444444444444,
              "#bd3786"
             ],
             [
              0.5555555555555556,
              "#d8576b"
             ],
             [
              0.6666666666666666,
              "#ed7953"
             ],
             [
              0.7777777777777778,
              "#fb9f3a"
             ],
             [
              0.8888888888888888,
              "#fdca26"
             ],
             [
              1,
              "#f0f921"
             ]
            ],
            "type": "contour"
           }
          ],
          "contourcarpet": [
           {
            "colorbar": {
             "outlinewidth": 0,
             "ticks": ""
            },
            "type": "contourcarpet"
           }
          ],
          "heatmap": [
           {
            "colorbar": {
             "outlinewidth": 0,
             "ticks": ""
            },
            "colorscale": [
             [
              0,
              "#0d0887"
             ],
             [
              0.1111111111111111,
              "#46039f"
             ],
             [
              0.2222222222222222,
              "#7201a8"
             ],
             [
              0.3333333333333333,
              "#9c179e"
             ],
             [
              0.4444444444444444,
              "#bd3786"
             ],
             [
              0.5555555555555556,
              "#d8576b"
             ],
             [
              0.6666666666666666,
              "#ed7953"
             ],
             [
              0.7777777777777778,
              "#fb9f3a"
             ],
             [
              0.8888888888888888,
              "#fdca26"
             ],
             [
              1,
              "#f0f921"
             ]
            ],
            "type": "heatmap"
           }
          ],
          "heatmapgl": [
           {
            "colorbar": {
             "outlinewidth": 0,
             "ticks": ""
            },
            "colorscale": [
             [
              0,
              "#0d0887"
             ],
             [
              0.1111111111111111,
              "#46039f"
             ],
             [
              0.2222222222222222,
              "#7201a8"
             ],
             [
              0.3333333333333333,
              "#9c179e"
             ],
             [
              0.4444444444444444,
              "#bd3786"
             ],
             [
              0.5555555555555556,
              "#d8576b"
             ],
             [
              0.6666666666666666,
              "#ed7953"
             ],
             [
              0.7777777777777778,
              "#fb9f3a"
             ],
             [
              0.8888888888888888,
              "#fdca26"
             ],
             [
              1,
              "#f0f921"
             ]
            ],
            "type": "heatmapgl"
           }
          ],
          "histogram": [
           {
            "marker": {
             "pattern": {
              "fillmode": "overlay",
              "size": 10,
              "solidity": 0.2
             }
            },
            "type": "histogram"
           }
          ],
          "histogram2d": [
           {
            "colorbar": {
             "outlinewidth": 0,
             "ticks": ""
            },
            "colorscale": [
             [
              0,
              "#0d0887"
             ],
             [
              0.1111111111111111,
              "#46039f"
             ],
             [
              0.2222222222222222,
              "#7201a8"
             ],
             [
              0.3333333333333333,
              "#9c179e"
             ],
             [
              0.4444444444444444,
              "#bd3786"
             ],
             [
              0.5555555555555556,
              "#d8576b"
             ],
             [
              0.6666666666666666,
              "#ed7953"
             ],
             [
              0.7777777777777778,
              "#fb9f3a"
             ],
             [
              0.8888888888888888,
              "#fdca26"
             ],
             [
              1,
              "#f0f921"
             ]
            ],
            "type": "histogram2d"
           }
          ],
          "histogram2dcontour": [
           {
            "colorbar": {
             "outlinewidth": 0,
             "ticks": ""
            },
            "colorscale": [
             [
              0,
              "#0d0887"
             ],
             [
              0.1111111111111111,
              "#46039f"
             ],
             [
              0.2222222222222222,
              "#7201a8"
             ],
             [
              0.3333333333333333,
              "#9c179e"
             ],
             [
              0.4444444444444444,
              "#bd3786"
             ],
             [
              0.5555555555555556,
              "#d8576b"
             ],
             [
              0.6666666666666666,
              "#ed7953"
             ],
             [
              0.7777777777777778,
              "#fb9f3a"
             ],
             [
              0.8888888888888888,
              "#fdca26"
             ],
             [
              1,
              "#f0f921"
             ]
            ],
            "type": "histogram2dcontour"
           }
          ],
          "mesh3d": [
           {
            "colorbar": {
             "outlinewidth": 0,
             "ticks": ""
            },
            "type": "mesh3d"
           }
          ],
          "parcoords": [
           {
            "line": {
             "colorbar": {
              "outlinewidth": 0,
              "ticks": ""
             }
            },
            "type": "parcoords"
           }
          ],
          "pie": [
           {
            "automargin": true,
            "type": "pie"
           }
          ],
          "scatter": [
           {
            "fillpattern": {
             "fillmode": "overlay",
             "size": 10,
             "solidity": 0.2
            },
            "type": "scatter"
           }
          ],
          "scatter3d": [
           {
            "line": {
             "colorbar": {
              "outlinewidth": 0,
              "ticks": ""
             }
            },
            "marker": {
             "colorbar": {
              "outlinewidth": 0,
              "ticks": ""
             }
            },
            "type": "scatter3d"
           }
          ],
          "scattercarpet": [
           {
            "marker": {
             "colorbar": {
              "outlinewidth": 0,
              "ticks": ""
             }
            },
            "type": "scattercarpet"
           }
          ],
          "scattergeo": [
           {
            "marker": {
             "colorbar": {
              "outlinewidth": 0,
              "ticks": ""
             }
            },
            "type": "scattergeo"
           }
          ],
          "scattergl": [
           {
            "marker": {
             "colorbar": {
              "outlinewidth": 0,
              "ticks": ""
             }
            },
            "type": "scattergl"
           }
          ],
          "scattermapbox": [
           {
            "marker": {
             "colorbar": {
              "outlinewidth": 0,
              "ticks": ""
             }
            },
            "type": "scattermapbox"
           }
          ],
          "scatterpolar": [
           {
            "marker": {
             "colorbar": {
              "outlinewidth": 0,
              "ticks": ""
             }
            },
            "type": "scatterpolar"
           }
          ],
          "scatterpolargl": [
           {
            "marker": {
             "colorbar": {
              "outlinewidth": 0,
              "ticks": ""
             }
            },
            "type": "scatterpolargl"
           }
          ],
          "scatterternary": [
           {
            "marker": {
             "colorbar": {
              "outlinewidth": 0,
              "ticks": ""
             }
            },
            "type": "scatterternary"
           }
          ],
          "surface": [
           {
            "colorbar": {
             "outlinewidth": 0,
             "ticks": ""
            },
            "colorscale": [
             [
              0,
              "#0d0887"
             ],
             [
              0.1111111111111111,
              "#46039f"
             ],
             [
              0.2222222222222222,
              "#7201a8"
             ],
             [
              0.3333333333333333,
              "#9c179e"
             ],
             [
              0.4444444444444444,
              "#bd3786"
             ],
             [
              0.5555555555555556,
              "#d8576b"
             ],
             [
              0.6666666666666666,
              "#ed7953"
             ],
             [
              0.7777777777777778,
              "#fb9f3a"
             ],
             [
              0.8888888888888888,
              "#fdca26"
             ],
             [
              1,
              "#f0f921"
             ]
            ],
            "type": "surface"
           }
          ],
          "table": [
           {
            "cells": {
             "fill": {
              "color": "#EBF0F8"
             },
             "line": {
              "color": "white"
             }
            },
            "header": {
             "fill": {
              "color": "#C8D4E3"
             },
             "line": {
              "color": "white"
             }
            },
            "type": "table"
           }
          ]
         },
         "layout": {
          "annotationdefaults": {
           "arrowcolor": "#2a3f5f",
           "arrowhead": 0,
           "arrowwidth": 1
          },
          "autotypenumbers": "strict",
          "coloraxis": {
           "colorbar": {
            "outlinewidth": 0,
            "ticks": ""
           }
          },
          "colorscale": {
           "diverging": [
            [
             0,
             "#8e0152"
            ],
            [
             0.1,
             "#c51b7d"
            ],
            [
             0.2,
             "#de77ae"
            ],
            [
             0.3,
             "#f1b6da"
            ],
            [
             0.4,
             "#fde0ef"
            ],
            [
             0.5,
             "#f7f7f7"
            ],
            [
             0.6,
             "#e6f5d0"
            ],
            [
             0.7,
             "#b8e186"
            ],
            [
             0.8,
             "#7fbc41"
            ],
            [
             0.9,
             "#4d9221"
            ],
            [
             1,
             "#276419"
            ]
           ],
           "sequential": [
            [
             0,
             "#0d0887"
            ],
            [
             0.1111111111111111,
             "#46039f"
            ],
            [
             0.2222222222222222,
             "#7201a8"
            ],
            [
             0.3333333333333333,
             "#9c179e"
            ],
            [
             0.4444444444444444,
             "#bd3786"
            ],
            [
             0.5555555555555556,
             "#d8576b"
            ],
            [
             0.6666666666666666,
             "#ed7953"
            ],
            [
             0.7777777777777778,
             "#fb9f3a"
            ],
            [
             0.8888888888888888,
             "#fdca26"
            ],
            [
             1,
             "#f0f921"
            ]
           ],
           "sequentialminus": [
            [
             0,
             "#0d0887"
            ],
            [
             0.1111111111111111,
             "#46039f"
            ],
            [
             0.2222222222222222,
             "#7201a8"
            ],
            [
             0.3333333333333333,
             "#9c179e"
            ],
            [
             0.4444444444444444,
             "#bd3786"
            ],
            [
             0.5555555555555556,
             "#d8576b"
            ],
            [
             0.6666666666666666,
             "#ed7953"
            ],
            [
             0.7777777777777778,
             "#fb9f3a"
            ],
            [
             0.8888888888888888,
             "#fdca26"
            ],
            [
             1,
             "#f0f921"
            ]
           ]
          },
          "colorway": [
           "#636efa",
           "#EF553B",
           "#00cc96",
           "#ab63fa",
           "#FFA15A",
           "#19d3f3",
           "#FF6692",
           "#B6E880",
           "#FF97FF",
           "#FECB52"
          ],
          "font": {
           "color": "#2a3f5f"
          },
          "geo": {
           "bgcolor": "white",
           "lakecolor": "white",
           "landcolor": "#E5ECF6",
           "showlakes": true,
           "showland": true,
           "subunitcolor": "white"
          },
          "hoverlabel": {
           "align": "left"
          },
          "hovermode": "closest",
          "mapbox": {
           "style": "light"
          },
          "paper_bgcolor": "white",
          "plot_bgcolor": "#E5ECF6",
          "polar": {
           "angularaxis": {
            "gridcolor": "white",
            "linecolor": "white",
            "ticks": ""
           },
           "bgcolor": "#E5ECF6",
           "radialaxis": {
            "gridcolor": "white",
            "linecolor": "white",
            "ticks": ""
           }
          },
          "scene": {
           "xaxis": {
            "backgroundcolor": "#E5ECF6",
            "gridcolor": "white",
            "gridwidth": 2,
            "linecolor": "white",
            "showbackground": true,
            "ticks": "",
            "zerolinecolor": "white"
           },
           "yaxis": {
            "backgroundcolor": "#E5ECF6",
            "gridcolor": "white",
            "gridwidth": 2,
            "linecolor": "white",
            "showbackground": true,
            "ticks": "",
            "zerolinecolor": "white"
           },
           "zaxis": {
            "backgroundcolor": "#E5ECF6",
            "gridcolor": "white",
            "gridwidth": 2,
            "linecolor": "white",
            "showbackground": true,
            "ticks": "",
            "zerolinecolor": "white"
           }
          },
          "shapedefaults": {
           "line": {
            "color": "#2a3f5f"
           }
          },
          "ternary": {
           "aaxis": {
            "gridcolor": "white",
            "linecolor": "white",
            "ticks": ""
           },
           "baxis": {
            "gridcolor": "white",
            "linecolor": "white",
            "ticks": ""
           },
           "bgcolor": "#E5ECF6",
           "caxis": {
            "gridcolor": "white",
            "linecolor": "white",
            "ticks": ""
           }
          },
          "title": {
           "x": 0.05
          },
          "xaxis": {
           "automargin": true,
           "gridcolor": "white",
           "linecolor": "white",
           "ticks": "",
           "title": {
            "standoff": 15
           },
           "zerolinecolor": "white",
           "zerolinewidth": 2
          },
          "yaxis": {
           "automargin": true,
           "gridcolor": "white",
           "linecolor": "white",
           "ticks": "",
           "title": {
            "standoff": 15
           },
           "zerolinecolor": "white",
           "zerolinewidth": 2
          }
         }
        },
        "title": {
         "text": "Tagi z najlepszymi ocenami (ważone liczbą recenzji)"
        },
        "xaxis": {
         "tickangle": 45,
         "title": {
          "text": "Tagi"
         }
        },
        "yaxis": {
         "tickfont": {
          "color": "#90CAF9"
         },
         "title": {
          "font": {
           "color": "#90CAF9"
          },
          "text": "Średnia ocena"
         }
        },
        "yaxis2": {
         "overlaying": "y",
         "side": "right",
         "tickfont": {
          "color": "red"
         },
         "title": {
          "font": {
           "color": "red"
          },
          "text": "Średnia cena (zł)"
         }
        }
       }
      }
     },
     "metadata": {},
     "output_type": "display_data"
    },
    {
     "data": {
      "application/vnd.plotly.v1+json": {
       "config": {
        "plotlyServerURL": "https://plot.ly"
       },
       "data": [
        {
         "marker": {
          "color": "#90CAF9"
         },
         "name": "Średnia ocena",
         "type": "bar",
         "x": [
          "Wojskowe",
          "Latanie",
          "Drużynowe RPG",
          "Zręcznościowe",
          "MMO",
          "Historia alternatywna",
          "Symulator polityczny",
          "Symulator chodzenia",
          "Rekreacyjne",
          "LEGO",
          "Detektywistyczne",
          "Gra w boga",
          "Komediowe",
          "Zabawne",
          "RTS akcji",
          "Cyberpunk",
          "Otwarty świat",
          "RPG",
          "Jednoosobowe",
          "Symulatory"
         ],
         "y": [
          1.186167558786079,
          1.9331140597895875,
          2.0564343736639588,
          2.6986790431988577,
          2.8451190108191655,
          2.8736235272239417,
          2.879260461505892,
          2.9124211627071013,
          2.988109891836681,
          3,
          3,
          3,
          3,
          3,
          3,
          null,
          null,
          null,
          null,
          null
         ],
         "yaxis": "y"
        },
        {
         "line": {
          "dash": "dot",
          "width": 2
         },
         "marker": {
          "color": "red",
          "size": 10
         },
         "mode": "lines+markers",
         "name": "Średnia cena",
         "type": "scatter",
         "x": [
          "Wojskowe",
          "Latanie",
          "Drużynowe RPG",
          "Zręcznościowe",
          "MMO",
          "Historia alternatywna",
          "Symulator polityczny",
          "Symulator chodzenia",
          "Rekreacyjne",
          "LEGO",
          "Detektywistyczne",
          "Gra w boga",
          "Komediowe",
          "Zabawne",
          "RTS akcji",
          "Cyberpunk",
          "Otwarty świat",
          "RPG",
          "Jednoosobowe",
          "Symulatory"
         ],
         "y": [
          89.82000000000001,
          56.94,
          27.544999999999998,
          46.114000000000004,
          22.9975,
          71.33,
          60.239999999999995,
          57.74666666666667,
          33.36625,
          142.99333333333334,
          53.415000000000006,
          45.31666666666666,
          20.949999999999996,
          39.83,
          40.24,
          58.61,
          79.69388059701484,
          68.11293103448267,
          65.37347222222212,
          70.13121951219505
         ],
         "yaxis": "y2"
        }
       ],
       "layout": {
        "legend": {
         "orientation": "h",
         "x": 0.5,
         "y": 1.1
        },
        "template": {
         "data": {
          "bar": [
           {
            "error_x": {
             "color": "#2a3f5f"
            },
            "error_y": {
             "color": "#2a3f5f"
            },
            "marker": {
             "line": {
              "color": "#E5ECF6",
              "width": 0.5
             },
             "pattern": {
              "fillmode": "overlay",
              "size": 10,
              "solidity": 0.2
             }
            },
            "type": "bar"
           }
          ],
          "barpolar": [
           {
            "marker": {
             "line": {
              "color": "#E5ECF6",
              "width": 0.5
             },
             "pattern": {
              "fillmode": "overlay",
              "size": 10,
              "solidity": 0.2
             }
            },
            "type": "barpolar"
           }
          ],
          "carpet": [
           {
            "aaxis": {
             "endlinecolor": "#2a3f5f",
             "gridcolor": "white",
             "linecolor": "white",
             "minorgridcolor": "white",
             "startlinecolor": "#2a3f5f"
            },
            "baxis": {
             "endlinecolor": "#2a3f5f",
             "gridcolor": "white",
             "linecolor": "white",
             "minorgridcolor": "white",
             "startlinecolor": "#2a3f5f"
            },
            "type": "carpet"
           }
          ],
          "choropleth": [
           {
            "colorbar": {
             "outlinewidth": 0,
             "ticks": ""
            },
            "type": "choropleth"
           }
          ],
          "contour": [
           {
            "colorbar": {
             "outlinewidth": 0,
             "ticks": ""
            },
            "colorscale": [
             [
              0,
              "#0d0887"
             ],
             [
              0.1111111111111111,
              "#46039f"
             ],
             [
              0.2222222222222222,
              "#7201a8"
             ],
             [
              0.3333333333333333,
              "#9c179e"
             ],
             [
              0.4444444444444444,
              "#bd3786"
             ],
             [
              0.5555555555555556,
              "#d8576b"
             ],
             [
              0.6666666666666666,
              "#ed7953"
             ],
             [
              0.7777777777777778,
              "#fb9f3a"
             ],
             [
              0.8888888888888888,
              "#fdca26"
             ],
             [
              1,
              "#f0f921"
             ]
            ],
            "type": "contour"
           }
          ],
          "contourcarpet": [
           {
            "colorbar": {
             "outlinewidth": 0,
             "ticks": ""
            },
            "type": "contourcarpet"
           }
          ],
          "heatmap": [
           {
            "colorbar": {
             "outlinewidth": 0,
             "ticks": ""
            },
            "colorscale": [
             [
              0,
              "#0d0887"
             ],
             [
              0.1111111111111111,
              "#46039f"
             ],
             [
              0.2222222222222222,
              "#7201a8"
             ],
             [
              0.3333333333333333,
              "#9c179e"
             ],
             [
              0.4444444444444444,
              "#bd3786"
             ],
             [
              0.5555555555555556,
              "#d8576b"
             ],
             [
              0.6666666666666666,
              "#ed7953"
             ],
             [
              0.7777777777777778,
              "#fb9f3a"
             ],
             [
              0.8888888888888888,
              "#fdca26"
             ],
             [
              1,
              "#f0f921"
             ]
            ],
            "type": "heatmap"
           }
          ],
          "heatmapgl": [
           {
            "colorbar": {
             "outlinewidth": 0,
             "ticks": ""
            },
            "colorscale": [
             [
              0,
              "#0d0887"
             ],
             [
              0.1111111111111111,
              "#46039f"
             ],
             [
              0.2222222222222222,
              "#7201a8"
             ],
             [
              0.3333333333333333,
              "#9c179e"
             ],
             [
              0.4444444444444444,
              "#bd3786"
             ],
             [
              0.5555555555555556,
              "#d8576b"
             ],
             [
              0.6666666666666666,
              "#ed7953"
             ],
             [
              0.7777777777777778,
              "#fb9f3a"
             ],
             [
              0.8888888888888888,
              "#fdca26"
             ],
             [
              1,
              "#f0f921"
             ]
            ],
            "type": "heatmapgl"
           }
          ],
          "histogram": [
           {
            "marker": {
             "pattern": {
              "fillmode": "overlay",
              "size": 10,
              "solidity": 0.2
             }
            },
            "type": "histogram"
           }
          ],
          "histogram2d": [
           {
            "colorbar": {
             "outlinewidth": 0,
             "ticks": ""
            },
            "colorscale": [
             [
              0,
              "#0d0887"
             ],
             [
              0.1111111111111111,
              "#46039f"
             ],
             [
              0.2222222222222222,
              "#7201a8"
             ],
             [
              0.3333333333333333,
              "#9c179e"
             ],
             [
              0.4444444444444444,
              "#bd3786"
             ],
             [
              0.5555555555555556,
              "#d8576b"
             ],
             [
              0.6666666666666666,
              "#ed7953"
             ],
             [
              0.7777777777777778,
              "#fb9f3a"
             ],
             [
              0.8888888888888888,
              "#fdca26"
             ],
             [
              1,
              "#f0f921"
             ]
            ],
            "type": "histogram2d"
           }
          ],
          "histogram2dcontour": [
           {
            "colorbar": {
             "outlinewidth": 0,
             "ticks": ""
            },
            "colorscale": [
             [
              0,
              "#0d0887"
             ],
             [
              0.1111111111111111,
              "#46039f"
             ],
             [
              0.2222222222222222,
              "#7201a8"
             ],
             [
              0.3333333333333333,
              "#9c179e"
             ],
             [
              0.4444444444444444,
              "#bd3786"
             ],
             [
              0.5555555555555556,
              "#d8576b"
             ],
             [
              0.6666666666666666,
              "#ed7953"
             ],
             [
              0.7777777777777778,
              "#fb9f3a"
             ],
             [
              0.8888888888888888,
              "#fdca26"
             ],
             [
              1,
              "#f0f921"
             ]
            ],
            "type": "histogram2dcontour"
           }
          ],
          "mesh3d": [
           {
            "colorbar": {
             "outlinewidth": 0,
             "ticks": ""
            },
            "type": "mesh3d"
           }
          ],
          "parcoords": [
           {
            "line": {
             "colorbar": {
              "outlinewidth": 0,
              "ticks": ""
             }
            },
            "type": "parcoords"
           }
          ],
          "pie": [
           {
            "automargin": true,
            "type": "pie"
           }
          ],
          "scatter": [
           {
            "fillpattern": {
             "fillmode": "overlay",
             "size": 10,
             "solidity": 0.2
            },
            "type": "scatter"
           }
          ],
          "scatter3d": [
           {
            "line": {
             "colorbar": {
              "outlinewidth": 0,
              "ticks": ""
             }
            },
            "marker": {
             "colorbar": {
              "outlinewidth": 0,
              "ticks": ""
             }
            },
            "type": "scatter3d"
           }
          ],
          "scattercarpet": [
           {
            "marker": {
             "colorbar": {
              "outlinewidth": 0,
              "ticks": ""
             }
            },
            "type": "scattercarpet"
           }
          ],
          "scattergeo": [
           {
            "marker": {
             "colorbar": {
              "outlinewidth": 0,
              "ticks": ""
             }
            },
            "type": "scattergeo"
           }
          ],
          "scattergl": [
           {
            "marker": {
             "colorbar": {
              "outlinewidth": 0,
              "ticks": ""
             }
            },
            "type": "scattergl"
           }
          ],
          "scattermapbox": [
           {
            "marker": {
             "colorbar": {
              "outlinewidth": 0,
              "ticks": ""
             }
            },
            "type": "scattermapbox"
           }
          ],
          "scatterpolar": [
           {
            "marker": {
             "colorbar": {
              "outlinewidth": 0,
              "ticks": ""
             }
            },
            "type": "scatterpolar"
           }
          ],
          "scatterpolargl": [
           {
            "marker": {
             "colorbar": {
              "outlinewidth": 0,
              "ticks": ""
             }
            },
            "type": "scatterpolargl"
           }
          ],
          "scatterternary": [
           {
            "marker": {
             "colorbar": {
              "outlinewidth": 0,
              "ticks": ""
             }
            },
            "type": "scatterternary"
           }
          ],
          "surface": [
           {
            "colorbar": {
             "outlinewidth": 0,
             "ticks": ""
            },
            "colorscale": [
             [
              0,
              "#0d0887"
             ],
             [
              0.1111111111111111,
              "#46039f"
             ],
             [
              0.2222222222222222,
              "#7201a8"
             ],
             [
              0.3333333333333333,
              "#9c179e"
             ],
             [
              0.4444444444444444,
              "#bd3786"
             ],
             [
              0.5555555555555556,
              "#d8576b"
             ],
             [
              0.6666666666666666,
              "#ed7953"
             ],
             [
              0.7777777777777778,
              "#fb9f3a"
             ],
             [
              0.8888888888888888,
              "#fdca26"
             ],
             [
              1,
              "#f0f921"
             ]
            ],
            "type": "surface"
           }
          ],
          "table": [
           {
            "cells": {
             "fill": {
              "color": "#EBF0F8"
             },
             "line": {
              "color": "white"
             }
            },
            "header": {
             "fill": {
              "color": "#C8D4E3"
             },
             "line": {
              "color": "white"
             }
            },
            "type": "table"
           }
          ]
         },
         "layout": {
          "annotationdefaults": {
           "arrowcolor": "#2a3f5f",
           "arrowhead": 0,
           "arrowwidth": 1
          },
          "autotypenumbers": "strict",
          "coloraxis": {
           "colorbar": {
            "outlinewidth": 0,
            "ticks": ""
           }
          },
          "colorscale": {
           "diverging": [
            [
             0,
             "#8e0152"
            ],
            [
             0.1,
             "#c51b7d"
            ],
            [
             0.2,
             "#de77ae"
            ],
            [
             0.3,
             "#f1b6da"
            ],
            [
             0.4,
             "#fde0ef"
            ],
            [
             0.5,
             "#f7f7f7"
            ],
            [
             0.6,
             "#e6f5d0"
            ],
            [
             0.7,
             "#b8e186"
            ],
            [
             0.8,
             "#7fbc41"
            ],
            [
             0.9,
             "#4d9221"
            ],
            [
             1,
             "#276419"
            ]
           ],
           "sequential": [
            [
             0,
             "#0d0887"
            ],
            [
             0.1111111111111111,
             "#46039f"
            ],
            [
             0.2222222222222222,
             "#7201a8"
            ],
            [
             0.3333333333333333,
             "#9c179e"
            ],
            [
             0.4444444444444444,
             "#bd3786"
            ],
            [
             0.5555555555555556,
             "#d8576b"
            ],
            [
             0.6666666666666666,
             "#ed7953"
            ],
            [
             0.7777777777777778,
             "#fb9f3a"
            ],
            [
             0.8888888888888888,
             "#fdca26"
            ],
            [
             1,
             "#f0f921"
            ]
           ],
           "sequentialminus": [
            [
             0,
             "#0d0887"
            ],
            [
             0.1111111111111111,
             "#46039f"
            ],
            [
             0.2222222222222222,
             "#7201a8"
            ],
            [
             0.3333333333333333,
             "#9c179e"
            ],
            [
             0.4444444444444444,
             "#bd3786"
            ],
            [
             0.5555555555555556,
             "#d8576b"
            ],
            [
             0.6666666666666666,
             "#ed7953"
            ],
            [
             0.7777777777777778,
             "#fb9f3a"
            ],
            [
             0.8888888888888888,
             "#fdca26"
            ],
            [
             1,
             "#f0f921"
            ]
           ]
          },
          "colorway": [
           "#636efa",
           "#EF553B",
           "#00cc96",
           "#ab63fa",
           "#FFA15A",
           "#19d3f3",
           "#FF6692",
           "#B6E880",
           "#FF97FF",
           "#FECB52"
          ],
          "font": {
           "color": "#2a3f5f"
          },
          "geo": {
           "bgcolor": "white",
           "lakecolor": "white",
           "landcolor": "#E5ECF6",
           "showlakes": true,
           "showland": true,
           "subunitcolor": "white"
          },
          "hoverlabel": {
           "align": "left"
          },
          "hovermode": "closest",
          "mapbox": {
           "style": "light"
          },
          "paper_bgcolor": "white",
          "plot_bgcolor": "#E5ECF6",
          "polar": {
           "angularaxis": {
            "gridcolor": "white",
            "linecolor": "white",
            "ticks": ""
           },
           "bgcolor": "#E5ECF6",
           "radialaxis": {
            "gridcolor": "white",
            "linecolor": "white",
            "ticks": ""
           }
          },
          "scene": {
           "xaxis": {
            "backgroundcolor": "#E5ECF6",
            "gridcolor": "white",
            "gridwidth": 2,
            "linecolor": "white",
            "showbackground": true,
            "ticks": "",
            "zerolinecolor": "white"
           },
           "yaxis": {
            "backgroundcolor": "#E5ECF6",
            "gridcolor": "white",
            "gridwidth": 2,
            "linecolor": "white",
            "showbackground": true,
            "ticks": "",
            "zerolinecolor": "white"
           },
           "zaxis": {
            "backgroundcolor": "#E5ECF6",
            "gridcolor": "white",
            "gridwidth": 2,
            "linecolor": "white",
            "showbackground": true,
            "ticks": "",
            "zerolinecolor": "white"
           }
          },
          "shapedefaults": {
           "line": {
            "color": "#2a3f5f"
           }
          },
          "ternary": {
           "aaxis": {
            "gridcolor": "white",
            "linecolor": "white",
            "ticks": ""
           },
           "baxis": {
            "gridcolor": "white",
            "linecolor": "white",
            "ticks": ""
           },
           "bgcolor": "#E5ECF6",
           "caxis": {
            "gridcolor": "white",
            "linecolor": "white",
            "ticks": ""
           }
          },
          "title": {
           "x": 0.05
          },
          "xaxis": {
           "automargin": true,
           "gridcolor": "white",
           "linecolor": "white",
           "ticks": "",
           "title": {
            "standoff": 15
           },
           "zerolinecolor": "white",
           "zerolinewidth": 2
          },
          "yaxis": {
           "automargin": true,
           "gridcolor": "white",
           "linecolor": "white",
           "ticks": "",
           "title": {
            "standoff": 15
           },
           "zerolinecolor": "white",
           "zerolinewidth": 2
          }
         }
        },
        "title": {
         "text": "Tagi z najgorszymi ocenami (ważone liczbą recenzji)"
        },
        "xaxis": {
         "tickangle": 45,
         "title": {
          "text": "Tagi"
         }
        },
        "yaxis": {
         "tickfont": {
          "color": "#90CAF9"
         },
         "title": {
          "font": {
           "color": "#90CAF9"
          },
          "text": "Średnia ocena"
         }
        },
        "yaxis2": {
         "overlaying": "y",
         "side": "right",
         "tickfont": {
          "color": "red"
         },
         "title": {
          "font": {
           "color": "red"
          },
          "text": "Średnia cena (zł)"
         }
        }
       }
      }
     },
     "metadata": {},
     "output_type": "display_data"
    }
   ],
   "source": [
    "import plotly.graph_objects as go\n",
    "\n",
    "# Obliczanie wyników\n",
    "top_positive_tags, top_negative_tags = avg_sentiment_and_price_per_tag(df, top_n=20, min_games=3)\n",
    "\n",
    "def create_dual_axis_chart(df, title):\n",
    "    fig = go.Figure()\n",
    "\n",
    "    # Słupki dla średniej oceny\n",
    "    fig.add_trace(go.Bar(\n",
    "        x=df['Tag'],\n",
    "        y=df['Average Sentiment'],\n",
    "        name='Średnia ocena',\n",
    "        marker_color='#90CAF9',  # Łagodny pastelowy niebieski\n",
    "        yaxis='y1'\n",
    "    ))\n",
    "\n",
    "    # Linie i punkty dla średniej ceny\n",
    "    fig.add_trace(go.Scatter(\n",
    "        x=df['Tag'],\n",
    "        y=df['Average Price'],\n",
    "        name='Średnia cena',\n",
    "        mode='lines+markers',\n",
    "        marker=dict(color='red', size=10),\n",
    "        line=dict(width=2, dash='dot'),\n",
    "        yaxis='y2'\n",
    "    ))\n",
    "\n",
    "    # Konfiguracja osi Y\n",
    "    fig.update_layout(\n",
    "        title=title,\n",
    "        xaxis=dict(title='Tagi', tickangle=45),\n",
    "        yaxis=dict(\n",
    "            title='Średnia ocena',\n",
    "            titlefont=dict(color='#90CAF9'),  # Dopasowany kolor tytułu osi\n",
    "            tickfont=dict(color='#90CAF9'),\n",
    "        ),\n",
    "        yaxis2=dict(\n",
    "            title='Średnia cena (zł)',\n",
    "            titlefont=dict(color='red'),\n",
    "            tickfont=dict(color='red'),\n",
    "            overlaying='y',\n",
    "            side='right'\n",
    "        ),\n",
    "        legend=dict(x=0.5, y=1.1, orientation='h')\n",
    "    )\n",
    "\n",
    "    return fig\n",
    "\n",
    "# Przygotowanie wykresów dla najlepszych i najgorszych tagów\n",
    "fig_positive = create_dual_axis_chart(top_positive_tags, 'Tagi z najlepszymi ocenami (ważone liczbą recenzji)')\n",
    "fig_negative = create_dual_axis_chart(top_negative_tags, 'Tagi z najgorszymi ocenami (ważone liczbą recenzji)')\n",
    "\n",
    "# Wyświetlenie wykresów\n",
    "fig_positive.show()\n",
    "fig_negative.show()\n"
   ]
  },
  {
   "cell_type": "code",
   "execution_count": 121,
   "metadata": {},
   "outputs": [],
   "source": [
    "# Dodanie fig6 do dashboardu\n",
    "for trace in fig6.data:  # Iteracja po wszystkich śladach fig6\n",
    "    dashboard.add_trace(trace, row=3, col=1)\n",
    "\n"
   ]
  },
  {
   "cell_type": "code",
   "execution_count": 123,
   "metadata": {},
   "outputs": [
    {
     "data": {
      "application/vnd.plotly.v1+json": {
       "config": {
        "plotlyServerURL": "https://plot.ly"
       },
       "data": [
        {
         "alignmentgroup": "True",
         "bingroup": "x",
         "hovertemplate": "Cena=%{x}<br>count=%{y}<extra></extra>",
         "legendgroup": "",
         "marker": {
          "color": "#636efa",
          "pattern": {
           "shape": ""
          }
         },
         "name": "",
         "nbinsx": 20,
         "offsetgroup": "",
         "orientation": "v",
         "showlegend": false,
         "type": "histogram",
         "x": [
          89.55,
          138.99,
          0,
          65.99,
          10.79,
          157.49,
          45.86,
          42.25,
          111.99,
          169,
          184.99,
          45.86,
          15.99,
          45.99,
          184.99,
          214.99,
          105.63,
          161.99,
          26.56,
          74.97,
          91.99,
          49.99,
          13.89,
          72.59,
          124.79,
          229.99,
          0,
          0,
          84.5,
          35.74,
          107.99,
          31.75,
          109.99,
          26.99,
          89.99,
          169.9,
          22.99,
          138.99,
          49.75,
          84.99,
          0,
          0,
          26.99,
          35.5,
          13.79,
          45.86,
          57.19,
          79.99,
          0,
          138.99,
          55.99,
          259,
          37.2,
          259,
          59.6,
          0,
          99.6,
          26.98,
          107.99,
          104.99,
          79.99,
          40.48,
          15.6,
          65.4,
          0,
          118.14,
          0,
          15.99,
          72.99,
          29.99,
          57.59,
          289.9,
          129.99,
          77.99,
          111.3,
          219,
          27.98,
          207.2,
          69.99,
          9.19,
          0,
          45.99,
          199.99,
          114.99,
          67.99,
          274.99,
          68.64,
          11.99,
          40.99,
          89.99,
          149.99,
          12.6,
          45.99,
          269.9,
          54.45,
          19.99,
          65.99,
          31.99,
          69.49,
          12.6,
          229,
          0,
          119.9,
          68.99,
          110.99,
          114.99,
          107.99,
          219,
          35.8,
          254.8,
          114.99,
          79,
          91.99,
          45.99,
          0,
          39.99,
          29.99,
          126.74,
          28.48,
          45.99,
          107.99,
          119.99,
          109,
          55.19,
          35.6,
          78.99,
          231.99,
          32.24,
          107.46,
          43.19,
          91.99,
          89.99,
          13.98,
          169,
          95.5,
          59.99,
          29.85,
          71.99,
          36.79,
          159.99,
          67.49,
          0,
          156.99,
          64.99,
          208.49,
          34.75,
          0,
          13.99,
          91.99,
          114.99,
          13.98,
          107.99,
          35.99,
          13.98,
          71.49,
          0,
          99.6,
          67.99,
          91.99,
          109.49,
          71.99,
          28.74,
          61.19,
          32.39,
          68.7,
          44.99,
          47.2,
          17.99,
          49.99,
          91.06,
          41.99,
          21.24,
          0,
          107.99,
          41.98,
          94.99,
          289.9,
          45.99,
          53.99,
          64.5,
          0,
          91.99,
          105.79,
          71.99,
          35.99,
          89.99,
          89.99,
          0,
          13.48,
          34.99,
          34.99,
          17.99,
          14.99,
          82.79,
          32.49,
          45.99,
          99,
          0,
          77.99,
          89.99,
          74.99,
          138.99,
          36.79,
          0,
          71.99,
          27.59,
          24.99,
          69.99,
          34.99,
          45.99,
          67.99,
          26.99,
          91.99,
          68.99,
          54.99,
          7.99,
          274.99,
          100,
          171.9,
          184.99,
          35.99,
          31,
          14.75,
          100,
          100,
          31.24,
          124,
          122.99,
          44.99,
          44.99,
          44.99,
          48.13,
          19.99,
          14.29,
          9.99,
          17.99,
          10.79,
          45.99,
          45.99,
          89.99,
          22.99,
          45.86,
          39.99,
          0,
          54.99,
          45.99,
          13.48,
          67.52,
          6.99,
          82.99,
          21.59,
          50,
          75,
          17.47,
          161.99,
          52.19,
          138.99,
          35.59,
          17.99,
          40.99,
          67.99,
          22.99,
          7.99,
          100,
          39.99,
          39.9,
          199,
          49.17,
          91.99,
          100,
          100,
          161.99,
          73.59,
          0,
          89.99,
          22,
          159.99,
          124.99,
          36.99,
          21.59,
          45.99,
          91.99,
          91.99,
          6.49,
          44.99,
          35.99,
          44.22,
          21.8,
          0,
          38.39,
          139.99,
          41.91,
          91.99,
          20.84,
          82.99,
          45.99,
          91.99,
          27.5,
          45.99,
          100,
          0,
          40.99,
          21.17,
          81.95,
          40.79,
          0,
          53.99,
          79.99,
          19.9,
          161.99,
          79.9,
          91.99,
          91.99,
          91.99,
          184.99,
          71.99,
          71.99,
          71.99,
          89.99,
          44.99,
          71.99,
          35.74,
          35.74,
          34.97,
          138.99,
          89.99,
          34.68,
          8.99,
          45.99,
          13.74,
          114.99,
          44.99,
          7.19,
          82.79,
          8.39,
          0,
          31.99,
          125,
          124,
          0,
          29.97,
          119,
          107.99,
          114.99,
          59.99,
          8.99,
          27.99,
          27.96,
          9.19,
          22.99,
          45.99,
          27.59,
          42.99,
          11.49,
          0,
          27.49,
          99,
          99,
          107.99,
          107.99,
          107.99,
          35.99,
          74.99,
          39,
          53.99,
          107.99,
          29.99,
          12.45,
          24.75,
          59.99,
          32.39,
          67.99,
          94,
          23.11,
          91.99,
          45.99,
          91.99,
          91.99,
          91.99,
          91.99,
          45.99,
          79.99,
          19.99,
          91.99,
          21.99,
          22.99,
          44.99,
          89.99,
          45.99,
          89.9,
          17.59,
          21.99,
          21.59,
          10.99,
          84.5,
          59.99,
          27.99,
          0,
          25.2,
          22.99,
          0,
          22.99,
          50.69,
          77.99,
          82.99,
          13.49,
          91.99,
          91.99,
          32.39,
          73.59,
          71.99,
          13.49,
          138.99,
          18.19,
          20.97,
          91.99,
          68.99,
          10.99,
          67.6,
          71.99,
          89.99,
          35.99,
          10.07,
          71.99,
          63.99,
          24.99,
          24.99,
          143.48,
          63,
          62.99,
          10.79,
          86.99,
          17.99,
          59.99,
          59.99,
          13.49,
          7.49,
          9.19,
          69.49,
          15.74,
          14.49,
          34.99,
          13.98,
          25.49,
          53.99,
          17.99,
          53.99,
          26.7,
          25.89,
          17.99,
          25.34,
          39.99,
          49.91,
          71.99,
          63.99,
          64.99,
          64.99,
          53.99,
          7.99,
          59.99,
          23.8,
          67.99,
          46.99,
          7.19,
          7.19,
          7.19,
          82.99,
          49.49,
          45.99,
          10.99,
          7.49,
          44.75,
          35.59,
          10.79,
          21.49,
          159.9,
          21.12,
          70,
          41.4
         ],
         "xaxis": "x",
         "yaxis": "y"
        },
        {
         "alignmentgroup": "True",
         "hovertemplate": "Nacechowanie recenzji=%{x}<br>Cena (zł)=%{y}<extra></extra>",
         "legendgroup": "",
         "marker": {
          "color": "#636efa"
         },
         "name": "",
         "notched": false,
         "offsetgroup": "",
         "orientation": "v",
         "showlegend": false,
         "type": "box",
         "x": [
          "Bardzo pozytywne",
          "W większości pozytywne",
          "Bardzo pozytywne",
          "W większości pozytywne",
          "Bardzo pozytywne",
          "Bardzo pozytywne",
          "Przytłaczająco pozytywne",
          "Bardzo pozytywne",
          "Przytłaczająco pozytywne",
          "W większości pozytywne",
          "Przytłaczająco pozytywne",
          "Bardzo pozytywne",
          "Przytłaczająco pozytywne",
          "Przytłaczająco pozytywne",
          "Bardzo pozytywne",
          "Bardzo pozytywne",
          "W większości pozytywne",
          "W większości pozytywne",
          "Bardzo pozytywne",
          "Mieszane",
          "Bardzo pozytywne",
          "W większości pozytywne",
          "Bardzo pozytywne",
          "Bardzo pozytywne",
          "W większości pozytywne",
          "Bardzo pozytywne",
          "Mieszane",
          "W większości pozytywne",
          "Bardzo pozytywne",
          "Bardzo pozytywne",
          "Bardzo pozytywne",
          "Bardzo pozytywne",
          "Bardzo pozytywne",
          "Brak informacji",
          "Bardzo pozytywne",
          "W większości pozytywne",
          "Bardzo pozytywne",
          "Przytłaczająco pozytywne",
          "Bardzo pozytywne",
          "W większości pozytywne",
          "Mieszane",
          "Mieszane",
          "Bardzo pozytywne",
          "Bardzo pozytywne",
          "Przytłaczająco pozytywne",
          "Bardzo pozytywne",
          "Bardzo pozytywne",
          "W większości pozytywne",
          "W większości negatywne",
          "Przytłaczająco pozytywne",
          "Bardzo pozytywne",
          "Bardzo pozytywne",
          "Bardzo pozytywne",
          "W większości pozytywne",
          "Bardzo pozytywne",
          "Mieszane",
          "Bardzo pozytywne",
          "Bardzo pozytywne",
          "Bardzo pozytywne",
          "Bardzo pozytywne",
          "Bardzo pozytywne",
          "Mieszane",
          "Bardzo pozytywne",
          "Przytłaczająco pozytywne",
          "W większości pozytywne",
          "Przytłaczająco pozytywne",
          "Bardzo pozytywne",
          "Bardzo pozytywne",
          "Bardzo pozytywne",
          "Bardzo pozytywne",
          "Przytłaczająco pozytywne",
          "W większości pozytywne",
          "Bardzo pozytywne",
          "Bardzo pozytywne",
          "W większości pozytywne",
          "W większości pozytywne",
          "Bardzo pozytywne",
          "W większości pozytywne",
          "Bardzo pozytywne",
          "Bardzo pozytywne",
          "W większości pozytywne",
          "Przytłaczająco pozytywne",
          "Bardzo pozytywne",
          "Bardzo pozytywne",
          "Bardzo pozytywne",
          "Bardzo pozytywne",
          "Bardzo pozytywne",
          "Przytłaczająco pozytywne",
          "Bardzo pozytywne",
          "Przytłaczająco pozytywne",
          "Bardzo pozytywne",
          "Bardzo pozytywne",
          "Przytłaczająco pozytywne",
          "Bardzo pozytywne",
          "Bardzo pozytywne",
          "Przytłaczająco pozytywne",
          "Bardzo pozytywne",
          "W większości pozytywne",
          "Przytłaczająco pozytywne",
          "Bardzo pozytywne",
          "Bardzo pozytywne",
          "W większości pozytywne",
          "Bardzo pozytywne",
          "Bardzo pozytywne",
          "Bardzo pozytywne",
          "Mieszane",
          "Przytłaczająco pozytywne",
          "Bardzo pozytywne",
          "Mieszane",
          "Bardzo pozytywne",
          "Mieszane",
          "Bardzo pozytywne",
          "Przytłaczająco pozytywne",
          "Przytłaczająco pozytywne",
          "Bardzo pozytywne",
          "Bardzo pozytywne",
          "Bardzo pozytywne",
          "W większości pozytywne",
          "W większości pozytywne",
          "Bardzo pozytywne",
          "Przytłaczająco pozytywne",
          "Przytłaczająco pozytywne",
          "Bardzo pozytywne",
          "Przytłaczająco pozytywne",
          "Mieszane",
          "Bardzo pozytywne",
          "Bardzo pozytywne",
          "Bardzo pozytywne",
          "Bardzo pozytywne",
          "Bardzo pozytywne",
          "W większości pozytywne",
          "Przytłaczająco pozytywne",
          "W większości pozytywne",
          "W większości pozytywne",
          "Bardzo pozytywne",
          "Bardzo pozytywne",
          "Bardzo pozytywne",
          "Przytłaczająco pozytywne",
          "Bardzo pozytywne",
          "Bardzo pozytywne",
          "Przytłaczająco pozytywne",
          "W większości pozytywne",
          "W większości pozytywne",
          "Przytłaczająco pozytywne",
          "Bardzo pozytywne",
          "W większości pozytywne",
          "Mieszane",
          "W większości pozytywne",
          "Bardzo pozytywne",
          "Przytłaczająco pozytywne",
          "Bardzo pozytywne",
          "Bardzo pozytywne",
          "Przytłaczająco pozytywne",
          "Bardzo pozytywne",
          "Bardzo pozytywne",
          "Mieszane",
          "Mieszane",
          "Przytłaczająco pozytywne",
          "Bardzo pozytywne",
          "Mieszane",
          "Bardzo pozytywne",
          "Przytłaczająco pozytywne",
          "W większości pozytywne",
          "Bardzo pozytywne",
          "Bardzo pozytywne",
          "Bardzo pozytywne",
          "Bardzo pozytywne",
          "Mieszane",
          "Bardzo pozytywne",
          "Bardzo pozytywne",
          "Bardzo pozytywne",
          "Bardzo pozytywne",
          "W większości pozytywne",
          "Bardzo pozytywne",
          "W większości pozytywne",
          "Bardzo pozytywne",
          "Mieszane",
          "Przytłaczająco pozytywne",
          "Bardzo pozytywne",
          "W większości pozytywne",
          "Mieszane",
          "Bardzo pozytywne",
          "Przytłaczająco pozytywne",
          "Przytłaczająco pozytywne",
          "Bardzo pozytywne",
          "Bardzo pozytywne",
          "Przytłaczająco pozytywne",
          "Bardzo pozytywne",
          "Bardzo pozytywne",
          "Bardzo pozytywne",
          "Przytłaczająco pozytywne",
          "W większości pozytywne",
          "W większości pozytywne",
          "Mieszane",
          "Bardzo pozytywne",
          "Przytłaczająco pozytywne",
          "Bardzo pozytywne",
          "Bardzo pozytywne",
          "Bardzo pozytywne",
          "W większości pozytywne",
          "Przytłaczająco pozytywne",
          "W większości pozytywne",
          "Bardzo pozytywne",
          "Przytłaczająco pozytywne",
          "Bardzo pozytywne",
          "Bardzo pozytywne",
          "Przytłaczająco pozytywne",
          "Bardzo pozytywne",
          "W większości pozytywne",
          "Bardzo pozytywne",
          "W większości pozytywne",
          "Bardzo pozytywne",
          "W większości pozytywne",
          "W większości pozytywne",
          "Bardzo pozytywne",
          "W większości pozytywne",
          "Przytłaczająco pozytywne",
          "Przytłaczająco negatywne",
          "Przytłaczająco pozytywne",
          "Bardzo pozytywne",
          "Bardzo pozytywne",
          "W większości pozytywne",
          "Mieszane",
          "Bardzo pozytywne",
          "Bardzo pozytywne",
          "W większości pozytywne",
          "Bardzo pozytywne",
          "Bardzo pozytywne",
          "Przytłaczająco pozytywne",
          "Bardzo pozytywne",
          "Bardzo pozytywne",
          "Bardzo pozytywne",
          "Bardzo pozytywne",
          "Bardzo pozytywne",
          "Bardzo pozytywne",
          "Bardzo pozytywne",
          "Bardzo pozytywne",
          "Przytłaczająco pozytywne",
          "Bardzo pozytywne",
          "Bardzo pozytywne",
          "Bardzo pozytywne",
          "Mieszane",
          "Bardzo pozytywne",
          "Mieszane",
          "W większości pozytywne",
          "Przytłaczająco pozytywne",
          "Bardzo pozytywne",
          "Bardzo pozytywne",
          "Mieszane",
          "Mieszane",
          "Przytłaczająco pozytywne",
          "Bardzo pozytywne",
          "Bardzo pozytywne",
          "Bardzo pozytywne",
          "Bardzo pozytywne",
          "Bardzo pozytywne",
          "Bardzo pozytywne",
          "W większości pozytywne",
          "W większości pozytywne",
          "Bardzo pozytywne",
          "Bardzo pozytywne",
          "Mieszane",
          "Przytłaczająco pozytywne",
          "Bardzo pozytywne",
          "Przytłaczająco pozytywne",
          "Bardzo pozytywne",
          "Bardzo pozytywne",
          "W większości pozytywne",
          "Bardzo pozytywne",
          "Bardzo pozytywne",
          "Bardzo pozytywne",
          "W większości pozytywne",
          "W większości pozytywne",
          "Mieszane",
          "W większości pozytywne",
          "Bardzo pozytywne",
          "Bardzo pozytywne",
          "W większości pozytywne",
          "Bardzo pozytywne",
          "Bardzo pozytywne",
          "Przytłaczająco pozytywne",
          "Bardzo pozytywne",
          "Bardzo pozytywne",
          "W większości pozytywne",
          "Bardzo pozytywne",
          "Przytłaczająco pozytywne",
          "Bardzo pozytywne",
          "Bardzo pozytywne",
          "Mieszane",
          "Bardzo pozytywne",
          "Mieszane",
          "Bardzo pozytywne",
          "W większości pozytywne",
          "Przytłaczająco pozytywne",
          "Bardzo pozytywne",
          "W większości pozytywne",
          "Bardzo pozytywne",
          "Bardzo pozytywne",
          "Bardzo pozytywne",
          "Bardzo pozytywne",
          "Mieszane",
          "Mieszane",
          "Mieszane",
          "W większości pozytywne",
          "Przytłaczająco pozytywne",
          "Mieszane",
          "Przytłaczająco pozytywne",
          "Bardzo pozytywne",
          "Bardzo pozytywne",
          "W większości pozytywne",
          "Bardzo pozytywne",
          "Bardzo pozytywne",
          "Bardzo pozytywne",
          "Bardzo pozytywne",
          "Bardzo pozytywne",
          "Bardzo pozytywne",
          "Przytłaczająco pozytywne",
          "Bardzo pozytywne",
          "W większości pozytywne",
          "Bardzo pozytywne",
          "Bardzo pozytywne",
          "Bardzo pozytywne",
          "Bardzo pozytywne",
          "Bardzo pozytywne",
          "Bardzo pozytywne",
          "Mieszane",
          "Bardzo pozytywne",
          "W większości pozytywne",
          "Bardzo pozytywne",
          "Mieszane",
          "W większości pozytywne",
          "Przytłaczająco pozytywne",
          "Bardzo pozytywne",
          "Bardzo pozytywne",
          "Bardzo pozytywne",
          "W większości pozytywne",
          "Bardzo pozytywne",
          "Bardzo pozytywne",
          "Bardzo pozytywne",
          "Bardzo pozytywne",
          "Bardzo pozytywne",
          "Bardzo pozytywne",
          "W większości pozytywne",
          "Bardzo pozytywne",
          "Przytłaczająco pozytywne",
          "Przytłaczająco pozytywne",
          "Mieszane",
          "Bardzo pozytywne",
          "Bardzo pozytywne",
          "Bardzo pozytywne",
          "W większości pozytywne",
          "W większości pozytywne",
          "Bardzo pozytywne",
          "Mieszane",
          "Mieszane",
          "Bardzo pozytywne",
          "Bardzo pozytywne",
          "Bardzo pozytywne",
          "Bardzo pozytywne",
          "Mieszane",
          "Bardzo pozytywne",
          "Przytłaczająco pozytywne",
          "Bardzo pozytywne",
          "Przytłaczająco pozytywne",
          "Bardzo pozytywne",
          "Mieszane",
          "Mieszane",
          "Bardzo pozytywne",
          "Brak informacji",
          "Bardzo pozytywne",
          "Bardzo pozytywne",
          "Bardzo pozytywne",
          "Bardzo pozytywne",
          "W większości pozytywne",
          "Bardzo pozytywne",
          "Bardzo pozytywne",
          "Bardzo pozytywne",
          "Przytłaczająco pozytywne",
          "Przytłaczająco pozytywne",
          "Bardzo pozytywne",
          "Bardzo pozytywne",
          "Bardzo pozytywne",
          "Bardzo pozytywne",
          "Bardzo pozytywne",
          "Bardzo pozytywne",
          "Przytłaczająco pozytywne",
          "W większości pozytywne",
          "Bardzo pozytywne",
          "W większości pozytywne",
          "W większości pozytywne",
          "Bardzo pozytywne",
          "Pozytywne",
          "W większości pozytywne",
          "Bardzo pozytywne",
          "Mieszane",
          "W większości pozytywne",
          "Bardzo pozytywne",
          "W większości pozytywne",
          "Bardzo pozytywne",
          "Bardzo pozytywne",
          "Mieszane",
          "Bardzo pozytywne",
          "Mieszane",
          "Bardzo pozytywne",
          "Bardzo pozytywne",
          "Bardzo pozytywne",
          "W większości pozytywne",
          "Bardzo pozytywne",
          "W większości pozytywne",
          "Bardzo pozytywne",
          "Bardzo pozytywne",
          "Bardzo pozytywne",
          "Mieszane",
          "Bardzo pozytywne",
          "W większości pozytywne",
          "Bardzo pozytywne",
          "Przytłaczająco pozytywne",
          "Bardzo pozytywne",
          "Bardzo pozytywne",
          "Bardzo pozytywne",
          "Bardzo pozytywne",
          "Bardzo pozytywne",
          "Przytłaczająco pozytywne",
          "Bardzo pozytywne",
          "Bardzo pozytywne",
          "Mieszane",
          "Bardzo pozytywne",
          "W większości pozytywne",
          "Mieszane",
          "Bardzo pozytywne",
          "Bardzo pozytywne",
          "Mieszane",
          "Bardzo pozytywne",
          "W większości pozytywne",
          "Przytłaczająco pozytywne",
          "Bardzo pozytywne",
          "Mieszane",
          "Bardzo pozytywne",
          "Bardzo pozytywne",
          "Bardzo pozytywne",
          "W większości pozytywne",
          "Bardzo pozytywne",
          "Bardzo pozytywne",
          "Brak informacji",
          "Bardzo pozytywne",
          "Bardzo pozytywne",
          "Mieszane",
          "Bardzo pozytywne",
          "Bardzo pozytywne",
          "W większości pozytywne",
          "W większości pozytywne",
          "Przytłaczająco pozytywne",
          "W większości pozytywne",
          "Bardzo pozytywne",
          "Bardzo pozytywne",
          "Przytłaczająco pozytywne",
          "Bardzo pozytywne",
          "Bardzo pozytywne",
          "Bardzo pozytywne",
          "Bardzo pozytywne",
          "W większości pozytywne",
          "Bardzo pozytywne",
          "Bardzo pozytywne",
          "Bardzo pozytywne",
          "Bardzo pozytywne",
          "Bardzo pozytywne",
          "Bardzo pozytywne",
          "Bardzo pozytywne",
          "W większości pozytywne",
          "W większości pozytywne",
          "Mieszane",
          "W większości pozytywne",
          "Bardzo pozytywne",
          "Mieszane",
          "W większości pozytywne",
          "W większości pozytywne",
          "Bardzo pozytywne",
          "Bardzo pozytywne",
          "Bardzo pozytywne"
         ],
         "x0": " ",
         "xaxis": "x2",
         "y": [
          89.55,
          138.99,
          0,
          65.99,
          10.79,
          157.49,
          45.86,
          42.25,
          111.99,
          169,
          184.99,
          45.86,
          15.99,
          45.99,
          184.99,
          214.99,
          105.63,
          161.99,
          26.56,
          74.97,
          91.99,
          49.99,
          13.89,
          72.59,
          124.79,
          229.99,
          0,
          0,
          84.5,
          35.74,
          107.99,
          31.75,
          109.99,
          26.99,
          89.99,
          169.9,
          22.99,
          138.99,
          49.75,
          84.99,
          0,
          0,
          26.99,
          35.5,
          13.79,
          45.86,
          57.19,
          79.99,
          0,
          138.99,
          55.99,
          259,
          37.2,
          259,
          59.6,
          0,
          99.6,
          26.98,
          107.99,
          104.99,
          79.99,
          40.48,
          15.6,
          65.4,
          0,
          118.14,
          0,
          15.99,
          72.99,
          29.99,
          57.59,
          289.9,
          129.99,
          77.99,
          111.3,
          219,
          27.98,
          207.2,
          69.99,
          9.19,
          0,
          45.99,
          199.99,
          114.99,
          67.99,
          274.99,
          68.64,
          11.99,
          40.99,
          89.99,
          149.99,
          12.6,
          45.99,
          269.9,
          54.45,
          19.99,
          65.99,
          31.99,
          69.49,
          12.6,
          229,
          0,
          119.9,
          68.99,
          110.99,
          114.99,
          107.99,
          219,
          35.8,
          254.8,
          114.99,
          79,
          91.99,
          45.99,
          0,
          39.99,
          29.99,
          126.74,
          28.48,
          45.99,
          107.99,
          119.99,
          109,
          55.19,
          35.6,
          78.99,
          231.99,
          32.24,
          107.46,
          43.19,
          91.99,
          89.99,
          13.98,
          169,
          95.5,
          59.99,
          29.85,
          71.99,
          36.79,
          159.99,
          67.49,
          0,
          156.99,
          64.99,
          208.49,
          34.75,
          0,
          13.99,
          91.99,
          114.99,
          13.98,
          107.99,
          35.99,
          13.98,
          71.49,
          0,
          99.6,
          67.99,
          91.99,
          109.49,
          71.99,
          28.74,
          61.19,
          32.39,
          68.7,
          44.99,
          47.2,
          17.99,
          49.99,
          91.06,
          41.99,
          21.24,
          0,
          107.99,
          41.98,
          94.99,
          289.9,
          45.99,
          53.99,
          64.5,
          0,
          91.99,
          105.79,
          71.99,
          35.99,
          89.99,
          89.99,
          0,
          13.48,
          34.99,
          34.99,
          17.99,
          14.99,
          82.79,
          32.49,
          45.99,
          99,
          0,
          77.99,
          89.99,
          74.99,
          138.99,
          36.79,
          0,
          71.99,
          27.59,
          24.99,
          69.99,
          34.99,
          45.99,
          67.99,
          26.99,
          91.99,
          68.99,
          54.99,
          7.99,
          274.99,
          100,
          171.9,
          184.99,
          35.99,
          31,
          14.75,
          100,
          100,
          31.24,
          124,
          122.99,
          44.99,
          44.99,
          44.99,
          48.13,
          19.99,
          14.29,
          9.99,
          17.99,
          10.79,
          45.99,
          45.99,
          89.99,
          22.99,
          45.86,
          39.99,
          0,
          54.99,
          45.99,
          13.48,
          67.52,
          6.99,
          82.99,
          21.59,
          50,
          75,
          17.47,
          161.99,
          52.19,
          138.99,
          35.59,
          17.99,
          40.99,
          67.99,
          22.99,
          7.99,
          100,
          39.99,
          39.9,
          199,
          49.17,
          91.99,
          100,
          100,
          161.99,
          73.59,
          0,
          89.99,
          22,
          159.99,
          124.99,
          36.99,
          21.59,
          45.99,
          91.99,
          91.99,
          6.49,
          44.99,
          35.99,
          44.22,
          21.8,
          0,
          38.39,
          139.99,
          41.91,
          91.99,
          20.84,
          82.99,
          45.99,
          91.99,
          27.5,
          45.99,
          100,
          0,
          40.99,
          21.17,
          81.95,
          40.79,
          0,
          53.99,
          79.99,
          19.9,
          161.99,
          79.9,
          91.99,
          91.99,
          91.99,
          184.99,
          71.99,
          71.99,
          71.99,
          89.99,
          44.99,
          71.99,
          35.74,
          35.74,
          34.97,
          138.99,
          89.99,
          34.68,
          8.99,
          45.99,
          13.74,
          114.99,
          44.99,
          7.19,
          82.79,
          8.39,
          0,
          31.99,
          125,
          124,
          0,
          29.97,
          119,
          107.99,
          114.99,
          59.99,
          8.99,
          27.99,
          27.96,
          9.19,
          22.99,
          45.99,
          27.59,
          42.99,
          11.49,
          0,
          27.49,
          99,
          99,
          107.99,
          107.99,
          107.99,
          35.99,
          74.99,
          39,
          53.99,
          107.99,
          29.99,
          12.45,
          24.75,
          59.99,
          32.39,
          67.99,
          94,
          23.11,
          91.99,
          45.99,
          91.99,
          91.99,
          91.99,
          91.99,
          45.99,
          79.99,
          19.99,
          91.99,
          21.99,
          22.99,
          44.99,
          89.99,
          45.99,
          89.9,
          17.59,
          21.99,
          21.59,
          10.99,
          84.5,
          59.99,
          27.99,
          0,
          25.2,
          22.99,
          0,
          22.99,
          50.69,
          77.99,
          82.99,
          13.49,
          91.99,
          91.99,
          32.39,
          73.59,
          71.99,
          13.49,
          138.99,
          18.19,
          20.97,
          91.99,
          68.99,
          10.99,
          67.6,
          71.99,
          89.99,
          35.99,
          10.07,
          71.99,
          63.99,
          24.99,
          24.99,
          143.48,
          63,
          62.99,
          10.79,
          86.99,
          17.99,
          59.99,
          59.99,
          13.49,
          7.49,
          9.19,
          69.49,
          15.74,
          14.49,
          34.99,
          13.98,
          25.49,
          53.99,
          17.99,
          53.99,
          26.7,
          25.89,
          17.99,
          25.34,
          39.99,
          49.91,
          71.99,
          63.99,
          64.99,
          64.99,
          53.99,
          7.99,
          59.99,
          23.8,
          67.99,
          46.99,
          7.19,
          7.19,
          7.19,
          82.99,
          49.49,
          45.99,
          10.99,
          7.49,
          44.75,
          35.59,
          10.79,
          21.49,
          159.9,
          21.12,
          70,
          41.4
         ],
         "y0": " ",
         "yaxis": "y2"
        },
        {
         "marker": {
          "color": "#90CAF9"
         },
         "name": "Średnia ocena",
         "type": "bar",
         "x": [
          "Detektywistyczne",
          "LEGO",
          "Gra w boga",
          "Zabawne",
          "RTS akcji",
          "Komediowe",
          "Rekreacyjne",
          "Symulator chodzenia",
          "Symulator polityczny",
          "Historia alternatywna",
          "MMO",
          "Zręcznościowe",
          "Drużynowe RPG",
          "Latanie",
          "Wojskowe",
          "Cyberpunk",
          "Otwarty świat",
          "RPG",
          "Jednoosobowe",
          "Symulatory"
         ],
         "xaxis": "x3",
         "y": [
          3,
          3,
          3,
          3,
          3,
          3,
          2.988109891836681,
          2.9124211627071013,
          2.879260461505892,
          2.8736235272239417,
          2.8451190108191655,
          2.6986790431988577,
          2.0564343736639588,
          1.9331140597895875,
          1.186167558786079,
          null,
          null,
          null,
          null,
          null
         ],
         "yaxis": "y3"
        },
        {
         "line": {
          "dash": "dot",
          "width": 2
         },
         "marker": {
          "color": "red",
          "size": 10
         },
         "mode": "lines+markers",
         "name": "Średnia cena",
         "type": "scatter",
         "x": [
          "Detektywistyczne",
          "LEGO",
          "Gra w boga",
          "Zabawne",
          "RTS akcji",
          "Komediowe",
          "Rekreacyjne",
          "Symulator chodzenia",
          "Symulator polityczny",
          "Historia alternatywna",
          "MMO",
          "Zręcznościowe",
          "Drużynowe RPG",
          "Latanie",
          "Wojskowe",
          "Cyberpunk",
          "Otwarty świat",
          "RPG",
          "Jednoosobowe",
          "Symulatory"
         ],
         "xaxis": "x3",
         "y": [
          53.415000000000006,
          142.99333333333334,
          45.31666666666666,
          39.83,
          40.24,
          20.949999999999996,
          33.36625,
          57.74666666666667,
          60.239999999999995,
          71.33,
          22.9975,
          46.114000000000004,
          27.544999999999998,
          56.94,
          89.82000000000001,
          58.61,
          79.69388059701484,
          68.11293103448267,
          65.37347222222212,
          70.13121951219505
         ],
         "yaxis": "y3"
        }
       ],
       "layout": {
        "annotations": [
         {
          "font": {
           "size": 16
          },
          "showarrow": false,
          "text": "Liczba gier i recenzji (Fig1)",
          "x": 0.5,
          "xanchor": "center",
          "xref": "paper",
          "y": 1,
          "yanchor": "bottom",
          "yref": "paper"
         },
         {
          "font": {
           "size": 16
          },
          "showarrow": false,
          "text": "Popularność tagów w czasie (Fig4)",
          "x": 0.5,
          "xanchor": "center",
          "xref": "paper",
          "y": 0.6111111111111112,
          "yanchor": "bottom",
          "yref": "paper"
         },
         {
          "font": {
           "size": 16
          },
          "showarrow": false,
          "text": "Tagi z najlepszymi ocenami (Fig6)",
          "x": 0.5,
          "xanchor": "center",
          "xref": "paper",
          "y": 0.22222222222222224,
          "yanchor": "bottom",
          "yref": "paper"
         }
        ],
        "height": 1200,
        "showlegend": true,
        "template": {
         "data": {
          "bar": [
           {
            "error_x": {
             "color": "#2a3f5f"
            },
            "error_y": {
             "color": "#2a3f5f"
            },
            "marker": {
             "line": {
              "color": "#E5ECF6",
              "width": 0.5
             },
             "pattern": {
              "fillmode": "overlay",
              "size": 10,
              "solidity": 0.2
             }
            },
            "type": "bar"
           }
          ],
          "barpolar": [
           {
            "marker": {
             "line": {
              "color": "#E5ECF6",
              "width": 0.5
             },
             "pattern": {
              "fillmode": "overlay",
              "size": 10,
              "solidity": 0.2
             }
            },
            "type": "barpolar"
           }
          ],
          "carpet": [
           {
            "aaxis": {
             "endlinecolor": "#2a3f5f",
             "gridcolor": "white",
             "linecolor": "white",
             "minorgridcolor": "white",
             "startlinecolor": "#2a3f5f"
            },
            "baxis": {
             "endlinecolor": "#2a3f5f",
             "gridcolor": "white",
             "linecolor": "white",
             "minorgridcolor": "white",
             "startlinecolor": "#2a3f5f"
            },
            "type": "carpet"
           }
          ],
          "choropleth": [
           {
            "colorbar": {
             "outlinewidth": 0,
             "ticks": ""
            },
            "type": "choropleth"
           }
          ],
          "contour": [
           {
            "colorbar": {
             "outlinewidth": 0,
             "ticks": ""
            },
            "colorscale": [
             [
              0,
              "#0d0887"
             ],
             [
              0.1111111111111111,
              "#46039f"
             ],
             [
              0.2222222222222222,
              "#7201a8"
             ],
             [
              0.3333333333333333,
              "#9c179e"
             ],
             [
              0.4444444444444444,
              "#bd3786"
             ],
             [
              0.5555555555555556,
              "#d8576b"
             ],
             [
              0.6666666666666666,
              "#ed7953"
             ],
             [
              0.7777777777777778,
              "#fb9f3a"
             ],
             [
              0.8888888888888888,
              "#fdca26"
             ],
             [
              1,
              "#f0f921"
             ]
            ],
            "type": "contour"
           }
          ],
          "contourcarpet": [
           {
            "colorbar": {
             "outlinewidth": 0,
             "ticks": ""
            },
            "type": "contourcarpet"
           }
          ],
          "heatmap": [
           {
            "colorbar": {
             "outlinewidth": 0,
             "ticks": ""
            },
            "colorscale": [
             [
              0,
              "#0d0887"
             ],
             [
              0.1111111111111111,
              "#46039f"
             ],
             [
              0.2222222222222222,
              "#7201a8"
             ],
             [
              0.3333333333333333,
              "#9c179e"
             ],
             [
              0.4444444444444444,
              "#bd3786"
             ],
             [
              0.5555555555555556,
              "#d8576b"
             ],
             [
              0.6666666666666666,
              "#ed7953"
             ],
             [
              0.7777777777777778,
              "#fb9f3a"
             ],
             [
              0.8888888888888888,
              "#fdca26"
             ],
             [
              1,
              "#f0f921"
             ]
            ],
            "type": "heatmap"
           }
          ],
          "heatmapgl": [
           {
            "colorbar": {
             "outlinewidth": 0,
             "ticks": ""
            },
            "colorscale": [
             [
              0,
              "#0d0887"
             ],
             [
              0.1111111111111111,
              "#46039f"
             ],
             [
              0.2222222222222222,
              "#7201a8"
             ],
             [
              0.3333333333333333,
              "#9c179e"
             ],
             [
              0.4444444444444444,
              "#bd3786"
             ],
             [
              0.5555555555555556,
              "#d8576b"
             ],
             [
              0.6666666666666666,
              "#ed7953"
             ],
             [
              0.7777777777777778,
              "#fb9f3a"
             ],
             [
              0.8888888888888888,
              "#fdca26"
             ],
             [
              1,
              "#f0f921"
             ]
            ],
            "type": "heatmapgl"
           }
          ],
          "histogram": [
           {
            "marker": {
             "pattern": {
              "fillmode": "overlay",
              "size": 10,
              "solidity": 0.2
             }
            },
            "type": "histogram"
           }
          ],
          "histogram2d": [
           {
            "colorbar": {
             "outlinewidth": 0,
             "ticks": ""
            },
            "colorscale": [
             [
              0,
              "#0d0887"
             ],
             [
              0.1111111111111111,
              "#46039f"
             ],
             [
              0.2222222222222222,
              "#7201a8"
             ],
             [
              0.3333333333333333,
              "#9c179e"
             ],
             [
              0.4444444444444444,
              "#bd3786"
             ],
             [
              0.5555555555555556,
              "#d8576b"
             ],
             [
              0.6666666666666666,
              "#ed7953"
             ],
             [
              0.7777777777777778,
              "#fb9f3a"
             ],
             [
              0.8888888888888888,
              "#fdca26"
             ],
             [
              1,
              "#f0f921"
             ]
            ],
            "type": "histogram2d"
           }
          ],
          "histogram2dcontour": [
           {
            "colorbar": {
             "outlinewidth": 0,
             "ticks": ""
            },
            "colorscale": [
             [
              0,
              "#0d0887"
             ],
             [
              0.1111111111111111,
              "#46039f"
             ],
             [
              0.2222222222222222,
              "#7201a8"
             ],
             [
              0.3333333333333333,
              "#9c179e"
             ],
             [
              0.4444444444444444,
              "#bd3786"
             ],
             [
              0.5555555555555556,
              "#d8576b"
             ],
             [
              0.6666666666666666,
              "#ed7953"
             ],
             [
              0.7777777777777778,
              "#fb9f3a"
             ],
             [
              0.8888888888888888,
              "#fdca26"
             ],
             [
              1,
              "#f0f921"
             ]
            ],
            "type": "histogram2dcontour"
           }
          ],
          "mesh3d": [
           {
            "colorbar": {
             "outlinewidth": 0,
             "ticks": ""
            },
            "type": "mesh3d"
           }
          ],
          "parcoords": [
           {
            "line": {
             "colorbar": {
              "outlinewidth": 0,
              "ticks": ""
             }
            },
            "type": "parcoords"
           }
          ],
          "pie": [
           {
            "automargin": true,
            "type": "pie"
           }
          ],
          "scatter": [
           {
            "fillpattern": {
             "fillmode": "overlay",
             "size": 10,
             "solidity": 0.2
            },
            "type": "scatter"
           }
          ],
          "scatter3d": [
           {
            "line": {
             "colorbar": {
              "outlinewidth": 0,
              "ticks": ""
             }
            },
            "marker": {
             "colorbar": {
              "outlinewidth": 0,
              "ticks": ""
             }
            },
            "type": "scatter3d"
           }
          ],
          "scattercarpet": [
           {
            "marker": {
             "colorbar": {
              "outlinewidth": 0,
              "ticks": ""
             }
            },
            "type": "scattercarpet"
           }
          ],
          "scattergeo": [
           {
            "marker": {
             "colorbar": {
              "outlinewidth": 0,
              "ticks": ""
             }
            },
            "type": "scattergeo"
           }
          ],
          "scattergl": [
           {
            "marker": {
             "colorbar": {
              "outlinewidth": 0,
              "ticks": ""
             }
            },
            "type": "scattergl"
           }
          ],
          "scattermapbox": [
           {
            "marker": {
             "colorbar": {
              "outlinewidth": 0,
              "ticks": ""
             }
            },
            "type": "scattermapbox"
           }
          ],
          "scatterpolar": [
           {
            "marker": {
             "colorbar": {
              "outlinewidth": 0,
              "ticks": ""
             }
            },
            "type": "scatterpolar"
           }
          ],
          "scatterpolargl": [
           {
            "marker": {
             "colorbar": {
              "outlinewidth": 0,
              "ticks": ""
             }
            },
            "type": "scatterpolargl"
           }
          ],
          "scatterternary": [
           {
            "marker": {
             "colorbar": {
              "outlinewidth": 0,
              "ticks": ""
             }
            },
            "type": "scatterternary"
           }
          ],
          "surface": [
           {
            "colorbar": {
             "outlinewidth": 0,
             "ticks": ""
            },
            "colorscale": [
             [
              0,
              "#0d0887"
             ],
             [
              0.1111111111111111,
              "#46039f"
             ],
             [
              0.2222222222222222,
              "#7201a8"
             ],
             [
              0.3333333333333333,
              "#9c179e"
             ],
             [
              0.4444444444444444,
              "#bd3786"
             ],
             [
              0.5555555555555556,
              "#d8576b"
             ],
             [
              0.6666666666666666,
              "#ed7953"
             ],
             [
              0.7777777777777778,
              "#fb9f3a"
             ],
             [
              0.8888888888888888,
              "#fdca26"
             ],
             [
              1,
              "#f0f921"
             ]
            ],
            "type": "surface"
           }
          ],
          "table": [
           {
            "cells": {
             "fill": {
              "color": "#EBF0F8"
             },
             "line": {
              "color": "white"
             }
            },
            "header": {
             "fill": {
              "color": "#C8D4E3"
             },
             "line": {
              "color": "white"
             }
            },
            "type": "table"
           }
          ]
         },
         "layout": {
          "annotationdefaults": {
           "arrowcolor": "#2a3f5f",
           "arrowhead": 0,
           "arrowwidth": 1
          },
          "autotypenumbers": "strict",
          "coloraxis": {
           "colorbar": {
            "outlinewidth": 0,
            "ticks": ""
           }
          },
          "colorscale": {
           "diverging": [
            [
             0,
             "#8e0152"
            ],
            [
             0.1,
             "#c51b7d"
            ],
            [
             0.2,
             "#de77ae"
            ],
            [
             0.3,
             "#f1b6da"
            ],
            [
             0.4,
             "#fde0ef"
            ],
            [
             0.5,
             "#f7f7f7"
            ],
            [
             0.6,
             "#e6f5d0"
            ],
            [
             0.7,
             "#b8e186"
            ],
            [
             0.8,
             "#7fbc41"
            ],
            [
             0.9,
             "#4d9221"
            ],
            [
             1,
             "#276419"
            ]
           ],
           "sequential": [
            [
             0,
             "#0d0887"
            ],
            [
             0.1111111111111111,
             "#46039f"
            ],
            [
             0.2222222222222222,
             "#7201a8"
            ],
            [
             0.3333333333333333,
             "#9c179e"
            ],
            [
             0.4444444444444444,
             "#bd3786"
            ],
            [
             0.5555555555555556,
             "#d8576b"
            ],
            [
             0.6666666666666666,
             "#ed7953"
            ],
            [
             0.7777777777777778,
             "#fb9f3a"
            ],
            [
             0.8888888888888888,
             "#fdca26"
            ],
            [
             1,
             "#f0f921"
            ]
           ],
           "sequentialminus": [
            [
             0,
             "#0d0887"
            ],
            [
             0.1111111111111111,
             "#46039f"
            ],
            [
             0.2222222222222222,
             "#7201a8"
            ],
            [
             0.3333333333333333,
             "#9c179e"
            ],
            [
             0.4444444444444444,
             "#bd3786"
            ],
            [
             0.5555555555555556,
             "#d8576b"
            ],
            [
             0.6666666666666666,
             "#ed7953"
            ],
            [
             0.7777777777777778,
             "#fb9f3a"
            ],
            [
             0.8888888888888888,
             "#fdca26"
            ],
            [
             1,
             "#f0f921"
            ]
           ]
          },
          "colorway": [
           "#636efa",
           "#EF553B",
           "#00cc96",
           "#ab63fa",
           "#FFA15A",
           "#19d3f3",
           "#FF6692",
           "#B6E880",
           "#FF97FF",
           "#FECB52"
          ],
          "font": {
           "color": "#2a3f5f"
          },
          "geo": {
           "bgcolor": "white",
           "lakecolor": "white",
           "landcolor": "#E5ECF6",
           "showlakes": true,
           "showland": true,
           "subunitcolor": "white"
          },
          "hoverlabel": {
           "align": "left"
          },
          "hovermode": "closest",
          "mapbox": {
           "style": "light"
          },
          "paper_bgcolor": "white",
          "plot_bgcolor": "#E5ECF6",
          "polar": {
           "angularaxis": {
            "gridcolor": "white",
            "linecolor": "white",
            "ticks": ""
           },
           "bgcolor": "#E5ECF6",
           "radialaxis": {
            "gridcolor": "white",
            "linecolor": "white",
            "ticks": ""
           }
          },
          "scene": {
           "xaxis": {
            "backgroundcolor": "#E5ECF6",
            "gridcolor": "white",
            "gridwidth": 2,
            "linecolor": "white",
            "showbackground": true,
            "ticks": "",
            "zerolinecolor": "white"
           },
           "yaxis": {
            "backgroundcolor": "#E5ECF6",
            "gridcolor": "white",
            "gridwidth": 2,
            "linecolor": "white",
            "showbackground": true,
            "ticks": "",
            "zerolinecolor": "white"
           },
           "zaxis": {
            "backgroundcolor": "#E5ECF6",
            "gridcolor": "white",
            "gridwidth": 2,
            "linecolor": "white",
            "showbackground": true,
            "ticks": "",
            "zerolinecolor": "white"
           }
          },
          "shapedefaults": {
           "line": {
            "color": "#2a3f5f"
           }
          },
          "ternary": {
           "aaxis": {
            "gridcolor": "white",
            "linecolor": "white",
            "ticks": ""
           },
           "baxis": {
            "gridcolor": "white",
            "linecolor": "white",
            "ticks": ""
           },
           "bgcolor": "#E5ECF6",
           "caxis": {
            "gridcolor": "white",
            "linecolor": "white",
            "ticks": ""
           }
          },
          "title": {
           "x": 0.05
          },
          "xaxis": {
           "automargin": true,
           "gridcolor": "white",
           "linecolor": "white",
           "ticks": "",
           "title": {
            "standoff": 15
           },
           "zerolinecolor": "white",
           "zerolinewidth": 2
          },
          "yaxis": {
           "automargin": true,
           "gridcolor": "white",
           "linecolor": "white",
           "ticks": "",
           "title": {
            "standoff": 15
           },
           "zerolinecolor": "white",
           "zerolinewidth": 2
          }
         }
        },
        "title": {
         "text": "Dashboard analizy gier"
        },
        "width": 1200,
        "xaxis": {
         "anchor": "y",
         "domain": [
          0,
          1
         ]
        },
        "xaxis2": {
         "anchor": "y2",
         "domain": [
          0,
          1
         ]
        },
        "xaxis3": {
         "anchor": "y3",
         "domain": [
          0,
          1
         ]
        },
        "yaxis": {
         "anchor": "x",
         "domain": [
          0.7777777777777778,
          1
         ]
        },
        "yaxis2": {
         "anchor": "x2",
         "domain": [
          0.3888888888888889,
          0.6111111111111112
         ]
        },
        "yaxis3": {
         "anchor": "x3",
         "domain": [
          0,
          0.22222222222222224
         ]
        }
       }
      }
     },
     "metadata": {},
     "output_type": "display_data"
    }
   ],
   "source": [
    "from plotly.subplots import make_subplots\n",
    "\n",
    "# Tworzenie dashboardu z dynamicznym układem\n",
    "dashboard = make_subplots(\n",
    "    rows=3, cols=1,  # Każdy wykres w swoim rzędzie\n",
    "    specs=[\n",
    "        [{\"type\": \"xy\"}],  # Rząd 1: Fig1 zajmuje całą szerokość\n",
    "        [{\"type\": \"xy\"}],  # Rząd 2: Fig4 zajmuje całą szerokość\n",
    "        [{\"type\": \"xy\"}]   # Rząd 3: Fig6 z dwiema osiami y\n",
    "    ],\n",
    "    subplot_titles=[\n",
    "        \"Liczba gier i recenzji (Fig1)\",\n",
    "        \"Popularność tagów w czasie (Fig4)\",\n",
    "        \"Tagi z najlepszymi ocenami (Fig6)\"\n",
    "    ]\n",
    ")\n",
    "\n",
    "# Dodanie fig1 do pierwszego wiersza\n",
    "dashboard.add_traces(fig1.data, rows=1, cols=1)\n",
    "\n",
    "# Dodanie fig4 do drugiego wiersza\n",
    "dashboard.add_traces(fig4.data, rows=2, cols=1)\n",
    "\n",
    "# Dodanie fig6 do trzeciego wiersza (z dwiema osiami Y)\n",
    "for trace in fig6.data:\n",
    "    dashboard.add_trace(trace, row=3, col=1)\n",
    "\n",
    "# Ustawienia układu\n",
    "dashboard.update_layout(\n",
    "    height=1200,  # Większa wysokość dashboardu dla lepszej czytelności\n",
    "    width=1200,\n",
    "    title_text=\"Dashboard analizy gier\",\n",
    "    showlegend=True\n",
    ")\n",
    "\n",
    "# Wyświetlenie dashboardu\n",
    "dashboard.show()\n"
   ]
  },
  {
   "cell_type": "code",
   "execution_count": 122,
   "metadata": {},
   "outputs": [
    {
     "data": {
      "application/vnd.plotly.v1+json": {
       "config": {
        "plotlyServerURL": "https://plot.ly"
       },
       "data": [
        {
         "alignmentgroup": "True",
         "bingroup": "x",
         "hovertemplate": "Cena=%{x}<br>count=%{y}<extra></extra>",
         "legendgroup": "",
         "marker": {
          "color": "#636efa",
          "pattern": {
           "shape": ""
          }
         },
         "name": "",
         "nbinsx": 20,
         "offsetgroup": "",
         "orientation": "v",
         "showlegend": false,
         "type": "histogram",
         "x": [
          89.55,
          138.99,
          0,
          65.99,
          10.79,
          157.49,
          45.86,
          42.25,
          111.99,
          169,
          184.99,
          45.86,
          15.99,
          45.99,
          184.99,
          214.99,
          105.63,
          161.99,
          26.56,
          74.97,
          91.99,
          49.99,
          13.89,
          72.59,
          124.79,
          229.99,
          0,
          0,
          84.5,
          35.74,
          107.99,
          31.75,
          109.99,
          26.99,
          89.99,
          169.9,
          22.99,
          138.99,
          49.75,
          84.99,
          0,
          0,
          26.99,
          35.5,
          13.79,
          45.86,
          57.19,
          79.99,
          0,
          138.99,
          55.99,
          259,
          37.2,
          259,
          59.6,
          0,
          99.6,
          26.98,
          107.99,
          104.99,
          79.99,
          40.48,
          15.6,
          65.4,
          0,
          118.14,
          0,
          15.99,
          72.99,
          29.99,
          57.59,
          289.9,
          129.99,
          77.99,
          111.3,
          219,
          27.98,
          207.2,
          69.99,
          9.19,
          0,
          45.99,
          199.99,
          114.99,
          67.99,
          274.99,
          68.64,
          11.99,
          40.99,
          89.99,
          149.99,
          12.6,
          45.99,
          269.9,
          54.45,
          19.99,
          65.99,
          31.99,
          69.49,
          12.6,
          229,
          0,
          119.9,
          68.99,
          110.99,
          114.99,
          107.99,
          219,
          35.8,
          254.8,
          114.99,
          79,
          91.99,
          45.99,
          0,
          39.99,
          29.99,
          126.74,
          28.48,
          45.99,
          107.99,
          119.99,
          109,
          55.19,
          35.6,
          78.99,
          231.99,
          32.24,
          107.46,
          43.19,
          91.99,
          89.99,
          13.98,
          169,
          95.5,
          59.99,
          29.85,
          71.99,
          36.79,
          159.99,
          67.49,
          0,
          156.99,
          64.99,
          208.49,
          34.75,
          0,
          13.99,
          91.99,
          114.99,
          13.98,
          107.99,
          35.99,
          13.98,
          71.49,
          0,
          99.6,
          67.99,
          91.99,
          109.49,
          71.99,
          28.74,
          61.19,
          32.39,
          68.7,
          44.99,
          47.2,
          17.99,
          49.99,
          91.06,
          41.99,
          21.24,
          0,
          107.99,
          41.98,
          94.99,
          289.9,
          45.99,
          53.99,
          64.5,
          0,
          91.99,
          105.79,
          71.99,
          35.99,
          89.99,
          89.99,
          0,
          13.48,
          34.99,
          34.99,
          17.99,
          14.99,
          82.79,
          32.49,
          45.99,
          99,
          0,
          77.99,
          89.99,
          74.99,
          138.99,
          36.79,
          0,
          71.99,
          27.59,
          24.99,
          69.99,
          34.99,
          45.99,
          67.99,
          26.99,
          91.99,
          68.99,
          54.99,
          7.99,
          274.99,
          100,
          171.9,
          184.99,
          35.99,
          31,
          14.75,
          100,
          100,
          31.24,
          124,
          122.99,
          44.99,
          44.99,
          44.99,
          48.13,
          19.99,
          14.29,
          9.99,
          17.99,
          10.79,
          45.99,
          45.99,
          89.99,
          22.99,
          45.86,
          39.99,
          0,
          54.99,
          45.99,
          13.48,
          67.52,
          6.99,
          82.99,
          21.59,
          50,
          75,
          17.47,
          161.99,
          52.19,
          138.99,
          35.59,
          17.99,
          40.99,
          67.99,
          22.99,
          7.99,
          100,
          39.99,
          39.9,
          199,
          49.17,
          91.99,
          100,
          100,
          161.99,
          73.59,
          0,
          89.99,
          22,
          159.99,
          124.99,
          36.99,
          21.59,
          45.99,
          91.99,
          91.99,
          6.49,
          44.99,
          35.99,
          44.22,
          21.8,
          0,
          38.39,
          139.99,
          41.91,
          91.99,
          20.84,
          82.99,
          45.99,
          91.99,
          27.5,
          45.99,
          100,
          0,
          40.99,
          21.17,
          81.95,
          40.79,
          0,
          53.99,
          79.99,
          19.9,
          161.99,
          79.9,
          91.99,
          91.99,
          91.99,
          184.99,
          71.99,
          71.99,
          71.99,
          89.99,
          44.99,
          71.99,
          35.74,
          35.74,
          34.97,
          138.99,
          89.99,
          34.68,
          8.99,
          45.99,
          13.74,
          114.99,
          44.99,
          7.19,
          82.79,
          8.39,
          0,
          31.99,
          125,
          124,
          0,
          29.97,
          119,
          107.99,
          114.99,
          59.99,
          8.99,
          27.99,
          27.96,
          9.19,
          22.99,
          45.99,
          27.59,
          42.99,
          11.49,
          0,
          27.49,
          99,
          99,
          107.99,
          107.99,
          107.99,
          35.99,
          74.99,
          39,
          53.99,
          107.99,
          29.99,
          12.45,
          24.75,
          59.99,
          32.39,
          67.99,
          94,
          23.11,
          91.99,
          45.99,
          91.99,
          91.99,
          91.99,
          91.99,
          45.99,
          79.99,
          19.99,
          91.99,
          21.99,
          22.99,
          44.99,
          89.99,
          45.99,
          89.9,
          17.59,
          21.99,
          21.59,
          10.99,
          84.5,
          59.99,
          27.99,
          0,
          25.2,
          22.99,
          0,
          22.99,
          50.69,
          77.99,
          82.99,
          13.49,
          91.99,
          91.99,
          32.39,
          73.59,
          71.99,
          13.49,
          138.99,
          18.19,
          20.97,
          91.99,
          68.99,
          10.99,
          67.6,
          71.99,
          89.99,
          35.99,
          10.07,
          71.99,
          63.99,
          24.99,
          24.99,
          143.48,
          63,
          62.99,
          10.79,
          86.99,
          17.99,
          59.99,
          59.99,
          13.49,
          7.49,
          9.19,
          69.49,
          15.74,
          14.49,
          34.99,
          13.98,
          25.49,
          53.99,
          17.99,
          53.99,
          26.7,
          25.89,
          17.99,
          25.34,
          39.99,
          49.91,
          71.99,
          63.99,
          64.99,
          64.99,
          53.99,
          7.99,
          59.99,
          23.8,
          67.99,
          46.99,
          7.19,
          7.19,
          7.19,
          82.99,
          49.49,
          45.99,
          10.99,
          7.49,
          44.75,
          35.59,
          10.79,
          21.49,
          159.9,
          21.12,
          70,
          41.4
         ],
         "xaxis": "x",
         "yaxis": "y"
        },
        {
         "alignmentgroup": "True",
         "hovertemplate": "Tag=%{x}<br>Count=%{y}<extra></extra>",
         "legendgroup": "",
         "marker": {
          "color": "#636efa",
          "pattern": {
           "shape": ""
          }
         },
         "name": "",
         "offsetgroup": "",
         "orientation": "v",
         "showlegend": false,
         "textposition": "auto",
         "type": "bar",
         "x": [
          "Akcja",
          "Strategiczne",
          "Science fiction",
          "Wieloosobowe",
          "Jednoosobowe",
          "Przygodowe",
          "Otwarty świat",
          "FPS",
          "Survival",
          "RPG",
          "Bogata fabuła",
          "Strzelanka",
          "Kosmos",
          "Symulatory",
          "RTS",
          "Budowanie bazy",
          "Postapokaliptyczne",
          "Eksploracja",
          "Kooperacja",
          "Niezależne"
         ],
         "xaxis": "x2",
         "y": [
          125,
          92,
          81,
          78,
          72,
          69,
          67,
          65,
          62,
          58,
          51,
          50,
          46,
          41,
          40,
          38,
          36,
          31,
          30,
          29
         ],
         "yaxis": "y2"
        },
        {
         "customdata": [
          [
           "Subnautica"
          ],
          [
           "RimWorld"
          ],
          [
           "Detroit: Become Human"
          ],
          [
           "DOOM"
          ],
          [
           "Lethal Company"
          ],
          [
           "Beat Saber"
          ],
          [
           "Brotato"
          ],
          [
           "Nine Sols"
          ],
          [
           "METAL GEAR RISING: REVENGEANCE"
          ],
          [
           "Caves of Qud"
          ],
          [
           "Dyson Sphere Program"
          ],
          [
           "Half-Life 2"
          ],
          [
           "Titanfall® 2"
          ],
          [
           "Oxygen Not Included"
          ],
          [
           "Left 4 Dead 2"
          ],
          [
           "Warhammer 40,000: Dawn of War - Anniversary Edition"
          ],
          [
           "The Talos Principle 2"
          ],
          [
           "Deep Rock Galactic"
          ],
          [
           "Black Mesa"
          ],
          [
           "Papers, Please"
          ],
          [
           "Kenshi"
          ],
          [
           "Stray"
          ],
          [
           "DRAMAtical Murder"
          ],
          [
           "Creeper World 4"
          ],
          [
           "Turing Complete"
          ],
          [
           "ASTLIBRA Revision"
          ],
          [
           "shapez 2"
          ],
          [
           "The Planet Crafter"
          ],
          [
           "Half-Life"
          ],
          [
           "Beyond Citadel"
          ],
          [
           "The Forgotten City"
          ],
          [
           "Portal 2"
          ],
          [
           "Dune: Imperium"
          ],
          [
           "S.T.A.L.K.E.R.: Call of Pripyat"
          ],
          [
           "Cogmind"
          ],
          [
           "CRUEL"
          ],
          [
           "Portal"
          ],
          [
           "Machinarium"
          ],
          [
           "Life is Strange - Episode 1"
          ],
          [
           "STEINS;GATE 0"
          ],
          [
           "Half-Life: Alyx"
          ],
          [
           "Kerbal Space Program"
          ],
          [
           "Dishonored"
          ],
          [
           "STAR WARS™ Jedi Knight - Jedi Academy™"
          ],
          [
           "Left 4 Dead"
          ],
          [
           "STEINS;GATE"
          ],
          [
           "Supreme Commander: Forged Alliance"
          ],
          [
           "The Last Clockwinder"
          ],
          [
           "STAR WARS™ Battlefront (Classic, 2004)"
          ],
          [
           "Primordia"
          ],
          [
           "The Talos Principle"
          ],
          [
           "Katana ZERO"
          ],
          [
           "Creeper World 3: Arc Eternal"
          ],
          [
           "SIGNALIS"
          ],
          [
           "Cosmoteer: Starship Architect & Commander"
          ],
          [
           "Mouthwashing"
          ],
          [
           "Severed Steel"
          ],
          [
           "Spark the Electric Jester 3"
          ],
          [
           "Quake II"
          ],
          [
           "Opus Magnum"
          ],
          [
           "STAR WARS™ Empire at War - Gold Pack"
          ],
          [
           "VVVVVV"
          ],
          [
           "Mars First Logistics"
          ],
          [
           "SteamWorld Dig 2"
          ],
          [
           "Spaceflight Simulator"
          ],
          [
           "Impossible Creatures Steam Edition"
          ],
          [
           "Quake III Arena"
          ]
         ],
         "hovertemplate": "Nacechowanie recenzji=Przytłaczająco pozytywne<br>Cena (zł)=%{x}<br>Liczba recenzji=%{y}<br>Tytuł=%{customdata[0]}<extra></extra>",
         "legendgroup": "Przytłaczająco pozytywne",
         "marker": {
          "color": "green",
          "symbol": "circle"
         },
         "mode": "markers",
         "name": "Przytłaczająco pozytywne",
         "orientation": "v",
         "showlegend": true,
         "type": "scatter",
         "x": [
          45.86,
          111.99,
          184.99,
          15.99,
          45.99,
          138.99,
          13.79,
          138.99,
          65.4,
          118.14,
          57.59,
          45.99,
          11.99,
          89.99,
          45.99,
          19.99,
          69.49,
          107.99,
          91.99,
          45.99,
          107.99,
          119.99,
          55.19,
          89.99,
          71.99,
          67.49,
          64.99,
          114.99,
          35.99,
          67.99,
          28.74,
          45.99,
          105.79,
          71.99,
          89.99,
          34.99,
          45.99,
          74.99,
          0,
          24.99,
          274.99,
          171.9,
          44.99,
          45.99,
          45.99,
          21.59,
          7.99,
          39.99,
          45.99,
          35.99,
          20.84,
          40.79,
          53.99,
          71.99,
          44.99,
          59.99,
          8.99,
          35.99,
          39,
          91.99,
          91.99,
          22.99,
          68.99,
          10.07,
          59.99,
          39.99,
          64.99
         ],
         "xaxis": "x3",
         "y": [
          271295,
          171314,
          129446,
          134708,
          378091,
          67688,
          87350,
          20696,
          62838,
          9070,
          75862,
          175317,
          216599,
          117335,
          708227,
          7861,
          10558,
          264056,
          113307,
          65893,
          78325,
          134727,
          3076,
          4032,
          3526,
          24635,
          9137,
          46488,
          102215,
          1365,
          9035,
          349236,
          2520,
          23818,
          1322,
          593,
          148579,
          13218,
          167844,
          6040,
          83075,
          101395,
          11155,
          10686,
          50603,
          18353,
          8988,
          602,
          3800,
          2806,
          27718,
          60775,
          3864,
          21198,
          9910,
          22356,
          5207,
          1679,
          7278,
          4699,
          31911,
          6180,
          1044,
          4253,
          5596,
          1444,
          3076
         ],
         "yaxis": "y3"
        },
        {
         "customdata": [
          [
           "Cyberpunk 2077"
          ],
          [
           "Marvel Rivals"
          ],
          [
           "Among Us"
          ],
          [
           "Warhammer 40,000: Space Marine 2"
          ],
          [
           "DOOM Eternal"
          ],
          [
           "Subnautica: Below Zero"
          ],
          [
           "Stellaris"
          ],
          [
           "Jurassic World Evolution 2"
          ],
          [
           "ENDLESS™ Legend"
          ],
          [
           "Project Zomboid"
          ],
          [
           "Frostpunk"
          ],
          [
           "Atomic Heart"
          ],
          [
           "S.T.A.L.K.E.R. 2: Heart of Chornobyl"
          ],
          [
           "DEATH STRANDING DIRECTOR'S CUT"
          ],
          [
           "ENDLESS™ Space 2"
          ],
          [
           "They Are Billions"
          ],
          [
           "Metro Exodus"
          ],
          [
           "No Man's Sky"
          ],
          [
           "My Time at Sandrock"
          ],
          [
           "Chained Together"
          ],
          [
           "Halo: The Master Chief Collection"
          ],
          [
           "Mass Effect™ Edycja legendarna"
          ],
          [
           "Ghostrunner 2"
          ],
          [
           "ASTRONEER"
          ],
          [
           "NieR:Automata™"
          ],
          [
           "BlazBlue Entropy Effect"
          ],
          [
           "Horizon Forbidden West™ Edycja kompletna"
          ],
          [
           "Ghostrunner"
          ],
          [
           "Hatsune Miku: Project DIVA Mega Mix+"
          ],
          [
           "NieR Replicant™ ver.1.22474487139..."
          ],
          [
           "STAR WARS Jedi: Upadły zakon™"
          ],
          [
           "Planetary Annihilation: TITANS"
          ],
          [
           "REMNANT II®"
          ],
          [
           "Void Crew"
          ],
          [
           "DOOM 3"
          ],
          [
           "STAR WARS™: The Old Republic™"
          ],
          [
           "Nuclear Nightmare"
          ],
          [
           "The Long Drive"
          ],
          [
           "Chernobylite Complete Edition"
          ],
          [
           "Aliens: Dark Descent"
          ],
          [
           "Stardeus"
          ],
          [
           "STAR WARS™ Battlefront™ II"
          ],
          [
           "Barotrauma"
          ],
          [
           "This War of Mine"
          ],
          [
           "Warhammer 40,000: Rogue Trader"
          ],
          [
           "Rain World"
          ],
          [
           "Plague Inc: Evolved"
          ],
          [
           "Lies of P"
          ],
          [
           "Nobody Wants to Die"
          ],
          [
           "Murky Divers"
          ],
          [
           "ZEPHON"
          ],
          [
           "Metro 2033 Redux"
          ],
          [
           "Dead Space"
          ],
          [
           "The Riftbreaker"
          ],
          [
           "Forever Skies"
          ],
          [
           "Metro: Last Light Redux"
          ],
          [
           "LEGO ® Gwiezdne Wojny™: Saga Skywalkerów"
          ],
          [
           "Aliens: Fireteam Elite"
          ],
          [
           "Astro Colony"
          ],
          [
           "Contra: Operation Galuga"
          ],
          [
           "Days Gone"
          ],
          [
           "Call of Duty®: Black Ops III"
          ],
          [
           "Fallout 4"
          ],
          [
           "Unturned"
          ],
          [
           "60 Seconds! Reatomized"
          ],
          [
           "The Long Dark"
          ],
          [
           "LOCKDOWN Protocol"
          ],
          [
           "Pacific Drive"
          ],
          [
           "Astrometica"
          ],
          [
           "Sins of a Solar Empire II"
          ],
          [
           "AI: THE SOMNIUM FILES - nirvanA Initiative"
          ],
          [
           "Arizona Sunshine® 2"
          ],
          [
           "State of Decay 2: Juggernaut Edition"
          ],
          [
           "Selaco"
          ],
          [
           "Zompiercer"
          ],
          [
           "CODE VEIN"
          ],
          [
           "Juno: New Origins"
          ],
          [
           "Arken Age"
          ],
          [
           "7 Days to Die"
          ],
          [
           "Uncle Chop's Rocket Shop"
          ],
          [
           "SPORE™"
          ],
          [
           "MechWarrior 5: Mercenaries"
          ],
          [
           "Dead Space™ 2"
          ],
          [
           "Wasteland 3"
          ],
          [
           "Sunkenland"
          ],
          [
           "High On Life"
          ],
          [
           "Wasteland 2: Director's Cut"
          ],
          [
           "Shin Megami Tensei III Nocturne HD Remaster"
          ],
          [
           "Eastward"
          ],
          [
           "Clone Drone in the Hyperdome"
          ],
          [
           "NEBULOUS: Fleet Command"
          ],
          [
           "Anonymous Hacker Simulator"
          ],
          [
           "Hardspace: Shipbreaker"
          ],
          [
           "Road 96 🛣️"
          ],
          [
           "Observer: System Redux"
          ],
          [
           "Starcom: Unknown Space"
          ],
          [
           "Into the Breach"
          ],
          [
           "Grey Hack"
          ],
          [
           "Space Haven"
          ],
          [
           "Wolfenstein: The New Order"
          ],
          [
           "Fallout Shelter"
          ],
          [
           "Mirror's Edge™ Catalyst"
          ],
          [
           "60 Seconds!"
          ],
          [
           "HAAK"
          ],
          [
           "Halo Wars: Definitive Edition"
          ],
          [
           "Cell to Singularity - Evolution Never Ends"
          ],
          [
           "The Last Plague: Blight"
          ],
          [
           "Punch Club 2: Fast Forward"
          ],
          [
           "Operation: Tango"
          ],
          [
           "Black Skylands"
          ],
          [
           "Dome Keeper"
          ],
          [
           "STAR WARS™ Knights of the Old Republic™"
          ],
          [
           "SpiderHeck"
          ],
          [
           "VLADiK BRUTAL"
          ],
          [
           "Warhammer 40,000: Battlesector"
          ],
          [
           "S.T.A.L.K.E.R.: Clear Sky"
          ],
          [
           "Command & Conquer 3: Gniew Kane'a"
          ],
          [
           "Command & Conquer 3: Wojny o tyberium"
          ],
          [
           "Dishonored 2"
          ],
          [
           "The Thing: Remastered"
          ],
          [
           "CHAOS;HEAD NOAH"
          ],
          [
           "CHAOS;CHILD"
          ],
          [
           "Oblivion Override"
          ],
          [
           "Sunset Overdrive"
          ],
          [
           "AI: The Somnium Files"
          ],
          [
           "Homeworld Remastered Collection"
          ],
          [
           "Neon Abyss"
          ],
          [
           "Zero Escape: The Nonary Games"
          ],
          [
           "STAR WARS™ Battlefront II (Classic, 2005)"
          ],
          [
           "Project Wingman"
          ],
          [
           "Pacify"
          ],
          [
           "60 Parsecs!"
          ],
          [
           "Mirror's Edge™"
          ],
          [
           "Deus Ex: Human Revolution - Director's Cut"
          ],
          [
           "Deep Rock Galactic: Survivor"
          ],
          [
           "The Invincible"
          ],
          [
           "Crysis Warhead®"
          ],
          [
           "Stationeers"
          ],
          [
           "Final Factory"
          ],
          [
           "Starship Troopers: Terran Command"
          ],
          [
           "Sketchy's Contract"
          ],
          [
           "Mechabellum"
          ],
          [
           "Command & Conquer™ Red Alert™ 3"
          ],
          [
           "Prince of Persia: Warrior Within™"
          ],
          [
           "FANTASIAN Neo Dimension"
          ],
          [
           "Sins of a Solar Empire®: Rebellion"
          ],
          [
           "Command & Conquer™ Tiberian Sun™ and Firestorm™"
          ],
          [
           "Command & Conquer Red Alert™ 2 and Yuri’s Revenge™"
          ],
          [
           "Airships: Lost Flotilla"
          ],
          [
           "Jurassic World Evolution"
          ],
          [
           "To The Core"
          ],
          [
           "Killing Floor 2"
          ],
          [
           "Job Simulator"
          ],
          [
           "Chromosome Evil 2"
          ],
          [
           "Fallout 3"
          ],
          [
           "MEGA MAN X DiVE Offline"
          ],
          [
           "Remember Me"
          ],
          [
           "Shardpunk"
          ],
          [
           "Endling - Extinction is Forever"
          ],
          [
           "Nuclear Option"
          ],
          [
           "Nuke Them All"
          ],
          [
           "Krążowniki"
          ],
          [
           "Serious Sam: Siberian Mayhem"
          ],
          [
           "Command & Conquer™ Red Alert™ 3- Powstanie"
          ],
          [
           "SUPERHOT VR"
          ],
          [
           "GOD EATER 3"
          ],
          [
           "Beyond: Two Souls"
          ],
          [
           "DYSMANTLE"
          ],
          [
           "Eden Crafters"
          ],
          [
           "Space Reign"
          ],
          [
           "Warhammer 40,000: Gladius - Relics of War"
          ],
          [
           "Volcanoids"
          ],
          [
           "Scrapland Remastered"
          ],
          [
           "Fallout: New Vegas"
          ],
          [
           "S.T.A.L.K.E.R.: Shadow of Chernobyl"
          ],
          [
           "Remnant: From the Ashes"
          ],
          [
           "Quantum Break"
          ],
          [
           "Mass Effect (2007)"
          ],
          [
           "Budget Cuts Ultimate"
          ],
          [
           "Aliens vs. Ghosts"
          ],
          [
           "Sovereign Syndicate"
          ],
          [
           "Zero Escape: Zero Time Dilemma"
          ],
          [
           "BLADE CHIMERA"
          ],
          [
           "ΔV: Rings of Saturn"
          ],
          [
           "JudgeSim"
          ],
          [
           "Silence of the Siren"
          ],
          [
           "Wolfenstein II: The New Colossus"
          ],
          [
           "PlanetSide 2"
          ],
          [
           "Crysis 2 - Maximum Edition"
          ],
          [
           "Arizona Sunshine® Remake"
          ],
          [
           "Shadows of Doubt"
          ],
          [
           "Dead Space (2008)"
          ],
          [
           "Serious Sam 2"
          ],
          [
           "Shrot"
          ],
          [
           "STEINS;GATE ELITE"
          ],
          [
           "CHRONO TRIGGER®"
          ],
          [
           "Crysis 2 Remastered"
          ],
          [
           "Crysis 3 Remastered"
          ],
          [
           "The Universim"
          ],
          [
           "LEGO® STAR WARS™: The Force Awakens"
          ],
          [
           "Airborne Kingdom"
          ],
          [
           "Particle Fleet: Emergence"
          ],
          [
           "Sid Meier's Alpha Centauri™ Planetary Pack"
          ],
          [
           "Mutant Year Zero: Road to Eden"
          ],
          [
           "Keplerth"
          ],
          [
           "Doors: Paradox"
          ],
          [
           "Mad Max"
          ],
          [
           "LEGO® Star Wars™ III - The Clone Wars™"
          ],
          [
           "STAR WARS™ Knights of the Old Republic™ II - The Sith Lords™"
          ],
          [
           "ZERO Sievert"
          ],
          [
           "Obenseuer"
          ],
          [
           "Togainu no Chi ~Lost Blood~"
          ],
          [
           "Warhammer 40,000: Boltgun"
          ],
          [
           "ICEY"
          ],
          [
           "AI War 2"
          ],
          [
           "Tasty Planet"
          ],
          [
           "Fallout 3: Game of the Year Edition"
          ],
          [
           "FINAL FANTASY VII"
          ],
          [
           "Dungeon of the ENDLESS™"
          ],
          [
           "From Glory To Goo"
          ],
          [
           "Mega Man Legacy Collection"
          ],
          [
           "Wall World"
          ],
          [
           "Voids Vigil"
          ],
          [
           "Hollowbody"
          ],
          [
           "Vaporum: Lockdown"
          ],
          [
           "SteamWorld Quest: Hand of Gilgamech"
          ],
          [
           "Cepheus Protocol"
          ],
          [
           "NanoApostle"
          ],
          [
           "The Last Cube"
          ],
          [
           "How to Survive"
          ],
          [
           "Swarm Queen"
          ],
          [
           "Vaporum"
          ],
          [
           "Make America Great Again: The Trump Presidency"
          ],
          [
           "System Shock"
          ],
          [
           "Battlezone 98 Redux"
          ],
          [
           "Executive Assault 2"
          ],
          [
           "Bright Memory: Infinite"
          ],
          [
           "FAR: Changing Tides"
          ],
          [
           "Plan B: Terraform"
          ],
          [
           "ROBOTICS;NOTES ELITE"
          ],
          [
           "GNOSIA"
          ],
          [
           "Binary Domain"
          ],
          [
           "Xeno Command"
          ],
          [
           "They Are Coming"
          ],
          [
           "Goodbye Deponia"
          ],
          [
           "Seed of the Dead: Sweet Home"
          ],
          [
           "Doki Doki AI Interrogation"
          ],
          [
           "The Symbiant Re:Union"
          ],
          [
           "SPORE™ Creepy & Cute Parts Pack"
          ],
          [
           "Detective Girl of the Steam City"
          ],
          [
           "Last Day of June"
          ],
          [
           "Vanquish"
          ],
          [
           "Iron Lung"
          ],
          [
           "Battlezone: Combat Commander"
          ],
          [
           "Beholder"
          ],
          [
           "Quake 4"
          ],
          [
           "The Citadel"
          ],
          [
           "Supreme Commander"
          ],
          [
           "NORCO"
          ],
          [
           "Clockwork Tales: Of Glass and Ink"
          ],
          [
           "while True: learn()"
          ],
          [
           "Chaos on Deponia"
          ],
          [
           "Deponia Doomsday"
          ],
          [
           "SteamWorld Dig"
          ],
          [
           "Beholder 2"
          ],
          [
           "ANNO: Mutationem"
          ],
          [
           "Dreamfall: The Longest Journey"
          ],
          [
           "Chorus"
          ],
          [
           "Space Prison"
          ],
          [
           "Bears In Space"
          ]
         ],
         "hovertemplate": "Nacechowanie recenzji=Bardzo pozytywne<br>Cena (zł)=%{x}<br>Liczba recenzji=%{y}<br>Tytuł=%{customdata[0]}<extra></extra>",
         "legendgroup": "Bardzo pozytywne",
         "marker": {
          "color": "lightgreen",
          "symbol": "circle"
         },
         "mode": "markers",
         "name": "Bardzo pozytywne",
         "orientation": "v",
         "showlegend": true,
         "type": "scatter",
         "x": [
          89.55,
          0,
          10.79,
          157.49,
          42.25,
          45.86,
          184.99,
          214.99,
          26.56,
          91.99,
          13.89,
          72.59,
          229.99,
          84.5,
          35.74,
          107.99,
          31.75,
          109.99,
          89.99,
          22.99,
          49.75,
          26.99,
          35.5,
          45.86,
          57.19,
          55.99,
          259,
          37.2,
          59.6,
          99.6,
          26.98,
          107.99,
          104.99,
          79.99,
          15.6,
          0,
          15.99,
          72.99,
          29.99,
          129.99,
          77.99,
          27.98,
          69.99,
          9.19,
          199.99,
          114.99,
          67.99,
          274.99,
          68.64,
          40.99,
          149.99,
          12.6,
          269.9,
          54.45,
          65.99,
          12.6,
          229,
          119.9,
          68.99,
          110.99,
          219,
          254.8,
          79,
          0,
          39.99,
          29.99,
          45.99,
          109,
          78.99,
          231.99,
          32.24,
          107.46,
          43.19,
          95.5,
          59.99,
          29.85,
          36.79,
          159.99,
          208.49,
          91.99,
          13.98,
          107.99,
          13.98,
          71.49,
          91.99,
          71.99,
          32.39,
          68.7,
          44.99,
          47.2,
          49.99,
          91.06,
          41.99,
          21.24,
          107.99,
          94.99,
          53.99,
          91.99,
          35.99,
          89.99,
          0,
          13.48,
          34.99,
          32.49,
          99,
          0,
          77.99,
          36.79,
          71.99,
          27.59,
          69.99,
          45.99,
          26.99,
          54.99,
          184.99,
          35.99,
          100,
          100,
          124,
          122.99,
          44.99,
          44.99,
          48.13,
          19.99,
          14.29,
          9.99,
          17.99,
          10.79,
          45.99,
          89.99,
          22.99,
          39.99,
          13.48,
          67.52,
          50,
          75,
          17.47,
          161.99,
          52.19,
          138.99,
          40.99,
          67.99,
          100,
          39.9,
          199,
          91.99,
          100,
          100,
          22,
          159.99,
          36.99,
          21.59,
          91.99,
          91.99,
          44.99,
          44.22,
          21.8,
          38.39,
          41.91,
          82.99,
          91.99,
          27.5,
          45.99,
          100,
          79.99,
          19.9,
          79.9,
          91.99,
          91.99,
          91.99,
          184.99,
          71.99,
          71.99,
          44.99,
          71.99,
          35.74,
          35.74,
          34.97,
          138.99,
          34.68,
          45.99,
          7.19,
          82.79,
          8.39,
          31.99,
          125,
          124,
          0,
          29.97,
          119,
          114.99,
          27.96,
          9.19,
          22.99,
          42.99,
          27.49,
          99,
          99,
          107.99,
          107.99,
          74.99,
          53.99,
          12.45,
          59.99,
          32.39,
          67.99,
          94,
          91.99,
          45.99,
          91.99,
          91.99,
          45.99,
          79.99,
          19.99,
          91.99,
          21.99,
          89.99,
          17.59,
          10.99,
          27.99,
          25.2,
          22.99,
          22.99,
          77.99,
          82.99,
          13.49,
          91.99,
          73.59,
          71.99,
          13.49,
          18.19,
          91.99,
          10.99,
          67.6,
          71.99,
          89.99,
          35.99,
          71.99,
          63.99,
          24.99,
          62.99,
          10.79,
          17.99,
          13.49,
          9.19,
          69.49,
          15.74,
          34.99,
          13.98,
          53.99,
          17.99,
          26.7,
          25.89,
          71.99,
          63.99,
          64.99,
          53.99,
          7.99,
          59.99,
          67.99,
          46.99,
          7.19,
          7.19,
          7.19,
          82.99,
          49.49,
          35.59,
          21.12,
          70,
          41.4
         ],
         "xaxis": "x3",
         "y": [
          717578,
          183495,
          612177,
          108301,
          169973,
          86067,
          124476,
          27610,
          13989,
          267266,
          98288,
          26520,
          79641,
          24733,
          16363,
          42756,
          101357,
          256618,
          21481,
          41897,
          215389,
          48750,
          6165,
          107998,
          100652,
          22852,
          13811,
          43808,
          14253,
          18625,
          132838,
          10814,
          39732,
          4742,
          7757,
          65164,
          7269,
          38741,
          10836,
          12114,
          1194,
          54108,
          49377,
          60524,
          19071,
          30436,
          48068,
          34349,
          2734,
          2870,
          957,
          79958,
          41194,
          16087,
          4669,
          58984,
          34871,
          18784,
          1886,
          514,
          68771,
          136348,
          256332,
          550767,
          14905,
          95008,
          10614,
          14539,
          1305,
          5200,
          2847,
          1451,
          50600,
          3404,
          2002,
          41765,
          2640,
          128,
          246721,
          587,
          58329,
          10122,
          21331,
          15930,
          17709,
          15230,
          4615,
          3257,
          13628,
          446,
          3108,
          484,
          17463,
          17045,
          1916,
          2597,
          16571,
          1459,
          7977,
          40525,
          72445,
          12370,
          10258,
          2552,
          7468,
          22546,
          652,
          2970,
          6281,
          2309,
          13065,
          26229,
          3017,
          7065,
          4009,
          16822,
          4402,
          7569,
          39083,
          647,
          1039,
          2887,
          1540,
          10389,
          7498,
          11276,
          19093,
          5426,
          45071,
          15140,
          31598,
          2825,
          29060,
          23437,
          32876,
          4528,
          3480,
          6290,
          232,
          8180,
          826,
          12079,
          13217,
          3124,
          226,
          9982,
          776,
          7046,
          81,
          46831,
          4265,
          82811,
          3836,
          182,
          16831,
          1326,
          10228,
          625,
          1816,
          2930,
          86,
          342,
          3892,
          3875,
          7324,
          7112,
          21610,
          9745,
          954,
          199,
          7135,
          7171,
          80,
          11350,
          36261,
          42972,
          20453,
          14692,
          50,
          379,
          289,
          3878,
          484,
          2248,
          693,
          203,
          30001,
          73153,
          9075,
          553,
          12171,
          21138,
          10286,
          77,
          1332,
          9088,
          5667,
          4756,
          7865,
          3873,
          1880,
          1112,
          394,
          12642,
          3536,
          1081,
          50601,
          6362,
          20540,
          11599,
          718,
          363,
          12629,
          24043,
          1067,
          320,
          38835,
          23398,
          9197,
          655,
          3324,
          8177,
          228,
          1130,
          239,
          1685,
          2296,
          572,
          110,
          13872,
          289,
          889,
          1621,
          7858,
          950,
          1340,
          34827,
          3910,
          2229,
          490,
          2784,
          3017,
          50,
          345,
          1829,
          2816,
          387,
          213,
          1847,
          1767,
          2724,
          6127,
          7349,
          771,
          19309,
          2597,
          1327,
          2060,
          2140,
          598,
          6569,
          2192,
          2624,
          5620,
          5701,
          5082,
          996,
          3196,
          182,
          284
         ],
         "yaxis": "y3"
        },
        {
         "customdata": [
          [
           "Space Engineers 2"
          ],
          [
           "Dying Light 2 Stay Human: Reloaded Edition"
          ],
          [
           "HELLDIVERS™ 2"
          ],
          [
           "Dead Island 2"
          ],
          [
           "ICARUS"
          ],
          [
           "New Cycle"
          ],
          [
           "Frostpunk 2"
          ],
          [
           "Once Human"
          ],
          [
           "Fallout 76"
          ],
          [
           "Warhammer 40,000: Darktide"
          ],
          [
           "Infection Free Zone"
          ],
          [
           "The Last of Us™ Part I"
          ],
          [
           "Destiny 2"
          ],
          [
           "Star Wars Outlaws"
          ],
          [
           "Metro Awakening"
          ],
          [
           "Horizon Zero Dawn™ Remastered"
          ],
          [
           "GUNDAM BREAKER 4"
          ],
          [
           "Halo Infinite"
          ],
          [
           "Amenti"
          ],
          [
           "Snowbreak: Containment Zone"
          ],
          [
           "Iron Harvest"
          ],
          [
           "Mass Effect: Andromeda - ulepszenie Deluxe"
          ],
          [
           "Elite Dangerous"
          ],
          [
           "Dead Space™ 3"
          ],
          [
           "Empire of the Ants"
          ],
          [
           "Tower of Fantasy"
          ],
          [
           "Dune: Spice Wars"
          ],
          [
           "Scorn"
          ],
          [
           "Battlefleet Gothic: Armada 2"
          ],
          [
           "IDUN"
          ],
          [
           "Crossout"
          ],
          [
           "Immortals of Aveum™"
          ],
          [
           "Age of Water"
          ],
          [
           "Homeworld: Deserts of Kharak"
          ],
          [
           "The Surge 2"
          ],
          [
           "Hacker Simulator"
          ],
          [
           "Ashes of the Singularity: Escalation"
          ],
          [
           "Space Colony: Steam Edition"
          ],
          [
           "DUCKSIDE"
          ],
          [
           "Terraforming Mars"
          ],
          [
           "Bad 2 Bad: Apocalypse"
          ],
          [
           "CryoFall"
          ],
          [
           "The Ascent"
          ],
          [
           "Torment: Tides of Numenera"
          ],
          [
           "Fargone"
          ],
          [
           "Empyrion - Galactic Survival"
          ],
          [
           "Among Us VR"
          ],
          [
           "Gears Tactics"
          ],
          [
           "FRONT MISSION 1st: Remake"
          ],
          [
           "Ostranauts"
          ],
          [
           "Phoenix Point"
          ],
          [
           "Starpoint Gemini Warlords"
          ],
          [
           "The Surge"
          ],
          [
           "Reverse Collapse: Code Name Bakery"
          ],
          [
           "X3: Reunion"
          ],
          [
           "Miasma Chronicles"
          ],
          [
           "Warhammer 40,000: Chaos Gate - Daemonhunters"
          ],
          [
           "Silica"
          ],
          [
           "ENDLESS™ Space - Definitive Edition"
          ],
          [
           "The Expanse: A Telltale Series"
          ],
          [
           "Will To Live Online"
          ],
          [
           "Crysis Remastered"
          ],
          [
           "Sins of a Solar Empire: Trinity®"
          ],
          [
           "Dark Sky"
          ],
          [
           "The Complex"
          ],
          [
           "Fallout Tactics: Brotherhood of Steel"
          ],
          [
           "Earth 2150 Trilogy"
          ],
          [
           "Thief"
          ],
          [
           "STAR OCEAN™ - THE LAST HOPE -™ 4K & Full HD Remaster"
          ],
          [
           "Moon Mystery"
          ],
          [
           "Farlight 84"
          ],
          [
           "Survive the Nights"
          ],
          [
           "Hidden Deep"
          ],
          [
           "STAR WARS™ Battlefront"
          ],
          [
           "Star Dynasties"
          ],
          [
           "HumanitZ"
          ],
          [
           "Lost Planet™: Extreme Condition"
          ],
          [
           "Swarm the City: Zombie Evolved"
          ],
          [
           "Scars Above"
          ],
          [
           "Dark Light"
          ],
          [
           "ZONE OF THE ENDERS THE 2nd RUNNER : M∀RS / アヌビス ゾーン・オブ・エンダーズ : マーズ"
          ],
          [
           "Hellwatch"
          ],
          [
           "Oxygen"
          ],
          [
           "We Happy Few"
          ],
          [
           "Zanki Zero: Last Beginning"
          ],
          [
           "Tom Clancy’s The Division® 2"
          ]
         ],
         "hovertemplate": "Nacechowanie recenzji=W większości pozytywne<br>Cena (zł)=%{x}<br>Liczba recenzji=%{y}<br>Tytuł=%{customdata[0]}<extra></extra>",
         "legendgroup": "W większości pozytywne",
         "marker": {
          "color": "yellow",
          "symbol": "circle"
         },
         "mode": "markers",
         "name": "W większości pozytywne",
         "orientation": "v",
         "showlegend": true,
         "type": "scatter",
         "x": [
          138.99,
          65.99,
          169,
          105.63,
          161.99,
          49.99,
          124.79,
          0,
          169.9,
          84.99,
          79.99,
          259,
          0,
          289.9,
          111.3,
          219,
          207.2,
          0,
          31.99,
          0,
          126.74,
          28.48,
          91.99,
          13.98,
          169,
          0,
          156.99,
          34.75,
          13.99,
          61.19,
          0,
          41.98,
          64.5,
          17.99,
          14.99,
          89.99,
          138.99,
          34.99,
          67.99,
          91.99,
          68.99,
          7.99,
          31,
          31.24,
          54.99,
          35.59,
          17.99,
          49.17,
          161.99,
          73.59,
          89.99,
          124.99,
          6.49,
          91.99,
          45.99,
          81.95,
          161.99,
          89.99,
          8.99,
          114.99,
          0,
          107.99,
          45.99,
          27.59,
          23.11,
          44.99,
          45.99,
          89.9,
          21.59,
          59.99,
          0,
          91.99,
          32.39,
          20.97,
          143.48,
          59.99,
          14.49,
          17.99,
          25.34,
          49.91,
          23.8,
          45.99,
          10.99,
          44.75,
          21.49,
          159.9
         ],
         "xaxis": "x3",
         "y": [
          370,
          137563,
          707047,
          8005,
          35562,
          1897,
          15030,
          117783,
          64512,
          87510,
          11449,
          39827,
          618035,
          2262,
          1786,
          2413,
          2901,
          174836,
          506,
          7057,
          10660,
          13861,
          74276,
          9633,
          631,
          10469,
          10237,
          10589,
          8557,
          279,
          62815,
          1828,
          1954,
          7324,
          6259,
          990,
          2521,
          506,
          1993,
          4636,
          597,
          4517,
          17561,
          1948,
          386,
          28037,
          2291,
          6737,
          455,
          1531,
          4499,
          3012,
          7659,
          4144,
          536,
          1487,
          9677,
          3904,
          6511,
          1512,
          17270,
          11110,
          660,
          39,
          2977,
          2046,
          418,
          16525,
          1407,
          378,
          49153,
          3076,
          3512,
          4383,
          364,
          3358,
          1529,
          200,
          1960,
          561,
          861,
          16,
          661,
          10639,
          587,
          17357
         ],
         "yaxis": "y3"
        },
        {
         "customdata": [
          [
           "Boomcestors"
          ]
         ],
         "hovertemplate": "Nacechowanie recenzji=Pozytywne<br>Cena (zł)=%{x}<br>Liczba recenzji=%{y}<br>Tytuł=%{customdata[0]}<extra></extra>",
         "legendgroup": "Pozytywne",
         "marker": {
          "color": "yellow",
          "symbol": "circle"
         },
         "mode": "markers",
         "name": "Pozytywne",
         "orientation": "v",
         "showlegend": true,
         "type": "scatter",
         "x": [
          21.99
         ],
         "xaxis": "x3",
         "y": [
          10
         ],
         "yaxis": "y3"
        },
        {
         "customdata": [
          [
           "STAR WARS Jedi: Ocalały™"
          ],
          [
           "Apex Legends™"
          ],
          [
           "The First Descendant"
          ],
          [
           "War Robots"
          ],
          [
           "Build Master: MarsVille"
          ],
          [
           "Battlefield™ 2042"
          ],
          [
           "Hyper Light Breaker"
          ],
          [
           "Warhammer 40,000: Dawn of War III"
          ],
          [
           "Outpost: Infinity Siege"
          ],
          [
           "ENDLESS™ Dungeon"
          ],
          [
           "FINAL FANTASY VII EVER CRISIS"
          ],
          [
           "Nova: Space Armada"
          ],
          [
           "STAR OCEAN THE DIVINE FORCE"
          ],
          [
           "Realpolitiks 3: Earth and Beyond"
          ],
          [
           "STAR WARS™: Squadrons"
          ],
          [
           "Avatar: Frontiers of Pandora™"
          ],
          [
           "Armored Warfare"
          ],
          [
           "Grim"
          ],
          [
           "DOOM VFR"
          ],
          [
           "CYGNI: All Guns Blazing"
          ],
          [
           "Warhammer 40,000: Warpforge"
          ],
          [
           "Necromunda: Underhive Wars"
          ],
          [
           "Beholder 3"
          ],
          [
           "Computer Repair Shop"
          ],
          [
           "Echocalypse: The Scarlet Covenant"
          ],
          [
           "Undawn"
          ],
          [
           "FRONT MISSION 2: Remake"
          ],
          [
           "Starborne: Frontiers"
          ],
          [
           "KeepUp Survival"
          ],
          [
           "PolyZ"
          ],
          [
           "Metal Slug: Awakening"
          ],
          [
           "Aquatico"
          ],
          [
           "Road 96: Mile 0"
          ],
          [
           "CHRONO CROSS: THE RADICAL DREAMERS EDITION"
          ],
          [
           "Border Officer"
          ],
          [
           "Stay Out"
          ],
          [
           "Aliens: Colonial Marines Collection"
          ],
          [
           "StarDrive"
          ],
          [
           "Necromunda: Hired Gun"
          ],
          [
           "Capes"
          ],
          [
           "Warhammer The Horus Heresy: Legions"
          ],
          [
           "No One Survived"
          ],
          [
           "Star Trek: Infinite"
          ],
          [
           "ROBOTICS;NOTES DaSH"
          ],
          [
           "Syberia 3"
          ],
          [
           "Life Not Supported"
          ],
          [
           "Battlefleet Gothic: Armada"
          ],
          [
           "StarMade"
          ],
          [
           "Space Hulk: Tactics"
          ],
          [
           "Killing Floor: Incursion"
          ]
         ],
         "hovertemplate": "Nacechowanie recenzji=Mieszane<br>Cena (zł)=%{x}<br>Liczba recenzji=%{y}<br>Tytuł=%{customdata[0]}<extra></extra>",
         "legendgroup": "Mieszane",
         "marker": {
          "color": "orange",
          "symbol": "circle"
         },
         "mode": "markers",
         "name": "Mieszane",
         "orientation": "v",
         "showlegend": true,
         "type": "scatter",
         "x": [
          74.97,
          0,
          0,
          0,
          0,
          40.48,
          114.99,
          35.8,
          114.99,
          35.6,
          0,
          0,
          99.6,
          109.49,
          17.99,
          289.9,
          0,
          82.79,
          14.75,
          45.86,
          0,
          6.99,
          82.99,
          22.99,
          0,
          0,
          139.99,
          0,
          40.99,
          21.17,
          0,
          89.99,
          13.74,
          27.99,
          11.49,
          0,
          107.99,
          107.99,
          29.99,
          84.5,
          0,
          50.69,
          138.99,
          24.99,
          63,
          86.99,
          7.49,
          53.99,
          7.49,
          10.79
         ],
         "xaxis": "x3",
         "y": [
          56158,
          976753,
          97779,
          24994,
          182,
          227207,
          2526,
          13017,
          10843,
          2648,
          2660,
          42,
          1556,
          86,
          23679,
          2455,
          4757,
          78,
          2164,
          205,
          2535,
          2571,
          1711,
          449,
          240,
          6221,
          203,
          194,
          582,
          38,
          2927,
          748,
          1340,
          1754,
          1206,
          24108,
          7169,
          1240,
          5295,
          342,
          2836,
          6013,
          2804,
          201,
          2894,
          134,
          4875,
          2180,
          833,
          632
         ],
         "yaxis": "y3"
        },
        {
         "customdata": [
          [
           "Overwatch® 2"
          ]
         ],
         "hovertemplate": "Nacechowanie recenzji=W większości negatywne<br>Cena (zł)=%{x}<br>Liczba recenzji=%{y}<br>Tytuł=%{customdata[0]}<extra></extra>",
         "legendgroup": "W większości negatywne",
         "marker": {
          "color": "red",
          "symbol": "circle"
         },
         "mode": "markers",
         "name": "W większości negatywne",
         "orientation": "v",
         "showlegend": true,
         "type": "scatter",
         "x": [
          0
         ],
         "xaxis": "x3",
         "y": [
          325520
         ],
         "yaxis": "y3"
        },
        {
         "customdata": [
          [
           "Command & Conquer™ 4 Tyberyjski zmierzch"
          ]
         ],
         "hovertemplate": "Nacechowanie recenzji=Przytłaczająco negatywne<br>Cena (zł)=%{x}<br>Liczba recenzji=%{y}<br>Tytuł=%{customdata[0]}<extra></extra>",
         "legendgroup": "Przytłaczająco negatywne",
         "marker": {
          "color": "darkred",
          "symbol": "circle"
         },
         "mode": "markers",
         "name": "Przytłaczająco negatywne",
         "orientation": "v",
         "showlegend": true,
         "type": "scatter",
         "x": [
          100
         ],
         "xaxis": "x3",
         "y": [
          4076
         ],
         "yaxis": "y3"
        },
        {
         "customdata": [
          [
           "SCP: Fragmented Minds"
          ],
          [
           "Horizons: The End Of Words"
          ],
          [
           "Battlecruiser Generations"
          ]
         ],
         "hovertemplate": "Nacechowanie recenzji=Brak informacji<br>Cena (zł)=%{x}<br>Liczba recenzji=%{y}<br>Tytuł=%{customdata[0]}<extra></extra>",
         "legendgroup": "Brak informacji",
         "marker": {
          "color": "#B6E880",
          "symbol": "circle"
         },
         "mode": "markers",
         "name": "Brak informacji",
         "orientation": "v",
         "showlegend": true,
         "type": "scatter",
         "x": [
          26.99,
          24.75,
          25.49
         ],
         "xaxis": "x3",
         "y": [
          0,
          0,
          0
         ],
         "yaxis": "y3"
        },
        {
         "marker": {
          "color": "#90CAF9"
         },
         "name": "Średnia ocena",
         "type": "bar",
         "x": [
          "Detektywistyczne",
          "LEGO",
          "Gra w boga",
          "Zabawne",
          "RTS akcji",
          "Komediowe",
          "Rekreacyjne",
          "Symulator chodzenia",
          "Symulator polityczny",
          "Historia alternatywna",
          "MMO",
          "Zręcznościowe",
          "Drużynowe RPG",
          "Latanie",
          "Wojskowe",
          "Cyberpunk",
          "Otwarty świat",
          "RPG",
          "Jednoosobowe",
          "Symulatory"
         ],
         "xaxis": "x4",
         "y": [
          3,
          3,
          3,
          3,
          3,
          3,
          2.988109891836681,
          2.9124211627071013,
          2.879260461505892,
          2.8736235272239417,
          2.8451190108191655,
          2.6986790431988577,
          2.0564343736639588,
          1.9331140597895875,
          1.186167558786079,
          null,
          null,
          null,
          null,
          null
         ],
         "yaxis": "y4"
        },
        {
         "line": {
          "dash": "dot",
          "width": 2
         },
         "marker": {
          "color": "red",
          "size": 10
         },
         "mode": "lines+markers",
         "name": "Średnia cena",
         "type": "scatter",
         "x": [
          "Detektywistyczne",
          "LEGO",
          "Gra w boga",
          "Zabawne",
          "RTS akcji",
          "Komediowe",
          "Rekreacyjne",
          "Symulator chodzenia",
          "Symulator polityczny",
          "Historia alternatywna",
          "MMO",
          "Zręcznościowe",
          "Drużynowe RPG",
          "Latanie",
          "Wojskowe",
          "Cyberpunk",
          "Otwarty świat",
          "RPG",
          "Jednoosobowe",
          "Symulatory"
         ],
         "xaxis": "x4",
         "y": [
          53.415000000000006,
          142.99333333333334,
          45.31666666666666,
          39.83,
          40.24,
          20.949999999999996,
          33.36625,
          57.74666666666667,
          60.239999999999995,
          71.33,
          22.9975,
          46.114000000000004,
          27.544999999999998,
          56.94,
          89.82000000000001,
          58.61,
          79.69388059701484,
          68.11293103448267,
          65.37347222222212,
          70.13121951219505
         ],
         "yaxis": "y4"
        },
        {
         "marker": {
          "color": "#90CAF9"
         },
         "name": "Średnia ocena",
         "type": "bar",
         "x": [
          "Detektywistyczne",
          "LEGO",
          "Gra w boga",
          "Zabawne",
          "RTS akcji",
          "Komediowe",
          "Rekreacyjne",
          "Symulator chodzenia",
          "Symulator polityczny",
          "Historia alternatywna",
          "MMO",
          "Zręcznościowe",
          "Drużynowe RPG",
          "Latanie",
          "Wojskowe",
          "Cyberpunk",
          "Otwarty świat",
          "RPG",
          "Jednoosobowe",
          "Symulatory"
         ],
         "xaxis": "x4",
         "y": [
          3,
          3,
          3,
          3,
          3,
          3,
          2.988109891836681,
          2.9124211627071013,
          2.879260461505892,
          2.8736235272239417,
          2.8451190108191655,
          2.6986790431988577,
          2.0564343736639588,
          1.9331140597895875,
          1.186167558786079,
          null,
          null,
          null,
          null,
          null
         ],
         "yaxis": "y4"
        },
        {
         "line": {
          "dash": "dot",
          "width": 2
         },
         "marker": {
          "color": "red",
          "size": 10
         },
         "mode": "lines+markers",
         "name": "Średnia cena",
         "type": "scatter",
         "x": [
          "Detektywistyczne",
          "LEGO",
          "Gra w boga",
          "Zabawne",
          "RTS akcji",
          "Komediowe",
          "Rekreacyjne",
          "Symulator chodzenia",
          "Symulator polityczny",
          "Historia alternatywna",
          "MMO",
          "Zręcznościowe",
          "Drużynowe RPG",
          "Latanie",
          "Wojskowe",
          "Cyberpunk",
          "Otwarty świat",
          "RPG",
          "Jednoosobowe",
          "Symulatory"
         ],
         "xaxis": "x4",
         "y": [
          53.415000000000006,
          142.99333333333334,
          45.31666666666666,
          39.83,
          40.24,
          20.949999999999996,
          33.36625,
          57.74666666666667,
          60.239999999999995,
          71.33,
          22.9975,
          46.114000000000004,
          27.544999999999998,
          56.94,
          89.82000000000001,
          58.61,
          79.69388059701484,
          68.11293103448267,
          65.37347222222212,
          70.13121951219505
         ],
         "yaxis": "y4"
        }
       ],
       "layout": {
        "annotations": [
         {
          "font": {
           "size": 16
          },
          "showarrow": false,
          "text": "Liczba gier i recenzji (Fig1)",
          "x": 0.225,
          "xanchor": "center",
          "xref": "paper",
          "y": 1,
          "yanchor": "bottom",
          "yref": "paper"
         },
         {
          "font": {
           "size": 16
          },
          "showarrow": false,
          "text": "Ceny w zależności od recenzji (Fig2)",
          "x": 0.225,
          "xanchor": "center",
          "xref": "paper",
          "y": 0.6111111111111112,
          "yanchor": "bottom",
          "yref": "paper"
         },
         {
          "font": {
           "size": 16
          },
          "showarrow": false,
          "text": "Popularność tagów w czasie (Fig3)",
          "x": 0.775,
          "xanchor": "center",
          "xref": "paper",
          "y": 0.6111111111111112,
          "yanchor": "bottom",
          "yref": "paper"
         },
         {
          "font": {
           "size": 16
          },
          "showarrow": false,
          "text": "Tagi z najlepszymi ocenami (Fig6)",
          "x": 0.225,
          "xanchor": "center",
          "xref": "paper",
          "y": 0.22222222222222224,
          "yanchor": "bottom",
          "yref": "paper"
         }
        ],
        "height": 1200,
        "showlegend": true,
        "template": {
         "data": {
          "bar": [
           {
            "error_x": {
             "color": "#2a3f5f"
            },
            "error_y": {
             "color": "#2a3f5f"
            },
            "marker": {
             "line": {
              "color": "#E5ECF6",
              "width": 0.5
             },
             "pattern": {
              "fillmode": "overlay",
              "size": 10,
              "solidity": 0.2
             }
            },
            "type": "bar"
           }
          ],
          "barpolar": [
           {
            "marker": {
             "line": {
              "color": "#E5ECF6",
              "width": 0.5
             },
             "pattern": {
              "fillmode": "overlay",
              "size": 10,
              "solidity": 0.2
             }
            },
            "type": "barpolar"
           }
          ],
          "carpet": [
           {
            "aaxis": {
             "endlinecolor": "#2a3f5f",
             "gridcolor": "white",
             "linecolor": "white",
             "minorgridcolor": "white",
             "startlinecolor": "#2a3f5f"
            },
            "baxis": {
             "endlinecolor": "#2a3f5f",
             "gridcolor": "white",
             "linecolor": "white",
             "minorgridcolor": "white",
             "startlinecolor": "#2a3f5f"
            },
            "type": "carpet"
           }
          ],
          "choropleth": [
           {
            "colorbar": {
             "outlinewidth": 0,
             "ticks": ""
            },
            "type": "choropleth"
           }
          ],
          "contour": [
           {
            "colorbar": {
             "outlinewidth": 0,
             "ticks": ""
            },
            "colorscale": [
             [
              0,
              "#0d0887"
             ],
             [
              0.1111111111111111,
              "#46039f"
             ],
             [
              0.2222222222222222,
              "#7201a8"
             ],
             [
              0.3333333333333333,
              "#9c179e"
             ],
             [
              0.4444444444444444,
              "#bd3786"
             ],
             [
              0.5555555555555556,
              "#d8576b"
             ],
             [
              0.6666666666666666,
              "#ed7953"
             ],
             [
              0.7777777777777778,
              "#fb9f3a"
             ],
             [
              0.8888888888888888,
              "#fdca26"
             ],
             [
              1,
              "#f0f921"
             ]
            ],
            "type": "contour"
           }
          ],
          "contourcarpet": [
           {
            "colorbar": {
             "outlinewidth": 0,
             "ticks": ""
            },
            "type": "contourcarpet"
           }
          ],
          "heatmap": [
           {
            "colorbar": {
             "outlinewidth": 0,
             "ticks": ""
            },
            "colorscale": [
             [
              0,
              "#0d0887"
             ],
             [
              0.1111111111111111,
              "#46039f"
             ],
             [
              0.2222222222222222,
              "#7201a8"
             ],
             [
              0.3333333333333333,
              "#9c179e"
             ],
             [
              0.4444444444444444,
              "#bd3786"
             ],
             [
              0.5555555555555556,
              "#d8576b"
             ],
             [
              0.6666666666666666,
              "#ed7953"
             ],
             [
              0.7777777777777778,
              "#fb9f3a"
             ],
             [
              0.8888888888888888,
              "#fdca26"
             ],
             [
              1,
              "#f0f921"
             ]
            ],
            "type": "heatmap"
           }
          ],
          "heatmapgl": [
           {
            "colorbar": {
             "outlinewidth": 0,
             "ticks": ""
            },
            "colorscale": [
             [
              0,
              "#0d0887"
             ],
             [
              0.1111111111111111,
              "#46039f"
             ],
             [
              0.2222222222222222,
              "#7201a8"
             ],
             [
              0.3333333333333333,
              "#9c179e"
             ],
             [
              0.4444444444444444,
              "#bd3786"
             ],
             [
              0.5555555555555556,
              "#d8576b"
             ],
             [
              0.6666666666666666,
              "#ed7953"
             ],
             [
              0.7777777777777778,
              "#fb9f3a"
             ],
             [
              0.8888888888888888,
              "#fdca26"
             ],
             [
              1,
              "#f0f921"
             ]
            ],
            "type": "heatmapgl"
           }
          ],
          "histogram": [
           {
            "marker": {
             "pattern": {
              "fillmode": "overlay",
              "size": 10,
              "solidity": 0.2
             }
            },
            "type": "histogram"
           }
          ],
          "histogram2d": [
           {
            "colorbar": {
             "outlinewidth": 0,
             "ticks": ""
            },
            "colorscale": [
             [
              0,
              "#0d0887"
             ],
             [
              0.1111111111111111,
              "#46039f"
             ],
             [
              0.2222222222222222,
              "#7201a8"
             ],
             [
              0.3333333333333333,
              "#9c179e"
             ],
             [
              0.4444444444444444,
              "#bd3786"
             ],
             [
              0.5555555555555556,
              "#d8576b"
             ],
             [
              0.6666666666666666,
              "#ed7953"
             ],
             [
              0.7777777777777778,
              "#fb9f3a"
             ],
             [
              0.8888888888888888,
              "#fdca26"
             ],
             [
              1,
              "#f0f921"
             ]
            ],
            "type": "histogram2d"
           }
          ],
          "histogram2dcontour": [
           {
            "colorbar": {
             "outlinewidth": 0,
             "ticks": ""
            },
            "colorscale": [
             [
              0,
              "#0d0887"
             ],
             [
              0.1111111111111111,
              "#46039f"
             ],
             [
              0.2222222222222222,
              "#7201a8"
             ],
             [
              0.3333333333333333,
              "#9c179e"
             ],
             [
              0.4444444444444444,
              "#bd3786"
             ],
             [
              0.5555555555555556,
              "#d8576b"
             ],
             [
              0.6666666666666666,
              "#ed7953"
             ],
             [
              0.7777777777777778,
              "#fb9f3a"
             ],
             [
              0.8888888888888888,
              "#fdca26"
             ],
             [
              1,
              "#f0f921"
             ]
            ],
            "type": "histogram2dcontour"
           }
          ],
          "mesh3d": [
           {
            "colorbar": {
             "outlinewidth": 0,
             "ticks": ""
            },
            "type": "mesh3d"
           }
          ],
          "parcoords": [
           {
            "line": {
             "colorbar": {
              "outlinewidth": 0,
              "ticks": ""
             }
            },
            "type": "parcoords"
           }
          ],
          "pie": [
           {
            "automargin": true,
            "type": "pie"
           }
          ],
          "scatter": [
           {
            "fillpattern": {
             "fillmode": "overlay",
             "size": 10,
             "solidity": 0.2
            },
            "type": "scatter"
           }
          ],
          "scatter3d": [
           {
            "line": {
             "colorbar": {
              "outlinewidth": 0,
              "ticks": ""
             }
            },
            "marker": {
             "colorbar": {
              "outlinewidth": 0,
              "ticks": ""
             }
            },
            "type": "scatter3d"
           }
          ],
          "scattercarpet": [
           {
            "marker": {
             "colorbar": {
              "outlinewidth": 0,
              "ticks": ""
             }
            },
            "type": "scattercarpet"
           }
          ],
          "scattergeo": [
           {
            "marker": {
             "colorbar": {
              "outlinewidth": 0,
              "ticks": ""
             }
            },
            "type": "scattergeo"
           }
          ],
          "scattergl": [
           {
            "marker": {
             "colorbar": {
              "outlinewidth": 0,
              "ticks": ""
             }
            },
            "type": "scattergl"
           }
          ],
          "scattermapbox": [
           {
            "marker": {
             "colorbar": {
              "outlinewidth": 0,
              "ticks": ""
             }
            },
            "type": "scattermapbox"
           }
          ],
          "scatterpolar": [
           {
            "marker": {
             "colorbar": {
              "outlinewidth": 0,
              "ticks": ""
             }
            },
            "type": "scatterpolar"
           }
          ],
          "scatterpolargl": [
           {
            "marker": {
             "colorbar": {
              "outlinewidth": 0,
              "ticks": ""
             }
            },
            "type": "scatterpolargl"
           }
          ],
          "scatterternary": [
           {
            "marker": {
             "colorbar": {
              "outlinewidth": 0,
              "ticks": ""
             }
            },
            "type": "scatterternary"
           }
          ],
          "surface": [
           {
            "colorbar": {
             "outlinewidth": 0,
             "ticks": ""
            },
            "colorscale": [
             [
              0,
              "#0d0887"
             ],
             [
              0.1111111111111111,
              "#46039f"
             ],
             [
              0.2222222222222222,
              "#7201a8"
             ],
             [
              0.3333333333333333,
              "#9c179e"
             ],
             [
              0.4444444444444444,
              "#bd3786"
             ],
             [
              0.5555555555555556,
              "#d8576b"
             ],
             [
              0.6666666666666666,
              "#ed7953"
             ],
             [
              0.7777777777777778,
              "#fb9f3a"
             ],
             [
              0.8888888888888888,
              "#fdca26"
             ],
             [
              1,
              "#f0f921"
             ]
            ],
            "type": "surface"
           }
          ],
          "table": [
           {
            "cells": {
             "fill": {
              "color": "#EBF0F8"
             },
             "line": {
              "color": "white"
             }
            },
            "header": {
             "fill": {
              "color": "#C8D4E3"
             },
             "line": {
              "color": "white"
             }
            },
            "type": "table"
           }
          ]
         },
         "layout": {
          "annotationdefaults": {
           "arrowcolor": "#2a3f5f",
           "arrowhead": 0,
           "arrowwidth": 1
          },
          "autotypenumbers": "strict",
          "coloraxis": {
           "colorbar": {
            "outlinewidth": 0,
            "ticks": ""
           }
          },
          "colorscale": {
           "diverging": [
            [
             0,
             "#8e0152"
            ],
            [
             0.1,
             "#c51b7d"
            ],
            [
             0.2,
             "#de77ae"
            ],
            [
             0.3,
             "#f1b6da"
            ],
            [
             0.4,
             "#fde0ef"
            ],
            [
             0.5,
             "#f7f7f7"
            ],
            [
             0.6,
             "#e6f5d0"
            ],
            [
             0.7,
             "#b8e186"
            ],
            [
             0.8,
             "#7fbc41"
            ],
            [
             0.9,
             "#4d9221"
            ],
            [
             1,
             "#276419"
            ]
           ],
           "sequential": [
            [
             0,
             "#0d0887"
            ],
            [
             0.1111111111111111,
             "#46039f"
            ],
            [
             0.2222222222222222,
             "#7201a8"
            ],
            [
             0.3333333333333333,
             "#9c179e"
            ],
            [
             0.4444444444444444,
             "#bd3786"
            ],
            [
             0.5555555555555556,
             "#d8576b"
            ],
            [
             0.6666666666666666,
             "#ed7953"
            ],
            [
             0.7777777777777778,
             "#fb9f3a"
            ],
            [
             0.8888888888888888,
             "#fdca26"
            ],
            [
             1,
             "#f0f921"
            ]
           ],
           "sequentialminus": [
            [
             0,
             "#0d0887"
            ],
            [
             0.1111111111111111,
             "#46039f"
            ],
            [
             0.2222222222222222,
             "#7201a8"
            ],
            [
             0.3333333333333333,
             "#9c179e"
            ],
            [
             0.4444444444444444,
             "#bd3786"
            ],
            [
             0.5555555555555556,
             "#d8576b"
            ],
            [
             0.6666666666666666,
             "#ed7953"
            ],
            [
             0.7777777777777778,
             "#fb9f3a"
            ],
            [
             0.8888888888888888,
             "#fdca26"
            ],
            [
             1,
             "#f0f921"
            ]
           ]
          },
          "colorway": [
           "#636efa",
           "#EF553B",
           "#00cc96",
           "#ab63fa",
           "#FFA15A",
           "#19d3f3",
           "#FF6692",
           "#B6E880",
           "#FF97FF",
           "#FECB52"
          ],
          "font": {
           "color": "#2a3f5f"
          },
          "geo": {
           "bgcolor": "white",
           "lakecolor": "white",
           "landcolor": "#E5ECF6",
           "showlakes": true,
           "showland": true,
           "subunitcolor": "white"
          },
          "hoverlabel": {
           "align": "left"
          },
          "hovermode": "closest",
          "mapbox": {
           "style": "light"
          },
          "paper_bgcolor": "white",
          "plot_bgcolor": "#E5ECF6",
          "polar": {
           "angularaxis": {
            "gridcolor": "white",
            "linecolor": "white",
            "ticks": ""
           },
           "bgcolor": "#E5ECF6",
           "radialaxis": {
            "gridcolor": "white",
            "linecolor": "white",
            "ticks": ""
           }
          },
          "scene": {
           "xaxis": {
            "backgroundcolor": "#E5ECF6",
            "gridcolor": "white",
            "gridwidth": 2,
            "linecolor": "white",
            "showbackground": true,
            "ticks": "",
            "zerolinecolor": "white"
           },
           "yaxis": {
            "backgroundcolor": "#E5ECF6",
            "gridcolor": "white",
            "gridwidth": 2,
            "linecolor": "white",
            "showbackground": true,
            "ticks": "",
            "zerolinecolor": "white"
           },
           "zaxis": {
            "backgroundcolor": "#E5ECF6",
            "gridcolor": "white",
            "gridwidth": 2,
            "linecolor": "white",
            "showbackground": true,
            "ticks": "",
            "zerolinecolor": "white"
           }
          },
          "shapedefaults": {
           "line": {
            "color": "#2a3f5f"
           }
          },
          "ternary": {
           "aaxis": {
            "gridcolor": "white",
            "linecolor": "white",
            "ticks": ""
           },
           "baxis": {
            "gridcolor": "white",
            "linecolor": "white",
            "ticks": ""
           },
           "bgcolor": "#E5ECF6",
           "caxis": {
            "gridcolor": "white",
            "linecolor": "white",
            "ticks": ""
           }
          },
          "title": {
           "x": 0.05
          },
          "xaxis": {
           "automargin": true,
           "gridcolor": "white",
           "linecolor": "white",
           "ticks": "",
           "title": {
            "standoff": 15
           },
           "zerolinecolor": "white",
           "zerolinewidth": 2
          },
          "yaxis": {
           "automargin": true,
           "gridcolor": "white",
           "linecolor": "white",
           "ticks": "",
           "title": {
            "standoff": 15
           },
           "zerolinecolor": "white",
           "zerolinewidth": 2
          }
         }
        },
        "title": {
         "text": "Dashboard analizy gier"
        },
        "width": 1200,
        "xaxis": {
         "anchor": "y",
         "domain": [
          0,
          0.45
         ]
        },
        "xaxis2": {
         "anchor": "y2",
         "domain": [
          0,
          0.45
         ]
        },
        "xaxis3": {
         "anchor": "y3",
         "domain": [
          0.55,
          1
         ]
        },
        "xaxis4": {
         "anchor": "y4",
         "domain": [
          0,
          0.45
         ]
        },
        "yaxis": {
         "anchor": "x",
         "domain": [
          0.7777777777777778,
          1
         ]
        },
        "yaxis2": {
         "anchor": "x2",
         "domain": [
          0.3888888888888889,
          0.6111111111111112
         ]
        },
        "yaxis3": {
         "anchor": "x3",
         "domain": [
          0.3888888888888889,
          0.6111111111111112
         ]
        },
        "yaxis4": {
         "anchor": "x4",
         "domain": [
          0,
          0.22222222222222224
         ]
        }
       }
      }
     },
     "metadata": {},
     "output_type": "display_data"
    }
   ],
   "source": [
    "dashboard.show()"
   ]
  },
  {
   "cell_type": "code",
   "execution_count": 112,
   "metadata": {},
   "outputs": [
    {
     "data": {
      "application/vnd.plotly.v1+json": {
       "config": {
        "plotlyServerURL": "https://plot.ly"
       },
       "data": [
        {
         "domain": {
          "x": [
           0,
           1
          ],
          "y": [
           0.625,
           1
          ]
         },
         "hovertemplate": "Tag=%{label}<br>Review Count=%{value}<extra></extra>",
         "labels": [
          "Wieloosobowe",
          "FPS",
          "Otwarty świat",
          "Survival",
          "Free to Play",
          "Jednoosobowe",
          "Akcja",
          "Strzelanka",
          "Zombie",
          "Kooperacja",
          "Sieciowa kooperacja",
          "Bogata fabuła",
          "Kosmos",
          "Survivalowe w otwartym świecie",
          "RPG",
          "Science fiction",
          "Strzelanka z perspektywą trzeciej osoby",
          "Perspektywa pierwszej osoby",
          "Strategiczne",
          "Postapokaliptyczne",
          "Other"
         ],
         "legendgroup": "",
         "name": "",
         "showlegend": true,
         "type": "pie",
         "values": [
          7735094,
          5571828,
          4969732,
          3733851,
          3351497,
          3299591,
          3189706,
          3091217,
          2442445,
          2174584,
          1959500,
          1922024,
          1667533,
          1603479,
          1595450,
          1577525,
          1363155,
          1244256,
          1233542,
          1230833,
          29737518
         ]
        },
        {
         "marker": {
          "color": "#90CAF9"
         },
         "name": "Średnia ocena",
         "type": "bar",
         "x": [
          "Detektywistyczne",
          "LEGO",
          "Gra w boga",
          "Zabawne",
          "RTS akcji",
          "Komediowe",
          "Rekreacyjne",
          "Symulator chodzenia",
          "Symulator polityczny",
          "Historia alternatywna",
          "MMO",
          "Zręcznościowe",
          "Drużynowe RPG",
          "Latanie",
          "Wojskowe",
          "Cyberpunk",
          "Otwarty świat",
          "RPG",
          "Jednoosobowe",
          "Symulatory"
         ],
         "xaxis": "x",
         "y": [
          3,
          3,
          3,
          3,
          3,
          3,
          2.988109891836681,
          2.9124211627071013,
          2.879260461505892,
          2.8736235272239417,
          2.8451190108191655,
          2.6986790431988577,
          2.0564343736639588,
          1.9331140597895875,
          1.186167558786079,
          null,
          null,
          null,
          null,
          null
         ],
         "yaxis": "y"
        },
        {
         "line": {
          "dash": "dot",
          "width": 2
         },
         "marker": {
          "color": "red",
          "size": 10
         },
         "mode": "lines+markers",
         "name": "Średnia cena",
         "type": "scatter",
         "x": [
          "Detektywistyczne",
          "LEGO",
          "Gra w boga",
          "Zabawne",
          "RTS akcji",
          "Komediowe",
          "Rekreacyjne",
          "Symulator chodzenia",
          "Symulator polityczny",
          "Historia alternatywna",
          "MMO",
          "Zręcznościowe",
          "Drużynowe RPG",
          "Latanie",
          "Wojskowe",
          "Cyberpunk",
          "Otwarty świat",
          "RPG",
          "Jednoosobowe",
          "Symulatory"
         ],
         "xaxis": "x",
         "y": [
          53.415000000000006,
          142.99333333333334,
          45.31666666666666,
          39.83,
          40.24,
          20.949999999999996,
          33.36625,
          57.74666666666667,
          60.239999999999995,
          71.33,
          22.9975,
          46.114000000000004,
          27.544999999999998,
          56.94,
          89.82000000000001,
          58.61,
          79.69388059701484,
          68.11293103448267,
          65.37347222222212,
          70.13121951219505
         ],
         "yaxis": "y"
        }
       ],
       "layout": {
        "annotations": [
         {
          "font": {
           "size": 16
          },
          "showarrow": false,
          "text": "Liczba opinii per tag",
          "x": 0.5,
          "xanchor": "center",
          "xref": "paper",
          "y": 1,
          "yanchor": "bottom",
          "yref": "paper"
         },
         {
          "font": {
           "size": 16
          },
          "showarrow": false,
          "text": "Top tagi z najlepszymi ocenami",
          "x": 0.5,
          "xanchor": "center",
          "xref": "paper",
          "y": 0.375,
          "yanchor": "bottom",
          "yref": "paper"
         }
        ],
        "height": 800,
        "template": {
         "data": {
          "bar": [
           {
            "error_x": {
             "color": "#2a3f5f"
            },
            "error_y": {
             "color": "#2a3f5f"
            },
            "marker": {
             "line": {
              "color": "#E5ECF6",
              "width": 0.5
             },
             "pattern": {
              "fillmode": "overlay",
              "size": 10,
              "solidity": 0.2
             }
            },
            "type": "bar"
           }
          ],
          "barpolar": [
           {
            "marker": {
             "line": {
              "color": "#E5ECF6",
              "width": 0.5
             },
             "pattern": {
              "fillmode": "overlay",
              "size": 10,
              "solidity": 0.2
             }
            },
            "type": "barpolar"
           }
          ],
          "carpet": [
           {
            "aaxis": {
             "endlinecolor": "#2a3f5f",
             "gridcolor": "white",
             "linecolor": "white",
             "minorgridcolor": "white",
             "startlinecolor": "#2a3f5f"
            },
            "baxis": {
             "endlinecolor": "#2a3f5f",
             "gridcolor": "white",
             "linecolor": "white",
             "minorgridcolor": "white",
             "startlinecolor": "#2a3f5f"
            },
            "type": "carpet"
           }
          ],
          "choropleth": [
           {
            "colorbar": {
             "outlinewidth": 0,
             "ticks": ""
            },
            "type": "choropleth"
           }
          ],
          "contour": [
           {
            "colorbar": {
             "outlinewidth": 0,
             "ticks": ""
            },
            "colorscale": [
             [
              0,
              "#0d0887"
             ],
             [
              0.1111111111111111,
              "#46039f"
             ],
             [
              0.2222222222222222,
              "#7201a8"
             ],
             [
              0.3333333333333333,
              "#9c179e"
             ],
             [
              0.4444444444444444,
              "#bd3786"
             ],
             [
              0.5555555555555556,
              "#d8576b"
             ],
             [
              0.6666666666666666,
              "#ed7953"
             ],
             [
              0.7777777777777778,
              "#fb9f3a"
             ],
             [
              0.8888888888888888,
              "#fdca26"
             ],
             [
              1,
              "#f0f921"
             ]
            ],
            "type": "contour"
           }
          ],
          "contourcarpet": [
           {
            "colorbar": {
             "outlinewidth": 0,
             "ticks": ""
            },
            "type": "contourcarpet"
           }
          ],
          "heatmap": [
           {
            "colorbar": {
             "outlinewidth": 0,
             "ticks": ""
            },
            "colorscale": [
             [
              0,
              "#0d0887"
             ],
             [
              0.1111111111111111,
              "#46039f"
             ],
             [
              0.2222222222222222,
              "#7201a8"
             ],
             [
              0.3333333333333333,
              "#9c179e"
             ],
             [
              0.4444444444444444,
              "#bd3786"
             ],
             [
              0.5555555555555556,
              "#d8576b"
             ],
             [
              0.6666666666666666,
              "#ed7953"
             ],
             [
              0.7777777777777778,
              "#fb9f3a"
             ],
             [
              0.8888888888888888,
              "#fdca26"
             ],
             [
              1,
              "#f0f921"
             ]
            ],
            "type": "heatmap"
           }
          ],
          "heatmapgl": [
           {
            "colorbar": {
             "outlinewidth": 0,
             "ticks": ""
            },
            "colorscale": [
             [
              0,
              "#0d0887"
             ],
             [
              0.1111111111111111,
              "#46039f"
             ],
             [
              0.2222222222222222,
              "#7201a8"
             ],
             [
              0.3333333333333333,
              "#9c179e"
             ],
             [
              0.4444444444444444,
              "#bd3786"
             ],
             [
              0.5555555555555556,
              "#d8576b"
             ],
             [
              0.6666666666666666,
              "#ed7953"
             ],
             [
              0.7777777777777778,
              "#fb9f3a"
             ],
             [
              0.8888888888888888,
              "#fdca26"
             ],
             [
              1,
              "#f0f921"
             ]
            ],
            "type": "heatmapgl"
           }
          ],
          "histogram": [
           {
            "marker": {
             "pattern": {
              "fillmode": "overlay",
              "size": 10,
              "solidity": 0.2
             }
            },
            "type": "histogram"
           }
          ],
          "histogram2d": [
           {
            "colorbar": {
             "outlinewidth": 0,
             "ticks": ""
            },
            "colorscale": [
             [
              0,
              "#0d0887"
             ],
             [
              0.1111111111111111,
              "#46039f"
             ],
             [
              0.2222222222222222,
              "#7201a8"
             ],
             [
              0.3333333333333333,
              "#9c179e"
             ],
             [
              0.4444444444444444,
              "#bd3786"
             ],
             [
              0.5555555555555556,
              "#d8576b"
             ],
             [
              0.6666666666666666,
              "#ed7953"
             ],
             [
              0.7777777777777778,
              "#fb9f3a"
             ],
             [
              0.8888888888888888,
              "#fdca26"
             ],
             [
              1,
              "#f0f921"
             ]
            ],
            "type": "histogram2d"
           }
          ],
          "histogram2dcontour": [
           {
            "colorbar": {
             "outlinewidth": 0,
             "ticks": ""
            },
            "colorscale": [
             [
              0,
              "#0d0887"
             ],
             [
              0.1111111111111111,
              "#46039f"
             ],
             [
              0.2222222222222222,
              "#7201a8"
             ],
             [
              0.3333333333333333,
              "#9c179e"
             ],
             [
              0.4444444444444444,
              "#bd3786"
             ],
             [
              0.5555555555555556,
              "#d8576b"
             ],
             [
              0.6666666666666666,
              "#ed7953"
             ],
             [
              0.7777777777777778,
              "#fb9f3a"
             ],
             [
              0.8888888888888888,
              "#fdca26"
             ],
             [
              1,
              "#f0f921"
             ]
            ],
            "type": "histogram2dcontour"
           }
          ],
          "mesh3d": [
           {
            "colorbar": {
             "outlinewidth": 0,
             "ticks": ""
            },
            "type": "mesh3d"
           }
          ],
          "parcoords": [
           {
            "line": {
             "colorbar": {
              "outlinewidth": 0,
              "ticks": ""
             }
            },
            "type": "parcoords"
           }
          ],
          "pie": [
           {
            "automargin": true,
            "type": "pie"
           }
          ],
          "scatter": [
           {
            "fillpattern": {
             "fillmode": "overlay",
             "size": 10,
             "solidity": 0.2
            },
            "type": "scatter"
           }
          ],
          "scatter3d": [
           {
            "line": {
             "colorbar": {
              "outlinewidth": 0,
              "ticks": ""
             }
            },
            "marker": {
             "colorbar": {
              "outlinewidth": 0,
              "ticks": ""
             }
            },
            "type": "scatter3d"
           }
          ],
          "scattercarpet": [
           {
            "marker": {
             "colorbar": {
              "outlinewidth": 0,
              "ticks": ""
             }
            },
            "type": "scattercarpet"
           }
          ],
          "scattergeo": [
           {
            "marker": {
             "colorbar": {
              "outlinewidth": 0,
              "ticks": ""
             }
            },
            "type": "scattergeo"
           }
          ],
          "scattergl": [
           {
            "marker": {
             "colorbar": {
              "outlinewidth": 0,
              "ticks": ""
             }
            },
            "type": "scattergl"
           }
          ],
          "scattermapbox": [
           {
            "marker": {
             "colorbar": {
              "outlinewidth": 0,
              "ticks": ""
             }
            },
            "type": "scattermapbox"
           }
          ],
          "scatterpolar": [
           {
            "marker": {
             "colorbar": {
              "outlinewidth": 0,
              "ticks": ""
             }
            },
            "type": "scatterpolar"
           }
          ],
          "scatterpolargl": [
           {
            "marker": {
             "colorbar": {
              "outlinewidth": 0,
              "ticks": ""
             }
            },
            "type": "scatterpolargl"
           }
          ],
          "scatterternary": [
           {
            "marker": {
             "colorbar": {
              "outlinewidth": 0,
              "ticks": ""
             }
            },
            "type": "scatterternary"
           }
          ],
          "surface": [
           {
            "colorbar": {
             "outlinewidth": 0,
             "ticks": ""
            },
            "colorscale": [
             [
              0,
              "#0d0887"
             ],
             [
              0.1111111111111111,
              "#46039f"
             ],
             [
              0.2222222222222222,
              "#7201a8"
             ],
             [
              0.3333333333333333,
              "#9c179e"
             ],
             [
              0.4444444444444444,
              "#bd3786"
             ],
             [
              0.5555555555555556,
              "#d8576b"
             ],
             [
              0.6666666666666666,
              "#ed7953"
             ],
             [
              0.7777777777777778,
              "#fb9f3a"
             ],
             [
              0.8888888888888888,
              "#fdca26"
             ],
             [
              1,
              "#f0f921"
             ]
            ],
            "type": "surface"
           }
          ],
          "table": [
           {
            "cells": {
             "fill": {
              "color": "#EBF0F8"
             },
             "line": {
              "color": "white"
             }
            },
            "header": {
             "fill": {
              "color": "#C8D4E3"
             },
             "line": {
              "color": "white"
             }
            },
            "type": "table"
           }
          ]
         },
         "layout": {
          "annotationdefaults": {
           "arrowcolor": "#2a3f5f",
           "arrowhead": 0,
           "arrowwidth": 1
          },
          "autotypenumbers": "strict",
          "coloraxis": {
           "colorbar": {
            "outlinewidth": 0,
            "ticks": ""
           }
          },
          "colorscale": {
           "diverging": [
            [
             0,
             "#8e0152"
            ],
            [
             0.1,
             "#c51b7d"
            ],
            [
             0.2,
             "#de77ae"
            ],
            [
             0.3,
             "#f1b6da"
            ],
            [
             0.4,
             "#fde0ef"
            ],
            [
             0.5,
             "#f7f7f7"
            ],
            [
             0.6,
             "#e6f5d0"
            ],
            [
             0.7,
             "#b8e186"
            ],
            [
             0.8,
             "#7fbc41"
            ],
            [
             0.9,
             "#4d9221"
            ],
            [
             1,
             "#276419"
            ]
           ],
           "sequential": [
            [
             0,
             "#0d0887"
            ],
            [
             0.1111111111111111,
             "#46039f"
            ],
            [
             0.2222222222222222,
             "#7201a8"
            ],
            [
             0.3333333333333333,
             "#9c179e"
            ],
            [
             0.4444444444444444,
             "#bd3786"
            ],
            [
             0.5555555555555556,
             "#d8576b"
            ],
            [
             0.6666666666666666,
             "#ed7953"
            ],
            [
             0.7777777777777778,
             "#fb9f3a"
            ],
            [
             0.8888888888888888,
             "#fdca26"
            ],
            [
             1,
             "#f0f921"
            ]
           ],
           "sequentialminus": [
            [
             0,
             "#0d0887"
            ],
            [
             0.1111111111111111,
             "#46039f"
            ],
            [
             0.2222222222222222,
             "#7201a8"
            ],
            [
             0.3333333333333333,
             "#9c179e"
            ],
            [
             0.4444444444444444,
             "#bd3786"
            ],
            [
             0.5555555555555556,
             "#d8576b"
            ],
            [
             0.6666666666666666,
             "#ed7953"
            ],
            [
             0.7777777777777778,
             "#fb9f3a"
            ],
            [
             0.8888888888888888,
             "#fdca26"
            ],
            [
             1,
             "#f0f921"
            ]
           ]
          },
          "colorway": [
           "#636efa",
           "#EF553B",
           "#00cc96",
           "#ab63fa",
           "#FFA15A",
           "#19d3f3",
           "#FF6692",
           "#B6E880",
           "#FF97FF",
           "#FECB52"
          ],
          "font": {
           "color": "#2a3f5f"
          },
          "geo": {
           "bgcolor": "white",
           "lakecolor": "white",
           "landcolor": "#E5ECF6",
           "showlakes": true,
           "showland": true,
           "subunitcolor": "white"
          },
          "hoverlabel": {
           "align": "left"
          },
          "hovermode": "closest",
          "mapbox": {
           "style": "light"
          },
          "paper_bgcolor": "white",
          "plot_bgcolor": "#E5ECF6",
          "polar": {
           "angularaxis": {
            "gridcolor": "white",
            "linecolor": "white",
            "ticks": ""
           },
           "bgcolor": "#E5ECF6",
           "radialaxis": {
            "gridcolor": "white",
            "linecolor": "white",
            "ticks": ""
           }
          },
          "scene": {
           "xaxis": {
            "backgroundcolor": "#E5ECF6",
            "gridcolor": "white",
            "gridwidth": 2,
            "linecolor": "white",
            "showbackground": true,
            "ticks": "",
            "zerolinecolor": "white"
           },
           "yaxis": {
            "backgroundcolor": "#E5ECF6",
            "gridcolor": "white",
            "gridwidth": 2,
            "linecolor": "white",
            "showbackground": true,
            "ticks": "",
            "zerolinecolor": "white"
           },
           "zaxis": {
            "backgroundcolor": "#E5ECF6",
            "gridcolor": "white",
            "gridwidth": 2,
            "linecolor": "white",
            "showbackground": true,
            "ticks": "",
            "zerolinecolor": "white"
           }
          },
          "shapedefaults": {
           "line": {
            "color": "#2a3f5f"
           }
          },
          "ternary": {
           "aaxis": {
            "gridcolor": "white",
            "linecolor": "white",
            "ticks": ""
           },
           "baxis": {
            "gridcolor": "white",
            "linecolor": "white",
            "ticks": ""
           },
           "bgcolor": "#E5ECF6",
           "caxis": {
            "gridcolor": "white",
            "linecolor": "white",
            "ticks": ""
           }
          },
          "title": {
           "x": 0.05
          },
          "xaxis": {
           "automargin": true,
           "gridcolor": "white",
           "linecolor": "white",
           "ticks": "",
           "title": {
            "standoff": 15
           },
           "zerolinecolor": "white",
           "zerolinewidth": 2
          },
          "yaxis": {
           "automargin": true,
           "gridcolor": "white",
           "linecolor": "white",
           "ticks": "",
           "title": {
            "standoff": 15
           },
           "zerolinecolor": "white",
           "zerolinewidth": 2
          }
         }
        },
        "title": {
         "text": "Dashboard analizy gier"
        },
        "width": 1200,
        "xaxis": {
         "anchor": "y",
         "domain": [
          0,
          1
         ]
        },
        "yaxis": {
         "anchor": "x",
         "domain": [
          0,
          0.375
         ]
        }
       }
      }
     },
     "metadata": {},
     "output_type": "display_data"
    }
   ],
   "source": [
    "from plotly.subplots import make_subplots\n",
    "\n",
    "# Tworzenie układu z różnymi typami wykresów\n",
    "dashboard = make_subplots(\n",
    "    rows=2, cols=1, \n",
    "    specs=[[{\"type\": \"pie\"}], [{\"type\": \"xy\"}]],  # Pierwszy wiersz: pie, Drugi wiersz: xy\n",
    "    subplot_titles=[\"Liczba opinii per tag\", \"Top tagi z najlepszymi ocenami\"]\n",
    ")\n",
    "\n",
    "# Dodanie wykresu kołowego (fig0) do pierwszego wiersza\n",
    "dashboard.add_traces(fig0.data, rows=1, cols=1)\n",
    "\n",
    "# Dodanie wykresu słupkowego (fig6 = fig_positive) do drugiego wiersza\n",
    "dashboard.add_traces(fig_positive.data, rows=2, cols=1)\n",
    "\n",
    "# Ustawienia układu\n",
    "dashboard.update_layout(height=800, width=1200, title_text=\"Dashboard analizy gier\")\n",
    "dashboard.show()\n"
   ]
  },
  {
   "cell_type": "code",
   "execution_count": 88,
   "metadata": {},
   "outputs": [
    {
     "name": "stdout",
     "output_type": "stream",
     "text": [
      "Cramer's V: 0.37\n"
     ]
    }
   ],
   "source": [
    "import numpy as np\n",
    "from scipy.stats import chi2_contingency\n",
    "\n",
    "def cramers_v(cross_table):\n",
    "    chi2, _, _, _ = chi2_contingency(cross_table)\n",
    "    n = cross_table.sum().sum()\n",
    "    phi2 = chi2 / n\n",
    "    r, k = cross_table.shape\n",
    "    return np.sqrt(phi2 / min(k-1, r-1))\n",
    "\n",
    "# Eksplodowanie tagów z resetowaniem indeksu\n",
    "exploded_tags = df[['Nacechowanie recenzji', 'Tagi']].copy()\n",
    "exploded_tags = exploded_tags.assign(Tag=exploded_tags['Tagi'].str.split(', ')).explode('Tag').reset_index(drop=True)\n",
    "\n",
    "# Tabela krzyżowa: Nacechowanie recenzji a tagi\n",
    "cross_table = pd.crosstab(exploded_tags['Nacechowanie recenzji'], exploded_tags['Tag'])\n",
    "\n",
    "# Obliczenie Cramer's V\n",
    "cramers_v_value = cramers_v(cross_table)\n",
    "print(f\"Cramer's V: {cramers_v_value:.2f}\")"
   ]
  },
  {
   "cell_type": "markdown",
   "metadata": {},
   "source": [
    "Etap 6: Modelowanie"
   ]
  },
  {
   "cell_type": "code",
   "execution_count": null,
   "metadata": {},
   "outputs": [],
   "source": [
    "# Modelowanie: Zdecyduj, czy problem to klasyfikacja, czy regresja. Wykorzystaj odpowiednie modele uczenia maszynowego (np. drzewa decyzyjne, regresję logistyczną dla klasyfikacji; regresję liniową, lasy losowe dla regresji) z biblioteki `scikit-learn` i oceń ich wyniki przy użyciu takich miar jak dokładność (accuracy), F1 score lub R-kwadrat (R²), w zależności od typu danych i analizy.\n",
    "\n",
    "# 1. na podstawie tagów, ceny i roku wydania oceń, jakie opinie ma gra - klasyfikacja\n",
    "# 2. na podstawie tagów, opinii, liczby opinii, roku wydania zgadnij, jaką cenę ma gra - regresja"
   ]
  },
  {
   "cell_type": "code",
   "execution_count": 125,
   "metadata": {},
   "outputs": [
    {
     "name": "stdout",
     "output_type": "stream",
     "text": [
      "Unikalne klasy w danych: [0 7 5 2 1 6 4 3]\n",
      "Liczba klas w danych: 8\n"
     ]
    }
   ],
   "source": [
    "print(\"Unikalne klasy w danych:\", y.unique())\n",
    "print(\"Liczba klas w danych:\", len(y.unique()))\n"
   ]
  },
  {
   "cell_type": "code",
   "execution_count": 126,
   "metadata": {},
   "outputs": [
    {
     "ename": "ValueError",
     "evalue": "Number of classes, 5, does not match size of target_names, 8. Try specifying the labels parameter",
     "output_type": "error",
     "traceback": [
      "\u001b[1;31m---------------------------------------------------------------------------\u001b[0m",
      "\u001b[1;31mValueError\u001b[0m                                Traceback (most recent call last)",
      "Input \u001b[1;32mIn [126]\u001b[0m, in \u001b[0;36m<cell line: 6>\u001b[1;34m()\u001b[0m\n\u001b[0;32m      3\u001b[0m actual_class_names \u001b[38;5;241m=\u001b[39m [label_encoder\u001b[38;5;241m.\u001b[39minverse_transform([\u001b[38;5;28mcls\u001b[39m])[\u001b[38;5;241m0\u001b[39m] \u001b[38;5;28;01mfor\u001b[39;00m \u001b[38;5;28mcls\u001b[39m \u001b[38;5;129;01min\u001b[39;00m actual_classes]  \u001b[38;5;66;03m# Odpowiednie nazwy klas\u001b[39;00m\n\u001b[0;32m      5\u001b[0m \u001b[38;5;66;03m# Aktualizacja raportu klasyfikacji\u001b[39;00m\n\u001b[1;32m----> 6\u001b[0m \u001b[38;5;28mprint\u001b[39m(\u001b[38;5;124m\"\u001b[39m\u001b[38;5;130;01m\\n\u001b[39;00m\u001b[38;5;124mRaport klasyfikacji:\u001b[39m\u001b[38;5;130;01m\\n\u001b[39;00m\u001b[38;5;124m\"\u001b[39m, \u001b[43mclassification_report\u001b[49m\u001b[43m(\u001b[49m\u001b[43my_test\u001b[49m\u001b[43m,\u001b[49m\u001b[43m \u001b[49m\u001b[43my_pred\u001b[49m\u001b[43m,\u001b[49m\u001b[43m \u001b[49m\u001b[43mtarget_names\u001b[49m\u001b[38;5;241;43m=\u001b[39;49m\u001b[43mactual_class_names\u001b[49m\u001b[43m)\u001b[49m)\n",
      "File \u001b[1;32mc:\\Users\\awodz\\AppData\\Local\\Programs\\Python\\Python310\\lib\\site-packages\\sklearn\\utils\\_param_validation.py:216\u001b[0m, in \u001b[0;36mvalidate_params.<locals>.decorator.<locals>.wrapper\u001b[1;34m(*args, **kwargs)\u001b[0m\n\u001b[0;32m    210\u001b[0m \u001b[38;5;28;01mtry\u001b[39;00m:\n\u001b[0;32m    211\u001b[0m     \u001b[38;5;28;01mwith\u001b[39;00m config_context(\n\u001b[0;32m    212\u001b[0m         skip_parameter_validation\u001b[38;5;241m=\u001b[39m(\n\u001b[0;32m    213\u001b[0m             prefer_skip_nested_validation \u001b[38;5;129;01mor\u001b[39;00m global_skip_validation\n\u001b[0;32m    214\u001b[0m         )\n\u001b[0;32m    215\u001b[0m     ):\n\u001b[1;32m--> 216\u001b[0m         \u001b[38;5;28;01mreturn\u001b[39;00m func(\u001b[38;5;241m*\u001b[39margs, \u001b[38;5;241m*\u001b[39m\u001b[38;5;241m*\u001b[39mkwargs)\n\u001b[0;32m    217\u001b[0m \u001b[38;5;28;01mexcept\u001b[39;00m InvalidParameterError \u001b[38;5;28;01mas\u001b[39;00m e:\n\u001b[0;32m    218\u001b[0m     \u001b[38;5;66;03m# When the function is just a wrapper around an estimator, we allow\u001b[39;00m\n\u001b[0;32m    219\u001b[0m     \u001b[38;5;66;03m# the function to delegate validation to the estimator, but we replace\u001b[39;00m\n\u001b[0;32m    220\u001b[0m     \u001b[38;5;66;03m# the name of the estimator by the name of the function in the error\u001b[39;00m\n\u001b[0;32m    221\u001b[0m     \u001b[38;5;66;03m# message to avoid confusion.\u001b[39;00m\n\u001b[0;32m    222\u001b[0m     msg \u001b[38;5;241m=\u001b[39m re\u001b[38;5;241m.\u001b[39msub(\n\u001b[0;32m    223\u001b[0m         \u001b[38;5;124mr\u001b[39m\u001b[38;5;124m\"\u001b[39m\u001b[38;5;124mparameter of \u001b[39m\u001b[38;5;124m\\\u001b[39m\u001b[38;5;124mw+ must be\u001b[39m\u001b[38;5;124m\"\u001b[39m,\n\u001b[0;32m    224\u001b[0m         \u001b[38;5;124mf\u001b[39m\u001b[38;5;124m\"\u001b[39m\u001b[38;5;124mparameter of \u001b[39m\u001b[38;5;132;01m{\u001b[39;00mfunc\u001b[38;5;241m.\u001b[39m\u001b[38;5;18m__qualname__\u001b[39m\u001b[38;5;132;01m}\u001b[39;00m\u001b[38;5;124m must be\u001b[39m\u001b[38;5;124m\"\u001b[39m,\n\u001b[0;32m    225\u001b[0m         \u001b[38;5;28mstr\u001b[39m(e),\n\u001b[0;32m    226\u001b[0m     )\n",
      "File \u001b[1;32mc:\\Users\\awodz\\AppData\\Local\\Programs\\Python\\Python310\\lib\\site-packages\\sklearn\\metrics\\_classification.py:2693\u001b[0m, in \u001b[0;36mclassification_report\u001b[1;34m(y_true, y_pred, labels, target_names, sample_weight, digits, output_dict, zero_division)\u001b[0m\n\u001b[0;32m   2687\u001b[0m         warnings\u001b[38;5;241m.\u001b[39mwarn(\n\u001b[0;32m   2688\u001b[0m             \u001b[38;5;124m\"\u001b[39m\u001b[38;5;124mlabels size, \u001b[39m\u001b[38;5;132;01m{0}\u001b[39;00m\u001b[38;5;124m, does not match size of target_names, \u001b[39m\u001b[38;5;132;01m{1}\u001b[39;00m\u001b[38;5;124m\"\u001b[39m\u001b[38;5;241m.\u001b[39mformat(\n\u001b[0;32m   2689\u001b[0m                 \u001b[38;5;28mlen\u001b[39m(labels), \u001b[38;5;28mlen\u001b[39m(target_names)\n\u001b[0;32m   2690\u001b[0m             )\n\u001b[0;32m   2691\u001b[0m         )\n\u001b[0;32m   2692\u001b[0m     \u001b[38;5;28;01melse\u001b[39;00m:\n\u001b[1;32m-> 2693\u001b[0m         \u001b[38;5;28;01mraise\u001b[39;00m \u001b[38;5;167;01mValueError\u001b[39;00m(\n\u001b[0;32m   2694\u001b[0m             \u001b[38;5;124m\"\u001b[39m\u001b[38;5;124mNumber of classes, \u001b[39m\u001b[38;5;132;01m{0}\u001b[39;00m\u001b[38;5;124m, does not match size of \u001b[39m\u001b[38;5;124m\"\u001b[39m\n\u001b[0;32m   2695\u001b[0m             \u001b[38;5;124m\"\u001b[39m\u001b[38;5;124mtarget_names, \u001b[39m\u001b[38;5;132;01m{1}\u001b[39;00m\u001b[38;5;124m. Try specifying the labels \u001b[39m\u001b[38;5;124m\"\u001b[39m\n\u001b[0;32m   2696\u001b[0m             \u001b[38;5;124m\"\u001b[39m\u001b[38;5;124mparameter\u001b[39m\u001b[38;5;124m\"\u001b[39m\u001b[38;5;241m.\u001b[39mformat(\u001b[38;5;28mlen\u001b[39m(labels), \u001b[38;5;28mlen\u001b[39m(target_names))\n\u001b[0;32m   2697\u001b[0m         )\n\u001b[0;32m   2698\u001b[0m \u001b[38;5;28;01mif\u001b[39;00m target_names \u001b[38;5;129;01mis\u001b[39;00m \u001b[38;5;28;01mNone\u001b[39;00m:\n\u001b[0;32m   2699\u001b[0m     target_names \u001b[38;5;241m=\u001b[39m [\u001b[38;5;124m\"\u001b[39m\u001b[38;5;132;01m%s\u001b[39;00m\u001b[38;5;124m\"\u001b[39m \u001b[38;5;241m%\u001b[39m l \u001b[38;5;28;01mfor\u001b[39;00m l \u001b[38;5;129;01min\u001b[39;00m labels]\n",
      "\u001b[1;31mValueError\u001b[0m: Number of classes, 5, does not match size of target_names, 8. Try specifying the labels parameter"
     ]
    }
   ],
   "source": [
    "# Dopasowanie nazw klas do danych\n",
    "actual_classes = sorted(y.unique())  # Faktyczne klasy w danych\n",
    "actual_class_names = [label_encoder.inverse_transform([cls])[0] for cls in actual_classes]  # Odpowiednie nazwy klas\n",
    "\n",
    "# Aktualizacja raportu klasyfikacji\n",
    "print(\"\\nRaport klasyfikacji:\\n\", classification_report(y_test, y_pred, target_names=actual_class_names))\n"
   ]
  },
  {
   "cell_type": "code",
   "execution_count": 133,
   "metadata": {},
   "outputs": [],
   "source": [
    "# Przykład przekształcenia daty na cechy numeryczne\n",
    "df['Year'] = df['Data wydania'].dt.year  # rok\n",
    "df['Month'] = df['Data wydania'].dt.month  # miesiąc\n",
    "df['Day'] = df['Data wydania'].dt.day  # dzień\n",
    "\n",
    "# Usunięcie oryginalnej kolumny z datą, jeśli jest już niepotrzebna\n",
    "df.drop(['Data wydania'], axis=1, inplace=True)\n"
   ]
  },
  {
   "cell_type": "code",
   "execution_count": null,
   "metadata": {},
   "outputs": [
    {
     "name": "stdout",
     "output_type": "stream",
     "text": [
      "Dokładność: 0.6145833333333334\n",
      "Raport klasyfikacji:\n",
      "               precision    recall  f1-score   support\n",
      "\n",
      "           0       0.67      0.85      0.75        66\n",
      "           1       0.23      0.10      0.14        30\n",
      "\n",
      "    accuracy                           0.61        96\n",
      "   macro avg       0.45      0.47      0.45        96\n",
      "weighted avg       0.54      0.61      0.56        96\n",
      "\n"
     ]
    }
   ],
   "source": [
    "from sklearn.ensemble import RandomForestClassifier\n",
    "from sklearn.model_selection import train_test_split\n",
    "from sklearn.metrics import accuracy_score, classification_report\n",
    "from sklearn.preprocessing import LabelEncoder, StandardScaler\n",
    "\n",
    "# Zakładając, że 'Nazwa_gry' to kolumna tekstowa\n",
    "if 'Nazwa_gry' in df.columns:\n",
    "    encoder = LabelEncoder()\n",
    "    df['Nazwa_gry'] = encoder.fit_transform(df['Nazwa_gry'])\n",
    "\n",
    "# Zakładając, że inne kolumny mogą też być kategorialne\n",
    "df = pd.get_dummies(df)\n",
    "\n",
    "# Przygotowanie danych\n",
    "X = df.drop(['Tag_Akcja'], axis=1)  # Usuwamy kolumnę Tag_Akcja z cech\n",
    "y = df['Tag_Akcja']  # Nasza cecha docelowa\n",
    "\n",
    "# Zakładając, że wszystkie cechy do skalowania są już numeryczne\n",
    "scaler = StandardScaler()\n",
    "\n",
    "# Wybieranie tylko kolumn numerycznych do skalowania\n",
    "numeric_columns = df.select_dtypes(include=['float64', 'int64']).columns\n",
    "df[numeric_columns] = scaler.fit_transform(df[numeric_columns])\n",
    "\n",
    "X_scaled = scaler.fit_transform(X)\n",
    "\n",
    "# Podział na zbiór treningowy i testowy\n",
    "X_train, X_test, y_train, y_test = train_test_split(X_scaled, y, test_size=0.2, random_state=42)\n",
    "\n",
    "# Budowanie modelu\n",
    "model = RandomForestClassifier(n_estimators=100, random_state=42)\n",
    "model.fit(X_train, y_train)\n",
    "\n",
    "# Predykcja\n",
    "y_pred = model.predict(X_test)\n",
    "\n",
    "# Ocena modelu\n",
    "accuracy = accuracy_score(y_test, y_pred)\n",
    "print(\"Dokładność:\", accuracy)\n",
    "print(\"Raport klasyfikacji:\\n\", classification_report(y_test, y_pred))\n"
   ]
  },
  {
   "cell_type": "code",
   "execution_count": 137,
   "metadata": {},
   "outputs": [],
   "source": [
    "from sklearn.metrics import roc_curve\n",
    "\n",
    "# Obliczenie prawdopodobieństw\n",
    "probabilities = clf.predict_proba(X_test)[:, 1]\n",
    "fpr, tpr, thresholds = roc_curve(y_test, probabilities)\n",
    "\n",
    "# Można zobaczyć różne progi i wybrać ten, który daje najlepszy kompromis między FPR a TPR\n"
   ]
  },
  {
   "cell_type": "code",
   "execution_count": 138,
   "metadata": {},
   "outputs": [],
   "source": [
    "y_pred = clf.predict(X_test)"
   ]
  },
  {
   "cell_type": "code",
   "execution_count": 136,
   "metadata": {},
   "outputs": [
    {
     "name": "stdout",
     "output_type": "stream",
     "text": [
      "Dokładność: 0.46875\n",
      "\n",
      "Raport klasyfikacji:\n",
      "               precision    recall  f1-score   support\n",
      "\n",
      "           0       0.71      0.38      0.50        66\n",
      "           1       0.33      0.67      0.44        30\n",
      "\n",
      "    accuracy                           0.47        96\n",
      "   macro avg       0.52      0.52      0.47        96\n",
      "weighted avg       0.59      0.47      0.48        96\n",
      "\n"
     ]
    }
   ],
   "source": [
    "from sklearn.linear_model import LogisticRegression\n",
    "\n",
    "# Ustawienie \"balanced\" automatycznie dostosowuje wagi odwrotnie proporcjonalnie do częstości klas\n",
    "clf = LogisticRegression(class_weight='balanced')\n",
    "clf.fit(X_train, y_train)\n",
    "y_pred = clf.predict(X_test)\n",
    "\n",
    "print(\"Dokładność:\", accuracy_score(y_test, y_pred))\n",
    "print(\"\\nRaport klasyfikacji:\\n\", classification_report(y_test, y_pred))\n"
   ]
  },
  {
   "cell_type": "code",
   "execution_count": 155,
   "metadata": {},
   "outputs": [
    {
     "name": "stdout",
     "output_type": "stream",
     "text": [
      "Dokładność: 0.8526315789473684\n",
      "\n",
      "Raport klasyfikacji:\n",
      "               precision    recall  f1-score   support\n",
      "\n",
      "           0       0.97      0.85      0.91        81\n",
      "           1       0.50      0.86      0.63        14\n",
      "\n",
      "    accuracy                           0.85        95\n",
      "   macro avg       0.74      0.85      0.77        95\n",
      "weighted avg       0.90      0.85      0.87        95\n",
      "\n"
     ]
    }
   ],
   "source": [
    "from modeling import predict_tag\n",
    "\n",
    "# Przykładowe użycie funkcji\n",
    "target_tag = 'Tag_Strategiczne'  # Przykładowy tag do przewidzenia\n",
    "accuracy, report = predict_tag(df, target_tag)\n",
    "\n",
    "print(\"Dokładność:\", accuracy)\n",
    "print(\"\\nRaport klasyfikacji:\\n\", report)\n"
   ]
  },
  {
   "cell_type": "code",
   "execution_count": 152,
   "metadata": {},
   "outputs": [
    {
     "data": {
      "text/html": [
       "<div>\n",
       "<style scoped>\n",
       "    .dataframe tbody tr th:only-of-type {\n",
       "        vertical-align: middle;\n",
       "    }\n",
       "\n",
       "    .dataframe tbody tr th {\n",
       "        vertical-align: top;\n",
       "    }\n",
       "\n",
       "    .dataframe thead th {\n",
       "        text-align: right;\n",
       "    }\n",
       "</style>\n",
       "<table border=\"1\" class=\"dataframe\">\n",
       "  <thead>\n",
       "    <tr style=\"text-align: right;\">\n",
       "      <th></th>\n",
       "      <th>Tytuł</th>\n",
       "      <th>Tagi</th>\n",
       "      <th>Cena</th>\n",
       "      <th>Data wydania</th>\n",
       "      <th>Nacechowanie recenzji</th>\n",
       "      <th>Liczba recenzji</th>\n",
       "      <th>Tag_2,5D</th>\n",
       "      <th>Tag_2D</th>\n",
       "      <th>Tag_3D</th>\n",
       "      <th>Tag_4X</th>\n",
       "      <th>...</th>\n",
       "      <th>Tag_Zespołowe</th>\n",
       "      <th>Tag_Znaczące wybory</th>\n",
       "      <th>Tag_Zombie</th>\n",
       "      <th>Tag_Zręcznościowe</th>\n",
       "      <th>Tag_Łamigłówki</th>\n",
       "      <th>Tag_Łamigłówki platformowe</th>\n",
       "      <th>Tag_Łupy</th>\n",
       "      <th>Tag_Śledztwo</th>\n",
       "      <th>Tag_Świetna ścieżka dźwiękowa</th>\n",
       "      <th>Tag_Żeńska postać w roli głównej</th>\n",
       "    </tr>\n",
       "  </thead>\n",
       "  <tbody>\n",
       "    <tr>\n",
       "      <th>0</th>\n",
       "      <td>Cyberpunk 2077</td>\n",
       "      <td>Cyberpunk, Otwarty świat, Nagość, RPG, Jednoos...</td>\n",
       "      <td>89.55</td>\n",
       "      <td>2020-12-10</td>\n",
       "      <td>Bardzo pozytywne</td>\n",
       "      <td>717578</td>\n",
       "      <td>0</td>\n",
       "      <td>0</td>\n",
       "      <td>0</td>\n",
       "      <td>0</td>\n",
       "      <td>...</td>\n",
       "      <td>0</td>\n",
       "      <td>0</td>\n",
       "      <td>0</td>\n",
       "      <td>0</td>\n",
       "      <td>0</td>\n",
       "      <td>0</td>\n",
       "      <td>0</td>\n",
       "      <td>0</td>\n",
       "      <td>0</td>\n",
       "      <td>0</td>\n",
       "    </tr>\n",
       "    <tr>\n",
       "      <th>1</th>\n",
       "      <td>Dying Light 2 Stay Human: Reloaded Edition</td>\n",
       "      <td>Otwarty świat, Kooperacja, Zombie, Parkour, Wi...</td>\n",
       "      <td>65.99</td>\n",
       "      <td>2022-02-04</td>\n",
       "      <td>W większości pozytywne</td>\n",
       "      <td>137565</td>\n",
       "      <td>0</td>\n",
       "      <td>0</td>\n",
       "      <td>0</td>\n",
       "      <td>0</td>\n",
       "      <td>...</td>\n",
       "      <td>0</td>\n",
       "      <td>0</td>\n",
       "      <td>1</td>\n",
       "      <td>0</td>\n",
       "      <td>0</td>\n",
       "      <td>0</td>\n",
       "      <td>0</td>\n",
       "      <td>0</td>\n",
       "      <td>0</td>\n",
       "      <td>0</td>\n",
       "    </tr>\n",
       "    <tr>\n",
       "      <th>2</th>\n",
       "      <td>Marvel Rivals</td>\n",
       "      <td>Free to Play, Wieloosobowe, Strzelanka z bohat...</td>\n",
       "      <td>0.00</td>\n",
       "      <td>2024-12-06</td>\n",
       "      <td>Bardzo pozytywne</td>\n",
       "      <td>183495</td>\n",
       "      <td>0</td>\n",
       "      <td>0</td>\n",
       "      <td>0</td>\n",
       "      <td>0</td>\n",
       "      <td>...</td>\n",
       "      <td>0</td>\n",
       "      <td>0</td>\n",
       "      <td>0</td>\n",
       "      <td>0</td>\n",
       "      <td>0</td>\n",
       "      <td>0</td>\n",
       "      <td>0</td>\n",
       "      <td>0</td>\n",
       "      <td>0</td>\n",
       "      <td>0</td>\n",
       "    </tr>\n",
       "    <tr>\n",
       "      <th>3</th>\n",
       "      <td>Space Engineers 2</td>\n",
       "      <td>Symulatory, Akcja, Strategiczne, Piaskownica, ...</td>\n",
       "      <td>138.99</td>\n",
       "      <td>2025-01-27</td>\n",
       "      <td>W większości pozytywne</td>\n",
       "      <td>597</td>\n",
       "      <td>0</td>\n",
       "      <td>0</td>\n",
       "      <td>0</td>\n",
       "      <td>0</td>\n",
       "      <td>...</td>\n",
       "      <td>0</td>\n",
       "      <td>0</td>\n",
       "      <td>0</td>\n",
       "      <td>0</td>\n",
       "      <td>0</td>\n",
       "      <td>0</td>\n",
       "      <td>0</td>\n",
       "      <td>0</td>\n",
       "      <td>0</td>\n",
       "      <td>0</td>\n",
       "    </tr>\n",
       "    <tr>\n",
       "      <th>4</th>\n",
       "      <td>Among Us</td>\n",
       "      <td>Wieloosobowe, Sieciowa kooperacja, Dedukcyjne ...</td>\n",
       "      <td>10.79</td>\n",
       "      <td>2018-11-16</td>\n",
       "      <td>Bardzo pozytywne</td>\n",
       "      <td>612177</td>\n",
       "      <td>0</td>\n",
       "      <td>0</td>\n",
       "      <td>0</td>\n",
       "      <td>0</td>\n",
       "      <td>...</td>\n",
       "      <td>0</td>\n",
       "      <td>0</td>\n",
       "      <td>0</td>\n",
       "      <td>0</td>\n",
       "      <td>0</td>\n",
       "      <td>0</td>\n",
       "      <td>0</td>\n",
       "      <td>0</td>\n",
       "      <td>0</td>\n",
       "      <td>0</td>\n",
       "    </tr>\n",
       "    <tr>\n",
       "      <th>...</th>\n",
       "      <td>...</td>\n",
       "      <td>...</td>\n",
       "      <td>...</td>\n",
       "      <td>...</td>\n",
       "      <td>...</td>\n",
       "      <td>...</td>\n",
       "      <td>...</td>\n",
       "      <td>...</td>\n",
       "      <td>...</td>\n",
       "      <td>...</td>\n",
       "      <td>...</td>\n",
       "      <td>...</td>\n",
       "      <td>...</td>\n",
       "      <td>...</td>\n",
       "      <td>...</td>\n",
       "      <td>...</td>\n",
       "      <td>...</td>\n",
       "      <td>...</td>\n",
       "      <td>...</td>\n",
       "      <td>...</td>\n",
       "      <td>...</td>\n",
       "    </tr>\n",
       "    <tr>\n",
       "      <th>480</th>\n",
       "      <td>MDK 2</td>\n",
       "      <td>Strzelanka z perspektywą trzeciej osoby, Strze...</td>\n",
       "      <td>35.99</td>\n",
       "      <td>2009-09-17</td>\n",
       "      <td>Bardzo pozytywne</td>\n",
       "      <td>190</td>\n",
       "      <td>0</td>\n",
       "      <td>0</td>\n",
       "      <td>0</td>\n",
       "      <td>0</td>\n",
       "      <td>...</td>\n",
       "      <td>0</td>\n",
       "      <td>0</td>\n",
       "      <td>0</td>\n",
       "      <td>0</td>\n",
       "      <td>0</td>\n",
       "      <td>0</td>\n",
       "      <td>0</td>\n",
       "      <td>0</td>\n",
       "      <td>0</td>\n",
       "      <td>0</td>\n",
       "    </tr>\n",
       "    <tr>\n",
       "      <th>481</th>\n",
       "      <td>Starcom: Nexus</td>\n",
       "      <td>Kosmos, Science fiction, RPG, Akcja, Eksploracja</td>\n",
       "      <td>35.99</td>\n",
       "      <td>2019-12-12</td>\n",
       "      <td>Bardzo pozytywne</td>\n",
       "      <td>1864</td>\n",
       "      <td>0</td>\n",
       "      <td>0</td>\n",
       "      <td>0</td>\n",
       "      <td>0</td>\n",
       "      <td>...</td>\n",
       "      <td>0</td>\n",
       "      <td>0</td>\n",
       "      <td>0</td>\n",
       "      <td>0</td>\n",
       "      <td>0</td>\n",
       "      <td>0</td>\n",
       "      <td>0</td>\n",
       "      <td>0</td>\n",
       "      <td>0</td>\n",
       "      <td>0</td>\n",
       "    </tr>\n",
       "    <tr>\n",
       "      <th>482</th>\n",
       "      <td>Starsand</td>\n",
       "      <td>Survivalowe w otwartym świecie, Survival, Otwa...</td>\n",
       "      <td>35.99</td>\n",
       "      <td>2022-11-17</td>\n",
       "      <td>W większości pozytywne</td>\n",
       "      <td>745</td>\n",
       "      <td>0</td>\n",
       "      <td>0</td>\n",
       "      <td>1</td>\n",
       "      <td>0</td>\n",
       "      <td>...</td>\n",
       "      <td>0</td>\n",
       "      <td>0</td>\n",
       "      <td>0</td>\n",
       "      <td>0</td>\n",
       "      <td>0</td>\n",
       "      <td>0</td>\n",
       "      <td>0</td>\n",
       "      <td>0</td>\n",
       "      <td>0</td>\n",
       "      <td>0</td>\n",
       "    </tr>\n",
       "    <tr>\n",
       "      <th>483</th>\n",
       "      <td>Odysseus Kosmos and his Robot Quest (Complete ...</td>\n",
       "      <td>Wskaż i kliknij, Klimatyczne, Pikselowa grafik...</td>\n",
       "      <td>67.99</td>\n",
       "      <td>2017-12-01</td>\n",
       "      <td>Bardzo pozytywne</td>\n",
       "      <td>114</td>\n",
       "      <td>0</td>\n",
       "      <td>0</td>\n",
       "      <td>0</td>\n",
       "      <td>0</td>\n",
       "      <td>...</td>\n",
       "      <td>0</td>\n",
       "      <td>0</td>\n",
       "      <td>0</td>\n",
       "      <td>0</td>\n",
       "      <td>1</td>\n",
       "      <td>0</td>\n",
       "      <td>0</td>\n",
       "      <td>0</td>\n",
       "      <td>0</td>\n",
       "      <td>0</td>\n",
       "    </tr>\n",
       "    <tr>\n",
       "      <th>484</th>\n",
       "      <td>Aliens vs. Ghosts</td>\n",
       "      <td>Akcja, Strzelanka, FPS, 3D, Perspektywa pierws...</td>\n",
       "      <td>34.68</td>\n",
       "      <td>2022-07-06</td>\n",
       "      <td>Bardzo pozytywne</td>\n",
       "      <td>379</td>\n",
       "      <td>0</td>\n",
       "      <td>0</td>\n",
       "      <td>1</td>\n",
       "      <td>0</td>\n",
       "      <td>...</td>\n",
       "      <td>0</td>\n",
       "      <td>0</td>\n",
       "      <td>0</td>\n",
       "      <td>0</td>\n",
       "      <td>0</td>\n",
       "      <td>0</td>\n",
       "      <td>0</td>\n",
       "      <td>0</td>\n",
       "      <td>0</td>\n",
       "      <td>0</td>\n",
       "    </tr>\n",
       "  </tbody>\n",
       "</table>\n",
       "<p>473 rows × 251 columns</p>\n",
       "</div>"
      ],
      "text/plain": [
       "                                                 Tytuł  \\\n",
       "0                                       Cyberpunk 2077   \n",
       "1           Dying Light 2 Stay Human: Reloaded Edition   \n",
       "2                                        Marvel Rivals   \n",
       "3                                    Space Engineers 2   \n",
       "4                                             Among Us   \n",
       "..                                                 ...   \n",
       "480                                              MDK 2   \n",
       "481                                     Starcom: Nexus   \n",
       "482                                           Starsand   \n",
       "483  Odysseus Kosmos and his Robot Quest (Complete ...   \n",
       "484                                  Aliens vs. Ghosts   \n",
       "\n",
       "                                                  Tagi    Cena Data wydania  \\\n",
       "0    Cyberpunk, Otwarty świat, Nagość, RPG, Jednoos...   89.55   2020-12-10   \n",
       "1    Otwarty świat, Kooperacja, Zombie, Parkour, Wi...   65.99   2022-02-04   \n",
       "2    Free to Play, Wieloosobowe, Strzelanka z bohat...    0.00   2024-12-06   \n",
       "3    Symulatory, Akcja, Strategiczne, Piaskownica, ...  138.99   2025-01-27   \n",
       "4    Wieloosobowe, Sieciowa kooperacja, Dedukcyjne ...   10.79   2018-11-16   \n",
       "..                                                 ...     ...          ...   \n",
       "480  Strzelanka z perspektywą trzeciej osoby, Strze...   35.99   2009-09-17   \n",
       "481   Kosmos, Science fiction, RPG, Akcja, Eksploracja   35.99   2019-12-12   \n",
       "482  Survivalowe w otwartym świecie, Survival, Otwa...   35.99   2022-11-17   \n",
       "483  Wskaż i kliknij, Klimatyczne, Pikselowa grafik...   67.99   2017-12-01   \n",
       "484  Akcja, Strzelanka, FPS, 3D, Perspektywa pierws...   34.68   2022-07-06   \n",
       "\n",
       "      Nacechowanie recenzji  Liczba recenzji  Tag_2,5D  Tag_2D  Tag_3D  \\\n",
       "0          Bardzo pozytywne           717578         0       0       0   \n",
       "1    W większości pozytywne           137565         0       0       0   \n",
       "2          Bardzo pozytywne           183495         0       0       0   \n",
       "3    W większości pozytywne              597         0       0       0   \n",
       "4          Bardzo pozytywne           612177         0       0       0   \n",
       "..                      ...              ...       ...     ...     ...   \n",
       "480        Bardzo pozytywne              190         0       0       0   \n",
       "481        Bardzo pozytywne             1864         0       0       0   \n",
       "482  W większości pozytywne              745         0       0       1   \n",
       "483        Bardzo pozytywne              114         0       0       0   \n",
       "484        Bardzo pozytywne              379         0       0       1   \n",
       "\n",
       "     Tag_4X  ...  Tag_Zespołowe  Tag_Znaczące wybory  Tag_Zombie  \\\n",
       "0         0  ...              0                    0           0   \n",
       "1         0  ...              0                    0           1   \n",
       "2         0  ...              0                    0           0   \n",
       "3         0  ...              0                    0           0   \n",
       "4         0  ...              0                    0           0   \n",
       "..      ...  ...            ...                  ...         ...   \n",
       "480       0  ...              0                    0           0   \n",
       "481       0  ...              0                    0           0   \n",
       "482       0  ...              0                    0           0   \n",
       "483       0  ...              0                    0           0   \n",
       "484       0  ...              0                    0           0   \n",
       "\n",
       "     Tag_Zręcznościowe  Tag_Łamigłówki  Tag_Łamigłówki platformowe  Tag_Łupy  \\\n",
       "0                    0               0                           0         0   \n",
       "1                    0               0                           0         0   \n",
       "2                    0               0                           0         0   \n",
       "3                    0               0                           0         0   \n",
       "4                    0               0                           0         0   \n",
       "..                 ...             ...                         ...       ...   \n",
       "480                  0               0                           0         0   \n",
       "481                  0               0                           0         0   \n",
       "482                  0               0                           0         0   \n",
       "483                  0               1                           0         0   \n",
       "484                  0               0                           0         0   \n",
       "\n",
       "     Tag_Śledztwo  Tag_Świetna ścieżka dźwiękowa  \\\n",
       "0               0                              0   \n",
       "1               0                              0   \n",
       "2               0                              0   \n",
       "3               0                              0   \n",
       "4               0                              0   \n",
       "..            ...                            ...   \n",
       "480             0                              0   \n",
       "481             0                              0   \n",
       "482             0                              0   \n",
       "483             0                              0   \n",
       "484             0                              0   \n",
       "\n",
       "     Tag_Żeńska postać w roli głównej  \n",
       "0                                   0  \n",
       "1                                   0  \n",
       "2                                   0  \n",
       "3                                   0  \n",
       "4                                   0  \n",
       "..                                ...  \n",
       "480                                 0  \n",
       "481                                 0  \n",
       "482                                 0  \n",
       "483                                 0  \n",
       "484                                 0  \n",
       "\n",
       "[473 rows x 251 columns]"
      ]
     },
     "execution_count": 152,
     "metadata": {},
     "output_type": "execute_result"
    }
   ],
   "source": [
    "df"
   ]
  }
 ],
 "metadata": {
  "kernelspec": {
   "display_name": "Python 3",
   "language": "python",
   "name": "python3"
  },
  "language_info": {
   "codemirror_mode": {
    "name": "ipython",
    "version": 3
   },
   "file_extension": ".py",
   "mimetype": "text/x-python",
   "name": "python",
   "nbconvert_exporter": "python",
   "pygments_lexer": "ipython3",
   "version": "3.10.4"
  }
 },
 "nbformat": 4,
 "nbformat_minor": 2
}
